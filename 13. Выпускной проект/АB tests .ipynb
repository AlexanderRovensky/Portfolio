{
 "cells": [
  {
   "cell_type": "markdown",
   "metadata": {},
   "source": [
    "## Загрузка и ознакомление с предоставленными данными"
   ]
  },
  {
   "cell_type": "code",
   "execution_count": 1,
   "metadata": {},
   "outputs": [],
   "source": [
    "import pandas as pd\n",
    "from plotly import graph_objects as go\n",
    "import matplotlib.pyplot as plt\n",
    "import plotly.express as px\n",
    "import math as mth\n",
    "import numpy as np\n",
    "from scipy import stats as st\n",
    "import plotly.io as pio\n",
    "pio.renderers.default = \"png\""
   ]
  },
  {
   "cell_type": "code",
   "execution_count": 2,
   "metadata": {},
   "outputs": [],
   "source": [
    "ab_project_marketing_events = pd.read_csv('https://code.s3.yandex.net/datasets/ab_project_marketing_events.csv')"
   ]
  },
  {
   "cell_type": "code",
   "execution_count": 3,
   "metadata": {},
   "outputs": [],
   "source": [
    "ab_project_marketing_events = ab_project_marketing_events.sort_values(by='start_dt').reset_index(drop=True)"
   ]
  },
  {
   "cell_type": "code",
   "execution_count": 4,
   "metadata": {},
   "outputs": [
    {
     "data": {
      "text/html": [
       "<div>\n",
       "<style scoped>\n",
       "    .dataframe tbody tr th:only-of-type {\n",
       "        vertical-align: middle;\n",
       "    }\n",
       "\n",
       "    .dataframe tbody tr th {\n",
       "        vertical-align: top;\n",
       "    }\n",
       "\n",
       "    .dataframe thead th {\n",
       "        text-align: right;\n",
       "    }\n",
       "</style>\n",
       "<table border=\"1\" class=\"dataframe\">\n",
       "  <thead>\n",
       "    <tr style=\"text-align: right;\">\n",
       "      <th></th>\n",
       "      <th>name</th>\n",
       "      <th>regions</th>\n",
       "      <th>start_dt</th>\n",
       "      <th>finish_dt</th>\n",
       "    </tr>\n",
       "  </thead>\n",
       "  <tbody>\n",
       "    <tr>\n",
       "      <th>0</th>\n",
       "      <td>Chinese New Year Promo</td>\n",
       "      <td>APAC</td>\n",
       "      <td>2020-01-25</td>\n",
       "      <td>2020-02-07</td>\n",
       "    </tr>\n",
       "    <tr>\n",
       "      <th>1</th>\n",
       "      <td>St. Valentine's Day Giveaway</td>\n",
       "      <td>EU, CIS, APAC, N.America</td>\n",
       "      <td>2020-02-14</td>\n",
       "      <td>2020-02-16</td>\n",
       "    </tr>\n",
       "    <tr>\n",
       "      <th>2</th>\n",
       "      <td>International Women's Day Promo</td>\n",
       "      <td>EU, CIS, APAC</td>\n",
       "      <td>2020-03-08</td>\n",
       "      <td>2020-03-10</td>\n",
       "    </tr>\n",
       "    <tr>\n",
       "      <th>3</th>\n",
       "      <td>St. Patric's Day Promo</td>\n",
       "      <td>EU, N.America</td>\n",
       "      <td>2020-03-17</td>\n",
       "      <td>2020-03-19</td>\n",
       "    </tr>\n",
       "    <tr>\n",
       "      <th>4</th>\n",
       "      <td>Easter Promo</td>\n",
       "      <td>EU, CIS, APAC, N.America</td>\n",
       "      <td>2020-04-12</td>\n",
       "      <td>2020-04-19</td>\n",
       "    </tr>\n",
       "    <tr>\n",
       "      <th>5</th>\n",
       "      <td>Labor day (May 1st) Ads Campaign</td>\n",
       "      <td>EU, CIS, APAC</td>\n",
       "      <td>2020-05-01</td>\n",
       "      <td>2020-05-03</td>\n",
       "    </tr>\n",
       "    <tr>\n",
       "      <th>6</th>\n",
       "      <td>Victory Day CIS (May 9th) Event</td>\n",
       "      <td>CIS</td>\n",
       "      <td>2020-05-09</td>\n",
       "      <td>2020-05-11</td>\n",
       "    </tr>\n",
       "    <tr>\n",
       "      <th>7</th>\n",
       "      <td>Dragon Boat Festival Giveaway</td>\n",
       "      <td>APAC</td>\n",
       "      <td>2020-06-25</td>\n",
       "      <td>2020-07-01</td>\n",
       "    </tr>\n",
       "    <tr>\n",
       "      <th>8</th>\n",
       "      <td>4th of July Promo</td>\n",
       "      <td>N.America</td>\n",
       "      <td>2020-07-04</td>\n",
       "      <td>2020-07-11</td>\n",
       "    </tr>\n",
       "    <tr>\n",
       "      <th>9</th>\n",
       "      <td>Chinese Moon Festival</td>\n",
       "      <td>APAC</td>\n",
       "      <td>2020-10-01</td>\n",
       "      <td>2020-10-07</td>\n",
       "    </tr>\n",
       "    <tr>\n",
       "      <th>10</th>\n",
       "      <td>Single's Day Gift Promo</td>\n",
       "      <td>APAC</td>\n",
       "      <td>2020-11-11</td>\n",
       "      <td>2020-11-12</td>\n",
       "    </tr>\n",
       "    <tr>\n",
       "      <th>11</th>\n",
       "      <td>Black Friday Ads Campaign</td>\n",
       "      <td>EU, CIS, APAC, N.America</td>\n",
       "      <td>2020-11-26</td>\n",
       "      <td>2020-12-01</td>\n",
       "    </tr>\n",
       "    <tr>\n",
       "      <th>12</th>\n",
       "      <td>Christmas&amp;New Year Promo</td>\n",
       "      <td>EU, N.America</td>\n",
       "      <td>2020-12-25</td>\n",
       "      <td>2021-01-03</td>\n",
       "    </tr>\n",
       "    <tr>\n",
       "      <th>13</th>\n",
       "      <td>CIS New Year Gift Lottery</td>\n",
       "      <td>CIS</td>\n",
       "      <td>2020-12-30</td>\n",
       "      <td>2021-01-07</td>\n",
       "    </tr>\n",
       "  </tbody>\n",
       "</table>\n",
       "</div>"
      ],
      "text/plain": [
       "                                name                   regions    start_dt  \\\n",
       "0             Chinese New Year Promo                      APAC  2020-01-25   \n",
       "1       St. Valentine's Day Giveaway  EU, CIS, APAC, N.America  2020-02-14   \n",
       "2    International Women's Day Promo             EU, CIS, APAC  2020-03-08   \n",
       "3             St. Patric's Day Promo             EU, N.America  2020-03-17   \n",
       "4                       Easter Promo  EU, CIS, APAC, N.America  2020-04-12   \n",
       "5   Labor day (May 1st) Ads Campaign             EU, CIS, APAC  2020-05-01   \n",
       "6    Victory Day CIS (May 9th) Event                       CIS  2020-05-09   \n",
       "7      Dragon Boat Festival Giveaway                      APAC  2020-06-25   \n",
       "8                  4th of July Promo                 N.America  2020-07-04   \n",
       "9              Chinese Moon Festival                      APAC  2020-10-01   \n",
       "10           Single's Day Gift Promo                      APAC  2020-11-11   \n",
       "11         Black Friday Ads Campaign  EU, CIS, APAC, N.America  2020-11-26   \n",
       "12          Christmas&New Year Promo             EU, N.America  2020-12-25   \n",
       "13         CIS New Year Gift Lottery                       CIS  2020-12-30   \n",
       "\n",
       "     finish_dt  \n",
       "0   2020-02-07  \n",
       "1   2020-02-16  \n",
       "2   2020-03-10  \n",
       "3   2020-03-19  \n",
       "4   2020-04-19  \n",
       "5   2020-05-03  \n",
       "6   2020-05-11  \n",
       "7   2020-07-01  \n",
       "8   2020-07-11  \n",
       "9   2020-10-07  \n",
       "10  2020-11-12  \n",
       "11  2020-12-01  \n",
       "12  2021-01-03  \n",
       "13  2021-01-07  "
      ]
     },
     "execution_count": 4,
     "metadata": {},
     "output_type": "execute_result"
    }
   ],
   "source": [
    "ab_project_marketing_events"
   ]
  },
  {
   "cell_type": "code",
   "execution_count": 5,
   "metadata": {},
   "outputs": [
    {
     "name": "stdout",
     "output_type": "stream",
     "text": [
      "<class 'pandas.core.frame.DataFrame'>\n",
      "RangeIndex: 14 entries, 0 to 13\n",
      "Data columns (total 4 columns):\n",
      " #   Column     Non-Null Count  Dtype \n",
      "---  ------     --------------  ----- \n",
      " 0   name       14 non-null     object\n",
      " 1   regions    14 non-null     object\n",
      " 2   start_dt   14 non-null     object\n",
      " 3   finish_dt  14 non-null     object\n",
      "dtypes: object(4)\n",
      "memory usage: 576.0+ bytes\n"
     ]
    }
   ],
   "source": [
    "ab_project_marketing_events.info()"
   ]
  },
  {
   "cell_type": "code",
   "execution_count": 6,
   "metadata": {},
   "outputs": [],
   "source": [
    "final_ab_new_users =  pd.read_csv('https://code.s3.yandex.net/datasets/final_ab_new_users.csv')"
   ]
  },
  {
   "cell_type": "code",
   "execution_count": 7,
   "metadata": {},
   "outputs": [
    {
     "data": {
      "text/html": [
       "<div>\n",
       "<style scoped>\n",
       "    .dataframe tbody tr th:only-of-type {\n",
       "        vertical-align: middle;\n",
       "    }\n",
       "\n",
       "    .dataframe tbody tr th {\n",
       "        vertical-align: top;\n",
       "    }\n",
       "\n",
       "    .dataframe thead th {\n",
       "        text-align: right;\n",
       "    }\n",
       "</style>\n",
       "<table border=\"1\" class=\"dataframe\">\n",
       "  <thead>\n",
       "    <tr style=\"text-align: right;\">\n",
       "      <th></th>\n",
       "      <th>user_id</th>\n",
       "      <th>first_date</th>\n",
       "      <th>region</th>\n",
       "      <th>device</th>\n",
       "    </tr>\n",
       "  </thead>\n",
       "  <tbody>\n",
       "    <tr>\n",
       "      <th>0</th>\n",
       "      <td>D72A72121175D8BE</td>\n",
       "      <td>2020-12-07</td>\n",
       "      <td>EU</td>\n",
       "      <td>PC</td>\n",
       "    </tr>\n",
       "    <tr>\n",
       "      <th>1</th>\n",
       "      <td>F1C668619DFE6E65</td>\n",
       "      <td>2020-12-07</td>\n",
       "      <td>N.America</td>\n",
       "      <td>Android</td>\n",
       "    </tr>\n",
       "    <tr>\n",
       "      <th>2</th>\n",
       "      <td>2E1BF1D4C37EA01F</td>\n",
       "      <td>2020-12-07</td>\n",
       "      <td>EU</td>\n",
       "      <td>PC</td>\n",
       "    </tr>\n",
       "    <tr>\n",
       "      <th>3</th>\n",
       "      <td>50734A22C0C63768</td>\n",
       "      <td>2020-12-07</td>\n",
       "      <td>EU</td>\n",
       "      <td>iPhone</td>\n",
       "    </tr>\n",
       "    <tr>\n",
       "      <th>4</th>\n",
       "      <td>E1BDDCE0DAFA2679</td>\n",
       "      <td>2020-12-07</td>\n",
       "      <td>N.America</td>\n",
       "      <td>iPhone</td>\n",
       "    </tr>\n",
       "  </tbody>\n",
       "</table>\n",
       "</div>"
      ],
      "text/plain": [
       "            user_id  first_date     region   device\n",
       "0  D72A72121175D8BE  2020-12-07         EU       PC\n",
       "1  F1C668619DFE6E65  2020-12-07  N.America  Android\n",
       "2  2E1BF1D4C37EA01F  2020-12-07         EU       PC\n",
       "3  50734A22C0C63768  2020-12-07         EU   iPhone\n",
       "4  E1BDDCE0DAFA2679  2020-12-07  N.America   iPhone"
      ]
     },
     "execution_count": 7,
     "metadata": {},
     "output_type": "execute_result"
    }
   ],
   "source": [
    "final_ab_new_users.head()"
   ]
  },
  {
   "cell_type": "code",
   "execution_count": 8,
   "metadata": {},
   "outputs": [
    {
     "name": "stdout",
     "output_type": "stream",
     "text": [
      "<class 'pandas.core.frame.DataFrame'>\n",
      "RangeIndex: 61733 entries, 0 to 61732\n",
      "Data columns (total 4 columns):\n",
      " #   Column      Non-Null Count  Dtype \n",
      "---  ------      --------------  ----- \n",
      " 0   user_id     61733 non-null  object\n",
      " 1   first_date  61733 non-null  object\n",
      " 2   region      61733 non-null  object\n",
      " 3   device      61733 non-null  object\n",
      "dtypes: object(4)\n",
      "memory usage: 1.9+ MB\n"
     ]
    }
   ],
   "source": [
    "final_ab_new_users.info()"
   ]
  },
  {
   "cell_type": "code",
   "execution_count": 9,
   "metadata": {},
   "outputs": [],
   "source": [
    "final_ab_events =  pd.read_csv('https://code.s3.yandex.net/datasets/final_ab_events.csv')"
   ]
  },
  {
   "cell_type": "code",
   "execution_count": 10,
   "metadata": {},
   "outputs": [
    {
     "data": {
      "text/html": [
       "<div>\n",
       "<style scoped>\n",
       "    .dataframe tbody tr th:only-of-type {\n",
       "        vertical-align: middle;\n",
       "    }\n",
       "\n",
       "    .dataframe tbody tr th {\n",
       "        vertical-align: top;\n",
       "    }\n",
       "\n",
       "    .dataframe thead th {\n",
       "        text-align: right;\n",
       "    }\n",
       "</style>\n",
       "<table border=\"1\" class=\"dataframe\">\n",
       "  <thead>\n",
       "    <tr style=\"text-align: right;\">\n",
       "      <th></th>\n",
       "      <th>user_id</th>\n",
       "      <th>event_dt</th>\n",
       "      <th>event_name</th>\n",
       "      <th>details</th>\n",
       "    </tr>\n",
       "  </thead>\n",
       "  <tbody>\n",
       "    <tr>\n",
       "      <th>0</th>\n",
       "      <td>E1BDDCE0DAFA2679</td>\n",
       "      <td>2020-12-07 20:22:03</td>\n",
       "      <td>purchase</td>\n",
       "      <td>99.99</td>\n",
       "    </tr>\n",
       "    <tr>\n",
       "      <th>1</th>\n",
       "      <td>7B6452F081F49504</td>\n",
       "      <td>2020-12-07 09:22:53</td>\n",
       "      <td>purchase</td>\n",
       "      <td>9.99</td>\n",
       "    </tr>\n",
       "    <tr>\n",
       "      <th>2</th>\n",
       "      <td>9CD9F34546DF254C</td>\n",
       "      <td>2020-12-07 12:59:29</td>\n",
       "      <td>purchase</td>\n",
       "      <td>4.99</td>\n",
       "    </tr>\n",
       "    <tr>\n",
       "      <th>3</th>\n",
       "      <td>96F27A054B191457</td>\n",
       "      <td>2020-12-07 04:02:40</td>\n",
       "      <td>purchase</td>\n",
       "      <td>4.99</td>\n",
       "    </tr>\n",
       "    <tr>\n",
       "      <th>4</th>\n",
       "      <td>1FD7660FDF94CA1F</td>\n",
       "      <td>2020-12-07 10:15:09</td>\n",
       "      <td>purchase</td>\n",
       "      <td>4.99</td>\n",
       "    </tr>\n",
       "  </tbody>\n",
       "</table>\n",
       "</div>"
      ],
      "text/plain": [
       "            user_id             event_dt event_name  details\n",
       "0  E1BDDCE0DAFA2679  2020-12-07 20:22:03   purchase    99.99\n",
       "1  7B6452F081F49504  2020-12-07 09:22:53   purchase     9.99\n",
       "2  9CD9F34546DF254C  2020-12-07 12:59:29   purchase     4.99\n",
       "3  96F27A054B191457  2020-12-07 04:02:40   purchase     4.99\n",
       "4  1FD7660FDF94CA1F  2020-12-07 10:15:09   purchase     4.99"
      ]
     },
     "execution_count": 10,
     "metadata": {},
     "output_type": "execute_result"
    }
   ],
   "source": [
    "final_ab_events.head()"
   ]
  },
  {
   "cell_type": "code",
   "execution_count": 11,
   "metadata": {},
   "outputs": [
    {
     "name": "stdout",
     "output_type": "stream",
     "text": [
      "<class 'pandas.core.frame.DataFrame'>\n",
      "RangeIndex: 440317 entries, 0 to 440316\n",
      "Data columns (total 4 columns):\n",
      " #   Column      Non-Null Count   Dtype  \n",
      "---  ------      --------------   -----  \n",
      " 0   user_id     440317 non-null  object \n",
      " 1   event_dt    440317 non-null  object \n",
      " 2   event_name  440317 non-null  object \n",
      " 3   details     62740 non-null   float64\n",
      "dtypes: float64(1), object(3)\n",
      "memory usage: 13.4+ MB\n"
     ]
    }
   ],
   "source": [
    "final_ab_events.info()"
   ]
  },
  {
   "cell_type": "code",
   "execution_count": 12,
   "metadata": {},
   "outputs": [],
   "source": [
    "final_ab_participants =  pd.read_csv('https://code.s3.yandex.net/datasets/final_ab_participants.csv')"
   ]
  },
  {
   "cell_type": "code",
   "execution_count": 13,
   "metadata": {},
   "outputs": [
    {
     "data": {
      "text/html": [
       "<div>\n",
       "<style scoped>\n",
       "    .dataframe tbody tr th:only-of-type {\n",
       "        vertical-align: middle;\n",
       "    }\n",
       "\n",
       "    .dataframe tbody tr th {\n",
       "        vertical-align: top;\n",
       "    }\n",
       "\n",
       "    .dataframe thead th {\n",
       "        text-align: right;\n",
       "    }\n",
       "</style>\n",
       "<table border=\"1\" class=\"dataframe\">\n",
       "  <thead>\n",
       "    <tr style=\"text-align: right;\">\n",
       "      <th></th>\n",
       "      <th>user_id</th>\n",
       "      <th>group</th>\n",
       "      <th>ab_test</th>\n",
       "    </tr>\n",
       "  </thead>\n",
       "  <tbody>\n",
       "    <tr>\n",
       "      <th>0</th>\n",
       "      <td>D1ABA3E2887B6A73</td>\n",
       "      <td>A</td>\n",
       "      <td>recommender_system_test</td>\n",
       "    </tr>\n",
       "    <tr>\n",
       "      <th>1</th>\n",
       "      <td>A7A3664BD6242119</td>\n",
       "      <td>A</td>\n",
       "      <td>recommender_system_test</td>\n",
       "    </tr>\n",
       "    <tr>\n",
       "      <th>2</th>\n",
       "      <td>DABC14FDDFADD29E</td>\n",
       "      <td>A</td>\n",
       "      <td>recommender_system_test</td>\n",
       "    </tr>\n",
       "    <tr>\n",
       "      <th>3</th>\n",
       "      <td>04988C5DF189632E</td>\n",
       "      <td>A</td>\n",
       "      <td>recommender_system_test</td>\n",
       "    </tr>\n",
       "    <tr>\n",
       "      <th>4</th>\n",
       "      <td>482F14783456D21B</td>\n",
       "      <td>B</td>\n",
       "      <td>recommender_system_test</td>\n",
       "    </tr>\n",
       "  </tbody>\n",
       "</table>\n",
       "</div>"
      ],
      "text/plain": [
       "            user_id group                  ab_test\n",
       "0  D1ABA3E2887B6A73     A  recommender_system_test\n",
       "1  A7A3664BD6242119     A  recommender_system_test\n",
       "2  DABC14FDDFADD29E     A  recommender_system_test\n",
       "3  04988C5DF189632E     A  recommender_system_test\n",
       "4  482F14783456D21B     B  recommender_system_test"
      ]
     },
     "execution_count": 13,
     "metadata": {},
     "output_type": "execute_result"
    }
   ],
   "source": [
    "final_ab_participants.head()"
   ]
  },
  {
   "cell_type": "code",
   "execution_count": 14,
   "metadata": {},
   "outputs": [
    {
     "name": "stdout",
     "output_type": "stream",
     "text": [
      "<class 'pandas.core.frame.DataFrame'>\n",
      "RangeIndex: 18268 entries, 0 to 18267\n",
      "Data columns (total 3 columns):\n",
      " #   Column   Non-Null Count  Dtype \n",
      "---  ------   --------------  ----- \n",
      " 0   user_id  18268 non-null  object\n",
      " 1   group    18268 non-null  object\n",
      " 2   ab_test  18268 non-null  object\n",
      "dtypes: object(3)\n",
      "memory usage: 428.3+ KB\n"
     ]
    }
   ],
   "source": [
    "final_ab_participants.info()"
   ]
  },
  {
   "cell_type": "markdown",
   "metadata": {},
   "source": [
    "На данном этапе ознакомились с данными."
   ]
  },
  {
   "cell_type": "markdown",
   "metadata": {},
   "source": [
    "## Подготовка данных"
   ]
  },
  {
   "cell_type": "markdown",
   "metadata": {},
   "source": [
    "Для начала проверим данные на наличие явных дубликатов."
   ]
  },
  {
   "cell_type": "code",
   "execution_count": 15,
   "metadata": {},
   "outputs": [
    {
     "data": {
      "text/plain": [
       "0"
      ]
     },
     "execution_count": 15,
     "metadata": {},
     "output_type": "execute_result"
    }
   ],
   "source": [
    "final_ab_new_users.duplicated().sum()"
   ]
  },
  {
   "cell_type": "markdown",
   "metadata": {},
   "source": [
    "В переменной final_ab_new_users нет явных дубликатов."
   ]
  },
  {
   "cell_type": "code",
   "execution_count": 16,
   "metadata": {},
   "outputs": [
    {
     "data": {
      "text/plain": [
       "0"
      ]
     },
     "execution_count": 16,
     "metadata": {},
     "output_type": "execute_result"
    }
   ],
   "source": [
    "final_ab_events.duplicated().sum()"
   ]
  },
  {
   "cell_type": "markdown",
   "metadata": {},
   "source": [
    "В переменной final_ab_events нет явных дубликатов."
   ]
  },
  {
   "cell_type": "code",
   "execution_count": 17,
   "metadata": {},
   "outputs": [
    {
     "data": {
      "text/plain": [
       "0"
      ]
     },
     "execution_count": 17,
     "metadata": {},
     "output_type": "execute_result"
    }
   ],
   "source": [
    "final_ab_participants.duplicated().sum()"
   ]
  },
  {
   "cell_type": "markdown",
   "metadata": {},
   "source": [
    "В переменной final_ab_participants нет явных дубликатов."
   ]
  },
  {
   "cell_type": "code",
   "execution_count": 18,
   "metadata": {},
   "outputs": [
    {
     "data": {
      "text/plain": [
       "0"
      ]
     },
     "execution_count": 18,
     "metadata": {},
     "output_type": "execute_result"
    }
   ],
   "source": [
    "ab_project_marketing_events.duplicated().sum()"
   ]
  },
  {
   "cell_type": "markdown",
   "metadata": {},
   "source": [
    "В переменной ab_project_marketing_events нет явных дубликатов."
   ]
  },
  {
   "cell_type": "markdown",
   "metadata": {},
   "source": [
    "Проверим наличие неявных дубликатов в столбце id переменной final_ab_new_users."
   ]
  },
  {
   "cell_type": "code",
   "execution_count": 19,
   "metadata": {},
   "outputs": [
    {
     "data": {
      "text/plain": [
       "0"
      ]
     },
     "execution_count": 19,
     "metadata": {},
     "output_type": "execute_result"
    }
   ],
   "source": [
    "final_ab_new_users.duplicated().sum()"
   ]
  },
  {
   "cell_type": "markdown",
   "metadata": {},
   "source": [
    "Повторяющихся id в переменной final_ab_new_users нет."
   ]
  },
  {
   "cell_type": "markdown",
   "metadata": {},
   "source": [
    "Далее переведем столбцы с датами в во всех переменных в удобный для работы формат."
   ]
  },
  {
   "cell_type": "code",
   "execution_count": 20,
   "metadata": {},
   "outputs": [],
   "source": [
    "final_ab_new_users['first_date'] = pd.to_datetime(final_ab_new_users['first_date'])"
   ]
  },
  {
   "cell_type": "code",
   "execution_count": 21,
   "metadata": {},
   "outputs": [
    {
     "name": "stdout",
     "output_type": "stream",
     "text": [
      "<class 'pandas.core.frame.DataFrame'>\n",
      "RangeIndex: 61733 entries, 0 to 61732\n",
      "Data columns (total 4 columns):\n",
      " #   Column      Non-Null Count  Dtype         \n",
      "---  ------      --------------  -----         \n",
      " 0   user_id     61733 non-null  object        \n",
      " 1   first_date  61733 non-null  datetime64[ns]\n",
      " 2   region      61733 non-null  object        \n",
      " 3   device      61733 non-null  object        \n",
      "dtypes: datetime64[ns](1), object(3)\n",
      "memory usage: 1.9+ MB\n"
     ]
    }
   ],
   "source": [
    "final_ab_new_users.info()"
   ]
  },
  {
   "cell_type": "code",
   "execution_count": 22,
   "metadata": {},
   "outputs": [],
   "source": [
    "final_ab_events['event_dt'] = pd.to_datetime(final_ab_events['event_dt'])"
   ]
  },
  {
   "cell_type": "code",
   "execution_count": 23,
   "metadata": {},
   "outputs": [
    {
     "name": "stdout",
     "output_type": "stream",
     "text": [
      "<class 'pandas.core.frame.DataFrame'>\n",
      "RangeIndex: 440317 entries, 0 to 440316\n",
      "Data columns (total 4 columns):\n",
      " #   Column      Non-Null Count   Dtype         \n",
      "---  ------      --------------   -----         \n",
      " 0   user_id     440317 non-null  object        \n",
      " 1   event_dt    440317 non-null  datetime64[ns]\n",
      " 2   event_name  440317 non-null  object        \n",
      " 3   details     62740 non-null   float64       \n",
      "dtypes: datetime64[ns](1), float64(1), object(2)\n",
      "memory usage: 13.4+ MB\n"
     ]
    }
   ],
   "source": [
    "final_ab_events.info()"
   ]
  },
  {
   "cell_type": "code",
   "execution_count": 24,
   "metadata": {},
   "outputs": [
    {
     "data": {
      "text/html": [
       "<div>\n",
       "<style scoped>\n",
       "    .dataframe tbody tr th:only-of-type {\n",
       "        vertical-align: middle;\n",
       "    }\n",
       "\n",
       "    .dataframe tbody tr th {\n",
       "        vertical-align: top;\n",
       "    }\n",
       "\n",
       "    .dataframe thead th {\n",
       "        text-align: right;\n",
       "    }\n",
       "</style>\n",
       "<table border=\"1\" class=\"dataframe\">\n",
       "  <thead>\n",
       "    <tr style=\"text-align: right;\">\n",
       "      <th></th>\n",
       "      <th>user_id</th>\n",
       "      <th>event_dt</th>\n",
       "      <th>event_name</th>\n",
       "      <th>details</th>\n",
       "    </tr>\n",
       "  </thead>\n",
       "  <tbody>\n",
       "    <tr>\n",
       "      <th>0</th>\n",
       "      <td>E1BDDCE0DAFA2679</td>\n",
       "      <td>2020-12-07 20:22:03</td>\n",
       "      <td>purchase</td>\n",
       "      <td>99.99</td>\n",
       "    </tr>\n",
       "    <tr>\n",
       "      <th>1</th>\n",
       "      <td>7B6452F081F49504</td>\n",
       "      <td>2020-12-07 09:22:53</td>\n",
       "      <td>purchase</td>\n",
       "      <td>9.99</td>\n",
       "    </tr>\n",
       "    <tr>\n",
       "      <th>2</th>\n",
       "      <td>9CD9F34546DF254C</td>\n",
       "      <td>2020-12-07 12:59:29</td>\n",
       "      <td>purchase</td>\n",
       "      <td>4.99</td>\n",
       "    </tr>\n",
       "    <tr>\n",
       "      <th>3</th>\n",
       "      <td>96F27A054B191457</td>\n",
       "      <td>2020-12-07 04:02:40</td>\n",
       "      <td>purchase</td>\n",
       "      <td>4.99</td>\n",
       "    </tr>\n",
       "    <tr>\n",
       "      <th>4</th>\n",
       "      <td>1FD7660FDF94CA1F</td>\n",
       "      <td>2020-12-07 10:15:09</td>\n",
       "      <td>purchase</td>\n",
       "      <td>4.99</td>\n",
       "    </tr>\n",
       "  </tbody>\n",
       "</table>\n",
       "</div>"
      ],
      "text/plain": [
       "            user_id            event_dt event_name  details\n",
       "0  E1BDDCE0DAFA2679 2020-12-07 20:22:03   purchase    99.99\n",
       "1  7B6452F081F49504 2020-12-07 09:22:53   purchase     9.99\n",
       "2  9CD9F34546DF254C 2020-12-07 12:59:29   purchase     4.99\n",
       "3  96F27A054B191457 2020-12-07 04:02:40   purchase     4.99\n",
       "4  1FD7660FDF94CA1F 2020-12-07 10:15:09   purchase     4.99"
      ]
     },
     "execution_count": 24,
     "metadata": {},
     "output_type": "execute_result"
    }
   ],
   "source": [
    "final_ab_events.head()"
   ]
  },
  {
   "cell_type": "code",
   "execution_count": 25,
   "metadata": {},
   "outputs": [],
   "source": [
    "ab_project_marketing_events['start_dt'] = pd.to_datetime(ab_project_marketing_events['start_dt'])"
   ]
  },
  {
   "cell_type": "code",
   "execution_count": 26,
   "metadata": {},
   "outputs": [],
   "source": [
    "ab_project_marketing_events['finish_dt'] = pd.to_datetime(ab_project_marketing_events['finish_dt'])"
   ]
  },
  {
   "cell_type": "code",
   "execution_count": 27,
   "metadata": {},
   "outputs": [
    {
     "name": "stdout",
     "output_type": "stream",
     "text": [
      "<class 'pandas.core.frame.DataFrame'>\n",
      "RangeIndex: 14 entries, 0 to 13\n",
      "Data columns (total 4 columns):\n",
      " #   Column     Non-Null Count  Dtype         \n",
      "---  ------     --------------  -----         \n",
      " 0   name       14 non-null     object        \n",
      " 1   regions    14 non-null     object        \n",
      " 2   start_dt   14 non-null     datetime64[ns]\n",
      " 3   finish_dt  14 non-null     datetime64[ns]\n",
      "dtypes: datetime64[ns](2), object(2)\n",
      "memory usage: 576.0+ bytes\n"
     ]
    }
   ],
   "source": [
    "ab_project_marketing_events.info()"
   ]
  },
  {
   "cell_type": "markdown",
   "metadata": {},
   "source": [
    "Столбцы с датами приведены в удобный формат."
   ]
  },
  {
   "cell_type": "markdown",
   "metadata": {},
   "source": [
    "В ознакомлении с данными заметили, что в столбце details переменной final_ab_events имеются пропуски. Попробуем выяснить, с чем они связаны."
   ]
  },
  {
   "cell_type": "code",
   "execution_count": 28,
   "metadata": {},
   "outputs": [
    {
     "data": {
      "text/plain": [
       "array(['purchase', 'product_cart', 'product_page', 'login'], dtype=object)"
      ]
     },
     "execution_count": 28,
     "metadata": {},
     "output_type": "execute_result"
    }
   ],
   "source": [
    " final_ab_events['event_name'].unique() # Узнаем, какие есть уникальные значения в столбце event_name."
   ]
  },
  {
   "cell_type": "code",
   "execution_count": 29,
   "metadata": {},
   "outputs": [],
   "source": [
    "final_ab_events_null = final_ab_events[final_ab_events.isnull().any(axis=1)] # Создадим переменную где сохраним \n",
    "                                                                              # данные где есть пропуски"
   ]
  },
  {
   "cell_type": "code",
   "execution_count": 30,
   "metadata": {},
   "outputs": [
    {
     "data": {
      "text/plain": [
       "array(['product_cart', 'product_page', 'login'], dtype=object)"
      ]
     },
     "execution_count": 30,
     "metadata": {},
     "output_type": "execute_result"
    }
   ],
   "source": [
    "final_ab_events_null['event_name'].unique() # Узнаем, какие уникальные значения в столбце event_name остались."
   ]
  },
  {
   "cell_type": "code",
   "execution_count": 31,
   "metadata": {},
   "outputs": [
    {
     "data": {
      "text/plain": [
       "array([ 99.99,   9.99,   4.99, 499.99,    nan])"
      ]
     },
     "execution_count": 31,
     "metadata": {},
     "output_type": "execute_result"
    }
   ],
   "source": [
    "final_ab_events['details'].unique() # Узнаем, какие есть уникальные значения в столбце details."
   ]
  },
  {
   "cell_type": "markdown",
   "metadata": {},
   "source": [
    "Исходя из того, что значение отсутствет во всех строках, где нет purchase, при этом purchase равное 0 нет, можно сделать вывод, что скорее всего данные пропуски связаны с тем, что клиентами не были потрачены деньги по операциям. Данные пропуски можно заменить на 0"
   ]
  },
  {
   "cell_type": "code",
   "execution_count": 32,
   "metadata": {},
   "outputs": [],
   "source": [
    "final_ab_events['details'] = final_ab_events['details'].fillna(0)"
   ]
  },
  {
   "cell_type": "markdown",
   "metadata": {},
   "source": [
    "На данном этапе проверили данные на явные и неявные дубликаты, устранили пропуски и проанализировали их природу, переименовали столбцы, изменили типы данных в столбцах."
   ]
  },
  {
   "cell_type": "markdown",
   "metadata": {},
   "source": [
    "## Анализ данных"
   ]
  },
  {
   "cell_type": "markdown",
   "metadata": {},
   "source": [
    "### Проверка соответствия данных требованиям технического задания"
   ]
  },
  {
   "cell_type": "markdown",
   "metadata": {},
   "source": [
    "#### Название теста: recommender_system_test"
   ]
  },
  {
   "cell_type": "markdown",
   "metadata": {},
   "source": [
    "В техническом задании имеется название теста, recommender_system_test. Проверим, только он ли в предоставленных данных."
   ]
  },
  {
   "cell_type": "code",
   "execution_count": 33,
   "metadata": {},
   "outputs": [
    {
     "data": {
      "text/plain": [
       "array(['recommender_system_test', 'interface_eu_test'], dtype=object)"
      ]
     },
     "execution_count": 33,
     "metadata": {},
     "output_type": "execute_result"
    }
   ],
   "source": [
    "final_ab_participants['ab_test'].unique()"
   ]
  },
  {
   "cell_type": "markdown",
   "metadata": {},
   "source": [
    "Как видим, в данных имеются 2 теста. Посмотрим количество в данных каждого теста."
   ]
  },
  {
   "cell_type": "code",
   "execution_count": 34,
   "metadata": {},
   "outputs": [
    {
     "data": {
      "text/plain": [
       "interface_eu_test          11567\n",
       "recommender_system_test     6701\n",
       "Name: ab_test, dtype: int64"
      ]
     },
     "execution_count": 34,
     "metadata": {},
     "output_type": "execute_result"
    }
   ],
   "source": [
    "final_ab_participants['ab_test'].value_counts()"
   ]
  },
  {
   "cell_type": "markdown",
   "metadata": {},
   "source": [
    "#### Группы: А — контрольная, B — новая платёжная воронка"
   ]
  },
  {
   "cell_type": "markdown",
   "metadata": {},
   "source": [
    "В техническом задании имеется название групп: А — контрольная, B — новая платёжная воронка. Проверим, только он ли в предоставленных данных."
   ]
  },
  {
   "cell_type": "code",
   "execution_count": 35,
   "metadata": {},
   "outputs": [
    {
     "data": {
      "text/plain": [
       "array(['A', 'B'], dtype=object)"
      ]
     },
     "execution_count": 35,
     "metadata": {},
     "output_type": "execute_result"
    }
   ],
   "source": [
    "final_ab_participants['group'].unique()"
   ]
  },
  {
   "cell_type": "markdown",
   "metadata": {},
   "source": [
    "Как видим, в данных имеются 2 группы А и В. Посмотрим количество в данных каждой группы."
   ]
  },
  {
   "cell_type": "code",
   "execution_count": 36,
   "metadata": {},
   "outputs": [
    {
     "data": {
      "text/plain": [
       "A    9655\n",
       "B    8613\n",
       "Name: group, dtype: int64"
      ]
     },
     "execution_count": 36,
     "metadata": {},
     "output_type": "execute_result"
    }
   ],
   "source": [
    "final_ab_participants['group'].value_counts()"
   ]
  },
  {
   "cell_type": "markdown",
   "metadata": {},
   "source": [
    "#### Дата запуска: 2020-12-07"
   ]
  },
  {
   "cell_type": "markdown",
   "metadata": {},
   "source": [
    "Проверим дату запуска проекта. Проверим по final_ab_events."
   ]
  },
  {
   "cell_type": "code",
   "execution_count": 37,
   "metadata": {},
   "outputs": [
    {
     "data": {
      "text/plain": [
       "Timestamp('2020-12-07 00:00:33')"
      ]
     },
     "execution_count": 37,
     "metadata": {},
     "output_type": "execute_result"
    }
   ],
   "source": [
    "final_ab_events['event_dt'].min()"
   ]
  },
  {
   "cell_type": "markdown",
   "metadata": {},
   "source": [
    "Дата запуска соответствует ТЗ."
   ]
  },
  {
   "cell_type": "markdown",
   "metadata": {},
   "source": [
    "#### Дата дата остановки теста: 2021-01-04 "
   ]
  },
  {
   "cell_type": "markdown",
   "metadata": {},
   "source": [
    "Проверим дату завершения теста по техническому заданию."
   ]
  },
  {
   "cell_type": "code",
   "execution_count": 38,
   "metadata": {},
   "outputs": [
    {
     "data": {
      "text/plain": [
       "Timestamp('2020-12-30 23:36:33')"
      ]
     },
     "execution_count": 38,
     "metadata": {},
     "output_type": "execute_result"
    }
   ],
   "source": [
    "final_ab_events['event_dt'].max()"
   ]
  },
  {
   "cell_type": "markdown",
   "metadata": {},
   "source": [
    "По техническому заданию, тест был остановлен 2021-01-04, но у нас последнее действие пользователя совершено 2020-12-30 23:36:33. Возможно при передаче часть данных была утеряна либо завершена ранее указанной."
   ]
  },
  {
   "cell_type": "markdown",
   "metadata": {},
   "source": [
    "#### Дата остановки набора новых пользователей: 2020-12-21"
   ]
  },
  {
   "cell_type": "markdown",
   "metadata": {},
   "source": [
    "По ТЗ дата остановки набора новых пользователей: 2020-12-21. Проверим это. Выделим пользователей учавствующие только в тесте recommender_system_test и посмотрим, в какое время остановился набор. "
   ]
  },
  {
   "cell_type": "code",
   "execution_count": 39,
   "metadata": {},
   "outputs": [],
   "source": [
    "recommender_system_test_data = final_ab_participants.query('ab_test == \"recommender_system_test\"')"
   ]
  },
  {
   "cell_type": "code",
   "execution_count": 40,
   "metadata": {},
   "outputs": [],
   "source": [
    "recommender_system_id = recommender_system_test_data['user_id'].tolist()"
   ]
  },
  {
   "cell_type": "code",
   "execution_count": 41,
   "metadata": {},
   "outputs": [],
   "source": [
    "final_ab_new_users_data  = final_ab_new_users.query('user_id == @recommender_system_id')"
   ]
  },
  {
   "cell_type": "code",
   "execution_count": 42,
   "metadata": {},
   "outputs": [
    {
     "data": {
      "text/plain": [
       "Timestamp('2020-12-21 00:00:00')"
      ]
     },
     "execution_count": 42,
     "metadata": {},
     "output_type": "execute_result"
    }
   ],
   "source": [
    "final_ab_new_users_data['first_date'].max()"
   ]
  },
  {
   "cell_type": "markdown",
   "metadata": {},
   "source": [
    "Как видим, остановка работы набора новых пользователей завершилась в 2020-12-21 00:00:00"
   ]
  },
  {
   "cell_type": "markdown",
   "metadata": {},
   "source": [
    "#### Аудитория: в тест должно быть отобрано 15% новых пользователей из региона EU"
   ]
  },
  {
   "cell_type": "markdown",
   "metadata": {},
   "source": [
    "Проверим количество отобранных для теста пользователей из региона EU в количестве 15% от новых пользователей за тестовый период. Проверим, из каих регионов есть пользователи в интересующем нас тесте."
   ]
  },
  {
   "cell_type": "code",
   "execution_count": 43,
   "metadata": {},
   "outputs": [],
   "source": [
    "eu_user_id = final_ab_new_users.merge(final_ab_participants, on='user_id')"
   ]
  },
  {
   "cell_type": "code",
   "execution_count": 44,
   "metadata": {},
   "outputs": [],
   "source": [
    "eu_user_id = eu_user_id.query('ab_test == \"recommender_system_test\"')"
   ]
  },
  {
   "cell_type": "code",
   "execution_count": 45,
   "metadata": {},
   "outputs": [
    {
     "data": {
      "text/plain": [
       "EU           6351\n",
       "N.America     223\n",
       "APAC           72\n",
       "CIS            55\n",
       "Name: region, dtype: int64"
      ]
     },
     "execution_count": 45,
     "metadata": {},
     "output_type": "execute_result"
    }
   ],
   "source": [
    "eu_user_id['region'].value_counts()"
   ]
  },
  {
   "cell_type": "markdown",
   "metadata": {},
   "source": [
    "Как видим есть пользователи из других регионов. Это является отклонением от ТЗ. В дальнейшем при проведении анализа мы их удалим так как их не много."
   ]
  },
  {
   "cell_type": "code",
   "execution_count": 46,
   "metadata": {},
   "outputs": [],
   "source": [
    "eu_user_id = eu_user_id.query('region == \"EU\"')"
   ]
  },
  {
   "cell_type": "code",
   "execution_count": 47,
   "metadata": {},
   "outputs": [
    {
     "name": "stdout",
     "output_type": "stream",
     "text": [
      "<class 'pandas.core.frame.DataFrame'>\n",
      "Int64Index: 6351 entries, 0 to 18264\n",
      "Data columns (total 6 columns):\n",
      " #   Column      Non-Null Count  Dtype         \n",
      "---  ------      --------------  -----         \n",
      " 0   user_id     6351 non-null   object        \n",
      " 1   first_date  6351 non-null   datetime64[ns]\n",
      " 2   region      6351 non-null   object        \n",
      " 3   device      6351 non-null   object        \n",
      " 4   group       6351 non-null   object        \n",
      " 5   ab_test     6351 non-null   object        \n",
      "dtypes: datetime64[ns](1), object(5)\n",
      "memory usage: 347.3+ KB\n"
     ]
    }
   ],
   "source": [
    "eu_user_id.info()"
   ]
  },
  {
   "cell_type": "code",
   "execution_count": 48,
   "metadata": {},
   "outputs": [
    {
     "name": "stdout",
     "output_type": "stream",
     "text": [
      "<class 'pandas.core.frame.DataFrame'>\n",
      "RangeIndex: 61733 entries, 0 to 61732\n",
      "Data columns (total 4 columns):\n",
      " #   Column      Non-Null Count  Dtype         \n",
      "---  ------      --------------  -----         \n",
      " 0   user_id     61733 non-null  object        \n",
      " 1   first_date  61733 non-null  datetime64[ns]\n",
      " 2   region      61733 non-null  object        \n",
      " 3   device      61733 non-null  object        \n",
      "dtypes: datetime64[ns](1), object(3)\n",
      "memory usage: 1.9+ MB\n"
     ]
    }
   ],
   "source": [
    "final_ab_new_users.info()"
   ]
  },
  {
   "cell_type": "code",
   "execution_count": 49,
   "metadata": {},
   "outputs": [],
   "source": [
    "eu_new_users = final_ab_new_users.query('region == \"EU\" and first_date <= \"2020-12-21\"')"
   ]
  },
  {
   "cell_type": "code",
   "execution_count": 50,
   "metadata": {},
   "outputs": [
    {
     "name": "stdout",
     "output_type": "stream",
     "text": [
      "<class 'pandas.core.frame.DataFrame'>\n",
      "Int64Index: 42340 entries, 0 to 61732\n",
      "Data columns (total 4 columns):\n",
      " #   Column      Non-Null Count  Dtype         \n",
      "---  ------      --------------  -----         \n",
      " 0   user_id     42340 non-null  object        \n",
      " 1   first_date  42340 non-null  datetime64[ns]\n",
      " 2   region      42340 non-null  object        \n",
      " 3   device      42340 non-null  object        \n",
      "dtypes: datetime64[ns](1), object(3)\n",
      "memory usage: 1.6+ MB\n"
     ]
    }
   ],
   "source": [
    "eu_new_users.info()"
   ]
  },
  {
   "cell_type": "code",
   "execution_count": 51,
   "metadata": {},
   "outputs": [],
   "source": [
    "percent_eu_test = eu_user_id['user_id'].nunique()/eu_new_users['user_id'].nunique()*100"
   ]
  },
  {
   "cell_type": "code",
   "execution_count": 52,
   "metadata": {},
   "outputs": [
    {
     "data": {
      "text/plain": [
       "15.0"
      ]
     },
     "execution_count": 52,
     "metadata": {},
     "output_type": "execute_result"
    }
   ],
   "source": [
    "percent_eu_test"
   ]
  },
  {
   "cell_type": "markdown",
   "metadata": {},
   "source": [
    "Как видим, процент пользователелей из региона EU отобранных для теста, равны 15% новых пользователей из региона EU за период отбора новых пользователей с 2020-12-07 по 2020-12-21."
   ]
  },
  {
   "cell_type": "markdown",
   "metadata": {},
   "source": [
    "#### Ожидаемое количество участников теста: 6000"
   ]
  },
  {
   "cell_type": "markdown",
   "metadata": {},
   "source": [
    "Исходя из полученных данных, сформируем тестируемые группы, которые подходят под ТЗ и не повлияют на резуьтат АВ теста."
   ]
  },
  {
   "cell_type": "markdown",
   "metadata": {},
   "source": [
    "Сначала удалим пользователей которые учавствовали в 2 разных тестах. Возможно эти тесты проводились в одно время и могли сказаться на результатах дейсвий пользователей. Создадим 2 датасета в которых сохраним опользователей с разными тестами."
   ]
  },
  {
   "cell_type": "code",
   "execution_count": 53,
   "metadata": {},
   "outputs": [],
   "source": [
    "participants_eu_test = final_ab_participants.query('ab_test == \"interface_eu_test\"')"
   ]
  },
  {
   "cell_type": "code",
   "execution_count": 54,
   "metadata": {},
   "outputs": [],
   "source": [
    "participants_system_test = final_ab_participants.query('ab_test == \"recommender_system_test\"')"
   ]
  },
  {
   "cell_type": "code",
   "execution_count": 55,
   "metadata": {},
   "outputs": [
    {
     "data": {
      "text/plain": [
       "A    3824\n",
       "B    2877\n",
       "Name: group, dtype: int64"
      ]
     },
     "execution_count": 55,
     "metadata": {},
     "output_type": "execute_result"
    }
   ],
   "source": [
    "participants_system_test['group'].value_counts()"
   ]
  },
  {
   "cell_type": "code",
   "execution_count": 56,
   "metadata": {},
   "outputs": [
    {
     "name": "stdout",
     "output_type": "stream",
     "text": [
      "<class 'pandas.core.frame.DataFrame'>\n",
      "Int64Index: 6701 entries, 0 to 6700\n",
      "Data columns (total 3 columns):\n",
      " #   Column   Non-Null Count  Dtype \n",
      "---  ------   --------------  ----- \n",
      " 0   user_id  6701 non-null   object\n",
      " 1   group    6701 non-null   object\n",
      " 2   ab_test  6701 non-null   object\n",
      "dtypes: object(3)\n",
      "memory usage: 209.4+ KB\n"
     ]
    }
   ],
   "source": [
    "participants_system_test.info()"
   ]
  },
  {
   "cell_type": "code",
   "execution_count": 57,
   "metadata": {},
   "outputs": [],
   "source": [
    "participants_no = participants_system_test.merge(participants_eu_test, on='user_id')"
   ]
  },
  {
   "cell_type": "code",
   "execution_count": 58,
   "metadata": {},
   "outputs": [
    {
     "data": {
      "text/html": [
       "<div>\n",
       "<style scoped>\n",
       "    .dataframe tbody tr th:only-of-type {\n",
       "        vertical-align: middle;\n",
       "    }\n",
       "\n",
       "    .dataframe tbody tr th {\n",
       "        vertical-align: top;\n",
       "    }\n",
       "\n",
       "    .dataframe thead th {\n",
       "        text-align: right;\n",
       "    }\n",
       "</style>\n",
       "<table border=\"1\" class=\"dataframe\">\n",
       "  <thead>\n",
       "    <tr style=\"text-align: right;\">\n",
       "      <th></th>\n",
       "      <th>user_id</th>\n",
       "      <th>group_x</th>\n",
       "      <th>ab_test_x</th>\n",
       "      <th>group_y</th>\n",
       "      <th>ab_test_y</th>\n",
       "    </tr>\n",
       "  </thead>\n",
       "  <tbody>\n",
       "    <tr>\n",
       "      <th>0</th>\n",
       "      <td>DABC14FDDFADD29E</td>\n",
       "      <td>A</td>\n",
       "      <td>recommender_system_test</td>\n",
       "      <td>A</td>\n",
       "      <td>interface_eu_test</td>\n",
       "    </tr>\n",
       "    <tr>\n",
       "      <th>1</th>\n",
       "      <td>04988C5DF189632E</td>\n",
       "      <td>A</td>\n",
       "      <td>recommender_system_test</td>\n",
       "      <td>A</td>\n",
       "      <td>interface_eu_test</td>\n",
       "    </tr>\n",
       "    <tr>\n",
       "      <th>2</th>\n",
       "      <td>B3A2485649E4A012</td>\n",
       "      <td>A</td>\n",
       "      <td>recommender_system_test</td>\n",
       "      <td>A</td>\n",
       "      <td>interface_eu_test</td>\n",
       "    </tr>\n",
       "    <tr>\n",
       "      <th>3</th>\n",
       "      <td>EAFB9027A27D510C</td>\n",
       "      <td>B</td>\n",
       "      <td>recommender_system_test</td>\n",
       "      <td>A</td>\n",
       "      <td>interface_eu_test</td>\n",
       "    </tr>\n",
       "    <tr>\n",
       "      <th>4</th>\n",
       "      <td>5D5E6EE92AF6E9E0</td>\n",
       "      <td>B</td>\n",
       "      <td>recommender_system_test</td>\n",
       "      <td>B</td>\n",
       "      <td>interface_eu_test</td>\n",
       "    </tr>\n",
       "  </tbody>\n",
       "</table>\n",
       "</div>"
      ],
      "text/plain": [
       "            user_id group_x                ab_test_x group_y  \\\n",
       "0  DABC14FDDFADD29E       A  recommender_system_test       A   \n",
       "1  04988C5DF189632E       A  recommender_system_test       A   \n",
       "2  B3A2485649E4A012       A  recommender_system_test       A   \n",
       "3  EAFB9027A27D510C       B  recommender_system_test       A   \n",
       "4  5D5E6EE92AF6E9E0       B  recommender_system_test       B   \n",
       "\n",
       "           ab_test_y  \n",
       "0  interface_eu_test  \n",
       "1  interface_eu_test  \n",
       "2  interface_eu_test  \n",
       "3  interface_eu_test  \n",
       "4  interface_eu_test  "
      ]
     },
     "execution_count": 58,
     "metadata": {},
     "output_type": "execute_result"
    }
   ],
   "source": [
    "participants_no.head()"
   ]
  },
  {
   "cell_type": "code",
   "execution_count": 59,
   "metadata": {},
   "outputs": [],
   "source": [
    "bad_user = participants_no['user_id'].tolist()"
   ]
  },
  {
   "cell_type": "markdown",
   "metadata": {},
   "source": [
    "Удалим пользователей, которые принимали участие в обоих тестах."
   ]
  },
  {
   "cell_type": "code",
   "execution_count": 60,
   "metadata": {},
   "outputs": [],
   "source": [
    "participants_system_test = participants_system_test.query('user_id != @bad_user')"
   ]
  },
  {
   "cell_type": "code",
   "execution_count": 61,
   "metadata": {
    "scrolled": true
   },
   "outputs": [
    {
     "name": "stdout",
     "output_type": "stream",
     "text": [
      "<class 'pandas.core.frame.DataFrame'>\n",
      "Int64Index: 5099 entries, 0 to 6700\n",
      "Data columns (total 3 columns):\n",
      " #   Column   Non-Null Count  Dtype \n",
      "---  ------   --------------  ----- \n",
      " 0   user_id  5099 non-null   object\n",
      " 1   group    5099 non-null   object\n",
      " 2   ab_test  5099 non-null   object\n",
      "dtypes: object(3)\n",
      "memory usage: 159.3+ KB\n"
     ]
    }
   ],
   "source": [
    "participants_system_test.info()"
   ]
  },
  {
   "cell_type": "markdown",
   "metadata": {},
   "source": [
    "Проверим пересечение между группами внутри теста."
   ]
  },
  {
   "cell_type": "code",
   "execution_count": 62,
   "metadata": {},
   "outputs": [],
   "source": [
    "participants_system_test_A = participants_system_test.query('group == \"A\"')"
   ]
  },
  {
   "cell_type": "code",
   "execution_count": 63,
   "metadata": {},
   "outputs": [],
   "source": [
    "participants_system_test_B = participants_system_test.query('group == \"B\"')"
   ]
  },
  {
   "cell_type": "code",
   "execution_count": 64,
   "metadata": {},
   "outputs": [],
   "source": [
    "id_A_B = participants_system_test_A.merge(participants_system_test_B, on='user_id')"
   ]
  },
  {
   "cell_type": "code",
   "execution_count": 65,
   "metadata": {},
   "outputs": [
    {
     "data": {
      "text/html": [
       "<div>\n",
       "<style scoped>\n",
       "    .dataframe tbody tr th:only-of-type {\n",
       "        vertical-align: middle;\n",
       "    }\n",
       "\n",
       "    .dataframe tbody tr th {\n",
       "        vertical-align: top;\n",
       "    }\n",
       "\n",
       "    .dataframe thead th {\n",
       "        text-align: right;\n",
       "    }\n",
       "</style>\n",
       "<table border=\"1\" class=\"dataframe\">\n",
       "  <thead>\n",
       "    <tr style=\"text-align: right;\">\n",
       "      <th></th>\n",
       "      <th>user_id</th>\n",
       "      <th>group_x</th>\n",
       "      <th>ab_test_x</th>\n",
       "      <th>group_y</th>\n",
       "      <th>ab_test_y</th>\n",
       "    </tr>\n",
       "  </thead>\n",
       "  <tbody>\n",
       "  </tbody>\n",
       "</table>\n",
       "</div>"
      ],
      "text/plain": [
       "Empty DataFrame\n",
       "Columns: [user_id, group_x, ab_test_x, group_y, ab_test_y]\n",
       "Index: []"
      ]
     },
     "execution_count": 65,
     "metadata": {},
     "output_type": "execute_result"
    }
   ],
   "source": [
    "id_A_B "
   ]
  },
  {
   "cell_type": "markdown",
   "metadata": {},
   "source": [
    "Как видим, пересечений между группами нет"
   ]
  },
  {
   "cell_type": "code",
   "execution_count": 66,
   "metadata": {},
   "outputs": [
    {
     "data": {
      "text/plain": [
       "A    2903\n",
       "B    2196\n",
       "Name: group, dtype: int64"
      ]
     },
     "execution_count": 66,
     "metadata": {},
     "output_type": "execute_result"
    }
   ],
   "source": [
    "participants_system_test['group'].value_counts()"
   ]
  },
  {
   "cell_type": "markdown",
   "metadata": {},
   "source": [
    "Проверим пользователей, которые зарегестрировались после 2020-12-21."
   ]
  },
  {
   "cell_type": "code",
   "execution_count": 67,
   "metadata": {},
   "outputs": [
    {
     "name": "stdout",
     "output_type": "stream",
     "text": [
      "<class 'pandas.core.frame.DataFrame'>\n",
      "RangeIndex: 61733 entries, 0 to 61732\n",
      "Data columns (total 4 columns):\n",
      " #   Column      Non-Null Count  Dtype         \n",
      "---  ------      --------------  -----         \n",
      " 0   user_id     61733 non-null  object        \n",
      " 1   first_date  61733 non-null  datetime64[ns]\n",
      " 2   region      61733 non-null  object        \n",
      " 3   device      61733 non-null  object        \n",
      "dtypes: datetime64[ns](1), object(3)\n",
      "memory usage: 1.9+ MB\n"
     ]
    }
   ],
   "source": [
    "final_ab_new_users.info()"
   ]
  },
  {
   "cell_type": "code",
   "execution_count": 68,
   "metadata": {},
   "outputs": [],
   "source": [
    "no_ab_new_users = final_ab_new_users.query('first_date > \"2020-12-21\"')"
   ]
  },
  {
   "cell_type": "code",
   "execution_count": 69,
   "metadata": {},
   "outputs": [
    {
     "name": "stdout",
     "output_type": "stream",
     "text": [
      "<class 'pandas.core.frame.DataFrame'>\n",
      "Int64Index: 5263 entries, 23821 to 33294\n",
      "Data columns (total 4 columns):\n",
      " #   Column      Non-Null Count  Dtype         \n",
      "---  ------      --------------  -----         \n",
      " 0   user_id     5263 non-null   object        \n",
      " 1   first_date  5263 non-null   datetime64[ns]\n",
      " 2   region      5263 non-null   object        \n",
      " 3   device      5263 non-null   object        \n",
      "dtypes: datetime64[ns](1), object(3)\n",
      "memory usage: 205.6+ KB\n"
     ]
    }
   ],
   "source": [
    "no_ab_new_users.info()"
   ]
  },
  {
   "cell_type": "code",
   "execution_count": 70,
   "metadata": {},
   "outputs": [],
   "source": [
    "id_no_ab_new_users = no_ab_new_users['user_id'].tolist()"
   ]
  },
  {
   "cell_type": "markdown",
   "metadata": {},
   "source": [
    "Проверим, нет ли таких пользователей в очищенных данных."
   ]
  },
  {
   "cell_type": "code",
   "execution_count": 71,
   "metadata": {},
   "outputs": [],
   "source": [
    "participants_system_test = participants_system_test.reset_index(drop=True)"
   ]
  },
  {
   "cell_type": "code",
   "execution_count": 72,
   "metadata": {},
   "outputs": [
    {
     "data": {
      "text/html": [
       "<div>\n",
       "<style scoped>\n",
       "    .dataframe tbody tr th:only-of-type {\n",
       "        vertical-align: middle;\n",
       "    }\n",
       "\n",
       "    .dataframe tbody tr th {\n",
       "        vertical-align: top;\n",
       "    }\n",
       "\n",
       "    .dataframe thead th {\n",
       "        text-align: right;\n",
       "    }\n",
       "</style>\n",
       "<table border=\"1\" class=\"dataframe\">\n",
       "  <thead>\n",
       "    <tr style=\"text-align: right;\">\n",
       "      <th></th>\n",
       "      <th>user_id</th>\n",
       "      <th>group</th>\n",
       "      <th>ab_test</th>\n",
       "    </tr>\n",
       "  </thead>\n",
       "  <tbody>\n",
       "    <tr>\n",
       "      <th>0</th>\n",
       "      <td>D1ABA3E2887B6A73</td>\n",
       "      <td>A</td>\n",
       "      <td>recommender_system_test</td>\n",
       "    </tr>\n",
       "    <tr>\n",
       "      <th>1</th>\n",
       "      <td>A7A3664BD6242119</td>\n",
       "      <td>A</td>\n",
       "      <td>recommender_system_test</td>\n",
       "    </tr>\n",
       "    <tr>\n",
       "      <th>2</th>\n",
       "      <td>482F14783456D21B</td>\n",
       "      <td>B</td>\n",
       "      <td>recommender_system_test</td>\n",
       "    </tr>\n",
       "    <tr>\n",
       "      <th>3</th>\n",
       "      <td>4FF2998A348C484F</td>\n",
       "      <td>A</td>\n",
       "      <td>recommender_system_test</td>\n",
       "    </tr>\n",
       "    <tr>\n",
       "      <th>4</th>\n",
       "      <td>7473E0943673C09E</td>\n",
       "      <td>A</td>\n",
       "      <td>recommender_system_test</td>\n",
       "    </tr>\n",
       "  </tbody>\n",
       "</table>\n",
       "</div>"
      ],
      "text/plain": [
       "            user_id group                  ab_test\n",
       "0  D1ABA3E2887B6A73     A  recommender_system_test\n",
       "1  A7A3664BD6242119     A  recommender_system_test\n",
       "2  482F14783456D21B     B  recommender_system_test\n",
       "3  4FF2998A348C484F     A  recommender_system_test\n",
       "4  7473E0943673C09E     A  recommender_system_test"
      ]
     },
     "execution_count": 72,
     "metadata": {},
     "output_type": "execute_result"
    }
   ],
   "source": [
    "participants_system_test.head()"
   ]
  },
  {
   "cell_type": "code",
   "execution_count": 73,
   "metadata": {},
   "outputs": [],
   "source": [
    "participants_system_test = participants_system_test.query('user_id != @id_no_ab_new_users')"
   ]
  },
  {
   "cell_type": "code",
   "execution_count": 74,
   "metadata": {},
   "outputs": [
    {
     "name": "stdout",
     "output_type": "stream",
     "text": [
      "<class 'pandas.core.frame.DataFrame'>\n",
      "Int64Index: 5099 entries, 0 to 5098\n",
      "Data columns (total 3 columns):\n",
      " #   Column   Non-Null Count  Dtype \n",
      "---  ------   --------------  ----- \n",
      " 0   user_id  5099 non-null   object\n",
      " 1   group    5099 non-null   object\n",
      " 2   ab_test  5099 non-null   object\n",
      "dtypes: object(3)\n",
      "memory usage: 159.3+ KB\n"
     ]
    }
   ],
   "source": [
    "participants_system_test.info()"
   ]
  },
  {
   "cell_type": "markdown",
   "metadata": {},
   "source": [
    "Проверим, нет в participants_system_test пользователей не из региона EU"
   ]
  },
  {
   "cell_type": "code",
   "execution_count": 75,
   "metadata": {},
   "outputs": [],
   "source": [
    "final_ab_new_users_no_eu = final_ab_new_users.query('region != \"EU\"')"
   ]
  },
  {
   "cell_type": "code",
   "execution_count": 76,
   "metadata": {},
   "outputs": [],
   "source": [
    "users_no_eu = final_ab_new_users_no_eu['user_id'].tolist()"
   ]
  },
  {
   "cell_type": "code",
   "execution_count": 77,
   "metadata": {},
   "outputs": [],
   "source": [
    "participants_system_test = participants_system_test.query('user_id != @users_no_eu')"
   ]
  },
  {
   "cell_type": "code",
   "execution_count": 78,
   "metadata": {},
   "outputs": [
    {
     "name": "stdout",
     "output_type": "stream",
     "text": [
      "<class 'pandas.core.frame.DataFrame'>\n",
      "Int64Index: 4749 entries, 0 to 4748\n",
      "Data columns (total 3 columns):\n",
      " #   Column   Non-Null Count  Dtype \n",
      "---  ------   --------------  ----- \n",
      " 0   user_id  4749 non-null   object\n",
      " 1   group    4749 non-null   object\n",
      " 2   ab_test  4749 non-null   object\n",
      "dtypes: object(3)\n",
      "memory usage: 148.4+ KB\n"
     ]
    }
   ],
   "source": [
    "participants_system_test.info()"
   ]
  },
  {
   "cell_type": "markdown",
   "metadata": {},
   "source": [
    "Как видим, в данных присутствовали пользователи не из региона EU."
   ]
  },
  {
   "cell_type": "markdown",
   "metadata": {},
   "source": [
    "Исходя из того, что у нас имеются действия пользователей только до 2020-12-30, не все пользователи смогут пройти 14 дневный лайфтайм, необходимый по ТЗ. Из ТЗ так же следует, что начало набора в группы было 2020-12-07, а закончилось 2020-12-21."
   ]
  },
  {
   "cell_type": "markdown",
   "metadata": {},
   "source": [
    "Найдем события пользователей до 14 дней включительно. Вычтим из даты события дату регистрации."
   ]
  },
  {
   "cell_type": "code",
   "execution_count": 79,
   "metadata": {},
   "outputs": [],
   "source": [
    "norm_id = participants_system_test['user_id'].tolist() #Получим список id нужных пользователей"
   ]
  },
  {
   "cell_type": "code",
   "execution_count": 80,
   "metadata": {},
   "outputs": [],
   "source": [
    "final_ab_new_users_norm = final_ab_new_users.query('user_id == @norm_id') # Получим регистрации нужных пользователей"
   ]
  },
  {
   "cell_type": "code",
   "execution_count": 81,
   "metadata": {},
   "outputs": [
    {
     "name": "stdout",
     "output_type": "stream",
     "text": [
      "<class 'pandas.core.frame.DataFrame'>\n",
      "Int64Index: 4749 entries, 0 to 61715\n",
      "Data columns (total 4 columns):\n",
      " #   Column      Non-Null Count  Dtype         \n",
      "---  ------      --------------  -----         \n",
      " 0   user_id     4749 non-null   object        \n",
      " 1   first_date  4749 non-null   datetime64[ns]\n",
      " 2   region      4749 non-null   object        \n",
      " 3   device      4749 non-null   object        \n",
      "dtypes: datetime64[ns](1), object(3)\n",
      "memory usage: 185.5+ KB\n"
     ]
    }
   ],
   "source": [
    "final_ab_new_users_norm.info()"
   ]
  },
  {
   "cell_type": "code",
   "execution_count": 82,
   "metadata": {},
   "outputs": [],
   "source": [
    "final_ab_events_xz = final_ab_events.merge(final_ab_new_users_norm, on='user_id')"
   ]
  },
  {
   "cell_type": "code",
   "execution_count": 83,
   "metadata": {},
   "outputs": [
    {
     "data": {
      "text/html": [
       "<div>\n",
       "<style scoped>\n",
       "    .dataframe tbody tr th:only-of-type {\n",
       "        vertical-align: middle;\n",
       "    }\n",
       "\n",
       "    .dataframe tbody tr th {\n",
       "        vertical-align: top;\n",
       "    }\n",
       "\n",
       "    .dataframe thead th {\n",
       "        text-align: right;\n",
       "    }\n",
       "</style>\n",
       "<table border=\"1\" class=\"dataframe\">\n",
       "  <thead>\n",
       "    <tr style=\"text-align: right;\">\n",
       "      <th></th>\n",
       "      <th>user_id</th>\n",
       "      <th>event_dt</th>\n",
       "      <th>event_name</th>\n",
       "      <th>details</th>\n",
       "      <th>first_date</th>\n",
       "      <th>region</th>\n",
       "      <th>device</th>\n",
       "    </tr>\n",
       "  </thead>\n",
       "  <tbody>\n",
       "    <tr>\n",
       "      <th>0</th>\n",
       "      <td>831887FE7F2D6CBA</td>\n",
       "      <td>2020-12-07 06:50:29</td>\n",
       "      <td>purchase</td>\n",
       "      <td>4.99</td>\n",
       "      <td>2020-12-07</td>\n",
       "      <td>EU</td>\n",
       "      <td>Android</td>\n",
       "    </tr>\n",
       "    <tr>\n",
       "      <th>1</th>\n",
       "      <td>831887FE7F2D6CBA</td>\n",
       "      <td>2020-12-09 02:19:17</td>\n",
       "      <td>purchase</td>\n",
       "      <td>99.99</td>\n",
       "      <td>2020-12-07</td>\n",
       "      <td>EU</td>\n",
       "      <td>Android</td>\n",
       "    </tr>\n",
       "    <tr>\n",
       "      <th>2</th>\n",
       "      <td>831887FE7F2D6CBA</td>\n",
       "      <td>2020-12-07 06:50:30</td>\n",
       "      <td>product_cart</td>\n",
       "      <td>0.00</td>\n",
       "      <td>2020-12-07</td>\n",
       "      <td>EU</td>\n",
       "      <td>Android</td>\n",
       "    </tr>\n",
       "    <tr>\n",
       "      <th>3</th>\n",
       "      <td>831887FE7F2D6CBA</td>\n",
       "      <td>2020-12-08 10:52:27</td>\n",
       "      <td>product_cart</td>\n",
       "      <td>0.00</td>\n",
       "      <td>2020-12-07</td>\n",
       "      <td>EU</td>\n",
       "      <td>Android</td>\n",
       "    </tr>\n",
       "    <tr>\n",
       "      <th>4</th>\n",
       "      <td>831887FE7F2D6CBA</td>\n",
       "      <td>2020-12-09 02:19:17</td>\n",
       "      <td>product_cart</td>\n",
       "      <td>0.00</td>\n",
       "      <td>2020-12-07</td>\n",
       "      <td>EU</td>\n",
       "      <td>Android</td>\n",
       "    </tr>\n",
       "  </tbody>\n",
       "</table>\n",
       "</div>"
      ],
      "text/plain": [
       "            user_id            event_dt    event_name  details first_date  \\\n",
       "0  831887FE7F2D6CBA 2020-12-07 06:50:29      purchase     4.99 2020-12-07   \n",
       "1  831887FE7F2D6CBA 2020-12-09 02:19:17      purchase    99.99 2020-12-07   \n",
       "2  831887FE7F2D6CBA 2020-12-07 06:50:30  product_cart     0.00 2020-12-07   \n",
       "3  831887FE7F2D6CBA 2020-12-08 10:52:27  product_cart     0.00 2020-12-07   \n",
       "4  831887FE7F2D6CBA 2020-12-09 02:19:17  product_cart     0.00 2020-12-07   \n",
       "\n",
       "  region   device  \n",
       "0     EU  Android  \n",
       "1     EU  Android  \n",
       "2     EU  Android  \n",
       "3     EU  Android  \n",
       "4     EU  Android  "
      ]
     },
     "execution_count": 83,
     "metadata": {},
     "output_type": "execute_result"
    }
   ],
   "source": [
    "final_ab_events_xz.head()"
   ]
  },
  {
   "cell_type": "code",
   "execution_count": 84,
   "metadata": {},
   "outputs": [],
   "source": [
    "final_ab_events_xz['life_time'] = (final_ab_events_xz['event_dt'] - final_ab_events_xz['first_date']).dt.days"
   ]
  },
  {
   "cell_type": "code",
   "execution_count": 85,
   "metadata": {},
   "outputs": [],
   "source": [
    "final_ab_events_xz = final_ab_events_xz.query('life_time <= 14')"
   ]
  },
  {
   "cell_type": "code",
   "execution_count": 86,
   "metadata": {},
   "outputs": [
    {
     "name": "stdout",
     "output_type": "stream",
     "text": [
      "<class 'pandas.core.frame.DataFrame'>\n",
      "Int64Index: 17087 entries, 0 to 17525\n",
      "Data columns (total 8 columns):\n",
      " #   Column      Non-Null Count  Dtype         \n",
      "---  ------      --------------  -----         \n",
      " 0   user_id     17087 non-null  object        \n",
      " 1   event_dt    17087 non-null  datetime64[ns]\n",
      " 2   event_name  17087 non-null  object        \n",
      " 3   details     17087 non-null  float64       \n",
      " 4   first_date  17087 non-null  datetime64[ns]\n",
      " 5   region      17087 non-null  object        \n",
      " 6   device      17087 non-null  object        \n",
      " 7   life_time   17087 non-null  int64         \n",
      "dtypes: datetime64[ns](2), float64(1), int64(1), object(4)\n",
      "memory usage: 1.2+ MB\n"
     ]
    }
   ],
   "source": [
    "final_ab_events_xz.info()"
   ]
  },
  {
   "cell_type": "code",
   "execution_count": 87,
   "metadata": {},
   "outputs": [
    {
     "data": {
      "text/plain": [
       "2594"
      ]
     },
     "execution_count": 87,
     "metadata": {},
     "output_type": "execute_result"
    }
   ],
   "source": [
    "final_ab_events_xz['user_id'].nunique()"
   ]
  },
  {
   "cell_type": "markdown",
   "metadata": {},
   "source": [
    "Как видим, количество пользователей, которые могут учавствовать в тесте - 2594."
   ]
  },
  {
   "cell_type": "markdown",
   "metadata": {},
   "source": [
    "Как видим, количество пользователей сильно ниже 6000."
   ]
  },
  {
   "cell_type": "markdown",
   "metadata": {},
   "source": [
    "### Время проведения теста. Убедитесь, что оно не совпадает с маркетинговыми и другими активностями."
   ]
  },
  {
   "cell_type": "markdown",
   "metadata": {},
   "source": [
    "Выведем маркетинговые события, которые пересекаются со временем проведения исследования. Начало даты проведения маркетиногового события будет в ходить во временной диапазон проведения исследования."
   ]
  },
  {
   "cell_type": "code",
   "execution_count": 88,
   "metadata": {
    "scrolled": true
   },
   "outputs": [
    {
     "data": {
      "text/html": [
       "<div>\n",
       "<style scoped>\n",
       "    .dataframe tbody tr th:only-of-type {\n",
       "        vertical-align: middle;\n",
       "    }\n",
       "\n",
       "    .dataframe tbody tr th {\n",
       "        vertical-align: top;\n",
       "    }\n",
       "\n",
       "    .dataframe thead th {\n",
       "        text-align: right;\n",
       "    }\n",
       "</style>\n",
       "<table border=\"1\" class=\"dataframe\">\n",
       "  <thead>\n",
       "    <tr style=\"text-align: right;\">\n",
       "      <th></th>\n",
       "      <th>name</th>\n",
       "      <th>regions</th>\n",
       "      <th>start_dt</th>\n",
       "      <th>finish_dt</th>\n",
       "    </tr>\n",
       "  </thead>\n",
       "  <tbody>\n",
       "    <tr>\n",
       "      <th>12</th>\n",
       "      <td>Christmas&amp;New Year Promo</td>\n",
       "      <td>EU, N.America</td>\n",
       "      <td>2020-12-25</td>\n",
       "      <td>2021-01-03</td>\n",
       "    </tr>\n",
       "    <tr>\n",
       "      <th>13</th>\n",
       "      <td>CIS New Year Gift Lottery</td>\n",
       "      <td>CIS</td>\n",
       "      <td>2020-12-30</td>\n",
       "      <td>2021-01-07</td>\n",
       "    </tr>\n",
       "  </tbody>\n",
       "</table>\n",
       "</div>"
      ],
      "text/plain": [
       "                         name        regions   start_dt  finish_dt\n",
       "12   Christmas&New Year Promo  EU, N.America 2020-12-25 2021-01-03\n",
       "13  CIS New Year Gift Lottery            CIS 2020-12-30 2021-01-07"
      ]
     },
     "execution_count": 88,
     "metadata": {},
     "output_type": "execute_result"
    }
   ],
   "source": [
    "ab_project_marketing_events[(ab_project_marketing_events['start_dt'] >= final_ab_events['event_dt'].min()) & \n",
    "                            (ab_project_marketing_events['start_dt'] <= final_ab_events['event_dt'].max())]"
   ]
  },
  {
   "cell_type": "markdown",
   "metadata": {},
   "source": [
    "Таким образом на преиод исследования проходили 2 акции, Christmas&New Year Promo и CIS New Year Gift Lottery, которые могли существенно повлиять на результаты исследования, однако, так как только Christmas&New Year Promo проходил в EU, a у нас аудитория только из EU то влияние оказывало только данная акция."
   ]
  },
  {
   "cell_type": "markdown",
   "metadata": {},
   "source": [
    "На данном этапе сделаны следующие выводы: \n",
    "* в данных имеются 2 теста, а именно: 'recommender_system_test' и 'interface_eu_test'  \n",
    "*  имеются 2 тестируемые группы А и В  \n",
    "* Дата запуска соответствует ТЗ - 2020-12-07  \n",
    "* Дата остановки теста не соответствует ТЗ и равна 2020-12-30 23:36:33  \n",
    "* Дата остановка работы набора новых пользователей соответствует ТЗ и равно 2020-12-21 00:00:00  \n",
    "* процент пользователелей из региона EU отобранных для теста, равны 15% новых пользователей из региона EU за период отбора новых пользователей с 2020-12-07 по 2020-12-21  \n",
    "* количество тестируемых пользователей не соответствует ТЗ и равно 2594  \n",
    "* на преиод исследования проходили 2 акции, Christmas&New Year Promo и CIS New Year Gift Lottery, однако, так как только Christmas&New Year Promo проходил в EU, a у нас аудитория только из EU то влияние оказывало только данная акция"
   ]
  },
  {
   "cell_type": "markdown",
   "metadata": {},
   "source": [
    "Выявим пользователей, которые не совершавшие событий в системе."
   ]
  },
  {
   "cell_type": "code",
   "execution_count": 89,
   "metadata": {},
   "outputs": [],
   "source": [
    "no_do = final_ab_participants.merge(final_ab_events, on='user_id') #Оставим события тестируемых пользователей"
   ]
  },
  {
   "cell_type": "code",
   "execution_count": 90,
   "metadata": {},
   "outputs": [
    {
     "data": {
      "text/html": [
       "<div>\n",
       "<style scoped>\n",
       "    .dataframe tbody tr th:only-of-type {\n",
       "        vertical-align: middle;\n",
       "    }\n",
       "\n",
       "    .dataframe tbody tr th {\n",
       "        vertical-align: top;\n",
       "    }\n",
       "\n",
       "    .dataframe thead th {\n",
       "        text-align: right;\n",
       "    }\n",
       "</style>\n",
       "<table border=\"1\" class=\"dataframe\">\n",
       "  <thead>\n",
       "    <tr style=\"text-align: right;\">\n",
       "      <th></th>\n",
       "      <th>user_id</th>\n",
       "      <th>group</th>\n",
       "      <th>ab_test</th>\n",
       "      <th>event_dt</th>\n",
       "      <th>event_name</th>\n",
       "      <th>details</th>\n",
       "    </tr>\n",
       "  </thead>\n",
       "  <tbody>\n",
       "    <tr>\n",
       "      <th>0</th>\n",
       "      <td>D1ABA3E2887B6A73</td>\n",
       "      <td>A</td>\n",
       "      <td>recommender_system_test</td>\n",
       "      <td>2020-12-07 14:43:27</td>\n",
       "      <td>purchase</td>\n",
       "      <td>99.99</td>\n",
       "    </tr>\n",
       "    <tr>\n",
       "      <th>1</th>\n",
       "      <td>D1ABA3E2887B6A73</td>\n",
       "      <td>A</td>\n",
       "      <td>recommender_system_test</td>\n",
       "      <td>2020-12-25 00:04:56</td>\n",
       "      <td>purchase</td>\n",
       "      <td>4.99</td>\n",
       "    </tr>\n",
       "    <tr>\n",
       "      <th>2</th>\n",
       "      <td>D1ABA3E2887B6A73</td>\n",
       "      <td>A</td>\n",
       "      <td>recommender_system_test</td>\n",
       "      <td>2020-12-07 14:43:29</td>\n",
       "      <td>product_cart</td>\n",
       "      <td>0.00</td>\n",
       "    </tr>\n",
       "    <tr>\n",
       "      <th>3</th>\n",
       "      <td>D1ABA3E2887B6A73</td>\n",
       "      <td>A</td>\n",
       "      <td>recommender_system_test</td>\n",
       "      <td>2020-12-25 00:04:57</td>\n",
       "      <td>product_cart</td>\n",
       "      <td>0.00</td>\n",
       "    </tr>\n",
       "    <tr>\n",
       "      <th>4</th>\n",
       "      <td>D1ABA3E2887B6A73</td>\n",
       "      <td>A</td>\n",
       "      <td>recommender_system_test</td>\n",
       "      <td>2020-12-07 14:43:27</td>\n",
       "      <td>product_page</td>\n",
       "      <td>0.00</td>\n",
       "    </tr>\n",
       "  </tbody>\n",
       "</table>\n",
       "</div>"
      ],
      "text/plain": [
       "            user_id group                  ab_test            event_dt  \\\n",
       "0  D1ABA3E2887B6A73     A  recommender_system_test 2020-12-07 14:43:27   \n",
       "1  D1ABA3E2887B6A73     A  recommender_system_test 2020-12-25 00:04:56   \n",
       "2  D1ABA3E2887B6A73     A  recommender_system_test 2020-12-07 14:43:29   \n",
       "3  D1ABA3E2887B6A73     A  recommender_system_test 2020-12-25 00:04:57   \n",
       "4  D1ABA3E2887B6A73     A  recommender_system_test 2020-12-07 14:43:27   \n",
       "\n",
       "     event_name  details  \n",
       "0      purchase    99.99  \n",
       "1      purchase     4.99  \n",
       "2  product_cart     0.00  \n",
       "3  product_cart     0.00  \n",
       "4  product_page     0.00  "
      ]
     },
     "execution_count": 90,
     "metadata": {},
     "output_type": "execute_result"
    }
   ],
   "source": [
    "no_do.head()"
   ]
  },
  {
   "cell_type": "code",
   "execution_count": 91,
   "metadata": {},
   "outputs": [
    {
     "name": "stdout",
     "output_type": "stream",
     "text": [
      "<class 'pandas.core.frame.DataFrame'>\n",
      "Int64Index: 106625 entries, 0 to 106624\n",
      "Data columns (total 6 columns):\n",
      " #   Column      Non-Null Count   Dtype         \n",
      "---  ------      --------------   -----         \n",
      " 0   user_id     106625 non-null  object        \n",
      " 1   group       106625 non-null  object        \n",
      " 2   ab_test     106625 non-null  object        \n",
      " 3   event_dt    106625 non-null  datetime64[ns]\n",
      " 4   event_name  106625 non-null  object        \n",
      " 5   details     106625 non-null  float64       \n",
      "dtypes: datetime64[ns](1), float64(1), object(4)\n",
      "memory usage: 5.7+ MB\n"
     ]
    }
   ],
   "source": [
    "no_do.info()"
   ]
  },
  {
   "cell_type": "code",
   "execution_count": 92,
   "metadata": {},
   "outputs": [
    {
     "data": {
      "text/plain": [
       "13638"
      ]
     },
     "execution_count": 92,
     "metadata": {},
     "output_type": "execute_result"
    }
   ],
   "source": [
    "no_do['user_id'].nunique() "
   ]
  },
  {
   "cell_type": "code",
   "execution_count": 93,
   "metadata": {},
   "outputs": [],
   "source": [
    "event_name_id = no_do['user_id'].tolist() #Сохраним id тестируемых пользователей, которые совершили события"
   ]
  },
  {
   "cell_type": "code",
   "execution_count": 94,
   "metadata": {},
   "outputs": [],
   "source": [
    "final_ab_participants_no_event_name = final_ab_participants.query('user_id != @event_name_id').reset_index(drop=True)\n",
    "# Оставим информацию о тестируемых пользователях, которые совершали действия"
   ]
  },
  {
   "cell_type": "code",
   "execution_count": 95,
   "metadata": {},
   "outputs": [
    {
     "name": "stdout",
     "output_type": "stream",
     "text": [
      "<class 'pandas.core.frame.DataFrame'>\n",
      "RangeIndex: 3743 entries, 0 to 3742\n",
      "Data columns (total 3 columns):\n",
      " #   Column   Non-Null Count  Dtype \n",
      "---  ------   --------------  ----- \n",
      " 0   user_id  3743 non-null   object\n",
      " 1   group    3743 non-null   object\n",
      " 2   ab_test  3743 non-null   object\n",
      "dtypes: object(3)\n",
      "memory usage: 87.9+ KB\n"
     ]
    }
   ],
   "source": [
    "final_ab_participants_no_event_name.info()"
   ]
  },
  {
   "cell_type": "code",
   "execution_count": 96,
   "metadata": {},
   "outputs": [],
   "source": [
    "final_ab_participants_no_event_name = final_ab_participants_no_event_name.query('ab_test == \"recommender_system_test\"')\n",
    "# Оставим толко пользователей с нужным нам тестом"
   ]
  },
  {
   "cell_type": "code",
   "execution_count": 97,
   "metadata": {},
   "outputs": [
    {
     "name": "stdout",
     "output_type": "stream",
     "text": [
      "<class 'pandas.core.frame.DataFrame'>\n",
      "Int64Index: 3026 entries, 0 to 3025\n",
      "Data columns (total 3 columns):\n",
      " #   Column   Non-Null Count  Dtype \n",
      "---  ------   --------------  ----- \n",
      " 0   user_id  3026 non-null   object\n",
      " 1   group    3026 non-null   object\n",
      " 2   ab_test  3026 non-null   object\n",
      "dtypes: object(3)\n",
      "memory usage: 94.6+ KB\n"
     ]
    }
   ],
   "source": [
    "final_ab_participants_no_event_name.info()"
   ]
  },
  {
   "cell_type": "code",
   "execution_count": 98,
   "metadata": {},
   "outputs": [
    {
     "data": {
      "text/plain": [
       "3026"
      ]
     },
     "execution_count": 98,
     "metadata": {},
     "output_type": "execute_result"
    }
   ],
   "source": [
    "final_ab_participants_no_event_name['user_id'].nunique()"
   ]
  },
  {
   "cell_type": "markdown",
   "metadata": {},
   "source": [
    "Количество уникальных пользователей не совершивших ни одного действия 3026."
   ]
  },
  {
   "cell_type": "code",
   "execution_count": 99,
   "metadata": {},
   "outputs": [
    {
     "data": {
      "text/plain": [
       "B    1949\n",
       "A    1077\n",
       "Name: group, dtype: int64"
      ]
     },
     "execution_count": 99,
     "metadata": {},
     "output_type": "execute_result"
    }
   ],
   "source": [
    "final_ab_participants_no_event_name['group'].value_counts()"
   ]
  },
  {
   "cell_type": "markdown",
   "metadata": {},
   "source": [
    "Как видим, пользователи, не совершавших действий в группе В - 1949, в группе А - 1077."
   ]
  },
  {
   "cell_type": "markdown",
   "metadata": {},
   "source": [
    "Определим, какую долю составляют данные пользователи от всех пользователей принявших участие в тесте recommender_system_test"
   ]
  },
  {
   "cell_type": "code",
   "execution_count": 100,
   "metadata": {},
   "outputs": [],
   "source": [
    "recommender = final_ab_participants.query('ab_test == \"recommender_system_test\"')"
   ]
  },
  {
   "cell_type": "code",
   "execution_count": 101,
   "metadata": {},
   "outputs": [
    {
     "data": {
      "text/plain": [
       "45.157439188180874"
      ]
     },
     "execution_count": 101,
     "metadata": {},
     "output_type": "execute_result"
    }
   ],
   "source": [
    "final_ab_participants_no_event_name['user_id'].nunique()/recommender['user_id'].nunique()*100"
   ]
  },
  {
   "cell_type": "markdown",
   "metadata": {},
   "source": [
    "Как видим, количество пользователей в тесте recommender_system_test не совершивших ни одного действия очень велико примерно 45% от общего количества участников теста recommender_system_test без учета пересечений между тестами и регионов пользователей. Большое количество пользователей теряется уже на этапе регистрации. Так же, можно сказать, что, потеряв такое количество тестируемых пользователей сразу на начальном этапе, может сильно сказаться на результатах теста, что в свою очередб является аргументом для его перезапуска."
   ]
  },
  {
   "cell_type": "markdown",
   "metadata": {},
   "source": [
    "Узнаем, когда они были зарегестрированны и из каких они регионов."
   ]
  },
  {
   "cell_type": "code",
   "execution_count": 102,
   "metadata": {},
   "outputs": [],
   "source": [
    "id_no_events = final_ab_participants_no_event_name['user_id'].tolist()"
   ]
  },
  {
   "cell_type": "code",
   "execution_count": 103,
   "metadata": {},
   "outputs": [],
   "source": [
    "final_ab_new_users_no_events = final_ab_new_users.query('user_id == @id_no_events')"
   ]
  },
  {
   "cell_type": "code",
   "execution_count": 104,
   "metadata": {},
   "outputs": [
    {
     "data": {
      "text/plain": [
       "EU           2870\n",
       "N.America     104\n",
       "APAC           27\n",
       "CIS            25\n",
       "Name: region, dtype: int64"
      ]
     },
     "execution_count": 104,
     "metadata": {},
     "output_type": "execute_result"
    }
   ],
   "source": [
    "final_ab_new_users_no_events['region'].value_counts() #Распределение по регионам"
   ]
  },
  {
   "cell_type": "markdown",
   "metadata": {},
   "source": [
    "Подавляющее большинство клиентов, которые зарегестрировались и не совершали событий из региона EU"
   ]
  },
  {
   "cell_type": "code",
   "execution_count": 105,
   "metadata": {},
   "outputs": [
    {
     "data": {
      "image/png": "[encoded data removed]"
     },
     "metadata": {},
     "output_type": "display_data"
    }
   ],
   "source": [
    "df = px.data.stocks()\n",
    "fig = px.histogram(final_ab_new_users_no_events, x=\"first_date\", title='Распределение регистраций по дням')\n",
    "fig.update_layout(bargap=0.2)\n",
    "fig.show()"
   ]
  },
  {
   "cell_type": "markdown",
   "metadata": {},
   "source": [
    "На данном этапе были сделаны следующие выводы:  \n",
    "* в данных имеются 2 теста, а именно: 'recommender_system_test' и 'interface_eu_test'  \n",
    "*  имеются 2 тестируемые группы А и В  \n",
    "* Дата запуска соответствует ТЗ - 2020-12-07  \n",
    "* Дата остановки теста не соответствует ТЗ и равна 2020-12-30 23:36:33  \n",
    "* Дата остановка работы набора новых пользователей соответствует ТЗ и равно 2020-12-21 00:00:00  \n",
    "* процент пользователелей из региона EU отобранных для теста, равны 15% новых пользователей из региона EU за период отбора новых пользователей с 2020-12-07 по 2020-12-21  \n",
    "* количество тестируемых пользователей не соответствует ТЗ и равно 2594  \n",
    "* на преиод исследования проходили 2 акции, Christmas&New Year Promo и CIS New Year Gift Lottery, однако, так как только Christmas&New Year Promo проходил в EU, a у нас аудитория только из EU то влияние оказывало только данная акция\n",
    "* Количество уникальных пользователей не совершивших ни одного действия 3026\n",
    "* Как видим, пользователи, не совершавших действий в группе В - 1949, в группе А - 1077\n",
    "* количество пользователей в тесте recommender_system_test не совершивших ни одного действия очень велико примерно 45% от общего количества участников теста recommender_system_test без учета пересечений между тестами и регионов пользователей. Большое количество пользователей теряется уже на этапе регистрации. Так же, можно сказать, что, потеряв такое количество тестируемых пользователей сразу на начальном этапе, может сильно сказаться на результатах теста, что в свою очередб является аргументом для его перезапуска\n",
    "* подавляющее большинство клиентов, которые зарегестрировались и не совершали событий из региона EU"
   ]
  },
  {
   "cell_type": "markdown",
   "metadata": {},
   "source": [
    "## Проведем исследователский анализ данных."
   ]
  },
  {
   "cell_type": "markdown",
   "metadata": {},
   "source": [
    "Узнаем как распределено количество событий на пользователя в выборках."
   ]
  },
  {
   "cell_type": "markdown",
   "metadata": {},
   "source": [
    "Сохраним в переменных group_a и group_b набор набор данных из обоих групп."
   ]
  },
  {
   "cell_type": "code",
   "execution_count": 106,
   "metadata": {},
   "outputs": [],
   "source": [
    "id_xz = final_ab_events_xz['user_id'].tolist()"
   ]
  },
  {
   "cell_type": "code",
   "execution_count": 107,
   "metadata": {},
   "outputs": [],
   "source": [
    "final_ab_participants_xz = final_ab_events.query('user_id == @id_xz').reset_index(drop=True)"
   ]
  },
  {
   "cell_type": "code",
   "execution_count": 108,
   "metadata": {},
   "outputs": [
    {
     "data": {
      "text/html": [
       "<div>\n",
       "<style scoped>\n",
       "    .dataframe tbody tr th:only-of-type {\n",
       "        vertical-align: middle;\n",
       "    }\n",
       "\n",
       "    .dataframe tbody tr th {\n",
       "        vertical-align: top;\n",
       "    }\n",
       "\n",
       "    .dataframe thead th {\n",
       "        text-align: right;\n",
       "    }\n",
       "</style>\n",
       "<table border=\"1\" class=\"dataframe\">\n",
       "  <thead>\n",
       "    <tr style=\"text-align: right;\">\n",
       "      <th></th>\n",
       "      <th>user_id</th>\n",
       "      <th>event_dt</th>\n",
       "      <th>event_name</th>\n",
       "      <th>details</th>\n",
       "    </tr>\n",
       "  </thead>\n",
       "  <tbody>\n",
       "    <tr>\n",
       "      <th>0</th>\n",
       "      <td>831887FE7F2D6CBA</td>\n",
       "      <td>2020-12-07 06:50:29</td>\n",
       "      <td>purchase</td>\n",
       "      <td>4.99</td>\n",
       "    </tr>\n",
       "    <tr>\n",
       "      <th>1</th>\n",
       "      <td>3C5DD0288AC4FE23</td>\n",
       "      <td>2020-12-07 19:42:40</td>\n",
       "      <td>purchase</td>\n",
       "      <td>4.99</td>\n",
       "    </tr>\n",
       "    <tr>\n",
       "      <th>2</th>\n",
       "      <td>49EA242586C87836</td>\n",
       "      <td>2020-12-07 06:31:24</td>\n",
       "      <td>purchase</td>\n",
       "      <td>99.99</td>\n",
       "    </tr>\n",
       "    <tr>\n",
       "      <th>3</th>\n",
       "      <td>A640F31CAC7823A6</td>\n",
       "      <td>2020-12-07 18:48:26</td>\n",
       "      <td>purchase</td>\n",
       "      <td>4.99</td>\n",
       "    </tr>\n",
       "    <tr>\n",
       "      <th>4</th>\n",
       "      <td>A9908F62C41613A8</td>\n",
       "      <td>2020-12-07 11:26:47</td>\n",
       "      <td>purchase</td>\n",
       "      <td>9.99</td>\n",
       "    </tr>\n",
       "  </tbody>\n",
       "</table>\n",
       "</div>"
      ],
      "text/plain": [
       "            user_id            event_dt event_name  details\n",
       "0  831887FE7F2D6CBA 2020-12-07 06:50:29   purchase     4.99\n",
       "1  3C5DD0288AC4FE23 2020-12-07 19:42:40   purchase     4.99\n",
       "2  49EA242586C87836 2020-12-07 06:31:24   purchase    99.99\n",
       "3  A640F31CAC7823A6 2020-12-07 18:48:26   purchase     4.99\n",
       "4  A9908F62C41613A8 2020-12-07 11:26:47   purchase     9.99"
      ]
     },
     "execution_count": 108,
     "metadata": {},
     "output_type": "execute_result"
    }
   ],
   "source": [
    "final_ab_participants_xz.head()"
   ]
  },
  {
   "cell_type": "code",
   "execution_count": 109,
   "metadata": {},
   "outputs": [
    {
     "name": "stdout",
     "output_type": "stream",
     "text": [
      "<class 'pandas.core.frame.DataFrame'>\n",
      "RangeIndex: 17526 entries, 0 to 17525\n",
      "Data columns (total 4 columns):\n",
      " #   Column      Non-Null Count  Dtype         \n",
      "---  ------      --------------  -----         \n",
      " 0   user_id     17526 non-null  object        \n",
      " 1   event_dt    17526 non-null  datetime64[ns]\n",
      " 2   event_name  17526 non-null  object        \n",
      " 3   details     17526 non-null  float64       \n",
      "dtypes: datetime64[ns](1), float64(1), object(2)\n",
      "memory usage: 547.8+ KB\n"
     ]
    }
   ],
   "source": [
    "final_ab_participants_xz.info()"
   ]
  },
  {
   "cell_type": "code",
   "execution_count": 110,
   "metadata": {},
   "outputs": [],
   "source": [
    "final_ab_participants_xz_a_b = final_ab_participants_xz.merge(final_ab_participants, on='user_id')"
   ]
  },
  {
   "cell_type": "code",
   "execution_count": 111,
   "metadata": {},
   "outputs": [
    {
     "data": {
      "text/html": [
       "<div>\n",
       "<style scoped>\n",
       "    .dataframe tbody tr th:only-of-type {\n",
       "        vertical-align: middle;\n",
       "    }\n",
       "\n",
       "    .dataframe tbody tr th {\n",
       "        vertical-align: top;\n",
       "    }\n",
       "\n",
       "    .dataframe thead th {\n",
       "        text-align: right;\n",
       "    }\n",
       "</style>\n",
       "<table border=\"1\" class=\"dataframe\">\n",
       "  <thead>\n",
       "    <tr style=\"text-align: right;\">\n",
       "      <th></th>\n",
       "      <th>user_id</th>\n",
       "      <th>event_dt</th>\n",
       "      <th>event_name</th>\n",
       "      <th>details</th>\n",
       "      <th>group</th>\n",
       "      <th>ab_test</th>\n",
       "    </tr>\n",
       "  </thead>\n",
       "  <tbody>\n",
       "    <tr>\n",
       "      <th>0</th>\n",
       "      <td>831887FE7F2D6CBA</td>\n",
       "      <td>2020-12-07 06:50:29</td>\n",
       "      <td>purchase</td>\n",
       "      <td>4.99</td>\n",
       "      <td>A</td>\n",
       "      <td>recommender_system_test</td>\n",
       "    </tr>\n",
       "    <tr>\n",
       "      <th>1</th>\n",
       "      <td>831887FE7F2D6CBA</td>\n",
       "      <td>2020-12-09 02:19:17</td>\n",
       "      <td>purchase</td>\n",
       "      <td>99.99</td>\n",
       "      <td>A</td>\n",
       "      <td>recommender_system_test</td>\n",
       "    </tr>\n",
       "    <tr>\n",
       "      <th>2</th>\n",
       "      <td>831887FE7F2D6CBA</td>\n",
       "      <td>2020-12-07 06:50:30</td>\n",
       "      <td>product_cart</td>\n",
       "      <td>0.00</td>\n",
       "      <td>A</td>\n",
       "      <td>recommender_system_test</td>\n",
       "    </tr>\n",
       "    <tr>\n",
       "      <th>3</th>\n",
       "      <td>831887FE7F2D6CBA</td>\n",
       "      <td>2020-12-08 10:52:27</td>\n",
       "      <td>product_cart</td>\n",
       "      <td>0.00</td>\n",
       "      <td>A</td>\n",
       "      <td>recommender_system_test</td>\n",
       "    </tr>\n",
       "    <tr>\n",
       "      <th>4</th>\n",
       "      <td>831887FE7F2D6CBA</td>\n",
       "      <td>2020-12-09 02:19:17</td>\n",
       "      <td>product_cart</td>\n",
       "      <td>0.00</td>\n",
       "      <td>A</td>\n",
       "      <td>recommender_system_test</td>\n",
       "    </tr>\n",
       "  </tbody>\n",
       "</table>\n",
       "</div>"
      ],
      "text/plain": [
       "            user_id            event_dt    event_name  details group  \\\n",
       "0  831887FE7F2D6CBA 2020-12-07 06:50:29      purchase     4.99     A   \n",
       "1  831887FE7F2D6CBA 2020-12-09 02:19:17      purchase    99.99     A   \n",
       "2  831887FE7F2D6CBA 2020-12-07 06:50:30  product_cart     0.00     A   \n",
       "3  831887FE7F2D6CBA 2020-12-08 10:52:27  product_cart     0.00     A   \n",
       "4  831887FE7F2D6CBA 2020-12-09 02:19:17  product_cart     0.00     A   \n",
       "\n",
       "                   ab_test  \n",
       "0  recommender_system_test  \n",
       "1  recommender_system_test  \n",
       "2  recommender_system_test  \n",
       "3  recommender_system_test  \n",
       "4  recommender_system_test  "
      ]
     },
     "execution_count": 111,
     "metadata": {},
     "output_type": "execute_result"
    }
   ],
   "source": [
    "final_ab_participants_xz_a_b.head()"
   ]
  },
  {
   "cell_type": "code",
   "execution_count": 112,
   "metadata": {},
   "outputs": [],
   "source": [
    "group_a = final_ab_participants_xz_a_b.query('group == \"A\"').reset_index(drop=True)"
   ]
  },
  {
   "cell_type": "code",
   "execution_count": 113,
   "metadata": {},
   "outputs": [],
   "source": [
    "group_b = final_ab_participants_xz_a_b.query('group == \"B\"').reset_index(drop=True)"
   ]
  },
  {
   "cell_type": "markdown",
   "metadata": {},
   "source": [
    "Для точного расчета нам необходимо получить операции выполняемые каждым пользователем групп за 14 дней. Расчитаем сначала для группы А."
   ]
  },
  {
   "cell_type": "code",
   "execution_count": 114,
   "metadata": {},
   "outputs": [
    {
     "data": {
      "text/html": [
       "<div>\n",
       "<style scoped>\n",
       "    .dataframe tbody tr th:only-of-type {\n",
       "        vertical-align: middle;\n",
       "    }\n",
       "\n",
       "    .dataframe tbody tr th {\n",
       "        vertical-align: top;\n",
       "    }\n",
       "\n",
       "    .dataframe thead th {\n",
       "        text-align: right;\n",
       "    }\n",
       "</style>\n",
       "<table border=\"1\" class=\"dataframe\">\n",
       "  <thead>\n",
       "    <tr style=\"text-align: right;\">\n",
       "      <th></th>\n",
       "      <th>user_id</th>\n",
       "      <th>event_dt</th>\n",
       "      <th>event_name</th>\n",
       "      <th>details</th>\n",
       "      <th>group</th>\n",
       "      <th>ab_test</th>\n",
       "    </tr>\n",
       "  </thead>\n",
       "  <tbody>\n",
       "    <tr>\n",
       "      <th>0</th>\n",
       "      <td>831887FE7F2D6CBA</td>\n",
       "      <td>2020-12-07 06:50:29</td>\n",
       "      <td>purchase</td>\n",
       "      <td>4.99</td>\n",
       "      <td>A</td>\n",
       "      <td>recommender_system_test</td>\n",
       "    </tr>\n",
       "    <tr>\n",
       "      <th>1</th>\n",
       "      <td>831887FE7F2D6CBA</td>\n",
       "      <td>2020-12-09 02:19:17</td>\n",
       "      <td>purchase</td>\n",
       "      <td>99.99</td>\n",
       "      <td>A</td>\n",
       "      <td>recommender_system_test</td>\n",
       "    </tr>\n",
       "    <tr>\n",
       "      <th>2</th>\n",
       "      <td>831887FE7F2D6CBA</td>\n",
       "      <td>2020-12-07 06:50:30</td>\n",
       "      <td>product_cart</td>\n",
       "      <td>0.00</td>\n",
       "      <td>A</td>\n",
       "      <td>recommender_system_test</td>\n",
       "    </tr>\n",
       "    <tr>\n",
       "      <th>3</th>\n",
       "      <td>831887FE7F2D6CBA</td>\n",
       "      <td>2020-12-08 10:52:27</td>\n",
       "      <td>product_cart</td>\n",
       "      <td>0.00</td>\n",
       "      <td>A</td>\n",
       "      <td>recommender_system_test</td>\n",
       "    </tr>\n",
       "    <tr>\n",
       "      <th>4</th>\n",
       "      <td>831887FE7F2D6CBA</td>\n",
       "      <td>2020-12-09 02:19:17</td>\n",
       "      <td>product_cart</td>\n",
       "      <td>0.00</td>\n",
       "      <td>A</td>\n",
       "      <td>recommender_system_test</td>\n",
       "    </tr>\n",
       "    <tr>\n",
       "      <th>...</th>\n",
       "      <td>...</td>\n",
       "      <td>...</td>\n",
       "      <td>...</td>\n",
       "      <td>...</td>\n",
       "      <td>...</td>\n",
       "      <td>...</td>\n",
       "    </tr>\n",
       "    <tr>\n",
       "      <th>13737</th>\n",
       "      <td>64597B30278462F5</td>\n",
       "      <td>2020-12-23 14:14:46</td>\n",
       "      <td>login</td>\n",
       "      <td>0.00</td>\n",
       "      <td>A</td>\n",
       "      <td>recommender_system_test</td>\n",
       "    </tr>\n",
       "    <tr>\n",
       "      <th>13738</th>\n",
       "      <td>1484BBF124DB1B18</td>\n",
       "      <td>2020-12-21 17:51:44</td>\n",
       "      <td>login</td>\n",
       "      <td>0.00</td>\n",
       "      <td>A</td>\n",
       "      <td>recommender_system_test</td>\n",
       "    </tr>\n",
       "    <tr>\n",
       "      <th>13739</th>\n",
       "      <td>1484BBF124DB1B18</td>\n",
       "      <td>2020-12-22 16:02:18</td>\n",
       "      <td>login</td>\n",
       "      <td>0.00</td>\n",
       "      <td>A</td>\n",
       "      <td>recommender_system_test</td>\n",
       "    </tr>\n",
       "    <tr>\n",
       "      <th>13740</th>\n",
       "      <td>1484BBF124DB1B18</td>\n",
       "      <td>2020-12-27 10:53:34</td>\n",
       "      <td>login</td>\n",
       "      <td>0.00</td>\n",
       "      <td>A</td>\n",
       "      <td>recommender_system_test</td>\n",
       "    </tr>\n",
       "    <tr>\n",
       "      <th>13741</th>\n",
       "      <td>23DDD27AC3FEFA63</td>\n",
       "      <td>2020-12-21 02:51:45</td>\n",
       "      <td>login</td>\n",
       "      <td>0.00</td>\n",
       "      <td>A</td>\n",
       "      <td>recommender_system_test</td>\n",
       "    </tr>\n",
       "  </tbody>\n",
       "</table>\n",
       "<p>13742 rows × 6 columns</p>\n",
       "</div>"
      ],
      "text/plain": [
       "                user_id            event_dt    event_name  details group  \\\n",
       "0      831887FE7F2D6CBA 2020-12-07 06:50:29      purchase     4.99     A   \n",
       "1      831887FE7F2D6CBA 2020-12-09 02:19:17      purchase    99.99     A   \n",
       "2      831887FE7F2D6CBA 2020-12-07 06:50:30  product_cart     0.00     A   \n",
       "3      831887FE7F2D6CBA 2020-12-08 10:52:27  product_cart     0.00     A   \n",
       "4      831887FE7F2D6CBA 2020-12-09 02:19:17  product_cart     0.00     A   \n",
       "...                 ...                 ...           ...      ...   ...   \n",
       "13737  64597B30278462F5 2020-12-23 14:14:46         login     0.00     A   \n",
       "13738  1484BBF124DB1B18 2020-12-21 17:51:44         login     0.00     A   \n",
       "13739  1484BBF124DB1B18 2020-12-22 16:02:18         login     0.00     A   \n",
       "13740  1484BBF124DB1B18 2020-12-27 10:53:34         login     0.00     A   \n",
       "13741  23DDD27AC3FEFA63 2020-12-21 02:51:45         login     0.00     A   \n",
       "\n",
       "                       ab_test  \n",
       "0      recommender_system_test  \n",
       "1      recommender_system_test  \n",
       "2      recommender_system_test  \n",
       "3      recommender_system_test  \n",
       "4      recommender_system_test  \n",
       "...                        ...  \n",
       "13737  recommender_system_test  \n",
       "13738  recommender_system_test  \n",
       "13739  recommender_system_test  \n",
       "13740  recommender_system_test  \n",
       "13741  recommender_system_test  \n",
       "\n",
       "[13742 rows x 6 columns]"
      ]
     },
     "execution_count": 114,
     "metadata": {},
     "output_type": "execute_result"
    }
   ],
   "source": [
    "group_a"
   ]
  },
  {
   "cell_type": "code",
   "execution_count": 115,
   "metadata": {},
   "outputs": [],
   "source": [
    "events_a_count = group_a.groupby('user_id').agg({'event_name': 'count'}).reset_index()\n",
    "              "
   ]
  },
  {
   "cell_type": "code",
   "execution_count": 116,
   "metadata": {},
   "outputs": [
    {
     "data": {
      "text/html": [
       "<div>\n",
       "<style scoped>\n",
       "    .dataframe tbody tr th:only-of-type {\n",
       "        vertical-align: middle;\n",
       "    }\n",
       "\n",
       "    .dataframe tbody tr th {\n",
       "        vertical-align: top;\n",
       "    }\n",
       "\n",
       "    .dataframe thead th {\n",
       "        text-align: right;\n",
       "    }\n",
       "</style>\n",
       "<table border=\"1\" class=\"dataframe\">\n",
       "  <thead>\n",
       "    <tr style=\"text-align: right;\">\n",
       "      <th></th>\n",
       "      <th>user_id</th>\n",
       "      <th>event_name</th>\n",
       "    </tr>\n",
       "  </thead>\n",
       "  <tbody>\n",
       "    <tr>\n",
       "      <th>0</th>\n",
       "      <td>0010A1C096941592</td>\n",
       "      <td>12</td>\n",
       "    </tr>\n",
       "    <tr>\n",
       "      <th>1</th>\n",
       "      <td>003DF44D7589BBD4</td>\n",
       "      <td>15</td>\n",
       "    </tr>\n",
       "    <tr>\n",
       "      <th>2</th>\n",
       "      <td>00505E15A9D81546</td>\n",
       "      <td>5</td>\n",
       "    </tr>\n",
       "    <tr>\n",
       "      <th>3</th>\n",
       "      <td>006E3E4E232CE760</td>\n",
       "      <td>6</td>\n",
       "    </tr>\n",
       "    <tr>\n",
       "      <th>4</th>\n",
       "      <td>00A52DCF85F1BE03</td>\n",
       "      <td>2</td>\n",
       "    </tr>\n",
       "    <tr>\n",
       "      <th>...</th>\n",
       "      <td>...</td>\n",
       "      <td>...</td>\n",
       "    </tr>\n",
       "    <tr>\n",
       "      <th>1934</th>\n",
       "      <td>FF4456FBA59116E3</td>\n",
       "      <td>12</td>\n",
       "    </tr>\n",
       "    <tr>\n",
       "      <th>1935</th>\n",
       "      <td>FF5A1CD38F5DD996</td>\n",
       "      <td>10</td>\n",
       "    </tr>\n",
       "    <tr>\n",
       "      <th>1936</th>\n",
       "      <td>FF5B24BCE4387F86</td>\n",
       "      <td>9</td>\n",
       "    </tr>\n",
       "    <tr>\n",
       "      <th>1937</th>\n",
       "      <td>FF825C1D791989B5</td>\n",
       "      <td>8</td>\n",
       "    </tr>\n",
       "    <tr>\n",
       "      <th>1938</th>\n",
       "      <td>FFAE9489C76F352B</td>\n",
       "      <td>6</td>\n",
       "    </tr>\n",
       "  </tbody>\n",
       "</table>\n",
       "<p>1939 rows × 2 columns</p>\n",
       "</div>"
      ],
      "text/plain": [
       "               user_id  event_name\n",
       "0     0010A1C096941592          12\n",
       "1     003DF44D7589BBD4          15\n",
       "2     00505E15A9D81546           5\n",
       "3     006E3E4E232CE760           6\n",
       "4     00A52DCF85F1BE03           2\n",
       "...                ...         ...\n",
       "1934  FF4456FBA59116E3          12\n",
       "1935  FF5A1CD38F5DD996          10\n",
       "1936  FF5B24BCE4387F86           9\n",
       "1937  FF825C1D791989B5           8\n",
       "1938  FFAE9489C76F352B           6\n",
       "\n",
       "[1939 rows x 2 columns]"
      ]
     },
     "execution_count": 116,
     "metadata": {},
     "output_type": "execute_result"
    }
   ],
   "source": [
    "events_a_count"
   ]
  },
  {
   "cell_type": "markdown",
   "metadata": {},
   "source": [
    "Узнаем среднее количество действий на клиента для группы А."
   ]
  },
  {
   "cell_type": "code",
   "execution_count": 117,
   "metadata": {},
   "outputs": [
    {
     "data": {
      "text/plain": [
       "7"
      ]
     },
     "execution_count": 117,
     "metadata": {},
     "output_type": "execute_result"
    }
   ],
   "source": [
    "round(events_a_count['event_name'].mean())"
   ]
  },
  {
   "cell_type": "markdown",
   "metadata": {},
   "source": [
    "Среднее количество действий на пользователя в группу А примерно равно 7."
   ]
  },
  {
   "cell_type": "markdown",
   "metadata": {},
   "source": [
    "Узнаем медианное количество действий на клиента для группы А."
   ]
  },
  {
   "cell_type": "code",
   "execution_count": 118,
   "metadata": {},
   "outputs": [
    {
     "data": {
      "text/plain": [
       "6.0"
      ]
     },
     "execution_count": 118,
     "metadata": {},
     "output_type": "execute_result"
    }
   ],
   "source": [
    "events_a_count['event_name'].median()"
   ]
  },
  {
   "cell_type": "markdown",
   "metadata": {},
   "source": [
    "Медианное количество действий на пользователя в группу А равно 6."
   ]
  },
  {
   "cell_type": "markdown",
   "metadata": {},
   "source": [
    "Проделаем тоже самое для группы В."
   ]
  },
  {
   "cell_type": "code",
   "execution_count": 119,
   "metadata": {},
   "outputs": [],
   "source": [
    "events_b_count = (group_b.sort_values(by='user_id')\n",
    "        .groupby('user_id')\n",
    "        .agg({'event_name': 'count'})\n",
    "        .reset_index()\n",
    "              )"
   ]
  },
  {
   "cell_type": "code",
   "execution_count": 120,
   "metadata": {},
   "outputs": [
    {
     "data": {
      "text/html": [
       "<div>\n",
       "<style scoped>\n",
       "    .dataframe tbody tr th:only-of-type {\n",
       "        vertical-align: middle;\n",
       "    }\n",
       "\n",
       "    .dataframe tbody tr th {\n",
       "        vertical-align: top;\n",
       "    }\n",
       "\n",
       "    .dataframe thead th {\n",
       "        text-align: right;\n",
       "    }\n",
       "</style>\n",
       "<table border=\"1\" class=\"dataframe\">\n",
       "  <thead>\n",
       "    <tr style=\"text-align: right;\">\n",
       "      <th></th>\n",
       "      <th>user_id</th>\n",
       "      <th>event_name</th>\n",
       "    </tr>\n",
       "  </thead>\n",
       "  <tbody>\n",
       "    <tr>\n",
       "      <th>0</th>\n",
       "      <td>005E096DBD379BCF</td>\n",
       "      <td>4</td>\n",
       "    </tr>\n",
       "    <tr>\n",
       "      <th>1</th>\n",
       "      <td>015D1E3BB893349D</td>\n",
       "      <td>6</td>\n",
       "    </tr>\n",
       "    <tr>\n",
       "      <th>2</th>\n",
       "      <td>015FF3EC72C1F4F6</td>\n",
       "      <td>2</td>\n",
       "    </tr>\n",
       "    <tr>\n",
       "      <th>3</th>\n",
       "      <td>01B0B891CA513468</td>\n",
       "      <td>12</td>\n",
       "    </tr>\n",
       "    <tr>\n",
       "      <th>4</th>\n",
       "      <td>020F8E77125B9F7A</td>\n",
       "      <td>8</td>\n",
       "    </tr>\n",
       "    <tr>\n",
       "      <th>...</th>\n",
       "      <td>...</td>\n",
       "      <td>...</td>\n",
       "    </tr>\n",
       "    <tr>\n",
       "      <th>650</th>\n",
       "      <td>FD43AFAEA83A6A3F</td>\n",
       "      <td>6</td>\n",
       "    </tr>\n",
       "    <tr>\n",
       "      <th>651</th>\n",
       "      <td>FDF5D9D1B047FA31</td>\n",
       "      <td>6</td>\n",
       "    </tr>\n",
       "    <tr>\n",
       "      <th>652</th>\n",
       "      <td>FE244437A4224900</td>\n",
       "      <td>2</td>\n",
       "    </tr>\n",
       "    <tr>\n",
       "      <th>653</th>\n",
       "      <td>FE76759FE6BF8C68</td>\n",
       "      <td>20</td>\n",
       "    </tr>\n",
       "    <tr>\n",
       "      <th>654</th>\n",
       "      <td>FF8CF7057415EB29</td>\n",
       "      <td>4</td>\n",
       "    </tr>\n",
       "  </tbody>\n",
       "</table>\n",
       "<p>655 rows × 2 columns</p>\n",
       "</div>"
      ],
      "text/plain": [
       "              user_id  event_name\n",
       "0    005E096DBD379BCF           4\n",
       "1    015D1E3BB893349D           6\n",
       "2    015FF3EC72C1F4F6           2\n",
       "3    01B0B891CA513468          12\n",
       "4    020F8E77125B9F7A           8\n",
       "..                ...         ...\n",
       "650  FD43AFAEA83A6A3F           6\n",
       "651  FDF5D9D1B047FA31           6\n",
       "652  FE244437A4224900           2\n",
       "653  FE76759FE6BF8C68          20\n",
       "654  FF8CF7057415EB29           4\n",
       "\n",
       "[655 rows x 2 columns]"
      ]
     },
     "execution_count": 120,
     "metadata": {},
     "output_type": "execute_result"
    }
   ],
   "source": [
    "events_b_count"
   ]
  },
  {
   "cell_type": "markdown",
   "metadata": {},
   "source": [
    "Узнаем среднее количество действий на клиента для группы В."
   ]
  },
  {
   "cell_type": "code",
   "execution_count": 121,
   "metadata": {},
   "outputs": [
    {
     "data": {
      "text/plain": [
       "6"
      ]
     },
     "execution_count": 121,
     "metadata": {},
     "output_type": "execute_result"
    }
   ],
   "source": [
    "round(events_b_count['event_name'].mean())"
   ]
  },
  {
   "cell_type": "markdown",
   "metadata": {},
   "source": [
    "Узнаем медианное количество действий на клиента для группы В."
   ]
  },
  {
   "cell_type": "code",
   "execution_count": 122,
   "metadata": {},
   "outputs": [
    {
     "data": {
      "text/plain": [
       "5.0"
      ]
     },
     "execution_count": 122,
     "metadata": {},
     "output_type": "execute_result"
    }
   ],
   "source": [
    "events_b_count['event_name'].median()"
   ]
  },
  {
   "cell_type": "markdown",
   "metadata": {},
   "source": [
    "Как видим, среднее значение событий на пользователя в группе А - 7, в группе В - 6. Медианное значение событий на пользователя в группе А - 6, в группе В - 5."
   ]
  },
  {
   "cell_type": "markdown",
   "metadata": {},
   "source": [
    "Узнаем, как распределились события в группах по дням."
   ]
  },
  {
   "cell_type": "code",
   "execution_count": 123,
   "metadata": {},
   "outputs": [
    {
     "data": {
      "text/html": [
       "<div>\n",
       "<style scoped>\n",
       "    .dataframe tbody tr th:only-of-type {\n",
       "        vertical-align: middle;\n",
       "    }\n",
       "\n",
       "    .dataframe tbody tr th {\n",
       "        vertical-align: top;\n",
       "    }\n",
       "\n",
       "    .dataframe thead th {\n",
       "        text-align: right;\n",
       "    }\n",
       "</style>\n",
       "<table border=\"1\" class=\"dataframe\">\n",
       "  <thead>\n",
       "    <tr style=\"text-align: right;\">\n",
       "      <th></th>\n",
       "      <th>user_id</th>\n",
       "      <th>event_dt</th>\n",
       "      <th>event_name</th>\n",
       "      <th>details</th>\n",
       "      <th>group</th>\n",
       "      <th>ab_test</th>\n",
       "    </tr>\n",
       "  </thead>\n",
       "  <tbody>\n",
       "    <tr>\n",
       "      <th>0</th>\n",
       "      <td>831887FE7F2D6CBA</td>\n",
       "      <td>2020-12-07 06:50:29</td>\n",
       "      <td>purchase</td>\n",
       "      <td>4.99</td>\n",
       "      <td>A</td>\n",
       "      <td>recommender_system_test</td>\n",
       "    </tr>\n",
       "    <tr>\n",
       "      <th>1</th>\n",
       "      <td>831887FE7F2D6CBA</td>\n",
       "      <td>2020-12-09 02:19:17</td>\n",
       "      <td>purchase</td>\n",
       "      <td>99.99</td>\n",
       "      <td>A</td>\n",
       "      <td>recommender_system_test</td>\n",
       "    </tr>\n",
       "    <tr>\n",
       "      <th>2</th>\n",
       "      <td>831887FE7F2D6CBA</td>\n",
       "      <td>2020-12-07 06:50:30</td>\n",
       "      <td>product_cart</td>\n",
       "      <td>0.00</td>\n",
       "      <td>A</td>\n",
       "      <td>recommender_system_test</td>\n",
       "    </tr>\n",
       "    <tr>\n",
       "      <th>3</th>\n",
       "      <td>831887FE7F2D6CBA</td>\n",
       "      <td>2020-12-08 10:52:27</td>\n",
       "      <td>product_cart</td>\n",
       "      <td>0.00</td>\n",
       "      <td>A</td>\n",
       "      <td>recommender_system_test</td>\n",
       "    </tr>\n",
       "    <tr>\n",
       "      <th>4</th>\n",
       "      <td>831887FE7F2D6CBA</td>\n",
       "      <td>2020-12-09 02:19:17</td>\n",
       "      <td>product_cart</td>\n",
       "      <td>0.00</td>\n",
       "      <td>A</td>\n",
       "      <td>recommender_system_test</td>\n",
       "    </tr>\n",
       "  </tbody>\n",
       "</table>\n",
       "</div>"
      ],
      "text/plain": [
       "            user_id            event_dt    event_name  details group  \\\n",
       "0  831887FE7F2D6CBA 2020-12-07 06:50:29      purchase     4.99     A   \n",
       "1  831887FE7F2D6CBA 2020-12-09 02:19:17      purchase    99.99     A   \n",
       "2  831887FE7F2D6CBA 2020-12-07 06:50:30  product_cart     0.00     A   \n",
       "3  831887FE7F2D6CBA 2020-12-08 10:52:27  product_cart     0.00     A   \n",
       "4  831887FE7F2D6CBA 2020-12-09 02:19:17  product_cart     0.00     A   \n",
       "\n",
       "                   ab_test  \n",
       "0  recommender_system_test  \n",
       "1  recommender_system_test  \n",
       "2  recommender_system_test  \n",
       "3  recommender_system_test  \n",
       "4  recommender_system_test  "
      ]
     },
     "execution_count": 123,
     "metadata": {},
     "output_type": "execute_result"
    }
   ],
   "source": [
    "group_a.head()"
   ]
  },
  {
   "cell_type": "code",
   "execution_count": 124,
   "metadata": {},
   "outputs": [],
   "source": [
    "group_a['date'] = pd.to_datetime(group_a['event_dt']).dt.date"
   ]
  },
  {
   "cell_type": "code",
   "execution_count": 125,
   "metadata": {},
   "outputs": [
    {
     "data": {
      "image/png": "[encoded data removed]"
     },
     "metadata": {},
     "output_type": "display_data"
    }
   ],
   "source": [
    "df = px.data.stocks()\n",
    "fig = px.histogram(group_a, x=\"date\", title='Распределение событий пользователей по дням в группе А')\n",
    "fig.update_layout(bargap=0.2)\n",
    "fig.show()"
   ]
  },
  {
   "cell_type": "markdown",
   "metadata": {},
   "source": [
    "Как видим, основной всплеск событий приходится на период с 14 по 21 декабря включительно, после чего идет спад. "
   ]
  },
  {
   "cell_type": "markdown",
   "metadata": {},
   "source": [
    "Посмотрим, как распределились события в группе В."
   ]
  },
  {
   "cell_type": "code",
   "execution_count": 126,
   "metadata": {},
   "outputs": [],
   "source": [
    "group_b['date'] = pd.to_datetime(group_b['event_dt']).dt.date"
   ]
  },
  {
   "cell_type": "code",
   "execution_count": 127,
   "metadata": {},
   "outputs": [
    {
     "data": {
      "image/png": "[encoded data removed]"
     },
     "metadata": {},
     "output_type": "display_data"
    }
   ],
   "source": [
    "df = px.data.stocks()\n",
    "fig = px.histogram(group_b, x=\"date\", title='Распределение событий пользователей по дням в группе B', nbins=25)\n",
    "fig.update_layout(bargap=0.2)\n",
    "fig.show()\n"
   ]
  },
  {
   "cell_type": "markdown",
   "metadata": {},
   "source": [
    "Как видим, основной всплеск событий приходится на период с 14 по 21 декабря включительно, после чего идет спад. "
   ]
  },
  {
   "cell_type": "markdown",
   "metadata": {},
   "source": [
    "Основной всплеск событий приходится на период с 14 по 21 декабря включительно в обеих группах, после чего идет спад."
   ]
  },
  {
   "cell_type": "markdown",
   "metadata": {},
   "source": [
    "Посмотрим, как менялась конверсия пользователей по событиям в воронке в выборках на разных этапах. Начнем с группы А."
   ]
  },
  {
   "cell_type": "code",
   "execution_count": 128,
   "metadata": {},
   "outputs": [
    {
     "data": {
      "text/html": [
       "<div>\n",
       "<style scoped>\n",
       "    .dataframe tbody tr th:only-of-type {\n",
       "        vertical-align: middle;\n",
       "    }\n",
       "\n",
       "    .dataframe tbody tr th {\n",
       "        vertical-align: top;\n",
       "    }\n",
       "\n",
       "    .dataframe thead th {\n",
       "        text-align: right;\n",
       "    }\n",
       "</style>\n",
       "<table border=\"1\" class=\"dataframe\">\n",
       "  <thead>\n",
       "    <tr style=\"text-align: right;\">\n",
       "      <th></th>\n",
       "      <th>user_id</th>\n",
       "      <th>event_dt</th>\n",
       "      <th>event_name</th>\n",
       "      <th>details</th>\n",
       "      <th>group</th>\n",
       "      <th>ab_test</th>\n",
       "      <th>date</th>\n",
       "    </tr>\n",
       "  </thead>\n",
       "  <tbody>\n",
       "    <tr>\n",
       "      <th>0</th>\n",
       "      <td>831887FE7F2D6CBA</td>\n",
       "      <td>2020-12-07 06:50:29</td>\n",
       "      <td>purchase</td>\n",
       "      <td>4.99</td>\n",
       "      <td>A</td>\n",
       "      <td>recommender_system_test</td>\n",
       "      <td>2020-12-07</td>\n",
       "    </tr>\n",
       "    <tr>\n",
       "      <th>1</th>\n",
       "      <td>831887FE7F2D6CBA</td>\n",
       "      <td>2020-12-09 02:19:17</td>\n",
       "      <td>purchase</td>\n",
       "      <td>99.99</td>\n",
       "      <td>A</td>\n",
       "      <td>recommender_system_test</td>\n",
       "      <td>2020-12-09</td>\n",
       "    </tr>\n",
       "    <tr>\n",
       "      <th>2</th>\n",
       "      <td>831887FE7F2D6CBA</td>\n",
       "      <td>2020-12-07 06:50:30</td>\n",
       "      <td>product_cart</td>\n",
       "      <td>0.00</td>\n",
       "      <td>A</td>\n",
       "      <td>recommender_system_test</td>\n",
       "      <td>2020-12-07</td>\n",
       "    </tr>\n",
       "    <tr>\n",
       "      <th>3</th>\n",
       "      <td>831887FE7F2D6CBA</td>\n",
       "      <td>2020-12-08 10:52:27</td>\n",
       "      <td>product_cart</td>\n",
       "      <td>0.00</td>\n",
       "      <td>A</td>\n",
       "      <td>recommender_system_test</td>\n",
       "      <td>2020-12-08</td>\n",
       "    </tr>\n",
       "    <tr>\n",
       "      <th>4</th>\n",
       "      <td>831887FE7F2D6CBA</td>\n",
       "      <td>2020-12-09 02:19:17</td>\n",
       "      <td>product_cart</td>\n",
       "      <td>0.00</td>\n",
       "      <td>A</td>\n",
       "      <td>recommender_system_test</td>\n",
       "      <td>2020-12-09</td>\n",
       "    </tr>\n",
       "  </tbody>\n",
       "</table>\n",
       "</div>"
      ],
      "text/plain": [
       "            user_id            event_dt    event_name  details group  \\\n",
       "0  831887FE7F2D6CBA 2020-12-07 06:50:29      purchase     4.99     A   \n",
       "1  831887FE7F2D6CBA 2020-12-09 02:19:17      purchase    99.99     A   \n",
       "2  831887FE7F2D6CBA 2020-12-07 06:50:30  product_cart     0.00     A   \n",
       "3  831887FE7F2D6CBA 2020-12-08 10:52:27  product_cart     0.00     A   \n",
       "4  831887FE7F2D6CBA 2020-12-09 02:19:17  product_cart     0.00     A   \n",
       "\n",
       "                   ab_test        date  \n",
       "0  recommender_system_test  2020-12-07  \n",
       "1  recommender_system_test  2020-12-09  \n",
       "2  recommender_system_test  2020-12-07  \n",
       "3  recommender_system_test  2020-12-08  \n",
       "4  recommender_system_test  2020-12-09  "
      ]
     },
     "execution_count": 128,
     "metadata": {},
     "output_type": "execute_result"
    }
   ],
   "source": [
    "group_a.head()"
   ]
  },
  {
   "cell_type": "code",
   "execution_count": 129,
   "metadata": {},
   "outputs": [],
   "source": [
    "count_id = group_a.groupby('event_name').agg({'user_id': 'nunique'})"
   ]
  },
  {
   "cell_type": "code",
   "execution_count": 130,
   "metadata": {},
   "outputs": [],
   "source": [
    "count_id = count_id.reset_index().sort_values(by='user_id', ascending=False).reset_index(drop=True)"
   ]
  },
  {
   "cell_type": "code",
   "execution_count": 131,
   "metadata": {},
   "outputs": [
    {
     "data": {
      "text/html": [
       "<div>\n",
       "<style scoped>\n",
       "    .dataframe tbody tr th:only-of-type {\n",
       "        vertical-align: middle;\n",
       "    }\n",
       "\n",
       "    .dataframe tbody tr th {\n",
       "        vertical-align: top;\n",
       "    }\n",
       "\n",
       "    .dataframe thead th {\n",
       "        text-align: right;\n",
       "    }\n",
       "</style>\n",
       "<table border=\"1\" class=\"dataframe\">\n",
       "  <thead>\n",
       "    <tr style=\"text-align: right;\">\n",
       "      <th></th>\n",
       "      <th>event_name</th>\n",
       "      <th>user_id</th>\n",
       "    </tr>\n",
       "  </thead>\n",
       "  <tbody>\n",
       "    <tr>\n",
       "      <th>0</th>\n",
       "      <td>login</td>\n",
       "      <td>1939</td>\n",
       "    </tr>\n",
       "    <tr>\n",
       "      <th>1</th>\n",
       "      <td>product_page</td>\n",
       "      <td>1265</td>\n",
       "    </tr>\n",
       "    <tr>\n",
       "      <th>2</th>\n",
       "      <td>purchase</td>\n",
       "      <td>613</td>\n",
       "    </tr>\n",
       "    <tr>\n",
       "      <th>3</th>\n",
       "      <td>product_cart</td>\n",
       "      <td>589</td>\n",
       "    </tr>\n",
       "  </tbody>\n",
       "</table>\n",
       "</div>"
      ],
      "text/plain": [
       "     event_name  user_id\n",
       "0         login     1939\n",
       "1  product_page     1265\n",
       "2      purchase      613\n",
       "3  product_cart      589"
      ]
     },
     "execution_count": 131,
     "metadata": {},
     "output_type": "execute_result"
    }
   ],
   "source": [
    "count_id"
   ]
  },
  {
   "cell_type": "markdown",
   "metadata": {},
   "source": [
    "Посчитаем, какая доля пользователей проходит на следующий шаг воронки."
   ]
  },
  {
   "cell_type": "code",
   "execution_count": 132,
   "metadata": {},
   "outputs": [],
   "source": [
    "count_id['last_percent'] = round(count_id['user_id']/\n",
    "                           count_id['user_id'].shift(1) * 100, 2)"
   ]
  },
  {
   "cell_type": "code",
   "execution_count": 133,
   "metadata": {},
   "outputs": [
    {
     "data": {
      "text/html": [
       "<div>\n",
       "<style scoped>\n",
       "    .dataframe tbody tr th:only-of-type {\n",
       "        vertical-align: middle;\n",
       "    }\n",
       "\n",
       "    .dataframe tbody tr th {\n",
       "        vertical-align: top;\n",
       "    }\n",
       "\n",
       "    .dataframe thead th {\n",
       "        text-align: right;\n",
       "    }\n",
       "</style>\n",
       "<table border=\"1\" class=\"dataframe\">\n",
       "  <thead>\n",
       "    <tr style=\"text-align: right;\">\n",
       "      <th></th>\n",
       "      <th>event_name</th>\n",
       "      <th>user_id</th>\n",
       "      <th>last_percent</th>\n",
       "    </tr>\n",
       "  </thead>\n",
       "  <tbody>\n",
       "    <tr>\n",
       "      <th>0</th>\n",
       "      <td>login</td>\n",
       "      <td>1939</td>\n",
       "      <td>NaN</td>\n",
       "    </tr>\n",
       "    <tr>\n",
       "      <th>1</th>\n",
       "      <td>product_page</td>\n",
       "      <td>1265</td>\n",
       "      <td>65.24</td>\n",
       "    </tr>\n",
       "    <tr>\n",
       "      <th>2</th>\n",
       "      <td>purchase</td>\n",
       "      <td>613</td>\n",
       "      <td>48.46</td>\n",
       "    </tr>\n",
       "    <tr>\n",
       "      <th>3</th>\n",
       "      <td>product_cart</td>\n",
       "      <td>589</td>\n",
       "      <td>96.08</td>\n",
       "    </tr>\n",
       "  </tbody>\n",
       "</table>\n",
       "</div>"
      ],
      "text/plain": [
       "     event_name  user_id  last_percent\n",
       "0         login     1939           NaN\n",
       "1  product_page     1265         65.24\n",
       "2      purchase      613         48.46\n",
       "3  product_cart      589         96.08"
      ]
     },
     "execution_count": 133,
     "metadata": {},
     "output_type": "execute_result"
    }
   ],
   "source": [
    "count_id"
   ]
  },
  {
   "cell_type": "markdown",
   "metadata": {},
   "source": [
    "Добавим конверсию относительно login"
   ]
  },
  {
   "cell_type": "code",
   "execution_count": 134,
   "metadata": {},
   "outputs": [],
   "source": [
    "count_id['login_percent'] = round(count_id['user_id']/count_id.loc[0, 'user_id'], 2)*100"
   ]
  },
  {
   "cell_type": "code",
   "execution_count": 135,
   "metadata": {},
   "outputs": [
    {
     "data": {
      "text/html": [
       "<div>\n",
       "<style scoped>\n",
       "    .dataframe tbody tr th:only-of-type {\n",
       "        vertical-align: middle;\n",
       "    }\n",
       "\n",
       "    .dataframe tbody tr th {\n",
       "        vertical-align: top;\n",
       "    }\n",
       "\n",
       "    .dataframe thead th {\n",
       "        text-align: right;\n",
       "    }\n",
       "</style>\n",
       "<table border=\"1\" class=\"dataframe\">\n",
       "  <thead>\n",
       "    <tr style=\"text-align: right;\">\n",
       "      <th></th>\n",
       "      <th>event_name</th>\n",
       "      <th>user_id</th>\n",
       "      <th>last_percent</th>\n",
       "      <th>login_percent</th>\n",
       "    </tr>\n",
       "  </thead>\n",
       "  <tbody>\n",
       "    <tr>\n",
       "      <th>0</th>\n",
       "      <td>login</td>\n",
       "      <td>1939</td>\n",
       "      <td>NaN</td>\n",
       "      <td>100.0</td>\n",
       "    </tr>\n",
       "    <tr>\n",
       "      <th>1</th>\n",
       "      <td>product_page</td>\n",
       "      <td>1265</td>\n",
       "      <td>65.24</td>\n",
       "      <td>65.0</td>\n",
       "    </tr>\n",
       "    <tr>\n",
       "      <th>2</th>\n",
       "      <td>product_cart</td>\n",
       "      <td>589</td>\n",
       "      <td>96.08</td>\n",
       "      <td>30.0</td>\n",
       "    </tr>\n",
       "    <tr>\n",
       "      <th>3</th>\n",
       "      <td>purchase</td>\n",
       "      <td>613</td>\n",
       "      <td>48.46</td>\n",
       "      <td>32.0</td>\n",
       "    </tr>\n",
       "  </tbody>\n",
       "</table>\n",
       "</div>"
      ],
      "text/plain": [
       "     event_name  user_id  last_percent  login_percent\n",
       "0         login     1939           NaN          100.0\n",
       "1  product_page     1265         65.24           65.0\n",
       "2  product_cart      589         96.08           30.0\n",
       "3      purchase      613         48.46           32.0"
      ]
     },
     "execution_count": 135,
     "metadata": {},
     "output_type": "execute_result"
    }
   ],
   "source": [
    "count_id = count_id.reindex([0, 1, 3, 2]).reset_index(drop=True)\n",
    "count_id"
   ]
  },
  {
   "cell_type": "markdown",
   "metadata": {},
   "source": [
    "Как видим, больше всего пользователей теряется при переходе с этапа product_page к product_cart\tи в абсолютном и относительном значениях. Так же можно заметить, что пользователей с этапом purchase больше чем с product_cart. Значит возможна покупка не заходя в корзину. "
   ]
  },
  {
   "cell_type": "code",
   "execution_count": 136,
   "metadata": {},
   "outputs": [
    {
     "data": {
      "image/png": "[encoded data removed]"
     },
     "metadata": {},
     "output_type": "display_data"
    }
   ],
   "source": [
    "fig = go.Figure()\n",
    "fig.add_trace(go.Funnel(\n",
    "    name = 'last_percent',\n",
    "    y = count_id['event_name'],\n",
    "    x = count_id['user_id'],\n",
    "    textposition = \"inside\",\n",
    "    textinfo = \"value+percent initial+percent previous\"))\n",
    "fig.update_layout(yaxis_title='Шаги воронки', \n",
    "        title={\n",
    "        'text': 'Воронка событий группы А',\n",
    "        'y':0.87,\n",
    "        'x':0.54,\n",
    "        'xanchor': 'center',\n",
    "        'yanchor': 'top'}, showlegend=False)"
   ]
  },
  {
   "cell_type": "markdown",
   "metadata": {},
   "source": [
    "Посмотрим, как менялась конверсия пользователей по событиям в воронке в выборках на разных этапах в группе B."
   ]
  },
  {
   "cell_type": "code",
   "execution_count": 137,
   "metadata": {},
   "outputs": [],
   "source": [
    "count_id_b = group_b.groupby('event_name').agg({'user_id': 'nunique'})"
   ]
  },
  {
   "cell_type": "code",
   "execution_count": 138,
   "metadata": {},
   "outputs": [],
   "source": [
    "count_id_b = count_id_b.reset_index().sort_values(by='user_id', ascending=False).reset_index(drop=True)"
   ]
  },
  {
   "cell_type": "code",
   "execution_count": 139,
   "metadata": {},
   "outputs": [],
   "source": [
    "count_id_b = count_id_b.reindex([0, 1, 3, 2]).reset_index(drop=True)"
   ]
  },
  {
   "cell_type": "code",
   "execution_count": 140,
   "metadata": {},
   "outputs": [
    {
     "data": {
      "text/html": [
       "<div>\n",
       "<style scoped>\n",
       "    .dataframe tbody tr th:only-of-type {\n",
       "        vertical-align: middle;\n",
       "    }\n",
       "\n",
       "    .dataframe tbody tr th {\n",
       "        vertical-align: top;\n",
       "    }\n",
       "\n",
       "    .dataframe thead th {\n",
       "        text-align: right;\n",
       "    }\n",
       "</style>\n",
       "<table border=\"1\" class=\"dataframe\">\n",
       "  <thead>\n",
       "    <tr style=\"text-align: right;\">\n",
       "      <th></th>\n",
       "      <th>event_name</th>\n",
       "      <th>user_id</th>\n",
       "    </tr>\n",
       "  </thead>\n",
       "  <tbody>\n",
       "    <tr>\n",
       "      <th>0</th>\n",
       "      <td>login</td>\n",
       "      <td>655</td>\n",
       "    </tr>\n",
       "    <tr>\n",
       "      <th>1</th>\n",
       "      <td>product_page</td>\n",
       "      <td>367</td>\n",
       "    </tr>\n",
       "    <tr>\n",
       "      <th>2</th>\n",
       "      <td>product_cart</td>\n",
       "      <td>184</td>\n",
       "    </tr>\n",
       "    <tr>\n",
       "      <th>3</th>\n",
       "      <td>purchase</td>\n",
       "      <td>191</td>\n",
       "    </tr>\n",
       "  </tbody>\n",
       "</table>\n",
       "</div>"
      ],
      "text/plain": [
       "     event_name  user_id\n",
       "0         login      655\n",
       "1  product_page      367\n",
       "2  product_cart      184\n",
       "3      purchase      191"
      ]
     },
     "execution_count": 140,
     "metadata": {},
     "output_type": "execute_result"
    }
   ],
   "source": [
    "count_id_b"
   ]
  },
  {
   "cell_type": "code",
   "execution_count": 141,
   "metadata": {},
   "outputs": [],
   "source": [
    "count_id_b['last_percent'] = round(count_id_b['user_id']/\n",
    "                           count_id_b['user_id'].shift(1) * 100, 2)"
   ]
  },
  {
   "cell_type": "code",
   "execution_count": 142,
   "metadata": {},
   "outputs": [
    {
     "data": {
      "text/html": [
       "<div>\n",
       "<style scoped>\n",
       "    .dataframe tbody tr th:only-of-type {\n",
       "        vertical-align: middle;\n",
       "    }\n",
       "\n",
       "    .dataframe tbody tr th {\n",
       "        vertical-align: top;\n",
       "    }\n",
       "\n",
       "    .dataframe thead th {\n",
       "        text-align: right;\n",
       "    }\n",
       "</style>\n",
       "<table border=\"1\" class=\"dataframe\">\n",
       "  <thead>\n",
       "    <tr style=\"text-align: right;\">\n",
       "      <th></th>\n",
       "      <th>event_name</th>\n",
       "      <th>user_id</th>\n",
       "      <th>last_percent</th>\n",
       "    </tr>\n",
       "  </thead>\n",
       "  <tbody>\n",
       "    <tr>\n",
       "      <th>0</th>\n",
       "      <td>login</td>\n",
       "      <td>655</td>\n",
       "      <td>NaN</td>\n",
       "    </tr>\n",
       "    <tr>\n",
       "      <th>1</th>\n",
       "      <td>product_page</td>\n",
       "      <td>367</td>\n",
       "      <td>56.03</td>\n",
       "    </tr>\n",
       "    <tr>\n",
       "      <th>2</th>\n",
       "      <td>product_cart</td>\n",
       "      <td>184</td>\n",
       "      <td>50.14</td>\n",
       "    </tr>\n",
       "    <tr>\n",
       "      <th>3</th>\n",
       "      <td>purchase</td>\n",
       "      <td>191</td>\n",
       "      <td>103.80</td>\n",
       "    </tr>\n",
       "  </tbody>\n",
       "</table>\n",
       "</div>"
      ],
      "text/plain": [
       "     event_name  user_id  last_percent\n",
       "0         login      655           NaN\n",
       "1  product_page      367         56.03\n",
       "2  product_cart      184         50.14\n",
       "3      purchase      191        103.80"
      ]
     },
     "execution_count": 142,
     "metadata": {},
     "output_type": "execute_result"
    }
   ],
   "source": [
    "count_id_b"
   ]
  },
  {
   "cell_type": "code",
   "execution_count": 143,
   "metadata": {},
   "outputs": [],
   "source": [
    "count_id_b['login_percent'] = round(count_id_b['user_id']/count_id_b.loc[0, 'user_id'], 2)*100"
   ]
  },
  {
   "cell_type": "code",
   "execution_count": 144,
   "metadata": {},
   "outputs": [
    {
     "data": {
      "text/html": [
       "<div>\n",
       "<style scoped>\n",
       "    .dataframe tbody tr th:only-of-type {\n",
       "        vertical-align: middle;\n",
       "    }\n",
       "\n",
       "    .dataframe tbody tr th {\n",
       "        vertical-align: top;\n",
       "    }\n",
       "\n",
       "    .dataframe thead th {\n",
       "        text-align: right;\n",
       "    }\n",
       "</style>\n",
       "<table border=\"1\" class=\"dataframe\">\n",
       "  <thead>\n",
       "    <tr style=\"text-align: right;\">\n",
       "      <th></th>\n",
       "      <th>event_name</th>\n",
       "      <th>user_id</th>\n",
       "      <th>last_percent</th>\n",
       "      <th>login_percent</th>\n",
       "    </tr>\n",
       "  </thead>\n",
       "  <tbody>\n",
       "    <tr>\n",
       "      <th>0</th>\n",
       "      <td>login</td>\n",
       "      <td>655</td>\n",
       "      <td>NaN</td>\n",
       "      <td>100.0</td>\n",
       "    </tr>\n",
       "    <tr>\n",
       "      <th>1</th>\n",
       "      <td>product_page</td>\n",
       "      <td>367</td>\n",
       "      <td>56.03</td>\n",
       "      <td>56.0</td>\n",
       "    </tr>\n",
       "    <tr>\n",
       "      <th>2</th>\n",
       "      <td>product_cart</td>\n",
       "      <td>184</td>\n",
       "      <td>50.14</td>\n",
       "      <td>28.0</td>\n",
       "    </tr>\n",
       "    <tr>\n",
       "      <th>3</th>\n",
       "      <td>purchase</td>\n",
       "      <td>191</td>\n",
       "      <td>103.80</td>\n",
       "      <td>29.0</td>\n",
       "    </tr>\n",
       "  </tbody>\n",
       "</table>\n",
       "</div>"
      ],
      "text/plain": [
       "     event_name  user_id  last_percent  login_percent\n",
       "0         login      655           NaN          100.0\n",
       "1  product_page      367         56.03           56.0\n",
       "2  product_cart      184         50.14           28.0\n",
       "3      purchase      191        103.80           29.0"
      ]
     },
     "execution_count": 144,
     "metadata": {},
     "output_type": "execute_result"
    }
   ],
   "source": [
    "count_id_b"
   ]
  },
  {
   "cell_type": "markdown",
   "metadata": {},
   "source": [
    "Как видим, наибольшее количесво потерь, в относительных значениях, пользователей у нас при переходе от product_page\tк product_cart. Так же можно заметить, что пользователей с этапом purchase больше чем с product_cart. Значит возможна покупка не заходя в корзину. Это имеет место и с группой А. Отобразим графически распределение пользователей."
   ]
  },
  {
   "cell_type": "code",
   "execution_count": 145,
   "metadata": {},
   "outputs": [
    {
     "data": {
      "image/png": "[encoded data removed]"
     },
     "metadata": {},
     "output_type": "display_data"
    }
   ],
   "source": [
    "fig = go.Figure()\n",
    "fig.add_trace(go.Funnel(\n",
    "    name = 'last_percent',\n",
    "    y = count_id_b['event_name'],\n",
    "    x = count_id_b['user_id'],\n",
    "    textposition = \"inside\",\n",
    "    textinfo = \"value+percent initial+percent previous\"))\n",
    "fig.update_layout(yaxis_title='Шаги воронки', \n",
    "        title={\n",
    "        'text': 'Воронка событий группы B',\n",
    "        'y':0.87,\n",
    "        'x':0.54,\n",
    "        'xanchor': 'center',\n",
    "        'yanchor': 'top'}, showlegend=False)"
   ]
  },
  {
   "cell_type": "code",
   "execution_count": 149,
   "metadata": {},
   "outputs": [
    {
     "data": {
      "image/png": "[encoded data removed]"
     },
     "metadata": {},
     "output_type": "display_data"
    }
   ],
   "source": [
    "fig = go.Figure()\n",
    "\n",
    "fig.add_trace(go.Funnel(\n",
    "    name = 'A',\n",
    "    y = count_id['event_name'],\n",
    "    x = count_id['user_id'],\n",
    "    textinfo = \"value+percent initial+percent previous\"))\n",
    "\n",
    "fig.add_trace(go.Funnel(\n",
    "    name = 'B',\n",
    "    y = count_id_b['event_name'],\n",
    "    x = count_id_b['user_id'],\n",
    "    textinfo = \"value+percent initial+percent previous\"))\n",
    "fig.update_layout(yaxis_title='Шаги воронки', \n",
    "        title={\n",
    "        'text': 'Воронка событий групп A и B',\n",
    "        'y':0.87,\n",
    "        'x':0.54,\n",
    "        'xanchor': 'center',\n",
    "        'yanchor': 'top'}, showlegend=False)\n",
    "fig.show()"
   ]
  },
  {
   "cell_type": "markdown",
   "metadata": {},
   "source": [
    "Как видим, группа В не показала улучшение конверсии на 10% за 14 дней. На этапе product_cart наблюдается увеличение конверсии, но так как есть возможность перехода с product_page сразу в purchase, нельзя объективно оценить данное улучшение."
   ]
  },
  {
   "cell_type": "markdown",
   "metadata": {},
   "source": [
    "Как видим воронка имеет 4 этапа в порядке последовательности:\n",
    "\n",
    "* login - пользователь зашел на сайт  \n",
    "* product_page - просмотрел товар  \n",
    "* product_cart - попал в корзину  \n",
    "* purchase - совершил покупку."
   ]
  },
  {
   "cell_type": "markdown",
   "metadata": {},
   "source": [
    "Показатели конверсии относительного предыдущего значения в группе А распределились в процентной соотношении так: product_page - 65%, product_cart - 47%, purchase - 104%. Показатели конверсии относительного предыдущего значения в группе В распределились в процентной соотношении так: product_page - 56%, product_cart - 50%, purchase - 104%. Показатели конверсии относительного первого значения значения в группе А распределились в процентной соотношении так: product_page - 65%, product_cart - 30%, purchase - 32%. Показатели конверсии относительного первого значения в группе В распределились в процентной соотношении так: product_page - 56%, product_cart - 28%, purchase - 29%."
   ]
  },
  {
   "cell_type": "markdown",
   "metadata": {},
   "source": [
    "Наибольшее количество пользователей отсеивается при переходе с этапа product_page к product_cart в обеих группах. "
   ]
  },
  {
   "cell_type": "markdown",
   "metadata": {},
   "source": [
    "В ТЗ ожидаемый эффект: за 14 дней с момента регистрации пользователи покажут улучшение каждой метрики не менее, чем на 10%. Исходя из полученных данных, улучшений не произошло, а наоброт, показатели конверсии на некоторых этапах сократилась."
   ]
  },
  {
   "cell_type": "markdown",
   "metadata": {},
   "source": [
    "Перед проведение АB теста стоит учесть, что размеры групп изначально различны. В данных имеются пользователи, которые попали в 2 теста сразу. Так же нужно учесть, что во время проведения теста проходили маркетинговые события, что могло в последствии сильно сказаться на результатах теста. Дата завершения теста не соответствует ТЗ. О ключевых метриках по группам ничего не известно. Исходя из этого, при проведении АВ теста невозможно гарантировать его практическую значимость. Так же стоит отметит, что по ТЗ должны быть увеличена конвесия в течении 14 дней, чего так же не случилось, показатели стали даже ниже."
   ]
  },
  {
   "cell_type": "markdown",
   "metadata": {},
   "source": [
    "На данном этапе сделаны следующие выводы:  \n",
    "* Среднее количество действий на пользователя в группе А примерно равно 7  \n",
    "* Медианное количество действий на пользователя в группе А равно 6  \n",
    "* Среднее количество действий на пользователя в группе В примерно равно 6  \n",
    "* Медианное количество действий на пользователя в группе B равно 5   \n",
    "* основной всплеск событий в группе А приходится на период с 14 по 15 декабря включительно. Также заметен рост количества событий 28 и 29 декабря.\n",
    "* Основной всплеск событий приходится на период с 14 по 21 декабря включительно в обеих группах, после чего идет спад. \n",
    "* больше всего пользователей в группе А теряется при переходе с этапа product_page к product_cart.  \n",
    "* наибольшее количесво потерь, в относительных значениях, пользователей у нас при переходе от product_page\tк product_cart. Так же можно заметить, что пользователей с этапом purchase больше чем с product_cart. Значит возможна покупка не заходя в корзину. Это возможно имеет место и с группой А. Отобразим графически распределение пользователей.\n",
    "* за 14 дней с момента регистрации пользователи не покажзали улучшение каждой метрики не менее, чем на 10%, при этом некоторые метрики только ухудшились.\n",
    "* Показатели конверсии относительного предыдущего значения в группе А распределились в процентной соотношении так: product_page - 65%, product_cart - 47%, purchase - 104%. Показатели конверсии относительного предыдущего значения в группе В распределились в процентной соотношении так: product_page - 56%, product_cart - 50%, purchase - 104%. Показатели конверсии относительного первого значения значения в группе А распределились в процентной соотношении так: product_page - 65%, product_cart - 30%, purchase - 32%. Показатели конверсии относительного первого значения в группе В распределились в процентной соотношении так: product_page - 56%, product_cart - 28%, purchase - 29%."
   ]
  },
  {
   "cell_type": "markdown",
   "metadata": {},
   "source": [
    "## А/В-тестирование."
   ]
  },
  {
   "cell_type": "markdown",
   "metadata": {},
   "source": [
    "У нас в распоряжении имеются 2 группы пользователей. Внутри каждой группы имеется деление пользователей по совершенным ими действиям в определенной последвательности. Исходя из данной последовательности, мы имеем долю каждого совершенного действия пользователями каждой из групп. Соостветственно мы можем проверить гипотезу о равенстве долей в данной последовательности в каждой из групп. Для проверки данной гипотезы воспользуемся z-тестом. При проверке выберем статистическую значимость равную 0.05. Сформулируем нулевую и альтернативную гипотезу для проверки равенства долей в событиях в группах. Нулевая гипотеза - между долями нет статистически значимой разницы. Альтернативная - между долями есть статистическая разница. Проверим данные гипотезы для групп А и В в разрезе каждого из событий."
   ]
  },
  {
   "cell_type": "code",
   "execution_count": 150,
   "metadata": {},
   "outputs": [],
   "source": [
    "def z_value_diff(first_group, second_group, alpha,  third_group, fourth_group):\n",
    "   \n",
    "    successes = [first_group, second_group]\n",
    "    trials = [third_group, fourth_group]\n",
    "    \n",
    "    print(successes, trials)\n",
    "\n",
    "    # пропорция успехов в первой группе:\n",
    "    p1 = successes[0]/trials[0]\n",
    "\n",
    "    # пропорция успехов во второй группе:\n",
    "    p2 = successes[1]/trials[1]\n",
    "\n",
    "    # пропорция успехов в комбинированном датасете:\n",
    "    p_combined = (successes[0] + successes[1]) / (trials[0] + trials[1])\n",
    " \n",
    "    # разница пропорций в датасетах\n",
    "    difference = p1 - p2 \n",
    "\n",
    "    z_value = difference/mth.sqrt(p_combined * (1 - p_combined) * (1/trials[0] + 1/trials[1])) # ваш код\n",
    "\n",
    "    distr = st.norm(0, 1) # ваш код\n",
    "\n",
    "    p_value = (1 - distr.cdf(abs(z_value))) * 2 # ваш код\n",
    "\n",
    "    print('p-значение: ', p_value)\n",
    "\n",
    "    if p_value < alpha: # ваш код\n",
    "        print('Отвергаем нулевую гипотезу: между долями есть значимая разница')\n",
    "    else:\n",
    "        print(\n",
    "            'Не получилось отвергнуть нулевую гипотезу, нет оснований считать доли разными'\n",
    "        )"
   ]
  },
  {
   "cell_type": "code",
   "execution_count": 151,
   "metadata": {},
   "outputs": [
    {
     "data": {
      "text/html": [
       "<div>\n",
       "<style scoped>\n",
       "    .dataframe tbody tr th:only-of-type {\n",
       "        vertical-align: middle;\n",
       "    }\n",
       "\n",
       "    .dataframe tbody tr th {\n",
       "        vertical-align: top;\n",
       "    }\n",
       "\n",
       "    .dataframe thead th {\n",
       "        text-align: right;\n",
       "    }\n",
       "</style>\n",
       "<table border=\"1\" class=\"dataframe\">\n",
       "  <thead>\n",
       "    <tr style=\"text-align: right;\">\n",
       "      <th></th>\n",
       "      <th>event_name</th>\n",
       "      <th>user_id</th>\n",
       "      <th>last_percent</th>\n",
       "      <th>login_percent</th>\n",
       "    </tr>\n",
       "  </thead>\n",
       "  <tbody>\n",
       "    <tr>\n",
       "      <th>0</th>\n",
       "      <td>login</td>\n",
       "      <td>1939</td>\n",
       "      <td>NaN</td>\n",
       "      <td>100.0</td>\n",
       "    </tr>\n",
       "    <tr>\n",
       "      <th>1</th>\n",
       "      <td>product_page</td>\n",
       "      <td>1265</td>\n",
       "      <td>65.24</td>\n",
       "      <td>65.0</td>\n",
       "    </tr>\n",
       "    <tr>\n",
       "      <th>2</th>\n",
       "      <td>product_cart</td>\n",
       "      <td>589</td>\n",
       "      <td>96.08</td>\n",
       "      <td>30.0</td>\n",
       "    </tr>\n",
       "    <tr>\n",
       "      <th>3</th>\n",
       "      <td>purchase</td>\n",
       "      <td>613</td>\n",
       "      <td>48.46</td>\n",
       "      <td>32.0</td>\n",
       "    </tr>\n",
       "  </tbody>\n",
       "</table>\n",
       "</div>"
      ],
      "text/plain": [
       "     event_name  user_id  last_percent  login_percent\n",
       "0         login     1939           NaN          100.0\n",
       "1  product_page     1265         65.24           65.0\n",
       "2  product_cart      589         96.08           30.0\n",
       "3      purchase      613         48.46           32.0"
      ]
     },
     "execution_count": 151,
     "metadata": {},
     "output_type": "execute_result"
    }
   ],
   "source": [
    "count_id"
   ]
  },
  {
   "cell_type": "code",
   "execution_count": 152,
   "metadata": {},
   "outputs": [
    {
     "data": {
      "text/html": [
       "<div>\n",
       "<style scoped>\n",
       "    .dataframe tbody tr th:only-of-type {\n",
       "        vertical-align: middle;\n",
       "    }\n",
       "\n",
       "    .dataframe tbody tr th {\n",
       "        vertical-align: top;\n",
       "    }\n",
       "\n",
       "    .dataframe thead th {\n",
       "        text-align: right;\n",
       "    }\n",
       "</style>\n",
       "<table border=\"1\" class=\"dataframe\">\n",
       "  <thead>\n",
       "    <tr style=\"text-align: right;\">\n",
       "      <th></th>\n",
       "      <th>event_name</th>\n",
       "      <th>user_id</th>\n",
       "      <th>last_percent</th>\n",
       "      <th>login_percent</th>\n",
       "    </tr>\n",
       "  </thead>\n",
       "  <tbody>\n",
       "    <tr>\n",
       "      <th>0</th>\n",
       "      <td>login</td>\n",
       "      <td>655</td>\n",
       "      <td>NaN</td>\n",
       "      <td>100.0</td>\n",
       "    </tr>\n",
       "    <tr>\n",
       "      <th>1</th>\n",
       "      <td>product_page</td>\n",
       "      <td>367</td>\n",
       "      <td>56.03</td>\n",
       "      <td>56.0</td>\n",
       "    </tr>\n",
       "    <tr>\n",
       "      <th>2</th>\n",
       "      <td>product_cart</td>\n",
       "      <td>184</td>\n",
       "      <td>50.14</td>\n",
       "      <td>28.0</td>\n",
       "    </tr>\n",
       "    <tr>\n",
       "      <th>3</th>\n",
       "      <td>purchase</td>\n",
       "      <td>191</td>\n",
       "      <td>103.80</td>\n",
       "      <td>29.0</td>\n",
       "    </tr>\n",
       "  </tbody>\n",
       "</table>\n",
       "</div>"
      ],
      "text/plain": [
       "     event_name  user_id  last_percent  login_percent\n",
       "0         login      655           NaN          100.0\n",
       "1  product_page      367         56.03           56.0\n",
       "2  product_cart      184         50.14           28.0\n",
       "3      purchase      191        103.80           29.0"
      ]
     },
     "execution_count": 152,
     "metadata": {},
     "output_type": "execute_result"
    }
   ],
   "source": [
    "count_id_b"
   ]
  },
  {
   "cell_type": "code",
   "execution_count": 153,
   "metadata": {},
   "outputs": [
    {
     "name": "stdout",
     "output_type": "stream",
     "text": [
      "[1265, 367] [1939, 655]\n",
      "p-значение:  2.457788807452843e-05\n",
      "Отвергаем нулевую гипотезу: между долями есть значимая разница\n"
     ]
    }
   ],
   "source": [
    "z_value_diff(count_id.loc[1,'user_id'], count_id_b.loc[1,'user_id'], 0.05, count_id.loc[0,'user_id'], \n",
    "             count_id_b.loc[0,'user_id'])"
   ]
  },
  {
   "cell_type": "markdown",
   "metadata": {},
   "source": [
    "По событию product_page отвергаем нулевую гипотезу."
   ]
  },
  {
   "cell_type": "code",
   "execution_count": 154,
   "metadata": {},
   "outputs": [
    {
     "name": "stdout",
     "output_type": "stream",
     "text": [
      "[589, 184] [1939, 655]\n",
      "p-значение:  0.26899325584838074\n",
      "Не получилось отвергнуть нулевую гипотезу, нет оснований считать доли разными\n"
     ]
    }
   ],
   "source": [
    "z_value_diff(count_id.loc[2,'user_id'], count_id_b.loc[2,'user_id'], 0.05, count_id.loc[0,'user_id'], \n",
    "             count_id_b.loc[0,'user_id'])"
   ]
  },
  {
   "cell_type": "markdown",
   "metadata": {},
   "source": [
    "По событию product_cart отвергнуть не плучилось"
   ]
  },
  {
   "cell_type": "code",
   "execution_count": 155,
   "metadata": {},
   "outputs": [
    {
     "name": "stdout",
     "output_type": "stream",
     "text": [
      "[613, 191] [1939, 655]\n",
      "p-значение:  0.24035836270660704\n",
      "Не получилось отвергнуть нулевую гипотезу, нет оснований считать доли разными\n"
     ]
    }
   ],
   "source": [
    "z_value_diff(count_id.loc[3,'user_id'], count_id_b.loc[3,'user_id'], 0.05, count_id.loc[0,'user_id'], \n",
    "             count_id_b.loc[0,'user_id'])"
   ]
  },
  {
   "cell_type": "markdown",
   "metadata": {},
   "source": [
    "По событию purchase отвергнуть нулевую гипотезу не получилось"
   ]
  },
  {
   "cell_type": "markdown",
   "metadata": {},
   "source": [
    "Так как у нас множественный тест с одними и теми же данными можно было бы применить методы корректировки значения требуемого уровня значимости, но так как в полученных значениях уровень p_value гораздо больше значения alpha, а методы корректировки значения только уменьшают значение alpha, поэтому расчет с учетом метода корректировки значения требуемого уровня значимости не повлияет на результат."
   ]
  },
  {
   "cell_type": "markdown",
   "metadata": {},
   "source": [
    "На данном этапе была отвергнута нулевая гипотеза о том, что между долями событий product_page пользоватей групп А и В есть статистическая значимость. Между долями событий product_cart\tи purchase пользоватей групп А и В нет статистической значимости."
   ]
  },
  {
   "cell_type": "markdown",
   "metadata": {},
   "source": [
    "## Общий вывод"
   ]
  },
  {
   "cell_type": "markdown",
   "metadata": {},
   "source": [
    "__Выполняя проект, были проделаны следующие работы:__  \n",
    "1. Загрузка и ознакомление с предоставленными данными  \n",
    "2. Подготовка данных  \n",
    "3. Анализ данных, а именно:  \n",
    "  * проверка проводимых тестов в данных  \n",
    "  * проверка групп в тесте  \n",
    "  * проверка даты запуска теста  \n",
    "  * проверка даты остановки теста  \n",
    "  * проверка остановки набора теста  \n",
    "  * проверк ааудитории теста  \n",
    "  * проверка ожидаемого количества тестируемых  \n",
    "  * проверка на влияние на исследование маркетинговых событий \n",
    "4. Проведен исследовательский анализ теста  \n",
    "5. Проведено А/В - тестирование."
   ]
  },
  {
   "cell_type": "markdown",
   "metadata": {},
   "source": [
    "__Выполняя проект, были сделаны следующие выводы:__ \n",
    "* в данных имеются 2 теста, а именно: 'recommender_system_test' и 'interface_eu_test'  \n",
    "*  имеются 2 тестируемые группы А и В  \n",
    "* Дата запуска соответствует ТЗ - 2020-12-07  \n",
    "* Дата остановки теста не соответствует ТЗ и равна 2020-12-30 23:36:33  \n",
    "* Дата остановка работы набора новых пользователей соответствует ТЗ и равно 2020-12-21 00:00:00  \n",
    "* процент пользователелей из региона EU отобранных для теста, равны 15% новых пользователей из региона EU за период отбора новых пользователей с 2020-12-07 по 2020-12-21  \n",
    "* количество тестируемых пользователей не соответствует ТЗ и равно 256  \n",
    "* на преиод исследования проходили 2 акции, Christmas&New Year Promo и CIS New Year Gift Lottery, однако, так как только Christmas&New Year Promo проходил в EU, a у нас аудитория только из EU то влияние оказывало только данная акция\n",
    "* Количество уникальных пользователей не совершивших ни одного действия 3026\n",
    "* Как видим, пользователи, не совершавших действий в группе В - 1949, в группе А - 1077\n",
    "* количество пользователей в тесте recommender_system_test не совершивших ни одного действия очень велико примерно 45% от общего количества участников теста recommender_system_test без учета пересечений между тестами и регионов пользователей. Большое количество пользователей теряется уже на этапе регистрации. Так же, можно сказать, что, потеряв такое количество тестируемых пользователей сразу на начальном этапе, может сильно сказаться на результатах теста, что в свою очередб является аргументом для его перезапуска\n",
    "* Среднее количество действий на пользователя в группе А примерно равно 7  \n",
    "* Медианное количество действий на пользователя в группе А равно 6  \n",
    "* Среднее количество действий на пользователя в группе В примерно равно 6  \n",
    "* Медианное количество действий на пользователя в группе B равно 5   \n",
    "* основной всплеск событий в группе А приходится на период с 14 по 15 декабря включительно. Также заметен рост количества событий 28 и 29 декабря.\n",
    "* Основной всплеск событий приходится на период с 14 по 21 декабря включительно в обеих группах, после чего идет спад. \n",
    "* больше всего пользователей в группе А теряется при переходе с этапа product_page к product_cart.  \n",
    "* наибольшее количесво потерь, в относительных значениях, пользователей у нас при переходе от product_page\tк product_cart. Так же можно заметить, что пользователей с этапом purchase больше чем с product_cart. Значит возможна покупка не заходя в корзину. Это возможно имеет место и с группой А. Отобразим графически распределение пользователей.\n",
    "* за 14 дней с момента регистрации пользователи не покажзали улучшение каждой метрики не менее, чем на 10%, при этом некоторые метрики только ухудшились.\n",
    "* Показатели конверсии относительного предыдущего значения в группе А распределились в процентной соотношении так: product_page - 65%, product_cart - 47%, purchase - 104%. Показатели конверсии относительного предыдущего значения в группе В распределились в процентной соотношении так: product_page - 56%, product_cart - 50%, purchase - 104%. Показатели конверсии относительного первого значения значения в группе А распределились в процентной соотношении так: product_page - 65%, product_cart - 30%, purchase - 32%. Показатели конверсии относительного первого значения в группе В распределились в процентной соотношении так: product_page - 56%, product_cart - 28%, purchase - 29%.\n",
    "* отвергнута нулевая гипотеза о том, что между долями событий product_page пользоватей групп А и В нет статистически значимой разницы. Между долями событий product_cart\tи purchase пользоватей групп А и В есть статистическая значимость. \n",
    "* Делая выводы о проведенном тесте следует учесть следующие моменты. Размеры групп изначально различны. В данных имеются пользователи, которые попали в 2 теста сразу. Так же нужно учесть, что во время проведения теста проходили маркетинговые события, что могло в последствии сильно сказаться на результатах теста. Дата завершения теста не соответствует ТЗ. О ключевых метриках по группам ничего не известно. Так же почти половина пользователей зарегестрированных в качестве участников теста не совершали никаких действий. В группах имеются пользователи не из регионов EU. Так же стоит отметит, что по ТЗ должны быть увеличена конвесия в течении 14 дней, на 10 % на всех этапах чего так же не случилось, показатели стали даже ниже. Исходя из этого, можно сделать вывод о том, что А/В тест проведен не корректно и не имеет практической значимости."
   ]
  }
 ],
 "metadata": {
  "ExecuteTimeLog": [
   {
    "duration": 1081,
    "start_time": "2023-07-24T07:52:28.442Z"
   },
   {
    "duration": 271,
    "start_time": "2023-07-24T07:52:39.542Z"
   },
   {
    "duration": 69,
    "start_time": "2023-07-24T07:55:07.909Z"
   },
   {
    "duration": 4,
    "start_time": "2023-07-24T07:55:47.961Z"
   },
   {
    "duration": 18,
    "start_time": "2023-07-24T07:56:16.440Z"
   },
   {
    "duration": 10,
    "start_time": "2023-07-24T07:56:25.617Z"
   },
   {
    "duration": 182,
    "start_time": "2023-07-24T07:56:52.321Z"
   },
   {
    "duration": 8,
    "start_time": "2023-07-24T07:57:00.218Z"
   },
   {
    "duration": 26,
    "start_time": "2023-07-24T07:57:10.985Z"
   },
   {
    "duration": 636,
    "start_time": "2023-07-24T07:57:31.810Z"
   },
   {
    "duration": 11,
    "start_time": "2023-07-24T07:57:39.827Z"
   },
   {
    "duration": 58,
    "start_time": "2023-07-24T07:57:49.233Z"
   },
   {
    "duration": 76,
    "start_time": "2023-07-24T07:58:08.714Z"
   },
   {
    "duration": 8,
    "start_time": "2023-07-24T07:58:15.602Z"
   },
   {
    "duration": 17,
    "start_time": "2023-07-24T07:58:24.164Z"
   },
   {
    "duration": 35,
    "start_time": "2023-07-24T07:58:57.788Z"
   },
   {
    "duration": 255,
    "start_time": "2023-07-24T07:59:20.571Z"
   },
   {
    "duration": 10,
    "start_time": "2023-07-24T07:59:40.194Z"
   },
   {
    "duration": 5,
    "start_time": "2023-07-24T07:59:58.211Z"
   },
   {
    "duration": 30,
    "start_time": "2023-07-24T08:00:33.067Z"
   },
   {
    "duration": 121,
    "start_time": "2023-07-24T08:00:39.555Z"
   },
   {
    "duration": 13,
    "start_time": "2023-07-24T08:01:02.051Z"
   },
   {
    "duration": 17,
    "start_time": "2023-07-24T08:01:13.453Z"
   },
   {
    "duration": 80,
    "start_time": "2023-07-24T08:01:25.543Z"
   },
   {
    "duration": 44,
    "start_time": "2023-07-24T08:01:40.628Z"
   },
   {
    "duration": 9,
    "start_time": "2023-07-24T08:01:48.098Z"
   },
   {
    "duration": 4,
    "start_time": "2023-07-24T08:01:59.245Z"
   },
   {
    "duration": 6,
    "start_time": "2023-07-24T08:02:07.964Z"
   },
   {
    "duration": 10,
    "start_time": "2023-07-24T08:02:15.069Z"
   },
   {
    "duration": 25,
    "start_time": "2023-07-24T08:02:43.988Z"
   },
   {
    "duration": 55,
    "start_time": "2023-07-24T08:02:51.021Z"
   },
   {
    "duration": 22,
    "start_time": "2023-07-24T08:03:00.803Z"
   },
   {
    "duration": 6,
    "start_time": "2023-07-24T08:03:08.519Z"
   },
   {
    "duration": 7,
    "start_time": "2023-07-24T08:03:35.343Z"
   },
   {
    "duration": 4,
    "start_time": "2023-07-24T08:04:25.843Z"
   },
   {
    "duration": 10,
    "start_time": "2023-07-24T08:04:43.638Z"
   },
   {
    "duration": 6,
    "start_time": "2023-07-24T08:05:11.216Z"
   },
   {
    "duration": 7,
    "start_time": "2023-07-24T08:05:25.102Z"
   },
   {
    "duration": 6,
    "start_time": "2023-07-24T08:06:00.797Z"
   },
   {
    "duration": 4,
    "start_time": "2023-07-24T08:07:12.962Z"
   },
   {
    "duration": 5,
    "start_time": "2023-07-24T08:07:55.612Z"
   },
   {
    "duration": 39,
    "start_time": "2023-07-24T08:08:35.722Z"
   },
   {
    "duration": 11,
    "start_time": "2023-07-24T08:08:41.347Z"
   },
   {
    "duration": 11,
    "start_time": "2023-07-24T08:08:48.407Z"
   },
   {
    "duration": 24,
    "start_time": "2023-07-24T08:08:57.126Z"
   },
   {
    "duration": 13,
    "start_time": "2023-07-24T08:09:05.315Z"
   },
   {
    "duration": 14,
    "start_time": "2023-07-24T08:09:11.987Z"
   },
   {
    "duration": 16,
    "start_time": "2023-07-24T08:09:19.251Z"
   },
   {
    "duration": 3,
    "start_time": "2023-07-24T08:09:26.529Z"
   },
   {
    "duration": 7,
    "start_time": "2023-07-24T08:10:12.751Z"
   },
   {
    "duration": 5,
    "start_time": "2023-07-24T08:10:18.499Z"
   },
   {
    "duration": 5,
    "start_time": "2023-07-24T08:10:24.164Z"
   },
   {
    "duration": 13,
    "start_time": "2023-07-24T08:10:31.530Z"
   },
   {
    "duration": 16,
    "start_time": "2023-07-24T08:10:41.132Z"
   },
   {
    "duration": 15,
    "start_time": "2023-07-24T08:10:49.556Z"
   },
   {
    "duration": 7,
    "start_time": "2023-07-24T08:10:56.228Z"
   },
   {
    "duration": 5,
    "start_time": "2023-07-24T08:11:11.872Z"
   },
   {
    "duration": 10,
    "start_time": "2023-07-24T08:11:17.398Z"
   },
   {
    "duration": 8,
    "start_time": "2023-07-24T08:11:24.236Z"
   },
   {
    "duration": 27,
    "start_time": "2023-07-24T08:11:47.732Z"
   },
   {
    "duration": 6,
    "start_time": "2023-07-24T08:11:55.295Z"
   },
   {
    "duration": 12,
    "start_time": "2023-07-24T08:12:03.401Z"
   },
   {
    "duration": 3,
    "start_time": "2023-07-24T08:12:11.653Z"
   },
   {
    "duration": 3,
    "start_time": "2023-07-24T08:12:27.958Z"
   },
   {
    "duration": 12,
    "start_time": "2023-07-24T08:12:34.836Z"
   },
   {
    "duration": 8,
    "start_time": "2023-07-24T08:12:42.239Z"
   },
   {
    "duration": 10,
    "start_time": "2023-07-24T08:12:48.020Z"
   },
   {
    "duration": 481,
    "start_time": "2023-07-24T08:13:13.945Z"
   },
   {
    "duration": 7,
    "start_time": "2023-07-24T08:13:21.821Z"
   },
   {
    "duration": 16,
    "start_time": "2023-07-24T08:13:28.392Z"
   },
   {
    "duration": 115,
    "start_time": "2023-07-24T08:13:36.220Z"
   },
   {
    "duration": 34,
    "start_time": "2023-07-24T08:13:47.110Z"
   },
   {
    "duration": 8,
    "start_time": "2023-07-24T08:13:53.983Z"
   },
   {
    "duration": 14,
    "start_time": "2023-07-24T08:14:04.816Z"
   },
   {
    "duration": 6,
    "start_time": "2023-07-24T08:14:12.783Z"
   },
   {
    "duration": 4,
    "start_time": "2023-07-24T08:14:56.535Z"
   },
   {
    "duration": 11,
    "start_time": "2023-07-24T08:15:04.033Z"
   },
   {
    "duration": 10,
    "start_time": "2023-07-24T08:15:13.023Z"
   },
   {
    "duration": 40,
    "start_time": "2023-07-24T08:15:26.727Z"
   },
   {
    "duration": 7,
    "start_time": "2023-07-24T08:17:13.313Z"
   },
   {
    "duration": 16,
    "start_time": "2023-07-24T08:17:14.113Z"
   },
   {
    "duration": 133,
    "start_time": "2023-07-24T08:17:14.824Z"
   },
   {
    "duration": 32,
    "start_time": "2023-07-24T08:17:15.607Z"
   },
   {
    "duration": 12,
    "start_time": "2023-07-24T08:17:16.949Z"
   },
   {
    "duration": 11,
    "start_time": "2023-07-24T08:17:17.665Z"
   },
   {
    "duration": 6,
    "start_time": "2023-07-24T08:17:18.448Z"
   },
   {
    "duration": 4,
    "start_time": "2023-07-24T08:17:20.859Z"
   },
   {
    "duration": 7,
    "start_time": "2023-07-24T08:17:21.592Z"
   },
   {
    "duration": 10,
    "start_time": "2023-07-24T08:17:22.664Z"
   },
   {
    "duration": 41,
    "start_time": "2023-07-24T08:17:24.700Z"
   },
   {
    "duration": 738,
    "start_time": "2023-07-24T08:17:34.731Z"
   },
   {
    "duration": 28,
    "start_time": "2023-07-24T08:17:35.472Z"
   },
   {
    "duration": 3,
    "start_time": "2023-07-24T08:17:35.502Z"
   },
   {
    "duration": 18,
    "start_time": "2023-07-24T08:17:35.507Z"
   },
   {
    "duration": 15,
    "start_time": "2023-07-24T08:17:35.527Z"
   },
   {
    "duration": 81,
    "start_time": "2023-07-24T08:17:35.545Z"
   },
   {
    "duration": 8,
    "start_time": "2023-07-24T08:17:35.628Z"
   },
   {
    "duration": 35,
    "start_time": "2023-07-24T08:17:35.637Z"
   },
   {
    "duration": 520,
    "start_time": "2023-07-24T08:17:35.674Z"
   },
   {
    "duration": 9,
    "start_time": "2023-07-24T08:17:36.196Z"
   },
   {
    "duration": 83,
    "start_time": "2023-07-24T08:17:36.207Z"
   },
   {
    "duration": 32,
    "start_time": "2023-07-24T08:17:36.292Z"
   },
   {
    "duration": 12,
    "start_time": "2023-07-24T08:17:36.326Z"
   },
   {
    "duration": 36,
    "start_time": "2023-07-24T08:17:36.341Z"
   },
   {
    "duration": 46,
    "start_time": "2023-07-24T08:17:36.378Z"
   },
   {
    "duration": 293,
    "start_time": "2023-07-24T08:17:36.426Z"
   },
   {
    "duration": 17,
    "start_time": "2023-07-24T08:17:36.721Z"
   },
   {
    "duration": 119,
    "start_time": "2023-07-24T08:17:36.741Z"
   },
   {
    "duration": 64,
    "start_time": "2023-07-24T08:17:36.862Z"
   },
   {
    "duration": 70,
    "start_time": "2023-07-24T08:17:36.928Z"
   },
   {
    "duration": 36,
    "start_time": "2023-07-24T08:17:37.000Z"
   },
   {
    "duration": 95,
    "start_time": "2023-07-24T08:17:37.038Z"
   },
   {
    "duration": 50,
    "start_time": "2023-07-24T08:17:37.135Z"
   },
   {
    "duration": 11,
    "start_time": "2023-07-24T08:17:37.187Z"
   },
   {
    "duration": 16,
    "start_time": "2023-07-24T08:17:37.199Z"
   },
   {
    "duration": 65,
    "start_time": "2023-07-24T08:17:37.216Z"
   },
   {
    "duration": 14,
    "start_time": "2023-07-24T08:17:37.283Z"
   },
   {
    "duration": 41,
    "start_time": "2023-07-24T08:17:37.298Z"
   },
   {
    "duration": 65,
    "start_time": "2023-07-24T08:17:37.341Z"
   },
   {
    "duration": 21,
    "start_time": "2023-07-24T08:17:37.408Z"
   },
   {
    "duration": 13,
    "start_time": "2023-07-24T08:17:37.431Z"
   },
   {
    "duration": 13,
    "start_time": "2023-07-24T08:17:37.446Z"
   },
   {
    "duration": 8,
    "start_time": "2023-07-24T08:17:37.460Z"
   },
   {
    "duration": 84,
    "start_time": "2023-07-24T08:17:37.469Z"
   },
   {
    "duration": 10,
    "start_time": "2023-07-24T08:17:37.555Z"
   },
   {
    "duration": 9,
    "start_time": "2023-07-24T08:17:37.567Z"
   },
   {
    "duration": 10,
    "start_time": "2023-07-24T08:17:37.577Z"
   },
   {
    "duration": 11,
    "start_time": "2023-07-24T08:17:37.588Z"
   },
   {
    "duration": 10,
    "start_time": "2023-07-24T08:17:37.601Z"
   },
   {
    "duration": 54,
    "start_time": "2023-07-24T08:17:37.612Z"
   },
   {
    "duration": 11,
    "start_time": "2023-07-24T08:17:37.670Z"
   },
   {
    "duration": 21,
    "start_time": "2023-07-24T08:17:37.682Z"
   },
   {
    "duration": 21,
    "start_time": "2023-07-24T08:17:37.705Z"
   },
   {
    "duration": 8,
    "start_time": "2023-07-24T08:17:37.731Z"
   },
   {
    "duration": 27,
    "start_time": "2023-07-24T08:17:37.741Z"
   },
   {
    "duration": 19,
    "start_time": "2023-07-24T08:17:37.770Z"
   },
   {
    "duration": 4,
    "start_time": "2023-07-24T08:17:37.792Z"
   },
   {
    "duration": 24,
    "start_time": "2023-07-24T08:17:37.797Z"
   },
   {
    "duration": 34,
    "start_time": "2023-07-24T08:17:37.822Z"
   },
   {
    "duration": 13,
    "start_time": "2023-07-24T08:17:37.859Z"
   },
   {
    "duration": 19,
    "start_time": "2023-07-24T08:17:37.873Z"
   },
   {
    "duration": 12,
    "start_time": "2023-07-24T08:17:37.894Z"
   },
   {
    "duration": 12,
    "start_time": "2023-07-24T08:17:37.908Z"
   },
   {
    "duration": 9,
    "start_time": "2023-07-24T08:17:37.921Z"
   },
   {
    "duration": 10,
    "start_time": "2023-07-24T08:17:37.931Z"
   },
   {
    "duration": 21,
    "start_time": "2023-07-24T08:17:37.942Z"
   },
   {
    "duration": 10,
    "start_time": "2023-07-24T08:17:37.965Z"
   },
   {
    "duration": 26,
    "start_time": "2023-07-24T08:17:37.976Z"
   },
   {
    "duration": 5,
    "start_time": "2023-07-24T08:17:38.004Z"
   },
   {
    "duration": 15,
    "start_time": "2023-07-24T08:17:38.010Z"
   },
   {
    "duration": 13,
    "start_time": "2023-07-24T08:17:38.026Z"
   },
   {
    "duration": 10,
    "start_time": "2023-07-24T08:17:38.041Z"
   },
   {
    "duration": 12,
    "start_time": "2023-07-24T08:17:38.053Z"
   },
   {
    "duration": 7,
    "start_time": "2023-07-24T08:17:38.067Z"
   },
   {
    "duration": 11,
    "start_time": "2023-07-24T08:17:38.076Z"
   },
   {
    "duration": 482,
    "start_time": "2023-07-24T08:17:38.088Z"
   },
   {
    "duration": 8,
    "start_time": "2023-07-24T08:17:38.572Z"
   },
   {
    "duration": 99,
    "start_time": "2023-07-24T08:17:38.581Z"
   },
   {
    "duration": 0,
    "start_time": "2023-07-24T08:17:38.682Z"
   },
   {
    "duration": 0,
    "start_time": "2023-07-24T08:17:38.683Z"
   },
   {
    "duration": 0,
    "start_time": "2023-07-24T08:17:38.684Z"
   },
   {
    "duration": 0,
    "start_time": "2023-07-24T08:17:38.685Z"
   },
   {
    "duration": 0,
    "start_time": "2023-07-24T08:17:38.686Z"
   },
   {
    "duration": 0,
    "start_time": "2023-07-24T08:17:38.687Z"
   },
   {
    "duration": 0,
    "start_time": "2023-07-24T08:17:38.688Z"
   },
   {
    "duration": 0,
    "start_time": "2023-07-24T08:17:38.689Z"
   },
   {
    "duration": 0,
    "start_time": "2023-07-24T08:17:38.690Z"
   },
   {
    "duration": 0,
    "start_time": "2023-07-24T08:17:38.692Z"
   },
   {
    "duration": 10,
    "start_time": "2023-07-24T08:20:14.247Z"
   },
   {
    "duration": 17,
    "start_time": "2023-07-24T08:20:15.101Z"
   },
   {
    "duration": 101,
    "start_time": "2023-07-24T08:20:16.001Z"
   },
   {
    "duration": 37,
    "start_time": "2023-07-24T08:20:16.601Z"
   },
   {
    "duration": 10,
    "start_time": "2023-07-24T08:20:18.198Z"
   },
   {
    "duration": 11,
    "start_time": "2023-07-24T08:20:19.008Z"
   },
   {
    "duration": 6,
    "start_time": "2023-07-24T08:20:20.006Z"
   },
   {
    "duration": 4,
    "start_time": "2023-07-24T08:20:22.797Z"
   },
   {
    "duration": 12,
    "start_time": "2023-07-24T08:20:23.550Z"
   },
   {
    "duration": 5,
    "start_time": "2023-07-24T08:20:26.197Z"
   },
   {
    "duration": 13,
    "start_time": "2023-07-24T08:20:27.497Z"
   },
   {
    "duration": 6,
    "start_time": "2023-07-24T08:20:28.541Z"
   },
   {
    "duration": 11,
    "start_time": "2023-07-24T08:20:41.111Z"
   },
   {
    "duration": 5,
    "start_time": "2023-07-24T08:20:49.713Z"
   },
   {
    "duration": 6,
    "start_time": "2023-07-24T08:21:35.985Z"
   },
   {
    "duration": 5,
    "start_time": "2023-07-24T08:21:43.255Z"
   },
   {
    "duration": 3,
    "start_time": "2023-07-24T08:21:57.875Z"
   },
   {
    "duration": 7,
    "start_time": "2023-07-24T08:22:02.233Z"
   },
   {
    "duration": 198,
    "start_time": "2023-07-24T08:22:08.231Z"
   },
   {
    "duration": 47,
    "start_time": "2023-07-24T08:22:24.926Z"
   },
   {
    "duration": 34,
    "start_time": "2023-07-24T08:22:30.927Z"
   },
   {
    "duration": 10,
    "start_time": "2023-07-24T08:22:44.289Z"
   },
   {
    "duration": 19,
    "start_time": "2023-07-24T08:23:03.584Z"
   },
   {
    "duration": 10,
    "start_time": "2023-07-24T08:23:08.793Z"
   },
   {
    "duration": 336,
    "start_time": "2023-07-24T08:23:16.500Z"
   },
   {
    "duration": 10,
    "start_time": "2023-07-24T08:23:30.532Z"
   },
   {
    "duration": 9,
    "start_time": "2023-07-24T08:23:36.663Z"
   },
   {
    "duration": 6,
    "start_time": "2023-07-24T08:23:47.090Z"
   },
   {
    "duration": 13,
    "start_time": "2023-07-24T08:23:52.787Z"
   },
   {
    "duration": 7,
    "start_time": "2023-07-24T08:24:10.411Z"
   },
   {
    "duration": 13,
    "start_time": "2023-07-24T08:24:26.889Z"
   },
   {
    "duration": 5,
    "start_time": "2023-07-24T08:24:41.884Z"
   },
   {
    "duration": 5,
    "start_time": "2023-07-24T08:25:01.389Z"
   },
   {
    "duration": 9,
    "start_time": "2023-07-24T08:25:21.291Z"
   },
   {
    "duration": 11,
    "start_time": "2023-07-24T08:25:28.621Z"
   },
   {
    "duration": 8,
    "start_time": "2023-07-24T08:25:33.947Z"
   },
   {
    "duration": 9,
    "start_time": "2023-07-24T08:25:40.941Z"
   },
   {
    "duration": 13,
    "start_time": "2023-07-24T08:25:47.067Z"
   },
   {
    "duration": 5,
    "start_time": "2023-07-24T08:25:54.860Z"
   },
   {
    "duration": 7,
    "start_time": "2023-07-24T08:26:00.751Z"
   },
   {
    "duration": 9,
    "start_time": "2023-07-24T08:26:05.786Z"
   },
   {
    "duration": 120,
    "start_time": "2023-07-24T08:26:11.808Z"
   },
   {
    "duration": 5,
    "start_time": "2023-07-24T08:26:23.172Z"
   },
   {
    "duration": 128,
    "start_time": "2023-07-24T08:26:29.197Z"
   },
   {
    "duration": 5,
    "start_time": "2023-07-24T08:26:39.212Z"
   },
   {
    "duration": 14,
    "start_time": "2023-07-24T08:26:59.767Z"
   },
   {
    "duration": 13,
    "start_time": "2023-07-24T08:27:07.948Z"
   },
   {
    "duration": 646,
    "start_time": "2023-07-24T08:27:14.108Z"
   },
   {
    "duration": 10,
    "start_time": "2023-07-24T08:27:41.301Z"
   },
   {
    "duration": 108,
    "start_time": "2023-07-24T08:27:48.108Z"
   },
   {
    "duration": 14,
    "start_time": "2023-07-24T08:55:11.169Z"
   },
   {
    "duration": 503,
    "start_time": "2023-07-24T08:58:32.251Z"
   },
   {
    "duration": 328,
    "start_time": "2023-07-24T08:58:39.772Z"
   },
   {
    "duration": 78,
    "start_time": "2023-07-24T08:58:50.726Z"
   },
   {
    "duration": 302,
    "start_time": "2023-07-24T08:59:03.786Z"
   },
   {
    "duration": 13,
    "start_time": "2023-07-24T08:59:18.965Z"
   },
   {
    "duration": 10,
    "start_time": "2023-07-24T09:01:17.341Z"
   },
   {
    "duration": 12,
    "start_time": "2023-07-24T09:01:25.476Z"
   },
   {
    "duration": 14,
    "start_time": "2023-07-24T09:01:38.686Z"
   },
   {
    "duration": 902,
    "start_time": "2023-07-24T09:02:38.824Z"
   },
   {
    "duration": 31,
    "start_time": "2023-07-24T09:02:39.735Z"
   },
   {
    "duration": 4,
    "start_time": "2023-07-24T09:02:39.767Z"
   },
   {
    "duration": 13,
    "start_time": "2023-07-24T09:02:39.774Z"
   },
   {
    "duration": 10,
    "start_time": "2023-07-24T09:02:39.788Z"
   },
   {
    "duration": 74,
    "start_time": "2023-07-24T09:02:39.800Z"
   },
   {
    "duration": 9,
    "start_time": "2023-07-24T09:02:39.876Z"
   },
   {
    "duration": 29,
    "start_time": "2023-07-24T09:02:39.887Z"
   },
   {
    "duration": 516,
    "start_time": "2023-07-24T09:02:39.918Z"
   },
   {
    "duration": 12,
    "start_time": "2023-07-24T09:02:40.437Z"
   },
   {
    "duration": 76,
    "start_time": "2023-07-24T09:02:40.452Z"
   },
   {
    "duration": 41,
    "start_time": "2023-07-24T09:02:40.530Z"
   },
   {
    "duration": 17,
    "start_time": "2023-07-24T09:02:40.573Z"
   },
   {
    "duration": 52,
    "start_time": "2023-07-24T09:02:40.592Z"
   },
   {
    "duration": 90,
    "start_time": "2023-07-24T09:02:40.649Z"
   },
   {
    "duration": 317,
    "start_time": "2023-07-24T09:02:40.743Z"
   },
   {
    "duration": 13,
    "start_time": "2023-07-24T09:02:41.062Z"
   },
   {
    "duration": 17,
    "start_time": "2023-07-24T09:02:41.077Z"
   },
   {
    "duration": 45,
    "start_time": "2023-07-24T09:02:41.096Z"
   },
   {
    "duration": 25,
    "start_time": "2023-07-24T09:02:41.143Z"
   },
   {
    "duration": 19,
    "start_time": "2023-07-24T09:02:41.174Z"
   },
   {
    "duration": 149,
    "start_time": "2023-07-24T09:02:41.195Z"
   },
   {
    "duration": 76,
    "start_time": "2023-07-24T09:02:41.346Z"
   },
   {
    "duration": 17,
    "start_time": "2023-07-24T09:02:41.424Z"
   },
   {
    "duration": 20,
    "start_time": "2023-07-24T09:02:41.443Z"
   },
   {
    "duration": 9,
    "start_time": "2023-07-24T09:02:41.466Z"
   },
   {
    "duration": 17,
    "start_time": "2023-07-24T09:02:41.477Z"
   },
   {
    "duration": 53,
    "start_time": "2023-07-24T09:02:41.500Z"
   },
   {
    "duration": 110,
    "start_time": "2023-07-24T09:02:41.555Z"
   },
   {
    "duration": 38,
    "start_time": "2023-07-24T09:02:41.667Z"
   },
   {
    "duration": 16,
    "start_time": "2023-07-24T09:02:41.707Z"
   },
   {
    "duration": 14,
    "start_time": "2023-07-24T09:02:41.734Z"
   },
   {
    "duration": 9,
    "start_time": "2023-07-24T09:02:41.755Z"
   },
   {
    "duration": 14,
    "start_time": "2023-07-24T09:02:41.766Z"
   },
   {
    "duration": 12,
    "start_time": "2023-07-24T09:02:41.781Z"
   },
   {
    "duration": 11,
    "start_time": "2023-07-24T09:02:41.796Z"
   },
   {
    "duration": 9,
    "start_time": "2023-07-24T09:02:41.809Z"
   },
   {
    "duration": 15,
    "start_time": "2023-07-24T09:02:41.820Z"
   },
   {
    "duration": 8,
    "start_time": "2023-07-24T09:02:41.838Z"
   },
   {
    "duration": 48,
    "start_time": "2023-07-24T09:02:41.850Z"
   },
   {
    "duration": 12,
    "start_time": "2023-07-24T09:02:41.901Z"
   },
   {
    "duration": 32,
    "start_time": "2023-07-24T09:02:41.915Z"
   },
   {
    "duration": 48,
    "start_time": "2023-07-24T09:02:41.949Z"
   },
   {
    "duration": 17,
    "start_time": "2023-07-24T09:02:41.999Z"
   },
   {
    "duration": 22,
    "start_time": "2023-07-24T09:02:42.018Z"
   },
   {
    "duration": 39,
    "start_time": "2023-07-24T09:02:42.042Z"
   },
   {
    "duration": 5,
    "start_time": "2023-07-24T09:02:42.083Z"
   },
   {
    "duration": 16,
    "start_time": "2023-07-24T09:02:42.090Z"
   },
   {
    "duration": 8,
    "start_time": "2023-07-24T09:02:42.108Z"
   },
   {
    "duration": 7,
    "start_time": "2023-07-24T09:02:42.118Z"
   },
   {
    "duration": 39,
    "start_time": "2023-07-24T09:02:42.127Z"
   },
   {
    "duration": 39,
    "start_time": "2023-07-24T09:02:42.168Z"
   },
   {
    "duration": 19,
    "start_time": "2023-07-24T09:02:42.209Z"
   },
   {
    "duration": 28,
    "start_time": "2023-07-24T09:02:42.230Z"
   },
   {
    "duration": 13,
    "start_time": "2023-07-24T09:02:42.261Z"
   },
   {
    "duration": 20,
    "start_time": "2023-07-24T09:02:42.276Z"
   },
   {
    "duration": 14,
    "start_time": "2023-07-24T09:02:42.298Z"
   },
   {
    "duration": 31,
    "start_time": "2023-07-24T09:02:42.314Z"
   },
   {
    "duration": 17,
    "start_time": "2023-07-24T09:02:42.347Z"
   },
   {
    "duration": 14,
    "start_time": "2023-07-24T09:02:42.366Z"
   },
   {
    "duration": 9,
    "start_time": "2023-07-24T09:02:42.382Z"
   },
   {
    "duration": 11,
    "start_time": "2023-07-24T09:02:42.393Z"
   },
   {
    "duration": 13,
    "start_time": "2023-07-24T09:02:42.406Z"
   },
   {
    "duration": 26,
    "start_time": "2023-07-24T09:02:42.421Z"
   },
   {
    "duration": 37,
    "start_time": "2023-07-24T09:02:42.449Z"
   },
   {
    "duration": 577,
    "start_time": "2023-07-24T09:02:42.488Z"
   },
   {
    "duration": 8,
    "start_time": "2023-07-24T09:02:43.067Z"
   },
   {
    "duration": 25,
    "start_time": "2023-07-24T09:02:43.077Z"
   },
   {
    "duration": 259,
    "start_time": "2023-07-24T09:02:43.104Z"
   },
   {
    "duration": 35,
    "start_time": "2023-07-24T09:02:43.367Z"
   },
   {
    "duration": 16,
    "start_time": "2023-07-24T09:02:43.404Z"
   },
   {
    "duration": 63,
    "start_time": "2023-07-24T09:02:43.432Z"
   },
   {
    "duration": 10,
    "start_time": "2023-07-24T09:02:43.497Z"
   },
   {
    "duration": 8,
    "start_time": "2023-07-24T09:02:43.509Z"
   },
   {
    "duration": 28,
    "start_time": "2023-07-24T09:02:43.519Z"
   },
   {
    "duration": 29,
    "start_time": "2023-07-24T09:02:43.549Z"
   },
   {
    "duration": 32,
    "start_time": "2023-07-24T09:02:43.581Z"
   },
   {
    "duration": 11,
    "start_time": "2023-07-24T09:02:43.614Z"
   },
   {
    "duration": 48,
    "start_time": "2023-07-24T09:02:43.627Z"
   },
   {
    "duration": 14,
    "start_time": "2023-07-24T09:02:43.676Z"
   },
   {
    "duration": 94,
    "start_time": "2023-07-24T09:02:43.692Z"
   },
   {
    "duration": 14,
    "start_time": "2023-07-24T09:02:43.794Z"
   },
   {
    "duration": 8,
    "start_time": "2023-07-24T09:02:43.811Z"
   },
   {
    "duration": 5,
    "start_time": "2023-07-24T09:02:43.822Z"
   },
   {
    "duration": 97,
    "start_time": "2023-07-24T09:02:43.828Z"
   },
   {
    "duration": 39,
    "start_time": "2023-07-24T09:02:43.927Z"
   },
   {
    "duration": 45,
    "start_time": "2023-07-24T09:02:43.968Z"
   },
   {
    "duration": 68,
    "start_time": "2023-07-24T09:02:44.016Z"
   },
   {
    "duration": 36,
    "start_time": "2023-07-24T09:02:44.086Z"
   },
   {
    "duration": 45,
    "start_time": "2023-07-24T09:02:44.124Z"
   },
   {
    "duration": 139,
    "start_time": "2023-07-24T09:02:44.171Z"
   },
   {
    "duration": 40,
    "start_time": "2023-07-24T09:02:44.311Z"
   },
   {
    "duration": 38,
    "start_time": "2023-07-24T09:02:44.353Z"
   },
   {
    "duration": 24,
    "start_time": "2023-07-24T09:02:44.393Z"
   },
   {
    "duration": 39,
    "start_time": "2023-07-24T09:02:44.419Z"
   },
   {
    "duration": 22,
    "start_time": "2023-07-24T09:02:44.461Z"
   },
   {
    "duration": 28,
    "start_time": "2023-07-24T09:02:44.485Z"
   },
   {
    "duration": 21,
    "start_time": "2023-07-24T09:02:44.515Z"
   },
   {
    "duration": 54,
    "start_time": "2023-07-24T09:02:44.539Z"
   },
   {
    "duration": 28,
    "start_time": "2023-07-24T09:02:44.595Z"
   },
   {
    "duration": 52,
    "start_time": "2023-07-24T09:02:44.625Z"
   },
   {
    "duration": 24,
    "start_time": "2023-07-24T09:02:44.680Z"
   },
   {
    "duration": 12,
    "start_time": "2023-07-24T09:02:44.708Z"
   },
   {
    "duration": 58,
    "start_time": "2023-07-24T09:02:44.723Z"
   },
   {
    "duration": 60,
    "start_time": "2023-07-24T09:02:44.783Z"
   },
   {
    "duration": 70,
    "start_time": "2023-07-24T09:02:44.845Z"
   },
   {
    "duration": 171,
    "start_time": "2023-07-24T09:02:44.920Z"
   },
   {
    "duration": 84,
    "start_time": "2023-07-24T09:02:45.093Z"
   },
   {
    "duration": 30,
    "start_time": "2023-07-24T09:02:45.179Z"
   },
   {
    "duration": 665,
    "start_time": "2023-07-24T09:02:45.211Z"
   },
   {
    "duration": 57,
    "start_time": "2023-07-24T09:02:45.877Z"
   },
   {
    "duration": 213,
    "start_time": "2023-07-24T09:02:45.937Z"
   },
   {
    "duration": 15,
    "start_time": "2023-07-24T09:02:46.152Z"
   },
   {
    "duration": 156,
    "start_time": "2023-07-24T09:02:46.169Z"
   },
   {
    "duration": 0,
    "start_time": "2023-07-24T09:02:46.327Z"
   },
   {
    "duration": 0,
    "start_time": "2023-07-24T09:02:46.328Z"
   },
   {
    "duration": 7,
    "start_time": "2023-07-24T09:04:13.759Z"
   },
   {
    "duration": 10,
    "start_time": "2023-07-24T09:04:17.934Z"
   },
   {
    "duration": 3,
    "start_time": "2023-07-24T09:06:36.832Z"
   },
   {
    "duration": 3,
    "start_time": "2023-07-24T09:07:03.233Z"
   },
   {
    "duration": 6,
    "start_time": "2023-07-24T09:08:06.789Z"
   },
   {
    "duration": 4,
    "start_time": "2023-07-24T09:08:17.734Z"
   },
   {
    "duration": 3,
    "start_time": "2023-07-24T09:08:26.311Z"
   },
   {
    "duration": 11,
    "start_time": "2023-07-24T09:08:49.561Z"
   },
   {
    "duration": 5147,
    "start_time": "2023-07-24T09:11:33.217Z"
   },
   {
    "duration": 7,
    "start_time": "2023-07-24T09:12:04.102Z"
   },
   {
    "duration": 933,
    "start_time": "2023-07-24T09:12:21.898Z"
   },
   {
    "duration": 30,
    "start_time": "2023-07-24T09:12:22.835Z"
   },
   {
    "duration": 4,
    "start_time": "2023-07-24T09:12:22.867Z"
   },
   {
    "duration": 30,
    "start_time": "2023-07-24T09:12:22.874Z"
   },
   {
    "duration": 15,
    "start_time": "2023-07-24T09:12:22.906Z"
   },
   {
    "duration": 76,
    "start_time": "2023-07-24T09:12:22.923Z"
   },
   {
    "duration": 8,
    "start_time": "2023-07-24T09:12:23.001Z"
   },
   {
    "duration": 49,
    "start_time": "2023-07-24T09:12:23.011Z"
   },
   {
    "duration": 509,
    "start_time": "2023-07-24T09:12:23.062Z"
   },
   {
    "duration": 9,
    "start_time": "2023-07-24T09:12:23.574Z"
   },
   {
    "duration": 122,
    "start_time": "2023-07-24T09:12:23.585Z"
   },
   {
    "duration": 27,
    "start_time": "2023-07-24T09:12:23.709Z"
   },
   {
    "duration": 24,
    "start_time": "2023-07-24T09:12:23.739Z"
   },
   {
    "duration": 32,
    "start_time": "2023-07-24T09:12:23.765Z"
   },
   {
    "duration": 31,
    "start_time": "2023-07-24T09:12:23.799Z"
   },
   {
    "duration": 276,
    "start_time": "2023-07-24T09:12:23.832Z"
   },
   {
    "duration": 9,
    "start_time": "2023-07-24T09:12:24.110Z"
   },
   {
    "duration": 32,
    "start_time": "2023-07-24T09:12:24.132Z"
   },
   {
    "duration": 58,
    "start_time": "2023-07-24T09:12:24.166Z"
   },
   {
    "duration": 13,
    "start_time": "2023-07-24T09:12:24.226Z"
   },
   {
    "duration": 37,
    "start_time": "2023-07-24T09:12:24.241Z"
   },
   {
    "duration": 105,
    "start_time": "2023-07-24T09:12:24.280Z"
   },
   {
    "duration": 53,
    "start_time": "2023-07-24T09:12:24.386Z"
   },
   {
    "duration": 10,
    "start_time": "2023-07-24T09:12:24.441Z"
   },
   {
    "duration": 21,
    "start_time": "2023-07-24T09:12:24.453Z"
   },
   {
    "duration": 14,
    "start_time": "2023-07-24T09:12:24.476Z"
   },
   {
    "duration": 14,
    "start_time": "2023-07-24T09:12:24.492Z"
   },
   {
    "duration": 41,
    "start_time": "2023-07-24T09:12:24.510Z"
   },
   {
    "duration": 60,
    "start_time": "2023-07-24T09:12:24.553Z"
   },
   {
    "duration": 38,
    "start_time": "2023-07-24T09:12:24.615Z"
   },
   {
    "duration": 19,
    "start_time": "2023-07-24T09:12:24.655Z"
   },
   {
    "duration": 12,
    "start_time": "2023-07-24T09:12:24.676Z"
   },
   {
    "duration": 5,
    "start_time": "2023-07-24T09:12:24.690Z"
   },
   {
    "duration": 20,
    "start_time": "2023-07-24T09:12:24.697Z"
   },
   {
    "duration": 51,
    "start_time": "2023-07-24T09:12:24.719Z"
   },
   {
    "duration": 18,
    "start_time": "2023-07-24T09:12:24.773Z"
   },
   {
    "duration": 19,
    "start_time": "2023-07-24T09:12:24.793Z"
   },
   {
    "duration": 47,
    "start_time": "2023-07-24T09:12:24.814Z"
   },
   {
    "duration": 30,
    "start_time": "2023-07-24T09:12:24.863Z"
   },
   {
    "duration": 71,
    "start_time": "2023-07-24T09:12:24.894Z"
   },
   {
    "duration": 20,
    "start_time": "2023-07-24T09:12:24.969Z"
   },
   {
    "duration": 37,
    "start_time": "2023-07-24T09:12:24.991Z"
   },
   {
    "duration": 65,
    "start_time": "2023-07-24T09:12:25.030Z"
   },
   {
    "duration": 22,
    "start_time": "2023-07-24T09:12:25.097Z"
   },
   {
    "duration": 16,
    "start_time": "2023-07-24T09:12:25.121Z"
   },
   {
    "duration": 32,
    "start_time": "2023-07-24T09:12:25.138Z"
   },
   {
    "duration": 23,
    "start_time": "2023-07-24T09:12:25.172Z"
   },
   {
    "duration": 30,
    "start_time": "2023-07-24T09:12:25.196Z"
   },
   {
    "duration": 6,
    "start_time": "2023-07-24T09:12:25.228Z"
   },
   {
    "duration": 25,
    "start_time": "2023-07-24T09:12:25.236Z"
   },
   {
    "duration": 30,
    "start_time": "2023-07-24T09:12:25.262Z"
   },
   {
    "duration": 24,
    "start_time": "2023-07-24T09:12:25.294Z"
   },
   {
    "duration": 20,
    "start_time": "2023-07-24T09:12:25.320Z"
   },
   {
    "duration": 14,
    "start_time": "2023-07-24T09:12:25.342Z"
   },
   {
    "duration": 15,
    "start_time": "2023-07-24T09:12:25.357Z"
   },
   {
    "duration": 66,
    "start_time": "2023-07-24T09:12:25.373Z"
   },
   {
    "duration": 52,
    "start_time": "2023-07-24T09:12:25.441Z"
   },
   {
    "duration": 30,
    "start_time": "2023-07-24T09:12:25.494Z"
   },
   {
    "duration": 26,
    "start_time": "2023-07-24T09:12:25.526Z"
   },
   {
    "duration": 16,
    "start_time": "2023-07-24T09:12:25.553Z"
   },
   {
    "duration": 9,
    "start_time": "2023-07-24T09:12:25.571Z"
   },
   {
    "duration": 18,
    "start_time": "2023-07-24T09:12:25.582Z"
   },
   {
    "duration": 12,
    "start_time": "2023-07-24T09:12:25.603Z"
   },
   {
    "duration": 18,
    "start_time": "2023-07-24T09:12:25.618Z"
   },
   {
    "duration": 22,
    "start_time": "2023-07-24T09:12:25.637Z"
   },
   {
    "duration": 508,
    "start_time": "2023-07-24T09:12:25.661Z"
   },
   {
    "duration": 7,
    "start_time": "2023-07-24T09:12:26.170Z"
   },
   {
    "duration": 19,
    "start_time": "2023-07-24T09:12:26.178Z"
   },
   {
    "duration": 120,
    "start_time": "2023-07-24T09:12:26.199Z"
   },
   {
    "duration": 50,
    "start_time": "2023-07-24T09:12:26.320Z"
   },
   {
    "duration": 8,
    "start_time": "2023-07-24T09:12:26.372Z"
   },
   {
    "duration": 26,
    "start_time": "2023-07-24T09:12:26.381Z"
   },
   {
    "duration": 33,
    "start_time": "2023-07-24T09:12:26.408Z"
   },
   {
    "duration": 26,
    "start_time": "2023-07-24T09:12:26.443Z"
   },
   {
    "duration": 14,
    "start_time": "2023-07-24T09:12:26.470Z"
   },
   {
    "duration": 13,
    "start_time": "2023-07-24T09:12:26.486Z"
   },
   {
    "duration": 14,
    "start_time": "2023-07-24T09:12:26.501Z"
   },
   {
    "duration": 28,
    "start_time": "2023-07-24T09:12:26.517Z"
   },
   {
    "duration": 33,
    "start_time": "2023-07-24T09:12:26.548Z"
   },
   {
    "duration": 55,
    "start_time": "2023-07-24T09:12:26.583Z"
   },
   {
    "duration": 19,
    "start_time": "2023-07-24T09:12:26.641Z"
   },
   {
    "duration": 8,
    "start_time": "2023-07-24T09:12:26.666Z"
   },
   {
    "duration": 17,
    "start_time": "2023-07-24T09:12:26.676Z"
   },
   {
    "duration": 8,
    "start_time": "2023-07-24T09:12:26.694Z"
   },
   {
    "duration": 44,
    "start_time": "2023-07-24T09:12:26.703Z"
   },
   {
    "duration": 30,
    "start_time": "2023-07-24T09:12:26.749Z"
   },
   {
    "duration": 10,
    "start_time": "2023-07-24T09:12:26.781Z"
   },
   {
    "duration": 40,
    "start_time": "2023-07-24T09:12:26.792Z"
   },
   {
    "duration": 12,
    "start_time": "2023-07-24T09:12:26.834Z"
   },
   {
    "duration": 27,
    "start_time": "2023-07-24T09:12:26.847Z"
   },
   {
    "duration": 9,
    "start_time": "2023-07-24T09:12:26.876Z"
   },
   {
    "duration": 7,
    "start_time": "2023-07-24T09:12:26.887Z"
   },
   {
    "duration": 13,
    "start_time": "2023-07-24T09:12:26.895Z"
   },
   {
    "duration": 18,
    "start_time": "2023-07-24T09:12:26.909Z"
   },
   {
    "duration": 31,
    "start_time": "2023-07-24T09:12:26.928Z"
   },
   {
    "duration": 21,
    "start_time": "2023-07-24T09:12:26.961Z"
   },
   {
    "duration": 12,
    "start_time": "2023-07-24T09:12:26.984Z"
   },
   {
    "duration": 18,
    "start_time": "2023-07-24T09:12:26.998Z"
   },
   {
    "duration": 16,
    "start_time": "2023-07-24T09:12:27.018Z"
   },
   {
    "duration": 30,
    "start_time": "2023-07-24T09:12:27.036Z"
   },
   {
    "duration": 12,
    "start_time": "2023-07-24T09:12:27.067Z"
   },
   {
    "duration": 28,
    "start_time": "2023-07-24T09:12:27.081Z"
   },
   {
    "duration": 26,
    "start_time": "2023-07-24T09:12:27.111Z"
   },
   {
    "duration": 14,
    "start_time": "2023-07-24T09:12:27.139Z"
   },
   {
    "duration": 26,
    "start_time": "2023-07-24T09:12:27.155Z"
   },
   {
    "duration": 6,
    "start_time": "2023-07-24T09:12:27.183Z"
   },
   {
    "duration": 14,
    "start_time": "2023-07-24T09:12:27.191Z"
   },
   {
    "duration": 39,
    "start_time": "2023-07-24T09:12:27.207Z"
   },
   {
    "duration": 28,
    "start_time": "2023-07-24T09:12:27.248Z"
   },
   {
    "duration": 706,
    "start_time": "2023-07-24T09:12:27.277Z"
   },
   {
    "duration": 57,
    "start_time": "2023-07-24T09:12:27.986Z"
   },
   {
    "duration": 126,
    "start_time": "2023-07-24T09:12:28.045Z"
   },
   {
    "duration": 14,
    "start_time": "2023-07-24T09:12:28.174Z"
   },
   {
    "duration": 15,
    "start_time": "2023-07-24T09:12:28.190Z"
   },
   {
    "duration": 27,
    "start_time": "2023-07-24T09:12:28.206Z"
   },
   {
    "duration": 6,
    "start_time": "2023-07-24T09:12:28.236Z"
   },
   {
    "duration": 46,
    "start_time": "2023-07-24T09:12:28.243Z"
   },
   {
    "duration": 22,
    "start_time": "2023-07-24T09:12:28.291Z"
   },
   {
    "duration": 14,
    "start_time": "2023-07-24T09:12:28.315Z"
   },
   {
    "duration": 15,
    "start_time": "2023-07-24T09:12:28.330Z"
   },
   {
    "duration": 34,
    "start_time": "2023-07-24T09:12:28.347Z"
   },
   {
    "duration": 9,
    "start_time": "2023-07-24T09:12:28.383Z"
   },
   {
    "duration": 6,
    "start_time": "2023-07-24T09:16:18.672Z"
   },
   {
    "duration": 14,
    "start_time": "2023-07-24T09:17:49.327Z"
   },
   {
    "duration": 12,
    "start_time": "2023-07-24T09:18:01.311Z"
   },
   {
    "duration": 1408,
    "start_time": "2023-07-24T09:18:38.152Z"
   },
   {
    "duration": 31,
    "start_time": "2023-07-24T09:18:39.563Z"
   },
   {
    "duration": 6,
    "start_time": "2023-07-24T09:18:39.596Z"
   },
   {
    "duration": 20,
    "start_time": "2023-07-24T09:18:39.604Z"
   },
   {
    "duration": 27,
    "start_time": "2023-07-24T09:18:39.626Z"
   },
   {
    "duration": 102,
    "start_time": "2023-07-24T09:18:39.656Z"
   },
   {
    "duration": 8,
    "start_time": "2023-07-24T09:18:39.759Z"
   },
   {
    "duration": 40,
    "start_time": "2023-07-24T09:18:39.769Z"
   },
   {
    "duration": 483,
    "start_time": "2023-07-24T09:18:39.811Z"
   },
   {
    "duration": 10,
    "start_time": "2023-07-24T09:18:40.297Z"
   },
   {
    "duration": 80,
    "start_time": "2023-07-24T09:18:40.309Z"
   },
   {
    "duration": 25,
    "start_time": "2023-07-24T09:18:40.391Z"
   },
   {
    "duration": 7,
    "start_time": "2023-07-24T09:18:40.417Z"
   },
   {
    "duration": 31,
    "start_time": "2023-07-24T09:18:40.425Z"
   },
   {
    "duration": 32,
    "start_time": "2023-07-24T09:18:40.458Z"
   },
   {
    "duration": 299,
    "start_time": "2023-07-24T09:18:40.492Z"
   },
   {
    "duration": 9,
    "start_time": "2023-07-24T09:18:40.792Z"
   },
   {
    "duration": 7,
    "start_time": "2023-07-24T09:18:40.803Z"
   },
   {
    "duration": 52,
    "start_time": "2023-07-24T09:18:40.811Z"
   },
   {
    "duration": 12,
    "start_time": "2023-07-24T09:18:40.864Z"
   },
   {
    "duration": 14,
    "start_time": "2023-07-24T09:18:40.878Z"
   },
   {
    "duration": 118,
    "start_time": "2023-07-24T09:18:40.894Z"
   },
   {
    "duration": 60,
    "start_time": "2023-07-24T09:18:41.014Z"
   },
   {
    "duration": 8,
    "start_time": "2023-07-24T09:18:41.076Z"
   },
   {
    "duration": 4,
    "start_time": "2023-07-24T09:18:41.086Z"
   },
   {
    "duration": 6,
    "start_time": "2023-07-24T09:18:41.092Z"
   },
   {
    "duration": 12,
    "start_time": "2023-07-24T09:18:41.099Z"
   },
   {
    "duration": 47,
    "start_time": "2023-07-24T09:18:41.138Z"
   },
   {
    "duration": 93,
    "start_time": "2023-07-24T09:18:41.187Z"
   },
   {
    "duration": 22,
    "start_time": "2023-07-24T09:18:41.282Z"
   },
   {
    "duration": 6,
    "start_time": "2023-07-24T09:18:41.306Z"
   },
   {
    "duration": 9,
    "start_time": "2023-07-24T09:18:41.331Z"
   },
   {
    "duration": 18,
    "start_time": "2023-07-24T09:18:41.342Z"
   },
   {
    "duration": 16,
    "start_time": "2023-07-24T09:18:41.362Z"
   },
   {
    "duration": 14,
    "start_time": "2023-07-24T09:18:41.380Z"
   },
   {
    "duration": 11,
    "start_time": "2023-07-24T09:18:41.396Z"
   },
   {
    "duration": 8,
    "start_time": "2023-07-24T09:18:41.409Z"
   },
   {
    "duration": 14,
    "start_time": "2023-07-24T09:18:41.419Z"
   },
   {
    "duration": 7,
    "start_time": "2023-07-24T09:18:41.435Z"
   },
   {
    "duration": 49,
    "start_time": "2023-07-24T09:18:41.447Z"
   },
   {
    "duration": 16,
    "start_time": "2023-07-24T09:18:41.498Z"
   },
   {
    "duration": 15,
    "start_time": "2023-07-24T09:18:41.515Z"
   },
   {
    "duration": 26,
    "start_time": "2023-07-24T09:18:41.533Z"
   },
   {
    "duration": 18,
    "start_time": "2023-07-24T09:18:41.560Z"
   },
   {
    "duration": 25,
    "start_time": "2023-07-24T09:18:41.580Z"
   },
   {
    "duration": 14,
    "start_time": "2023-07-24T09:18:41.606Z"
   },
   {
    "duration": 14,
    "start_time": "2023-07-24T09:18:41.622Z"
   },
   {
    "duration": 24,
    "start_time": "2023-07-24T09:18:41.640Z"
   },
   {
    "duration": 13,
    "start_time": "2023-07-24T09:18:41.666Z"
   },
   {
    "duration": 14,
    "start_time": "2023-07-24T09:18:41.681Z"
   },
   {
    "duration": 19,
    "start_time": "2023-07-24T09:18:41.697Z"
   },
   {
    "duration": 12,
    "start_time": "2023-07-24T09:18:41.717Z"
   },
   {
    "duration": 17,
    "start_time": "2023-07-24T09:18:41.731Z"
   },
   {
    "duration": 18,
    "start_time": "2023-07-24T09:18:41.750Z"
   },
   {
    "duration": 69,
    "start_time": "2023-07-24T09:18:41.770Z"
   },
   {
    "duration": 67,
    "start_time": "2023-07-24T09:18:41.841Z"
   },
   {
    "duration": 42,
    "start_time": "2023-07-24T09:18:41.910Z"
   },
   {
    "duration": 26,
    "start_time": "2023-07-24T09:18:41.954Z"
   },
   {
    "duration": 5,
    "start_time": "2023-07-24T09:18:41.981Z"
   },
   {
    "duration": 15,
    "start_time": "2023-07-24T09:18:41.988Z"
   },
   {
    "duration": 5,
    "start_time": "2023-07-24T09:18:42.005Z"
   },
   {
    "duration": 8,
    "start_time": "2023-07-24T09:18:42.011Z"
   },
   {
    "duration": 14,
    "start_time": "2023-07-24T09:18:42.020Z"
   },
   {
    "duration": 25,
    "start_time": "2023-07-24T09:18:42.035Z"
   },
   {
    "duration": 12,
    "start_time": "2023-07-24T09:18:42.062Z"
   },
   {
    "duration": 469,
    "start_time": "2023-07-24T09:18:42.076Z"
   },
   {
    "duration": 9,
    "start_time": "2023-07-24T09:18:42.546Z"
   },
   {
    "duration": 33,
    "start_time": "2023-07-24T09:18:42.557Z"
   },
   {
    "duration": 101,
    "start_time": "2023-07-24T09:18:42.591Z"
   },
   {
    "duration": 26,
    "start_time": "2023-07-24T09:18:42.693Z"
   },
   {
    "duration": 17,
    "start_time": "2023-07-24T09:18:42.731Z"
   },
   {
    "duration": 19,
    "start_time": "2023-07-24T09:18:42.751Z"
   },
   {
    "duration": 16,
    "start_time": "2023-07-24T09:18:42.771Z"
   },
   {
    "duration": 15,
    "start_time": "2023-07-24T09:18:42.788Z"
   },
   {
    "duration": 34,
    "start_time": "2023-07-24T09:18:42.804Z"
   },
   {
    "duration": 19,
    "start_time": "2023-07-24T09:18:42.840Z"
   },
   {
    "duration": 35,
    "start_time": "2023-07-24T09:18:42.861Z"
   },
   {
    "duration": 45,
    "start_time": "2023-07-24T09:18:42.898Z"
   },
   {
    "duration": 24,
    "start_time": "2023-07-24T09:18:42.945Z"
   },
   {
    "duration": 16,
    "start_time": "2023-07-24T09:18:42.971Z"
   },
   {
    "duration": 16,
    "start_time": "2023-07-24T09:18:42.989Z"
   },
   {
    "duration": 23,
    "start_time": "2023-07-24T09:18:43.013Z"
   },
   {
    "duration": 18,
    "start_time": "2023-07-24T09:18:43.038Z"
   },
   {
    "duration": 16,
    "start_time": "2023-07-24T09:18:43.058Z"
   },
   {
    "duration": 84,
    "start_time": "2023-07-24T09:18:43.076Z"
   },
   {
    "duration": 37,
    "start_time": "2023-07-24T09:18:43.162Z"
   },
   {
    "duration": 9,
    "start_time": "2023-07-24T09:18:43.201Z"
   },
   {
    "duration": 34,
    "start_time": "2023-07-24T09:18:43.212Z"
   },
   {
    "duration": 10,
    "start_time": "2023-07-24T09:18:43.248Z"
   },
   {
    "duration": 18,
    "start_time": "2023-07-24T09:18:43.259Z"
   },
   {
    "duration": 24,
    "start_time": "2023-07-24T09:18:43.278Z"
   },
   {
    "duration": 13,
    "start_time": "2023-07-24T09:18:43.304Z"
   },
   {
    "duration": 27,
    "start_time": "2023-07-24T09:18:43.318Z"
   },
   {
    "duration": 25,
    "start_time": "2023-07-24T09:18:43.346Z"
   },
   {
    "duration": 27,
    "start_time": "2023-07-24T09:18:43.373Z"
   },
   {
    "duration": 23,
    "start_time": "2023-07-24T09:18:43.402Z"
   },
   {
    "duration": 29,
    "start_time": "2023-07-24T09:18:43.428Z"
   },
   {
    "duration": 35,
    "start_time": "2023-07-24T09:18:43.459Z"
   },
   {
    "duration": 36,
    "start_time": "2023-07-24T09:18:43.496Z"
   },
   {
    "duration": 16,
    "start_time": "2023-07-24T09:18:43.533Z"
   },
   {
    "duration": 24,
    "start_time": "2023-07-24T09:18:43.551Z"
   },
   {
    "duration": 19,
    "start_time": "2023-07-24T09:18:43.576Z"
   },
   {
    "duration": 19,
    "start_time": "2023-07-24T09:18:43.596Z"
   },
   {
    "duration": 24,
    "start_time": "2023-07-24T09:18:43.616Z"
   },
   {
    "duration": 38,
    "start_time": "2023-07-24T09:18:43.642Z"
   },
   {
    "duration": 24,
    "start_time": "2023-07-24T09:18:43.682Z"
   },
   {
    "duration": 33,
    "start_time": "2023-07-24T09:18:43.707Z"
   },
   {
    "duration": 30,
    "start_time": "2023-07-24T09:18:43.741Z"
   },
   {
    "duration": 37,
    "start_time": "2023-07-24T09:18:43.773Z"
   },
   {
    "duration": 670,
    "start_time": "2023-07-24T09:18:43.812Z"
   },
   {
    "duration": 59,
    "start_time": "2023-07-24T09:18:44.484Z"
   },
   {
    "duration": 155,
    "start_time": "2023-07-24T09:18:44.545Z"
   },
   {
    "duration": 13,
    "start_time": "2023-07-24T09:18:44.702Z"
   },
   {
    "duration": 63,
    "start_time": "2023-07-24T09:18:44.731Z"
   },
   {
    "duration": 24,
    "start_time": "2023-07-24T09:18:44.796Z"
   },
   {
    "duration": 40,
    "start_time": "2023-07-24T09:18:44.823Z"
   },
   {
    "duration": 24,
    "start_time": "2023-07-24T09:18:44.865Z"
   },
   {
    "duration": 16,
    "start_time": "2023-07-24T09:18:44.892Z"
   },
   {
    "duration": 12,
    "start_time": "2023-07-24T09:18:44.910Z"
   },
   {
    "duration": 24,
    "start_time": "2023-07-24T09:18:44.924Z"
   },
   {
    "duration": 41,
    "start_time": "2023-07-24T09:18:44.949Z"
   },
   {
    "duration": 8,
    "start_time": "2023-07-24T09:18:44.992Z"
   },
   {
    "duration": 67,
    "start_time": "2023-07-24T09:18:45.001Z"
   },
   {
    "duration": 48,
    "start_time": "2023-07-24T09:18:45.070Z"
   },
   {
    "duration": 30,
    "start_time": "2023-07-24T09:18:45.120Z"
   },
   {
    "duration": 6,
    "start_time": "2023-07-24T09:19:19.056Z"
   },
   {
    "duration": 6,
    "start_time": "2023-07-24T09:19:42.824Z"
   },
   {
    "duration": 6,
    "start_time": "2023-07-24T09:19:50.312Z"
   },
   {
    "duration": 4,
    "start_time": "2023-07-24T09:20:05.211Z"
   },
   {
    "duration": 169,
    "start_time": "2023-07-24T09:20:14.316Z"
   },
   {
    "duration": 9,
    "start_time": "2023-07-24T09:20:40.149Z"
   },
   {
    "duration": 950,
    "start_time": "2023-07-24T09:20:53.770Z"
   },
   {
    "duration": 33,
    "start_time": "2023-07-24T09:20:54.732Z"
   },
   {
    "duration": 5,
    "start_time": "2023-07-24T09:20:54.766Z"
   },
   {
    "duration": 34,
    "start_time": "2023-07-24T09:20:54.773Z"
   },
   {
    "duration": 27,
    "start_time": "2023-07-24T09:20:54.809Z"
   },
   {
    "duration": 117,
    "start_time": "2023-07-24T09:20:54.838Z"
   },
   {
    "duration": 7,
    "start_time": "2023-07-24T09:20:54.960Z"
   },
   {
    "duration": 38,
    "start_time": "2023-07-24T09:20:54.969Z"
   },
   {
    "duration": 472,
    "start_time": "2023-07-24T09:20:55.009Z"
   },
   {
    "duration": 9,
    "start_time": "2023-07-24T09:20:55.484Z"
   },
   {
    "duration": 72,
    "start_time": "2023-07-24T09:20:55.495Z"
   },
   {
    "duration": 26,
    "start_time": "2023-07-24T09:20:55.569Z"
   },
   {
    "duration": 7,
    "start_time": "2023-07-24T09:20:55.596Z"
   },
   {
    "duration": 12,
    "start_time": "2023-07-24T09:20:55.605Z"
   },
   {
    "duration": 48,
    "start_time": "2023-07-24T09:20:55.631Z"
   },
   {
    "duration": 298,
    "start_time": "2023-07-24T09:20:55.681Z"
   },
   {
    "duration": 8,
    "start_time": "2023-07-24T09:20:55.981Z"
   },
   {
    "duration": 5,
    "start_time": "2023-07-24T09:20:55.990Z"
   },
   {
    "duration": 62,
    "start_time": "2023-07-24T09:20:55.996Z"
   },
   {
    "duration": 12,
    "start_time": "2023-07-24T09:20:56.059Z"
   },
   {
    "duration": 15,
    "start_time": "2023-07-24T09:20:56.072Z"
   },
   {
    "duration": 115,
    "start_time": "2023-07-24T09:20:56.088Z"
   },
   {
    "duration": 59,
    "start_time": "2023-07-24T09:20:56.205Z"
   },
   {
    "duration": 8,
    "start_time": "2023-07-24T09:20:56.266Z"
   },
   {
    "duration": 11,
    "start_time": "2023-07-24T09:20:56.275Z"
   },
   {
    "duration": 17,
    "start_time": "2023-07-24T09:20:56.288Z"
   },
   {
    "duration": 11,
    "start_time": "2023-07-24T09:20:56.307Z"
   },
   {
    "duration": 48,
    "start_time": "2023-07-24T09:20:56.322Z"
   },
   {
    "duration": 86,
    "start_time": "2023-07-24T09:20:56.372Z"
   },
   {
    "duration": 22,
    "start_time": "2023-07-24T09:20:56.460Z"
   },
   {
    "duration": 8,
    "start_time": "2023-07-24T09:20:56.483Z"
   },
   {
    "duration": 10,
    "start_time": "2023-07-24T09:20:56.492Z"
   },
   {
    "duration": 7,
    "start_time": "2023-07-24T09:20:56.504Z"
   },
   {
    "duration": 26,
    "start_time": "2023-07-24T09:20:56.512Z"
   },
   {
    "duration": 18,
    "start_time": "2023-07-24T09:20:56.540Z"
   },
   {
    "duration": 9,
    "start_time": "2023-07-24T09:20:56.559Z"
   },
   {
    "duration": 8,
    "start_time": "2023-07-24T09:20:56.569Z"
   },
   {
    "duration": 7,
    "start_time": "2023-07-24T09:20:56.578Z"
   },
   {
    "duration": 7,
    "start_time": "2023-07-24T09:20:56.586Z"
   },
   {
    "duration": 44,
    "start_time": "2023-07-24T09:20:56.595Z"
   },
   {
    "duration": 12,
    "start_time": "2023-07-24T09:20:56.641Z"
   },
   {
    "duration": 13,
    "start_time": "2023-07-24T09:20:56.655Z"
   },
   {
    "duration": 20,
    "start_time": "2023-07-24T09:20:56.670Z"
   },
   {
    "duration": 9,
    "start_time": "2023-07-24T09:20:56.691Z"
   },
   {
    "duration": 37,
    "start_time": "2023-07-24T09:20:56.701Z"
   },
   {
    "duration": 19,
    "start_time": "2023-07-24T09:20:56.740Z"
   },
   {
    "duration": 3,
    "start_time": "2023-07-24T09:20:56.761Z"
   },
   {
    "duration": 6,
    "start_time": "2023-07-24T09:20:56.766Z"
   },
   {
    "duration": 4,
    "start_time": "2023-07-24T09:20:56.774Z"
   },
   {
    "duration": 10,
    "start_time": "2023-07-24T09:20:56.780Z"
   },
   {
    "duration": 11,
    "start_time": "2023-07-24T09:20:56.791Z"
   },
   {
    "duration": 37,
    "start_time": "2023-07-24T09:20:56.804Z"
   },
   {
    "duration": 9,
    "start_time": "2023-07-24T09:20:56.844Z"
   },
   {
    "duration": 16,
    "start_time": "2023-07-24T09:20:56.855Z"
   },
   {
    "duration": 10,
    "start_time": "2023-07-24T09:20:56.873Z"
   },
   {
    "duration": 20,
    "start_time": "2023-07-24T09:20:56.885Z"
   },
   {
    "duration": 13,
    "start_time": "2023-07-24T09:20:56.907Z"
   },
   {
    "duration": 37,
    "start_time": "2023-07-24T09:20:56.922Z"
   },
   {
    "duration": 6,
    "start_time": "2023-07-24T09:20:56.960Z"
   },
   {
    "duration": 13,
    "start_time": "2023-07-24T09:20:56.968Z"
   },
   {
    "duration": 2,
    "start_time": "2023-07-24T09:20:56.983Z"
   },
   {
    "duration": 9,
    "start_time": "2023-07-24T09:20:56.986Z"
   },
   {
    "duration": 13,
    "start_time": "2023-07-24T09:20:56.997Z"
   },
   {
    "duration": 13,
    "start_time": "2023-07-24T09:20:57.012Z"
   },
   {
    "duration": 15,
    "start_time": "2023-07-24T09:20:57.031Z"
   },
   {
    "duration": 540,
    "start_time": "2023-07-24T09:20:57.047Z"
   },
   {
    "duration": 7,
    "start_time": "2023-07-24T09:20:57.588Z"
   },
   {
    "duration": 21,
    "start_time": "2023-07-24T09:20:57.596Z"
   },
   {
    "duration": 114,
    "start_time": "2023-07-24T09:20:57.619Z"
   },
   {
    "duration": 35,
    "start_time": "2023-07-24T09:20:57.735Z"
   },
   {
    "duration": 12,
    "start_time": "2023-07-24T09:20:57.772Z"
   },
   {
    "duration": 24,
    "start_time": "2023-07-24T09:20:57.786Z"
   },
   {
    "duration": 21,
    "start_time": "2023-07-24T09:20:57.812Z"
   },
   {
    "duration": 15,
    "start_time": "2023-07-24T09:20:57.836Z"
   },
   {
    "duration": 13,
    "start_time": "2023-07-24T09:20:57.854Z"
   },
   {
    "duration": 8,
    "start_time": "2023-07-24T09:20:57.868Z"
   },
   {
    "duration": 10,
    "start_time": "2023-07-24T09:20:57.878Z"
   },
   {
    "duration": 15,
    "start_time": "2023-07-24T09:20:57.889Z"
   },
   {
    "duration": 22,
    "start_time": "2023-07-24T09:20:57.906Z"
   },
   {
    "duration": 26,
    "start_time": "2023-07-24T09:20:57.930Z"
   },
   {
    "duration": 14,
    "start_time": "2023-07-24T09:20:57.958Z"
   },
   {
    "duration": 4,
    "start_time": "2023-07-24T09:20:57.978Z"
   },
   {
    "duration": 9,
    "start_time": "2023-07-24T09:20:57.984Z"
   },
   {
    "duration": 9,
    "start_time": "2023-07-24T09:20:57.994Z"
   },
   {
    "duration": 53,
    "start_time": "2023-07-24T09:20:58.005Z"
   },
   {
    "duration": 88,
    "start_time": "2023-07-24T09:20:58.060Z"
   },
   {
    "duration": 33,
    "start_time": "2023-07-24T09:20:58.150Z"
   },
   {
    "duration": 29,
    "start_time": "2023-07-24T09:20:58.185Z"
   },
   {
    "duration": 16,
    "start_time": "2023-07-24T09:20:58.216Z"
   },
   {
    "duration": 18,
    "start_time": "2023-07-24T09:20:58.233Z"
   },
   {
    "duration": 10,
    "start_time": "2023-07-24T09:20:58.253Z"
   },
   {
    "duration": 6,
    "start_time": "2023-07-24T09:20:58.265Z"
   },
   {
    "duration": 14,
    "start_time": "2023-07-24T09:20:58.273Z"
   },
   {
    "duration": 17,
    "start_time": "2023-07-24T09:20:58.289Z"
   },
   {
    "duration": 27,
    "start_time": "2023-07-24T09:20:58.308Z"
   },
   {
    "duration": 5,
    "start_time": "2023-07-24T09:20:58.338Z"
   },
   {
    "duration": 23,
    "start_time": "2023-07-24T09:20:58.344Z"
   },
   {
    "duration": 13,
    "start_time": "2023-07-24T09:20:58.368Z"
   },
   {
    "duration": 9,
    "start_time": "2023-07-24T09:20:58.383Z"
   },
   {
    "duration": 10,
    "start_time": "2023-07-24T09:20:58.394Z"
   },
   {
    "duration": 10,
    "start_time": "2023-07-24T09:20:58.406Z"
   },
   {
    "duration": 28,
    "start_time": "2023-07-24T09:20:58.418Z"
   },
   {
    "duration": 13,
    "start_time": "2023-07-24T09:20:58.448Z"
   },
   {
    "duration": 7,
    "start_time": "2023-07-24T09:20:58.463Z"
   },
   {
    "duration": 11,
    "start_time": "2023-07-24T09:20:58.471Z"
   },
   {
    "duration": 4,
    "start_time": "2023-07-24T09:20:58.483Z"
   },
   {
    "duration": 13,
    "start_time": "2023-07-24T09:20:58.488Z"
   },
   {
    "duration": 12,
    "start_time": "2023-07-24T09:20:58.502Z"
   },
   {
    "duration": 31,
    "start_time": "2023-07-24T09:20:58.515Z"
   },
   {
    "duration": 593,
    "start_time": "2023-07-24T09:20:58.548Z"
   },
   {
    "duration": 10,
    "start_time": "2023-07-24T09:20:59.143Z"
   },
   {
    "duration": 199,
    "start_time": "2023-07-24T09:20:59.155Z"
   },
   {
    "duration": 11,
    "start_time": "2023-07-24T09:20:59.356Z"
   },
   {
    "duration": 100,
    "start_time": "2023-07-24T09:20:59.368Z"
   },
   {
    "duration": 15,
    "start_time": "2023-07-24T09:20:59.469Z"
   },
   {
    "duration": 7,
    "start_time": "2023-07-24T09:20:59.485Z"
   },
   {
    "duration": 27,
    "start_time": "2023-07-24T09:20:59.493Z"
   },
   {
    "duration": 22,
    "start_time": "2023-07-24T09:20:59.522Z"
   },
   {
    "duration": 20,
    "start_time": "2023-07-24T09:20:59.547Z"
   },
   {
    "duration": 11,
    "start_time": "2023-07-24T09:20:59.569Z"
   },
   {
    "duration": 3,
    "start_time": "2023-07-24T09:21:18.130Z"
   },
   {
    "duration": 5,
    "start_time": "2023-07-24T09:21:25.150Z"
   },
   {
    "duration": 8,
    "start_time": "2023-07-24T09:21:29.347Z"
   },
   {
    "duration": 1015,
    "start_time": "2023-07-24T09:21:47.495Z"
   },
   {
    "duration": 28,
    "start_time": "2023-07-24T09:21:48.513Z"
   },
   {
    "duration": 4,
    "start_time": "2023-07-24T09:21:48.543Z"
   },
   {
    "duration": 22,
    "start_time": "2023-07-24T09:21:48.549Z"
   },
   {
    "duration": 10,
    "start_time": "2023-07-24T09:21:48.572Z"
   },
   {
    "duration": 77,
    "start_time": "2023-07-24T09:21:48.583Z"
   },
   {
    "duration": 8,
    "start_time": "2023-07-24T09:21:48.661Z"
   },
   {
    "duration": 20,
    "start_time": "2023-07-24T09:21:48.670Z"
   },
   {
    "duration": 499,
    "start_time": "2023-07-24T09:21:48.691Z"
   },
   {
    "duration": 8,
    "start_time": "2023-07-24T09:21:49.193Z"
   },
   {
    "duration": 81,
    "start_time": "2023-07-24T09:21:49.203Z"
   },
   {
    "duration": 25,
    "start_time": "2023-07-24T09:21:49.286Z"
   },
   {
    "duration": 7,
    "start_time": "2023-07-24T09:21:49.313Z"
   },
   {
    "duration": 33,
    "start_time": "2023-07-24T09:21:49.322Z"
   },
   {
    "duration": 30,
    "start_time": "2023-07-24T09:21:49.357Z"
   },
   {
    "duration": 268,
    "start_time": "2023-07-24T09:21:49.389Z"
   },
   {
    "duration": 9,
    "start_time": "2023-07-24T09:21:49.659Z"
   },
   {
    "duration": 7,
    "start_time": "2023-07-24T09:21:49.670Z"
   },
   {
    "duration": 49,
    "start_time": "2023-07-24T09:21:49.679Z"
   },
   {
    "duration": 16,
    "start_time": "2023-07-24T09:21:49.729Z"
   },
   {
    "duration": 19,
    "start_time": "2023-07-24T09:21:49.747Z"
   },
   {
    "duration": 104,
    "start_time": "2023-07-24T09:21:49.768Z"
   },
   {
    "duration": 42,
    "start_time": "2023-07-24T09:21:49.874Z"
   },
   {
    "duration": 11,
    "start_time": "2023-07-24T09:21:49.934Z"
   },
   {
    "duration": 17,
    "start_time": "2023-07-24T09:21:49.946Z"
   },
   {
    "duration": 6,
    "start_time": "2023-07-24T09:21:49.965Z"
   },
   {
    "duration": 12,
    "start_time": "2023-07-24T09:21:49.973Z"
   },
   {
    "duration": 42,
    "start_time": "2023-07-24T09:21:49.990Z"
   },
   {
    "duration": 77,
    "start_time": "2023-07-24T09:21:50.034Z"
   },
   {
    "duration": 22,
    "start_time": "2023-07-24T09:21:50.112Z"
   },
   {
    "duration": 27,
    "start_time": "2023-07-24T09:21:50.136Z"
   },
   {
    "duration": 31,
    "start_time": "2023-07-24T09:21:50.164Z"
   },
   {
    "duration": 26,
    "start_time": "2023-07-24T09:21:50.197Z"
   },
   {
    "duration": 23,
    "start_time": "2023-07-24T09:21:50.225Z"
   },
   {
    "duration": 12,
    "start_time": "2023-07-24T09:21:50.250Z"
   },
   {
    "duration": 8,
    "start_time": "2023-07-24T09:21:50.263Z"
   },
   {
    "duration": 16,
    "start_time": "2023-07-24T09:21:50.273Z"
   },
   {
    "duration": 6,
    "start_time": "2023-07-24T09:21:50.291Z"
   },
   {
    "duration": 5,
    "start_time": "2023-07-24T09:21:50.298Z"
   },
   {
    "duration": 35,
    "start_time": "2023-07-24T09:21:50.304Z"
   },
   {
    "duration": 10,
    "start_time": "2023-07-24T09:21:50.341Z"
   },
   {
    "duration": 27,
    "start_time": "2023-07-24T09:21:50.353Z"
   },
   {
    "duration": 23,
    "start_time": "2023-07-24T09:21:50.381Z"
   },
   {
    "duration": 9,
    "start_time": "2023-07-24T09:21:50.406Z"
   },
   {
    "duration": 43,
    "start_time": "2023-07-24T09:21:50.416Z"
   },
   {
    "duration": 39,
    "start_time": "2023-07-24T09:21:50.461Z"
   },
   {
    "duration": 6,
    "start_time": "2023-07-24T09:21:50.502Z"
   },
   {
    "duration": 43,
    "start_time": "2023-07-24T09:21:50.509Z"
   },
   {
    "duration": 16,
    "start_time": "2023-07-24T09:21:50.553Z"
   },
   {
    "duration": 15,
    "start_time": "2023-07-24T09:21:50.570Z"
   },
   {
    "duration": 17,
    "start_time": "2023-07-24T09:21:50.586Z"
   },
   {
    "duration": 17,
    "start_time": "2023-07-24T09:21:50.604Z"
   },
   {
    "duration": 26,
    "start_time": "2023-07-24T09:21:50.623Z"
   },
   {
    "duration": 6,
    "start_time": "2023-07-24T09:21:50.652Z"
   },
   {
    "duration": 10,
    "start_time": "2023-07-24T09:21:50.660Z"
   },
   {
    "duration": 14,
    "start_time": "2023-07-24T09:21:50.671Z"
   },
   {
    "duration": 11,
    "start_time": "2023-07-24T09:21:50.687Z"
   },
   {
    "duration": 21,
    "start_time": "2023-07-24T09:21:50.699Z"
   },
   {
    "duration": 5,
    "start_time": "2023-07-24T09:21:50.722Z"
   },
   {
    "duration": 20,
    "start_time": "2023-07-24T09:21:50.728Z"
   },
   {
    "duration": 11,
    "start_time": "2023-07-24T09:21:50.750Z"
   },
   {
    "duration": 9,
    "start_time": "2023-07-24T09:21:50.762Z"
   },
   {
    "duration": 104,
    "start_time": "2023-07-24T09:21:50.772Z"
   },
   {
    "duration": 85,
    "start_time": "2023-07-24T09:21:50.877Z"
   },
   {
    "duration": 21,
    "start_time": "2023-07-24T09:21:50.964Z"
   },
   {
    "duration": 554,
    "start_time": "2023-07-24T09:21:50.987Z"
   },
   {
    "duration": 10,
    "start_time": "2023-07-24T09:21:51.544Z"
   },
   {
    "duration": 37,
    "start_time": "2023-07-24T09:21:51.556Z"
   },
   {
    "duration": 111,
    "start_time": "2023-07-24T09:21:51.594Z"
   },
   {
    "duration": 36,
    "start_time": "2023-07-24T09:21:51.707Z"
   },
   {
    "duration": 23,
    "start_time": "2023-07-24T09:21:51.744Z"
   },
   {
    "duration": 16,
    "start_time": "2023-07-24T09:21:51.769Z"
   },
   {
    "duration": 13,
    "start_time": "2023-07-24T09:21:51.787Z"
   },
   {
    "duration": 19,
    "start_time": "2023-07-24T09:21:51.801Z"
   },
   {
    "duration": 25,
    "start_time": "2023-07-24T09:21:51.822Z"
   },
   {
    "duration": 28,
    "start_time": "2023-07-24T09:21:51.848Z"
   },
   {
    "duration": 18,
    "start_time": "2023-07-24T09:21:51.878Z"
   },
   {
    "duration": 25,
    "start_time": "2023-07-24T09:21:51.897Z"
   },
   {
    "duration": 34,
    "start_time": "2023-07-24T09:21:51.923Z"
   },
   {
    "duration": 22,
    "start_time": "2023-07-24T09:21:51.959Z"
   },
   {
    "duration": 23,
    "start_time": "2023-07-24T09:21:51.983Z"
   },
   {
    "duration": 22,
    "start_time": "2023-07-24T09:21:52.011Z"
   },
   {
    "duration": 18,
    "start_time": "2023-07-24T09:21:52.035Z"
   },
   {
    "duration": 10,
    "start_time": "2023-07-24T09:21:52.054Z"
   },
   {
    "duration": 54,
    "start_time": "2023-07-24T09:21:52.066Z"
   },
   {
    "duration": 34,
    "start_time": "2023-07-24T09:21:52.122Z"
   },
   {
    "duration": 17,
    "start_time": "2023-07-24T09:21:52.157Z"
   },
   {
    "duration": 17,
    "start_time": "2023-07-24T09:21:52.176Z"
   },
   {
    "duration": 10,
    "start_time": "2023-07-24T09:21:52.194Z"
   },
   {
    "duration": 25,
    "start_time": "2023-07-24T09:21:52.206Z"
   },
   {
    "duration": 32,
    "start_time": "2023-07-24T09:21:52.233Z"
   },
   {
    "duration": 13,
    "start_time": "2023-07-24T09:21:52.266Z"
   },
   {
    "duration": 41,
    "start_time": "2023-07-24T09:21:52.280Z"
   },
   {
    "duration": 36,
    "start_time": "2023-07-24T09:21:52.322Z"
   },
   {
    "duration": 31,
    "start_time": "2023-07-24T09:21:52.359Z"
   },
   {
    "duration": 7,
    "start_time": "2023-07-24T09:21:52.392Z"
   },
   {
    "duration": 9,
    "start_time": "2023-07-24T09:21:52.400Z"
   },
   {
    "duration": 37,
    "start_time": "2023-07-24T09:21:52.410Z"
   },
   {
    "duration": 29,
    "start_time": "2023-07-24T09:21:52.449Z"
   },
   {
    "duration": 19,
    "start_time": "2023-07-24T09:21:52.479Z"
   },
   {
    "duration": 29,
    "start_time": "2023-07-24T09:21:52.500Z"
   },
   {
    "duration": 35,
    "start_time": "2023-07-24T09:21:52.531Z"
   },
   {
    "duration": 29,
    "start_time": "2023-07-24T09:21:52.568Z"
   },
   {
    "duration": 21,
    "start_time": "2023-07-24T09:21:52.598Z"
   },
   {
    "duration": 35,
    "start_time": "2023-07-24T09:21:52.621Z"
   },
   {
    "duration": 27,
    "start_time": "2023-07-24T09:21:52.658Z"
   },
   {
    "duration": 20,
    "start_time": "2023-07-24T09:21:52.687Z"
   },
   {
    "duration": 44,
    "start_time": "2023-07-24T09:21:52.709Z"
   },
   {
    "duration": 225,
    "start_time": "2023-07-24T09:21:52.755Z"
   },
   {
    "duration": 671,
    "start_time": "2023-07-24T09:21:52.981Z"
   },
   {
    "duration": 10,
    "start_time": "2023-07-24T09:21:53.654Z"
   },
   {
    "duration": 156,
    "start_time": "2023-07-24T09:21:53.666Z"
   },
   {
    "duration": 12,
    "start_time": "2023-07-24T09:21:53.831Z"
   },
   {
    "duration": 23,
    "start_time": "2023-07-24T09:21:53.845Z"
   },
   {
    "duration": 18,
    "start_time": "2023-07-24T09:21:53.870Z"
   },
   {
    "duration": 36,
    "start_time": "2023-07-24T09:21:53.889Z"
   },
   {
    "duration": 18,
    "start_time": "2023-07-24T09:21:53.927Z"
   },
   {
    "duration": 35,
    "start_time": "2023-07-24T09:21:53.946Z"
   },
   {
    "duration": 10,
    "start_time": "2023-07-24T09:21:53.983Z"
   },
   {
    "duration": 9,
    "start_time": "2023-07-24T09:21:53.995Z"
   },
   {
    "duration": 6,
    "start_time": "2023-07-24T09:21:54.006Z"
   },
   {
    "duration": 9,
    "start_time": "2023-07-24T09:21:54.013Z"
   },
   {
    "duration": 23,
    "start_time": "2023-07-24T09:21:54.023Z"
   },
   {
    "duration": 13,
    "start_time": "2023-07-24T09:24:41.396Z"
   },
   {
    "duration": 925,
    "start_time": "2023-07-24T09:33:59.605Z"
   },
   {
    "duration": 32,
    "start_time": "2023-07-24T09:34:00.535Z"
   },
   {
    "duration": 24,
    "start_time": "2023-07-24T09:34:00.568Z"
   },
   {
    "duration": 39,
    "start_time": "2023-07-24T09:34:00.594Z"
   },
   {
    "duration": 35,
    "start_time": "2023-07-24T09:34:00.635Z"
   },
   {
    "duration": 115,
    "start_time": "2023-07-24T09:34:00.671Z"
   },
   {
    "duration": 8,
    "start_time": "2023-07-24T09:34:00.788Z"
   },
   {
    "duration": 56,
    "start_time": "2023-07-24T09:34:00.797Z"
   },
   {
    "duration": 534,
    "start_time": "2023-07-24T09:34:00.855Z"
   },
   {
    "duration": 9,
    "start_time": "2023-07-24T09:34:01.392Z"
   },
   {
    "duration": 127,
    "start_time": "2023-07-24T09:34:01.403Z"
   },
   {
    "duration": 37,
    "start_time": "2023-07-24T09:34:01.532Z"
   },
   {
    "duration": 133,
    "start_time": "2023-07-24T09:34:01.571Z"
   },
   {
    "duration": 154,
    "start_time": "2023-07-24T09:34:01.706Z"
   },
   {
    "duration": 329,
    "start_time": "2023-07-24T09:34:01.862Z"
   },
   {
    "duration": 332,
    "start_time": "2023-07-24T09:34:02.192Z"
   },
   {
    "duration": 12,
    "start_time": "2023-07-24T09:34:02.525Z"
   },
   {
    "duration": 41,
    "start_time": "2023-07-24T09:34:02.539Z"
   },
   {
    "duration": 48,
    "start_time": "2023-07-24T09:34:02.582Z"
   },
   {
    "duration": 24,
    "start_time": "2023-07-24T09:34:02.636Z"
   },
   {
    "duration": 213,
    "start_time": "2023-07-24T09:34:02.662Z"
   },
   {
    "duration": 108,
    "start_time": "2023-07-24T09:34:02.877Z"
   },
   {
    "duration": 50,
    "start_time": "2023-07-24T09:34:02.987Z"
   },
   {
    "duration": 10,
    "start_time": "2023-07-24T09:34:03.039Z"
   },
   {
    "duration": 98,
    "start_time": "2023-07-24T09:34:03.054Z"
   },
   {
    "duration": 39,
    "start_time": "2023-07-24T09:34:03.154Z"
   },
   {
    "duration": 48,
    "start_time": "2023-07-24T09:34:03.195Z"
   },
   {
    "duration": 91,
    "start_time": "2023-07-24T09:34:03.248Z"
   },
   {
    "duration": 97,
    "start_time": "2023-07-24T09:34:03.341Z"
   },
   {
    "duration": 33,
    "start_time": "2023-07-24T09:34:03.440Z"
   },
   {
    "duration": 61,
    "start_time": "2023-07-24T09:34:03.474Z"
   },
   {
    "duration": 34,
    "start_time": "2023-07-24T09:34:03.538Z"
   },
   {
    "duration": 34,
    "start_time": "2023-07-24T09:34:03.574Z"
   },
   {
    "duration": 37,
    "start_time": "2023-07-24T09:34:03.610Z"
   },
   {
    "duration": 118,
    "start_time": "2023-07-24T09:34:03.648Z"
   },
   {
    "duration": 171,
    "start_time": "2023-07-24T09:34:03.767Z"
   },
   {
    "duration": 34,
    "start_time": "2023-07-24T09:34:03.940Z"
   },
   {
    "duration": 128,
    "start_time": "2023-07-24T09:34:03.975Z"
   },
   {
    "duration": 47,
    "start_time": "2023-07-24T09:34:04.105Z"
   },
   {
    "duration": 95,
    "start_time": "2023-07-24T09:34:04.153Z"
   },
   {
    "duration": 39,
    "start_time": "2023-07-24T09:34:04.250Z"
   },
   {
    "duration": 81,
    "start_time": "2023-07-24T09:34:04.290Z"
   },
   {
    "duration": 37,
    "start_time": "2023-07-24T09:34:04.373Z"
   },
   {
    "duration": 24,
    "start_time": "2023-07-24T09:34:04.412Z"
   },
   {
    "duration": 49,
    "start_time": "2023-07-24T09:34:04.438Z"
   },
   {
    "duration": 52,
    "start_time": "2023-07-24T09:34:04.489Z"
   },
   {
    "duration": 47,
    "start_time": "2023-07-24T09:34:04.543Z"
   },
   {
    "duration": 37,
    "start_time": "2023-07-24T09:34:04.592Z"
   },
   {
    "duration": 19,
    "start_time": "2023-07-24T09:34:04.632Z"
   },
   {
    "duration": 11,
    "start_time": "2023-07-24T09:34:04.654Z"
   },
   {
    "duration": 12,
    "start_time": "2023-07-24T09:34:04.667Z"
   },
   {
    "duration": 26,
    "start_time": "2023-07-24T09:34:04.681Z"
   },
   {
    "duration": 10,
    "start_time": "2023-07-24T09:34:04.709Z"
   },
   {
    "duration": 35,
    "start_time": "2023-07-24T09:34:04.720Z"
   },
   {
    "duration": 22,
    "start_time": "2023-07-24T09:34:04.757Z"
   },
   {
    "duration": 31,
    "start_time": "2023-07-24T09:34:04.780Z"
   },
   {
    "duration": 37,
    "start_time": "2023-07-24T09:34:04.813Z"
   },
   {
    "duration": 45,
    "start_time": "2023-07-24T09:34:04.856Z"
   },
   {
    "duration": 16,
    "start_time": "2023-07-24T09:34:04.903Z"
   },
   {
    "duration": 57,
    "start_time": "2023-07-24T09:34:04.921Z"
   },
   {
    "duration": 18,
    "start_time": "2023-07-24T09:34:04.980Z"
   },
   {
    "duration": 21,
    "start_time": "2023-07-24T09:34:05.000Z"
   },
   {
    "duration": 67,
    "start_time": "2023-07-24T09:34:05.023Z"
   },
   {
    "duration": 40,
    "start_time": "2023-07-24T09:34:05.092Z"
   },
   {
    "duration": 49,
    "start_time": "2023-07-24T09:34:05.134Z"
   },
   {
    "duration": 467,
    "start_time": "2023-07-24T09:34:05.186Z"
   },
   {
    "duration": 9,
    "start_time": "2023-07-24T09:34:05.655Z"
   },
   {
    "duration": 50,
    "start_time": "2023-07-24T09:34:05.665Z"
   },
   {
    "duration": 115,
    "start_time": "2023-07-24T09:34:05.717Z"
   },
   {
    "duration": 30,
    "start_time": "2023-07-24T09:34:05.834Z"
   },
   {
    "duration": 37,
    "start_time": "2023-07-24T09:34:05.866Z"
   },
   {
    "duration": 59,
    "start_time": "2023-07-24T09:34:05.905Z"
   },
   {
    "duration": 17,
    "start_time": "2023-07-24T09:34:05.965Z"
   },
   {
    "duration": 35,
    "start_time": "2023-07-24T09:34:05.984Z"
   },
   {
    "duration": 26,
    "start_time": "2023-07-24T09:34:06.021Z"
   },
   {
    "duration": 27,
    "start_time": "2023-07-24T09:34:06.049Z"
   },
   {
    "duration": 16,
    "start_time": "2023-07-24T09:34:06.078Z"
   },
   {
    "duration": 42,
    "start_time": "2023-07-24T09:34:06.096Z"
   },
   {
    "duration": 29,
    "start_time": "2023-07-24T09:34:06.140Z"
   },
   {
    "duration": 17,
    "start_time": "2023-07-24T09:34:06.172Z"
   },
   {
    "duration": 51,
    "start_time": "2023-07-24T09:34:06.191Z"
   },
   {
    "duration": 85,
    "start_time": "2023-07-24T09:34:06.249Z"
   },
   {
    "duration": 106,
    "start_time": "2023-07-24T09:34:06.336Z"
   },
   {
    "duration": 77,
    "start_time": "2023-07-24T09:34:06.443Z"
   },
   {
    "duration": 51,
    "start_time": "2023-07-24T09:34:06.521Z"
   },
   {
    "duration": 26,
    "start_time": "2023-07-24T09:34:06.574Z"
   },
   {
    "duration": 27,
    "start_time": "2023-07-24T09:34:06.602Z"
   },
   {
    "duration": 36,
    "start_time": "2023-07-24T09:34:06.631Z"
   },
   {
    "duration": 31,
    "start_time": "2023-07-24T09:34:06.668Z"
   },
   {
    "duration": 29,
    "start_time": "2023-07-24T09:34:06.701Z"
   },
   {
    "duration": 23,
    "start_time": "2023-07-24T09:34:06.733Z"
   },
   {
    "duration": 15,
    "start_time": "2023-07-24T09:34:06.757Z"
   },
   {
    "duration": 30,
    "start_time": "2023-07-24T09:34:06.774Z"
   },
   {
    "duration": 21,
    "start_time": "2023-07-24T09:34:06.806Z"
   },
   {
    "duration": 33,
    "start_time": "2023-07-24T09:34:06.829Z"
   },
   {
    "duration": 12,
    "start_time": "2023-07-24T09:34:06.864Z"
   },
   {
    "duration": 18,
    "start_time": "2023-07-24T09:34:06.877Z"
   },
   {
    "duration": 29,
    "start_time": "2023-07-24T09:34:06.897Z"
   },
   {
    "duration": 29,
    "start_time": "2023-07-24T09:34:06.928Z"
   },
   {
    "duration": 45,
    "start_time": "2023-07-24T09:34:06.959Z"
   },
   {
    "duration": 23,
    "start_time": "2023-07-24T09:34:07.006Z"
   },
   {
    "duration": 26,
    "start_time": "2023-07-24T09:34:07.032Z"
   },
   {
    "duration": 15,
    "start_time": "2023-07-24T09:34:07.060Z"
   },
   {
    "duration": 8,
    "start_time": "2023-07-24T09:34:07.076Z"
   },
   {
    "duration": 10,
    "start_time": "2023-07-24T09:34:07.086Z"
   },
   {
    "duration": 13,
    "start_time": "2023-07-24T09:34:07.098Z"
   },
   {
    "duration": 10,
    "start_time": "2023-07-24T09:34:07.112Z"
   },
   {
    "duration": 40,
    "start_time": "2023-07-24T09:34:07.123Z"
   },
   {
    "duration": 19,
    "start_time": "2023-07-24T09:34:07.165Z"
   },
   {
    "duration": 689,
    "start_time": "2023-07-24T09:34:07.185Z"
   },
   {
    "duration": 8,
    "start_time": "2023-07-24T09:34:07.876Z"
   },
   {
    "duration": 199,
    "start_time": "2023-07-24T09:34:07.885Z"
   },
   {
    "duration": 10,
    "start_time": "2023-07-24T09:34:08.086Z"
   },
   {
    "duration": 20,
    "start_time": "2023-07-24T09:34:08.098Z"
   },
   {
    "duration": 18,
    "start_time": "2023-07-24T09:34:08.120Z"
   },
   {
    "duration": 16,
    "start_time": "2023-07-24T09:34:08.139Z"
   },
   {
    "duration": 12,
    "start_time": "2023-07-24T09:34:08.156Z"
   },
   {
    "duration": 22,
    "start_time": "2023-07-24T09:34:08.170Z"
   },
   {
    "duration": 13,
    "start_time": "2023-07-24T09:34:08.194Z"
   },
   {
    "duration": 35,
    "start_time": "2023-07-24T09:34:08.208Z"
   },
   {
    "duration": 28,
    "start_time": "2023-07-24T09:34:08.244Z"
   },
   {
    "duration": 14,
    "start_time": "2023-07-24T09:34:08.273Z"
   },
   {
    "duration": 28,
    "start_time": "2023-07-24T09:34:08.288Z"
   },
   {
    "duration": 21,
    "start_time": "2023-07-24T09:34:08.318Z"
   },
   {
    "duration": 753,
    "start_time": "2023-07-24T10:09:01.253Z"
   },
   {
    "duration": 30,
    "start_time": "2023-07-24T10:09:02.009Z"
   },
   {
    "duration": 7,
    "start_time": "2023-07-24T10:09:02.041Z"
   },
   {
    "duration": 38,
    "start_time": "2023-07-24T10:09:02.050Z"
   },
   {
    "duration": 63,
    "start_time": "2023-07-24T10:09:02.089Z"
   },
   {
    "duration": 96,
    "start_time": "2023-07-24T10:09:02.154Z"
   },
   {
    "duration": 9,
    "start_time": "2023-07-24T10:09:02.253Z"
   },
   {
    "duration": 60,
    "start_time": "2023-07-24T10:09:02.264Z"
   },
   {
    "duration": 494,
    "start_time": "2023-07-24T10:09:02.326Z"
   },
   {
    "duration": 14,
    "start_time": "2023-07-24T10:09:02.823Z"
   },
   {
    "duration": 164,
    "start_time": "2023-07-24T10:09:02.839Z"
   },
   {
    "duration": 27,
    "start_time": "2023-07-24T10:09:03.005Z"
   },
   {
    "duration": 10,
    "start_time": "2023-07-24T10:09:03.034Z"
   },
   {
    "duration": 57,
    "start_time": "2023-07-24T10:09:03.046Z"
   },
   {
    "duration": 60,
    "start_time": "2023-07-24T10:09:03.104Z"
   },
   {
    "duration": 355,
    "start_time": "2023-07-24T10:09:03.166Z"
   },
   {
    "duration": 12,
    "start_time": "2023-07-24T10:09:03.522Z"
   },
   {
    "duration": 27,
    "start_time": "2023-07-24T10:09:03.536Z"
   },
   {
    "duration": 50,
    "start_time": "2023-07-24T10:09:03.565Z"
   },
   {
    "duration": 15,
    "start_time": "2023-07-24T10:09:03.617Z"
   },
   {
    "duration": 103,
    "start_time": "2023-07-24T10:09:03.634Z"
   },
   {
    "duration": 191,
    "start_time": "2023-07-24T10:09:03.738Z"
   },
   {
    "duration": 61,
    "start_time": "2023-07-24T10:09:03.931Z"
   },
   {
    "duration": 9,
    "start_time": "2023-07-24T10:09:03.994Z"
   },
   {
    "duration": 47,
    "start_time": "2023-07-24T10:09:04.005Z"
   },
   {
    "duration": 46,
    "start_time": "2023-07-24T10:09:04.054Z"
   },
   {
    "duration": 36,
    "start_time": "2023-07-24T10:09:04.103Z"
   },
   {
    "duration": 166,
    "start_time": "2023-07-24T10:09:04.143Z"
   },
   {
    "duration": 121,
    "start_time": "2023-07-24T10:09:04.310Z"
   },
   {
    "duration": 31,
    "start_time": "2023-07-24T10:09:04.433Z"
   },
   {
    "duration": 51,
    "start_time": "2023-07-24T10:09:04.466Z"
   },
   {
    "duration": 24,
    "start_time": "2023-07-24T10:09:04.519Z"
   },
   {
    "duration": 12,
    "start_time": "2023-07-24T10:09:04.545Z"
   },
   {
    "duration": 20,
    "start_time": "2023-07-24T10:09:04.559Z"
   },
   {
    "duration": 30,
    "start_time": "2023-07-24T10:09:04.581Z"
   },
   {
    "duration": 48,
    "start_time": "2023-07-24T10:09:04.612Z"
   },
   {
    "duration": 24,
    "start_time": "2023-07-24T10:09:04.661Z"
   },
   {
    "duration": 13,
    "start_time": "2023-07-24T10:09:04.686Z"
   },
   {
    "duration": 8,
    "start_time": "2023-07-24T10:09:04.700Z"
   },
   {
    "duration": 36,
    "start_time": "2023-07-24T10:09:04.710Z"
   },
   {
    "duration": 12,
    "start_time": "2023-07-24T10:09:04.748Z"
   },
   {
    "duration": 12,
    "start_time": "2023-07-24T10:09:04.762Z"
   },
   {
    "duration": 36,
    "start_time": "2023-07-24T10:09:04.776Z"
   },
   {
    "duration": 28,
    "start_time": "2023-07-24T10:09:04.814Z"
   },
   {
    "duration": 48,
    "start_time": "2023-07-24T10:09:04.845Z"
   },
   {
    "duration": 30,
    "start_time": "2023-07-24T10:09:04.895Z"
   },
   {
    "duration": 53,
    "start_time": "2023-07-24T10:09:04.927Z"
   },
   {
    "duration": 27,
    "start_time": "2023-07-24T10:09:04.982Z"
   },
   {
    "duration": 23,
    "start_time": "2023-07-24T10:09:05.011Z"
   },
   {
    "duration": 29,
    "start_time": "2023-07-24T10:09:05.037Z"
   },
   {
    "duration": 28,
    "start_time": "2023-07-24T10:09:05.068Z"
   },
   {
    "duration": 48,
    "start_time": "2023-07-24T10:09:05.097Z"
   },
   {
    "duration": 30,
    "start_time": "2023-07-24T10:09:05.148Z"
   },
   {
    "duration": 49,
    "start_time": "2023-07-24T10:09:05.180Z"
   },
   {
    "duration": 32,
    "start_time": "2023-07-24T10:09:05.231Z"
   },
   {
    "duration": 39,
    "start_time": "2023-07-24T10:09:05.265Z"
   },
   {
    "duration": 42,
    "start_time": "2023-07-24T10:09:05.306Z"
   },
   {
    "duration": 27,
    "start_time": "2023-07-24T10:09:05.350Z"
   },
   {
    "duration": 72,
    "start_time": "2023-07-24T10:09:05.380Z"
   },
   {
    "duration": 41,
    "start_time": "2023-07-24T10:09:05.454Z"
   },
   {
    "duration": 30,
    "start_time": "2023-07-24T10:09:05.497Z"
   },
   {
    "duration": 30,
    "start_time": "2023-07-24T10:09:05.528Z"
   },
   {
    "duration": 43,
    "start_time": "2023-07-24T10:09:05.560Z"
   },
   {
    "duration": 33,
    "start_time": "2023-07-24T10:09:05.604Z"
   },
   {
    "duration": 51,
    "start_time": "2023-07-24T10:09:05.639Z"
   },
   {
    "duration": 585,
    "start_time": "2023-07-24T10:09:05.692Z"
   },
   {
    "duration": 7,
    "start_time": "2023-07-24T10:09:06.279Z"
   },
   {
    "duration": 241,
    "start_time": "2023-07-24T10:09:06.287Z"
   },
   {
    "duration": 314,
    "start_time": "2023-07-24T10:09:06.530Z"
   },
   {
    "duration": 71,
    "start_time": "2023-07-24T10:09:06.846Z"
   },
   {
    "duration": 9,
    "start_time": "2023-07-24T10:09:06.920Z"
   },
   {
    "duration": 25,
    "start_time": "2023-07-24T10:09:06.936Z"
   },
   {
    "duration": 40,
    "start_time": "2023-07-24T10:09:06.963Z"
   },
   {
    "duration": 32,
    "start_time": "2023-07-24T10:09:07.005Z"
   },
   {
    "duration": 29,
    "start_time": "2023-07-24T10:09:07.039Z"
   },
   {
    "duration": 13,
    "start_time": "2023-07-24T10:09:07.069Z"
   },
   {
    "duration": 17,
    "start_time": "2023-07-24T10:09:07.084Z"
   },
   {
    "duration": 26,
    "start_time": "2023-07-24T10:09:07.103Z"
   },
   {
    "duration": 26,
    "start_time": "2023-07-24T10:09:07.131Z"
   },
   {
    "duration": 21,
    "start_time": "2023-07-24T10:09:07.158Z"
   },
   {
    "duration": 8,
    "start_time": "2023-07-24T10:09:07.181Z"
   },
   {
    "duration": 4,
    "start_time": "2023-07-24T10:09:07.195Z"
   },
   {
    "duration": 7,
    "start_time": "2023-07-24T10:09:07.201Z"
   },
   {
    "duration": 7,
    "start_time": "2023-07-24T10:09:07.209Z"
   },
   {
    "duration": 66,
    "start_time": "2023-07-24T10:09:07.217Z"
   },
   {
    "duration": 33,
    "start_time": "2023-07-24T10:09:07.284Z"
   },
   {
    "duration": 22,
    "start_time": "2023-07-24T10:09:07.319Z"
   },
   {
    "duration": 39,
    "start_time": "2023-07-24T10:09:07.344Z"
   },
   {
    "duration": 7,
    "start_time": "2023-07-24T10:09:07.384Z"
   },
   {
    "duration": 22,
    "start_time": "2023-07-24T10:09:07.392Z"
   },
   {
    "duration": 36,
    "start_time": "2023-07-24T10:09:07.415Z"
   },
   {
    "duration": 15,
    "start_time": "2023-07-24T10:09:07.453Z"
   },
   {
    "duration": 31,
    "start_time": "2023-07-24T10:09:07.470Z"
   },
   {
    "duration": 8,
    "start_time": "2023-07-24T10:09:07.504Z"
   },
   {
    "duration": 16,
    "start_time": "2023-07-24T10:09:07.514Z"
   },
   {
    "duration": 5,
    "start_time": "2023-07-24T10:09:07.531Z"
   },
   {
    "duration": 23,
    "start_time": "2023-07-24T10:09:07.538Z"
   },
   {
    "duration": 14,
    "start_time": "2023-07-24T10:09:07.562Z"
   },
   {
    "duration": 13,
    "start_time": "2023-07-24T10:09:07.577Z"
   },
   {
    "duration": 9,
    "start_time": "2023-07-24T10:09:07.591Z"
   },
   {
    "duration": 13,
    "start_time": "2023-07-24T10:09:07.601Z"
   },
   {
    "duration": 24,
    "start_time": "2023-07-24T10:09:07.616Z"
   },
   {
    "duration": 16,
    "start_time": "2023-07-24T10:09:07.642Z"
   },
   {
    "duration": 8,
    "start_time": "2023-07-24T10:09:07.660Z"
   },
   {
    "duration": 15,
    "start_time": "2023-07-24T10:09:07.670Z"
   },
   {
    "duration": 11,
    "start_time": "2023-07-24T10:09:07.687Z"
   },
   {
    "duration": 12,
    "start_time": "2023-07-24T10:09:07.699Z"
   },
   {
    "duration": 254,
    "start_time": "2023-07-24T10:09:07.712Z"
   },
   {
    "duration": 53,
    "start_time": "2023-07-24T10:09:07.968Z"
   },
   {
    "duration": 723,
    "start_time": "2023-07-24T10:09:08.023Z"
   },
   {
    "duration": 8,
    "start_time": "2023-07-24T10:09:08.748Z"
   },
   {
    "duration": 160,
    "start_time": "2023-07-24T10:09:08.758Z"
   },
   {
    "duration": 21,
    "start_time": "2023-07-24T10:09:08.920Z"
   },
   {
    "duration": 25,
    "start_time": "2023-07-24T10:09:08.943Z"
   },
   {
    "duration": 27,
    "start_time": "2023-07-24T10:09:08.970Z"
   },
   {
    "duration": 15,
    "start_time": "2023-07-24T10:09:08.999Z"
   },
   {
    "duration": 16,
    "start_time": "2023-07-24T10:09:09.015Z"
   },
   {
    "duration": 24,
    "start_time": "2023-07-24T10:09:09.033Z"
   },
   {
    "duration": 25,
    "start_time": "2023-07-24T10:09:09.059Z"
   },
   {
    "duration": 17,
    "start_time": "2023-07-24T10:09:09.085Z"
   },
   {
    "duration": 4,
    "start_time": "2023-07-24T10:09:09.103Z"
   },
   {
    "duration": 19,
    "start_time": "2023-07-24T10:09:09.109Z"
   },
   {
    "duration": 27,
    "start_time": "2023-07-24T10:09:09.129Z"
   },
   {
    "duration": 33,
    "start_time": "2023-07-24T10:09:09.158Z"
   },
   {
    "duration": 3,
    "start_time": "2023-07-24T10:12:34.213Z"
   },
   {
    "duration": 884,
    "start_time": "2023-07-24T10:13:55.649Z"
   },
   {
    "duration": 29,
    "start_time": "2023-07-24T10:13:56.536Z"
   },
   {
    "duration": 3,
    "start_time": "2023-07-24T10:13:56.567Z"
   },
   {
    "duration": 20,
    "start_time": "2023-07-24T10:13:56.572Z"
   },
   {
    "duration": 14,
    "start_time": "2023-07-24T10:13:56.594Z"
   },
   {
    "duration": 102,
    "start_time": "2023-07-24T10:13:56.610Z"
   },
   {
    "duration": 8,
    "start_time": "2023-07-24T10:13:56.713Z"
   },
   {
    "duration": 41,
    "start_time": "2023-07-24T10:13:56.722Z"
   },
   {
    "duration": 525,
    "start_time": "2023-07-24T10:13:56.765Z"
   },
   {
    "duration": 10,
    "start_time": "2023-07-24T10:13:57.292Z"
   },
   {
    "duration": 84,
    "start_time": "2023-07-24T10:13:57.304Z"
   },
   {
    "duration": 25,
    "start_time": "2023-07-24T10:13:57.389Z"
   },
   {
    "duration": 13,
    "start_time": "2023-07-24T10:13:57.416Z"
   },
   {
    "duration": 33,
    "start_time": "2023-07-24T10:13:57.431Z"
   },
   {
    "duration": 54,
    "start_time": "2023-07-24T10:13:57.466Z"
   },
   {
    "duration": 311,
    "start_time": "2023-07-24T10:13:57.522Z"
   },
   {
    "duration": 11,
    "start_time": "2023-07-24T10:13:57.836Z"
   },
   {
    "duration": 17,
    "start_time": "2023-07-24T10:13:57.849Z"
   },
   {
    "duration": 31,
    "start_time": "2023-07-24T10:13:57.867Z"
   },
   {
    "duration": 12,
    "start_time": "2023-07-24T10:13:57.900Z"
   },
   {
    "duration": 30,
    "start_time": "2023-07-24T10:13:57.913Z"
   },
   {
    "duration": 101,
    "start_time": "2023-07-24T10:13:57.945Z"
   },
   {
    "duration": 75,
    "start_time": "2023-07-24T10:13:58.048Z"
   },
   {
    "duration": 12,
    "start_time": "2023-07-24T10:13:58.124Z"
   },
   {
    "duration": 11,
    "start_time": "2023-07-24T10:13:58.137Z"
   },
   {
    "duration": 17,
    "start_time": "2023-07-24T10:13:58.150Z"
   },
   {
    "duration": 14,
    "start_time": "2023-07-24T10:13:58.169Z"
   },
   {
    "duration": 37,
    "start_time": "2023-07-24T10:13:58.187Z"
   },
   {
    "duration": 62,
    "start_time": "2023-07-24T10:13:58.226Z"
   },
   {
    "duration": 23,
    "start_time": "2023-07-24T10:13:58.289Z"
   },
   {
    "duration": 9,
    "start_time": "2023-07-24T10:13:58.313Z"
   },
   {
    "duration": 8,
    "start_time": "2023-07-24T10:13:58.331Z"
   },
   {
    "duration": 20,
    "start_time": "2023-07-24T10:13:58.341Z"
   },
   {
    "duration": 15,
    "start_time": "2023-07-24T10:13:58.363Z"
   },
   {
    "duration": 31,
    "start_time": "2023-07-24T10:13:58.379Z"
   },
   {
    "duration": 11,
    "start_time": "2023-07-24T10:13:58.411Z"
   },
   {
    "duration": 25,
    "start_time": "2023-07-24T10:13:58.424Z"
   },
   {
    "duration": 7,
    "start_time": "2023-07-24T10:13:58.451Z"
   },
   {
    "duration": 4,
    "start_time": "2023-07-24T10:13:58.460Z"
   },
   {
    "duration": 38,
    "start_time": "2023-07-24T10:13:58.466Z"
   },
   {
    "duration": 9,
    "start_time": "2023-07-24T10:13:58.506Z"
   },
   {
    "duration": 35,
    "start_time": "2023-07-24T10:13:58.516Z"
   },
   {
    "duration": 34,
    "start_time": "2023-07-24T10:13:58.554Z"
   },
   {
    "duration": 8,
    "start_time": "2023-07-24T10:13:58.590Z"
   },
   {
    "duration": 18,
    "start_time": "2023-07-24T10:13:58.599Z"
   },
   {
    "duration": 22,
    "start_time": "2023-07-24T10:13:58.619Z"
   },
   {
    "duration": 5,
    "start_time": "2023-07-24T10:13:58.643Z"
   },
   {
    "duration": 13,
    "start_time": "2023-07-24T10:13:58.650Z"
   },
   {
    "duration": 9,
    "start_time": "2023-07-24T10:13:58.664Z"
   },
   {
    "duration": 9,
    "start_time": "2023-07-24T10:13:58.674Z"
   },
   {
    "duration": 13,
    "start_time": "2023-07-24T10:13:58.684Z"
   },
   {
    "duration": 13,
    "start_time": "2023-07-24T10:13:58.698Z"
   },
   {
    "duration": 22,
    "start_time": "2023-07-24T10:13:58.713Z"
   },
   {
    "duration": 6,
    "start_time": "2023-07-24T10:13:58.737Z"
   },
   {
    "duration": 16,
    "start_time": "2023-07-24T10:13:58.744Z"
   },
   {
    "duration": 26,
    "start_time": "2023-07-24T10:13:58.763Z"
   },
   {
    "duration": 10,
    "start_time": "2023-07-24T10:13:58.791Z"
   },
   {
    "duration": 17,
    "start_time": "2023-07-24T10:13:58.803Z"
   },
   {
    "duration": 7,
    "start_time": "2023-07-24T10:13:58.836Z"
   },
   {
    "duration": 20,
    "start_time": "2023-07-24T10:13:58.845Z"
   },
   {
    "duration": 25,
    "start_time": "2023-07-24T10:13:58.866Z"
   },
   {
    "duration": 19,
    "start_time": "2023-07-24T10:13:58.892Z"
   },
   {
    "duration": 9,
    "start_time": "2023-07-24T10:13:58.913Z"
   },
   {
    "duration": 10,
    "start_time": "2023-07-24T10:13:58.924Z"
   },
   {
    "duration": 16,
    "start_time": "2023-07-24T10:13:58.936Z"
   },
   {
    "duration": 463,
    "start_time": "2023-07-24T10:13:58.953Z"
   },
   {
    "duration": 15,
    "start_time": "2023-07-24T10:13:59.417Z"
   },
   {
    "duration": 26,
    "start_time": "2023-07-24T10:13:59.433Z"
   },
   {
    "duration": 96,
    "start_time": "2023-07-24T10:13:59.461Z"
   },
   {
    "duration": 34,
    "start_time": "2023-07-24T10:13:59.559Z"
   },
   {
    "duration": 14,
    "start_time": "2023-07-24T10:13:59.595Z"
   },
   {
    "duration": 50,
    "start_time": "2023-07-24T10:13:59.610Z"
   },
   {
    "duration": 21,
    "start_time": "2023-07-24T10:13:59.662Z"
   },
   {
    "duration": 17,
    "start_time": "2023-07-24T10:13:59.685Z"
   },
   {
    "duration": 28,
    "start_time": "2023-07-24T10:13:59.703Z"
   },
   {
    "duration": 29,
    "start_time": "2023-07-24T10:13:59.733Z"
   },
   {
    "duration": 11,
    "start_time": "2023-07-24T10:13:59.763Z"
   },
   {
    "duration": 11,
    "start_time": "2023-07-24T10:13:59.776Z"
   },
   {
    "duration": 15,
    "start_time": "2023-07-24T10:13:59.789Z"
   },
   {
    "duration": 21,
    "start_time": "2023-07-24T10:13:59.806Z"
   },
   {
    "duration": 12,
    "start_time": "2023-07-24T10:13:59.829Z"
   },
   {
    "duration": 15,
    "start_time": "2023-07-24T10:13:59.848Z"
   },
   {
    "duration": 20,
    "start_time": "2023-07-24T10:13:59.865Z"
   },
   {
    "duration": 29,
    "start_time": "2023-07-24T10:13:59.886Z"
   },
   {
    "duration": 49,
    "start_time": "2023-07-24T10:13:59.916Z"
   },
   {
    "duration": 27,
    "start_time": "2023-07-24T10:13:59.966Z"
   },
   {
    "duration": 9,
    "start_time": "2023-07-24T10:13:59.995Z"
   },
   {
    "duration": 64,
    "start_time": "2023-07-24T10:14:00.005Z"
   },
   {
    "duration": 46,
    "start_time": "2023-07-24T10:14:00.071Z"
   },
   {
    "duration": 43,
    "start_time": "2023-07-24T10:14:00.119Z"
   },
   {
    "duration": 46,
    "start_time": "2023-07-24T10:14:00.164Z"
   },
   {
    "duration": 33,
    "start_time": "2023-07-24T10:14:00.211Z"
   },
   {
    "duration": 33,
    "start_time": "2023-07-24T10:14:00.246Z"
   },
   {
    "duration": 38,
    "start_time": "2023-07-24T10:14:00.280Z"
   },
   {
    "duration": 48,
    "start_time": "2023-07-24T10:14:00.320Z"
   },
   {
    "duration": 17,
    "start_time": "2023-07-24T10:14:00.370Z"
   },
   {
    "duration": 28,
    "start_time": "2023-07-24T10:14:00.388Z"
   },
   {
    "duration": 41,
    "start_time": "2023-07-24T10:14:00.417Z"
   },
   {
    "duration": 50,
    "start_time": "2023-07-24T10:14:00.459Z"
   },
   {
    "duration": 23,
    "start_time": "2023-07-24T10:14:00.511Z"
   },
   {
    "duration": 35,
    "start_time": "2023-07-24T10:14:00.537Z"
   },
   {
    "duration": 48,
    "start_time": "2023-07-24T10:14:00.574Z"
   },
   {
    "duration": 50,
    "start_time": "2023-07-24T10:14:00.624Z"
   },
   {
    "duration": 60,
    "start_time": "2023-07-24T10:14:00.676Z"
   },
   {
    "duration": 50,
    "start_time": "2023-07-24T10:14:00.738Z"
   },
   {
    "duration": 30,
    "start_time": "2023-07-24T10:14:00.790Z"
   },
   {
    "duration": 43,
    "start_time": "2023-07-24T10:14:00.823Z"
   },
   {
    "duration": 40,
    "start_time": "2023-07-24T10:14:00.868Z"
   },
   {
    "duration": 50,
    "start_time": "2023-07-24T10:14:00.909Z"
   },
   {
    "duration": 617,
    "start_time": "2023-07-24T10:14:00.961Z"
   },
   {
    "duration": 23,
    "start_time": "2023-07-24T10:14:01.633Z"
   },
   {
    "duration": 151,
    "start_time": "2023-07-24T10:14:01.658Z"
   },
   {
    "duration": 25,
    "start_time": "2023-07-24T10:14:01.811Z"
   },
   {
    "duration": 36,
    "start_time": "2023-07-24T10:14:01.838Z"
   },
   {
    "duration": 132,
    "start_time": "2023-07-24T10:14:01.876Z"
   },
   {
    "duration": 243,
    "start_time": "2023-07-24T10:14:02.010Z"
   },
   {
    "duration": 0,
    "start_time": "2023-07-24T10:14:02.255Z"
   },
   {
    "duration": 0,
    "start_time": "2023-07-24T10:14:02.256Z"
   },
   {
    "duration": 0,
    "start_time": "2023-07-24T10:14:02.258Z"
   },
   {
    "duration": 0,
    "start_time": "2023-07-24T10:14:02.259Z"
   },
   {
    "duration": 0,
    "start_time": "2023-07-24T10:14:02.260Z"
   },
   {
    "duration": 0,
    "start_time": "2023-07-24T10:14:02.261Z"
   },
   {
    "duration": 0,
    "start_time": "2023-07-24T10:14:02.262Z"
   },
   {
    "duration": 0,
    "start_time": "2023-07-24T10:14:02.263Z"
   },
   {
    "duration": 0,
    "start_time": "2023-07-24T10:14:02.265Z"
   },
   {
    "duration": 5,
    "start_time": "2023-07-24T10:14:56.480Z"
   },
   {
    "duration": 2,
    "start_time": "2023-07-24T10:14:57.615Z"
   },
   {
    "duration": 4,
    "start_time": "2023-07-24T10:14:58.246Z"
   },
   {
    "duration": 6,
    "start_time": "2023-07-24T10:14:58.920Z"
   },
   {
    "duration": 3,
    "start_time": "2023-07-24T10:14:59.991Z"
   },
   {
    "duration": 5,
    "start_time": "2023-07-24T10:15:00.662Z"
   },
   {
    "duration": 6,
    "start_time": "2023-07-24T10:15:01.215Z"
   },
   {
    "duration": 3,
    "start_time": "2023-07-24T10:15:02.647Z"
   },
   {
    "duration": 4,
    "start_time": "2023-07-24T10:15:03.182Z"
   },
   {
    "duration": 5,
    "start_time": "2023-07-24T10:15:04.574Z"
   },
   {
    "duration": 11,
    "start_time": "2023-07-24T10:15:05.471Z"
   },
   {
    "duration": 815,
    "start_time": "2023-07-24T10:16:03.389Z"
   },
   {
    "duration": 30,
    "start_time": "2023-07-24T10:16:04.207Z"
   },
   {
    "duration": 56,
    "start_time": "2023-07-24T10:16:04.238Z"
   },
   {
    "duration": 53,
    "start_time": "2023-07-24T10:16:04.296Z"
   },
   {
    "duration": 59,
    "start_time": "2023-07-24T10:16:04.352Z"
   },
   {
    "duration": 91,
    "start_time": "2023-07-24T10:16:04.413Z"
   },
   {
    "duration": 7,
    "start_time": "2023-07-24T10:16:04.506Z"
   },
   {
    "duration": 40,
    "start_time": "2023-07-24T10:16:04.514Z"
   },
   {
    "duration": 540,
    "start_time": "2023-07-24T10:16:04.556Z"
   },
   {
    "duration": 8,
    "start_time": "2023-07-24T10:16:05.099Z"
   },
   {
    "duration": 86,
    "start_time": "2023-07-24T10:16:05.109Z"
   },
   {
    "duration": 26,
    "start_time": "2023-07-24T10:16:05.196Z"
   },
   {
    "duration": 7,
    "start_time": "2023-07-24T10:16:05.224Z"
   },
   {
    "duration": 22,
    "start_time": "2023-07-24T10:16:05.233Z"
   },
   {
    "duration": 42,
    "start_time": "2023-07-24T10:16:05.257Z"
   },
   {
    "duration": 272,
    "start_time": "2023-07-24T10:16:05.300Z"
   },
   {
    "duration": 9,
    "start_time": "2023-07-24T10:16:05.574Z"
   },
   {
    "duration": 74,
    "start_time": "2023-07-24T10:16:05.584Z"
   },
   {
    "duration": 102,
    "start_time": "2023-07-24T10:16:05.660Z"
   },
   {
    "duration": 47,
    "start_time": "2023-07-24T10:16:05.764Z"
   },
   {
    "duration": 34,
    "start_time": "2023-07-24T10:16:05.813Z"
   },
   {
    "duration": 100,
    "start_time": "2023-07-24T10:16:05.849Z"
   },
   {
    "duration": 51,
    "start_time": "2023-07-24T10:16:05.951Z"
   },
   {
    "duration": 9,
    "start_time": "2023-07-24T10:16:06.003Z"
   },
   {
    "duration": 15,
    "start_time": "2023-07-24T10:16:06.014Z"
   },
   {
    "duration": 57,
    "start_time": "2023-07-24T10:16:06.031Z"
   },
   {
    "duration": 24,
    "start_time": "2023-07-24T10:16:06.090Z"
   },
   {
    "duration": 41,
    "start_time": "2023-07-24T10:16:06.118Z"
   },
   {
    "duration": 67,
    "start_time": "2023-07-24T10:16:06.161Z"
   },
   {
    "duration": 21,
    "start_time": "2023-07-24T10:16:06.229Z"
   },
   {
    "duration": 38,
    "start_time": "2023-07-24T10:16:06.252Z"
   },
   {
    "duration": 15,
    "start_time": "2023-07-24T10:16:06.291Z"
   },
   {
    "duration": 32,
    "start_time": "2023-07-24T10:16:06.308Z"
   },
   {
    "duration": 43,
    "start_time": "2023-07-24T10:16:06.341Z"
   },
   {
    "duration": 24,
    "start_time": "2023-07-24T10:16:06.386Z"
   },
   {
    "duration": 15,
    "start_time": "2023-07-24T10:16:06.411Z"
   },
   {
    "duration": 14,
    "start_time": "2023-07-24T10:16:06.427Z"
   },
   {
    "duration": 17,
    "start_time": "2023-07-24T10:16:06.442Z"
   },
   {
    "duration": 7,
    "start_time": "2023-07-24T10:16:06.462Z"
   },
   {
    "duration": 49,
    "start_time": "2023-07-24T10:16:06.471Z"
   },
   {
    "duration": 17,
    "start_time": "2023-07-24T10:16:06.522Z"
   },
   {
    "duration": 21,
    "start_time": "2023-07-24T10:16:06.540Z"
   },
   {
    "duration": 38,
    "start_time": "2023-07-24T10:16:06.563Z"
   },
   {
    "duration": 11,
    "start_time": "2023-07-24T10:16:06.602Z"
   },
   {
    "duration": 16,
    "start_time": "2023-07-24T10:16:06.614Z"
   },
   {
    "duration": 19,
    "start_time": "2023-07-24T10:16:06.632Z"
   },
   {
    "duration": 22,
    "start_time": "2023-07-24T10:16:06.653Z"
   },
   {
    "duration": 41,
    "start_time": "2023-07-24T10:16:06.677Z"
   },
   {
    "duration": 25,
    "start_time": "2023-07-24T10:16:06.720Z"
   },
   {
    "duration": 18,
    "start_time": "2023-07-24T10:16:06.747Z"
   },
   {
    "duration": 31,
    "start_time": "2023-07-24T10:16:06.766Z"
   },
   {
    "duration": 19,
    "start_time": "2023-07-24T10:16:06.799Z"
   },
   {
    "duration": 12,
    "start_time": "2023-07-24T10:16:06.819Z"
   },
   {
    "duration": 18,
    "start_time": "2023-07-24T10:16:06.833Z"
   },
   {
    "duration": 16,
    "start_time": "2023-07-24T10:16:06.853Z"
   },
   {
    "duration": 14,
    "start_time": "2023-07-24T10:16:06.871Z"
   },
   {
    "duration": 19,
    "start_time": "2023-07-24T10:16:06.887Z"
   },
   {
    "duration": 44,
    "start_time": "2023-07-24T10:16:06.907Z"
   },
   {
    "duration": 17,
    "start_time": "2023-07-24T10:16:06.953Z"
   },
   {
    "duration": 16,
    "start_time": "2023-07-24T10:16:06.972Z"
   },
   {
    "duration": 3,
    "start_time": "2023-07-24T10:16:06.990Z"
   },
   {
    "duration": 13,
    "start_time": "2023-07-24T10:16:06.995Z"
   },
   {
    "duration": 11,
    "start_time": "2023-07-24T10:16:07.010Z"
   },
   {
    "duration": 39,
    "start_time": "2023-07-24T10:16:07.022Z"
   },
   {
    "duration": 19,
    "start_time": "2023-07-24T10:16:07.063Z"
   },
   {
    "duration": 522,
    "start_time": "2023-07-24T10:16:07.084Z"
   },
   {
    "duration": 7,
    "start_time": "2023-07-24T10:16:07.607Z"
   },
   {
    "duration": 39,
    "start_time": "2023-07-24T10:16:07.616Z"
   },
   {
    "duration": 100,
    "start_time": "2023-07-24T10:16:07.657Z"
   },
   {
    "duration": 37,
    "start_time": "2023-07-24T10:16:07.759Z"
   },
   {
    "duration": 9,
    "start_time": "2023-07-24T10:16:07.798Z"
   },
   {
    "duration": 32,
    "start_time": "2023-07-24T10:16:07.809Z"
   },
   {
    "duration": 33,
    "start_time": "2023-07-24T10:16:07.843Z"
   },
   {
    "duration": 15,
    "start_time": "2023-07-24T10:16:07.877Z"
   },
   {
    "duration": 19,
    "start_time": "2023-07-24T10:16:07.894Z"
   },
   {
    "duration": 8,
    "start_time": "2023-07-24T10:16:07.915Z"
   },
   {
    "duration": 17,
    "start_time": "2023-07-24T10:16:07.925Z"
   },
   {
    "duration": 17,
    "start_time": "2023-07-24T10:16:07.945Z"
   },
   {
    "duration": 14,
    "start_time": "2023-07-24T10:16:07.963Z"
   },
   {
    "duration": 5,
    "start_time": "2023-07-24T10:16:07.978Z"
   },
   {
    "duration": 10,
    "start_time": "2023-07-24T10:16:07.984Z"
   },
   {
    "duration": 7,
    "start_time": "2023-07-24T10:16:07.999Z"
   },
   {
    "duration": 11,
    "start_time": "2023-07-24T10:16:08.007Z"
   },
   {
    "duration": 21,
    "start_time": "2023-07-24T10:16:08.020Z"
   },
   {
    "duration": 43,
    "start_time": "2023-07-24T10:16:08.043Z"
   },
   {
    "duration": 26,
    "start_time": "2023-07-24T10:16:08.088Z"
   },
   {
    "duration": 8,
    "start_time": "2023-07-24T10:16:08.115Z"
   },
   {
    "duration": 28,
    "start_time": "2023-07-24T10:16:08.125Z"
   },
   {
    "duration": 7,
    "start_time": "2023-07-24T10:16:08.155Z"
   },
   {
    "duration": 21,
    "start_time": "2023-07-24T10:16:08.164Z"
   },
   {
    "duration": 13,
    "start_time": "2023-07-24T10:16:08.186Z"
   },
   {
    "duration": 27,
    "start_time": "2023-07-24T10:16:08.201Z"
   },
   {
    "duration": 14,
    "start_time": "2023-07-24T10:16:08.229Z"
   },
   {
    "duration": 8,
    "start_time": "2023-07-24T10:16:08.245Z"
   },
   {
    "duration": 15,
    "start_time": "2023-07-24T10:16:08.255Z"
   },
   {
    "duration": 8,
    "start_time": "2023-07-24T10:16:08.271Z"
   },
   {
    "duration": 22,
    "start_time": "2023-07-24T10:16:08.281Z"
   },
   {
    "duration": 16,
    "start_time": "2023-07-24T10:16:08.304Z"
   },
   {
    "duration": 13,
    "start_time": "2023-07-24T10:16:08.321Z"
   },
   {
    "duration": 8,
    "start_time": "2023-07-24T10:16:08.335Z"
   },
   {
    "duration": 13,
    "start_time": "2023-07-24T10:16:08.345Z"
   },
   {
    "duration": 10,
    "start_time": "2023-07-24T10:16:08.360Z"
   },
   {
    "duration": 11,
    "start_time": "2023-07-24T10:16:08.372Z"
   },
   {
    "duration": 9,
    "start_time": "2023-07-24T10:16:08.385Z"
   },
   {
    "duration": 21,
    "start_time": "2023-07-24T10:16:08.395Z"
   },
   {
    "duration": 4,
    "start_time": "2023-07-24T10:16:08.417Z"
   },
   {
    "duration": 10,
    "start_time": "2023-07-24T10:16:08.423Z"
   },
   {
    "duration": 26,
    "start_time": "2023-07-24T10:16:08.434Z"
   },
   {
    "duration": 26,
    "start_time": "2023-07-24T10:16:08.461Z"
   },
   {
    "duration": 648,
    "start_time": "2023-07-24T10:16:08.488Z"
   },
   {
    "duration": 9,
    "start_time": "2023-07-24T10:16:09.139Z"
   },
   {
    "duration": 143,
    "start_time": "2023-07-24T10:16:09.150Z"
   },
   {
    "duration": 14,
    "start_time": "2023-07-24T10:16:09.295Z"
   },
   {
    "duration": 28,
    "start_time": "2023-07-24T10:16:09.310Z"
   },
   {
    "duration": 27,
    "start_time": "2023-07-24T10:16:09.340Z"
   },
   {
    "duration": 12,
    "start_time": "2023-07-24T10:16:09.369Z"
   },
   {
    "duration": 24,
    "start_time": "2023-07-24T10:16:09.383Z"
   },
   {
    "duration": 13,
    "start_time": "2023-07-24T10:16:09.408Z"
   },
   {
    "duration": 15,
    "start_time": "2023-07-24T10:16:09.423Z"
   },
   {
    "duration": 10,
    "start_time": "2023-07-24T10:16:09.441Z"
   },
   {
    "duration": 23,
    "start_time": "2023-07-24T10:16:09.453Z"
   },
   {
    "duration": 13,
    "start_time": "2023-07-24T10:16:09.478Z"
   },
   {
    "duration": 35,
    "start_time": "2023-07-24T10:16:09.493Z"
   },
   {
    "duration": 31,
    "start_time": "2023-07-24T10:16:09.529Z"
   },
   {
    "duration": 23,
    "start_time": "2023-07-24T10:16:09.562Z"
   },
   {
    "duration": 8,
    "start_time": "2023-07-24T11:39:32.556Z"
   },
   {
    "duration": 6,
    "start_time": "2023-07-24T11:51:11.617Z"
   },
   {
    "duration": 10,
    "start_time": "2023-07-24T11:51:12.738Z"
   },
   {
    "duration": 8,
    "start_time": "2023-07-24T11:51:28.288Z"
   },
   {
    "duration": 7,
    "start_time": "2023-07-24T11:51:28.911Z"
   },
   {
    "duration": 8,
    "start_time": "2023-07-24T11:51:47.754Z"
   },
   {
    "duration": 10,
    "start_time": "2023-07-24T11:51:48.224Z"
   },
   {
    "duration": 750,
    "start_time": "2023-07-24T11:52:12.643Z"
   },
   {
    "duration": 30,
    "start_time": "2023-07-24T11:52:13.396Z"
   },
   {
    "duration": 6,
    "start_time": "2023-07-24T11:52:13.428Z"
   },
   {
    "duration": 36,
    "start_time": "2023-07-24T11:52:13.436Z"
   },
   {
    "duration": 15,
    "start_time": "2023-07-24T11:52:13.475Z"
   },
   {
    "duration": 99,
    "start_time": "2023-07-24T11:52:13.492Z"
   },
   {
    "duration": 7,
    "start_time": "2023-07-24T11:52:13.593Z"
   },
   {
    "duration": 39,
    "start_time": "2023-07-24T11:52:13.602Z"
   },
   {
    "duration": 482,
    "start_time": "2023-07-24T11:52:13.643Z"
   },
   {
    "duration": 13,
    "start_time": "2023-07-24T11:52:14.127Z"
   },
   {
    "duration": 85,
    "start_time": "2023-07-24T11:52:14.142Z"
   },
   {
    "duration": 30,
    "start_time": "2023-07-24T11:52:14.232Z"
   },
   {
    "duration": 22,
    "start_time": "2023-07-24T11:52:14.264Z"
   },
   {
    "duration": 26,
    "start_time": "2023-07-24T11:52:14.289Z"
   },
   {
    "duration": 51,
    "start_time": "2023-07-24T11:52:14.316Z"
   },
   {
    "duration": 269,
    "start_time": "2023-07-24T11:52:14.368Z"
   },
   {
    "duration": 15,
    "start_time": "2023-07-24T11:52:14.639Z"
   },
   {
    "duration": 35,
    "start_time": "2023-07-24T11:52:14.655Z"
   },
   {
    "duration": 95,
    "start_time": "2023-07-24T11:52:14.692Z"
   },
   {
    "duration": 32,
    "start_time": "2023-07-24T11:52:14.790Z"
   },
   {
    "duration": 39,
    "start_time": "2023-07-24T11:52:14.825Z"
   },
   {
    "duration": 127,
    "start_time": "2023-07-24T11:52:14.865Z"
   },
   {
    "duration": 115,
    "start_time": "2023-07-24T11:52:14.994Z"
   },
   {
    "duration": 9,
    "start_time": "2023-07-24T11:52:15.111Z"
   },
   {
    "duration": 20,
    "start_time": "2023-07-24T11:52:15.121Z"
   },
   {
    "duration": 11,
    "start_time": "2023-07-24T11:52:15.143Z"
   },
   {
    "duration": 21,
    "start_time": "2023-07-24T11:52:15.156Z"
   },
   {
    "duration": 34,
    "start_time": "2023-07-24T11:52:15.178Z"
   },
   {
    "duration": 70,
    "start_time": "2023-07-24T11:52:15.214Z"
   },
   {
    "duration": 22,
    "start_time": "2023-07-24T11:52:15.286Z"
   },
   {
    "duration": 7,
    "start_time": "2023-07-24T11:52:15.310Z"
   },
   {
    "duration": 25,
    "start_time": "2023-07-24T11:52:15.318Z"
   },
   {
    "duration": 25,
    "start_time": "2023-07-24T11:52:15.345Z"
   },
   {
    "duration": 8,
    "start_time": "2023-07-24T11:52:15.372Z"
   },
   {
    "duration": 11,
    "start_time": "2023-07-24T11:52:15.381Z"
   },
   {
    "duration": 17,
    "start_time": "2023-07-24T11:52:15.393Z"
   },
   {
    "duration": 37,
    "start_time": "2023-07-24T11:52:15.411Z"
   },
   {
    "duration": 34,
    "start_time": "2023-07-24T11:52:15.449Z"
   },
   {
    "duration": 10,
    "start_time": "2023-07-24T11:52:15.484Z"
   },
   {
    "duration": 37,
    "start_time": "2023-07-24T11:52:15.496Z"
   },
   {
    "duration": 10,
    "start_time": "2023-07-24T11:52:15.538Z"
   },
   {
    "duration": 24,
    "start_time": "2023-07-24T11:52:15.550Z"
   },
   {
    "duration": 18,
    "start_time": "2023-07-24T11:52:15.576Z"
   },
   {
    "duration": 11,
    "start_time": "2023-07-24T11:52:15.595Z"
   },
   {
    "duration": 25,
    "start_time": "2023-07-24T11:52:15.608Z"
   },
   {
    "duration": 19,
    "start_time": "2023-07-24T11:52:15.635Z"
   },
   {
    "duration": 11,
    "start_time": "2023-07-24T11:52:15.656Z"
   },
   {
    "duration": 20,
    "start_time": "2023-07-24T11:52:15.669Z"
   },
   {
    "duration": 13,
    "start_time": "2023-07-24T11:52:15.690Z"
   },
   {
    "duration": 15,
    "start_time": "2023-07-24T11:52:15.704Z"
   },
   {
    "duration": 17,
    "start_time": "2023-07-24T11:52:15.721Z"
   },
   {
    "duration": 27,
    "start_time": "2023-07-24T11:52:15.740Z"
   },
   {
    "duration": 12,
    "start_time": "2023-07-24T11:52:15.769Z"
   },
   {
    "duration": 26,
    "start_time": "2023-07-24T11:52:15.783Z"
   },
   {
    "duration": 22,
    "start_time": "2023-07-24T11:52:15.811Z"
   },
   {
    "duration": 16,
    "start_time": "2023-07-24T11:52:15.835Z"
   },
   {
    "duration": 17,
    "start_time": "2023-07-24T11:52:15.853Z"
   },
   {
    "duration": 21,
    "start_time": "2023-07-24T11:52:15.872Z"
   },
   {
    "duration": 9,
    "start_time": "2023-07-24T11:52:15.895Z"
   },
   {
    "duration": 19,
    "start_time": "2023-07-24T11:52:15.905Z"
   },
   {
    "duration": 12,
    "start_time": "2023-07-24T11:52:15.926Z"
   },
   {
    "duration": 18,
    "start_time": "2023-07-24T11:52:15.940Z"
   },
   {
    "duration": 13,
    "start_time": "2023-07-24T11:52:15.960Z"
   },
   {
    "duration": 16,
    "start_time": "2023-07-24T11:52:15.975Z"
   },
   {
    "duration": 23,
    "start_time": "2023-07-24T11:52:15.993Z"
   },
   {
    "duration": 491,
    "start_time": "2023-07-24T11:52:16.018Z"
   },
   {
    "duration": 7,
    "start_time": "2023-07-24T11:52:16.511Z"
   },
   {
    "duration": 27,
    "start_time": "2023-07-24T11:52:16.519Z"
   },
   {
    "duration": 106,
    "start_time": "2023-07-24T11:52:16.547Z"
   },
   {
    "duration": 39,
    "start_time": "2023-07-24T11:52:16.655Z"
   },
   {
    "duration": 11,
    "start_time": "2023-07-24T11:52:16.696Z"
   },
   {
    "duration": 37,
    "start_time": "2023-07-24T11:52:16.708Z"
   },
   {
    "duration": 12,
    "start_time": "2023-07-24T11:52:16.748Z"
   },
   {
    "duration": 9,
    "start_time": "2023-07-24T11:52:16.762Z"
   },
   {
    "duration": 19,
    "start_time": "2023-07-24T11:52:16.772Z"
   },
   {
    "duration": 16,
    "start_time": "2023-07-24T11:52:16.793Z"
   },
   {
    "duration": 56,
    "start_time": "2023-07-24T11:52:16.811Z"
   },
   {
    "duration": 35,
    "start_time": "2023-07-24T11:52:16.869Z"
   },
   {
    "duration": 57,
    "start_time": "2023-07-24T11:52:16.906Z"
   },
   {
    "duration": 25,
    "start_time": "2023-07-24T11:52:16.965Z"
   },
   {
    "duration": 26,
    "start_time": "2023-07-24T11:52:16.992Z"
   },
   {
    "duration": 19,
    "start_time": "2023-07-24T11:52:17.020Z"
   },
   {
    "duration": 26,
    "start_time": "2023-07-24T11:52:17.041Z"
   },
   {
    "duration": 9,
    "start_time": "2023-07-24T11:52:17.068Z"
   },
   {
    "duration": 40,
    "start_time": "2023-07-24T11:52:17.079Z"
   },
   {
    "duration": 32,
    "start_time": "2023-07-24T11:52:17.121Z"
   },
   {
    "duration": 8,
    "start_time": "2023-07-24T11:52:17.155Z"
   },
   {
    "duration": 36,
    "start_time": "2023-07-24T11:52:17.164Z"
   },
   {
    "duration": 7,
    "start_time": "2023-07-24T11:52:17.201Z"
   },
   {
    "duration": 12,
    "start_time": "2023-07-24T11:52:17.209Z"
   },
   {
    "duration": 15,
    "start_time": "2023-07-24T11:52:17.222Z"
   },
   {
    "duration": 22,
    "start_time": "2023-07-24T11:52:17.240Z"
   },
   {
    "duration": 19,
    "start_time": "2023-07-24T11:52:17.264Z"
   },
   {
    "duration": 10,
    "start_time": "2023-07-24T11:52:17.285Z"
   },
   {
    "duration": 18,
    "start_time": "2023-07-24T11:52:17.297Z"
   },
   {
    "duration": 5,
    "start_time": "2023-07-24T11:52:17.317Z"
   },
   {
    "duration": 19,
    "start_time": "2023-07-24T11:52:17.323Z"
   },
   {
    "duration": 27,
    "start_time": "2023-07-24T11:52:17.344Z"
   },
   {
    "duration": 37,
    "start_time": "2023-07-24T11:52:17.373Z"
   },
   {
    "duration": 26,
    "start_time": "2023-07-24T11:52:17.411Z"
   },
   {
    "duration": 24,
    "start_time": "2023-07-24T11:52:17.439Z"
   },
   {
    "duration": 13,
    "start_time": "2023-07-24T11:52:17.465Z"
   },
   {
    "duration": 6,
    "start_time": "2023-07-24T11:52:17.479Z"
   },
   {
    "duration": 9,
    "start_time": "2023-07-24T11:52:17.486Z"
   },
   {
    "duration": 19,
    "start_time": "2023-07-24T11:52:17.496Z"
   },
   {
    "duration": 14,
    "start_time": "2023-07-24T11:52:17.517Z"
   },
   {
    "duration": 15,
    "start_time": "2023-07-24T11:52:17.536Z"
   },
   {
    "duration": 36,
    "start_time": "2023-07-24T11:52:17.553Z"
   },
   {
    "duration": 18,
    "start_time": "2023-07-24T11:52:17.591Z"
   },
   {
    "duration": 661,
    "start_time": "2023-07-24T11:52:17.611Z"
   },
   {
    "duration": 59,
    "start_time": "2023-07-24T11:52:18.274Z"
   },
   {
    "duration": 191,
    "start_time": "2023-07-24T11:52:18.335Z"
   },
   {
    "duration": 17,
    "start_time": "2023-07-24T11:52:18.531Z"
   },
   {
    "duration": 59,
    "start_time": "2023-07-24T11:52:18.550Z"
   },
   {
    "duration": 30,
    "start_time": "2023-07-24T11:52:18.611Z"
   },
   {
    "duration": 38,
    "start_time": "2023-07-24T11:52:18.643Z"
   },
   {
    "duration": 21,
    "start_time": "2023-07-24T11:52:18.682Z"
   },
   {
    "duration": 13,
    "start_time": "2023-07-24T11:52:18.704Z"
   },
   {
    "duration": 6,
    "start_time": "2023-07-24T11:52:18.719Z"
   },
   {
    "duration": 17,
    "start_time": "2023-07-24T11:52:18.727Z"
   },
   {
    "duration": 13,
    "start_time": "2023-07-24T11:52:18.747Z"
   },
   {
    "duration": 15,
    "start_time": "2023-07-24T11:52:18.767Z"
   },
   {
    "duration": 11,
    "start_time": "2023-07-24T11:52:18.783Z"
   },
   {
    "duration": 10,
    "start_time": "2023-07-24T11:52:18.796Z"
   },
   {
    "duration": 22,
    "start_time": "2023-07-24T11:52:18.807Z"
   },
   {
    "duration": 11,
    "start_time": "2023-07-24T11:55:41.766Z"
   },
   {
    "duration": 12,
    "start_time": "2023-07-24T11:57:48.865Z"
   },
   {
    "duration": 796,
    "start_time": "2023-07-24T12:00:20.111Z"
   },
   {
    "duration": 29,
    "start_time": "2023-07-24T12:00:20.910Z"
   },
   {
    "duration": 10,
    "start_time": "2023-07-24T12:00:20.941Z"
   },
   {
    "duration": 87,
    "start_time": "2023-07-24T12:00:20.953Z"
   },
   {
    "duration": 75,
    "start_time": "2023-07-24T12:00:21.043Z"
   },
   {
    "duration": 96,
    "start_time": "2023-07-24T12:00:21.120Z"
   },
   {
    "duration": 8,
    "start_time": "2023-07-24T12:00:21.218Z"
   },
   {
    "duration": 33,
    "start_time": "2023-07-24T12:00:21.227Z"
   },
   {
    "duration": 537,
    "start_time": "2023-07-24T12:00:21.262Z"
   },
   {
    "duration": 8,
    "start_time": "2023-07-24T12:00:21.801Z"
   },
   {
    "duration": 82,
    "start_time": "2023-07-24T12:00:21.811Z"
   },
   {
    "duration": 25,
    "start_time": "2023-07-24T12:00:21.895Z"
   },
   {
    "duration": 7,
    "start_time": "2023-07-24T12:00:21.921Z"
   },
   {
    "duration": 22,
    "start_time": "2023-07-24T12:00:21.932Z"
   },
   {
    "duration": 34,
    "start_time": "2023-07-24T12:00:21.956Z"
   },
   {
    "duration": 282,
    "start_time": "2023-07-24T12:00:21.992Z"
   },
   {
    "duration": 9,
    "start_time": "2023-07-24T12:00:22.276Z"
   },
   {
    "duration": 11,
    "start_time": "2023-07-24T12:00:22.287Z"
   },
   {
    "duration": 46,
    "start_time": "2023-07-24T12:00:22.300Z"
   },
   {
    "duration": 18,
    "start_time": "2023-07-24T12:00:22.348Z"
   },
   {
    "duration": 18,
    "start_time": "2023-07-24T12:00:22.368Z"
   },
   {
    "duration": 107,
    "start_time": "2023-07-24T12:00:22.387Z"
   },
   {
    "duration": 121,
    "start_time": "2023-07-24T12:00:22.496Z"
   },
   {
    "duration": 11,
    "start_time": "2023-07-24T12:00:22.619Z"
   },
   {
    "duration": 28,
    "start_time": "2023-07-24T12:00:22.632Z"
   },
   {
    "duration": 26,
    "start_time": "2023-07-24T12:00:22.662Z"
   },
   {
    "duration": 26,
    "start_time": "2023-07-24T12:00:22.689Z"
   },
   {
    "duration": 53,
    "start_time": "2023-07-24T12:00:22.716Z"
   },
   {
    "duration": 55,
    "start_time": "2023-07-24T12:00:22.771Z"
   },
   {
    "duration": 53,
    "start_time": "2023-07-24T12:00:22.828Z"
   },
   {
    "duration": 9,
    "start_time": "2023-07-24T12:00:22.883Z"
   },
   {
    "duration": 16,
    "start_time": "2023-07-24T12:00:22.893Z"
   },
   {
    "duration": 20,
    "start_time": "2023-07-24T12:00:22.911Z"
   },
   {
    "duration": 19,
    "start_time": "2023-07-24T12:00:22.933Z"
   },
   {
    "duration": 9,
    "start_time": "2023-07-24T12:00:22.954Z"
   },
   {
    "duration": 7,
    "start_time": "2023-07-24T12:00:22.965Z"
   },
   {
    "duration": 20,
    "start_time": "2023-07-24T12:00:22.973Z"
   },
   {
    "duration": 14,
    "start_time": "2023-07-24T12:00:22.995Z"
   },
   {
    "duration": 13,
    "start_time": "2023-07-24T12:00:23.011Z"
   },
   {
    "duration": 44,
    "start_time": "2023-07-24T12:00:23.026Z"
   },
   {
    "duration": 9,
    "start_time": "2023-07-24T12:00:23.075Z"
   },
   {
    "duration": 17,
    "start_time": "2023-07-24T12:00:23.085Z"
   },
   {
    "duration": 29,
    "start_time": "2023-07-24T12:00:23.103Z"
   },
   {
    "duration": 15,
    "start_time": "2023-07-24T12:00:23.134Z"
   },
   {
    "duration": 18,
    "start_time": "2023-07-24T12:00:23.150Z"
   },
   {
    "duration": 18,
    "start_time": "2023-07-24T12:00:23.170Z"
   },
   {
    "duration": 4,
    "start_time": "2023-07-24T12:00:23.189Z"
   },
   {
    "duration": 28,
    "start_time": "2023-07-24T12:00:23.194Z"
   },
   {
    "duration": 25,
    "start_time": "2023-07-24T12:00:23.224Z"
   },
   {
    "duration": 17,
    "start_time": "2023-07-24T12:00:23.251Z"
   },
   {
    "duration": 16,
    "start_time": "2023-07-24T12:00:23.270Z"
   },
   {
    "duration": 21,
    "start_time": "2023-07-24T12:00:23.288Z"
   },
   {
    "duration": 9,
    "start_time": "2023-07-24T12:00:23.311Z"
   },
   {
    "duration": 9,
    "start_time": "2023-07-24T12:00:23.321Z"
   },
   {
    "duration": 17,
    "start_time": "2023-07-24T12:00:23.331Z"
   },
   {
    "duration": 38,
    "start_time": "2023-07-24T12:00:23.351Z"
   },
   {
    "duration": 16,
    "start_time": "2023-07-24T12:00:23.390Z"
   },
   {
    "duration": 48,
    "start_time": "2023-07-24T12:00:23.408Z"
   },
   {
    "duration": 48,
    "start_time": "2023-07-24T12:00:23.458Z"
   },
   {
    "duration": 15,
    "start_time": "2023-07-24T12:00:23.508Z"
   },
   {
    "duration": 26,
    "start_time": "2023-07-24T12:00:23.525Z"
   },
   {
    "duration": 33,
    "start_time": "2023-07-24T12:00:23.552Z"
   },
   {
    "duration": 30,
    "start_time": "2023-07-24T12:00:23.587Z"
   },
   {
    "duration": 70,
    "start_time": "2023-07-24T12:00:23.619Z"
   },
   {
    "duration": 62,
    "start_time": "2023-07-24T12:00:23.691Z"
   },
   {
    "duration": 516,
    "start_time": "2023-07-24T12:00:23.756Z"
   },
   {
    "duration": 7,
    "start_time": "2023-07-24T12:00:24.273Z"
   },
   {
    "duration": 43,
    "start_time": "2023-07-24T12:00:24.282Z"
   },
   {
    "duration": 101,
    "start_time": "2023-07-24T12:00:24.326Z"
   },
   {
    "duration": 34,
    "start_time": "2023-07-24T12:00:24.429Z"
   },
   {
    "duration": 11,
    "start_time": "2023-07-24T12:00:24.466Z"
   },
   {
    "duration": 39,
    "start_time": "2023-07-24T12:00:24.479Z"
   },
   {
    "duration": 8,
    "start_time": "2023-07-24T12:00:24.520Z"
   },
   {
    "duration": 21,
    "start_time": "2023-07-24T12:00:24.529Z"
   },
   {
    "duration": 30,
    "start_time": "2023-07-24T12:00:24.552Z"
   },
   {
    "duration": 14,
    "start_time": "2023-07-24T12:00:24.583Z"
   },
   {
    "duration": 22,
    "start_time": "2023-07-24T12:00:24.598Z"
   },
   {
    "duration": 11,
    "start_time": "2023-07-24T12:00:24.621Z"
   },
   {
    "duration": 52,
    "start_time": "2023-07-24T12:00:24.633Z"
   },
   {
    "duration": 11,
    "start_time": "2023-07-24T12:00:24.688Z"
   },
   {
    "duration": 35,
    "start_time": "2023-07-24T12:00:24.701Z"
   },
   {
    "duration": 7,
    "start_time": "2023-07-24T12:00:24.741Z"
   },
   {
    "duration": 58,
    "start_time": "2023-07-24T12:00:24.749Z"
   },
   {
    "duration": 37,
    "start_time": "2023-07-24T12:00:24.809Z"
   },
   {
    "duration": 40,
    "start_time": "2023-07-24T12:00:24.848Z"
   },
   {
    "duration": 70,
    "start_time": "2023-07-24T12:00:24.890Z"
   },
   {
    "duration": 28,
    "start_time": "2023-07-24T12:00:24.962Z"
   },
   {
    "duration": 18,
    "start_time": "2023-07-24T12:00:24.991Z"
   },
   {
    "duration": 27,
    "start_time": "2023-07-24T12:00:25.010Z"
   },
   {
    "duration": 19,
    "start_time": "2023-07-24T12:00:25.039Z"
   },
   {
    "duration": 25,
    "start_time": "2023-07-24T12:00:25.060Z"
   },
   {
    "duration": 18,
    "start_time": "2023-07-24T12:00:25.087Z"
   },
   {
    "duration": 19,
    "start_time": "2023-07-24T12:00:25.107Z"
   },
   {
    "duration": 27,
    "start_time": "2023-07-24T12:00:25.128Z"
   },
   {
    "duration": 19,
    "start_time": "2023-07-24T12:00:25.157Z"
   },
   {
    "duration": 33,
    "start_time": "2023-07-24T12:00:25.177Z"
   },
   {
    "duration": 38,
    "start_time": "2023-07-24T12:00:25.211Z"
   },
   {
    "duration": 22,
    "start_time": "2023-07-24T12:00:25.251Z"
   },
   {
    "duration": 44,
    "start_time": "2023-07-24T12:00:25.275Z"
   },
   {
    "duration": 20,
    "start_time": "2023-07-24T12:00:25.321Z"
   },
   {
    "duration": 33,
    "start_time": "2023-07-24T12:00:25.345Z"
   },
   {
    "duration": 22,
    "start_time": "2023-07-24T12:00:25.380Z"
   },
   {
    "duration": 23,
    "start_time": "2023-07-24T12:00:25.403Z"
   },
   {
    "duration": 9,
    "start_time": "2023-07-24T12:00:25.427Z"
   },
   {
    "duration": 19,
    "start_time": "2023-07-24T12:00:25.438Z"
   },
   {
    "duration": 19,
    "start_time": "2023-07-24T12:00:25.458Z"
   },
   {
    "duration": 23,
    "start_time": "2023-07-24T12:00:25.479Z"
   },
   {
    "duration": 11,
    "start_time": "2023-07-24T12:00:25.504Z"
   },
   {
    "duration": 26,
    "start_time": "2023-07-24T12:00:25.517Z"
   },
   {
    "duration": 20,
    "start_time": "2023-07-24T12:00:25.545Z"
   },
   {
    "duration": 689,
    "start_time": "2023-07-24T12:00:25.567Z"
   },
   {
    "duration": 9,
    "start_time": "2023-07-24T12:00:26.259Z"
   },
   {
    "duration": 162,
    "start_time": "2023-07-24T12:00:26.270Z"
   },
   {
    "duration": 18,
    "start_time": "2023-07-24T12:00:26.433Z"
   },
   {
    "duration": 28,
    "start_time": "2023-07-24T12:00:26.452Z"
   },
   {
    "duration": 34,
    "start_time": "2023-07-24T12:00:26.481Z"
   },
   {
    "duration": 30,
    "start_time": "2023-07-24T12:00:26.516Z"
   },
   {
    "duration": 28,
    "start_time": "2023-07-24T12:00:26.548Z"
   },
   {
    "duration": 33,
    "start_time": "2023-07-24T12:00:26.577Z"
   },
   {
    "duration": 49,
    "start_time": "2023-07-24T12:00:26.611Z"
   },
   {
    "duration": 22,
    "start_time": "2023-07-24T12:00:26.662Z"
   },
   {
    "duration": 12,
    "start_time": "2023-07-24T12:00:26.691Z"
   },
   {
    "duration": 18,
    "start_time": "2023-07-24T12:00:26.705Z"
   },
   {
    "duration": 31,
    "start_time": "2023-07-24T12:00:26.725Z"
   },
   {
    "duration": 20,
    "start_time": "2023-07-24T12:00:26.758Z"
   },
   {
    "duration": 16,
    "start_time": "2023-07-24T12:00:26.780Z"
   },
   {
    "duration": 1051,
    "start_time": "2023-07-24T14:07:21.366Z"
   },
   {
    "duration": 65,
    "start_time": "2023-07-24T14:07:22.422Z"
   },
   {
    "duration": 5,
    "start_time": "2023-07-24T14:07:22.488Z"
   },
   {
    "duration": 28,
    "start_time": "2023-07-24T14:07:22.496Z"
   },
   {
    "duration": 25,
    "start_time": "2023-07-24T14:07:22.526Z"
   },
   {
    "duration": 322,
    "start_time": "2023-07-24T14:07:22.553Z"
   },
   {
    "duration": 9,
    "start_time": "2023-07-24T14:07:22.877Z"
   },
   {
    "duration": 30,
    "start_time": "2023-07-24T14:07:22.888Z"
   },
   {
    "duration": 670,
    "start_time": "2023-07-24T14:07:22.919Z"
   },
   {
    "duration": 9,
    "start_time": "2023-07-24T14:07:23.592Z"
   },
   {
    "duration": 75,
    "start_time": "2023-07-24T14:07:23.603Z"
   },
   {
    "duration": 74,
    "start_time": "2023-07-24T14:07:23.680Z"
   },
   {
    "duration": 9,
    "start_time": "2023-07-24T14:07:23.755Z"
   },
   {
    "duration": 17,
    "start_time": "2023-07-24T14:07:23.765Z"
   },
   {
    "duration": 50,
    "start_time": "2023-07-24T14:07:23.783Z"
   },
   {
    "duration": 304,
    "start_time": "2023-07-24T14:07:23.835Z"
   },
   {
    "duration": 17,
    "start_time": "2023-07-24T14:07:24.140Z"
   },
   {
    "duration": 11,
    "start_time": "2023-07-24T14:07:24.158Z"
   },
   {
    "duration": 52,
    "start_time": "2023-07-24T14:07:24.170Z"
   },
   {
    "duration": 13,
    "start_time": "2023-07-24T14:07:24.223Z"
   },
   {
    "duration": 28,
    "start_time": "2023-07-24T14:07:24.238Z"
   },
   {
    "duration": 184,
    "start_time": "2023-07-24T14:07:24.269Z"
   },
   {
    "duration": 115,
    "start_time": "2023-07-24T14:07:24.455Z"
   },
   {
    "duration": 24,
    "start_time": "2023-07-24T14:07:24.572Z"
   },
   {
    "duration": 28,
    "start_time": "2023-07-24T14:07:24.598Z"
   },
   {
    "duration": 34,
    "start_time": "2023-07-24T14:07:24.627Z"
   },
   {
    "duration": 17,
    "start_time": "2023-07-24T14:07:24.662Z"
   },
   {
    "duration": 28,
    "start_time": "2023-07-24T14:07:24.684Z"
   },
   {
    "duration": 68,
    "start_time": "2023-07-24T14:07:24.713Z"
   },
   {
    "duration": 23,
    "start_time": "2023-07-24T14:07:24.783Z"
   },
   {
    "duration": 29,
    "start_time": "2023-07-24T14:07:24.808Z"
   },
   {
    "duration": 22,
    "start_time": "2023-07-24T14:07:24.839Z"
   },
   {
    "duration": 5,
    "start_time": "2023-07-24T14:07:24.863Z"
   },
   {
    "duration": 15,
    "start_time": "2023-07-24T14:07:24.870Z"
   },
   {
    "duration": 8,
    "start_time": "2023-07-24T14:07:24.886Z"
   },
   {
    "duration": 10,
    "start_time": "2023-07-24T14:07:24.896Z"
   },
   {
    "duration": 15,
    "start_time": "2023-07-24T14:07:24.908Z"
   },
   {
    "duration": 28,
    "start_time": "2023-07-24T14:07:24.925Z"
   },
   {
    "duration": 4,
    "start_time": "2023-07-24T14:07:24.955Z"
   },
   {
    "duration": 40,
    "start_time": "2023-07-24T14:07:24.961Z"
   },
   {
    "duration": 11,
    "start_time": "2023-07-24T14:07:25.003Z"
   },
   {
    "duration": 36,
    "start_time": "2023-07-24T14:07:25.016Z"
   },
   {
    "duration": 35,
    "start_time": "2023-07-24T14:07:25.054Z"
   },
   {
    "duration": 18,
    "start_time": "2023-07-24T14:07:25.091Z"
   },
   {
    "duration": 16,
    "start_time": "2023-07-24T14:07:25.111Z"
   },
   {
    "duration": 28,
    "start_time": "2023-07-24T14:07:25.129Z"
   },
   {
    "duration": 23,
    "start_time": "2023-07-24T14:07:25.159Z"
   },
   {
    "duration": 29,
    "start_time": "2023-07-24T14:07:25.184Z"
   },
   {
    "duration": 11,
    "start_time": "2023-07-24T14:07:25.215Z"
   },
   {
    "duration": 32,
    "start_time": "2023-07-24T14:07:25.228Z"
   },
   {
    "duration": 42,
    "start_time": "2023-07-24T14:07:25.262Z"
   },
   {
    "duration": 54,
    "start_time": "2023-07-24T14:07:25.307Z"
   },
   {
    "duration": 24,
    "start_time": "2023-07-24T14:07:25.363Z"
   },
   {
    "duration": 58,
    "start_time": "2023-07-24T14:07:25.389Z"
   },
   {
    "duration": 36,
    "start_time": "2023-07-24T14:07:25.449Z"
   },
   {
    "duration": 73,
    "start_time": "2023-07-24T14:07:25.487Z"
   },
   {
    "duration": 13,
    "start_time": "2023-07-24T14:07:25.562Z"
   },
   {
    "duration": 26,
    "start_time": "2023-07-24T14:07:25.577Z"
   },
   {
    "duration": 7,
    "start_time": "2023-07-24T14:07:25.605Z"
   },
   {
    "duration": 17,
    "start_time": "2023-07-24T14:07:25.614Z"
   },
   {
    "duration": 27,
    "start_time": "2023-07-24T14:07:25.632Z"
   },
   {
    "duration": 15,
    "start_time": "2023-07-24T14:07:25.661Z"
   },
   {
    "duration": 21,
    "start_time": "2023-07-24T14:07:25.678Z"
   },
   {
    "duration": 10,
    "start_time": "2023-07-24T14:07:25.700Z"
   },
   {
    "duration": 16,
    "start_time": "2023-07-24T14:07:25.712Z"
   },
   {
    "duration": 533,
    "start_time": "2023-07-24T14:07:25.730Z"
   },
   {
    "duration": 7,
    "start_time": "2023-07-24T14:07:26.265Z"
   },
   {
    "duration": 23,
    "start_time": "2023-07-24T14:07:26.274Z"
   },
   {
    "duration": 110,
    "start_time": "2023-07-24T14:07:26.299Z"
   },
   {
    "duration": 42,
    "start_time": "2023-07-24T14:07:26.411Z"
   },
   {
    "duration": 9,
    "start_time": "2023-07-24T14:07:26.455Z"
   },
   {
    "duration": 23,
    "start_time": "2023-07-24T14:07:26.466Z"
   },
   {
    "duration": 12,
    "start_time": "2023-07-24T14:07:26.490Z"
   },
   {
    "duration": 7,
    "start_time": "2023-07-24T14:07:26.503Z"
   },
   {
    "duration": 15,
    "start_time": "2023-07-24T14:07:26.512Z"
   },
   {
    "duration": 14,
    "start_time": "2023-07-24T14:07:26.529Z"
   },
   {
    "duration": 14,
    "start_time": "2023-07-24T14:07:26.545Z"
   },
   {
    "duration": 10,
    "start_time": "2023-07-24T14:07:26.561Z"
   },
   {
    "duration": 13,
    "start_time": "2023-07-24T14:07:26.573Z"
   },
   {
    "duration": 11,
    "start_time": "2023-07-24T14:07:26.588Z"
   },
   {
    "duration": 17,
    "start_time": "2023-07-24T14:07:26.601Z"
   },
   {
    "duration": 5,
    "start_time": "2023-07-24T14:07:26.624Z"
   },
   {
    "duration": 6,
    "start_time": "2023-07-24T14:07:26.652Z"
   },
   {
    "duration": 12,
    "start_time": "2023-07-24T14:07:26.660Z"
   },
   {
    "duration": 8,
    "start_time": "2023-07-24T14:07:26.673Z"
   },
   {
    "duration": 43,
    "start_time": "2023-07-24T14:07:26.683Z"
   },
   {
    "duration": 34,
    "start_time": "2023-07-24T14:07:26.728Z"
   },
   {
    "duration": 10,
    "start_time": "2023-07-24T14:07:26.764Z"
   },
   {
    "duration": 27,
    "start_time": "2023-07-24T14:07:26.776Z"
   },
   {
    "duration": 8,
    "start_time": "2023-07-24T14:07:26.805Z"
   },
   {
    "duration": 13,
    "start_time": "2023-07-24T14:07:26.814Z"
   },
   {
    "duration": 26,
    "start_time": "2023-07-24T14:07:26.828Z"
   },
   {
    "duration": 7,
    "start_time": "2023-07-24T14:07:26.856Z"
   },
   {
    "duration": 16,
    "start_time": "2023-07-24T14:07:26.865Z"
   },
   {
    "duration": 11,
    "start_time": "2023-07-24T14:07:26.883Z"
   },
   {
    "duration": 18,
    "start_time": "2023-07-24T14:07:26.895Z"
   },
   {
    "duration": 8,
    "start_time": "2023-07-24T14:07:26.914Z"
   },
   {
    "duration": 8,
    "start_time": "2023-07-24T14:07:26.924Z"
   },
   {
    "duration": 12,
    "start_time": "2023-07-24T14:07:26.952Z"
   },
   {
    "duration": 15,
    "start_time": "2023-07-24T14:07:26.966Z"
   },
   {
    "duration": 31,
    "start_time": "2023-07-24T14:07:26.982Z"
   },
   {
    "duration": 16,
    "start_time": "2023-07-24T14:07:27.015Z"
   },
   {
    "duration": 23,
    "start_time": "2023-07-24T14:07:27.033Z"
   },
   {
    "duration": 12,
    "start_time": "2023-07-24T14:07:27.058Z"
   },
   {
    "duration": 15,
    "start_time": "2023-07-24T14:07:27.071Z"
   },
   {
    "duration": 15,
    "start_time": "2023-07-24T14:07:27.087Z"
   },
   {
    "duration": 12,
    "start_time": "2023-07-24T14:07:27.104Z"
   },
   {
    "duration": 15,
    "start_time": "2023-07-24T14:07:27.117Z"
   },
   {
    "duration": 29,
    "start_time": "2023-07-24T14:07:27.134Z"
   },
   {
    "duration": 35,
    "start_time": "2023-07-24T14:07:27.166Z"
   },
   {
    "duration": 662,
    "start_time": "2023-07-24T14:07:27.204Z"
   },
   {
    "duration": 9,
    "start_time": "2023-07-24T14:07:27.868Z"
   },
   {
    "duration": 174,
    "start_time": "2023-07-24T14:07:27.878Z"
   },
   {
    "duration": 13,
    "start_time": "2023-07-24T14:07:28.053Z"
   },
   {
    "duration": 10,
    "start_time": "2023-07-24T14:07:28.068Z"
   },
   {
    "duration": 6,
    "start_time": "2023-07-24T14:07:28.080Z"
   },
   {
    "duration": 10,
    "start_time": "2023-07-24T14:07:28.088Z"
   },
   {
    "duration": 7,
    "start_time": "2023-07-24T14:07:28.099Z"
   },
   {
    "duration": 11,
    "start_time": "2023-07-24T14:07:28.108Z"
   },
   {
    "duration": 32,
    "start_time": "2023-07-24T14:07:28.120Z"
   },
   {
    "duration": 6,
    "start_time": "2023-07-24T14:07:28.154Z"
   },
   {
    "duration": 20,
    "start_time": "2023-07-24T14:07:28.162Z"
   },
   {
    "duration": 6,
    "start_time": "2023-07-24T14:07:28.183Z"
   },
   {
    "duration": 7,
    "start_time": "2023-07-24T14:07:28.191Z"
   },
   {
    "duration": 13,
    "start_time": "2023-07-24T14:07:28.200Z"
   },
   {
    "duration": 26,
    "start_time": "2023-07-24T14:07:28.215Z"
   },
   {
    "duration": 10,
    "start_time": "2023-07-24T14:10:31.471Z"
   },
   {
    "duration": 5,
    "start_time": "2023-07-24T14:11:02.697Z"
   },
   {
    "duration": 10,
    "start_time": "2023-07-24T14:12:07.492Z"
   },
   {
    "duration": 7,
    "start_time": "2023-07-24T14:13:35.107Z"
   },
   {
    "duration": 7,
    "start_time": "2023-07-24T14:13:39.306Z"
   },
   {
    "duration": 3,
    "start_time": "2023-07-24T14:16:40.193Z"
   },
   {
    "duration": 33,
    "start_time": "2023-07-24T14:16:40.198Z"
   },
   {
    "duration": 4,
    "start_time": "2023-07-24T14:16:40.233Z"
   },
   {
    "duration": 15,
    "start_time": "2023-07-24T14:16:40.238Z"
   },
   {
    "duration": 15,
    "start_time": "2023-07-24T14:16:40.255Z"
   },
   {
    "duration": 71,
    "start_time": "2023-07-24T14:16:40.272Z"
   },
   {
    "duration": 9,
    "start_time": "2023-07-24T14:16:40.345Z"
   },
   {
    "duration": 21,
    "start_time": "2023-07-24T14:16:40.355Z"
   },
   {
    "duration": 488,
    "start_time": "2023-07-24T14:16:40.378Z"
   },
   {
    "duration": 10,
    "start_time": "2023-07-24T14:16:40.867Z"
   },
   {
    "duration": 74,
    "start_time": "2023-07-24T14:16:40.878Z"
   },
   {
    "duration": 27,
    "start_time": "2023-07-24T14:16:40.953Z"
   },
   {
    "duration": 8,
    "start_time": "2023-07-24T14:16:40.981Z"
   },
   {
    "duration": 14,
    "start_time": "2023-07-24T14:16:40.990Z"
   },
   {
    "duration": 49,
    "start_time": "2023-07-24T14:16:41.006Z"
   },
   {
    "duration": 297,
    "start_time": "2023-07-24T14:16:41.057Z"
   },
   {
    "duration": 11,
    "start_time": "2023-07-24T14:16:41.356Z"
   },
   {
    "duration": 6,
    "start_time": "2023-07-24T14:16:41.369Z"
   },
   {
    "duration": 41,
    "start_time": "2023-07-24T14:16:41.377Z"
   },
   {
    "duration": 34,
    "start_time": "2023-07-24T14:16:41.420Z"
   },
   {
    "duration": 18,
    "start_time": "2023-07-24T14:16:41.457Z"
   },
   {
    "duration": 96,
    "start_time": "2023-07-24T14:16:41.476Z"
   },
   {
    "duration": 48,
    "start_time": "2023-07-24T14:16:41.574Z"
   },
   {
    "duration": 11,
    "start_time": "2023-07-24T14:16:41.624Z"
   },
   {
    "duration": 6,
    "start_time": "2023-07-24T14:16:41.651Z"
   },
   {
    "duration": 14,
    "start_time": "2023-07-24T14:16:41.659Z"
   },
   {
    "duration": 17,
    "start_time": "2023-07-24T14:16:41.675Z"
   },
   {
    "duration": 31,
    "start_time": "2023-07-24T14:16:41.694Z"
   },
   {
    "duration": 73,
    "start_time": "2023-07-24T14:16:41.727Z"
   },
   {
    "duration": 23,
    "start_time": "2023-07-24T14:16:41.802Z"
   },
   {
    "duration": 27,
    "start_time": "2023-07-24T14:16:41.827Z"
   },
   {
    "duration": 6,
    "start_time": "2023-07-24T14:16:41.856Z"
   },
   {
    "duration": 7,
    "start_time": "2023-07-24T14:16:41.864Z"
   },
   {
    "duration": 8,
    "start_time": "2023-07-24T14:16:41.873Z"
   },
   {
    "duration": 10,
    "start_time": "2023-07-24T14:16:41.883Z"
   },
   {
    "duration": 12,
    "start_time": "2023-07-24T14:16:41.894Z"
   },
   {
    "duration": 10,
    "start_time": "2023-07-24T14:16:41.908Z"
   },
   {
    "duration": 33,
    "start_time": "2023-07-24T14:16:41.920Z"
   },
   {
    "duration": 5,
    "start_time": "2023-07-24T14:16:41.955Z"
   },
   {
    "duration": 49,
    "start_time": "2023-07-24T14:16:41.962Z"
   },
   {
    "duration": 10,
    "start_time": "2023-07-24T14:16:42.012Z"
   },
   {
    "duration": 29,
    "start_time": "2023-07-24T14:16:42.024Z"
   },
   {
    "duration": 23,
    "start_time": "2023-07-24T14:16:42.055Z"
   },
   {
    "duration": 10,
    "start_time": "2023-07-24T14:16:42.081Z"
   },
   {
    "duration": 18,
    "start_time": "2023-07-24T14:16:42.093Z"
   },
   {
    "duration": 39,
    "start_time": "2023-07-24T14:16:42.113Z"
   },
   {
    "duration": 4,
    "start_time": "2023-07-24T14:16:42.153Z"
   },
   {
    "duration": 12,
    "start_time": "2023-07-24T14:16:42.159Z"
   },
   {
    "duration": 6,
    "start_time": "2023-07-24T14:16:42.173Z"
   },
   {
    "duration": 10,
    "start_time": "2023-07-24T14:16:42.181Z"
   },
   {
    "duration": 14,
    "start_time": "2023-07-24T14:16:42.192Z"
   },
   {
    "duration": 23,
    "start_time": "2023-07-24T14:16:42.207Z"
   },
   {
    "duration": 32,
    "start_time": "2023-07-24T14:16:42.232Z"
   },
   {
    "duration": 11,
    "start_time": "2023-07-24T14:16:42.265Z"
   },
   {
    "duration": 19,
    "start_time": "2023-07-24T14:16:42.278Z"
   },
   {
    "duration": 15,
    "start_time": "2023-07-24T14:16:42.299Z"
   },
   {
    "duration": 18,
    "start_time": "2023-07-24T14:16:42.316Z"
   },
   {
    "duration": 19,
    "start_time": "2023-07-24T14:16:42.336Z"
   },
   {
    "duration": 6,
    "start_time": "2023-07-24T14:16:42.357Z"
   },
   {
    "duration": 13,
    "start_time": "2023-07-24T14:16:42.365Z"
   },
   {
    "duration": 10,
    "start_time": "2023-07-24T14:16:42.380Z"
   },
   {
    "duration": 6,
    "start_time": "2023-07-24T14:16:42.392Z"
   },
   {
    "duration": 10,
    "start_time": "2023-07-24T14:16:42.400Z"
   },
   {
    "duration": 9,
    "start_time": "2023-07-24T14:16:42.412Z"
   },
   {
    "duration": 31,
    "start_time": "2023-07-24T14:16:42.422Z"
   },
   {
    "duration": 558,
    "start_time": "2023-07-24T14:16:42.455Z"
   },
   {
    "duration": 8,
    "start_time": "2023-07-24T14:16:43.015Z"
   },
   {
    "duration": 33,
    "start_time": "2023-07-24T14:16:43.025Z"
   },
   {
    "duration": 105,
    "start_time": "2023-07-24T14:16:43.060Z"
   },
   {
    "duration": 31,
    "start_time": "2023-07-24T14:16:43.167Z"
   },
   {
    "duration": 17,
    "start_time": "2023-07-24T14:16:43.199Z"
   },
   {
    "duration": 32,
    "start_time": "2023-07-24T14:16:43.217Z"
   },
   {
    "duration": 12,
    "start_time": "2023-07-24T14:16:43.251Z"
   },
   {
    "duration": 7,
    "start_time": "2023-07-24T14:16:43.265Z"
   },
   {
    "duration": 15,
    "start_time": "2023-07-24T14:16:43.273Z"
   },
   {
    "duration": 11,
    "start_time": "2023-07-24T14:16:43.289Z"
   },
   {
    "duration": 12,
    "start_time": "2023-07-24T14:16:43.302Z"
   },
   {
    "duration": 20,
    "start_time": "2023-07-24T14:16:43.316Z"
   },
   {
    "duration": 19,
    "start_time": "2023-07-24T14:16:43.338Z"
   },
   {
    "duration": 52,
    "start_time": "2023-07-24T14:16:43.359Z"
   },
   {
    "duration": 23,
    "start_time": "2023-07-24T14:16:43.413Z"
   },
   {
    "duration": 9,
    "start_time": "2023-07-24T14:16:43.439Z"
   },
   {
    "duration": 10,
    "start_time": "2023-07-24T14:16:43.450Z"
   },
   {
    "duration": 7,
    "start_time": "2023-07-24T14:16:43.462Z"
   },
   {
    "duration": 11,
    "start_time": "2023-07-24T14:16:43.471Z"
   },
   {
    "duration": 55,
    "start_time": "2023-07-24T14:16:43.484Z"
   },
   {
    "duration": 36,
    "start_time": "2023-07-24T14:16:43.541Z"
   },
   {
    "duration": 10,
    "start_time": "2023-07-24T14:16:43.579Z"
   },
   {
    "duration": 21,
    "start_time": "2023-07-24T14:16:43.590Z"
   },
   {
    "duration": 10,
    "start_time": "2023-07-24T14:16:43.613Z"
   },
   {
    "duration": 32,
    "start_time": "2023-07-24T14:16:43.625Z"
   },
   {
    "duration": 15,
    "start_time": "2023-07-24T14:16:43.659Z"
   },
   {
    "duration": 10,
    "start_time": "2023-07-24T14:16:43.676Z"
   },
   {
    "duration": 16,
    "start_time": "2023-07-24T14:16:43.688Z"
   },
   {
    "duration": 12,
    "start_time": "2023-07-24T14:16:43.705Z"
   },
   {
    "duration": 20,
    "start_time": "2023-07-24T14:16:43.719Z"
   },
   {
    "duration": 14,
    "start_time": "2023-07-24T14:16:43.741Z"
   },
   {
    "duration": 21,
    "start_time": "2023-07-24T14:16:43.757Z"
   },
   {
    "duration": 18,
    "start_time": "2023-07-24T14:16:43.780Z"
   },
   {
    "duration": 16,
    "start_time": "2023-07-24T14:16:43.800Z"
   },
   {
    "duration": 9,
    "start_time": "2023-07-24T14:16:43.818Z"
   },
   {
    "duration": 19,
    "start_time": "2023-07-24T14:16:43.829Z"
   },
   {
    "duration": 28,
    "start_time": "2023-07-24T14:16:43.850Z"
   },
   {
    "duration": 7,
    "start_time": "2023-07-24T14:16:43.880Z"
   },
   {
    "duration": 14,
    "start_time": "2023-07-24T14:16:43.888Z"
   },
   {
    "duration": 12,
    "start_time": "2023-07-24T14:16:43.904Z"
   },
   {
    "duration": 7,
    "start_time": "2023-07-24T14:16:43.918Z"
   },
   {
    "duration": 12,
    "start_time": "2023-07-24T14:16:43.927Z"
   },
   {
    "duration": 18,
    "start_time": "2023-07-24T14:16:43.940Z"
   },
   {
    "duration": 23,
    "start_time": "2023-07-24T14:16:43.960Z"
   },
   {
    "duration": 316,
    "start_time": "2023-07-24T14:16:43.985Z"
   },
   {
    "duration": 8,
    "start_time": "2023-07-24T14:16:44.303Z"
   },
   {
    "duration": 149,
    "start_time": "2023-07-24T14:16:44.313Z"
   },
   {
    "duration": 12,
    "start_time": "2023-07-24T14:16:44.464Z"
   },
   {
    "duration": 13,
    "start_time": "2023-07-24T14:16:44.477Z"
   },
   {
    "duration": 10,
    "start_time": "2023-07-24T14:16:44.491Z"
   },
   {
    "duration": 21,
    "start_time": "2023-07-24T14:16:44.503Z"
   },
   {
    "duration": 4,
    "start_time": "2023-07-24T14:16:44.536Z"
   },
   {
    "duration": 7,
    "start_time": "2023-07-24T14:16:44.553Z"
   },
   {
    "duration": 10,
    "start_time": "2023-07-24T14:16:44.561Z"
   },
   {
    "duration": 9,
    "start_time": "2023-07-24T14:16:44.573Z"
   },
   {
    "duration": 16,
    "start_time": "2023-07-24T14:16:44.584Z"
   },
   {
    "duration": 14,
    "start_time": "2023-07-24T14:16:44.603Z"
   },
   {
    "duration": 8,
    "start_time": "2023-07-24T14:16:44.619Z"
   },
   {
    "duration": 25,
    "start_time": "2023-07-24T14:16:44.629Z"
   },
   {
    "duration": 124,
    "start_time": "2023-07-24T14:16:44.656Z"
   },
   {
    "duration": 11,
    "start_time": "2023-07-24T14:28:53.970Z"
   },
   {
    "duration": 11,
    "start_time": "2023-07-24T14:29:16.983Z"
   },
   {
    "duration": 13,
    "start_time": "2023-07-24T14:53:48.909Z"
   },
   {
    "duration": 7,
    "start_time": "2023-07-24T14:54:23.836Z"
   },
   {
    "duration": 7,
    "start_time": "2023-07-24T14:55:47.886Z"
   },
   {
    "duration": 9,
    "start_time": "2023-07-24T14:58:07.274Z"
   },
   {
    "duration": 6,
    "start_time": "2023-07-24T14:58:07.873Z"
   },
   {
    "duration": 10,
    "start_time": "2023-07-24T15:00:46.616Z"
   },
   {
    "duration": 10,
    "start_time": "2023-07-24T15:00:54.826Z"
   },
   {
    "duration": 7,
    "start_time": "2023-07-24T15:02:00.396Z"
   },
   {
    "duration": 181,
    "start_time": "2023-07-24T15:02:01.826Z"
   },
   {
    "duration": 4,
    "start_time": "2023-07-24T15:02:38.475Z"
   },
   {
    "duration": 20,
    "start_time": "2023-07-24T15:02:43.517Z"
   },
   {
    "duration": 879,
    "start_time": "2023-07-24T15:02:57.317Z"
   },
   {
    "duration": 28,
    "start_time": "2023-07-24T15:02:58.200Z"
   },
   {
    "duration": 4,
    "start_time": "2023-07-24T15:02:58.230Z"
   },
   {
    "duration": 34,
    "start_time": "2023-07-24T15:02:58.237Z"
   },
   {
    "duration": 31,
    "start_time": "2023-07-24T15:02:58.273Z"
   },
   {
    "duration": 122,
    "start_time": "2023-07-24T15:02:58.307Z"
   },
   {
    "duration": 11,
    "start_time": "2023-07-24T15:02:58.431Z"
   },
   {
    "duration": 58,
    "start_time": "2023-07-24T15:02:58.444Z"
   },
   {
    "duration": 622,
    "start_time": "2023-07-24T15:02:58.504Z"
   },
   {
    "duration": 11,
    "start_time": "2023-07-24T15:02:59.130Z"
   },
   {
    "duration": 74,
    "start_time": "2023-07-24T15:02:59.156Z"
   },
   {
    "duration": 43,
    "start_time": "2023-07-24T15:02:59.232Z"
   },
   {
    "duration": 10,
    "start_time": "2023-07-24T15:02:59.279Z"
   },
   {
    "duration": 32,
    "start_time": "2023-07-24T15:02:59.292Z"
   },
   {
    "duration": 124,
    "start_time": "2023-07-24T15:02:59.326Z"
   },
   {
    "duration": 412,
    "start_time": "2023-07-24T15:02:59.452Z"
   },
   {
    "duration": 16,
    "start_time": "2023-07-24T15:02:59.873Z"
   },
   {
    "duration": 15,
    "start_time": "2023-07-24T15:02:59.891Z"
   },
   {
    "duration": 61,
    "start_time": "2023-07-24T15:02:59.908Z"
   },
   {
    "duration": 17,
    "start_time": "2023-07-24T15:02:59.971Z"
   },
   {
    "duration": 18,
    "start_time": "2023-07-24T15:02:59.989Z"
   },
   {
    "duration": 126,
    "start_time": "2023-07-24T15:03:00.009Z"
   },
   {
    "duration": 56,
    "start_time": "2023-07-24T15:03:00.137Z"
   },
   {
    "duration": 11,
    "start_time": "2023-07-24T15:03:00.195Z"
   },
   {
    "duration": 33,
    "start_time": "2023-07-24T15:03:00.209Z"
   },
   {
    "duration": 49,
    "start_time": "2023-07-24T15:03:00.244Z"
   },
   {
    "duration": 109,
    "start_time": "2023-07-24T15:03:00.295Z"
   },
   {
    "duration": 96,
    "start_time": "2023-07-24T15:03:00.409Z"
   },
   {
    "duration": 81,
    "start_time": "2023-07-24T15:03:00.507Z"
   },
   {
    "duration": 39,
    "start_time": "2023-07-24T15:03:00.590Z"
   },
   {
    "duration": 18,
    "start_time": "2023-07-24T15:03:00.630Z"
   },
   {
    "duration": 36,
    "start_time": "2023-07-24T15:03:00.650Z"
   },
   {
    "duration": 41,
    "start_time": "2023-07-24T15:03:00.688Z"
   },
   {
    "duration": 46,
    "start_time": "2023-07-24T15:03:00.731Z"
   },
   {
    "duration": 93,
    "start_time": "2023-07-24T15:03:00.779Z"
   },
   {
    "duration": 55,
    "start_time": "2023-07-24T15:03:00.874Z"
   },
   {
    "duration": 42,
    "start_time": "2023-07-24T15:03:00.931Z"
   },
   {
    "duration": 44,
    "start_time": "2023-07-24T15:03:00.976Z"
   },
   {
    "duration": 44,
    "start_time": "2023-07-24T15:03:01.022Z"
   },
   {
    "duration": 120,
    "start_time": "2023-07-24T15:03:01.069Z"
   },
   {
    "duration": 37,
    "start_time": "2023-07-24T15:03:01.191Z"
   },
   {
    "duration": 49,
    "start_time": "2023-07-24T15:03:01.230Z"
   },
   {
    "duration": 176,
    "start_time": "2023-07-24T15:03:01.282Z"
   },
   {
    "duration": 92,
    "start_time": "2023-07-24T15:03:01.461Z"
   },
   {
    "duration": 81,
    "start_time": "2023-07-24T15:03:01.555Z"
   },
   {
    "duration": 81,
    "start_time": "2023-07-24T15:03:01.638Z"
   },
   {
    "duration": 51,
    "start_time": "2023-07-24T15:03:01.722Z"
   },
   {
    "duration": 44,
    "start_time": "2023-07-24T15:03:01.775Z"
   },
   {
    "duration": 33,
    "start_time": "2023-07-24T15:03:01.822Z"
   },
   {
    "duration": 70,
    "start_time": "2023-07-24T15:03:01.859Z"
   },
   {
    "duration": 43,
    "start_time": "2023-07-24T15:03:01.931Z"
   },
   {
    "duration": 41,
    "start_time": "2023-07-24T15:03:01.976Z"
   },
   {
    "duration": 32,
    "start_time": "2023-07-24T15:03:02.018Z"
   },
   {
    "duration": 46,
    "start_time": "2023-07-24T15:03:02.051Z"
   },
   {
    "duration": 47,
    "start_time": "2023-07-24T15:03:02.099Z"
   },
   {
    "duration": 39,
    "start_time": "2023-07-24T15:03:02.148Z"
   },
   {
    "duration": 37,
    "start_time": "2023-07-24T15:03:02.189Z"
   },
   {
    "duration": 132,
    "start_time": "2023-07-24T15:03:02.228Z"
   },
   {
    "duration": 32,
    "start_time": "2023-07-24T15:03:02.363Z"
   },
   {
    "duration": 27,
    "start_time": "2023-07-24T15:03:02.397Z"
   },
   {
    "duration": 29,
    "start_time": "2023-07-24T15:03:02.426Z"
   },
   {
    "duration": 39,
    "start_time": "2023-07-24T15:03:02.457Z"
   },
   {
    "duration": 31,
    "start_time": "2023-07-24T15:03:02.498Z"
   },
   {
    "duration": 119,
    "start_time": "2023-07-24T15:03:02.532Z"
   },
   {
    "duration": 35,
    "start_time": "2023-07-24T15:03:02.656Z"
   },
   {
    "duration": 636,
    "start_time": "2023-07-24T15:03:02.693Z"
   },
   {
    "duration": 9,
    "start_time": "2023-07-24T15:03:03.331Z"
   },
   {
    "duration": 57,
    "start_time": "2023-07-24T15:03:03.352Z"
   },
   {
    "duration": 126,
    "start_time": "2023-07-24T15:03:03.411Z"
   },
   {
    "duration": 49,
    "start_time": "2023-07-24T15:03:03.539Z"
   },
   {
    "duration": 16,
    "start_time": "2023-07-24T15:03:03.590Z"
   },
   {
    "duration": 24,
    "start_time": "2023-07-24T15:03:03.608Z"
   },
   {
    "duration": 11,
    "start_time": "2023-07-24T15:03:03.635Z"
   },
   {
    "duration": 36,
    "start_time": "2023-07-24T15:03:03.656Z"
   },
   {
    "duration": 12,
    "start_time": "2023-07-24T15:03:03.694Z"
   },
   {
    "duration": 34,
    "start_time": "2023-07-24T15:03:03.708Z"
   },
   {
    "duration": 43,
    "start_time": "2023-07-24T15:03:03.744Z"
   },
   {
    "duration": 25,
    "start_time": "2023-07-24T15:03:03.789Z"
   },
   {
    "duration": 28,
    "start_time": "2023-07-24T15:03:03.815Z"
   },
   {
    "duration": 43,
    "start_time": "2023-07-24T15:03:03.845Z"
   },
   {
    "duration": 22,
    "start_time": "2023-07-24T15:03:03.890Z"
   },
   {
    "duration": 8,
    "start_time": "2023-07-24T15:03:03.918Z"
   },
   {
    "duration": 41,
    "start_time": "2023-07-24T15:03:03.928Z"
   },
   {
    "duration": 30,
    "start_time": "2023-07-24T15:03:03.971Z"
   },
   {
    "duration": 22,
    "start_time": "2023-07-24T15:03:04.004Z"
   },
   {
    "duration": 114,
    "start_time": "2023-07-24T15:03:04.029Z"
   },
   {
    "duration": 35,
    "start_time": "2023-07-24T15:03:04.145Z"
   },
   {
    "duration": 26,
    "start_time": "2023-07-24T15:03:04.182Z"
   },
   {
    "duration": 37,
    "start_time": "2023-07-24T15:03:04.210Z"
   },
   {
    "duration": 15,
    "start_time": "2023-07-24T15:03:04.249Z"
   },
   {
    "duration": 24,
    "start_time": "2023-07-24T15:03:04.266Z"
   },
   {
    "duration": 27,
    "start_time": "2023-07-24T15:03:04.292Z"
   },
   {
    "duration": 21,
    "start_time": "2023-07-24T15:03:04.321Z"
   },
   {
    "duration": 41,
    "start_time": "2023-07-24T15:03:04.344Z"
   },
   {
    "duration": 23,
    "start_time": "2023-07-24T15:03:04.386Z"
   },
   {
    "duration": 26,
    "start_time": "2023-07-24T15:03:04.411Z"
   },
   {
    "duration": 6,
    "start_time": "2023-07-24T15:03:04.440Z"
   },
   {
    "duration": 16,
    "start_time": "2023-07-24T15:03:04.448Z"
   },
   {
    "duration": 26,
    "start_time": "2023-07-24T15:03:04.465Z"
   },
   {
    "duration": 18,
    "start_time": "2023-07-24T15:03:04.493Z"
   },
   {
    "duration": 9,
    "start_time": "2023-07-24T15:03:04.514Z"
   },
   {
    "duration": 16,
    "start_time": "2023-07-24T15:03:04.525Z"
   },
   {
    "duration": 37,
    "start_time": "2023-07-24T15:03:04.543Z"
   },
   {
    "duration": 16,
    "start_time": "2023-07-24T15:03:04.583Z"
   },
   {
    "duration": 9,
    "start_time": "2023-07-24T15:03:04.600Z"
   },
   {
    "duration": 35,
    "start_time": "2023-07-24T15:03:04.610Z"
   },
   {
    "duration": 26,
    "start_time": "2023-07-24T15:03:04.647Z"
   },
   {
    "duration": 10,
    "start_time": "2023-07-24T15:03:04.675Z"
   },
   {
    "duration": 26,
    "start_time": "2023-07-24T15:03:04.687Z"
   },
   {
    "duration": 19,
    "start_time": "2023-07-24T15:03:04.716Z"
   },
   {
    "duration": 821,
    "start_time": "2023-07-24T15:03:04.737Z"
   },
   {
    "duration": 16,
    "start_time": "2023-07-24T15:03:05.561Z"
   },
   {
    "duration": 181,
    "start_time": "2023-07-24T15:03:05.579Z"
   },
   {
    "duration": 17,
    "start_time": "2023-07-24T15:03:05.767Z"
   },
   {
    "duration": 34,
    "start_time": "2023-07-24T15:03:05.786Z"
   },
   {
    "duration": 26,
    "start_time": "2023-07-24T15:03:05.822Z"
   },
   {
    "duration": 29,
    "start_time": "2023-07-24T15:03:05.850Z"
   },
   {
    "duration": 29,
    "start_time": "2023-07-24T15:03:05.881Z"
   },
   {
    "duration": 47,
    "start_time": "2023-07-24T15:03:05.912Z"
   },
   {
    "duration": 44,
    "start_time": "2023-07-24T15:03:05.962Z"
   },
   {
    "duration": 26,
    "start_time": "2023-07-24T15:03:06.008Z"
   },
   {
    "duration": 48,
    "start_time": "2023-07-24T15:03:06.036Z"
   },
   {
    "duration": 25,
    "start_time": "2023-07-24T15:03:06.085Z"
   },
   {
    "duration": 16,
    "start_time": "2023-07-24T15:03:06.112Z"
   },
   {
    "duration": 30,
    "start_time": "2023-07-24T15:03:06.130Z"
   },
   {
    "duration": 51,
    "start_time": "2023-07-24T15:03:06.162Z"
   },
   {
    "duration": 18,
    "start_time": "2023-07-24T15:03:06.215Z"
   },
   {
    "duration": 35,
    "start_time": "2023-07-24T15:03:06.236Z"
   },
   {
    "duration": 27,
    "start_time": "2023-07-24T15:03:06.274Z"
   },
   {
    "duration": 167,
    "start_time": "2023-07-24T15:03:06.303Z"
   },
   {
    "duration": 0,
    "start_time": "2023-07-24T15:03:06.474Z"
   },
   {
    "duration": 0,
    "start_time": "2023-07-24T15:03:06.476Z"
   },
   {
    "duration": 5,
    "start_time": "2023-07-24T15:04:49.367Z"
   },
   {
    "duration": 1074,
    "start_time": "2023-07-24T15:04:54.838Z"
   },
   {
    "duration": 29,
    "start_time": "2023-07-24T15:04:55.915Z"
   },
   {
    "duration": 5,
    "start_time": "2023-07-24T15:04:55.945Z"
   },
   {
    "duration": 46,
    "start_time": "2023-07-24T15:04:55.952Z"
   },
   {
    "duration": 23,
    "start_time": "2023-07-24T15:04:56.000Z"
   },
   {
    "duration": 97,
    "start_time": "2023-07-24T15:04:56.026Z"
   },
   {
    "duration": 10,
    "start_time": "2023-07-24T15:04:56.124Z"
   },
   {
    "duration": 37,
    "start_time": "2023-07-24T15:04:56.136Z"
   },
   {
    "duration": 547,
    "start_time": "2023-07-24T15:04:56.175Z"
   },
   {
    "duration": 10,
    "start_time": "2023-07-24T15:04:56.726Z"
   },
   {
    "duration": 101,
    "start_time": "2023-07-24T15:04:56.738Z"
   },
   {
    "duration": 75,
    "start_time": "2023-07-24T15:04:56.841Z"
   },
   {
    "duration": 11,
    "start_time": "2023-07-24T15:04:56.918Z"
   },
   {
    "duration": 43,
    "start_time": "2023-07-24T15:04:56.931Z"
   },
   {
    "duration": 48,
    "start_time": "2023-07-24T15:04:56.975Z"
   },
   {
    "duration": 365,
    "start_time": "2023-07-24T15:04:57.025Z"
   },
   {
    "duration": 12,
    "start_time": "2023-07-24T15:04:57.393Z"
   },
   {
    "duration": 22,
    "start_time": "2023-07-24T15:04:57.407Z"
   },
   {
    "duration": 45,
    "start_time": "2023-07-24T15:04:57.431Z"
   },
   {
    "duration": 21,
    "start_time": "2023-07-24T15:04:57.478Z"
   },
   {
    "duration": 30,
    "start_time": "2023-07-24T15:04:57.501Z"
   },
   {
    "duration": 134,
    "start_time": "2023-07-24T15:04:57.532Z"
   },
   {
    "duration": 76,
    "start_time": "2023-07-24T15:04:57.674Z"
   },
   {
    "duration": 18,
    "start_time": "2023-07-24T15:04:57.753Z"
   },
   {
    "duration": 18,
    "start_time": "2023-07-24T15:04:57.772Z"
   },
   {
    "duration": 19,
    "start_time": "2023-07-24T15:04:57.792Z"
   },
   {
    "duration": 28,
    "start_time": "2023-07-24T15:04:57.813Z"
   },
   {
    "duration": 50,
    "start_time": "2023-07-24T15:04:57.846Z"
   },
   {
    "duration": 102,
    "start_time": "2023-07-24T15:04:57.898Z"
   },
   {
    "duration": 27,
    "start_time": "2023-07-24T15:04:58.002Z"
   },
   {
    "duration": 7,
    "start_time": "2023-07-24T15:04:58.031Z"
   },
   {
    "duration": 42,
    "start_time": "2023-07-24T15:04:58.056Z"
   },
   {
    "duration": 15,
    "start_time": "2023-07-24T15:04:58.100Z"
   },
   {
    "duration": 15,
    "start_time": "2023-07-24T15:04:58.117Z"
   },
   {
    "duration": 42,
    "start_time": "2023-07-24T15:04:58.134Z"
   },
   {
    "duration": 15,
    "start_time": "2023-07-24T15:04:58.178Z"
   },
   {
    "duration": 12,
    "start_time": "2023-07-24T15:04:58.195Z"
   },
   {
    "duration": 19,
    "start_time": "2023-07-24T15:04:58.209Z"
   },
   {
    "duration": 14,
    "start_time": "2023-07-24T15:04:58.230Z"
   },
   {
    "duration": 94,
    "start_time": "2023-07-24T15:04:58.246Z"
   },
   {
    "duration": 17,
    "start_time": "2023-07-24T15:04:58.345Z"
   },
   {
    "duration": 45,
    "start_time": "2023-07-24T15:04:58.364Z"
   },
   {
    "duration": 49,
    "start_time": "2023-07-24T15:04:58.411Z"
   },
   {
    "duration": 35,
    "start_time": "2023-07-24T15:04:58.465Z"
   },
   {
    "duration": 20,
    "start_time": "2023-07-24T15:04:58.504Z"
   },
   {
    "duration": 48,
    "start_time": "2023-07-24T15:04:58.526Z"
   },
   {
    "duration": 20,
    "start_time": "2023-07-24T15:04:58.577Z"
   },
   {
    "duration": 20,
    "start_time": "2023-07-24T15:04:58.600Z"
   },
   {
    "duration": 11,
    "start_time": "2023-07-24T15:04:58.622Z"
   },
   {
    "duration": 9,
    "start_time": "2023-07-24T15:04:58.635Z"
   },
   {
    "duration": 39,
    "start_time": "2023-07-24T15:04:58.646Z"
   },
   {
    "duration": 22,
    "start_time": "2023-07-24T15:04:58.686Z"
   },
   {
    "duration": 14,
    "start_time": "2023-07-24T15:04:58.710Z"
   },
   {
    "duration": 22,
    "start_time": "2023-07-24T15:04:58.727Z"
   },
   {
    "duration": 28,
    "start_time": "2023-07-24T15:04:58.752Z"
   },
   {
    "duration": 17,
    "start_time": "2023-07-24T15:04:58.782Z"
   },
   {
    "duration": 12,
    "start_time": "2023-07-24T15:04:58.801Z"
   },
   {
    "duration": 22,
    "start_time": "2023-07-24T15:04:58.815Z"
   },
   {
    "duration": 16,
    "start_time": "2023-07-24T15:04:58.839Z"
   },
   {
    "duration": 44,
    "start_time": "2023-07-24T15:04:58.861Z"
   },
   {
    "duration": 3,
    "start_time": "2023-07-24T15:04:58.907Z"
   },
   {
    "duration": 10,
    "start_time": "2023-07-24T15:04:58.912Z"
   },
   {
    "duration": 21,
    "start_time": "2023-07-24T15:04:58.924Z"
   },
   {
    "duration": 45,
    "start_time": "2023-07-24T15:04:58.947Z"
   },
   {
    "duration": 18,
    "start_time": "2023-07-24T15:04:58.995Z"
   },
   {
    "duration": 664,
    "start_time": "2023-07-24T15:04:59.015Z"
   },
   {
    "duration": 9,
    "start_time": "2023-07-24T15:04:59.682Z"
   },
   {
    "duration": 29,
    "start_time": "2023-07-24T15:04:59.692Z"
   },
   {
    "duration": 125,
    "start_time": "2023-07-24T15:04:59.723Z"
   },
   {
    "duration": 47,
    "start_time": "2023-07-24T15:04:59.855Z"
   },
   {
    "duration": 141,
    "start_time": "2023-07-24T15:04:59.904Z"
   },
   {
    "duration": 83,
    "start_time": "2023-07-24T15:05:00.048Z"
   },
   {
    "duration": 75,
    "start_time": "2023-07-24T15:05:00.133Z"
   },
   {
    "duration": 58,
    "start_time": "2023-07-24T15:05:00.211Z"
   },
   {
    "duration": 57,
    "start_time": "2023-07-24T15:05:00.272Z"
   },
   {
    "duration": 65,
    "start_time": "2023-07-24T15:05:00.331Z"
   },
   {
    "duration": 133,
    "start_time": "2023-07-24T15:05:00.398Z"
   },
   {
    "duration": 87,
    "start_time": "2023-07-24T15:05:00.533Z"
   },
   {
    "duration": 50,
    "start_time": "2023-07-24T15:05:00.622Z"
   },
   {
    "duration": 127,
    "start_time": "2023-07-24T15:05:00.677Z"
   },
   {
    "duration": 394,
    "start_time": "2023-07-24T15:05:00.806Z"
   },
   {
    "duration": 33,
    "start_time": "2023-07-24T15:05:01.211Z"
   },
   {
    "duration": 61,
    "start_time": "2023-07-24T15:05:01.246Z"
   },
   {
    "duration": 49,
    "start_time": "2023-07-24T15:05:01.310Z"
   },
   {
    "duration": 454,
    "start_time": "2023-07-24T15:05:01.365Z"
   },
   {
    "duration": 91,
    "start_time": "2023-07-24T15:05:01.821Z"
   },
   {
    "duration": 34,
    "start_time": "2023-07-24T15:05:01.914Z"
   },
   {
    "duration": 58,
    "start_time": "2023-07-24T15:05:01.950Z"
   },
   {
    "duration": 55,
    "start_time": "2023-07-24T15:05:02.010Z"
   },
   {
    "duration": 64,
    "start_time": "2023-07-24T15:05:02.067Z"
   },
   {
    "duration": 16,
    "start_time": "2023-07-24T15:05:02.133Z"
   },
   {
    "duration": 54,
    "start_time": "2023-07-24T15:05:02.151Z"
   },
   {
    "duration": 22,
    "start_time": "2023-07-24T15:05:02.207Z"
   },
   {
    "duration": 48,
    "start_time": "2023-07-24T15:05:02.231Z"
   },
   {
    "duration": 65,
    "start_time": "2023-07-24T15:05:02.281Z"
   },
   {
    "duration": 107,
    "start_time": "2023-07-24T15:05:02.348Z"
   },
   {
    "duration": 32,
    "start_time": "2023-07-24T15:05:02.458Z"
   },
   {
    "duration": 66,
    "start_time": "2023-07-24T15:05:02.492Z"
   },
   {
    "duration": 50,
    "start_time": "2023-07-24T15:05:02.560Z"
   },
   {
    "duration": 19,
    "start_time": "2023-07-24T15:05:02.612Z"
   },
   {
    "duration": 9,
    "start_time": "2023-07-24T15:05:02.633Z"
   },
   {
    "duration": 39,
    "start_time": "2023-07-24T15:05:02.644Z"
   },
   {
    "duration": 34,
    "start_time": "2023-07-24T15:05:02.686Z"
   },
   {
    "duration": 8,
    "start_time": "2023-07-24T15:05:02.723Z"
   },
   {
    "duration": 13,
    "start_time": "2023-07-24T15:05:02.733Z"
   },
   {
    "duration": 34,
    "start_time": "2023-07-24T15:05:02.748Z"
   },
   {
    "duration": 14,
    "start_time": "2023-07-24T15:05:02.785Z"
   },
   {
    "duration": 18,
    "start_time": "2023-07-24T15:05:02.801Z"
   },
   {
    "duration": 30,
    "start_time": "2023-07-24T15:05:02.820Z"
   },
   {
    "duration": 44,
    "start_time": "2023-07-24T15:05:02.851Z"
   },
   {
    "duration": 759,
    "start_time": "2023-07-24T15:05:02.896Z"
   },
   {
    "duration": 14,
    "start_time": "2023-07-24T15:05:03.661Z"
   },
   {
    "duration": 159,
    "start_time": "2023-07-24T15:05:03.678Z"
   },
   {
    "duration": 37,
    "start_time": "2023-07-24T15:05:03.839Z"
   },
   {
    "duration": 20,
    "start_time": "2023-07-24T15:05:03.878Z"
   },
   {
    "duration": 57,
    "start_time": "2023-07-24T15:05:03.900Z"
   },
   {
    "duration": 49,
    "start_time": "2023-07-24T15:05:03.959Z"
   },
   {
    "duration": 19,
    "start_time": "2023-07-24T15:05:04.011Z"
   },
   {
    "duration": 70,
    "start_time": "2023-07-24T15:05:04.032Z"
   },
   {
    "duration": 52,
    "start_time": "2023-07-24T15:05:04.105Z"
   },
   {
    "duration": 52,
    "start_time": "2023-07-24T15:05:04.159Z"
   },
   {
    "duration": 22,
    "start_time": "2023-07-24T15:05:04.214Z"
   },
   {
    "duration": 32,
    "start_time": "2023-07-24T15:05:04.238Z"
   },
   {
    "duration": 32,
    "start_time": "2023-07-24T15:05:04.272Z"
   },
   {
    "duration": 18,
    "start_time": "2023-07-24T15:05:04.307Z"
   },
   {
    "duration": 36,
    "start_time": "2023-07-24T15:05:04.327Z"
   },
   {
    "duration": 22,
    "start_time": "2023-07-24T15:05:04.372Z"
   },
   {
    "duration": 14,
    "start_time": "2023-07-24T15:05:04.396Z"
   },
   {
    "duration": 12,
    "start_time": "2023-07-24T15:05:04.412Z"
   },
   {
    "duration": 159,
    "start_time": "2023-07-24T15:05:04.426Z"
   },
   {
    "duration": 0,
    "start_time": "2023-07-24T15:05:04.587Z"
   },
   {
    "duration": 0,
    "start_time": "2023-07-24T15:05:04.589Z"
   },
   {
    "duration": 24,
    "start_time": "2023-07-24T15:07:22.616Z"
   },
   {
    "duration": 5,
    "start_time": "2023-07-24T15:09:46.127Z"
   },
   {
    "duration": 21,
    "start_time": "2023-07-24T15:09:47.152Z"
   },
   {
    "duration": 901,
    "start_time": "2023-07-24T15:09:56.721Z"
   },
   {
    "duration": 27,
    "start_time": "2023-07-24T15:09:57.625Z"
   },
   {
    "duration": 4,
    "start_time": "2023-07-24T15:09:57.654Z"
   },
   {
    "duration": 44,
    "start_time": "2023-07-24T15:09:57.660Z"
   },
   {
    "duration": 14,
    "start_time": "2023-07-24T15:09:57.705Z"
   },
   {
    "duration": 78,
    "start_time": "2023-07-24T15:09:57.721Z"
   },
   {
    "duration": 9,
    "start_time": "2023-07-24T15:09:57.800Z"
   },
   {
    "duration": 30,
    "start_time": "2023-07-24T15:09:57.811Z"
   },
   {
    "duration": 570,
    "start_time": "2023-07-24T15:09:57.842Z"
   },
   {
    "duration": 11,
    "start_time": "2023-07-24T15:09:58.416Z"
   },
   {
    "duration": 87,
    "start_time": "2023-07-24T15:09:58.428Z"
   },
   {
    "duration": 32,
    "start_time": "2023-07-24T15:09:58.517Z"
   },
   {
    "duration": 12,
    "start_time": "2023-07-24T15:09:58.551Z"
   },
   {
    "duration": 49,
    "start_time": "2023-07-24T15:09:58.566Z"
   },
   {
    "duration": 71,
    "start_time": "2023-07-24T15:09:58.617Z"
   },
   {
    "duration": 318,
    "start_time": "2023-07-24T15:09:58.690Z"
   },
   {
    "duration": 11,
    "start_time": "2023-07-24T15:09:59.009Z"
   },
   {
    "duration": 8,
    "start_time": "2023-07-24T15:09:59.022Z"
   },
   {
    "duration": 68,
    "start_time": "2023-07-24T15:09:59.032Z"
   },
   {
    "duration": 12,
    "start_time": "2023-07-24T15:09:59.102Z"
   },
   {
    "duration": 23,
    "start_time": "2023-07-24T15:09:59.116Z"
   },
   {
    "duration": 116,
    "start_time": "2023-07-24T15:09:59.141Z"
   },
   {
    "duration": 86,
    "start_time": "2023-07-24T15:09:59.259Z"
   },
   {
    "duration": 16,
    "start_time": "2023-07-24T15:09:59.348Z"
   },
   {
    "duration": 39,
    "start_time": "2023-07-24T15:09:59.371Z"
   },
   {
    "duration": 13,
    "start_time": "2023-07-24T15:09:59.412Z"
   },
   {
    "duration": 16,
    "start_time": "2023-07-24T15:09:59.427Z"
   },
   {
    "duration": 50,
    "start_time": "2023-07-24T15:09:59.448Z"
   },
   {
    "duration": 83,
    "start_time": "2023-07-24T15:09:59.500Z"
   },
   {
    "duration": 24,
    "start_time": "2023-07-24T15:09:59.584Z"
   },
   {
    "duration": 15,
    "start_time": "2023-07-24T15:09:59.611Z"
   },
   {
    "duration": 49,
    "start_time": "2023-07-24T15:09:59.628Z"
   },
   {
    "duration": 20,
    "start_time": "2023-07-24T15:09:59.679Z"
   },
   {
    "duration": 34,
    "start_time": "2023-07-24T15:09:59.701Z"
   },
   {
    "duration": 38,
    "start_time": "2023-07-24T15:09:59.736Z"
   },
   {
    "duration": 18,
    "start_time": "2023-07-24T15:09:59.776Z"
   },
   {
    "duration": 22,
    "start_time": "2023-07-24T15:09:59.795Z"
   },
   {
    "duration": 10,
    "start_time": "2023-07-24T15:09:59.819Z"
   },
   {
    "duration": 7,
    "start_time": "2023-07-24T15:09:59.830Z"
   },
   {
    "duration": 47,
    "start_time": "2023-07-24T15:09:59.839Z"
   },
   {
    "duration": 10,
    "start_time": "2023-07-24T15:09:59.888Z"
   },
   {
    "duration": 16,
    "start_time": "2023-07-24T15:09:59.900Z"
   },
   {
    "duration": 19,
    "start_time": "2023-07-24T15:09:59.917Z"
   },
   {
    "duration": 27,
    "start_time": "2023-07-24T15:09:59.938Z"
   },
   {
    "duration": 16,
    "start_time": "2023-07-24T15:09:59.968Z"
   },
   {
    "duration": 16,
    "start_time": "2023-07-24T15:09:59.986Z"
   },
   {
    "duration": 5,
    "start_time": "2023-07-24T15:10:00.004Z"
   },
   {
    "duration": 71,
    "start_time": "2023-07-24T15:10:00.010Z"
   },
   {
    "duration": 59,
    "start_time": "2023-07-24T15:10:00.083Z"
   },
   {
    "duration": 64,
    "start_time": "2023-07-24T15:10:00.144Z"
   },
   {
    "duration": 23,
    "start_time": "2023-07-24T15:10:00.210Z"
   },
   {
    "duration": 64,
    "start_time": "2023-07-24T15:10:00.235Z"
   },
   {
    "duration": 51,
    "start_time": "2023-07-24T15:10:00.301Z"
   },
   {
    "duration": 61,
    "start_time": "2023-07-24T15:10:00.355Z"
   },
   {
    "duration": 50,
    "start_time": "2023-07-24T15:10:00.418Z"
   },
   {
    "duration": 52,
    "start_time": "2023-07-24T15:10:00.471Z"
   },
   {
    "duration": 55,
    "start_time": "2023-07-24T15:10:00.524Z"
   },
   {
    "duration": 97,
    "start_time": "2023-07-24T15:10:00.581Z"
   },
   {
    "duration": 46,
    "start_time": "2023-07-24T15:10:00.680Z"
   },
   {
    "duration": 53,
    "start_time": "2023-07-24T15:10:00.728Z"
   },
   {
    "duration": 63,
    "start_time": "2023-07-24T15:10:00.784Z"
   },
   {
    "duration": 233,
    "start_time": "2023-07-24T15:10:00.849Z"
   },
   {
    "duration": 87,
    "start_time": "2023-07-24T15:10:01.084Z"
   },
   {
    "duration": 69,
    "start_time": "2023-07-24T15:10:01.173Z"
   },
   {
    "duration": 75,
    "start_time": "2023-07-24T15:10:01.244Z"
   },
   {
    "duration": 712,
    "start_time": "2023-07-24T15:10:01.321Z"
   },
   {
    "duration": 8,
    "start_time": "2023-07-24T15:10:02.035Z"
   },
   {
    "duration": 126,
    "start_time": "2023-07-24T15:10:02.044Z"
   },
   {
    "duration": 171,
    "start_time": "2023-07-24T15:10:02.172Z"
   },
   {
    "duration": 63,
    "start_time": "2023-07-24T15:10:02.345Z"
   },
   {
    "duration": 38,
    "start_time": "2023-07-24T15:10:02.411Z"
   },
   {
    "duration": 51,
    "start_time": "2023-07-24T15:10:02.457Z"
   },
   {
    "duration": 35,
    "start_time": "2023-07-24T15:10:02.510Z"
   },
   {
    "duration": 45,
    "start_time": "2023-07-24T15:10:02.546Z"
   },
   {
    "duration": 62,
    "start_time": "2023-07-24T15:10:02.593Z"
   },
   {
    "duration": 39,
    "start_time": "2023-07-24T15:10:02.660Z"
   },
   {
    "duration": 60,
    "start_time": "2023-07-24T15:10:02.701Z"
   },
   {
    "duration": 33,
    "start_time": "2023-07-24T15:10:02.764Z"
   },
   {
    "duration": 37,
    "start_time": "2023-07-24T15:10:02.798Z"
   },
   {
    "duration": 37,
    "start_time": "2023-07-24T15:10:02.837Z"
   },
   {
    "duration": 35,
    "start_time": "2023-07-24T15:10:02.876Z"
   },
   {
    "duration": 11,
    "start_time": "2023-07-24T15:10:02.917Z"
   },
   {
    "duration": 46,
    "start_time": "2023-07-24T15:10:02.931Z"
   },
   {
    "duration": 25,
    "start_time": "2023-07-24T15:10:02.979Z"
   },
   {
    "duration": 23,
    "start_time": "2023-07-24T15:10:03.006Z"
   },
   {
    "duration": 103,
    "start_time": "2023-07-24T15:10:03.031Z"
   },
   {
    "duration": 53,
    "start_time": "2023-07-24T15:10:03.136Z"
   },
   {
    "duration": 21,
    "start_time": "2023-07-24T15:10:03.191Z"
   },
   {
    "duration": 34,
    "start_time": "2023-07-24T15:10:03.213Z"
   },
   {
    "duration": 56,
    "start_time": "2023-07-24T15:10:03.248Z"
   },
   {
    "duration": 41,
    "start_time": "2023-07-24T15:10:03.306Z"
   },
   {
    "duration": 46,
    "start_time": "2023-07-24T15:10:03.350Z"
   },
   {
    "duration": 36,
    "start_time": "2023-07-24T15:10:03.398Z"
   },
   {
    "duration": 49,
    "start_time": "2023-07-24T15:10:03.435Z"
   },
   {
    "duration": 23,
    "start_time": "2023-07-24T15:10:03.487Z"
   },
   {
    "duration": 45,
    "start_time": "2023-07-24T15:10:03.512Z"
   },
   {
    "duration": 32,
    "start_time": "2023-07-24T15:10:03.561Z"
   },
   {
    "duration": 30,
    "start_time": "2023-07-24T15:10:03.595Z"
   },
   {
    "duration": 39,
    "start_time": "2023-07-24T15:10:03.627Z"
   },
   {
    "duration": 31,
    "start_time": "2023-07-24T15:10:03.670Z"
   },
   {
    "duration": 33,
    "start_time": "2023-07-24T15:10:03.703Z"
   },
   {
    "duration": 39,
    "start_time": "2023-07-24T15:10:03.739Z"
   },
   {
    "duration": 32,
    "start_time": "2023-07-24T15:10:03.781Z"
   },
   {
    "duration": 10,
    "start_time": "2023-07-24T15:10:03.816Z"
   },
   {
    "duration": 19,
    "start_time": "2023-07-24T15:10:03.828Z"
   },
   {
    "duration": 36,
    "start_time": "2023-07-24T15:10:03.849Z"
   },
   {
    "duration": 21,
    "start_time": "2023-07-24T15:10:03.887Z"
   },
   {
    "duration": 33,
    "start_time": "2023-07-24T15:10:03.911Z"
   },
   {
    "duration": 41,
    "start_time": "2023-07-24T15:10:03.946Z"
   },
   {
    "duration": 52,
    "start_time": "2023-07-24T15:10:03.989Z"
   },
   {
    "duration": 721,
    "start_time": "2023-07-24T15:10:04.043Z"
   },
   {
    "duration": 9,
    "start_time": "2023-07-24T15:10:04.772Z"
   },
   {
    "duration": 166,
    "start_time": "2023-07-24T15:10:04.783Z"
   },
   {
    "duration": 16,
    "start_time": "2023-07-24T15:10:04.954Z"
   },
   {
    "duration": 21,
    "start_time": "2023-07-24T15:10:04.972Z"
   },
   {
    "duration": 25,
    "start_time": "2023-07-24T15:10:04.995Z"
   },
   {
    "duration": 17,
    "start_time": "2023-07-24T15:10:05.021Z"
   },
   {
    "duration": 15,
    "start_time": "2023-07-24T15:10:05.040Z"
   },
   {
    "duration": 37,
    "start_time": "2023-07-24T15:10:05.057Z"
   },
   {
    "duration": 27,
    "start_time": "2023-07-24T15:10:05.095Z"
   },
   {
    "duration": 13,
    "start_time": "2023-07-24T15:10:05.124Z"
   },
   {
    "duration": 25,
    "start_time": "2023-07-24T15:10:05.138Z"
   },
   {
    "duration": 24,
    "start_time": "2023-07-24T15:10:05.170Z"
   },
   {
    "duration": 12,
    "start_time": "2023-07-24T15:10:05.196Z"
   },
   {
    "duration": 15,
    "start_time": "2023-07-24T15:10:05.210Z"
   },
   {
    "duration": 20,
    "start_time": "2023-07-24T15:10:05.226Z"
   },
   {
    "duration": 33,
    "start_time": "2023-07-24T15:10:05.247Z"
   },
   {
    "duration": 9,
    "start_time": "2023-07-24T15:10:05.281Z"
   },
   {
    "duration": 28,
    "start_time": "2023-07-24T15:10:05.291Z"
   },
   {
    "duration": 173,
    "start_time": "2023-07-24T15:10:05.321Z"
   },
   {
    "duration": 0,
    "start_time": "2023-07-24T15:10:05.496Z"
   },
   {
    "duration": 0,
    "start_time": "2023-07-24T15:10:05.497Z"
   },
   {
    "duration": 715,
    "start_time": "2023-07-24T15:11:14.757Z"
   },
   {
    "duration": 1409,
    "start_time": "2023-07-24T15:11:21.551Z"
   },
   {
    "duration": 28,
    "start_time": "2023-07-24T15:11:22.962Z"
   },
   {
    "duration": 4,
    "start_time": "2023-07-24T15:11:22.992Z"
   },
   {
    "duration": 22,
    "start_time": "2023-07-24T15:11:22.999Z"
   },
   {
    "duration": 23,
    "start_time": "2023-07-24T15:11:23.023Z"
   },
   {
    "duration": 99,
    "start_time": "2023-07-24T15:11:23.048Z"
   },
   {
    "duration": 18,
    "start_time": "2023-07-24T15:11:23.149Z"
   },
   {
    "duration": 43,
    "start_time": "2023-07-24T15:11:23.169Z"
   },
   {
    "duration": 532,
    "start_time": "2023-07-24T15:11:23.215Z"
   },
   {
    "duration": 14,
    "start_time": "2023-07-24T15:11:23.751Z"
   },
   {
    "duration": 61,
    "start_time": "2023-07-24T15:11:23.768Z"
   },
   {
    "duration": 36,
    "start_time": "2023-07-24T15:11:23.831Z"
   },
   {
    "duration": 8,
    "start_time": "2023-07-24T15:11:23.870Z"
   },
   {
    "duration": 14,
    "start_time": "2023-07-24T15:11:23.879Z"
   },
   {
    "duration": 35,
    "start_time": "2023-07-24T15:11:23.895Z"
   },
   {
    "duration": 340,
    "start_time": "2023-07-24T15:11:23.932Z"
   },
   {
    "duration": 11,
    "start_time": "2023-07-24T15:11:24.274Z"
   },
   {
    "duration": 8,
    "start_time": "2023-07-24T15:11:24.286Z"
   },
   {
    "duration": 65,
    "start_time": "2023-07-24T15:11:24.296Z"
   },
   {
    "duration": 14,
    "start_time": "2023-07-24T15:11:24.362Z"
   },
   {
    "duration": 18,
    "start_time": "2023-07-24T15:11:24.378Z"
   },
   {
    "duration": 100,
    "start_time": "2023-07-24T15:11:24.398Z"
   },
   {
    "duration": 60,
    "start_time": "2023-07-24T15:11:24.500Z"
   },
   {
    "duration": 10,
    "start_time": "2023-07-24T15:11:24.566Z"
   },
   {
    "duration": 8,
    "start_time": "2023-07-24T15:11:24.578Z"
   },
   {
    "duration": 9,
    "start_time": "2023-07-24T15:11:24.588Z"
   },
   {
    "duration": 13,
    "start_time": "2023-07-24T15:11:24.599Z"
   },
   {
    "duration": 46,
    "start_time": "2023-07-24T15:11:24.618Z"
   },
   {
    "duration": 67,
    "start_time": "2023-07-24T15:11:24.666Z"
   },
   {
    "duration": 34,
    "start_time": "2023-07-24T15:11:24.735Z"
   },
   {
    "duration": 34,
    "start_time": "2023-07-24T15:11:24.771Z"
   },
   {
    "duration": 13,
    "start_time": "2023-07-24T15:11:24.807Z"
   },
   {
    "duration": 11,
    "start_time": "2023-07-24T15:11:24.822Z"
   },
   {
    "duration": 23,
    "start_time": "2023-07-24T15:11:24.834Z"
   },
   {
    "duration": 12,
    "start_time": "2023-07-24T15:11:24.864Z"
   },
   {
    "duration": 9,
    "start_time": "2023-07-24T15:11:24.877Z"
   },
   {
    "duration": 41,
    "start_time": "2023-07-24T15:11:24.888Z"
   },
   {
    "duration": 13,
    "start_time": "2023-07-24T15:11:24.931Z"
   },
   {
    "duration": 5,
    "start_time": "2023-07-24T15:11:24.946Z"
   },
   {
    "duration": 60,
    "start_time": "2023-07-24T15:11:24.953Z"
   },
   {
    "duration": 12,
    "start_time": "2023-07-24T15:11:25.015Z"
   },
   {
    "duration": 23,
    "start_time": "2023-07-24T15:11:25.028Z"
   },
   {
    "duration": 50,
    "start_time": "2023-07-24T15:11:25.052Z"
   },
   {
    "duration": 10,
    "start_time": "2023-07-24T15:11:25.104Z"
   },
   {
    "duration": 16,
    "start_time": "2023-07-24T15:11:25.116Z"
   },
   {
    "duration": 16,
    "start_time": "2023-07-24T15:11:25.134Z"
   },
   {
    "duration": 14,
    "start_time": "2023-07-24T15:11:25.156Z"
   },
   {
    "duration": 13,
    "start_time": "2023-07-24T15:11:25.172Z"
   },
   {
    "duration": 14,
    "start_time": "2023-07-24T15:11:25.187Z"
   },
   {
    "duration": 12,
    "start_time": "2023-07-24T15:11:25.203Z"
   },
   {
    "duration": 14,
    "start_time": "2023-07-24T15:11:25.217Z"
   },
   {
    "duration": 35,
    "start_time": "2023-07-24T15:11:25.233Z"
   },
   {
    "duration": 21,
    "start_time": "2023-07-24T15:11:25.269Z"
   },
   {
    "duration": 10,
    "start_time": "2023-07-24T15:11:25.292Z"
   },
   {
    "duration": 13,
    "start_time": "2023-07-24T15:11:25.304Z"
   },
   {
    "duration": 23,
    "start_time": "2023-07-24T15:11:25.319Z"
   },
   {
    "duration": 33,
    "start_time": "2023-07-24T15:11:25.347Z"
   },
   {
    "duration": 36,
    "start_time": "2023-07-24T15:11:25.382Z"
   },
   {
    "duration": 5,
    "start_time": "2023-07-24T15:11:25.420Z"
   },
   {
    "duration": 15,
    "start_time": "2023-07-24T15:11:25.426Z"
   },
   {
    "duration": 5,
    "start_time": "2023-07-24T15:11:25.443Z"
   },
   {
    "duration": 13,
    "start_time": "2023-07-24T15:11:25.450Z"
   },
   {
    "duration": 38,
    "start_time": "2023-07-24T15:11:25.468Z"
   },
   {
    "duration": 11,
    "start_time": "2023-07-24T15:11:25.508Z"
   },
   {
    "duration": 14,
    "start_time": "2023-07-24T15:11:25.520Z"
   },
   {
    "duration": 600,
    "start_time": "2023-07-24T15:11:25.536Z"
   },
   {
    "duration": 17,
    "start_time": "2023-07-24T15:11:26.138Z"
   },
   {
    "duration": 30,
    "start_time": "2023-07-24T15:11:26.158Z"
   },
   {
    "duration": 112,
    "start_time": "2023-07-24T15:11:26.190Z"
   },
   {
    "duration": 35,
    "start_time": "2023-07-24T15:11:26.303Z"
   },
   {
    "duration": 31,
    "start_time": "2023-07-24T15:11:26.340Z"
   },
   {
    "duration": 21,
    "start_time": "2023-07-24T15:11:26.373Z"
   },
   {
    "duration": 10,
    "start_time": "2023-07-24T15:11:26.396Z"
   },
   {
    "duration": 8,
    "start_time": "2023-07-24T15:11:26.408Z"
   },
   {
    "duration": 13,
    "start_time": "2023-07-24T15:11:26.418Z"
   },
   {
    "duration": 22,
    "start_time": "2023-07-24T15:11:26.433Z"
   },
   {
    "duration": 19,
    "start_time": "2023-07-24T15:11:26.464Z"
   },
   {
    "duration": 24,
    "start_time": "2023-07-24T15:11:26.485Z"
   },
   {
    "duration": 17,
    "start_time": "2023-07-24T15:11:26.511Z"
   },
   {
    "duration": 16,
    "start_time": "2023-07-24T15:11:26.530Z"
   },
   {
    "duration": 41,
    "start_time": "2023-07-24T15:11:26.548Z"
   },
   {
    "duration": 9,
    "start_time": "2023-07-24T15:11:26.599Z"
   },
   {
    "duration": 16,
    "start_time": "2023-07-24T15:11:26.610Z"
   },
   {
    "duration": 10,
    "start_time": "2023-07-24T15:11:26.628Z"
   },
   {
    "duration": 7,
    "start_time": "2023-07-24T15:11:26.640Z"
   },
   {
    "duration": 58,
    "start_time": "2023-07-24T15:11:26.649Z"
   },
   {
    "duration": 29,
    "start_time": "2023-07-24T15:11:26.709Z"
   },
   {
    "duration": 10,
    "start_time": "2023-07-24T15:11:26.740Z"
   },
   {
    "duration": 33,
    "start_time": "2023-07-24T15:11:26.753Z"
   },
   {
    "duration": 8,
    "start_time": "2023-07-24T15:11:26.788Z"
   },
   {
    "duration": 16,
    "start_time": "2023-07-24T15:11:26.797Z"
   },
   {
    "duration": 22,
    "start_time": "2023-07-24T15:11:26.815Z"
   },
   {
    "duration": 10,
    "start_time": "2023-07-24T15:11:26.839Z"
   },
   {
    "duration": 29,
    "start_time": "2023-07-24T15:11:26.851Z"
   },
   {
    "duration": 11,
    "start_time": "2023-07-24T15:11:26.882Z"
   },
   {
    "duration": 16,
    "start_time": "2023-07-24T15:11:26.895Z"
   },
   {
    "duration": 24,
    "start_time": "2023-07-24T15:11:26.913Z"
   },
   {
    "duration": 34,
    "start_time": "2023-07-24T15:11:26.939Z"
   },
   {
    "duration": 13,
    "start_time": "2023-07-24T15:11:26.975Z"
   },
   {
    "duration": 11,
    "start_time": "2023-07-24T15:11:26.990Z"
   },
   {
    "duration": 21,
    "start_time": "2023-07-24T15:11:27.002Z"
   },
   {
    "duration": 12,
    "start_time": "2023-07-24T15:11:27.025Z"
   },
   {
    "duration": 22,
    "start_time": "2023-07-24T15:11:27.039Z"
   },
   {
    "duration": 24,
    "start_time": "2023-07-24T15:11:27.062Z"
   },
   {
    "duration": 10,
    "start_time": "2023-07-24T15:11:27.088Z"
   },
   {
    "duration": 13,
    "start_time": "2023-07-24T15:11:27.100Z"
   },
   {
    "duration": 6,
    "start_time": "2023-07-24T15:11:27.115Z"
   },
   {
    "duration": 18,
    "start_time": "2023-07-24T15:11:27.123Z"
   },
   {
    "duration": 23,
    "start_time": "2023-07-24T15:11:27.143Z"
   },
   {
    "duration": 21,
    "start_time": "2023-07-24T15:11:27.168Z"
   },
   {
    "duration": 702,
    "start_time": "2023-07-24T15:11:27.191Z"
   },
   {
    "duration": 10,
    "start_time": "2023-07-24T15:11:27.895Z"
   },
   {
    "duration": 137,
    "start_time": "2023-07-24T15:11:27.953Z"
   },
   {
    "duration": 13,
    "start_time": "2023-07-24T15:11:28.092Z"
   },
   {
    "duration": 13,
    "start_time": "2023-07-24T15:11:28.107Z"
   },
   {
    "duration": 35,
    "start_time": "2023-07-24T15:11:28.122Z"
   },
   {
    "duration": 10,
    "start_time": "2023-07-24T15:11:28.159Z"
   },
   {
    "duration": 13,
    "start_time": "2023-07-24T15:11:28.171Z"
   },
   {
    "duration": 10,
    "start_time": "2023-07-24T15:11:28.186Z"
   },
   {
    "duration": 5,
    "start_time": "2023-07-24T15:11:28.198Z"
   },
   {
    "duration": 15,
    "start_time": "2023-07-24T15:11:28.205Z"
   },
   {
    "duration": 28,
    "start_time": "2023-07-24T15:11:28.221Z"
   },
   {
    "duration": 39,
    "start_time": "2023-07-24T15:11:28.252Z"
   },
   {
    "duration": 12,
    "start_time": "2023-07-24T15:11:28.294Z"
   },
   {
    "duration": 11,
    "start_time": "2023-07-24T15:11:28.308Z"
   },
   {
    "duration": 26,
    "start_time": "2023-07-24T15:11:28.321Z"
   },
   {
    "duration": 17,
    "start_time": "2023-07-24T15:11:28.349Z"
   },
   {
    "duration": 17,
    "start_time": "2023-07-24T15:11:28.368Z"
   },
   {
    "duration": 12,
    "start_time": "2023-07-24T15:11:28.387Z"
   },
   {
    "duration": 226,
    "start_time": "2023-07-24T15:11:28.402Z"
   },
   {
    "duration": 0,
    "start_time": "2023-07-24T15:11:28.630Z"
   },
   {
    "duration": 1,
    "start_time": "2023-07-24T15:11:28.632Z"
   },
   {
    "duration": 6,
    "start_time": "2023-07-24T15:11:47.115Z"
   },
   {
    "duration": 19,
    "start_time": "2023-07-24T15:11:52.154Z"
   },
   {
    "duration": 21,
    "start_time": "2023-07-24T15:14:18.576Z"
   },
   {
    "duration": 4,
    "start_time": "2023-07-24T15:15:55.917Z"
   },
   {
    "duration": 15,
    "start_time": "2023-07-24T15:16:45.720Z"
   },
   {
    "duration": 6,
    "start_time": "2023-07-24T15:17:13.193Z"
   },
   {
    "duration": 6,
    "start_time": "2023-07-24T15:17:26.129Z"
   },
   {
    "duration": 8,
    "start_time": "2023-07-24T15:17:36.166Z"
   },
   {
    "duration": 1393,
    "start_time": "2023-07-24T15:19:30.088Z"
   },
   {
    "duration": 29,
    "start_time": "2023-07-24T15:19:31.486Z"
   },
   {
    "duration": 10,
    "start_time": "2023-07-24T15:19:31.516Z"
   },
   {
    "duration": 71,
    "start_time": "2023-07-24T15:19:31.527Z"
   },
   {
    "duration": 31,
    "start_time": "2023-07-24T15:19:31.600Z"
   },
   {
    "duration": 130,
    "start_time": "2023-07-24T15:19:31.633Z"
   },
   {
    "duration": 14,
    "start_time": "2023-07-24T15:19:31.765Z"
   },
   {
    "duration": 38,
    "start_time": "2023-07-24T15:19:31.782Z"
   },
   {
    "duration": 562,
    "start_time": "2023-07-24T15:19:31.822Z"
   },
   {
    "duration": 12,
    "start_time": "2023-07-24T15:19:32.388Z"
   },
   {
    "duration": 108,
    "start_time": "2023-07-24T15:19:32.402Z"
   },
   {
    "duration": 52,
    "start_time": "2023-07-24T15:19:32.512Z"
   },
   {
    "duration": 11,
    "start_time": "2023-07-24T15:19:32.566Z"
   },
   {
    "duration": 27,
    "start_time": "2023-07-24T15:19:32.582Z"
   },
   {
    "duration": 37,
    "start_time": "2023-07-24T15:19:32.611Z"
   },
   {
    "duration": 342,
    "start_time": "2023-07-24T15:19:32.650Z"
   },
   {
    "duration": 9,
    "start_time": "2023-07-24T15:19:32.994Z"
   },
   {
    "duration": 15,
    "start_time": "2023-07-24T15:19:33.005Z"
   },
   {
    "duration": 43,
    "start_time": "2023-07-24T15:19:33.022Z"
   },
   {
    "duration": 15,
    "start_time": "2023-07-24T15:19:33.067Z"
   },
   {
    "duration": 38,
    "start_time": "2023-07-24T15:19:33.085Z"
   },
   {
    "duration": 119,
    "start_time": "2023-07-24T15:19:33.125Z"
   },
   {
    "duration": 53,
    "start_time": "2023-07-24T15:19:33.246Z"
   },
   {
    "duration": 9,
    "start_time": "2023-07-24T15:19:33.301Z"
   },
   {
    "duration": 22,
    "start_time": "2023-07-24T15:19:33.312Z"
   },
   {
    "duration": 14,
    "start_time": "2023-07-24T15:19:33.337Z"
   },
   {
    "duration": 68,
    "start_time": "2023-07-24T15:19:33.363Z"
   },
   {
    "duration": 53,
    "start_time": "2023-07-24T15:19:33.434Z"
   },
   {
    "duration": 72,
    "start_time": "2023-07-24T15:19:33.489Z"
   },
   {
    "duration": 31,
    "start_time": "2023-07-24T15:19:33.565Z"
   },
   {
    "duration": 23,
    "start_time": "2023-07-24T15:19:33.598Z"
   },
   {
    "duration": 15,
    "start_time": "2023-07-24T15:19:33.622Z"
   },
   {
    "duration": 6,
    "start_time": "2023-07-24T15:19:33.638Z"
   },
   {
    "duration": 45,
    "start_time": "2023-07-24T15:19:33.645Z"
   },
   {
    "duration": 18,
    "start_time": "2023-07-24T15:19:33.692Z"
   },
   {
    "duration": 13,
    "start_time": "2023-07-24T15:19:33.712Z"
   },
   {
    "duration": 11,
    "start_time": "2023-07-24T15:19:33.727Z"
   },
   {
    "duration": 6,
    "start_time": "2023-07-24T15:19:33.740Z"
   },
   {
    "duration": 35,
    "start_time": "2023-07-24T15:19:33.748Z"
   },
   {
    "duration": 39,
    "start_time": "2023-07-24T15:19:33.785Z"
   },
   {
    "duration": 12,
    "start_time": "2023-07-24T15:19:33.832Z"
   },
   {
    "duration": 23,
    "start_time": "2023-07-24T15:19:33.846Z"
   },
   {
    "duration": 36,
    "start_time": "2023-07-24T15:19:33.872Z"
   },
   {
    "duration": 12,
    "start_time": "2023-07-24T15:19:33.910Z"
   },
   {
    "duration": 14,
    "start_time": "2023-07-24T15:19:33.924Z"
   },
   {
    "duration": 26,
    "start_time": "2023-07-24T15:19:33.941Z"
   },
   {
    "duration": 5,
    "start_time": "2023-07-24T15:19:33.970Z"
   },
   {
    "duration": 15,
    "start_time": "2023-07-24T15:19:33.978Z"
   },
   {
    "duration": 5,
    "start_time": "2023-07-24T15:19:33.995Z"
   },
   {
    "duration": 17,
    "start_time": "2023-07-24T15:19:34.001Z"
   },
   {
    "duration": 15,
    "start_time": "2023-07-24T15:19:34.020Z"
   },
   {
    "duration": 17,
    "start_time": "2023-07-24T15:19:34.037Z"
   },
   {
    "duration": 49,
    "start_time": "2023-07-24T15:19:34.062Z"
   },
   {
    "duration": 26,
    "start_time": "2023-07-24T15:19:34.114Z"
   },
   {
    "duration": 18,
    "start_time": "2023-07-24T15:19:34.142Z"
   },
   {
    "duration": 31,
    "start_time": "2023-07-24T15:19:34.167Z"
   },
   {
    "duration": 16,
    "start_time": "2023-07-24T15:19:34.200Z"
   },
   {
    "duration": 27,
    "start_time": "2023-07-24T15:19:34.218Z"
   },
   {
    "duration": 15,
    "start_time": "2023-07-24T15:19:34.247Z"
   },
   {
    "duration": 33,
    "start_time": "2023-07-24T15:19:34.264Z"
   },
   {
    "duration": 5,
    "start_time": "2023-07-24T15:19:34.299Z"
   },
   {
    "duration": 10,
    "start_time": "2023-07-24T15:19:34.306Z"
   },
   {
    "duration": 17,
    "start_time": "2023-07-24T15:19:34.317Z"
   },
   {
    "duration": 15,
    "start_time": "2023-07-24T15:19:34.336Z"
   },
   {
    "duration": 54,
    "start_time": "2023-07-24T15:19:34.353Z"
   },
   {
    "duration": 634,
    "start_time": "2023-07-24T15:19:34.412Z"
   },
   {
    "duration": 13,
    "start_time": "2023-07-24T15:19:35.048Z"
   },
   {
    "duration": 45,
    "start_time": "2023-07-24T15:19:35.063Z"
   },
   {
    "duration": 126,
    "start_time": "2023-07-24T15:19:35.110Z"
   },
   {
    "duration": 42,
    "start_time": "2023-07-24T15:19:35.237Z"
   },
   {
    "duration": 19,
    "start_time": "2023-07-24T15:19:35.281Z"
   },
   {
    "duration": 26,
    "start_time": "2023-07-24T15:19:35.302Z"
   },
   {
    "duration": 15,
    "start_time": "2023-07-24T15:19:35.332Z"
   },
   {
    "duration": 57,
    "start_time": "2023-07-24T15:19:35.349Z"
   },
   {
    "duration": 24,
    "start_time": "2023-07-24T15:19:35.408Z"
   },
   {
    "duration": 24,
    "start_time": "2023-07-24T15:19:35.434Z"
   },
   {
    "duration": 46,
    "start_time": "2023-07-24T15:19:35.460Z"
   },
   {
    "duration": 15,
    "start_time": "2023-07-24T15:19:35.508Z"
   },
   {
    "duration": 34,
    "start_time": "2023-07-24T15:19:35.524Z"
   },
   {
    "duration": 41,
    "start_time": "2023-07-24T15:19:35.560Z"
   },
   {
    "duration": 38,
    "start_time": "2023-07-24T15:19:35.602Z"
   },
   {
    "duration": 5,
    "start_time": "2023-07-24T15:19:35.643Z"
   },
   {
    "duration": 48,
    "start_time": "2023-07-24T15:19:35.650Z"
   },
   {
    "duration": 30,
    "start_time": "2023-07-24T15:19:35.700Z"
   },
   {
    "duration": 7,
    "start_time": "2023-07-24T15:19:35.732Z"
   },
   {
    "duration": 62,
    "start_time": "2023-07-24T15:19:35.741Z"
   },
   {
    "duration": 30,
    "start_time": "2023-07-24T15:19:35.805Z"
   },
   {
    "duration": 9,
    "start_time": "2023-07-24T15:19:35.837Z"
   },
   {
    "duration": 58,
    "start_time": "2023-07-24T15:19:35.848Z"
   },
   {
    "duration": 10,
    "start_time": "2023-07-24T15:19:35.908Z"
   },
   {
    "duration": 13,
    "start_time": "2023-07-24T15:19:35.920Z"
   },
   {
    "duration": 52,
    "start_time": "2023-07-24T15:19:35.935Z"
   },
   {
    "duration": 11,
    "start_time": "2023-07-24T15:19:35.989Z"
   },
   {
    "duration": 25,
    "start_time": "2023-07-24T15:19:36.002Z"
   },
   {
    "duration": 18,
    "start_time": "2023-07-24T15:19:36.029Z"
   },
   {
    "duration": 51,
    "start_time": "2023-07-24T15:19:36.049Z"
   },
   {
    "duration": 23,
    "start_time": "2023-07-24T15:19:36.102Z"
   },
   {
    "duration": 23,
    "start_time": "2023-07-24T15:19:36.127Z"
   },
   {
    "duration": 38,
    "start_time": "2023-07-24T15:19:36.157Z"
   },
   {
    "duration": 24,
    "start_time": "2023-07-24T15:19:36.196Z"
   },
   {
    "duration": 7,
    "start_time": "2023-07-24T15:19:36.222Z"
   },
   {
    "duration": 10,
    "start_time": "2023-07-24T15:19:36.231Z"
   },
   {
    "duration": 15,
    "start_time": "2023-07-24T15:19:36.242Z"
   },
   {
    "duration": 33,
    "start_time": "2023-07-24T15:19:36.260Z"
   },
   {
    "duration": 19,
    "start_time": "2023-07-24T15:19:36.295Z"
   },
   {
    "duration": 14,
    "start_time": "2023-07-24T15:19:36.316Z"
   },
   {
    "duration": 11,
    "start_time": "2023-07-24T15:19:36.332Z"
   },
   {
    "duration": 17,
    "start_time": "2023-07-24T15:19:36.345Z"
   },
   {
    "duration": 37,
    "start_time": "2023-07-24T15:19:36.364Z"
   },
   {
    "duration": 19,
    "start_time": "2023-07-24T15:19:36.403Z"
   },
   {
    "duration": 767,
    "start_time": "2023-07-24T15:19:36.425Z"
   },
   {
    "duration": 13,
    "start_time": "2023-07-24T15:19:37.194Z"
   },
   {
    "duration": 206,
    "start_time": "2023-07-24T15:19:37.209Z"
   },
   {
    "duration": 13,
    "start_time": "2023-07-24T15:19:37.417Z"
   },
   {
    "duration": 46,
    "start_time": "2023-07-24T15:19:37.431Z"
   },
   {
    "duration": 17,
    "start_time": "2023-07-24T15:19:37.480Z"
   },
   {
    "duration": 6,
    "start_time": "2023-07-24T15:19:37.498Z"
   },
   {
    "duration": 13,
    "start_time": "2023-07-24T15:19:37.506Z"
   },
   {
    "duration": 11,
    "start_time": "2023-07-24T15:19:37.520Z"
   },
   {
    "duration": 6,
    "start_time": "2023-07-24T15:19:37.532Z"
   },
   {
    "duration": 10,
    "start_time": "2023-07-24T15:19:37.540Z"
   },
   {
    "duration": 34,
    "start_time": "2023-07-24T15:19:37.558Z"
   },
   {
    "duration": 24,
    "start_time": "2023-07-24T15:19:37.593Z"
   },
   {
    "duration": 15,
    "start_time": "2023-07-24T15:19:37.619Z"
   },
   {
    "duration": 7,
    "start_time": "2023-07-24T15:19:37.635Z"
   },
   {
    "duration": 20,
    "start_time": "2023-07-24T15:19:37.644Z"
   },
   {
    "duration": 25,
    "start_time": "2023-07-24T15:19:37.666Z"
   },
   {
    "duration": 7,
    "start_time": "2023-07-24T15:19:37.693Z"
   },
   {
    "duration": 8,
    "start_time": "2023-07-24T15:19:37.701Z"
   },
   {
    "duration": 12,
    "start_time": "2023-07-24T15:19:37.711Z"
   },
   {
    "duration": 12,
    "start_time": "2023-07-24T15:19:37.724Z"
   },
   {
    "duration": 7,
    "start_time": "2023-07-24T15:19:37.737Z"
   },
   {
    "duration": 179,
    "start_time": "2023-07-24T15:19:37.746Z"
   },
   {
    "duration": 0,
    "start_time": "2023-07-24T15:19:37.926Z"
   },
   {
    "duration": 0,
    "start_time": "2023-07-24T15:19:37.928Z"
   },
   {
    "duration": 11,
    "start_time": "2023-07-24T15:21:10.355Z"
   },
   {
    "duration": 17,
    "start_time": "2023-07-24T15:25:16.151Z"
   },
   {
    "duration": 6,
    "start_time": "2023-07-24T15:32:56.500Z"
   },
   {
    "duration": 17,
    "start_time": "2023-07-24T15:33:16.899Z"
   },
   {
    "duration": 129,
    "start_time": "2023-07-24T15:35:53.344Z"
   },
   {
    "duration": 239,
    "start_time": "2023-07-24T15:36:15.406Z"
   },
   {
    "duration": 9,
    "start_time": "2023-07-24T15:37:59.134Z"
   },
   {
    "duration": 5,
    "start_time": "2023-07-24T15:38:00.796Z"
   },
   {
    "duration": 6,
    "start_time": "2023-07-24T15:40:40.048Z"
   },
   {
    "duration": 118,
    "start_time": "2023-07-24T15:41:36.476Z"
   },
   {
    "duration": 6,
    "start_time": "2023-07-24T15:42:29.836Z"
   },
   {
    "duration": 6,
    "start_time": "2023-07-24T15:43:35.632Z"
   },
   {
    "duration": 1299,
    "start_time": "2023-07-24T17:17:56.438Z"
   },
   {
    "duration": 28,
    "start_time": "2023-07-24T17:17:57.739Z"
   },
   {
    "duration": 3,
    "start_time": "2023-07-24T17:17:57.769Z"
   },
   {
    "duration": 18,
    "start_time": "2023-07-24T17:17:57.774Z"
   },
   {
    "duration": 19,
    "start_time": "2023-07-24T17:17:57.794Z"
   },
   {
    "duration": 75,
    "start_time": "2023-07-24T17:17:57.814Z"
   },
   {
    "duration": 9,
    "start_time": "2023-07-24T17:17:57.891Z"
   },
   {
    "duration": 44,
    "start_time": "2023-07-24T17:17:57.902Z"
   },
   {
    "duration": 574,
    "start_time": "2023-07-24T17:17:57.948Z"
   },
   {
    "duration": 10,
    "start_time": "2023-07-24T17:17:58.525Z"
   },
   {
    "duration": 89,
    "start_time": "2023-07-24T17:17:58.537Z"
   },
   {
    "duration": 27,
    "start_time": "2023-07-24T17:17:58.628Z"
   },
   {
    "duration": 8,
    "start_time": "2023-07-24T17:17:58.657Z"
   },
   {
    "duration": 31,
    "start_time": "2023-07-24T17:17:58.667Z"
   },
   {
    "duration": 53,
    "start_time": "2023-07-24T17:17:58.700Z"
   },
   {
    "duration": 333,
    "start_time": "2023-07-24T17:17:58.755Z"
   },
   {
    "duration": 11,
    "start_time": "2023-07-24T17:17:59.090Z"
   },
   {
    "duration": 6,
    "start_time": "2023-07-24T17:17:59.102Z"
   },
   {
    "duration": 50,
    "start_time": "2023-07-24T17:17:59.110Z"
   },
   {
    "duration": 12,
    "start_time": "2023-07-24T17:17:59.162Z"
   },
   {
    "duration": 16,
    "start_time": "2023-07-24T17:17:59.176Z"
   },
   {
    "duration": 107,
    "start_time": "2023-07-24T17:17:59.194Z"
   },
   {
    "duration": 64,
    "start_time": "2023-07-24T17:17:59.303Z"
   },
   {
    "duration": 9,
    "start_time": "2023-07-24T17:17:59.369Z"
   },
   {
    "duration": 15,
    "start_time": "2023-07-24T17:17:59.380Z"
   },
   {
    "duration": 7,
    "start_time": "2023-07-24T17:17:59.397Z"
   },
   {
    "duration": 16,
    "start_time": "2023-07-24T17:17:59.406Z"
   },
   {
    "duration": 62,
    "start_time": "2023-07-24T17:17:59.429Z"
   },
   {
    "duration": 85,
    "start_time": "2023-07-24T17:17:59.493Z"
   },
   {
    "duration": 114,
    "start_time": "2023-07-24T17:17:59.580Z"
   },
   {
    "duration": 105,
    "start_time": "2023-07-24T17:17:59.696Z"
   },
   {
    "duration": 70,
    "start_time": "2023-07-24T17:17:59.803Z"
   },
   {
    "duration": 89,
    "start_time": "2023-07-24T17:17:59.875Z"
   },
   {
    "duration": 10,
    "start_time": "2023-07-24T17:17:59.966Z"
   },
   {
    "duration": 8,
    "start_time": "2023-07-24T17:17:59.978Z"
   },
   {
    "duration": 28,
    "start_time": "2023-07-24T17:17:59.988Z"
   },
   {
    "duration": 192,
    "start_time": "2023-07-24T17:18:00.018Z"
   },
   {
    "duration": 65,
    "start_time": "2023-07-24T17:18:00.211Z"
   },
   {
    "duration": 48,
    "start_time": "2023-07-24T17:18:00.278Z"
   },
   {
    "duration": 62,
    "start_time": "2023-07-24T17:18:00.328Z"
   },
   {
    "duration": 33,
    "start_time": "2023-07-24T17:18:00.392Z"
   },
   {
    "duration": 59,
    "start_time": "2023-07-24T17:18:00.427Z"
   },
   {
    "duration": 58,
    "start_time": "2023-07-24T17:18:00.489Z"
   },
   {
    "duration": 38,
    "start_time": "2023-07-24T17:18:00.549Z"
   },
   {
    "duration": 37,
    "start_time": "2023-07-24T17:18:00.589Z"
   },
   {
    "duration": 51,
    "start_time": "2023-07-24T17:18:00.628Z"
   },
   {
    "duration": 24,
    "start_time": "2023-07-24T17:18:00.681Z"
   },
   {
    "duration": 37,
    "start_time": "2023-07-24T17:18:00.707Z"
   },
   {
    "duration": 39,
    "start_time": "2023-07-24T17:18:00.746Z"
   },
   {
    "duration": 63,
    "start_time": "2023-07-24T17:18:00.787Z"
   },
   {
    "duration": 48,
    "start_time": "2023-07-24T17:18:00.852Z"
   },
   {
    "duration": 62,
    "start_time": "2023-07-24T17:18:00.902Z"
   },
   {
    "duration": 99,
    "start_time": "2023-07-24T17:18:00.966Z"
   },
   {
    "duration": 54,
    "start_time": "2023-07-24T17:18:01.067Z"
   },
   {
    "duration": 47,
    "start_time": "2023-07-24T17:18:01.123Z"
   },
   {
    "duration": 52,
    "start_time": "2023-07-24T17:18:01.172Z"
   },
   {
    "duration": 110,
    "start_time": "2023-07-24T17:18:01.226Z"
   },
   {
    "duration": 106,
    "start_time": "2023-07-24T17:18:01.339Z"
   },
   {
    "duration": 35,
    "start_time": "2023-07-24T17:18:01.447Z"
   },
   {
    "duration": 74,
    "start_time": "2023-07-24T17:18:01.483Z"
   },
   {
    "duration": 59,
    "start_time": "2023-07-24T17:18:01.559Z"
   },
   {
    "duration": 72,
    "start_time": "2023-07-24T17:18:01.620Z"
   },
   {
    "duration": 72,
    "start_time": "2023-07-24T17:18:01.694Z"
   },
   {
    "duration": 98,
    "start_time": "2023-07-24T17:18:01.768Z"
   },
   {
    "duration": 40,
    "start_time": "2023-07-24T17:18:01.868Z"
   },
   {
    "duration": 681,
    "start_time": "2023-07-24T17:18:01.910Z"
   },
   {
    "duration": 10,
    "start_time": "2023-07-24T17:18:02.593Z"
   },
   {
    "duration": 44,
    "start_time": "2023-07-24T17:18:02.605Z"
   },
   {
    "duration": 102,
    "start_time": "2023-07-24T17:18:02.651Z"
   },
   {
    "duration": 35,
    "start_time": "2023-07-24T17:18:02.755Z"
   },
   {
    "duration": 17,
    "start_time": "2023-07-24T17:18:02.792Z"
   },
   {
    "duration": 40,
    "start_time": "2023-07-24T17:18:02.811Z"
   },
   {
    "duration": 33,
    "start_time": "2023-07-24T17:18:02.853Z"
   },
   {
    "duration": 41,
    "start_time": "2023-07-24T17:18:02.887Z"
   },
   {
    "duration": 24,
    "start_time": "2023-07-24T17:18:02.930Z"
   },
   {
    "duration": 26,
    "start_time": "2023-07-24T17:18:02.957Z"
   },
   {
    "duration": 23,
    "start_time": "2023-07-24T17:18:02.986Z"
   },
   {
    "duration": 25,
    "start_time": "2023-07-24T17:18:03.011Z"
   },
   {
    "duration": 52,
    "start_time": "2023-07-24T17:18:03.038Z"
   },
   {
    "duration": 56,
    "start_time": "2023-07-24T17:18:03.092Z"
   },
   {
    "duration": 63,
    "start_time": "2023-07-24T17:18:03.150Z"
   },
   {
    "duration": 9,
    "start_time": "2023-07-24T17:18:03.224Z"
   },
   {
    "duration": 15,
    "start_time": "2023-07-24T17:18:03.235Z"
   },
   {
    "duration": 30,
    "start_time": "2023-07-24T17:18:03.252Z"
   },
   {
    "duration": 16,
    "start_time": "2023-07-24T17:18:03.284Z"
   },
   {
    "duration": 97,
    "start_time": "2023-07-24T17:18:03.302Z"
   },
   {
    "duration": 29,
    "start_time": "2023-07-24T17:18:03.401Z"
   },
   {
    "duration": 21,
    "start_time": "2023-07-24T17:18:03.432Z"
   },
   {
    "duration": 15,
    "start_time": "2023-07-24T17:18:03.455Z"
   },
   {
    "duration": 24,
    "start_time": "2023-07-24T17:18:03.472Z"
   },
   {
    "duration": 43,
    "start_time": "2023-07-24T17:18:03.498Z"
   },
   {
    "duration": 19,
    "start_time": "2023-07-24T17:18:03.543Z"
   },
   {
    "duration": 25,
    "start_time": "2023-07-24T17:18:03.564Z"
   },
   {
    "duration": 13,
    "start_time": "2023-07-24T17:18:03.591Z"
   },
   {
    "duration": 35,
    "start_time": "2023-07-24T17:18:03.606Z"
   },
   {
    "duration": 22,
    "start_time": "2023-07-24T17:18:03.643Z"
   },
   {
    "duration": 6,
    "start_time": "2023-07-24T17:18:03.667Z"
   },
   {
    "duration": 10,
    "start_time": "2023-07-24T17:18:03.675Z"
   },
   {
    "duration": 27,
    "start_time": "2023-07-24T17:18:03.687Z"
   },
   {
    "duration": 26,
    "start_time": "2023-07-24T17:18:03.716Z"
   },
   {
    "duration": 19,
    "start_time": "2023-07-24T17:18:03.744Z"
   },
   {
    "duration": 42,
    "start_time": "2023-07-24T17:18:03.764Z"
   },
   {
    "duration": 27,
    "start_time": "2023-07-24T17:18:03.808Z"
   },
   {
    "duration": 11,
    "start_time": "2023-07-24T17:18:03.837Z"
   },
   {
    "duration": 19,
    "start_time": "2023-07-24T17:18:03.850Z"
   },
   {
    "duration": 12,
    "start_time": "2023-07-24T17:18:03.871Z"
   },
   {
    "duration": 23,
    "start_time": "2023-07-24T17:18:03.884Z"
   },
   {
    "duration": 11,
    "start_time": "2023-07-24T17:18:03.909Z"
   },
   {
    "duration": 19,
    "start_time": "2023-07-24T17:18:03.921Z"
   },
   {
    "duration": 25,
    "start_time": "2023-07-24T17:18:03.942Z"
   },
   {
    "duration": 685,
    "start_time": "2023-07-24T17:18:03.969Z"
   },
   {
    "duration": 10,
    "start_time": "2023-07-24T17:18:04.656Z"
   },
   {
    "duration": 155,
    "start_time": "2023-07-24T17:18:04.669Z"
   },
   {
    "duration": 13,
    "start_time": "2023-07-24T17:18:04.825Z"
   },
   {
    "duration": 17,
    "start_time": "2023-07-24T17:18:04.852Z"
   },
   {
    "duration": 10,
    "start_time": "2023-07-24T17:18:04.870Z"
   },
   {
    "duration": 8,
    "start_time": "2023-07-24T17:18:04.881Z"
   },
   {
    "duration": 12,
    "start_time": "2023-07-24T17:18:04.890Z"
   },
   {
    "duration": 15,
    "start_time": "2023-07-24T17:18:04.903Z"
   },
   {
    "duration": 9,
    "start_time": "2023-07-24T17:18:04.919Z"
   },
   {
    "duration": 9,
    "start_time": "2023-07-24T17:18:04.929Z"
   },
   {
    "duration": 20,
    "start_time": "2023-07-24T17:18:04.940Z"
   },
   {
    "duration": 8,
    "start_time": "2023-07-24T17:18:04.961Z"
   },
   {
    "duration": 11,
    "start_time": "2023-07-24T17:18:04.970Z"
   },
   {
    "duration": 7,
    "start_time": "2023-07-24T17:18:04.983Z"
   },
   {
    "duration": 16,
    "start_time": "2023-07-24T17:18:04.991Z"
   },
   {
    "duration": 7,
    "start_time": "2023-07-24T17:18:05.009Z"
   },
   {
    "duration": 33,
    "start_time": "2023-07-24T17:18:05.018Z"
   },
   {
    "duration": 29,
    "start_time": "2023-07-24T17:18:05.053Z"
   },
   {
    "duration": 47,
    "start_time": "2023-07-24T17:18:05.084Z"
   },
   {
    "duration": 28,
    "start_time": "2023-07-24T17:18:05.132Z"
   },
   {
    "duration": 16,
    "start_time": "2023-07-24T17:18:05.162Z"
   },
   {
    "duration": 19,
    "start_time": "2023-07-24T17:18:05.180Z"
   },
   {
    "duration": 1631,
    "start_time": "2023-07-25T16:52:22.514Z"
   },
   {
    "duration": 82,
    "start_time": "2023-07-25T16:52:24.147Z"
   },
   {
    "duration": 3,
    "start_time": "2023-07-25T16:52:24.231Z"
   },
   {
    "duration": 16,
    "start_time": "2023-07-25T16:52:24.236Z"
   },
   {
    "duration": 9,
    "start_time": "2023-07-25T16:52:24.254Z"
   },
   {
    "duration": 224,
    "start_time": "2023-07-25T16:52:24.264Z"
   },
   {
    "duration": 7,
    "start_time": "2023-07-25T16:52:24.489Z"
   },
   {
    "duration": 49,
    "start_time": "2023-07-25T16:52:24.497Z"
   },
   {
    "duration": 906,
    "start_time": "2023-07-25T16:52:24.548Z"
   },
   {
    "duration": 9,
    "start_time": "2023-07-25T16:52:25.458Z"
   },
   {
    "duration": 108,
    "start_time": "2023-07-25T16:52:25.469Z"
   },
   {
    "duration": 105,
    "start_time": "2023-07-25T16:52:25.578Z"
   },
   {
    "duration": 9,
    "start_time": "2023-07-25T16:52:25.685Z"
   },
   {
    "duration": 57,
    "start_time": "2023-07-25T16:52:25.697Z"
   },
   {
    "duration": 90,
    "start_time": "2023-07-25T16:52:25.755Z"
   },
   {
    "duration": 338,
    "start_time": "2023-07-25T16:52:25.846Z"
   },
   {
    "duration": 11,
    "start_time": "2023-07-25T16:52:26.186Z"
   },
   {
    "duration": 45,
    "start_time": "2023-07-25T16:52:26.209Z"
   },
   {
    "duration": 93,
    "start_time": "2023-07-25T16:52:26.256Z"
   },
   {
    "duration": 31,
    "start_time": "2023-07-25T16:52:26.351Z"
   },
   {
    "duration": 37,
    "start_time": "2023-07-25T16:52:26.384Z"
   },
   {
    "duration": 158,
    "start_time": "2023-07-25T16:52:26.429Z"
   },
   {
    "duration": 100,
    "start_time": "2023-07-25T16:52:26.589Z"
   },
   {
    "duration": 13,
    "start_time": "2023-07-25T16:52:26.691Z"
   },
   {
    "duration": 57,
    "start_time": "2023-07-25T16:52:26.706Z"
   },
   {
    "duration": 10,
    "start_time": "2023-07-25T16:52:26.765Z"
   },
   {
    "duration": 29,
    "start_time": "2023-07-25T16:52:26.776Z"
   },
   {
    "duration": 109,
    "start_time": "2023-07-25T16:52:26.822Z"
   },
   {
    "duration": 60,
    "start_time": "2023-07-25T16:52:26.935Z"
   },
   {
    "duration": 50,
    "start_time": "2023-07-25T16:52:26.996Z"
   },
   {
    "duration": 7,
    "start_time": "2023-07-25T16:52:27.047Z"
   },
   {
    "duration": 19,
    "start_time": "2023-07-25T16:52:27.055Z"
   },
   {
    "duration": 15,
    "start_time": "2023-07-25T16:52:27.078Z"
   },
   {
    "duration": 51,
    "start_time": "2023-07-25T16:52:27.094Z"
   },
   {
    "duration": 12,
    "start_time": "2023-07-25T16:52:27.146Z"
   },
   {
    "duration": 19,
    "start_time": "2023-07-25T16:52:27.160Z"
   },
   {
    "duration": 14,
    "start_time": "2023-07-25T16:52:27.181Z"
   },
   {
    "duration": 62,
    "start_time": "2023-07-25T16:52:27.196Z"
   },
   {
    "duration": 8,
    "start_time": "2023-07-25T16:52:27.259Z"
   },
   {
    "duration": 57,
    "start_time": "2023-07-25T16:52:27.269Z"
   },
   {
    "duration": 32,
    "start_time": "2023-07-25T16:52:27.333Z"
   },
   {
    "duration": 15,
    "start_time": "2023-07-25T16:52:27.366Z"
   },
   {
    "duration": 51,
    "start_time": "2023-07-25T16:52:27.383Z"
   },
   {
    "duration": 27,
    "start_time": "2023-07-25T16:52:27.435Z"
   },
   {
    "duration": 18,
    "start_time": "2023-07-25T16:52:27.463Z"
   },
   {
    "duration": 13,
    "start_time": "2023-07-25T16:52:27.483Z"
   },
   {
    "duration": 50,
    "start_time": "2023-07-25T16:52:27.498Z"
   },
   {
    "duration": 12,
    "start_time": "2023-07-25T16:52:27.550Z"
   },
   {
    "duration": 6,
    "start_time": "2023-07-25T16:52:27.563Z"
   },
   {
    "duration": 15,
    "start_time": "2023-07-25T16:52:27.571Z"
   },
   {
    "duration": 67,
    "start_time": "2023-07-25T16:52:27.587Z"
   },
   {
    "duration": 18,
    "start_time": "2023-07-25T16:52:27.656Z"
   },
   {
    "duration": 12,
    "start_time": "2023-07-25T16:52:27.675Z"
   },
   {
    "duration": 48,
    "start_time": "2023-07-25T16:52:27.689Z"
   },
   {
    "duration": 21,
    "start_time": "2023-07-25T16:52:27.739Z"
   },
   {
    "duration": 21,
    "start_time": "2023-07-25T16:52:27.762Z"
   },
   {
    "duration": 12,
    "start_time": "2023-07-25T16:52:27.784Z"
   },
   {
    "duration": 57,
    "start_time": "2023-07-25T16:52:27.797Z"
   },
   {
    "duration": 12,
    "start_time": "2023-07-25T16:52:27.855Z"
   },
   {
    "duration": 97,
    "start_time": "2023-07-25T16:52:27.869Z"
   },
   {
    "duration": 21,
    "start_time": "2023-07-25T16:52:27.968Z"
   },
   {
    "duration": 51,
    "start_time": "2023-07-25T16:52:27.991Z"
   },
   {
    "duration": 23,
    "start_time": "2023-07-25T16:52:28.045Z"
   },
   {
    "duration": 15,
    "start_time": "2023-07-25T16:52:28.069Z"
   },
   {
    "duration": 17,
    "start_time": "2023-07-25T16:52:28.085Z"
   },
   {
    "duration": 489,
    "start_time": "2023-07-25T16:52:28.118Z"
   },
   {
    "duration": 21,
    "start_time": "2023-07-25T16:52:28.617Z"
   },
   {
    "duration": 16,
    "start_time": "2023-07-25T16:52:28.640Z"
   },
   {
    "duration": 111,
    "start_time": "2023-07-25T16:52:28.658Z"
   },
   {
    "duration": 46,
    "start_time": "2023-07-25T16:52:28.771Z"
   },
   {
    "duration": 33,
    "start_time": "2023-07-25T16:52:28.818Z"
   },
   {
    "duration": 15,
    "start_time": "2023-07-25T16:52:28.853Z"
   },
   {
    "duration": 20,
    "start_time": "2023-07-25T16:52:28.874Z"
   },
   {
    "duration": 45,
    "start_time": "2023-07-25T16:52:28.895Z"
   },
   {
    "duration": 36,
    "start_time": "2023-07-25T16:52:28.943Z"
   },
   {
    "duration": 11,
    "start_time": "2023-07-25T16:52:28.981Z"
   },
   {
    "duration": 34,
    "start_time": "2023-07-25T16:52:28.995Z"
   },
   {
    "duration": 25,
    "start_time": "2023-07-25T16:52:29.034Z"
   },
   {
    "duration": 21,
    "start_time": "2023-07-25T16:52:29.061Z"
   },
   {
    "duration": 65,
    "start_time": "2023-07-25T16:52:29.083Z"
   },
   {
    "duration": 16,
    "start_time": "2023-07-25T16:52:29.149Z"
   },
   {
    "duration": 14,
    "start_time": "2023-07-25T16:52:29.166Z"
   },
   {
    "duration": 23,
    "start_time": "2023-07-25T16:52:29.182Z"
   },
   {
    "duration": 36,
    "start_time": "2023-07-25T16:52:29.206Z"
   },
   {
    "duration": 10,
    "start_time": "2023-07-25T16:52:29.244Z"
   },
   {
    "duration": 36,
    "start_time": "2023-07-25T16:52:29.255Z"
   },
   {
    "duration": 31,
    "start_time": "2023-07-25T16:52:29.293Z"
   },
   {
    "duration": 18,
    "start_time": "2023-07-25T16:52:29.326Z"
   },
   {
    "duration": 21,
    "start_time": "2023-07-25T16:52:29.348Z"
   },
   {
    "duration": 7,
    "start_time": "2023-07-25T16:52:29.370Z"
   },
   {
    "duration": 10,
    "start_time": "2023-07-25T16:52:29.379Z"
   },
   {
    "duration": 39,
    "start_time": "2023-07-25T16:52:29.390Z"
   },
   {
    "duration": 11,
    "start_time": "2023-07-25T16:52:29.431Z"
   },
   {
    "duration": 14,
    "start_time": "2023-07-25T16:52:29.443Z"
   },
   {
    "duration": 8,
    "start_time": "2023-07-25T16:52:29.459Z"
   },
   {
    "duration": 19,
    "start_time": "2023-07-25T16:52:29.470Z"
   },
   {
    "duration": 5,
    "start_time": "2023-07-25T16:52:29.491Z"
   },
   {
    "duration": 45,
    "start_time": "2023-07-25T16:52:29.498Z"
   },
   {
    "duration": 12,
    "start_time": "2023-07-25T16:52:29.544Z"
   },
   {
    "duration": 38,
    "start_time": "2023-07-25T16:52:29.558Z"
   },
   {
    "duration": 40,
    "start_time": "2023-07-25T16:52:29.605Z"
   },
   {
    "duration": 10,
    "start_time": "2023-07-25T16:52:29.647Z"
   },
   {
    "duration": 17,
    "start_time": "2023-07-25T16:52:29.658Z"
   },
   {
    "duration": 5,
    "start_time": "2023-07-25T16:52:29.676Z"
   },
   {
    "duration": 16,
    "start_time": "2023-07-25T16:52:29.682Z"
   },
   {
    "duration": 37,
    "start_time": "2023-07-25T16:52:29.706Z"
   },
   {
    "duration": 10,
    "start_time": "2023-07-25T16:52:29.745Z"
   },
   {
    "duration": 7,
    "start_time": "2023-07-25T16:52:29.757Z"
   },
   {
    "duration": 12,
    "start_time": "2023-07-25T16:52:29.766Z"
   },
   {
    "duration": 50,
    "start_time": "2023-07-25T16:52:29.779Z"
   },
   {
    "duration": 5224,
    "start_time": "2023-07-25T16:52:29.835Z"
   },
   {
    "duration": 8,
    "start_time": "2023-07-25T16:52:35.060Z"
   },
   {
    "duration": 176,
    "start_time": "2023-07-25T16:52:35.102Z"
   },
   {
    "duration": 12,
    "start_time": "2023-07-25T16:52:35.279Z"
   },
   {
    "duration": 63,
    "start_time": "2023-07-25T16:52:35.293Z"
   },
   {
    "duration": 40,
    "start_time": "2023-07-25T16:52:35.358Z"
   },
   {
    "duration": 48,
    "start_time": "2023-07-25T16:52:35.406Z"
   },
   {
    "duration": 14,
    "start_time": "2023-07-25T16:52:35.456Z"
   },
   {
    "duration": 34,
    "start_time": "2023-07-25T16:52:35.472Z"
   },
   {
    "duration": 58,
    "start_time": "2023-07-25T16:52:35.509Z"
   },
   {
    "duration": 82,
    "start_time": "2023-07-25T16:52:35.569Z"
   },
   {
    "duration": 12,
    "start_time": "2023-07-25T16:52:35.662Z"
   },
   {
    "duration": 8,
    "start_time": "2023-07-25T16:52:35.676Z"
   },
   {
    "duration": 46,
    "start_time": "2023-07-25T16:52:35.687Z"
   },
   {
    "duration": 23,
    "start_time": "2023-07-25T16:52:35.735Z"
   },
   {
    "duration": 23,
    "start_time": "2023-07-25T16:52:35.760Z"
   },
   {
    "duration": 11,
    "start_time": "2023-07-25T16:52:35.785Z"
   },
   {
    "duration": 53,
    "start_time": "2023-07-25T16:52:35.797Z"
   },
   {
    "duration": 33,
    "start_time": "2023-07-25T16:52:35.852Z"
   },
   {
    "duration": 158,
    "start_time": "2023-07-25T16:52:35.886Z"
   },
   {
    "duration": 33,
    "start_time": "2023-07-25T16:52:36.046Z"
   },
   {
    "duration": 40,
    "start_time": "2023-07-25T16:52:36.081Z"
   },
   {
    "duration": 43,
    "start_time": "2023-07-25T16:52:36.122Z"
   },
   {
    "duration": 5,
    "start_time": "2023-07-25T17:18:46.691Z"
   },
   {
    "duration": 5,
    "start_time": "2023-07-25T17:18:48.390Z"
   },
   {
    "duration": 6,
    "start_time": "2023-07-25T17:18:50.311Z"
   },
   {
    "duration": 15,
    "start_time": "2023-07-25T17:19:04.598Z"
   },
   {
    "duration": 5,
    "start_time": "2023-07-25T17:19:07.311Z"
   },
   {
    "duration": 1627,
    "start_time": "2023-07-25T17:27:32.626Z"
   },
   {
    "duration": 77,
    "start_time": "2023-07-25T17:27:34.255Z"
   },
   {
    "duration": 4,
    "start_time": "2023-07-25T17:27:34.334Z"
   },
   {
    "duration": 38,
    "start_time": "2023-07-25T17:27:34.341Z"
   },
   {
    "duration": 12,
    "start_time": "2023-07-25T17:27:34.381Z"
   },
   {
    "duration": 189,
    "start_time": "2023-07-25T17:27:34.394Z"
   },
   {
    "duration": 9,
    "start_time": "2023-07-25T17:27:34.584Z"
   },
   {
    "duration": 30,
    "start_time": "2023-07-25T17:27:34.595Z"
   },
   {
    "duration": 729,
    "start_time": "2023-07-25T17:27:34.628Z"
   },
   {
    "duration": 9,
    "start_time": "2023-07-25T17:27:35.360Z"
   },
   {
    "duration": 74,
    "start_time": "2023-07-25T17:27:35.371Z"
   },
   {
    "duration": 83,
    "start_time": "2023-07-25T17:27:35.447Z"
   },
   {
    "duration": 10,
    "start_time": "2023-07-25T17:27:35.532Z"
   },
   {
    "duration": 27,
    "start_time": "2023-07-25T17:27:35.544Z"
   },
   {
    "duration": 59,
    "start_time": "2023-07-25T17:27:35.573Z"
   },
   {
    "duration": 314,
    "start_time": "2023-07-25T17:27:35.634Z"
   },
   {
    "duration": 12,
    "start_time": "2023-07-25T17:27:35.950Z"
   },
   {
    "duration": 9,
    "start_time": "2023-07-25T17:27:35.974Z"
   },
   {
    "duration": 43,
    "start_time": "2023-07-25T17:27:35.985Z"
   },
   {
    "duration": 11,
    "start_time": "2023-07-25T17:27:36.030Z"
   },
   {
    "duration": 32,
    "start_time": "2023-07-25T17:27:36.043Z"
   },
   {
    "duration": 115,
    "start_time": "2023-07-25T17:27:36.078Z"
   },
   {
    "duration": 50,
    "start_time": "2023-07-25T17:27:36.195Z"
   },
   {
    "duration": 49,
    "start_time": "2023-07-25T17:27:36.248Z"
   },
   {
    "duration": 17,
    "start_time": "2023-07-25T17:27:36.300Z"
   },
   {
    "duration": 19,
    "start_time": "2023-07-25T17:27:36.319Z"
   },
   {
    "duration": 27,
    "start_time": "2023-07-25T17:27:36.341Z"
   },
   {
    "duration": 53,
    "start_time": "2023-07-25T17:27:36.375Z"
   },
   {
    "duration": 77,
    "start_time": "2023-07-25T17:27:36.430Z"
   },
   {
    "duration": 35,
    "start_time": "2023-07-25T17:27:36.509Z"
   },
   {
    "duration": 22,
    "start_time": "2023-07-25T17:27:36.546Z"
   },
   {
    "duration": 10,
    "start_time": "2023-07-25T17:27:36.575Z"
   },
   {
    "duration": 6,
    "start_time": "2023-07-25T17:27:36.586Z"
   },
   {
    "duration": 9,
    "start_time": "2023-07-25T17:27:36.593Z"
   },
   {
    "duration": 9,
    "start_time": "2023-07-25T17:27:36.604Z"
   },
   {
    "duration": 7,
    "start_time": "2023-07-25T17:27:36.615Z"
   },
   {
    "duration": 9,
    "start_time": "2023-07-25T17:27:36.623Z"
   },
   {
    "duration": 45,
    "start_time": "2023-07-25T17:27:36.634Z"
   },
   {
    "duration": 8,
    "start_time": "2023-07-25T17:27:36.680Z"
   },
   {
    "duration": 45,
    "start_time": "2023-07-25T17:27:36.689Z"
   },
   {
    "duration": 13,
    "start_time": "2023-07-25T17:27:36.736Z"
   },
   {
    "duration": 39,
    "start_time": "2023-07-25T17:27:36.750Z"
   },
   {
    "duration": 28,
    "start_time": "2023-07-25T17:27:36.790Z"
   },
   {
    "duration": 8,
    "start_time": "2023-07-25T17:27:36.820Z"
   },
   {
    "duration": 20,
    "start_time": "2023-07-25T17:27:36.830Z"
   },
   {
    "duration": 17,
    "start_time": "2023-07-25T17:27:36.876Z"
   },
   {
    "duration": 9,
    "start_time": "2023-07-25T17:27:36.895Z"
   },
   {
    "duration": 14,
    "start_time": "2023-07-25T17:27:36.906Z"
   },
   {
    "duration": 10,
    "start_time": "2023-07-25T17:27:36.922Z"
   },
   {
    "duration": 11,
    "start_time": "2023-07-25T17:27:36.933Z"
   },
   {
    "duration": 28,
    "start_time": "2023-07-25T17:27:36.945Z"
   },
   {
    "duration": 15,
    "start_time": "2023-07-25T17:27:36.976Z"
   },
   {
    "duration": 9,
    "start_time": "2023-07-25T17:27:36.993Z"
   },
   {
    "duration": 8,
    "start_time": "2023-07-25T17:27:37.004Z"
   },
   {
    "duration": 9,
    "start_time": "2023-07-25T17:27:37.014Z"
   },
   {
    "duration": 21,
    "start_time": "2023-07-25T17:27:37.025Z"
   },
   {
    "duration": 14,
    "start_time": "2023-07-25T17:27:37.048Z"
   },
   {
    "duration": 19,
    "start_time": "2023-07-25T17:27:37.076Z"
   },
   {
    "duration": 6,
    "start_time": "2023-07-25T17:27:37.096Z"
   },
   {
    "duration": 14,
    "start_time": "2023-07-25T17:27:37.103Z"
   },
   {
    "duration": 3,
    "start_time": "2023-07-25T17:27:37.119Z"
   },
   {
    "duration": 10,
    "start_time": "2023-07-25T17:27:37.123Z"
   },
   {
    "duration": 25,
    "start_time": "2023-07-25T17:27:37.134Z"
   },
   {
    "duration": 24,
    "start_time": "2023-07-25T17:27:37.161Z"
   },
   {
    "duration": 19,
    "start_time": "2023-07-25T17:27:37.187Z"
   },
   {
    "duration": 527,
    "start_time": "2023-07-25T17:27:37.208Z"
   },
   {
    "duration": 7,
    "start_time": "2023-07-25T17:27:37.737Z"
   },
   {
    "duration": 30,
    "start_time": "2023-07-25T17:27:37.746Z"
   },
   {
    "duration": 100,
    "start_time": "2023-07-25T17:27:37.778Z"
   },
   {
    "duration": 30,
    "start_time": "2023-07-25T17:27:37.880Z"
   },
   {
    "duration": 13,
    "start_time": "2023-07-25T17:27:37.912Z"
   },
   {
    "duration": 29,
    "start_time": "2023-07-25T17:27:37.926Z"
   },
   {
    "duration": 15,
    "start_time": "2023-07-25T17:27:37.957Z"
   },
   {
    "duration": 26,
    "start_time": "2023-07-25T17:27:37.974Z"
   },
   {
    "duration": 19,
    "start_time": "2023-07-25T17:27:38.002Z"
   },
   {
    "duration": 27,
    "start_time": "2023-07-25T17:27:38.023Z"
   },
   {
    "duration": 19,
    "start_time": "2023-07-25T17:27:38.053Z"
   },
   {
    "duration": 17,
    "start_time": "2023-07-25T17:27:38.074Z"
   },
   {
    "duration": 22,
    "start_time": "2023-07-25T17:27:38.094Z"
   },
   {
    "duration": 16,
    "start_time": "2023-07-25T17:27:38.117Z"
   },
   {
    "duration": 23,
    "start_time": "2023-07-25T17:27:38.135Z"
   },
   {
    "duration": 6,
    "start_time": "2023-07-25T17:27:38.168Z"
   },
   {
    "duration": 14,
    "start_time": "2023-07-25T17:27:38.176Z"
   },
   {
    "duration": 19,
    "start_time": "2023-07-25T17:27:38.192Z"
   },
   {
    "duration": 17,
    "start_time": "2023-07-25T17:27:38.213Z"
   },
   {
    "duration": 53,
    "start_time": "2023-07-25T17:27:38.233Z"
   },
   {
    "duration": 30,
    "start_time": "2023-07-25T17:27:38.288Z"
   },
   {
    "duration": 9,
    "start_time": "2023-07-25T17:27:38.320Z"
   },
   {
    "duration": 28,
    "start_time": "2023-07-25T17:27:38.331Z"
   },
   {
    "duration": 36,
    "start_time": "2023-07-25T17:27:38.374Z"
   },
   {
    "duration": 21,
    "start_time": "2023-07-25T17:27:38.412Z"
   },
   {
    "duration": 22,
    "start_time": "2023-07-25T17:27:38.435Z"
   },
   {
    "duration": 21,
    "start_time": "2023-07-25T17:27:38.458Z"
   },
   {
    "duration": 33,
    "start_time": "2023-07-25T17:27:38.481Z"
   },
   {
    "duration": 21,
    "start_time": "2023-07-25T17:27:38.516Z"
   },
   {
    "duration": 24,
    "start_time": "2023-07-25T17:27:38.539Z"
   },
   {
    "duration": 11,
    "start_time": "2023-07-25T17:27:38.565Z"
   },
   {
    "duration": 10,
    "start_time": "2023-07-25T17:27:38.578Z"
   },
   {
    "duration": 27,
    "start_time": "2023-07-25T17:27:38.590Z"
   },
   {
    "duration": 25,
    "start_time": "2023-07-25T17:27:38.619Z"
   },
   {
    "duration": 21,
    "start_time": "2023-07-25T17:27:38.646Z"
   },
   {
    "duration": 19,
    "start_time": "2023-07-25T17:27:38.669Z"
   },
   {
    "duration": 49,
    "start_time": "2023-07-25T17:27:38.690Z"
   },
   {
    "duration": 23,
    "start_time": "2023-07-25T17:27:38.741Z"
   },
   {
    "duration": 25,
    "start_time": "2023-07-25T17:27:38.766Z"
   },
   {
    "duration": 32,
    "start_time": "2023-07-25T17:27:38.794Z"
   },
   {
    "duration": 23,
    "start_time": "2023-07-25T17:27:38.827Z"
   },
   {
    "duration": 18,
    "start_time": "2023-07-25T17:27:38.852Z"
   },
   {
    "duration": 17,
    "start_time": "2023-07-25T17:27:38.872Z"
   },
   {
    "duration": 27,
    "start_time": "2023-07-25T17:27:38.890Z"
   },
   {
    "duration": 665,
    "start_time": "2023-07-25T17:27:38.919Z"
   },
   {
    "duration": 9,
    "start_time": "2023-07-25T17:27:39.586Z"
   },
   {
    "duration": 152,
    "start_time": "2023-07-25T17:27:39.597Z"
   },
   {
    "duration": 12,
    "start_time": "2023-07-25T17:27:39.750Z"
   },
   {
    "duration": 13,
    "start_time": "2023-07-25T17:27:39.775Z"
   },
   {
    "duration": 14,
    "start_time": "2023-07-25T17:27:39.790Z"
   },
   {
    "duration": 9,
    "start_time": "2023-07-25T17:27:39.805Z"
   },
   {
    "duration": 19,
    "start_time": "2023-07-25T17:27:39.816Z"
   },
   {
    "duration": 27,
    "start_time": "2023-07-25T17:27:39.837Z"
   },
   {
    "duration": 15,
    "start_time": "2023-07-25T17:27:39.865Z"
   },
   {
    "duration": 13,
    "start_time": "2023-07-25T17:27:39.882Z"
   },
   {
    "duration": 9,
    "start_time": "2023-07-25T17:27:39.897Z"
   },
   {
    "duration": 6,
    "start_time": "2023-07-25T17:27:39.907Z"
   },
   {
    "duration": 11,
    "start_time": "2023-07-25T17:27:39.915Z"
   },
   {
    "duration": 16,
    "start_time": "2023-07-25T17:27:39.928Z"
   },
   {
    "duration": 21,
    "start_time": "2023-07-25T17:27:39.946Z"
   },
   {
    "duration": 6,
    "start_time": "2023-07-25T17:27:39.968Z"
   },
   {
    "duration": 7,
    "start_time": "2023-07-25T17:27:39.976Z"
   },
   {
    "duration": 11,
    "start_time": "2023-07-25T17:27:39.984Z"
   },
   {
    "duration": 38,
    "start_time": "2023-07-25T17:27:39.997Z"
   },
   {
    "duration": 26,
    "start_time": "2023-07-25T17:27:40.037Z"
   },
   {
    "duration": 21,
    "start_time": "2023-07-25T17:27:40.065Z"
   },
   {
    "duration": 23,
    "start_time": "2023-07-25T17:27:40.089Z"
   },
   {
    "duration": 1267,
    "start_time": "2023-07-25T18:04:36.883Z"
   },
   {
    "duration": 28,
    "start_time": "2023-07-25T18:04:38.152Z"
   },
   {
    "duration": 20,
    "start_time": "2023-07-25T18:04:38.181Z"
   },
   {
    "duration": 22,
    "start_time": "2023-07-25T18:04:38.203Z"
   },
   {
    "duration": 11,
    "start_time": "2023-07-25T18:04:38.226Z"
   },
   {
    "duration": 129,
    "start_time": "2023-07-25T18:04:38.238Z"
   },
   {
    "duration": 8,
    "start_time": "2023-07-25T18:04:38.368Z"
   },
   {
    "duration": 46,
    "start_time": "2023-07-25T18:04:38.378Z"
   },
   {
    "duration": 498,
    "start_time": "2023-07-25T18:04:38.425Z"
   },
   {
    "duration": 9,
    "start_time": "2023-07-25T18:04:38.926Z"
   },
   {
    "duration": 76,
    "start_time": "2023-07-25T18:04:38.937Z"
   },
   {
    "duration": 26,
    "start_time": "2023-07-25T18:04:39.015Z"
   },
   {
    "duration": 9,
    "start_time": "2023-07-25T18:04:39.043Z"
   },
   {
    "duration": 22,
    "start_time": "2023-07-25T18:04:39.053Z"
   },
   {
    "duration": 31,
    "start_time": "2023-07-25T18:04:39.077Z"
   },
   {
    "duration": 300,
    "start_time": "2023-07-25T18:04:39.110Z"
   },
   {
    "duration": 14,
    "start_time": "2023-07-25T18:04:39.412Z"
   },
   {
    "duration": 17,
    "start_time": "2023-07-25T18:04:39.428Z"
   },
   {
    "duration": 68,
    "start_time": "2023-07-25T18:04:39.447Z"
   },
   {
    "duration": 12,
    "start_time": "2023-07-25T18:04:39.516Z"
   },
   {
    "duration": 18,
    "start_time": "2023-07-25T18:04:39.530Z"
   },
   {
    "duration": 94,
    "start_time": "2023-07-25T18:04:39.549Z"
   },
   {
    "duration": 58,
    "start_time": "2023-07-25T18:04:39.645Z"
   },
   {
    "duration": 9,
    "start_time": "2023-07-25T18:04:39.704Z"
   },
   {
    "duration": 19,
    "start_time": "2023-07-25T18:04:39.715Z"
   },
   {
    "duration": 10,
    "start_time": "2023-07-25T18:04:39.735Z"
   },
   {
    "duration": 26,
    "start_time": "2023-07-25T18:04:39.746Z"
   },
   {
    "duration": 38,
    "start_time": "2023-07-25T18:04:39.776Z"
   },
   {
    "duration": 60,
    "start_time": "2023-07-25T18:04:39.816Z"
   },
   {
    "duration": 23,
    "start_time": "2023-07-25T18:04:39.878Z"
   },
   {
    "duration": 8,
    "start_time": "2023-07-25T18:04:39.902Z"
   },
   {
    "duration": 15,
    "start_time": "2023-07-25T18:04:39.912Z"
   },
   {
    "duration": 5,
    "start_time": "2023-07-25T18:04:39.929Z"
   },
   {
    "duration": 13,
    "start_time": "2023-07-25T18:04:39.936Z"
   },
   {
    "duration": 5,
    "start_time": "2023-07-25T18:04:39.975Z"
   },
   {
    "duration": 27,
    "start_time": "2023-07-25T18:04:39.982Z"
   },
   {
    "duration": 27,
    "start_time": "2023-07-25T18:04:40.010Z"
   },
   {
    "duration": 21,
    "start_time": "2023-07-25T18:04:40.039Z"
   },
   {
    "duration": 23,
    "start_time": "2023-07-25T18:04:40.062Z"
   },
   {
    "duration": 8,
    "start_time": "2023-07-25T18:04:40.087Z"
   },
   {
    "duration": 35,
    "start_time": "2023-07-25T18:04:40.097Z"
   },
   {
    "duration": 12,
    "start_time": "2023-07-25T18:04:40.134Z"
   },
   {
    "duration": 40,
    "start_time": "2023-07-25T18:04:40.148Z"
   },
   {
    "duration": 9,
    "start_time": "2023-07-25T18:04:40.190Z"
   },
   {
    "duration": 18,
    "start_time": "2023-07-25T18:04:40.200Z"
   },
   {
    "duration": 26,
    "start_time": "2023-07-25T18:04:40.220Z"
   },
   {
    "duration": 10,
    "start_time": "2023-07-25T18:04:40.247Z"
   },
   {
    "duration": 23,
    "start_time": "2023-07-25T18:04:40.258Z"
   },
   {
    "duration": 14,
    "start_time": "2023-07-25T18:04:40.283Z"
   },
   {
    "duration": 4,
    "start_time": "2023-07-25T18:04:40.299Z"
   },
   {
    "duration": 6,
    "start_time": "2023-07-25T18:04:40.305Z"
   },
   {
    "duration": 13,
    "start_time": "2023-07-25T18:04:40.313Z"
   },
   {
    "duration": 8,
    "start_time": "2023-07-25T18:04:40.328Z"
   },
   {
    "duration": 20,
    "start_time": "2023-07-25T18:04:40.338Z"
   },
   {
    "duration": 16,
    "start_time": "2023-07-25T18:04:40.374Z"
   },
   {
    "duration": 12,
    "start_time": "2023-07-25T18:04:40.392Z"
   },
   {
    "duration": 12,
    "start_time": "2023-07-25T18:04:40.406Z"
   },
   {
    "duration": 9,
    "start_time": "2023-07-25T18:04:40.419Z"
   },
   {
    "duration": 17,
    "start_time": "2023-07-25T18:04:40.430Z"
   },
   {
    "duration": 11,
    "start_time": "2023-07-25T18:04:40.448Z"
   },
   {
    "duration": 22,
    "start_time": "2023-07-25T18:04:40.460Z"
   },
   {
    "duration": 6,
    "start_time": "2023-07-25T18:04:40.483Z"
   },
   {
    "duration": 13,
    "start_time": "2023-07-25T18:04:40.490Z"
   },
   {
    "duration": 5,
    "start_time": "2023-07-25T18:04:40.505Z"
   },
   {
    "duration": 14,
    "start_time": "2023-07-25T18:04:40.512Z"
   },
   {
    "duration": 12,
    "start_time": "2023-07-25T18:04:40.528Z"
   },
   {
    "duration": 9,
    "start_time": "2023-07-25T18:04:40.542Z"
   },
   {
    "duration": 33,
    "start_time": "2023-07-25T18:04:40.553Z"
   },
   {
    "duration": 513,
    "start_time": "2023-07-25T18:04:40.587Z"
   },
   {
    "duration": 7,
    "start_time": "2023-07-25T18:04:41.101Z"
   },
   {
    "duration": 22,
    "start_time": "2023-07-25T18:04:41.109Z"
   },
   {
    "duration": 115,
    "start_time": "2023-07-25T18:04:41.134Z"
   },
   {
    "duration": 38,
    "start_time": "2023-07-25T18:04:41.251Z"
   },
   {
    "duration": 17,
    "start_time": "2023-07-25T18:04:41.291Z"
   },
   {
    "duration": 16,
    "start_time": "2023-07-25T18:04:41.309Z"
   },
   {
    "duration": 7,
    "start_time": "2023-07-25T18:04:41.327Z"
   },
   {
    "duration": 10,
    "start_time": "2023-07-25T18:04:41.335Z"
   },
   {
    "duration": 16,
    "start_time": "2023-07-25T18:04:41.346Z"
   },
   {
    "duration": 17,
    "start_time": "2023-07-25T18:04:41.363Z"
   },
   {
    "duration": 13,
    "start_time": "2023-07-25T18:04:41.382Z"
   },
   {
    "duration": 11,
    "start_time": "2023-07-25T18:04:41.396Z"
   },
   {
    "duration": 9,
    "start_time": "2023-07-25T18:04:41.413Z"
   },
   {
    "duration": 8,
    "start_time": "2023-07-25T18:04:41.425Z"
   },
   {
    "duration": 15,
    "start_time": "2023-07-25T18:04:41.435Z"
   },
   {
    "duration": 27,
    "start_time": "2023-07-25T18:04:41.452Z"
   },
   {
    "duration": 20,
    "start_time": "2023-07-25T18:04:41.481Z"
   },
   {
    "duration": 15,
    "start_time": "2023-07-25T18:04:41.503Z"
   },
   {
    "duration": 13,
    "start_time": "2023-07-25T18:04:41.520Z"
   },
   {
    "duration": 44,
    "start_time": "2023-07-25T18:04:41.535Z"
   },
   {
    "duration": 29,
    "start_time": "2023-07-25T18:04:41.581Z"
   },
   {
    "duration": 10,
    "start_time": "2023-07-25T18:04:41.612Z"
   },
   {
    "duration": 20,
    "start_time": "2023-07-25T18:04:41.624Z"
   },
   {
    "duration": 6,
    "start_time": "2023-07-25T18:04:41.646Z"
   },
   {
    "duration": 28,
    "start_time": "2023-07-25T18:04:41.654Z"
   },
   {
    "duration": 19,
    "start_time": "2023-07-25T18:04:41.684Z"
   },
   {
    "duration": 12,
    "start_time": "2023-07-25T18:04:41.705Z"
   },
   {
    "duration": 17,
    "start_time": "2023-07-25T18:04:41.719Z"
   },
   {
    "duration": 32,
    "start_time": "2023-07-25T18:04:41.737Z"
   },
   {
    "duration": 40,
    "start_time": "2023-07-25T18:04:41.770Z"
   },
   {
    "duration": 23,
    "start_time": "2023-07-25T18:04:41.812Z"
   },
   {
    "duration": 13,
    "start_time": "2023-07-25T18:04:41.836Z"
   },
   {
    "duration": 53,
    "start_time": "2023-07-25T18:04:41.851Z"
   },
   {
    "duration": 54,
    "start_time": "2023-07-25T18:04:41.906Z"
   },
   {
    "duration": 15,
    "start_time": "2023-07-25T18:04:41.962Z"
   },
   {
    "duration": 23,
    "start_time": "2023-07-25T18:04:41.979Z"
   },
   {
    "duration": 29,
    "start_time": "2023-07-25T18:04:42.004Z"
   },
   {
    "duration": 10,
    "start_time": "2023-07-25T18:04:42.035Z"
   },
   {
    "duration": 25,
    "start_time": "2023-07-25T18:04:42.047Z"
   },
   {
    "duration": 36,
    "start_time": "2023-07-25T18:04:42.074Z"
   },
   {
    "duration": 6,
    "start_time": "2023-07-25T18:04:42.112Z"
   },
   {
    "duration": 12,
    "start_time": "2023-07-25T18:04:42.120Z"
   },
   {
    "duration": 34,
    "start_time": "2023-07-25T18:04:42.133Z"
   },
   {
    "duration": 20,
    "start_time": "2023-07-25T18:04:42.168Z"
   },
   {
    "duration": 599,
    "start_time": "2023-07-25T18:04:42.190Z"
   },
   {
    "duration": 10,
    "start_time": "2023-07-25T18:04:42.790Z"
   },
   {
    "duration": 137,
    "start_time": "2023-07-25T18:04:42.801Z"
   },
   {
    "duration": 12,
    "start_time": "2023-07-25T18:04:42.940Z"
   },
   {
    "duration": 42,
    "start_time": "2023-07-25T18:04:42.954Z"
   },
   {
    "duration": 13,
    "start_time": "2023-07-25T18:04:42.998Z"
   },
   {
    "duration": 20,
    "start_time": "2023-07-25T18:04:43.012Z"
   },
   {
    "duration": 15,
    "start_time": "2023-07-25T18:04:43.034Z"
   },
   {
    "duration": 11,
    "start_time": "2023-07-25T18:04:43.051Z"
   },
   {
    "duration": 14,
    "start_time": "2023-07-25T18:04:43.063Z"
   },
   {
    "duration": 10,
    "start_time": "2023-07-25T18:04:43.078Z"
   },
   {
    "duration": 19,
    "start_time": "2023-07-25T18:04:43.089Z"
   },
   {
    "duration": 12,
    "start_time": "2023-07-25T18:04:43.109Z"
   },
   {
    "duration": 26,
    "start_time": "2023-07-25T18:04:43.122Z"
   },
   {
    "duration": 8,
    "start_time": "2023-07-25T18:04:43.150Z"
   },
   {
    "duration": 18,
    "start_time": "2023-07-25T18:04:43.160Z"
   },
   {
    "duration": 5,
    "start_time": "2023-07-25T18:04:43.179Z"
   },
   {
    "duration": 11,
    "start_time": "2023-07-25T18:04:43.185Z"
   },
   {
    "duration": 12,
    "start_time": "2023-07-25T18:04:43.198Z"
   },
   {
    "duration": 30,
    "start_time": "2023-07-25T18:04:43.212Z"
   },
   {
    "duration": 8,
    "start_time": "2023-07-25T18:04:43.243Z"
   },
   {
    "duration": 15,
    "start_time": "2023-07-25T18:04:43.252Z"
   },
   {
    "duration": 28,
    "start_time": "2023-07-25T18:04:43.268Z"
   },
   {
    "duration": 1359,
    "start_time": "2023-07-25T18:11:39.836Z"
   },
   {
    "duration": 31,
    "start_time": "2023-07-25T18:11:41.197Z"
   },
   {
    "duration": 34,
    "start_time": "2023-07-25T18:11:41.230Z"
   },
   {
    "duration": 36,
    "start_time": "2023-07-25T18:11:41.267Z"
   },
   {
    "duration": 14,
    "start_time": "2023-07-25T18:11:41.305Z"
   },
   {
    "duration": 88,
    "start_time": "2023-07-25T18:11:41.320Z"
   },
   {
    "duration": 10,
    "start_time": "2023-07-25T18:11:41.409Z"
   },
   {
    "duration": 39,
    "start_time": "2023-07-25T18:11:41.420Z"
   },
   {
    "duration": 489,
    "start_time": "2023-07-25T18:11:41.460Z"
   },
   {
    "duration": 10,
    "start_time": "2023-07-25T18:11:41.952Z"
   },
   {
    "duration": 60,
    "start_time": "2023-07-25T18:11:41.976Z"
   },
   {
    "duration": 29,
    "start_time": "2023-07-25T18:11:42.038Z"
   },
   {
    "duration": 11,
    "start_time": "2023-07-25T18:11:42.069Z"
   },
   {
    "duration": 25,
    "start_time": "2023-07-25T18:11:42.082Z"
   },
   {
    "duration": 40,
    "start_time": "2023-07-25T18:11:42.108Z"
   },
   {
    "duration": 284,
    "start_time": "2023-07-25T18:11:42.150Z"
   },
   {
    "duration": 10,
    "start_time": "2023-07-25T18:11:42.436Z"
   },
   {
    "duration": 12,
    "start_time": "2023-07-25T18:11:42.449Z"
   },
   {
    "duration": 37,
    "start_time": "2023-07-25T18:11:42.463Z"
   },
   {
    "duration": 11,
    "start_time": "2023-07-25T18:11:42.502Z"
   },
   {
    "duration": 23,
    "start_time": "2023-07-25T18:11:42.515Z"
   },
   {
    "duration": 105,
    "start_time": "2023-07-25T18:11:42.540Z"
   },
   {
    "duration": 54,
    "start_time": "2023-07-25T18:11:42.647Z"
   },
   {
    "duration": 11,
    "start_time": "2023-07-25T18:11:42.703Z"
   },
   {
    "duration": 28,
    "start_time": "2023-07-25T18:11:42.716Z"
   },
   {
    "duration": 24,
    "start_time": "2023-07-25T18:11:42.746Z"
   },
   {
    "duration": 24,
    "start_time": "2023-07-25T18:11:42.772Z"
   },
   {
    "duration": 59,
    "start_time": "2023-07-25T18:11:42.802Z"
   },
   {
    "duration": 59,
    "start_time": "2023-07-25T18:11:42.862Z"
   },
   {
    "duration": 23,
    "start_time": "2023-07-25T18:11:42.922Z"
   },
   {
    "duration": 10,
    "start_time": "2023-07-25T18:11:42.946Z"
   },
   {
    "duration": 33,
    "start_time": "2023-07-25T18:11:42.957Z"
   },
   {
    "duration": 26,
    "start_time": "2023-07-25T18:11:42.992Z"
   },
   {
    "duration": 24,
    "start_time": "2023-07-25T18:11:43.019Z"
   },
   {
    "duration": 27,
    "start_time": "2023-07-25T18:11:43.045Z"
   },
   {
    "duration": 28,
    "start_time": "2023-07-25T18:11:43.074Z"
   },
   {
    "duration": 32,
    "start_time": "2023-07-25T18:11:43.104Z"
   },
   {
    "duration": 30,
    "start_time": "2023-07-25T18:11:43.137Z"
   },
   {
    "duration": 28,
    "start_time": "2023-07-25T18:11:43.169Z"
   },
   {
    "duration": 20,
    "start_time": "2023-07-25T18:11:43.199Z"
   },
   {
    "duration": 38,
    "start_time": "2023-07-25T18:11:43.221Z"
   },
   {
    "duration": 5,
    "start_time": "2023-07-25T18:11:43.261Z"
   },
   {
    "duration": 40,
    "start_time": "2023-07-25T18:11:43.267Z"
   },
   {
    "duration": 9,
    "start_time": "2023-07-25T18:11:43.309Z"
   },
   {
    "duration": 1901,
    "start_time": "2023-07-25T18:11:43.320Z"
   },
   {
    "duration": 0,
    "start_time": "2023-07-25T18:11:45.227Z"
   },
   {
    "duration": 0,
    "start_time": "2023-07-25T18:11:45.229Z"
   },
   {
    "duration": 0,
    "start_time": "2023-07-25T18:11:45.231Z"
   },
   {
    "duration": 0,
    "start_time": "2023-07-25T18:11:45.232Z"
   },
   {
    "duration": 0,
    "start_time": "2023-07-25T18:11:45.234Z"
   },
   {
    "duration": 0,
    "start_time": "2023-07-25T18:11:45.236Z"
   },
   {
    "duration": 0,
    "start_time": "2023-07-25T18:11:45.238Z"
   },
   {
    "duration": 0,
    "start_time": "2023-07-25T18:11:45.239Z"
   },
   {
    "duration": 0,
    "start_time": "2023-07-25T18:11:45.241Z"
   },
   {
    "duration": 0,
    "start_time": "2023-07-25T18:11:45.242Z"
   },
   {
    "duration": 0,
    "start_time": "2023-07-25T18:11:45.244Z"
   },
   {
    "duration": 0,
    "start_time": "2023-07-25T18:11:45.245Z"
   },
   {
    "duration": 0,
    "start_time": "2023-07-25T18:11:45.246Z"
   },
   {
    "duration": 0,
    "start_time": "2023-07-25T18:11:45.249Z"
   },
   {
    "duration": 0,
    "start_time": "2023-07-25T18:11:45.250Z"
   },
   {
    "duration": 0,
    "start_time": "2023-07-25T18:11:45.252Z"
   },
   {
    "duration": 0,
    "start_time": "2023-07-25T18:11:45.253Z"
   },
   {
    "duration": 0,
    "start_time": "2023-07-25T18:11:45.255Z"
   },
   {
    "duration": 0,
    "start_time": "2023-07-25T18:11:45.256Z"
   },
   {
    "duration": 0,
    "start_time": "2023-07-25T18:11:45.257Z"
   },
   {
    "duration": 0,
    "start_time": "2023-07-25T18:11:45.258Z"
   },
   {
    "duration": 0,
    "start_time": "2023-07-25T18:11:45.260Z"
   },
   {
    "duration": 0,
    "start_time": "2023-07-25T18:11:45.261Z"
   },
   {
    "duration": 0,
    "start_time": "2023-07-25T18:11:45.262Z"
   },
   {
    "duration": 0,
    "start_time": "2023-07-25T18:11:45.275Z"
   },
   {
    "duration": 0,
    "start_time": "2023-07-25T18:11:45.277Z"
   },
   {
    "duration": 0,
    "start_time": "2023-07-25T18:11:45.278Z"
   },
   {
    "duration": 0,
    "start_time": "2023-07-25T18:11:45.279Z"
   },
   {
    "duration": 0,
    "start_time": "2023-07-25T18:11:45.280Z"
   },
   {
    "duration": 0,
    "start_time": "2023-07-25T18:11:45.281Z"
   },
   {
    "duration": 0,
    "start_time": "2023-07-25T18:11:45.282Z"
   },
   {
    "duration": 0,
    "start_time": "2023-07-25T18:11:45.283Z"
   },
   {
    "duration": 0,
    "start_time": "2023-07-25T18:11:45.285Z"
   },
   {
    "duration": 0,
    "start_time": "2023-07-25T18:11:45.286Z"
   },
   {
    "duration": 0,
    "start_time": "2023-07-25T18:11:45.287Z"
   },
   {
    "duration": 0,
    "start_time": "2023-07-25T18:11:45.288Z"
   },
   {
    "duration": 0,
    "start_time": "2023-07-25T18:11:45.290Z"
   },
   {
    "duration": 0,
    "start_time": "2023-07-25T18:11:45.291Z"
   },
   {
    "duration": 0,
    "start_time": "2023-07-25T18:11:45.293Z"
   },
   {
    "duration": 0,
    "start_time": "2023-07-25T18:11:45.294Z"
   },
   {
    "duration": 0,
    "start_time": "2023-07-25T18:11:45.295Z"
   },
   {
    "duration": 0,
    "start_time": "2023-07-25T18:11:45.296Z"
   },
   {
    "duration": 0,
    "start_time": "2023-07-25T18:11:45.297Z"
   },
   {
    "duration": 0,
    "start_time": "2023-07-25T18:11:45.298Z"
   },
   {
    "duration": 0,
    "start_time": "2023-07-25T18:11:45.299Z"
   },
   {
    "duration": 0,
    "start_time": "2023-07-25T18:11:45.300Z"
   },
   {
    "duration": 0,
    "start_time": "2023-07-25T18:11:45.301Z"
   },
   {
    "duration": 0,
    "start_time": "2023-07-25T18:11:45.302Z"
   },
   {
    "duration": 0,
    "start_time": "2023-07-25T18:11:45.303Z"
   },
   {
    "duration": 0,
    "start_time": "2023-07-25T18:11:45.305Z"
   },
   {
    "duration": 0,
    "start_time": "2023-07-25T18:11:45.306Z"
   },
   {
    "duration": 0,
    "start_time": "2023-07-25T18:11:45.307Z"
   },
   {
    "duration": 0,
    "start_time": "2023-07-25T18:11:45.308Z"
   },
   {
    "duration": 0,
    "start_time": "2023-07-25T18:11:45.309Z"
   },
   {
    "duration": 0,
    "start_time": "2023-07-25T18:11:45.311Z"
   },
   {
    "duration": 1,
    "start_time": "2023-07-25T18:11:45.311Z"
   },
   {
    "duration": 0,
    "start_time": "2023-07-25T18:11:45.313Z"
   },
   {
    "duration": 0,
    "start_time": "2023-07-25T18:11:45.376Z"
   },
   {
    "duration": 0,
    "start_time": "2023-07-25T18:11:45.377Z"
   },
   {
    "duration": 0,
    "start_time": "2023-07-25T18:11:45.378Z"
   },
   {
    "duration": 0,
    "start_time": "2023-07-25T18:11:45.380Z"
   },
   {
    "duration": 0,
    "start_time": "2023-07-25T18:11:45.381Z"
   },
   {
    "duration": 0,
    "start_time": "2023-07-25T18:11:45.383Z"
   },
   {
    "duration": 0,
    "start_time": "2023-07-25T18:11:45.384Z"
   },
   {
    "duration": 0,
    "start_time": "2023-07-25T18:11:45.385Z"
   },
   {
    "duration": 0,
    "start_time": "2023-07-25T18:11:45.387Z"
   },
   {
    "duration": 1,
    "start_time": "2023-07-25T18:11:45.388Z"
   },
   {
    "duration": 0,
    "start_time": "2023-07-25T18:11:45.390Z"
   },
   {
    "duration": 0,
    "start_time": "2023-07-25T18:11:45.391Z"
   },
   {
    "duration": 0,
    "start_time": "2023-07-25T18:11:45.393Z"
   },
   {
    "duration": 0,
    "start_time": "2023-07-25T18:11:45.394Z"
   },
   {
    "duration": 0,
    "start_time": "2023-07-25T18:11:45.396Z"
   },
   {
    "duration": 0,
    "start_time": "2023-07-25T18:11:45.397Z"
   },
   {
    "duration": 0,
    "start_time": "2023-07-25T18:11:45.399Z"
   },
   {
    "duration": 0,
    "start_time": "2023-07-25T18:11:45.400Z"
   },
   {
    "duration": 0,
    "start_time": "2023-07-25T18:11:45.401Z"
   },
   {
    "duration": 0,
    "start_time": "2023-07-25T18:11:45.403Z"
   },
   {
    "duration": 0,
    "start_time": "2023-07-25T18:11:45.404Z"
   },
   {
    "duration": 0,
    "start_time": "2023-07-25T18:11:45.406Z"
   },
   {
    "duration": 0,
    "start_time": "2023-07-25T18:11:45.407Z"
   },
   {
    "duration": 0,
    "start_time": "2023-07-25T18:11:45.408Z"
   },
   {
    "duration": 0,
    "start_time": "2023-07-25T18:11:45.409Z"
   },
   {
    "duration": 0,
    "start_time": "2023-07-25T18:11:45.411Z"
   },
   {
    "duration": 0,
    "start_time": "2023-07-25T18:11:45.412Z"
   },
   {
    "duration": 0,
    "start_time": "2023-07-25T18:11:45.414Z"
   },
   {
    "duration": 0,
    "start_time": "2023-07-25T18:11:45.476Z"
   },
   {
    "duration": 0,
    "start_time": "2023-07-25T18:11:45.477Z"
   },
   {
    "duration": 0,
    "start_time": "2023-07-25T18:11:45.479Z"
   },
   {
    "duration": 0,
    "start_time": "2023-07-25T18:11:45.480Z"
   },
   {
    "duration": 0,
    "start_time": "2023-07-25T18:11:45.481Z"
   },
   {
    "duration": 0,
    "start_time": "2023-07-25T18:11:45.483Z"
   },
   {
    "duration": 0,
    "start_time": "2023-07-25T18:11:45.484Z"
   },
   {
    "duration": 17,
    "start_time": "2023-07-25T18:12:36.433Z"
   },
   {
    "duration": 7,
    "start_time": "2023-07-25T18:13:05.219Z"
   },
   {
    "duration": 13,
    "start_time": "2023-07-25T18:17:54.728Z"
   },
   {
    "duration": 16,
    "start_time": "2023-07-25T18:17:58.622Z"
   },
   {
    "duration": 9,
    "start_time": "2023-07-25T18:18:00.511Z"
   },
   {
    "duration": 16,
    "start_time": "2023-07-25T18:18:05.598Z"
   },
   {
    "duration": 14,
    "start_time": "2023-07-25T18:18:08.541Z"
   },
   {
    "duration": 5,
    "start_time": "2023-07-25T18:18:11.618Z"
   },
   {
    "duration": 6,
    "start_time": "2023-07-25T18:20:06.232Z"
   },
   {
    "duration": 13,
    "start_time": "2023-07-25T18:20:07.551Z"
   },
   {
    "duration": 17,
    "start_time": "2023-07-25T18:20:09.256Z"
   },
   {
    "duration": 11,
    "start_time": "2023-07-25T18:20:10.656Z"
   },
   {
    "duration": 16,
    "start_time": "2023-07-25T18:20:11.534Z"
   },
   {
    "duration": 14,
    "start_time": "2023-07-25T18:20:14.493Z"
   },
   {
    "duration": 4,
    "start_time": "2023-07-25T18:20:15.094Z"
   },
   {
    "duration": 5,
    "start_time": "2023-07-25T18:20:56.011Z"
   },
   {
    "duration": 6,
    "start_time": "2023-07-25T18:20:57.358Z"
   },
   {
    "duration": 5,
    "start_time": "2023-07-25T18:20:58.040Z"
   },
   {
    "duration": 11,
    "start_time": "2023-07-25T18:20:59.441Z"
   },
   {
    "duration": 10,
    "start_time": "2023-07-25T18:21:00.295Z"
   },
   {
    "duration": 8,
    "start_time": "2023-07-25T18:21:01.398Z"
   },
   {
    "duration": 4,
    "start_time": "2023-07-25T18:21:02.584Z"
   },
   {
    "duration": 8,
    "start_time": "2023-07-25T18:21:07.135Z"
   },
   {
    "duration": 12,
    "start_time": "2023-07-25T18:21:08.230Z"
   },
   {
    "duration": 5,
    "start_time": "2023-07-25T18:23:07.768Z"
   },
   {
    "duration": 6,
    "start_time": "2023-07-25T18:24:23.464Z"
   },
   {
    "duration": 7,
    "start_time": "2023-07-25T18:25:13.299Z"
   },
   {
    "duration": 7,
    "start_time": "2023-07-25T18:25:19.021Z"
   },
   {
    "duration": 5,
    "start_time": "2023-07-25T18:26:09.564Z"
   },
   {
    "duration": 16,
    "start_time": "2023-07-25T18:26:18.220Z"
   },
   {
    "duration": 6,
    "start_time": "2023-07-25T18:26:19.251Z"
   },
   {
    "duration": 15,
    "start_time": "2023-07-25T18:26:21.218Z"
   },
   {
    "duration": 3,
    "start_time": "2023-07-25T18:26:23.412Z"
   },
   {
    "duration": 3,
    "start_time": "2023-07-25T18:27:17.004Z"
   },
   {
    "duration": 7,
    "start_time": "2023-07-25T18:27:18.525Z"
   },
   {
    "duration": 8,
    "start_time": "2023-07-25T18:27:20.600Z"
   },
   {
    "duration": 10,
    "start_time": "2023-07-25T18:27:44.536Z"
   },
   {
    "duration": 3,
    "start_time": "2023-07-25T18:38:09.092Z"
   },
   {
    "duration": 46,
    "start_time": "2023-07-25T18:39:57.304Z"
   },
   {
    "duration": 17,
    "start_time": "2023-07-25T18:40:20.365Z"
   },
   {
    "duration": 8,
    "start_time": "2023-07-25T18:55:11.889Z"
   },
   {
    "duration": 3,
    "start_time": "2023-07-25T18:56:00.249Z"
   },
   {
    "duration": 4,
    "start_time": "2023-07-25T18:56:45.193Z"
   },
   {
    "duration": 12,
    "start_time": "2023-07-25T18:57:03.234Z"
   },
   {
    "duration": 11,
    "start_time": "2023-07-25T18:57:15.161Z"
   },
   {
    "duration": 3,
    "start_time": "2023-07-25T18:59:54.946Z"
   },
   {
    "duration": 47,
    "start_time": "2023-07-25T18:59:57.123Z"
   },
   {
    "duration": 18,
    "start_time": "2023-07-25T18:59:59.890Z"
   },
   {
    "duration": 15,
    "start_time": "2023-07-25T19:23:21.198Z"
   },
   {
    "duration": 11,
    "start_time": "2023-07-25T19:23:23.091Z"
   },
   {
    "duration": 34,
    "start_time": "2023-07-25T19:24:52.099Z"
   },
   {
    "duration": 12,
    "start_time": "2023-07-25T19:24:52.660Z"
   },
   {
    "duration": 20,
    "start_time": "2023-07-25T19:29:53.799Z"
   },
   {
    "duration": 12,
    "start_time": "2023-07-25T19:30:44.688Z"
   },
   {
    "duration": 10,
    "start_time": "2023-07-25T19:30:57.091Z"
   },
   {
    "duration": 15,
    "start_time": "2023-07-25T19:31:24.787Z"
   },
   {
    "duration": 15,
    "start_time": "2023-07-25T19:32:10.137Z"
   },
   {
    "duration": 17,
    "start_time": "2023-07-25T19:34:36.399Z"
   },
   {
    "duration": 1227,
    "start_time": "2023-07-25T19:34:45.735Z"
   },
   {
    "duration": 30,
    "start_time": "2023-07-25T19:34:46.964Z"
   },
   {
    "duration": 4,
    "start_time": "2023-07-25T19:34:46.995Z"
   },
   {
    "duration": 21,
    "start_time": "2023-07-25T19:34:47.001Z"
   },
   {
    "duration": 27,
    "start_time": "2023-07-25T19:34:47.023Z"
   },
   {
    "duration": 116,
    "start_time": "2023-07-25T19:34:47.052Z"
   },
   {
    "duration": 9,
    "start_time": "2023-07-25T19:34:47.170Z"
   },
   {
    "duration": 117,
    "start_time": "2023-07-25T19:34:47.181Z"
   },
   {
    "duration": 523,
    "start_time": "2023-07-25T19:34:47.299Z"
   },
   {
    "duration": 9,
    "start_time": "2023-07-25T19:34:47.825Z"
   },
   {
    "duration": 88,
    "start_time": "2023-07-25T19:34:47.836Z"
   },
   {
    "duration": 27,
    "start_time": "2023-07-25T19:34:47.926Z"
   },
   {
    "duration": 7,
    "start_time": "2023-07-25T19:34:47.954Z"
   },
   {
    "duration": 29,
    "start_time": "2023-07-25T19:34:47.963Z"
   },
   {
    "duration": 55,
    "start_time": "2023-07-25T19:34:47.994Z"
   },
   {
    "duration": 284,
    "start_time": "2023-07-25T19:34:48.051Z"
   },
   {
    "duration": 10,
    "start_time": "2023-07-25T19:34:48.337Z"
   },
   {
    "duration": 10,
    "start_time": "2023-07-25T19:34:48.349Z"
   },
   {
    "duration": 52,
    "start_time": "2023-07-25T19:34:48.361Z"
   },
   {
    "duration": 12,
    "start_time": "2023-07-25T19:34:48.415Z"
   },
   {
    "duration": 33,
    "start_time": "2023-07-25T19:34:48.429Z"
   },
   {
    "duration": 84,
    "start_time": "2023-07-25T19:34:48.464Z"
   },
   {
    "duration": 51,
    "start_time": "2023-07-25T19:34:48.550Z"
   },
   {
    "duration": 10,
    "start_time": "2023-07-25T19:34:48.605Z"
   },
   {
    "duration": 26,
    "start_time": "2023-07-25T19:34:48.617Z"
   },
   {
    "duration": 15,
    "start_time": "2023-07-25T19:34:48.644Z"
   },
   {
    "duration": 37,
    "start_time": "2023-07-25T19:34:48.660Z"
   },
   {
    "duration": 45,
    "start_time": "2023-07-25T19:34:48.701Z"
   },
   {
    "duration": 65,
    "start_time": "2023-07-25T19:34:48.748Z"
   },
   {
    "duration": 23,
    "start_time": "2023-07-25T19:34:48.814Z"
   },
   {
    "duration": 7,
    "start_time": "2023-07-25T19:34:48.838Z"
   },
   {
    "duration": 32,
    "start_time": "2023-07-25T19:34:48.846Z"
   },
   {
    "duration": 5,
    "start_time": "2023-07-25T19:34:48.880Z"
   },
   {
    "duration": 21,
    "start_time": "2023-07-25T19:34:48.887Z"
   },
   {
    "duration": 36,
    "start_time": "2023-07-25T19:34:48.910Z"
   },
   {
    "duration": 26,
    "start_time": "2023-07-25T19:34:48.948Z"
   },
   {
    "duration": 21,
    "start_time": "2023-07-25T19:34:48.976Z"
   },
   {
    "duration": 16,
    "start_time": "2023-07-25T19:34:48.999Z"
   },
   {
    "duration": 27,
    "start_time": "2023-07-25T19:34:49.017Z"
   },
   {
    "duration": 14,
    "start_time": "2023-07-25T19:34:49.046Z"
   },
   {
    "duration": 21,
    "start_time": "2023-07-25T19:34:49.061Z"
   },
   {
    "duration": 3,
    "start_time": "2023-07-25T19:34:49.084Z"
   },
   {
    "duration": 46,
    "start_time": "2023-07-25T19:34:49.089Z"
   },
   {
    "duration": 18,
    "start_time": "2023-07-25T19:34:49.136Z"
   },
   {
    "duration": 28,
    "start_time": "2023-07-25T19:34:49.156Z"
   },
   {
    "duration": 18,
    "start_time": "2023-07-25T19:34:49.186Z"
   },
   {
    "duration": 30,
    "start_time": "2023-07-25T19:34:49.206Z"
   },
   {
    "duration": 22,
    "start_time": "2023-07-25T19:34:49.238Z"
   },
   {
    "duration": 27,
    "start_time": "2023-07-25T19:34:49.261Z"
   },
   {
    "duration": 38,
    "start_time": "2023-07-25T19:34:49.290Z"
   },
   {
    "duration": 21,
    "start_time": "2023-07-25T19:34:49.329Z"
   },
   {
    "duration": 7,
    "start_time": "2023-07-25T19:34:49.352Z"
   },
   {
    "duration": 26,
    "start_time": "2023-07-25T19:34:49.361Z"
   },
   {
    "duration": 22,
    "start_time": "2023-07-25T19:34:49.388Z"
   },
   {
    "duration": 26,
    "start_time": "2023-07-25T19:34:49.411Z"
   },
   {
    "duration": 22,
    "start_time": "2023-07-25T19:34:49.439Z"
   },
   {
    "duration": 27,
    "start_time": "2023-07-25T19:34:49.462Z"
   },
   {
    "duration": 29,
    "start_time": "2023-07-25T19:34:49.490Z"
   },
   {
    "duration": 31,
    "start_time": "2023-07-25T19:34:49.520Z"
   },
   {
    "duration": 44,
    "start_time": "2023-07-25T19:34:49.553Z"
   },
   {
    "duration": 30,
    "start_time": "2023-07-25T19:34:49.599Z"
   },
   {
    "duration": 24,
    "start_time": "2023-07-25T19:34:49.631Z"
   },
   {
    "duration": 41,
    "start_time": "2023-07-25T19:34:49.657Z"
   },
   {
    "duration": 24,
    "start_time": "2023-07-25T19:34:49.699Z"
   },
   {
    "duration": 23,
    "start_time": "2023-07-25T19:34:49.725Z"
   },
   {
    "duration": 18,
    "start_time": "2023-07-25T19:34:49.750Z"
   },
   {
    "duration": 35,
    "start_time": "2023-07-25T19:34:49.769Z"
   },
   {
    "duration": 15,
    "start_time": "2023-07-25T19:34:49.806Z"
   },
   {
    "duration": 35,
    "start_time": "2023-07-25T19:34:49.823Z"
   },
   {
    "duration": 21,
    "start_time": "2023-07-25T19:34:49.860Z"
   },
   {
    "duration": 23,
    "start_time": "2023-07-25T19:34:49.883Z"
   },
   {
    "duration": 36,
    "start_time": "2023-07-25T19:34:49.907Z"
   },
   {
    "duration": 13,
    "start_time": "2023-07-25T19:34:49.945Z"
   },
   {
    "duration": 36,
    "start_time": "2023-07-25T19:34:49.960Z"
   },
   {
    "duration": 33,
    "start_time": "2023-07-25T19:34:49.998Z"
   },
   {
    "duration": 16,
    "start_time": "2023-07-25T19:34:50.033Z"
   },
   {
    "duration": 31,
    "start_time": "2023-07-25T19:34:50.052Z"
   },
   {
    "duration": 17,
    "start_time": "2023-07-25T19:34:50.085Z"
   },
   {
    "duration": 26,
    "start_time": "2023-07-25T19:34:50.103Z"
   },
   {
    "duration": 62,
    "start_time": "2023-07-25T19:34:50.131Z"
   },
   {
    "duration": 13,
    "start_time": "2023-07-25T19:34:50.195Z"
   },
   {
    "duration": 54,
    "start_time": "2023-07-25T19:34:50.215Z"
   },
   {
    "duration": 16,
    "start_time": "2023-07-25T19:34:50.271Z"
   },
   {
    "duration": 32,
    "start_time": "2023-07-25T19:34:50.289Z"
   },
   {
    "duration": 8,
    "start_time": "2023-07-25T19:34:50.323Z"
   },
   {
    "duration": 28,
    "start_time": "2023-07-25T19:34:50.332Z"
   },
   {
    "duration": 32,
    "start_time": "2023-07-25T19:34:50.362Z"
   },
   {
    "duration": 20,
    "start_time": "2023-07-25T19:34:50.396Z"
   },
   {
    "duration": 5,
    "start_time": "2023-07-25T19:34:50.417Z"
   },
   {
    "duration": 29,
    "start_time": "2023-07-25T19:34:50.423Z"
   },
   {
    "duration": 20,
    "start_time": "2023-07-25T19:34:50.453Z"
   },
   {
    "duration": 25,
    "start_time": "2023-07-25T19:34:50.474Z"
   },
   {
    "duration": 2565,
    "start_time": "2023-07-25T19:34:50.501Z"
   },
   {
    "duration": 0,
    "start_time": "2023-07-25T19:34:53.068Z"
   },
   {
    "duration": 0,
    "start_time": "2023-07-25T19:34:53.069Z"
   },
   {
    "duration": 0,
    "start_time": "2023-07-25T19:34:53.071Z"
   },
   {
    "duration": 0,
    "start_time": "2023-07-25T19:34:53.072Z"
   },
   {
    "duration": 0,
    "start_time": "2023-07-25T19:34:53.073Z"
   },
   {
    "duration": 0,
    "start_time": "2023-07-25T19:34:53.074Z"
   },
   {
    "duration": 0,
    "start_time": "2023-07-25T19:34:53.075Z"
   },
   {
    "duration": 0,
    "start_time": "2023-07-25T19:34:53.076Z"
   },
   {
    "duration": 0,
    "start_time": "2023-07-25T19:34:53.077Z"
   },
   {
    "duration": 0,
    "start_time": "2023-07-25T19:34:53.078Z"
   },
   {
    "duration": 0,
    "start_time": "2023-07-25T19:34:53.079Z"
   },
   {
    "duration": 0,
    "start_time": "2023-07-25T19:34:53.080Z"
   },
   {
    "duration": 0,
    "start_time": "2023-07-25T19:34:53.081Z"
   },
   {
    "duration": 0,
    "start_time": "2023-07-25T19:34:53.082Z"
   },
   {
    "duration": 0,
    "start_time": "2023-07-25T19:34:53.084Z"
   },
   {
    "duration": 0,
    "start_time": "2023-07-25T19:34:53.084Z"
   },
   {
    "duration": 0,
    "start_time": "2023-07-25T19:34:53.086Z"
   },
   {
    "duration": 0,
    "start_time": "2023-07-25T19:34:53.086Z"
   },
   {
    "duration": 0,
    "start_time": "2023-07-25T19:34:53.088Z"
   },
   {
    "duration": 0,
    "start_time": "2023-07-25T19:34:53.089Z"
   },
   {
    "duration": 0,
    "start_time": "2023-07-25T19:34:53.090Z"
   },
   {
    "duration": 0,
    "start_time": "2023-07-25T19:34:53.091Z"
   },
   {
    "duration": 0,
    "start_time": "2023-07-25T19:34:53.094Z"
   },
   {
    "duration": 0,
    "start_time": "2023-07-25T19:34:53.095Z"
   },
   {
    "duration": 0,
    "start_time": "2023-07-25T19:34:53.096Z"
   },
   {
    "duration": 1,
    "start_time": "2023-07-25T19:34:53.097Z"
   },
   {
    "duration": 0,
    "start_time": "2023-07-25T19:34:53.098Z"
   },
   {
    "duration": 0,
    "start_time": "2023-07-25T19:34:53.099Z"
   },
   {
    "duration": 0,
    "start_time": "2023-07-25T19:34:53.100Z"
   },
   {
    "duration": 0,
    "start_time": "2023-07-25T19:34:53.101Z"
   },
   {
    "duration": 0,
    "start_time": "2023-07-25T19:34:53.102Z"
   },
   {
    "duration": 0,
    "start_time": "2023-07-25T19:34:53.103Z"
   },
   {
    "duration": 0,
    "start_time": "2023-07-25T19:34:53.104Z"
   },
   {
    "duration": 0,
    "start_time": "2023-07-25T19:34:53.105Z"
   },
   {
    "duration": 0,
    "start_time": "2023-07-25T19:34:53.106Z"
   },
   {
    "duration": 0,
    "start_time": "2023-07-25T19:34:53.107Z"
   },
   {
    "duration": 0,
    "start_time": "2023-07-25T19:34:53.108Z"
   },
   {
    "duration": 0,
    "start_time": "2023-07-25T19:34:53.109Z"
   },
   {
    "duration": 0,
    "start_time": "2023-07-25T19:34:53.110Z"
   },
   {
    "duration": 0,
    "start_time": "2023-07-25T19:34:53.111Z"
   },
   {
    "duration": 0,
    "start_time": "2023-07-25T19:34:53.112Z"
   },
   {
    "duration": 0,
    "start_time": "2023-07-25T19:34:53.113Z"
   },
   {
    "duration": 0,
    "start_time": "2023-07-25T19:34:53.174Z"
   },
   {
    "duration": 0,
    "start_time": "2023-07-25T19:34:53.176Z"
   },
   {
    "duration": 0,
    "start_time": "2023-07-25T19:34:53.177Z"
   },
   {
    "duration": 0,
    "start_time": "2023-07-25T19:34:53.178Z"
   },
   {
    "duration": 0,
    "start_time": "2023-07-25T19:34:53.179Z"
   },
   {
    "duration": 0,
    "start_time": "2023-07-25T19:34:53.180Z"
   },
   {
    "duration": 0,
    "start_time": "2023-07-25T19:34:53.181Z"
   },
   {
    "duration": 0,
    "start_time": "2023-07-25T19:34:53.183Z"
   },
   {
    "duration": 0,
    "start_time": "2023-07-25T19:34:53.184Z"
   },
   {
    "duration": 0,
    "start_time": "2023-07-25T19:34:53.186Z"
   },
   {
    "duration": 0,
    "start_time": "2023-07-25T19:34:53.187Z"
   },
   {
    "duration": 13,
    "start_time": "2023-07-25T19:36:03.895Z"
   },
   {
    "duration": 6,
    "start_time": "2023-07-25T19:36:37.945Z"
   },
   {
    "duration": 12,
    "start_time": "2023-07-25T19:36:40.103Z"
   },
   {
    "duration": 1559,
    "start_time": "2023-07-25T19:36:51.554Z"
   },
   {
    "duration": 1227,
    "start_time": "2023-07-25T19:37:12.495Z"
   },
   {
    "duration": 29,
    "start_time": "2023-07-25T19:37:13.724Z"
   },
   {
    "duration": 4,
    "start_time": "2023-07-25T19:37:13.755Z"
   },
   {
    "duration": 19,
    "start_time": "2023-07-25T19:37:13.761Z"
   },
   {
    "duration": 13,
    "start_time": "2023-07-25T19:37:13.782Z"
   },
   {
    "duration": 89,
    "start_time": "2023-07-25T19:37:13.797Z"
   },
   {
    "duration": 10,
    "start_time": "2023-07-25T19:37:13.888Z"
   },
   {
    "duration": 44,
    "start_time": "2023-07-25T19:37:13.900Z"
   },
   {
    "duration": 480,
    "start_time": "2023-07-25T19:37:13.945Z"
   },
   {
    "duration": 9,
    "start_time": "2023-07-25T19:37:14.428Z"
   },
   {
    "duration": 86,
    "start_time": "2023-07-25T19:37:14.438Z"
   },
   {
    "duration": 26,
    "start_time": "2023-07-25T19:37:14.526Z"
   },
   {
    "duration": 11,
    "start_time": "2023-07-25T19:37:14.554Z"
   },
   {
    "duration": 30,
    "start_time": "2023-07-25T19:37:14.567Z"
   },
   {
    "duration": 53,
    "start_time": "2023-07-25T19:37:14.599Z"
   },
   {
    "duration": 278,
    "start_time": "2023-07-25T19:37:14.654Z"
   },
   {
    "duration": 9,
    "start_time": "2023-07-25T19:37:14.934Z"
   },
   {
    "duration": 32,
    "start_time": "2023-07-25T19:37:14.944Z"
   },
   {
    "duration": 68,
    "start_time": "2023-07-25T19:37:14.977Z"
   },
   {
    "duration": 47,
    "start_time": "2023-07-25T19:37:15.046Z"
   },
   {
    "duration": 34,
    "start_time": "2023-07-25T19:37:15.094Z"
   },
   {
    "duration": 98,
    "start_time": "2023-07-25T19:37:15.130Z"
   },
   {
    "duration": 67,
    "start_time": "2023-07-25T19:37:15.234Z"
   },
   {
    "duration": 9,
    "start_time": "2023-07-25T19:37:15.303Z"
   },
   {
    "duration": 12,
    "start_time": "2023-07-25T19:37:15.313Z"
   },
   {
    "duration": 14,
    "start_time": "2023-07-25T19:37:15.326Z"
   },
   {
    "duration": 14,
    "start_time": "2023-07-25T19:37:15.342Z"
   },
   {
    "duration": 42,
    "start_time": "2023-07-25T19:37:15.360Z"
   },
   {
    "duration": 58,
    "start_time": "2023-07-25T19:37:15.404Z"
   },
   {
    "duration": 26,
    "start_time": "2023-07-25T19:37:15.464Z"
   },
   {
    "duration": 19,
    "start_time": "2023-07-25T19:37:15.492Z"
   },
   {
    "duration": 9,
    "start_time": "2023-07-25T19:37:15.513Z"
   },
   {
    "duration": 5,
    "start_time": "2023-07-25T19:37:15.524Z"
   },
   {
    "duration": 9,
    "start_time": "2023-07-25T19:37:15.531Z"
   },
   {
    "duration": 7,
    "start_time": "2023-07-25T19:37:15.542Z"
   },
   {
    "duration": 29,
    "start_time": "2023-07-25T19:37:15.550Z"
   },
   {
    "duration": 9,
    "start_time": "2023-07-25T19:37:15.580Z"
   },
   {
    "duration": 5,
    "start_time": "2023-07-25T19:37:15.591Z"
   },
   {
    "duration": 10,
    "start_time": "2023-07-25T19:37:15.597Z"
   },
   {
    "duration": 8,
    "start_time": "2023-07-25T19:37:15.609Z"
   },
   {
    "duration": 19,
    "start_time": "2023-07-25T19:37:15.618Z"
   },
   {
    "duration": 5,
    "start_time": "2023-07-25T19:37:15.639Z"
   },
   {
    "duration": 54,
    "start_time": "2023-07-25T19:37:15.645Z"
   },
   {
    "duration": 9,
    "start_time": "2023-07-25T19:37:15.700Z"
   },
   {
    "duration": 6,
    "start_time": "2023-07-25T19:37:15.711Z"
   },
   {
    "duration": 14,
    "start_time": "2023-07-25T19:37:15.719Z"
   },
   {
    "duration": 13,
    "start_time": "2023-07-25T19:37:15.735Z"
   },
   {
    "duration": 32,
    "start_time": "2023-07-25T19:37:15.750Z"
   },
   {
    "duration": 9,
    "start_time": "2023-07-25T19:37:15.784Z"
   },
   {
    "duration": 16,
    "start_time": "2023-07-25T19:37:15.795Z"
   },
   {
    "duration": 14,
    "start_time": "2023-07-25T19:37:15.813Z"
   },
   {
    "duration": 4,
    "start_time": "2023-07-25T19:37:15.829Z"
   },
   {
    "duration": 9,
    "start_time": "2023-07-25T19:37:15.835Z"
   },
   {
    "duration": 7,
    "start_time": "2023-07-25T19:37:15.875Z"
   },
   {
    "duration": 12,
    "start_time": "2023-07-25T19:37:15.884Z"
   },
   {
    "duration": 13,
    "start_time": "2023-07-25T19:37:15.898Z"
   },
   {
    "duration": 45,
    "start_time": "2023-07-25T19:37:15.912Z"
   },
   {
    "duration": 10,
    "start_time": "2023-07-25T19:37:15.959Z"
   },
   {
    "duration": 6,
    "start_time": "2023-07-25T19:37:15.970Z"
   },
   {
    "duration": 8,
    "start_time": "2023-07-25T19:37:15.977Z"
   },
   {
    "duration": 12,
    "start_time": "2023-07-25T19:37:15.987Z"
   },
   {
    "duration": 6,
    "start_time": "2023-07-25T19:37:16.000Z"
   },
   {
    "duration": 8,
    "start_time": "2023-07-25T19:37:16.008Z"
   },
   {
    "duration": 9,
    "start_time": "2023-07-25T19:37:16.017Z"
   },
   {
    "duration": 14,
    "start_time": "2023-07-25T19:37:16.027Z"
   },
   {
    "duration": 8,
    "start_time": "2023-07-25T19:37:16.043Z"
   },
   {
    "duration": 33,
    "start_time": "2023-07-25T19:37:16.053Z"
   },
   {
    "duration": 6,
    "start_time": "2023-07-25T19:37:16.088Z"
   },
   {
    "duration": 13,
    "start_time": "2023-07-25T19:37:16.096Z"
   },
   {
    "duration": 6,
    "start_time": "2023-07-25T19:37:16.111Z"
   },
   {
    "duration": 11,
    "start_time": "2023-07-25T19:37:16.118Z"
   },
   {
    "duration": 10,
    "start_time": "2023-07-25T19:37:16.130Z"
   },
   {
    "duration": 12,
    "start_time": "2023-07-25T19:37:16.142Z"
   },
   {
    "duration": 24,
    "start_time": "2023-07-25T19:37:16.156Z"
   },
   {
    "duration": 11,
    "start_time": "2023-07-25T19:37:16.182Z"
   },
   {
    "duration": 3,
    "start_time": "2023-07-25T19:37:16.195Z"
   },
   {
    "duration": 13,
    "start_time": "2023-07-25T19:37:16.200Z"
   },
   {
    "duration": 9,
    "start_time": "2023-07-25T19:37:16.215Z"
   },
   {
    "duration": 8,
    "start_time": "2023-07-25T19:37:16.225Z"
   },
   {
    "duration": 61,
    "start_time": "2023-07-25T19:37:16.234Z"
   },
   {
    "duration": 16,
    "start_time": "2023-07-25T19:37:16.297Z"
   },
   {
    "duration": 34,
    "start_time": "2023-07-25T19:37:16.322Z"
   },
   {
    "duration": 11,
    "start_time": "2023-07-25T19:37:16.375Z"
   },
   {
    "duration": 19,
    "start_time": "2023-07-25T19:37:16.388Z"
   },
   {
    "duration": 8,
    "start_time": "2023-07-25T19:37:16.409Z"
   },
   {
    "duration": 11,
    "start_time": "2023-07-25T19:37:16.419Z"
   },
   {
    "duration": 25,
    "start_time": "2023-07-25T19:37:16.432Z"
   },
   {
    "duration": 5,
    "start_time": "2023-07-25T19:37:16.474Z"
   },
   {
    "duration": 14,
    "start_time": "2023-07-25T19:37:16.480Z"
   },
   {
    "duration": 17,
    "start_time": "2023-07-25T19:37:16.495Z"
   },
   {
    "duration": 7,
    "start_time": "2023-07-25T19:37:16.513Z"
   },
   {
    "duration": 11,
    "start_time": "2023-07-25T19:37:16.522Z"
   },
   {
    "duration": 1807,
    "start_time": "2023-07-25T19:37:16.534Z"
   },
   {
    "duration": 0,
    "start_time": "2023-07-25T19:37:18.343Z"
   },
   {
    "duration": 0,
    "start_time": "2023-07-25T19:37:18.345Z"
   },
   {
    "duration": 0,
    "start_time": "2023-07-25T19:37:18.346Z"
   },
   {
    "duration": 0,
    "start_time": "2023-07-25T19:37:18.348Z"
   },
   {
    "duration": 0,
    "start_time": "2023-07-25T19:37:18.350Z"
   },
   {
    "duration": 0,
    "start_time": "2023-07-25T19:37:18.351Z"
   },
   {
    "duration": 0,
    "start_time": "2023-07-25T19:37:18.352Z"
   },
   {
    "duration": 0,
    "start_time": "2023-07-25T19:37:18.354Z"
   },
   {
    "duration": 0,
    "start_time": "2023-07-25T19:37:18.355Z"
   },
   {
    "duration": 0,
    "start_time": "2023-07-25T19:37:18.357Z"
   },
   {
    "duration": 0,
    "start_time": "2023-07-25T19:37:18.358Z"
   },
   {
    "duration": 0,
    "start_time": "2023-07-25T19:37:18.359Z"
   },
   {
    "duration": 0,
    "start_time": "2023-07-25T19:37:18.361Z"
   },
   {
    "duration": 0,
    "start_time": "2023-07-25T19:37:18.362Z"
   },
   {
    "duration": 0,
    "start_time": "2023-07-25T19:37:18.364Z"
   },
   {
    "duration": 0,
    "start_time": "2023-07-25T19:37:18.365Z"
   },
   {
    "duration": 0,
    "start_time": "2023-07-25T19:37:18.367Z"
   },
   {
    "duration": 0,
    "start_time": "2023-07-25T19:37:18.368Z"
   },
   {
    "duration": 0,
    "start_time": "2023-07-25T19:37:18.369Z"
   },
   {
    "duration": 0,
    "start_time": "2023-07-25T19:37:18.371Z"
   },
   {
    "duration": 0,
    "start_time": "2023-07-25T19:37:18.372Z"
   },
   {
    "duration": 0,
    "start_time": "2023-07-25T19:37:18.374Z"
   },
   {
    "duration": 0,
    "start_time": "2023-07-25T19:37:18.375Z"
   },
   {
    "duration": 0,
    "start_time": "2023-07-25T19:37:18.378Z"
   },
   {
    "duration": 0,
    "start_time": "2023-07-25T19:37:18.379Z"
   },
   {
    "duration": 0,
    "start_time": "2023-07-25T19:37:18.381Z"
   },
   {
    "duration": 1,
    "start_time": "2023-07-25T19:37:18.381Z"
   },
   {
    "duration": 0,
    "start_time": "2023-07-25T19:37:18.383Z"
   },
   {
    "duration": 0,
    "start_time": "2023-07-25T19:37:18.384Z"
   },
   {
    "duration": 0,
    "start_time": "2023-07-25T19:37:18.385Z"
   },
   {
    "duration": 0,
    "start_time": "2023-07-25T19:37:18.386Z"
   },
   {
    "duration": 0,
    "start_time": "2023-07-25T19:37:18.387Z"
   },
   {
    "duration": 0,
    "start_time": "2023-07-25T19:37:18.388Z"
   },
   {
    "duration": 0,
    "start_time": "2023-07-25T19:37:18.388Z"
   },
   {
    "duration": 0,
    "start_time": "2023-07-25T19:37:18.389Z"
   },
   {
    "duration": 0,
    "start_time": "2023-07-25T19:37:18.390Z"
   },
   {
    "duration": 0,
    "start_time": "2023-07-25T19:37:18.391Z"
   },
   {
    "duration": 0,
    "start_time": "2023-07-25T19:37:18.392Z"
   },
   {
    "duration": 0,
    "start_time": "2023-07-25T19:37:18.393Z"
   },
   {
    "duration": 0,
    "start_time": "2023-07-25T19:37:18.394Z"
   },
   {
    "duration": 0,
    "start_time": "2023-07-25T19:37:18.395Z"
   },
   {
    "duration": 0,
    "start_time": "2023-07-25T19:37:18.396Z"
   },
   {
    "duration": 0,
    "start_time": "2023-07-25T19:37:18.397Z"
   },
   {
    "duration": 0,
    "start_time": "2023-07-25T19:37:18.398Z"
   },
   {
    "duration": 0,
    "start_time": "2023-07-25T19:37:18.399Z"
   },
   {
    "duration": 0,
    "start_time": "2023-07-25T19:37:18.400Z"
   },
   {
    "duration": 0,
    "start_time": "2023-07-25T19:37:18.400Z"
   },
   {
    "duration": 0,
    "start_time": "2023-07-25T19:37:18.401Z"
   },
   {
    "duration": 0,
    "start_time": "2023-07-25T19:37:18.402Z"
   },
   {
    "duration": 0,
    "start_time": "2023-07-25T19:37:18.403Z"
   },
   {
    "duration": 0,
    "start_time": "2023-07-25T19:37:18.404Z"
   },
   {
    "duration": 0,
    "start_time": "2023-07-25T19:37:18.405Z"
   },
   {
    "duration": 0,
    "start_time": "2023-07-25T19:37:18.406Z"
   },
   {
    "duration": 9,
    "start_time": "2023-07-25T19:47:53.205Z"
   },
   {
    "duration": 11,
    "start_time": "2023-07-25T19:47:54.603Z"
   },
   {
    "duration": 7,
    "start_time": "2023-07-25T19:48:07.053Z"
   },
   {
    "duration": 13,
    "start_time": "2023-07-25T19:48:09.714Z"
   },
   {
    "duration": 12,
    "start_time": "2023-07-25T19:49:18.726Z"
   },
   {
    "duration": 5,
    "start_time": "2023-07-25T19:52:05.796Z"
   },
   {
    "duration": 1314,
    "start_time": "2023-07-25T20:02:15.717Z"
   },
   {
    "duration": 29,
    "start_time": "2023-07-25T20:02:17.033Z"
   },
   {
    "duration": 3,
    "start_time": "2023-07-25T20:02:17.064Z"
   },
   {
    "duration": 20,
    "start_time": "2023-07-25T20:02:17.070Z"
   },
   {
    "duration": 10,
    "start_time": "2023-07-25T20:02:17.092Z"
   },
   {
    "duration": 74,
    "start_time": "2023-07-25T20:02:17.104Z"
   },
   {
    "duration": 8,
    "start_time": "2023-07-25T20:02:17.180Z"
   },
   {
    "duration": 23,
    "start_time": "2023-07-25T20:02:17.190Z"
   },
   {
    "duration": 491,
    "start_time": "2023-07-25T20:02:17.215Z"
   },
   {
    "duration": 9,
    "start_time": "2023-07-25T20:02:17.710Z"
   },
   {
    "duration": 83,
    "start_time": "2023-07-25T20:02:17.721Z"
   },
   {
    "duration": 27,
    "start_time": "2023-07-25T20:02:17.805Z"
   },
   {
    "duration": 7,
    "start_time": "2023-07-25T20:02:17.834Z"
   },
   {
    "duration": 14,
    "start_time": "2023-07-25T20:02:17.843Z"
   },
   {
    "duration": 41,
    "start_time": "2023-07-25T20:02:17.859Z"
   },
   {
    "duration": 302,
    "start_time": "2023-07-25T20:02:17.902Z"
   },
   {
    "duration": 10,
    "start_time": "2023-07-25T20:02:18.206Z"
   },
   {
    "duration": 21,
    "start_time": "2023-07-25T20:02:18.217Z"
   },
   {
    "duration": 39,
    "start_time": "2023-07-25T20:02:18.240Z"
   },
   {
    "duration": 11,
    "start_time": "2023-07-25T20:02:18.281Z"
   },
   {
    "duration": 17,
    "start_time": "2023-07-25T20:02:18.294Z"
   },
   {
    "duration": 90,
    "start_time": "2023-07-25T20:02:18.312Z"
   },
   {
    "duration": 45,
    "start_time": "2023-07-25T20:02:18.404Z"
   },
   {
    "duration": 8,
    "start_time": "2023-07-25T20:02:18.451Z"
   },
   {
    "duration": 5,
    "start_time": "2023-07-25T20:02:18.476Z"
   },
   {
    "duration": 65,
    "start_time": "2023-07-25T20:02:18.483Z"
   },
   {
    "duration": 28,
    "start_time": "2023-07-25T20:02:18.549Z"
   },
   {
    "duration": 44,
    "start_time": "2023-07-25T20:02:18.581Z"
   },
   {
    "duration": 91,
    "start_time": "2023-07-25T20:02:18.627Z"
   },
   {
    "duration": 24,
    "start_time": "2023-07-25T20:02:18.720Z"
   },
   {
    "duration": 8,
    "start_time": "2023-07-25T20:02:18.746Z"
   },
   {
    "duration": 25,
    "start_time": "2023-07-25T20:02:18.756Z"
   },
   {
    "duration": 8,
    "start_time": "2023-07-25T20:02:18.783Z"
   },
   {
    "duration": 9,
    "start_time": "2023-07-25T20:02:18.792Z"
   },
   {
    "duration": 9,
    "start_time": "2023-07-25T20:02:18.803Z"
   },
   {
    "duration": 12,
    "start_time": "2023-07-25T20:02:18.814Z"
   },
   {
    "duration": 9,
    "start_time": "2023-07-25T20:02:18.827Z"
   },
   {
    "duration": 17,
    "start_time": "2023-07-25T20:02:18.838Z"
   },
   {
    "duration": 20,
    "start_time": "2023-07-25T20:02:18.856Z"
   },
   {
    "duration": 3,
    "start_time": "2023-07-25T20:02:18.877Z"
   },
   {
    "duration": 16,
    "start_time": "2023-07-25T20:02:18.882Z"
   },
   {
    "duration": 4,
    "start_time": "2023-07-25T20:02:18.900Z"
   },
   {
    "duration": 36,
    "start_time": "2023-07-25T20:02:18.906Z"
   },
   {
    "duration": 8,
    "start_time": "2023-07-25T20:02:18.944Z"
   },
   {
    "duration": 26,
    "start_time": "2023-07-25T20:02:18.954Z"
   },
   {
    "duration": 14,
    "start_time": "2023-07-25T20:02:18.982Z"
   },
   {
    "duration": 24,
    "start_time": "2023-07-25T20:02:18.997Z"
   },
   {
    "duration": 28,
    "start_time": "2023-07-25T20:02:19.023Z"
   },
   {
    "duration": 9,
    "start_time": "2023-07-25T20:02:19.053Z"
   },
   {
    "duration": 18,
    "start_time": "2023-07-25T20:02:19.063Z"
   },
   {
    "duration": 14,
    "start_time": "2023-07-25T20:02:19.083Z"
   },
   {
    "duration": 3,
    "start_time": "2023-07-25T20:02:19.099Z"
   },
   {
    "duration": 7,
    "start_time": "2023-07-25T20:02:19.104Z"
   },
   {
    "duration": 10,
    "start_time": "2023-07-25T20:02:19.113Z"
   },
   {
    "duration": 14,
    "start_time": "2023-07-25T20:02:19.124Z"
   },
   {
    "duration": 19,
    "start_time": "2023-07-25T20:02:19.139Z"
   },
   {
    "duration": 22,
    "start_time": "2023-07-25T20:02:19.159Z"
   },
   {
    "duration": 8,
    "start_time": "2023-07-25T20:02:19.182Z"
   },
   {
    "duration": 6,
    "start_time": "2023-07-25T20:02:19.192Z"
   },
   {
    "duration": 25,
    "start_time": "2023-07-25T20:02:19.200Z"
   },
   {
    "duration": 11,
    "start_time": "2023-07-25T20:02:19.227Z"
   },
   {
    "duration": 10,
    "start_time": "2023-07-25T20:02:19.240Z"
   },
   {
    "duration": 13,
    "start_time": "2023-07-25T20:02:19.252Z"
   },
   {
    "duration": 27,
    "start_time": "2023-07-25T20:02:19.266Z"
   },
   {
    "duration": 12,
    "start_time": "2023-07-25T20:02:19.295Z"
   },
   {
    "duration": 13,
    "start_time": "2023-07-25T20:02:19.309Z"
   },
   {
    "duration": 23,
    "start_time": "2023-07-25T20:02:19.323Z"
   },
   {
    "duration": 5,
    "start_time": "2023-07-25T20:02:19.348Z"
   },
   {
    "duration": 14,
    "start_time": "2023-07-25T20:02:19.355Z"
   },
   {
    "duration": 6,
    "start_time": "2023-07-25T20:02:19.371Z"
   },
   {
    "duration": 9,
    "start_time": "2023-07-25T20:02:19.378Z"
   },
   {
    "duration": 10,
    "start_time": "2023-07-25T20:02:19.389Z"
   },
   {
    "duration": 19,
    "start_time": "2023-07-25T20:02:19.401Z"
   },
   {
    "duration": 16,
    "start_time": "2023-07-25T20:02:19.422Z"
   },
   {
    "duration": 14,
    "start_time": "2023-07-25T20:02:19.439Z"
   },
   {
    "duration": 9,
    "start_time": "2023-07-25T20:02:19.455Z"
   },
   {
    "duration": 22,
    "start_time": "2023-07-25T20:02:19.465Z"
   },
   {
    "duration": 10,
    "start_time": "2023-07-25T20:02:19.489Z"
   },
   {
    "duration": 9,
    "start_time": "2023-07-25T20:02:19.501Z"
   },
   {
    "duration": 48,
    "start_time": "2023-07-25T20:02:19.512Z"
   },
   {
    "duration": 21,
    "start_time": "2023-07-25T20:02:19.562Z"
   },
   {
    "duration": 33,
    "start_time": "2023-07-25T20:02:19.590Z"
   },
   {
    "duration": 13,
    "start_time": "2023-07-25T20:02:19.625Z"
   },
   {
    "duration": 45,
    "start_time": "2023-07-25T20:02:19.640Z"
   },
   {
    "duration": 18,
    "start_time": "2023-07-25T20:02:19.687Z"
   },
   {
    "duration": 35,
    "start_time": "2023-07-25T20:02:19.707Z"
   },
   {
    "duration": 36,
    "start_time": "2023-07-25T20:02:19.744Z"
   },
   {
    "duration": 5,
    "start_time": "2023-07-25T20:02:19.782Z"
   },
   {
    "duration": 14,
    "start_time": "2023-07-25T20:02:19.789Z"
   },
   {
    "duration": 19,
    "start_time": "2023-07-25T20:02:19.805Z"
   },
   {
    "duration": 9,
    "start_time": "2023-07-25T20:02:19.827Z"
   },
   {
    "duration": 23,
    "start_time": "2023-07-25T20:02:19.837Z"
   },
   {
    "duration": 20,
    "start_time": "2023-07-25T20:02:19.862Z"
   },
   {
    "duration": 23,
    "start_time": "2023-07-25T20:02:19.883Z"
   },
   {
    "duration": 126,
    "start_time": "2023-07-25T20:02:19.908Z"
   },
   {
    "duration": 0,
    "start_time": "2023-07-25T20:02:20.036Z"
   },
   {
    "duration": 0,
    "start_time": "2023-07-25T20:02:20.038Z"
   },
   {
    "duration": 0,
    "start_time": "2023-07-25T20:02:20.039Z"
   },
   {
    "duration": 0,
    "start_time": "2023-07-25T20:02:20.040Z"
   },
   {
    "duration": 0,
    "start_time": "2023-07-25T20:02:20.041Z"
   },
   {
    "duration": 0,
    "start_time": "2023-07-25T20:02:20.042Z"
   },
   {
    "duration": 0,
    "start_time": "2023-07-25T20:02:20.043Z"
   },
   {
    "duration": 0,
    "start_time": "2023-07-25T20:02:20.044Z"
   },
   {
    "duration": 0,
    "start_time": "2023-07-25T20:02:20.045Z"
   },
   {
    "duration": 0,
    "start_time": "2023-07-25T20:02:20.046Z"
   },
   {
    "duration": 1,
    "start_time": "2023-07-25T20:02:20.047Z"
   },
   {
    "duration": 0,
    "start_time": "2023-07-25T20:02:20.048Z"
   },
   {
    "duration": 0,
    "start_time": "2023-07-25T20:02:20.049Z"
   },
   {
    "duration": 0,
    "start_time": "2023-07-25T20:02:20.050Z"
   },
   {
    "duration": 0,
    "start_time": "2023-07-25T20:02:20.075Z"
   },
   {
    "duration": 0,
    "start_time": "2023-07-25T20:02:20.076Z"
   },
   {
    "duration": 0,
    "start_time": "2023-07-25T20:02:20.078Z"
   },
   {
    "duration": 0,
    "start_time": "2023-07-25T20:02:20.079Z"
   },
   {
    "duration": 0,
    "start_time": "2023-07-25T20:02:20.080Z"
   },
   {
    "duration": 0,
    "start_time": "2023-07-25T20:02:20.080Z"
   },
   {
    "duration": 0,
    "start_time": "2023-07-25T20:02:20.082Z"
   },
   {
    "duration": 0,
    "start_time": "2023-07-25T20:02:20.083Z"
   },
   {
    "duration": 0,
    "start_time": "2023-07-25T20:02:20.084Z"
   },
   {
    "duration": 0,
    "start_time": "2023-07-25T20:02:20.085Z"
   },
   {
    "duration": 0,
    "start_time": "2023-07-25T20:02:20.086Z"
   },
   {
    "duration": 0,
    "start_time": "2023-07-25T20:02:20.087Z"
   },
   {
    "duration": 0,
    "start_time": "2023-07-25T20:02:20.088Z"
   },
   {
    "duration": 0,
    "start_time": "2023-07-25T20:02:20.089Z"
   },
   {
    "duration": 0,
    "start_time": "2023-07-25T20:02:20.089Z"
   },
   {
    "duration": 0,
    "start_time": "2023-07-25T20:02:20.090Z"
   },
   {
    "duration": 0,
    "start_time": "2023-07-25T20:02:20.092Z"
   },
   {
    "duration": 0,
    "start_time": "2023-07-25T20:02:20.093Z"
   },
   {
    "duration": 0,
    "start_time": "2023-07-25T20:02:20.094Z"
   },
   {
    "duration": 0,
    "start_time": "2023-07-25T20:02:20.095Z"
   },
   {
    "duration": 0,
    "start_time": "2023-07-25T20:02:20.095Z"
   },
   {
    "duration": 0,
    "start_time": "2023-07-25T20:02:20.096Z"
   },
   {
    "duration": 0,
    "start_time": "2023-07-25T20:02:20.097Z"
   },
   {
    "duration": 0,
    "start_time": "2023-07-25T20:02:20.098Z"
   },
   {
    "duration": 0,
    "start_time": "2023-07-25T20:02:20.099Z"
   },
   {
    "duration": 0,
    "start_time": "2023-07-25T20:02:20.099Z"
   },
   {
    "duration": 0,
    "start_time": "2023-07-25T20:02:20.100Z"
   },
   {
    "duration": 0,
    "start_time": "2023-07-25T20:02:20.101Z"
   },
   {
    "duration": 0,
    "start_time": "2023-07-25T20:02:20.102Z"
   },
   {
    "duration": 0,
    "start_time": "2023-07-25T20:02:20.103Z"
   },
   {
    "duration": 0,
    "start_time": "2023-07-25T20:02:20.104Z"
   },
   {
    "duration": 0,
    "start_time": "2023-07-25T20:02:20.106Z"
   },
   {
    "duration": 0,
    "start_time": "2023-07-25T20:02:20.107Z"
   },
   {
    "duration": 0,
    "start_time": "2023-07-25T20:02:20.108Z"
   },
   {
    "duration": 0,
    "start_time": "2023-07-25T20:02:20.109Z"
   },
   {
    "duration": 0,
    "start_time": "2023-07-25T20:02:20.110Z"
   },
   {
    "duration": 0,
    "start_time": "2023-07-25T20:02:20.111Z"
   },
   {
    "duration": 251,
    "start_time": "2023-07-25T20:06:42.628Z"
   },
   {
    "duration": 1413,
    "start_time": "2023-07-26T04:51:19.626Z"
   },
   {
    "duration": 69,
    "start_time": "2023-07-26T04:51:21.041Z"
   },
   {
    "duration": 4,
    "start_time": "2023-07-26T04:51:21.111Z"
   },
   {
    "duration": 24,
    "start_time": "2023-07-26T04:51:21.116Z"
   },
   {
    "duration": 25,
    "start_time": "2023-07-26T04:51:21.141Z"
   },
   {
    "duration": 249,
    "start_time": "2023-07-26T04:51:21.168Z"
   },
   {
    "duration": 7,
    "start_time": "2023-07-26T04:51:21.419Z"
   },
   {
    "duration": 19,
    "start_time": "2023-07-26T04:51:21.428Z"
   },
   {
    "duration": 1529,
    "start_time": "2023-07-26T04:51:21.448Z"
   },
   {
    "duration": 10,
    "start_time": "2023-07-26T04:51:22.978Z"
   },
   {
    "duration": 57,
    "start_time": "2023-07-26T04:51:22.989Z"
   },
   {
    "duration": 112,
    "start_time": "2023-07-26T04:51:23.047Z"
   },
   {
    "duration": 7,
    "start_time": "2023-07-26T04:51:23.161Z"
   },
   {
    "duration": 18,
    "start_time": "2023-07-26T04:51:23.171Z"
   },
   {
    "duration": 53,
    "start_time": "2023-07-26T04:51:23.191Z"
   },
   {
    "duration": 274,
    "start_time": "2023-07-26T04:51:23.246Z"
   },
   {
    "duration": 9,
    "start_time": "2023-07-26T04:51:23.521Z"
   },
   {
    "duration": 4,
    "start_time": "2023-07-26T04:51:23.532Z"
   },
   {
    "duration": 62,
    "start_time": "2023-07-26T04:51:23.538Z"
   },
   {
    "duration": 11,
    "start_time": "2023-07-26T04:51:23.602Z"
   },
   {
    "duration": 16,
    "start_time": "2023-07-26T04:51:23.614Z"
   },
   {
    "duration": 91,
    "start_time": "2023-07-26T04:51:23.631Z"
   },
   {
    "duration": 53,
    "start_time": "2023-07-26T04:51:23.724Z"
   },
   {
    "duration": 9,
    "start_time": "2023-07-26T04:51:23.779Z"
   },
   {
    "duration": 7,
    "start_time": "2023-07-26T04:51:23.789Z"
   },
   {
    "duration": 5,
    "start_time": "2023-07-26T04:51:23.797Z"
   },
   {
    "duration": 12,
    "start_time": "2023-07-26T04:51:23.803Z"
   },
   {
    "duration": 43,
    "start_time": "2023-07-26T04:51:23.816Z"
   },
   {
    "duration": 49,
    "start_time": "2023-07-26T04:51:23.861Z"
   },
   {
    "duration": 22,
    "start_time": "2023-07-26T04:51:23.912Z"
   },
   {
    "duration": 24,
    "start_time": "2023-07-26T04:51:23.936Z"
   },
   {
    "duration": 7,
    "start_time": "2023-07-26T04:51:23.962Z"
   },
   {
    "duration": 5,
    "start_time": "2023-07-26T04:51:23.970Z"
   },
   {
    "duration": 8,
    "start_time": "2023-07-26T04:51:23.976Z"
   },
   {
    "duration": 7,
    "start_time": "2023-07-26T04:51:23.985Z"
   },
   {
    "duration": 8,
    "start_time": "2023-07-26T04:51:23.993Z"
   },
   {
    "duration": 16,
    "start_time": "2023-07-26T04:51:24.002Z"
   },
   {
    "duration": 5,
    "start_time": "2023-07-26T04:51:24.019Z"
   },
   {
    "duration": 6,
    "start_time": "2023-07-26T04:51:24.058Z"
   },
   {
    "duration": 3,
    "start_time": "2023-07-26T04:51:24.066Z"
   },
   {
    "duration": 18,
    "start_time": "2023-07-26T04:51:24.074Z"
   },
   {
    "duration": 5,
    "start_time": "2023-07-26T04:51:24.093Z"
   },
   {
    "duration": 38,
    "start_time": "2023-07-26T04:51:24.099Z"
   },
   {
    "duration": 25,
    "start_time": "2023-07-26T04:51:24.138Z"
   },
   {
    "duration": 6,
    "start_time": "2023-07-26T04:51:24.164Z"
   },
   {
    "duration": 7,
    "start_time": "2023-07-26T04:51:24.171Z"
   },
   {
    "duration": 13,
    "start_time": "2023-07-26T04:51:24.179Z"
   },
   {
    "duration": 13,
    "start_time": "2023-07-26T04:51:24.193Z"
   },
   {
    "duration": 9,
    "start_time": "2023-07-26T04:51:24.208Z"
   },
   {
    "duration": 47,
    "start_time": "2023-07-26T04:51:24.219Z"
   },
   {
    "duration": 14,
    "start_time": "2023-07-26T04:51:24.267Z"
   },
   {
    "duration": 4,
    "start_time": "2023-07-26T04:51:24.282Z"
   },
   {
    "duration": 8,
    "start_time": "2023-07-26T04:51:24.287Z"
   },
   {
    "duration": 5,
    "start_time": "2023-07-26T04:51:24.296Z"
   },
   {
    "duration": 5,
    "start_time": "2023-07-26T04:51:24.303Z"
   },
   {
    "duration": 10,
    "start_time": "2023-07-26T04:51:24.309Z"
   },
   {
    "duration": 45,
    "start_time": "2023-07-26T04:51:24.320Z"
   },
   {
    "duration": 7,
    "start_time": "2023-07-26T04:51:24.367Z"
   },
   {
    "duration": 4,
    "start_time": "2023-07-26T04:51:24.376Z"
   },
   {
    "duration": 7,
    "start_time": "2023-07-26T04:51:24.381Z"
   },
   {
    "duration": 10,
    "start_time": "2023-07-26T04:51:24.389Z"
   },
   {
    "duration": 9,
    "start_time": "2023-07-26T04:51:24.401Z"
   },
   {
    "duration": 12,
    "start_time": "2023-07-26T04:51:24.411Z"
   },
   {
    "duration": 7,
    "start_time": "2023-07-26T04:51:24.424Z"
   },
   {
    "duration": 28,
    "start_time": "2023-07-26T04:51:24.433Z"
   },
   {
    "duration": 7,
    "start_time": "2023-07-26T04:51:24.462Z"
   },
   {
    "duration": 14,
    "start_time": "2023-07-26T04:51:24.471Z"
   },
   {
    "duration": 5,
    "start_time": "2023-07-26T04:51:24.487Z"
   },
   {
    "duration": 13,
    "start_time": "2023-07-26T04:51:24.494Z"
   },
   {
    "duration": 3,
    "start_time": "2023-07-26T04:51:24.509Z"
   },
   {
    "duration": 5,
    "start_time": "2023-07-26T04:51:24.513Z"
   },
   {
    "duration": 42,
    "start_time": "2023-07-26T04:51:24.520Z"
   },
   {
    "duration": 7,
    "start_time": "2023-07-26T04:51:24.564Z"
   },
   {
    "duration": 11,
    "start_time": "2023-07-26T04:51:24.573Z"
   },
   {
    "duration": 10,
    "start_time": "2023-07-26T04:51:24.586Z"
   },
   {
    "duration": 3,
    "start_time": "2023-07-26T04:51:24.598Z"
   },
   {
    "duration": 12,
    "start_time": "2023-07-26T04:51:24.602Z"
   },
   {
    "duration": 41,
    "start_time": "2023-07-26T04:51:24.616Z"
   },
   {
    "duration": 3,
    "start_time": "2023-07-26T04:51:24.658Z"
   },
   {
    "duration": 44,
    "start_time": "2023-07-26T04:51:24.662Z"
   },
   {
    "duration": 11,
    "start_time": "2023-07-26T04:51:24.708Z"
   },
   {
    "duration": 53,
    "start_time": "2023-07-26T04:51:24.721Z"
   },
   {
    "duration": 12,
    "start_time": "2023-07-26T04:51:24.775Z"
   },
   {
    "duration": 17,
    "start_time": "2023-07-26T04:51:24.788Z"
   },
   {
    "duration": 12,
    "start_time": "2023-07-26T04:51:24.806Z"
   },
   {
    "duration": 6,
    "start_time": "2023-07-26T04:51:24.820Z"
   },
   {
    "duration": 37,
    "start_time": "2023-07-26T04:51:24.827Z"
   },
   {
    "duration": 13,
    "start_time": "2023-07-26T04:51:24.866Z"
   },
   {
    "duration": 13,
    "start_time": "2023-07-26T04:51:24.881Z"
   },
   {
    "duration": 11,
    "start_time": "2023-07-26T04:51:24.896Z"
   },
   {
    "duration": 21,
    "start_time": "2023-07-26T04:51:24.909Z"
   },
   {
    "duration": 14,
    "start_time": "2023-07-26T04:51:24.931Z"
   },
   {
    "duration": 213,
    "start_time": "2023-07-26T04:51:24.946Z"
   },
   {
    "duration": 98,
    "start_time": "2023-07-26T04:51:25.161Z"
   },
   {
    "duration": 0,
    "start_time": "2023-07-26T04:51:25.261Z"
   },
   {
    "duration": 0,
    "start_time": "2023-07-26T04:51:25.262Z"
   },
   {
    "duration": 0,
    "start_time": "2023-07-26T04:51:25.264Z"
   },
   {
    "duration": 0,
    "start_time": "2023-07-26T04:51:25.265Z"
   },
   {
    "duration": 0,
    "start_time": "2023-07-26T04:51:25.266Z"
   },
   {
    "duration": 0,
    "start_time": "2023-07-26T04:51:25.268Z"
   },
   {
    "duration": 0,
    "start_time": "2023-07-26T04:51:25.269Z"
   },
   {
    "duration": 0,
    "start_time": "2023-07-26T04:51:25.271Z"
   },
   {
    "duration": 0,
    "start_time": "2023-07-26T04:51:25.273Z"
   },
   {
    "duration": 0,
    "start_time": "2023-07-26T04:51:25.274Z"
   },
   {
    "duration": 0,
    "start_time": "2023-07-26T04:51:25.275Z"
   },
   {
    "duration": 0,
    "start_time": "2023-07-26T04:51:25.277Z"
   },
   {
    "duration": 0,
    "start_time": "2023-07-26T04:51:25.278Z"
   },
   {
    "duration": 0,
    "start_time": "2023-07-26T04:51:25.279Z"
   },
   {
    "duration": 1,
    "start_time": "2023-07-26T04:51:25.280Z"
   },
   {
    "duration": 0,
    "start_time": "2023-07-26T04:51:25.282Z"
   },
   {
    "duration": 0,
    "start_time": "2023-07-26T04:51:25.283Z"
   },
   {
    "duration": 0,
    "start_time": "2023-07-26T04:51:25.284Z"
   },
   {
    "duration": 0,
    "start_time": "2023-07-26T04:51:25.286Z"
   },
   {
    "duration": 0,
    "start_time": "2023-07-26T04:51:25.287Z"
   },
   {
    "duration": 0,
    "start_time": "2023-07-26T04:51:25.288Z"
   },
   {
    "duration": 0,
    "start_time": "2023-07-26T04:51:25.289Z"
   },
   {
    "duration": 0,
    "start_time": "2023-07-26T04:51:25.290Z"
   },
   {
    "duration": 0,
    "start_time": "2023-07-26T04:51:25.292Z"
   },
   {
    "duration": 0,
    "start_time": "2023-07-26T04:51:25.293Z"
   },
   {
    "duration": 0,
    "start_time": "2023-07-26T04:51:25.294Z"
   },
   {
    "duration": 0,
    "start_time": "2023-07-26T04:51:25.295Z"
   },
   {
    "duration": 0,
    "start_time": "2023-07-26T04:51:25.297Z"
   },
   {
    "duration": 0,
    "start_time": "2023-07-26T04:51:25.357Z"
   },
   {
    "duration": 0,
    "start_time": "2023-07-26T04:51:25.358Z"
   },
   {
    "duration": 0,
    "start_time": "2023-07-26T04:51:25.359Z"
   },
   {
    "duration": 0,
    "start_time": "2023-07-26T04:51:25.360Z"
   },
   {
    "duration": 0,
    "start_time": "2023-07-26T04:51:25.361Z"
   },
   {
    "duration": 0,
    "start_time": "2023-07-26T04:51:25.362Z"
   },
   {
    "duration": 0,
    "start_time": "2023-07-26T04:51:25.363Z"
   },
   {
    "duration": 0,
    "start_time": "2023-07-26T04:51:25.364Z"
   },
   {
    "duration": 0,
    "start_time": "2023-07-26T04:51:25.364Z"
   },
   {
    "duration": 0,
    "start_time": "2023-07-26T04:51:25.365Z"
   },
   {
    "duration": 0,
    "start_time": "2023-07-26T04:51:25.366Z"
   },
   {
    "duration": 0,
    "start_time": "2023-07-26T04:51:25.367Z"
   },
   {
    "duration": 0,
    "start_time": "2023-07-26T04:51:25.368Z"
   },
   {
    "duration": 0,
    "start_time": "2023-07-26T04:51:25.368Z"
   },
   {
    "duration": 0,
    "start_time": "2023-07-26T04:51:25.369Z"
   },
   {
    "duration": 0,
    "start_time": "2023-07-26T04:51:25.370Z"
   },
   {
    "duration": 0,
    "start_time": "2023-07-26T04:51:25.371Z"
   },
   {
    "duration": 0,
    "start_time": "2023-07-26T04:51:25.372Z"
   },
   {
    "duration": 0,
    "start_time": "2023-07-26T04:51:25.373Z"
   },
   {
    "duration": 0,
    "start_time": "2023-07-26T04:51:25.374Z"
   },
   {
    "duration": 0,
    "start_time": "2023-07-26T04:51:25.374Z"
   },
   {
    "duration": 0,
    "start_time": "2023-07-26T04:51:25.375Z"
   },
   {
    "duration": 0,
    "start_time": "2023-07-26T04:51:25.376Z"
   },
   {
    "duration": 0,
    "start_time": "2023-07-26T04:51:25.377Z"
   },
   {
    "duration": 11,
    "start_time": "2023-07-26T04:55:37.981Z"
   },
   {
    "duration": 1241,
    "start_time": "2023-07-26T04:56:06.369Z"
   },
   {
    "duration": 27,
    "start_time": "2023-07-26T04:56:07.612Z"
   },
   {
    "duration": 4,
    "start_time": "2023-07-26T04:56:07.640Z"
   },
   {
    "duration": 17,
    "start_time": "2023-07-26T04:56:07.645Z"
   },
   {
    "duration": 19,
    "start_time": "2023-07-26T04:56:07.663Z"
   },
   {
    "duration": 68,
    "start_time": "2023-07-26T04:56:07.684Z"
   },
   {
    "duration": 7,
    "start_time": "2023-07-26T04:56:07.754Z"
   },
   {
    "duration": 26,
    "start_time": "2023-07-26T04:56:07.763Z"
   },
   {
    "duration": 451,
    "start_time": "2023-07-26T04:56:07.791Z"
   },
   {
    "duration": 13,
    "start_time": "2023-07-26T04:56:08.245Z"
   },
   {
    "duration": 65,
    "start_time": "2023-07-26T04:56:08.259Z"
   },
   {
    "duration": 31,
    "start_time": "2023-07-26T04:56:08.326Z"
   },
   {
    "duration": 7,
    "start_time": "2023-07-26T04:56:08.359Z"
   },
   {
    "duration": 21,
    "start_time": "2023-07-26T04:56:08.368Z"
   },
   {
    "duration": 33,
    "start_time": "2023-07-26T04:56:08.391Z"
   },
   {
    "duration": 301,
    "start_time": "2023-07-26T04:56:08.425Z"
   },
   {
    "duration": 10,
    "start_time": "2023-07-26T04:56:08.728Z"
   },
   {
    "duration": 18,
    "start_time": "2023-07-26T04:56:08.739Z"
   },
   {
    "duration": 30,
    "start_time": "2023-07-26T04:56:08.758Z"
   },
   {
    "duration": 14,
    "start_time": "2023-07-26T04:56:08.789Z"
   },
   {
    "duration": 18,
    "start_time": "2023-07-26T04:56:08.805Z"
   },
   {
    "duration": 136,
    "start_time": "2023-07-26T04:56:08.825Z"
   },
   {
    "duration": 46,
    "start_time": "2023-07-26T04:56:08.962Z"
   },
   {
    "duration": 11,
    "start_time": "2023-07-26T04:56:09.010Z"
   },
   {
    "duration": 6,
    "start_time": "2023-07-26T04:56:09.023Z"
   },
   {
    "duration": 5,
    "start_time": "2023-07-26T04:56:09.056Z"
   },
   {
    "duration": 12,
    "start_time": "2023-07-26T04:56:09.063Z"
   },
   {
    "duration": 33,
    "start_time": "2023-07-26T04:56:09.081Z"
   },
   {
    "duration": 69,
    "start_time": "2023-07-26T04:56:09.116Z"
   },
   {
    "duration": 24,
    "start_time": "2023-07-26T04:56:09.187Z"
   },
   {
    "duration": 6,
    "start_time": "2023-07-26T04:56:09.212Z"
   },
   {
    "duration": 7,
    "start_time": "2023-07-26T04:56:09.220Z"
   },
   {
    "duration": 29,
    "start_time": "2023-07-26T04:56:09.229Z"
   },
   {
    "duration": 7,
    "start_time": "2023-07-26T04:56:09.260Z"
   },
   {
    "duration": 6,
    "start_time": "2023-07-26T04:56:09.268Z"
   },
   {
    "duration": 8,
    "start_time": "2023-07-26T04:56:09.276Z"
   },
   {
    "duration": 21,
    "start_time": "2023-07-26T04:56:09.285Z"
   },
   {
    "duration": 5,
    "start_time": "2023-07-26T04:56:09.308Z"
   },
   {
    "duration": 6,
    "start_time": "2023-07-26T04:56:09.315Z"
   },
   {
    "duration": 3,
    "start_time": "2023-07-26T04:56:09.322Z"
   },
   {
    "duration": 36,
    "start_time": "2023-07-26T04:56:09.326Z"
   },
   {
    "duration": 4,
    "start_time": "2023-07-26T04:56:09.364Z"
   },
   {
    "duration": 39,
    "start_time": "2023-07-26T04:56:09.370Z"
   },
   {
    "duration": 7,
    "start_time": "2023-07-26T04:56:09.410Z"
   },
   {
    "duration": 8,
    "start_time": "2023-07-26T04:56:09.419Z"
   },
   {
    "duration": 8,
    "start_time": "2023-07-26T04:56:09.429Z"
   },
   {
    "duration": 31,
    "start_time": "2023-07-26T04:56:09.438Z"
   },
   {
    "duration": 16,
    "start_time": "2023-07-26T04:56:09.471Z"
   },
   {
    "duration": 9,
    "start_time": "2023-07-26T04:56:09.489Z"
   },
   {
    "duration": 23,
    "start_time": "2023-07-26T04:56:09.500Z"
   },
   {
    "duration": 13,
    "start_time": "2023-07-26T04:56:09.525Z"
   },
   {
    "duration": 17,
    "start_time": "2023-07-26T04:56:09.540Z"
   },
   {
    "duration": 9,
    "start_time": "2023-07-26T04:56:09.559Z"
   },
   {
    "duration": 16,
    "start_time": "2023-07-26T04:56:09.569Z"
   },
   {
    "duration": 10,
    "start_time": "2023-07-26T04:56:09.587Z"
   },
   {
    "duration": 11,
    "start_time": "2023-07-26T04:56:09.598Z"
   },
   {
    "duration": 16,
    "start_time": "2023-07-26T04:56:09.611Z"
   },
   {
    "duration": 8,
    "start_time": "2023-07-26T04:56:09.629Z"
   },
   {
    "duration": 28,
    "start_time": "2023-07-26T04:56:09.639Z"
   },
   {
    "duration": 20,
    "start_time": "2023-07-26T04:56:09.668Z"
   },
   {
    "duration": 21,
    "start_time": "2023-07-26T04:56:09.690Z"
   },
   {
    "duration": 13,
    "start_time": "2023-07-26T04:56:09.712Z"
   },
   {
    "duration": 12,
    "start_time": "2023-07-26T04:56:09.727Z"
   },
   {
    "duration": 11,
    "start_time": "2023-07-26T04:56:09.740Z"
   },
   {
    "duration": 22,
    "start_time": "2023-07-26T04:56:09.753Z"
   },
   {
    "duration": 10,
    "start_time": "2023-07-26T04:56:09.776Z"
   },
   {
    "duration": 17,
    "start_time": "2023-07-26T04:56:09.788Z"
   },
   {
    "duration": 5,
    "start_time": "2023-07-26T04:56:09.806Z"
   },
   {
    "duration": 10,
    "start_time": "2023-07-26T04:56:09.812Z"
   },
   {
    "duration": 13,
    "start_time": "2023-07-26T04:56:09.824Z"
   },
   {
    "duration": 4,
    "start_time": "2023-07-26T04:56:09.839Z"
   },
   {
    "duration": 9,
    "start_time": "2023-07-26T04:56:09.845Z"
   },
   {
    "duration": 7,
    "start_time": "2023-07-26T04:56:09.856Z"
   },
   {
    "duration": 12,
    "start_time": "2023-07-26T04:56:09.864Z"
   },
   {
    "duration": 12,
    "start_time": "2023-07-26T04:56:09.878Z"
   },
   {
    "duration": 6,
    "start_time": "2023-07-26T04:56:09.892Z"
   },
   {
    "duration": 11,
    "start_time": "2023-07-26T04:56:09.900Z"
   },
   {
    "duration": 10,
    "start_time": "2023-07-26T04:56:09.913Z"
   },
   {
    "duration": 5,
    "start_time": "2023-07-26T04:56:09.924Z"
   },
   {
    "duration": 51,
    "start_time": "2023-07-26T04:56:09.931Z"
   },
   {
    "duration": 13,
    "start_time": "2023-07-26T04:56:09.984Z"
   },
   {
    "duration": 30,
    "start_time": "2023-07-26T04:56:10.003Z"
   },
   {
    "duration": 29,
    "start_time": "2023-07-26T04:56:10.035Z"
   },
   {
    "duration": 18,
    "start_time": "2023-07-26T04:56:10.066Z"
   },
   {
    "duration": 15,
    "start_time": "2023-07-26T04:56:10.085Z"
   },
   {
    "duration": 17,
    "start_time": "2023-07-26T04:56:10.101Z"
   },
   {
    "duration": 13,
    "start_time": "2023-07-26T04:56:10.119Z"
   },
   {
    "duration": 24,
    "start_time": "2023-07-26T04:56:10.133Z"
   },
   {
    "duration": 22,
    "start_time": "2023-07-26T04:56:10.159Z"
   },
   {
    "duration": 24,
    "start_time": "2023-07-26T04:56:10.182Z"
   },
   {
    "duration": 11,
    "start_time": "2023-07-26T04:56:10.208Z"
   },
   {
    "duration": 5,
    "start_time": "2023-07-26T04:56:10.221Z"
   },
   {
    "duration": 17,
    "start_time": "2023-07-26T04:56:10.227Z"
   },
   {
    "duration": 197,
    "start_time": "2023-07-26T04:56:10.246Z"
   },
   {
    "duration": 96,
    "start_time": "2023-07-26T04:56:10.444Z"
   },
   {
    "duration": 0,
    "start_time": "2023-07-26T04:56:10.542Z"
   },
   {
    "duration": 0,
    "start_time": "2023-07-26T04:56:10.543Z"
   },
   {
    "duration": 0,
    "start_time": "2023-07-26T04:56:10.544Z"
   },
   {
    "duration": 0,
    "start_time": "2023-07-26T04:56:10.546Z"
   },
   {
    "duration": 0,
    "start_time": "2023-07-26T04:56:10.546Z"
   },
   {
    "duration": 0,
    "start_time": "2023-07-26T04:56:10.547Z"
   },
   {
    "duration": 0,
    "start_time": "2023-07-26T04:56:10.556Z"
   },
   {
    "duration": 0,
    "start_time": "2023-07-26T04:56:10.557Z"
   },
   {
    "duration": 0,
    "start_time": "2023-07-26T04:56:10.558Z"
   },
   {
    "duration": 0,
    "start_time": "2023-07-26T04:56:10.559Z"
   },
   {
    "duration": 0,
    "start_time": "2023-07-26T04:56:10.560Z"
   },
   {
    "duration": 0,
    "start_time": "2023-07-26T04:56:10.561Z"
   },
   {
    "duration": 0,
    "start_time": "2023-07-26T04:56:10.562Z"
   },
   {
    "duration": 0,
    "start_time": "2023-07-26T04:56:10.563Z"
   },
   {
    "duration": 0,
    "start_time": "2023-07-26T04:56:10.564Z"
   },
   {
    "duration": 0,
    "start_time": "2023-07-26T04:56:10.565Z"
   },
   {
    "duration": 0,
    "start_time": "2023-07-26T04:56:10.566Z"
   },
   {
    "duration": 0,
    "start_time": "2023-07-26T04:56:10.567Z"
   },
   {
    "duration": 0,
    "start_time": "2023-07-26T04:56:10.568Z"
   },
   {
    "duration": 0,
    "start_time": "2023-07-26T04:56:10.569Z"
   },
   {
    "duration": 0,
    "start_time": "2023-07-26T04:56:10.570Z"
   },
   {
    "duration": 0,
    "start_time": "2023-07-26T04:56:10.571Z"
   },
   {
    "duration": 0,
    "start_time": "2023-07-26T04:56:10.572Z"
   },
   {
    "duration": 0,
    "start_time": "2023-07-26T04:56:10.573Z"
   },
   {
    "duration": 0,
    "start_time": "2023-07-26T04:56:10.574Z"
   },
   {
    "duration": 0,
    "start_time": "2023-07-26T04:56:10.575Z"
   },
   {
    "duration": 0,
    "start_time": "2023-07-26T04:56:10.576Z"
   },
   {
    "duration": 0,
    "start_time": "2023-07-26T04:56:10.576Z"
   },
   {
    "duration": 0,
    "start_time": "2023-07-26T04:56:10.577Z"
   },
   {
    "duration": 0,
    "start_time": "2023-07-26T04:56:10.578Z"
   },
   {
    "duration": 0,
    "start_time": "2023-07-26T04:56:10.579Z"
   },
   {
    "duration": 0,
    "start_time": "2023-07-26T04:56:10.579Z"
   },
   {
    "duration": 0,
    "start_time": "2023-07-26T04:56:10.581Z"
   },
   {
    "duration": 0,
    "start_time": "2023-07-26T04:56:10.582Z"
   },
   {
    "duration": 0,
    "start_time": "2023-07-26T04:56:10.582Z"
   },
   {
    "duration": 0,
    "start_time": "2023-07-26T04:56:10.583Z"
   },
   {
    "duration": 0,
    "start_time": "2023-07-26T04:56:10.585Z"
   },
   {
    "duration": 0,
    "start_time": "2023-07-26T04:56:10.586Z"
   },
   {
    "duration": 0,
    "start_time": "2023-07-26T04:56:10.586Z"
   },
   {
    "duration": 0,
    "start_time": "2023-07-26T04:56:10.588Z"
   },
   {
    "duration": 0,
    "start_time": "2023-07-26T04:56:10.588Z"
   },
   {
    "duration": 0,
    "start_time": "2023-07-26T04:56:10.589Z"
   },
   {
    "duration": 0,
    "start_time": "2023-07-26T04:56:10.590Z"
   },
   {
    "duration": 0,
    "start_time": "2023-07-26T04:56:10.591Z"
   },
   {
    "duration": 0,
    "start_time": "2023-07-26T04:56:10.592Z"
   },
   {
    "duration": 0,
    "start_time": "2023-07-26T04:56:10.593Z"
   },
   {
    "duration": 0,
    "start_time": "2023-07-26T04:56:10.594Z"
   },
   {
    "duration": 0,
    "start_time": "2023-07-26T04:56:10.595Z"
   },
   {
    "duration": 0,
    "start_time": "2023-07-26T04:56:10.657Z"
   },
   {
    "duration": 0,
    "start_time": "2023-07-26T04:56:10.658Z"
   },
   {
    "duration": 0,
    "start_time": "2023-07-26T04:56:10.659Z"
   },
   {
    "duration": 0,
    "start_time": "2023-07-26T04:56:10.660Z"
   },
   {
    "duration": 7,
    "start_time": "2023-07-26T04:57:11.118Z"
   },
   {
    "duration": 3,
    "start_time": "2023-07-26T04:58:46.989Z"
   },
   {
    "duration": 5,
    "start_time": "2023-07-26T04:59:18.811Z"
   },
   {
    "duration": 7,
    "start_time": "2023-07-26T05:05:38.733Z"
   },
   {
    "duration": 7,
    "start_time": "2023-07-26T05:07:22.756Z"
   },
   {
    "duration": 6,
    "start_time": "2023-07-26T05:09:54.176Z"
   },
   {
    "duration": 1207,
    "start_time": "2023-07-26T05:20:40.479Z"
   },
   {
    "duration": 27,
    "start_time": "2023-07-26T05:20:41.688Z"
   },
   {
    "duration": 3,
    "start_time": "2023-07-26T05:20:41.717Z"
   },
   {
    "duration": 14,
    "start_time": "2023-07-26T05:20:41.722Z"
   },
   {
    "duration": 10,
    "start_time": "2023-07-26T05:20:41.738Z"
   },
   {
    "duration": 65,
    "start_time": "2023-07-26T05:20:41.749Z"
   },
   {
    "duration": 8,
    "start_time": "2023-07-26T05:20:41.815Z"
   },
   {
    "duration": 18,
    "start_time": "2023-07-26T05:20:41.825Z"
   },
   {
    "duration": 430,
    "start_time": "2023-07-26T05:20:41.845Z"
   },
   {
    "duration": 9,
    "start_time": "2023-07-26T05:20:42.277Z"
   },
   {
    "duration": 72,
    "start_time": "2023-07-26T05:20:42.288Z"
   },
   {
    "duration": 26,
    "start_time": "2023-07-26T05:20:42.362Z"
   },
   {
    "duration": 7,
    "start_time": "2023-07-26T05:20:42.390Z"
   },
   {
    "duration": 12,
    "start_time": "2023-07-26T05:20:42.399Z"
   },
   {
    "duration": 43,
    "start_time": "2023-07-26T05:20:42.413Z"
   },
   {
    "duration": 287,
    "start_time": "2023-07-26T05:20:42.458Z"
   },
   {
    "duration": 16,
    "start_time": "2023-07-26T05:20:42.747Z"
   },
   {
    "duration": 8,
    "start_time": "2023-07-26T05:20:42.765Z"
   },
   {
    "duration": 35,
    "start_time": "2023-07-26T05:20:42.774Z"
   },
   {
    "duration": 12,
    "start_time": "2023-07-26T05:20:42.811Z"
   },
   {
    "duration": 15,
    "start_time": "2023-07-26T05:20:42.824Z"
   },
   {
    "duration": 80,
    "start_time": "2023-07-26T05:20:42.857Z"
   },
   {
    "duration": 56,
    "start_time": "2023-07-26T05:20:42.939Z"
   },
   {
    "duration": 8,
    "start_time": "2023-07-26T05:20:42.997Z"
   },
   {
    "duration": 5,
    "start_time": "2023-07-26T05:20:43.006Z"
   },
   {
    "duration": 9,
    "start_time": "2023-07-26T05:20:43.012Z"
   },
   {
    "duration": 11,
    "start_time": "2023-07-26T05:20:43.023Z"
   },
   {
    "duration": 24,
    "start_time": "2023-07-26T05:20:43.059Z"
   },
   {
    "duration": 51,
    "start_time": "2023-07-26T05:20:43.084Z"
   },
   {
    "duration": 35,
    "start_time": "2023-07-26T05:20:43.136Z"
   },
   {
    "duration": 7,
    "start_time": "2023-07-26T05:20:43.172Z"
   },
   {
    "duration": 6,
    "start_time": "2023-07-26T05:20:43.181Z"
   },
   {
    "duration": 27,
    "start_time": "2023-07-26T05:20:43.189Z"
   },
   {
    "duration": 20,
    "start_time": "2023-07-26T05:20:43.217Z"
   },
   {
    "duration": 7,
    "start_time": "2023-07-26T05:20:43.239Z"
   },
   {
    "duration": 12,
    "start_time": "2023-07-26T05:20:43.248Z"
   },
   {
    "duration": 16,
    "start_time": "2023-07-26T05:20:43.261Z"
   },
   {
    "duration": 32,
    "start_time": "2023-07-26T05:20:43.279Z"
   },
   {
    "duration": 12,
    "start_time": "2023-07-26T05:20:43.313Z"
   },
   {
    "duration": 7,
    "start_time": "2023-07-26T05:20:43.328Z"
   },
   {
    "duration": 14,
    "start_time": "2023-07-26T05:20:43.336Z"
   },
   {
    "duration": 4,
    "start_time": "2023-07-26T05:20:43.352Z"
   },
   {
    "duration": 34,
    "start_time": "2023-07-26T05:20:43.357Z"
   },
   {
    "duration": 8,
    "start_time": "2023-07-26T05:20:43.393Z"
   },
   {
    "duration": 11,
    "start_time": "2023-07-26T05:20:43.402Z"
   },
   {
    "duration": 8,
    "start_time": "2023-07-26T05:20:43.414Z"
   },
   {
    "duration": 11,
    "start_time": "2023-07-26T05:20:43.423Z"
   },
   {
    "duration": 33,
    "start_time": "2023-07-26T05:20:43.435Z"
   },
   {
    "duration": 8,
    "start_time": "2023-07-26T05:20:43.470Z"
   },
   {
    "duration": 13,
    "start_time": "2023-07-26T05:20:43.480Z"
   },
   {
    "duration": 14,
    "start_time": "2023-07-26T05:20:43.494Z"
   },
   {
    "duration": 4,
    "start_time": "2023-07-26T05:20:43.509Z"
   },
   {
    "duration": 6,
    "start_time": "2023-07-26T05:20:43.514Z"
   },
   {
    "duration": 37,
    "start_time": "2023-07-26T05:20:43.522Z"
   },
   {
    "duration": 5,
    "start_time": "2023-07-26T05:20:43.561Z"
   },
   {
    "duration": 10,
    "start_time": "2023-07-26T05:20:43.568Z"
   },
   {
    "duration": 11,
    "start_time": "2023-07-26T05:20:43.579Z"
   },
   {
    "duration": 8,
    "start_time": "2023-07-26T05:20:43.592Z"
   },
   {
    "duration": 4,
    "start_time": "2023-07-26T05:20:43.601Z"
   },
   {
    "duration": 10,
    "start_time": "2023-07-26T05:20:43.607Z"
   },
   {
    "duration": 38,
    "start_time": "2023-07-26T05:20:43.618Z"
   },
   {
    "duration": 5,
    "start_time": "2023-07-26T05:20:43.658Z"
   },
   {
    "duration": 9,
    "start_time": "2023-07-26T05:20:43.664Z"
   },
   {
    "duration": 7,
    "start_time": "2023-07-26T05:20:43.674Z"
   },
   {
    "duration": 7,
    "start_time": "2023-07-26T05:20:43.683Z"
   },
   {
    "duration": 7,
    "start_time": "2023-07-26T05:20:43.691Z"
   },
   {
    "duration": 16,
    "start_time": "2023-07-26T05:20:43.699Z"
   },
   {
    "duration": 5,
    "start_time": "2023-07-26T05:20:43.717Z"
   },
   {
    "duration": 43,
    "start_time": "2023-07-26T05:20:43.723Z"
   },
   {
    "duration": 4,
    "start_time": "2023-07-26T05:20:43.767Z"
   },
   {
    "duration": 8,
    "start_time": "2023-07-26T05:20:43.773Z"
   },
   {
    "duration": 15,
    "start_time": "2023-07-26T05:20:43.783Z"
   },
   {
    "duration": 12,
    "start_time": "2023-07-26T05:20:43.800Z"
   },
   {
    "duration": 10,
    "start_time": "2023-07-26T05:20:43.814Z"
   },
   {
    "duration": 7,
    "start_time": "2023-07-26T05:20:43.826Z"
   },
   {
    "duration": 5,
    "start_time": "2023-07-26T05:20:43.857Z"
   },
   {
    "duration": 13,
    "start_time": "2023-07-26T05:20:43.864Z"
   },
   {
    "duration": 10,
    "start_time": "2023-07-26T05:20:43.879Z"
   },
   {
    "duration": 23,
    "start_time": "2023-07-26T05:20:43.891Z"
   },
   {
    "duration": 12,
    "start_time": "2023-07-26T05:20:43.916Z"
   },
   {
    "duration": 13,
    "start_time": "2023-07-26T05:20:43.930Z"
   },
   {
    "duration": 7,
    "start_time": "2023-07-26T05:20:43.963Z"
   },
   {
    "duration": 120,
    "start_time": "2023-07-26T05:20:43.971Z"
   },
   {
    "duration": 0,
    "start_time": "2023-07-26T05:20:44.093Z"
   },
   {
    "duration": 0,
    "start_time": "2023-07-26T05:20:44.094Z"
   },
   {
    "duration": 0,
    "start_time": "2023-07-26T05:20:44.095Z"
   },
   {
    "duration": 0,
    "start_time": "2023-07-26T05:20:44.097Z"
   },
   {
    "duration": 0,
    "start_time": "2023-07-26T05:20:44.098Z"
   },
   {
    "duration": 0,
    "start_time": "2023-07-26T05:20:44.099Z"
   },
   {
    "duration": 0,
    "start_time": "2023-07-26T05:20:44.100Z"
   },
   {
    "duration": 0,
    "start_time": "2023-07-26T05:20:44.100Z"
   },
   {
    "duration": 0,
    "start_time": "2023-07-26T05:20:44.102Z"
   },
   {
    "duration": 0,
    "start_time": "2023-07-26T05:20:44.103Z"
   },
   {
    "duration": 0,
    "start_time": "2023-07-26T05:20:44.104Z"
   },
   {
    "duration": 0,
    "start_time": "2023-07-26T05:20:44.105Z"
   },
   {
    "duration": 0,
    "start_time": "2023-07-26T05:20:44.106Z"
   },
   {
    "duration": 0,
    "start_time": "2023-07-26T05:20:44.107Z"
   },
   {
    "duration": 0,
    "start_time": "2023-07-26T05:20:44.108Z"
   },
   {
    "duration": 0,
    "start_time": "2023-07-26T05:20:44.109Z"
   },
   {
    "duration": 0,
    "start_time": "2023-07-26T05:20:44.110Z"
   },
   {
    "duration": 0,
    "start_time": "2023-07-26T05:20:44.111Z"
   },
   {
    "duration": 0,
    "start_time": "2023-07-26T05:20:44.112Z"
   },
   {
    "duration": 0,
    "start_time": "2023-07-26T05:20:44.113Z"
   },
   {
    "duration": 0,
    "start_time": "2023-07-26T05:20:44.117Z"
   },
   {
    "duration": 0,
    "start_time": "2023-07-26T05:20:44.118Z"
   },
   {
    "duration": 0,
    "start_time": "2023-07-26T05:20:44.119Z"
   },
   {
    "duration": 0,
    "start_time": "2023-07-26T05:20:44.157Z"
   },
   {
    "duration": 0,
    "start_time": "2023-07-26T05:20:44.158Z"
   },
   {
    "duration": 0,
    "start_time": "2023-07-26T05:20:44.160Z"
   },
   {
    "duration": 0,
    "start_time": "2023-07-26T05:20:44.161Z"
   },
   {
    "duration": 0,
    "start_time": "2023-07-26T05:20:44.162Z"
   },
   {
    "duration": 0,
    "start_time": "2023-07-26T05:20:44.163Z"
   },
   {
    "duration": 0,
    "start_time": "2023-07-26T05:20:44.164Z"
   },
   {
    "duration": 0,
    "start_time": "2023-07-26T05:20:44.165Z"
   },
   {
    "duration": 0,
    "start_time": "2023-07-26T05:20:44.166Z"
   },
   {
    "duration": 0,
    "start_time": "2023-07-26T05:20:44.167Z"
   },
   {
    "duration": 0,
    "start_time": "2023-07-26T05:20:44.168Z"
   },
   {
    "duration": 0,
    "start_time": "2023-07-26T05:20:44.169Z"
   },
   {
    "duration": 0,
    "start_time": "2023-07-26T05:20:44.170Z"
   },
   {
    "duration": 0,
    "start_time": "2023-07-26T05:20:44.171Z"
   },
   {
    "duration": 0,
    "start_time": "2023-07-26T05:20:44.172Z"
   },
   {
    "duration": 0,
    "start_time": "2023-07-26T05:20:44.173Z"
   },
   {
    "duration": 0,
    "start_time": "2023-07-26T05:20:44.174Z"
   },
   {
    "duration": 0,
    "start_time": "2023-07-26T05:20:44.175Z"
   },
   {
    "duration": 0,
    "start_time": "2023-07-26T05:20:44.176Z"
   },
   {
    "duration": 0,
    "start_time": "2023-07-26T05:20:44.177Z"
   },
   {
    "duration": 0,
    "start_time": "2023-07-26T05:20:44.178Z"
   },
   {
    "duration": 0,
    "start_time": "2023-07-26T05:20:44.179Z"
   },
   {
    "duration": 0,
    "start_time": "2023-07-26T05:20:44.180Z"
   },
   {
    "duration": 0,
    "start_time": "2023-07-26T05:20:44.182Z"
   },
   {
    "duration": 0,
    "start_time": "2023-07-26T05:20:44.183Z"
   },
   {
    "duration": 0,
    "start_time": "2023-07-26T05:20:44.184Z"
   },
   {
    "duration": 0,
    "start_time": "2023-07-26T05:20:44.185Z"
   },
   {
    "duration": 0,
    "start_time": "2023-07-26T05:20:44.186Z"
   },
   {
    "duration": 0,
    "start_time": "2023-07-26T05:20:44.187Z"
   },
   {
    "duration": 0,
    "start_time": "2023-07-26T05:20:44.188Z"
   },
   {
    "duration": 0,
    "start_time": "2023-07-26T05:20:44.189Z"
   },
   {
    "duration": 0,
    "start_time": "2023-07-26T05:20:44.191Z"
   },
   {
    "duration": 0,
    "start_time": "2023-07-26T05:20:44.192Z"
   },
   {
    "duration": 0,
    "start_time": "2023-07-26T05:20:44.192Z"
   },
   {
    "duration": 0,
    "start_time": "2023-07-26T05:20:44.193Z"
   },
   {
    "duration": 0,
    "start_time": "2023-07-26T05:20:44.256Z"
   },
   {
    "duration": 0,
    "start_time": "2023-07-26T05:20:44.258Z"
   },
   {
    "duration": 0,
    "start_time": "2023-07-26T05:20:44.258Z"
   },
   {
    "duration": 0,
    "start_time": "2023-07-26T05:20:44.260Z"
   },
   {
    "duration": 0,
    "start_time": "2023-07-26T05:20:44.261Z"
   },
   {
    "duration": 0,
    "start_time": "2023-07-26T05:20:44.262Z"
   },
   {
    "duration": 0,
    "start_time": "2023-07-26T05:20:44.263Z"
   },
   {
    "duration": 0,
    "start_time": "2023-07-26T05:20:44.264Z"
   },
   {
    "duration": 0,
    "start_time": "2023-07-26T05:20:44.264Z"
   },
   {
    "duration": 0,
    "start_time": "2023-07-26T05:20:44.265Z"
   },
   {
    "duration": 0,
    "start_time": "2023-07-26T05:20:44.266Z"
   },
   {
    "duration": 0,
    "start_time": "2023-07-26T05:20:44.268Z"
   },
   {
    "duration": 0,
    "start_time": "2023-07-26T05:20:44.268Z"
   },
   {
    "duration": 0,
    "start_time": "2023-07-26T05:20:44.269Z"
   },
   {
    "duration": 3,
    "start_time": "2023-07-26T05:22:02.898Z"
   },
   {
    "duration": 2,
    "start_time": "2023-07-26T05:22:03.892Z"
   },
   {
    "duration": 3,
    "start_time": "2023-07-26T05:22:04.577Z"
   },
   {
    "duration": 11,
    "start_time": "2023-07-26T05:22:05.318Z"
   },
   {
    "duration": 6,
    "start_time": "2023-07-26T05:22:56.158Z"
   },
   {
    "duration": 6,
    "start_time": "2023-07-26T05:24:20.780Z"
   },
   {
    "duration": 11,
    "start_time": "2023-07-26T05:24:34.389Z"
   },
   {
    "duration": 113,
    "start_time": "2023-07-26T06:31:39.836Z"
   },
   {
    "duration": 16,
    "start_time": "2023-07-26T06:31:59.070Z"
   },
   {
    "duration": 1249,
    "start_time": "2023-07-26T06:33:51.757Z"
   },
   {
    "duration": 27,
    "start_time": "2023-07-26T06:33:53.008Z"
   },
   {
    "duration": 4,
    "start_time": "2023-07-26T06:33:53.037Z"
   },
   {
    "duration": 18,
    "start_time": "2023-07-26T06:33:53.042Z"
   },
   {
    "duration": 36,
    "start_time": "2023-07-26T06:33:53.062Z"
   },
   {
    "duration": 70,
    "start_time": "2023-07-26T06:33:53.100Z"
   },
   {
    "duration": 8,
    "start_time": "2023-07-26T06:33:53.172Z"
   },
   {
    "duration": 27,
    "start_time": "2023-07-26T06:33:53.182Z"
   },
   {
    "duration": 457,
    "start_time": "2023-07-26T06:33:53.212Z"
   },
   {
    "duration": 9,
    "start_time": "2023-07-26T06:33:53.672Z"
   },
   {
    "duration": 79,
    "start_time": "2023-07-26T06:33:53.683Z"
   },
   {
    "duration": 26,
    "start_time": "2023-07-26T06:33:53.764Z"
   },
   {
    "duration": 8,
    "start_time": "2023-07-26T06:33:53.792Z"
   },
   {
    "duration": 18,
    "start_time": "2023-07-26T06:33:53.801Z"
   },
   {
    "duration": 48,
    "start_time": "2023-07-26T06:33:53.821Z"
   },
   {
    "duration": 301,
    "start_time": "2023-07-26T06:33:53.871Z"
   },
   {
    "duration": 10,
    "start_time": "2023-07-26T06:33:54.174Z"
   },
   {
    "duration": 6,
    "start_time": "2023-07-26T06:33:54.185Z"
   },
   {
    "duration": 36,
    "start_time": "2023-07-26T06:33:54.193Z"
   },
   {
    "duration": 40,
    "start_time": "2023-07-26T06:33:54.231Z"
   },
   {
    "duration": 16,
    "start_time": "2023-07-26T06:33:54.272Z"
   },
   {
    "duration": 109,
    "start_time": "2023-07-26T06:33:54.290Z"
   },
   {
    "duration": 55,
    "start_time": "2023-07-26T06:33:54.401Z"
   },
   {
    "duration": 9,
    "start_time": "2023-07-26T06:33:54.458Z"
   },
   {
    "duration": 5,
    "start_time": "2023-07-26T06:33:54.468Z"
   },
   {
    "duration": 4,
    "start_time": "2023-07-26T06:33:54.475Z"
   },
   {
    "duration": 12,
    "start_time": "2023-07-26T06:33:54.481Z"
   },
   {
    "duration": 24,
    "start_time": "2023-07-26T06:33:54.496Z"
   },
   {
    "duration": 72,
    "start_time": "2023-07-26T06:33:54.521Z"
   },
   {
    "duration": 21,
    "start_time": "2023-07-26T06:33:54.595Z"
   },
   {
    "duration": 7,
    "start_time": "2023-07-26T06:33:54.618Z"
   },
   {
    "duration": 31,
    "start_time": "2023-07-26T06:33:54.626Z"
   },
   {
    "duration": 5,
    "start_time": "2023-07-26T06:33:54.658Z"
   },
   {
    "duration": 10,
    "start_time": "2023-07-26T06:33:54.665Z"
   },
   {
    "duration": 18,
    "start_time": "2023-07-26T06:33:54.677Z"
   },
   {
    "duration": 9,
    "start_time": "2023-07-26T06:33:54.697Z"
   },
   {
    "duration": 7,
    "start_time": "2023-07-26T06:33:54.708Z"
   },
   {
    "duration": 14,
    "start_time": "2023-07-26T06:33:54.716Z"
   },
   {
    "duration": 9,
    "start_time": "2023-07-26T06:33:54.731Z"
   },
   {
    "duration": 2,
    "start_time": "2023-07-26T06:33:54.757Z"
   },
   {
    "duration": 20,
    "start_time": "2023-07-26T06:33:54.761Z"
   },
   {
    "duration": 4,
    "start_time": "2023-07-26T06:33:54.783Z"
   },
   {
    "duration": 37,
    "start_time": "2023-07-26T06:33:54.789Z"
   },
   {
    "duration": 8,
    "start_time": "2023-07-26T06:33:54.828Z"
   },
   {
    "duration": 13,
    "start_time": "2023-07-26T06:33:54.837Z"
   },
   {
    "duration": 6,
    "start_time": "2023-07-26T06:33:54.857Z"
   },
   {
    "duration": 13,
    "start_time": "2023-07-26T06:33:54.865Z"
   },
   {
    "duration": 20,
    "start_time": "2023-07-26T06:33:54.879Z"
   },
   {
    "duration": 19,
    "start_time": "2023-07-26T06:33:54.901Z"
   },
   {
    "duration": 13,
    "start_time": "2023-07-26T06:33:54.922Z"
   },
   {
    "duration": 29,
    "start_time": "2023-07-26T06:33:54.937Z"
   },
   {
    "duration": 4,
    "start_time": "2023-07-26T06:33:54.967Z"
   },
   {
    "duration": 14,
    "start_time": "2023-07-26T06:33:54.972Z"
   },
   {
    "duration": 10,
    "start_time": "2023-07-26T06:33:54.988Z"
   },
   {
    "duration": 9,
    "start_time": "2023-07-26T06:33:55.000Z"
   },
   {
    "duration": 45,
    "start_time": "2023-07-26T06:33:55.011Z"
   },
   {
    "duration": 49,
    "start_time": "2023-07-26T06:33:55.059Z"
   },
   {
    "duration": 123,
    "start_time": "2023-07-26T06:33:55.110Z"
   },
   {
    "duration": 4,
    "start_time": "2023-07-26T06:33:55.235Z"
   },
   {
    "duration": 12,
    "start_time": "2023-07-26T06:33:55.241Z"
   },
   {
    "duration": 15,
    "start_time": "2023-07-26T06:33:55.256Z"
   },
   {
    "duration": 20,
    "start_time": "2023-07-26T06:33:55.274Z"
   },
   {
    "duration": 6,
    "start_time": "2023-07-26T06:33:55.296Z"
   },
   {
    "duration": 12,
    "start_time": "2023-07-26T06:33:55.304Z"
   },
   {
    "duration": 17,
    "start_time": "2023-07-26T06:33:55.318Z"
   },
   {
    "duration": 29,
    "start_time": "2023-07-26T06:33:55.336Z"
   },
   {
    "duration": 18,
    "start_time": "2023-07-26T06:33:55.366Z"
   },
   {
    "duration": 7,
    "start_time": "2023-07-26T06:33:55.386Z"
   },
   {
    "duration": 13,
    "start_time": "2023-07-26T06:33:55.395Z"
   },
   {
    "duration": 9,
    "start_time": "2023-07-26T06:33:55.410Z"
   },
   {
    "duration": 8,
    "start_time": "2023-07-26T06:33:55.420Z"
   },
   {
    "duration": 27,
    "start_time": "2023-07-26T06:33:55.429Z"
   },
   {
    "duration": 10,
    "start_time": "2023-07-26T06:33:55.458Z"
   },
   {
    "duration": 10,
    "start_time": "2023-07-26T06:33:55.469Z"
   },
   {
    "duration": 8,
    "start_time": "2023-07-26T06:33:55.480Z"
   },
   {
    "duration": 7,
    "start_time": "2023-07-26T06:33:55.490Z"
   },
   {
    "duration": 12,
    "start_time": "2023-07-26T06:33:55.498Z"
   },
   {
    "duration": 17,
    "start_time": "2023-07-26T06:33:55.512Z"
   },
   {
    "duration": 5,
    "start_time": "2023-07-26T06:33:55.530Z"
   },
   {
    "duration": 30,
    "start_time": "2023-07-26T06:33:55.537Z"
   },
   {
    "duration": 11,
    "start_time": "2023-07-26T06:33:55.569Z"
   },
   {
    "duration": 2,
    "start_time": "2023-07-26T06:33:55.588Z"
   },
   {
    "duration": 5,
    "start_time": "2023-07-26T06:33:55.592Z"
   },
   {
    "duration": 9,
    "start_time": "2023-07-26T06:33:55.598Z"
   },
   {
    "duration": 7,
    "start_time": "2023-07-26T06:33:55.609Z"
   },
   {
    "duration": 6,
    "start_time": "2023-07-26T06:33:55.618Z"
   },
   {
    "duration": 6,
    "start_time": "2023-07-26T06:33:55.626Z"
   },
   {
    "duration": 5,
    "start_time": "2023-07-26T06:33:55.633Z"
   },
   {
    "duration": 9,
    "start_time": "2023-07-26T06:33:55.640Z"
   },
   {
    "duration": 13,
    "start_time": "2023-07-26T06:33:55.657Z"
   },
   {
    "duration": 3,
    "start_time": "2023-07-26T06:33:55.672Z"
   },
   {
    "duration": 5,
    "start_time": "2023-07-26T06:33:55.677Z"
   },
   {
    "duration": 4,
    "start_time": "2023-07-26T06:33:55.683Z"
   },
   {
    "duration": 5,
    "start_time": "2023-07-26T06:33:55.688Z"
   },
   {
    "duration": 15,
    "start_time": "2023-07-26T06:33:55.694Z"
   },
   {
    "duration": 8,
    "start_time": "2023-07-26T06:33:55.711Z"
   },
   {
    "duration": 7,
    "start_time": "2023-07-26T06:33:55.721Z"
   },
   {
    "duration": 4,
    "start_time": "2023-07-26T06:33:55.730Z"
   },
   {
    "duration": 4,
    "start_time": "2023-07-26T06:33:55.736Z"
   },
   {
    "duration": 4,
    "start_time": "2023-07-26T06:33:55.741Z"
   },
   {
    "duration": 6,
    "start_time": "2023-07-26T06:33:55.747Z"
   },
   {
    "duration": 120,
    "start_time": "2023-07-26T06:33:55.754Z"
   },
   {
    "duration": 11,
    "start_time": "2023-07-26T06:33:55.876Z"
   },
   {
    "duration": 100,
    "start_time": "2023-07-26T06:33:55.888Z"
   },
   {
    "duration": 0,
    "start_time": "2023-07-26T06:33:55.990Z"
   },
   {
    "duration": 0,
    "start_time": "2023-07-26T06:33:55.991Z"
   },
   {
    "duration": 0,
    "start_time": "2023-07-26T06:33:55.992Z"
   },
   {
    "duration": 0,
    "start_time": "2023-07-26T06:33:55.993Z"
   },
   {
    "duration": 0,
    "start_time": "2023-07-26T06:33:55.994Z"
   },
   {
    "duration": 0,
    "start_time": "2023-07-26T06:33:55.995Z"
   },
   {
    "duration": 0,
    "start_time": "2023-07-26T06:33:55.996Z"
   },
   {
    "duration": 0,
    "start_time": "2023-07-26T06:33:55.997Z"
   },
   {
    "duration": 1,
    "start_time": "2023-07-26T06:33:55.997Z"
   },
   {
    "duration": 0,
    "start_time": "2023-07-26T06:33:55.999Z"
   },
   {
    "duration": 0,
    "start_time": "2023-07-26T06:33:55.999Z"
   },
   {
    "duration": 0,
    "start_time": "2023-07-26T06:33:56.000Z"
   },
   {
    "duration": 0,
    "start_time": "2023-07-26T06:33:56.001Z"
   },
   {
    "duration": 0,
    "start_time": "2023-07-26T06:33:56.002Z"
   },
   {
    "duration": 0,
    "start_time": "2023-07-26T06:33:56.003Z"
   },
   {
    "duration": 0,
    "start_time": "2023-07-26T06:33:56.004Z"
   },
   {
    "duration": 0,
    "start_time": "2023-07-26T06:33:56.005Z"
   },
   {
    "duration": 0,
    "start_time": "2023-07-26T06:33:56.006Z"
   },
   {
    "duration": 0,
    "start_time": "2023-07-26T06:33:56.007Z"
   },
   {
    "duration": 1,
    "start_time": "2023-07-26T06:33:56.007Z"
   },
   {
    "duration": 0,
    "start_time": "2023-07-26T06:33:56.008Z"
   },
   {
    "duration": 0,
    "start_time": "2023-07-26T06:33:56.009Z"
   },
   {
    "duration": 0,
    "start_time": "2023-07-26T06:33:56.011Z"
   },
   {
    "duration": 0,
    "start_time": "2023-07-26T06:33:56.012Z"
   },
   {
    "duration": 0,
    "start_time": "2023-07-26T06:33:56.013Z"
   },
   {
    "duration": 0,
    "start_time": "2023-07-26T06:33:56.014Z"
   },
   {
    "duration": 0,
    "start_time": "2023-07-26T06:33:56.058Z"
   },
   {
    "duration": 0,
    "start_time": "2023-07-26T06:33:56.059Z"
   },
   {
    "duration": 0,
    "start_time": "2023-07-26T06:33:56.060Z"
   },
   {
    "duration": 0,
    "start_time": "2023-07-26T06:33:56.061Z"
   },
   {
    "duration": 0,
    "start_time": "2023-07-26T06:33:56.062Z"
   },
   {
    "duration": 0,
    "start_time": "2023-07-26T06:33:56.063Z"
   },
   {
    "duration": 0,
    "start_time": "2023-07-26T06:33:56.064Z"
   },
   {
    "duration": 0,
    "start_time": "2023-07-26T06:33:56.065Z"
   },
   {
    "duration": 0,
    "start_time": "2023-07-26T06:33:56.066Z"
   },
   {
    "duration": 0,
    "start_time": "2023-07-26T06:33:56.067Z"
   },
   {
    "duration": 0,
    "start_time": "2023-07-26T06:33:56.067Z"
   },
   {
    "duration": 0,
    "start_time": "2023-07-26T06:33:56.068Z"
   },
   {
    "duration": 0,
    "start_time": "2023-07-26T06:33:56.069Z"
   },
   {
    "duration": 0,
    "start_time": "2023-07-26T06:33:56.070Z"
   },
   {
    "duration": 0,
    "start_time": "2023-07-26T06:33:56.071Z"
   },
   {
    "duration": 0,
    "start_time": "2023-07-26T06:33:56.072Z"
   },
   {
    "duration": 0,
    "start_time": "2023-07-26T06:33:56.073Z"
   },
   {
    "duration": 0,
    "start_time": "2023-07-26T06:33:56.074Z"
   },
   {
    "duration": 0,
    "start_time": "2023-07-26T06:33:56.075Z"
   },
   {
    "duration": 0,
    "start_time": "2023-07-26T06:33:56.076Z"
   },
   {
    "duration": 0,
    "start_time": "2023-07-26T06:33:56.076Z"
   },
   {
    "duration": 0,
    "start_time": "2023-07-26T06:33:56.077Z"
   },
   {
    "duration": 0,
    "start_time": "2023-07-26T06:33:56.078Z"
   },
   {
    "duration": 0,
    "start_time": "2023-07-26T06:33:56.079Z"
   },
   {
    "duration": 0,
    "start_time": "2023-07-26T06:33:56.080Z"
   },
   {
    "duration": 0,
    "start_time": "2023-07-26T06:33:56.081Z"
   },
   {
    "duration": 0,
    "start_time": "2023-07-26T06:33:56.082Z"
   },
   {
    "duration": 0,
    "start_time": "2023-07-26T06:33:56.083Z"
   },
   {
    "duration": 0,
    "start_time": "2023-07-26T06:33:56.084Z"
   },
   {
    "duration": 0,
    "start_time": "2023-07-26T06:33:56.085Z"
   },
   {
    "duration": 6,
    "start_time": "2023-07-26T06:35:39.346Z"
   },
   {
    "duration": 7,
    "start_time": "2023-07-26T06:36:08.082Z"
   },
   {
    "duration": 4,
    "start_time": "2023-07-26T06:36:44.182Z"
   },
   {
    "duration": 6,
    "start_time": "2023-07-26T06:36:45.139Z"
   },
   {
    "duration": 9,
    "start_time": "2023-07-26T06:54:36.168Z"
   },
   {
    "duration": 12,
    "start_time": "2023-07-26T06:54:52.454Z"
   },
   {
    "duration": 6,
    "start_time": "2023-07-26T06:56:25.344Z"
   },
   {
    "duration": 1228,
    "start_time": "2023-07-26T06:58:22.487Z"
   },
   {
    "duration": 27,
    "start_time": "2023-07-26T06:58:23.717Z"
   },
   {
    "duration": 4,
    "start_time": "2023-07-26T06:58:23.746Z"
   },
   {
    "duration": 28,
    "start_time": "2023-07-26T06:58:23.752Z"
   },
   {
    "duration": 34,
    "start_time": "2023-07-26T06:58:23.782Z"
   },
   {
    "duration": 76,
    "start_time": "2023-07-26T06:58:23.817Z"
   },
   {
    "duration": 9,
    "start_time": "2023-07-26T06:58:23.894Z"
   },
   {
    "duration": 21,
    "start_time": "2023-07-26T06:58:23.904Z"
   },
   {
    "duration": 481,
    "start_time": "2023-07-26T06:58:23.926Z"
   },
   {
    "duration": 8,
    "start_time": "2023-07-26T06:58:24.410Z"
   },
   {
    "duration": 68,
    "start_time": "2023-07-26T06:58:24.419Z"
   },
   {
    "duration": 26,
    "start_time": "2023-07-26T06:58:24.488Z"
   },
   {
    "duration": 7,
    "start_time": "2023-07-26T06:58:24.515Z"
   },
   {
    "duration": 16,
    "start_time": "2023-07-26T06:58:24.524Z"
   },
   {
    "duration": 42,
    "start_time": "2023-07-26T06:58:24.541Z"
   },
   {
    "duration": 291,
    "start_time": "2023-07-26T06:58:24.585Z"
   },
   {
    "duration": 11,
    "start_time": "2023-07-26T06:58:24.878Z"
   },
   {
    "duration": 10,
    "start_time": "2023-07-26T06:58:24.891Z"
   },
   {
    "duration": 54,
    "start_time": "2023-07-26T06:58:24.903Z"
   },
   {
    "duration": 12,
    "start_time": "2023-07-26T06:58:24.959Z"
   },
   {
    "duration": 24,
    "start_time": "2023-07-26T06:58:24.973Z"
   },
   {
    "duration": 95,
    "start_time": "2023-07-26T06:58:24.999Z"
   },
   {
    "duration": 41,
    "start_time": "2023-07-26T06:58:25.096Z"
   },
   {
    "duration": 19,
    "start_time": "2023-07-26T06:58:25.138Z"
   },
   {
    "duration": 7,
    "start_time": "2023-07-26T06:58:25.159Z"
   },
   {
    "duration": 6,
    "start_time": "2023-07-26T06:58:25.168Z"
   },
   {
    "duration": 13,
    "start_time": "2023-07-26T06:58:25.176Z"
   },
   {
    "duration": 34,
    "start_time": "2023-07-26T06:58:25.193Z"
   },
   {
    "duration": 67,
    "start_time": "2023-07-26T06:58:25.229Z"
   },
   {
    "duration": 22,
    "start_time": "2023-07-26T06:58:25.298Z"
   },
   {
    "duration": 12,
    "start_time": "2023-07-26T06:58:25.322Z"
   },
   {
    "duration": 27,
    "start_time": "2023-07-26T06:58:25.335Z"
   },
   {
    "duration": 5,
    "start_time": "2023-07-26T06:58:25.364Z"
   },
   {
    "duration": 10,
    "start_time": "2023-07-26T06:58:25.370Z"
   },
   {
    "duration": 11,
    "start_time": "2023-07-26T06:58:25.381Z"
   },
   {
    "duration": 19,
    "start_time": "2023-07-26T06:58:25.394Z"
   },
   {
    "duration": 18,
    "start_time": "2023-07-26T06:58:25.414Z"
   },
   {
    "duration": 7,
    "start_time": "2023-07-26T06:58:25.433Z"
   },
   {
    "duration": 12,
    "start_time": "2023-07-26T06:58:25.441Z"
   },
   {
    "duration": 2,
    "start_time": "2023-07-26T06:58:25.457Z"
   },
   {
    "duration": 19,
    "start_time": "2023-07-26T06:58:25.461Z"
   },
   {
    "duration": 4,
    "start_time": "2023-07-26T06:58:25.482Z"
   },
   {
    "duration": 38,
    "start_time": "2023-07-26T06:58:25.488Z"
   },
   {
    "duration": 8,
    "start_time": "2023-07-26T06:58:25.528Z"
   },
   {
    "duration": 20,
    "start_time": "2023-07-26T06:58:25.538Z"
   },
   {
    "duration": 7,
    "start_time": "2023-07-26T06:58:25.560Z"
   },
   {
    "duration": 11,
    "start_time": "2023-07-26T06:58:25.568Z"
   },
   {
    "duration": 16,
    "start_time": "2023-07-26T06:58:25.581Z"
   },
   {
    "duration": 12,
    "start_time": "2023-07-26T06:58:25.598Z"
   },
   {
    "duration": 15,
    "start_time": "2023-07-26T06:58:25.611Z"
   },
   {
    "duration": 15,
    "start_time": "2023-07-26T06:58:25.656Z"
   },
   {
    "duration": 5,
    "start_time": "2023-07-26T06:58:25.673Z"
   },
   {
    "duration": 9,
    "start_time": "2023-07-26T06:58:25.680Z"
   },
   {
    "duration": 9,
    "start_time": "2023-07-26T06:58:25.692Z"
   },
   {
    "duration": 46,
    "start_time": "2023-07-26T06:58:25.703Z"
   },
   {
    "duration": 22,
    "start_time": "2023-07-26T06:58:25.750Z"
   },
   {
    "duration": 21,
    "start_time": "2023-07-26T06:58:25.774Z"
   },
   {
    "duration": 24,
    "start_time": "2023-07-26T06:58:25.797Z"
   },
   {
    "duration": 21,
    "start_time": "2023-07-26T06:58:25.823Z"
   },
   {
    "duration": 11,
    "start_time": "2023-07-26T06:58:25.846Z"
   },
   {
    "duration": 21,
    "start_time": "2023-07-26T06:58:25.859Z"
   },
   {
    "duration": 13,
    "start_time": "2023-07-26T06:58:25.881Z"
   },
   {
    "duration": 18,
    "start_time": "2023-07-26T06:58:25.896Z"
   },
   {
    "duration": 15,
    "start_time": "2023-07-26T06:58:25.916Z"
   },
   {
    "duration": 8,
    "start_time": "2023-07-26T06:58:25.933Z"
   },
   {
    "duration": 8,
    "start_time": "2023-07-26T06:58:25.943Z"
   },
   {
    "duration": 42,
    "start_time": "2023-07-26T06:58:25.952Z"
   },
   {
    "duration": 5,
    "start_time": "2023-07-26T06:58:25.995Z"
   },
   {
    "duration": 16,
    "start_time": "2023-07-26T06:58:26.001Z"
   },
   {
    "duration": 10,
    "start_time": "2023-07-26T06:58:26.019Z"
   },
   {
    "duration": 15,
    "start_time": "2023-07-26T06:58:26.030Z"
   },
   {
    "duration": 20,
    "start_time": "2023-07-26T06:58:26.047Z"
   },
   {
    "duration": 8,
    "start_time": "2023-07-26T06:58:26.068Z"
   },
   {
    "duration": 19,
    "start_time": "2023-07-26T06:58:26.077Z"
   },
   {
    "duration": 13,
    "start_time": "2023-07-26T06:58:26.098Z"
   },
   {
    "duration": 10,
    "start_time": "2023-07-26T06:58:26.112Z"
   },
   {
    "duration": 23,
    "start_time": "2023-07-26T06:58:26.124Z"
   },
   {
    "duration": 10,
    "start_time": "2023-07-26T06:58:26.148Z"
   },
   {
    "duration": 18,
    "start_time": "2023-07-26T06:58:26.160Z"
   },
   {
    "duration": 12,
    "start_time": "2023-07-26T06:58:26.180Z"
   },
   {
    "duration": 15,
    "start_time": "2023-07-26T06:58:26.193Z"
   },
   {
    "duration": 2,
    "start_time": "2023-07-26T06:58:26.218Z"
   },
   {
    "duration": 11,
    "start_time": "2023-07-26T06:58:26.221Z"
   },
   {
    "duration": 29,
    "start_time": "2023-07-26T06:58:26.234Z"
   },
   {
    "duration": 5,
    "start_time": "2023-07-26T06:58:26.265Z"
   },
   {
    "duration": 9,
    "start_time": "2023-07-26T06:58:26.271Z"
   },
   {
    "duration": 17,
    "start_time": "2023-07-26T06:58:26.281Z"
   },
   {
    "duration": 9,
    "start_time": "2023-07-26T06:58:26.299Z"
   },
   {
    "duration": 4,
    "start_time": "2023-07-26T06:58:26.310Z"
   },
   {
    "duration": 6,
    "start_time": "2023-07-26T06:58:26.315Z"
   },
   {
    "duration": 4,
    "start_time": "2023-07-26T06:58:26.322Z"
   },
   {
    "duration": 8,
    "start_time": "2023-07-26T06:58:26.328Z"
   },
   {
    "duration": 4,
    "start_time": "2023-07-26T06:58:26.338Z"
   },
   {
    "duration": 6,
    "start_time": "2023-07-26T06:58:26.344Z"
   },
   {
    "duration": 5,
    "start_time": "2023-07-26T06:58:26.351Z"
   },
   {
    "duration": 4,
    "start_time": "2023-07-26T06:58:26.358Z"
   },
   {
    "duration": 6,
    "start_time": "2023-07-26T06:58:26.364Z"
   },
   {
    "duration": 6,
    "start_time": "2023-07-26T06:58:26.371Z"
   },
   {
    "duration": 4,
    "start_time": "2023-07-26T06:58:26.378Z"
   },
   {
    "duration": 11,
    "start_time": "2023-07-26T06:58:26.384Z"
   },
   {
    "duration": 4,
    "start_time": "2023-07-26T06:58:26.396Z"
   },
   {
    "duration": 124,
    "start_time": "2023-07-26T06:58:26.402Z"
   },
   {
    "duration": 12,
    "start_time": "2023-07-26T06:58:26.527Z"
   },
   {
    "duration": 20,
    "start_time": "2023-07-26T06:58:26.541Z"
   },
   {
    "duration": 10,
    "start_time": "2023-07-26T06:58:26.563Z"
   },
   {
    "duration": 20,
    "start_time": "2023-07-26T06:58:26.575Z"
   },
   {
    "duration": 11,
    "start_time": "2023-07-26T06:58:26.596Z"
   },
   {
    "duration": 99,
    "start_time": "2023-07-26T06:58:26.609Z"
   },
   {
    "duration": 0,
    "start_time": "2023-07-26T06:58:26.710Z"
   },
   {
    "duration": 0,
    "start_time": "2023-07-26T06:58:26.711Z"
   },
   {
    "duration": 0,
    "start_time": "2023-07-26T06:58:26.712Z"
   },
   {
    "duration": 0,
    "start_time": "2023-07-26T06:58:26.713Z"
   },
   {
    "duration": 0,
    "start_time": "2023-07-26T06:58:26.714Z"
   },
   {
    "duration": 0,
    "start_time": "2023-07-26T06:58:26.714Z"
   },
   {
    "duration": 0,
    "start_time": "2023-07-26T06:58:26.716Z"
   },
   {
    "duration": 0,
    "start_time": "2023-07-26T06:58:26.717Z"
   },
   {
    "duration": 0,
    "start_time": "2023-07-26T06:58:26.718Z"
   },
   {
    "duration": 0,
    "start_time": "2023-07-26T06:58:26.719Z"
   },
   {
    "duration": 0,
    "start_time": "2023-07-26T06:58:26.722Z"
   },
   {
    "duration": 0,
    "start_time": "2023-07-26T06:58:26.723Z"
   },
   {
    "duration": 0,
    "start_time": "2023-07-26T06:58:26.724Z"
   },
   {
    "duration": 0,
    "start_time": "2023-07-26T06:58:26.756Z"
   },
   {
    "duration": 0,
    "start_time": "2023-07-26T06:58:26.758Z"
   },
   {
    "duration": 0,
    "start_time": "2023-07-26T06:58:26.759Z"
   },
   {
    "duration": 0,
    "start_time": "2023-07-26T06:58:26.760Z"
   },
   {
    "duration": 0,
    "start_time": "2023-07-26T06:58:26.761Z"
   },
   {
    "duration": 0,
    "start_time": "2023-07-26T06:58:26.762Z"
   },
   {
    "duration": 0,
    "start_time": "2023-07-26T06:58:26.763Z"
   },
   {
    "duration": 0,
    "start_time": "2023-07-26T06:58:26.763Z"
   },
   {
    "duration": 0,
    "start_time": "2023-07-26T06:58:26.764Z"
   },
   {
    "duration": 0,
    "start_time": "2023-07-26T06:58:26.765Z"
   },
   {
    "duration": 0,
    "start_time": "2023-07-26T06:58:26.766Z"
   },
   {
    "duration": 0,
    "start_time": "2023-07-26T06:58:26.768Z"
   },
   {
    "duration": 0,
    "start_time": "2023-07-26T06:58:26.769Z"
   },
   {
    "duration": 0,
    "start_time": "2023-07-26T06:58:26.770Z"
   },
   {
    "duration": 0,
    "start_time": "2023-07-26T06:58:26.771Z"
   },
   {
    "duration": 0,
    "start_time": "2023-07-26T06:58:26.772Z"
   },
   {
    "duration": 0,
    "start_time": "2023-07-26T06:58:26.773Z"
   },
   {
    "duration": 0,
    "start_time": "2023-07-26T06:58:26.774Z"
   },
   {
    "duration": 0,
    "start_time": "2023-07-26T06:58:26.775Z"
   },
   {
    "duration": 0,
    "start_time": "2023-07-26T06:58:26.776Z"
   },
   {
    "duration": 0,
    "start_time": "2023-07-26T06:58:26.778Z"
   },
   {
    "duration": 0,
    "start_time": "2023-07-26T06:58:26.779Z"
   },
   {
    "duration": 0,
    "start_time": "2023-07-26T06:58:26.780Z"
   },
   {
    "duration": 0,
    "start_time": "2023-07-26T06:58:26.781Z"
   },
   {
    "duration": 0,
    "start_time": "2023-07-26T06:58:26.783Z"
   },
   {
    "duration": 0,
    "start_time": "2023-07-26T06:58:26.784Z"
   },
   {
    "duration": 0,
    "start_time": "2023-07-26T06:58:26.786Z"
   },
   {
    "duration": 0,
    "start_time": "2023-07-26T06:58:26.787Z"
   },
   {
    "duration": 0,
    "start_time": "2023-07-26T06:58:26.788Z"
   },
   {
    "duration": 0,
    "start_time": "2023-07-26T06:58:26.789Z"
   },
   {
    "duration": 0,
    "start_time": "2023-07-26T06:58:26.791Z"
   },
   {
    "duration": 0,
    "start_time": "2023-07-26T06:58:26.792Z"
   },
   {
    "duration": 0,
    "start_time": "2023-07-26T06:58:26.856Z"
   },
   {
    "duration": 0,
    "start_time": "2023-07-26T06:58:26.858Z"
   },
   {
    "duration": 0,
    "start_time": "2023-07-26T06:58:26.859Z"
   },
   {
    "duration": 0,
    "start_time": "2023-07-26T06:58:26.860Z"
   },
   {
    "duration": 0,
    "start_time": "2023-07-26T06:58:26.861Z"
   },
   {
    "duration": 0,
    "start_time": "2023-07-26T06:58:26.862Z"
   },
   {
    "duration": 0,
    "start_time": "2023-07-26T06:58:26.864Z"
   },
   {
    "duration": 0,
    "start_time": "2023-07-26T06:58:26.865Z"
   },
   {
    "duration": 0,
    "start_time": "2023-07-26T06:58:26.866Z"
   },
   {
    "duration": 0,
    "start_time": "2023-07-26T06:58:26.868Z"
   },
   {
    "duration": 0,
    "start_time": "2023-07-26T06:58:26.869Z"
   },
   {
    "duration": 228,
    "start_time": "2023-07-26T07:05:01.257Z"
   },
   {
    "duration": 16,
    "start_time": "2023-07-26T07:05:14.294Z"
   },
   {
    "duration": 59,
    "start_time": "2023-07-26T07:05:44.452Z"
   },
   {
    "duration": 124,
    "start_time": "2023-07-26T07:07:44.713Z"
   },
   {
    "duration": 10,
    "start_time": "2023-07-26T07:07:46.831Z"
   },
   {
    "duration": 23,
    "start_time": "2023-07-26T07:07:48.677Z"
   },
   {
    "duration": 17,
    "start_time": "2023-07-26T07:08:24.692Z"
   },
   {
    "duration": 3,
    "start_time": "2023-07-26T07:10:11.704Z"
   },
   {
    "duration": 16,
    "start_time": "2023-07-26T07:21:44.618Z"
   },
   {
    "duration": 11,
    "start_time": "2023-07-26T07:23:53.840Z"
   },
   {
    "duration": 15,
    "start_time": "2023-07-26T07:24:55.009Z"
   },
   {
    "duration": 10,
    "start_time": "2023-07-26T07:24:55.682Z"
   },
   {
    "duration": 1948,
    "start_time": "2023-07-26T07:25:44.132Z"
   },
   {
    "duration": 5,
    "start_time": "2023-07-26T07:26:00.514Z"
   },
   {
    "duration": 10,
    "start_time": "2023-07-26T07:27:53.067Z"
   },
   {
    "duration": 6,
    "start_time": "2023-07-26T07:28:08.570Z"
   },
   {
    "duration": 5,
    "start_time": "2023-07-26T07:29:42.364Z"
   },
   {
    "duration": 13,
    "start_time": "2023-07-26T07:29:52.388Z"
   },
   {
    "duration": 5,
    "start_time": "2023-07-26T07:30:34.944Z"
   },
   {
    "duration": 7,
    "start_time": "2023-07-26T07:36:01.856Z"
   },
   {
    "duration": 5,
    "start_time": "2023-07-26T07:45:07.611Z"
   },
   {
    "duration": 7,
    "start_time": "2023-07-26T07:46:33.142Z"
   },
   {
    "duration": 5,
    "start_time": "2023-07-26T07:54:19.599Z"
   },
   {
    "duration": 12,
    "start_time": "2023-07-26T07:55:55.243Z"
   },
   {
    "duration": 7,
    "start_time": "2023-07-26T07:56:23.341Z"
   },
   {
    "duration": 10,
    "start_time": "2023-07-26T07:58:20.502Z"
   },
   {
    "duration": 1378,
    "start_time": "2023-07-26T07:59:27.838Z"
   },
   {
    "duration": 28,
    "start_time": "2023-07-26T07:59:29.219Z"
   },
   {
    "duration": 4,
    "start_time": "2023-07-26T07:59:29.249Z"
   },
   {
    "duration": 22,
    "start_time": "2023-07-26T07:59:29.256Z"
   },
   {
    "duration": 24,
    "start_time": "2023-07-26T07:59:29.280Z"
   },
   {
    "duration": 83,
    "start_time": "2023-07-26T07:59:29.306Z"
   },
   {
    "duration": 9,
    "start_time": "2023-07-26T07:59:29.391Z"
   },
   {
    "duration": 34,
    "start_time": "2023-07-26T07:59:29.402Z"
   },
   {
    "duration": 551,
    "start_time": "2023-07-26T07:59:29.438Z"
   },
   {
    "duration": 9,
    "start_time": "2023-07-26T07:59:29.992Z"
   },
   {
    "duration": 86,
    "start_time": "2023-07-26T07:59:30.003Z"
   },
   {
    "duration": 26,
    "start_time": "2023-07-26T07:59:30.091Z"
   },
   {
    "duration": 8,
    "start_time": "2023-07-26T07:59:30.118Z"
   },
   {
    "duration": 28,
    "start_time": "2023-07-26T07:59:30.127Z"
   },
   {
    "duration": 61,
    "start_time": "2023-07-26T07:59:30.157Z"
   },
   {
    "duration": 312,
    "start_time": "2023-07-26T07:59:30.220Z"
   },
   {
    "duration": 11,
    "start_time": "2023-07-26T07:59:30.534Z"
   },
   {
    "duration": 19,
    "start_time": "2023-07-26T07:59:30.557Z"
   },
   {
    "duration": 57,
    "start_time": "2023-07-26T07:59:30.578Z"
   },
   {
    "duration": 13,
    "start_time": "2023-07-26T07:59:30.637Z"
   },
   {
    "duration": 26,
    "start_time": "2023-07-26T07:59:30.652Z"
   },
   {
    "duration": 126,
    "start_time": "2023-07-26T07:59:30.680Z"
   },
   {
    "duration": 79,
    "start_time": "2023-07-26T07:59:30.808Z"
   },
   {
    "duration": 10,
    "start_time": "2023-07-26T07:59:30.889Z"
   },
   {
    "duration": 34,
    "start_time": "2023-07-26T07:59:30.901Z"
   },
   {
    "duration": 39,
    "start_time": "2023-07-26T07:59:30.937Z"
   },
   {
    "duration": 47,
    "start_time": "2023-07-26T07:59:30.978Z"
   },
   {
    "duration": 68,
    "start_time": "2023-07-26T07:59:31.030Z"
   },
   {
    "duration": 98,
    "start_time": "2023-07-26T07:59:31.100Z"
   },
   {
    "duration": 24,
    "start_time": "2023-07-26T07:59:31.200Z"
   },
   {
    "duration": 20,
    "start_time": "2023-07-26T07:59:31.226Z"
   },
   {
    "duration": 32,
    "start_time": "2023-07-26T07:59:31.248Z"
   },
   {
    "duration": 26,
    "start_time": "2023-07-26T07:59:31.282Z"
   },
   {
    "duration": 39,
    "start_time": "2023-07-26T07:59:31.309Z"
   },
   {
    "duration": 46,
    "start_time": "2023-07-26T07:59:31.349Z"
   },
   {
    "duration": 33,
    "start_time": "2023-07-26T07:59:31.396Z"
   },
   {
    "duration": 42,
    "start_time": "2023-07-26T07:59:31.431Z"
   },
   {
    "duration": 29,
    "start_time": "2023-07-26T07:59:31.475Z"
   },
   {
    "duration": 67,
    "start_time": "2023-07-26T07:59:31.506Z"
   },
   {
    "duration": 14,
    "start_time": "2023-07-26T07:59:31.575Z"
   },
   {
    "duration": 43,
    "start_time": "2023-07-26T07:59:31.591Z"
   },
   {
    "duration": 11,
    "start_time": "2023-07-26T07:59:31.636Z"
   },
   {
    "duration": 67,
    "start_time": "2023-07-26T07:59:31.648Z"
   },
   {
    "duration": 17,
    "start_time": "2023-07-26T07:59:31.717Z"
   },
   {
    "duration": 33,
    "start_time": "2023-07-26T07:59:31.736Z"
   },
   {
    "duration": 26,
    "start_time": "2023-07-26T07:59:31.771Z"
   },
   {
    "duration": 45,
    "start_time": "2023-07-26T07:59:31.799Z"
   },
   {
    "duration": 35,
    "start_time": "2023-07-26T07:59:31.846Z"
   },
   {
    "duration": 22,
    "start_time": "2023-07-26T07:59:31.883Z"
   },
   {
    "duration": 49,
    "start_time": "2023-07-26T07:59:31.907Z"
   },
   {
    "duration": 46,
    "start_time": "2023-07-26T07:59:31.958Z"
   },
   {
    "duration": 93,
    "start_time": "2023-07-26T07:59:32.006Z"
   },
   {
    "duration": 51,
    "start_time": "2023-07-26T07:59:32.100Z"
   },
   {
    "duration": 72,
    "start_time": "2023-07-26T07:59:32.153Z"
   },
   {
    "duration": 38,
    "start_time": "2023-07-26T07:59:32.227Z"
   },
   {
    "duration": 51,
    "start_time": "2023-07-26T07:59:32.267Z"
   },
   {
    "duration": 62,
    "start_time": "2023-07-26T07:59:32.319Z"
   },
   {
    "duration": 21,
    "start_time": "2023-07-26T07:59:32.383Z"
   },
   {
    "duration": 16,
    "start_time": "2023-07-26T07:59:32.405Z"
   },
   {
    "duration": 14,
    "start_time": "2023-07-26T07:59:32.423Z"
   },
   {
    "duration": 28,
    "start_time": "2023-07-26T07:59:32.439Z"
   },
   {
    "duration": 36,
    "start_time": "2023-07-26T07:59:32.468Z"
   },
   {
    "duration": 34,
    "start_time": "2023-07-26T07:59:32.506Z"
   },
   {
    "duration": 17,
    "start_time": "2023-07-26T07:59:32.542Z"
   },
   {
    "duration": 26,
    "start_time": "2023-07-26T07:59:32.561Z"
   },
   {
    "duration": 13,
    "start_time": "2023-07-26T07:59:32.589Z"
   },
   {
    "duration": 67,
    "start_time": "2023-07-26T07:59:32.604Z"
   },
   {
    "duration": 11,
    "start_time": "2023-07-26T07:59:32.672Z"
   },
   {
    "duration": 14,
    "start_time": "2023-07-26T07:59:32.684Z"
   },
   {
    "duration": 14,
    "start_time": "2023-07-26T07:59:32.699Z"
   },
   {
    "duration": 9,
    "start_time": "2023-07-26T07:59:32.715Z"
   },
   {
    "duration": 26,
    "start_time": "2023-07-26T07:59:32.725Z"
   },
   {
    "duration": 22,
    "start_time": "2023-07-26T07:59:32.753Z"
   },
   {
    "duration": 23,
    "start_time": "2023-07-26T07:59:32.778Z"
   },
   {
    "duration": 14,
    "start_time": "2023-07-26T07:59:32.802Z"
   },
   {
    "duration": 6,
    "start_time": "2023-07-26T07:59:32.817Z"
   },
   {
    "duration": 13,
    "start_time": "2023-07-26T07:59:32.824Z"
   },
   {
    "duration": 29,
    "start_time": "2023-07-26T07:59:32.838Z"
   },
   {
    "duration": 11,
    "start_time": "2023-07-26T07:59:32.869Z"
   },
   {
    "duration": 23,
    "start_time": "2023-07-26T07:59:32.882Z"
   },
   {
    "duration": 12,
    "start_time": "2023-07-26T07:59:32.907Z"
   },
   {
    "duration": 6,
    "start_time": "2023-07-26T07:59:32.927Z"
   },
   {
    "duration": 15,
    "start_time": "2023-07-26T07:59:32.934Z"
   },
   {
    "duration": 14,
    "start_time": "2023-07-26T07:59:32.951Z"
   },
   {
    "duration": 14,
    "start_time": "2023-07-26T07:59:32.967Z"
   },
   {
    "duration": 5,
    "start_time": "2023-07-26T07:59:32.982Z"
   },
   {
    "duration": 6,
    "start_time": "2023-07-26T07:59:32.988Z"
   },
   {
    "duration": 10,
    "start_time": "2023-07-26T07:59:32.995Z"
   },
   {
    "duration": 5,
    "start_time": "2023-07-26T07:59:33.007Z"
   },
   {
    "duration": 5,
    "start_time": "2023-07-26T07:59:33.013Z"
   },
   {
    "duration": 11,
    "start_time": "2023-07-26T07:59:33.019Z"
   },
   {
    "duration": 18,
    "start_time": "2023-07-26T07:59:33.032Z"
   },
   {
    "duration": 12,
    "start_time": "2023-07-26T07:59:33.052Z"
   },
   {
    "duration": 16,
    "start_time": "2023-07-26T07:59:33.065Z"
   },
   {
    "duration": 16,
    "start_time": "2023-07-26T07:59:33.083Z"
   },
   {
    "duration": 9,
    "start_time": "2023-07-26T07:59:33.101Z"
   },
   {
    "duration": 19,
    "start_time": "2023-07-26T07:59:33.111Z"
   },
   {
    "duration": 7,
    "start_time": "2023-07-26T07:59:33.132Z"
   },
   {
    "duration": 5,
    "start_time": "2023-07-26T07:59:33.140Z"
   },
   {
    "duration": 7,
    "start_time": "2023-07-26T07:59:33.146Z"
   },
   {
    "duration": 12,
    "start_time": "2023-07-26T07:59:33.155Z"
   },
   {
    "duration": 154,
    "start_time": "2023-07-26T07:59:33.168Z"
   },
   {
    "duration": 11,
    "start_time": "2023-07-26T07:59:33.324Z"
   },
   {
    "duration": 16,
    "start_time": "2023-07-26T07:59:33.336Z"
   },
   {
    "duration": 19,
    "start_time": "2023-07-26T07:59:33.354Z"
   },
   {
    "duration": 22,
    "start_time": "2023-07-26T07:59:33.374Z"
   },
   {
    "duration": 16,
    "start_time": "2023-07-26T07:59:33.398Z"
   },
   {
    "duration": 18,
    "start_time": "2023-07-26T07:59:33.416Z"
   },
   {
    "duration": 152,
    "start_time": "2023-07-26T07:59:33.435Z"
   },
   {
    "duration": 11,
    "start_time": "2023-07-26T07:59:33.589Z"
   },
   {
    "duration": 26,
    "start_time": "2023-07-26T07:59:33.601Z"
   },
   {
    "duration": 36,
    "start_time": "2023-07-26T07:59:33.628Z"
   },
   {
    "duration": 3,
    "start_time": "2023-07-26T07:59:33.666Z"
   },
   {
    "duration": 30,
    "start_time": "2023-07-26T07:59:33.671Z"
   },
   {
    "duration": 21,
    "start_time": "2023-07-26T07:59:33.703Z"
   },
   {
    "duration": 27,
    "start_time": "2023-07-26T07:59:33.725Z"
   },
   {
    "duration": 17,
    "start_time": "2023-07-26T07:59:33.754Z"
   },
   {
    "duration": 6,
    "start_time": "2023-07-26T07:59:33.773Z"
   },
   {
    "duration": 11,
    "start_time": "2023-07-26T07:59:33.781Z"
   },
   {
    "duration": 24,
    "start_time": "2023-07-26T07:59:33.794Z"
   },
   {
    "duration": 10,
    "start_time": "2023-07-26T07:59:33.820Z"
   },
   {
    "duration": 19,
    "start_time": "2023-07-26T07:59:33.832Z"
   },
   {
    "duration": 21,
    "start_time": "2023-07-26T07:59:33.853Z"
   },
   {
    "duration": 28,
    "start_time": "2023-07-26T07:59:33.876Z"
   },
   {
    "duration": 12,
    "start_time": "2023-07-26T07:59:33.906Z"
   },
   {
    "duration": 115,
    "start_time": "2023-07-26T07:59:33.920Z"
   },
   {
    "duration": 0,
    "start_time": "2023-07-26T07:59:34.036Z"
   },
   {
    "duration": 0,
    "start_time": "2023-07-26T07:59:34.037Z"
   },
   {
    "duration": 0,
    "start_time": "2023-07-26T07:59:34.038Z"
   },
   {
    "duration": 0,
    "start_time": "2023-07-26T07:59:34.040Z"
   },
   {
    "duration": 0,
    "start_time": "2023-07-26T07:59:34.041Z"
   },
   {
    "duration": 0,
    "start_time": "2023-07-26T07:59:34.061Z"
   },
   {
    "duration": 0,
    "start_time": "2023-07-26T07:59:34.062Z"
   },
   {
    "duration": 0,
    "start_time": "2023-07-26T07:59:34.063Z"
   },
   {
    "duration": 0,
    "start_time": "2023-07-26T07:59:34.063Z"
   },
   {
    "duration": 0,
    "start_time": "2023-07-26T07:59:34.064Z"
   },
   {
    "duration": 0,
    "start_time": "2023-07-26T07:59:34.065Z"
   },
   {
    "duration": 0,
    "start_time": "2023-07-26T07:59:34.066Z"
   },
   {
    "duration": 0,
    "start_time": "2023-07-26T07:59:34.067Z"
   },
   {
    "duration": 0,
    "start_time": "2023-07-26T07:59:34.068Z"
   },
   {
    "duration": 0,
    "start_time": "2023-07-26T07:59:34.069Z"
   },
   {
    "duration": 0,
    "start_time": "2023-07-26T07:59:34.070Z"
   },
   {
    "duration": 0,
    "start_time": "2023-07-26T07:59:34.072Z"
   },
   {
    "duration": 0,
    "start_time": "2023-07-26T07:59:34.073Z"
   },
   {
    "duration": 0,
    "start_time": "2023-07-26T07:59:34.074Z"
   },
   {
    "duration": 0,
    "start_time": "2023-07-26T07:59:34.075Z"
   },
   {
    "duration": 0,
    "start_time": "2023-07-26T07:59:34.076Z"
   },
   {
    "duration": 0,
    "start_time": "2023-07-26T07:59:34.076Z"
   },
   {
    "duration": 0,
    "start_time": "2023-07-26T07:59:34.077Z"
   },
   {
    "duration": 0,
    "start_time": "2023-07-26T07:59:34.078Z"
   },
   {
    "duration": 0,
    "start_time": "2023-07-26T07:59:34.079Z"
   },
   {
    "duration": 0,
    "start_time": "2023-07-26T07:59:34.080Z"
   },
   {
    "duration": 0,
    "start_time": "2023-07-26T07:59:34.081Z"
   },
   {
    "duration": 0,
    "start_time": "2023-07-26T07:59:34.082Z"
   },
   {
    "duration": 0,
    "start_time": "2023-07-26T07:59:34.083Z"
   },
   {
    "duration": 0,
    "start_time": "2023-07-26T07:59:34.084Z"
   },
   {
    "duration": 0,
    "start_time": "2023-07-26T07:59:34.084Z"
   },
   {
    "duration": 0,
    "start_time": "2023-07-26T07:59:34.085Z"
   },
   {
    "duration": 0,
    "start_time": "2023-07-26T07:59:34.086Z"
   },
   {
    "duration": 0,
    "start_time": "2023-07-26T07:59:34.087Z"
   },
   {
    "duration": 0,
    "start_time": "2023-07-26T07:59:34.088Z"
   },
   {
    "duration": 0,
    "start_time": "2023-07-26T07:59:34.089Z"
   },
   {
    "duration": 0,
    "start_time": "2023-07-26T07:59:34.090Z"
   },
   {
    "duration": 0,
    "start_time": "2023-07-26T07:59:34.091Z"
   },
   {
    "duration": 0,
    "start_time": "2023-07-26T07:59:34.092Z"
   },
   {
    "duration": 0,
    "start_time": "2023-07-26T07:59:34.093Z"
   },
   {
    "duration": 0,
    "start_time": "2023-07-26T07:59:34.094Z"
   },
   {
    "duration": 0,
    "start_time": "2023-07-26T07:59:34.095Z"
   },
   {
    "duration": 0,
    "start_time": "2023-07-26T07:59:34.096Z"
   },
   {
    "duration": 0,
    "start_time": "2023-07-26T07:59:34.097Z"
   },
   {
    "duration": 0,
    "start_time": "2023-07-26T07:59:34.099Z"
   },
   {
    "duration": 0,
    "start_time": "2023-07-26T07:59:34.156Z"
   },
   {
    "duration": 0,
    "start_time": "2023-07-26T07:59:34.157Z"
   },
   {
    "duration": 0,
    "start_time": "2023-07-26T07:59:34.158Z"
   },
   {
    "duration": 0,
    "start_time": "2023-07-26T07:59:34.160Z"
   },
   {
    "duration": 0,
    "start_time": "2023-07-26T07:59:34.161Z"
   },
   {
    "duration": 0,
    "start_time": "2023-07-26T07:59:34.162Z"
   },
   {
    "duration": 3,
    "start_time": "2023-07-26T08:04:25.665Z"
   },
   {
    "duration": 11,
    "start_time": "2023-07-26T08:05:31.541Z"
   },
   {
    "duration": 480,
    "start_time": "2023-07-26T08:06:42.276Z"
   },
   {
    "duration": 13,
    "start_time": "2023-07-26T08:07:38.242Z"
   },
   {
    "duration": 125,
    "start_time": "2023-07-26T08:08:56.469Z"
   },
   {
    "duration": 6,
    "start_time": "2023-07-26T08:26:45.656Z"
   },
   {
    "duration": 241,
    "start_time": "2023-07-26T08:29:35.399Z"
   },
   {
    "duration": 81,
    "start_time": "2023-07-26T08:30:15.481Z"
   },
   {
    "duration": 12,
    "start_time": "2023-07-26T08:30:41.716Z"
   },
   {
    "duration": 4,
    "start_time": "2023-07-26T08:32:43.637Z"
   },
   {
    "duration": 22,
    "start_time": "2023-07-26T08:35:08.375Z"
   },
   {
    "duration": 10,
    "start_time": "2023-07-26T08:35:42.972Z"
   },
   {
    "duration": 32,
    "start_time": "2023-07-26T08:36:11.804Z"
   },
   {
    "duration": 1417,
    "start_time": "2023-07-26T08:36:20.639Z"
   },
   {
    "duration": 28,
    "start_time": "2023-07-26T08:36:22.059Z"
   },
   {
    "duration": 4,
    "start_time": "2023-07-26T08:36:22.089Z"
   },
   {
    "duration": 16,
    "start_time": "2023-07-26T08:36:22.095Z"
   },
   {
    "duration": 11,
    "start_time": "2023-07-26T08:36:22.112Z"
   },
   {
    "duration": 77,
    "start_time": "2023-07-26T08:36:22.124Z"
   },
   {
    "duration": 9,
    "start_time": "2023-07-26T08:36:22.203Z"
   },
   {
    "duration": 25,
    "start_time": "2023-07-26T08:36:22.214Z"
   },
   {
    "duration": 574,
    "start_time": "2023-07-26T08:36:22.257Z"
   },
   {
    "duration": 9,
    "start_time": "2023-07-26T08:36:22.835Z"
   },
   {
    "duration": 64,
    "start_time": "2023-07-26T08:36:22.857Z"
   },
   {
    "duration": 28,
    "start_time": "2023-07-26T08:36:22.923Z"
   },
   {
    "duration": 9,
    "start_time": "2023-07-26T08:36:22.952Z"
   },
   {
    "duration": 21,
    "start_time": "2023-07-26T08:36:22.962Z"
   },
   {
    "duration": 38,
    "start_time": "2023-07-26T08:36:22.985Z"
   },
   {
    "duration": 355,
    "start_time": "2023-07-26T08:36:23.025Z"
   },
   {
    "duration": 12,
    "start_time": "2023-07-26T08:36:23.382Z"
   },
   {
    "duration": 7,
    "start_time": "2023-07-26T08:36:23.396Z"
   },
   {
    "duration": 54,
    "start_time": "2023-07-26T08:36:23.404Z"
   },
   {
    "duration": 17,
    "start_time": "2023-07-26T08:36:23.460Z"
   },
   {
    "duration": 18,
    "start_time": "2023-07-26T08:36:23.479Z"
   },
   {
    "duration": 126,
    "start_time": "2023-07-26T08:36:23.499Z"
   },
   {
    "duration": 53,
    "start_time": "2023-07-26T08:36:23.627Z"
   },
   {
    "duration": 9,
    "start_time": "2023-07-26T08:36:23.682Z"
   },
   {
    "duration": 5,
    "start_time": "2023-07-26T08:36:23.692Z"
   },
   {
    "duration": 10,
    "start_time": "2023-07-26T08:36:23.699Z"
   },
   {
    "duration": 20,
    "start_time": "2023-07-26T08:36:23.710Z"
   },
   {
    "duration": 41,
    "start_time": "2023-07-26T08:36:23.734Z"
   },
   {
    "duration": 69,
    "start_time": "2023-07-26T08:36:23.777Z"
   },
   {
    "duration": 28,
    "start_time": "2023-07-26T08:36:23.857Z"
   },
   {
    "duration": 11,
    "start_time": "2023-07-26T08:36:23.887Z"
   },
   {
    "duration": 9,
    "start_time": "2023-07-26T08:36:23.900Z"
   },
   {
    "duration": 5,
    "start_time": "2023-07-26T08:36:23.910Z"
   },
   {
    "duration": 23,
    "start_time": "2023-07-26T08:36:23.917Z"
   },
   {
    "duration": 6,
    "start_time": "2023-07-26T08:36:23.956Z"
   },
   {
    "duration": 11,
    "start_time": "2023-07-26T08:36:23.964Z"
   },
   {
    "duration": 14,
    "start_time": "2023-07-26T08:36:23.977Z"
   },
   {
    "duration": 7,
    "start_time": "2023-07-26T08:36:23.992Z"
   },
   {
    "duration": 7,
    "start_time": "2023-07-26T08:36:24.000Z"
   },
   {
    "duration": 5,
    "start_time": "2023-07-26T08:36:24.009Z"
   },
   {
    "duration": 44,
    "start_time": "2023-07-26T08:36:24.015Z"
   },
   {
    "duration": 5,
    "start_time": "2023-07-26T08:36:24.063Z"
   },
   {
    "duration": 57,
    "start_time": "2023-07-26T08:36:24.070Z"
   },
   {
    "duration": 9,
    "start_time": "2023-07-26T08:36:24.130Z"
   },
   {
    "duration": 15,
    "start_time": "2023-07-26T08:36:24.141Z"
   },
   {
    "duration": 14,
    "start_time": "2023-07-26T08:36:24.158Z"
   },
   {
    "duration": 37,
    "start_time": "2023-07-26T08:36:24.175Z"
   },
   {
    "duration": 29,
    "start_time": "2023-07-26T08:36:24.214Z"
   },
   {
    "duration": 14,
    "start_time": "2023-07-26T08:36:24.245Z"
   },
   {
    "duration": 24,
    "start_time": "2023-07-26T08:36:24.262Z"
   },
   {
    "duration": 35,
    "start_time": "2023-07-26T08:36:24.288Z"
   },
   {
    "duration": 4,
    "start_time": "2023-07-26T08:36:24.325Z"
   },
   {
    "duration": 15,
    "start_time": "2023-07-26T08:36:24.330Z"
   },
   {
    "duration": 9,
    "start_time": "2023-07-26T08:36:24.346Z"
   },
   {
    "duration": 8,
    "start_time": "2023-07-26T08:36:24.357Z"
   },
   {
    "duration": 26,
    "start_time": "2023-07-26T08:36:24.367Z"
   },
   {
    "duration": 14,
    "start_time": "2023-07-26T08:36:24.395Z"
   },
   {
    "duration": 10,
    "start_time": "2023-07-26T08:36:24.411Z"
   },
   {
    "duration": 5,
    "start_time": "2023-07-26T08:36:24.422Z"
   },
   {
    "duration": 7,
    "start_time": "2023-07-26T08:36:24.428Z"
   },
   {
    "duration": 30,
    "start_time": "2023-07-26T08:36:24.436Z"
   },
   {
    "duration": 8,
    "start_time": "2023-07-26T08:36:24.468Z"
   },
   {
    "duration": 6,
    "start_time": "2023-07-26T08:36:24.478Z"
   },
   {
    "duration": 13,
    "start_time": "2023-07-26T08:36:24.486Z"
   },
   {
    "duration": 8,
    "start_time": "2023-07-26T08:36:24.501Z"
   },
   {
    "duration": 8,
    "start_time": "2023-07-26T08:36:24.511Z"
   },
   {
    "duration": 36,
    "start_time": "2023-07-26T08:36:24.521Z"
   },
   {
    "duration": 6,
    "start_time": "2023-07-26T08:36:24.560Z"
   },
   {
    "duration": 19,
    "start_time": "2023-07-26T08:36:24.568Z"
   },
   {
    "duration": 3,
    "start_time": "2023-07-26T08:36:24.589Z"
   },
   {
    "duration": 10,
    "start_time": "2023-07-26T08:36:24.594Z"
   },
   {
    "duration": 9,
    "start_time": "2023-07-26T08:36:24.606Z"
   },
   {
    "duration": 7,
    "start_time": "2023-07-26T08:36:24.617Z"
   },
   {
    "duration": 38,
    "start_time": "2023-07-26T08:36:24.625Z"
   },
   {
    "duration": 15,
    "start_time": "2023-07-26T08:36:24.665Z"
   },
   {
    "duration": 4,
    "start_time": "2023-07-26T08:36:24.682Z"
   },
   {
    "duration": 14,
    "start_time": "2023-07-26T08:36:24.687Z"
   },
   {
    "duration": 10,
    "start_time": "2023-07-26T08:36:24.703Z"
   },
   {
    "duration": 10,
    "start_time": "2023-07-26T08:36:24.715Z"
   },
   {
    "duration": 20,
    "start_time": "2023-07-26T08:36:24.726Z"
   },
   {
    "duration": 19,
    "start_time": "2023-07-26T08:36:24.758Z"
   },
   {
    "duration": 3,
    "start_time": "2023-07-26T08:36:24.785Z"
   },
   {
    "duration": 4,
    "start_time": "2023-07-26T08:36:24.790Z"
   },
   {
    "duration": 6,
    "start_time": "2023-07-26T08:36:24.796Z"
   },
   {
    "duration": 5,
    "start_time": "2023-07-26T08:36:24.803Z"
   },
   {
    "duration": 15,
    "start_time": "2023-07-26T08:36:24.810Z"
   },
   {
    "duration": 24,
    "start_time": "2023-07-26T08:36:24.827Z"
   },
   {
    "duration": 34,
    "start_time": "2023-07-26T08:36:24.853Z"
   },
   {
    "duration": 4,
    "start_time": "2023-07-26T08:36:24.889Z"
   },
   {
    "duration": 5,
    "start_time": "2023-07-26T08:36:24.895Z"
   },
   {
    "duration": 5,
    "start_time": "2023-07-26T08:36:24.902Z"
   },
   {
    "duration": 8,
    "start_time": "2023-07-26T08:36:24.909Z"
   },
   {
    "duration": 5,
    "start_time": "2023-07-26T08:36:24.919Z"
   },
   {
    "duration": 4,
    "start_time": "2023-07-26T08:36:24.925Z"
   },
   {
    "duration": 9,
    "start_time": "2023-07-26T08:36:24.931Z"
   },
   {
    "duration": 6,
    "start_time": "2023-07-26T08:36:24.942Z"
   },
   {
    "duration": 5,
    "start_time": "2023-07-26T08:36:24.950Z"
   },
   {
    "duration": 11,
    "start_time": "2023-07-26T08:36:24.958Z"
   },
   {
    "duration": 4,
    "start_time": "2023-07-26T08:36:24.973Z"
   },
   {
    "duration": 13,
    "start_time": "2023-07-26T08:36:24.979Z"
   },
   {
    "duration": 6,
    "start_time": "2023-07-26T08:36:24.993Z"
   },
   {
    "duration": 155,
    "start_time": "2023-07-26T08:36:25.001Z"
   },
   {
    "duration": 12,
    "start_time": "2023-07-26T08:36:25.157Z"
   },
   {
    "duration": 9,
    "start_time": "2023-07-26T08:36:25.171Z"
   },
   {
    "duration": 12,
    "start_time": "2023-07-26T08:36:25.182Z"
   },
   {
    "duration": 16,
    "start_time": "2023-07-26T08:36:25.196Z"
   },
   {
    "duration": 15,
    "start_time": "2023-07-26T08:36:25.214Z"
   },
   {
    "duration": 40,
    "start_time": "2023-07-26T08:36:25.231Z"
   },
   {
    "duration": 178,
    "start_time": "2023-07-26T08:36:25.274Z"
   },
   {
    "duration": 19,
    "start_time": "2023-07-26T08:36:25.456Z"
   },
   {
    "duration": 69,
    "start_time": "2023-07-26T08:36:25.480Z"
   },
   {
    "duration": 126,
    "start_time": "2023-07-26T08:36:25.551Z"
   },
   {
    "duration": 136,
    "start_time": "2023-07-26T08:36:25.679Z"
   },
   {
    "duration": 88,
    "start_time": "2023-07-26T08:36:25.817Z"
   },
   {
    "duration": 16,
    "start_time": "2023-07-26T08:36:25.907Z"
   },
   {
    "duration": 42,
    "start_time": "2023-07-26T08:36:25.925Z"
   },
   {
    "duration": 23,
    "start_time": "2023-07-26T08:36:25.970Z"
   },
   {
    "duration": 14,
    "start_time": "2023-07-26T08:36:25.995Z"
   },
   {
    "duration": 18,
    "start_time": "2023-07-26T08:36:26.011Z"
   },
   {
    "duration": 18,
    "start_time": "2023-07-26T08:36:26.031Z"
   },
   {
    "duration": 28,
    "start_time": "2023-07-26T08:36:26.051Z"
   },
   {
    "duration": 11,
    "start_time": "2023-07-26T08:36:26.080Z"
   },
   {
    "duration": 30,
    "start_time": "2023-07-26T08:36:26.093Z"
   },
   {
    "duration": 13,
    "start_time": "2023-07-26T08:36:26.124Z"
   },
   {
    "duration": 483,
    "start_time": "2023-07-26T08:36:26.139Z"
   },
   {
    "duration": 3,
    "start_time": "2023-07-26T08:36:26.624Z"
   },
   {
    "duration": 248,
    "start_time": "2023-07-26T08:36:26.629Z"
   },
   {
    "duration": 0,
    "start_time": "2023-07-26T08:36:26.879Z"
   },
   {
    "duration": 0,
    "start_time": "2023-07-26T08:36:26.881Z"
   },
   {
    "duration": 0,
    "start_time": "2023-07-26T08:36:26.882Z"
   },
   {
    "duration": 0,
    "start_time": "2023-07-26T08:36:26.883Z"
   },
   {
    "duration": 0,
    "start_time": "2023-07-26T08:36:26.885Z"
   },
   {
    "duration": 0,
    "start_time": "2023-07-26T08:36:26.886Z"
   },
   {
    "duration": 0,
    "start_time": "2023-07-26T08:36:26.887Z"
   },
   {
    "duration": 0,
    "start_time": "2023-07-26T08:36:26.888Z"
   },
   {
    "duration": 0,
    "start_time": "2023-07-26T08:36:26.889Z"
   },
   {
    "duration": 0,
    "start_time": "2023-07-26T08:36:26.890Z"
   },
   {
    "duration": 0,
    "start_time": "2023-07-26T08:36:26.891Z"
   },
   {
    "duration": 0,
    "start_time": "2023-07-26T08:36:26.893Z"
   },
   {
    "duration": 0,
    "start_time": "2023-07-26T08:36:26.894Z"
   },
   {
    "duration": 0,
    "start_time": "2023-07-26T08:36:26.894Z"
   },
   {
    "duration": 0,
    "start_time": "2023-07-26T08:36:26.895Z"
   },
   {
    "duration": 0,
    "start_time": "2023-07-26T08:36:26.896Z"
   },
   {
    "duration": 0,
    "start_time": "2023-07-26T08:36:26.898Z"
   },
   {
    "duration": 0,
    "start_time": "2023-07-26T08:36:26.899Z"
   },
   {
    "duration": 0,
    "start_time": "2023-07-26T08:36:26.900Z"
   },
   {
    "duration": 0,
    "start_time": "2023-07-26T08:36:26.901Z"
   },
   {
    "duration": 0,
    "start_time": "2023-07-26T08:36:26.902Z"
   },
   {
    "duration": 0,
    "start_time": "2023-07-26T08:36:26.904Z"
   },
   {
    "duration": 0,
    "start_time": "2023-07-26T08:36:26.905Z"
   },
   {
    "duration": 0,
    "start_time": "2023-07-26T08:36:26.906Z"
   },
   {
    "duration": 0,
    "start_time": "2023-07-26T08:36:26.907Z"
   },
   {
    "duration": 0,
    "start_time": "2023-07-26T08:36:26.908Z"
   },
   {
    "duration": 0,
    "start_time": "2023-07-26T08:36:26.909Z"
   },
   {
    "duration": 0,
    "start_time": "2023-07-26T08:36:26.909Z"
   },
   {
    "duration": 0,
    "start_time": "2023-07-26T08:36:26.910Z"
   },
   {
    "duration": 0,
    "start_time": "2023-07-26T08:36:26.910Z"
   },
   {
    "duration": 0,
    "start_time": "2023-07-26T08:36:26.911Z"
   },
   {
    "duration": 0,
    "start_time": "2023-07-26T08:36:26.956Z"
   },
   {
    "duration": 0,
    "start_time": "2023-07-26T08:36:26.957Z"
   },
   {
    "duration": 0,
    "start_time": "2023-07-26T08:36:26.960Z"
   },
   {
    "duration": 0,
    "start_time": "2023-07-26T08:36:26.961Z"
   },
   {
    "duration": 1,
    "start_time": "2023-07-26T08:36:26.961Z"
   },
   {
    "duration": 0,
    "start_time": "2023-07-26T08:36:26.962Z"
   },
   {
    "duration": 0,
    "start_time": "2023-07-26T08:36:26.963Z"
   },
   {
    "duration": 0,
    "start_time": "2023-07-26T08:36:26.963Z"
   },
   {
    "duration": 0,
    "start_time": "2023-07-26T08:36:26.964Z"
   },
   {
    "duration": 0,
    "start_time": "2023-07-26T08:36:26.967Z"
   },
   {
    "duration": 0,
    "start_time": "2023-07-26T08:36:26.968Z"
   },
   {
    "duration": 0,
    "start_time": "2023-07-26T08:36:26.969Z"
   },
   {
    "duration": 0,
    "start_time": "2023-07-26T08:36:26.969Z"
   },
   {
    "duration": 0,
    "start_time": "2023-07-26T08:36:26.970Z"
   },
   {
    "duration": 0,
    "start_time": "2023-07-26T08:36:26.970Z"
   },
   {
    "duration": 0,
    "start_time": "2023-07-26T08:36:26.971Z"
   },
   {
    "duration": 0,
    "start_time": "2023-07-26T08:36:26.976Z"
   },
   {
    "duration": 0,
    "start_time": "2023-07-26T08:36:26.977Z"
   },
   {
    "duration": 0,
    "start_time": "2023-07-26T08:36:26.978Z"
   },
   {
    "duration": 0,
    "start_time": "2023-07-26T08:36:26.979Z"
   },
   {
    "duration": 0,
    "start_time": "2023-07-26T08:36:26.980Z"
   },
   {
    "duration": 0,
    "start_time": "2023-07-26T08:36:26.981Z"
   },
   {
    "duration": 0,
    "start_time": "2023-07-26T08:36:26.982Z"
   },
   {
    "duration": 21,
    "start_time": "2023-07-26T08:37:02.790Z"
   },
   {
    "duration": 9,
    "start_time": "2023-07-26T08:37:04.584Z"
   },
   {
    "duration": 12,
    "start_time": "2023-07-26T08:37:17.840Z"
   },
   {
    "duration": 13,
    "start_time": "2023-07-26T08:39:00.422Z"
   },
   {
    "duration": 10,
    "start_time": "2023-07-26T08:39:13.719Z"
   },
   {
    "duration": 8,
    "start_time": "2023-07-26T08:39:51.221Z"
   },
   {
    "duration": 12,
    "start_time": "2023-07-26T08:40:58.385Z"
   },
   {
    "duration": 7,
    "start_time": "2023-07-26T08:40:59.308Z"
   },
   {
    "duration": 6,
    "start_time": "2023-07-26T08:41:00.561Z"
   },
   {
    "duration": 3,
    "start_time": "2023-07-26T08:41:08.251Z"
   },
   {
    "duration": 4,
    "start_time": "2023-07-26T08:41:09.042Z"
   },
   {
    "duration": 16,
    "start_time": "2023-07-26T08:50:42.157Z"
   },
   {
    "duration": 6,
    "start_time": "2023-07-26T08:51:21.598Z"
   },
   {
    "duration": 6,
    "start_time": "2023-07-26T08:51:22.132Z"
   },
   {
    "duration": 8,
    "start_time": "2023-07-26T08:51:54.543Z"
   },
   {
    "duration": 9,
    "start_time": "2023-07-26T08:52:09.702Z"
   },
   {
    "duration": 21,
    "start_time": "2023-07-26T08:52:44.139Z"
   },
   {
    "duration": 1379,
    "start_time": "2023-07-26T08:52:53.219Z"
   },
   {
    "duration": 28,
    "start_time": "2023-07-26T08:52:54.599Z"
   },
   {
    "duration": 4,
    "start_time": "2023-07-26T08:52:54.628Z"
   },
   {
    "duration": 22,
    "start_time": "2023-07-26T08:52:54.635Z"
   },
   {
    "duration": 16,
    "start_time": "2023-07-26T08:52:54.658Z"
   },
   {
    "duration": 69,
    "start_time": "2023-07-26T08:52:54.677Z"
   },
   {
    "duration": 16,
    "start_time": "2023-07-26T08:52:54.748Z"
   },
   {
    "duration": 23,
    "start_time": "2023-07-26T08:52:54.767Z"
   },
   {
    "duration": 512,
    "start_time": "2023-07-26T08:52:54.792Z"
   },
   {
    "duration": 10,
    "start_time": "2023-07-26T08:52:55.307Z"
   },
   {
    "duration": 83,
    "start_time": "2023-07-26T08:52:55.319Z"
   },
   {
    "duration": 26,
    "start_time": "2023-07-26T08:52:55.405Z"
   },
   {
    "duration": 8,
    "start_time": "2023-07-26T08:52:55.432Z"
   },
   {
    "duration": 21,
    "start_time": "2023-07-26T08:52:55.441Z"
   },
   {
    "duration": 34,
    "start_time": "2023-07-26T08:52:55.464Z"
   },
   {
    "duration": 309,
    "start_time": "2023-07-26T08:52:55.500Z"
   },
   {
    "duration": 11,
    "start_time": "2023-07-26T08:52:55.812Z"
   },
   {
    "duration": 6,
    "start_time": "2023-07-26T08:52:55.825Z"
   },
   {
    "duration": 60,
    "start_time": "2023-07-26T08:52:55.834Z"
   },
   {
    "duration": 12,
    "start_time": "2023-07-26T08:52:55.895Z"
   },
   {
    "duration": 18,
    "start_time": "2023-07-26T08:52:55.909Z"
   },
   {
    "duration": 107,
    "start_time": "2023-07-26T08:52:55.929Z"
   },
   {
    "duration": 58,
    "start_time": "2023-07-26T08:52:56.037Z"
   },
   {
    "duration": 8,
    "start_time": "2023-07-26T08:52:56.097Z"
   },
   {
    "duration": 6,
    "start_time": "2023-07-26T08:52:56.107Z"
   },
   {
    "duration": 7,
    "start_time": "2023-07-26T08:52:56.115Z"
   },
   {
    "duration": 11,
    "start_time": "2023-07-26T08:52:56.124Z"
   },
   {
    "duration": 34,
    "start_time": "2023-07-26T08:52:56.156Z"
   },
   {
    "duration": 70,
    "start_time": "2023-07-26T08:52:56.192Z"
   },
   {
    "duration": 23,
    "start_time": "2023-07-26T08:52:56.263Z"
   },
   {
    "duration": 35,
    "start_time": "2023-07-26T08:52:56.288Z"
   },
   {
    "duration": 9,
    "start_time": "2023-07-26T08:52:56.324Z"
   },
   {
    "duration": 6,
    "start_time": "2023-07-26T08:52:56.335Z"
   },
   {
    "duration": 15,
    "start_time": "2023-07-26T08:52:56.343Z"
   },
   {
    "duration": 10,
    "start_time": "2023-07-26T08:52:56.360Z"
   },
   {
    "duration": 10,
    "start_time": "2023-07-26T08:52:56.373Z"
   },
   {
    "duration": 8,
    "start_time": "2023-07-26T08:52:56.384Z"
   },
   {
    "duration": 6,
    "start_time": "2023-07-26T08:52:56.393Z"
   },
   {
    "duration": 6,
    "start_time": "2023-07-26T08:52:56.400Z"
   },
   {
    "duration": 19,
    "start_time": "2023-07-26T08:52:56.408Z"
   },
   {
    "duration": 31,
    "start_time": "2023-07-26T08:52:56.429Z"
   },
   {
    "duration": 5,
    "start_time": "2023-07-26T08:52:56.462Z"
   },
   {
    "duration": 36,
    "start_time": "2023-07-26T08:52:56.469Z"
   },
   {
    "duration": 8,
    "start_time": "2023-07-26T08:52:56.507Z"
   },
   {
    "duration": 18,
    "start_time": "2023-07-26T08:52:56.517Z"
   },
   {
    "duration": 19,
    "start_time": "2023-07-26T08:52:56.537Z"
   },
   {
    "duration": 12,
    "start_time": "2023-07-26T08:52:56.558Z"
   },
   {
    "duration": 18,
    "start_time": "2023-07-26T08:52:56.572Z"
   },
   {
    "duration": 36,
    "start_time": "2023-07-26T08:52:56.592Z"
   },
   {
    "duration": 14,
    "start_time": "2023-07-26T08:52:56.630Z"
   },
   {
    "duration": 18,
    "start_time": "2023-07-26T08:52:56.646Z"
   },
   {
    "duration": 5,
    "start_time": "2023-07-26T08:52:56.666Z"
   },
   {
    "duration": 30,
    "start_time": "2023-07-26T08:52:56.672Z"
   },
   {
    "duration": 6,
    "start_time": "2023-07-26T08:52:56.704Z"
   },
   {
    "duration": 10,
    "start_time": "2023-07-26T08:52:56.712Z"
   },
   {
    "duration": 13,
    "start_time": "2023-07-26T08:52:56.724Z"
   },
   {
    "duration": 17,
    "start_time": "2023-07-26T08:52:56.739Z"
   },
   {
    "duration": 14,
    "start_time": "2023-07-26T08:52:56.758Z"
   },
   {
    "duration": 19,
    "start_time": "2023-07-26T08:52:56.774Z"
   },
   {
    "duration": 7,
    "start_time": "2023-07-26T08:52:56.796Z"
   },
   {
    "duration": 24,
    "start_time": "2023-07-26T08:52:56.805Z"
   },
   {
    "duration": 6,
    "start_time": "2023-07-26T08:52:56.832Z"
   },
   {
    "duration": 20,
    "start_time": "2023-07-26T08:52:56.839Z"
   },
   {
    "duration": 31,
    "start_time": "2023-07-26T08:52:56.861Z"
   },
   {
    "duration": 19,
    "start_time": "2023-07-26T08:52:56.893Z"
   },
   {
    "duration": 5,
    "start_time": "2023-07-26T08:52:56.914Z"
   },
   {
    "duration": 17,
    "start_time": "2023-07-26T08:52:56.920Z"
   },
   {
    "duration": 6,
    "start_time": "2023-07-26T08:52:56.938Z"
   },
   {
    "duration": 22,
    "start_time": "2023-07-26T08:52:56.945Z"
   },
   {
    "duration": 8,
    "start_time": "2023-07-26T08:52:56.969Z"
   },
   {
    "duration": 18,
    "start_time": "2023-07-26T08:52:56.978Z"
   },
   {
    "duration": 18,
    "start_time": "2023-07-26T08:52:56.998Z"
   },
   {
    "duration": 16,
    "start_time": "2023-07-26T08:52:57.018Z"
   },
   {
    "duration": 14,
    "start_time": "2023-07-26T08:52:57.036Z"
   },
   {
    "duration": 10,
    "start_time": "2023-07-26T08:52:57.052Z"
   },
   {
    "duration": 8,
    "start_time": "2023-07-26T08:52:57.063Z"
   },
   {
    "duration": 15,
    "start_time": "2023-07-26T08:52:57.072Z"
   },
   {
    "duration": 15,
    "start_time": "2023-07-26T08:52:57.089Z"
   },
   {
    "duration": 9,
    "start_time": "2023-07-26T08:52:57.107Z"
   },
   {
    "duration": 27,
    "start_time": "2023-07-26T08:52:57.118Z"
   },
   {
    "duration": 19,
    "start_time": "2023-07-26T08:52:57.147Z"
   },
   {
    "duration": 14,
    "start_time": "2023-07-26T08:52:57.177Z"
   },
   {
    "duration": 5,
    "start_time": "2023-07-26T08:52:57.193Z"
   },
   {
    "duration": 9,
    "start_time": "2023-07-26T08:52:57.200Z"
   },
   {
    "duration": 8,
    "start_time": "2023-07-26T08:52:57.210Z"
   },
   {
    "duration": 5,
    "start_time": "2023-07-26T08:52:57.220Z"
   },
   {
    "duration": 5,
    "start_time": "2023-07-26T08:52:57.226Z"
   },
   {
    "duration": 5,
    "start_time": "2023-07-26T08:52:57.232Z"
   },
   {
    "duration": 5,
    "start_time": "2023-07-26T08:52:57.238Z"
   },
   {
    "duration": 7,
    "start_time": "2023-07-26T08:52:57.244Z"
   },
   {
    "duration": 11,
    "start_time": "2023-07-26T08:52:57.253Z"
   },
   {
    "duration": 6,
    "start_time": "2023-07-26T08:52:57.266Z"
   },
   {
    "duration": 5,
    "start_time": "2023-07-26T08:52:57.273Z"
   },
   {
    "duration": 57,
    "start_time": "2023-07-26T08:52:57.280Z"
   },
   {
    "duration": 18,
    "start_time": "2023-07-26T08:52:57.339Z"
   },
   {
    "duration": 28,
    "start_time": "2023-07-26T08:52:57.359Z"
   },
   {
    "duration": 9,
    "start_time": "2023-07-26T08:52:57.389Z"
   },
   {
    "duration": 22,
    "start_time": "2023-07-26T08:52:57.400Z"
   },
   {
    "duration": 6,
    "start_time": "2023-07-26T08:52:57.425Z"
   },
   {
    "duration": 3,
    "start_time": "2023-07-26T08:52:57.434Z"
   },
   {
    "duration": 24,
    "start_time": "2023-07-26T08:52:57.438Z"
   },
   {
    "duration": 112,
    "start_time": "2023-07-26T08:52:57.464Z"
   },
   {
    "duration": 11,
    "start_time": "2023-07-26T08:52:57.578Z"
   },
   {
    "duration": 7,
    "start_time": "2023-07-26T08:52:57.591Z"
   },
   {
    "duration": 11,
    "start_time": "2023-07-26T08:52:57.599Z"
   },
   {
    "duration": 11,
    "start_time": "2023-07-26T08:52:57.612Z"
   },
   {
    "duration": 33,
    "start_time": "2023-07-26T08:52:57.625Z"
   },
   {
    "duration": 22,
    "start_time": "2023-07-26T08:52:57.660Z"
   },
   {
    "duration": 163,
    "start_time": "2023-07-26T08:52:57.685Z"
   },
   {
    "duration": 11,
    "start_time": "2023-07-26T08:52:57.850Z"
   },
   {
    "duration": 26,
    "start_time": "2023-07-26T08:52:57.863Z"
   },
   {
    "duration": 15,
    "start_time": "2023-07-26T08:52:57.891Z"
   },
   {
    "duration": 3,
    "start_time": "2023-07-26T08:52:57.908Z"
   },
   {
    "duration": 20,
    "start_time": "2023-07-26T08:52:57.913Z"
   },
   {
    "duration": 11,
    "start_time": "2023-07-26T08:52:57.956Z"
   },
   {
    "duration": 19,
    "start_time": "2023-07-26T08:52:57.968Z"
   },
   {
    "duration": 17,
    "start_time": "2023-07-26T08:52:57.988Z"
   },
   {
    "duration": 11,
    "start_time": "2023-07-26T08:52:58.007Z"
   },
   {
    "duration": 23,
    "start_time": "2023-07-26T08:52:58.019Z"
   },
   {
    "duration": 7,
    "start_time": "2023-07-26T08:52:58.043Z"
   },
   {
    "duration": 13,
    "start_time": "2023-07-26T08:52:58.051Z"
   },
   {
    "duration": 4,
    "start_time": "2023-07-26T08:52:58.066Z"
   },
   {
    "duration": 13,
    "start_time": "2023-07-26T08:52:58.071Z"
   },
   {
    "duration": 8,
    "start_time": "2023-07-26T08:52:58.085Z"
   },
   {
    "duration": 472,
    "start_time": "2023-07-26T08:52:58.095Z"
   },
   {
    "duration": 4,
    "start_time": "2023-07-26T08:52:58.569Z"
   },
   {
    "duration": 89,
    "start_time": "2023-07-26T08:52:58.575Z"
   },
   {
    "duration": 13,
    "start_time": "2023-07-26T08:52:58.667Z"
   },
   {
    "duration": 35,
    "start_time": "2023-07-26T08:52:58.682Z"
   },
   {
    "duration": 11,
    "start_time": "2023-07-26T08:52:58.757Z"
   },
   {
    "duration": 19,
    "start_time": "2023-07-26T08:52:58.769Z"
   },
   {
    "duration": 8,
    "start_time": "2023-07-26T08:52:58.790Z"
   },
   {
    "duration": 58,
    "start_time": "2023-07-26T08:52:58.800Z"
   },
   {
    "duration": 9,
    "start_time": "2023-07-26T08:52:58.860Z"
   },
   {
    "duration": 5,
    "start_time": "2023-07-26T08:52:58.871Z"
   },
   {
    "duration": 5,
    "start_time": "2023-07-26T08:52:58.878Z"
   },
   {
    "duration": 6,
    "start_time": "2023-07-26T08:52:58.884Z"
   },
   {
    "duration": 73,
    "start_time": "2023-07-26T08:52:58.892Z"
   },
   {
    "duration": 406,
    "start_time": "2023-07-26T08:52:58.968Z"
   },
   {
    "duration": 0,
    "start_time": "2023-07-26T08:52:59.376Z"
   },
   {
    "duration": 0,
    "start_time": "2023-07-26T08:52:59.377Z"
   },
   {
    "duration": 0,
    "start_time": "2023-07-26T08:52:59.380Z"
   },
   {
    "duration": 0,
    "start_time": "2023-07-26T08:52:59.381Z"
   },
   {
    "duration": 0,
    "start_time": "2023-07-26T08:52:59.383Z"
   },
   {
    "duration": 0,
    "start_time": "2023-07-26T08:52:59.385Z"
   },
   {
    "duration": 0,
    "start_time": "2023-07-26T08:52:59.386Z"
   },
   {
    "duration": 0,
    "start_time": "2023-07-26T08:52:59.388Z"
   },
   {
    "duration": 0,
    "start_time": "2023-07-26T08:52:59.389Z"
   },
   {
    "duration": 0,
    "start_time": "2023-07-26T08:52:59.391Z"
   },
   {
    "duration": 0,
    "start_time": "2023-07-26T08:52:59.392Z"
   },
   {
    "duration": 0,
    "start_time": "2023-07-26T08:52:59.394Z"
   },
   {
    "duration": 0,
    "start_time": "2023-07-26T08:52:59.396Z"
   },
   {
    "duration": 0,
    "start_time": "2023-07-26T08:52:59.398Z"
   },
   {
    "duration": 0,
    "start_time": "2023-07-26T08:52:59.457Z"
   },
   {
    "duration": 0,
    "start_time": "2023-07-26T08:52:59.459Z"
   },
   {
    "duration": 0,
    "start_time": "2023-07-26T08:52:59.460Z"
   },
   {
    "duration": 0,
    "start_time": "2023-07-26T08:52:59.461Z"
   },
   {
    "duration": 0,
    "start_time": "2023-07-26T08:52:59.462Z"
   },
   {
    "duration": 0,
    "start_time": "2023-07-26T08:52:59.463Z"
   },
   {
    "duration": 0,
    "start_time": "2023-07-26T08:52:59.464Z"
   },
   {
    "duration": 0,
    "start_time": "2023-07-26T08:52:59.465Z"
   },
   {
    "duration": 0,
    "start_time": "2023-07-26T08:52:59.466Z"
   },
   {
    "duration": 0,
    "start_time": "2023-07-26T08:52:59.467Z"
   },
   {
    "duration": 0,
    "start_time": "2023-07-26T08:52:59.468Z"
   },
   {
    "duration": 0,
    "start_time": "2023-07-26T08:52:59.469Z"
   },
   {
    "duration": 0,
    "start_time": "2023-07-26T08:52:59.470Z"
   },
   {
    "duration": 0,
    "start_time": "2023-07-26T08:52:59.471Z"
   },
   {
    "duration": 0,
    "start_time": "2023-07-26T08:52:59.472Z"
   },
   {
    "duration": 1,
    "start_time": "2023-07-26T08:52:59.473Z"
   },
   {
    "duration": 0,
    "start_time": "2023-07-26T08:52:59.474Z"
   },
   {
    "duration": 0,
    "start_time": "2023-07-26T08:52:59.476Z"
   },
   {
    "duration": 0,
    "start_time": "2023-07-26T08:52:59.476Z"
   },
   {
    "duration": 0,
    "start_time": "2023-07-26T08:52:59.477Z"
   },
   {
    "duration": 0,
    "start_time": "2023-07-26T08:52:59.479Z"
   },
   {
    "duration": 0,
    "start_time": "2023-07-26T08:52:59.480Z"
   },
   {
    "duration": 0,
    "start_time": "2023-07-26T08:52:59.481Z"
   },
   {
    "duration": 0,
    "start_time": "2023-07-26T08:52:59.482Z"
   },
   {
    "duration": 11,
    "start_time": "2023-07-26T08:55:18.615Z"
   },
   {
    "duration": 9,
    "start_time": "2023-07-26T08:55:20.875Z"
   },
   {
    "duration": 17,
    "start_time": "2023-07-26T08:57:07.775Z"
   },
   {
    "duration": 1288,
    "start_time": "2023-07-26T08:57:21.168Z"
   },
   {
    "duration": 27,
    "start_time": "2023-07-26T08:57:22.459Z"
   },
   {
    "duration": 24,
    "start_time": "2023-07-26T08:57:22.488Z"
   },
   {
    "duration": 18,
    "start_time": "2023-07-26T08:57:22.514Z"
   },
   {
    "duration": 11,
    "start_time": "2023-07-26T08:57:22.533Z"
   },
   {
    "duration": 86,
    "start_time": "2023-07-26T08:57:22.546Z"
   },
   {
    "duration": 9,
    "start_time": "2023-07-26T08:57:22.634Z"
   },
   {
    "duration": 49,
    "start_time": "2023-07-26T08:57:22.644Z"
   },
   {
    "duration": 503,
    "start_time": "2023-07-26T08:57:22.695Z"
   },
   {
    "duration": 9,
    "start_time": "2023-07-26T08:57:23.201Z"
   },
   {
    "duration": 75,
    "start_time": "2023-07-26T08:57:23.212Z"
   },
   {
    "duration": 26,
    "start_time": "2023-07-26T08:57:23.289Z"
   },
   {
    "duration": 8,
    "start_time": "2023-07-26T08:57:23.317Z"
   },
   {
    "duration": 24,
    "start_time": "2023-07-26T08:57:23.326Z"
   },
   {
    "duration": 49,
    "start_time": "2023-07-26T08:57:23.351Z"
   },
   {
    "duration": 310,
    "start_time": "2023-07-26T08:57:23.401Z"
   },
   {
    "duration": 9,
    "start_time": "2023-07-26T08:57:23.713Z"
   },
   {
    "duration": 28,
    "start_time": "2023-07-26T08:57:23.724Z"
   },
   {
    "duration": 60,
    "start_time": "2023-07-26T08:57:23.754Z"
   },
   {
    "duration": 14,
    "start_time": "2023-07-26T08:57:23.816Z"
   },
   {
    "duration": 17,
    "start_time": "2023-07-26T08:57:23.832Z"
   },
   {
    "duration": 118,
    "start_time": "2023-07-26T08:57:23.851Z"
   },
   {
    "duration": 61,
    "start_time": "2023-07-26T08:57:23.972Z"
   },
   {
    "duration": 10,
    "start_time": "2023-07-26T08:57:24.035Z"
   },
   {
    "duration": 39,
    "start_time": "2023-07-26T08:57:24.047Z"
   },
   {
    "duration": 18,
    "start_time": "2023-07-26T08:57:24.088Z"
   },
   {
    "duration": 15,
    "start_time": "2023-07-26T08:57:24.108Z"
   },
   {
    "duration": 27,
    "start_time": "2023-07-26T08:57:24.128Z"
   },
   {
    "duration": 67,
    "start_time": "2023-07-26T08:57:24.158Z"
   },
   {
    "duration": 31,
    "start_time": "2023-07-26T08:57:24.227Z"
   },
   {
    "duration": 7,
    "start_time": "2023-07-26T08:57:24.260Z"
   },
   {
    "duration": 10,
    "start_time": "2023-07-26T08:57:24.269Z"
   },
   {
    "duration": 13,
    "start_time": "2023-07-26T08:57:24.281Z"
   },
   {
    "duration": 10,
    "start_time": "2023-07-26T08:57:24.296Z"
   },
   {
    "duration": 6,
    "start_time": "2023-07-26T08:57:24.308Z"
   },
   {
    "duration": 42,
    "start_time": "2023-07-26T08:57:24.316Z"
   },
   {
    "duration": 7,
    "start_time": "2023-07-26T08:57:24.359Z"
   },
   {
    "duration": 7,
    "start_time": "2023-07-26T08:57:24.368Z"
   },
   {
    "duration": 14,
    "start_time": "2023-07-26T08:57:24.377Z"
   },
   {
    "duration": 71,
    "start_time": "2023-07-26T08:57:24.393Z"
   },
   {
    "duration": 231,
    "start_time": "2023-07-26T08:57:24.466Z"
   },
   {
    "duration": 71,
    "start_time": "2023-07-26T08:57:24.698Z"
   },
   {
    "duration": 58,
    "start_time": "2023-07-26T08:57:24.771Z"
   },
   {
    "duration": 11,
    "start_time": "2023-07-26T08:57:24.831Z"
   },
   {
    "duration": 16,
    "start_time": "2023-07-26T08:57:24.844Z"
   },
   {
    "duration": 28,
    "start_time": "2023-07-26T08:57:24.862Z"
   },
   {
    "duration": 34,
    "start_time": "2023-07-26T08:57:24.892Z"
   },
   {
    "duration": 49,
    "start_time": "2023-07-26T08:57:24.928Z"
   },
   {
    "duration": 29,
    "start_time": "2023-07-26T08:57:24.980Z"
   },
   {
    "duration": 50,
    "start_time": "2023-07-26T08:57:25.011Z"
   },
   {
    "duration": 18,
    "start_time": "2023-07-26T08:57:25.063Z"
   },
   {
    "duration": 4,
    "start_time": "2023-07-26T08:57:25.083Z"
   },
   {
    "duration": 21,
    "start_time": "2023-07-26T08:57:25.089Z"
   },
   {
    "duration": 13,
    "start_time": "2023-07-26T08:57:25.111Z"
   },
   {
    "duration": 20,
    "start_time": "2023-07-26T08:57:25.126Z"
   },
   {
    "duration": 37,
    "start_time": "2023-07-26T08:57:25.147Z"
   },
   {
    "duration": 37,
    "start_time": "2023-07-26T08:57:25.186Z"
   },
   {
    "duration": 50,
    "start_time": "2023-07-26T08:57:25.225Z"
   },
   {
    "duration": 43,
    "start_time": "2023-07-26T08:57:25.277Z"
   },
   {
    "duration": 30,
    "start_time": "2023-07-26T08:57:25.322Z"
   },
   {
    "duration": 40,
    "start_time": "2023-07-26T08:57:25.354Z"
   },
   {
    "duration": 17,
    "start_time": "2023-07-26T08:57:25.396Z"
   },
   {
    "duration": 10,
    "start_time": "2023-07-26T08:57:25.416Z"
   },
   {
    "duration": 35,
    "start_time": "2023-07-26T08:57:25.428Z"
   },
   {
    "duration": 26,
    "start_time": "2023-07-26T08:57:25.465Z"
   },
   {
    "duration": 16,
    "start_time": "2023-07-26T08:57:25.493Z"
   },
   {
    "duration": 23,
    "start_time": "2023-07-26T08:57:25.511Z"
   },
   {
    "duration": 8,
    "start_time": "2023-07-26T08:57:25.535Z"
   },
   {
    "duration": 33,
    "start_time": "2023-07-26T08:57:25.545Z"
   },
   {
    "duration": 5,
    "start_time": "2023-07-26T08:57:25.580Z"
   },
   {
    "duration": 20,
    "start_time": "2023-07-26T08:57:25.588Z"
   },
   {
    "duration": 17,
    "start_time": "2023-07-26T08:57:25.611Z"
   },
   {
    "duration": 16,
    "start_time": "2023-07-26T08:57:25.630Z"
   },
   {
    "duration": 13,
    "start_time": "2023-07-26T08:57:25.647Z"
   },
   {
    "duration": 11,
    "start_time": "2023-07-26T08:57:25.662Z"
   },
   {
    "duration": 14,
    "start_time": "2023-07-26T08:57:25.675Z"
   },
   {
    "duration": 48,
    "start_time": "2023-07-26T08:57:25.692Z"
   },
   {
    "duration": 60,
    "start_time": "2023-07-26T08:57:25.742Z"
   },
   {
    "duration": 13,
    "start_time": "2023-07-26T08:57:25.805Z"
   },
   {
    "duration": 21,
    "start_time": "2023-07-26T08:57:25.820Z"
   },
   {
    "duration": 39,
    "start_time": "2023-07-26T08:57:25.843Z"
   },
   {
    "duration": 20,
    "start_time": "2023-07-26T08:57:25.894Z"
   },
   {
    "duration": 22,
    "start_time": "2023-07-26T08:57:25.916Z"
   },
   {
    "duration": 13,
    "start_time": "2023-07-26T08:57:25.940Z"
   },
   {
    "duration": 32,
    "start_time": "2023-07-26T08:57:25.954Z"
   },
   {
    "duration": 19,
    "start_time": "2023-07-26T08:57:25.988Z"
   },
   {
    "duration": 27,
    "start_time": "2023-07-26T08:57:26.009Z"
   },
   {
    "duration": 11,
    "start_time": "2023-07-26T08:57:26.038Z"
   },
   {
    "duration": 6,
    "start_time": "2023-07-26T08:57:26.050Z"
   },
   {
    "duration": 24,
    "start_time": "2023-07-26T08:57:26.058Z"
   },
   {
    "duration": 7,
    "start_time": "2023-07-26T08:57:26.084Z"
   },
   {
    "duration": 10,
    "start_time": "2023-07-26T08:57:26.093Z"
   },
   {
    "duration": 8,
    "start_time": "2023-07-26T08:57:26.105Z"
   },
   {
    "duration": 9,
    "start_time": "2023-07-26T08:57:26.115Z"
   },
   {
    "duration": 9,
    "start_time": "2023-07-26T08:57:26.126Z"
   },
   {
    "duration": 12,
    "start_time": "2023-07-26T08:57:26.137Z"
   },
   {
    "duration": 5,
    "start_time": "2023-07-26T08:57:26.150Z"
   },
   {
    "duration": 14,
    "start_time": "2023-07-26T08:57:26.156Z"
   },
   {
    "duration": 12,
    "start_time": "2023-07-26T08:57:26.173Z"
   },
   {
    "duration": 10,
    "start_time": "2023-07-26T08:57:26.187Z"
   },
   {
    "duration": 13,
    "start_time": "2023-07-26T08:57:26.199Z"
   },
   {
    "duration": 158,
    "start_time": "2023-07-26T08:57:26.214Z"
   },
   {
    "duration": 16,
    "start_time": "2023-07-26T08:57:26.374Z"
   },
   {
    "duration": 8,
    "start_time": "2023-07-26T08:57:26.391Z"
   },
   {
    "duration": 18,
    "start_time": "2023-07-26T08:57:26.400Z"
   },
   {
    "duration": 14,
    "start_time": "2023-07-26T08:57:26.420Z"
   },
   {
    "duration": 6,
    "start_time": "2023-07-26T08:57:26.457Z"
   },
   {
    "duration": 29,
    "start_time": "2023-07-26T08:57:26.465Z"
   },
   {
    "duration": 187,
    "start_time": "2023-07-26T08:57:26.497Z"
   },
   {
    "duration": 11,
    "start_time": "2023-07-26T08:57:26.685Z"
   },
   {
    "duration": 24,
    "start_time": "2023-07-26T08:57:26.698Z"
   },
   {
    "duration": 37,
    "start_time": "2023-07-26T08:57:26.724Z"
   },
   {
    "duration": 4,
    "start_time": "2023-07-26T08:57:26.762Z"
   },
   {
    "duration": 18,
    "start_time": "2023-07-26T08:57:26.768Z"
   },
   {
    "duration": 11,
    "start_time": "2023-07-26T08:57:26.788Z"
   },
   {
    "duration": 13,
    "start_time": "2023-07-26T08:57:26.801Z"
   },
   {
    "duration": 16,
    "start_time": "2023-07-26T08:57:26.815Z"
   },
   {
    "duration": 40,
    "start_time": "2023-07-26T08:57:26.833Z"
   },
   {
    "duration": 9,
    "start_time": "2023-07-26T08:57:26.876Z"
   },
   {
    "duration": 9,
    "start_time": "2023-07-26T08:57:26.887Z"
   },
   {
    "duration": 23,
    "start_time": "2023-07-26T08:57:26.898Z"
   },
   {
    "duration": 3,
    "start_time": "2023-07-26T08:57:26.923Z"
   },
   {
    "duration": 19,
    "start_time": "2023-07-26T08:57:26.927Z"
   },
   {
    "duration": 6,
    "start_time": "2023-07-26T08:57:26.948Z"
   },
   {
    "duration": 473,
    "start_time": "2023-07-26T08:57:26.956Z"
   },
   {
    "duration": 26,
    "start_time": "2023-07-26T08:57:27.431Z"
   },
   {
    "duration": 25,
    "start_time": "2023-07-26T08:57:27.458Z"
   },
   {
    "duration": 15,
    "start_time": "2023-07-26T08:57:27.485Z"
   },
   {
    "duration": 62,
    "start_time": "2023-07-26T08:57:27.502Z"
   },
   {
    "duration": 17,
    "start_time": "2023-07-26T08:57:27.565Z"
   },
   {
    "duration": 15,
    "start_time": "2023-07-26T08:57:27.584Z"
   },
   {
    "duration": 59,
    "start_time": "2023-07-26T08:57:27.601Z"
   },
   {
    "duration": 10,
    "start_time": "2023-07-26T08:57:27.662Z"
   },
   {
    "duration": 7,
    "start_time": "2023-07-26T08:57:27.674Z"
   },
   {
    "duration": 26,
    "start_time": "2023-07-26T08:57:27.682Z"
   },
   {
    "duration": 6,
    "start_time": "2023-07-26T08:57:27.710Z"
   },
   {
    "duration": 6,
    "start_time": "2023-07-26T08:57:27.717Z"
   },
   {
    "duration": 23,
    "start_time": "2023-07-26T08:57:27.724Z"
   },
   {
    "duration": 157,
    "start_time": "2023-07-26T08:57:27.749Z"
   },
   {
    "duration": 0,
    "start_time": "2023-07-26T08:57:27.908Z"
   },
   {
    "duration": 0,
    "start_time": "2023-07-26T08:57:27.910Z"
   },
   {
    "duration": 0,
    "start_time": "2023-07-26T08:57:27.912Z"
   },
   {
    "duration": 0,
    "start_time": "2023-07-26T08:57:27.913Z"
   },
   {
    "duration": 0,
    "start_time": "2023-07-26T08:57:27.914Z"
   },
   {
    "duration": 0,
    "start_time": "2023-07-26T08:57:27.916Z"
   },
   {
    "duration": 0,
    "start_time": "2023-07-26T08:57:27.917Z"
   },
   {
    "duration": 0,
    "start_time": "2023-07-26T08:57:27.918Z"
   },
   {
    "duration": 0,
    "start_time": "2023-07-26T08:57:27.919Z"
   },
   {
    "duration": 0,
    "start_time": "2023-07-26T08:57:27.919Z"
   },
   {
    "duration": 0,
    "start_time": "2023-07-26T08:57:27.921Z"
   },
   {
    "duration": 0,
    "start_time": "2023-07-26T08:57:27.922Z"
   },
   {
    "duration": 0,
    "start_time": "2023-07-26T08:57:27.924Z"
   },
   {
    "duration": 0,
    "start_time": "2023-07-26T08:57:27.925Z"
   },
   {
    "duration": 0,
    "start_time": "2023-07-26T08:57:27.956Z"
   },
   {
    "duration": 0,
    "start_time": "2023-07-26T08:57:27.958Z"
   },
   {
    "duration": 0,
    "start_time": "2023-07-26T08:57:27.960Z"
   },
   {
    "duration": 0,
    "start_time": "2023-07-26T08:57:27.961Z"
   },
   {
    "duration": 0,
    "start_time": "2023-07-26T08:57:27.963Z"
   },
   {
    "duration": 0,
    "start_time": "2023-07-26T08:57:27.964Z"
   },
   {
    "duration": 0,
    "start_time": "2023-07-26T08:57:27.965Z"
   },
   {
    "duration": 0,
    "start_time": "2023-07-26T08:57:27.967Z"
   },
   {
    "duration": 0,
    "start_time": "2023-07-26T08:57:27.968Z"
   },
   {
    "duration": 0,
    "start_time": "2023-07-26T08:57:27.970Z"
   },
   {
    "duration": 0,
    "start_time": "2023-07-26T08:57:27.971Z"
   },
   {
    "duration": 0,
    "start_time": "2023-07-26T08:57:27.973Z"
   },
   {
    "duration": 0,
    "start_time": "2023-07-26T08:57:27.974Z"
   },
   {
    "duration": 0,
    "start_time": "2023-07-26T08:57:27.976Z"
   },
   {
    "duration": 0,
    "start_time": "2023-07-26T08:57:27.977Z"
   },
   {
    "duration": 0,
    "start_time": "2023-07-26T08:57:27.978Z"
   },
   {
    "duration": 0,
    "start_time": "2023-07-26T08:57:27.982Z"
   },
   {
    "duration": 0,
    "start_time": "2023-07-26T08:57:27.983Z"
   },
   {
    "duration": 0,
    "start_time": "2023-07-26T08:57:27.985Z"
   },
   {
    "duration": 0,
    "start_time": "2023-07-26T08:57:27.986Z"
   },
   {
    "duration": 0,
    "start_time": "2023-07-26T08:57:27.989Z"
   },
   {
    "duration": 0,
    "start_time": "2023-07-26T08:57:27.991Z"
   },
   {
    "duration": 0,
    "start_time": "2023-07-26T08:57:27.992Z"
   },
   {
    "duration": 0,
    "start_time": "2023-07-26T08:57:27.993Z"
   },
   {
    "duration": 7,
    "start_time": "2023-07-26T08:58:54.506Z"
   },
   {
    "duration": 9,
    "start_time": "2023-07-26T08:58:57.092Z"
   },
   {
    "duration": 9,
    "start_time": "2023-07-26T08:59:48.166Z"
   },
   {
    "duration": 6,
    "start_time": "2023-07-26T08:59:53.326Z"
   },
   {
    "duration": 5,
    "start_time": "2023-07-26T09:00:49.766Z"
   },
   {
    "duration": 8,
    "start_time": "2023-07-26T09:01:56.798Z"
   },
   {
    "duration": 10,
    "start_time": "2023-07-26T09:02:04.576Z"
   },
   {
    "duration": 10,
    "start_time": "2023-07-26T09:02:18.199Z"
   },
   {
    "duration": 11,
    "start_time": "2023-07-26T09:02:21.734Z"
   },
   {
    "duration": 5,
    "start_time": "2023-07-26T09:02:31.365Z"
   },
   {
    "duration": 5,
    "start_time": "2023-07-26T09:02:42.963Z"
   },
   {
    "duration": 11,
    "start_time": "2023-07-26T09:04:49.742Z"
   },
   {
    "duration": 8,
    "start_time": "2023-07-26T09:05:34.392Z"
   },
   {
    "duration": 17,
    "start_time": "2023-07-26T09:05:40.404Z"
   },
   {
    "duration": 73,
    "start_time": "2023-07-26T09:05:58.643Z"
   },
   {
    "duration": 8,
    "start_time": "2023-07-26T09:10:49.074Z"
   },
   {
    "duration": 162,
    "start_time": "2023-07-26T09:11:08.298Z"
   },
   {
    "duration": 63,
    "start_time": "2023-07-26T09:12:24.252Z"
   },
   {
    "duration": 64,
    "start_time": "2023-07-26T09:12:35.300Z"
   },
   {
    "duration": 63,
    "start_time": "2023-07-26T09:12:54.810Z"
   },
   {
    "duration": 74,
    "start_time": "2023-07-26T09:13:06.135Z"
   },
   {
    "duration": 19,
    "start_time": "2023-07-26T09:13:24.378Z"
   },
   {
    "duration": 62,
    "start_time": "2023-07-26T09:16:45.679Z"
   },
   {
    "duration": 12,
    "start_time": "2023-07-26T09:45:25.429Z"
   },
   {
    "duration": 6,
    "start_time": "2023-07-26T09:48:41.751Z"
   },
   {
    "duration": 6,
    "start_time": "2023-07-26T09:48:47.576Z"
   },
   {
    "duration": 1355,
    "start_time": "2023-07-26T09:52:26.100Z"
   },
   {
    "duration": 27,
    "start_time": "2023-07-26T09:52:27.457Z"
   },
   {
    "duration": 4,
    "start_time": "2023-07-26T09:52:27.485Z"
   },
   {
    "duration": 19,
    "start_time": "2023-07-26T09:52:27.491Z"
   },
   {
    "duration": 11,
    "start_time": "2023-07-26T09:52:27.511Z"
   },
   {
    "duration": 146,
    "start_time": "2023-07-26T09:52:27.523Z"
   },
   {
    "duration": 8,
    "start_time": "2023-07-26T09:52:27.671Z"
   },
   {
    "duration": 83,
    "start_time": "2023-07-26T09:52:27.681Z"
   },
   {
    "duration": 748,
    "start_time": "2023-07-26T09:52:27.765Z"
   },
   {
    "duration": 9,
    "start_time": "2023-07-26T09:52:28.515Z"
   },
   {
    "duration": 67,
    "start_time": "2023-07-26T09:52:28.526Z"
   },
   {
    "duration": 41,
    "start_time": "2023-07-26T09:52:28.595Z"
   },
   {
    "duration": 7,
    "start_time": "2023-07-26T09:52:28.638Z"
   },
   {
    "duration": 56,
    "start_time": "2023-07-26T09:52:28.647Z"
   },
   {
    "duration": 46,
    "start_time": "2023-07-26T09:52:28.705Z"
   },
   {
    "duration": 399,
    "start_time": "2023-07-26T09:52:28.752Z"
   },
   {
    "duration": 9,
    "start_time": "2023-07-26T09:52:29.157Z"
   },
   {
    "duration": 20,
    "start_time": "2023-07-26T09:52:29.168Z"
   },
   {
    "duration": 42,
    "start_time": "2023-07-26T09:52:29.190Z"
   },
   {
    "duration": 12,
    "start_time": "2023-07-26T09:52:29.233Z"
   },
   {
    "duration": 16,
    "start_time": "2023-07-26T09:52:29.247Z"
   },
   {
    "duration": 98,
    "start_time": "2023-07-26T09:52:29.265Z"
   },
   {
    "duration": 65,
    "start_time": "2023-07-26T09:52:29.365Z"
   },
   {
    "duration": 9,
    "start_time": "2023-07-26T09:52:29.432Z"
   },
   {
    "duration": 21,
    "start_time": "2023-07-26T09:52:29.442Z"
   },
   {
    "duration": 21,
    "start_time": "2023-07-26T09:52:29.465Z"
   },
   {
    "duration": 67,
    "start_time": "2023-07-26T09:52:29.488Z"
   },
   {
    "duration": 46,
    "start_time": "2023-07-26T09:52:29.560Z"
   },
   {
    "duration": 80,
    "start_time": "2023-07-26T09:52:29.608Z"
   },
   {
    "duration": 22,
    "start_time": "2023-07-26T09:52:29.689Z"
   },
   {
    "duration": 36,
    "start_time": "2023-07-26T09:52:29.713Z"
   },
   {
    "duration": 37,
    "start_time": "2023-07-26T09:52:29.751Z"
   },
   {
    "duration": 9,
    "start_time": "2023-07-26T09:52:29.789Z"
   },
   {
    "duration": 21,
    "start_time": "2023-07-26T09:52:29.800Z"
   },
   {
    "duration": 16,
    "start_time": "2023-07-26T09:52:29.822Z"
   },
   {
    "duration": 29,
    "start_time": "2023-07-26T09:52:29.840Z"
   },
   {
    "duration": 15,
    "start_time": "2023-07-26T09:52:29.870Z"
   },
   {
    "duration": 16,
    "start_time": "2023-07-26T09:52:29.887Z"
   },
   {
    "duration": 12,
    "start_time": "2023-07-26T09:52:29.905Z"
   },
   {
    "duration": 45,
    "start_time": "2023-07-26T09:52:29.919Z"
   },
   {
    "duration": 41,
    "start_time": "2023-07-26T09:52:29.966Z"
   },
   {
    "duration": 58,
    "start_time": "2023-07-26T09:52:30.009Z"
   },
   {
    "duration": 72,
    "start_time": "2023-07-26T09:52:30.069Z"
   },
   {
    "duration": 33,
    "start_time": "2023-07-26T09:52:30.142Z"
   },
   {
    "duration": 44,
    "start_time": "2023-07-26T09:52:30.177Z"
   },
   {
    "duration": 187,
    "start_time": "2023-07-26T09:52:30.222Z"
   },
   {
    "duration": 61,
    "start_time": "2023-07-26T09:52:30.411Z"
   },
   {
    "duration": 44,
    "start_time": "2023-07-26T09:52:30.474Z"
   },
   {
    "duration": 25,
    "start_time": "2023-07-26T09:52:30.519Z"
   },
   {
    "duration": 45,
    "start_time": "2023-07-26T09:52:30.546Z"
   },
   {
    "duration": 52,
    "start_time": "2023-07-26T09:52:30.593Z"
   },
   {
    "duration": 15,
    "start_time": "2023-07-26T09:52:30.647Z"
   },
   {
    "duration": 31,
    "start_time": "2023-07-26T09:52:30.664Z"
   },
   {
    "duration": 52,
    "start_time": "2023-07-26T09:52:30.697Z"
   },
   {
    "duration": 32,
    "start_time": "2023-07-26T09:52:30.751Z"
   },
   {
    "duration": 31,
    "start_time": "2023-07-26T09:52:30.785Z"
   },
   {
    "duration": 155,
    "start_time": "2023-07-26T09:52:30.818Z"
   },
   {
    "duration": 154,
    "start_time": "2023-07-26T09:52:30.975Z"
   },
   {
    "duration": 67,
    "start_time": "2023-07-26T09:52:31.131Z"
   },
   {
    "duration": 33,
    "start_time": "2023-07-26T09:52:31.200Z"
   },
   {
    "duration": 72,
    "start_time": "2023-07-26T09:52:31.235Z"
   },
   {
    "duration": 58,
    "start_time": "2023-07-26T09:52:31.309Z"
   },
   {
    "duration": 57,
    "start_time": "2023-07-26T09:52:31.369Z"
   },
   {
    "duration": 61,
    "start_time": "2023-07-26T09:52:31.428Z"
   },
   {
    "duration": 44,
    "start_time": "2023-07-26T09:52:31.491Z"
   },
   {
    "duration": 28,
    "start_time": "2023-07-26T09:52:31.537Z"
   },
   {
    "duration": 55,
    "start_time": "2023-07-26T09:52:31.567Z"
   },
   {
    "duration": 48,
    "start_time": "2023-07-26T09:52:31.624Z"
   },
   {
    "duration": 48,
    "start_time": "2023-07-26T09:52:31.674Z"
   },
   {
    "duration": 37,
    "start_time": "2023-07-26T09:52:31.724Z"
   },
   {
    "duration": 15,
    "start_time": "2023-07-26T09:52:31.763Z"
   },
   {
    "duration": 31,
    "start_time": "2023-07-26T09:52:31.780Z"
   },
   {
    "duration": 37,
    "start_time": "2023-07-26T09:52:31.814Z"
   },
   {
    "duration": 48,
    "start_time": "2023-07-26T09:52:31.853Z"
   },
   {
    "duration": 54,
    "start_time": "2023-07-26T09:52:31.903Z"
   },
   {
    "duration": 39,
    "start_time": "2023-07-26T09:52:31.959Z"
   },
   {
    "duration": 48,
    "start_time": "2023-07-26T09:52:32.000Z"
   },
   {
    "duration": 40,
    "start_time": "2023-07-26T09:52:32.050Z"
   },
   {
    "duration": 55,
    "start_time": "2023-07-26T09:52:32.092Z"
   },
   {
    "duration": 46,
    "start_time": "2023-07-26T09:52:32.149Z"
   },
   {
    "duration": 36,
    "start_time": "2023-07-26T09:52:32.197Z"
   },
   {
    "duration": 11,
    "start_time": "2023-07-26T09:52:32.240Z"
   },
   {
    "duration": 47,
    "start_time": "2023-07-26T09:52:32.253Z"
   },
   {
    "duration": 13,
    "start_time": "2023-07-26T09:52:32.303Z"
   },
   {
    "duration": 19,
    "start_time": "2023-07-26T09:52:32.318Z"
   },
   {
    "duration": 19,
    "start_time": "2023-07-26T09:52:32.339Z"
   },
   {
    "duration": 11,
    "start_time": "2023-07-26T09:52:32.360Z"
   },
   {
    "duration": 27,
    "start_time": "2023-07-26T09:52:32.373Z"
   },
   {
    "duration": 21,
    "start_time": "2023-07-26T09:52:32.402Z"
   },
   {
    "duration": 47,
    "start_time": "2023-07-26T09:52:32.426Z"
   },
   {
    "duration": 18,
    "start_time": "2023-07-26T09:52:32.475Z"
   },
   {
    "duration": 30,
    "start_time": "2023-07-26T09:52:32.495Z"
   },
   {
    "duration": 7,
    "start_time": "2023-07-26T09:52:32.526Z"
   },
   {
    "duration": 39,
    "start_time": "2023-07-26T09:52:32.535Z"
   },
   {
    "duration": 24,
    "start_time": "2023-07-26T09:52:32.576Z"
   },
   {
    "duration": 19,
    "start_time": "2023-07-26T09:52:32.602Z"
   },
   {
    "duration": 16,
    "start_time": "2023-07-26T09:52:32.623Z"
   },
   {
    "duration": 36,
    "start_time": "2023-07-26T09:52:32.641Z"
   },
   {
    "duration": 8,
    "start_time": "2023-07-26T09:52:32.679Z"
   },
   {
    "duration": 24,
    "start_time": "2023-07-26T09:52:32.689Z"
   },
   {
    "duration": 21,
    "start_time": "2023-07-26T09:52:32.715Z"
   },
   {
    "duration": 144,
    "start_time": "2023-07-26T09:52:32.737Z"
   },
   {
    "duration": 12,
    "start_time": "2023-07-26T09:52:32.882Z"
   },
   {
    "duration": 15,
    "start_time": "2023-07-26T09:52:32.896Z"
   },
   {
    "duration": 18,
    "start_time": "2023-07-26T09:52:32.913Z"
   },
   {
    "duration": 34,
    "start_time": "2023-07-26T09:52:32.933Z"
   },
   {
    "duration": 20,
    "start_time": "2023-07-26T09:52:32.968Z"
   },
   {
    "duration": 18,
    "start_time": "2023-07-26T09:52:32.990Z"
   },
   {
    "duration": 201,
    "start_time": "2023-07-26T09:52:33.009Z"
   },
   {
    "duration": 11,
    "start_time": "2023-07-26T09:52:33.212Z"
   },
   {
    "duration": 53,
    "start_time": "2023-07-26T09:52:33.225Z"
   },
   {
    "duration": 19,
    "start_time": "2023-07-26T09:52:33.280Z"
   },
   {
    "duration": 9,
    "start_time": "2023-07-26T09:52:33.301Z"
   },
   {
    "duration": 57,
    "start_time": "2023-07-26T09:52:33.311Z"
   },
   {
    "duration": 10,
    "start_time": "2023-07-26T09:52:33.370Z"
   },
   {
    "duration": 8,
    "start_time": "2023-07-26T09:52:33.382Z"
   },
   {
    "duration": 16,
    "start_time": "2023-07-26T09:52:33.391Z"
   },
   {
    "duration": 6,
    "start_time": "2023-07-26T09:52:33.409Z"
   },
   {
    "duration": 10,
    "start_time": "2023-07-26T09:52:33.417Z"
   },
   {
    "duration": 28,
    "start_time": "2023-07-26T09:52:33.428Z"
   },
   {
    "duration": 9,
    "start_time": "2023-07-26T09:52:33.458Z"
   },
   {
    "duration": 16,
    "start_time": "2023-07-26T09:52:33.469Z"
   },
   {
    "duration": 18,
    "start_time": "2023-07-26T09:52:33.486Z"
   },
   {
    "duration": 10,
    "start_time": "2023-07-26T09:52:33.506Z"
   },
   {
    "duration": 439,
    "start_time": "2023-07-26T09:52:33.517Z"
   },
   {
    "duration": 4,
    "start_time": "2023-07-26T09:52:33.959Z"
   },
   {
    "duration": 36,
    "start_time": "2023-07-26T09:52:33.964Z"
   },
   {
    "duration": 54,
    "start_time": "2023-07-26T09:52:34.002Z"
   },
   {
    "duration": 13,
    "start_time": "2023-07-26T09:52:34.058Z"
   },
   {
    "duration": 21,
    "start_time": "2023-07-26T09:52:34.072Z"
   },
   {
    "duration": 21,
    "start_time": "2023-07-26T09:52:34.095Z"
   },
   {
    "duration": 28,
    "start_time": "2023-07-26T09:52:34.118Z"
   },
   {
    "duration": 11,
    "start_time": "2023-07-26T09:52:34.148Z"
   },
   {
    "duration": 33,
    "start_time": "2023-07-26T09:52:34.161Z"
   },
   {
    "duration": 9,
    "start_time": "2023-07-26T09:52:34.195Z"
   },
   {
    "duration": 9,
    "start_time": "2023-07-26T09:52:34.206Z"
   },
   {
    "duration": 40,
    "start_time": "2023-07-26T09:52:34.217Z"
   },
   {
    "duration": 40,
    "start_time": "2023-07-26T09:52:34.259Z"
   },
   {
    "duration": 8,
    "start_time": "2023-07-26T09:52:34.301Z"
   },
   {
    "duration": 56,
    "start_time": "2023-07-26T09:52:34.310Z"
   },
   {
    "duration": 5,
    "start_time": "2023-07-26T09:52:34.368Z"
   },
   {
    "duration": 9,
    "start_time": "2023-07-26T09:52:34.375Z"
   },
   {
    "duration": 17,
    "start_time": "2023-07-26T09:52:34.386Z"
   },
   {
    "duration": 56,
    "start_time": "2023-07-26T09:52:34.405Z"
   },
   {
    "duration": 12,
    "start_time": "2023-07-26T09:52:34.463Z"
   },
   {
    "duration": 18,
    "start_time": "2023-07-26T09:52:34.477Z"
   },
   {
    "duration": 15,
    "start_time": "2023-07-26T09:52:34.497Z"
   },
   {
    "duration": 11,
    "start_time": "2023-07-26T09:52:34.513Z"
   },
   {
    "duration": 69,
    "start_time": "2023-07-26T09:52:34.525Z"
   },
   {
    "duration": 5,
    "start_time": "2023-07-26T09:52:34.596Z"
   },
   {
    "duration": 160,
    "start_time": "2023-07-26T09:52:34.603Z"
   },
   {
    "duration": 10,
    "start_time": "2023-07-26T09:52:34.765Z"
   },
   {
    "duration": 12,
    "start_time": "2023-07-26T09:52:34.777Z"
   },
   {
    "duration": 158,
    "start_time": "2023-07-26T09:52:34.791Z"
   },
   {
    "duration": 0,
    "start_time": "2023-07-26T09:52:34.951Z"
   },
   {
    "duration": 0,
    "start_time": "2023-07-26T09:52:34.952Z"
   },
   {
    "duration": 0,
    "start_time": "2023-07-26T09:52:34.953Z"
   },
   {
    "duration": 0,
    "start_time": "2023-07-26T09:52:34.954Z"
   },
   {
    "duration": 0,
    "start_time": "2023-07-26T09:52:34.954Z"
   },
   {
    "duration": 0,
    "start_time": "2023-07-26T09:52:34.956Z"
   },
   {
    "duration": 0,
    "start_time": "2023-07-26T09:52:34.957Z"
   },
   {
    "duration": 0,
    "start_time": "2023-07-26T09:52:34.958Z"
   },
   {
    "duration": 0,
    "start_time": "2023-07-26T09:52:34.959Z"
   },
   {
    "duration": 0,
    "start_time": "2023-07-26T09:52:34.960Z"
   },
   {
    "duration": 0,
    "start_time": "2023-07-26T09:52:34.961Z"
   },
   {
    "duration": 0,
    "start_time": "2023-07-26T09:52:34.961Z"
   },
   {
    "duration": 0,
    "start_time": "2023-07-26T09:52:34.962Z"
   },
   {
    "duration": 0,
    "start_time": "2023-07-26T09:52:34.963Z"
   },
   {
    "duration": 0,
    "start_time": "2023-07-26T09:52:34.964Z"
   },
   {
    "duration": 0,
    "start_time": "2023-07-26T09:52:34.965Z"
   },
   {
    "duration": 0,
    "start_time": "2023-07-26T09:52:34.967Z"
   },
   {
    "duration": 0,
    "start_time": "2023-07-26T09:52:34.968Z"
   },
   {
    "duration": 0,
    "start_time": "2023-07-26T09:52:34.969Z"
   },
   {
    "duration": 0,
    "start_time": "2023-07-26T09:52:34.970Z"
   },
   {
    "duration": 10,
    "start_time": "2023-07-26T09:53:44.807Z"
   },
   {
    "duration": 5,
    "start_time": "2023-07-26T09:54:34.200Z"
   },
   {
    "duration": 8,
    "start_time": "2023-07-26T09:54:35.126Z"
   },
   {
    "duration": 1849,
    "start_time": "2023-07-26T09:57:09.468Z"
   },
   {
    "duration": 5,
    "start_time": "2023-07-26T09:57:31.065Z"
   },
   {
    "duration": 8,
    "start_time": "2023-07-26T09:57:39.273Z"
   },
   {
    "duration": 12,
    "start_time": "2023-07-26T09:59:55.720Z"
   },
   {
    "duration": 24,
    "start_time": "2023-07-26T10:00:42.416Z"
   },
   {
    "duration": 11,
    "start_time": "2023-07-26T10:00:51.833Z"
   },
   {
    "duration": 121,
    "start_time": "2023-07-26T10:08:42.373Z"
   },
   {
    "duration": 109,
    "start_time": "2023-07-26T10:08:53.609Z"
   },
   {
    "duration": 15,
    "start_time": "2023-07-26T10:09:02.024Z"
   },
   {
    "duration": 123,
    "start_time": "2023-07-26T10:13:36.812Z"
   },
   {
    "duration": 103,
    "start_time": "2023-07-26T10:13:55.097Z"
   },
   {
    "duration": 121,
    "start_time": "2023-07-26T10:16:34.219Z"
   },
   {
    "duration": 110,
    "start_time": "2023-07-26T10:16:46.425Z"
   },
   {
    "duration": 25,
    "start_time": "2023-07-26T10:23:50.206Z"
   },
   {
    "duration": 22,
    "start_time": "2023-07-26T10:24:40.807Z"
   },
   {
    "duration": 13,
    "start_time": "2023-07-26T10:25:09.819Z"
   },
   {
    "duration": 7,
    "start_time": "2023-07-26T10:31:16.393Z"
   },
   {
    "duration": 7,
    "start_time": "2023-07-26T10:31:32.633Z"
   },
   {
    "duration": 5,
    "start_time": "2023-07-26T10:31:55.550Z"
   },
   {
    "duration": 8,
    "start_time": "2023-07-26T10:32:07.005Z"
   },
   {
    "duration": 8,
    "start_time": "2023-07-26T10:32:24.988Z"
   },
   {
    "duration": 5,
    "start_time": "2023-07-26T10:32:25.666Z"
   },
   {
    "duration": 9,
    "start_time": "2023-07-26T10:32:26.323Z"
   },
   {
    "duration": 1311,
    "start_time": "2023-07-26T10:32:39.955Z"
   },
   {
    "duration": 34,
    "start_time": "2023-07-26T10:32:41.268Z"
   },
   {
    "duration": 4,
    "start_time": "2023-07-26T10:32:41.304Z"
   },
   {
    "duration": 17,
    "start_time": "2023-07-26T10:32:41.309Z"
   },
   {
    "duration": 10,
    "start_time": "2023-07-26T10:32:41.328Z"
   },
   {
    "duration": 87,
    "start_time": "2023-07-26T10:32:41.340Z"
   },
   {
    "duration": 9,
    "start_time": "2023-07-26T10:32:41.429Z"
   },
   {
    "duration": 24,
    "start_time": "2023-07-26T10:32:41.440Z"
   },
   {
    "duration": 553,
    "start_time": "2023-07-26T10:32:41.466Z"
   },
   {
    "duration": 9,
    "start_time": "2023-07-26T10:32:42.022Z"
   },
   {
    "duration": 88,
    "start_time": "2023-07-26T10:32:42.034Z"
   },
   {
    "duration": 27,
    "start_time": "2023-07-26T10:32:42.124Z"
   },
   {
    "duration": 9,
    "start_time": "2023-07-26T10:32:42.153Z"
   },
   {
    "duration": 26,
    "start_time": "2023-07-26T10:32:42.164Z"
   },
   {
    "duration": 44,
    "start_time": "2023-07-26T10:32:42.193Z"
   },
   {
    "duration": 332,
    "start_time": "2023-07-26T10:32:42.239Z"
   },
   {
    "duration": 15,
    "start_time": "2023-07-26T10:32:42.574Z"
   },
   {
    "duration": 14,
    "start_time": "2023-07-26T10:32:42.592Z"
   },
   {
    "duration": 68,
    "start_time": "2023-07-26T10:32:42.608Z"
   },
   {
    "duration": 13,
    "start_time": "2023-07-26T10:32:42.678Z"
   },
   {
    "duration": 45,
    "start_time": "2023-07-26T10:32:42.693Z"
   },
   {
    "duration": 112,
    "start_time": "2023-07-26T10:32:42.740Z"
   },
   {
    "duration": 57,
    "start_time": "2023-07-26T10:32:42.855Z"
   },
   {
    "duration": 13,
    "start_time": "2023-07-26T10:32:42.914Z"
   },
   {
    "duration": 9,
    "start_time": "2023-07-26T10:32:42.929Z"
   },
   {
    "duration": 5,
    "start_time": "2023-07-26T10:32:42.956Z"
   },
   {
    "duration": 45,
    "start_time": "2023-07-26T10:32:42.963Z"
   },
   {
    "duration": 32,
    "start_time": "2023-07-26T10:32:43.013Z"
   },
   {
    "duration": 81,
    "start_time": "2023-07-26T10:32:43.048Z"
   },
   {
    "duration": 28,
    "start_time": "2023-07-26T10:32:43.131Z"
   },
   {
    "duration": 7,
    "start_time": "2023-07-26T10:32:43.160Z"
   },
   {
    "duration": 15,
    "start_time": "2023-07-26T10:32:43.169Z"
   },
   {
    "duration": 15,
    "start_time": "2023-07-26T10:32:43.185Z"
   },
   {
    "duration": 41,
    "start_time": "2023-07-26T10:32:43.203Z"
   },
   {
    "duration": 26,
    "start_time": "2023-07-26T10:32:43.246Z"
   },
   {
    "duration": 20,
    "start_time": "2023-07-26T10:32:43.273Z"
   },
   {
    "duration": 25,
    "start_time": "2023-07-26T10:32:43.295Z"
   },
   {
    "duration": 31,
    "start_time": "2023-07-26T10:32:43.321Z"
   },
   {
    "duration": 29,
    "start_time": "2023-07-26T10:32:43.354Z"
   },
   {
    "duration": 11,
    "start_time": "2023-07-26T10:32:43.384Z"
   },
   {
    "duration": 18,
    "start_time": "2023-07-26T10:32:43.396Z"
   },
   {
    "duration": 9,
    "start_time": "2023-07-26T10:32:43.415Z"
   },
   {
    "duration": 38,
    "start_time": "2023-07-26T10:32:43.426Z"
   },
   {
    "duration": 7,
    "start_time": "2023-07-26T10:32:43.467Z"
   },
   {
    "duration": 17,
    "start_time": "2023-07-26T10:32:43.476Z"
   },
   {
    "duration": 22,
    "start_time": "2023-07-26T10:32:43.495Z"
   },
   {
    "duration": 49,
    "start_time": "2023-07-26T10:32:43.519Z"
   },
   {
    "duration": 20,
    "start_time": "2023-07-26T10:32:43.570Z"
   },
   {
    "duration": 13,
    "start_time": "2023-07-26T10:32:43.592Z"
   },
   {
    "duration": 23,
    "start_time": "2023-07-26T10:32:43.607Z"
   },
   {
    "duration": 18,
    "start_time": "2023-07-26T10:32:43.631Z"
   },
   {
    "duration": 4,
    "start_time": "2023-07-26T10:32:43.651Z"
   },
   {
    "duration": 34,
    "start_time": "2023-07-26T10:32:43.656Z"
   },
   {
    "duration": 20,
    "start_time": "2023-07-26T10:32:43.692Z"
   },
   {
    "duration": 22,
    "start_time": "2023-07-26T10:32:43.713Z"
   },
   {
    "duration": 36,
    "start_time": "2023-07-26T10:32:43.737Z"
   },
   {
    "duration": 46,
    "start_time": "2023-07-26T10:32:43.775Z"
   },
   {
    "duration": 17,
    "start_time": "2023-07-26T10:32:43.823Z"
   },
   {
    "duration": 13,
    "start_time": "2023-07-26T10:32:43.841Z"
   },
   {
    "duration": 12,
    "start_time": "2023-07-26T10:32:43.856Z"
   },
   {
    "duration": 20,
    "start_time": "2023-07-26T10:32:43.869Z"
   },
   {
    "duration": 11,
    "start_time": "2023-07-26T10:32:43.890Z"
   },
   {
    "duration": 11,
    "start_time": "2023-07-26T10:32:43.903Z"
   },
   {
    "duration": 17,
    "start_time": "2023-07-26T10:32:43.916Z"
   },
   {
    "duration": 19,
    "start_time": "2023-07-26T10:32:43.935Z"
   },
   {
    "duration": 9,
    "start_time": "2023-07-26T10:32:43.956Z"
   },
   {
    "duration": 27,
    "start_time": "2023-07-26T10:32:43.966Z"
   },
   {
    "duration": 6,
    "start_time": "2023-07-26T10:32:43.995Z"
   },
   {
    "duration": 14,
    "start_time": "2023-07-26T10:32:44.002Z"
   },
   {
    "duration": 4,
    "start_time": "2023-07-26T10:32:44.017Z"
   },
   {
    "duration": 25,
    "start_time": "2023-07-26T10:32:44.023Z"
   },
   {
    "duration": 27,
    "start_time": "2023-07-26T10:32:44.050Z"
   },
   {
    "duration": 25,
    "start_time": "2023-07-26T10:32:44.079Z"
   },
   {
    "duration": 17,
    "start_time": "2023-07-26T10:32:44.106Z"
   },
   {
    "duration": 15,
    "start_time": "2023-07-26T10:32:44.124Z"
   },
   {
    "duration": 21,
    "start_time": "2023-07-26T10:32:44.141Z"
   },
   {
    "duration": 21,
    "start_time": "2023-07-26T10:32:44.164Z"
   },
   {
    "duration": 19,
    "start_time": "2023-07-26T10:32:44.188Z"
   },
   {
    "duration": 16,
    "start_time": "2023-07-26T10:32:44.210Z"
   },
   {
    "duration": 36,
    "start_time": "2023-07-26T10:32:44.228Z"
   },
   {
    "duration": 16,
    "start_time": "2023-07-26T10:32:44.267Z"
   },
   {
    "duration": 2,
    "start_time": "2023-07-26T10:32:44.294Z"
   },
   {
    "duration": 23,
    "start_time": "2023-07-26T10:32:44.298Z"
   },
   {
    "duration": 37,
    "start_time": "2023-07-26T10:32:44.322Z"
   },
   {
    "duration": 7,
    "start_time": "2023-07-26T10:32:44.361Z"
   },
   {
    "duration": 9,
    "start_time": "2023-07-26T10:32:44.370Z"
   },
   {
    "duration": 10,
    "start_time": "2023-07-26T10:32:44.381Z"
   },
   {
    "duration": 31,
    "start_time": "2023-07-26T10:32:44.393Z"
   },
   {
    "duration": 13,
    "start_time": "2023-07-26T10:32:44.426Z"
   },
   {
    "duration": 17,
    "start_time": "2023-07-26T10:32:44.441Z"
   },
   {
    "duration": 7,
    "start_time": "2023-07-26T10:32:44.460Z"
   },
   {
    "duration": 9,
    "start_time": "2023-07-26T10:32:44.469Z"
   },
   {
    "duration": 8,
    "start_time": "2023-07-26T10:32:44.480Z"
   },
   {
    "duration": 7,
    "start_time": "2023-07-26T10:32:44.490Z"
   },
   {
    "duration": 7,
    "start_time": "2023-07-26T10:32:44.499Z"
   },
   {
    "duration": 15,
    "start_time": "2023-07-26T10:32:44.508Z"
   },
   {
    "duration": 11,
    "start_time": "2023-07-26T10:32:44.525Z"
   },
   {
    "duration": 9,
    "start_time": "2023-07-26T10:32:44.538Z"
   },
   {
    "duration": 8,
    "start_time": "2023-07-26T10:32:44.549Z"
   },
   {
    "duration": 8,
    "start_time": "2023-07-26T10:32:44.559Z"
   },
   {
    "duration": 13,
    "start_time": "2023-07-26T10:32:44.569Z"
   },
   {
    "duration": 306,
    "start_time": "2023-07-26T10:32:44.584Z"
   },
   {
    "duration": 11,
    "start_time": "2023-07-26T10:32:44.893Z"
   },
   {
    "duration": 9,
    "start_time": "2023-07-26T10:32:44.957Z"
   },
   {
    "duration": 26,
    "start_time": "2023-07-26T10:32:44.968Z"
   },
   {
    "duration": 67,
    "start_time": "2023-07-26T10:32:44.997Z"
   },
   {
    "duration": 40,
    "start_time": "2023-07-26T10:32:45.067Z"
   },
   {
    "duration": 35,
    "start_time": "2023-07-26T10:32:45.109Z"
   },
   {
    "duration": 351,
    "start_time": "2023-07-26T10:32:45.147Z"
   },
   {
    "duration": 63,
    "start_time": "2023-07-26T10:32:45.500Z"
   },
   {
    "duration": 98,
    "start_time": "2023-07-26T10:32:45.565Z"
   },
   {
    "duration": 24,
    "start_time": "2023-07-26T10:32:45.666Z"
   },
   {
    "duration": 65,
    "start_time": "2023-07-26T10:32:45.692Z"
   },
   {
    "duration": 29,
    "start_time": "2023-07-26T10:32:45.760Z"
   },
   {
    "duration": 12,
    "start_time": "2023-07-26T10:32:45.791Z"
   },
   {
    "duration": 24,
    "start_time": "2023-07-26T10:32:45.805Z"
   },
   {
    "duration": 28,
    "start_time": "2023-07-26T10:32:45.857Z"
   },
   {
    "duration": 25,
    "start_time": "2023-07-26T10:32:45.887Z"
   },
   {
    "duration": 15,
    "start_time": "2023-07-26T10:32:45.914Z"
   },
   {
    "duration": 24,
    "start_time": "2023-07-26T10:32:45.930Z"
   },
   {
    "duration": 16,
    "start_time": "2023-07-26T10:32:45.956Z"
   },
   {
    "duration": 4,
    "start_time": "2023-07-26T10:32:45.974Z"
   },
   {
    "duration": 21,
    "start_time": "2023-07-26T10:32:45.979Z"
   },
   {
    "duration": 54,
    "start_time": "2023-07-26T10:32:46.002Z"
   },
   {
    "duration": 467,
    "start_time": "2023-07-26T10:32:46.058Z"
   },
   {
    "duration": 3,
    "start_time": "2023-07-26T10:32:46.527Z"
   },
   {
    "duration": 36,
    "start_time": "2023-07-26T10:32:46.531Z"
   },
   {
    "duration": 10,
    "start_time": "2023-07-26T10:32:46.569Z"
   },
   {
    "duration": 17,
    "start_time": "2023-07-26T10:32:46.581Z"
   },
   {
    "duration": 62,
    "start_time": "2023-07-26T10:32:46.601Z"
   },
   {
    "duration": 12,
    "start_time": "2023-07-26T10:32:46.665Z"
   },
   {
    "duration": 8,
    "start_time": "2023-07-26T10:32:46.678Z"
   },
   {
    "duration": 7,
    "start_time": "2023-07-26T10:32:46.687Z"
   },
   {
    "duration": 6,
    "start_time": "2023-07-26T10:32:46.696Z"
   },
   {
    "duration": 5,
    "start_time": "2023-07-26T10:32:46.704Z"
   },
   {
    "duration": 5,
    "start_time": "2023-07-26T10:32:46.711Z"
   },
   {
    "duration": 16,
    "start_time": "2023-07-26T10:32:46.717Z"
   },
   {
    "duration": 44,
    "start_time": "2023-07-26T10:32:46.735Z"
   },
   {
    "duration": 7,
    "start_time": "2023-07-26T10:32:46.780Z"
   },
   {
    "duration": 10,
    "start_time": "2023-07-26T10:32:46.789Z"
   },
   {
    "duration": 5,
    "start_time": "2023-07-26T10:32:46.801Z"
   },
   {
    "duration": 7,
    "start_time": "2023-07-26T10:32:46.808Z"
   },
   {
    "duration": 14,
    "start_time": "2023-07-26T10:32:46.817Z"
   },
   {
    "duration": 10,
    "start_time": "2023-07-26T10:32:46.857Z"
   },
   {
    "duration": 9,
    "start_time": "2023-07-26T10:32:46.869Z"
   },
   {
    "duration": 10,
    "start_time": "2023-07-26T10:32:46.880Z"
   },
   {
    "duration": 21,
    "start_time": "2023-07-26T10:32:46.892Z"
   },
   {
    "duration": 14,
    "start_time": "2023-07-26T10:32:46.915Z"
   },
   {
    "duration": 83,
    "start_time": "2023-07-26T10:32:46.930Z"
   },
   {
    "duration": 6,
    "start_time": "2023-07-26T10:32:47.015Z"
   },
   {
    "duration": 168,
    "start_time": "2023-07-26T10:32:47.023Z"
   },
   {
    "duration": 13,
    "start_time": "2023-07-26T10:32:47.193Z"
   },
   {
    "duration": 13,
    "start_time": "2023-07-26T10:32:47.208Z"
   },
   {
    "duration": 12,
    "start_time": "2023-07-26T10:32:47.223Z"
   },
   {
    "duration": 26,
    "start_time": "2023-07-26T10:32:47.237Z"
   },
   {
    "duration": 7,
    "start_time": "2023-07-26T10:32:47.266Z"
   },
   {
    "duration": 14,
    "start_time": "2023-07-26T10:32:47.275Z"
   },
   {
    "duration": 28,
    "start_time": "2023-07-26T10:32:47.291Z"
   },
   {
    "duration": 5,
    "start_time": "2023-07-26T10:32:47.321Z"
   },
   {
    "duration": 174,
    "start_time": "2023-07-26T10:32:47.328Z"
   },
   {
    "duration": 0,
    "start_time": "2023-07-26T10:32:47.504Z"
   },
   {
    "duration": 0,
    "start_time": "2023-07-26T10:32:47.505Z"
   },
   {
    "duration": 0,
    "start_time": "2023-07-26T10:32:47.506Z"
   },
   {
    "duration": 1,
    "start_time": "2023-07-26T10:32:47.507Z"
   },
   {
    "duration": 0,
    "start_time": "2023-07-26T10:32:47.508Z"
   },
   {
    "duration": 0,
    "start_time": "2023-07-26T10:32:47.509Z"
   },
   {
    "duration": 0,
    "start_time": "2023-07-26T10:32:47.510Z"
   },
   {
    "duration": 1,
    "start_time": "2023-07-26T10:32:47.511Z"
   },
   {
    "duration": 0,
    "start_time": "2023-07-26T10:32:47.513Z"
   },
   {
    "duration": 0,
    "start_time": "2023-07-26T10:32:47.514Z"
   },
   {
    "duration": 0,
    "start_time": "2023-07-26T10:32:47.516Z"
   },
   {
    "duration": 0,
    "start_time": "2023-07-26T10:32:47.517Z"
   },
   {
    "duration": 0,
    "start_time": "2023-07-26T10:32:47.518Z"
   },
   {
    "duration": 0,
    "start_time": "2023-07-26T10:32:47.520Z"
   },
   {
    "duration": 0,
    "start_time": "2023-07-26T10:32:47.521Z"
   },
   {
    "duration": 0,
    "start_time": "2023-07-26T10:32:47.522Z"
   },
   {
    "duration": 0,
    "start_time": "2023-07-26T10:32:47.523Z"
   },
   {
    "duration": 0,
    "start_time": "2023-07-26T10:32:47.556Z"
   },
   {
    "duration": 0,
    "start_time": "2023-07-26T10:32:47.557Z"
   },
   {
    "duration": 0,
    "start_time": "2023-07-26T10:32:47.559Z"
   },
   {
    "duration": 0,
    "start_time": "2023-07-26T10:32:47.560Z"
   },
   {
    "duration": 8,
    "start_time": "2023-07-26T10:34:14.608Z"
   },
   {
    "duration": 6,
    "start_time": "2023-07-26T10:34:15.639Z"
   },
   {
    "duration": 7,
    "start_time": "2023-07-26T10:34:19.111Z"
   },
   {
    "duration": 8,
    "start_time": "2023-07-26T10:34:19.796Z"
   },
   {
    "duration": 4,
    "start_time": "2023-07-26T11:08:35.907Z"
   },
   {
    "duration": 8,
    "start_time": "2023-07-26T11:08:43.235Z"
   },
   {
    "duration": 169,
    "start_time": "2023-07-26T11:09:21.294Z"
   },
   {
    "duration": 5,
    "start_time": "2023-07-26T11:09:31.137Z"
   },
   {
    "duration": 9,
    "start_time": "2023-07-26T11:09:32.450Z"
   },
   {
    "duration": 1277,
    "start_time": "2023-07-26T11:09:39.695Z"
   },
   {
    "duration": 28,
    "start_time": "2023-07-26T11:09:40.975Z"
   },
   {
    "duration": 5,
    "start_time": "2023-07-26T11:09:41.004Z"
   },
   {
    "duration": 16,
    "start_time": "2023-07-26T11:09:41.010Z"
   },
   {
    "duration": 10,
    "start_time": "2023-07-26T11:09:41.027Z"
   },
   {
    "duration": 74,
    "start_time": "2023-07-26T11:09:41.039Z"
   },
   {
    "duration": 8,
    "start_time": "2023-07-26T11:09:41.115Z"
   },
   {
    "duration": 36,
    "start_time": "2023-07-26T11:09:41.125Z"
   },
   {
    "duration": 534,
    "start_time": "2023-07-26T11:09:41.163Z"
   },
   {
    "duration": 10,
    "start_time": "2023-07-26T11:09:41.700Z"
   },
   {
    "duration": 74,
    "start_time": "2023-07-26T11:09:41.711Z"
   },
   {
    "duration": 26,
    "start_time": "2023-07-26T11:09:41.787Z"
   },
   {
    "duration": 8,
    "start_time": "2023-07-26T11:09:41.815Z"
   },
   {
    "duration": 13,
    "start_time": "2023-07-26T11:09:41.825Z"
   },
   {
    "duration": 48,
    "start_time": "2023-07-26T11:09:41.840Z"
   },
   {
    "duration": 344,
    "start_time": "2023-07-26T11:09:41.889Z"
   },
   {
    "duration": 10,
    "start_time": "2023-07-26T11:09:42.234Z"
   },
   {
    "duration": 15,
    "start_time": "2023-07-26T11:09:42.245Z"
   },
   {
    "duration": 49,
    "start_time": "2023-07-26T11:09:42.262Z"
   },
   {
    "duration": 12,
    "start_time": "2023-07-26T11:09:42.313Z"
   },
   {
    "duration": 32,
    "start_time": "2023-07-26T11:09:42.327Z"
   },
   {
    "duration": 102,
    "start_time": "2023-07-26T11:09:42.360Z"
   },
   {
    "duration": 42,
    "start_time": "2023-07-26T11:09:42.463Z"
   },
   {
    "duration": 9,
    "start_time": "2023-07-26T11:09:42.507Z"
   },
   {
    "duration": 8,
    "start_time": "2023-07-26T11:09:42.518Z"
   },
   {
    "duration": 29,
    "start_time": "2023-07-26T11:09:42.528Z"
   },
   {
    "duration": 30,
    "start_time": "2023-07-26T11:09:42.559Z"
   },
   {
    "duration": 28,
    "start_time": "2023-07-26T11:09:42.597Z"
   },
   {
    "duration": 64,
    "start_time": "2023-07-26T11:09:42.627Z"
   },
   {
    "duration": 24,
    "start_time": "2023-07-26T11:09:42.693Z"
   },
   {
    "duration": 7,
    "start_time": "2023-07-26T11:09:42.719Z"
   },
   {
    "duration": 29,
    "start_time": "2023-07-26T11:09:42.727Z"
   },
   {
    "duration": 5,
    "start_time": "2023-07-26T11:09:42.758Z"
   },
   {
    "duration": 25,
    "start_time": "2023-07-26T11:09:42.764Z"
   },
   {
    "duration": 10,
    "start_time": "2023-07-26T11:09:42.791Z"
   },
   {
    "duration": 29,
    "start_time": "2023-07-26T11:09:42.803Z"
   },
   {
    "duration": 7,
    "start_time": "2023-07-26T11:09:42.834Z"
   },
   {
    "duration": 5,
    "start_time": "2023-07-26T11:09:42.843Z"
   },
   {
    "duration": 11,
    "start_time": "2023-07-26T11:09:42.849Z"
   },
   {
    "duration": 4,
    "start_time": "2023-07-26T11:09:42.862Z"
   },
   {
    "duration": 15,
    "start_time": "2023-07-26T11:09:42.868Z"
   },
   {
    "duration": 5,
    "start_time": "2023-07-26T11:09:42.885Z"
   },
   {
    "duration": 35,
    "start_time": "2023-07-26T11:09:42.892Z"
   },
   {
    "duration": 31,
    "start_time": "2023-07-26T11:09:42.929Z"
   },
   {
    "duration": 14,
    "start_time": "2023-07-26T11:09:42.962Z"
   },
   {
    "duration": 9,
    "start_time": "2023-07-26T11:09:42.978Z"
   },
   {
    "duration": 14,
    "start_time": "2023-07-26T11:09:42.989Z"
   },
   {
    "duration": 22,
    "start_time": "2023-07-26T11:09:43.004Z"
   },
   {
    "duration": 30,
    "start_time": "2023-07-26T11:09:43.028Z"
   },
   {
    "duration": 15,
    "start_time": "2023-07-26T11:09:43.060Z"
   },
   {
    "duration": 24,
    "start_time": "2023-07-26T11:09:43.077Z"
   },
   {
    "duration": 4,
    "start_time": "2023-07-26T11:09:43.103Z"
   },
   {
    "duration": 11,
    "start_time": "2023-07-26T11:09:43.109Z"
   },
   {
    "duration": 6,
    "start_time": "2023-07-26T11:09:43.122Z"
   },
   {
    "duration": 6,
    "start_time": "2023-07-26T11:09:43.129Z"
   },
   {
    "duration": 11,
    "start_time": "2023-07-26T11:09:43.156Z"
   },
   {
    "duration": 11,
    "start_time": "2023-07-26T11:09:43.169Z"
   },
   {
    "duration": 9,
    "start_time": "2023-07-26T11:09:43.182Z"
   },
   {
    "duration": 5,
    "start_time": "2023-07-26T11:09:43.192Z"
   },
   {
    "duration": 9,
    "start_time": "2023-07-26T11:09:43.198Z"
   },
   {
    "duration": 49,
    "start_time": "2023-07-26T11:09:43.208Z"
   },
   {
    "duration": 6,
    "start_time": "2023-07-26T11:09:43.259Z"
   },
   {
    "duration": 7,
    "start_time": "2023-07-26T11:09:43.267Z"
   },
   {
    "duration": 11,
    "start_time": "2023-07-26T11:09:43.276Z"
   },
   {
    "duration": 10,
    "start_time": "2023-07-26T11:09:43.289Z"
   },
   {
    "duration": 9,
    "start_time": "2023-07-26T11:09:43.300Z"
   },
   {
    "duration": 17,
    "start_time": "2023-07-26T11:09:43.311Z"
   },
   {
    "duration": 35,
    "start_time": "2023-07-26T11:09:43.330Z"
   },
   {
    "duration": 12,
    "start_time": "2023-07-26T11:09:43.367Z"
   },
   {
    "duration": 5,
    "start_time": "2023-07-26T11:09:43.381Z"
   },
   {
    "duration": 6,
    "start_time": "2023-07-26T11:09:43.388Z"
   },
   {
    "duration": 10,
    "start_time": "2023-07-26T11:09:43.396Z"
   },
   {
    "duration": 7,
    "start_time": "2023-07-26T11:09:43.408Z"
   },
   {
    "duration": 12,
    "start_time": "2023-07-26T11:09:43.417Z"
   },
   {
    "duration": 10,
    "start_time": "2023-07-26T11:09:43.457Z"
   },
   {
    "duration": 9,
    "start_time": "2023-07-26T11:09:43.468Z"
   },
   {
    "duration": 15,
    "start_time": "2023-07-26T11:09:43.479Z"
   },
   {
    "duration": 10,
    "start_time": "2023-07-26T11:09:43.496Z"
   },
   {
    "duration": 4,
    "start_time": "2023-07-26T11:09:43.508Z"
   },
   {
    "duration": 22,
    "start_time": "2023-07-26T11:09:43.513Z"
   },
   {
    "duration": 26,
    "start_time": "2023-07-26T11:09:43.537Z"
   },
   {
    "duration": 3,
    "start_time": "2023-07-26T11:09:43.573Z"
   },
   {
    "duration": 6,
    "start_time": "2023-07-26T11:09:43.577Z"
   },
   {
    "duration": 9,
    "start_time": "2023-07-26T11:09:43.585Z"
   },
   {
    "duration": 16,
    "start_time": "2023-07-26T11:09:43.596Z"
   },
   {
    "duration": 5,
    "start_time": "2023-07-26T11:09:43.614Z"
   },
   {
    "duration": 5,
    "start_time": "2023-07-26T11:09:43.620Z"
   },
   {
    "duration": 7,
    "start_time": "2023-07-26T11:09:43.626Z"
   },
   {
    "duration": 5,
    "start_time": "2023-07-26T11:09:43.635Z"
   },
   {
    "duration": 19,
    "start_time": "2023-07-26T11:09:43.641Z"
   },
   {
    "duration": 29,
    "start_time": "2023-07-26T11:09:43.662Z"
   },
   {
    "duration": 6,
    "start_time": "2023-07-26T11:09:43.693Z"
   },
   {
    "duration": 25,
    "start_time": "2023-07-26T11:09:43.700Z"
   },
   {
    "duration": 24,
    "start_time": "2023-07-26T11:09:43.726Z"
   },
   {
    "duration": 15,
    "start_time": "2023-07-26T11:09:43.752Z"
   },
   {
    "duration": 14,
    "start_time": "2023-07-26T11:09:43.769Z"
   },
   {
    "duration": 6,
    "start_time": "2023-07-26T11:09:43.785Z"
   },
   {
    "duration": 4,
    "start_time": "2023-07-26T11:09:43.793Z"
   },
   {
    "duration": 20,
    "start_time": "2023-07-26T11:09:43.799Z"
   },
   {
    "duration": 11,
    "start_time": "2023-07-26T11:09:43.821Z"
   },
   {
    "duration": 5,
    "start_time": "2023-07-26T11:09:43.834Z"
   },
   {
    "duration": 132,
    "start_time": "2023-07-26T11:09:43.841Z"
   },
   {
    "duration": 13,
    "start_time": "2023-07-26T11:09:43.975Z"
   },
   {
    "duration": 13,
    "start_time": "2023-07-26T11:09:43.990Z"
   },
   {
    "duration": 18,
    "start_time": "2023-07-26T11:09:44.005Z"
   },
   {
    "duration": 16,
    "start_time": "2023-07-26T11:09:44.025Z"
   },
   {
    "duration": 17,
    "start_time": "2023-07-26T11:09:44.043Z"
   },
   {
    "duration": 19,
    "start_time": "2023-07-26T11:09:44.062Z"
   },
   {
    "duration": 182,
    "start_time": "2023-07-26T11:09:44.084Z"
   },
   {
    "duration": 11,
    "start_time": "2023-07-26T11:09:44.268Z"
   },
   {
    "duration": 31,
    "start_time": "2023-07-26T11:09:44.280Z"
   },
   {
    "duration": 18,
    "start_time": "2023-07-26T11:09:44.313Z"
   },
   {
    "duration": 25,
    "start_time": "2023-07-26T11:09:44.332Z"
   },
   {
    "duration": 23,
    "start_time": "2023-07-26T11:09:44.359Z"
   },
   {
    "duration": 12,
    "start_time": "2023-07-26T11:09:44.383Z"
   },
   {
    "duration": 17,
    "start_time": "2023-07-26T11:09:44.397Z"
   },
   {
    "duration": 16,
    "start_time": "2023-07-26T11:09:44.416Z"
   },
   {
    "duration": 6,
    "start_time": "2023-07-26T11:09:44.434Z"
   },
   {
    "duration": 19,
    "start_time": "2023-07-26T11:09:44.442Z"
   },
   {
    "duration": 14,
    "start_time": "2023-07-26T11:09:44.463Z"
   },
   {
    "duration": 14,
    "start_time": "2023-07-26T11:09:44.479Z"
   },
   {
    "duration": 3,
    "start_time": "2023-07-26T11:09:44.495Z"
   },
   {
    "duration": 12,
    "start_time": "2023-07-26T11:09:44.499Z"
   },
   {
    "duration": 5,
    "start_time": "2023-07-26T11:09:44.513Z"
   },
   {
    "duration": 439,
    "start_time": "2023-07-26T11:09:44.520Z"
   },
   {
    "duration": 3,
    "start_time": "2023-07-26T11:09:44.961Z"
   },
   {
    "duration": 41,
    "start_time": "2023-07-26T11:09:44.965Z"
   },
   {
    "duration": 14,
    "start_time": "2023-07-26T11:09:45.058Z"
   },
   {
    "duration": 34,
    "start_time": "2023-07-26T11:09:45.074Z"
   },
   {
    "duration": 12,
    "start_time": "2023-07-26T11:09:45.110Z"
   },
   {
    "duration": 11,
    "start_time": "2023-07-26T11:09:45.123Z"
   },
   {
    "duration": 9,
    "start_time": "2023-07-26T11:09:45.161Z"
   },
   {
    "duration": 8,
    "start_time": "2023-07-26T11:09:45.172Z"
   },
   {
    "duration": 7,
    "start_time": "2023-07-26T11:09:45.181Z"
   },
   {
    "duration": 4,
    "start_time": "2023-07-26T11:09:45.190Z"
   },
   {
    "duration": 4,
    "start_time": "2023-07-26T11:09:45.196Z"
   },
   {
    "duration": 5,
    "start_time": "2023-07-26T11:09:45.202Z"
   },
   {
    "duration": 33,
    "start_time": "2023-07-26T11:09:45.209Z"
   },
   {
    "duration": 15,
    "start_time": "2023-07-26T11:09:45.244Z"
   },
   {
    "duration": 12,
    "start_time": "2023-07-26T11:09:45.261Z"
   },
   {
    "duration": 12,
    "start_time": "2023-07-26T11:09:45.275Z"
   },
   {
    "duration": 12,
    "start_time": "2023-07-26T11:09:45.288Z"
   },
   {
    "duration": 11,
    "start_time": "2023-07-26T11:09:45.302Z"
   },
   {
    "duration": 20,
    "start_time": "2023-07-26T11:09:45.314Z"
   },
   {
    "duration": 8,
    "start_time": "2023-07-26T11:09:45.336Z"
   },
   {
    "duration": 12,
    "start_time": "2023-07-26T11:09:45.346Z"
   },
   {
    "duration": 11,
    "start_time": "2023-07-26T11:09:45.360Z"
   },
   {
    "duration": 33,
    "start_time": "2023-07-26T11:09:45.373Z"
   },
   {
    "duration": 64,
    "start_time": "2023-07-26T11:09:45.408Z"
   },
   {
    "duration": 6,
    "start_time": "2023-07-26T11:09:45.474Z"
   },
   {
    "duration": 162,
    "start_time": "2023-07-26T11:09:45.481Z"
   },
   {
    "duration": 20,
    "start_time": "2023-07-26T11:09:45.645Z"
   },
   {
    "duration": 8,
    "start_time": "2023-07-26T11:09:45.668Z"
   },
   {
    "duration": 6,
    "start_time": "2023-07-26T11:09:45.678Z"
   },
   {
    "duration": 13,
    "start_time": "2023-07-26T11:09:45.686Z"
   },
   {
    "duration": 8,
    "start_time": "2023-07-26T11:09:45.700Z"
   },
   {
    "duration": 14,
    "start_time": "2023-07-26T11:09:45.710Z"
   },
   {
    "duration": 52,
    "start_time": "2023-07-26T11:09:45.726Z"
   },
   {
    "duration": 6,
    "start_time": "2023-07-26T11:09:45.780Z"
   },
   {
    "duration": 6,
    "start_time": "2023-07-26T11:09:45.788Z"
   },
   {
    "duration": 8,
    "start_time": "2023-07-26T11:09:45.795Z"
   },
   {
    "duration": 11,
    "start_time": "2023-07-26T11:09:45.804Z"
   },
   {
    "duration": 18,
    "start_time": "2023-07-26T11:09:45.817Z"
   },
   {
    "duration": 21,
    "start_time": "2023-07-26T11:09:45.837Z"
   },
   {
    "duration": 145,
    "start_time": "2023-07-26T11:09:45.860Z"
   },
   {
    "duration": 0,
    "start_time": "2023-07-26T11:09:46.007Z"
   },
   {
    "duration": 0,
    "start_time": "2023-07-26T11:09:46.008Z"
   },
   {
    "duration": 0,
    "start_time": "2023-07-26T11:09:46.009Z"
   },
   {
    "duration": 0,
    "start_time": "2023-07-26T11:09:46.011Z"
   },
   {
    "duration": 0,
    "start_time": "2023-07-26T11:09:46.012Z"
   },
   {
    "duration": 0,
    "start_time": "2023-07-26T11:09:46.013Z"
   },
   {
    "duration": 0,
    "start_time": "2023-07-26T11:09:46.015Z"
   },
   {
    "duration": 0,
    "start_time": "2023-07-26T11:09:46.016Z"
   },
   {
    "duration": 0,
    "start_time": "2023-07-26T11:09:46.017Z"
   },
   {
    "duration": 0,
    "start_time": "2023-07-26T11:09:46.019Z"
   },
   {
    "duration": 0,
    "start_time": "2023-07-26T11:09:46.020Z"
   },
   {
    "duration": 0,
    "start_time": "2023-07-26T11:09:46.021Z"
   },
   {
    "duration": 0,
    "start_time": "2023-07-26T11:09:46.023Z"
   },
   {
    "duration": 0,
    "start_time": "2023-07-26T11:09:46.024Z"
   },
   {
    "duration": 0,
    "start_time": "2023-07-26T11:09:46.026Z"
   },
   {
    "duration": 0,
    "start_time": "2023-07-26T11:09:46.061Z"
   },
   {
    "duration": 0,
    "start_time": "2023-07-26T11:09:46.062Z"
   },
   {
    "duration": 0,
    "start_time": "2023-07-26T11:09:46.063Z"
   },
   {
    "duration": 1355,
    "start_time": "2023-07-26T11:11:48.688Z"
   },
   {
    "duration": 27,
    "start_time": "2023-07-26T11:11:50.056Z"
   },
   {
    "duration": 46,
    "start_time": "2023-07-26T11:11:50.085Z"
   },
   {
    "duration": 18,
    "start_time": "2023-07-26T11:11:50.133Z"
   },
   {
    "duration": 25,
    "start_time": "2023-07-26T11:11:50.153Z"
   },
   {
    "duration": 75,
    "start_time": "2023-07-26T11:11:50.180Z"
   },
   {
    "duration": 9,
    "start_time": "2023-07-26T11:11:50.257Z"
   },
   {
    "duration": 21,
    "start_time": "2023-07-26T11:11:50.267Z"
   },
   {
    "duration": 512,
    "start_time": "2023-07-26T11:11:50.289Z"
   },
   {
    "duration": 10,
    "start_time": "2023-07-26T11:11:50.805Z"
   },
   {
    "duration": 95,
    "start_time": "2023-07-26T11:11:50.817Z"
   },
   {
    "duration": 25,
    "start_time": "2023-07-26T11:11:50.914Z"
   },
   {
    "duration": 7,
    "start_time": "2023-07-26T11:11:50.941Z"
   },
   {
    "duration": 26,
    "start_time": "2023-07-26T11:11:50.949Z"
   },
   {
    "duration": 46,
    "start_time": "2023-07-26T11:11:50.977Z"
   },
   {
    "duration": 349,
    "start_time": "2023-07-26T11:11:51.025Z"
   },
   {
    "duration": 10,
    "start_time": "2023-07-26T11:11:51.376Z"
   },
   {
    "duration": 6,
    "start_time": "2023-07-26T11:11:51.387Z"
   },
   {
    "duration": 32,
    "start_time": "2023-07-26T11:11:51.395Z"
   },
   {
    "duration": 19,
    "start_time": "2023-07-26T11:11:51.459Z"
   },
   {
    "duration": 16,
    "start_time": "2023-07-26T11:11:51.480Z"
   },
   {
    "duration": 102,
    "start_time": "2023-07-26T11:11:51.498Z"
   },
   {
    "duration": 39,
    "start_time": "2023-07-26T11:11:51.602Z"
   },
   {
    "duration": 11,
    "start_time": "2023-07-26T11:11:51.655Z"
   },
   {
    "duration": 6,
    "start_time": "2023-07-26T11:11:51.669Z"
   },
   {
    "duration": 16,
    "start_time": "2023-07-26T11:11:51.677Z"
   },
   {
    "duration": 15,
    "start_time": "2023-07-26T11:11:51.695Z"
   },
   {
    "duration": 30,
    "start_time": "2023-07-26T11:11:51.714Z"
   },
   {
    "duration": 67,
    "start_time": "2023-07-26T11:11:51.762Z"
   },
   {
    "duration": 39,
    "start_time": "2023-07-26T11:11:51.830Z"
   },
   {
    "duration": 8,
    "start_time": "2023-07-26T11:11:51.870Z"
   },
   {
    "duration": 10,
    "start_time": "2023-07-26T11:11:51.879Z"
   },
   {
    "duration": 10,
    "start_time": "2023-07-26T11:11:51.892Z"
   },
   {
    "duration": 20,
    "start_time": "2023-07-26T11:11:51.904Z"
   },
   {
    "duration": 18,
    "start_time": "2023-07-26T11:11:51.926Z"
   },
   {
    "duration": 19,
    "start_time": "2023-07-26T11:11:51.946Z"
   },
   {
    "duration": 19,
    "start_time": "2023-07-26T11:11:51.968Z"
   },
   {
    "duration": 7,
    "start_time": "2023-07-26T11:11:51.989Z"
   },
   {
    "duration": 20,
    "start_time": "2023-07-26T11:11:51.998Z"
   },
   {
    "duration": 5,
    "start_time": "2023-07-26T11:11:52.019Z"
   },
   {
    "duration": 15,
    "start_time": "2023-07-26T11:11:52.025Z"
   },
   {
    "duration": 4,
    "start_time": "2023-07-26T11:11:52.042Z"
   },
   {
    "duration": 54,
    "start_time": "2023-07-26T11:11:52.048Z"
   },
   {
    "duration": 11,
    "start_time": "2023-07-26T11:11:52.104Z"
   },
   {
    "duration": 16,
    "start_time": "2023-07-26T11:11:52.117Z"
   },
   {
    "duration": 22,
    "start_time": "2023-07-26T11:11:52.134Z"
   },
   {
    "duration": 18,
    "start_time": "2023-07-26T11:11:52.158Z"
   },
   {
    "duration": 22,
    "start_time": "2023-07-26T11:11:52.178Z"
   },
   {
    "duration": 23,
    "start_time": "2023-07-26T11:11:52.202Z"
   },
   {
    "duration": 24,
    "start_time": "2023-07-26T11:11:52.227Z"
   },
   {
    "duration": 26,
    "start_time": "2023-07-26T11:11:52.252Z"
   },
   {
    "duration": 4,
    "start_time": "2023-07-26T11:11:52.281Z"
   },
   {
    "duration": 44,
    "start_time": "2023-07-26T11:11:52.286Z"
   },
   {
    "duration": 31,
    "start_time": "2023-07-26T11:11:52.332Z"
   },
   {
    "duration": 25,
    "start_time": "2023-07-26T11:11:52.365Z"
   },
   {
    "duration": 16,
    "start_time": "2023-07-26T11:11:52.392Z"
   },
   {
    "duration": 21,
    "start_time": "2023-07-26T11:11:52.409Z"
   },
   {
    "duration": 42,
    "start_time": "2023-07-26T11:11:52.433Z"
   },
   {
    "duration": 11,
    "start_time": "2023-07-26T11:11:52.477Z"
   },
   {
    "duration": 18,
    "start_time": "2023-07-26T11:11:52.490Z"
   },
   {
    "duration": 28,
    "start_time": "2023-07-26T11:11:52.509Z"
   },
   {
    "duration": 23,
    "start_time": "2023-07-26T11:11:52.538Z"
   },
   {
    "duration": 45,
    "start_time": "2023-07-26T11:11:52.563Z"
   },
   {
    "duration": 19,
    "start_time": "2023-07-26T11:11:52.610Z"
   },
   {
    "duration": 19,
    "start_time": "2023-07-26T11:11:52.632Z"
   },
   {
    "duration": 35,
    "start_time": "2023-07-26T11:11:52.653Z"
   },
   {
    "duration": 24,
    "start_time": "2023-07-26T11:11:52.691Z"
   },
   {
    "duration": 10,
    "start_time": "2023-07-26T11:11:52.717Z"
   },
   {
    "duration": 23,
    "start_time": "2023-07-26T11:11:52.729Z"
   },
   {
    "duration": 9,
    "start_time": "2023-07-26T11:11:52.753Z"
   },
   {
    "duration": 34,
    "start_time": "2023-07-26T11:11:52.764Z"
   },
   {
    "duration": 35,
    "start_time": "2023-07-26T11:11:52.800Z"
   },
   {
    "duration": 28,
    "start_time": "2023-07-26T11:11:52.836Z"
   },
   {
    "duration": 23,
    "start_time": "2023-07-26T11:11:52.865Z"
   },
   {
    "duration": 30,
    "start_time": "2023-07-26T11:11:52.890Z"
   },
   {
    "duration": 4,
    "start_time": "2023-07-26T11:11:52.922Z"
   },
   {
    "duration": 41,
    "start_time": "2023-07-26T11:11:52.927Z"
   },
   {
    "duration": 39,
    "start_time": "2023-07-26T11:11:52.970Z"
   },
   {
    "duration": 6,
    "start_time": "2023-07-26T11:11:53.011Z"
   },
   {
    "duration": 12,
    "start_time": "2023-07-26T11:11:53.018Z"
   },
   {
    "duration": 12,
    "start_time": "2023-07-26T11:11:53.031Z"
   },
   {
    "duration": 5,
    "start_time": "2023-07-26T11:11:53.052Z"
   },
   {
    "duration": 9,
    "start_time": "2023-07-26T11:11:53.059Z"
   },
   {
    "duration": 30,
    "start_time": "2023-07-26T11:11:53.069Z"
   },
   {
    "duration": 19,
    "start_time": "2023-07-26T11:11:53.101Z"
   },
   {
    "duration": 6,
    "start_time": "2023-07-26T11:11:53.122Z"
   },
   {
    "duration": 5,
    "start_time": "2023-07-26T11:11:53.129Z"
   },
   {
    "duration": 14,
    "start_time": "2023-07-26T11:11:53.136Z"
   },
   {
    "duration": 6,
    "start_time": "2023-07-26T11:11:53.152Z"
   },
   {
    "duration": 27,
    "start_time": "2023-07-26T11:11:53.160Z"
   },
   {
    "duration": 15,
    "start_time": "2023-07-26T11:11:53.188Z"
   },
   {
    "duration": 18,
    "start_time": "2023-07-26T11:11:53.205Z"
   },
   {
    "duration": 13,
    "start_time": "2023-07-26T11:11:53.225Z"
   },
   {
    "duration": 17,
    "start_time": "2023-07-26T11:11:53.240Z"
   },
   {
    "duration": 31,
    "start_time": "2023-07-26T11:11:53.259Z"
   },
   {
    "duration": 13,
    "start_time": "2023-07-26T11:11:53.292Z"
   },
   {
    "duration": 13,
    "start_time": "2023-07-26T11:11:53.307Z"
   },
   {
    "duration": 16,
    "start_time": "2023-07-26T11:11:53.322Z"
   },
   {
    "duration": 13,
    "start_time": "2023-07-26T11:11:53.340Z"
   },
   {
    "duration": 5,
    "start_time": "2023-07-26T11:11:53.355Z"
   },
   {
    "duration": 19,
    "start_time": "2023-07-26T11:11:53.362Z"
   },
   {
    "duration": 144,
    "start_time": "2023-07-26T11:11:53.383Z"
   },
   {
    "duration": 11,
    "start_time": "2023-07-26T11:11:53.529Z"
   },
   {
    "duration": 18,
    "start_time": "2023-07-26T11:11:53.542Z"
   },
   {
    "duration": 33,
    "start_time": "2023-07-26T11:11:53.562Z"
   },
   {
    "duration": 33,
    "start_time": "2023-07-26T11:11:53.597Z"
   },
   {
    "duration": 26,
    "start_time": "2023-07-26T11:11:53.632Z"
   },
   {
    "duration": 19,
    "start_time": "2023-07-26T11:11:53.660Z"
   },
   {
    "duration": 175,
    "start_time": "2023-07-26T11:11:53.681Z"
   },
   {
    "duration": 14,
    "start_time": "2023-07-26T11:11:53.858Z"
   },
   {
    "duration": 29,
    "start_time": "2023-07-26T11:11:53.873Z"
   },
   {
    "duration": 23,
    "start_time": "2023-07-26T11:11:53.904Z"
   },
   {
    "duration": 9,
    "start_time": "2023-07-26T11:11:53.929Z"
   },
   {
    "duration": 42,
    "start_time": "2023-07-26T11:11:53.940Z"
   },
   {
    "duration": 11,
    "start_time": "2023-07-26T11:11:53.984Z"
   },
   {
    "duration": 14,
    "start_time": "2023-07-26T11:11:53.996Z"
   },
   {
    "duration": 12,
    "start_time": "2023-07-26T11:11:54.012Z"
   },
   {
    "duration": 16,
    "start_time": "2023-07-26T11:11:54.026Z"
   },
   {
    "duration": 19,
    "start_time": "2023-07-26T11:11:54.044Z"
   },
   {
    "duration": 10,
    "start_time": "2023-07-26T11:11:54.064Z"
   },
   {
    "duration": 20,
    "start_time": "2023-07-26T11:11:54.075Z"
   },
   {
    "duration": 10,
    "start_time": "2023-07-26T11:11:54.097Z"
   },
   {
    "duration": 13,
    "start_time": "2023-07-26T11:11:54.109Z"
   },
   {
    "duration": 9,
    "start_time": "2023-07-26T11:11:54.124Z"
   },
   {
    "duration": 442,
    "start_time": "2023-07-26T11:11:54.135Z"
   },
   {
    "duration": 3,
    "start_time": "2023-07-26T11:11:54.579Z"
   },
   {
    "duration": 72,
    "start_time": "2023-07-26T11:11:54.584Z"
   },
   {
    "duration": 9,
    "start_time": "2023-07-26T11:11:54.658Z"
   },
   {
    "duration": 15,
    "start_time": "2023-07-26T11:11:54.669Z"
   },
   {
    "duration": 77,
    "start_time": "2023-07-26T11:11:54.685Z"
   },
   {
    "duration": 15,
    "start_time": "2023-07-26T11:11:54.765Z"
   },
   {
    "duration": 17,
    "start_time": "2023-07-26T11:11:54.782Z"
   },
   {
    "duration": 13,
    "start_time": "2023-07-26T11:11:54.801Z"
   },
   {
    "duration": 12,
    "start_time": "2023-07-26T11:11:54.816Z"
   },
   {
    "duration": 6,
    "start_time": "2023-07-26T11:11:54.829Z"
   },
   {
    "duration": 13,
    "start_time": "2023-07-26T11:11:54.836Z"
   },
   {
    "duration": 52,
    "start_time": "2023-07-26T11:11:54.850Z"
   },
   {
    "duration": 18,
    "start_time": "2023-07-26T11:11:54.904Z"
   },
   {
    "duration": 31,
    "start_time": "2023-07-26T11:11:54.923Z"
   },
   {
    "duration": 20,
    "start_time": "2023-07-26T11:11:54.956Z"
   },
   {
    "duration": 26,
    "start_time": "2023-07-26T11:11:54.979Z"
   },
   {
    "duration": 35,
    "start_time": "2023-07-26T11:11:55.007Z"
   },
   {
    "duration": 23,
    "start_time": "2023-07-26T11:11:55.043Z"
   },
   {
    "duration": 33,
    "start_time": "2023-07-26T11:11:55.067Z"
   },
   {
    "duration": 22,
    "start_time": "2023-07-26T11:11:55.101Z"
   },
   {
    "duration": 13,
    "start_time": "2023-07-26T11:11:55.125Z"
   },
   {
    "duration": 14,
    "start_time": "2023-07-26T11:11:55.140Z"
   },
   {
    "duration": 11,
    "start_time": "2023-07-26T11:11:55.156Z"
   },
   {
    "duration": 93,
    "start_time": "2023-07-26T11:11:55.169Z"
   },
   {
    "duration": 8,
    "start_time": "2023-07-26T11:11:55.264Z"
   },
   {
    "duration": 163,
    "start_time": "2023-07-26T11:11:55.274Z"
   },
   {
    "duration": 19,
    "start_time": "2023-07-26T11:11:55.439Z"
   },
   {
    "duration": 19,
    "start_time": "2023-07-26T11:11:55.459Z"
   },
   {
    "duration": 13,
    "start_time": "2023-07-26T11:11:55.479Z"
   },
   {
    "duration": 30,
    "start_time": "2023-07-26T11:11:55.493Z"
   },
   {
    "duration": 7,
    "start_time": "2023-07-26T11:11:55.524Z"
   },
   {
    "duration": 16,
    "start_time": "2023-07-26T11:11:55.532Z"
   },
   {
    "duration": 21,
    "start_time": "2023-07-26T11:11:55.549Z"
   },
   {
    "duration": 6,
    "start_time": "2023-07-26T11:11:55.572Z"
   },
   {
    "duration": 19,
    "start_time": "2023-07-26T11:11:55.579Z"
   },
   {
    "duration": 10,
    "start_time": "2023-07-26T11:11:55.600Z"
   },
   {
    "duration": 18,
    "start_time": "2023-07-26T11:11:55.612Z"
   },
   {
    "duration": 10,
    "start_time": "2023-07-26T11:11:55.631Z"
   },
   {
    "duration": 10,
    "start_time": "2023-07-26T11:11:55.642Z"
   },
   {
    "duration": 157,
    "start_time": "2023-07-26T11:11:55.654Z"
   },
   {
    "duration": 0,
    "start_time": "2023-07-26T11:11:55.813Z"
   },
   {
    "duration": 0,
    "start_time": "2023-07-26T11:11:55.814Z"
   },
   {
    "duration": 0,
    "start_time": "2023-07-26T11:11:55.815Z"
   },
   {
    "duration": 0,
    "start_time": "2023-07-26T11:11:55.816Z"
   },
   {
    "duration": 0,
    "start_time": "2023-07-26T11:11:55.818Z"
   },
   {
    "duration": 0,
    "start_time": "2023-07-26T11:11:55.818Z"
   },
   {
    "duration": 0,
    "start_time": "2023-07-26T11:11:55.820Z"
   },
   {
    "duration": 0,
    "start_time": "2023-07-26T11:11:55.821Z"
   },
   {
    "duration": 0,
    "start_time": "2023-07-26T11:11:55.821Z"
   },
   {
    "duration": 0,
    "start_time": "2023-07-26T11:11:55.823Z"
   },
   {
    "duration": 0,
    "start_time": "2023-07-26T11:11:55.824Z"
   },
   {
    "duration": 0,
    "start_time": "2023-07-26T11:11:55.824Z"
   },
   {
    "duration": 1,
    "start_time": "2023-07-26T11:11:55.825Z"
   },
   {
    "duration": 0,
    "start_time": "2023-07-26T11:11:55.827Z"
   },
   {
    "duration": 0,
    "start_time": "2023-07-26T11:11:55.828Z"
   },
   {
    "duration": 0,
    "start_time": "2023-07-26T11:11:55.829Z"
   },
   {
    "duration": 0,
    "start_time": "2023-07-26T11:11:55.831Z"
   },
   {
    "duration": 0,
    "start_time": "2023-07-26T11:11:55.856Z"
   },
   {
    "duration": 21,
    "start_time": "2023-07-26T11:35:19.026Z"
   },
   {
    "duration": 1218,
    "start_time": "2023-07-26T11:38:45.806Z"
   },
   {
    "duration": 26,
    "start_time": "2023-07-26T11:38:47.026Z"
   },
   {
    "duration": 3,
    "start_time": "2023-07-26T11:38:47.054Z"
   },
   {
    "duration": 15,
    "start_time": "2023-07-26T11:38:47.060Z"
   },
   {
    "duration": 11,
    "start_time": "2023-07-26T11:38:47.076Z"
   },
   {
    "duration": 84,
    "start_time": "2023-07-26T11:38:47.088Z"
   },
   {
    "duration": 8,
    "start_time": "2023-07-26T11:38:47.174Z"
   },
   {
    "duration": 34,
    "start_time": "2023-07-26T11:38:47.183Z"
   },
   {
    "duration": 549,
    "start_time": "2023-07-26T11:38:47.218Z"
   },
   {
    "duration": 8,
    "start_time": "2023-07-26T11:38:47.770Z"
   },
   {
    "duration": 76,
    "start_time": "2023-07-26T11:38:47.780Z"
   },
   {
    "duration": 27,
    "start_time": "2023-07-26T11:38:47.858Z"
   },
   {
    "duration": 7,
    "start_time": "2023-07-26T11:38:47.887Z"
   },
   {
    "duration": 20,
    "start_time": "2023-07-26T11:38:47.896Z"
   },
   {
    "duration": 55,
    "start_time": "2023-07-26T11:38:47.917Z"
   },
   {
    "duration": 313,
    "start_time": "2023-07-26T11:38:47.973Z"
   },
   {
    "duration": 10,
    "start_time": "2023-07-26T11:38:48.288Z"
   },
   {
    "duration": 5,
    "start_time": "2023-07-26T11:38:48.300Z"
   },
   {
    "duration": 50,
    "start_time": "2023-07-26T11:38:48.307Z"
   },
   {
    "duration": 12,
    "start_time": "2023-07-26T11:38:48.359Z"
   },
   {
    "duration": 23,
    "start_time": "2023-07-26T11:38:48.373Z"
   },
   {
    "duration": 111,
    "start_time": "2023-07-26T11:38:48.398Z"
   },
   {
    "duration": 51,
    "start_time": "2023-07-26T11:38:48.511Z"
   },
   {
    "duration": 9,
    "start_time": "2023-07-26T11:38:48.564Z"
   },
   {
    "duration": 6,
    "start_time": "2023-07-26T11:38:48.575Z"
   },
   {
    "duration": 9,
    "start_time": "2023-07-26T11:38:48.583Z"
   },
   {
    "duration": 14,
    "start_time": "2023-07-26T11:38:48.594Z"
   },
   {
    "duration": 46,
    "start_time": "2023-07-26T11:38:48.612Z"
   },
   {
    "duration": 59,
    "start_time": "2023-07-26T11:38:48.660Z"
   },
   {
    "duration": 39,
    "start_time": "2023-07-26T11:38:48.721Z"
   },
   {
    "duration": 7,
    "start_time": "2023-07-26T11:38:48.762Z"
   },
   {
    "duration": 9,
    "start_time": "2023-07-26T11:38:48.771Z"
   },
   {
    "duration": 14,
    "start_time": "2023-07-26T11:38:48.782Z"
   },
   {
    "duration": 27,
    "start_time": "2023-07-26T11:38:48.798Z"
   },
   {
    "duration": 26,
    "start_time": "2023-07-26T11:38:48.827Z"
   },
   {
    "duration": 20,
    "start_time": "2023-07-26T11:38:48.855Z"
   },
   {
    "duration": 15,
    "start_time": "2023-07-26T11:38:48.877Z"
   },
   {
    "duration": 6,
    "start_time": "2023-07-26T11:38:48.894Z"
   },
   {
    "duration": 7,
    "start_time": "2023-07-26T11:38:48.901Z"
   },
   {
    "duration": 8,
    "start_time": "2023-07-26T11:38:48.909Z"
   },
   {
    "duration": 20,
    "start_time": "2023-07-26T11:38:48.918Z"
   },
   {
    "duration": 10,
    "start_time": "2023-07-26T11:38:48.940Z"
   },
   {
    "duration": 49,
    "start_time": "2023-07-26T11:38:48.953Z"
   },
   {
    "duration": 10,
    "start_time": "2023-07-26T11:38:49.007Z"
   },
   {
    "duration": 12,
    "start_time": "2023-07-26T11:38:49.019Z"
   },
   {
    "duration": 26,
    "start_time": "2023-07-26T11:38:49.033Z"
   },
   {
    "duration": 16,
    "start_time": "2023-07-26T11:38:49.061Z"
   },
   {
    "duration": 23,
    "start_time": "2023-07-26T11:38:49.079Z"
   },
   {
    "duration": 12,
    "start_time": "2023-07-26T11:38:49.105Z"
   },
   {
    "duration": 50,
    "start_time": "2023-07-26T11:38:49.119Z"
   },
   {
    "duration": 24,
    "start_time": "2023-07-26T11:38:49.172Z"
   },
   {
    "duration": 5,
    "start_time": "2023-07-26T11:38:49.198Z"
   },
   {
    "duration": 8,
    "start_time": "2023-07-26T11:38:49.205Z"
   },
   {
    "duration": 9,
    "start_time": "2023-07-26T11:38:49.215Z"
   },
   {
    "duration": 32,
    "start_time": "2023-07-26T11:38:49.226Z"
   },
   {
    "duration": 27,
    "start_time": "2023-07-26T11:38:49.261Z"
   },
   {
    "duration": 39,
    "start_time": "2023-07-26T11:38:49.291Z"
   },
   {
    "duration": 10,
    "start_time": "2023-07-26T11:38:49.333Z"
   },
   {
    "duration": 11,
    "start_time": "2023-07-26T11:38:49.344Z"
   },
   {
    "duration": 11,
    "start_time": "2023-07-26T11:38:49.357Z"
   },
   {
    "duration": 26,
    "start_time": "2023-07-26T11:38:49.369Z"
   },
   {
    "duration": 13,
    "start_time": "2023-07-26T11:38:49.397Z"
   },
   {
    "duration": 10,
    "start_time": "2023-07-26T11:38:49.411Z"
   },
   {
    "duration": 9,
    "start_time": "2023-07-26T11:38:49.423Z"
   },
   {
    "duration": 8,
    "start_time": "2023-07-26T11:38:49.434Z"
   },
   {
    "duration": 8,
    "start_time": "2023-07-26T11:38:49.443Z"
   },
   {
    "duration": 15,
    "start_time": "2023-07-26T11:38:49.453Z"
   },
   {
    "duration": 5,
    "start_time": "2023-07-26T11:38:49.469Z"
   },
   {
    "duration": 13,
    "start_time": "2023-07-26T11:38:49.475Z"
   },
   {
    "duration": 4,
    "start_time": "2023-07-26T11:38:49.489Z"
   },
   {
    "duration": 6,
    "start_time": "2023-07-26T11:38:49.494Z"
   },
   {
    "duration": 20,
    "start_time": "2023-07-26T11:38:49.501Z"
   },
   {
    "duration": 11,
    "start_time": "2023-07-26T11:38:49.522Z"
   },
   {
    "duration": 22,
    "start_time": "2023-07-26T11:38:49.534Z"
   },
   {
    "duration": 9,
    "start_time": "2023-07-26T11:38:49.558Z"
   },
   {
    "duration": 4,
    "start_time": "2023-07-26T11:38:49.568Z"
   },
   {
    "duration": 11,
    "start_time": "2023-07-26T11:38:49.573Z"
   },
   {
    "duration": 22,
    "start_time": "2023-07-26T11:38:49.586Z"
   },
   {
    "duration": 7,
    "start_time": "2023-07-26T11:38:49.609Z"
   },
   {
    "duration": 40,
    "start_time": "2023-07-26T11:38:49.617Z"
   },
   {
    "duration": 13,
    "start_time": "2023-07-26T11:38:49.658Z"
   },
   {
    "duration": 2,
    "start_time": "2023-07-26T11:38:49.680Z"
   },
   {
    "duration": 11,
    "start_time": "2023-07-26T11:38:49.683Z"
   },
   {
    "duration": 7,
    "start_time": "2023-07-26T11:38:49.695Z"
   },
   {
    "duration": 4,
    "start_time": "2023-07-26T11:38:49.703Z"
   },
   {
    "duration": 5,
    "start_time": "2023-07-26T11:38:49.709Z"
   },
   {
    "duration": 6,
    "start_time": "2023-07-26T11:38:49.715Z"
   },
   {
    "duration": 5,
    "start_time": "2023-07-26T11:38:49.722Z"
   },
   {
    "duration": 7,
    "start_time": "2023-07-26T11:38:49.729Z"
   },
   {
    "duration": 19,
    "start_time": "2023-07-26T11:38:49.737Z"
   },
   {
    "duration": 7,
    "start_time": "2023-07-26T11:38:49.758Z"
   },
   {
    "duration": 7,
    "start_time": "2023-07-26T11:38:49.766Z"
   },
   {
    "duration": 4,
    "start_time": "2023-07-26T11:38:49.775Z"
   },
   {
    "duration": 19,
    "start_time": "2023-07-26T11:38:49.780Z"
   },
   {
    "duration": 6,
    "start_time": "2023-07-26T11:38:49.801Z"
   },
   {
    "duration": 7,
    "start_time": "2023-07-26T11:38:49.808Z"
   },
   {
    "duration": 14,
    "start_time": "2023-07-26T11:38:49.817Z"
   },
   {
    "duration": 6,
    "start_time": "2023-07-26T11:38:49.833Z"
   },
   {
    "duration": 11,
    "start_time": "2023-07-26T11:38:49.841Z"
   },
   {
    "duration": 24,
    "start_time": "2023-07-26T11:38:49.853Z"
   },
   {
    "duration": 14,
    "start_time": "2023-07-26T11:38:49.879Z"
   },
   {
    "duration": 113,
    "start_time": "2023-07-26T11:38:49.894Z"
   },
   {
    "duration": 11,
    "start_time": "2023-07-26T11:38:50.009Z"
   },
   {
    "duration": 6,
    "start_time": "2023-07-26T11:38:50.022Z"
   },
   {
    "duration": 13,
    "start_time": "2023-07-26T11:38:50.030Z"
   },
   {
    "duration": 28,
    "start_time": "2023-07-26T11:38:50.045Z"
   },
   {
    "duration": 39,
    "start_time": "2023-07-26T11:38:50.075Z"
   },
   {
    "duration": 34,
    "start_time": "2023-07-26T11:38:50.115Z"
   },
   {
    "duration": 149,
    "start_time": "2023-07-26T11:38:50.151Z"
   },
   {
    "duration": 12,
    "start_time": "2023-07-26T11:38:50.302Z"
   },
   {
    "duration": 44,
    "start_time": "2023-07-26T11:38:50.317Z"
   },
   {
    "duration": 16,
    "start_time": "2023-07-26T11:38:50.362Z"
   },
   {
    "duration": 22,
    "start_time": "2023-07-26T11:38:50.380Z"
   },
   {
    "duration": 46,
    "start_time": "2023-07-26T11:38:50.404Z"
   },
   {
    "duration": 11,
    "start_time": "2023-07-26T11:38:50.451Z"
   },
   {
    "duration": 8,
    "start_time": "2023-07-26T11:38:50.463Z"
   },
   {
    "duration": 15,
    "start_time": "2023-07-26T11:38:50.473Z"
   },
   {
    "duration": 15,
    "start_time": "2023-07-26T11:38:50.490Z"
   },
   {
    "duration": 10,
    "start_time": "2023-07-26T11:38:50.507Z"
   },
   {
    "duration": 11,
    "start_time": "2023-07-26T11:38:50.519Z"
   },
   {
    "duration": 13,
    "start_time": "2023-07-26T11:38:50.532Z"
   },
   {
    "duration": 13,
    "start_time": "2023-07-26T11:38:50.547Z"
   },
   {
    "duration": 18,
    "start_time": "2023-07-26T11:38:50.561Z"
   },
   {
    "duration": 19,
    "start_time": "2023-07-26T11:38:50.580Z"
   },
   {
    "duration": 499,
    "start_time": "2023-07-26T11:38:50.601Z"
   },
   {
    "duration": 3,
    "start_time": "2023-07-26T11:38:51.102Z"
   },
   {
    "duration": 69,
    "start_time": "2023-07-26T11:38:51.106Z"
   },
   {
    "duration": 13,
    "start_time": "2023-07-26T11:38:51.177Z"
   },
   {
    "duration": 23,
    "start_time": "2023-07-26T11:38:51.193Z"
   },
   {
    "duration": 45,
    "start_time": "2023-07-26T11:38:51.217Z"
   },
   {
    "duration": 13,
    "start_time": "2023-07-26T11:38:51.265Z"
   },
   {
    "duration": 7,
    "start_time": "2023-07-26T11:38:51.280Z"
   },
   {
    "duration": 6,
    "start_time": "2023-07-26T11:38:51.288Z"
   },
   {
    "duration": 11,
    "start_time": "2023-07-26T11:38:51.295Z"
   },
   {
    "duration": 5,
    "start_time": "2023-07-26T11:38:51.308Z"
   },
   {
    "duration": 7,
    "start_time": "2023-07-26T11:38:51.315Z"
   },
   {
    "duration": 9,
    "start_time": "2023-07-26T11:38:51.324Z"
   },
   {
    "duration": 32,
    "start_time": "2023-07-26T11:38:51.335Z"
   },
   {
    "duration": 7,
    "start_time": "2023-07-26T11:38:51.368Z"
   },
   {
    "duration": 20,
    "start_time": "2023-07-26T11:38:51.377Z"
   },
   {
    "duration": 14,
    "start_time": "2023-07-26T11:38:51.399Z"
   },
   {
    "duration": 10,
    "start_time": "2023-07-26T11:38:51.415Z"
   },
   {
    "duration": 33,
    "start_time": "2023-07-26T11:38:51.426Z"
   },
   {
    "duration": 16,
    "start_time": "2023-07-26T11:38:51.461Z"
   },
   {
    "duration": 21,
    "start_time": "2023-07-26T11:38:51.479Z"
   },
   {
    "duration": 29,
    "start_time": "2023-07-26T11:38:51.502Z"
   },
   {
    "duration": 15,
    "start_time": "2023-07-26T11:38:51.532Z"
   },
   {
    "duration": 11,
    "start_time": "2023-07-26T11:38:51.549Z"
   },
   {
    "duration": 72,
    "start_time": "2023-07-26T11:38:51.562Z"
   },
   {
    "duration": 20,
    "start_time": "2023-07-26T11:38:51.636Z"
   },
   {
    "duration": 171,
    "start_time": "2023-07-26T11:38:51.658Z"
   },
   {
    "duration": 11,
    "start_time": "2023-07-26T11:38:51.831Z"
   },
   {
    "duration": 6,
    "start_time": "2023-07-26T11:38:51.857Z"
   },
   {
    "duration": 8,
    "start_time": "2023-07-26T11:38:51.865Z"
   },
   {
    "duration": 21,
    "start_time": "2023-07-26T11:38:51.875Z"
   },
   {
    "duration": 16,
    "start_time": "2023-07-26T11:38:51.898Z"
   },
   {
    "duration": 27,
    "start_time": "2023-07-26T11:38:51.915Z"
   },
   {
    "duration": 32,
    "start_time": "2023-07-26T11:38:51.943Z"
   },
   {
    "duration": 18,
    "start_time": "2023-07-26T11:38:51.977Z"
   },
   {
    "duration": 30,
    "start_time": "2023-07-26T11:38:51.997Z"
   },
   {
    "duration": 13,
    "start_time": "2023-07-26T11:38:52.030Z"
   },
   {
    "duration": 23,
    "start_time": "2023-07-26T11:38:52.046Z"
   },
   {
    "duration": 14,
    "start_time": "2023-07-26T11:38:52.071Z"
   },
   {
    "duration": 18,
    "start_time": "2023-07-26T11:38:52.088Z"
   },
   {
    "duration": 24,
    "start_time": "2023-07-26T11:38:52.109Z"
   },
   {
    "duration": 153,
    "start_time": "2023-07-26T11:38:52.134Z"
   },
   {
    "duration": 0,
    "start_time": "2023-07-26T11:38:52.289Z"
   },
   {
    "duration": 0,
    "start_time": "2023-07-26T11:38:52.290Z"
   },
   {
    "duration": 0,
    "start_time": "2023-07-26T11:38:52.292Z"
   },
   {
    "duration": 0,
    "start_time": "2023-07-26T11:38:52.293Z"
   },
   {
    "duration": 0,
    "start_time": "2023-07-26T11:38:52.294Z"
   },
   {
    "duration": 0,
    "start_time": "2023-07-26T11:38:52.295Z"
   },
   {
    "duration": 0,
    "start_time": "2023-07-26T11:38:52.296Z"
   },
   {
    "duration": 0,
    "start_time": "2023-07-26T11:38:52.298Z"
   },
   {
    "duration": 0,
    "start_time": "2023-07-26T11:38:52.299Z"
   },
   {
    "duration": 0,
    "start_time": "2023-07-26T11:38:52.300Z"
   },
   {
    "duration": 0,
    "start_time": "2023-07-26T11:38:52.302Z"
   },
   {
    "duration": 0,
    "start_time": "2023-07-26T11:38:52.302Z"
   },
   {
    "duration": 0,
    "start_time": "2023-07-26T11:38:52.304Z"
   },
   {
    "duration": 0,
    "start_time": "2023-07-26T11:38:52.306Z"
   },
   {
    "duration": 0,
    "start_time": "2023-07-26T11:38:52.307Z"
   },
   {
    "duration": 0,
    "start_time": "2023-07-26T11:38:52.308Z"
   },
   {
    "duration": 0,
    "start_time": "2023-07-26T11:38:52.309Z"
   },
   {
    "duration": 0,
    "start_time": "2023-07-26T11:38:52.310Z"
   },
   {
    "duration": 4,
    "start_time": "2023-07-26T11:42:53.307Z"
   },
   {
    "duration": 8,
    "start_time": "2023-07-26T11:42:54.161Z"
   },
   {
    "duration": 13,
    "start_time": "2023-07-26T11:45:39.813Z"
   },
   {
    "duration": 15,
    "start_time": "2023-07-26T11:45:52.165Z"
   },
   {
    "duration": 14,
    "start_time": "2023-07-26T11:47:55.221Z"
   },
   {
    "duration": 8,
    "start_time": "2023-07-26T12:07:24.114Z"
   },
   {
    "duration": 7,
    "start_time": "2023-07-26T12:07:36.727Z"
   },
   {
    "duration": 5,
    "start_time": "2023-07-26T12:21:22.722Z"
   },
   {
    "duration": 8,
    "start_time": "2023-07-26T12:21:25.617Z"
   },
   {
    "duration": 8,
    "start_time": "2023-07-26T12:21:28.050Z"
   },
   {
    "duration": 6,
    "start_time": "2023-07-26T12:21:29.302Z"
   },
   {
    "duration": 5,
    "start_time": "2023-07-26T12:23:29.808Z"
   },
   {
    "duration": 9,
    "start_time": "2023-07-26T12:23:32.868Z"
   },
   {
    "duration": 12,
    "start_time": "2023-07-26T12:23:33.725Z"
   },
   {
    "duration": 7,
    "start_time": "2023-07-26T12:23:36.533Z"
   },
   {
    "duration": 5,
    "start_time": "2023-07-26T12:23:44.897Z"
   },
   {
    "duration": 6,
    "start_time": "2023-07-26T12:26:19.999Z"
   },
   {
    "duration": 185,
    "start_time": "2023-07-26T16:06:44.280Z"
   },
   {
    "duration": 7,
    "start_time": "2023-07-26T16:14:14.139Z"
   },
   {
    "duration": 3,
    "start_time": "2023-07-26T16:14:17.334Z"
   },
   {
    "duration": 1286,
    "start_time": "2023-07-26T16:17:21.971Z"
   },
   {
    "duration": 59,
    "start_time": "2023-07-26T16:17:23.260Z"
   },
   {
    "duration": 4,
    "start_time": "2023-07-26T16:17:23.321Z"
   },
   {
    "duration": 13,
    "start_time": "2023-07-26T16:17:24.604Z"
   },
   {
    "duration": 43,
    "start_time": "2023-07-26T16:17:24.619Z"
   },
   {
    "duration": 263,
    "start_time": "2023-07-26T16:17:24.664Z"
   },
   {
    "duration": 8,
    "start_time": "2023-07-26T16:17:24.929Z"
   },
   {
    "duration": 40,
    "start_time": "2023-07-26T16:17:24.939Z"
   },
   {
    "duration": 1077,
    "start_time": "2023-07-26T16:17:24.981Z"
   },
   {
    "duration": 11,
    "start_time": "2023-07-26T16:17:32.352Z"
   },
   {
    "duration": 84,
    "start_time": "2023-07-26T16:17:32.365Z"
   },
   {
    "duration": 37,
    "start_time": "2023-07-26T16:17:32.450Z"
   },
   {
    "duration": 8,
    "start_time": "2023-07-26T16:17:32.489Z"
   },
   {
    "duration": 31,
    "start_time": "2023-07-26T16:17:32.498Z"
   },
   {
    "duration": 43,
    "start_time": "2023-07-26T16:17:32.531Z"
   },
   {
    "duration": 335,
    "start_time": "2023-07-26T16:17:32.576Z"
   },
   {
    "duration": 12,
    "start_time": "2023-07-26T16:17:33.353Z"
   },
   {
    "duration": 10,
    "start_time": "2023-07-26T16:17:33.367Z"
   },
   {
    "duration": 51,
    "start_time": "2023-07-26T16:17:33.379Z"
   },
   {
    "duration": 16,
    "start_time": "2023-07-26T16:17:33.432Z"
   },
   {
    "duration": 17,
    "start_time": "2023-07-26T16:17:33.622Z"
   },
   {
    "duration": 79,
    "start_time": "2023-07-26T16:17:33.641Z"
   },
   {
    "duration": 55,
    "start_time": "2023-07-26T16:17:33.722Z"
   },
   {
    "duration": 8,
    "start_time": "2023-07-26T16:17:33.780Z"
   },
   {
    "duration": 113,
    "start_time": "2023-07-26T16:17:33.790Z"
   },
   {
    "duration": 10,
    "start_time": "2023-07-26T16:17:33.904Z"
   },
   {
    "duration": 19,
    "start_time": "2023-07-26T16:17:33.916Z"
   },
   {
    "duration": 64,
    "start_time": "2023-07-26T16:17:33.938Z"
   },
   {
    "duration": 91,
    "start_time": "2023-07-26T16:17:34.004Z"
   },
   {
    "duration": 25,
    "start_time": "2023-07-26T16:17:34.097Z"
   },
   {
    "duration": 57,
    "start_time": "2023-07-26T16:17:34.124Z"
   },
   {
    "duration": 63,
    "start_time": "2023-07-26T16:17:34.182Z"
   },
   {
    "duration": 34,
    "start_time": "2023-07-26T16:17:34.246Z"
   },
   {
    "duration": 32,
    "start_time": "2023-07-26T16:17:34.282Z"
   },
   {
    "duration": 15,
    "start_time": "2023-07-26T16:17:34.316Z"
   },
   {
    "duration": 25,
    "start_time": "2023-07-26T16:17:34.332Z"
   },
   {
    "duration": 11,
    "start_time": "2023-07-26T16:17:34.359Z"
   },
   {
    "duration": 12,
    "start_time": "2023-07-26T16:17:34.372Z"
   },
   {
    "duration": 12,
    "start_time": "2023-07-26T16:17:34.386Z"
   },
   {
    "duration": 3,
    "start_time": "2023-07-26T16:17:34.400Z"
   },
   {
    "duration": 22,
    "start_time": "2023-07-26T16:17:34.405Z"
   },
   {
    "duration": 5,
    "start_time": "2023-07-26T16:17:34.429Z"
   },
   {
    "duration": 59,
    "start_time": "2023-07-26T16:17:34.435Z"
   },
   {
    "duration": 17,
    "start_time": "2023-07-26T16:17:34.496Z"
   },
   {
    "duration": 6,
    "start_time": "2023-07-26T16:17:34.515Z"
   },
   {
    "duration": 39,
    "start_time": "2023-07-26T16:17:34.523Z"
   },
   {
    "duration": 15,
    "start_time": "2023-07-26T16:17:34.564Z"
   },
   {
    "duration": 24,
    "start_time": "2023-07-26T16:17:34.581Z"
   },
   {
    "duration": 10,
    "start_time": "2023-07-26T16:17:34.608Z"
   },
   {
    "duration": 39,
    "start_time": "2023-07-26T16:17:34.620Z"
   },
   {
    "duration": 16,
    "start_time": "2023-07-26T16:17:34.661Z"
   },
   {
    "duration": 5,
    "start_time": "2023-07-26T16:17:34.678Z"
   },
   {
    "duration": 10,
    "start_time": "2023-07-26T16:17:34.684Z"
   },
   {
    "duration": 7,
    "start_time": "2023-07-26T16:17:34.696Z"
   },
   {
    "duration": 14,
    "start_time": "2023-07-26T16:17:34.704Z"
   },
   {
    "duration": 47,
    "start_time": "2023-07-26T16:17:34.720Z"
   },
   {
    "duration": 22,
    "start_time": "2023-07-26T16:17:34.769Z"
   },
   {
    "duration": 31,
    "start_time": "2023-07-26T16:17:34.793Z"
   },
   {
    "duration": 10,
    "start_time": "2023-07-26T16:17:34.826Z"
   },
   {
    "duration": 19,
    "start_time": "2023-07-26T16:17:34.837Z"
   },
   {
    "duration": 31,
    "start_time": "2023-07-26T16:17:34.858Z"
   },
   {
    "duration": 10,
    "start_time": "2023-07-26T16:17:34.891Z"
   },
   {
    "duration": 28,
    "start_time": "2023-07-26T16:17:34.903Z"
   },
   {
    "duration": 22,
    "start_time": "2023-07-26T16:17:34.933Z"
   },
   {
    "duration": 17,
    "start_time": "2023-07-26T16:17:34.958Z"
   },
   {
    "duration": 11,
    "start_time": "2023-07-26T16:17:34.977Z"
   },
   {
    "duration": 32,
    "start_time": "2023-07-26T16:17:34.989Z"
   },
   {
    "duration": 6,
    "start_time": "2023-07-26T16:17:35.023Z"
   },
   {
    "duration": 28,
    "start_time": "2023-07-26T16:17:35.030Z"
   },
   {
    "duration": 5,
    "start_time": "2023-07-26T16:17:35.060Z"
   },
   {
    "duration": 8,
    "start_time": "2023-07-26T16:17:35.066Z"
   },
   {
    "duration": 13,
    "start_time": "2023-07-26T16:17:35.076Z"
   },
   {
    "duration": 10,
    "start_time": "2023-07-26T16:17:35.090Z"
   },
   {
    "duration": 14,
    "start_time": "2023-07-26T16:17:35.101Z"
   },
   {
    "duration": 15,
    "start_time": "2023-07-26T16:17:35.116Z"
   },
   {
    "duration": 13,
    "start_time": "2023-07-26T16:17:35.133Z"
   },
   {
    "duration": 17,
    "start_time": "2023-07-26T16:17:35.147Z"
   },
   {
    "duration": 11,
    "start_time": "2023-07-26T16:17:35.166Z"
   },
   {
    "duration": 12,
    "start_time": "2023-07-26T16:17:35.178Z"
   },
   {
    "duration": 16,
    "start_time": "2023-07-26T16:17:35.191Z"
   },
   {
    "duration": 34,
    "start_time": "2023-07-26T16:17:35.210Z"
   },
   {
    "duration": 15,
    "start_time": "2023-07-26T16:17:35.251Z"
   },
   {
    "duration": 12,
    "start_time": "2023-07-26T16:17:35.267Z"
   },
   {
    "duration": 11,
    "start_time": "2023-07-26T16:17:35.281Z"
   },
   {
    "duration": 5,
    "start_time": "2023-07-26T16:17:35.294Z"
   },
   {
    "duration": 16,
    "start_time": "2023-07-26T16:17:35.301Z"
   },
   {
    "duration": 10,
    "start_time": "2023-07-26T16:17:35.318Z"
   },
   {
    "duration": 19,
    "start_time": "2023-07-26T16:17:35.330Z"
   },
   {
    "duration": 10,
    "start_time": "2023-07-26T16:17:35.351Z"
   },
   {
    "duration": 7,
    "start_time": "2023-07-26T16:17:35.363Z"
   },
   {
    "duration": 18,
    "start_time": "2023-07-26T16:17:35.372Z"
   },
   {
    "duration": 10,
    "start_time": "2023-07-26T16:17:35.392Z"
   },
   {
    "duration": 22,
    "start_time": "2023-07-26T16:17:35.403Z"
   },
   {
    "duration": 20,
    "start_time": "2023-07-26T16:17:35.426Z"
   },
   {
    "duration": 11,
    "start_time": "2023-07-26T16:17:35.447Z"
   },
   {
    "duration": 8,
    "start_time": "2023-07-26T16:17:35.460Z"
   },
   {
    "duration": 10,
    "start_time": "2023-07-26T16:17:35.469Z"
   },
   {
    "duration": 37,
    "start_time": "2023-07-26T16:17:35.480Z"
   },
   {
    "duration": 14,
    "start_time": "2023-07-26T16:17:35.519Z"
   },
   {
    "duration": 16,
    "start_time": "2023-07-26T16:17:35.535Z"
   },
   {
    "duration": 7,
    "start_time": "2023-07-26T16:17:35.554Z"
   },
   {
    "duration": 150,
    "start_time": "2023-07-26T16:17:35.563Z"
   },
   {
    "duration": 11,
    "start_time": "2023-07-26T16:17:35.715Z"
   },
   {
    "duration": 20,
    "start_time": "2023-07-26T16:17:35.728Z"
   },
   {
    "duration": 25,
    "start_time": "2023-07-26T16:17:35.749Z"
   },
   {
    "duration": 15,
    "start_time": "2023-07-26T16:17:35.776Z"
   },
   {
    "duration": 20,
    "start_time": "2023-07-26T16:17:35.793Z"
   },
   {
    "duration": 15,
    "start_time": "2023-07-26T16:17:35.815Z"
   },
   {
    "duration": 181,
    "start_time": "2023-07-26T16:17:35.832Z"
   },
   {
    "duration": 10,
    "start_time": "2023-07-26T16:17:36.015Z"
   },
   {
    "duration": 34,
    "start_time": "2023-07-26T16:17:36.027Z"
   },
   {
    "duration": 16,
    "start_time": "2023-07-26T16:17:36.063Z"
   },
   {
    "duration": 3,
    "start_time": "2023-07-26T16:17:36.081Z"
   },
   {
    "duration": 24,
    "start_time": "2023-07-26T16:17:36.086Z"
   },
   {
    "duration": 14,
    "start_time": "2023-07-26T16:17:36.112Z"
   },
   {
    "duration": 45,
    "start_time": "2023-07-26T16:17:36.128Z"
   },
   {
    "duration": 15,
    "start_time": "2023-07-26T16:17:36.176Z"
   },
   {
    "duration": 10,
    "start_time": "2023-07-26T16:17:36.193Z"
   },
   {
    "duration": 10,
    "start_time": "2023-07-26T16:17:36.205Z"
   },
   {
    "duration": 11,
    "start_time": "2023-07-26T16:17:36.217Z"
   },
   {
    "duration": 20,
    "start_time": "2023-07-26T16:17:36.229Z"
   },
   {
    "duration": 13,
    "start_time": "2023-07-26T16:17:36.251Z"
   },
   {
    "duration": 32,
    "start_time": "2023-07-26T16:17:36.265Z"
   },
   {
    "duration": 8,
    "start_time": "2023-07-26T16:17:36.299Z"
   },
   {
    "duration": 463,
    "start_time": "2023-07-26T16:17:36.309Z"
   },
   {
    "duration": 3,
    "start_time": "2023-07-26T16:17:36.775Z"
   },
   {
    "duration": 88,
    "start_time": "2023-07-26T16:17:36.780Z"
   },
   {
    "duration": 14,
    "start_time": "2023-07-26T16:17:36.870Z"
   },
   {
    "duration": 23,
    "start_time": "2023-07-26T16:17:36.886Z"
   },
   {
    "duration": 25,
    "start_time": "2023-07-26T16:17:36.911Z"
   },
   {
    "duration": 15,
    "start_time": "2023-07-26T16:17:36.957Z"
   },
   {
    "duration": 8,
    "start_time": "2023-07-26T16:17:36.973Z"
   },
   {
    "duration": 9,
    "start_time": "2023-07-26T16:17:36.983Z"
   },
   {
    "duration": 7,
    "start_time": "2023-07-26T16:17:36.993Z"
   },
   {
    "duration": 9,
    "start_time": "2023-07-26T16:17:37.002Z"
   },
   {
    "duration": 6,
    "start_time": "2023-07-26T16:17:37.013Z"
   },
   {
    "duration": 13,
    "start_time": "2023-07-26T16:17:37.021Z"
   },
   {
    "duration": 22,
    "start_time": "2023-07-26T16:17:37.035Z"
   },
   {
    "duration": 9,
    "start_time": "2023-07-26T16:17:37.059Z"
   },
   {
    "duration": 14,
    "start_time": "2023-07-26T16:17:37.069Z"
   },
   {
    "duration": 8,
    "start_time": "2023-07-26T16:17:37.085Z"
   },
   {
    "duration": 11,
    "start_time": "2023-07-26T16:17:37.094Z"
   },
   {
    "duration": 10,
    "start_time": "2023-07-26T16:17:37.107Z"
   },
   {
    "duration": 23,
    "start_time": "2023-07-26T16:17:37.119Z"
   },
   {
    "duration": 13,
    "start_time": "2023-07-26T16:17:37.144Z"
   },
   {
    "duration": 8,
    "start_time": "2023-07-26T16:17:37.159Z"
   },
   {
    "duration": 18,
    "start_time": "2023-07-26T16:17:37.169Z"
   },
   {
    "duration": 12,
    "start_time": "2023-07-26T16:17:37.189Z"
   },
   {
    "duration": 91,
    "start_time": "2023-07-26T16:17:37.202Z"
   },
   {
    "duration": 6,
    "start_time": "2023-07-26T16:17:37.295Z"
   },
   {
    "duration": 101,
    "start_time": "2023-07-26T16:17:37.303Z"
   },
   {
    "duration": 13,
    "start_time": "2023-07-26T16:17:37.406Z"
   },
   {
    "duration": 12,
    "start_time": "2023-07-26T16:17:37.421Z"
   },
   {
    "duration": 8,
    "start_time": "2023-07-26T16:17:37.435Z"
   },
   {
    "duration": 17,
    "start_time": "2023-07-26T16:17:37.444Z"
   },
   {
    "duration": 9,
    "start_time": "2023-07-26T16:17:37.463Z"
   },
   {
    "duration": 11,
    "start_time": "2023-07-26T16:17:37.475Z"
   },
   {
    "duration": 108,
    "start_time": "2023-07-26T16:17:37.488Z"
   },
   {
    "duration": 7,
    "start_time": "2023-07-26T16:17:37.598Z"
   },
   {
    "duration": 8,
    "start_time": "2023-07-26T16:17:37.606Z"
   },
   {
    "duration": 18,
    "start_time": "2023-07-26T16:17:37.616Z"
   },
   {
    "duration": 28,
    "start_time": "2023-07-26T16:17:37.635Z"
   },
   {
    "duration": 9,
    "start_time": "2023-07-26T16:17:37.664Z"
   },
   {
    "duration": 26,
    "start_time": "2023-07-26T16:17:37.674Z"
   },
   {
    "duration": 30,
    "start_time": "2023-07-26T16:17:37.702Z"
   },
   {
    "duration": 14,
    "start_time": "2023-07-26T16:17:37.734Z"
   },
   {
    "duration": 32,
    "start_time": "2023-07-26T16:17:37.750Z"
   },
   {
    "duration": 37,
    "start_time": "2023-07-26T16:17:37.784Z"
   },
   {
    "duration": 13,
    "start_time": "2023-07-26T16:17:37.822Z"
   },
   {
    "duration": 18,
    "start_time": "2023-07-26T16:17:37.837Z"
   },
   {
    "duration": 17,
    "start_time": "2023-07-26T16:17:37.857Z"
   },
   {
    "duration": 27,
    "start_time": "2023-07-26T16:17:37.876Z"
   },
   {
    "duration": 1300,
    "start_time": "2023-07-26T16:46:24.356Z"
   },
   {
    "duration": 28,
    "start_time": "2023-07-26T16:46:25.658Z"
   },
   {
    "duration": 4,
    "start_time": "2023-07-26T16:46:25.687Z"
   },
   {
    "duration": 23,
    "start_time": "2023-07-26T16:46:25.693Z"
   },
   {
    "duration": 10,
    "start_time": "2023-07-26T16:46:25.718Z"
   },
   {
    "duration": 73,
    "start_time": "2023-07-26T16:46:25.730Z"
   },
   {
    "duration": 8,
    "start_time": "2023-07-26T16:46:25.805Z"
   },
   {
    "duration": 22,
    "start_time": "2023-07-26T16:46:25.815Z"
   },
   {
    "duration": 518,
    "start_time": "2023-07-26T16:46:25.839Z"
   },
   {
    "duration": 9,
    "start_time": "2023-07-26T16:46:26.360Z"
   },
   {
    "duration": 63,
    "start_time": "2023-07-26T16:46:26.370Z"
   },
   {
    "duration": 30,
    "start_time": "2023-07-26T16:46:26.435Z"
   },
   {
    "duration": 8,
    "start_time": "2023-07-26T16:46:26.467Z"
   },
   {
    "duration": 13,
    "start_time": "2023-07-26T16:46:26.478Z"
   },
   {
    "duration": 40,
    "start_time": "2023-07-26T16:46:26.493Z"
   },
   {
    "duration": 359,
    "start_time": "2023-07-26T16:46:26.535Z"
   },
   {
    "duration": 13,
    "start_time": "2023-07-26T16:46:26.896Z"
   },
   {
    "duration": 6,
    "start_time": "2023-07-26T16:46:26.912Z"
   },
   {
    "duration": 62,
    "start_time": "2023-07-26T16:46:26.920Z"
   },
   {
    "duration": 14,
    "start_time": "2023-07-26T16:46:26.985Z"
   },
   {
    "duration": 19,
    "start_time": "2023-07-26T16:46:27.001Z"
   },
   {
    "duration": 111,
    "start_time": "2023-07-26T16:46:27.022Z"
   },
   {
    "duration": 51,
    "start_time": "2023-07-26T16:46:27.134Z"
   },
   {
    "duration": 10,
    "start_time": "2023-07-26T16:46:27.186Z"
   },
   {
    "duration": 5,
    "start_time": "2023-07-26T16:46:27.197Z"
   },
   {
    "duration": 6,
    "start_time": "2023-07-26T16:46:27.204Z"
   },
   {
    "duration": 23,
    "start_time": "2023-07-26T16:46:27.211Z"
   },
   {
    "duration": 39,
    "start_time": "2023-07-26T16:46:27.238Z"
   },
   {
    "duration": 54,
    "start_time": "2023-07-26T16:46:27.278Z"
   },
   {
    "duration": 44,
    "start_time": "2023-07-26T16:46:27.334Z"
   },
   {
    "duration": 7,
    "start_time": "2023-07-26T16:46:27.380Z"
   },
   {
    "duration": 11,
    "start_time": "2023-07-26T16:46:27.389Z"
   },
   {
    "duration": 8,
    "start_time": "2023-07-26T16:46:27.402Z"
   },
   {
    "duration": 8,
    "start_time": "2023-07-26T16:46:27.412Z"
   },
   {
    "duration": 5,
    "start_time": "2023-07-26T16:46:27.421Z"
   },
   {
    "duration": 7,
    "start_time": "2023-07-26T16:46:27.457Z"
   },
   {
    "duration": 7,
    "start_time": "2023-07-26T16:46:27.466Z"
   },
   {
    "duration": 8,
    "start_time": "2023-07-26T16:46:27.474Z"
   },
   {
    "duration": 9,
    "start_time": "2023-07-26T16:46:27.483Z"
   },
   {
    "duration": 7,
    "start_time": "2023-07-26T16:46:27.494Z"
   },
   {
    "duration": 14,
    "start_time": "2023-07-26T16:46:27.503Z"
   },
   {
    "duration": 4,
    "start_time": "2023-07-26T16:46:27.518Z"
   },
   {
    "duration": 60,
    "start_time": "2023-07-26T16:46:27.524Z"
   },
   {
    "duration": 8,
    "start_time": "2023-07-26T16:46:27.585Z"
   },
   {
    "duration": 7,
    "start_time": "2023-07-26T16:46:27.594Z"
   },
   {
    "duration": 25,
    "start_time": "2023-07-26T16:46:27.602Z"
   },
   {
    "duration": 12,
    "start_time": "2023-07-26T16:46:27.629Z"
   },
   {
    "duration": 20,
    "start_time": "2023-07-26T16:46:27.643Z"
   },
   {
    "duration": 9,
    "start_time": "2023-07-26T16:46:27.665Z"
   },
   {
    "duration": 13,
    "start_time": "2023-07-26T16:46:27.676Z"
   },
   {
    "duration": 15,
    "start_time": "2023-07-26T16:46:27.690Z"
   },
   {
    "duration": 3,
    "start_time": "2023-07-26T16:46:27.707Z"
   },
   {
    "duration": 11,
    "start_time": "2023-07-26T16:46:27.711Z"
   },
   {
    "duration": 11,
    "start_time": "2023-07-26T16:46:27.724Z"
   },
   {
    "duration": 6,
    "start_time": "2023-07-26T16:46:27.757Z"
   },
   {
    "duration": 16,
    "start_time": "2023-07-26T16:46:27.764Z"
   },
   {
    "duration": 13,
    "start_time": "2023-07-26T16:46:27.781Z"
   },
   {
    "duration": 12,
    "start_time": "2023-07-26T16:46:27.795Z"
   },
   {
    "duration": 5,
    "start_time": "2023-07-26T16:46:27.808Z"
   },
   {
    "duration": 7,
    "start_time": "2023-07-26T16:46:27.815Z"
   },
   {
    "duration": 35,
    "start_time": "2023-07-26T16:46:27.824Z"
   },
   {
    "duration": 6,
    "start_time": "2023-07-26T16:46:27.860Z"
   },
   {
    "duration": 5,
    "start_time": "2023-07-26T16:46:27.868Z"
   },
   {
    "duration": 12,
    "start_time": "2023-07-26T16:46:27.875Z"
   },
   {
    "duration": 8,
    "start_time": "2023-07-26T16:46:27.889Z"
   },
   {
    "duration": 23,
    "start_time": "2023-07-26T16:46:27.898Z"
   },
   {
    "duration": 34,
    "start_time": "2023-07-26T16:46:27.923Z"
   },
   {
    "duration": 5,
    "start_time": "2023-07-26T16:46:27.959Z"
   },
   {
    "duration": 13,
    "start_time": "2023-07-26T16:46:27.966Z"
   },
   {
    "duration": 3,
    "start_time": "2023-07-26T16:46:27.981Z"
   },
   {
    "duration": 23,
    "start_time": "2023-07-26T16:46:27.986Z"
   },
   {
    "duration": 19,
    "start_time": "2023-07-26T16:46:28.010Z"
   },
   {
    "duration": 11,
    "start_time": "2023-07-26T16:46:28.030Z"
   },
   {
    "duration": 18,
    "start_time": "2023-07-26T16:46:28.043Z"
   },
   {
    "duration": 30,
    "start_time": "2023-07-26T16:46:28.063Z"
   },
   {
    "duration": 21,
    "start_time": "2023-07-26T16:46:28.095Z"
   },
   {
    "duration": 44,
    "start_time": "2023-07-26T16:46:28.117Z"
   },
   {
    "duration": 15,
    "start_time": "2023-07-26T16:46:28.162Z"
   },
   {
    "duration": 6,
    "start_time": "2023-07-26T16:46:28.178Z"
   },
   {
    "duration": 14,
    "start_time": "2023-07-26T16:46:28.186Z"
   },
   {
    "duration": 13,
    "start_time": "2023-07-26T16:46:28.202Z"
   },
   {
    "duration": 146,
    "start_time": "2023-07-26T16:46:28.222Z"
   },
   {
    "duration": 15,
    "start_time": "2023-07-26T16:46:28.370Z"
   },
   {
    "duration": 15,
    "start_time": "2023-07-26T16:46:28.387Z"
   },
   {
    "duration": 15,
    "start_time": "2023-07-26T16:46:28.405Z"
   },
   {
    "duration": 15,
    "start_time": "2023-07-26T16:46:28.423Z"
   },
   {
    "duration": 10,
    "start_time": "2023-07-26T16:46:28.458Z"
   },
   {
    "duration": 38,
    "start_time": "2023-07-26T16:46:28.470Z"
   },
   {
    "duration": 158,
    "start_time": "2023-07-26T16:46:28.509Z"
   },
   {
    "duration": 10,
    "start_time": "2023-07-26T16:46:28.669Z"
   },
   {
    "duration": 30,
    "start_time": "2023-07-26T16:46:28.681Z"
   },
   {
    "duration": 15,
    "start_time": "2023-07-26T16:46:28.713Z"
   },
   {
    "duration": 3,
    "start_time": "2023-07-26T16:46:28.730Z"
   },
   {
    "duration": 37,
    "start_time": "2023-07-26T16:46:28.735Z"
   },
   {
    "duration": 10,
    "start_time": "2023-07-26T16:46:28.774Z"
   },
   {
    "duration": 11,
    "start_time": "2023-07-26T16:46:28.785Z"
   },
   {
    "duration": 27,
    "start_time": "2023-07-26T16:46:28.798Z"
   },
   {
    "duration": 22,
    "start_time": "2023-07-26T16:46:28.827Z"
   },
   {
    "duration": 10,
    "start_time": "2023-07-26T16:46:28.851Z"
   },
   {
    "duration": 9,
    "start_time": "2023-07-26T16:46:28.863Z"
   },
   {
    "duration": 9,
    "start_time": "2023-07-26T16:46:28.874Z"
   },
   {
    "duration": 13,
    "start_time": "2023-07-26T16:46:28.885Z"
   },
   {
    "duration": 16,
    "start_time": "2023-07-26T16:46:28.900Z"
   },
   {
    "duration": 8,
    "start_time": "2023-07-26T16:46:28.917Z"
   },
   {
    "duration": 3,
    "start_time": "2023-07-26T16:46:29.403Z"
   },
   {
    "duration": 65,
    "start_time": "2023-07-26T16:46:29.408Z"
   },
   {
    "duration": 9,
    "start_time": "2023-07-26T16:46:29.475Z"
   },
   {
    "duration": 16,
    "start_time": "2023-07-26T16:46:29.486Z"
   },
   {
    "duration": 16,
    "start_time": "2023-07-26T16:46:29.504Z"
   },
   {
    "duration": 44,
    "start_time": "2023-07-26T16:46:29.522Z"
   },
   {
    "duration": 8,
    "start_time": "2023-07-26T16:46:29.568Z"
   },
   {
    "duration": 12,
    "start_time": "2023-07-26T16:46:29.578Z"
   },
   {
    "duration": 19,
    "start_time": "2023-07-26T16:46:29.591Z"
   },
   {
    "duration": 26,
    "start_time": "2023-07-26T16:46:29.611Z"
   },
   {
    "duration": 10,
    "start_time": "2023-07-26T16:46:29.639Z"
   },
   {
    "duration": 10,
    "start_time": "2023-07-26T16:46:29.657Z"
   },
   {
    "duration": 8,
    "start_time": "2023-07-26T16:46:29.669Z"
   },
   {
    "duration": 14,
    "start_time": "2023-07-26T16:46:29.679Z"
   },
   {
    "duration": 9,
    "start_time": "2023-07-26T16:46:29.695Z"
   },
   {
    "duration": 7,
    "start_time": "2023-07-26T16:46:29.706Z"
   },
   {
    "duration": 10,
    "start_time": "2023-07-26T16:46:29.715Z"
   },
   {
    "duration": 32,
    "start_time": "2023-07-26T16:46:29.727Z"
   },
   {
    "duration": 31,
    "start_time": "2023-07-26T16:46:29.761Z"
   },
   {
    "duration": 396,
    "start_time": "2023-07-26T16:46:29.794Z"
   },
   {
    "duration": 12,
    "start_time": "2023-07-26T16:46:30.192Z"
   },
   {
    "duration": 165,
    "start_time": "2023-07-26T16:46:30.207Z"
   },
   {
    "duration": 14,
    "start_time": "2023-07-26T16:46:30.373Z"
   },
   {
    "duration": 39,
    "start_time": "2023-07-26T16:46:30.389Z"
   },
   {
    "duration": 35,
    "start_time": "2023-07-26T16:46:30.430Z"
   },
   {
    "duration": 47,
    "start_time": "2023-07-26T16:46:30.467Z"
   },
   {
    "duration": 47,
    "start_time": "2023-07-26T16:46:30.516Z"
   },
   {
    "duration": 51,
    "start_time": "2023-07-26T16:46:30.565Z"
   },
   {
    "duration": 105,
    "start_time": "2023-07-26T16:46:30.618Z"
   },
   {
    "duration": 57,
    "start_time": "2023-07-26T16:46:30.725Z"
   },
   {
    "duration": 62,
    "start_time": "2023-07-26T16:46:30.784Z"
   },
   {
    "duration": 82,
    "start_time": "2023-07-26T16:46:30.848Z"
   },
   {
    "duration": 34,
    "start_time": "2023-07-26T16:46:30.932Z"
   },
   {
    "duration": 46,
    "start_time": "2023-07-26T16:46:30.968Z"
   },
   {
    "duration": 47,
    "start_time": "2023-07-26T16:46:31.016Z"
   },
   {
    "duration": 91,
    "start_time": "2023-07-26T16:46:31.064Z"
   },
   {
    "duration": 77,
    "start_time": "2023-07-26T16:46:31.157Z"
   },
   {
    "duration": 29,
    "start_time": "2023-07-26T16:46:31.237Z"
   },
   {
    "duration": 50,
    "start_time": "2023-07-26T16:46:31.268Z"
   },
   {
    "duration": 26,
    "start_time": "2023-07-26T16:46:31.320Z"
   },
   {
    "duration": 26,
    "start_time": "2023-07-26T16:46:31.348Z"
   },
   {
    "duration": 37,
    "start_time": "2023-07-26T16:46:31.376Z"
   },
   {
    "duration": 24,
    "start_time": "2023-07-26T16:46:31.415Z"
   },
   {
    "duration": 109,
    "start_time": "2023-07-26T16:48:12.094Z"
   },
   {
    "duration": 5,
    "start_time": "2023-07-26T16:48:18.446Z"
   },
   {
    "duration": 1244,
    "start_time": "2023-07-26T16:48:25.481Z"
   },
   {
    "duration": 27,
    "start_time": "2023-07-26T16:48:26.727Z"
   },
   {
    "duration": 3,
    "start_time": "2023-07-26T16:48:26.755Z"
   },
   {
    "duration": 20,
    "start_time": "2023-07-26T16:48:26.761Z"
   },
   {
    "duration": 11,
    "start_time": "2023-07-26T16:48:26.783Z"
   },
   {
    "duration": 71,
    "start_time": "2023-07-26T16:48:26.796Z"
   },
   {
    "duration": 8,
    "start_time": "2023-07-26T16:48:26.869Z"
   },
   {
    "duration": 18,
    "start_time": "2023-07-26T16:48:26.879Z"
   },
   {
    "duration": 496,
    "start_time": "2023-07-26T16:48:26.899Z"
   },
   {
    "duration": 13,
    "start_time": "2023-07-26T16:48:27.398Z"
   },
   {
    "duration": 67,
    "start_time": "2023-07-26T16:48:27.412Z"
   },
   {
    "duration": 25,
    "start_time": "2023-07-26T16:48:27.480Z"
   },
   {
    "duration": 8,
    "start_time": "2023-07-26T16:48:27.507Z"
   },
   {
    "duration": 17,
    "start_time": "2023-07-26T16:48:27.516Z"
   },
   {
    "duration": 38,
    "start_time": "2023-07-26T16:48:27.535Z"
   },
   {
    "duration": 302,
    "start_time": "2023-07-26T16:48:27.574Z"
   },
   {
    "duration": 9,
    "start_time": "2023-07-26T16:48:27.878Z"
   },
   {
    "duration": 5,
    "start_time": "2023-07-26T16:48:27.889Z"
   },
   {
    "duration": 31,
    "start_time": "2023-07-26T16:48:27.895Z"
   },
   {
    "duration": 36,
    "start_time": "2023-07-26T16:48:27.927Z"
   },
   {
    "duration": 19,
    "start_time": "2023-07-26T16:48:27.964Z"
   },
   {
    "duration": 98,
    "start_time": "2023-07-26T16:48:27.984Z"
   },
   {
    "duration": 56,
    "start_time": "2023-07-26T16:48:28.083Z"
   },
   {
    "duration": 14,
    "start_time": "2023-07-26T16:48:28.142Z"
   },
   {
    "duration": 6,
    "start_time": "2023-07-26T16:48:28.159Z"
   },
   {
    "duration": 12,
    "start_time": "2023-07-26T16:48:28.167Z"
   },
   {
    "duration": 19,
    "start_time": "2023-07-26T16:48:28.180Z"
   },
   {
    "duration": 29,
    "start_time": "2023-07-26T16:48:28.204Z"
   },
   {
    "duration": 63,
    "start_time": "2023-07-26T16:48:28.235Z"
   },
   {
    "duration": 22,
    "start_time": "2023-07-26T16:48:28.300Z"
   },
   {
    "duration": 12,
    "start_time": "2023-07-26T16:48:28.323Z"
   },
   {
    "duration": 24,
    "start_time": "2023-07-26T16:48:28.337Z"
   },
   {
    "duration": 5,
    "start_time": "2023-07-26T16:48:28.363Z"
   },
   {
    "duration": 12,
    "start_time": "2023-07-26T16:48:28.370Z"
   },
   {
    "duration": 6,
    "start_time": "2023-07-26T16:48:28.383Z"
   },
   {
    "duration": 9,
    "start_time": "2023-07-26T16:48:28.391Z"
   },
   {
    "duration": 12,
    "start_time": "2023-07-26T16:48:28.402Z"
   },
   {
    "duration": 5,
    "start_time": "2023-07-26T16:48:28.416Z"
   },
   {
    "duration": 37,
    "start_time": "2023-07-26T16:48:28.423Z"
   },
   {
    "duration": 4,
    "start_time": "2023-07-26T16:48:28.461Z"
   },
   {
    "duration": 16,
    "start_time": "2023-07-26T16:48:28.466Z"
   },
   {
    "duration": 5,
    "start_time": "2023-07-26T16:48:28.484Z"
   },
   {
    "duration": 39,
    "start_time": "2023-07-26T16:48:28.491Z"
   },
   {
    "duration": 10,
    "start_time": "2023-07-26T16:48:28.556Z"
   },
   {
    "duration": 5,
    "start_time": "2023-07-26T16:48:28.568Z"
   },
   {
    "duration": 14,
    "start_time": "2023-07-26T16:48:28.575Z"
   },
   {
    "duration": 12,
    "start_time": "2023-07-26T16:48:28.590Z"
   },
   {
    "duration": 38,
    "start_time": "2023-07-26T16:48:28.603Z"
   },
   {
    "duration": 13,
    "start_time": "2023-07-26T16:48:28.643Z"
   },
   {
    "duration": 14,
    "start_time": "2023-07-26T16:48:28.658Z"
   },
   {
    "duration": 36,
    "start_time": "2023-07-26T16:48:28.674Z"
   },
   {
    "duration": 4,
    "start_time": "2023-07-26T16:48:28.712Z"
   },
   {
    "duration": 6,
    "start_time": "2023-07-26T16:48:28.718Z"
   },
   {
    "duration": 6,
    "start_time": "2023-07-26T16:48:28.726Z"
   },
   {
    "duration": 15,
    "start_time": "2023-07-26T16:48:28.734Z"
   },
   {
    "duration": 12,
    "start_time": "2023-07-26T16:48:28.757Z"
   },
   {
    "duration": 21,
    "start_time": "2023-07-26T16:48:28.771Z"
   },
   {
    "duration": 21,
    "start_time": "2023-07-26T16:48:28.793Z"
   },
   {
    "duration": 13,
    "start_time": "2023-07-26T16:48:28.816Z"
   },
   {
    "duration": 10,
    "start_time": "2023-07-26T16:48:28.830Z"
   },
   {
    "duration": 25,
    "start_time": "2023-07-26T16:48:28.841Z"
   },
   {
    "duration": 15,
    "start_time": "2023-07-26T16:48:28.868Z"
   },
   {
    "duration": 9,
    "start_time": "2023-07-26T16:48:28.885Z"
   },
   {
    "duration": 8,
    "start_time": "2023-07-26T16:48:28.896Z"
   },
   {
    "duration": 13,
    "start_time": "2023-07-26T16:48:28.906Z"
   },
   {
    "duration": 10,
    "start_time": "2023-07-26T16:48:28.921Z"
   },
   {
    "duration": 37,
    "start_time": "2023-07-26T16:48:28.933Z"
   },
   {
    "duration": 7,
    "start_time": "2023-07-26T16:48:28.972Z"
   },
   {
    "duration": 13,
    "start_time": "2023-07-26T16:48:28.981Z"
   },
   {
    "duration": 5,
    "start_time": "2023-07-26T16:48:28.996Z"
   },
   {
    "duration": 7,
    "start_time": "2023-07-26T16:48:29.003Z"
   },
   {
    "duration": 13,
    "start_time": "2023-07-26T16:48:29.012Z"
   },
   {
    "duration": 8,
    "start_time": "2023-07-26T16:48:29.056Z"
   },
   {
    "duration": 15,
    "start_time": "2023-07-26T16:48:29.066Z"
   },
   {
    "duration": 10,
    "start_time": "2023-07-26T16:48:29.083Z"
   },
   {
    "duration": 4,
    "start_time": "2023-07-26T16:48:29.095Z"
   },
   {
    "duration": 13,
    "start_time": "2023-07-26T16:48:29.101Z"
   },
   {
    "duration": 45,
    "start_time": "2023-07-26T16:48:29.116Z"
   },
   {
    "duration": 12,
    "start_time": "2023-07-26T16:48:29.162Z"
   },
   {
    "duration": 13,
    "start_time": "2023-07-26T16:48:29.175Z"
   },
   {
    "duration": 13,
    "start_time": "2023-07-26T16:48:29.190Z"
   },
   {
    "duration": 125,
    "start_time": "2023-07-26T16:48:29.211Z"
   },
   {
    "duration": 23,
    "start_time": "2023-07-26T16:48:29.338Z"
   },
   {
    "duration": 8,
    "start_time": "2023-07-26T16:48:29.363Z"
   },
   {
    "duration": 12,
    "start_time": "2023-07-26T16:48:29.372Z"
   },
   {
    "duration": 13,
    "start_time": "2023-07-26T16:48:29.386Z"
   },
   {
    "duration": 8,
    "start_time": "2023-07-26T16:48:29.400Z"
   },
   {
    "duration": 14,
    "start_time": "2023-07-26T16:48:29.409Z"
   },
   {
    "duration": 190,
    "start_time": "2023-07-26T16:48:29.424Z"
   },
   {
    "duration": 11,
    "start_time": "2023-07-26T16:48:29.615Z"
   },
   {
    "duration": 35,
    "start_time": "2023-07-26T16:48:29.628Z"
   },
   {
    "duration": 14,
    "start_time": "2023-07-26T16:48:29.665Z"
   },
   {
    "duration": 4,
    "start_time": "2023-07-26T16:48:29.680Z"
   },
   {
    "duration": 28,
    "start_time": "2023-07-26T16:48:29.685Z"
   },
   {
    "duration": 9,
    "start_time": "2023-07-26T16:48:29.715Z"
   },
   {
    "duration": 6,
    "start_time": "2023-07-26T16:48:29.726Z"
   },
   {
    "duration": 22,
    "start_time": "2023-07-26T16:48:29.734Z"
   },
   {
    "duration": 4,
    "start_time": "2023-07-26T16:48:29.758Z"
   },
   {
    "duration": 12,
    "start_time": "2023-07-26T16:48:29.763Z"
   },
   {
    "duration": 13,
    "start_time": "2023-07-26T16:48:29.777Z"
   },
   {
    "duration": 17,
    "start_time": "2023-07-26T16:48:29.792Z"
   },
   {
    "duration": 4,
    "start_time": "2023-07-26T16:48:29.810Z"
   },
   {
    "duration": 25,
    "start_time": "2023-07-26T16:48:29.816Z"
   },
   {
    "duration": 6,
    "start_time": "2023-07-26T16:48:29.843Z"
   },
   {
    "duration": 452,
    "start_time": "2023-07-26T16:48:29.850Z"
   },
   {
    "duration": 4,
    "start_time": "2023-07-26T16:48:30.303Z"
   },
   {
    "duration": 70,
    "start_time": "2023-07-26T16:48:30.309Z"
   },
   {
    "duration": 10,
    "start_time": "2023-07-26T16:48:30.381Z"
   },
   {
    "duration": 45,
    "start_time": "2023-07-26T16:48:30.393Z"
   },
   {
    "duration": 31,
    "start_time": "2023-07-26T16:48:30.440Z"
   },
   {
    "duration": 27,
    "start_time": "2023-07-26T16:48:30.472Z"
   },
   {
    "duration": 31,
    "start_time": "2023-07-26T16:48:30.500Z"
   },
   {
    "duration": 73,
    "start_time": "2023-07-26T16:48:30.533Z"
   },
   {
    "duration": 58,
    "start_time": "2023-07-26T16:48:30.608Z"
   },
   {
    "duration": 37,
    "start_time": "2023-07-26T16:48:30.668Z"
   },
   {
    "duration": 27,
    "start_time": "2023-07-26T16:48:30.707Z"
   },
   {
    "duration": 31,
    "start_time": "2023-07-26T16:48:30.736Z"
   },
   {
    "duration": 46,
    "start_time": "2023-07-26T16:48:30.769Z"
   },
   {
    "duration": 58,
    "start_time": "2023-07-26T16:48:30.817Z"
   },
   {
    "duration": 31,
    "start_time": "2023-07-26T16:48:30.877Z"
   },
   {
    "duration": 26,
    "start_time": "2023-07-26T16:48:30.910Z"
   },
   {
    "duration": 28,
    "start_time": "2023-07-26T16:48:30.937Z"
   },
   {
    "duration": 29,
    "start_time": "2023-07-26T16:48:30.968Z"
   },
   {
    "duration": 37,
    "start_time": "2023-07-26T16:48:30.998Z"
   },
   {
    "duration": 442,
    "start_time": "2023-07-26T16:48:31.037Z"
   },
   {
    "duration": 9,
    "start_time": "2023-07-26T16:48:31.481Z"
   },
   {
    "duration": 136,
    "start_time": "2023-07-26T16:48:31.492Z"
   },
   {
    "duration": 12,
    "start_time": "2023-07-26T16:48:31.630Z"
   },
   {
    "duration": 13,
    "start_time": "2023-07-26T16:48:31.657Z"
   },
   {
    "duration": 25,
    "start_time": "2023-07-26T16:48:31.671Z"
   },
   {
    "duration": 41,
    "start_time": "2023-07-26T16:48:31.698Z"
   },
   {
    "duration": 30,
    "start_time": "2023-07-26T16:48:31.741Z"
   },
   {
    "duration": 52,
    "start_time": "2023-07-26T16:48:31.773Z"
   },
   {
    "duration": 36,
    "start_time": "2023-07-26T16:48:31.826Z"
   },
   {
    "duration": 28,
    "start_time": "2023-07-26T16:48:31.864Z"
   },
   {
    "duration": 27,
    "start_time": "2023-07-26T16:48:31.893Z"
   },
   {
    "duration": 21,
    "start_time": "2023-07-26T16:48:31.922Z"
   },
   {
    "duration": 35,
    "start_time": "2023-07-26T16:48:31.945Z"
   },
   {
    "duration": 20,
    "start_time": "2023-07-26T16:48:31.982Z"
   },
   {
    "duration": 23,
    "start_time": "2023-07-26T16:48:32.004Z"
   },
   {
    "duration": 29,
    "start_time": "2023-07-26T16:48:32.029Z"
   },
   {
    "duration": 36,
    "start_time": "2023-07-26T16:48:32.060Z"
   },
   {
    "duration": 26,
    "start_time": "2023-07-26T16:48:32.097Z"
   },
   {
    "duration": 20,
    "start_time": "2023-07-26T16:48:32.125Z"
   },
   {
    "duration": 26,
    "start_time": "2023-07-26T16:48:32.146Z"
   },
   {
    "duration": 23,
    "start_time": "2023-07-26T16:48:32.174Z"
   },
   {
    "duration": 26,
    "start_time": "2023-07-26T16:48:32.199Z"
   },
   {
    "duration": 23,
    "start_time": "2023-07-26T16:48:32.226Z"
   },
   {
    "duration": 218,
    "start_time": "2023-07-26T17:38:42.321Z"
   },
   {
    "duration": 3253,
    "start_time": "2023-07-26T17:38:54.749Z"
   },
   {
    "duration": 107,
    "start_time": "2023-07-26T17:39:29.076Z"
   },
   {
    "duration": 2537,
    "start_time": "2023-07-26T17:40:06.284Z"
   },
   {
    "duration": 2756,
    "start_time": "2023-07-26T17:40:28.965Z"
   },
   {
    "duration": 6,
    "start_time": "2023-07-26T17:40:49.983Z"
   },
   {
    "duration": 4,
    "start_time": "2023-07-26T17:41:16.759Z"
   },
   {
    "duration": 12,
    "start_time": "2023-07-26T17:41:17.414Z"
   },
   {
    "duration": 5,
    "start_time": "2023-07-26T17:42:13.136Z"
   },
   {
    "duration": 5,
    "start_time": "2023-07-26T17:42:20.502Z"
   },
   {
    "duration": 1292,
    "start_time": "2023-07-26T17:43:14.955Z"
   },
   {
    "duration": 28,
    "start_time": "2023-07-26T17:43:16.249Z"
   },
   {
    "duration": 5,
    "start_time": "2023-07-26T17:43:16.279Z"
   },
   {
    "duration": 23,
    "start_time": "2023-07-26T17:43:16.286Z"
   },
   {
    "duration": 11,
    "start_time": "2023-07-26T17:43:16.311Z"
   },
   {
    "duration": 97,
    "start_time": "2023-07-26T17:43:16.324Z"
   },
   {
    "duration": 11,
    "start_time": "2023-07-26T17:43:16.423Z"
   },
   {
    "duration": 35,
    "start_time": "2023-07-26T17:43:16.436Z"
   },
   {
    "duration": 604,
    "start_time": "2023-07-26T17:43:16.474Z"
   },
   {
    "duration": 12,
    "start_time": "2023-07-26T17:43:17.082Z"
   },
   {
    "duration": 96,
    "start_time": "2023-07-26T17:43:17.097Z"
   },
   {
    "duration": 29,
    "start_time": "2023-07-26T17:43:17.195Z"
   },
   {
    "duration": 12,
    "start_time": "2023-07-26T17:43:17.226Z"
   },
   {
    "duration": 33,
    "start_time": "2023-07-26T17:43:17.241Z"
   },
   {
    "duration": 67,
    "start_time": "2023-07-26T17:43:17.275Z"
   },
   {
    "duration": 358,
    "start_time": "2023-07-26T17:43:17.344Z"
   },
   {
    "duration": 12,
    "start_time": "2023-07-26T17:43:17.703Z"
   },
   {
    "duration": 9,
    "start_time": "2023-07-26T17:43:17.718Z"
   },
   {
    "duration": 49,
    "start_time": "2023-07-26T17:43:17.729Z"
   },
   {
    "duration": 11,
    "start_time": "2023-07-26T17:43:17.779Z"
   },
   {
    "duration": 54,
    "start_time": "2023-07-26T17:43:17.792Z"
   },
   {
    "duration": 90,
    "start_time": "2023-07-26T17:43:17.847Z"
   },
   {
    "duration": 45,
    "start_time": "2023-07-26T17:43:17.939Z"
   },
   {
    "duration": 9,
    "start_time": "2023-07-26T17:43:17.986Z"
   },
   {
    "duration": 10,
    "start_time": "2023-07-26T17:43:17.996Z"
   },
   {
    "duration": 18,
    "start_time": "2023-07-26T17:43:18.008Z"
   },
   {
    "duration": 23,
    "start_time": "2023-07-26T17:43:18.028Z"
   },
   {
    "duration": 30,
    "start_time": "2023-07-26T17:43:18.056Z"
   },
   {
    "duration": 62,
    "start_time": "2023-07-26T17:43:18.088Z"
   },
   {
    "duration": 24,
    "start_time": "2023-07-26T17:43:18.153Z"
   },
   {
    "duration": 22,
    "start_time": "2023-07-26T17:43:18.178Z"
   },
   {
    "duration": 15,
    "start_time": "2023-07-26T17:43:18.202Z"
   },
   {
    "duration": 12,
    "start_time": "2023-07-26T17:43:18.220Z"
   },
   {
    "duration": 29,
    "start_time": "2023-07-26T17:43:18.234Z"
   },
   {
    "duration": 20,
    "start_time": "2023-07-26T17:43:18.265Z"
   },
   {
    "duration": 17,
    "start_time": "2023-07-26T17:43:18.286Z"
   },
   {
    "duration": 22,
    "start_time": "2023-07-26T17:43:18.304Z"
   },
   {
    "duration": 13,
    "start_time": "2023-07-26T17:43:18.328Z"
   },
   {
    "duration": 12,
    "start_time": "2023-07-26T17:43:18.343Z"
   },
   {
    "duration": 12,
    "start_time": "2023-07-26T17:43:18.357Z"
   },
   {
    "duration": 141,
    "start_time": "2023-07-26T17:43:18.370Z"
   },
   {
    "duration": 131,
    "start_time": "2023-07-26T17:43:18.513Z"
   },
   {
    "duration": 256,
    "start_time": "2023-07-26T17:43:18.646Z"
   },
   {
    "duration": 11,
    "start_time": "2023-07-26T17:43:18.905Z"
   },
   {
    "duration": 24,
    "start_time": "2023-07-26T17:43:18.918Z"
   },
   {
    "duration": 12,
    "start_time": "2023-07-26T17:43:18.944Z"
   },
   {
    "duration": 18,
    "start_time": "2023-07-26T17:43:18.958Z"
   },
   {
    "duration": 22,
    "start_time": "2023-07-26T17:43:18.978Z"
   },
   {
    "duration": 11,
    "start_time": "2023-07-26T17:43:19.003Z"
   },
   {
    "duration": 29,
    "start_time": "2023-07-26T17:43:19.016Z"
   },
   {
    "duration": 19,
    "start_time": "2023-07-26T17:43:19.057Z"
   },
   {
    "duration": 6,
    "start_time": "2023-07-26T17:43:19.079Z"
   },
   {
    "duration": 9,
    "start_time": "2023-07-26T17:43:19.088Z"
   },
   {
    "duration": 9,
    "start_time": "2023-07-26T17:43:19.099Z"
   },
   {
    "duration": 12,
    "start_time": "2023-07-26T17:43:19.110Z"
   },
   {
    "duration": 47,
    "start_time": "2023-07-26T17:43:19.124Z"
   },
   {
    "duration": 14,
    "start_time": "2023-07-26T17:43:19.173Z"
   },
   {
    "duration": 10,
    "start_time": "2023-07-26T17:43:19.189Z"
   },
   {
    "duration": 7,
    "start_time": "2023-07-26T17:43:19.201Z"
   },
   {
    "duration": 8,
    "start_time": "2023-07-26T17:43:19.210Z"
   },
   {
    "duration": 21,
    "start_time": "2023-07-26T17:43:19.220Z"
   },
   {
    "duration": 8,
    "start_time": "2023-07-26T17:43:19.258Z"
   },
   {
    "duration": 16,
    "start_time": "2023-07-26T17:43:19.268Z"
   },
   {
    "duration": 17,
    "start_time": "2023-07-26T17:43:19.285Z"
   },
   {
    "duration": 8,
    "start_time": "2023-07-26T17:43:19.304Z"
   },
   {
    "duration": 14,
    "start_time": "2023-07-26T17:43:19.314Z"
   },
   {
    "duration": 18,
    "start_time": "2023-07-26T17:43:19.329Z"
   },
   {
    "duration": 6,
    "start_time": "2023-07-26T17:43:19.356Z"
   },
   {
    "duration": 12,
    "start_time": "2023-07-26T17:43:19.363Z"
   },
   {
    "duration": 6,
    "start_time": "2023-07-26T17:43:19.377Z"
   },
   {
    "duration": 9,
    "start_time": "2023-07-26T17:43:19.384Z"
   },
   {
    "duration": 15,
    "start_time": "2023-07-26T17:43:19.395Z"
   },
   {
    "duration": 9,
    "start_time": "2023-07-26T17:43:19.411Z"
   },
   {
    "duration": 35,
    "start_time": "2023-07-26T17:43:19.422Z"
   },
   {
    "duration": 10,
    "start_time": "2023-07-26T17:43:19.459Z"
   },
   {
    "duration": 3,
    "start_time": "2023-07-26T17:43:19.471Z"
   },
   {
    "duration": 14,
    "start_time": "2023-07-26T17:43:19.476Z"
   },
   {
    "duration": 12,
    "start_time": "2023-07-26T17:43:19.492Z"
   },
   {
    "duration": 4,
    "start_time": "2023-07-26T17:43:19.505Z"
   },
   {
    "duration": 12,
    "start_time": "2023-07-26T17:43:19.511Z"
   },
   {
    "duration": 38,
    "start_time": "2023-07-26T17:43:19.525Z"
   },
   {
    "duration": 136,
    "start_time": "2023-07-26T17:43:19.571Z"
   },
   {
    "duration": 12,
    "start_time": "2023-07-26T17:43:19.709Z"
   },
   {
    "duration": 7,
    "start_time": "2023-07-26T17:43:19.723Z"
   },
   {
    "duration": 31,
    "start_time": "2023-07-26T17:43:19.731Z"
   },
   {
    "duration": 16,
    "start_time": "2023-07-26T17:43:19.764Z"
   },
   {
    "duration": 20,
    "start_time": "2023-07-26T17:43:19.782Z"
   },
   {
    "duration": 16,
    "start_time": "2023-07-26T17:43:19.805Z"
   },
   {
    "duration": 183,
    "start_time": "2023-07-26T17:43:19.823Z"
   },
   {
    "duration": 20,
    "start_time": "2023-07-26T17:43:20.009Z"
   },
   {
    "duration": 68,
    "start_time": "2023-07-26T17:43:20.031Z"
   },
   {
    "duration": 16,
    "start_time": "2023-07-26T17:43:20.100Z"
   },
   {
    "duration": 24,
    "start_time": "2023-07-26T17:43:20.118Z"
   },
   {
    "duration": 24,
    "start_time": "2023-07-26T17:43:20.144Z"
   },
   {
    "duration": 16,
    "start_time": "2023-07-26T17:43:20.170Z"
   },
   {
    "duration": 13,
    "start_time": "2023-07-26T17:43:20.189Z"
   },
   {
    "duration": 19,
    "start_time": "2023-07-26T17:43:20.204Z"
   },
   {
    "duration": 53,
    "start_time": "2023-07-26T17:43:20.225Z"
   },
   {
    "duration": 28,
    "start_time": "2023-07-26T17:43:20.280Z"
   },
   {
    "duration": 52,
    "start_time": "2023-07-26T17:43:20.310Z"
   },
   {
    "duration": 28,
    "start_time": "2023-07-26T17:43:20.364Z"
   },
   {
    "duration": 38,
    "start_time": "2023-07-26T17:43:20.393Z"
   },
   {
    "duration": 46,
    "start_time": "2023-07-26T17:43:20.433Z"
   },
   {
    "duration": 23,
    "start_time": "2023-07-26T17:43:20.480Z"
   },
   {
    "duration": 490,
    "start_time": "2023-07-26T17:43:20.505Z"
   },
   {
    "duration": 4,
    "start_time": "2023-07-26T17:43:20.997Z"
   },
   {
    "duration": 80,
    "start_time": "2023-07-26T17:43:21.003Z"
   },
   {
    "duration": 24,
    "start_time": "2023-07-26T17:43:21.085Z"
   },
   {
    "duration": 71,
    "start_time": "2023-07-26T17:43:21.111Z"
   },
   {
    "duration": 32,
    "start_time": "2023-07-26T17:43:21.185Z"
   },
   {
    "duration": 41,
    "start_time": "2023-07-26T17:43:21.219Z"
   },
   {
    "duration": 53,
    "start_time": "2023-07-26T17:43:21.262Z"
   },
   {
    "duration": 26,
    "start_time": "2023-07-26T17:43:21.316Z"
   },
   {
    "duration": 26,
    "start_time": "2023-07-26T17:43:21.344Z"
   },
   {
    "duration": 18,
    "start_time": "2023-07-26T17:43:21.372Z"
   },
   {
    "duration": 16,
    "start_time": "2023-07-26T17:43:21.392Z"
   },
   {
    "duration": 10,
    "start_time": "2023-07-26T17:43:21.410Z"
   },
   {
    "duration": 26,
    "start_time": "2023-07-26T17:43:21.421Z"
   },
   {
    "duration": 22,
    "start_time": "2023-07-26T17:43:21.449Z"
   },
   {
    "duration": 23,
    "start_time": "2023-07-26T17:43:21.472Z"
   },
   {
    "duration": 13,
    "start_time": "2023-07-26T17:43:21.498Z"
   },
   {
    "duration": 10,
    "start_time": "2023-07-26T17:43:21.513Z"
   },
   {
    "duration": 19,
    "start_time": "2023-07-26T17:43:21.525Z"
   },
   {
    "duration": 138,
    "start_time": "2023-07-26T17:43:21.546Z"
   },
   {
    "duration": 324,
    "start_time": "2023-07-26T17:43:21.685Z"
   },
   {
    "duration": 15,
    "start_time": "2023-07-26T17:43:22.012Z"
   },
   {
    "duration": 123,
    "start_time": "2023-07-26T17:43:22.057Z"
   },
   {
    "duration": 13,
    "start_time": "2023-07-26T17:43:22.182Z"
   },
   {
    "duration": 25,
    "start_time": "2023-07-26T17:43:22.197Z"
   },
   {
    "duration": 5,
    "start_time": "2023-07-26T17:43:22.224Z"
   },
   {
    "duration": 28,
    "start_time": "2023-07-26T17:43:22.230Z"
   },
   {
    "duration": 29,
    "start_time": "2023-07-26T17:43:22.260Z"
   },
   {
    "duration": 31,
    "start_time": "2023-07-26T17:43:22.290Z"
   },
   {
    "duration": 13,
    "start_time": "2023-07-26T17:43:22.324Z"
   },
   {
    "duration": 14,
    "start_time": "2023-07-26T17:43:22.339Z"
   },
   {
    "duration": 20,
    "start_time": "2023-07-26T17:43:22.355Z"
   },
   {
    "duration": 7,
    "start_time": "2023-07-26T17:43:22.377Z"
   },
   {
    "duration": 18,
    "start_time": "2023-07-26T17:43:22.386Z"
   },
   {
    "duration": 13,
    "start_time": "2023-07-26T17:43:22.406Z"
   },
   {
    "duration": 11,
    "start_time": "2023-07-26T17:43:22.421Z"
   },
   {
    "duration": 11,
    "start_time": "2023-07-26T17:43:22.434Z"
   },
   {
    "duration": 17,
    "start_time": "2023-07-26T17:43:22.447Z"
   },
   {
    "duration": 7,
    "start_time": "2023-07-26T17:43:22.466Z"
   },
   {
    "duration": 32,
    "start_time": "2023-07-26T17:43:22.476Z"
   },
   {
    "duration": 25,
    "start_time": "2023-07-26T17:43:22.510Z"
   },
   {
    "duration": 18,
    "start_time": "2023-07-26T17:43:22.536Z"
   },
   {
    "duration": 11,
    "start_time": "2023-07-26T17:43:22.556Z"
   },
   {
    "duration": 24,
    "start_time": "2023-07-26T17:43:22.569Z"
   },
   {
    "duration": 15,
    "start_time": "2023-07-26T17:43:22.595Z"
   },
   {
    "duration": 10,
    "start_time": "2023-07-26T17:43:22.612Z"
   },
   {
    "duration": 8,
    "start_time": "2023-07-26T17:43:22.624Z"
   },
   {
    "duration": 13,
    "start_time": "2023-07-26T17:43:22.634Z"
   },
   {
    "duration": 1372,
    "start_time": "2023-07-26T17:44:50.648Z"
   },
   {
    "duration": 28,
    "start_time": "2023-07-26T17:44:52.023Z"
   },
   {
    "duration": 6,
    "start_time": "2023-07-26T17:44:52.053Z"
   },
   {
    "duration": 45,
    "start_time": "2023-07-26T17:44:52.062Z"
   },
   {
    "duration": 18,
    "start_time": "2023-07-26T17:44:52.109Z"
   },
   {
    "duration": 93,
    "start_time": "2023-07-26T17:44:52.130Z"
   },
   {
    "duration": 9,
    "start_time": "2023-07-26T17:44:52.225Z"
   },
   {
    "duration": 38,
    "start_time": "2023-07-26T17:44:52.236Z"
   },
   {
    "duration": 526,
    "start_time": "2023-07-26T17:44:52.277Z"
   },
   {
    "duration": 9,
    "start_time": "2023-07-26T17:44:52.806Z"
   },
   {
    "duration": 180,
    "start_time": "2023-07-26T17:44:52.817Z"
   },
   {
    "duration": 28,
    "start_time": "2023-07-26T17:44:53.000Z"
   },
   {
    "duration": 10,
    "start_time": "2023-07-26T17:44:53.030Z"
   },
   {
    "duration": 42,
    "start_time": "2023-07-26T17:44:53.042Z"
   },
   {
    "duration": 71,
    "start_time": "2023-07-26T17:44:53.086Z"
   },
   {
    "duration": 354,
    "start_time": "2023-07-26T17:44:53.159Z"
   },
   {
    "duration": 12,
    "start_time": "2023-07-26T17:44:53.516Z"
   },
   {
    "duration": 46,
    "start_time": "2023-07-26T17:44:53.530Z"
   },
   {
    "duration": 57,
    "start_time": "2023-07-26T17:44:53.578Z"
   },
   {
    "duration": 13,
    "start_time": "2023-07-26T17:44:53.637Z"
   },
   {
    "duration": 29,
    "start_time": "2023-07-26T17:44:53.652Z"
   },
   {
    "duration": 128,
    "start_time": "2023-07-26T17:44:53.683Z"
   },
   {
    "duration": 147,
    "start_time": "2023-07-26T17:44:53.813Z"
   },
   {
    "duration": 11,
    "start_time": "2023-07-26T17:44:53.962Z"
   },
   {
    "duration": 47,
    "start_time": "2023-07-26T17:44:53.974Z"
   },
   {
    "duration": 21,
    "start_time": "2023-07-26T17:44:54.024Z"
   },
   {
    "duration": 60,
    "start_time": "2023-07-26T17:44:54.047Z"
   },
   {
    "duration": 63,
    "start_time": "2023-07-26T17:44:54.111Z"
   },
   {
    "duration": 60,
    "start_time": "2023-07-26T17:44:54.179Z"
   },
   {
    "duration": 29,
    "start_time": "2023-07-26T17:44:54.241Z"
   },
   {
    "duration": 15,
    "start_time": "2023-07-26T17:44:54.271Z"
   },
   {
    "duration": 30,
    "start_time": "2023-07-26T17:44:54.288Z"
   },
   {
    "duration": 18,
    "start_time": "2023-07-26T17:44:54.321Z"
   },
   {
    "duration": 37,
    "start_time": "2023-07-26T17:44:54.342Z"
   },
   {
    "duration": 12,
    "start_time": "2023-07-26T17:44:54.381Z"
   },
   {
    "duration": 18,
    "start_time": "2023-07-26T17:44:54.394Z"
   },
   {
    "duration": 18,
    "start_time": "2023-07-26T17:44:54.414Z"
   },
   {
    "duration": 19,
    "start_time": "2023-07-26T17:44:54.434Z"
   },
   {
    "duration": 24,
    "start_time": "2023-07-26T17:44:54.455Z"
   },
   {
    "duration": 8,
    "start_time": "2023-07-26T17:44:54.481Z"
   },
   {
    "duration": 25,
    "start_time": "2023-07-26T17:44:54.491Z"
   },
   {
    "duration": 31,
    "start_time": "2023-07-26T17:44:54.518Z"
   },
   {
    "duration": 47,
    "start_time": "2023-07-26T17:44:54.551Z"
   },
   {
    "duration": 8,
    "start_time": "2023-07-26T17:44:54.600Z"
   },
   {
    "duration": 7,
    "start_time": "2023-07-26T17:44:54.610Z"
   },
   {
    "duration": 20,
    "start_time": "2023-07-26T17:44:54.618Z"
   },
   {
    "duration": 18,
    "start_time": "2023-07-26T17:44:54.640Z"
   },
   {
    "duration": 16,
    "start_time": "2023-07-26T17:44:54.660Z"
   },
   {
    "duration": 16,
    "start_time": "2023-07-26T17:44:54.678Z"
   },
   {
    "duration": 15,
    "start_time": "2023-07-26T17:44:54.696Z"
   },
   {
    "duration": 14,
    "start_time": "2023-07-26T17:44:54.713Z"
   },
   {
    "duration": 4,
    "start_time": "2023-07-26T17:44:54.729Z"
   },
   {
    "duration": 12,
    "start_time": "2023-07-26T17:44:54.757Z"
   },
   {
    "duration": 11,
    "start_time": "2023-07-26T17:44:54.771Z"
   },
   {
    "duration": 25,
    "start_time": "2023-07-26T17:44:54.783Z"
   },
   {
    "duration": 18,
    "start_time": "2023-07-26T17:44:54.809Z"
   },
   {
    "duration": 18,
    "start_time": "2023-07-26T17:44:54.829Z"
   },
   {
    "duration": 183,
    "start_time": "2023-07-26T17:44:54.849Z"
   },
   {
    "duration": 14,
    "start_time": "2023-07-26T17:44:55.033Z"
   },
   {
    "duration": 26,
    "start_time": "2023-07-26T17:44:55.049Z"
   },
   {
    "duration": 52,
    "start_time": "2023-07-26T17:44:55.077Z"
   },
   {
    "duration": 13,
    "start_time": "2023-07-26T17:44:55.131Z"
   },
   {
    "duration": 15,
    "start_time": "2023-07-26T17:44:55.146Z"
   },
   {
    "duration": 52,
    "start_time": "2023-07-26T17:44:55.163Z"
   },
   {
    "duration": 10,
    "start_time": "2023-07-26T17:44:55.217Z"
   },
   {
    "duration": 47,
    "start_time": "2023-07-26T17:44:55.229Z"
   },
   {
    "duration": 34,
    "start_time": "2023-07-26T17:44:55.279Z"
   },
   {
    "duration": 13,
    "start_time": "2023-07-26T17:44:55.316Z"
   },
   {
    "duration": 61,
    "start_time": "2023-07-26T17:44:55.331Z"
   },
   {
    "duration": 31,
    "start_time": "2023-07-26T17:44:55.393Z"
   },
   {
    "duration": 13,
    "start_time": "2023-07-26T17:44:55.425Z"
   },
   {
    "duration": 24,
    "start_time": "2023-07-26T17:44:55.439Z"
   },
   {
    "duration": 55,
    "start_time": "2023-07-26T17:44:55.464Z"
   },
   {
    "duration": 35,
    "start_time": "2023-07-26T17:44:55.521Z"
   },
   {
    "duration": 27,
    "start_time": "2023-07-26T17:44:55.558Z"
   },
   {
    "duration": 14,
    "start_time": "2023-07-26T17:44:55.587Z"
   },
   {
    "duration": 21,
    "start_time": "2023-07-26T17:44:55.603Z"
   },
   {
    "duration": 24,
    "start_time": "2023-07-26T17:44:55.626Z"
   },
   {
    "duration": 15,
    "start_time": "2023-07-26T17:44:55.652Z"
   },
   {
    "duration": 18,
    "start_time": "2023-07-26T17:44:55.669Z"
   },
   {
    "duration": 16,
    "start_time": "2023-07-26T17:44:55.689Z"
   },
   {
    "duration": 121,
    "start_time": "2023-07-26T17:44:55.713Z"
   },
   {
    "duration": 12,
    "start_time": "2023-07-26T17:44:55.836Z"
   },
   {
    "duration": 21,
    "start_time": "2023-07-26T17:44:55.856Z"
   },
   {
    "duration": 25,
    "start_time": "2023-07-26T17:44:55.879Z"
   },
   {
    "duration": 29,
    "start_time": "2023-07-26T17:44:55.906Z"
   },
   {
    "duration": 18,
    "start_time": "2023-07-26T17:44:55.937Z"
   },
   {
    "duration": 19,
    "start_time": "2023-07-26T17:44:55.957Z"
   },
   {
    "duration": 187,
    "start_time": "2023-07-26T17:44:55.978Z"
   },
   {
    "duration": 12,
    "start_time": "2023-07-26T17:44:56.167Z"
   },
   {
    "duration": 26,
    "start_time": "2023-07-26T17:44:56.182Z"
   },
   {
    "duration": 17,
    "start_time": "2023-07-26T17:44:56.209Z"
   },
   {
    "duration": 30,
    "start_time": "2023-07-26T17:44:56.227Z"
   },
   {
    "duration": 20,
    "start_time": "2023-07-26T17:44:56.259Z"
   },
   {
    "duration": 13,
    "start_time": "2023-07-26T17:44:56.282Z"
   },
   {
    "duration": 12,
    "start_time": "2023-07-26T17:44:56.297Z"
   },
   {
    "duration": 16,
    "start_time": "2023-07-26T17:44:56.311Z"
   },
   {
    "duration": 22,
    "start_time": "2023-07-26T17:44:56.329Z"
   },
   {
    "duration": 12,
    "start_time": "2023-07-26T17:44:56.357Z"
   },
   {
    "duration": 14,
    "start_time": "2023-07-26T17:44:56.371Z"
   },
   {
    "duration": 12,
    "start_time": "2023-07-26T17:44:56.387Z"
   },
   {
    "duration": 4,
    "start_time": "2023-07-26T17:44:56.402Z"
   },
   {
    "duration": 16,
    "start_time": "2023-07-26T17:44:56.408Z"
   },
   {
    "duration": 7,
    "start_time": "2023-07-26T17:44:56.425Z"
   },
   {
    "duration": 491,
    "start_time": "2023-07-26T17:44:56.434Z"
   },
   {
    "duration": 30,
    "start_time": "2023-07-26T17:44:56.927Z"
   },
   {
    "duration": 41,
    "start_time": "2023-07-26T17:44:56.959Z"
   },
   {
    "duration": 56,
    "start_time": "2023-07-26T17:44:57.003Z"
   },
   {
    "duration": 20,
    "start_time": "2023-07-26T17:44:57.061Z"
   },
   {
    "duration": 24,
    "start_time": "2023-07-26T17:44:57.084Z"
   },
   {
    "duration": 19,
    "start_time": "2023-07-26T17:44:57.111Z"
   },
   {
    "duration": 13,
    "start_time": "2023-07-26T17:44:57.132Z"
   },
   {
    "duration": 9,
    "start_time": "2023-07-26T17:44:57.156Z"
   },
   {
    "duration": 31,
    "start_time": "2023-07-26T17:44:57.167Z"
   },
   {
    "duration": 16,
    "start_time": "2023-07-26T17:44:57.200Z"
   },
   {
    "duration": 12,
    "start_time": "2023-07-26T17:44:57.218Z"
   },
   {
    "duration": 29,
    "start_time": "2023-07-26T17:44:57.232Z"
   },
   {
    "duration": 6,
    "start_time": "2023-07-26T17:44:57.263Z"
   },
   {
    "duration": 18,
    "start_time": "2023-07-26T17:44:57.271Z"
   },
   {
    "duration": 13,
    "start_time": "2023-07-26T17:44:57.292Z"
   },
   {
    "duration": 9,
    "start_time": "2023-07-26T17:44:57.307Z"
   },
   {
    "duration": 38,
    "start_time": "2023-07-26T17:44:57.318Z"
   },
   {
    "duration": 17,
    "start_time": "2023-07-26T17:44:57.359Z"
   },
   {
    "duration": 22,
    "start_time": "2023-07-26T17:44:57.378Z"
   },
   {
    "duration": 439,
    "start_time": "2023-07-26T17:44:57.402Z"
   },
   {
    "duration": 21,
    "start_time": "2023-07-26T17:44:57.843Z"
   },
   {
    "duration": 158,
    "start_time": "2023-07-26T17:44:57.866Z"
   },
   {
    "duration": 13,
    "start_time": "2023-07-26T17:44:58.026Z"
   },
   {
    "duration": 12,
    "start_time": "2023-07-26T17:44:58.058Z"
   },
   {
    "duration": 11,
    "start_time": "2023-07-26T17:44:58.072Z"
   },
   {
    "duration": 23,
    "start_time": "2023-07-26T17:44:58.085Z"
   },
   {
    "duration": 13,
    "start_time": "2023-07-26T17:44:58.112Z"
   },
   {
    "duration": 14,
    "start_time": "2023-07-26T17:44:58.126Z"
   },
   {
    "duration": 13,
    "start_time": "2023-07-26T17:44:58.143Z"
   },
   {
    "duration": 12,
    "start_time": "2023-07-26T17:44:58.159Z"
   },
   {
    "duration": 29,
    "start_time": "2023-07-26T17:44:58.174Z"
   },
   {
    "duration": 8,
    "start_time": "2023-07-26T17:44:58.205Z"
   },
   {
    "duration": 14,
    "start_time": "2023-07-26T17:44:58.215Z"
   },
   {
    "duration": 25,
    "start_time": "2023-07-26T17:44:58.231Z"
   },
   {
    "duration": 30,
    "start_time": "2023-07-26T17:44:58.258Z"
   },
   {
    "duration": 21,
    "start_time": "2023-07-26T17:44:58.290Z"
   },
   {
    "duration": 12,
    "start_time": "2023-07-26T17:44:58.313Z"
   },
   {
    "duration": 8,
    "start_time": "2023-07-26T17:44:58.327Z"
   },
   {
    "duration": 14,
    "start_time": "2023-07-26T17:44:58.338Z"
   },
   {
    "duration": 30,
    "start_time": "2023-07-26T17:44:58.364Z"
   },
   {
    "duration": 24,
    "start_time": "2023-07-26T17:44:58.396Z"
   },
   {
    "duration": 13,
    "start_time": "2023-07-26T17:44:58.422Z"
   },
   {
    "duration": 26,
    "start_time": "2023-07-26T17:44:58.437Z"
   },
   {
    "duration": 14,
    "start_time": "2023-07-26T17:44:58.465Z"
   },
   {
    "duration": 14,
    "start_time": "2023-07-26T17:44:58.481Z"
   },
   {
    "duration": 20,
    "start_time": "2023-07-26T17:44:58.497Z"
   },
   {
    "duration": 12,
    "start_time": "2023-07-26T17:44:58.519Z"
   },
   {
    "duration": 1314,
    "start_time": "2023-07-26T17:47:15.536Z"
   },
   {
    "duration": 27,
    "start_time": "2023-07-26T17:47:16.853Z"
   },
   {
    "duration": 4,
    "start_time": "2023-07-26T17:47:16.882Z"
   },
   {
    "duration": 30,
    "start_time": "2023-07-26T17:47:16.889Z"
   },
   {
    "duration": 10,
    "start_time": "2023-07-26T17:47:16.921Z"
   },
   {
    "duration": 73,
    "start_time": "2023-07-26T17:47:16.933Z"
   },
   {
    "duration": 8,
    "start_time": "2023-07-26T17:47:17.008Z"
   },
   {
    "duration": 18,
    "start_time": "2023-07-26T17:47:17.018Z"
   },
   {
    "duration": 548,
    "start_time": "2023-07-26T17:47:17.038Z"
   },
   {
    "duration": 9,
    "start_time": "2023-07-26T17:47:17.589Z"
   },
   {
    "duration": 78,
    "start_time": "2023-07-26T17:47:17.600Z"
   },
   {
    "duration": 25,
    "start_time": "2023-07-26T17:47:17.680Z"
   },
   {
    "duration": 8,
    "start_time": "2023-07-26T17:47:17.706Z"
   },
   {
    "duration": 13,
    "start_time": "2023-07-26T17:47:17.715Z"
   },
   {
    "duration": 64,
    "start_time": "2023-07-26T17:47:17.730Z"
   },
   {
    "duration": 335,
    "start_time": "2023-07-26T17:47:17.796Z"
   },
   {
    "duration": 10,
    "start_time": "2023-07-26T17:47:18.133Z"
   },
   {
    "duration": 15,
    "start_time": "2023-07-26T17:47:18.157Z"
   },
   {
    "duration": 50,
    "start_time": "2023-07-26T17:47:18.173Z"
   },
   {
    "duration": 11,
    "start_time": "2023-07-26T17:47:18.225Z"
   },
   {
    "duration": 57,
    "start_time": "2023-07-26T17:47:18.238Z"
   },
   {
    "duration": 108,
    "start_time": "2023-07-26T17:47:18.297Z"
   },
   {
    "duration": 56,
    "start_time": "2023-07-26T17:47:18.408Z"
   },
   {
    "duration": 10,
    "start_time": "2023-07-26T17:47:18.467Z"
   },
   {
    "duration": 8,
    "start_time": "2023-07-26T17:47:18.480Z"
   },
   {
    "duration": 22,
    "start_time": "2023-07-26T17:47:18.490Z"
   },
   {
    "duration": 33,
    "start_time": "2023-07-26T17:47:18.513Z"
   },
   {
    "duration": 63,
    "start_time": "2023-07-26T17:47:18.551Z"
   },
   {
    "duration": 70,
    "start_time": "2023-07-26T17:47:18.616Z"
   },
   {
    "duration": 24,
    "start_time": "2023-07-26T17:47:18.688Z"
   },
   {
    "duration": 34,
    "start_time": "2023-07-26T17:47:18.713Z"
   },
   {
    "duration": 19,
    "start_time": "2023-07-26T17:47:18.749Z"
   },
   {
    "duration": 30,
    "start_time": "2023-07-26T17:47:18.770Z"
   },
   {
    "duration": 18,
    "start_time": "2023-07-26T17:47:18.801Z"
   },
   {
    "duration": 14,
    "start_time": "2023-07-26T17:47:18.821Z"
   },
   {
    "duration": 32,
    "start_time": "2023-07-26T17:47:18.837Z"
   },
   {
    "duration": 11,
    "start_time": "2023-07-26T17:47:18.871Z"
   },
   {
    "duration": 9,
    "start_time": "2023-07-26T17:47:18.883Z"
   },
   {
    "duration": 8,
    "start_time": "2023-07-26T17:47:18.894Z"
   },
   {
    "duration": 4,
    "start_time": "2023-07-26T17:47:18.903Z"
   },
   {
    "duration": 37,
    "start_time": "2023-07-26T17:47:18.909Z"
   },
   {
    "duration": 11,
    "start_time": "2023-07-26T17:47:18.948Z"
   },
   {
    "duration": 47,
    "start_time": "2023-07-26T17:47:18.961Z"
   },
   {
    "duration": 10,
    "start_time": "2023-07-26T17:47:19.010Z"
   },
   {
    "duration": 8,
    "start_time": "2023-07-26T17:47:19.022Z"
   },
   {
    "duration": 38,
    "start_time": "2023-07-26T17:47:19.032Z"
   },
   {
    "duration": 20,
    "start_time": "2023-07-26T17:47:19.073Z"
   },
   {
    "duration": 35,
    "start_time": "2023-07-26T17:47:19.095Z"
   },
   {
    "duration": 13,
    "start_time": "2023-07-26T17:47:19.132Z"
   },
   {
    "duration": 34,
    "start_time": "2023-07-26T17:47:19.148Z"
   },
   {
    "duration": 18,
    "start_time": "2023-07-26T17:47:19.184Z"
   },
   {
    "duration": 6,
    "start_time": "2023-07-26T17:47:19.203Z"
   },
   {
    "duration": 13,
    "start_time": "2023-07-26T17:47:19.211Z"
   },
   {
    "duration": 8,
    "start_time": "2023-07-26T17:47:19.227Z"
   },
   {
    "duration": 25,
    "start_time": "2023-07-26T17:47:19.237Z"
   },
   {
    "duration": 11,
    "start_time": "2023-07-26T17:47:19.264Z"
   },
   {
    "duration": 25,
    "start_time": "2023-07-26T17:47:19.277Z"
   },
   {
    "duration": 9,
    "start_time": "2023-07-26T17:47:19.304Z"
   },
   {
    "duration": 15,
    "start_time": "2023-07-26T17:47:19.316Z"
   },
   {
    "duration": 12,
    "start_time": "2023-07-26T17:47:19.333Z"
   },
   {
    "duration": 26,
    "start_time": "2023-07-26T17:47:19.347Z"
   },
   {
    "duration": 7,
    "start_time": "2023-07-26T17:47:19.375Z"
   },
   {
    "duration": 8,
    "start_time": "2023-07-26T17:47:19.384Z"
   },
   {
    "duration": 11,
    "start_time": "2023-07-26T17:47:19.395Z"
   },
   {
    "duration": 10,
    "start_time": "2023-07-26T17:47:19.408Z"
   },
   {
    "duration": 39,
    "start_time": "2023-07-26T17:47:19.421Z"
   },
   {
    "duration": 18,
    "start_time": "2023-07-26T17:47:19.462Z"
   },
   {
    "duration": 5,
    "start_time": "2023-07-26T17:47:19.482Z"
   },
   {
    "duration": 23,
    "start_time": "2023-07-26T17:47:19.489Z"
   },
   {
    "duration": 8,
    "start_time": "2023-07-26T17:47:19.513Z"
   },
   {
    "duration": 33,
    "start_time": "2023-07-26T17:47:19.523Z"
   },
   {
    "duration": 9,
    "start_time": "2023-07-26T17:47:19.559Z"
   },
   {
    "duration": 31,
    "start_time": "2023-07-26T17:47:19.569Z"
   },
   {
    "duration": 22,
    "start_time": "2023-07-26T17:47:19.601Z"
   },
   {
    "duration": 12,
    "start_time": "2023-07-26T17:47:19.625Z"
   },
   {
    "duration": 8,
    "start_time": "2023-07-26T17:47:19.639Z"
   },
   {
    "duration": 37,
    "start_time": "2023-07-26T17:47:19.649Z"
   },
   {
    "duration": 14,
    "start_time": "2023-07-26T17:47:19.688Z"
   },
   {
    "duration": 13,
    "start_time": "2023-07-26T17:47:19.703Z"
   },
   {
    "duration": 17,
    "start_time": "2023-07-26T17:47:19.718Z"
   },
   {
    "duration": 24,
    "start_time": "2023-07-26T17:47:19.737Z"
   },
   {
    "duration": 160,
    "start_time": "2023-07-26T17:47:19.770Z"
   },
   {
    "duration": 28,
    "start_time": "2023-07-26T17:47:19.932Z"
   },
   {
    "duration": 11,
    "start_time": "2023-07-26T17:47:19.962Z"
   },
   {
    "duration": 20,
    "start_time": "2023-07-26T17:47:19.975Z"
   },
   {
    "duration": 17,
    "start_time": "2023-07-26T17:47:19.997Z"
   },
   {
    "duration": 24,
    "start_time": "2023-07-26T17:47:20.016Z"
   },
   {
    "duration": 32,
    "start_time": "2023-07-26T17:47:20.042Z"
   },
   {
    "duration": 186,
    "start_time": "2023-07-26T17:47:20.076Z"
   },
   {
    "duration": 10,
    "start_time": "2023-07-26T17:47:20.265Z"
   },
   {
    "duration": 42,
    "start_time": "2023-07-26T17:47:20.277Z"
   },
   {
    "duration": 24,
    "start_time": "2023-07-26T17:47:20.321Z"
   },
   {
    "duration": 13,
    "start_time": "2023-07-26T17:47:20.347Z"
   },
   {
    "duration": 31,
    "start_time": "2023-07-26T17:47:20.362Z"
   },
   {
    "duration": 16,
    "start_time": "2023-07-26T17:47:20.394Z"
   },
   {
    "duration": 27,
    "start_time": "2023-07-26T17:47:20.412Z"
   },
   {
    "duration": 24,
    "start_time": "2023-07-26T17:47:20.440Z"
   },
   {
    "duration": 13,
    "start_time": "2023-07-26T17:47:20.465Z"
   },
   {
    "duration": 25,
    "start_time": "2023-07-26T17:47:20.480Z"
   },
   {
    "duration": 13,
    "start_time": "2023-07-26T17:47:20.507Z"
   },
   {
    "duration": 19,
    "start_time": "2023-07-26T17:47:20.522Z"
   },
   {
    "duration": 8,
    "start_time": "2023-07-26T17:47:20.543Z"
   },
   {
    "duration": 29,
    "start_time": "2023-07-26T17:47:20.553Z"
   },
   {
    "duration": 21,
    "start_time": "2023-07-26T17:47:20.584Z"
   },
   {
    "duration": 462,
    "start_time": "2023-07-26T17:47:20.607Z"
   },
   {
    "duration": 3,
    "start_time": "2023-07-26T17:47:21.071Z"
   },
   {
    "duration": 114,
    "start_time": "2023-07-26T17:47:21.076Z"
   },
   {
    "duration": 148,
    "start_time": "2023-07-26T17:47:21.192Z"
   },
   {
    "duration": 55,
    "start_time": "2023-07-26T17:47:21.342Z"
   },
   {
    "duration": 25,
    "start_time": "2023-07-26T17:47:21.399Z"
   },
   {
    "duration": 25,
    "start_time": "2023-07-26T17:47:21.426Z"
   },
   {
    "duration": 48,
    "start_time": "2023-07-26T17:47:21.453Z"
   },
   {
    "duration": 23,
    "start_time": "2023-07-26T17:47:21.503Z"
   },
   {
    "duration": 62,
    "start_time": "2023-07-26T17:47:21.529Z"
   },
   {
    "duration": 43,
    "start_time": "2023-07-26T17:47:21.593Z"
   },
   {
    "duration": 19,
    "start_time": "2023-07-26T17:47:21.639Z"
   },
   {
    "duration": 10,
    "start_time": "2023-07-26T17:47:21.660Z"
   },
   {
    "duration": 9,
    "start_time": "2023-07-26T17:47:21.672Z"
   },
   {
    "duration": 22,
    "start_time": "2023-07-26T17:47:21.683Z"
   },
   {
    "duration": 15,
    "start_time": "2023-07-26T17:47:21.707Z"
   },
   {
    "duration": 22,
    "start_time": "2023-07-26T17:47:21.725Z"
   },
   {
    "duration": 19,
    "start_time": "2023-07-26T17:47:21.749Z"
   },
   {
    "duration": 46,
    "start_time": "2023-07-26T17:47:21.770Z"
   },
   {
    "duration": 38,
    "start_time": "2023-07-26T17:47:21.818Z"
   },
   {
    "duration": 436,
    "start_time": "2023-07-26T17:47:21.858Z"
   },
   {
    "duration": 13,
    "start_time": "2023-07-26T17:47:22.296Z"
   },
   {
    "duration": 152,
    "start_time": "2023-07-26T17:47:22.312Z"
   },
   {
    "duration": 14,
    "start_time": "2023-07-26T17:47:22.466Z"
   },
   {
    "duration": 37,
    "start_time": "2023-07-26T17:47:22.482Z"
   },
   {
    "duration": 42,
    "start_time": "2023-07-26T17:47:22.521Z"
   },
   {
    "duration": 32,
    "start_time": "2023-07-26T17:47:22.565Z"
   },
   {
    "duration": 34,
    "start_time": "2023-07-26T17:47:22.600Z"
   },
   {
    "duration": 43,
    "start_time": "2023-07-26T17:47:22.636Z"
   },
   {
    "duration": 31,
    "start_time": "2023-07-26T17:47:22.682Z"
   },
   {
    "duration": 27,
    "start_time": "2023-07-26T17:47:22.715Z"
   },
   {
    "duration": 47,
    "start_time": "2023-07-26T17:47:22.744Z"
   },
   {
    "duration": 17,
    "start_time": "2023-07-26T17:47:22.793Z"
   },
   {
    "duration": 20,
    "start_time": "2023-07-26T17:47:22.812Z"
   },
   {
    "duration": 33,
    "start_time": "2023-07-26T17:47:22.834Z"
   },
   {
    "duration": 35,
    "start_time": "2023-07-26T17:47:22.869Z"
   },
   {
    "duration": 41,
    "start_time": "2023-07-26T17:47:22.906Z"
   },
   {
    "duration": 30,
    "start_time": "2023-07-26T17:47:22.949Z"
   },
   {
    "duration": 29,
    "start_time": "2023-07-26T17:47:22.981Z"
   },
   {
    "duration": 49,
    "start_time": "2023-07-26T17:47:23.012Z"
   },
   {
    "duration": 42,
    "start_time": "2023-07-26T17:47:23.063Z"
   },
   {
    "duration": 38,
    "start_time": "2023-07-26T17:47:23.106Z"
   },
   {
    "duration": 33,
    "start_time": "2023-07-26T17:47:23.145Z"
   },
   {
    "duration": 35,
    "start_time": "2023-07-26T17:47:23.180Z"
   },
   {
    "duration": 32,
    "start_time": "2023-07-26T17:47:23.218Z"
   },
   {
    "duration": 41,
    "start_time": "2023-07-26T17:47:23.252Z"
   },
   {
    "duration": 44,
    "start_time": "2023-07-26T17:47:23.294Z"
   },
   {
    "duration": 13,
    "start_time": "2023-07-26T17:47:23.341Z"
   },
   {
    "duration": 109,
    "start_time": "2023-07-26T18:18:19.811Z"
   },
   {
    "duration": 1267,
    "start_time": "2023-07-26T18:24:45.070Z"
   },
   {
    "duration": 27,
    "start_time": "2023-07-26T18:24:46.339Z"
   },
   {
    "duration": 4,
    "start_time": "2023-07-26T18:24:46.368Z"
   },
   {
    "duration": 14,
    "start_time": "2023-07-26T18:24:46.374Z"
   },
   {
    "duration": 10,
    "start_time": "2023-07-26T18:24:46.390Z"
   },
   {
    "duration": 70,
    "start_time": "2023-07-26T18:24:46.402Z"
   },
   {
    "duration": 9,
    "start_time": "2023-07-26T18:24:46.474Z"
   },
   {
    "duration": 17,
    "start_time": "2023-07-26T18:24:46.485Z"
   },
   {
    "duration": 489,
    "start_time": "2023-07-26T18:24:46.504Z"
   },
   {
    "duration": 8,
    "start_time": "2023-07-26T18:24:46.996Z"
   },
   {
    "duration": 139,
    "start_time": "2023-07-26T18:24:47.006Z"
   },
   {
    "duration": 41,
    "start_time": "2023-07-26T18:24:47.147Z"
   },
   {
    "duration": 59,
    "start_time": "2023-07-26T18:24:47.190Z"
   },
   {
    "duration": 13,
    "start_time": "2023-07-26T18:24:47.251Z"
   },
   {
    "duration": 32,
    "start_time": "2023-07-26T18:24:47.265Z"
   },
   {
    "duration": 321,
    "start_time": "2023-07-26T18:24:47.299Z"
   },
   {
    "duration": 9,
    "start_time": "2023-07-26T18:24:47.622Z"
   },
   {
    "duration": 4,
    "start_time": "2023-07-26T18:24:47.632Z"
   },
   {
    "duration": 44,
    "start_time": "2023-07-26T18:24:47.638Z"
   },
   {
    "duration": 10,
    "start_time": "2023-07-26T18:24:47.683Z"
   },
   {
    "duration": 14,
    "start_time": "2023-07-26T18:24:47.695Z"
   },
   {
    "duration": 99,
    "start_time": "2023-07-26T18:24:47.711Z"
   },
   {
    "duration": 52,
    "start_time": "2023-07-26T18:24:47.812Z"
   },
   {
    "duration": 8,
    "start_time": "2023-07-26T18:24:47.866Z"
   },
   {
    "duration": 15,
    "start_time": "2023-07-26T18:24:47.876Z"
   },
   {
    "duration": 8,
    "start_time": "2023-07-26T18:24:47.893Z"
   },
   {
    "duration": 11,
    "start_time": "2023-07-26T18:24:47.902Z"
   },
   {
    "duration": 23,
    "start_time": "2023-07-26T18:24:47.917Z"
   },
   {
    "duration": 54,
    "start_time": "2023-07-26T18:24:47.956Z"
   },
   {
    "duration": 20,
    "start_time": "2023-07-26T18:24:48.012Z"
   },
   {
    "duration": 22,
    "start_time": "2023-07-26T18:24:48.034Z"
   },
   {
    "duration": 11,
    "start_time": "2023-07-26T18:24:48.058Z"
   },
   {
    "duration": 5,
    "start_time": "2023-07-26T18:24:48.070Z"
   },
   {
    "duration": 8,
    "start_time": "2023-07-26T18:24:48.077Z"
   },
   {
    "duration": 8,
    "start_time": "2023-07-26T18:24:48.086Z"
   },
   {
    "duration": 10,
    "start_time": "2023-07-26T18:24:48.096Z"
   },
   {
    "duration": 6,
    "start_time": "2023-07-26T18:24:48.108Z"
   },
   {
    "duration": 5,
    "start_time": "2023-07-26T18:24:48.116Z"
   },
   {
    "duration": 33,
    "start_time": "2023-07-26T18:24:48.123Z"
   },
   {
    "duration": 4,
    "start_time": "2023-07-26T18:24:48.158Z"
   },
   {
    "duration": 17,
    "start_time": "2023-07-26T18:24:48.163Z"
   },
   {
    "duration": 4,
    "start_time": "2023-07-26T18:24:48.181Z"
   },
   {
    "duration": 36,
    "start_time": "2023-07-26T18:24:48.187Z"
   },
   {
    "duration": 9,
    "start_time": "2023-07-26T18:24:48.225Z"
   },
   {
    "duration": 27,
    "start_time": "2023-07-26T18:24:48.235Z"
   },
   {
    "duration": 7,
    "start_time": "2023-07-26T18:24:48.264Z"
   },
   {
    "duration": 18,
    "start_time": "2023-07-26T18:24:48.273Z"
   },
   {
    "duration": 15,
    "start_time": "2023-07-26T18:24:48.292Z"
   },
   {
    "duration": 9,
    "start_time": "2023-07-26T18:24:48.309Z"
   },
   {
    "duration": 37,
    "start_time": "2023-07-26T18:24:48.319Z"
   },
   {
    "duration": 15,
    "start_time": "2023-07-26T18:24:48.358Z"
   },
   {
    "duration": 5,
    "start_time": "2023-07-26T18:24:48.375Z"
   },
   {
    "duration": 7,
    "start_time": "2023-07-26T18:24:48.381Z"
   },
   {
    "duration": 5,
    "start_time": "2023-07-26T18:24:48.390Z"
   },
   {
    "duration": 11,
    "start_time": "2023-07-26T18:24:48.397Z"
   },
   {
    "duration": 12,
    "start_time": "2023-07-26T18:24:48.409Z"
   },
   {
    "duration": 43,
    "start_time": "2023-07-26T18:24:48.422Z"
   },
   {
    "duration": 9,
    "start_time": "2023-07-26T18:24:48.467Z"
   },
   {
    "duration": 4,
    "start_time": "2023-07-26T18:24:48.478Z"
   },
   {
    "duration": 6,
    "start_time": "2023-07-26T18:24:48.484Z"
   },
   {
    "duration": 11,
    "start_time": "2023-07-26T18:24:48.492Z"
   },
   {
    "duration": 7,
    "start_time": "2023-07-26T18:24:48.505Z"
   },
   {
    "duration": 8,
    "start_time": "2023-07-26T18:24:48.513Z"
   },
   {
    "duration": 34,
    "start_time": "2023-07-26T18:24:48.522Z"
   },
   {
    "duration": 7,
    "start_time": "2023-07-26T18:24:48.558Z"
   },
   {
    "duration": 7,
    "start_time": "2023-07-26T18:24:48.566Z"
   },
   {
    "duration": 16,
    "start_time": "2023-07-26T18:24:48.575Z"
   },
   {
    "duration": 6,
    "start_time": "2023-07-26T18:24:48.593Z"
   },
   {
    "duration": 13,
    "start_time": "2023-07-26T18:24:48.600Z"
   },
   {
    "duration": 6,
    "start_time": "2023-07-26T18:24:48.615Z"
   },
   {
    "duration": 7,
    "start_time": "2023-07-26T18:24:48.622Z"
   },
   {
    "duration": 11,
    "start_time": "2023-07-26T18:24:48.656Z"
   },
   {
    "duration": 9,
    "start_time": "2023-07-26T18:24:48.668Z"
   },
   {
    "duration": 15,
    "start_time": "2023-07-26T18:24:48.678Z"
   },
   {
    "duration": 8,
    "start_time": "2023-07-26T18:24:48.695Z"
   },
   {
    "duration": 3,
    "start_time": "2023-07-26T18:24:48.705Z"
   },
   {
    "duration": 12,
    "start_time": "2023-07-26T18:24:48.709Z"
   },
   {
    "duration": 11,
    "start_time": "2023-07-26T18:24:48.723Z"
   },
   {
    "duration": 6,
    "start_time": "2023-07-26T18:24:48.760Z"
   },
   {
    "duration": 14,
    "start_time": "2023-07-26T18:24:48.768Z"
   },
   {
    "duration": 14,
    "start_time": "2023-07-26T18:24:48.784Z"
   },
   {
    "duration": 167,
    "start_time": "2023-07-26T18:24:48.807Z"
   },
   {
    "duration": 65,
    "start_time": "2023-07-26T18:24:48.976Z"
   },
   {
    "duration": 15,
    "start_time": "2023-07-26T18:24:49.043Z"
   },
   {
    "duration": 13,
    "start_time": "2023-07-26T18:24:49.060Z"
   },
   {
    "duration": 15,
    "start_time": "2023-07-26T18:24:49.075Z"
   },
   {
    "duration": 9,
    "start_time": "2023-07-26T18:24:49.092Z"
   },
   {
    "duration": 50,
    "start_time": "2023-07-26T18:24:49.102Z"
   },
   {
    "duration": 193,
    "start_time": "2023-07-26T18:24:49.154Z"
   },
   {
    "duration": 15,
    "start_time": "2023-07-26T18:24:49.349Z"
   },
   {
    "duration": 37,
    "start_time": "2023-07-26T18:24:49.366Z"
   },
   {
    "duration": 18,
    "start_time": "2023-07-26T18:24:49.405Z"
   },
   {
    "duration": 4,
    "start_time": "2023-07-26T18:24:49.424Z"
   },
   {
    "duration": 41,
    "start_time": "2023-07-26T18:24:49.429Z"
   },
   {
    "duration": 10,
    "start_time": "2023-07-26T18:24:49.472Z"
   },
   {
    "duration": 7,
    "start_time": "2023-07-26T18:24:49.483Z"
   },
   {
    "duration": 11,
    "start_time": "2023-07-26T18:24:49.491Z"
   },
   {
    "duration": 9,
    "start_time": "2023-07-26T18:24:49.504Z"
   },
   {
    "duration": 39,
    "start_time": "2023-07-26T18:24:49.514Z"
   },
   {
    "duration": 16,
    "start_time": "2023-07-26T18:24:49.555Z"
   },
   {
    "duration": 25,
    "start_time": "2023-07-26T18:24:49.573Z"
   },
   {
    "duration": 3,
    "start_time": "2023-07-26T18:24:49.600Z"
   },
   {
    "duration": 18,
    "start_time": "2023-07-26T18:24:49.604Z"
   },
   {
    "duration": 5,
    "start_time": "2023-07-26T18:24:49.624Z"
   },
   {
    "duration": 432,
    "start_time": "2023-07-26T18:24:49.631Z"
   },
   {
    "duration": 4,
    "start_time": "2023-07-26T18:24:50.064Z"
   },
   {
    "duration": 30,
    "start_time": "2023-07-26T18:24:50.069Z"
   },
   {
    "duration": 58,
    "start_time": "2023-07-26T18:24:50.101Z"
   },
   {
    "duration": 21,
    "start_time": "2023-07-26T18:24:50.161Z"
   },
   {
    "duration": 19,
    "start_time": "2023-07-26T18:24:50.184Z"
   },
   {
    "duration": 52,
    "start_time": "2023-07-26T18:24:50.205Z"
   },
   {
    "duration": 12,
    "start_time": "2023-07-26T18:24:50.259Z"
   },
   {
    "duration": 6,
    "start_time": "2023-07-26T18:24:50.272Z"
   },
   {
    "duration": 31,
    "start_time": "2023-07-26T18:24:50.279Z"
   },
   {
    "duration": 19,
    "start_time": "2023-07-26T18:24:50.312Z"
   },
   {
    "duration": 17,
    "start_time": "2023-07-26T18:24:50.333Z"
   },
   {
    "duration": 6,
    "start_time": "2023-07-26T18:24:50.352Z"
   },
   {
    "duration": 20,
    "start_time": "2023-07-26T18:24:50.360Z"
   },
   {
    "duration": 11,
    "start_time": "2023-07-26T18:24:50.382Z"
   },
   {
    "duration": 9,
    "start_time": "2023-07-26T18:24:50.394Z"
   },
   {
    "duration": 8,
    "start_time": "2023-07-26T18:24:50.404Z"
   },
   {
    "duration": 6,
    "start_time": "2023-07-26T18:24:50.413Z"
   },
   {
    "duration": 11,
    "start_time": "2023-07-26T18:24:50.420Z"
   },
   {
    "duration": 28,
    "start_time": "2023-07-26T18:24:50.432Z"
   },
   {
    "duration": 395,
    "start_time": "2023-07-26T18:24:50.461Z"
   },
   {
    "duration": 12,
    "start_time": "2023-07-26T18:24:50.858Z"
   },
   {
    "duration": 137,
    "start_time": "2023-07-26T18:24:50.872Z"
   },
   {
    "duration": 13,
    "start_time": "2023-07-26T18:24:51.012Z"
   },
   {
    "duration": 30,
    "start_time": "2023-07-26T18:24:51.027Z"
   },
   {
    "duration": 27,
    "start_time": "2023-07-26T18:24:51.059Z"
   },
   {
    "duration": 31,
    "start_time": "2023-07-26T18:24:51.087Z"
   },
   {
    "duration": 22,
    "start_time": "2023-07-26T18:24:51.120Z"
   },
   {
    "duration": 22,
    "start_time": "2023-07-26T18:24:51.144Z"
   },
   {
    "duration": 14,
    "start_time": "2023-07-26T18:24:51.167Z"
   },
   {
    "duration": 30,
    "start_time": "2023-07-26T18:24:51.182Z"
   },
   {
    "duration": 23,
    "start_time": "2023-07-26T18:24:51.214Z"
   },
   {
    "duration": 9,
    "start_time": "2023-07-26T18:24:51.239Z"
   },
   {
    "duration": 6,
    "start_time": "2023-07-26T18:24:51.250Z"
   },
   {
    "duration": 8,
    "start_time": "2023-07-26T18:24:51.258Z"
   },
   {
    "duration": 24,
    "start_time": "2023-07-26T18:24:51.267Z"
   },
   {
    "duration": 9,
    "start_time": "2023-07-26T18:24:51.293Z"
   },
   {
    "duration": 19,
    "start_time": "2023-07-26T18:24:51.303Z"
   },
   {
    "duration": 12,
    "start_time": "2023-07-26T18:24:51.324Z"
   },
   {
    "duration": 14,
    "start_time": "2023-07-26T18:24:51.337Z"
   },
   {
    "duration": 34,
    "start_time": "2023-07-26T18:24:51.352Z"
   },
   {
    "duration": 24,
    "start_time": "2023-07-26T18:24:51.388Z"
   },
   {
    "duration": 8,
    "start_time": "2023-07-26T18:24:51.413Z"
   },
   {
    "duration": 24,
    "start_time": "2023-07-26T18:24:51.422Z"
   },
   {
    "duration": 9,
    "start_time": "2023-07-26T18:24:51.448Z"
   },
   {
    "duration": 11,
    "start_time": "2023-07-26T18:24:51.458Z"
   },
   {
    "duration": 26,
    "start_time": "2023-07-26T18:24:51.471Z"
   },
   {
    "duration": 24,
    "start_time": "2023-07-26T18:24:51.498Z"
   },
   {
    "duration": 1243,
    "start_time": "2023-07-26T18:26:04.106Z"
   },
   {
    "duration": 29,
    "start_time": "2023-07-26T18:26:05.352Z"
   },
   {
    "duration": 5,
    "start_time": "2023-07-26T18:26:05.383Z"
   },
   {
    "duration": 31,
    "start_time": "2023-07-26T18:26:05.390Z"
   },
   {
    "duration": 12,
    "start_time": "2023-07-26T18:26:05.423Z"
   },
   {
    "duration": 87,
    "start_time": "2023-07-26T18:26:05.437Z"
   },
   {
    "duration": 8,
    "start_time": "2023-07-26T18:26:05.526Z"
   },
   {
    "duration": 25,
    "start_time": "2023-07-26T18:26:05.536Z"
   },
   {
    "duration": 486,
    "start_time": "2023-07-26T18:26:05.562Z"
   },
   {
    "duration": 13,
    "start_time": "2023-07-26T18:26:06.050Z"
   },
   {
    "duration": 59,
    "start_time": "2023-07-26T18:26:06.065Z"
   },
   {
    "duration": 26,
    "start_time": "2023-07-26T18:26:06.126Z"
   },
   {
    "duration": 7,
    "start_time": "2023-07-26T18:26:06.156Z"
   },
   {
    "duration": 11,
    "start_time": "2023-07-26T18:26:06.166Z"
   },
   {
    "duration": 33,
    "start_time": "2023-07-26T18:26:06.179Z"
   },
   {
    "duration": 339,
    "start_time": "2023-07-26T18:26:06.213Z"
   },
   {
    "duration": 9,
    "start_time": "2023-07-26T18:26:06.557Z"
   },
   {
    "duration": 17,
    "start_time": "2023-07-26T18:26:06.568Z"
   },
   {
    "duration": 33,
    "start_time": "2023-07-26T18:26:06.587Z"
   },
   {
    "duration": 12,
    "start_time": "2023-07-26T18:26:06.621Z"
   },
   {
    "duration": 36,
    "start_time": "2023-07-26T18:26:06.635Z"
   },
   {
    "duration": 111,
    "start_time": "2023-07-26T18:26:06.673Z"
   },
   {
    "duration": 44,
    "start_time": "2023-07-26T18:26:06.786Z"
   },
   {
    "duration": 9,
    "start_time": "2023-07-26T18:26:06.832Z"
   },
   {
    "duration": 4,
    "start_time": "2023-07-26T18:26:06.858Z"
   },
   {
    "duration": 18,
    "start_time": "2023-07-26T18:26:06.865Z"
   },
   {
    "duration": 17,
    "start_time": "2023-07-26T18:26:06.885Z"
   },
   {
    "duration": 35,
    "start_time": "2023-07-26T18:26:06.903Z"
   },
   {
    "duration": 63,
    "start_time": "2023-07-26T18:26:06.941Z"
   },
   {
    "duration": 25,
    "start_time": "2023-07-26T18:26:07.006Z"
   },
   {
    "duration": 25,
    "start_time": "2023-07-26T18:26:07.033Z"
   },
   {
    "duration": 27,
    "start_time": "2023-07-26T18:26:07.060Z"
   },
   {
    "duration": 11,
    "start_time": "2023-07-26T18:26:07.089Z"
   },
   {
    "duration": 42,
    "start_time": "2023-07-26T18:26:07.102Z"
   },
   {
    "duration": 21,
    "start_time": "2023-07-26T18:26:07.146Z"
   },
   {
    "duration": 30,
    "start_time": "2023-07-26T18:26:07.169Z"
   },
   {
    "duration": 25,
    "start_time": "2023-07-26T18:26:07.201Z"
   },
   {
    "duration": 7,
    "start_time": "2023-07-26T18:26:07.228Z"
   },
   {
    "duration": 7,
    "start_time": "2023-07-26T18:26:07.236Z"
   },
   {
    "duration": 7,
    "start_time": "2023-07-26T18:26:07.245Z"
   },
   {
    "duration": 25,
    "start_time": "2023-07-26T18:26:07.258Z"
   },
   {
    "duration": 4,
    "start_time": "2023-07-26T18:26:07.285Z"
   },
   {
    "duration": 42,
    "start_time": "2023-07-26T18:26:07.291Z"
   },
   {
    "duration": 11,
    "start_time": "2023-07-26T18:26:07.335Z"
   },
   {
    "duration": 17,
    "start_time": "2023-07-26T18:26:07.347Z"
   },
   {
    "duration": 7,
    "start_time": "2023-07-26T18:26:07.366Z"
   },
   {
    "duration": 17,
    "start_time": "2023-07-26T18:26:07.375Z"
   },
   {
    "duration": 24,
    "start_time": "2023-07-26T18:26:07.394Z"
   },
   {
    "duration": 11,
    "start_time": "2023-07-26T18:26:07.420Z"
   },
   {
    "duration": 32,
    "start_time": "2023-07-26T18:26:07.433Z"
   },
   {
    "duration": 14,
    "start_time": "2023-07-26T18:26:07.466Z"
   },
   {
    "duration": 3,
    "start_time": "2023-07-26T18:26:07.482Z"
   },
   {
    "duration": 10,
    "start_time": "2023-07-26T18:26:07.487Z"
   },
   {
    "duration": 16,
    "start_time": "2023-07-26T18:26:07.499Z"
   },
   {
    "duration": 26,
    "start_time": "2023-07-26T18:26:07.516Z"
   },
   {
    "duration": 11,
    "start_time": "2023-07-26T18:26:07.543Z"
   },
   {
    "duration": 21,
    "start_time": "2023-07-26T18:26:07.555Z"
   },
   {
    "duration": 10,
    "start_time": "2023-07-26T18:26:07.578Z"
   },
   {
    "duration": 18,
    "start_time": "2023-07-26T18:26:07.590Z"
   },
   {
    "duration": 15,
    "start_time": "2023-07-26T18:26:07.610Z"
   },
   {
    "duration": 13,
    "start_time": "2023-07-26T18:26:07.626Z"
   },
   {
    "duration": 12,
    "start_time": "2023-07-26T18:26:07.641Z"
   },
   {
    "duration": 6,
    "start_time": "2023-07-26T18:26:07.655Z"
   },
   {
    "duration": 11,
    "start_time": "2023-07-26T18:26:07.663Z"
   },
   {
    "duration": 13,
    "start_time": "2023-07-26T18:26:07.675Z"
   },
   {
    "duration": 15,
    "start_time": "2023-07-26T18:26:07.689Z"
   },
   {
    "duration": 19,
    "start_time": "2023-07-26T18:26:07.705Z"
   },
   {
    "duration": 5,
    "start_time": "2023-07-26T18:26:07.726Z"
   },
   {
    "duration": 11,
    "start_time": "2023-07-26T18:26:07.732Z"
   },
   {
    "duration": 3,
    "start_time": "2023-07-26T18:26:07.756Z"
   },
   {
    "duration": 4,
    "start_time": "2023-07-26T18:26:07.761Z"
   },
   {
    "duration": 9,
    "start_time": "2023-07-26T18:26:07.767Z"
   },
   {
    "duration": 16,
    "start_time": "2023-07-26T18:26:07.777Z"
   },
   {
    "duration": 10,
    "start_time": "2023-07-26T18:26:07.794Z"
   },
   {
    "duration": 9,
    "start_time": "2023-07-26T18:26:07.805Z"
   },
   {
    "duration": 3,
    "start_time": "2023-07-26T18:26:07.816Z"
   },
   {
    "duration": 16,
    "start_time": "2023-07-26T18:26:07.820Z"
   },
   {
    "duration": 10,
    "start_time": "2023-07-26T18:26:07.856Z"
   },
   {
    "duration": 4,
    "start_time": "2023-07-26T18:26:07.868Z"
   },
   {
    "duration": 12,
    "start_time": "2023-07-26T18:26:07.874Z"
   },
   {
    "duration": 11,
    "start_time": "2023-07-26T18:26:07.887Z"
   },
   {
    "duration": 128,
    "start_time": "2023-07-26T18:26:07.899Z"
   },
   {
    "duration": 12,
    "start_time": "2023-07-26T18:26:08.030Z"
   },
   {
    "duration": 13,
    "start_time": "2023-07-26T18:26:08.043Z"
   },
   {
    "duration": 12,
    "start_time": "2023-07-26T18:26:08.058Z"
   },
   {
    "duration": 16,
    "start_time": "2023-07-26T18:26:08.072Z"
   },
   {
    "duration": 7,
    "start_time": "2023-07-26T18:26:08.090Z"
   },
   {
    "duration": 18,
    "start_time": "2023-07-26T18:26:08.099Z"
   },
   {
    "duration": 166,
    "start_time": "2023-07-26T18:26:08.118Z"
   },
   {
    "duration": 10,
    "start_time": "2023-07-26T18:26:08.286Z"
   },
   {
    "duration": 29,
    "start_time": "2023-07-26T18:26:08.298Z"
   },
   {
    "duration": 31,
    "start_time": "2023-07-26T18:26:08.329Z"
   },
   {
    "duration": 4,
    "start_time": "2023-07-26T18:26:08.361Z"
   },
   {
    "duration": 19,
    "start_time": "2023-07-26T18:26:08.366Z"
   },
   {
    "duration": 11,
    "start_time": "2023-07-26T18:26:08.386Z"
   },
   {
    "duration": 7,
    "start_time": "2023-07-26T18:26:08.398Z"
   },
   {
    "duration": 12,
    "start_time": "2023-07-26T18:26:08.407Z"
   },
   {
    "duration": 36,
    "start_time": "2023-07-26T18:26:08.421Z"
   },
   {
    "duration": 8,
    "start_time": "2023-07-26T18:26:08.459Z"
   },
   {
    "duration": 9,
    "start_time": "2023-07-26T18:26:08.469Z"
   },
   {
    "duration": 9,
    "start_time": "2023-07-26T18:26:08.480Z"
   },
   {
    "duration": 3,
    "start_time": "2023-07-26T18:26:08.491Z"
   },
   {
    "duration": 23,
    "start_time": "2023-07-26T18:26:08.495Z"
   },
   {
    "duration": 7,
    "start_time": "2023-07-26T18:26:08.519Z"
   },
   {
    "duration": 459,
    "start_time": "2023-07-26T18:26:08.555Z"
   },
   {
    "duration": 41,
    "start_time": "2023-07-26T18:26:09.016Z"
   },
   {
    "duration": 48,
    "start_time": "2023-07-26T18:26:09.060Z"
   },
   {
    "duration": 55,
    "start_time": "2023-07-26T18:26:09.110Z"
   },
   {
    "duration": 19,
    "start_time": "2023-07-26T18:26:09.167Z"
   },
   {
    "duration": 16,
    "start_time": "2023-07-26T18:26:09.187Z"
   },
   {
    "duration": 12,
    "start_time": "2023-07-26T18:26:09.205Z"
   },
   {
    "duration": 26,
    "start_time": "2023-07-26T18:26:09.218Z"
   },
   {
    "duration": 8,
    "start_time": "2023-07-26T18:26:09.256Z"
   },
   {
    "duration": 24,
    "start_time": "2023-07-26T18:26:09.266Z"
   },
   {
    "duration": 12,
    "start_time": "2023-07-26T18:26:09.292Z"
   },
   {
    "duration": 12,
    "start_time": "2023-07-26T18:26:09.306Z"
   },
   {
    "duration": 5,
    "start_time": "2023-07-26T18:26:09.319Z"
   },
   {
    "duration": 31,
    "start_time": "2023-07-26T18:26:09.325Z"
   },
   {
    "duration": 10,
    "start_time": "2023-07-26T18:26:09.357Z"
   },
   {
    "duration": 13,
    "start_time": "2023-07-26T18:26:09.368Z"
   },
   {
    "duration": 10,
    "start_time": "2023-07-26T18:26:09.382Z"
   },
   {
    "duration": 5,
    "start_time": "2023-07-26T18:26:09.397Z"
   },
   {
    "duration": 11,
    "start_time": "2023-07-26T18:26:09.404Z"
   },
   {
    "duration": 123,
    "start_time": "2023-07-26T18:26:09.416Z"
   },
   {
    "duration": 293,
    "start_time": "2023-07-26T18:26:09.541Z"
   },
   {
    "duration": 21,
    "start_time": "2023-07-26T18:26:09.836Z"
   },
   {
    "duration": 132,
    "start_time": "2023-07-26T18:26:09.859Z"
   },
   {
    "duration": 11,
    "start_time": "2023-07-26T18:26:09.993Z"
   },
   {
    "duration": 9,
    "start_time": "2023-07-26T18:26:10.006Z"
   },
   {
    "duration": 19,
    "start_time": "2023-07-26T18:26:10.016Z"
   },
   {
    "duration": 13,
    "start_time": "2023-07-26T18:26:10.036Z"
   },
   {
    "duration": 10,
    "start_time": "2023-07-26T18:26:10.050Z"
   },
   {
    "duration": 24,
    "start_time": "2023-07-26T18:26:10.062Z"
   },
   {
    "duration": 9,
    "start_time": "2023-07-26T18:26:10.088Z"
   },
   {
    "duration": 12,
    "start_time": "2023-07-26T18:26:10.099Z"
   },
   {
    "duration": 20,
    "start_time": "2023-07-26T18:26:10.113Z"
   },
   {
    "duration": 9,
    "start_time": "2023-07-26T18:26:10.135Z"
   },
   {
    "duration": 7,
    "start_time": "2023-07-26T18:26:10.146Z"
   },
   {
    "duration": 7,
    "start_time": "2023-07-26T18:26:10.155Z"
   },
   {
    "duration": 7,
    "start_time": "2023-07-26T18:26:10.164Z"
   },
   {
    "duration": 7,
    "start_time": "2023-07-26T18:26:10.172Z"
   },
   {
    "duration": 8,
    "start_time": "2023-07-26T18:26:10.181Z"
   },
   {
    "duration": 5,
    "start_time": "2023-07-26T18:26:10.190Z"
   },
   {
    "duration": 8,
    "start_time": "2023-07-26T18:26:10.197Z"
   },
   {
    "duration": 15,
    "start_time": "2023-07-26T18:26:10.206Z"
   },
   {
    "duration": 33,
    "start_time": "2023-07-26T18:26:10.223Z"
   },
   {
    "duration": 5,
    "start_time": "2023-07-26T18:26:10.258Z"
   },
   {
    "duration": 14,
    "start_time": "2023-07-26T18:26:10.265Z"
   },
   {
    "duration": 8,
    "start_time": "2023-07-26T18:26:10.281Z"
   },
   {
    "duration": 42,
    "start_time": "2023-07-26T18:26:10.291Z"
   },
   {
    "duration": 6,
    "start_time": "2023-07-26T18:26:10.335Z"
   },
   {
    "duration": 6,
    "start_time": "2023-07-26T18:26:10.342Z"
   },
   {
    "duration": 1316,
    "start_time": "2023-07-26T18:27:30.519Z"
   },
   {
    "duration": 28,
    "start_time": "2023-07-26T18:27:31.837Z"
   },
   {
    "duration": 21,
    "start_time": "2023-07-26T18:27:31.866Z"
   },
   {
    "duration": 40,
    "start_time": "2023-07-26T18:27:31.889Z"
   },
   {
    "duration": 25,
    "start_time": "2023-07-26T18:27:31.931Z"
   },
   {
    "duration": 72,
    "start_time": "2023-07-26T18:27:31.957Z"
   },
   {
    "duration": 8,
    "start_time": "2023-07-26T18:27:32.031Z"
   },
   {
    "duration": 28,
    "start_time": "2023-07-26T18:27:32.040Z"
   },
   {
    "duration": 489,
    "start_time": "2023-07-26T18:27:32.070Z"
   },
   {
    "duration": 9,
    "start_time": "2023-07-26T18:27:32.561Z"
   },
   {
    "duration": 57,
    "start_time": "2023-07-26T18:27:32.572Z"
   },
   {
    "duration": 34,
    "start_time": "2023-07-26T18:27:32.630Z"
   },
   {
    "duration": 8,
    "start_time": "2023-07-26T18:27:32.666Z"
   },
   {
    "duration": 28,
    "start_time": "2023-07-26T18:27:32.675Z"
   },
   {
    "duration": 33,
    "start_time": "2023-07-26T18:27:32.704Z"
   },
   {
    "duration": 284,
    "start_time": "2023-07-26T18:27:32.738Z"
   },
   {
    "duration": 9,
    "start_time": "2023-07-26T18:27:33.024Z"
   },
   {
    "duration": 4,
    "start_time": "2023-07-26T18:27:33.035Z"
   },
   {
    "duration": 36,
    "start_time": "2023-07-26T18:27:33.056Z"
   },
   {
    "duration": 13,
    "start_time": "2023-07-26T18:27:33.094Z"
   },
   {
    "duration": 15,
    "start_time": "2023-07-26T18:27:33.109Z"
   },
   {
    "duration": 110,
    "start_time": "2023-07-26T18:27:33.125Z"
   },
   {
    "duration": 51,
    "start_time": "2023-07-26T18:27:33.237Z"
   },
   {
    "duration": 8,
    "start_time": "2023-07-26T18:27:33.290Z"
   },
   {
    "duration": 5,
    "start_time": "2023-07-26T18:27:33.300Z"
   },
   {
    "duration": 6,
    "start_time": "2023-07-26T18:27:33.306Z"
   },
   {
    "duration": 14,
    "start_time": "2023-07-26T18:27:33.313Z"
   },
   {
    "duration": 44,
    "start_time": "2023-07-26T18:27:33.330Z"
   },
   {
    "duration": 53,
    "start_time": "2023-07-26T18:27:33.375Z"
   },
   {
    "duration": 33,
    "start_time": "2023-07-26T18:27:33.430Z"
   },
   {
    "duration": 10,
    "start_time": "2023-07-26T18:27:33.464Z"
   },
   {
    "duration": 8,
    "start_time": "2023-07-26T18:27:33.475Z"
   },
   {
    "duration": 11,
    "start_time": "2023-07-26T18:27:33.484Z"
   },
   {
    "duration": 7,
    "start_time": "2023-07-26T18:27:33.496Z"
   },
   {
    "duration": 17,
    "start_time": "2023-07-26T18:27:33.505Z"
   },
   {
    "duration": 6,
    "start_time": "2023-07-26T18:27:33.523Z"
   },
   {
    "duration": 27,
    "start_time": "2023-07-26T18:27:33.530Z"
   },
   {
    "duration": 5,
    "start_time": "2023-07-26T18:27:33.559Z"
   },
   {
    "duration": 6,
    "start_time": "2023-07-26T18:27:33.565Z"
   },
   {
    "duration": 5,
    "start_time": "2023-07-26T18:27:33.573Z"
   },
   {
    "duration": 20,
    "start_time": "2023-07-26T18:27:33.579Z"
   },
   {
    "duration": 5,
    "start_time": "2023-07-26T18:27:33.600Z"
   },
   {
    "duration": 53,
    "start_time": "2023-07-26T18:27:33.607Z"
   },
   {
    "duration": 7,
    "start_time": "2023-07-26T18:27:33.662Z"
   },
   {
    "duration": 12,
    "start_time": "2023-07-26T18:27:33.670Z"
   },
   {
    "duration": 18,
    "start_time": "2023-07-26T18:27:33.683Z"
   },
   {
    "duration": 32,
    "start_time": "2023-07-26T18:27:33.702Z"
   },
   {
    "duration": 19,
    "start_time": "2023-07-26T18:27:33.735Z"
   },
   {
    "duration": 11,
    "start_time": "2023-07-26T18:27:33.756Z"
   },
   {
    "duration": 13,
    "start_time": "2023-07-26T18:27:33.769Z"
   },
   {
    "duration": 23,
    "start_time": "2023-07-26T18:27:33.783Z"
   },
   {
    "duration": 7,
    "start_time": "2023-07-26T18:27:33.808Z"
   },
   {
    "duration": 9,
    "start_time": "2023-07-26T18:27:33.816Z"
   },
   {
    "duration": 5,
    "start_time": "2023-07-26T18:27:33.827Z"
   },
   {
    "duration": 23,
    "start_time": "2023-07-26T18:27:33.833Z"
   },
   {
    "duration": 9,
    "start_time": "2023-07-26T18:27:33.858Z"
   },
   {
    "duration": 10,
    "start_time": "2023-07-26T18:27:33.869Z"
   },
   {
    "duration": 11,
    "start_time": "2023-07-26T18:27:33.881Z"
   },
   {
    "duration": 5,
    "start_time": "2023-07-26T18:27:33.894Z"
   },
   {
    "duration": 6,
    "start_time": "2023-07-26T18:27:33.901Z"
   },
   {
    "duration": 11,
    "start_time": "2023-07-26T18:27:33.909Z"
   },
   {
    "duration": 14,
    "start_time": "2023-07-26T18:27:33.921Z"
   },
   {
    "duration": 24,
    "start_time": "2023-07-26T18:27:33.936Z"
   },
   {
    "duration": 13,
    "start_time": "2023-07-26T18:27:33.961Z"
   },
   {
    "duration": 7,
    "start_time": "2023-07-26T18:27:33.976Z"
   },
   {
    "duration": 18,
    "start_time": "2023-07-26T18:27:33.984Z"
   },
   {
    "duration": 23,
    "start_time": "2023-07-26T18:27:34.004Z"
   },
   {
    "duration": 5,
    "start_time": "2023-07-26T18:27:34.029Z"
   },
   {
    "duration": 21,
    "start_time": "2023-07-26T18:27:34.035Z"
   },
   {
    "duration": 4,
    "start_time": "2023-07-26T18:27:34.058Z"
   },
   {
    "duration": 5,
    "start_time": "2023-07-26T18:27:34.063Z"
   },
   {
    "duration": 9,
    "start_time": "2023-07-26T18:27:34.069Z"
   },
   {
    "duration": 7,
    "start_time": "2023-07-26T18:27:34.080Z"
   },
   {
    "duration": 11,
    "start_time": "2023-07-26T18:27:34.089Z"
   },
   {
    "duration": 9,
    "start_time": "2023-07-26T18:27:34.101Z"
   },
   {
    "duration": 9,
    "start_time": "2023-07-26T18:27:34.111Z"
   },
   {
    "duration": 11,
    "start_time": "2023-07-26T18:27:34.121Z"
   },
   {
    "duration": 14,
    "start_time": "2023-07-26T18:27:34.157Z"
   },
   {
    "duration": 5,
    "start_time": "2023-07-26T18:27:34.172Z"
   },
   {
    "duration": 14,
    "start_time": "2023-07-26T18:27:34.179Z"
   },
   {
    "duration": 12,
    "start_time": "2023-07-26T18:27:34.194Z"
   },
   {
    "duration": 121,
    "start_time": "2023-07-26T18:27:34.213Z"
   },
   {
    "duration": 11,
    "start_time": "2023-07-26T18:27:34.335Z"
   },
   {
    "duration": 4,
    "start_time": "2023-07-26T18:27:34.356Z"
   },
   {
    "duration": 10,
    "start_time": "2023-07-26T18:27:34.361Z"
   },
   {
    "duration": 12,
    "start_time": "2023-07-26T18:27:34.373Z"
   },
   {
    "duration": 6,
    "start_time": "2023-07-26T18:27:34.387Z"
   },
   {
    "duration": 13,
    "start_time": "2023-07-26T18:27:34.395Z"
   },
   {
    "duration": 162,
    "start_time": "2023-07-26T18:27:34.410Z"
   },
   {
    "duration": 11,
    "start_time": "2023-07-26T18:27:34.574Z"
   },
   {
    "duration": 24,
    "start_time": "2023-07-26T18:27:34.587Z"
   },
   {
    "duration": 14,
    "start_time": "2023-07-26T18:27:34.613Z"
   },
   {
    "duration": 3,
    "start_time": "2023-07-26T18:27:34.628Z"
   },
   {
    "duration": 35,
    "start_time": "2023-07-26T18:27:34.632Z"
   },
   {
    "duration": 12,
    "start_time": "2023-07-26T18:27:34.669Z"
   },
   {
    "duration": 7,
    "start_time": "2023-07-26T18:27:34.682Z"
   },
   {
    "duration": 12,
    "start_time": "2023-07-26T18:27:34.690Z"
   },
   {
    "duration": 6,
    "start_time": "2023-07-26T18:27:34.703Z"
   },
   {
    "duration": 5,
    "start_time": "2023-07-26T18:27:34.711Z"
   },
   {
    "duration": 40,
    "start_time": "2023-07-26T18:27:34.717Z"
   },
   {
    "duration": 6,
    "start_time": "2023-07-26T18:27:34.759Z"
   },
   {
    "duration": 3,
    "start_time": "2023-07-26T18:27:34.766Z"
   },
   {
    "duration": 10,
    "start_time": "2023-07-26T18:27:34.771Z"
   },
   {
    "duration": 5,
    "start_time": "2023-07-26T18:27:34.783Z"
   },
   {
    "duration": 416,
    "start_time": "2023-07-26T18:27:34.789Z"
   },
   {
    "duration": 4,
    "start_time": "2023-07-26T18:27:35.206Z"
   },
   {
    "duration": 53,
    "start_time": "2023-07-26T18:27:35.212Z"
   },
   {
    "duration": 9,
    "start_time": "2023-07-26T18:27:35.267Z"
   },
   {
    "duration": 13,
    "start_time": "2023-07-26T18:27:35.278Z"
   },
   {
    "duration": 71,
    "start_time": "2023-07-26T18:27:35.293Z"
   },
   {
    "duration": 13,
    "start_time": "2023-07-26T18:27:35.365Z"
   },
   {
    "duration": 20,
    "start_time": "2023-07-26T18:27:35.380Z"
   },
   {
    "duration": 8,
    "start_time": "2023-07-26T18:27:35.402Z"
   },
   {
    "duration": 20,
    "start_time": "2023-07-26T18:27:35.411Z"
   },
   {
    "duration": 33,
    "start_time": "2023-07-26T18:27:35.432Z"
   },
   {
    "duration": 9,
    "start_time": "2023-07-26T18:27:35.467Z"
   },
   {
    "duration": 18,
    "start_time": "2023-07-26T18:27:35.478Z"
   },
   {
    "duration": 6,
    "start_time": "2023-07-26T18:27:35.498Z"
   },
   {
    "duration": 10,
    "start_time": "2023-07-26T18:27:35.506Z"
   },
   {
    "duration": 16,
    "start_time": "2023-07-26T18:27:35.518Z"
   },
   {
    "duration": 8,
    "start_time": "2023-07-26T18:27:35.536Z"
   },
   {
    "duration": 6,
    "start_time": "2023-07-26T18:27:35.556Z"
   },
   {
    "duration": 17,
    "start_time": "2023-07-26T18:27:35.564Z"
   },
   {
    "duration": 18,
    "start_time": "2023-07-26T18:27:35.583Z"
   },
   {
    "duration": 394,
    "start_time": "2023-07-26T18:27:35.603Z"
   },
   {
    "duration": 12,
    "start_time": "2023-07-26T18:27:35.999Z"
   },
   {
    "duration": 150,
    "start_time": "2023-07-26T18:27:36.013Z"
   },
   {
    "duration": 12,
    "start_time": "2023-07-26T18:27:36.164Z"
   },
   {
    "duration": 11,
    "start_time": "2023-07-26T18:27:36.178Z"
   },
   {
    "duration": 5,
    "start_time": "2023-07-26T18:27:36.190Z"
   },
   {
    "duration": 10,
    "start_time": "2023-07-26T18:27:36.197Z"
   },
   {
    "duration": 6,
    "start_time": "2023-07-26T18:27:36.209Z"
   },
   {
    "duration": 10,
    "start_time": "2023-07-26T18:27:36.216Z"
   },
   {
    "duration": 33,
    "start_time": "2023-07-26T18:27:36.228Z"
   },
   {
    "duration": 17,
    "start_time": "2023-07-26T18:27:36.263Z"
   },
   {
    "duration": 25,
    "start_time": "2023-07-26T18:27:36.282Z"
   },
   {
    "duration": 6,
    "start_time": "2023-07-26T18:27:36.308Z"
   },
   {
    "duration": 4,
    "start_time": "2023-07-26T18:27:36.316Z"
   },
   {
    "duration": 13,
    "start_time": "2023-07-26T18:27:36.321Z"
   },
   {
    "duration": 27,
    "start_time": "2023-07-26T18:27:36.335Z"
   },
   {
    "duration": 5,
    "start_time": "2023-07-26T18:27:36.363Z"
   },
   {
    "duration": 19,
    "start_time": "2023-07-26T18:27:36.370Z"
   },
   {
    "duration": 5,
    "start_time": "2023-07-26T18:27:36.390Z"
   },
   {
    "duration": 14,
    "start_time": "2023-07-26T18:27:36.396Z"
   },
   {
    "duration": 16,
    "start_time": "2023-07-26T18:27:36.411Z"
   },
   {
    "duration": 13,
    "start_time": "2023-07-26T18:27:36.428Z"
   },
   {
    "duration": 5,
    "start_time": "2023-07-26T18:27:36.442Z"
   },
   {
    "duration": 8,
    "start_time": "2023-07-26T18:27:36.456Z"
   },
   {
    "duration": 12,
    "start_time": "2023-07-26T18:27:36.466Z"
   },
   {
    "duration": 8,
    "start_time": "2023-07-26T18:27:36.480Z"
   },
   {
    "duration": 14,
    "start_time": "2023-07-26T18:27:36.489Z"
   },
   {
    "duration": 6,
    "start_time": "2023-07-26T18:27:36.505Z"
   },
   {
    "duration": 1479,
    "start_time": "2023-07-27T18:03:34.745Z"
   },
   {
    "duration": 86,
    "start_time": "2023-07-27T18:03:36.226Z"
   },
   {
    "duration": 4,
    "start_time": "2023-07-27T18:03:36.314Z"
   },
   {
    "duration": 22,
    "start_time": "2023-07-27T18:03:36.320Z"
   },
   {
    "duration": 10,
    "start_time": "2023-07-27T18:03:36.345Z"
   },
   {
    "duration": 257,
    "start_time": "2023-07-27T18:03:36.356Z"
   },
   {
    "duration": 9,
    "start_time": "2023-07-27T18:03:36.615Z"
   },
   {
    "duration": 16,
    "start_time": "2023-07-27T18:03:36.626Z"
   },
   {
    "duration": 2175,
    "start_time": "2023-07-27T18:03:36.644Z"
   },
   {
    "duration": 10,
    "start_time": "2023-07-27T18:03:38.821Z"
   },
   {
    "duration": 68,
    "start_time": "2023-07-27T18:03:38.832Z"
   },
   {
    "duration": 135,
    "start_time": "2023-07-27T18:03:38.902Z"
   },
   {
    "duration": 9,
    "start_time": "2023-07-27T18:03:39.039Z"
   },
   {
    "duration": 17,
    "start_time": "2023-07-27T18:03:39.052Z"
   },
   {
    "duration": 45,
    "start_time": "2023-07-27T18:03:39.074Z"
   },
   {
    "duration": 363,
    "start_time": "2023-07-27T18:03:39.121Z"
   },
   {
    "duration": 10,
    "start_time": "2023-07-27T18:03:39.486Z"
   },
   {
    "duration": 6,
    "start_time": "2023-07-27T18:03:39.497Z"
   },
   {
    "duration": 78,
    "start_time": "2023-07-27T18:03:39.505Z"
   },
   {
    "duration": 11,
    "start_time": "2023-07-27T18:03:39.585Z"
   },
   {
    "duration": 17,
    "start_time": "2023-07-27T18:03:39.597Z"
   },
   {
    "duration": 96,
    "start_time": "2023-07-27T18:03:39.616Z"
   },
   {
    "duration": 52,
    "start_time": "2023-07-27T18:03:39.713Z"
   },
   {
    "duration": 17,
    "start_time": "2023-07-27T18:03:39.766Z"
   },
   {
    "duration": 7,
    "start_time": "2023-07-27T18:03:39.784Z"
   },
   {
    "duration": 9,
    "start_time": "2023-07-27T18:03:39.793Z"
   },
   {
    "duration": 16,
    "start_time": "2023-07-27T18:03:39.804Z"
   },
   {
    "duration": 25,
    "start_time": "2023-07-27T18:03:39.822Z"
   },
   {
    "duration": 72,
    "start_time": "2023-07-27T18:03:39.849Z"
   },
   {
    "duration": 22,
    "start_time": "2023-07-27T18:03:39.923Z"
   },
   {
    "duration": 24,
    "start_time": "2023-07-27T18:03:39.947Z"
   },
   {
    "duration": 12,
    "start_time": "2023-07-27T18:03:39.973Z"
   },
   {
    "duration": 8,
    "start_time": "2023-07-27T18:03:39.987Z"
   },
   {
    "duration": 8,
    "start_time": "2023-07-27T18:03:39.997Z"
   },
   {
    "duration": 23,
    "start_time": "2023-07-27T18:03:40.006Z"
   },
   {
    "duration": 13,
    "start_time": "2023-07-27T18:03:40.031Z"
   },
   {
    "duration": 26,
    "start_time": "2023-07-27T18:03:40.046Z"
   },
   {
    "duration": 28,
    "start_time": "2023-07-27T18:03:40.074Z"
   },
   {
    "duration": 9,
    "start_time": "2023-07-27T18:03:40.104Z"
   },
   {
    "duration": 6,
    "start_time": "2023-07-27T18:03:40.114Z"
   },
   {
    "duration": 11,
    "start_time": "2023-07-27T18:03:40.125Z"
   },
   {
    "duration": 8,
    "start_time": "2023-07-27T18:03:40.138Z"
   },
   {
    "duration": 45,
    "start_time": "2023-07-27T18:03:40.147Z"
   },
   {
    "duration": 8,
    "start_time": "2023-07-27T18:03:40.194Z"
   },
   {
    "duration": 9,
    "start_time": "2023-07-27T18:03:40.203Z"
   },
   {
    "duration": 23,
    "start_time": "2023-07-27T18:03:40.213Z"
   },
   {
    "duration": 10,
    "start_time": "2023-07-27T18:03:40.238Z"
   },
   {
    "duration": 23,
    "start_time": "2023-07-27T18:03:40.250Z"
   },
   {
    "duration": 15,
    "start_time": "2023-07-27T18:03:40.274Z"
   },
   {
    "duration": 14,
    "start_time": "2023-07-27T18:03:40.291Z"
   },
   {
    "duration": 15,
    "start_time": "2023-07-27T18:03:40.306Z"
   },
   {
    "duration": 4,
    "start_time": "2023-07-27T18:03:40.323Z"
   },
   {
    "duration": 33,
    "start_time": "2023-07-27T18:03:40.329Z"
   },
   {
    "duration": 9,
    "start_time": "2023-07-27T18:03:40.368Z"
   },
   {
    "duration": 7,
    "start_time": "2023-07-27T18:03:40.380Z"
   },
   {
    "duration": 13,
    "start_time": "2023-07-27T18:03:40.389Z"
   },
   {
    "duration": 12,
    "start_time": "2023-07-27T18:03:40.403Z"
   },
   {
    "duration": 13,
    "start_time": "2023-07-27T18:03:40.417Z"
   },
   {
    "duration": 7,
    "start_time": "2023-07-27T18:03:40.432Z"
   },
   {
    "duration": 22,
    "start_time": "2023-07-27T18:03:40.441Z"
   },
   {
    "duration": 14,
    "start_time": "2023-07-27T18:03:40.472Z"
   },
   {
    "duration": 13,
    "start_time": "2023-07-27T18:03:40.488Z"
   },
   {
    "duration": 5,
    "start_time": "2023-07-27T18:03:40.503Z"
   },
   {
    "duration": 8,
    "start_time": "2023-07-27T18:03:40.509Z"
   },
   {
    "duration": 8,
    "start_time": "2023-07-27T18:03:40.518Z"
   },
   {
    "duration": 7,
    "start_time": "2023-07-27T18:03:40.527Z"
   },
   {
    "duration": 20,
    "start_time": "2023-07-27T18:03:40.535Z"
   },
   {
    "duration": 18,
    "start_time": "2023-07-27T18:03:40.560Z"
   },
   {
    "duration": 14,
    "start_time": "2023-07-27T18:03:40.580Z"
   },
   {
    "duration": 9,
    "start_time": "2023-07-27T18:03:40.595Z"
   },
   {
    "duration": 8,
    "start_time": "2023-07-27T18:03:40.605Z"
   },
   {
    "duration": 10,
    "start_time": "2023-07-27T18:03:40.614Z"
   },
   {
    "duration": 8,
    "start_time": "2023-07-27T18:03:40.625Z"
   },
   {
    "duration": 14,
    "start_time": "2023-07-27T18:03:40.635Z"
   },
   {
    "duration": 20,
    "start_time": "2023-07-27T18:03:40.651Z"
   },
   {
    "duration": 6,
    "start_time": "2023-07-27T18:03:40.672Z"
   },
   {
    "duration": 15,
    "start_time": "2023-07-27T18:03:40.680Z"
   },
   {
    "duration": 12,
    "start_time": "2023-07-27T18:03:40.696Z"
   },
   {
    "duration": 6,
    "start_time": "2023-07-27T18:03:40.710Z"
   },
   {
    "duration": 19,
    "start_time": "2023-07-27T18:03:40.717Z"
   },
   {
    "duration": 12,
    "start_time": "2023-07-27T18:03:40.738Z"
   },
   {
    "duration": 143,
    "start_time": "2023-07-27T18:03:40.751Z"
   },
   {
    "duration": 11,
    "start_time": "2023-07-27T18:03:40.896Z"
   },
   {
    "duration": 5,
    "start_time": "2023-07-27T18:03:40.909Z"
   },
   {
    "duration": 10,
    "start_time": "2023-07-27T18:03:40.916Z"
   },
   {
    "duration": 31,
    "start_time": "2023-07-27T18:03:40.928Z"
   },
   {
    "duration": 22,
    "start_time": "2023-07-27T18:03:40.961Z"
   },
   {
    "duration": 12,
    "start_time": "2023-07-27T18:03:40.985Z"
   },
   {
    "duration": 195,
    "start_time": "2023-07-27T18:03:40.998Z"
   },
   {
    "duration": 12,
    "start_time": "2023-07-27T18:03:41.194Z"
   },
   {
    "duration": 40,
    "start_time": "2023-07-27T18:03:41.208Z"
   },
   {
    "duration": 32,
    "start_time": "2023-07-27T18:03:41.250Z"
   },
   {
    "duration": 7,
    "start_time": "2023-07-27T18:03:41.284Z"
   },
   {
    "duration": 20,
    "start_time": "2023-07-27T18:03:41.293Z"
   },
   {
    "duration": 10,
    "start_time": "2023-07-27T18:03:41.315Z"
   },
   {
    "duration": 11,
    "start_time": "2023-07-27T18:03:41.326Z"
   },
   {
    "duration": 25,
    "start_time": "2023-07-27T18:03:41.338Z"
   },
   {
    "duration": 7,
    "start_time": "2023-07-27T18:03:41.369Z"
   },
   {
    "duration": 18,
    "start_time": "2023-07-27T18:03:41.377Z"
   },
   {
    "duration": 10,
    "start_time": "2023-07-27T18:03:41.397Z"
   },
   {
    "duration": 11,
    "start_time": "2023-07-27T18:03:41.409Z"
   },
   {
    "duration": 4,
    "start_time": "2023-07-27T18:03:41.421Z"
   },
   {
    "duration": 14,
    "start_time": "2023-07-27T18:03:41.426Z"
   },
   {
    "duration": 6,
    "start_time": "2023-07-27T18:03:41.441Z"
   },
   {
    "duration": 766,
    "start_time": "2023-07-27T18:03:41.455Z"
   },
   {
    "duration": 3,
    "start_time": "2023-07-27T18:03:42.223Z"
   },
   {
    "duration": 57,
    "start_time": "2023-07-27T18:03:42.227Z"
   },
   {
    "duration": 9,
    "start_time": "2023-07-27T18:03:42.289Z"
   },
   {
    "duration": 61,
    "start_time": "2023-07-27T18:03:42.300Z"
   },
   {
    "duration": 22,
    "start_time": "2023-07-27T18:03:42.364Z"
   },
   {
    "duration": 11,
    "start_time": "2023-07-27T18:03:42.388Z"
   },
   {
    "duration": 9,
    "start_time": "2023-07-27T18:03:42.400Z"
   },
   {
    "duration": 5,
    "start_time": "2023-07-27T18:03:42.411Z"
   },
   {
    "duration": 15,
    "start_time": "2023-07-27T18:03:42.418Z"
   },
   {
    "duration": 18,
    "start_time": "2023-07-27T18:03:42.457Z"
   },
   {
    "duration": 10,
    "start_time": "2023-07-27T18:03:42.477Z"
   },
   {
    "duration": 4,
    "start_time": "2023-07-27T18:03:42.489Z"
   },
   {
    "duration": 14,
    "start_time": "2023-07-27T18:03:42.494Z"
   },
   {
    "duration": 11,
    "start_time": "2023-07-27T18:03:42.509Z"
   },
   {
    "duration": 8,
    "start_time": "2023-07-27T18:03:42.522Z"
   },
   {
    "duration": 36,
    "start_time": "2023-07-27T18:03:42.531Z"
   },
   {
    "duration": 6,
    "start_time": "2023-07-27T18:03:42.576Z"
   },
   {
    "duration": 13,
    "start_time": "2023-07-27T18:03:42.584Z"
   },
   {
    "duration": 120,
    "start_time": "2023-07-27T18:03:42.598Z"
   },
   {
    "duration": 349,
    "start_time": "2023-07-27T18:03:42.720Z"
   },
   {
    "duration": 18,
    "start_time": "2023-07-27T18:03:43.071Z"
   },
   {
    "duration": 207,
    "start_time": "2023-07-27T18:03:43.091Z"
   },
   {
    "duration": 14,
    "start_time": "2023-07-27T18:03:43.300Z"
   },
   {
    "duration": 44,
    "start_time": "2023-07-27T18:03:43.315Z"
   },
   {
    "duration": 121,
    "start_time": "2023-07-27T18:03:43.361Z"
   },
   {
    "duration": 12,
    "start_time": "2023-07-27T18:03:43.484Z"
   },
   {
    "duration": 11,
    "start_time": "2023-07-27T18:03:43.498Z"
   },
   {
    "duration": 18,
    "start_time": "2023-07-27T18:03:43.511Z"
   },
   {
    "duration": 8,
    "start_time": "2023-07-27T18:03:43.530Z"
   },
   {
    "duration": 40,
    "start_time": "2023-07-27T18:03:43.539Z"
   },
   {
    "duration": 21,
    "start_time": "2023-07-27T18:03:43.582Z"
   },
   {
    "duration": 6,
    "start_time": "2023-07-27T18:03:43.604Z"
   },
   {
    "duration": 4,
    "start_time": "2023-07-27T18:03:43.612Z"
   },
   {
    "duration": 6,
    "start_time": "2023-07-27T18:03:43.617Z"
   },
   {
    "duration": 21,
    "start_time": "2023-07-27T18:03:43.624Z"
   },
   {
    "duration": 22,
    "start_time": "2023-07-27T18:03:43.646Z"
   },
   {
    "duration": 12,
    "start_time": "2023-07-27T18:03:43.670Z"
   },
   {
    "duration": 6,
    "start_time": "2023-07-27T18:03:43.684Z"
   },
   {
    "duration": 11,
    "start_time": "2023-07-27T18:03:43.692Z"
   },
   {
    "duration": 15,
    "start_time": "2023-07-27T18:03:43.705Z"
   },
   {
    "duration": 13,
    "start_time": "2023-07-27T18:03:43.722Z"
   },
   {
    "duration": 23,
    "start_time": "2023-07-27T18:03:43.736Z"
   },
   {
    "duration": 22,
    "start_time": "2023-07-27T18:03:43.761Z"
   },
   {
    "duration": 10,
    "start_time": "2023-07-27T18:03:43.785Z"
   },
   {
    "duration": 15,
    "start_time": "2023-07-27T18:03:43.796Z"
   },
   {
    "duration": 13,
    "start_time": "2023-07-27T18:03:43.813Z"
   },
   {
    "duration": 9,
    "start_time": "2023-07-27T18:03:43.828Z"
   }
  ],
  "kernelspec": {
   "display_name": "Python 3 (ipykernel)",
   "language": "python",
   "name": "python3"
  },
  "language_info": {
   "codemirror_mode": {
    "name": "ipython",
    "version": 3
   },
   "file_extension": ".py",
   "mimetype": "text/x-python",
   "name": "python",
   "nbconvert_exporter": "python",
   "pygments_lexer": "ipython3",
   "version": "3.9.16"
  },
  "toc": {
   "base_numbering": 1,
   "nav_menu": {},
   "number_sections": true,
   "sideBar": true,
   "skip_h1_title": true,
   "title_cell": "Table of Contents",
   "title_sidebar": "Contents",
   "toc_cell": false,
   "toc_position": {
    "height": "calc(100% - 180px)",
    "left": "10px",
    "top": "150px",
    "width": "290.417px"
   },
   "toc_section_display": true,
   "toc_window_display": true
  }
 },
 "nbformat": 4,
 "nbformat_minor": 2
}
