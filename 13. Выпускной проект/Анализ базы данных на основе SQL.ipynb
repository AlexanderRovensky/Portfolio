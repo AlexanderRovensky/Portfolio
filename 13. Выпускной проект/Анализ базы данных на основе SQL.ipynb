{
 "cells": [
  {
   "cell_type": "markdown",
   "metadata": {},
   "source": [
    "# Анализ базы данных на основе SQL"
   ]
  },
  {
   "cell_type": "markdown",
   "metadata": {},
   "source": [
    "Коронавирус застал мир врасплох, изменив привычный порядок вещей. В свободное время жители городов больше не выходят на улицу, не посещают кафе и торговые центры. Зато стало больше времени для книг. Это заметили стартаперы — и бросились создавать приложения для тех, кто любит читать.\n",
    "Ваша компания решила быть на волне и купила крупный сервис для чтения книг по подписке."
   ]
  },
  {
   "cell_type": "markdown",
   "metadata": {},
   "source": [
    "__Цель работы:__ сформулировать ценностное предложение для нового продукта"
   ]
  },
  {
   "cell_type": "markdown",
   "metadata": {},
   "source": [
    "__Ход исследования__\n",
    "\n",
    "Необходимые для исследования данные я получу из таблиц books, authors, publishers, reviews. О качестве данных ничего не известно. Ознаколюсь с таблицами. Опираясь на имеющиеся данные получу ответы на вопросы:  \n",
    "- сколько книг вышло после 1 января 2000 года;\n",
    "- для каждой книги посчитаем количество обзоров и среднюю оценку;\n",
    "- определим издательство, которое выпустило наибольшее число книг толще 50 страниц — так вы исключите из анализа брошюры;\n",
    "- определим автора с самой высокой средней оценкой книг — учитывайте только книги с 50 и более оценками;\n",
    "- посчитайте среднее количество обзоров от пользователей, которые поставили больше 48 оценок."
   ]
  },
  {
   "cell_type": "markdown",
   "metadata": {},
   "source": [
    "## Ознакомление с данными"
   ]
  },
  {
   "cell_type": "markdown",
   "metadata": {},
   "source": [
    "Выведем 5 сток каждой из таблиц"
   ]
  },
  {
   "cell_type": "code",
   "execution_count": 1,
   "metadata": {},
   "outputs": [],
   "source": [
    "import pandas as pd\n",
    "from sqlalchemy import text, create_engine\n",
    "\n",
    "db_config = {'user': 'praktikum_student', # имя пользователя\n",
    "'pwd': 'Sdf4$2;d-d30pp', # пароль\n",
    "'host': 'rc1b-wcoijxj3yxfsf3fs.mdb.yandexcloud.net',\n",
    "'port': 6432, # порт подключения\n",
    "'db': 'data-analyst-final-project-db'} # название базы данных\n",
    "connection_string = 'postgresql://{user}:{pwd}@{host}:{port}/{db}'.format(**db_config)\n",
    "\n",
    "engine = create_engine(connection_string, connect_args={'sslmode':'require'})"
   ]
  },
  {
   "cell_type": "markdown",
   "metadata": {},
   "source": [
    "Выведем таблицу books"
   ]
  },
  {
   "cell_type": "code",
   "execution_count": 2,
   "metadata": {},
   "outputs": [
    {
     "data": {
      "text/html": [
       "<div>\n",
       "<style scoped>\n",
       "    .dataframe tbody tr th:only-of-type {\n",
       "        vertical-align: middle;\n",
       "    }\n",
       "\n",
       "    .dataframe tbody tr th {\n",
       "        vertical-align: top;\n",
       "    }\n",
       "\n",
       "    .dataframe thead th {\n",
       "        text-align: right;\n",
       "    }\n",
       "</style>\n",
       "<table border=\"1\" class=\"dataframe\">\n",
       "  <thead>\n",
       "    <tr style=\"text-align: right;\">\n",
       "      <th></th>\n",
       "      <th>book_id</th>\n",
       "      <th>author_id</th>\n",
       "      <th>title</th>\n",
       "      <th>num_pages</th>\n",
       "      <th>publication_date</th>\n",
       "      <th>publisher_id</th>\n",
       "    </tr>\n",
       "  </thead>\n",
       "  <tbody>\n",
       "    <tr>\n",
       "      <th>0</th>\n",
       "      <td>1</td>\n",
       "      <td>546</td>\n",
       "      <td>'Salem's Lot</td>\n",
       "      <td>594</td>\n",
       "      <td>2005-11-01</td>\n",
       "      <td>93</td>\n",
       "    </tr>\n",
       "    <tr>\n",
       "      <th>1</th>\n",
       "      <td>2</td>\n",
       "      <td>465</td>\n",
       "      <td>1 000 Places to See Before You Die</td>\n",
       "      <td>992</td>\n",
       "      <td>2003-05-22</td>\n",
       "      <td>336</td>\n",
       "    </tr>\n",
       "    <tr>\n",
       "      <th>2</th>\n",
       "      <td>3</td>\n",
       "      <td>407</td>\n",
       "      <td>13 Little Blue Envelopes (Little Blue Envelope...</td>\n",
       "      <td>322</td>\n",
       "      <td>2010-12-21</td>\n",
       "      <td>135</td>\n",
       "    </tr>\n",
       "    <tr>\n",
       "      <th>3</th>\n",
       "      <td>4</td>\n",
       "      <td>82</td>\n",
       "      <td>1491: New Revelations of the Americas Before C...</td>\n",
       "      <td>541</td>\n",
       "      <td>2006-10-10</td>\n",
       "      <td>309</td>\n",
       "    </tr>\n",
       "    <tr>\n",
       "      <th>4</th>\n",
       "      <td>5</td>\n",
       "      <td>125</td>\n",
       "      <td>1776</td>\n",
       "      <td>386</td>\n",
       "      <td>2006-07-04</td>\n",
       "      <td>268</td>\n",
       "    </tr>\n",
       "  </tbody>\n",
       "</table>\n",
       "</div>"
      ],
      "text/plain": [
       "   book_id  author_id                                              title  \\\n",
       "0        1        546                                       'Salem's Lot   \n",
       "1        2        465                 1 000 Places to See Before You Die   \n",
       "2        3        407  13 Little Blue Envelopes (Little Blue Envelope...   \n",
       "3        4         82  1491: New Revelations of the Americas Before C...   \n",
       "4        5        125                                               1776   \n",
       "\n",
       "   num_pages publication_date  publisher_id  \n",
       "0        594       2005-11-01            93  \n",
       "1        992       2003-05-22           336  \n",
       "2        322       2010-12-21           135  \n",
       "3        541       2006-10-10           309  \n",
       "4        386       2006-07-04           268  "
      ]
     },
     "execution_count": 2,
     "metadata": {},
     "output_type": "execute_result"
    }
   ],
   "source": [
    "\n",
    "query = '''SELECT * FROM books LIMIT 5'''\n",
    "\n",
    "con=engine.connect()\n",
    "\n",
    "pd.io.sql.read_sql(sql=text(query), con = con)"
   ]
  },
  {
   "cell_type": "markdown",
   "metadata": {},
   "source": [
    "Выведем таблицу authors"
   ]
  },
  {
   "cell_type": "code",
   "execution_count": 3,
   "metadata": {},
   "outputs": [
    {
     "data": {
      "text/html": [
       "<div>\n",
       "<style scoped>\n",
       "    .dataframe tbody tr th:only-of-type {\n",
       "        vertical-align: middle;\n",
       "    }\n",
       "\n",
       "    .dataframe tbody tr th {\n",
       "        vertical-align: top;\n",
       "    }\n",
       "\n",
       "    .dataframe thead th {\n",
       "        text-align: right;\n",
       "    }\n",
       "</style>\n",
       "<table border=\"1\" class=\"dataframe\">\n",
       "  <thead>\n",
       "    <tr style=\"text-align: right;\">\n",
       "      <th></th>\n",
       "      <th>author_id</th>\n",
       "      <th>author</th>\n",
       "    </tr>\n",
       "  </thead>\n",
       "  <tbody>\n",
       "    <tr>\n",
       "      <th>0</th>\n",
       "      <td>1</td>\n",
       "      <td>A.S. Byatt</td>\n",
       "    </tr>\n",
       "    <tr>\n",
       "      <th>1</th>\n",
       "      <td>2</td>\n",
       "      <td>Aesop/Laura Harris/Laura Gibbs</td>\n",
       "    </tr>\n",
       "    <tr>\n",
       "      <th>2</th>\n",
       "      <td>3</td>\n",
       "      <td>Agatha Christie</td>\n",
       "    </tr>\n",
       "    <tr>\n",
       "      <th>3</th>\n",
       "      <td>4</td>\n",
       "      <td>Alan Brennert</td>\n",
       "    </tr>\n",
       "    <tr>\n",
       "      <th>4</th>\n",
       "      <td>5</td>\n",
       "      <td>Alan Moore/David   Lloyd</td>\n",
       "    </tr>\n",
       "  </tbody>\n",
       "</table>\n",
       "</div>"
      ],
      "text/plain": [
       "   author_id                          author\n",
       "0          1                      A.S. Byatt\n",
       "1          2  Aesop/Laura Harris/Laura Gibbs\n",
       "2          3                 Agatha Christie\n",
       "3          4                   Alan Brennert\n",
       "4          5        Alan Moore/David   Lloyd"
      ]
     },
     "execution_count": 3,
     "metadata": {},
     "output_type": "execute_result"
    }
   ],
   "source": [
    "query = '''SELECT * FROM authors LIMIT 5'''\n",
    "\n",
    "con=engine.connect()\n",
    "\n",
    "pd.io.sql.read_sql(sql=text(query), con = con)"
   ]
  },
  {
   "cell_type": "markdown",
   "metadata": {},
   "source": [
    "Выведем таблицу publishers"
   ]
  },
  {
   "cell_type": "code",
   "execution_count": 4,
   "metadata": {},
   "outputs": [
    {
     "data": {
      "text/html": [
       "<div>\n",
       "<style scoped>\n",
       "    .dataframe tbody tr th:only-of-type {\n",
       "        vertical-align: middle;\n",
       "    }\n",
       "\n",
       "    .dataframe tbody tr th {\n",
       "        vertical-align: top;\n",
       "    }\n",
       "\n",
       "    .dataframe thead th {\n",
       "        text-align: right;\n",
       "    }\n",
       "</style>\n",
       "<table border=\"1\" class=\"dataframe\">\n",
       "  <thead>\n",
       "    <tr style=\"text-align: right;\">\n",
       "      <th></th>\n",
       "      <th>publisher_id</th>\n",
       "      <th>publisher</th>\n",
       "    </tr>\n",
       "  </thead>\n",
       "  <tbody>\n",
       "    <tr>\n",
       "      <th>0</th>\n",
       "      <td>1</td>\n",
       "      <td>Ace</td>\n",
       "    </tr>\n",
       "    <tr>\n",
       "      <th>1</th>\n",
       "      <td>2</td>\n",
       "      <td>Ace Book</td>\n",
       "    </tr>\n",
       "    <tr>\n",
       "      <th>2</th>\n",
       "      <td>3</td>\n",
       "      <td>Ace Books</td>\n",
       "    </tr>\n",
       "    <tr>\n",
       "      <th>3</th>\n",
       "      <td>4</td>\n",
       "      <td>Ace Hardcover</td>\n",
       "    </tr>\n",
       "    <tr>\n",
       "      <th>4</th>\n",
       "      <td>5</td>\n",
       "      <td>Addison Wesley Publishing Company</td>\n",
       "    </tr>\n",
       "  </tbody>\n",
       "</table>\n",
       "</div>"
      ],
      "text/plain": [
       "   publisher_id                          publisher\n",
       "0             1                                Ace\n",
       "1             2                           Ace Book\n",
       "2             3                          Ace Books\n",
       "3             4                      Ace Hardcover\n",
       "4             5  Addison Wesley Publishing Company"
      ]
     },
     "execution_count": 4,
     "metadata": {},
     "output_type": "execute_result"
    }
   ],
   "source": [
    "query = '''SELECT * FROM publishers LIMIT 5'''\n",
    "\n",
    "con=engine.connect()\n",
    "\n",
    "pd.io.sql.read_sql(sql=text(query), con = con)"
   ]
  },
  {
   "cell_type": "markdown",
   "metadata": {},
   "source": [
    "Выведем таблицу ratings"
   ]
  },
  {
   "cell_type": "code",
   "execution_count": 5,
   "metadata": {},
   "outputs": [
    {
     "data": {
      "text/html": [
       "<div>\n",
       "<style scoped>\n",
       "    .dataframe tbody tr th:only-of-type {\n",
       "        vertical-align: middle;\n",
       "    }\n",
       "\n",
       "    .dataframe tbody tr th {\n",
       "        vertical-align: top;\n",
       "    }\n",
       "\n",
       "    .dataframe thead th {\n",
       "        text-align: right;\n",
       "    }\n",
       "</style>\n",
       "<table border=\"1\" class=\"dataframe\">\n",
       "  <thead>\n",
       "    <tr style=\"text-align: right;\">\n",
       "      <th></th>\n",
       "      <th>rating_id</th>\n",
       "      <th>book_id</th>\n",
       "      <th>username</th>\n",
       "      <th>rating</th>\n",
       "    </tr>\n",
       "  </thead>\n",
       "  <tbody>\n",
       "    <tr>\n",
       "      <th>0</th>\n",
       "      <td>1</td>\n",
       "      <td>1</td>\n",
       "      <td>ryanfranco</td>\n",
       "      <td>4</td>\n",
       "    </tr>\n",
       "    <tr>\n",
       "      <th>1</th>\n",
       "      <td>2</td>\n",
       "      <td>1</td>\n",
       "      <td>grantpatricia</td>\n",
       "      <td>2</td>\n",
       "    </tr>\n",
       "    <tr>\n",
       "      <th>2</th>\n",
       "      <td>3</td>\n",
       "      <td>1</td>\n",
       "      <td>brandtandrea</td>\n",
       "      <td>5</td>\n",
       "    </tr>\n",
       "    <tr>\n",
       "      <th>3</th>\n",
       "      <td>4</td>\n",
       "      <td>2</td>\n",
       "      <td>lorichen</td>\n",
       "      <td>3</td>\n",
       "    </tr>\n",
       "    <tr>\n",
       "      <th>4</th>\n",
       "      <td>5</td>\n",
       "      <td>2</td>\n",
       "      <td>mariokeller</td>\n",
       "      <td>2</td>\n",
       "    </tr>\n",
       "  </tbody>\n",
       "</table>\n",
       "</div>"
      ],
      "text/plain": [
       "   rating_id  book_id       username  rating\n",
       "0          1        1     ryanfranco       4\n",
       "1          2        1  grantpatricia       2\n",
       "2          3        1   brandtandrea       5\n",
       "3          4        2       lorichen       3\n",
       "4          5        2    mariokeller       2"
      ]
     },
     "execution_count": 5,
     "metadata": {},
     "output_type": "execute_result"
    }
   ],
   "source": [
    "query = '''SELECT * FROM ratings LIMIT 5'''\n",
    "\n",
    "con=engine.connect()\n",
    "\n",
    "pd.io.sql.read_sql(sql=text(query), con = con)"
   ]
  },
  {
   "cell_type": "markdown",
   "metadata": {},
   "source": [
    "Выведем таблицу reviews"
   ]
  },
  {
   "cell_type": "code",
   "execution_count": 6,
   "metadata": {},
   "outputs": [
    {
     "data": {
      "text/html": [
       "<div>\n",
       "<style scoped>\n",
       "    .dataframe tbody tr th:only-of-type {\n",
       "        vertical-align: middle;\n",
       "    }\n",
       "\n",
       "    .dataframe tbody tr th {\n",
       "        vertical-align: top;\n",
       "    }\n",
       "\n",
       "    .dataframe thead th {\n",
       "        text-align: right;\n",
       "    }\n",
       "</style>\n",
       "<table border=\"1\" class=\"dataframe\">\n",
       "  <thead>\n",
       "    <tr style=\"text-align: right;\">\n",
       "      <th></th>\n",
       "      <th>review_id</th>\n",
       "      <th>book_id</th>\n",
       "      <th>username</th>\n",
       "      <th>text</th>\n",
       "    </tr>\n",
       "  </thead>\n",
       "  <tbody>\n",
       "    <tr>\n",
       "      <th>0</th>\n",
       "      <td>1</td>\n",
       "      <td>1</td>\n",
       "      <td>brandtandrea</td>\n",
       "      <td>Mention society tell send professor analysis. ...</td>\n",
       "    </tr>\n",
       "    <tr>\n",
       "      <th>1</th>\n",
       "      <td>2</td>\n",
       "      <td>1</td>\n",
       "      <td>ryanfranco</td>\n",
       "      <td>Foot glass pretty audience hit themselves. Amo...</td>\n",
       "    </tr>\n",
       "    <tr>\n",
       "      <th>2</th>\n",
       "      <td>3</td>\n",
       "      <td>2</td>\n",
       "      <td>lorichen</td>\n",
       "      <td>Listen treat keep worry. Miss husband tax but ...</td>\n",
       "    </tr>\n",
       "    <tr>\n",
       "      <th>3</th>\n",
       "      <td>4</td>\n",
       "      <td>3</td>\n",
       "      <td>johnsonamanda</td>\n",
       "      <td>Finally month interesting blue could nature cu...</td>\n",
       "    </tr>\n",
       "    <tr>\n",
       "      <th>4</th>\n",
       "      <td>5</td>\n",
       "      <td>3</td>\n",
       "      <td>scotttamara</td>\n",
       "      <td>Nation purpose heavy give wait song will. List...</td>\n",
       "    </tr>\n",
       "  </tbody>\n",
       "</table>\n",
       "</div>"
      ],
      "text/plain": [
       "   review_id  book_id       username  \\\n",
       "0          1        1   brandtandrea   \n",
       "1          2        1     ryanfranco   \n",
       "2          3        2       lorichen   \n",
       "3          4        3  johnsonamanda   \n",
       "4          5        3    scotttamara   \n",
       "\n",
       "                                                text  \n",
       "0  Mention society tell send professor analysis. ...  \n",
       "1  Foot glass pretty audience hit themselves. Amo...  \n",
       "2  Listen treat keep worry. Miss husband tax but ...  \n",
       "3  Finally month interesting blue could nature cu...  \n",
       "4  Nation purpose heavy give wait song will. List...  "
      ]
     },
     "execution_count": 6,
     "metadata": {},
     "output_type": "execute_result"
    }
   ],
   "source": [
    "query = '''SELECT * FROM reviews LIMIT 5'''\n",
    "\n",
    "con=engine.connect()\n",
    "\n",
    "pd.io.sql.read_sql(sql=text(query), con = con)"
   ]
  },
  {
   "cell_type": "markdown",
   "metadata": {},
   "source": [
    "На данном этапе ознакомились с данными и теперь имеем представление о их содержании."
   ]
  },
  {
   "cell_type": "markdown",
   "metadata": {},
   "source": [
    "## Задачи"
   ]
  },
  {
   "cell_type": "markdown",
   "metadata": {},
   "source": [
    "### Посчитаем, сколько книг вышло после 1 января 2000 года"
   ]
  },
  {
   "cell_type": "code",
   "execution_count": 7,
   "metadata": {},
   "outputs": [
    {
     "data": {
      "text/html": [
       "<div>\n",
       "<style scoped>\n",
       "    .dataframe tbody tr th:only-of-type {\n",
       "        vertical-align: middle;\n",
       "    }\n",
       "\n",
       "    .dataframe tbody tr th {\n",
       "        vertical-align: top;\n",
       "    }\n",
       "\n",
       "    .dataframe thead th {\n",
       "        text-align: right;\n",
       "    }\n",
       "</style>\n",
       "<table border=\"1\" class=\"dataframe\">\n",
       "  <thead>\n",
       "    <tr style=\"text-align: right;\">\n",
       "      <th></th>\n",
       "      <th>количество_книг</th>\n",
       "    </tr>\n",
       "  </thead>\n",
       "  <tbody>\n",
       "    <tr>\n",
       "      <th>0</th>\n",
       "      <td>819</td>\n",
       "    </tr>\n",
       "  </tbody>\n",
       "</table>\n",
       "</div>"
      ],
      "text/plain": [
       "   количество_книг\n",
       "0              819"
      ]
     },
     "execution_count": 7,
     "metadata": {},
     "output_type": "execute_result"
    }
   ],
   "source": [
    "challenge_1 = ''' SELECT COUNT(book_id) AS количество_книг\n",
    "    FROM books\n",
    "    WHERE publication_date > '2000-01-01'; ''' \n",
    "pd.io.sql.read_sql(sql=text(challenge_1), con = con)"
   ]
  },
  {
   "cell_type": "code",
   "execution_count": 8,
   "metadata": {},
   "outputs": [
    {
     "data": {
      "text/html": [
       "<div>\n",
       "<style scoped>\n",
       "    .dataframe tbody tr th:only-of-type {\n",
       "        vertical-align: middle;\n",
       "    }\n",
       "\n",
       "    .dataframe tbody tr th {\n",
       "        vertical-align: top;\n",
       "    }\n",
       "\n",
       "    .dataframe thead th {\n",
       "        text-align: right;\n",
       "    }\n",
       "</style>\n",
       "<table border=\"1\" class=\"dataframe\">\n",
       "  <thead>\n",
       "    <tr style=\"text-align: right;\">\n",
       "      <th></th>\n",
       "      <th>уникальные_книги</th>\n",
       "    </tr>\n",
       "  </thead>\n",
       "  <tbody>\n",
       "    <tr>\n",
       "      <th>0</th>\n",
       "      <td>818</td>\n",
       "    </tr>\n",
       "  </tbody>\n",
       "</table>\n",
       "</div>"
      ],
      "text/plain": [
       "   уникальные_книги\n",
       "0               818"
      ]
     },
     "execution_count": 8,
     "metadata": {},
     "output_type": "execute_result"
    }
   ],
   "source": [
    "challenge_1_1 = ''' SELECT COUNT(DISTINCT title) AS  уникальные_книги\n",
    "    FROM books\n",
    "    WHERE publication_date > '2000-01-01'; ''' \n",
    "pd.io.sql.read_sql(sql=text(challenge_1_1), con = con)"
   ]
  },
  {
   "cell_type": "markdown",
   "metadata": {},
   "source": [
    "Как видим, количество книг, вышедших после 1 января 2000 года составляет 819. Число уникальных книг равно 818, видимо одна книга издавалась 2 раза."
   ]
  },
  {
   "cell_type": "markdown",
   "metadata": {},
   "source": [
    "### Для каждой книги посчитаем количество обзоров и среднюю оценку"
   ]
  },
  {
   "cell_type": "markdown",
   "metadata": {},
   "source": [
    "Для начала проверим уникальные id книг в таблицах."
   ]
  },
  {
   "cell_type": "code",
   "execution_count": 9,
   "metadata": {},
   "outputs": [
    {
     "data": {
      "text/html": [
       "<div>\n",
       "<style scoped>\n",
       "    .dataframe tbody tr th:only-of-type {\n",
       "        vertical-align: middle;\n",
       "    }\n",
       "\n",
       "    .dataframe tbody tr th {\n",
       "        vertical-align: top;\n",
       "    }\n",
       "\n",
       "    .dataframe thead th {\n",
       "        text-align: right;\n",
       "    }\n",
       "</style>\n",
       "<table border=\"1\" class=\"dataframe\">\n",
       "  <thead>\n",
       "    <tr style=\"text-align: right;\">\n",
       "      <th></th>\n",
       "      <th>count</th>\n",
       "    </tr>\n",
       "  </thead>\n",
       "  <tbody>\n",
       "    <tr>\n",
       "      <th>0</th>\n",
       "      <td>1000</td>\n",
       "    </tr>\n",
       "  </tbody>\n",
       "</table>\n",
       "</div>"
      ],
      "text/plain": [
       "   count\n",
       "0   1000"
      ]
     },
     "execution_count": 9,
     "metadata": {},
     "output_type": "execute_result"
    }
   ],
   "source": [
    "challenge_2_2 = ''' \n",
    "\n",
    "SELECT count(DISTINCT book_id)\n",
    "       FROM books;'''\n",
    "pd.io.sql.read_sql(sql=text(challenge_2_2), con = con)"
   ]
  },
  {
   "cell_type": "code",
   "execution_count": 10,
   "metadata": {},
   "outputs": [
    {
     "data": {
      "text/html": [
       "<div>\n",
       "<style scoped>\n",
       "    .dataframe tbody tr th:only-of-type {\n",
       "        vertical-align: middle;\n",
       "    }\n",
       "\n",
       "    .dataframe tbody tr th {\n",
       "        vertical-align: top;\n",
       "    }\n",
       "\n",
       "    .dataframe thead th {\n",
       "        text-align: right;\n",
       "    }\n",
       "</style>\n",
       "<table border=\"1\" class=\"dataframe\">\n",
       "  <thead>\n",
       "    <tr style=\"text-align: right;\">\n",
       "      <th></th>\n",
       "      <th>count</th>\n",
       "    </tr>\n",
       "  </thead>\n",
       "  <tbody>\n",
       "    <tr>\n",
       "      <th>0</th>\n",
       "      <td>1000</td>\n",
       "    </tr>\n",
       "  </tbody>\n",
       "</table>\n",
       "</div>"
      ],
      "text/plain": [
       "   count\n",
       "0   1000"
      ]
     },
     "execution_count": 10,
     "metadata": {},
     "output_type": "execute_result"
    }
   ],
   "source": [
    "challenge_2_3 = ''' \n",
    "\n",
    "SELECT count(DISTINCT book_id)\n",
    "       FROM ratings;'''\n",
    "pd.io.sql.read_sql(sql=text(challenge_2_3), con = con)"
   ]
  },
  {
   "cell_type": "code",
   "execution_count": 11,
   "metadata": {},
   "outputs": [
    {
     "data": {
      "text/html": [
       "<div>\n",
       "<style scoped>\n",
       "    .dataframe tbody tr th:only-of-type {\n",
       "        vertical-align: middle;\n",
       "    }\n",
       "\n",
       "    .dataframe tbody tr th {\n",
       "        vertical-align: top;\n",
       "    }\n",
       "\n",
       "    .dataframe thead th {\n",
       "        text-align: right;\n",
       "    }\n",
       "</style>\n",
       "<table border=\"1\" class=\"dataframe\">\n",
       "  <thead>\n",
       "    <tr style=\"text-align: right;\">\n",
       "      <th></th>\n",
       "      <th>count</th>\n",
       "    </tr>\n",
       "  </thead>\n",
       "  <tbody>\n",
       "    <tr>\n",
       "      <th>0</th>\n",
       "      <td>994</td>\n",
       "    </tr>\n",
       "  </tbody>\n",
       "</table>\n",
       "</div>"
      ],
      "text/plain": [
       "   count\n",
       "0    994"
      ]
     },
     "execution_count": 11,
     "metadata": {},
     "output_type": "execute_result"
    }
   ],
   "source": [
    "challenge_2_3 = ''' \n",
    "\n",
    "SELECT count(DISTINCT book_id)\n",
    "       FROM reviews;'''\n",
    "pd.io.sql.read_sql(sql=text(challenge_2_3), con = con)"
   ]
  },
  {
   "cell_type": "markdown",
   "metadata": {},
   "source": [
    "Как видим, в таблице reviews имеются не все обзоры по имеющимся книгам."
   ]
  },
  {
   "cell_type": "code",
   "execution_count": 12,
   "metadata": {},
   "outputs": [
    {
     "data": {
      "text/html": [
       "<div>\n",
       "<style scoped>\n",
       "    .dataframe tbody tr th:only-of-type {\n",
       "        vertical-align: middle;\n",
       "    }\n",
       "\n",
       "    .dataframe tbody tr th {\n",
       "        vertical-align: top;\n",
       "    }\n",
       "\n",
       "    .dataframe thead th {\n",
       "        text-align: right;\n",
       "    }\n",
       "</style>\n",
       "<table border=\"1\" class=\"dataframe\">\n",
       "  <thead>\n",
       "    <tr style=\"text-align: right;\">\n",
       "      <th></th>\n",
       "      <th>title</th>\n",
       "      <th>book_id</th>\n",
       "      <th>средний_рейтинг</th>\n",
       "      <th>количество_обзоров</th>\n",
       "    </tr>\n",
       "  </thead>\n",
       "  <tbody>\n",
       "    <tr>\n",
       "      <th>0</th>\n",
       "      <td>Arrows of the Queen (Heralds of Valdemar  #1)</td>\n",
       "      <td>86</td>\n",
       "      <td>5.0</td>\n",
       "      <td>2</td>\n",
       "    </tr>\n",
       "    <tr>\n",
       "      <th>1</th>\n",
       "      <td>Crucial Conversations: Tools for Talking When ...</td>\n",
       "      <td>169</td>\n",
       "      <td>5.0</td>\n",
       "      <td>2</td>\n",
       "    </tr>\n",
       "    <tr>\n",
       "      <th>2</th>\n",
       "      <td>Alas  Babylon</td>\n",
       "      <td>62</td>\n",
       "      <td>5.0</td>\n",
       "      <td>2</td>\n",
       "    </tr>\n",
       "    <tr>\n",
       "      <th>3</th>\n",
       "      <td>Act of Treason (Mitch Rapp  #9)</td>\n",
       "      <td>57</td>\n",
       "      <td>5.0</td>\n",
       "      <td>2</td>\n",
       "    </tr>\n",
       "    <tr>\n",
       "      <th>4</th>\n",
       "      <td>Angels Fall</td>\n",
       "      <td>76</td>\n",
       "      <td>5.0</td>\n",
       "      <td>2</td>\n",
       "    </tr>\n",
       "    <tr>\n",
       "      <th>5</th>\n",
       "      <td>Captivating: Unveiling the Mystery of a Woman'...</td>\n",
       "      <td>136</td>\n",
       "      <td>5.0</td>\n",
       "      <td>2</td>\n",
       "    </tr>\n",
       "    <tr>\n",
       "      <th>6</th>\n",
       "      <td>A Woman of Substance (Emma Harte Saga #1)</td>\n",
       "      <td>55</td>\n",
       "      <td>5.0</td>\n",
       "      <td>2</td>\n",
       "    </tr>\n",
       "    <tr>\n",
       "      <th>7</th>\n",
       "      <td>A Fistful of Charms (The Hollows  #4)</td>\n",
       "      <td>20</td>\n",
       "      <td>5.0</td>\n",
       "      <td>2</td>\n",
       "    </tr>\n",
       "    <tr>\n",
       "      <th>8</th>\n",
       "      <td>A Dirty Job (Grim Reaper  #1)</td>\n",
       "      <td>17</td>\n",
       "      <td>5.0</td>\n",
       "      <td>4</td>\n",
       "    </tr>\n",
       "    <tr>\n",
       "      <th>9</th>\n",
       "      <td>Dead Souls</td>\n",
       "      <td>182</td>\n",
       "      <td>5.0</td>\n",
       "      <td>2</td>\n",
       "    </tr>\n",
       "  </tbody>\n",
       "</table>\n",
       "</div>"
      ],
      "text/plain": [
       "                                               title  book_id  \\\n",
       "0      Arrows of the Queen (Heralds of Valdemar  #1)       86   \n",
       "1  Crucial Conversations: Tools for Talking When ...      169   \n",
       "2                                      Alas  Babylon       62   \n",
       "3                    Act of Treason (Mitch Rapp  #9)       57   \n",
       "4                                        Angels Fall       76   \n",
       "5  Captivating: Unveiling the Mystery of a Woman'...      136   \n",
       "6          A Woman of Substance (Emma Harte Saga #1)       55   \n",
       "7              A Fistful of Charms (The Hollows  #4)       20   \n",
       "8                      A Dirty Job (Grim Reaper  #1)       17   \n",
       "9                                         Dead Souls      182   \n",
       "\n",
       "   средний_рейтинг  количество_обзоров  \n",
       "0              5.0                   2  \n",
       "1              5.0                   2  \n",
       "2              5.0                   2  \n",
       "3              5.0                   2  \n",
       "4              5.0                   2  \n",
       "5              5.0                   2  \n",
       "6              5.0                   2  \n",
       "7              5.0                   2  \n",
       "8              5.0                   4  \n",
       "9              5.0                   2  "
      ]
     },
     "execution_count": 12,
     "metadata": {},
     "output_type": "execute_result"
    }
   ],
   "source": [
    "challenge_2_0 = ''' \n",
    "WITH \n",
    "-- первый подзапрос с псевдонимом i\n",
    "i AS (SELECT *\n",
    "      FROM books), \n",
    "j AS (SELECT *\n",
    "      FROM ratings),\n",
    "u AS (SELECT *\n",
    "      FROM reviews)\n",
    "      \n",
    "SELECT   i.title,\n",
    "         i.book_id,\n",
    "         AVG(j.rating) AS средний_рейтинг,\n",
    "         COUNT(DISTINCT u.review_id) AS количество_обзоров\n",
    "\n",
    "FROM i JOIN j ON j.book_id = i.book_id LEFT JOIN u ON u.book_id = i.book_id\n",
    "GROUP BY i.title,\n",
    "         i.book_id\n",
    "ORDER BY средний_рейтинг DESC\n",
    "LIMIT 10;''' \n",
    "pd.io.sql.read_sql(sql=text(challenge_2_0), con = con)"
   ]
  },
  {
   "cell_type": "markdown",
   "metadata": {},
   "source": [
    "Максимальный рейтинг равен 5."
   ]
  },
  {
   "cell_type": "code",
   "execution_count": 13,
   "metadata": {},
   "outputs": [
    {
     "data": {
      "text/html": [
       "<div>\n",
       "<style scoped>\n",
       "    .dataframe tbody tr th:only-of-type {\n",
       "        vertical-align: middle;\n",
       "    }\n",
       "\n",
       "    .dataframe tbody tr th {\n",
       "        vertical-align: top;\n",
       "    }\n",
       "\n",
       "    .dataframe thead th {\n",
       "        text-align: right;\n",
       "    }\n",
       "</style>\n",
       "<table border=\"1\" class=\"dataframe\">\n",
       "  <thead>\n",
       "    <tr style=\"text-align: right;\">\n",
       "      <th></th>\n",
       "      <th>title</th>\n",
       "      <th>book_id</th>\n",
       "      <th>средний_рейтинг</th>\n",
       "      <th>количество_обзоров</th>\n",
       "    </tr>\n",
       "  </thead>\n",
       "  <tbody>\n",
       "    <tr>\n",
       "      <th>0</th>\n",
       "      <td>Harvesting the Heart</td>\n",
       "      <td>303</td>\n",
       "      <td>1.500000</td>\n",
       "      <td>2</td>\n",
       "    </tr>\n",
       "    <tr>\n",
       "      <th>1</th>\n",
       "      <td>Junky</td>\n",
       "      <td>371</td>\n",
       "      <td>2.000000</td>\n",
       "      <td>2</td>\n",
       "    </tr>\n",
       "    <tr>\n",
       "      <th>2</th>\n",
       "      <td>Drowning Ruth</td>\n",
       "      <td>202</td>\n",
       "      <td>2.000000</td>\n",
       "      <td>3</td>\n",
       "    </tr>\n",
       "    <tr>\n",
       "      <th>3</th>\n",
       "      <td>His Excellency: George Washington</td>\n",
       "      <td>316</td>\n",
       "      <td>2.000000</td>\n",
       "      <td>2</td>\n",
       "    </tr>\n",
       "    <tr>\n",
       "      <th>4</th>\n",
       "      <td>The World Is Flat: A Brief History of the Twen...</td>\n",
       "      <td>915</td>\n",
       "      <td>2.250000</td>\n",
       "      <td>3</td>\n",
       "    </tr>\n",
       "    <tr>\n",
       "      <th>5</th>\n",
       "      <td>The Mermaid Chair</td>\n",
       "      <td>794</td>\n",
       "      <td>2.333333</td>\n",
       "      <td>3</td>\n",
       "    </tr>\n",
       "    <tr>\n",
       "      <th>6</th>\n",
       "      <td>The Kitchen God's Wife</td>\n",
       "      <td>772</td>\n",
       "      <td>2.333333</td>\n",
       "      <td>3</td>\n",
       "    </tr>\n",
       "    <tr>\n",
       "      <th>7</th>\n",
       "      <td>Heretics of Dune (Dune Chronicles #5)</td>\n",
       "      <td>313</td>\n",
       "      <td>2.500000</td>\n",
       "      <td>2</td>\n",
       "    </tr>\n",
       "    <tr>\n",
       "      <th>8</th>\n",
       "      <td>Amsterdam</td>\n",
       "      <td>72</td>\n",
       "      <td>2.500000</td>\n",
       "      <td>2</td>\n",
       "    </tr>\n",
       "    <tr>\n",
       "      <th>9</th>\n",
       "      <td>Dr. Faustus</td>\n",
       "      <td>193</td>\n",
       "      <td>2.500000</td>\n",
       "      <td>2</td>\n",
       "    </tr>\n",
       "  </tbody>\n",
       "</table>\n",
       "</div>"
      ],
      "text/plain": [
       "                                               title  book_id  \\\n",
       "0                               Harvesting the Heart      303   \n",
       "1                                              Junky      371   \n",
       "2                                      Drowning Ruth      202   \n",
       "3                  His Excellency: George Washington      316   \n",
       "4  The World Is Flat: A Brief History of the Twen...      915   \n",
       "5                                  The Mermaid Chair      794   \n",
       "6                             The Kitchen God's Wife      772   \n",
       "7              Heretics of Dune (Dune Chronicles #5)      313   \n",
       "8                                          Amsterdam       72   \n",
       "9                                        Dr. Faustus      193   \n",
       "\n",
       "   средний_рейтинг  количество_обзоров  \n",
       "0         1.500000                   2  \n",
       "1         2.000000                   2  \n",
       "2         2.000000                   3  \n",
       "3         2.000000                   2  \n",
       "4         2.250000                   3  \n",
       "5         2.333333                   3  \n",
       "6         2.333333                   3  \n",
       "7         2.500000                   2  \n",
       "8         2.500000                   2  \n",
       "9         2.500000                   2  "
      ]
     },
     "execution_count": 13,
     "metadata": {},
     "output_type": "execute_result"
    }
   ],
   "source": [
    "challenge_2_0 = ''' \n",
    "WITH \n",
    "-- первый подзапрос с псевдонимом i\n",
    "i AS (SELECT *\n",
    "      FROM books), \n",
    "j AS (SELECT *\n",
    "      FROM ratings),\n",
    "u AS (SELECT *\n",
    "      FROM reviews)\n",
    "      \n",
    "SELECT   i.title,\n",
    "         i.book_id,\n",
    "         AVG(j.rating) AS средний_рейтинг,\n",
    "         COUNT(DISTINCT u.review_id) AS количество_обзоров\n",
    "\n",
    "FROM i JOIN j ON j.book_id = i.book_id LEFT JOIN u ON u.book_id = i.book_id\n",
    "GROUP BY i.title,\n",
    "         i.book_id\n",
    "ORDER BY средний_рейтинг\n",
    "LIMIT 10;''' \n",
    "pd.io.sql.read_sql(sql=text(challenge_2_0), con = con)"
   ]
  },
  {
   "cell_type": "markdown",
   "metadata": {},
   "source": [
    "Минимальный рейтинг равен 1.5"
   ]
  },
  {
   "cell_type": "code",
   "execution_count": 14,
   "metadata": {},
   "outputs": [
    {
     "data": {
      "text/html": [
       "<div>\n",
       "<style scoped>\n",
       "    .dataframe tbody tr th:only-of-type {\n",
       "        vertical-align: middle;\n",
       "    }\n",
       "\n",
       "    .dataframe tbody tr th {\n",
       "        vertical-align: top;\n",
       "    }\n",
       "\n",
       "    .dataframe thead th {\n",
       "        text-align: right;\n",
       "    }\n",
       "</style>\n",
       "<table border=\"1\" class=\"dataframe\">\n",
       "  <thead>\n",
       "    <tr style=\"text-align: right;\">\n",
       "      <th></th>\n",
       "      <th>title</th>\n",
       "      <th>book_id</th>\n",
       "      <th>средний_рейтинг</th>\n",
       "      <th>количество_обзоров</th>\n",
       "    </tr>\n",
       "  </thead>\n",
       "  <tbody>\n",
       "    <tr>\n",
       "      <th>0</th>\n",
       "      <td>Twilight (Twilight  #1)</td>\n",
       "      <td>948</td>\n",
       "      <td>3.662500</td>\n",
       "      <td>7</td>\n",
       "    </tr>\n",
       "    <tr>\n",
       "      <th>1</th>\n",
       "      <td>The Da Vinci Code (Robert Langdon  #2)</td>\n",
       "      <td>696</td>\n",
       "      <td>3.830508</td>\n",
       "      <td>6</td>\n",
       "    </tr>\n",
       "    <tr>\n",
       "      <th>2</th>\n",
       "      <td>Eat  Pray  Love</td>\n",
       "      <td>207</td>\n",
       "      <td>3.395833</td>\n",
       "      <td>6</td>\n",
       "    </tr>\n",
       "    <tr>\n",
       "      <th>3</th>\n",
       "      <td>The Alchemist</td>\n",
       "      <td>627</td>\n",
       "      <td>3.789474</td>\n",
       "      <td>6</td>\n",
       "    </tr>\n",
       "    <tr>\n",
       "      <th>4</th>\n",
       "      <td>The Catcher in the Rye</td>\n",
       "      <td>673</td>\n",
       "      <td>3.825581</td>\n",
       "      <td>6</td>\n",
       "    </tr>\n",
       "    <tr>\n",
       "      <th>5</th>\n",
       "      <td>The Curious Incident of the Dog in the Night-Time</td>\n",
       "      <td>695</td>\n",
       "      <td>4.081081</td>\n",
       "      <td>6</td>\n",
       "    </tr>\n",
       "    <tr>\n",
       "      <th>6</th>\n",
       "      <td>Harry Potter and the Prisoner of Azkaban (Harr...</td>\n",
       "      <td>302</td>\n",
       "      <td>4.414634</td>\n",
       "      <td>6</td>\n",
       "    </tr>\n",
       "    <tr>\n",
       "      <th>7</th>\n",
       "      <td>Harry Potter and the Chamber of Secrets (Harry...</td>\n",
       "      <td>299</td>\n",
       "      <td>4.287500</td>\n",
       "      <td>6</td>\n",
       "    </tr>\n",
       "    <tr>\n",
       "      <th>8</th>\n",
       "      <td>Outlander (Outlander  #1)</td>\n",
       "      <td>497</td>\n",
       "      <td>4.125000</td>\n",
       "      <td>6</td>\n",
       "    </tr>\n",
       "    <tr>\n",
       "      <th>9</th>\n",
       "      <td>The Book Thief</td>\n",
       "      <td>656</td>\n",
       "      <td>4.264151</td>\n",
       "      <td>6</td>\n",
       "    </tr>\n",
       "  </tbody>\n",
       "</table>\n",
       "</div>"
      ],
      "text/plain": [
       "                                               title  book_id  \\\n",
       "0                            Twilight (Twilight  #1)      948   \n",
       "1             The Da Vinci Code (Robert Langdon  #2)      696   \n",
       "2                                    Eat  Pray  Love      207   \n",
       "3                                      The Alchemist      627   \n",
       "4                             The Catcher in the Rye      673   \n",
       "5  The Curious Incident of the Dog in the Night-Time      695   \n",
       "6  Harry Potter and the Prisoner of Azkaban (Harr...      302   \n",
       "7  Harry Potter and the Chamber of Secrets (Harry...      299   \n",
       "8                          Outlander (Outlander  #1)      497   \n",
       "9                                     The Book Thief      656   \n",
       "\n",
       "   средний_рейтинг  количество_обзоров  \n",
       "0         3.662500                   7  \n",
       "1         3.830508                   6  \n",
       "2         3.395833                   6  \n",
       "3         3.789474                   6  \n",
       "4         3.825581                   6  \n",
       "5         4.081081                   6  \n",
       "6         4.414634                   6  \n",
       "7         4.287500                   6  \n",
       "8         4.125000                   6  \n",
       "9         4.264151                   6  "
      ]
     },
     "execution_count": 14,
     "metadata": {},
     "output_type": "execute_result"
    }
   ],
   "source": [
    "challenge_2_0 = ''' \n",
    "WITH \n",
    "-- первый подзапрос с псевдонимом i\n",
    "i AS (SELECT *\n",
    "      FROM books), \n",
    "j AS (SELECT *\n",
    "      FROM ratings),\n",
    "u AS (SELECT *\n",
    "      FROM reviews)\n",
    "      \n",
    "SELECT   i.title,\n",
    "         i.book_id,\n",
    "         AVG(j.rating) AS средний_рейтинг,\n",
    "         COUNT(DISTINCT u.review_id) AS количество_обзоров\n",
    "\n",
    "FROM i JOIN j ON j.book_id = i.book_id LEFT JOIN u ON u.book_id = i.book_id\n",
    "GROUP BY i.title,\n",
    "         i.book_id\n",
    "ORDER BY количество_обзоров DESC\n",
    "LIMIT 10;''' \n",
    "pd.io.sql.read_sql(sql=text(challenge_2_0), con = con)"
   ]
  },
  {
   "cell_type": "markdown",
   "metadata": {},
   "source": [
    "Максимальное число обзоров 7."
   ]
  },
  {
   "cell_type": "code",
   "execution_count": 15,
   "metadata": {},
   "outputs": [
    {
     "data": {
      "text/html": [
       "<div>\n",
       "<style scoped>\n",
       "    .dataframe tbody tr th:only-of-type {\n",
       "        vertical-align: middle;\n",
       "    }\n",
       "\n",
       "    .dataframe tbody tr th {\n",
       "        vertical-align: top;\n",
       "    }\n",
       "\n",
       "    .dataframe thead th {\n",
       "        text-align: right;\n",
       "    }\n",
       "</style>\n",
       "<table border=\"1\" class=\"dataframe\">\n",
       "  <thead>\n",
       "    <tr style=\"text-align: right;\">\n",
       "      <th></th>\n",
       "      <th>title</th>\n",
       "      <th>book_id</th>\n",
       "      <th>средний_рейтинг</th>\n",
       "      <th>количество_обзоров</th>\n",
       "    </tr>\n",
       "  </thead>\n",
       "  <tbody>\n",
       "    <tr>\n",
       "      <th>0</th>\n",
       "      <td>The Natural Way to Draw</td>\n",
       "      <td>808</td>\n",
       "      <td>3.000000</td>\n",
       "      <td>0</td>\n",
       "    </tr>\n",
       "    <tr>\n",
       "      <th>1</th>\n",
       "      <td>Disney's Beauty and the Beast (A Little Golden...</td>\n",
       "      <td>191</td>\n",
       "      <td>4.000000</td>\n",
       "      <td>0</td>\n",
       "    </tr>\n",
       "    <tr>\n",
       "      <th>2</th>\n",
       "      <td>Essential Tales and Poems</td>\n",
       "      <td>221</td>\n",
       "      <td>4.000000</td>\n",
       "      <td>0</td>\n",
       "    </tr>\n",
       "    <tr>\n",
       "      <th>3</th>\n",
       "      <td>The Cat in the Hat and Other Dr. Seuss Favorites</td>\n",
       "      <td>672</td>\n",
       "      <td>5.000000</td>\n",
       "      <td>0</td>\n",
       "    </tr>\n",
       "    <tr>\n",
       "      <th>4</th>\n",
       "      <td>Leonardo's Notebooks</td>\n",
       "      <td>387</td>\n",
       "      <td>4.000000</td>\n",
       "      <td>0</td>\n",
       "    </tr>\n",
       "    <tr>\n",
       "      <th>5</th>\n",
       "      <td>Anne Rice's The Vampire Lestat: A Graphic Novel</td>\n",
       "      <td>83</td>\n",
       "      <td>3.666667</td>\n",
       "      <td>0</td>\n",
       "    </tr>\n",
       "    <tr>\n",
       "      <th>6</th>\n",
       "      <td>Death: The High Cost of Living</td>\n",
       "      <td>186</td>\n",
       "      <td>3.000000</td>\n",
       "      <td>1</td>\n",
       "    </tr>\n",
       "    <tr>\n",
       "      <th>7</th>\n",
       "      <td>Creepshow</td>\n",
       "      <td>165</td>\n",
       "      <td>4.500000</td>\n",
       "      <td>1</td>\n",
       "    </tr>\n",
       "    <tr>\n",
       "      <th>8</th>\n",
       "      <td>Debt of Honor (Jack Ryan  #7)</td>\n",
       "      <td>187</td>\n",
       "      <td>3.000000</td>\n",
       "      <td>1</td>\n",
       "    </tr>\n",
       "    <tr>\n",
       "      <th>9</th>\n",
       "      <td>A Christmas Carol and Other Christmas Writings</td>\n",
       "      <td>14</td>\n",
       "      <td>4.500000</td>\n",
       "      <td>1</td>\n",
       "    </tr>\n",
       "  </tbody>\n",
       "</table>\n",
       "</div>"
      ],
      "text/plain": [
       "                                               title  book_id  \\\n",
       "0                            The Natural Way to Draw      808   \n",
       "1  Disney's Beauty and the Beast (A Little Golden...      191   \n",
       "2                          Essential Tales and Poems      221   \n",
       "3   The Cat in the Hat and Other Dr. Seuss Favorites      672   \n",
       "4                               Leonardo's Notebooks      387   \n",
       "5    Anne Rice's The Vampire Lestat: A Graphic Novel       83   \n",
       "6                     Death: The High Cost of Living      186   \n",
       "7                                          Creepshow      165   \n",
       "8                      Debt of Honor (Jack Ryan  #7)      187   \n",
       "9     A Christmas Carol and Other Christmas Writings       14   \n",
       "\n",
       "   средний_рейтинг  количество_обзоров  \n",
       "0         3.000000                   0  \n",
       "1         4.000000                   0  \n",
       "2         4.000000                   0  \n",
       "3         5.000000                   0  \n",
       "4         4.000000                   0  \n",
       "5         3.666667                   0  \n",
       "6         3.000000                   1  \n",
       "7         4.500000                   1  \n",
       "8         3.000000                   1  \n",
       "9         4.500000                   1  "
      ]
     },
     "execution_count": 15,
     "metadata": {},
     "output_type": "execute_result"
    }
   ],
   "source": [
    "challenge_2_0 = ''' \n",
    "WITH \n",
    "-- первый подзапрос с псевдонимом i\n",
    "i AS (SELECT *\n",
    "      FROM books), \n",
    "j AS (SELECT *\n",
    "      FROM ratings),\n",
    "u AS (SELECT *\n",
    "      FROM reviews)\n",
    "      \n",
    "SELECT   i.title,\n",
    "         i.book_id,\n",
    "         AVG(j.rating) AS средний_рейтинг,\n",
    "         COUNT(DISTINCT u.review_id) AS количество_обзоров\n",
    "\n",
    "FROM i JOIN j ON j.book_id = i.book_id LEFT JOIN u ON u.book_id = i.book_id\n",
    "GROUP BY i.title,\n",
    "         i.book_id\n",
    "ORDER BY количество_обзоров\n",
    "LIMIT 10;''' \n",
    "pd.io.sql.read_sql(sql=text(challenge_2_0), con = con)"
   ]
  },
  {
   "cell_type": "markdown",
   "metadata": {},
   "source": [
    "Как видим, на такие книги как The Natural Way to Draw, Disney's Beauty and the Beast, Essential Tales and Poems, The Cat in the Hat and Other Dr. Seuss Favorites, Leonardo's Notebooks, Anne Rice's The Vampire Lestat: A Graphic Nove не было отзывов, поэтому минимальное количество отзывов 0."
   ]
  },
  {
   "cell_type": "markdown",
   "metadata": {},
   "source": [
    "На данном этапе выявили, что было издано 1000 книг, из которых 6 не имеют отзывов. Максимальный рейтинг книг 5, минимальный 1.5. Максимальное число отзывов 7, минимальное 0"
   ]
  },
  {
   "cell_type": "markdown",
   "metadata": {},
   "source": [
    "### Определите издательство, которое выпустило наибольшее число книг толще 50 страниц."
   ]
  },
  {
   "cell_type": "code",
   "execution_count": 16,
   "metadata": {},
   "outputs": [
    {
     "data": {
      "text/html": [
       "<div>\n",
       "<style scoped>\n",
       "    .dataframe tbody tr th:only-of-type {\n",
       "        vertical-align: middle;\n",
       "    }\n",
       "\n",
       "    .dataframe tbody tr th {\n",
       "        vertical-align: top;\n",
       "    }\n",
       "\n",
       "    .dataframe thead th {\n",
       "        text-align: right;\n",
       "    }\n",
       "</style>\n",
       "<table border=\"1\" class=\"dataframe\">\n",
       "  <thead>\n",
       "    <tr style=\"text-align: right;\">\n",
       "      <th></th>\n",
       "      <th>издательство</th>\n",
       "      <th>количество_книг</th>\n",
       "    </tr>\n",
       "  </thead>\n",
       "  <tbody>\n",
       "    <tr>\n",
       "      <th>0</th>\n",
       "      <td>Penguin Books</td>\n",
       "      <td>42</td>\n",
       "    </tr>\n",
       "    <tr>\n",
       "      <th>1</th>\n",
       "      <td>Vintage</td>\n",
       "      <td>31</td>\n",
       "    </tr>\n",
       "    <tr>\n",
       "      <th>2</th>\n",
       "      <td>Grand Central Publishing</td>\n",
       "      <td>25</td>\n",
       "    </tr>\n",
       "    <tr>\n",
       "      <th>3</th>\n",
       "      <td>Penguin Classics</td>\n",
       "      <td>24</td>\n",
       "    </tr>\n",
       "    <tr>\n",
       "      <th>4</th>\n",
       "      <td>Bantam</td>\n",
       "      <td>19</td>\n",
       "    </tr>\n",
       "  </tbody>\n",
       "</table>\n",
       "</div>"
      ],
      "text/plain": [
       "               издательство  количество_книг\n",
       "0             Penguin Books               42\n",
       "1                   Vintage               31\n",
       "2  Grand Central Publishing               25\n",
       "3          Penguin Classics               24\n",
       "4                    Bantam               19"
      ]
     },
     "execution_count": 16,
     "metadata": {},
     "output_type": "execute_result"
    }
   ],
   "source": [
    "challenge_3 = ''' \n",
    "WITH \n",
    "\n",
    "i AS (SELECT publisher_id,\n",
    "             COUNT(book_id) AS количество_книг\n",
    "      FROM books\n",
    "      WHERE num_pages > 50\n",
    "      GROUP BY publisher_id)\n",
    "      \n",
    "SELECT publishers.publisher AS издательство,\n",
    "       i.количество_книг\n",
    "\n",
    "FROM i JOIN publishers ON i.publisher_id = publishers.publisher_id \n",
    "ORDER BY количество_книг DESC\n",
    "LIMIT 5;''' \n",
    "pd.io.sql.read_sql(sql=text(challenge_3), con = con)"
   ]
  },
  {
   "cell_type": "markdown",
   "metadata": {},
   "source": [
    "Как видим, больше всего книг было издано в Penguin Books - 42."
   ]
  },
  {
   "cell_type": "markdown",
   "metadata": {},
   "source": [
    "### Определим автора с самой высокой средней оценкой книг — учитывайте только книги с 50 и более оценками."
   ]
  },
  {
   "cell_type": "code",
   "execution_count": 17,
   "metadata": {},
   "outputs": [
    {
     "data": {
      "text/html": [
       "<div>\n",
       "<style scoped>\n",
       "    .dataframe tbody tr th:only-of-type {\n",
       "        vertical-align: middle;\n",
       "    }\n",
       "\n",
       "    .dataframe tbody tr th {\n",
       "        vertical-align: top;\n",
       "    }\n",
       "\n",
       "    .dataframe thead th {\n",
       "        text-align: right;\n",
       "    }\n",
       "</style>\n",
       "<table border=\"1\" class=\"dataframe\">\n",
       "  <thead>\n",
       "    <tr style=\"text-align: right;\">\n",
       "      <th></th>\n",
       "      <th>author</th>\n",
       "      <th>средняя_оценка</th>\n",
       "    </tr>\n",
       "  </thead>\n",
       "  <tbody>\n",
       "    <tr>\n",
       "      <th>0</th>\n",
       "      <td>J.K. Rowling/Mary GrandPré</td>\n",
       "      <td>4.283844</td>\n",
       "    </tr>\n",
       "    <tr>\n",
       "      <th>1</th>\n",
       "      <td>Markus Zusak/Cao Xuân Việt Khương</td>\n",
       "      <td>4.264151</td>\n",
       "    </tr>\n",
       "    <tr>\n",
       "      <th>2</th>\n",
       "      <td>J.R.R. Tolkien</td>\n",
       "      <td>4.258446</td>\n",
       "    </tr>\n",
       "    <tr>\n",
       "      <th>3</th>\n",
       "      <td>Louisa May Alcott</td>\n",
       "      <td>4.192308</td>\n",
       "    </tr>\n",
       "    <tr>\n",
       "      <th>4</th>\n",
       "      <td>Rick Riordan</td>\n",
       "      <td>4.080645</td>\n",
       "    </tr>\n",
       "  </tbody>\n",
       "</table>\n",
       "</div>"
      ],
      "text/plain": [
       "                              author  средняя_оценка\n",
       "0         J.K. Rowling/Mary GrandPré        4.283844\n",
       "1  Markus Zusak/Cao Xuân Việt Khương        4.264151\n",
       "2                     J.R.R. Tolkien        4.258446\n",
       "3                  Louisa May Alcott        4.192308\n",
       "4                       Rick Riordan        4.080645"
      ]
     },
     "execution_count": 17,
     "metadata": {},
     "output_type": "execute_result"
    }
   ],
   "source": [
    "challenge_4 = ''' \n",
    "WITH \n",
    "\n",
    "i AS (SELECT book_id,\n",
    "             AVG(rating) AS средняя_оценка\n",
    "      FROM ratings\n",
    "      GROUP BY book_id\n",
    "      HAVING COUNT(book_id) >= 50), \n",
    "j AS (SELECT book_id,\n",
    "             author_id\n",
    "      FROM books)\n",
    "      \n",
    "SELECT authors.author,\n",
    "       AVG(i.средняя_оценка) AS средняя_оценка\n",
    "      \n",
    "FROM i JOIN j ON i.book_id = j.book_id JOIN authors ON j.author_id = authors.author_id\n",
    "GROUP BY authors.author\n",
    "ORDER BY средняя_оценка DESC\n",
    "LIMIT 5;''' \n",
    "pd.io.sql.read_sql(sql=text(challenge_4), con = con)"
   ]
  },
  {
   "cell_type": "markdown",
   "metadata": {},
   "source": [
    "Как видим, наибольший средний рейтинг изданных книг имеет J.K. Rowling/Mary GrandPré"
   ]
  },
  {
   "cell_type": "markdown",
   "metadata": {},
   "source": [
    "### Посчитаем среднее количество обзоров от пользователей, которые поставили больше 48 оценок."
   ]
  },
  {
   "cell_type": "code",
   "execution_count": 18,
   "metadata": {},
   "outputs": [
    {
     "data": {
      "text/html": [
       "<div>\n",
       "<style scoped>\n",
       "    .dataframe tbody tr th:only-of-type {\n",
       "        vertical-align: middle;\n",
       "    }\n",
       "\n",
       "    .dataframe tbody tr th {\n",
       "        vertical-align: top;\n",
       "    }\n",
       "\n",
       "    .dataframe thead th {\n",
       "        text-align: right;\n",
       "    }\n",
       "</style>\n",
       "<table border=\"1\" class=\"dataframe\">\n",
       "  <thead>\n",
       "    <tr style=\"text-align: right;\">\n",
       "      <th></th>\n",
       "      <th>средняя_оценка</th>\n",
       "    </tr>\n",
       "  </thead>\n",
       "  <tbody>\n",
       "    <tr>\n",
       "      <th>0</th>\n",
       "      <td>24.0</td>\n",
       "    </tr>\n",
       "  </tbody>\n",
       "</table>\n",
       "</div>"
      ],
      "text/plain": [
       "   средняя_оценка\n",
       "0            24.0"
      ]
     },
     "execution_count": 18,
     "metadata": {},
     "output_type": "execute_result"
    }
   ],
   "source": [
    "challenge_5 = ''' \n",
    "WITH \n",
    "\n",
    "i AS (SELECT username,\n",
    "             COUNT(username) AS количество_оценок\n",
    "      FROM ratings\n",
    "      GROUP BY username\n",
    "      HAVING COUNT(username) > 48), \n",
    "j AS (SELECT username,\n",
    "             COUNT(username) AS количество_обзоров\n",
    "      FROM reviews\n",
    "      GROUP BY username)\n",
    "      \n",
    "SELECT  AVG(j.количество_обзоров) AS средняя_оценка\n",
    "      \n",
    "FROM i JOIN j ON i.username = j.username;''' \n",
    "pd.io.sql.read_sql(sql=text(challenge_5), con = con)"
   ]
  },
  {
   "cell_type": "markdown",
   "metadata": {},
   "source": [
    "Как видим, среднее количество обзоров равно 24."
   ]
  },
  {
   "cell_type": "markdown",
   "metadata": {},
   "source": [
    "На данном этапе сделаны следующие выводы:  \n",
    "* количество книг, вышедших после 1 января 2000 года составляет 819  \n",
    "* число уникальных книг, вышедших после 1 января 2000, равно 818, видимо одна книга издавалась 2 раза  \n",
    "* максимальный рейтинг книг равен 5  \n",
    "* минимальный рейтинг равен 1.5  \n",
    "* максимальное число отзывов на книгу 7  \n",
    "* минимальное количество отзывов на книгу 0  \n",
    "* больше всего книг было издано в Penguin Books - 42  \n",
    "* наибольший средний рейтинг изданных книг, которые имеют 50 и более оценок - J.K. Rowling/Mary GrandPré\n",
    "* среднее количество обзоров пользователей, у которых имеется более 48 оценок книг равно 24\n",
    "* на такие книги как The Natural Way to Draw, Disney's Beauty and the Beast, Essential Tales and Poems, The Cat in the Hat and Other Dr. Seuss Favorites, Leonardo's Notebooks, Anne Rice's The Vampire Lestat: A Graphic Nove не было отзывов"
   ]
  },
  {
   "cell_type": "markdown",
   "metadata": {},
   "source": [
    "## Вывод."
   ]
  },
  {
   "cell_type": "markdown",
   "metadata": {},
   "source": [
    "__Проделана следующая работа:__  \n",
    "1. Выполнено ознакомление с данными  \n",
    "2. Выполнены задачи по расчетам, а именно:  \n",
    "   * Посчитано, сколько книг вышло после 1 января 2000 года  \n",
    "   * Для каждой книги посчитано количество обзоров и средняя оценка  \n",
    "   * Определено издательство, которое выпустило наибольшее число книг толще 50 страниц  \n",
    "   * Определен автор с самой высокой средней оценкой книг — учитывая только книги с 50 и более оценками  \n",
    "   * Посчитано среднее количество обзоров от пользователей, которые поставили больше 48 оценок"
   ]
  },
  {
   "cell_type": "markdown",
   "metadata": {},
   "source": [
    "__Сделаны следующие выводы:__  \n",
    "* количество книг, вышедших после 1 января 2000 года составляет 819  \n",
    "* число уникальных книг, вышедших после 1 января 2000, равно 818, видимо одна книга издавалась 2 раза  \n",
    "* максимальный рейтинг книг равен 5  \n",
    "* минимальный рейтинг равен 1.5  \n",
    "* максимальное число отзывов на книгу 7  \n",
    "* минимальное количество отзывов на книгу 0 \n",
    "* больше всего книг было издано в Penguin Books - 42  \n",
    "* наибольший средний рейтинг изданных книг, которые имеют 50 и более оценок - J.K. Rowling/Mary GrandPré\n",
    "* среднее количество обзоров пользователей, у которых имеется более 48 оценок книг равно 24\n",
    "* в таблице reviews отсутствуют обзоры на такие книги как The Natural Way to Draw, Disney's Beauty and the Beast, Essential Tales and Poems, The Cat in the Hat and Other Dr. Seuss Favorites, Leonardo's Notebooks, Anne Rice's The Vampire Lestat: A Graphic Nove не было отзывов."
   ]
  }
 ],
 "metadata": {
  "ExecuteTimeLog": [
   {
    "duration": 5,
    "start_time": "2023-07-27T18:25:20.352Z"
   },
   {
    "duration": 319,
    "start_time": "2023-07-27T18:25:46.867Z"
   },
   {
    "duration": 200,
    "start_time": "2023-07-27T18:26:07.431Z"
   },
   {
    "duration": 73,
    "start_time": "2023-07-27T18:26:30.061Z"
   },
   {
    "duration": 57,
    "start_time": "2023-07-27T18:26:51.234Z"
   },
   {
    "duration": 81,
    "start_time": "2023-07-27T18:27:10.166Z"
   },
   {
    "duration": 30,
    "start_time": "2023-07-27T18:27:54.654Z"
   },
   {
    "duration": 38,
    "start_time": "2023-07-27T18:28:03.919Z"
   },
   {
    "duration": 51,
    "start_time": "2023-07-27T18:28:57.678Z"
   },
   {
    "duration": 49,
    "start_time": "2023-07-27T18:29:07.868Z"
   },
   {
    "duration": 49,
    "start_time": "2023-07-27T18:29:16.311Z"
   },
   {
    "duration": 60,
    "start_time": "2023-07-27T18:29:41.522Z"
   },
   {
    "duration": 79,
    "start_time": "2023-07-27T18:30:10.095Z"
   },
   {
    "duration": 64,
    "start_time": "2023-07-27T18:30:32.571Z"
   },
   {
    "duration": 75,
    "start_time": "2023-07-27T18:30:51.968Z"
   },
   {
    "duration": 35,
    "start_time": "2023-07-27T18:31:39.354Z"
   },
   {
    "duration": 51,
    "start_time": "2023-07-27T18:32:13.577Z"
   },
   {
    "duration": 44,
    "start_time": "2023-07-27T18:32:59.326Z"
   },
   {
    "duration": 32702,
    "start_time": "2023-07-27T18:34:12.642Z"
   },
   {
    "duration": 287,
    "start_time": "2023-07-27T18:34:45.346Z"
   },
   {
    "duration": 154,
    "start_time": "2023-07-27T18:34:45.641Z"
   },
   {
    "duration": 75,
    "start_time": "2023-07-27T18:34:45.797Z"
   },
   {
    "duration": 81,
    "start_time": "2023-07-27T18:34:45.874Z"
   },
   {
    "duration": 75,
    "start_time": "2023-07-27T18:34:45.958Z"
   },
   {
    "duration": 38,
    "start_time": "2023-07-27T18:34:46.034Z"
   },
   {
    "duration": 55,
    "start_time": "2023-07-27T18:34:46.074Z"
   },
   {
    "duration": 48,
    "start_time": "2023-07-27T18:34:46.131Z"
   },
   {
    "duration": 68,
    "start_time": "2023-07-27T18:34:46.182Z"
   },
   {
    "duration": 36,
    "start_time": "2023-07-27T18:34:46.251Z"
   },
   {
    "duration": 82,
    "start_time": "2023-07-27T18:34:46.289Z"
   },
   {
    "duration": 65,
    "start_time": "2023-07-27T18:34:46.374Z"
   },
   {
    "duration": 92,
    "start_time": "2023-07-27T18:34:46.441Z"
   },
   {
    "duration": 71,
    "start_time": "2023-07-27T18:34:46.550Z"
   },
   {
    "duration": 40,
    "start_time": "2023-07-27T18:34:46.626Z"
   },
   {
    "duration": 60,
    "start_time": "2023-07-27T18:34:46.668Z"
   },
   {
    "duration": 39,
    "start_time": "2023-07-27T18:34:46.732Z"
   },
   {
    "duration": 26719,
    "start_time": "2023-07-27T18:36:33.776Z"
   },
   {
    "duration": 320,
    "start_time": "2023-07-27T18:37:00.497Z"
   },
   {
    "duration": 175,
    "start_time": "2023-07-27T18:37:00.821Z"
   },
   {
    "duration": 75,
    "start_time": "2023-07-27T18:37:01.007Z"
   },
   {
    "duration": 82,
    "start_time": "2023-07-27T18:37:01.084Z"
   },
   {
    "duration": 80,
    "start_time": "2023-07-27T18:37:01.167Z"
   },
   {
    "duration": 31,
    "start_time": "2023-07-27T18:37:01.249Z"
   },
   {
    "duration": 55,
    "start_time": "2023-07-27T18:37:01.282Z"
   },
   {
    "duration": 44,
    "start_time": "2023-07-27T18:37:01.338Z"
   },
   {
    "duration": 100,
    "start_time": "2023-07-27T18:37:01.386Z"
   },
   {
    "duration": 66,
    "start_time": "2023-07-27T18:37:01.488Z"
   },
   {
    "duration": 88,
    "start_time": "2023-07-27T18:37:01.556Z"
   },
   {
    "duration": 63,
    "start_time": "2023-07-27T18:37:01.646Z"
   },
   {
    "duration": 68,
    "start_time": "2023-07-27T18:37:01.713Z"
   },
   {
    "duration": 68,
    "start_time": "2023-07-27T18:37:01.783Z"
   },
   {
    "duration": 95,
    "start_time": "2023-07-27T18:37:01.852Z"
   },
   {
    "duration": 41,
    "start_time": "2023-07-27T18:37:01.948Z"
   },
   {
    "duration": 57,
    "start_time": "2023-07-27T18:37:01.992Z"
   },
   {
    "duration": 19020,
    "start_time": "2023-07-27T18:38:53.861Z"
   },
   {
    "duration": 307,
    "start_time": "2023-07-27T18:39:12.883Z"
   },
   {
    "duration": 185,
    "start_time": "2023-07-27T18:39:13.191Z"
   },
   {
    "duration": 77,
    "start_time": "2023-07-27T18:39:13.378Z"
   },
   {
    "duration": 70,
    "start_time": "2023-07-27T18:39:13.457Z"
   },
   {
    "duration": 58,
    "start_time": "2023-07-27T18:39:13.530Z"
   },
   {
    "duration": 51,
    "start_time": "2023-07-27T18:39:13.590Z"
   },
   {
    "duration": 30,
    "start_time": "2023-07-27T18:39:13.642Z"
   },
   {
    "duration": 46,
    "start_time": "2023-07-27T18:39:13.673Z"
   },
   {
    "duration": 34,
    "start_time": "2023-07-27T18:39:13.725Z"
   },
   {
    "duration": 32,
    "start_time": "2023-07-27T18:39:13.760Z"
   },
   {
    "duration": 72,
    "start_time": "2023-07-27T18:39:13.793Z"
   },
   {
    "duration": 66,
    "start_time": "2023-07-27T18:39:13.866Z"
   },
   {
    "duration": 52,
    "start_time": "2023-07-27T18:39:13.934Z"
   },
   {
    "duration": 76,
    "start_time": "2023-07-27T18:39:13.988Z"
   },
   {
    "duration": 34,
    "start_time": "2023-07-27T18:39:14.066Z"
   },
   {
    "duration": 48,
    "start_time": "2023-07-27T18:39:14.102Z"
   },
   {
    "duration": 31,
    "start_time": "2023-07-27T18:39:14.152Z"
   }
  ],
  "kernelspec": {
   "display_name": "Python 3 (ipykernel)",
   "language": "python",
   "name": "python3"
  },
  "language_info": {
   "codemirror_mode": {
    "name": "ipython",
    "version": 3
   },
   "file_extension": ".py",
   "mimetype": "text/x-python",
   "name": "python",
   "nbconvert_exporter": "python",
   "pygments_lexer": "ipython3",
   "version": "3.9.16"
  },
  "toc": {
   "base_numbering": 1,
   "nav_menu": {},
   "number_sections": true,
   "sideBar": true,
   "skip_h1_title": true,
   "title_cell": "Table of Contents",
   "title_sidebar": "Contents",
   "toc_cell": false,
   "toc_position": {},
   "toc_section_display": true,
   "toc_window_display": true
  }
 },
 "nbformat": 4,
 "nbformat_minor": 2
}
