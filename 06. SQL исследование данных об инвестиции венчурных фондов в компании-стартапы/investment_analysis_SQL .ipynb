{
 "cells": [
  {
   "cell_type": "markdown",
   "id": "803d8171",
   "metadata": {},
   "source": [
    "# SQL исследование данных об инвестиции венчурных фондов в компании-стартапы"
   ]
  },
  {
   "cell_type": "markdown",
   "id": "3187083b",
   "metadata": {},
   "source": [
    "Посчитайте, сколько компаний закрылось."
   ]
  },
  {
   "cell_type": "code",
   "execution_count": null,
   "id": "aee47b5e",
   "metadata": {},
   "outputs": [],
   "source": [
    "SELECT COUNT(status)\n",
    "FROM company\n",
    "WHERE status = 'closed';"
   ]
  },
  {
   "cell_type": "markdown",
   "id": "a93f76d9",
   "metadata": {},
   "source": [
    "\n",
    "Отобразите количество привлечённых средств для новостных компаний США. Используйте данные из таблицы company. Отсортируйте таблицу по убыванию значений в поле funding_total ."
   ]
  },
  {
   "cell_type": "code",
   "execution_count": null,
   "id": "22b7fcff",
   "metadata": {},
   "outputs": [],
   "source": [
    "SELECT funding_total\n",
    "FROM company\n",
    "WHERE category_code = 'news' AND country_code = 'USA'\n",
    "ORDER BY funding_total DESC;"
   ]
  },
  {
   "cell_type": "markdown",
   "id": "7c70e7ef",
   "metadata": {},
   "source": [
    "Найдите общую сумму сделок по покупке одних компаний другими в долларах. Отберите сделки, которые осуществлялись только за наличные с 2011 по 2013 год включительно."
   ]
  },
  {
   "cell_type": "code",
   "execution_count": null,
   "id": "a7f00b21",
   "metadata": {},
   "outputs": [],
   "source": [
    "SELECT SUM(price_amount)\n",
    "FROM acquisition\n",
    "WHERE term_code = 'cash'\n",
    "AND EXTRACT(YEAR FROM CAST(acquired_at AS date)) BETWEEN '2011' AND '2013';"
   ]
  },
  {
   "cell_type": "markdown",
   "id": "fbccb851",
   "metadata": {},
   "source": [
    "Отобразите имя, фамилию и названия аккаунтов людей в твиттере, у которых названия аккаунтов начинаются на 'Silver'."
   ]
  },
  {
   "cell_type": "code",
   "execution_count": null,
   "id": "4217ab76",
   "metadata": {},
   "outputs": [],
   "source": [
    "SELECT first_name,\n",
    "       last_name,\n",
    "       twitter_username\n",
    "FROM people\n",
    "WHERE twitter_username LIKE 'Silver%';"
   ]
  },
  {
   "cell_type": "markdown",
   "id": "b1b548c8",
   "metadata": {},
   "source": [
    "Выведите на экран всю информацию о людях, у которых названия аккаунтов в твиттере содержат подстроку 'money', а фамилия начинается на 'K'."
   ]
  },
  {
   "cell_type": "code",
   "execution_count": null,
   "id": "3dfe8613",
   "metadata": {},
   "outputs": [],
   "source": [
    "SELECT * \n",
    "FROM people\n",
    "WHERE twitter_username LIKE '%money%' \n",
    "AND last_name LIKE 'K%';"
   ]
  },
  {
   "cell_type": "markdown",
   "id": "36bb1fb2",
   "metadata": {},
   "source": [
    "Для каждой страны отобразите общую сумму привлечённых инвестиций, которые получили компании, зарегистрированные в этой стране. Страну, в которой зарегистрирована компания, можно определить по коду страны. Отсортируйте данные по убыванию суммы."
   ]
  },
  {
   "cell_type": "code",
   "execution_count": null,
   "id": "18bc8667",
   "metadata": {},
   "outputs": [],
   "source": [
    "SELECT country_code,\n",
    "       SUM(funding_total)\n",
    "FROM company\n",
    "GROUP BY country_code\n",
    "ORDER BY SUM(funding_total) DESC;"
   ]
  },
  {
   "cell_type": "markdown",
   "id": "9831f26e",
   "metadata": {},
   "source": [
    "Составьте таблицу, в которую войдёт дата проведения раунда, а также минимальное и максимальное значения суммы инвестиций, привлечённых в эту дату.\n",
    "Оставьте в итоговой таблице только те записи, в которых минимальное значение суммы инвестиций не равно нулю и не равно максимальному значению."
   ]
  },
  {
   "cell_type": "code",
   "execution_count": null,
   "id": "364006fb",
   "metadata": {},
   "outputs": [],
   "source": [
    "SELECT funded_at,\n",
    "       MIN(raised_amount),\n",
    "       MAX(raised_amount)\n",
    "FROM funding_round\n",
    "GROUP BY funded_at\n",
    "HAVING MIN(raised_amount) <> 0 AND MIN(raised_amount) <> MAX(raised_amount);"
   ]
  },
  {
   "cell_type": "markdown",
   "id": "04c35b03",
   "metadata": {},
   "source": [
    "Создайте поле с категориями:\n",
    "Для фондов, которые инвестируют в 100 и более компаний, назначьте категорию high_activity.\n",
    "Для фондов, которые инвестируют в 20 и более компаний до 100, назначьте категорию middle_activity.\n",
    "Если количество инвестируемых компаний фонда не достигает 20, назначьте категорию low_activity.\n",
    "Отобразите все поля таблицы fund и новое поле с категориями."
   ]
  },
  {
   "cell_type": "code",
   "execution_count": null,
   "id": "455aeeaf",
   "metadata": {},
   "outputs": [],
   "source": [
    "SELECT *,\n",
    "       CASE \n",
    "           WHEN invested_companies >= 100 THEN 'high_activity'\n",
    "           WHEN invested_companies >= 20 and invested_companies < 100 THEN 'middle_activity'\n",
    "           WHEN invested_companies < 20 THEN 'low_activity'\n",
    "       END\n",
    "FROM fund;"
   ]
  },
  {
   "cell_type": "markdown",
   "id": "f613f8a9",
   "metadata": {},
   "source": [
    "Для каждой из категорий, назначенных в предыдущем задании, посчитайте округлённое до ближайшего целого числа среднее количество инвестиционных раундов, в которых фонд принимал участие. Выведите на экран категории и среднее число инвестиционных раундов. Отсортируйте таблицу по возрастанию среднего."
   ]
  },
  {
   "cell_type": "code",
   "execution_count": null,
   "id": "ea64236c",
   "metadata": {},
   "outputs": [],
   "source": [
    "SELECT i.activity,\n",
    "       ROUND(AVG(investment_rounds))\n",
    "FROM\n",
    "(SELECT *,\n",
    "       CASE\n",
    "           WHEN invested_companies>=100 THEN 'high_activity'\n",
    "           WHEN invested_companies>=20 THEN 'middle_activity'\n",
    "           ELSE 'low_activity'\n",
    "       END AS activity\n",
    "FROM fund) AS i\n",
    "GROUP BY i.activity\n",
    "ORDER BY ROUND(AVG(investment_rounds));"
   ]
  },
  {
   "cell_type": "markdown",
   "id": "13b5e55b",
   "metadata": {},
   "source": [
    "Проанализируйте, в каких странах находятся фонды, которые чаще всего инвестируют в стартапы. \n",
    "Для каждой страны посчитайте минимальное, максимальное и среднее число компаний, в которые инвестировали фонды этой страны, основанные с 2010 по 2012 год включительно. Исключите страны с фондами, у которых минимальное число компаний, получивших инвестиции, равно нулю. \n",
    "Выгрузите десять самых активных стран-инвесторов: отсортируйте таблицу по среднему количеству компаний от большего к меньшему. Затем добавьте сортировку по коду страны в лексикографическом порядке."
   ]
  },
  {
   "cell_type": "code",
   "execution_count": null,
   "id": "5762764a",
   "metadata": {},
   "outputs": [],
   "source": [
    "SELECT country_code,\n",
    "       MIN(invested_companies),\n",
    "       MAX(invested_companies),\n",
    "       AVG(invested_companies)\n",
    "FROM fund\n",
    "WHERE EXTRACT(YEAR FROM CAST(founded_at AS DATE)) BETWEEN 2010 AND 2012\n",
    "GROUP BY country_code\n",
    "HAVING MIN(invested_companies) > 0\n",
    "ORDER BY AVG(invested_companies) DESC\n",
    "LIMIT 10;"
   ]
  },
  {
   "cell_type": "markdown",
   "id": "a26b72e1",
   "metadata": {},
   "source": [
    "Отобразите имя и фамилию всех сотрудников стартапов. Добавьте поле с названием учебного заведения, которое окончил сотрудник, если эта информация известна."
   ]
  },
  {
   "cell_type": "code",
   "execution_count": null,
   "id": "74b20f80",
   "metadata": {},
   "outputs": [],
   "source": [
    "SELECT a.first_name,\n",
    "       a.last_name,\n",
    "       b.instituition\n",
    "FROM people AS a\n",
    "LEFT OUTER JOIN education AS b ON a.id = b.person_id;"
   ]
  },
  {
   "cell_type": "markdown",
   "id": "db85495b",
   "metadata": {},
   "source": [
    "Для каждой компании найдите количество учебных заведений, которые окончили её сотрудники. Выведите название компании и число уникальных названий учебных заведений. Составьте топ-5 компаний по количеству университетов."
   ]
  },
  {
   "cell_type": "code",
   "execution_count": null,
   "id": "716ddad5",
   "metadata": {},
   "outputs": [],
   "source": [
    "SELECT a.name,\n",
    "       COUNT(DISTINCT c.instituition)\n",
    "FROM company AS a\n",
    "JOIN people AS b ON a.id = b.company_id\n",
    "JOIN education AS c ON b.id = c.person_id\n",
    "GROUP BY a.name\n",
    "ORDER BY COUNT(DISTINCT c.instituition) DESC\n",
    "LIMIT 5;"
   ]
  },
  {
   "cell_type": "markdown",
   "id": "b9d3321d",
   "metadata": {},
   "source": [
    "Составьте список с уникальными названиями закрытых компаний, для которых первый раунд финансирования оказался последним."
   ]
  },
  {
   "cell_type": "code",
   "execution_count": null,
   "id": "3fe9b034",
   "metadata": {},
   "outputs": [],
   "source": [
    "SELECT DISTINCT name\n",
    "FROM company \n",
    "WHERE id IN (SELECT company_id\n",
    "             FROM funding_round\n",
    "             WHERE is_first_round = 1 AND is_last_round = 1)\n",
    "AND status = 'closed';"
   ]
  },
  {
   "cell_type": "markdown",
   "id": "896ba068",
   "metadata": {},
   "source": [
    "Составьте список уникальных номеров сотрудников, которые работают в компаниях, отобранных в предыдущем задании."
   ]
  },
  {
   "cell_type": "code",
   "execution_count": null,
   "id": "9825f5ad",
   "metadata": {},
   "outputs": [],
   "source": [
    "SELECT id\n",
    "FROM people\n",
    "WHERE company_id IN\n",
    "(SELECT id\n",
    "FROM company \n",
    "WHERE id IN (SELECT company_id\n",
    "             FROM funding_round\n",
    "             WHERE is_first_round = 1 AND is_last_round = 1)\n",
    "AND status = 'closed');"
   ]
  },
  {
   "cell_type": "markdown",
   "id": "071fbde4",
   "metadata": {},
   "source": [
    "Составьте таблицу, куда войдут уникальные пары с номерами сотрудников из предыдущей задачи и учебным заведением, которое окончил сотрудник."
   ]
  },
  {
   "cell_type": "code",
   "execution_count": null,
   "id": "2f03d667",
   "metadata": {},
   "outputs": [],
   "source": [
    "SELECT DISTINCT person_id,\n",
    "       instituition\n",
    "FROM education\n",
    "WHERE person_id IN\n",
    "(SELECT id\n",
    "FROM people\n",
    "WHERE company_id IN\n",
    "(SELECT id\n",
    "FROM company \n",
    "WHERE id IN (SELECT company_id\n",
    "             FROM funding_round\n",
    "             WHERE is_first_round = 1 AND is_last_round = 1)\n",
    "AND status = 'closed'));"
   ]
  },
  {
   "cell_type": "markdown",
   "id": "d506c50b",
   "metadata": {},
   "source": [
    "Посчитайте количество учебных заведений для каждого сотрудника из предыдущего задания. При подсчёте учитывайте, что некоторые сотрудники могли окончить одно и то же заведение дважды."
   ]
  },
  {
   "cell_type": "code",
   "execution_count": null,
   "id": "80754cfb",
   "metadata": {},
   "outputs": [],
   "source": [
    "SELECT person_id,\n",
    "       COUNT(instituition)\n",
    "FROM education\n",
    "WHERE person_id IN\n",
    "(SELECT id\n",
    "FROM people\n",
    "WHERE company_id IN\n",
    "(SELECT id\n",
    "FROM company \n",
    "WHERE id IN (SELECT company_id\n",
    "             FROM funding_round\n",
    "             WHERE is_first_round = 1 AND is_last_round = 1)\n",
    "AND status = 'closed'))\n",
    "GROUP BY person_id;"
   ]
  },
  {
   "cell_type": "markdown",
   "id": "dcb0b904",
   "metadata": {},
   "source": [
    "Дополните предыдущий запрос и выведите среднее число учебных заведений (всех, не только уникальных), которые окончили сотрудники разных компаний. Нужно вывести только одну запись, группировка здесь не понадобится."
   ]
  },
  {
   "cell_type": "code",
   "execution_count": null,
   "id": "5ea53f18",
   "metadata": {},
   "outputs": [],
   "source": [
    "SELECT AVG(all_info.all_instituition)\n",
    "FROM\n",
    "(SELECT person_id,\n",
    "       COUNT(instituition) AS all_instituition\n",
    "FROM education\n",
    "WHERE person_id IN\n",
    "(SELECT id\n",
    "FROM people\n",
    "WHERE company_id IN\n",
    "(SELECT id\n",
    "FROM company \n",
    "WHERE id IN (SELECT company_id\n",
    "             FROM funding_round\n",
    "             WHERE is_first_round = 1 AND is_last_round = 1)\n",
    "AND status = 'closed'))"
   ]
  },
  {
   "cell_type": "markdown",
   "id": "07b4f4d4",
   "metadata": {},
   "source": [
    "Напишите похожий запрос: выведите среднее число учебных заведений (всех, не только уникальных), которые окончили сотрудники Facebook*."
   ]
  },
  {
   "cell_type": "code",
   "execution_count": null,
   "id": "83b09a2a",
   "metadata": {},
   "outputs": [],
   "source": [
    "SELECT AVG(mid_instituition2.mid)\n",
    "FROM\n",
    "(SELECT mid_instituition.person_id,\n",
    "       COUNT(mid_instituition.instituition) AS mid\n",
    "FROM\n",
    "(SELECT person_id,\n",
    "       instituition\n",
    "FROM education\n",
    "WHERE person_id IN\n",
    "(SELECT id\n",
    "FROM people \n",
    "WHERE company_id IN (SELECT id\n",
    "             FROM company\n",
    "             WHERE name = 'Facebook'))) AS mid_instituition\n",
    "             GROUP BY mid_instituition.person_id) AS mid_instituition2;"
   ]
  },
  {
   "cell_type": "markdown",
   "id": "584bd6a3",
   "metadata": {},
   "source": [
    "Составьте таблицу из полей:\n",
    "name_of_fund — название фонда;\n",
    "name_of_company — название компании;\n",
    "amount — сумма инвестиций, которую привлекла компания в раунде.\n",
    "В таблицу войдут данные о компаниях, в истории которых было больше шести важных этапов, а раунды финансирования проходили с 2012 по 2013 год включительно."
   ]
  },
  {
   "cell_type": "code",
   "execution_count": null,
   "id": "5fa66d85",
   "metadata": {},
   "outputs": [],
   "source": [
    "SELECT f.name AS name_of_fund, \n",
    "       c.name AS name_of_company, \n",
    "         fr.raised_amount AS amount\n",
    "FROM investment AS inv \n",
    "LEFT JOIN company AS c ON c.id = inv.company_id\n",
    "LEFT JOIN fund AS f ON f.id = inv.fund_id\n",
    "INNER JOIN (SELECT * \n",
    "           FROM funding_round\n",
    "           WHERE EXTRACT(YEAR FROM funded_at) BETWEEN 2012 AND 2013) AS fr ON fr.id = inv.funding_round_id\n",
    "WHERE c.milestones > 6;"
   ]
  },
  {
   "cell_type": "markdown",
   "id": "7558766a",
   "metadata": {},
   "source": [
    "Выгрузите таблицу, в которой будут такие поля:\n",
    "название компании-покупателя;\n",
    "сумма сделки;\n",
    "название компании, которую купили;\n",
    "сумма инвестиций, вложенных в купленную компанию;\n",
    "доля, которая отображает, во сколько раз сумма покупки превысила сумму вложенных в компанию инвестиций, округлённая до ближайшего целого числа.\n",
    "Не учитывайте те сделки, в которых сумма покупки равна нулю. Если сумма инвестиций в компанию равна нулю, исключите такую компанию из таблицы. \n",
    "Отсортируйте таблицу по сумме сделки от большей к меньшей, а затем по названию купленной компании в лексикографическом порядке. Ограничьте таблицу первыми десятью записями."
   ]
  },
  {
   "cell_type": "code",
   "execution_count": null,
   "id": "21f9223c",
   "metadata": {},
   "outputs": [],
   "source": [
    "SELECT c1.name AS name1, \n",
    "       ac.price_amount,\n",
    "       c2.name AS name2, \n",
    "       c2.funding_total,\n",
    "       ROUND(ac.price_amount / c2.funding_total)\n",
    "FROM acquisition AS ac\n",
    "LEFT JOIN company AS c1 ON ac.acquiring_company_id=c1.id\n",
    "LEFT JOIN company AS c2 ON ac.acquired_company_id=c2.id\n",
    " \n",
    "WHERE ac.price_amount > 0 AND c2.funding_total>0\n",
    "ORDER BY ac.price_amount DESC, name2 \n",
    "LIMIT 10;"
   ]
  },
  {
   "cell_type": "markdown",
   "id": "eb63d20a",
   "metadata": {},
   "source": [
    "Выгрузите таблицу, в которую войдут названия компаний из категории social, получившие финансирование с 2010 по 2013 год включительно. Проверьте, что сумма инвестиций не равна нулю. Выведите также номер месяца, в котором проходил раунд финансирования."
   ]
  },
  {
   "cell_type": "code",
   "execution_count": null,
   "id": "e2e479fb",
   "metadata": {},
   "outputs": [],
   "source": [
    "SELECT c.name,\n",
    "      EXTRACT(MONTH FROM CAST(fr.funded_at AS date))\n",
    "FROM funding_round AS fr\n",
    "LEFT JOIN company AS c ON c.id = fr.company_id\n",
    "WHERE c.category_code = 'social' AND EXTRACT(YEAR FROM CAST(fr.funded_at AS date)) \n",
    "BETWEEN '2010' AND '2013' AND fr.raised_amount > 0;"
   ]
  },
  {
   "cell_type": "markdown",
   "id": "7270ee8a",
   "metadata": {},
   "source": [
    "Отберите данные по месяцам с 2010 по 2013 год, когда проходили инвестиционные раунды. Сгруппируйте данные по номеру месяца и получите таблицу, в которой будут поля:\n",
    "номер месяца, в котором проходили раунды;\n",
    "количество уникальных названий фондов из США, которые инвестировали в этом месяце;\n",
    "количество компаний, купленных за этот месяц;\n",
    "общая сумма сделок по покупкам в этом месяце."
   ]
  },
  {
   "cell_type": "code",
   "execution_count": null,
   "id": "ba1e0724",
   "metadata": {},
   "outputs": [],
   "source": [
    "WITH USA AS (SELECT EXTRACT(MONTH FROM fr.funded_at) AS month_number,\n",
    "                           COUNT(DISTINCT f.name) AS usa_funds\n",
    "                    FROM funding_round AS fr \n",
    "                    LEFT JOIN investment AS inv ON inv.funding_round_id = fr.id\n",
    "                    LEFT JOIN fund AS f ON inv.fund_id = f.id\n",
    "                    WHERE EXTRACT(YEAR FROM fr.funded_at) BETWEEN 2010 AND 2013 \n",
    "                     AND f.country_code = 'USA'\n",
    "                    GROUP BY month_number),\n",
    "    comp AS (SELECT EXTRACT(MONTH FROM acquired_at) AS month_number,\n",
    "                              COUNT(acquired_company_id) AS company_number,\n",
    "                              SUM(price_amount) AS total_sum\n",
    "                       FROM acquisition\n",
    "                       WHERE EXTRACT(YEAR FROM acquired_at) BETWEEN 2010 AND 2013 \n",
    "                       GROUP BY month_number)\n",
    "SELECT USA.month_number,\n",
    "       USA.usa_funds,\n",
    "         comp.company_number,\n",
    "         comp.total_sum\n",
    "FROM USA JOIN comp ON USA.month_number = comp.month_number;"
   ]
  },
  {
   "cell_type": "markdown",
   "id": "eada72c9",
   "metadata": {},
   "source": [
    "Составьте сводную таблицу и выведите среднюю сумму инвестиций для стран, в которых есть стартапы, зарегистрированные в 2011, 2012 и 2013 годах. Данные за каждый год должны быть в отдельном поле. Отсортируйте таблицу по среднему значению инвестиций за 2011 год от большего к меньшему."
   ]
  },
  {
   "cell_type": "code",
   "execution_count": null,
   "id": "9cdbb81a",
   "metadata": {},
   "outputs": [],
   "source": [
    "WITH\n",
    "i AS (SELECT country_code,\n",
    "       AVG(funding_total) AS AVG2011\n",
    "FROM company\n",
    "WHERE EXTRACT(YEAR FROM CAST(founded_at AS date)) = 2011\n",
    "GROUP BY country_code),\n",
    "i2 AS (SELECT country_code,\n",
    "       AVG(funding_total) AS AVG2012\n",
    "FROM company\n",
    "WHERE EXTRACT(YEAR FROM CAST(founded_at AS date)) = 2012\n",
    "GROUP BY country_code),\n",
    "i3 AS (SELECT country_code,\n",
    "       AVG(funding_total) AS AVG2013\n",
    "FROM company\n",
    "WHERE EXTRACT(YEAR FROM CAST(founded_at AS date)) = 2013\n",
    "GROUP BY country_code)\n",
    "\n",
    "SELECT i.country_code,\n",
    "       i.AVG2011,\n",
    "       i2.AVG2012,\n",
    "       i3.AVG2013\n",
    "FROM  i JOIN i2 ON  i.country_code = i2.country_code JOIN i3 ON i.country_code = i3.country_code\n",
    "ORDER BY i.AVG2011 DESC;"
   ]
  }
 ],
 "metadata": {
  "kernelspec": {
   "display_name": "Python 3 (ipykernel)",
   "language": "python",
   "name": "python3"
  },
  "language_info": {
   "codemirror_mode": {
    "name": "ipython",
    "version": 3
   },
   "file_extension": ".py",
   "mimetype": "text/x-python",
   "name": "python",
   "nbconvert_exporter": "python",
   "pygments_lexer": "ipython3",
   "version": "3.9.16"
  },
  "toc": {
   "base_numbering": 1,
   "nav_menu": {},
   "number_sections": true,
   "sideBar": true,
   "skip_h1_title": true,
   "title_cell": "Table of Contents",
   "title_sidebar": "Contents",
   "toc_cell": false,
   "toc_position": {
    "height": "calc(100% - 180px)",
    "left": "10px",
    "top": "150px",
    "width": "303.542px"
   },
   "toc_section_display": true,
   "toc_window_display": false
  }
 },
 "nbformat": 4,
 "nbformat_minor": 5
}
