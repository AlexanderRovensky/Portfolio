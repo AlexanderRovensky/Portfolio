{
 "cells": [
  {
   "cell_type": "markdown",
   "metadata": {},
   "source": [
    "##  Загрузка и подготовка к анализу данных"
   ]
  },
  {
   "cell_type": "code",
   "execution_count": 1,
   "metadata": {},
   "outputs": [],
   "source": [
    "import pandas as pd\n",
    "import datetime as dt\n",
    "import numpy as np\n",
    "import matplotlib.pyplot as plt\n",
    "from pandas.plotting import register_matplotlib_converters\n",
    "import warnings\n",
    "import scipy.stats as stats"
   ]
  },
  {
   "cell_type": "markdown",
   "metadata": {},
   "source": [
    "Подготовим к анализу данные /datasets/hypothesis.csv"
   ]
  },
  {
   "cell_type": "code",
   "execution_count": 2,
   "metadata": {},
   "outputs": [],
   "source": [
    "hypothesis = pd.read_csv('https://code.s3.yandex.net/datasets/hypothesis.csv')"
   ]
  },
  {
   "cell_type": "code",
   "execution_count": 3,
   "metadata": {},
   "outputs": [
    {
     "data": {
      "text/html": [
       "<div>\n",
       "<style scoped>\n",
       "    .dataframe tbody tr th:only-of-type {\n",
       "        vertical-align: middle;\n",
       "    }\n",
       "\n",
       "    .dataframe tbody tr th {\n",
       "        vertical-align: top;\n",
       "    }\n",
       "\n",
       "    .dataframe thead th {\n",
       "        text-align: right;\n",
       "    }\n",
       "</style>\n",
       "<table border=\"1\" class=\"dataframe\">\n",
       "  <thead>\n",
       "    <tr style=\"text-align: right;\">\n",
       "      <th></th>\n",
       "      <th>Hypothesis</th>\n",
       "      <th>Reach</th>\n",
       "      <th>Impact</th>\n",
       "      <th>Confidence</th>\n",
       "      <th>Efforts</th>\n",
       "    </tr>\n",
       "  </thead>\n",
       "  <tbody>\n",
       "    <tr>\n",
       "      <th>0</th>\n",
       "      <td>Добавить два новых канала привлечения трафика,...</td>\n",
       "      <td>3</td>\n",
       "      <td>10</td>\n",
       "      <td>8</td>\n",
       "      <td>6</td>\n",
       "    </tr>\n",
       "    <tr>\n",
       "      <th>1</th>\n",
       "      <td>Запустить собственную службу доставки, что сок...</td>\n",
       "      <td>2</td>\n",
       "      <td>5</td>\n",
       "      <td>4</td>\n",
       "      <td>10</td>\n",
       "    </tr>\n",
       "    <tr>\n",
       "      <th>2</th>\n",
       "      <td>Добавить блоки рекомендаций товаров на сайт ин...</td>\n",
       "      <td>8</td>\n",
       "      <td>3</td>\n",
       "      <td>7</td>\n",
       "      <td>3</td>\n",
       "    </tr>\n",
       "    <tr>\n",
       "      <th>3</th>\n",
       "      <td>Изменить структура категорий, что увеличит кон...</td>\n",
       "      <td>8</td>\n",
       "      <td>3</td>\n",
       "      <td>3</td>\n",
       "      <td>8</td>\n",
       "    </tr>\n",
       "    <tr>\n",
       "      <th>4</th>\n",
       "      <td>Изменить цвет фона главной страницы, чтобы уве...</td>\n",
       "      <td>3</td>\n",
       "      <td>1</td>\n",
       "      <td>1</td>\n",
       "      <td>1</td>\n",
       "    </tr>\n",
       "  </tbody>\n",
       "</table>\n",
       "</div>"
      ],
      "text/plain": [
       "                                          Hypothesis  Reach  Impact  \\\n",
       "0  Добавить два новых канала привлечения трафика,...      3      10   \n",
       "1  Запустить собственную службу доставки, что сок...      2       5   \n",
       "2  Добавить блоки рекомендаций товаров на сайт ин...      8       3   \n",
       "3  Изменить структура категорий, что увеличит кон...      8       3   \n",
       "4  Изменить цвет фона главной страницы, чтобы уве...      3       1   \n",
       "\n",
       "   Confidence  Efforts  \n",
       "0           8        6  \n",
       "1           4       10  \n",
       "2           7        3  \n",
       "3           3        8  \n",
       "4           1        1  "
      ]
     },
     "metadata": {},
     "output_type": "display_data"
    }
   ],
   "source": [
    "display(hypothesis.head(5))"
   ]
  },
  {
   "cell_type": "markdown",
   "metadata": {},
   "source": [
    "Переведем название столбцов к одному регистру"
   ]
  },
  {
   "cell_type": "code",
   "execution_count": 4,
   "metadata": {},
   "outputs": [],
   "source": [
    "hypothesis.columns = hypothesis.columns.str.lower()"
   ]
  },
  {
   "cell_type": "code",
   "execution_count": 5,
   "metadata": {},
   "outputs": [
    {
     "name": "stdout",
     "output_type": "stream",
     "text": [
      "                                          hypothesis  reach  impact  \\\n",
      "0  Добавить два новых канала привлечения трафика,...      3      10   \n",
      "1  Запустить собственную службу доставки, что сок...      2       5   \n",
      "2  Добавить блоки рекомендаций товаров на сайт ин...      8       3   \n",
      "3  Изменить структура категорий, что увеличит кон...      8       3   \n",
      "4  Изменить цвет фона главной страницы, чтобы уве...      3       1   \n",
      "5  Добавить страницу отзывов клиентов о магазине,...      3       2   \n",
      "6  Показать на главной странице баннеры с актуаль...      5       3   \n",
      "7  Добавить форму подписки на все основные страни...     10       7   \n",
      "8  Запустить акцию, дающую скидку на товар в день...      1       9   \n",
      "\n",
      "   confidence  efforts  \n",
      "0           8        6  \n",
      "1           4       10  \n",
      "2           7        3  \n",
      "3           3        8  \n",
      "4           1        1  \n",
      "5           2        3  \n",
      "6           8        3  \n",
      "7           8        5  \n",
      "8           9        5  \n"
     ]
    }
   ],
   "source": [
    "print(hypothesis) # проверили результат"
   ]
  },
  {
   "cell_type": "markdown",
   "metadata": {},
   "source": [
    "Визуально можно увидеть, что дупликатов в данной таблице нет и с ней можно начинать работать.\n",
    "Далее для дальнейшей работы подготовим к анализу таблицы /datasets/orders.csv и /datasets/visitors.csv"
   ]
  },
  {
   "cell_type": "code",
   "execution_count": 6,
   "metadata": {},
   "outputs": [],
   "source": [
    "orders = pd.read_csv('https://code.s3.yandex.net/datasets/orders.csv')"
   ]
  },
  {
   "cell_type": "code",
   "execution_count": 7,
   "metadata": {},
   "outputs": [
    {
     "data": {
      "text/html": [
       "<div>\n",
       "<style scoped>\n",
       "    .dataframe tbody tr th:only-of-type {\n",
       "        vertical-align: middle;\n",
       "    }\n",
       "\n",
       "    .dataframe tbody tr th {\n",
       "        vertical-align: top;\n",
       "    }\n",
       "\n",
       "    .dataframe thead th {\n",
       "        text-align: right;\n",
       "    }\n",
       "</style>\n",
       "<table border=\"1\" class=\"dataframe\">\n",
       "  <thead>\n",
       "    <tr style=\"text-align: right;\">\n",
       "      <th></th>\n",
       "      <th>transactionId</th>\n",
       "      <th>visitorId</th>\n",
       "      <th>date</th>\n",
       "      <th>revenue</th>\n",
       "      <th>group</th>\n",
       "    </tr>\n",
       "  </thead>\n",
       "  <tbody>\n",
       "    <tr>\n",
       "      <th>0</th>\n",
       "      <td>3667963787</td>\n",
       "      <td>3312258926</td>\n",
       "      <td>2019-08-15</td>\n",
       "      <td>1650</td>\n",
       "      <td>B</td>\n",
       "    </tr>\n",
       "    <tr>\n",
       "      <th>1</th>\n",
       "      <td>2804400009</td>\n",
       "      <td>3642806036</td>\n",
       "      <td>2019-08-15</td>\n",
       "      <td>730</td>\n",
       "      <td>B</td>\n",
       "    </tr>\n",
       "    <tr>\n",
       "      <th>2</th>\n",
       "      <td>2961555356</td>\n",
       "      <td>4069496402</td>\n",
       "      <td>2019-08-15</td>\n",
       "      <td>400</td>\n",
       "      <td>A</td>\n",
       "    </tr>\n",
       "    <tr>\n",
       "      <th>3</th>\n",
       "      <td>3797467345</td>\n",
       "      <td>1196621759</td>\n",
       "      <td>2019-08-15</td>\n",
       "      <td>9759</td>\n",
       "      <td>B</td>\n",
       "    </tr>\n",
       "    <tr>\n",
       "      <th>4</th>\n",
       "      <td>2282983706</td>\n",
       "      <td>2322279887</td>\n",
       "      <td>2019-08-15</td>\n",
       "      <td>2308</td>\n",
       "      <td>B</td>\n",
       "    </tr>\n",
       "  </tbody>\n",
       "</table>\n",
       "</div>"
      ],
      "text/plain": [
       "   transactionId   visitorId        date  revenue group\n",
       "0     3667963787  3312258926  2019-08-15     1650     B\n",
       "1     2804400009  3642806036  2019-08-15      730     B\n",
       "2     2961555356  4069496402  2019-08-15      400     A\n",
       "3     3797467345  1196621759  2019-08-15     9759     B\n",
       "4     2282983706  2322279887  2019-08-15     2308     B"
      ]
     },
     "metadata": {},
     "output_type": "display_data"
    }
   ],
   "source": [
    "display(orders.head(5))"
   ]
  },
  {
   "cell_type": "markdown",
   "metadata": {},
   "source": [
    "Приведем названи я столбцов к нижнему регистру"
   ]
  },
  {
   "cell_type": "code",
   "execution_count": 8,
   "metadata": {},
   "outputs": [],
   "source": [
    "orders.columns = orders.columns.str.lower()"
   ]
  },
  {
   "cell_type": "code",
   "execution_count": 9,
   "metadata": {},
   "outputs": [
    {
     "data": {
      "text/html": [
       "<div>\n",
       "<style scoped>\n",
       "    .dataframe tbody tr th:only-of-type {\n",
       "        vertical-align: middle;\n",
       "    }\n",
       "\n",
       "    .dataframe tbody tr th {\n",
       "        vertical-align: top;\n",
       "    }\n",
       "\n",
       "    .dataframe thead th {\n",
       "        text-align: right;\n",
       "    }\n",
       "</style>\n",
       "<table border=\"1\" class=\"dataframe\">\n",
       "  <thead>\n",
       "    <tr style=\"text-align: right;\">\n",
       "      <th></th>\n",
       "      <th>transactionid</th>\n",
       "      <th>visitorid</th>\n",
       "      <th>date</th>\n",
       "      <th>revenue</th>\n",
       "      <th>group</th>\n",
       "    </tr>\n",
       "  </thead>\n",
       "  <tbody>\n",
       "    <tr>\n",
       "      <th>0</th>\n",
       "      <td>3667963787</td>\n",
       "      <td>3312258926</td>\n",
       "      <td>2019-08-15</td>\n",
       "      <td>1650</td>\n",
       "      <td>B</td>\n",
       "    </tr>\n",
       "    <tr>\n",
       "      <th>1</th>\n",
       "      <td>2804400009</td>\n",
       "      <td>3642806036</td>\n",
       "      <td>2019-08-15</td>\n",
       "      <td>730</td>\n",
       "      <td>B</td>\n",
       "    </tr>\n",
       "    <tr>\n",
       "      <th>2</th>\n",
       "      <td>2961555356</td>\n",
       "      <td>4069496402</td>\n",
       "      <td>2019-08-15</td>\n",
       "      <td>400</td>\n",
       "      <td>A</td>\n",
       "    </tr>\n",
       "    <tr>\n",
       "      <th>3</th>\n",
       "      <td>3797467345</td>\n",
       "      <td>1196621759</td>\n",
       "      <td>2019-08-15</td>\n",
       "      <td>9759</td>\n",
       "      <td>B</td>\n",
       "    </tr>\n",
       "    <tr>\n",
       "      <th>4</th>\n",
       "      <td>2282983706</td>\n",
       "      <td>2322279887</td>\n",
       "      <td>2019-08-15</td>\n",
       "      <td>2308</td>\n",
       "      <td>B</td>\n",
       "    </tr>\n",
       "  </tbody>\n",
       "</table>\n",
       "</div>"
      ],
      "text/plain": [
       "   transactionid   visitorid        date  revenue group\n",
       "0     3667963787  3312258926  2019-08-15     1650     B\n",
       "1     2804400009  3642806036  2019-08-15      730     B\n",
       "2     2961555356  4069496402  2019-08-15      400     A\n",
       "3     3797467345  1196621759  2019-08-15     9759     B\n",
       "4     2282983706  2322279887  2019-08-15     2308     B"
      ]
     },
     "metadata": {},
     "output_type": "display_data"
    }
   ],
   "source": [
    "display(orders.head(5))"
   ]
  },
  {
   "cell_type": "markdown",
   "metadata": {},
   "source": [
    "Проверим файл на дупликаты и пропущенные значения."
   ]
  },
  {
   "cell_type": "code",
   "execution_count": 10,
   "metadata": {},
   "outputs": [
    {
     "data": {
      "text/plain": [
       "0"
      ]
     },
     "execution_count": 10,
     "metadata": {},
     "output_type": "execute_result"
    }
   ],
   "source": [
    "orders.duplicated().sum()"
   ]
  },
  {
   "cell_type": "code",
   "execution_count": 11,
   "metadata": {},
   "outputs": [
    {
     "name": "stdout",
     "output_type": "stream",
     "text": [
      "<class 'pandas.core.frame.DataFrame'>\n",
      "RangeIndex: 1197 entries, 0 to 1196\n",
      "Data columns (total 5 columns):\n",
      " #   Column         Non-Null Count  Dtype \n",
      "---  ------         --------------  ----- \n",
      " 0   transactionid  1197 non-null   int64 \n",
      " 1   visitorid      1197 non-null   int64 \n",
      " 2   date           1197 non-null   object\n",
      " 3   revenue        1197 non-null   int64 \n",
      " 4   group          1197 non-null   object\n",
      "dtypes: int64(3), object(2)\n",
      "memory usage: 46.9+ KB\n"
     ]
    }
   ],
   "source": [
    "orders.info()"
   ]
  },
  {
   "cell_type": "code",
   "execution_count": 12,
   "metadata": {},
   "outputs": [],
   "source": [
    "orders['date'] = pd.to_datetime(orders['date']) "
   ]
  },
  {
   "cell_type": "code",
   "execution_count": 13,
   "metadata": {},
   "outputs": [
    {
     "name": "stdout",
     "output_type": "stream",
     "text": [
      "<class 'pandas.core.frame.DataFrame'>\n",
      "RangeIndex: 1197 entries, 0 to 1196\n",
      "Data columns (total 5 columns):\n",
      " #   Column         Non-Null Count  Dtype         \n",
      "---  ------         --------------  -----         \n",
      " 0   transactionid  1197 non-null   int64         \n",
      " 1   visitorid      1197 non-null   int64         \n",
      " 2   date           1197 non-null   datetime64[ns]\n",
      " 3   revenue        1197 non-null   int64         \n",
      " 4   group          1197 non-null   object        \n",
      "dtypes: datetime64[ns](1), int64(3), object(1)\n",
      "memory usage: 46.9+ KB\n"
     ]
    }
   ],
   "source": [
    "orders.info()"
   ]
  },
  {
   "cell_type": "markdown",
   "metadata": {},
   "source": [
    "Таблица orders готова к анализу."
   ]
  },
  {
   "cell_type": "code",
   "execution_count": 14,
   "metadata": {},
   "outputs": [],
   "source": [
    "visitors = pd.read_csv('https://code.s3.yandex.net/datasets/visitors.csv')"
   ]
  },
  {
   "cell_type": "code",
   "execution_count": 15,
   "metadata": {},
   "outputs": [
    {
     "data": {
      "text/html": [
       "<div>\n",
       "<style scoped>\n",
       "    .dataframe tbody tr th:only-of-type {\n",
       "        vertical-align: middle;\n",
       "    }\n",
       "\n",
       "    .dataframe tbody tr th {\n",
       "        vertical-align: top;\n",
       "    }\n",
       "\n",
       "    .dataframe thead th {\n",
       "        text-align: right;\n",
       "    }\n",
       "</style>\n",
       "<table border=\"1\" class=\"dataframe\">\n",
       "  <thead>\n",
       "    <tr style=\"text-align: right;\">\n",
       "      <th></th>\n",
       "      <th>date</th>\n",
       "      <th>group</th>\n",
       "      <th>visitors</th>\n",
       "    </tr>\n",
       "  </thead>\n",
       "  <tbody>\n",
       "    <tr>\n",
       "      <th>0</th>\n",
       "      <td>2019-08-01</td>\n",
       "      <td>A</td>\n",
       "      <td>719</td>\n",
       "    </tr>\n",
       "    <tr>\n",
       "      <th>1</th>\n",
       "      <td>2019-08-02</td>\n",
       "      <td>A</td>\n",
       "      <td>619</td>\n",
       "    </tr>\n",
       "    <tr>\n",
       "      <th>2</th>\n",
       "      <td>2019-08-03</td>\n",
       "      <td>A</td>\n",
       "      <td>507</td>\n",
       "    </tr>\n",
       "    <tr>\n",
       "      <th>3</th>\n",
       "      <td>2019-08-04</td>\n",
       "      <td>A</td>\n",
       "      <td>717</td>\n",
       "    </tr>\n",
       "    <tr>\n",
       "      <th>4</th>\n",
       "      <td>2019-08-05</td>\n",
       "      <td>A</td>\n",
       "      <td>756</td>\n",
       "    </tr>\n",
       "  </tbody>\n",
       "</table>\n",
       "</div>"
      ],
      "text/plain": [
       "         date group  visitors\n",
       "0  2019-08-01     A       719\n",
       "1  2019-08-02     A       619\n",
       "2  2019-08-03     A       507\n",
       "3  2019-08-04     A       717\n",
       "4  2019-08-05     A       756"
      ]
     },
     "metadata": {},
     "output_type": "display_data"
    }
   ],
   "source": [
    "display(visitors.head(5))"
   ]
  },
  {
   "cell_type": "code",
   "execution_count": 16,
   "metadata": {},
   "outputs": [],
   "source": [
    "visitors['date'] = pd.to_datetime(visitors['date']) "
   ]
  },
  {
   "cell_type": "code",
   "execution_count": 17,
   "metadata": {},
   "outputs": [
    {
     "name": "stdout",
     "output_type": "stream",
     "text": [
      "<class 'pandas.core.frame.DataFrame'>\n",
      "RangeIndex: 62 entries, 0 to 61\n",
      "Data columns (total 3 columns):\n",
      " #   Column    Non-Null Count  Dtype         \n",
      "---  ------    --------------  -----         \n",
      " 0   date      62 non-null     datetime64[ns]\n",
      " 1   group     62 non-null     object        \n",
      " 2   visitors  62 non-null     int64         \n",
      "dtypes: datetime64[ns](1), int64(1), object(1)\n",
      "memory usage: 1.6+ KB\n"
     ]
    }
   ],
   "source": [
    "visitors.info()"
   ]
  },
  {
   "cell_type": "markdown",
   "metadata": {},
   "source": [
    "Проверим файл на дупликаты и пропущенные значения."
   ]
  },
  {
   "cell_type": "code",
   "execution_count": 18,
   "metadata": {},
   "outputs": [
    {
     "data": {
      "text/plain": [
       "0"
      ]
     },
     "execution_count": 18,
     "metadata": {},
     "output_type": "execute_result"
    }
   ],
   "source": [
    "visitors.duplicated().sum()"
   ]
  },
  {
   "cell_type": "code",
   "execution_count": 19,
   "metadata": {},
   "outputs": [
    {
     "name": "stdout",
     "output_type": "stream",
     "text": [
      "<class 'pandas.core.frame.DataFrame'>\n",
      "RangeIndex: 62 entries, 0 to 61\n",
      "Data columns (total 3 columns):\n",
      " #   Column    Non-Null Count  Dtype         \n",
      "---  ------    --------------  -----         \n",
      " 0   date      62 non-null     datetime64[ns]\n",
      " 1   group     62 non-null     object        \n",
      " 2   visitors  62 non-null     int64         \n",
      "dtypes: datetime64[ns](1), int64(1), object(1)\n",
      "memory usage: 1.6+ KB\n"
     ]
    }
   ],
   "source": [
    "visitors.info()"
   ]
  },
  {
   "cell_type": "markdown",
   "metadata": {},
   "source": [
    "Таблица visitors готова к анализу."
   ]
  },
  {
   "cell_type": "markdown",
   "metadata": {},
   "source": [
    "В данной части были подготовленны данные к анализу, а именно: приведены к нижнему регистру названия столбцов, выпонена проверка на наличие дупликатов и пропусков, изменен тип данных под подходящий нам. Необходимые файлы готовы к проведению исследования."
   ]
  },
  {
   "cell_type": "markdown",
   "metadata": {},
   "source": [
    "## Приоритизация гипотез"
   ]
  },
  {
   "cell_type": "markdown",
   "metadata": {},
   "source": [
    "У нас имеется 9 гипотез, которые мы приоритезируем двумя методами: 'ICE' и 'RICE'"
   ]
  },
  {
   "cell_type": "code",
   "execution_count": 20,
   "metadata": {},
   "outputs": [],
   "source": [
    "pd.set_option('display.max_colwidth', None)"
   ]
  },
  {
   "cell_type": "code",
   "execution_count": 21,
   "metadata": {},
   "outputs": [
    {
     "data": {
      "text/html": [
       "<div>\n",
       "<style scoped>\n",
       "    .dataframe tbody tr th:only-of-type {\n",
       "        vertical-align: middle;\n",
       "    }\n",
       "\n",
       "    .dataframe tbody tr th {\n",
       "        vertical-align: top;\n",
       "    }\n",
       "\n",
       "    .dataframe thead th {\n",
       "        text-align: right;\n",
       "    }\n",
       "</style>\n",
       "<table border=\"1\" class=\"dataframe\">\n",
       "  <thead>\n",
       "    <tr style=\"text-align: right;\">\n",
       "      <th></th>\n",
       "      <th>hypothesis</th>\n",
       "      <th>reach</th>\n",
       "      <th>impact</th>\n",
       "      <th>confidence</th>\n",
       "      <th>efforts</th>\n",
       "    </tr>\n",
       "  </thead>\n",
       "  <tbody>\n",
       "    <tr>\n",
       "      <th>0</th>\n",
       "      <td>Добавить два новых канала привлечения трафика, что позволит привлекать на 30% больше пользователей</td>\n",
       "      <td>3</td>\n",
       "      <td>10</td>\n",
       "      <td>8</td>\n",
       "      <td>6</td>\n",
       "    </tr>\n",
       "    <tr>\n",
       "      <th>1</th>\n",
       "      <td>Запустить собственную службу доставки, что сократит срок доставки заказов</td>\n",
       "      <td>2</td>\n",
       "      <td>5</td>\n",
       "      <td>4</td>\n",
       "      <td>10</td>\n",
       "    </tr>\n",
       "    <tr>\n",
       "      <th>2</th>\n",
       "      <td>Добавить блоки рекомендаций товаров на сайт интернет магазина, чтобы повысить конверсию и средний чек заказа</td>\n",
       "      <td>8</td>\n",
       "      <td>3</td>\n",
       "      <td>7</td>\n",
       "      <td>3</td>\n",
       "    </tr>\n",
       "    <tr>\n",
       "      <th>3</th>\n",
       "      <td>Изменить структура категорий, что увеличит конверсию, т.к. пользователи быстрее найдут нужный товар</td>\n",
       "      <td>8</td>\n",
       "      <td>3</td>\n",
       "      <td>3</td>\n",
       "      <td>8</td>\n",
       "    </tr>\n",
       "    <tr>\n",
       "      <th>4</th>\n",
       "      <td>Изменить цвет фона главной страницы, чтобы увеличить вовлеченность пользователей</td>\n",
       "      <td>3</td>\n",
       "      <td>1</td>\n",
       "      <td>1</td>\n",
       "      <td>1</td>\n",
       "    </tr>\n",
       "    <tr>\n",
       "      <th>5</th>\n",
       "      <td>Добавить страницу отзывов клиентов о магазине, что позволит увеличить количество заказов</td>\n",
       "      <td>3</td>\n",
       "      <td>2</td>\n",
       "      <td>2</td>\n",
       "      <td>3</td>\n",
       "    </tr>\n",
       "    <tr>\n",
       "      <th>6</th>\n",
       "      <td>Показать на главной странице баннеры с актуальными акциями и распродажами, чтобы увеличить конверсию</td>\n",
       "      <td>5</td>\n",
       "      <td>3</td>\n",
       "      <td>8</td>\n",
       "      <td>3</td>\n",
       "    </tr>\n",
       "    <tr>\n",
       "      <th>7</th>\n",
       "      <td>Добавить форму подписки на все основные страницы, чтобы собрать базу клиентов для email-рассылок</td>\n",
       "      <td>10</td>\n",
       "      <td>7</td>\n",
       "      <td>8</td>\n",
       "      <td>5</td>\n",
       "    </tr>\n",
       "    <tr>\n",
       "      <th>8</th>\n",
       "      <td>Запустить акцию, дающую скидку на товар в день рождения</td>\n",
       "      <td>1</td>\n",
       "      <td>9</td>\n",
       "      <td>9</td>\n",
       "      <td>5</td>\n",
       "    </tr>\n",
       "  </tbody>\n",
       "</table>\n",
       "</div>"
      ],
      "text/plain": [
       "                                                                                                     hypothesis  \\\n",
       "0            Добавить два новых канала привлечения трафика, что позволит привлекать на 30% больше пользователей   \n",
       "1                                     Запустить собственную службу доставки, что сократит срок доставки заказов   \n",
       "2  Добавить блоки рекомендаций товаров на сайт интернет магазина, чтобы повысить конверсию и средний чек заказа   \n",
       "3           Изменить структура категорий, что увеличит конверсию, т.к. пользователи быстрее найдут нужный товар   \n",
       "4                              Изменить цвет фона главной страницы, чтобы увеличить вовлеченность пользователей   \n",
       "5                      Добавить страницу отзывов клиентов о магазине, что позволит увеличить количество заказов   \n",
       "6          Показать на главной странице баннеры с актуальными акциями и распродажами, чтобы увеличить конверсию   \n",
       "7              Добавить форму подписки на все основные страницы, чтобы собрать базу клиентов для email-рассылок   \n",
       "8                                                       Запустить акцию, дающую скидку на товар в день рождения   \n",
       "\n",
       "   reach  impact  confidence  efforts  \n",
       "0      3      10           8        6  \n",
       "1      2       5           4       10  \n",
       "2      8       3           7        3  \n",
       "3      8       3           3        8  \n",
       "4      3       1           1        1  \n",
       "5      3       2           2        3  \n",
       "6      5       3           8        3  \n",
       "7     10       7           8        5  \n",
       "8      1       9           9        5  "
      ]
     },
     "execution_count": 21,
     "metadata": {},
     "output_type": "execute_result"
    }
   ],
   "source": [
    "hypothesis"
   ]
  },
  {
   "cell_type": "markdown",
   "metadata": {},
   "source": [
    "### Применение фреймворка ICE для приоритизации гипотез."
   ]
  },
  {
   "cell_type": "markdown",
   "metadata": {},
   "source": [
    "Приоритезируем имеющиеся гипотезы с помощью фреймворка 'ICE'"
   ]
  },
  {
   "cell_type": "markdown",
   "metadata": {},
   "source": [
    "Создадим столбец 'ice', где сохраним уровень приоритета каждой из гипотезы, округленные до 2 знака после запятой."
   ]
  },
  {
   "cell_type": "code",
   "execution_count": 22,
   "metadata": {},
   "outputs": [],
   "source": [
    "hypothesis['ice'] = round(hypothesis['impact']*hypothesis['confidence']/hypothesis['efforts'], 2)"
   ]
  },
  {
   "cell_type": "markdown",
   "metadata": {},
   "source": [
    "Выведем столбцы 'hypothesis' и 'ice' отсортированные по столбцу 'ice' в порядке убывания значения."
   ]
  },
  {
   "cell_type": "code",
   "execution_count": 23,
   "metadata": {},
   "outputs": [
    {
     "data": {
      "text/html": [
       "<div>\n",
       "<style scoped>\n",
       "    .dataframe tbody tr th:only-of-type {\n",
       "        vertical-align: middle;\n",
       "    }\n",
       "\n",
       "    .dataframe tbody tr th {\n",
       "        vertical-align: top;\n",
       "    }\n",
       "\n",
       "    .dataframe thead th {\n",
       "        text-align: right;\n",
       "    }\n",
       "</style>\n",
       "<table border=\"1\" class=\"dataframe\">\n",
       "  <thead>\n",
       "    <tr style=\"text-align: right;\">\n",
       "      <th></th>\n",
       "      <th>hypothesis</th>\n",
       "      <th>ice</th>\n",
       "    </tr>\n",
       "  </thead>\n",
       "  <tbody>\n",
       "    <tr>\n",
       "      <th>8</th>\n",
       "      <td>Запустить акцию, дающую скидку на товар в день рождения</td>\n",
       "      <td>16.20</td>\n",
       "    </tr>\n",
       "    <tr>\n",
       "      <th>0</th>\n",
       "      <td>Добавить два новых канала привлечения трафика, что позволит привлекать на 30% больше пользователей</td>\n",
       "      <td>13.33</td>\n",
       "    </tr>\n",
       "    <tr>\n",
       "      <th>7</th>\n",
       "      <td>Добавить форму подписки на все основные страницы, чтобы собрать базу клиентов для email-рассылок</td>\n",
       "      <td>11.20</td>\n",
       "    </tr>\n",
       "    <tr>\n",
       "      <th>6</th>\n",
       "      <td>Показать на главной странице баннеры с актуальными акциями и распродажами, чтобы увеличить конверсию</td>\n",
       "      <td>8.00</td>\n",
       "    </tr>\n",
       "    <tr>\n",
       "      <th>2</th>\n",
       "      <td>Добавить блоки рекомендаций товаров на сайт интернет магазина, чтобы повысить конверсию и средний чек заказа</td>\n",
       "      <td>7.00</td>\n",
       "    </tr>\n",
       "    <tr>\n",
       "      <th>1</th>\n",
       "      <td>Запустить собственную службу доставки, что сократит срок доставки заказов</td>\n",
       "      <td>2.00</td>\n",
       "    </tr>\n",
       "    <tr>\n",
       "      <th>5</th>\n",
       "      <td>Добавить страницу отзывов клиентов о магазине, что позволит увеличить количество заказов</td>\n",
       "      <td>1.33</td>\n",
       "    </tr>\n",
       "    <tr>\n",
       "      <th>3</th>\n",
       "      <td>Изменить структура категорий, что увеличит конверсию, т.к. пользователи быстрее найдут нужный товар</td>\n",
       "      <td>1.12</td>\n",
       "    </tr>\n",
       "    <tr>\n",
       "      <th>4</th>\n",
       "      <td>Изменить цвет фона главной страницы, чтобы увеличить вовлеченность пользователей</td>\n",
       "      <td>1.00</td>\n",
       "    </tr>\n",
       "  </tbody>\n",
       "</table>\n",
       "</div>"
      ],
      "text/plain": [
       "                                                                                                     hypothesis  \\\n",
       "8                                                       Запустить акцию, дающую скидку на товар в день рождения   \n",
       "0            Добавить два новых канала привлечения трафика, что позволит привлекать на 30% больше пользователей   \n",
       "7              Добавить форму подписки на все основные страницы, чтобы собрать базу клиентов для email-рассылок   \n",
       "6          Показать на главной странице баннеры с актуальными акциями и распродажами, чтобы увеличить конверсию   \n",
       "2  Добавить блоки рекомендаций товаров на сайт интернет магазина, чтобы повысить конверсию и средний чек заказа   \n",
       "1                                     Запустить собственную службу доставки, что сократит срок доставки заказов   \n",
       "5                      Добавить страницу отзывов клиентов о магазине, что позволит увеличить количество заказов   \n",
       "3           Изменить структура категорий, что увеличит конверсию, т.к. пользователи быстрее найдут нужный товар   \n",
       "4                              Изменить цвет фона главной страницы, чтобы увеличить вовлеченность пользователей   \n",
       "\n",
       "     ice  \n",
       "8  16.20  \n",
       "0  13.33  \n",
       "7  11.20  \n",
       "6   8.00  \n",
       "2   7.00  \n",
       "1   2.00  \n",
       "5   1.33  \n",
       "3   1.12  \n",
       "4   1.00  "
      ]
     },
     "execution_count": 23,
     "metadata": {},
     "output_type": "execute_result"
    }
   ],
   "source": [
    "hypothesis.loc[:, ['hypothesis', 'ice']].sort_values(by='ice', ascending=False)"
   ]
  },
  {
   "cell_type": "markdown",
   "metadata": {},
   "source": [
    "Как видим, данный метод выделяет 3 наиболее приоритетные гипотезы, а именно: запустить акцию, дающую скидку на товар в день рождения; добавление два новых канала привлечения трафика, что позволит привлекать на 30% больше пользователей; добавление форму подписки на все основные страницы, чтобы собрать базу клиентов для email-рассылок. Исходя из данного метода именно эти гипотезы стоит тестировать, а от остальных придется отказаться."
   ]
  },
  {
   "cell_type": "markdown",
   "metadata": {},
   "source": [
    "### Применение фреймворка RICE для приоритизации гипотез."
   ]
  },
  {
   "cell_type": "markdown",
   "metadata": {},
   "source": [
    "Приоритезируем имеющиеся гипотезы с помощью фреймворка 'RICE'"
   ]
  },
  {
   "cell_type": "markdown",
   "metadata": {},
   "source": [
    "Создадим столбец 'rice', где сохраним уровень приоритета каждой из гипотезы, округленные до 2 знака после запятой."
   ]
  },
  {
   "cell_type": "code",
   "execution_count": 24,
   "metadata": {},
   "outputs": [],
   "source": [
    "hypothesis['rice'] = round(hypothesis['reach']*hypothesis['impact']*hypothesis['confidence']/hypothesis['efforts'], 2)"
   ]
  },
  {
   "cell_type": "markdown",
   "metadata": {},
   "source": [
    "Выведем столбцы 'hypothesis' и 'rice' отсортированные по столбцу 'rice' в порядке убывания значения."
   ]
  },
  {
   "cell_type": "code",
   "execution_count": 25,
   "metadata": {},
   "outputs": [
    {
     "data": {
      "text/html": [
       "<div>\n",
       "<style scoped>\n",
       "    .dataframe tbody tr th:only-of-type {\n",
       "        vertical-align: middle;\n",
       "    }\n",
       "\n",
       "    .dataframe tbody tr th {\n",
       "        vertical-align: top;\n",
       "    }\n",
       "\n",
       "    .dataframe thead th {\n",
       "        text-align: right;\n",
       "    }\n",
       "</style>\n",
       "<table border=\"1\" class=\"dataframe\">\n",
       "  <thead>\n",
       "    <tr style=\"text-align: right;\">\n",
       "      <th></th>\n",
       "      <th>hypothesis</th>\n",
       "      <th>rice</th>\n",
       "    </tr>\n",
       "  </thead>\n",
       "  <tbody>\n",
       "    <tr>\n",
       "      <th>7</th>\n",
       "      <td>Добавить форму подписки на все основные страницы, чтобы собрать базу клиентов для email-рассылок</td>\n",
       "      <td>112.0</td>\n",
       "    </tr>\n",
       "    <tr>\n",
       "      <th>2</th>\n",
       "      <td>Добавить блоки рекомендаций товаров на сайт интернет магазина, чтобы повысить конверсию и средний чек заказа</td>\n",
       "      <td>56.0</td>\n",
       "    </tr>\n",
       "    <tr>\n",
       "      <th>0</th>\n",
       "      <td>Добавить два новых канала привлечения трафика, что позволит привлекать на 30% больше пользователей</td>\n",
       "      <td>40.0</td>\n",
       "    </tr>\n",
       "    <tr>\n",
       "      <th>6</th>\n",
       "      <td>Показать на главной странице баннеры с актуальными акциями и распродажами, чтобы увеличить конверсию</td>\n",
       "      <td>40.0</td>\n",
       "    </tr>\n",
       "    <tr>\n",
       "      <th>8</th>\n",
       "      <td>Запустить акцию, дающую скидку на товар в день рождения</td>\n",
       "      <td>16.2</td>\n",
       "    </tr>\n",
       "    <tr>\n",
       "      <th>3</th>\n",
       "      <td>Изменить структура категорий, что увеличит конверсию, т.к. пользователи быстрее найдут нужный товар</td>\n",
       "      <td>9.0</td>\n",
       "    </tr>\n",
       "    <tr>\n",
       "      <th>1</th>\n",
       "      <td>Запустить собственную службу доставки, что сократит срок доставки заказов</td>\n",
       "      <td>4.0</td>\n",
       "    </tr>\n",
       "    <tr>\n",
       "      <th>5</th>\n",
       "      <td>Добавить страницу отзывов клиентов о магазине, что позволит увеличить количество заказов</td>\n",
       "      <td>4.0</td>\n",
       "    </tr>\n",
       "    <tr>\n",
       "      <th>4</th>\n",
       "      <td>Изменить цвет фона главной страницы, чтобы увеличить вовлеченность пользователей</td>\n",
       "      <td>3.0</td>\n",
       "    </tr>\n",
       "  </tbody>\n",
       "</table>\n",
       "</div>"
      ],
      "text/plain": [
       "                                                                                                     hypothesis  \\\n",
       "7              Добавить форму подписки на все основные страницы, чтобы собрать базу клиентов для email-рассылок   \n",
       "2  Добавить блоки рекомендаций товаров на сайт интернет магазина, чтобы повысить конверсию и средний чек заказа   \n",
       "0            Добавить два новых канала привлечения трафика, что позволит привлекать на 30% больше пользователей   \n",
       "6          Показать на главной странице баннеры с актуальными акциями и распродажами, чтобы увеличить конверсию   \n",
       "8                                                       Запустить акцию, дающую скидку на товар в день рождения   \n",
       "3           Изменить структура категорий, что увеличит конверсию, т.к. пользователи быстрее найдут нужный товар   \n",
       "1                                     Запустить собственную службу доставки, что сократит срок доставки заказов   \n",
       "5                      Добавить страницу отзывов клиентов о магазине, что позволит увеличить количество заказов   \n",
       "4                              Изменить цвет фона главной страницы, чтобы увеличить вовлеченность пользователей   \n",
       "\n",
       "    rice  \n",
       "7  112.0  \n",
       "2   56.0  \n",
       "0   40.0  \n",
       "6   40.0  \n",
       "8   16.2  \n",
       "3    9.0  \n",
       "1    4.0  \n",
       "5    4.0  \n",
       "4    3.0  "
      ]
     },
     "execution_count": 25,
     "metadata": {},
     "output_type": "execute_result"
    }
   ],
   "source": [
    "hypothesis.loc[:, ['hypothesis', 'rice']].sort_values(by='rice', ascending=False)"
   ]
  },
  {
   "cell_type": "markdown",
   "metadata": {},
   "source": [
    "Как видим, данный метод выделяет 4 наиболее приоритетные гипотезы, а именно: добавить форму подписки на все основные страницы, чтобы собрать базу клиентов для email-рассылок; добавить блоки рекомендаций товаров на сайт интернет магазина, чтобы повысить конверсию и средний чек заказа; добавить два новых канала привлечения трафика, что позволит привлекать на 30% больше пользователей; показать на главной странице баннеры с актуальными акциями и распродажами, чтобы увеличить конверсию. Исходя из данного метода именно эти гипотезы стоит тестировать, а от остальных придется отказаться."
   ]
  },
  {
   "cell_type": "markdown",
   "metadata": {},
   "source": [
    "Оценивая методы приоритезации 'ICE' и 'RICE', применимо к нашему исследованию, уровень значимости гипотез между ними отличется. В методе 'ICE' имеются 3 явных лидера с гипотезами: запустить акцию, дающую скидку на товар в день рождения; добавление два новых канала привлечения трафика, что позволит привлекать на 30% больше пользователей; добавление форму подписки на все основные страницы, чтобы собрать базу клиентов для email-рассылок. В 'RICE' отчетливо прослеживается 4 лидера значимости: добавить форму подписки на все основные страницы, чтобы собрать базу клиентов для email-рассылок; добавить блоки рекомендаций товаров на сайт интернет магазина, чтобы повысить конверсию и средний чек заказа; добавить два новых канала привлечения трафика, что позволит привлекать на 30% больше пользователей; показать на главной странице баннеры с актуальными акциями и распродажами, чтобы увеличить конверсию. Так произошло из-за того, что метод 'ICE', в отличии от метода 'RICE' не учитывает то, как много пользователей он затронет. Показатель 'rich' в гипотезах, которые в методе 'RICE' наиболее значимы, выше, чем в других гипотезах, что и увеличило их показаель."
   ]
  },
  {
   "cell_type": "markdown",
   "metadata": {},
   "source": [
    "## Анализ A/B-теста"
   ]
  },
  {
   "cell_type": "markdown",
   "metadata": {},
   "source": [
    "### Изучение и корректировка данных для A/B-теста"
   ]
  },
  {
   "cell_type": "markdown",
   "metadata": {},
   "source": [
    "Для начала узнаем, сколько у нас групп учавствуют в A/B-тесте и какие это группы."
   ]
  },
  {
   "cell_type": "code",
   "execution_count": 26,
   "metadata": {},
   "outputs": [
    {
     "data": {
      "text/plain": [
       "array(['B', 'A'], dtype=object)"
      ]
     },
     "execution_count": 26,
     "metadata": {},
     "output_type": "execute_result"
    }
   ],
   "source": [
    "orders['group'].unique()"
   ]
  },
  {
   "cell_type": "markdown",
   "metadata": {},
   "source": [
    "Как видим у нас 2 исследуемые группы."
   ]
  },
  {
   "cell_type": "markdown",
   "metadata": {},
   "source": [
    "Теперь узнаем дату начала проведения теста и его конец."
   ]
  },
  {
   "cell_type": "code",
   "execution_count": 27,
   "metadata": {},
   "outputs": [
    {
     "name": "stdout",
     "output_type": "stream",
     "text": [
      "2019-08-01 00:00:00\n",
      "2019-08-31 00:00:00\n"
     ]
    }
   ],
   "source": [
    "print(orders['date'].min())\n",
    "print(orders['date'].max())"
   ]
  },
  {
   "cell_type": "markdown",
   "metadata": {},
   "source": [
    "Как видим, датой начала теста является 2019-08-01, а конечная дата 2019-08-31."
   ]
  },
  {
   "cell_type": "markdown",
   "metadata": {},
   "source": [
    "Так как попавший в одну из групп пользователь должен остаться в этой группе до конца теста, перед началом проведения A/B-теста проверим, есть ли пользователи, которые попали сразу в обе исследуемые группы. "
   ]
  },
  {
   "cell_type": "markdown",
   "metadata": {},
   "source": [
    "Для начала выделим отдельно пользователей обеих групп. "
   ]
  },
  {
   "cell_type": "code",
   "execution_count": 28,
   "metadata": {},
   "outputs": [],
   "source": [
    "orders_a = orders.loc[orders['group'] == 'A', ['visitorid', 'group']].reset_index(drop=True) # Пользователи группы А"
   ]
  },
  {
   "cell_type": "code",
   "execution_count": 29,
   "metadata": {},
   "outputs": [],
   "source": [
    "orders_b = orders.loc[orders['group'] == 'B', ['visitorid', 'group']].reset_index(drop=True) # Пользователи группы В"
   ]
  },
  {
   "cell_type": "code",
   "execution_count": 30,
   "metadata": {},
   "outputs": [],
   "source": [
    "orders_ad = orders_a.merge(orders_b, on='visitorid') # объеденим данные по 'visitorid', чтобы остались \n",
    "                                                     # идентификаторы пользователей, которые есть в обеих группах"
   ]
  },
  {
   "cell_type": "code",
   "execution_count": 31,
   "metadata": {},
   "outputs": [
    {
     "data": {
      "text/html": [
       "<div>\n",
       "<style scoped>\n",
       "    .dataframe tbody tr th:only-of-type {\n",
       "        vertical-align: middle;\n",
       "    }\n",
       "\n",
       "    .dataframe tbody tr th {\n",
       "        vertical-align: top;\n",
       "    }\n",
       "\n",
       "    .dataframe thead th {\n",
       "        text-align: right;\n",
       "    }\n",
       "</style>\n",
       "<table border=\"1\" class=\"dataframe\">\n",
       "  <thead>\n",
       "    <tr style=\"text-align: right;\">\n",
       "      <th></th>\n",
       "      <th>visitorid</th>\n",
       "      <th>group_x</th>\n",
       "      <th>group_y</th>\n",
       "    </tr>\n",
       "  </thead>\n",
       "  <tbody>\n",
       "    <tr>\n",
       "      <th>0</th>\n",
       "      <td>4069496402</td>\n",
       "      <td>A</td>\n",
       "      <td>B</td>\n",
       "    </tr>\n",
       "    <tr>\n",
       "      <th>1</th>\n",
       "      <td>199603092</td>\n",
       "      <td>A</td>\n",
       "      <td>B</td>\n",
       "    </tr>\n",
       "    <tr>\n",
       "      <th>2</th>\n",
       "      <td>199603092</td>\n",
       "      <td>A</td>\n",
       "      <td>B</td>\n",
       "    </tr>\n",
       "    <tr>\n",
       "      <th>3</th>\n",
       "      <td>199603092</td>\n",
       "      <td>A</td>\n",
       "      <td>B</td>\n",
       "    </tr>\n",
       "    <tr>\n",
       "      <th>4</th>\n",
       "      <td>199603092</td>\n",
       "      <td>A</td>\n",
       "      <td>B</td>\n",
       "    </tr>\n",
       "  </tbody>\n",
       "</table>\n",
       "</div>"
      ],
      "text/plain": [
       "    visitorid group_x group_y\n",
       "0  4069496402       A       B\n",
       "1   199603092       A       B\n",
       "2   199603092       A       B\n",
       "3   199603092       A       B\n",
       "4   199603092       A       B"
      ]
     },
     "execution_count": 31,
     "metadata": {},
     "output_type": "execute_result"
    }
   ],
   "source": [
    "orders_ad.head(5) # просмотрели результат"
   ]
  },
  {
   "cell_type": "markdown",
   "metadata": {},
   "source": [
    "Сохраним новое значение orders, в которой будут отображены сведения о покупках пользователей, которые относятся только к одной группе исследуемых."
   ]
  },
  {
   "cell_type": "code",
   "execution_count": 32,
   "metadata": {},
   "outputs": [],
   "source": [
    "orders = orders[np.logical_not(orders['visitorid'].isin(orders_ad['visitorid']))]    "
   ]
  },
  {
   "cell_type": "code",
   "execution_count": 33,
   "metadata": {},
   "outputs": [
    {
     "data": {
      "text/html": [
       "<div>\n",
       "<style scoped>\n",
       "    .dataframe tbody tr th:only-of-type {\n",
       "        vertical-align: middle;\n",
       "    }\n",
       "\n",
       "    .dataframe tbody tr th {\n",
       "        vertical-align: top;\n",
       "    }\n",
       "\n",
       "    .dataframe thead th {\n",
       "        text-align: right;\n",
       "    }\n",
       "</style>\n",
       "<table border=\"1\" class=\"dataframe\">\n",
       "  <thead>\n",
       "    <tr style=\"text-align: right;\">\n",
       "      <th></th>\n",
       "      <th>transactionid</th>\n",
       "      <th>visitorid</th>\n",
       "      <th>date</th>\n",
       "      <th>revenue</th>\n",
       "      <th>group</th>\n",
       "    </tr>\n",
       "  </thead>\n",
       "  <tbody>\n",
       "    <tr>\n",
       "      <th>0</th>\n",
       "      <td>3667963787</td>\n",
       "      <td>3312258926</td>\n",
       "      <td>2019-08-15</td>\n",
       "      <td>1650</td>\n",
       "      <td>B</td>\n",
       "    </tr>\n",
       "    <tr>\n",
       "      <th>1</th>\n",
       "      <td>2804400009</td>\n",
       "      <td>3642806036</td>\n",
       "      <td>2019-08-15</td>\n",
       "      <td>730</td>\n",
       "      <td>B</td>\n",
       "    </tr>\n",
       "    <tr>\n",
       "      <th>2</th>\n",
       "      <td>3797467345</td>\n",
       "      <td>1196621759</td>\n",
       "      <td>2019-08-15</td>\n",
       "      <td>9759</td>\n",
       "      <td>B</td>\n",
       "    </tr>\n",
       "    <tr>\n",
       "      <th>3</th>\n",
       "      <td>2282983706</td>\n",
       "      <td>2322279887</td>\n",
       "      <td>2019-08-15</td>\n",
       "      <td>2308</td>\n",
       "      <td>B</td>\n",
       "    </tr>\n",
       "    <tr>\n",
       "      <th>4</th>\n",
       "      <td>182168103</td>\n",
       "      <td>935554773</td>\n",
       "      <td>2019-08-15</td>\n",
       "      <td>2210</td>\n",
       "      <td>B</td>\n",
       "    </tr>\n",
       "    <tr>\n",
       "      <th>...</th>\n",
       "      <td>...</td>\n",
       "      <td>...</td>\n",
       "      <td>...</td>\n",
       "      <td>...</td>\n",
       "      <td>...</td>\n",
       "    </tr>\n",
       "    <tr>\n",
       "      <th>1011</th>\n",
       "      <td>3592955527</td>\n",
       "      <td>608641596</td>\n",
       "      <td>2019-08-14</td>\n",
       "      <td>16490</td>\n",
       "      <td>B</td>\n",
       "    </tr>\n",
       "    <tr>\n",
       "      <th>1012</th>\n",
       "      <td>2662137336</td>\n",
       "      <td>3733762160</td>\n",
       "      <td>2019-08-14</td>\n",
       "      <td>6490</td>\n",
       "      <td>B</td>\n",
       "    </tr>\n",
       "    <tr>\n",
       "      <th>1013</th>\n",
       "      <td>2203539145</td>\n",
       "      <td>370388673</td>\n",
       "      <td>2019-08-14</td>\n",
       "      <td>3190</td>\n",
       "      <td>A</td>\n",
       "    </tr>\n",
       "    <tr>\n",
       "      <th>1014</th>\n",
       "      <td>1807773912</td>\n",
       "      <td>573423106</td>\n",
       "      <td>2019-08-14</td>\n",
       "      <td>10550</td>\n",
       "      <td>A</td>\n",
       "    </tr>\n",
       "    <tr>\n",
       "      <th>1015</th>\n",
       "      <td>3936777065</td>\n",
       "      <td>2108080724</td>\n",
       "      <td>2019-08-15</td>\n",
       "      <td>202740</td>\n",
       "      <td>B</td>\n",
       "    </tr>\n",
       "  </tbody>\n",
       "</table>\n",
       "<p>1016 rows × 5 columns</p>\n",
       "</div>"
      ],
      "text/plain": [
       "      transactionid   visitorid       date  revenue group\n",
       "0        3667963787  3312258926 2019-08-15     1650     B\n",
       "1        2804400009  3642806036 2019-08-15      730     B\n",
       "2        3797467345  1196621759 2019-08-15     9759     B\n",
       "3        2282983706  2322279887 2019-08-15     2308     B\n",
       "4         182168103   935554773 2019-08-15     2210     B\n",
       "...             ...         ...        ...      ...   ...\n",
       "1011     3592955527   608641596 2019-08-14    16490     B\n",
       "1012     2662137336  3733762160 2019-08-14     6490     B\n",
       "1013     2203539145   370388673 2019-08-14     3190     A\n",
       "1014     1807773912   573423106 2019-08-14    10550     A\n",
       "1015     3936777065  2108080724 2019-08-15   202740     B\n",
       "\n",
       "[1016 rows x 5 columns]"
      ]
     },
     "execution_count": 33,
     "metadata": {},
     "output_type": "execute_result"
    }
   ],
   "source": [
    "orders.reset_index(drop=True)"
   ]
  },
  {
   "cell_type": "markdown",
   "metadata": {},
   "source": [
    "Теперь мы получили более корректные данные о покупках, которые мы будем использовать в дальнейшем."
   ]
  },
  {
   "cell_type": "markdown",
   "metadata": {},
   "source": [
    "Теперь узнаем, сколько пользователей в каждой исследуемой группе."
   ]
  },
  {
   "cell_type": "code",
   "execution_count": 34,
   "metadata": {},
   "outputs": [],
   "source": [
    "orders_a1 = orders.loc[orders['group'] == 'A', ['visitorid']].reset_index(drop=True)"
   ]
  },
  {
   "cell_type": "code",
   "execution_count": 35,
   "metadata": {},
   "outputs": [],
   "source": [
    "orders_b1 = orders.loc[orders['group'] == 'B', ['visitorid']].reset_index(drop=True)"
   ]
  },
  {
   "cell_type": "code",
   "execution_count": 36,
   "metadata": {},
   "outputs": [
    {
     "data": {
      "text/plain": [
       "visitorid    445\n",
       "dtype: int64"
      ]
     },
     "execution_count": 36,
     "metadata": {},
     "output_type": "execute_result"
    }
   ],
   "source": [
    "orders_a1.nunique() # выведем число уникальных пользователей в группе А"
   ]
  },
  {
   "cell_type": "code",
   "execution_count": 37,
   "metadata": {},
   "outputs": [
    {
     "data": {
      "text/plain": [
       "visitorid    528\n",
       "dtype: int64"
      ]
     },
     "execution_count": 37,
     "metadata": {},
     "output_type": "execute_result"
    }
   ],
   "source": [
    "orders_b1.nunique()# выведем число уникальных пользователей в группе В"
   ]
  },
  {
   "cell_type": "markdown",
   "metadata": {},
   "source": [
    "Как видим, число пользователей, с учетом отсеивания, в группе А составляет 445, а в группе В составляет 528."
   ]
  },
  {
   "cell_type": "markdown",
   "metadata": {},
   "source": [
    "Перед началов проведения A/B-теста было выявлено, что в тесте участвуют 2 группы, а именно: А и В. Датой начала теста является 2019-08-01, а его завершения 2019-08-31. В данных были обнаружены пользователи, которые присутствовали в обеих группах, после чего они были удалены, так как могли сказаться на результате теста. С учетом данного отсеивания в группе А осталось 445 пользователя, а в группе В 528."
   ]
  },
  {
   "cell_type": "markdown",
   "metadata": {},
   "source": [
    "### Построим график кумулятивной выручки по группам."
   ]
  },
  {
   "cell_type": "code",
   "execution_count": 38,
   "metadata": {},
   "outputs": [
    {
     "data": {
      "image/png": "[encoded data removed]",
      "text/plain": [
       "<Figure size 1600x800 with 1 Axes>"
      ]
     },
     "metadata": {},
     "output_type": "display_data"
    }
   ],
   "source": [
    "register_matplotlib_converters()\n",
    "\n",
    "\n",
    "datesGroups = orders[['date', 'group']].drop_duplicates()\n",
    "\n",
    "ordersAggregated = datesGroups.apply(\n",
    "    lambda x: orders[\n",
    "        np.logical_and(\n",
    "            orders['date'] <= x['date'], orders['group'] == x['group']\n",
    "        )\n",
    "    ].agg(\n",
    "        {\n",
    "            'date': 'max',\n",
    "            'group': 'max',\n",
    "            'transactionid': 'nunique',\n",
    "            'visitorid': 'nunique',\n",
    "            'revenue': 'sum',\n",
    "        }\n",
    "    ),\n",
    "    axis=1,\n",
    ").sort_values(by=['date', 'group'])\n",
    "\n",
    "visitorsAggregated = datesGroups.apply(\n",
    "    lambda x: visitors[\n",
    "        np.logical_and(\n",
    "            visitors['date'] <= x['date'], visitors['group'] == x['group']\n",
    "        )\n",
    "    ].agg({'date': 'max', 'group': 'max', 'visitors': 'sum'}),\n",
    "    axis=1,\n",
    ").sort_values(by=['date', 'group'])\n",
    "\n",
    "cumulativeData = ordersAggregated.merge(\n",
    "    visitorsAggregated, left_on=['date', 'group'], right_on=['date', 'group']\n",
    ")\n",
    "cumulativeData.columns = [\n",
    "    'date',\n",
    "    'group',\n",
    "    'orders',\n",
    "    'buyers',\n",
    "    'revenue',\n",
    "    'visitors',\n",
    "]\n",
    "cumulativeRevenueA = cumulativeData[cumulativeData['group']=='A'][['date','revenue', 'orders']]\n",
    "cumulativeRevenueB = cumulativeData[cumulativeData['group']=='B'][['date','revenue', 'orders']]\n",
    "\n",
    "plt.figure(figsize=(16,8))\n",
    "plt.plot(cumulativeRevenueA['date'], cumulativeRevenueA['revenue'], label='A')\n",
    "plt.plot(cumulativeRevenueB['date'], cumulativeRevenueB['revenue'], label='B')\n",
    "plt.xlabel('Дата кумулятивной выручки')\n",
    "plt.ylabel('Размер кумулятивной выручки')\n",
    "plt.title('График кумулятивной выручки по группам')\n",
    "plt.legend();"
   ]
  },
  {
   "cell_type": "markdown",
   "metadata": {},
   "source": [
    "В середине графика кумулятивной выручки, группа В резко вышла вперед, хотя оставалась примерно на одном уровне с группой А. Возможно влияние аномальных значений в области увеличения суммы заказа либо резкого увеличения количества заказов. По данному графику нельзя сделать какие то определенные выводы, необходим дальнейший анализ."
   ]
  },
  {
   "cell_type": "markdown",
   "metadata": {},
   "source": [
    "### Построим график кумулятивного среднего чека по группам."
   ]
  },
  {
   "cell_type": "code",
   "execution_count": 39,
   "metadata": {},
   "outputs": [
    {
     "data": {
      "image/png": "[encoded data removed]",
      "text/plain": [
       "<Figure size 1600x800 with 1 Axes>"
      ]
     },
     "metadata": {},
     "output_type": "display_data"
    }
   ],
   "source": [
    "plt.figure(figsize=(16,8))\n",
    "plt.plot(cumulativeRevenueA['date'], cumulativeRevenueA['revenue']/cumulativeRevenueA['orders'], label='A')\n",
    "plt.plot(cumulativeRevenueB['date'], cumulativeRevenueB['revenue']/cumulativeRevenueB['orders'], label='B')\n",
    "plt.xlabel('Дата кумулятивного среднего чека')\n",
    "plt.ylabel('Размер кумулятивного среднего чека')\n",
    "plt.title('График кумулятивного среднего чека по группам')\n",
    "plt.legend();"
   ]
  },
  {
   "cell_type": "markdown",
   "metadata": {},
   "source": [
    "По графику кумулятивного среднего чека по группам опять прослеживается резкое колебание среднего чека в группе В, что так же говорит о возможном влиянии аномальных значений. Так же можно заметить, что к концу теста, значение кумулятивного среднего чека в группе А стабилизировалось, а в группе В проискодит стабильное падение величины среднегоо чека."
   ]
  },
  {
   "cell_type": "markdown",
   "metadata": {},
   "source": [
    "### Построим график относительного изменения кумулятивного среднего чека группы B к группе A."
   ]
  },
  {
   "cell_type": "code",
   "execution_count": 40,
   "metadata": {},
   "outputs": [
    {
     "data": {
      "image/png": "[encoded data removed]",
      "text/plain": [
       "<Figure size 1600x800 with 1 Axes>"
      ]
     },
     "metadata": {},
     "output_type": "display_data"
    }
   ],
   "source": [
    "mergedCumulativeRevenue = cumulativeRevenueA.merge(cumulativeRevenueB, left_on='date', right_on='date', how='left', \n",
    "                                                   suffixes=['A', 'B'])\n",
    "plt.figure(figsize=(16,8))\n",
    "plt.plot(mergedCumulativeRevenue['date'], (mergedCumulativeRevenue['revenueB']/mergedCumulativeRevenue['ordersB'])/\n",
    "         (mergedCumulativeRevenue['revenueA']/mergedCumulativeRevenue['ordersA'])-1)\n",
    "plt.xlabel('Дата относительного изменения кумулятивного среднего чека группы B к группе A')\n",
    "plt.ylabel('Относительное изменения кумулятивного среднего чека группы B к группе A')\n",
    "plt.title('График относительного изменения кумулятивного среднего чека группы B к группе A')\n",
    "# добавляем ось X\n",
    "plt.axhline(y=0, color='black', linestyle='--');"
   ]
  },
  {
   "cell_type": "markdown",
   "metadata": {},
   "source": [
    "Как видим, результаты значительно менялись в нескольких датах, скорее всего именно в эти периоды были сделаны аномальные заказы."
   ]
  },
  {
   "cell_type": "markdown",
   "metadata": {},
   "source": [
    "### Построим график кумулятивного среднего количества заказов на посетителя по группам."
   ]
  },
  {
   "cell_type": "markdown",
   "metadata": {},
   "source": [
    "Создадим переменные cumulativevisitorsA и cumulativevisitorsB, в которых сохраним даты, комулятнывное значение посещений и кумулятивное значение заказов по группам."
   ]
  },
  {
   "cell_type": "code",
   "execution_count": 41,
   "metadata": {},
   "outputs": [],
   "source": [
    "cumulativevisitorsA = cumulativeData[cumulativeData['group']=='A'][['date','visitors', 'orders']]\n",
    "cumulativevisitorsB = cumulativeData[cumulativeData['group']=='B'][['date','visitors', 'orders']]"
   ]
  },
  {
   "cell_type": "markdown",
   "metadata": {},
   "source": [
    "Строим график кумулятивного среднего количества заказов на посетителя по группам."
   ]
  },
  {
   "cell_type": "code",
   "execution_count": 42,
   "metadata": {},
   "outputs": [
    {
     "data": {
      "image/png": "[encoded data removed]",
      "text/plain": [
       "<Figure size 1600x800 with 1 Axes>"
      ]
     },
     "metadata": {},
     "output_type": "display_data"
    }
   ],
   "source": [
    "plt.figure(figsize=(16,8))\n",
    "plt.plot(cumulativevisitorsA['date'], cumulativevisitorsA['orders']/cumulativevisitorsA['visitors'], label='A')\n",
    "plt.plot(cumulativevisitorsB['date'], cumulativevisitorsB['orders']/cumulativevisitorsB['visitors'], label='B')\n",
    "plt.xlabel('Дата кумулятивного среднего количества заказов на посетителя по группам')\n",
    "plt.ylabel('Кумулятивное среднее количества заказов на посетителя')\n",
    "plt.title('График кумулятивного среднего количества заказов на посетителя по группам')\n",
    "plt.legend();"
   ]
  },
  {
   "cell_type": "markdown",
   "metadata": {},
   "source": [
    "Как видим, значение группы А стабилизировалось к концу графика как и группы В. Можно отметить, что кумулятивное среднее количество заказов на посетителя в группе В существенно выше."
   ]
  },
  {
   "cell_type": "markdown",
   "metadata": {},
   "source": [
    "### Построим график относительного изменения кумулятивного среднего количества заказов на посетителя группы B к группе A."
   ]
  },
  {
   "cell_type": "markdown",
   "metadata": {},
   "source": [
    "Создадим переменную mergedCumulativeVisitors, где сохраним даты и данные по заказам и посещениям пользователей."
   ]
  },
  {
   "cell_type": "code",
   "execution_count": 43,
   "metadata": {},
   "outputs": [
    {
     "data": {
      "image/png": "[encoded data removed]",
      "text/plain": [
       "<Figure size 1600x800 with 1 Axes>"
      ]
     },
     "metadata": {},
     "output_type": "display_data"
    }
   ],
   "source": [
    "mergedCumulativeVisitors = cumulativevisitorsA.merge(cumulativevisitorsB, left_on='date', right_on='date', how='left', \n",
    "                                                   suffixes=['A', 'B'])\n",
    "plt.figure(figsize=(16,8))\n",
    "plt.plot(mergedCumulativeVisitors['date'], (mergedCumulativeVisitors['ordersB']/mergedCumulativeVisitors['visitorsB'])/\n",
    "         (mergedCumulativeVisitors['ordersA']/mergedCumulativeVisitors['visitorsA'])-1)\n",
    "plt.xlabel('Дата относительного изменения кумулятивного среднего количества заказов на посетителя группы B к группе A')\n",
    "plt.ylabel('Относительное изменение кумулятивного среднего количества заказов на посетителя группы B к группе A')\n",
    "plt.title('График относительного изменения кумулятивного среднего количества заказов на посетителя группы B к группе A')\n",
    "# добавляем ось X\n",
    "plt.axhline(y=0, color='black', linestyle='--');"
   ]
  },
  {
   "cell_type": "markdown",
   "metadata": {},
   "source": [
    "Как видим, среденне значение количества заказов в группе В постоянно росло относительно группы А. К концу графика отношение значения В к А стабилизировалось."
   ]
  },
  {
   "cell_type": "markdown",
   "metadata": {},
   "source": [
    "### Построим точечный график количества заказов по пользователям."
   ]
  },
  {
   "cell_type": "markdown",
   "metadata": {},
   "source": [
    "Введем перемнную ordersByUsers для построения точечного графика количества заказов по пользователям, в котором будут значения идентификаторов пользователей и количество их заказов за изучаемый период. "
   ]
  },
  {
   "cell_type": "code",
   "execution_count": 44,
   "metadata": {},
   "outputs": [],
   "source": [
    "ordersByUsers = (\n",
    "    orders.groupby('visitorid', as_index=False)\n",
    "    .agg({'transactionid': 'nunique'})\n",
    ")\n",
    "ordersByUsers.columns = ['visitorid', 'orders']"
   ]
  },
  {
   "cell_type": "markdown",
   "metadata": {},
   "source": [
    "Построим точечный график."
   ]
  },
  {
   "cell_type": "code",
   "execution_count": 45,
   "metadata": {},
   "outputs": [
    {
     "data": {
      "image/png": "[encoded data removed]",
      "text/plain": [
       "<Figure size 640x480 with 1 Axes>"
      ]
     },
     "metadata": {},
     "output_type": "display_data"
    }
   ],
   "source": [
    "x_values = pd.Series(range(0,len(ordersByUsers)))\n",
    "\n",
    "plt.scatter(x_values, ordersByUsers['orders']);"
   ]
  },
  {
   "cell_type": "markdown",
   "metadata": {},
   "source": [
    "Как видим, подавляющая масса пользователей совершают одну покупку за изучаемый период. Две покупки совершают намного меньше, а три покупки большая редкость."
   ]
  },
  {
   "cell_type": "markdown",
   "metadata": {},
   "source": [
    "### Посчитаем 95-й и 99-й перцентили количества заказов на пользователя."
   ]
  },
  {
   "cell_type": "code",
   "execution_count": 46,
   "metadata": {},
   "outputs": [
    {
     "name": "stdout",
     "output_type": "stream",
     "text": [
      "[1. 2.]\n"
     ]
    }
   ],
   "source": [
    "print(np.percentile(ordersByUsers['orders'], [95, 99])) "
   ]
  },
  {
   "cell_type": "markdown",
   "metadata": {},
   "source": [
    "Посчитав перцентили количества заказов на пользователя, можно сделать выводы, что только 5% пользователей сделали более одного заказа за изучаемый период и только 1% сделал более 2 заказов. Границей аномальных пользователей будет две покупки за изучаемый период."
   ]
  },
  {
   "cell_type": "markdown",
   "metadata": {},
   "source": [
    "### Построим точечный график стоимостей заказов. "
   ]
  },
  {
   "cell_type": "code",
   "execution_count": 47,
   "metadata": {},
   "outputs": [
    {
     "data": {
      "image/png": "[encoded data removed]",
      "text/plain": [
       "<Figure size 640x480 with 1 Axes>"
      ]
     },
     "metadata": {},
     "output_type": "display_data"
    }
   ],
   "source": [
    "x_values = pd.Series(range(0,len(orders['revenue'])))\n",
    "plt.scatter(x_values, orders['revenue']);"
   ]
  },
  {
   "cell_type": "markdown",
   "metadata": {},
   "source": [
    "Как видим из графика, стоимость заказов распределена давольно равномерно, но имеются аномалии с очень большой величиной, которые могли повлиять как на величину среднего чека так и на изменение величины выручки за изучаемый период."
   ]
  },
  {
   "cell_type": "markdown",
   "metadata": {},
   "source": [
    "### Посчитаем 95-й и 99-й перцентили стоимости заказов."
   ]
  },
  {
   "cell_type": "code",
   "execution_count": 48,
   "metadata": {},
   "outputs": [
    {
     "name": "stdout",
     "output_type": "stream",
     "text": [
      "[26785. 53904.]\n"
     ]
    }
   ],
   "source": [
    "print(np.percentile(orders['revenue'], [95, 99])) "
   ]
  },
  {
   "cell_type": "markdown",
   "metadata": {},
   "source": [
    "Исходя из полученных расчетов, заказы на сумму более 26785 рублей составляют 5% от всех заказов за изучаемый период и только 1% сделал заказ на сумму больше 53904. Границей аномальных пользователей будет одна покупка на сумму более 53904 рублей. "
   ]
  },
  {
   "cell_type": "markdown",
   "metadata": {},
   "source": [
    "### Посчитаем статистическую значимость различий в среднем количестве заказов на посетителя между группами по «сырым» данным."
   ]
  },
  {
   "cell_type": "markdown",
   "metadata": {},
   "source": [
    "Сформулируем гипотезы. Нулевая: различий в среднем количестве заказов между группами нет. Альтернативная: различия в среднем между группами есть. Так же найдём относительные различия в среднем чеке между группами. Подготовим данные для расчета статистической значимости"
   ]
  },
  {
   "cell_type": "code",
   "execution_count": 49,
   "metadata": {},
   "outputs": [
    {
     "name": "stdout",
     "output_type": "stream",
     "text": [
      "        date  ordersPerDateA  revenuePerDateA  ordersPerDateB  \\\n",
      "0 2019-08-01              23           142779              17   \n",
      "1 2019-08-02              19            91602              23   \n",
      "2 2019-08-03              24           112473              14   \n",
      "3 2019-08-04              11            41176              14   \n",
      "4 2019-08-05              22            86383              21   \n",
      "\n",
      "   revenuePerDateB  ordersCummulativeA  revenueCummulativeA  \\\n",
      "0            59758                  23               142779   \n",
      "1           162043                  42               234381   \n",
      "2            67049                  66               346854   \n",
      "3            96890                  77               388030   \n",
      "4            89908                  99               474413   \n",
      "\n",
      "   ordersCummulativeB  revenueCummulativeB  visitorsPerDateA  \\\n",
      "0                  17                59758               719   \n",
      "1                  40               221801               619   \n",
      "2                  54               288850               507   \n",
      "3                  68               385740               717   \n",
      "4                  89               475648               756   \n",
      "\n",
      "   visitorsPerDateB  visitorsCummulativeA  visitorsCummulativeB  \n",
      "0               713                   719                   713  \n",
      "1               581                  1338                  1294  \n",
      "2               509                  1845                  1803  \n",
      "3               770                  2562                  2573  \n",
      "4               707                  3318                  3280  \n"
     ]
    }
   ],
   "source": [
    "visitorsADaily = visitors[visitors['group'] == 'A'][['date', 'visitors']] # количество пользователей в выбранную дату в группе A\n",
    "visitorsADaily.columns = ['date', 'visitorsPerDateA']\n",
    "\n",
    "visitorsACummulative = visitorsADaily.apply(\n",
    "    lambda x: visitorsADaily[visitorsADaily['date'] <= x['date']].agg(\n",
    "        {'date': 'max', 'visitorsPerDateA': 'sum'}\n",
    "    ),\n",
    "    axis=1,\n",
    ") # выведем количество пользователей до выбранной даты включительно в группе A\n",
    "visitorsACummulative.columns = ['date', 'visitorsCummulativeA'] \n",
    "\n",
    "visitorsBDaily = visitors[visitors['group'] == 'B'][['date', 'visitors']] # количество пользователей в выбранную дату в группе B\n",
    "visitorsBDaily.columns = ['date', 'visitorsPerDateB']\n",
    "\n",
    "visitorsBCummulative = visitorsBDaily.apply(\n",
    "    lambda x: visitorsBDaily[visitorsBDaily['date'] <= x['date']].agg(\n",
    "        {'date': 'max', 'visitorsPerDateB': 'sum'}\n",
    "    ),\n",
    "    axis=1,\n",
    ") # выведем количество пользователей до выбранной даты включительно в группе B\n",
    "visitorsBCummulative.columns = ['date', 'visitorsCummulativeB']\n",
    "\n",
    "ordersADaily = (\n",
    "    orders[orders['group'] == 'A'][['date', 'transactionid', 'visitorid', 'revenue']]\n",
    "    .groupby('date', as_index=False)\n",
    "    .agg({'transactionid': pd.Series.nunique, 'revenue': 'sum'})\n",
    ") # количество заказов в выбранную дату в группе A и суммарная выручка в выбранную дату в группе A\n",
    "ordersADaily.columns = ['date', 'ordersPerDateA', 'revenuePerDateA']\n",
    "\n",
    "ordersACummulative = ordersADaily.apply(\n",
    "    lambda x: ordersADaily[ordersADaily['date'] <= x['date']].agg(\n",
    "        {'date': 'max', 'ordersPerDateA': 'sum', 'revenuePerDateA': 'sum'}\n",
    "    ),\n",
    "    axis=1,\n",
    ").sort_values(by=['date']) # суммарное число заказов до выбранной даты включительно в группе A и суммарная выручка \n",
    "                           # до выбранной даты включительно в группе A\n",
    "ordersACummulative.columns = [\n",
    "    'date',\n",
    "    'ordersCummulativeA',\n",
    "    'revenueCummulativeA',\n",
    "]\n",
    "\n",
    "ordersBDaily = (\n",
    "    orders[orders['group'] == 'B'][['date', 'transactionid', 'visitorid', 'revenue']]\n",
    "    .groupby('date', as_index=False)\n",
    "    .agg({'transactionid': pd.Series.nunique, 'revenue': 'sum'})\n",
    ") # количество заказов в выбранную дату в группе B и суммарная выручка в выбранную дату в группе B\n",
    "ordersBDaily.columns = ['date', 'ordersPerDateB', 'revenuePerDateB']\n",
    "\n",
    "ordersBCummulative = ordersBDaily.apply(\n",
    "    lambda x: ordersBDaily[ordersBDaily['date'] <= x['date']].agg(\n",
    "        {'date': 'max', 'ordersPerDateB': 'sum', 'revenuePerDateB': 'sum'}\n",
    "    ),\n",
    "    axis=1,\n",
    ").sort_values(by=['date']) # суммарное число заказов до выбранной даты включительно в группе B и суммарная выручка \n",
    "                           # до выбранной даты включительно в группе B\n",
    "ordersBCummulative.columns = [\n",
    "    'date',\n",
    "    'ordersCummulativeB',\n",
    "    'revenueCummulativeB',\n",
    "]\n",
    "\n",
    "data = (\n",
    "    ordersADaily.merge(\n",
    "        ordersBDaily, left_on='date', right_on='date', how='left'\n",
    "    )\n",
    "    .merge(ordersACummulative, left_on='date', right_on='date', how='left')\n",
    "    .merge(ordersBCummulative, left_on='date', right_on='date', how='left')\n",
    "    .merge(visitorsADaily, left_on='date', right_on='date', how='left')\n",
    "    .merge(visitorsBDaily, left_on='date', right_on='date', how='left')\n",
    "    .merge(visitorsACummulative, left_on='date', right_on='date', how='left')\n",
    "    .merge(visitorsBCummulative, left_on='date', right_on='date', how='left')\n",
    ")\n",
    "\n",
    "print(data.head(5)) # Проверили результат"
   ]
  },
  {
   "cell_type": "code",
   "execution_count": 50,
   "metadata": {},
   "outputs": [
    {
     "name": "stdout",
     "output_type": "stream",
     "text": [
      "p-value = 0.011\n",
      "различие между группами = 0.160\n"
     ]
    }
   ],
   "source": [
    "ordersByUsersA = (\n",
    "    orders[orders['group'] == 'A']\n",
    "    .groupby('visitorid', as_index=False)\n",
    "    .agg({'transactionid': pd.Series.nunique})\n",
    ")\n",
    "ordersByUsersA.columns = ['visitorid', 'orders']\n",
    "\n",
    "ordersByUsersB = (\n",
    "    orders[orders['group'] == 'B']\n",
    "    .groupby('visitorid', as_index=False)\n",
    "    .agg({'transactionid': pd.Series.nunique})\n",
    ")\n",
    "ordersByUsersB.columns = ['visitorid', 'orders']\n",
    "\n",
    "sampleA = pd.concat(\n",
    "    [\n",
    "        ordersByUsersA['orders'],\n",
    "        pd.Series(\n",
    "            0,\n",
    "            index=np.arange(\n",
    "                data['visitorsPerDateA'].sum() - len(ordersByUsersA['orders'])\n",
    "            ),\n",
    "            name='orders',\n",
    "        ),\n",
    "    ],\n",
    "    axis=0,\n",
    ")\n",
    "\n",
    "sampleB = pd.concat(\n",
    "    [\n",
    "        ordersByUsersB['orders'],\n",
    "        pd.Series(\n",
    "            0,\n",
    "            index=np.arange(\n",
    "                data['visitorsPerDateB'].sum() - len(ordersByUsersB['orders'])\n",
    "            ),\n",
    "            name='orders',\n",
    "        ),\n",
    "    ],\n",
    "    axis=0,\n",
    ")\n",
    "\n",
    "print('p-value = ' \"{0:.3f}\".format(stats.mannwhitneyu(sampleA, sampleB)[1]))\n",
    "\n",
    "print('различие между группами = ' \"{0:.3f}\".format(sampleB.mean() / sampleA.mean() - 1))"
   ]
  },
  {
   "cell_type": "markdown",
   "metadata": {},
   "source": [
    "По «сырым» данным имеются различия в среднем числе заказов групп A и B. \n",
    "Первое число — p-value = 0.011 меньше 0.05. Значит, нулевую гипотезу о том, что статистически значимых различий в среднем числе заказов между группами нет, отвергаем. Однако относительный выйгрыш группы B равен 16% — второе число в выводе."
   ]
  },
  {
   "cell_type": "markdown",
   "metadata": {},
   "source": [
    "### Посчитаем статистическую значимость различий в среднем чеке заказа между группами по «сырым» данным."
   ]
  },
  {
   "cell_type": "markdown",
   "metadata": {},
   "source": [
    "Проверим статистическую значимость различий в среднем чеке между сегментами.  Нулевая гипотеза: различий в среднем чеке между группами нет. Альтернативная гипотеза: различия в среднем чеке между группами есть. Так же найдём относительные различия в среднем чеке между группами."
   ]
  },
  {
   "cell_type": "code",
   "execution_count": 51,
   "metadata": {},
   "outputs": [
    {
     "name": "stdout",
     "output_type": "stream",
     "text": [
      "p-value = 0.829\n",
      "различие между группами = 0.287\n"
     ]
    }
   ],
   "source": [
    "print('p-value = ' '{0:.3f}'.format(stats.mannwhitneyu(orders[orders['group']=='A']['revenue'], orders[orders['group']=='B']['revenue'])[1]))\n",
    "print('различие между группами = ' '{0:.3f}'.format(orders[orders['group']=='B']['revenue'].mean()/orders[orders['group']=='A']['revenue'].mean()-1)) "
   ]
  },
  {
   "cell_type": "markdown",
   "metadata": {},
   "source": [
    "P-value значительно больше 0.05. Значит, причин отвергать нулевую гипотезу и считать, что в среднем чеке есть различия, нет. "
   ]
  },
  {
   "cell_type": "markdown",
   "metadata": {},
   "source": [
    "### Посчитаем статистическую значимость различий в среднем количестве заказов на посетителя между группами по «очищенным» данным"
   ]
  },
  {
   "cell_type": "markdown",
   "metadata": {},
   "source": [
    "Ранее было выявлено, что 1% пользоватлей совершают более двух покупок. Так же было выявлено, что только 1% пользователей совершают покупку на сумму более 53904 за исследуемый нами период. Примем за аномальные значения пользователей, которые совершили более двух покупок или сумма покупки более 53904."
   ]
  },
  {
   "cell_type": "markdown",
   "metadata": {},
   "source": [
    "Сделаем срезы пользователей с числом заказов больше 2 — usersWithManyOrders и пользователей, совершивших заказы дороже 53904 — usersWithExpensiveOrders. Объединим их в таблице abnormalUsers"
   ]
  },
  {
   "cell_type": "code",
   "execution_count": 52,
   "metadata": {},
   "outputs": [
    {
     "name": "stdout",
     "output_type": "stream",
     "text": [
      "1099    148427295\n",
      "33      249864742\n",
      "58      611059232\n",
      "949     887908475\n",
      "744     888512513\n",
      "Name: visitorid, dtype: int64\n",
      "16\n"
     ]
    }
   ],
   "source": [
    "usersWithManyOrders = pd.concat(\n",
    "    [\n",
    "        ordersByUsersA[ordersByUsersA['orders'] > 2]['visitorid'],\n",
    "        ordersByUsersB[ordersByUsersB['orders'] > 2]['visitorid'],\n",
    "    ],\n",
    "    axis=0,\n",
    ")\n",
    "usersWithExpensiveOrders = orders[orders['revenue'] > 53904]['visitorid']\n",
    "abnormalUsers = (\n",
    "    pd.concat([usersWithManyOrders, usersWithExpensiveOrders], axis=0)\n",
    "    .drop_duplicates()\n",
    "    .sort_values()\n",
    ")\n",
    "print(abnormalUsers.head(5))\n",
    "print(abnormalUsers.shape[0]) # Узнаем, сколько всего аномальных пользователей атрибутом"
   ]
  },
  {
   "cell_type": "markdown",
   "metadata": {},
   "source": [
    "Узнаем, сильно ли повлияют исключение данных пользователей в «очищенных» данных. Для начала узнаем, сколько уникальных пользователей файле orders."
   ]
  },
  {
   "cell_type": "code",
   "execution_count": 53,
   "metadata": {},
   "outputs": [
    {
     "data": {
      "text/plain": [
       "973"
      ]
     },
     "execution_count": 53,
     "metadata": {},
     "output_type": "execute_result"
    }
   ],
   "source": [
    "orders['visitorid'].nunique()"
   ]
  },
  {
   "cell_type": "markdown",
   "metadata": {},
   "source": [
    "Анализируя данные видим, что количество отсеянных 'аномальных' пользователей составляет примерно 1.64%, что не превышает допустимый предел в 10%. Можем приступать к анализу."
   ]
  },
  {
   "cell_type": "code",
   "execution_count": 54,
   "metadata": {},
   "outputs": [],
   "source": [
    "sampleAFiltered = pd.concat(\n",
    "    [\n",
    "        ordersByUsersA[\n",
    "            np.logical_not(ordersByUsersA['visitorid'].isin(abnormalUsers))\n",
    "        ]['orders'],\n",
    "        pd.Series(\n",
    "            0,\n",
    "            index=np.arange(\n",
    "                data['visitorsPerDateA'].sum() - len(ordersByUsersA['orders'])\n",
    "            ),\n",
    "            name='orders',\n",
    "        ),\n",
    "    ],\n",
    "    axis=0,\n",
    ")\n",
    "\n",
    "sampleBFiltered = pd.concat(\n",
    "    [\n",
    "        ordersByUsersB[\n",
    "            np.logical_not(ordersByUsersB['visitorid'].isin(abnormalUsers))\n",
    "        ]['orders'],\n",
    "        pd.Series(\n",
    "            0,\n",
    "            index=np.arange(\n",
    "                data['visitorsPerDateB'].sum() - len(ordersByUsersB['orders'])\n",
    "            ),\n",
    "            name='orders',\n",
    "        ),\n",
    "    ],\n",
    "    axis=0,\n",
    ") "
   ]
  },
  {
   "cell_type": "code",
   "execution_count": 55,
   "metadata": {},
   "outputs": [
    {
     "name": "stdout",
     "output_type": "stream",
     "text": [
      "p-value = 0.007\n",
      "различие между группами = 0.189\n"
     ]
    }
   ],
   "source": [
    "print('p-value = ' '{0:.3f}'.format(stats.mannwhitneyu(sampleAFiltered, sampleBFiltered)[1]))\n",
    "print('различие между группами = ' '{0:.3f}'.format(sampleBFiltered.mean()/sampleAFiltered.mean()-1)) "
   ]
  },
  {
   "cell_type": "markdown",
   "metadata": {},
   "source": [
    "Результаты по среднему количеству заказов по «очищенным» данным практически не изменились."
   ]
  },
  {
   "cell_type": "markdown",
   "metadata": {},
   "source": [
    "### Посчитаем статистическую значимость различий в среднем чеке заказа между группами по «очищенным» данным."
   ]
  },
  {
   "cell_type": "code",
   "execution_count": 56,
   "metadata": {},
   "outputs": [
    {
     "name": "stdout",
     "output_type": "stream",
     "text": [
      "p-value = 0.788\n",
      "различие между группами = -0.032\n"
     ]
    }
   ],
   "source": [
    "print('p-value = ' \n",
    "    '{0:.3f}'.format(\n",
    "        stats.mannwhitneyu(\n",
    "            orders[\n",
    "                np.logical_and(\n",
    "                    orders['group'] == 'A',\n",
    "                    np.logical_not(orders['visitorid'].isin(abnormalUsers)),\n",
    "                )\n",
    "            ]['revenue'],\n",
    "            orders[\n",
    "                np.logical_and(\n",
    "                    orders['group'] == 'B',\n",
    "                    np.logical_not(orders['visitorid'].isin(abnormalUsers)),\n",
    "                )\n",
    "            ]['revenue'],\n",
    "        )[1]\n",
    "    )\n",
    ")\n",
    "\n",
    "print('различие между группами = '\n",
    "    \"{0:.3f}\".format(\n",
    "        orders[\n",
    "            np.logical_and(\n",
    "                orders['group'] == 'B',\n",
    "                np.logical_not(orders['visitorid'].isin(abnormalUsers)),\n",
    "            )\n",
    "        ]['revenue'].mean()\n",
    "        / orders[\n",
    "            np.logical_and(\n",
    "                orders['group'] == 'A',\n",
    "                np.logical_not(orders['visitorid'].isin(abnormalUsers)),\n",
    "            )\n",
    "        ]['revenue'].mean()\n",
    "        - 1\n",
    "    )\n",
    ") "
   ]
  },
  {
   "cell_type": "markdown",
   "metadata": {},
   "source": [
    "P-value уменьшился, как и разница между сегментами сократилась с 29% до 3%. На основе «очищенных» данных гипотезу об отсутствии различий в среднем чеке между группами отклонить не можем. "
   ]
  },
  {
   "cell_type": "markdown",
   "metadata": {},
   "source": [
    "### Построим график кумулятивного среднего чека по группам по «очищенным» данным."
   ]
  },
  {
   "cell_type": "markdown",
   "metadata": {},
   "source": [
    "Так как ранее наблюдалось небольшое, но стабильное снижение величины кумулятивного среднего чека в группе В, можем предположить, что на это снижение повлияли аномальные значения, которые были ранее. Построим график кумулятивного среднего чека по группам по «очищенным» данным, чтобы убедиться, что данная величина для группы В стабилизировалась."
   ]
  },
  {
   "cell_type": "code",
   "execution_count": 57,
   "metadata": {},
   "outputs": [],
   "source": [
    "orders_new = orders[np.logical_not(orders['visitorid'].isin(abnormalUsers))]  "
   ]
  },
  {
   "cell_type": "code",
   "execution_count": 58,
   "metadata": {},
   "outputs": [
    {
     "name": "stderr",
     "output_type": "stream",
     "text": [
      "C:\\Users\\HP-work\\AppData\\Local\\Temp\\ipykernel_1632\\624250681.py:4: UserWarning: Boolean Series key will be reindexed to match DataFrame index.\n",
      "  lambda x:orders_new[\n"
     ]
    }
   ],
   "source": [
    "datesGroups = orders_new[['date', 'group']].drop_duplicates()\n",
    "\n",
    "ordersAggregated = datesGroups.apply(\n",
    "    lambda x:orders_new[\n",
    "        np.logical_and(\n",
    "            orders_new['date'] <= x['date'], orders['group'] == x['group']\n",
    "        )\n",
    "    ].agg(\n",
    "        {\n",
    "            'date': 'max',\n",
    "            'group': 'max',\n",
    "            'transactionid': 'nunique',\n",
    "            'visitorid': 'nunique',\n",
    "            'revenue': 'sum',\n",
    "        }\n",
    "    ),\n",
    "    axis=1,\n",
    ").sort_values(by=['date', 'group'])\n",
    "\n",
    "visitorsAggregated = datesGroups.apply(\n",
    "    lambda x: visitors[\n",
    "        np.logical_and(\n",
    "            visitors['date'] <= x['date'], visitors['group'] == x['group']\n",
    "        )\n",
    "    ].agg({'date': 'max', 'group': 'max', 'visitors': 'sum'}),\n",
    "    axis=1,\n",
    ").sort_values(by=['date', 'group'])\n",
    "\n",
    "cumulativeData = ordersAggregated.merge(\n",
    "    visitorsAggregated, left_on=['date', 'group'], right_on=['date', 'group']\n",
    ")\n",
    "cumulativeData.columns = [\n",
    "    'date',\n",
    "    'group',\n",
    "    'orders',\n",
    "    'buyers',\n",
    "    'revenue',\n",
    "    'visitors',\n",
    "]\n",
    "cumulativeRevenueA = cumulativeData[cumulativeData['group']=='A'][['date','revenue', 'orders']]\n",
    "cumulativeRevenueB = cumulativeData[cumulativeData['group']=='B'][['date','revenue', 'orders']]"
   ]
  },
  {
   "cell_type": "code",
   "execution_count": 59,
   "metadata": {},
   "outputs": [
    {
     "data": {
      "image/png": "[encoded data removed]",
      "text/plain": [
       "<Figure size 1600x800 with 1 Axes>"
      ]
     },
     "metadata": {},
     "output_type": "display_data"
    }
   ],
   "source": [
    "plt.figure(figsize=(16,8))\n",
    "plt.plot(cumulativeRevenueA['date'], cumulativeRevenueA['revenue']/cumulativeRevenueA['orders'], label='A')\n",
    "plt.plot(cumulativeRevenueB['date'], cumulativeRevenueB['revenue']/cumulativeRevenueB['orders'], label='B')\n",
    "plt.xlabel('Дата кумулятивного среднего чека по «очищенным» данным')\n",
    "plt.ylabel('Размер кумулятивного среднего чека по «очищенным» данным')\n",
    "plt.title('График кумулятивного среднего чека по группам «очищенным» данным')\n",
    "plt.legend();"
   ]
  },
  {
   "cell_type": "markdown",
   "metadata": {},
   "source": [
    "Как видим, по «очищенным» данным, значение кумулятивного среднего чека в обеих группах стабилизировалось и находится примерно на одном уровне."
   ]
  },
  {
   "cell_type": "markdown",
   "metadata": {},
   "source": [
    "### Примем  решение по результатам теста и объясним его."
   ]
  },
  {
   "cell_type": "markdown",
   "metadata": {},
   "source": [
    "Факты, которые были получены в результате исследования:  \n",
    "* Значение кумулятивного среднего количества заказов на посетителя группы А стабилизировалось к концу графика как и группы В. Можно отметить, что кумулятивное среднее количество заказов на посетителя в группе В существенно выше.  \n",
    "* Значение кумулятивного среднего чека в обеих группах стабилизировалось к концу теста и находятся примерно на одном уровне.  \n",
    "* Есть статистически значимое различие по среднему количеству заказов между группами как по «сырым», так и по данным после фильтрации аномалий;\n",
    "* Нет статистически значимого различия по среднему чеку между группами ни по «сырым», ни по данным после фильтрации аномалий;"
   ]
  },
  {
   "cell_type": "markdown",
   "metadata": {},
   "source": [
    "Исходя из обнаруженных фактов, тест следует остановить и признать его успешным. Группа В показала увеличение среднего количества заказов на посетителя и в тоже время имеет примерно одинаковый показатель кумулятивного среднего чека с группой А основываясь на графике кумулятивного среднего чека по группам по «очищенным» данным. Продолжать смысла нет, потому как вероятность, что при имеющихся данных сегмент А на самом деле лучше сегмента В — практически нулевая."
   ]
  },
  {
   "cell_type": "markdown",
   "metadata": {},
   "source": [
    "__В данном разделе были сделаны следующие выводы:__  \n",
    "* Перед началов проведения A/B-теста было выявлено, что в тесте участвуют 2 группы, а именно: А и В. Датой начала теста является 2019-08-01, а его завершения 2019-08-31. В данных были обнаружены пользователи, которые присутствовали в обеих группах, после чего они были удалены, так как могли сказаться на результате теста. С учетом данного отсеивания в группе А осталось 445 пользователя, а в группе В 528. \n",
    "* По графику кумулятивной выручки, группа В резко вышла вперед, хотя оставалась значительное время примерно на одном уровне с группой А. Возможно влияние аномальных значений. По данному графику нельзя сделать какие то определенные выводы, так как число пользователей в группе В больше, что в свою очередь может сказываться на размер кумулятивной выручки. \n",
    "* По графику кумулятивного среднего чека по группам опять прослеживается резкое колебание среднего чека в группе В, что так же говорит о возможном влиянии аномальных значений. Так же можно заметить, что к концу теста, значение кумулятивного среднего чека в группе А стабилизировалось, а в группе В проискодит стабильное падение величины среднего чека. \n",
    "* По графику относительного изменения кумулятивного среднего чека группы B к группе A видно, что результаты значительно менялись в нескольких датах, скорее всего именно в эти периоды были сделаны аномальные заказы. \n",
    "* По графику кумулятивного среднего количества заказов на посетителя по группам видно, что значение группы А стабилизировалось к концу графика как и группы В. Можно отметить, что кумулятивное среднее количество заказов на посетителя в группе В существенно выше. \n",
    "* По графику относительного изменения кумулятивного среднего количества заказов на посетителя группы B к группе A видно, что среденне значение количества заказов в группе В постоянно росло относительно группы А. К концу графика отношение значения В к А стабилизировалось. \n",
    "* По точечному графику количества заказов по пользователям видим, подавляющая масса пользователей совершают одну покупку за изучаемый период. Две покупки совершают намного меньше, а три покупки большая редкость. \n",
    "* По точечному графику стоимостей заказов видим, стоимость заказов распределена давольно равномерно, но имеются аномалии с очень большой величиной, которые могли повлиять как на величину среднего чека так и на изменение величины выручки за изучаемый период.\n",
    "* Посчитав перцентили количества заказов на пользователя, можно сделать выводы, что только 5% пользователей сделали более одного заказа за изучаемый период, а более 2 заказов около 1%. Границей аномальных пользователей будет две покупки за изучаемый период.\n",
    "* Исходя из полученных расчетов, заказы на сумму более 53904 рублей составляют 1% от всех заказов за изучаемый период.\n",
    "* Сформулированы гипотезы. Нулевая: различий в среднем количестве заказов между группами нет. Альтернативная: различия в среднем между группами есть. \n",
    "* По «сырым» данным имеются различия в среднем числе заказов групп A и B. Первое число — p-value = 0.011 меньше 0.05. Значит, нулевую гипотезу о том, что статистически значимых различий в среднем числе заказов между группами нет, отвергаем. Однако, относительный выйгрыш группы B равен 16% — второе число в выводе.\n",
    "* Сформулированы гипотезы. Нулевая гипотеза: различий в среднем чеке между группами нет. Альтернативная гипотеза: различия в среднем чеке между группами есть.\n",
    "* P-value равен 0.829, что значительно больше 0.05. Значит, причин отвергать нулевую гипотезу, а именно считать, что в среднем чеке есть различия, нет.\n",
    "* Статистическая значимость различий в среднем количестве заказов на посетителя между группами по «очищенным» данным практически не изменилась относительно «сырых» данных.\n",
    "* P-value уменьшился и составил 0.788, как и разница между сегментами сократилась с 29% до 3%. На основе «очищенных» данных гипотезу об отсутствии различий в среднем чеке между группами отклонить так же не можем.\n",
    "* при постоении графика, по «очищенным» данным, значение кумулятивного среднего чека в обеих группах стабилизировалось и находится примерно на одном уровне.\n",
    "* Исходя из обнаруженных фактов, тест следует остановить и признать его успешным. Группа В показала увеличение среднего количества заказов на посетителя и в тоже время имеет примерно одинаковый показатель кумулятивного среднего чека с группой А основываясь на графике кумулятивного среднего чека по группам по «очищенным» данным. Продолжать смысла нет, потому как вероятность, что при имеющихся данных сегмент А на самом деле лучше сегмента В — практически нулевая."
   ]
  },
  {
   "cell_type": "markdown",
   "metadata": {},
   "source": [
    "## Общий вывод"
   ]
  },
  {
   "cell_type": "markdown",
   "metadata": {},
   "source": [
    "__Выполняя проект, были проделаны следующие работы:__  \n",
    "1. Загрузка и подготовка к анализу данных.\n",
    "2. Выполнена приоритизация гипотез фреймворками RICE и ICE.\n",
    "3. Проведен анализ A/B-теста, а именно:  \n",
    "* Изучены и скорректированы данные для A/B-теста.  \n",
    "* Построен график кумулятивной выручки по группам.  \n",
    "* Постройте график кумулятивного среднего чека по группам.\n",
    "* Построен график относительного изменения кумулятивного среднего чека группы B к группе A.\n",
    "* Построен график кумулятивного среднего количества заказов на посетителя по группам.\n",
    "* Построен график относительного изменения кумулятивного среднего количества заказов на посетителя группы B к группе A.\n",
    "* Постройте точечный график количества заказов по пользователям.\n",
    "* Посчитаны 95-й и 99-й перцентили количества заказов на пользователя. Выбераны границы для определения аномальных пользователей.\n",
    "* Построены точечный график стоимостей заказов. \n",
    "* Посчитаны 95-й и 99-й перцентили стоимости заказов. Выбераны границы для определения аномальных заказов.\n",
    "* Посчитайте статистическую значимость различий в среднем количестве заказов на посетителя между группами по «сырым» данным.\n",
    "* Посчитайте статистическую значимость различий в среднем чеке заказа между группами по «сырым» данным.\n",
    "* Посчитайте статистическую значимость различий в среднем количестве заказов на посетителя между группами по «очищенным» данным.\n",
    "* Посчитайте статистическую значимость различий в среднем чеке заказа между группами по «очищенным» данным. \n",
    "* Построен график кумулятивного среднего чека по группам по «очищенным» данным.\n",
    "* Принято решение по результатам теста."
   ]
  },
  {
   "cell_type": "markdown",
   "metadata": {},
   "source": [
    "__Выполняя проект, были сделаны следующие выводы:__    \n",
    "1. Оценивая методы приоритезации 'ICE' и 'RICE', применимо к нашему исследованию, уровень значимости гипотез между ними отличется. В методе 'ICE' имеются 3 явных лидера с гипотезами: запустить акцию, дающую скидку на товар в день рождения; добавление два новых канала привлечения трафика, что позволит привлекать на 30% больше пользователей; добавление форму подписки на все основные страницы, чтобы собрать базу клиентов для email-рассылок. В 'RICE' отчетливо прослеживается 4 лидера значимости: добавить форму подписки на все основные страницы, чтобы собрать базу клиентов для email-рассылок; добавить блоки рекомендаций товаров на сайт интернет магазина, чтобы повысить конверсию и средний чек заказа; добавить два новых канала привлечения трафика, что позволит привлекать на 30% больше пользователей; показать на главной странице баннеры с актуальными акциями и распродажами, чтобы увеличить конверсию. Так произошло из-за того, что метод 'ICE', в отличии от метода 'RICE' не учитывает то, как много пользователей он затронет. Показатель 'rich' в гипотезах, которые в методе 'RICE' наиболее значимы, выше, чем в других гипотезах, что и увеличило их показаель.\n",
    "2. Перед началов проведения A/B-теста было выявлено, что в тесте участвуют 2 группы, а именно: А и В. Датой начала теста является 2019-08-01, а его завершения 2019-08-31. В данных были обнаружены пользователи, которые присутствовали в обеих группах, после чего они были удалены, так как могли сказаться на результате теста. С учетом данного отсеивания в группе А осталось 445 пользователя, а в группе В 528.\n",
    "3. По графику кумулятивной выручки, группа В резко вышла вперед, хотя оставалась значительное время примерно на одном уровне с группой А. Возможно влияние аномальных значений. По данному графику нельзя сделать какие то определенные выводы, так как число пользователей в группе В больше, что в свою очередь может сказываться на размер кумулятивной выручки.\n",
    "4. По графику кумулятивного среднего чека по группам опять прослеживается резкое колебание среднего чека в группе В, что так же говорит о возможном влиянии аномальных значений. Так же можно заметить, что к концу теста, значение кумулятивного среднего чека в группе А стабилизировалось, а в группе В проискодит стабильное падение величины среднегоо чека.\n",
    "5. По графику относительного изменения кумулятивного среднего чека группы B к группе A видно, что результаты значительно менялись в нескольких датах, скорее всего именно в эти периоды были сделаны аномальные заказы.\n",
    "6. По графику кумулятивного среднего количества заказов на посетителя по группам видно, что значение группы А стабилизировалось к концу графика как и группы В. Можно отметить, что кумулятивное среднее количество заказов на посетителя в группе В существенно выше.\n",
    "7. По графику относительного изменения кумулятивного среднего количества заказов на посетителя группы B к группе A видно, что среденне значение количества заказов в группе В постоянно росло относительно группы А. К концу графика отношение значения В к А стабилизировалось.\n",
    "8. По точечному графику количества заказов по пользователям видим, подавляющая масса пользователей совершают одну покупку за изучаемый период. Две покупки совершают намного меньше, а три покупки большая редкость.\n",
    "9. По точечному графику стоимостей заказов видим, стоимость заказов распределена давольно равномерно, но имеются аномалии с очень большой величиной, которые могли повлиять как на величину среднего чека так и на изменение величины выручки за изучаемый период.\n",
    "10. Посчитав перцентили количества заказов на пользователя, можно сделать выводы, что только 5% пользователей сделали более одного заказа за изучаемый период. Границей аномальных пользователей будет одна покупка за изучаемый период.\n",
    "11. Исходя из полученных расчетов, заказы на сумму более 26785 рублей составляют 5% от всех заказов за изучаемый период.\n",
    "12. Сформулированы гипотезы. Нулевая: различий в среднем количестве заказов между группами нет. Альтернативная: различия в среднем между группами есть. \n",
    "13. По «сырым» данным имеются различия в среднем числе заказов групп A и B. Первое число — p-value = 0.011 меньше 0.05. Значит, нулевую гипотезу о том, что статистически значимых различий в среднем числе заказов между группами нет, отвергаем. Однако, относительный выйгрыш группы B равен 16% — второе число в выводе.\n",
    "14. Сформулированы гипотезы. Нулевая гипотеза: различий в среднем чеке между группами нет. Альтернативная гипотеза: различия в среднем чеке между группами есть.\n",
    "15. P-value равен 0.829, что значительно больше 0.05. Значит, причин отвергать нулевую гипотезу, а именно считать, что в среднем чеке есть различия, нет.\n",
    "16. Статистическая значимость различий в среднем количестве заказов на посетителя между группами по «очищенным» данным практически не изменилась относительно «сырых» данных.\n",
    "17. P-value уменьшился и составил 0.788, как и разница между сегментами сократилась с 29% до 3%. На основе «очищенных» данных гипотезу об отсутствии различий в среднем чеке между группами отклонить так же не можем.\n",
    "18. при постоении графика, по «очищенным» данным, значение кумулятивного среднего чека в обеих группах стабилизировалось и находится примерно на одном уровне.\n",
    "19. Исходя из обнаруженных фактов, тест следует остановить и признать его успешным. Группа В показала увеличение среднего количества заказов на посетителя и в тоже время имеет примерно одинаковый показатель кумулятивного среднего чека с группой А основываясь на графике кумулятивного среднего чека по группам по «очищенным» данным. Продолжать смысла нет, потому как вероятность, что при имеющихся данных сегмент А на самом деле лучше сегмента В — практически нулевая."
   ]
  }
 ],
 "metadata": {
  "ExecuteTimeLog": [
   {
    "duration": 434,
    "start_time": "2023-05-14T08:14:11.395Z"
   },
   {
    "duration": 131,
    "start_time": "2023-05-14T08:15:32.841Z"
   },
   {
    "duration": 61,
    "start_time": "2023-05-14T08:16:04.999Z"
   },
   {
    "duration": 7,
    "start_time": "2023-05-14T08:16:26.144Z"
   },
   {
    "duration": 3,
    "start_time": "2023-05-14T08:18:11.720Z"
   },
   {
    "duration": 67,
    "start_time": "2023-05-14T08:18:12.351Z"
   },
   {
    "duration": 4,
    "start_time": "2023-05-14T08:18:13.191Z"
   },
   {
    "duration": 15,
    "start_time": "2023-05-14T08:18:14.919Z"
   },
   {
    "duration": 453,
    "start_time": "2023-05-14T08:19:07.100Z"
   },
   {
    "duration": 44,
    "start_time": "2023-05-14T08:19:07.555Z"
   },
   {
    "duration": 12,
    "start_time": "2023-05-14T08:19:07.603Z"
   },
   {
    "duration": 95,
    "start_time": "2023-05-14T08:20:09.651Z"
   },
   {
    "duration": 4,
    "start_time": "2023-05-14T08:20:16.243Z"
   },
   {
    "duration": 9,
    "start_time": "2023-05-14T08:20:32.129Z"
   },
   {
    "duration": 3,
    "start_time": "2023-05-14T08:24:40.393Z"
   },
   {
    "duration": 6,
    "start_time": "2023-05-14T08:24:45.742Z"
   },
   {
    "duration": 7,
    "start_time": "2023-05-14T08:26:18.210Z"
   },
   {
    "duration": 129,
    "start_time": "2023-05-14T08:31:46.185Z"
   },
   {
    "duration": 15,
    "start_time": "2023-05-14T08:59:50.187Z"
   },
   {
    "duration": 4,
    "start_time": "2023-05-14T09:00:37.399Z"
   },
   {
    "duration": 9,
    "start_time": "2023-05-14T09:00:44.707Z"
   },
   {
    "duration": 83,
    "start_time": "2023-05-14T09:20:46.110Z"
   },
   {
    "duration": 7,
    "start_time": "2023-05-14T09:20:57.898Z"
   },
   {
    "duration": 396,
    "start_time": "2023-05-14T09:21:20.094Z"
   },
   {
    "duration": 24,
    "start_time": "2023-05-14T09:21:20.496Z"
   },
   {
    "duration": 8,
    "start_time": "2023-05-14T09:21:20.522Z"
   },
   {
    "duration": 5,
    "start_time": "2023-05-14T09:21:20.532Z"
   },
   {
    "duration": 9,
    "start_time": "2023-05-14T09:21:20.539Z"
   },
   {
    "duration": 51,
    "start_time": "2023-05-14T09:21:20.550Z"
   },
   {
    "duration": 6,
    "start_time": "2023-05-14T09:21:20.603Z"
   },
   {
    "duration": 11,
    "start_time": "2023-05-14T09:21:20.611Z"
   },
   {
    "duration": 12,
    "start_time": "2023-05-14T09:21:20.624Z"
   },
   {
    "duration": 14,
    "start_time": "2023-05-14T09:21:20.638Z"
   },
   {
    "duration": 81,
    "start_time": "2023-05-14T09:21:20.653Z"
   },
   {
    "duration": 470,
    "start_time": "2023-05-14T09:35:23.726Z"
   },
   {
    "duration": 24,
    "start_time": "2023-05-14T09:35:44.225Z"
   },
   {
    "duration": 9,
    "start_time": "2023-05-14T09:35:53.619Z"
   },
   {
    "duration": 5,
    "start_time": "2023-05-14T09:36:16.099Z"
   },
   {
    "duration": 10,
    "start_time": "2023-05-14T09:36:27.378Z"
   },
   {
    "duration": 77,
    "start_time": "2023-05-14T09:36:39.787Z"
   },
   {
    "duration": 42,
    "start_time": "2023-05-14T09:37:01.997Z"
   },
   {
    "duration": 9,
    "start_time": "2023-05-14T09:37:09.191Z"
   },
   {
    "duration": 82,
    "start_time": "2023-05-14T09:37:17.148Z"
   },
   {
    "duration": 8,
    "start_time": "2023-05-14T09:37:31.111Z"
   },
   {
    "duration": 6,
    "start_time": "2023-05-14T09:37:40.251Z"
   },
   {
    "duration": 14,
    "start_time": "2023-05-14T09:38:04.318Z"
   },
   {
    "duration": 17,
    "start_time": "2023-05-14T09:38:28.748Z"
   },
   {
    "duration": 10,
    "start_time": "2023-05-14T09:39:43.992Z"
   },
   {
    "duration": 18,
    "start_time": "2023-05-14T09:39:56.894Z"
   },
   {
    "duration": 142,
    "start_time": "2023-05-14T09:41:40.744Z"
   },
   {
    "duration": 6,
    "start_time": "2023-05-14T09:42:03.213Z"
   },
   {
    "duration": 12,
    "start_time": "2023-05-14T09:42:50.302Z"
   },
   {
    "duration": 15,
    "start_time": "2023-05-14T09:43:09.019Z"
   },
   {
    "duration": 5,
    "start_time": "2023-05-14T09:46:49.713Z"
   },
   {
    "duration": 13,
    "start_time": "2023-05-14T09:46:59.702Z"
   },
   {
    "duration": 5,
    "start_time": "2023-05-14T09:47:30.295Z"
   },
   {
    "duration": 28,
    "start_time": "2023-05-14T09:47:32.850Z"
   },
   {
    "duration": 438,
    "start_time": "2023-05-15T07:36:07.413Z"
   },
   {
    "duration": 76,
    "start_time": "2023-05-15T07:36:07.853Z"
   },
   {
    "duration": 7,
    "start_time": "2023-05-15T07:36:07.931Z"
   },
   {
    "duration": 12,
    "start_time": "2023-05-15T07:36:07.940Z"
   },
   {
    "duration": 9,
    "start_time": "2023-05-15T07:36:07.953Z"
   },
   {
    "duration": 97,
    "start_time": "2023-05-15T07:36:07.963Z"
   },
   {
    "duration": 5,
    "start_time": "2023-05-15T07:36:08.062Z"
   },
   {
    "duration": 9,
    "start_time": "2023-05-15T07:36:08.069Z"
   },
   {
    "duration": 9,
    "start_time": "2023-05-15T07:36:08.080Z"
   },
   {
    "duration": 15,
    "start_time": "2023-05-15T07:36:08.091Z"
   },
   {
    "duration": 12,
    "start_time": "2023-05-15T07:36:08.107Z"
   },
   {
    "duration": 12,
    "start_time": "2023-05-15T07:36:08.121Z"
   },
   {
    "duration": 34,
    "start_time": "2023-05-15T07:36:08.135Z"
   },
   {
    "duration": 83,
    "start_time": "2023-05-15T07:36:08.170Z"
   },
   {
    "duration": 5,
    "start_time": "2023-05-15T07:36:08.255Z"
   },
   {
    "duration": 21,
    "start_time": "2023-05-15T07:36:08.262Z"
   },
   {
    "duration": 38,
    "start_time": "2023-05-15T07:36:08.285Z"
   },
   {
    "duration": 19,
    "start_time": "2023-05-15T07:36:08.325Z"
   },
   {
    "duration": 36,
    "start_time": "2023-05-15T07:36:08.345Z"
   },
   {
    "duration": 6,
    "start_time": "2023-05-15T07:44:16.484Z"
   },
   {
    "duration": 6,
    "start_time": "2023-05-15T07:45:54.644Z"
   },
   {
    "duration": 7,
    "start_time": "2023-05-15T07:57:52.200Z"
   },
   {
    "duration": 72,
    "start_time": "2023-05-15T08:01:45.456Z"
   },
   {
    "duration": 9,
    "start_time": "2023-05-15T08:02:00.435Z"
   },
   {
    "duration": 5,
    "start_time": "2023-05-15T08:02:51.358Z"
   },
   {
    "duration": 8,
    "start_time": "2023-05-15T08:02:53.075Z"
   },
   {
    "duration": 5,
    "start_time": "2023-05-15T08:16:02.902Z"
   },
   {
    "duration": 7,
    "start_time": "2023-05-15T08:16:54.123Z"
   },
   {
    "duration": 6,
    "start_time": "2023-05-15T09:09:55.124Z"
   },
   {
    "duration": 6,
    "start_time": "2023-05-15T09:38:27.500Z"
   },
   {
    "duration": 3,
    "start_time": "2023-05-15T09:50:36.150Z"
   },
   {
    "duration": 4,
    "start_time": "2023-05-15T09:50:44.621Z"
   },
   {
    "duration": 4,
    "start_time": "2023-05-15T09:51:18.264Z"
   },
   {
    "duration": 4,
    "start_time": "2023-05-15T09:52:39.555Z"
   },
   {
    "duration": 4,
    "start_time": "2023-05-15T09:55:01.550Z"
   },
   {
    "duration": 3,
    "start_time": "2023-05-15T09:55:02.179Z"
   },
   {
    "duration": 388,
    "start_time": "2023-05-15T14:24:20.789Z"
   },
   {
    "duration": 79,
    "start_time": "2023-05-15T14:24:21.180Z"
   },
   {
    "duration": 9,
    "start_time": "2023-05-15T14:24:21.261Z"
   },
   {
    "duration": 4,
    "start_time": "2023-05-15T14:24:21.273Z"
   },
   {
    "duration": 8,
    "start_time": "2023-05-15T14:24:21.279Z"
   },
   {
    "duration": 103,
    "start_time": "2023-05-15T14:24:21.288Z"
   },
   {
    "duration": 8,
    "start_time": "2023-05-15T14:24:21.394Z"
   },
   {
    "duration": 11,
    "start_time": "2023-05-15T14:24:21.406Z"
   },
   {
    "duration": 23,
    "start_time": "2023-05-15T14:24:21.419Z"
   },
   {
    "duration": 27,
    "start_time": "2023-05-15T14:24:21.447Z"
   },
   {
    "duration": 12,
    "start_time": "2023-05-15T14:24:21.477Z"
   },
   {
    "duration": 8,
    "start_time": "2023-05-15T14:24:21.491Z"
   },
   {
    "duration": 15,
    "start_time": "2023-05-15T14:24:21.501Z"
   },
   {
    "duration": 59,
    "start_time": "2023-05-15T14:24:21.517Z"
   },
   {
    "duration": 6,
    "start_time": "2023-05-15T14:24:21.578Z"
   },
   {
    "duration": 9,
    "start_time": "2023-05-15T14:24:21.585Z"
   },
   {
    "duration": 12,
    "start_time": "2023-05-15T14:24:21.595Z"
   },
   {
    "duration": 17,
    "start_time": "2023-05-15T14:24:21.609Z"
   },
   {
    "duration": 38,
    "start_time": "2023-05-15T14:24:21.627Z"
   },
   {
    "duration": 14,
    "start_time": "2023-05-15T14:24:21.667Z"
   },
   {
    "duration": 11,
    "start_time": "2023-05-15T14:24:21.683Z"
   },
   {
    "duration": 8,
    "start_time": "2023-05-15T14:24:21.697Z"
   },
   {
    "duration": 26,
    "start_time": "2023-05-15T14:24:21.707Z"
   },
   {
    "duration": 14,
    "start_time": "2023-05-15T14:24:21.735Z"
   },
   {
    "duration": 14,
    "start_time": "2023-05-15T14:24:21.750Z"
   },
   {
    "duration": 25,
    "start_time": "2023-05-15T14:24:21.766Z"
   },
   {
    "duration": 9,
    "start_time": "2023-05-15T14:24:21.794Z"
   },
   {
    "duration": 6,
    "start_time": "2023-05-15T14:24:21.806Z"
   },
   {
    "duration": 60,
    "start_time": "2023-05-15T14:29:28.096Z"
   },
   {
    "duration": 6,
    "start_time": "2023-05-15T14:29:42.277Z"
   },
   {
    "duration": 8,
    "start_time": "2023-05-15T14:29:44.196Z"
   },
   {
    "duration": 6,
    "start_time": "2023-05-15T14:31:50.777Z"
   },
   {
    "duration": 7,
    "start_time": "2023-05-15T14:31:51.573Z"
   },
   {
    "duration": 6,
    "start_time": "2023-05-15T14:32:22.778Z"
   },
   {
    "duration": 6,
    "start_time": "2023-05-15T14:32:31.781Z"
   },
   {
    "duration": 4,
    "start_time": "2023-05-15T14:43:38.784Z"
   },
   {
    "duration": 3,
    "start_time": "2023-05-15T14:43:49.581Z"
   },
   {
    "duration": 18,
    "start_time": "2023-05-15T14:44:19.218Z"
   },
   {
    "duration": 10,
    "start_time": "2023-05-15T14:48:15.538Z"
   },
   {
    "duration": 9,
    "start_time": "2023-05-15T14:48:30.381Z"
   },
   {
    "duration": 6,
    "start_time": "2023-05-15T14:49:30.185Z"
   },
   {
    "duration": 6,
    "start_time": "2023-05-15T14:49:30.765Z"
   },
   {
    "duration": 5,
    "start_time": "2023-05-15T14:49:40.020Z"
   },
   {
    "duration": 7,
    "start_time": "2023-05-15T14:49:40.739Z"
   },
   {
    "duration": 3,
    "start_time": "2023-05-15T14:50:23.347Z"
   },
   {
    "duration": 4,
    "start_time": "2023-05-15T14:50:29.523Z"
   },
   {
    "duration": 7,
    "start_time": "2023-05-15T14:50:56.435Z"
   },
   {
    "duration": 9,
    "start_time": "2023-05-15T14:52:06.021Z"
   },
   {
    "duration": 9,
    "start_time": "2023-05-15T14:52:45.480Z"
   },
   {
    "duration": 6,
    "start_time": "2023-05-15T14:52:47.836Z"
   },
   {
    "duration": 3,
    "start_time": "2023-05-15T14:52:51.709Z"
   },
   {
    "duration": 6,
    "start_time": "2023-05-15T14:52:52.532Z"
   },
   {
    "duration": 7,
    "start_time": "2023-05-15T14:52:53.268Z"
   },
   {
    "duration": 9,
    "start_time": "2023-05-15T14:52:54.316Z"
   },
   {
    "duration": 7,
    "start_time": "2023-05-15T14:53:10.342Z"
   },
   {
    "duration": 39,
    "start_time": "2023-05-15T14:57:25.398Z"
   },
   {
    "duration": 5,
    "start_time": "2023-05-15T14:57:27.485Z"
   },
   {
    "duration": 1576,
    "start_time": "2023-05-15T14:57:49.974Z"
   },
   {
    "duration": 1658,
    "start_time": "2023-05-15T14:58:30.119Z"
   },
   {
    "duration": 428,
    "start_time": "2023-05-15T14:58:56.422Z"
   },
   {
    "duration": 27,
    "start_time": "2023-05-15T14:58:56.852Z"
   },
   {
    "duration": 8,
    "start_time": "2023-05-15T14:58:56.881Z"
   },
   {
    "duration": 5,
    "start_time": "2023-05-15T14:58:56.892Z"
   },
   {
    "duration": 12,
    "start_time": "2023-05-15T14:58:56.898Z"
   },
   {
    "duration": 40,
    "start_time": "2023-05-15T14:58:56.912Z"
   },
   {
    "duration": 6,
    "start_time": "2023-05-15T14:58:56.953Z"
   },
   {
    "duration": 5,
    "start_time": "2023-05-15T14:58:56.961Z"
   },
   {
    "duration": 7,
    "start_time": "2023-05-15T14:58:56.967Z"
   },
   {
    "duration": 12,
    "start_time": "2023-05-15T14:58:56.978Z"
   },
   {
    "duration": 12,
    "start_time": "2023-05-15T14:58:56.992Z"
   },
   {
    "duration": 51,
    "start_time": "2023-05-15T14:58:57.006Z"
   },
   {
    "duration": 14,
    "start_time": "2023-05-15T14:58:57.058Z"
   },
   {
    "duration": 18,
    "start_time": "2023-05-15T14:58:57.073Z"
   },
   {
    "duration": 5,
    "start_time": "2023-05-15T14:58:57.093Z"
   },
   {
    "duration": 9,
    "start_time": "2023-05-15T14:58:57.099Z"
   },
   {
    "duration": 12,
    "start_time": "2023-05-15T14:58:57.110Z"
   },
   {
    "duration": 6,
    "start_time": "2023-05-15T14:58:57.124Z"
   },
   {
    "duration": 30,
    "start_time": "2023-05-15T14:58:57.132Z"
   },
   {
    "duration": 5,
    "start_time": "2023-05-15T14:58:57.164Z"
   },
   {
    "duration": 11,
    "start_time": "2023-05-15T14:58:57.171Z"
   },
   {
    "duration": 8,
    "start_time": "2023-05-15T14:58:57.184Z"
   },
   {
    "duration": 7,
    "start_time": "2023-05-15T14:58:57.194Z"
   },
   {
    "duration": 13,
    "start_time": "2023-05-15T14:58:57.203Z"
   },
   {
    "duration": 39,
    "start_time": "2023-05-15T14:58:57.218Z"
   },
   {
    "duration": 9,
    "start_time": "2023-05-15T14:58:57.258Z"
   },
   {
    "duration": 9,
    "start_time": "2023-05-15T14:58:57.268Z"
   },
   {
    "duration": 12,
    "start_time": "2023-05-15T14:58:57.279Z"
   },
   {
    "duration": 8,
    "start_time": "2023-05-15T14:58:57.292Z"
   },
   {
    "duration": 6,
    "start_time": "2023-05-15T14:58:57.302Z"
   },
   {
    "duration": 11,
    "start_time": "2023-05-15T14:58:57.310Z"
   },
   {
    "duration": 122,
    "start_time": "2023-05-15T14:58:57.323Z"
   },
   {
    "duration": 4,
    "start_time": "2023-05-15T15:01:45.615Z"
   },
   {
    "duration": 5,
    "start_time": "2023-05-15T15:05:46.738Z"
   },
   {
    "duration": 7,
    "start_time": "2023-05-15T15:05:47.384Z"
   },
   {
    "duration": 6,
    "start_time": "2023-05-15T15:06:00.849Z"
   },
   {
    "duration": 7,
    "start_time": "2023-05-15T15:06:01.426Z"
   },
   {
    "duration": 7,
    "start_time": "2023-05-15T15:07:42.644Z"
   },
   {
    "duration": 12,
    "start_time": "2023-05-15T15:07:50.326Z"
   },
   {
    "duration": 7,
    "start_time": "2023-05-15T15:09:20.580Z"
   },
   {
    "duration": 5,
    "start_time": "2023-05-15T15:11:14.022Z"
   },
   {
    "duration": 3,
    "start_time": "2023-05-15T15:13:04.757Z"
   },
   {
    "duration": 4,
    "start_time": "2023-05-15T15:13:10.637Z"
   },
   {
    "duration": 304,
    "start_time": "2023-05-15T15:17:01.454Z"
   },
   {
    "duration": 5,
    "start_time": "2023-05-15T15:17:13.230Z"
   },
   {
    "duration": 15,
    "start_time": "2023-05-15T15:17:23.441Z"
   },
   {
    "duration": 13,
    "start_time": "2023-05-15T15:18:05.763Z"
   },
   {
    "duration": 9,
    "start_time": "2023-05-15T15:18:31.138Z"
   },
   {
    "duration": 17,
    "start_time": "2023-05-15T15:19:29.102Z"
   },
   {
    "duration": 12,
    "start_time": "2023-05-15T15:26:52.746Z"
   },
   {
    "duration": 17,
    "start_time": "2023-05-15T15:27:58.404Z"
   },
   {
    "duration": 13,
    "start_time": "2023-05-15T15:28:40.188Z"
   },
   {
    "duration": 13,
    "start_time": "2023-05-15T15:37:07.911Z"
   },
   {
    "duration": 12,
    "start_time": "2023-05-15T15:40:10.358Z"
   },
   {
    "duration": 5,
    "start_time": "2023-05-15T15:41:54.499Z"
   },
   {
    "duration": 23,
    "start_time": "2023-05-15T15:42:05.263Z"
   },
   {
    "duration": 5,
    "start_time": "2023-05-15T15:42:19.499Z"
   },
   {
    "duration": 14,
    "start_time": "2023-05-15T15:42:20.154Z"
   },
   {
    "duration": 6,
    "start_time": "2023-05-15T15:43:15.072Z"
   },
   {
    "duration": 13,
    "start_time": "2023-05-15T15:43:15.754Z"
   },
   {
    "duration": 13,
    "start_time": "2023-05-15T15:50:31.301Z"
   },
   {
    "duration": 8,
    "start_time": "2023-05-15T15:50:43.070Z"
   },
   {
    "duration": 15,
    "start_time": "2023-05-15T15:50:43.679Z"
   },
   {
    "duration": 5,
    "start_time": "2023-05-15T15:50:45.110Z"
   },
   {
    "duration": 5,
    "start_time": "2023-05-15T15:50:48.438Z"
   },
   {
    "duration": 5,
    "start_time": "2023-05-15T15:50:50.181Z"
   },
   {
    "duration": 15,
    "start_time": "2023-05-15T15:50:51.759Z"
   },
   {
    "duration": 7,
    "start_time": "2023-05-15T16:08:31.190Z"
   },
   {
    "duration": 24,
    "start_time": "2023-05-15T16:08:41.383Z"
   },
   {
    "duration": 20,
    "start_time": "2023-05-15T16:09:46.775Z"
   },
   {
    "duration": 8,
    "start_time": "2023-05-15T16:09:47.901Z"
   },
   {
    "duration": 23,
    "start_time": "2023-05-15T16:09:48.630Z"
   },
   {
    "duration": 8,
    "start_time": "2023-05-15T16:18:59.587Z"
   },
   {
    "duration": 17,
    "start_time": "2023-05-15T16:19:03.153Z"
   },
   {
    "duration": 10,
    "start_time": "2023-05-15T16:19:26.975Z"
   },
   {
    "duration": 13,
    "start_time": "2023-05-15T16:19:34.085Z"
   },
   {
    "duration": 10,
    "start_time": "2023-05-15T16:21:47.621Z"
   },
   {
    "duration": 9,
    "start_time": "2023-05-15T16:21:49.568Z"
   },
   {
    "duration": 7,
    "start_time": "2023-05-15T16:22:20.424Z"
   },
   {
    "duration": 9,
    "start_time": "2023-05-15T16:22:21.292Z"
   },
   {
    "duration": 9,
    "start_time": "2023-05-15T16:22:58.573Z"
   },
   {
    "duration": 10,
    "start_time": "2023-05-15T16:23:21.491Z"
   },
   {
    "duration": 9,
    "start_time": "2023-05-15T16:23:35.787Z"
   },
   {
    "duration": 9,
    "start_time": "2023-05-15T16:23:36.483Z"
   },
   {
    "duration": 14,
    "start_time": "2023-05-15T16:25:23.895Z"
   },
   {
    "duration": 7,
    "start_time": "2023-05-15T16:25:35.382Z"
   },
   {
    "duration": 8,
    "start_time": "2023-05-15T16:26:38.646Z"
   },
   {
    "duration": 14,
    "start_time": "2023-05-15T16:26:47.805Z"
   },
   {
    "duration": 10,
    "start_time": "2023-05-15T16:27:04.989Z"
   },
   {
    "duration": 18,
    "start_time": "2023-05-15T16:27:17.853Z"
   },
   {
    "duration": 14,
    "start_time": "2023-05-15T16:27:35.302Z"
   },
   {
    "duration": 13,
    "start_time": "2023-05-15T16:30:09.407Z"
   },
   {
    "duration": 22,
    "start_time": "2023-05-15T16:31:15.972Z"
   },
   {
    "duration": 10,
    "start_time": "2023-05-15T16:32:40.333Z"
   },
   {
    "duration": 437,
    "start_time": "2023-05-15T16:32:46.620Z"
   },
   {
    "duration": 31,
    "start_time": "2023-05-15T16:32:47.061Z"
   },
   {
    "duration": 11,
    "start_time": "2023-05-15T16:32:47.094Z"
   },
   {
    "duration": 5,
    "start_time": "2023-05-15T16:32:47.109Z"
   },
   {
    "duration": 9,
    "start_time": "2023-05-15T16:32:47.116Z"
   },
   {
    "duration": 40,
    "start_time": "2023-05-15T16:32:47.128Z"
   },
   {
    "duration": 10,
    "start_time": "2023-05-15T16:32:47.170Z"
   },
   {
    "duration": 8,
    "start_time": "2023-05-15T16:32:47.182Z"
   },
   {
    "duration": 12,
    "start_time": "2023-05-15T16:32:47.194Z"
   },
   {
    "duration": 21,
    "start_time": "2023-05-15T16:32:47.209Z"
   },
   {
    "duration": 30,
    "start_time": "2023-05-15T16:32:47.234Z"
   },
   {
    "duration": 9,
    "start_time": "2023-05-15T16:32:47.266Z"
   },
   {
    "duration": 19,
    "start_time": "2023-05-15T16:32:47.277Z"
   },
   {
    "duration": 21,
    "start_time": "2023-05-15T16:32:47.297Z"
   },
   {
    "duration": 7,
    "start_time": "2023-05-15T16:32:47.321Z"
   },
   {
    "duration": 37,
    "start_time": "2023-05-15T16:32:47.330Z"
   },
   {
    "duration": 18,
    "start_time": "2023-05-15T16:32:47.372Z"
   },
   {
    "duration": 5,
    "start_time": "2023-05-15T16:32:47.393Z"
   },
   {
    "duration": 17,
    "start_time": "2023-05-15T16:32:47.401Z"
   },
   {
    "duration": 40,
    "start_time": "2023-05-15T16:32:47.421Z"
   },
   {
    "duration": 13,
    "start_time": "2023-05-15T16:32:47.463Z"
   },
   {
    "duration": 9,
    "start_time": "2023-05-15T16:32:47.477Z"
   },
   {
    "duration": 8,
    "start_time": "2023-05-15T16:32:47.488Z"
   },
   {
    "duration": 15,
    "start_time": "2023-05-15T16:32:47.499Z"
   },
   {
    "duration": 48,
    "start_time": "2023-05-15T16:32:47.516Z"
   },
   {
    "duration": 8,
    "start_time": "2023-05-15T16:32:47.567Z"
   },
   {
    "duration": 16,
    "start_time": "2023-05-15T16:32:47.577Z"
   },
   {
    "duration": 19,
    "start_time": "2023-05-15T16:32:47.596Z"
   },
   {
    "duration": 10,
    "start_time": "2023-05-15T16:32:47.618Z"
   },
   {
    "duration": 29,
    "start_time": "2023-05-15T16:32:47.630Z"
   },
   {
    "duration": 9,
    "start_time": "2023-05-15T16:32:47.661Z"
   },
   {
    "duration": 9,
    "start_time": "2023-05-15T16:32:47.673Z"
   },
   {
    "duration": 15,
    "start_time": "2023-05-15T16:32:47.684Z"
   },
   {
    "duration": 21,
    "start_time": "2023-05-15T16:32:47.702Z"
   },
   {
    "duration": 38,
    "start_time": "2023-05-15T16:32:47.725Z"
   },
   {
    "duration": 26,
    "start_time": "2023-05-15T16:32:47.765Z"
   },
   {
    "duration": 492,
    "start_time": "2023-05-16T06:35:48.279Z"
   },
   {
    "duration": 121,
    "start_time": "2023-05-16T06:35:48.778Z"
   },
   {
    "duration": 7,
    "start_time": "2023-05-16T06:35:48.900Z"
   },
   {
    "duration": 67,
    "start_time": "2023-05-16T06:35:48.909Z"
   },
   {
    "duration": 27,
    "start_time": "2023-05-16T06:35:48.978Z"
   },
   {
    "duration": 206,
    "start_time": "2023-05-16T06:35:49.007Z"
   },
   {
    "duration": 6,
    "start_time": "2023-05-16T06:35:49.215Z"
   },
   {
    "duration": 75,
    "start_time": "2023-05-16T06:35:49.223Z"
   },
   {
    "duration": 25,
    "start_time": "2023-05-16T06:35:49.299Z"
   },
   {
    "duration": 167,
    "start_time": "2023-05-16T06:35:49.327Z"
   },
   {
    "duration": 78,
    "start_time": "2023-05-16T06:35:49.495Z"
   },
   {
    "duration": 27,
    "start_time": "2023-05-16T06:35:49.577Z"
   },
   {
    "duration": 27,
    "start_time": "2023-05-16T06:35:49.605Z"
   },
   {
    "duration": 165,
    "start_time": "2023-05-16T06:35:49.634Z"
   },
   {
    "duration": 5,
    "start_time": "2023-05-16T06:35:49.800Z"
   },
   {
    "duration": 99,
    "start_time": "2023-05-16T06:35:49.807Z"
   },
   {
    "duration": 115,
    "start_time": "2023-05-16T06:35:49.908Z"
   },
   {
    "duration": 79,
    "start_time": "2023-05-16T06:35:50.027Z"
   },
   {
    "duration": 113,
    "start_time": "2023-05-16T06:35:50.108Z"
   },
   {
    "duration": 150,
    "start_time": "2023-05-16T06:35:50.232Z"
   },
   {
    "duration": 25,
    "start_time": "2023-05-16T06:35:50.392Z"
   },
   {
    "duration": 82,
    "start_time": "2023-05-16T06:35:50.418Z"
   },
   {
    "duration": 18,
    "start_time": "2023-05-16T06:35:50.502Z"
   },
   {
    "duration": 72,
    "start_time": "2023-05-16T06:35:50.522Z"
   },
   {
    "duration": 23,
    "start_time": "2023-05-16T06:35:50.596Z"
   },
   {
    "duration": 79,
    "start_time": "2023-05-16T06:35:50.621Z"
   },
   {
    "duration": 83,
    "start_time": "2023-05-16T06:35:50.701Z"
   },
   {
    "duration": 24,
    "start_time": "2023-05-16T06:35:50.787Z"
   },
   {
    "duration": 75,
    "start_time": "2023-05-16T06:35:50.813Z"
   },
   {
    "duration": 20,
    "start_time": "2023-05-16T06:35:50.890Z"
   },
   {
    "duration": 68,
    "start_time": "2023-05-16T06:35:50.912Z"
   },
   {
    "duration": 26,
    "start_time": "2023-05-16T06:35:50.982Z"
   },
   {
    "duration": 86,
    "start_time": "2023-05-16T06:35:51.010Z"
   },
   {
    "duration": 24,
    "start_time": "2023-05-16T06:35:51.098Z"
   },
   {
    "duration": 86,
    "start_time": "2023-05-16T06:35:51.123Z"
   },
   {
    "duration": 81,
    "start_time": "2023-05-16T06:35:51.211Z"
   },
   {
    "duration": 6,
    "start_time": "2023-05-16T06:51:45.152Z"
   },
   {
    "duration": 10,
    "start_time": "2023-05-16T06:51:45.768Z"
   },
   {
    "duration": 12,
    "start_time": "2023-05-16T07:01:06.461Z"
   },
   {
    "duration": 17,
    "start_time": "2023-05-16T07:01:25.761Z"
   },
   {
    "duration": 449,
    "start_time": "2023-05-16T07:20:14.048Z"
   },
   {
    "duration": 5,
    "start_time": "2023-05-16T07:23:14.377Z"
   },
   {
    "duration": 13,
    "start_time": "2023-05-16T07:23:15.682Z"
   },
   {
    "duration": 463,
    "start_time": "2023-05-16T07:25:28.339Z"
   },
   {
    "duration": 734,
    "start_time": "2023-05-16T07:26:14.152Z"
   },
   {
    "duration": 31,
    "start_time": "2023-05-16T07:26:14.888Z"
   },
   {
    "duration": 8,
    "start_time": "2023-05-16T07:26:14.921Z"
   },
   {
    "duration": 28,
    "start_time": "2023-05-16T07:26:14.931Z"
   },
   {
    "duration": 41,
    "start_time": "2023-05-16T07:26:14.961Z"
   },
   {
    "duration": 107,
    "start_time": "2023-05-16T07:26:15.004Z"
   },
   {
    "duration": 11,
    "start_time": "2023-05-16T07:26:15.113Z"
   },
   {
    "duration": 47,
    "start_time": "2023-05-16T07:26:15.126Z"
   },
   {
    "duration": 95,
    "start_time": "2023-05-16T07:26:15.175Z"
   },
   {
    "duration": 57,
    "start_time": "2023-05-16T07:26:15.272Z"
   },
   {
    "duration": 60,
    "start_time": "2023-05-16T07:26:15.331Z"
   },
   {
    "duration": 85,
    "start_time": "2023-05-16T07:26:15.393Z"
   },
   {
    "duration": 15,
    "start_time": "2023-05-16T07:26:15.480Z"
   },
   {
    "duration": 16,
    "start_time": "2023-05-16T07:26:15.498Z"
   },
   {
    "duration": 6,
    "start_time": "2023-05-16T07:26:15.515Z"
   },
   {
    "duration": 15,
    "start_time": "2023-05-16T07:26:15.522Z"
   },
   {
    "duration": 21,
    "start_time": "2023-05-16T07:26:15.538Z"
   },
   {
    "duration": 14,
    "start_time": "2023-05-16T07:26:15.561Z"
   },
   {
    "duration": 19,
    "start_time": "2023-05-16T07:26:15.576Z"
   },
   {
    "duration": 8,
    "start_time": "2023-05-16T07:26:15.597Z"
   },
   {
    "duration": 10,
    "start_time": "2023-05-16T07:26:15.607Z"
   },
   {
    "duration": 18,
    "start_time": "2023-05-16T07:26:15.619Z"
   },
   {
    "duration": 9,
    "start_time": "2023-05-16T07:26:15.639Z"
   },
   {
    "duration": 11,
    "start_time": "2023-05-16T07:26:15.649Z"
   },
   {
    "duration": 10,
    "start_time": "2023-05-16T07:26:15.661Z"
   },
   {
    "duration": 9,
    "start_time": "2023-05-16T07:26:15.672Z"
   },
   {
    "duration": 8,
    "start_time": "2023-05-16T07:26:15.682Z"
   },
   {
    "duration": 16,
    "start_time": "2023-05-16T07:26:15.692Z"
   },
   {
    "duration": 15,
    "start_time": "2023-05-16T07:26:15.709Z"
   },
   {
    "duration": 10,
    "start_time": "2023-05-16T07:26:15.726Z"
   },
   {
    "duration": 5,
    "start_time": "2023-05-16T07:26:15.737Z"
   },
   {
    "duration": 14,
    "start_time": "2023-05-16T07:26:15.744Z"
   },
   {
    "duration": 520,
    "start_time": "2023-05-16T07:26:15.760Z"
   },
   {
    "duration": 751,
    "start_time": "2023-05-16T07:30:23.217Z"
   },
   {
    "duration": 27,
    "start_time": "2023-05-16T07:30:23.970Z"
   },
   {
    "duration": 7,
    "start_time": "2023-05-16T07:30:23.999Z"
   },
   {
    "duration": 18,
    "start_time": "2023-05-16T07:30:24.008Z"
   },
   {
    "duration": 35,
    "start_time": "2023-05-16T07:30:24.028Z"
   },
   {
    "duration": 58,
    "start_time": "2023-05-16T07:30:24.065Z"
   },
   {
    "duration": 6,
    "start_time": "2023-05-16T07:30:24.124Z"
   },
   {
    "duration": 9,
    "start_time": "2023-05-16T07:30:24.132Z"
   },
   {
    "duration": 19,
    "start_time": "2023-05-16T07:30:24.143Z"
   },
   {
    "duration": 42,
    "start_time": "2023-05-16T07:30:24.165Z"
   },
   {
    "duration": 97,
    "start_time": "2023-05-16T07:30:24.210Z"
   },
   {
    "duration": 32,
    "start_time": "2023-05-16T07:30:24.309Z"
   },
   {
    "duration": 11,
    "start_time": "2023-05-16T07:30:24.343Z"
   },
   {
    "duration": 33,
    "start_time": "2023-05-16T07:30:24.356Z"
   },
   {
    "duration": 30,
    "start_time": "2023-05-16T07:30:24.391Z"
   },
   {
    "duration": 15,
    "start_time": "2023-05-16T07:30:24.423Z"
   },
   {
    "duration": 24,
    "start_time": "2023-05-16T07:30:24.439Z"
   },
   {
    "duration": 30,
    "start_time": "2023-05-16T07:30:24.465Z"
   },
   {
    "duration": 27,
    "start_time": "2023-05-16T07:30:24.496Z"
   },
   {
    "duration": 30,
    "start_time": "2023-05-16T07:30:24.525Z"
   },
   {
    "duration": 25,
    "start_time": "2023-05-16T07:30:24.557Z"
   },
   {
    "duration": 30,
    "start_time": "2023-05-16T07:30:24.584Z"
   },
   {
    "duration": 25,
    "start_time": "2023-05-16T07:30:24.616Z"
   },
   {
    "duration": 32,
    "start_time": "2023-05-16T07:30:24.643Z"
   },
   {
    "duration": 28,
    "start_time": "2023-05-16T07:30:24.676Z"
   },
   {
    "duration": 39,
    "start_time": "2023-05-16T07:30:24.706Z"
   },
   {
    "duration": 28,
    "start_time": "2023-05-16T07:30:24.748Z"
   },
   {
    "duration": 30,
    "start_time": "2023-05-16T07:30:24.780Z"
   },
   {
    "duration": 455,
    "start_time": "2023-05-16T07:30:24.812Z"
   },
   {
    "duration": 97,
    "start_time": "2023-05-16T07:33:12.520Z"
   },
   {
    "duration": 317,
    "start_time": "2023-05-16T07:33:28.055Z"
   },
   {
    "duration": 355,
    "start_time": "2023-05-16T07:34:25.291Z"
   },
   {
    "duration": 311,
    "start_time": "2023-05-16T07:34:43.538Z"
   },
   {
    "duration": 324,
    "start_time": "2023-05-16T07:38:10.740Z"
   },
   {
    "duration": 677,
    "start_time": "2023-05-16T07:39:24.694Z"
   },
   {
    "duration": 26,
    "start_time": "2023-05-16T07:39:25.373Z"
   },
   {
    "duration": 6,
    "start_time": "2023-05-16T07:39:25.400Z"
   },
   {
    "duration": 5,
    "start_time": "2023-05-16T07:39:25.408Z"
   },
   {
    "duration": 8,
    "start_time": "2023-05-16T07:39:25.414Z"
   },
   {
    "duration": 56,
    "start_time": "2023-05-16T07:39:25.423Z"
   },
   {
    "duration": 5,
    "start_time": "2023-05-16T07:39:25.481Z"
   },
   {
    "duration": 12,
    "start_time": "2023-05-16T07:39:25.487Z"
   },
   {
    "duration": 14,
    "start_time": "2023-05-16T07:39:25.500Z"
   },
   {
    "duration": 29,
    "start_time": "2023-05-16T07:39:25.517Z"
   },
   {
    "duration": 11,
    "start_time": "2023-05-16T07:39:25.548Z"
   },
   {
    "duration": 549,
    "start_time": "2023-05-16T07:39:25.561Z"
   },
   {
    "duration": 0,
    "start_time": "2023-05-16T07:39:26.112Z"
   },
   {
    "duration": 0,
    "start_time": "2023-05-16T07:39:26.113Z"
   },
   {
    "duration": 0,
    "start_time": "2023-05-16T07:39:26.114Z"
   },
   {
    "duration": 0,
    "start_time": "2023-05-16T07:39:26.116Z"
   },
   {
    "duration": 0,
    "start_time": "2023-05-16T07:39:26.117Z"
   },
   {
    "duration": 1,
    "start_time": "2023-05-16T07:39:26.118Z"
   },
   {
    "duration": 0,
    "start_time": "2023-05-16T07:39:26.120Z"
   },
   {
    "duration": 0,
    "start_time": "2023-05-16T07:39:26.121Z"
   },
   {
    "duration": 0,
    "start_time": "2023-05-16T07:39:26.122Z"
   },
   {
    "duration": 0,
    "start_time": "2023-05-16T07:39:26.123Z"
   },
   {
    "duration": 0,
    "start_time": "2023-05-16T07:39:26.124Z"
   },
   {
    "duration": 0,
    "start_time": "2023-05-16T07:39:26.125Z"
   },
   {
    "duration": 0,
    "start_time": "2023-05-16T07:39:26.126Z"
   },
   {
    "duration": 0,
    "start_time": "2023-05-16T07:39:26.127Z"
   },
   {
    "duration": 0,
    "start_time": "2023-05-16T07:39:26.127Z"
   },
   {
    "duration": 0,
    "start_time": "2023-05-16T07:39:26.130Z"
   },
   {
    "duration": 0,
    "start_time": "2023-05-16T07:39:26.131Z"
   },
   {
    "duration": 0,
    "start_time": "2023-05-16T07:39:26.136Z"
   },
   {
    "duration": 6,
    "start_time": "2023-05-16T07:47:15.389Z"
   },
   {
    "duration": 10,
    "start_time": "2023-05-16T07:47:28.650Z"
   },
   {
    "duration": 630,
    "start_time": "2023-05-16T07:48:42.511Z"
   },
   {
    "duration": 27,
    "start_time": "2023-05-16T07:48:43.143Z"
   },
   {
    "duration": 7,
    "start_time": "2023-05-16T07:48:43.171Z"
   },
   {
    "duration": 6,
    "start_time": "2023-05-16T07:48:43.180Z"
   },
   {
    "duration": 9,
    "start_time": "2023-05-16T07:48:43.187Z"
   },
   {
    "duration": 38,
    "start_time": "2023-05-16T07:48:43.197Z"
   },
   {
    "duration": 6,
    "start_time": "2023-05-16T07:48:43.237Z"
   },
   {
    "duration": 9,
    "start_time": "2023-05-16T07:48:43.245Z"
   },
   {
    "duration": 8,
    "start_time": "2023-05-16T07:48:43.255Z"
   },
   {
    "duration": 13,
    "start_time": "2023-05-16T07:48:43.266Z"
   },
   {
    "duration": 11,
    "start_time": "2023-05-16T07:48:43.280Z"
   },
   {
    "duration": 28,
    "start_time": "2023-05-16T07:48:43.293Z"
   },
   {
    "duration": 17,
    "start_time": "2023-05-16T07:48:43.323Z"
   },
   {
    "duration": 26,
    "start_time": "2023-05-16T07:48:43.342Z"
   },
   {
    "duration": 5,
    "start_time": "2023-05-16T07:48:43.369Z"
   },
   {
    "duration": 10,
    "start_time": "2023-05-16T07:48:43.375Z"
   },
   {
    "duration": 21,
    "start_time": "2023-05-16T07:48:43.386Z"
   },
   {
    "duration": 9,
    "start_time": "2023-05-16T07:48:43.408Z"
   },
   {
    "duration": 21,
    "start_time": "2023-05-16T07:48:43.418Z"
   },
   {
    "duration": 23,
    "start_time": "2023-05-16T07:48:43.440Z"
   },
   {
    "duration": 14,
    "start_time": "2023-05-16T07:48:43.465Z"
   },
   {
    "duration": 17,
    "start_time": "2023-05-16T07:48:43.480Z"
   },
   {
    "duration": 16,
    "start_time": "2023-05-16T07:48:43.499Z"
   },
   {
    "duration": 10,
    "start_time": "2023-05-16T07:48:43.517Z"
   },
   {
    "duration": 24,
    "start_time": "2023-05-16T07:48:43.529Z"
   },
   {
    "duration": 17,
    "start_time": "2023-05-16T07:48:43.555Z"
   },
   {
    "duration": 9,
    "start_time": "2023-05-16T07:48:43.574Z"
   },
   {
    "duration": 9,
    "start_time": "2023-05-16T07:48:43.586Z"
   },
   {
    "duration": 16,
    "start_time": "2023-05-16T07:48:43.597Z"
   },
   {
    "duration": 12,
    "start_time": "2023-05-16T07:48:43.615Z"
   },
   {
    "duration": 8,
    "start_time": "2023-05-16T07:48:43.629Z"
   },
   {
    "duration": 32,
    "start_time": "2023-05-16T07:48:43.638Z"
   },
   {
    "duration": 455,
    "start_time": "2023-05-16T07:48:43.671Z"
   },
   {
    "duration": 203,
    "start_time": "2023-05-16T07:49:56.679Z"
   },
   {
    "duration": 491,
    "start_time": "2023-05-16T07:51:50.104Z"
   },
   {
    "duration": 428,
    "start_time": "2023-05-16T07:54:39.506Z"
   },
   {
    "duration": 427,
    "start_time": "2023-05-16T07:54:50.313Z"
   },
   {
    "duration": 496,
    "start_time": "2023-05-16T07:55:03.312Z"
   },
   {
    "duration": 451,
    "start_time": "2023-05-16T07:55:15.153Z"
   },
   {
    "duration": 415,
    "start_time": "2023-05-16T07:55:36.273Z"
   },
   {
    "duration": 477,
    "start_time": "2023-05-16T07:57:35.489Z"
   },
   {
    "duration": 458,
    "start_time": "2023-05-16T07:58:35.977Z"
   },
   {
    "duration": 451,
    "start_time": "2023-05-16T07:59:16.578Z"
   },
   {
    "duration": 486,
    "start_time": "2023-05-16T07:59:29.482Z"
   },
   {
    "duration": 741,
    "start_time": "2023-05-16T08:00:48.373Z"
   },
   {
    "duration": 26,
    "start_time": "2023-05-16T08:00:49.116Z"
   },
   {
    "duration": 7,
    "start_time": "2023-05-16T08:00:49.144Z"
   },
   {
    "duration": 4,
    "start_time": "2023-05-16T08:00:49.153Z"
   },
   {
    "duration": 15,
    "start_time": "2023-05-16T08:00:49.158Z"
   },
   {
    "duration": 57,
    "start_time": "2023-05-16T08:00:49.174Z"
   },
   {
    "duration": 5,
    "start_time": "2023-05-16T08:00:49.233Z"
   },
   {
    "duration": 40,
    "start_time": "2023-05-16T08:00:49.240Z"
   },
   {
    "duration": 48,
    "start_time": "2023-05-16T08:00:49.282Z"
   },
   {
    "duration": 36,
    "start_time": "2023-05-16T08:00:49.333Z"
   },
   {
    "duration": 73,
    "start_time": "2023-05-16T08:00:49.370Z"
   },
   {
    "duration": 35,
    "start_time": "2023-05-16T08:00:49.445Z"
   },
   {
    "duration": 65,
    "start_time": "2023-05-16T08:00:49.482Z"
   },
   {
    "duration": 43,
    "start_time": "2023-05-16T08:00:49.549Z"
   },
   {
    "duration": 25,
    "start_time": "2023-05-16T08:00:49.594Z"
   },
   {
    "duration": 34,
    "start_time": "2023-05-16T08:00:49.621Z"
   },
   {
    "duration": 26,
    "start_time": "2023-05-16T08:00:49.657Z"
   },
   {
    "duration": 28,
    "start_time": "2023-05-16T08:00:49.686Z"
   },
   {
    "duration": 36,
    "start_time": "2023-05-16T08:00:49.716Z"
   },
   {
    "duration": 83,
    "start_time": "2023-05-16T08:00:49.754Z"
   },
   {
    "duration": 57,
    "start_time": "2023-05-16T08:00:49.838Z"
   },
   {
    "duration": 51,
    "start_time": "2023-05-16T08:00:49.896Z"
   },
   {
    "duration": 74,
    "start_time": "2023-05-16T08:00:49.948Z"
   },
   {
    "duration": 40,
    "start_time": "2023-05-16T08:00:50.024Z"
   },
   {
    "duration": 60,
    "start_time": "2023-05-16T08:00:50.066Z"
   },
   {
    "duration": 108,
    "start_time": "2023-05-16T08:00:50.128Z"
   },
   {
    "duration": 82,
    "start_time": "2023-05-16T08:00:50.238Z"
   },
   {
    "duration": 65,
    "start_time": "2023-05-16T08:00:50.323Z"
   },
   {
    "duration": 38,
    "start_time": "2023-05-16T08:00:50.390Z"
   },
   {
    "duration": 54,
    "start_time": "2023-05-16T08:00:50.429Z"
   },
   {
    "duration": 40,
    "start_time": "2023-05-16T08:00:50.485Z"
   },
   {
    "duration": 104,
    "start_time": "2023-05-16T08:00:50.527Z"
   },
   {
    "duration": 576,
    "start_time": "2023-05-16T08:00:50.633Z"
   },
   {
    "duration": 480,
    "start_time": "2023-05-16T08:01:01.383Z"
   },
   {
    "duration": 463,
    "start_time": "2023-05-16T08:01:12.278Z"
   },
   {
    "duration": 485,
    "start_time": "2023-05-16T08:01:28.413Z"
   },
   {
    "duration": 665,
    "start_time": "2023-05-16T08:02:46.104Z"
   },
   {
    "duration": 27,
    "start_time": "2023-05-16T08:02:46.771Z"
   },
   {
    "duration": 15,
    "start_time": "2023-05-16T08:02:46.800Z"
   },
   {
    "duration": 17,
    "start_time": "2023-05-16T08:02:46.817Z"
   },
   {
    "duration": 33,
    "start_time": "2023-05-16T08:02:46.836Z"
   },
   {
    "duration": 64,
    "start_time": "2023-05-16T08:02:46.871Z"
   },
   {
    "duration": 6,
    "start_time": "2023-05-16T08:02:46.936Z"
   },
   {
    "duration": 30,
    "start_time": "2023-05-16T08:02:46.944Z"
   },
   {
    "duration": 29,
    "start_time": "2023-05-16T08:02:46.976Z"
   },
   {
    "duration": 27,
    "start_time": "2023-05-16T08:02:47.009Z"
   },
   {
    "duration": 22,
    "start_time": "2023-05-16T08:02:47.038Z"
   },
   {
    "duration": 21,
    "start_time": "2023-05-16T08:02:47.062Z"
   },
   {
    "duration": 38,
    "start_time": "2023-05-16T08:02:47.085Z"
   },
   {
    "duration": 31,
    "start_time": "2023-05-16T08:02:47.125Z"
   },
   {
    "duration": 23,
    "start_time": "2023-05-16T08:02:47.158Z"
   },
   {
    "duration": 19,
    "start_time": "2023-05-16T08:02:47.182Z"
   },
   {
    "duration": 30,
    "start_time": "2023-05-16T08:02:47.203Z"
   },
   {
    "duration": 22,
    "start_time": "2023-05-16T08:02:47.235Z"
   },
   {
    "duration": 43,
    "start_time": "2023-05-16T08:02:47.259Z"
   },
   {
    "duration": 18,
    "start_time": "2023-05-16T08:02:47.304Z"
   },
   {
    "duration": 36,
    "start_time": "2023-05-16T08:02:47.324Z"
   },
   {
    "duration": 21,
    "start_time": "2023-05-16T08:02:47.361Z"
   },
   {
    "duration": 18,
    "start_time": "2023-05-16T08:02:47.383Z"
   },
   {
    "duration": 34,
    "start_time": "2023-05-16T08:02:47.402Z"
   },
   {
    "duration": 22,
    "start_time": "2023-05-16T08:02:47.438Z"
   },
   {
    "duration": 25,
    "start_time": "2023-05-16T08:02:47.461Z"
   },
   {
    "duration": 40,
    "start_time": "2023-05-16T08:02:47.487Z"
   },
   {
    "duration": 35,
    "start_time": "2023-05-16T08:02:47.530Z"
   },
   {
    "duration": 32,
    "start_time": "2023-05-16T08:02:47.567Z"
   },
   {
    "duration": 24,
    "start_time": "2023-05-16T08:02:47.601Z"
   },
   {
    "duration": 31,
    "start_time": "2023-05-16T08:02:47.627Z"
   },
   {
    "duration": 37,
    "start_time": "2023-05-16T08:02:47.660Z"
   },
   {
    "duration": 531,
    "start_time": "2023-05-16T08:02:47.699Z"
   },
   {
    "duration": 612,
    "start_time": "2023-05-16T08:08:58.978Z"
   },
   {
    "duration": 27,
    "start_time": "2023-05-16T08:08:59.592Z"
   },
   {
    "duration": 7,
    "start_time": "2023-05-16T08:08:59.620Z"
   },
   {
    "duration": 16,
    "start_time": "2023-05-16T08:08:59.629Z"
   },
   {
    "duration": 10,
    "start_time": "2023-05-16T08:08:59.647Z"
   },
   {
    "duration": 45,
    "start_time": "2023-05-16T08:08:59.658Z"
   },
   {
    "duration": 7,
    "start_time": "2023-05-16T08:08:59.705Z"
   },
   {
    "duration": 25,
    "start_time": "2023-05-16T08:08:59.713Z"
   },
   {
    "duration": 13,
    "start_time": "2023-05-16T08:08:59.740Z"
   },
   {
    "duration": 28,
    "start_time": "2023-05-16T08:08:59.756Z"
   },
   {
    "duration": 12,
    "start_time": "2023-05-16T08:08:59.786Z"
   },
   {
    "duration": 11,
    "start_time": "2023-05-16T08:08:59.800Z"
   },
   {
    "duration": 16,
    "start_time": "2023-05-16T08:08:59.813Z"
   },
   {
    "duration": 29,
    "start_time": "2023-05-16T08:08:59.831Z"
   },
   {
    "duration": 5,
    "start_time": "2023-05-16T08:08:59.862Z"
   },
   {
    "duration": 9,
    "start_time": "2023-05-16T08:08:59.868Z"
   },
   {
    "duration": 23,
    "start_time": "2023-05-16T08:08:59.879Z"
   },
   {
    "duration": 18,
    "start_time": "2023-05-16T08:08:59.903Z"
   },
   {
    "duration": 14,
    "start_time": "2023-05-16T08:08:59.923Z"
   },
   {
    "duration": 22,
    "start_time": "2023-05-16T08:08:59.939Z"
   },
   {
    "duration": 18,
    "start_time": "2023-05-16T08:08:59.963Z"
   },
   {
    "duration": 18,
    "start_time": "2023-05-16T08:08:59.982Z"
   },
   {
    "duration": 39,
    "start_time": "2023-05-16T08:09:00.002Z"
   },
   {
    "duration": 41,
    "start_time": "2023-05-16T08:09:00.043Z"
   },
   {
    "duration": 21,
    "start_time": "2023-05-16T08:09:00.085Z"
   },
   {
    "duration": 28,
    "start_time": "2023-05-16T08:09:00.108Z"
   },
   {
    "duration": 67,
    "start_time": "2023-05-16T08:09:00.138Z"
   },
   {
    "duration": 42,
    "start_time": "2023-05-16T08:09:00.209Z"
   },
   {
    "duration": 37,
    "start_time": "2023-05-16T08:09:00.254Z"
   },
   {
    "duration": 51,
    "start_time": "2023-05-16T08:09:00.294Z"
   },
   {
    "duration": 33,
    "start_time": "2023-05-16T08:09:00.347Z"
   },
   {
    "duration": 85,
    "start_time": "2023-05-16T08:09:00.382Z"
   },
   {
    "duration": 647,
    "start_time": "2023-05-16T08:09:00.469Z"
   },
   {
    "duration": 869,
    "start_time": "2023-05-16T08:10:01.310Z"
   },
   {
    "duration": 27,
    "start_time": "2023-05-16T08:10:02.182Z"
   },
   {
    "duration": 18,
    "start_time": "2023-05-16T08:10:02.211Z"
   },
   {
    "duration": 46,
    "start_time": "2023-05-16T08:10:02.231Z"
   },
   {
    "duration": 40,
    "start_time": "2023-05-16T08:10:02.280Z"
   },
   {
    "duration": 86,
    "start_time": "2023-05-16T08:10:02.322Z"
   },
   {
    "duration": 7,
    "start_time": "2023-05-16T08:10:02.410Z"
   },
   {
    "duration": 46,
    "start_time": "2023-05-16T08:10:02.419Z"
   },
   {
    "duration": 26,
    "start_time": "2023-05-16T08:10:02.468Z"
   },
   {
    "duration": 30,
    "start_time": "2023-05-16T08:10:02.497Z"
   },
   {
    "duration": 54,
    "start_time": "2023-05-16T08:10:02.529Z"
   },
   {
    "duration": 732,
    "start_time": "2023-05-16T08:10:02.586Z"
   },
   {
    "duration": 0,
    "start_time": "2023-05-16T08:10:03.322Z"
   },
   {
    "duration": 0,
    "start_time": "2023-05-16T08:10:03.323Z"
   },
   {
    "duration": 0,
    "start_time": "2023-05-16T08:10:03.324Z"
   },
   {
    "duration": 0,
    "start_time": "2023-05-16T08:10:03.326Z"
   },
   {
    "duration": 0,
    "start_time": "2023-05-16T08:10:03.327Z"
   },
   {
    "duration": 0,
    "start_time": "2023-05-16T08:10:03.328Z"
   },
   {
    "duration": 0,
    "start_time": "2023-05-16T08:10:03.329Z"
   },
   {
    "duration": 0,
    "start_time": "2023-05-16T08:10:03.331Z"
   },
   {
    "duration": 0,
    "start_time": "2023-05-16T08:10:03.332Z"
   },
   {
    "duration": 0,
    "start_time": "2023-05-16T08:10:03.333Z"
   },
   {
    "duration": 0,
    "start_time": "2023-05-16T08:10:03.334Z"
   },
   {
    "duration": 0,
    "start_time": "2023-05-16T08:10:03.337Z"
   },
   {
    "duration": 0,
    "start_time": "2023-05-16T08:10:03.338Z"
   },
   {
    "duration": 0,
    "start_time": "2023-05-16T08:10:03.340Z"
   },
   {
    "duration": 0,
    "start_time": "2023-05-16T08:10:03.342Z"
   },
   {
    "duration": 0,
    "start_time": "2023-05-16T08:10:03.343Z"
   },
   {
    "duration": 0,
    "start_time": "2023-05-16T08:10:03.345Z"
   },
   {
    "duration": 0,
    "start_time": "2023-05-16T08:10:03.346Z"
   },
   {
    "duration": 0,
    "start_time": "2023-05-16T08:10:03.348Z"
   },
   {
    "duration": 1,
    "start_time": "2023-05-16T08:10:03.349Z"
   },
   {
    "duration": 0,
    "start_time": "2023-05-16T08:10:03.351Z"
   },
   {
    "duration": 0,
    "start_time": "2023-05-16T08:10:03.352Z"
   },
   {
    "duration": 592,
    "start_time": "2023-05-16T08:10:18.140Z"
   },
   {
    "duration": 710,
    "start_time": "2023-05-16T08:10:49.410Z"
   },
   {
    "duration": 28,
    "start_time": "2023-05-16T08:10:50.122Z"
   },
   {
    "duration": 14,
    "start_time": "2023-05-16T08:10:50.152Z"
   },
   {
    "duration": 20,
    "start_time": "2023-05-16T08:10:50.169Z"
   },
   {
    "duration": 27,
    "start_time": "2023-05-16T08:10:50.190Z"
   },
   {
    "duration": 65,
    "start_time": "2023-05-16T08:10:50.218Z"
   },
   {
    "duration": 5,
    "start_time": "2023-05-16T08:10:50.285Z"
   },
   {
    "duration": 25,
    "start_time": "2023-05-16T08:10:50.292Z"
   },
   {
    "duration": 33,
    "start_time": "2023-05-16T08:10:50.320Z"
   },
   {
    "duration": 29,
    "start_time": "2023-05-16T08:10:50.356Z"
   },
   {
    "duration": 19,
    "start_time": "2023-05-16T08:10:50.387Z"
   },
   {
    "duration": 22,
    "start_time": "2023-05-16T08:10:50.408Z"
   },
   {
    "duration": 43,
    "start_time": "2023-05-16T08:10:50.432Z"
   },
   {
    "duration": 36,
    "start_time": "2023-05-16T08:10:50.477Z"
   },
   {
    "duration": 10,
    "start_time": "2023-05-16T08:10:50.515Z"
   },
   {
    "duration": 28,
    "start_time": "2023-05-16T08:10:50.527Z"
   },
   {
    "duration": 32,
    "start_time": "2023-05-16T08:10:50.558Z"
   },
   {
    "duration": 29,
    "start_time": "2023-05-16T08:10:50.592Z"
   },
   {
    "duration": 28,
    "start_time": "2023-05-16T08:10:50.623Z"
   },
   {
    "duration": 23,
    "start_time": "2023-05-16T08:10:50.654Z"
   },
   {
    "duration": 20,
    "start_time": "2023-05-16T08:10:50.679Z"
   },
   {
    "duration": 46,
    "start_time": "2023-05-16T08:10:50.701Z"
   },
   {
    "duration": 20,
    "start_time": "2023-05-16T08:10:50.749Z"
   },
   {
    "duration": 41,
    "start_time": "2023-05-16T08:10:50.770Z"
   },
   {
    "duration": 30,
    "start_time": "2023-05-16T08:10:50.813Z"
   },
   {
    "duration": 24,
    "start_time": "2023-05-16T08:10:50.845Z"
   },
   {
    "duration": 28,
    "start_time": "2023-05-16T08:10:50.872Z"
   },
   {
    "duration": 31,
    "start_time": "2023-05-16T08:10:50.903Z"
   },
   {
    "duration": 31,
    "start_time": "2023-05-16T08:10:50.935Z"
   },
   {
    "duration": 45,
    "start_time": "2023-05-16T08:10:50.968Z"
   },
   {
    "duration": 31,
    "start_time": "2023-05-16T08:10:51.015Z"
   },
   {
    "duration": 67,
    "start_time": "2023-05-16T08:10:51.048Z"
   },
   {
    "duration": 608,
    "start_time": "2023-05-16T08:10:51.117Z"
   },
   {
    "duration": 195,
    "start_time": "2023-05-16T08:18:57.512Z"
   },
   {
    "duration": 89,
    "start_time": "2023-05-16T08:25:25.980Z"
   },
   {
    "duration": 379,
    "start_time": "2023-05-16T08:26:10.404Z"
   },
   {
    "duration": 9,
    "start_time": "2023-05-16T08:35:42.377Z"
   },
   {
    "duration": 223,
    "start_time": "2023-05-16T08:36:37.426Z"
   },
   {
    "duration": 13,
    "start_time": "2023-05-16T08:41:25.049Z"
   },
   {
    "duration": 3167,
    "start_time": "2023-05-16T09:31:50.252Z"
   },
   {
    "duration": 7,
    "start_time": "2023-05-16T09:35:33.598Z"
   },
   {
    "duration": 9,
    "start_time": "2023-05-16T09:35:38.458Z"
   },
   {
    "duration": 232,
    "start_time": "2023-05-16T09:35:39.186Z"
   },
   {
    "duration": 13,
    "start_time": "2023-05-16T09:48:05.193Z"
   },
   {
    "duration": 4697,
    "start_time": "2023-05-16T09:50:39.341Z"
   },
   {
    "duration": 22,
    "start_time": "2023-05-16T09:51:43.723Z"
   },
   {
    "duration": 8,
    "start_time": "2023-05-16T09:51:53.390Z"
   },
   {
    "duration": 313,
    "start_time": "2023-05-16T09:54:09.719Z"
   },
   {
    "duration": 902,
    "start_time": "2023-05-16T14:14:33.132Z"
   },
   {
    "duration": 61,
    "start_time": "2023-05-16T14:14:34.036Z"
   },
   {
    "duration": 8,
    "start_time": "2023-05-16T14:14:34.099Z"
   },
   {
    "duration": 8,
    "start_time": "2023-05-16T14:14:34.109Z"
   },
   {
    "duration": 10,
    "start_time": "2023-05-16T14:14:34.119Z"
   },
   {
    "duration": 85,
    "start_time": "2023-05-16T14:14:34.131Z"
   },
   {
    "duration": 6,
    "start_time": "2023-05-16T14:14:34.218Z"
   },
   {
    "duration": 24,
    "start_time": "2023-05-16T14:14:34.227Z"
   },
   {
    "duration": 8,
    "start_time": "2023-05-16T14:14:34.253Z"
   },
   {
    "duration": 21,
    "start_time": "2023-05-16T14:14:34.263Z"
   },
   {
    "duration": 14,
    "start_time": "2023-05-16T14:14:34.287Z"
   },
   {
    "duration": 28,
    "start_time": "2023-05-16T14:14:34.305Z"
   },
   {
    "duration": 17,
    "start_time": "2023-05-16T14:14:34.335Z"
   },
   {
    "duration": 57,
    "start_time": "2023-05-16T14:14:34.356Z"
   },
   {
    "duration": 6,
    "start_time": "2023-05-16T14:14:34.415Z"
   },
   {
    "duration": 23,
    "start_time": "2023-05-16T14:14:34.424Z"
   },
   {
    "duration": 13,
    "start_time": "2023-05-16T14:14:34.449Z"
   },
   {
    "duration": 7,
    "start_time": "2023-05-16T14:14:34.464Z"
   },
   {
    "duration": 15,
    "start_time": "2023-05-16T14:14:34.473Z"
   },
   {
    "duration": 8,
    "start_time": "2023-05-16T14:14:34.490Z"
   },
   {
    "duration": 10,
    "start_time": "2023-05-16T14:14:34.500Z"
   },
   {
    "duration": 8,
    "start_time": "2023-05-16T14:14:34.512Z"
   },
   {
    "duration": 9,
    "start_time": "2023-05-16T14:14:34.522Z"
   },
   {
    "duration": 8,
    "start_time": "2023-05-16T14:14:34.533Z"
   },
   {
    "duration": 14,
    "start_time": "2023-05-16T14:14:34.543Z"
   },
   {
    "duration": 31,
    "start_time": "2023-05-16T14:14:34.559Z"
   },
   {
    "duration": 14,
    "start_time": "2023-05-16T14:14:34.592Z"
   },
   {
    "duration": 9,
    "start_time": "2023-05-16T14:14:34.608Z"
   },
   {
    "duration": 14,
    "start_time": "2023-05-16T14:14:34.619Z"
   },
   {
    "duration": 9,
    "start_time": "2023-05-16T14:14:34.635Z"
   },
   {
    "duration": 10,
    "start_time": "2023-05-16T14:14:34.645Z"
   },
   {
    "duration": 36,
    "start_time": "2023-05-16T14:14:34.657Z"
   },
   {
    "duration": 549,
    "start_time": "2023-05-16T14:14:34.695Z"
   },
   {
    "duration": 177,
    "start_time": "2023-05-16T14:14:35.245Z"
   },
   {
    "duration": 347,
    "start_time": "2023-05-16T14:14:35.424Z"
   },
   {
    "duration": 14,
    "start_time": "2023-05-16T14:14:35.773Z"
   },
   {
    "duration": 320,
    "start_time": "2023-05-16T14:14:35.789Z"
   },
   {
    "duration": 305,
    "start_time": "2023-05-16T14:14:36.111Z"
   },
   {
    "duration": 8,
    "start_time": "2023-05-16T14:26:32.329Z"
   },
   {
    "duration": 8,
    "start_time": "2023-05-16T14:26:50.448Z"
   },
   {
    "duration": 7,
    "start_time": "2023-05-16T14:27:50.019Z"
   },
   {
    "duration": 9,
    "start_time": "2023-05-16T14:28:36.652Z"
   },
   {
    "duration": 128,
    "start_time": "2023-05-16T14:31:14.126Z"
   },
   {
    "duration": 4,
    "start_time": "2023-05-16T14:39:17.345Z"
   },
   {
    "duration": 4,
    "start_time": "2023-05-16T14:41:10.151Z"
   },
   {
    "duration": 78,
    "start_time": "2023-05-16T14:49:17.248Z"
   },
   {
    "duration": 127,
    "start_time": "2023-05-16T14:49:46.463Z"
   },
   {
    "duration": 114,
    "start_time": "2023-05-16T14:51:17.862Z"
   },
   {
    "duration": 4,
    "start_time": "2023-05-16T14:59:06.972Z"
   },
   {
    "duration": 216,
    "start_time": "2023-05-16T15:39:48.353Z"
   },
   {
    "duration": 266,
    "start_time": "2023-05-16T15:51:18.103Z"
   },
   {
    "duration": 17,
    "start_time": "2023-05-16T15:53:23.610Z"
   },
   {
    "duration": 145,
    "start_time": "2023-05-16T15:55:23.862Z"
   },
   {
    "duration": 1480,
    "start_time": "2023-05-16T15:57:23.227Z"
   },
   {
    "duration": 49,
    "start_time": "2023-05-16T15:57:24.710Z"
   },
   {
    "duration": 8,
    "start_time": "2023-05-16T15:57:24.760Z"
   },
   {
    "duration": 63,
    "start_time": "2023-05-16T15:57:24.770Z"
   },
   {
    "duration": 13,
    "start_time": "2023-05-16T15:57:24.835Z"
   },
   {
    "duration": 88,
    "start_time": "2023-05-16T15:57:24.850Z"
   },
   {
    "duration": 6,
    "start_time": "2023-05-16T15:57:24.940Z"
   },
   {
    "duration": 11,
    "start_time": "2023-05-16T15:57:24.947Z"
   },
   {
    "duration": 7,
    "start_time": "2023-05-16T15:57:24.960Z"
   },
   {
    "duration": 12,
    "start_time": "2023-05-16T15:57:24.970Z"
   },
   {
    "duration": 12,
    "start_time": "2023-05-16T15:57:24.990Z"
   },
   {
    "duration": 7,
    "start_time": "2023-05-16T15:57:25.004Z"
   },
   {
    "duration": 15,
    "start_time": "2023-05-16T15:57:25.013Z"
   },
   {
    "duration": 42,
    "start_time": "2023-05-16T15:57:25.031Z"
   },
   {
    "duration": 5,
    "start_time": "2023-05-16T15:57:25.074Z"
   },
   {
    "duration": 30,
    "start_time": "2023-05-16T15:57:25.081Z"
   },
   {
    "duration": 13,
    "start_time": "2023-05-16T15:57:25.113Z"
   },
   {
    "duration": 9,
    "start_time": "2023-05-16T15:57:25.128Z"
   },
   {
    "duration": 15,
    "start_time": "2023-05-16T15:57:25.138Z"
   },
   {
    "duration": 9,
    "start_time": "2023-05-16T15:57:25.155Z"
   },
   {
    "duration": 11,
    "start_time": "2023-05-16T15:57:25.165Z"
   },
   {
    "duration": 16,
    "start_time": "2023-05-16T15:57:25.178Z"
   },
   {
    "duration": 13,
    "start_time": "2023-05-16T15:57:25.195Z"
   },
   {
    "duration": 9,
    "start_time": "2023-05-16T15:57:25.210Z"
   },
   {
    "duration": 14,
    "start_time": "2023-05-16T15:57:25.220Z"
   },
   {
    "duration": 9,
    "start_time": "2023-05-16T15:57:25.236Z"
   },
   {
    "duration": 10,
    "start_time": "2023-05-16T15:57:25.246Z"
   },
   {
    "duration": 6,
    "start_time": "2023-05-16T15:57:25.259Z"
   },
   {
    "duration": 11,
    "start_time": "2023-05-16T15:57:25.266Z"
   },
   {
    "duration": 11,
    "start_time": "2023-05-16T15:57:25.278Z"
   },
   {
    "duration": 28,
    "start_time": "2023-05-16T15:57:25.291Z"
   },
   {
    "duration": 17,
    "start_time": "2023-05-16T15:57:25.320Z"
   },
   {
    "duration": 618,
    "start_time": "2023-05-16T15:57:25.338Z"
   },
   {
    "duration": 212,
    "start_time": "2023-05-16T15:57:25.957Z"
   },
   {
    "duration": 297,
    "start_time": "2023-05-16T15:57:26.172Z"
   },
   {
    "duration": 7,
    "start_time": "2023-05-16T15:57:26.471Z"
   },
   {
    "duration": 201,
    "start_time": "2023-05-16T15:57:26.485Z"
   },
   {
    "duration": 268,
    "start_time": "2023-05-16T15:57:26.688Z"
   },
   {
    "duration": 8,
    "start_time": "2023-05-16T15:57:26.958Z"
   },
   {
    "duration": 158,
    "start_time": "2023-05-16T15:57:26.968Z"
   },
   {
    "duration": 4,
    "start_time": "2023-05-16T15:57:27.128Z"
   },
   {
    "duration": 128,
    "start_time": "2023-05-16T15:57:27.133Z"
   },
   {
    "duration": 5,
    "start_time": "2023-05-16T15:57:27.263Z"
   },
   {
    "duration": 253,
    "start_time": "2023-05-16T15:57:27.269Z"
   },
   {
    "duration": 157,
    "start_time": "2023-05-16T15:57:27.524Z"
   },
   {
    "duration": 9,
    "start_time": "2023-05-16T16:13:27.519Z"
   },
   {
    "duration": 11,
    "start_time": "2023-05-16T16:38:48.727Z"
   },
   {
    "duration": 111,
    "start_time": "2023-05-16T17:53:06.404Z"
   },
   {
    "duration": 5,
    "start_time": "2023-05-16T17:53:25.746Z"
   },
   {
    "duration": 99,
    "start_time": "2023-05-16T17:53:46.362Z"
   },
   {
    "duration": 11,
    "start_time": "2023-05-16T17:53:50.720Z"
   },
   {
    "duration": 11,
    "start_time": "2023-05-16T17:54:06.516Z"
   },
   {
    "duration": 5,
    "start_time": "2023-05-16T17:55:03.025Z"
   },
   {
    "duration": 12,
    "start_time": "2023-05-16T18:07:46.552Z"
   },
   {
    "duration": 23,
    "start_time": "2023-05-16T18:08:09.331Z"
   },
   {
    "duration": 18,
    "start_time": "2023-05-16T18:12:22.331Z"
   },
   {
    "duration": 1487,
    "start_time": "2023-05-17T07:35:39.519Z"
   },
   {
    "duration": 119,
    "start_time": "2023-05-17T07:35:41.023Z"
   },
   {
    "duration": 8,
    "start_time": "2023-05-17T07:35:41.146Z"
   },
   {
    "duration": 8,
    "start_time": "2023-05-17T07:35:41.155Z"
   },
   {
    "duration": 12,
    "start_time": "2023-05-17T07:35:41.165Z"
   },
   {
    "duration": 130,
    "start_time": "2023-05-17T07:35:41.178Z"
   },
   {
    "duration": 5,
    "start_time": "2023-05-17T07:35:41.314Z"
   },
   {
    "duration": 46,
    "start_time": "2023-05-17T07:35:41.321Z"
   },
   {
    "duration": 83,
    "start_time": "2023-05-17T07:35:41.369Z"
   },
   {
    "duration": 17,
    "start_time": "2023-05-17T07:35:41.454Z"
   },
   {
    "duration": 33,
    "start_time": "2023-05-17T07:35:41.473Z"
   },
   {
    "duration": 57,
    "start_time": "2023-05-17T07:35:41.508Z"
   },
   {
    "duration": 39,
    "start_time": "2023-05-17T07:35:41.567Z"
   },
   {
    "duration": 118,
    "start_time": "2023-05-17T07:35:41.616Z"
   },
   {
    "duration": 5,
    "start_time": "2023-05-17T07:35:41.735Z"
   },
   {
    "duration": 10,
    "start_time": "2023-05-17T07:35:41.741Z"
   },
   {
    "duration": 18,
    "start_time": "2023-05-17T07:35:41.752Z"
   },
   {
    "duration": 9,
    "start_time": "2023-05-17T07:35:41.771Z"
   },
   {
    "duration": 52,
    "start_time": "2023-05-17T07:35:41.781Z"
   },
   {
    "duration": 4,
    "start_time": "2023-05-17T07:35:41.834Z"
   },
   {
    "duration": 9,
    "start_time": "2023-05-17T07:35:41.839Z"
   },
   {
    "duration": 15,
    "start_time": "2023-05-17T07:35:41.849Z"
   },
   {
    "duration": 69,
    "start_time": "2023-05-17T07:35:41.865Z"
   },
   {
    "duration": 13,
    "start_time": "2023-05-17T07:35:41.936Z"
   },
   {
    "duration": 39,
    "start_time": "2023-05-17T07:35:41.951Z"
   },
   {
    "duration": 77,
    "start_time": "2023-05-17T07:35:41.991Z"
   },
   {
    "duration": 57,
    "start_time": "2023-05-17T07:35:42.070Z"
   },
   {
    "duration": 14,
    "start_time": "2023-05-17T07:35:42.128Z"
   },
   {
    "duration": 13,
    "start_time": "2023-05-17T07:35:42.144Z"
   },
   {
    "duration": 22,
    "start_time": "2023-05-17T07:35:42.158Z"
   },
   {
    "duration": 72,
    "start_time": "2023-05-17T07:35:42.181Z"
   },
   {
    "duration": 22,
    "start_time": "2023-05-17T07:35:42.256Z"
   },
   {
    "duration": 669,
    "start_time": "2023-05-17T07:35:42.279Z"
   },
   {
    "duration": 197,
    "start_time": "2023-05-17T07:35:42.949Z"
   },
   {
    "duration": 325,
    "start_time": "2023-05-17T07:35:43.149Z"
   },
   {
    "duration": 6,
    "start_time": "2023-05-17T07:35:43.476Z"
   },
   {
    "duration": 288,
    "start_time": "2023-05-17T07:35:43.483Z"
   },
   {
    "duration": 290,
    "start_time": "2023-05-17T07:35:43.773Z"
   },
   {
    "duration": 7,
    "start_time": "2023-05-17T07:35:44.065Z"
   },
   {
    "duration": 170,
    "start_time": "2023-05-17T07:35:44.074Z"
   },
   {
    "duration": 4,
    "start_time": "2023-05-17T07:35:44.249Z"
   },
   {
    "duration": 168,
    "start_time": "2023-05-17T07:35:44.256Z"
   },
   {
    "duration": 4,
    "start_time": "2023-05-17T07:35:44.425Z"
   },
   {
    "duration": 246,
    "start_time": "2023-05-17T07:35:44.431Z"
   },
   {
    "duration": 183,
    "start_time": "2023-05-17T07:35:44.679Z"
   },
   {
    "duration": 9,
    "start_time": "2023-05-17T07:35:44.864Z"
   },
   {
    "duration": 21,
    "start_time": "2023-05-17T07:35:44.875Z"
   },
   {
    "duration": 47,
    "start_time": "2023-05-17T07:35:44.898Z"
   },
   {
    "duration": 10,
    "start_time": "2023-05-17T07:35:44.947Z"
   },
   {
    "duration": 65,
    "start_time": "2023-05-17T07:35:44.959Z"
   },
   {
    "duration": 45,
    "start_time": "2023-05-17T07:35:45.031Z"
   },
   {
    "duration": 4,
    "start_time": "2023-05-17T07:51:31.349Z"
   },
   {
    "duration": 317,
    "start_time": "2023-05-17T07:51:44.731Z"
   },
   {
    "duration": 5,
    "start_time": "2023-05-17T07:55:26.959Z"
   },
   {
    "duration": 19,
    "start_time": "2023-05-17T07:55:35.483Z"
   },
   {
    "duration": 5,
    "start_time": "2023-05-17T07:57:11.540Z"
   },
   {
    "duration": 12,
    "start_time": "2023-05-17T07:57:13.235Z"
   },
   {
    "duration": 1268,
    "start_time": "2023-05-17T07:57:22.558Z"
   },
   {
    "duration": 31,
    "start_time": "2023-05-17T07:57:23.828Z"
   },
   {
    "duration": 11,
    "start_time": "2023-05-17T07:57:23.860Z"
   },
   {
    "duration": 80,
    "start_time": "2023-05-17T07:57:23.873Z"
   },
   {
    "duration": 27,
    "start_time": "2023-05-17T07:57:23.954Z"
   },
   {
    "duration": 114,
    "start_time": "2023-05-17T07:57:23.984Z"
   },
   {
    "duration": 11,
    "start_time": "2023-05-17T07:57:24.102Z"
   },
   {
    "duration": 31,
    "start_time": "2023-05-17T07:57:24.115Z"
   },
   {
    "duration": 6,
    "start_time": "2023-05-17T07:57:24.149Z"
   },
   {
    "duration": 7,
    "start_time": "2023-05-17T07:57:24.158Z"
   },
   {
    "duration": 12,
    "start_time": "2023-05-17T07:57:24.168Z"
   },
   {
    "duration": 68,
    "start_time": "2023-05-17T07:57:24.182Z"
   },
   {
    "duration": 154,
    "start_time": "2023-05-17T07:57:24.252Z"
   },
   {
    "duration": 52,
    "start_time": "2023-05-17T07:57:24.407Z"
   },
   {
    "duration": 6,
    "start_time": "2023-05-17T07:57:24.461Z"
   },
   {
    "duration": 11,
    "start_time": "2023-05-17T07:57:24.468Z"
   },
   {
    "duration": 65,
    "start_time": "2023-05-17T07:57:24.481Z"
   },
   {
    "duration": 6,
    "start_time": "2023-05-17T07:57:24.547Z"
   },
   {
    "duration": 16,
    "start_time": "2023-05-17T07:57:24.555Z"
   },
   {
    "duration": 8,
    "start_time": "2023-05-17T07:57:24.572Z"
   },
   {
    "duration": 64,
    "start_time": "2023-05-17T07:57:24.583Z"
   },
   {
    "duration": 13,
    "start_time": "2023-05-17T07:57:24.648Z"
   },
   {
    "duration": 9,
    "start_time": "2023-05-17T07:57:24.663Z"
   },
   {
    "duration": 9,
    "start_time": "2023-05-17T07:57:24.674Z"
   },
   {
    "duration": 60,
    "start_time": "2023-05-17T07:57:24.689Z"
   },
   {
    "duration": 9,
    "start_time": "2023-05-17T07:57:24.751Z"
   },
   {
    "duration": 8,
    "start_time": "2023-05-17T07:57:24.761Z"
   },
   {
    "duration": 5,
    "start_time": "2023-05-17T07:57:24.773Z"
   },
   {
    "duration": 58,
    "start_time": "2023-05-17T07:57:24.780Z"
   },
   {
    "duration": 11,
    "start_time": "2023-05-17T07:57:24.847Z"
   },
   {
    "duration": 11,
    "start_time": "2023-05-17T07:57:24.860Z"
   },
   {
    "duration": 53,
    "start_time": "2023-05-17T07:57:24.873Z"
   },
   {
    "duration": 790,
    "start_time": "2023-05-17T07:57:24.928Z"
   },
   {
    "duration": 256,
    "start_time": "2023-05-17T07:57:25.722Z"
   },
   {
    "duration": 347,
    "start_time": "2023-05-17T07:57:25.980Z"
   },
   {
    "duration": 10,
    "start_time": "2023-05-17T07:57:26.329Z"
   },
   {
    "duration": 284,
    "start_time": "2023-05-17T07:57:26.340Z"
   },
   {
    "duration": 297,
    "start_time": "2023-05-17T07:57:26.627Z"
   },
   {
    "duration": 12,
    "start_time": "2023-05-17T07:57:26.926Z"
   },
   {
    "duration": 203,
    "start_time": "2023-05-17T07:57:26.939Z"
   },
   {
    "duration": 14,
    "start_time": "2023-05-17T07:57:27.148Z"
   },
   {
    "duration": 193,
    "start_time": "2023-05-17T07:57:27.168Z"
   },
   {
    "duration": 6,
    "start_time": "2023-05-17T07:57:27.363Z"
   },
   {
    "duration": 310,
    "start_time": "2023-05-17T07:57:27.371Z"
   },
   {
    "duration": 326,
    "start_time": "2023-05-17T07:57:27.684Z"
   },
   {
    "duration": 17,
    "start_time": "2023-05-17T07:57:28.012Z"
   },
   {
    "duration": 67,
    "start_time": "2023-05-17T07:57:28.031Z"
   },
   {
    "duration": 54,
    "start_time": "2023-05-17T07:57:28.100Z"
   },
   {
    "duration": 74,
    "start_time": "2023-05-17T07:57:28.156Z"
   },
   {
    "duration": 98,
    "start_time": "2023-05-17T07:57:28.232Z"
   },
   {
    "duration": 26,
    "start_time": "2023-05-17T07:57:28.332Z"
   },
   {
    "duration": 13,
    "start_time": "2023-05-17T08:01:38.243Z"
   },
   {
    "duration": 1404,
    "start_time": "2023-05-17T08:02:04.609Z"
   },
   {
    "duration": 47,
    "start_time": "2023-05-17T08:02:06.031Z"
   },
   {
    "duration": 95,
    "start_time": "2023-05-17T08:02:06.080Z"
   },
   {
    "duration": 65,
    "start_time": "2023-05-17T08:02:06.177Z"
   },
   {
    "duration": 29,
    "start_time": "2023-05-17T08:02:06.247Z"
   },
   {
    "duration": 99,
    "start_time": "2023-05-17T08:02:06.278Z"
   },
   {
    "duration": 6,
    "start_time": "2023-05-17T08:02:06.379Z"
   },
   {
    "duration": 108,
    "start_time": "2023-05-17T08:02:06.386Z"
   },
   {
    "duration": 67,
    "start_time": "2023-05-17T08:02:06.496Z"
   },
   {
    "duration": 39,
    "start_time": "2023-05-17T08:02:06.567Z"
   },
   {
    "duration": 101,
    "start_time": "2023-05-17T08:02:06.607Z"
   },
   {
    "duration": 54,
    "start_time": "2023-05-17T08:02:06.710Z"
   },
   {
    "duration": 39,
    "start_time": "2023-05-17T08:02:06.767Z"
   },
   {
    "duration": 32,
    "start_time": "2023-05-17T08:02:06.807Z"
   },
   {
    "duration": 8,
    "start_time": "2023-05-17T08:02:06.841Z"
   },
   {
    "duration": 114,
    "start_time": "2023-05-17T08:02:06.850Z"
   },
   {
    "duration": 44,
    "start_time": "2023-05-17T08:02:06.966Z"
   },
   {
    "duration": 61,
    "start_time": "2023-05-17T08:02:07.014Z"
   },
   {
    "duration": 70,
    "start_time": "2023-05-17T08:02:07.077Z"
   },
   {
    "duration": 31,
    "start_time": "2023-05-17T08:02:07.153Z"
   },
   {
    "duration": 72,
    "start_time": "2023-05-17T08:02:07.187Z"
   },
   {
    "duration": 11,
    "start_time": "2023-05-17T08:02:07.261Z"
   },
   {
    "duration": 12,
    "start_time": "2023-05-17T08:02:07.273Z"
   },
   {
    "duration": 109,
    "start_time": "2023-05-17T08:02:07.287Z"
   },
   {
    "duration": 55,
    "start_time": "2023-05-17T08:02:07.397Z"
   },
   {
    "duration": 9,
    "start_time": "2023-05-17T08:02:07.454Z"
   },
   {
    "duration": 12,
    "start_time": "2023-05-17T08:02:07.465Z"
   },
   {
    "duration": 97,
    "start_time": "2023-05-17T08:02:07.482Z"
   },
   {
    "duration": 52,
    "start_time": "2023-05-17T08:02:07.582Z"
   },
   {
    "duration": 19,
    "start_time": "2023-05-17T08:02:07.636Z"
   },
   {
    "duration": 13,
    "start_time": "2023-05-17T08:02:07.657Z"
   },
   {
    "duration": 11,
    "start_time": "2023-05-17T08:02:07.671Z"
   },
   {
    "duration": 89,
    "start_time": "2023-05-17T08:02:07.684Z"
   },
   {
    "duration": 809,
    "start_time": "2023-05-17T08:02:07.775Z"
   },
   {
    "duration": 241,
    "start_time": "2023-05-17T08:02:08.591Z"
   },
   {
    "duration": 304,
    "start_time": "2023-05-17T08:02:08.834Z"
   },
   {
    "duration": 10,
    "start_time": "2023-05-17T08:02:09.140Z"
   },
   {
    "duration": 334,
    "start_time": "2023-05-17T08:02:09.152Z"
   },
   {
    "duration": 336,
    "start_time": "2023-05-17T08:02:09.490Z"
   },
   {
    "duration": 11,
    "start_time": "2023-05-17T08:02:09.827Z"
   },
   {
    "duration": 190,
    "start_time": "2023-05-17T08:02:09.839Z"
   },
   {
    "duration": 8,
    "start_time": "2023-05-17T08:02:10.033Z"
   },
   {
    "duration": 178,
    "start_time": "2023-05-17T08:02:10.043Z"
   },
   {
    "duration": 9,
    "start_time": "2023-05-17T08:02:10.225Z"
   },
   {
    "duration": 344,
    "start_time": "2023-05-17T08:02:10.235Z"
   },
   {
    "duration": 202,
    "start_time": "2023-05-17T08:02:10.581Z"
   },
   {
    "duration": 11,
    "start_time": "2023-05-17T08:02:10.785Z"
   },
   {
    "duration": 84,
    "start_time": "2023-05-17T08:02:10.797Z"
   },
   {
    "duration": 96,
    "start_time": "2023-05-17T08:02:10.883Z"
   },
   {
    "duration": 66,
    "start_time": "2023-05-17T08:02:10.981Z"
   },
   {
    "duration": 130,
    "start_time": "2023-05-17T08:02:11.049Z"
   },
   {
    "duration": 36,
    "start_time": "2023-05-17T08:02:11.182Z"
   },
   {
    "duration": 4,
    "start_time": "2023-05-17T08:05:16.850Z"
   },
   {
    "duration": 6,
    "start_time": "2023-05-17T08:06:23.258Z"
   },
   {
    "duration": 10,
    "start_time": "2023-05-17T08:07:06.122Z"
   },
   {
    "duration": 4,
    "start_time": "2023-05-17T08:07:21.848Z"
   },
   {
    "duration": 1201,
    "start_time": "2023-05-17T08:07:38.149Z"
   },
   {
    "duration": 26,
    "start_time": "2023-05-17T08:07:39.352Z"
   },
   {
    "duration": 17,
    "start_time": "2023-05-17T08:07:39.380Z"
   },
   {
    "duration": 48,
    "start_time": "2023-05-17T08:07:39.399Z"
   },
   {
    "duration": 13,
    "start_time": "2023-05-17T08:07:39.449Z"
   },
   {
    "duration": 79,
    "start_time": "2023-05-17T08:07:39.464Z"
   },
   {
    "duration": 12,
    "start_time": "2023-05-17T08:07:39.544Z"
   },
   {
    "duration": 6,
    "start_time": "2023-05-17T08:07:39.558Z"
   },
   {
    "duration": 11,
    "start_time": "2023-05-17T08:07:39.566Z"
   },
   {
    "duration": 12,
    "start_time": "2023-05-17T08:07:39.579Z"
   },
   {
    "duration": 62,
    "start_time": "2023-05-17T08:07:39.592Z"
   },
   {
    "duration": 12,
    "start_time": "2023-05-17T08:07:39.656Z"
   },
   {
    "duration": 35,
    "start_time": "2023-05-17T08:07:39.671Z"
   },
   {
    "duration": 51,
    "start_time": "2023-05-17T08:07:39.707Z"
   },
   {
    "duration": 7,
    "start_time": "2023-05-17T08:07:39.760Z"
   },
   {
    "duration": 11,
    "start_time": "2023-05-17T08:07:39.768Z"
   },
   {
    "duration": 64,
    "start_time": "2023-05-17T08:07:39.781Z"
   },
   {
    "duration": 12,
    "start_time": "2023-05-17T08:07:39.847Z"
   },
   {
    "duration": 50,
    "start_time": "2023-05-17T08:07:39.860Z"
   },
   {
    "duration": 28,
    "start_time": "2023-05-17T08:07:39.923Z"
   },
   {
    "duration": 13,
    "start_time": "2023-05-17T08:07:39.953Z"
   },
   {
    "duration": 13,
    "start_time": "2023-05-17T08:07:39.968Z"
   },
   {
    "duration": 59,
    "start_time": "2023-05-17T08:07:39.983Z"
   },
   {
    "duration": 18,
    "start_time": "2023-05-17T08:07:40.044Z"
   },
   {
    "duration": 82,
    "start_time": "2023-05-17T08:07:40.064Z"
   },
   {
    "duration": 24,
    "start_time": "2023-05-17T08:07:40.148Z"
   },
   {
    "duration": 60,
    "start_time": "2023-05-17T08:07:40.174Z"
   },
   {
    "duration": 19,
    "start_time": "2023-05-17T08:07:40.238Z"
   },
   {
    "duration": 74,
    "start_time": "2023-05-17T08:07:40.258Z"
   },
   {
    "duration": 11,
    "start_time": "2023-05-17T08:07:40.334Z"
   },
   {
    "duration": 19,
    "start_time": "2023-05-17T08:07:40.346Z"
   },
   {
    "duration": 44,
    "start_time": "2023-05-17T08:07:40.366Z"
   },
   {
    "duration": 49,
    "start_time": "2023-05-17T08:07:40.411Z"
   },
   {
    "duration": 15,
    "start_time": "2023-05-17T08:07:40.462Z"
   },
   {
    "duration": 602,
    "start_time": "2023-05-17T08:07:40.479Z"
   },
   {
    "duration": 209,
    "start_time": "2023-05-17T08:07:41.084Z"
   },
   {
    "duration": 360,
    "start_time": "2023-05-17T08:07:41.299Z"
   },
   {
    "duration": 6,
    "start_time": "2023-05-17T08:07:41.661Z"
   },
   {
    "duration": 212,
    "start_time": "2023-05-17T08:07:41.669Z"
   },
   {
    "duration": 287,
    "start_time": "2023-05-17T08:07:41.884Z"
   },
   {
    "duration": 7,
    "start_time": "2023-05-17T08:07:42.173Z"
   },
   {
    "duration": 205,
    "start_time": "2023-05-17T08:07:42.181Z"
   },
   {
    "duration": 18,
    "start_time": "2023-05-17T08:07:42.388Z"
   },
   {
    "duration": 153,
    "start_time": "2023-05-17T08:07:42.417Z"
   },
   {
    "duration": 4,
    "start_time": "2023-05-17T08:07:42.572Z"
   },
   {
    "duration": 265,
    "start_time": "2023-05-17T08:07:42.581Z"
   },
   {
    "duration": 205,
    "start_time": "2023-05-17T08:07:42.848Z"
   },
   {
    "duration": 10,
    "start_time": "2023-05-17T08:07:43.055Z"
   },
   {
    "duration": 15,
    "start_time": "2023-05-17T08:07:43.067Z"
   },
   {
    "duration": 66,
    "start_time": "2023-05-17T08:07:43.092Z"
   },
   {
    "duration": 66,
    "start_time": "2023-05-17T08:07:43.160Z"
   },
   {
    "duration": 42,
    "start_time": "2023-05-17T08:07:43.227Z"
   },
   {
    "duration": 28,
    "start_time": "2023-05-17T08:07:43.271Z"
   },
   {
    "duration": 9,
    "start_time": "2023-05-17T08:08:25.935Z"
   },
   {
    "duration": 28,
    "start_time": "2023-05-17T08:08:40.307Z"
   },
   {
    "duration": 14,
    "start_time": "2023-05-17T08:15:03.362Z"
   },
   {
    "duration": 10,
    "start_time": "2023-05-17T08:15:33.515Z"
   },
   {
    "duration": 120,
    "start_time": "2023-05-17T08:16:39.220Z"
   },
   {
    "duration": 5,
    "start_time": "2023-05-17T08:17:12.621Z"
   },
   {
    "duration": 11,
    "start_time": "2023-05-17T08:17:20.498Z"
   },
   {
    "duration": 8,
    "start_time": "2023-05-17T08:23:54.658Z"
   },
   {
    "duration": 8,
    "start_time": "2023-05-17T08:24:13.035Z"
   },
   {
    "duration": 8,
    "start_time": "2023-05-17T08:24:43.658Z"
   },
   {
    "duration": 7,
    "start_time": "2023-05-17T08:24:54.964Z"
   },
   {
    "duration": 5,
    "start_time": "2023-05-17T08:26:22.763Z"
   },
   {
    "duration": 5,
    "start_time": "2023-05-17T08:26:23.827Z"
   },
   {
    "duration": 12,
    "start_time": "2023-05-17T08:26:24.414Z"
   },
   {
    "duration": 7,
    "start_time": "2023-05-17T08:26:47.908Z"
   },
   {
    "duration": 7,
    "start_time": "2023-05-17T08:26:48.512Z"
   },
   {
    "duration": 7,
    "start_time": "2023-05-17T08:26:49.311Z"
   },
   {
    "duration": 1114,
    "start_time": "2023-05-17T08:30:24.744Z"
   },
   {
    "duration": 34,
    "start_time": "2023-05-17T08:30:25.860Z"
   },
   {
    "duration": 13,
    "start_time": "2023-05-17T08:30:25.895Z"
   },
   {
    "duration": 45,
    "start_time": "2023-05-17T08:30:25.910Z"
   },
   {
    "duration": 23,
    "start_time": "2023-05-17T08:30:25.957Z"
   },
   {
    "duration": 67,
    "start_time": "2023-05-17T08:30:25.982Z"
   },
   {
    "duration": 5,
    "start_time": "2023-05-17T08:30:26.051Z"
   },
   {
    "duration": 19,
    "start_time": "2023-05-17T08:30:26.058Z"
   },
   {
    "duration": 44,
    "start_time": "2023-05-17T08:30:26.080Z"
   },
   {
    "duration": 29,
    "start_time": "2023-05-17T08:30:26.127Z"
   },
   {
    "duration": 65,
    "start_time": "2023-05-17T08:30:26.158Z"
   },
   {
    "duration": 23,
    "start_time": "2023-05-17T08:30:26.225Z"
   },
   {
    "duration": 66,
    "start_time": "2023-05-17T08:30:26.250Z"
   },
   {
    "duration": 36,
    "start_time": "2023-05-17T08:30:26.318Z"
   },
   {
    "duration": 6,
    "start_time": "2023-05-17T08:30:26.357Z"
   },
   {
    "duration": 47,
    "start_time": "2023-05-17T08:30:26.365Z"
   },
   {
    "duration": 38,
    "start_time": "2023-05-17T08:30:26.414Z"
   },
   {
    "duration": 30,
    "start_time": "2023-05-17T08:30:26.454Z"
   },
   {
    "duration": 55,
    "start_time": "2023-05-17T08:30:26.485Z"
   },
   {
    "duration": 14,
    "start_time": "2023-05-17T08:30:26.542Z"
   },
   {
    "duration": 21,
    "start_time": "2023-05-17T08:30:26.558Z"
   },
   {
    "duration": 42,
    "start_time": "2023-05-17T08:30:26.580Z"
   },
   {
    "duration": 10,
    "start_time": "2023-05-17T08:30:26.624Z"
   },
   {
    "duration": 14,
    "start_time": "2023-05-17T08:30:26.635Z"
   },
   {
    "duration": 15,
    "start_time": "2023-05-17T08:30:26.650Z"
   },
   {
    "duration": 12,
    "start_time": "2023-05-17T08:30:26.667Z"
   },
   {
    "duration": 37,
    "start_time": "2023-05-17T08:30:26.681Z"
   },
   {
    "duration": 32,
    "start_time": "2023-05-17T08:30:26.722Z"
   },
   {
    "duration": 22,
    "start_time": "2023-05-17T08:30:26.755Z"
   },
   {
    "duration": 61,
    "start_time": "2023-05-17T08:30:26.779Z"
   },
   {
    "duration": 18,
    "start_time": "2023-05-17T08:30:26.841Z"
   },
   {
    "duration": 59,
    "start_time": "2023-05-17T08:30:26.861Z"
   },
   {
    "duration": 7,
    "start_time": "2023-05-17T08:30:26.922Z"
   },
   {
    "duration": 15,
    "start_time": "2023-05-17T08:30:26.931Z"
   },
   {
    "duration": 9,
    "start_time": "2023-05-17T08:30:26.947Z"
   },
   {
    "duration": 7,
    "start_time": "2023-05-17T08:30:26.957Z"
   },
   {
    "duration": 13,
    "start_time": "2023-05-17T08:30:26.965Z"
   },
   {
    "duration": 50,
    "start_time": "2023-05-17T08:30:26.979Z"
   },
   {
    "duration": 548,
    "start_time": "2023-05-17T08:30:27.031Z"
   },
   {
    "duration": 172,
    "start_time": "2023-05-17T08:30:27.591Z"
   },
   {
    "duration": 274,
    "start_time": "2023-05-17T08:30:27.765Z"
   },
   {
    "duration": 5,
    "start_time": "2023-05-17T08:30:28.041Z"
   },
   {
    "duration": 198,
    "start_time": "2023-05-17T08:30:28.048Z"
   },
   {
    "duration": 259,
    "start_time": "2023-05-17T08:30:28.247Z"
   },
   {
    "duration": 8,
    "start_time": "2023-05-17T08:30:28.510Z"
   },
   {
    "duration": 170,
    "start_time": "2023-05-17T08:30:28.520Z"
   },
   {
    "duration": 4,
    "start_time": "2023-05-17T08:30:28.692Z"
   },
   {
    "duration": 139,
    "start_time": "2023-05-17T08:30:28.697Z"
   },
   {
    "duration": 4,
    "start_time": "2023-05-17T08:30:28.838Z"
   },
   {
    "duration": 235,
    "start_time": "2023-05-17T08:30:28.844Z"
   },
   {
    "duration": 162,
    "start_time": "2023-05-17T08:30:29.085Z"
   },
   {
    "duration": 9,
    "start_time": "2023-05-17T08:30:29.249Z"
   },
   {
    "duration": 31,
    "start_time": "2023-05-17T08:30:29.259Z"
   },
   {
    "duration": 27,
    "start_time": "2023-05-17T08:30:29.292Z"
   },
   {
    "duration": 9,
    "start_time": "2023-05-17T08:30:29.321Z"
   },
   {
    "duration": 26,
    "start_time": "2023-05-17T08:30:29.331Z"
   },
   {
    "duration": 13,
    "start_time": "2023-05-17T08:30:29.358Z"
   },
   {
    "duration": 11,
    "start_time": "2023-05-17T09:26:59.999Z"
   },
   {
    "duration": 7,
    "start_time": "2023-05-17T09:27:30.931Z"
   },
   {
    "duration": 305,
    "start_time": "2023-05-17T09:42:40.273Z"
   },
   {
    "duration": 278,
    "start_time": "2023-05-17T09:42:41.236Z"
   },
   {
    "duration": 295,
    "start_time": "2023-05-17T09:44:34.414Z"
   },
   {
    "duration": 303,
    "start_time": "2023-05-17T09:44:45.750Z"
   },
   {
    "duration": 173,
    "start_time": "2023-05-17T09:44:47.034Z"
   },
   {
    "duration": 314,
    "start_time": "2023-05-17T09:45:50.907Z"
   },
   {
    "duration": 1068,
    "start_time": "2023-05-17T09:46:36.141Z"
   },
   {
    "duration": 26,
    "start_time": "2023-05-17T09:46:37.211Z"
   },
   {
    "duration": 7,
    "start_time": "2023-05-17T09:46:37.238Z"
   },
   {
    "duration": 5,
    "start_time": "2023-05-17T09:46:37.246Z"
   },
   {
    "duration": 7,
    "start_time": "2023-05-17T09:46:37.252Z"
   },
   {
    "duration": 60,
    "start_time": "2023-05-17T09:46:37.260Z"
   },
   {
    "duration": 5,
    "start_time": "2023-05-17T09:46:37.321Z"
   },
   {
    "duration": 6,
    "start_time": "2023-05-17T09:46:37.327Z"
   },
   {
    "duration": 10,
    "start_time": "2023-05-17T09:46:37.334Z"
   },
   {
    "duration": 12,
    "start_time": "2023-05-17T09:46:37.346Z"
   },
   {
    "duration": 9,
    "start_time": "2023-05-17T09:46:37.359Z"
   },
   {
    "duration": 7,
    "start_time": "2023-05-17T09:46:37.369Z"
   },
   {
    "duration": 22,
    "start_time": "2023-05-17T09:46:37.377Z"
   },
   {
    "duration": 26,
    "start_time": "2023-05-17T09:46:37.400Z"
   },
   {
    "duration": 5,
    "start_time": "2023-05-17T09:46:37.427Z"
   },
   {
    "duration": 18,
    "start_time": "2023-05-17T09:46:37.433Z"
   },
   {
    "duration": 13,
    "start_time": "2023-05-17T09:46:37.452Z"
   },
   {
    "duration": 15,
    "start_time": "2023-05-17T09:46:37.466Z"
   },
   {
    "duration": 32,
    "start_time": "2023-05-17T09:46:37.482Z"
   },
   {
    "duration": 5,
    "start_time": "2023-05-17T09:46:37.515Z"
   },
   {
    "duration": 8,
    "start_time": "2023-05-17T09:46:37.522Z"
   },
   {
    "duration": 12,
    "start_time": "2023-05-17T09:46:37.531Z"
   },
   {
    "duration": 7,
    "start_time": "2023-05-17T09:46:37.544Z"
   },
   {
    "duration": 8,
    "start_time": "2023-05-17T09:46:37.552Z"
   },
   {
    "duration": 6,
    "start_time": "2023-05-17T09:46:37.561Z"
   },
   {
    "duration": 7,
    "start_time": "2023-05-17T09:46:37.568Z"
   },
   {
    "duration": 6,
    "start_time": "2023-05-17T09:46:37.576Z"
   },
   {
    "duration": 25,
    "start_time": "2023-05-17T09:46:37.585Z"
   },
   {
    "duration": 13,
    "start_time": "2023-05-17T09:46:37.611Z"
   },
   {
    "duration": 8,
    "start_time": "2023-05-17T09:46:37.626Z"
   },
   {
    "duration": 4,
    "start_time": "2023-05-17T09:46:37.635Z"
   },
   {
    "duration": 14,
    "start_time": "2023-05-17T09:46:37.640Z"
   },
   {
    "duration": 5,
    "start_time": "2023-05-17T09:46:37.655Z"
   },
   {
    "duration": 6,
    "start_time": "2023-05-17T09:46:37.661Z"
   },
   {
    "duration": 7,
    "start_time": "2023-05-17T09:46:37.669Z"
   },
   {
    "duration": 6,
    "start_time": "2023-05-17T09:46:37.677Z"
   },
   {
    "duration": 489,
    "start_time": "2023-05-17T09:46:37.690Z"
   },
   {
    "duration": 152,
    "start_time": "2023-05-17T09:46:38.184Z"
   },
   {
    "duration": 216,
    "start_time": "2023-05-17T09:46:38.337Z"
   },
   {
    "duration": 5,
    "start_time": "2023-05-17T09:46:38.554Z"
   },
   {
    "duration": 173,
    "start_time": "2023-05-17T09:46:38.561Z"
   },
   {
    "duration": 266,
    "start_time": "2023-05-17T09:46:38.736Z"
   },
   {
    "duration": 11,
    "start_time": "2023-05-17T09:46:39.003Z"
   },
   {
    "duration": 128,
    "start_time": "2023-05-17T09:46:39.015Z"
   },
   {
    "duration": 3,
    "start_time": "2023-05-17T09:46:39.145Z"
   },
   {
    "duration": 115,
    "start_time": "2023-05-17T09:46:39.150Z"
   },
   {
    "duration": 3,
    "start_time": "2023-05-17T09:46:39.266Z"
   },
   {
    "duration": 198,
    "start_time": "2023-05-17T09:46:39.271Z"
   },
   {
    "duration": 144,
    "start_time": "2023-05-17T09:46:39.471Z"
   },
   {
    "duration": 9,
    "start_time": "2023-05-17T09:46:39.617Z"
   },
   {
    "duration": 8,
    "start_time": "2023-05-17T09:46:39.627Z"
   },
   {
    "duration": 5,
    "start_time": "2023-05-17T09:46:39.636Z"
   },
   {
    "duration": 6,
    "start_time": "2023-05-17T09:46:39.643Z"
   },
   {
    "duration": 59,
    "start_time": "2023-05-17T09:46:39.650Z"
   },
   {
    "duration": 16,
    "start_time": "2023-05-17T09:46:39.711Z"
   },
   {
    "duration": 4,
    "start_time": "2023-05-17T09:46:39.728Z"
   },
   {
    "duration": 10,
    "start_time": "2023-05-17T09:46:39.734Z"
   },
   {
    "duration": 323,
    "start_time": "2023-05-17T09:46:39.745Z"
   },
   {
    "duration": 234,
    "start_time": "2023-05-17T09:46:40.069Z"
   },
   {
    "duration": 342,
    "start_time": "2023-05-17T09:50:04.020Z"
   },
   {
    "duration": 172,
    "start_time": "2023-05-17T09:50:05.109Z"
   },
   {
    "duration": 6,
    "start_time": "2023-05-17T09:52:47.308Z"
   },
   {
    "duration": 178,
    "start_time": "2023-05-17T09:52:47.908Z"
   },
   {
    "duration": 3,
    "start_time": "2023-05-17T11:54:32.524Z"
   },
   {
    "duration": 7,
    "start_time": "2023-05-17T11:54:34.126Z"
   },
   {
    "duration": 4,
    "start_time": "2023-05-17T11:54:44.246Z"
   },
   {
    "duration": 8,
    "start_time": "2023-05-17T11:54:45.827Z"
   },
   {
    "duration": 15,
    "start_time": "2023-05-17T11:54:58.220Z"
   },
   {
    "duration": 10,
    "start_time": "2023-05-17T11:55:24.249Z"
   },
   {
    "duration": 1200,
    "start_time": "2023-05-17T11:55:50.581Z"
   },
   {
    "duration": 62,
    "start_time": "2023-05-17T11:55:51.783Z"
   },
   {
    "duration": 7,
    "start_time": "2023-05-17T11:55:51.846Z"
   },
   {
    "duration": 5,
    "start_time": "2023-05-17T11:55:51.854Z"
   },
   {
    "duration": 7,
    "start_time": "2023-05-17T11:55:51.861Z"
   },
   {
    "duration": 66,
    "start_time": "2023-05-17T11:55:51.869Z"
   },
   {
    "duration": 5,
    "start_time": "2023-05-17T11:55:51.936Z"
   },
   {
    "duration": 6,
    "start_time": "2023-05-17T11:55:51.943Z"
   },
   {
    "duration": 18,
    "start_time": "2023-05-17T11:55:51.951Z"
   },
   {
    "duration": 12,
    "start_time": "2023-05-17T11:55:51.971Z"
   },
   {
    "duration": 54,
    "start_time": "2023-05-17T11:55:51.984Z"
   },
   {
    "duration": 11,
    "start_time": "2023-05-17T11:55:52.039Z"
   },
   {
    "duration": 21,
    "start_time": "2023-05-17T11:55:52.051Z"
   },
   {
    "duration": 66,
    "start_time": "2023-05-17T11:55:52.075Z"
   },
   {
    "duration": 5,
    "start_time": "2023-05-17T11:55:52.142Z"
   },
   {
    "duration": 10,
    "start_time": "2023-05-17T11:55:52.148Z"
   },
   {
    "duration": 14,
    "start_time": "2023-05-17T11:55:52.159Z"
   },
   {
    "duration": 4,
    "start_time": "2023-05-17T11:55:52.174Z"
   },
   {
    "duration": 38,
    "start_time": "2023-05-17T11:55:52.180Z"
   },
   {
    "duration": 15,
    "start_time": "2023-05-17T11:55:52.223Z"
   },
   {
    "duration": 8,
    "start_time": "2023-05-17T11:55:52.239Z"
   },
   {
    "duration": 12,
    "start_time": "2023-05-17T11:55:52.248Z"
   },
   {
    "duration": 7,
    "start_time": "2023-05-17T11:55:52.262Z"
   },
   {
    "duration": 27,
    "start_time": "2023-05-17T11:55:52.271Z"
   },
   {
    "duration": 21,
    "start_time": "2023-05-17T11:55:52.307Z"
   },
   {
    "duration": 7,
    "start_time": "2023-05-17T11:55:52.330Z"
   },
   {
    "duration": 8,
    "start_time": "2023-05-17T11:55:52.338Z"
   },
   {
    "duration": 9,
    "start_time": "2023-05-17T11:55:52.347Z"
   },
   {
    "duration": 17,
    "start_time": "2023-05-17T11:55:52.357Z"
   },
   {
    "duration": 19,
    "start_time": "2023-05-17T11:55:52.375Z"
   },
   {
    "duration": 40,
    "start_time": "2023-05-17T11:55:52.395Z"
   },
   {
    "duration": 18,
    "start_time": "2023-05-17T11:55:52.436Z"
   },
   {
    "duration": 10,
    "start_time": "2023-05-17T11:55:52.456Z"
   },
   {
    "duration": 11,
    "start_time": "2023-05-17T11:55:52.467Z"
   },
   {
    "duration": 8,
    "start_time": "2023-05-17T11:55:52.479Z"
   },
   {
    "duration": 48,
    "start_time": "2023-05-17T11:55:52.488Z"
   },
   {
    "duration": 523,
    "start_time": "2023-05-17T11:55:52.537Z"
   },
   {
    "duration": 179,
    "start_time": "2023-05-17T11:55:53.062Z"
   },
   {
    "duration": 213,
    "start_time": "2023-05-17T11:55:53.242Z"
   },
   {
    "duration": 4,
    "start_time": "2023-05-17T11:55:53.457Z"
   },
   {
    "duration": 192,
    "start_time": "2023-05-17T11:55:53.486Z"
   },
   {
    "duration": 250,
    "start_time": "2023-05-17T11:55:53.679Z"
   },
   {
    "duration": 6,
    "start_time": "2023-05-17T11:55:53.930Z"
   },
   {
    "duration": 122,
    "start_time": "2023-05-17T11:55:53.938Z"
   },
   {
    "duration": 3,
    "start_time": "2023-05-17T11:55:54.061Z"
   },
   {
    "duration": 170,
    "start_time": "2023-05-17T11:55:54.066Z"
   },
   {
    "duration": 6,
    "start_time": "2023-05-17T11:55:54.238Z"
   },
   {
    "duration": 230,
    "start_time": "2023-05-17T11:55:54.247Z"
   },
   {
    "duration": 177,
    "start_time": "2023-05-17T11:55:54.478Z"
   },
   {
    "duration": 9,
    "start_time": "2023-05-17T11:55:54.656Z"
   },
   {
    "duration": 24,
    "start_time": "2023-05-17T11:55:54.666Z"
   },
   {
    "duration": 45,
    "start_time": "2023-05-17T11:55:54.691Z"
   },
   {
    "duration": 10,
    "start_time": "2023-05-17T11:55:54.737Z"
   },
   {
    "duration": 21,
    "start_time": "2023-05-17T11:55:54.748Z"
   },
   {
    "duration": 12,
    "start_time": "2023-05-17T11:55:54.770Z"
   },
   {
    "duration": 18,
    "start_time": "2023-05-17T11:55:54.788Z"
   },
   {
    "duration": 334,
    "start_time": "2023-05-17T11:55:54.818Z"
   },
   {
    "duration": 225,
    "start_time": "2023-05-17T11:55:55.154Z"
   },
   {
    "duration": 1188,
    "start_time": "2023-05-17T11:57:47.211Z"
   },
   {
    "duration": 48,
    "start_time": "2023-05-17T11:57:48.400Z"
   },
   {
    "duration": 31,
    "start_time": "2023-05-17T11:57:48.449Z"
   },
   {
    "duration": 21,
    "start_time": "2023-05-17T11:57:48.481Z"
   },
   {
    "duration": 24,
    "start_time": "2023-05-17T11:57:48.519Z"
   },
   {
    "duration": 94,
    "start_time": "2023-05-17T11:57:48.545Z"
   },
   {
    "duration": 6,
    "start_time": "2023-05-17T11:57:48.641Z"
   },
   {
    "duration": 16,
    "start_time": "2023-05-17T11:57:48.649Z"
   },
   {
    "duration": 75,
    "start_time": "2023-05-17T11:57:48.667Z"
   },
   {
    "duration": 14,
    "start_time": "2023-05-17T11:57:48.744Z"
   },
   {
    "duration": 39,
    "start_time": "2023-05-17T11:57:48.759Z"
   },
   {
    "duration": 63,
    "start_time": "2023-05-17T11:57:48.799Z"
   },
   {
    "duration": 31,
    "start_time": "2023-05-17T11:57:48.863Z"
   },
   {
    "duration": 56,
    "start_time": "2023-05-17T11:57:48.902Z"
   },
   {
    "duration": 6,
    "start_time": "2023-05-17T11:57:48.960Z"
   },
   {
    "duration": 6,
    "start_time": "2023-05-17T11:57:48.968Z"
   },
   {
    "duration": 18,
    "start_time": "2023-05-17T11:57:48.976Z"
   },
   {
    "duration": 7,
    "start_time": "2023-05-17T11:57:48.995Z"
   },
   {
    "duration": 51,
    "start_time": "2023-05-17T11:57:49.003Z"
   },
   {
    "duration": 12,
    "start_time": "2023-05-17T11:57:49.056Z"
   },
   {
    "duration": 22,
    "start_time": "2023-05-17T11:57:49.070Z"
   },
   {
    "duration": 51,
    "start_time": "2023-05-17T11:57:49.093Z"
   },
   {
    "duration": 16,
    "start_time": "2023-05-17T11:57:49.146Z"
   },
   {
    "duration": 14,
    "start_time": "2023-05-17T11:57:49.164Z"
   },
   {
    "duration": 67,
    "start_time": "2023-05-17T11:57:49.179Z"
   },
   {
    "duration": 10,
    "start_time": "2023-05-17T11:57:49.248Z"
   },
   {
    "duration": 78,
    "start_time": "2023-05-17T11:57:49.260Z"
   },
   {
    "duration": 16,
    "start_time": "2023-05-17T11:57:49.340Z"
   },
   {
    "duration": 18,
    "start_time": "2023-05-17T11:57:49.358Z"
   },
   {
    "duration": 10,
    "start_time": "2023-05-17T11:57:49.378Z"
   },
   {
    "duration": 67,
    "start_time": "2023-05-17T11:57:49.390Z"
   },
   {
    "duration": 18,
    "start_time": "2023-05-17T11:57:49.459Z"
   },
   {
    "duration": 65,
    "start_time": "2023-05-17T11:57:49.479Z"
   },
   {
    "duration": 13,
    "start_time": "2023-05-17T11:57:49.545Z"
   },
   {
    "duration": 12,
    "start_time": "2023-05-17T11:57:49.559Z"
   },
   {
    "duration": 30,
    "start_time": "2023-05-17T11:57:49.572Z"
   },
   {
    "duration": 28,
    "start_time": "2023-05-17T11:57:49.611Z"
   },
   {
    "duration": 584,
    "start_time": "2023-05-17T11:57:49.641Z"
   },
   {
    "duration": 229,
    "start_time": "2023-05-17T11:57:50.227Z"
   },
   {
    "duration": 297,
    "start_time": "2023-05-17T11:57:50.458Z"
   },
   {
    "duration": 7,
    "start_time": "2023-05-17T11:57:50.759Z"
   },
   {
    "duration": 288,
    "start_time": "2023-05-17T11:57:50.767Z"
   },
   {
    "duration": 283,
    "start_time": "2023-05-17T11:57:51.056Z"
   },
   {
    "duration": 11,
    "start_time": "2023-05-17T11:57:51.343Z"
   },
   {
    "duration": 170,
    "start_time": "2023-05-17T11:57:51.356Z"
   },
   {
    "duration": 9,
    "start_time": "2023-05-17T11:57:51.530Z"
   },
   {
    "duration": 143,
    "start_time": "2023-05-17T11:57:51.540Z"
   },
   {
    "duration": 10,
    "start_time": "2023-05-17T11:57:51.691Z"
   },
   {
    "duration": 276,
    "start_time": "2023-05-17T11:57:51.703Z"
   },
   {
    "duration": 222,
    "start_time": "2023-05-17T11:57:51.981Z"
   },
   {
    "duration": 16,
    "start_time": "2023-05-17T11:57:52.205Z"
   },
   {
    "duration": 84,
    "start_time": "2023-05-17T11:57:52.222Z"
   },
   {
    "duration": 29,
    "start_time": "2023-05-17T11:57:52.314Z"
   },
   {
    "duration": 8,
    "start_time": "2023-05-17T11:57:52.344Z"
   },
   {
    "duration": 21,
    "start_time": "2023-05-17T11:57:52.353Z"
   },
   {
    "duration": 32,
    "start_time": "2023-05-17T11:57:52.376Z"
   },
   {
    "duration": 44,
    "start_time": "2023-05-17T11:57:52.409Z"
   },
   {
    "duration": 340,
    "start_time": "2023-05-17T11:57:52.454Z"
   },
   {
    "duration": 238,
    "start_time": "2023-05-17T11:57:52.795Z"
   },
   {
    "duration": 1143,
    "start_time": "2023-05-18T07:37:34.675Z"
   },
   {
    "duration": 27,
    "start_time": "2023-05-18T07:37:35.820Z"
   },
   {
    "duration": 8,
    "start_time": "2023-05-18T07:37:35.849Z"
   },
   {
    "duration": 11,
    "start_time": "2023-05-18T07:37:35.860Z"
   },
   {
    "duration": 14,
    "start_time": "2023-05-18T07:37:35.873Z"
   },
   {
    "duration": 48,
    "start_time": "2023-05-18T07:37:35.890Z"
   },
   {
    "duration": 8,
    "start_time": "2023-05-18T07:37:35.940Z"
   },
   {
    "duration": 8,
    "start_time": "2023-05-18T07:37:35.949Z"
   },
   {
    "duration": 15,
    "start_time": "2023-05-18T07:37:35.959Z"
   },
   {
    "duration": 10,
    "start_time": "2023-05-18T07:37:35.977Z"
   },
   {
    "duration": 12,
    "start_time": "2023-05-18T07:37:35.988Z"
   },
   {
    "duration": 7,
    "start_time": "2023-05-18T07:37:36.002Z"
   },
   {
    "duration": 14,
    "start_time": "2023-05-18T07:37:36.011Z"
   },
   {
    "duration": 31,
    "start_time": "2023-05-18T07:37:36.027Z"
   },
   {
    "duration": 17,
    "start_time": "2023-05-18T07:37:36.060Z"
   },
   {
    "duration": 10,
    "start_time": "2023-05-18T07:37:36.080Z"
   },
   {
    "duration": 19,
    "start_time": "2023-05-18T07:37:36.092Z"
   },
   {
    "duration": 11,
    "start_time": "2023-05-18T07:37:36.113Z"
   },
   {
    "duration": 21,
    "start_time": "2023-05-18T07:37:36.125Z"
   },
   {
    "duration": 10,
    "start_time": "2023-05-18T07:37:36.148Z"
   },
   {
    "duration": 11,
    "start_time": "2023-05-18T07:37:36.160Z"
   },
   {
    "duration": 6,
    "start_time": "2023-05-18T07:37:36.173Z"
   },
   {
    "duration": 12,
    "start_time": "2023-05-18T07:37:36.181Z"
   },
   {
    "duration": 6,
    "start_time": "2023-05-18T07:37:36.194Z"
   },
   {
    "duration": 11,
    "start_time": "2023-05-18T07:37:36.203Z"
   },
   {
    "duration": 42,
    "start_time": "2023-05-18T07:37:36.216Z"
   },
   {
    "duration": 4,
    "start_time": "2023-05-18T07:37:36.260Z"
   },
   {
    "duration": 10,
    "start_time": "2023-05-18T07:37:36.269Z"
   },
   {
    "duration": 7,
    "start_time": "2023-05-18T07:37:36.280Z"
   },
   {
    "duration": 7,
    "start_time": "2023-05-18T07:37:36.289Z"
   },
   {
    "duration": 14,
    "start_time": "2023-05-18T07:37:36.298Z"
   },
   {
    "duration": 8,
    "start_time": "2023-05-18T07:37:36.314Z"
   },
   {
    "duration": 49,
    "start_time": "2023-05-18T07:37:36.324Z"
   },
   {
    "duration": 5,
    "start_time": "2023-05-18T07:37:36.375Z"
   },
   {
    "duration": 10,
    "start_time": "2023-05-18T07:37:36.382Z"
   },
   {
    "duration": 8,
    "start_time": "2023-05-18T07:37:36.394Z"
   },
   {
    "duration": 7,
    "start_time": "2023-05-18T07:37:36.403Z"
   },
   {
    "duration": 560,
    "start_time": "2023-05-18T07:37:36.412Z"
   },
   {
    "duration": 185,
    "start_time": "2023-05-18T07:37:36.974Z"
   },
   {
    "duration": 296,
    "start_time": "2023-05-18T07:37:37.161Z"
   },
   {
    "duration": 9,
    "start_time": "2023-05-18T07:37:37.459Z"
   },
   {
    "duration": 211,
    "start_time": "2023-05-18T07:37:37.470Z"
   },
   {
    "duration": 275,
    "start_time": "2023-05-18T07:37:37.683Z"
   },
   {
    "duration": 7,
    "start_time": "2023-05-18T07:37:37.960Z"
   },
   {
    "duration": 148,
    "start_time": "2023-05-18T07:37:37.969Z"
   },
   {
    "duration": 5,
    "start_time": "2023-05-18T07:37:38.119Z"
   },
   {
    "duration": 157,
    "start_time": "2023-05-18T07:37:38.126Z"
   },
   {
    "duration": 4,
    "start_time": "2023-05-18T07:37:38.285Z"
   },
   {
    "duration": 259,
    "start_time": "2023-05-18T07:37:38.292Z"
   },
   {
    "duration": 175,
    "start_time": "2023-05-18T07:37:38.558Z"
   },
   {
    "duration": 28,
    "start_time": "2023-05-18T07:37:38.735Z"
   },
   {
    "duration": 9,
    "start_time": "2023-05-18T07:37:38.766Z"
   },
   {
    "duration": 11,
    "start_time": "2023-05-18T07:37:38.777Z"
   },
   {
    "duration": 12,
    "start_time": "2023-05-18T07:37:38.790Z"
   },
   {
    "duration": 55,
    "start_time": "2023-05-18T07:37:38.803Z"
   },
   {
    "duration": 17,
    "start_time": "2023-05-18T07:37:38.860Z"
   },
   {
    "duration": 3,
    "start_time": "2023-05-18T07:37:38.879Z"
   },
   {
    "duration": 432,
    "start_time": "2023-05-18T07:37:38.884Z"
   },
   {
    "duration": 284,
    "start_time": "2023-05-18T07:37:39.318Z"
   },
   {
    "duration": 103,
    "start_time": "2023-05-18T07:49:44.674Z"
   },
   {
    "duration": 1190,
    "start_time": "2023-05-21T07:47:24.634Z"
   },
   {
    "duration": 71,
    "start_time": "2023-05-21T07:47:25.826Z"
   },
   {
    "duration": 13,
    "start_time": "2023-05-21T07:47:25.898Z"
   },
   {
    "duration": 4,
    "start_time": "2023-05-21T07:47:25.913Z"
   },
   {
    "duration": 6,
    "start_time": "2023-05-21T07:47:25.919Z"
   },
   {
    "duration": 105,
    "start_time": "2023-05-21T07:47:25.926Z"
   },
   {
    "duration": 5,
    "start_time": "2023-05-21T07:47:26.032Z"
   },
   {
    "duration": 5,
    "start_time": "2023-05-21T07:47:26.038Z"
   },
   {
    "duration": 6,
    "start_time": "2023-05-21T07:47:26.044Z"
   },
   {
    "duration": 8,
    "start_time": "2023-05-21T07:47:26.052Z"
   },
   {
    "duration": 12,
    "start_time": "2023-05-21T07:47:26.061Z"
   },
   {
    "duration": 20,
    "start_time": "2023-05-21T07:47:26.080Z"
   },
   {
    "duration": 12,
    "start_time": "2023-05-21T07:47:26.102Z"
   },
   {
    "duration": 59,
    "start_time": "2023-05-21T07:47:26.116Z"
   },
   {
    "duration": 5,
    "start_time": "2023-05-21T07:47:26.177Z"
   },
   {
    "duration": 10,
    "start_time": "2023-05-21T07:47:26.184Z"
   },
   {
    "duration": 16,
    "start_time": "2023-05-21T07:47:26.196Z"
   },
   {
    "duration": 6,
    "start_time": "2023-05-21T07:47:26.214Z"
   },
   {
    "duration": 11,
    "start_time": "2023-05-21T07:47:26.221Z"
   },
   {
    "duration": 8,
    "start_time": "2023-05-21T07:47:26.234Z"
   },
   {
    "duration": 8,
    "start_time": "2023-05-21T07:47:26.244Z"
   },
   {
    "duration": 24,
    "start_time": "2023-05-21T07:47:26.254Z"
   },
   {
    "duration": 12,
    "start_time": "2023-05-21T07:47:26.280Z"
   },
   {
    "duration": 5,
    "start_time": "2023-05-21T07:47:26.294Z"
   },
   {
    "duration": 13,
    "start_time": "2023-05-21T07:47:26.301Z"
   },
   {
    "duration": 6,
    "start_time": "2023-05-21T07:47:26.315Z"
   },
   {
    "duration": 4,
    "start_time": "2023-05-21T07:47:26.322Z"
   },
   {
    "duration": 6,
    "start_time": "2023-05-21T07:47:26.330Z"
   },
   {
    "duration": 38,
    "start_time": "2023-05-21T07:47:26.337Z"
   },
   {
    "duration": 10,
    "start_time": "2023-05-21T07:47:26.377Z"
   },
   {
    "duration": 7,
    "start_time": "2023-05-21T07:47:26.389Z"
   },
   {
    "duration": 7,
    "start_time": "2023-05-21T07:47:26.397Z"
   },
   {
    "duration": 18,
    "start_time": "2023-05-21T07:47:26.405Z"
   },
   {
    "duration": 4,
    "start_time": "2023-05-21T07:47:26.425Z"
   },
   {
    "duration": 5,
    "start_time": "2023-05-21T07:47:26.430Z"
   },
   {
    "duration": 6,
    "start_time": "2023-05-21T07:47:26.436Z"
   },
   {
    "duration": 4,
    "start_time": "2023-05-21T07:47:26.444Z"
   },
   {
    "duration": 517,
    "start_time": "2023-05-21T07:47:26.450Z"
   },
   {
    "duration": 184,
    "start_time": "2023-05-21T07:47:26.969Z"
   },
   {
    "duration": 338,
    "start_time": "2023-05-21T07:47:27.155Z"
   },
   {
    "duration": 6,
    "start_time": "2023-05-21T07:47:27.494Z"
   },
   {
    "duration": 187,
    "start_time": "2023-05-21T07:47:27.502Z"
   },
   {
    "duration": 256,
    "start_time": "2023-05-21T07:47:27.691Z"
   },
   {
    "duration": 7,
    "start_time": "2023-05-21T07:47:27.949Z"
   },
   {
    "duration": 156,
    "start_time": "2023-05-21T07:47:27.958Z"
   },
   {
    "duration": 4,
    "start_time": "2023-05-21T07:47:28.115Z"
   },
   {
    "duration": 133,
    "start_time": "2023-05-21T07:47:28.120Z"
   },
   {
    "duration": 3,
    "start_time": "2023-05-21T07:47:28.255Z"
   },
   {
    "duration": 241,
    "start_time": "2023-05-21T07:47:28.260Z"
   },
   {
    "duration": 147,
    "start_time": "2023-05-21T07:47:28.502Z"
   },
   {
    "duration": 9,
    "start_time": "2023-05-21T07:47:28.651Z"
   },
   {
    "duration": 19,
    "start_time": "2023-05-21T07:47:28.661Z"
   },
   {
    "duration": 6,
    "start_time": "2023-05-21T07:47:28.681Z"
   },
   {
    "duration": 8,
    "start_time": "2023-05-21T07:47:28.688Z"
   },
   {
    "duration": 26,
    "start_time": "2023-05-21T07:47:28.698Z"
   },
   {
    "duration": 13,
    "start_time": "2023-05-21T07:47:28.725Z"
   },
   {
    "duration": 4,
    "start_time": "2023-05-21T07:47:28.739Z"
   },
   {
    "duration": 338,
    "start_time": "2023-05-21T07:47:28.744Z"
   },
   {
    "duration": 236,
    "start_time": "2023-05-21T07:47:29.083Z"
   },
   {
    "duration": 1063,
    "start_time": "2023-05-21T07:49:10.665Z"
   },
   {
    "duration": 28,
    "start_time": "2023-05-21T07:49:11.731Z"
   },
   {
    "duration": 16,
    "start_time": "2023-05-21T07:49:11.761Z"
   },
   {
    "duration": 3,
    "start_time": "2023-05-21T07:49:11.778Z"
   },
   {
    "duration": 5,
    "start_time": "2023-05-21T07:49:11.783Z"
   },
   {
    "duration": 43,
    "start_time": "2023-05-21T07:49:11.789Z"
   },
   {
    "duration": 7,
    "start_time": "2023-05-21T07:49:11.834Z"
   },
   {
    "duration": 4,
    "start_time": "2023-05-21T07:49:11.842Z"
   },
   {
    "duration": 8,
    "start_time": "2023-05-21T07:49:11.847Z"
   },
   {
    "duration": 6,
    "start_time": "2023-05-21T07:49:11.858Z"
   },
   {
    "duration": 9,
    "start_time": "2023-05-21T07:49:11.865Z"
   },
   {
    "duration": 7,
    "start_time": "2023-05-21T07:49:11.876Z"
   },
   {
    "duration": 14,
    "start_time": "2023-05-21T07:49:11.884Z"
   },
   {
    "duration": 17,
    "start_time": "2023-05-21T07:49:11.899Z"
   },
   {
    "duration": 6,
    "start_time": "2023-05-21T07:49:11.917Z"
   },
   {
    "duration": 6,
    "start_time": "2023-05-21T07:49:11.925Z"
   },
   {
    "duration": 11,
    "start_time": "2023-05-21T07:49:11.932Z"
   },
   {
    "duration": 13,
    "start_time": "2023-05-21T07:49:11.944Z"
   },
   {
    "duration": 17,
    "start_time": "2023-05-21T07:49:11.958Z"
   },
   {
    "duration": 3,
    "start_time": "2023-05-21T07:49:11.977Z"
   },
   {
    "duration": 10,
    "start_time": "2023-05-21T07:49:11.982Z"
   },
   {
    "duration": 9,
    "start_time": "2023-05-21T07:49:11.993Z"
   },
   {
    "duration": 9,
    "start_time": "2023-05-21T07:49:12.004Z"
   },
   {
    "duration": 6,
    "start_time": "2023-05-21T07:49:12.014Z"
   },
   {
    "duration": 10,
    "start_time": "2023-05-21T07:49:12.021Z"
   },
   {
    "duration": 4,
    "start_time": "2023-05-21T07:49:12.033Z"
   },
   {
    "duration": 38,
    "start_time": "2023-05-21T07:49:12.039Z"
   },
   {
    "duration": 7,
    "start_time": "2023-05-21T07:49:12.080Z"
   },
   {
    "duration": 26,
    "start_time": "2023-05-21T07:49:12.088Z"
   },
   {
    "duration": 10,
    "start_time": "2023-05-21T07:49:12.116Z"
   },
   {
    "duration": 7,
    "start_time": "2023-05-21T07:49:12.127Z"
   },
   {
    "duration": 5,
    "start_time": "2023-05-21T07:49:12.136Z"
   },
   {
    "duration": 12,
    "start_time": "2023-05-21T07:49:12.142Z"
   },
   {
    "duration": 6,
    "start_time": "2023-05-21T07:49:12.155Z"
   },
   {
    "duration": 13,
    "start_time": "2023-05-21T07:49:12.162Z"
   },
   {
    "duration": 8,
    "start_time": "2023-05-21T07:49:12.176Z"
   },
   {
    "duration": 9,
    "start_time": "2023-05-21T07:49:12.186Z"
   },
   {
    "duration": 499,
    "start_time": "2023-05-21T07:49:12.196Z"
   },
   {
    "duration": 166,
    "start_time": "2023-05-21T07:49:12.697Z"
   },
   {
    "duration": 287,
    "start_time": "2023-05-21T07:49:12.865Z"
   },
   {
    "duration": 6,
    "start_time": "2023-05-21T07:49:13.153Z"
   },
   {
    "duration": 182,
    "start_time": "2023-05-21T07:49:13.160Z"
   },
   {
    "duration": 292,
    "start_time": "2023-05-21T07:49:13.343Z"
   },
   {
    "duration": 6,
    "start_time": "2023-05-21T07:49:13.637Z"
   },
   {
    "duration": 138,
    "start_time": "2023-05-21T07:49:13.644Z"
   },
   {
    "duration": 4,
    "start_time": "2023-05-21T07:49:13.783Z"
   },
   {
    "duration": 125,
    "start_time": "2023-05-21T07:49:13.789Z"
   },
   {
    "duration": 5,
    "start_time": "2023-05-21T07:49:13.916Z"
   },
   {
    "duration": 266,
    "start_time": "2023-05-21T07:49:13.923Z"
   },
   {
    "duration": 145,
    "start_time": "2023-05-21T07:49:14.191Z"
   },
   {
    "duration": 9,
    "start_time": "2023-05-21T07:49:14.337Z"
   },
   {
    "duration": 27,
    "start_time": "2023-05-21T07:49:14.348Z"
   },
   {
    "duration": 4,
    "start_time": "2023-05-21T07:49:14.376Z"
   },
   {
    "duration": 7,
    "start_time": "2023-05-21T07:49:14.381Z"
   },
   {
    "duration": 21,
    "start_time": "2023-05-21T07:49:14.390Z"
   },
   {
    "duration": 11,
    "start_time": "2023-05-21T07:49:14.413Z"
   },
   {
    "duration": 3,
    "start_time": "2023-05-21T07:49:14.426Z"
   },
   {
    "duration": 331,
    "start_time": "2023-05-21T07:49:14.430Z"
   },
   {
    "duration": 242,
    "start_time": "2023-05-21T07:49:14.762Z"
   },
   {
    "duration": 1068,
    "start_time": "2023-05-21T07:51:22.777Z"
   },
   {
    "duration": 26,
    "start_time": "2023-05-21T07:51:23.847Z"
   },
   {
    "duration": 11,
    "start_time": "2023-05-21T07:51:23.875Z"
   },
   {
    "duration": 10,
    "start_time": "2023-05-21T07:51:23.888Z"
   },
   {
    "duration": 7,
    "start_time": "2023-05-21T07:51:23.899Z"
   },
   {
    "duration": 40,
    "start_time": "2023-05-21T07:51:23.907Z"
   },
   {
    "duration": 10,
    "start_time": "2023-05-21T07:51:23.948Z"
   },
   {
    "duration": 6,
    "start_time": "2023-05-21T07:51:23.960Z"
   },
   {
    "duration": 11,
    "start_time": "2023-05-21T07:51:23.969Z"
   },
   {
    "duration": 14,
    "start_time": "2023-05-21T07:51:23.983Z"
   },
   {
    "duration": 12,
    "start_time": "2023-05-21T07:51:23.998Z"
   },
   {
    "duration": 14,
    "start_time": "2023-05-21T07:51:24.012Z"
   },
   {
    "duration": 18,
    "start_time": "2023-05-21T07:51:24.027Z"
   },
   {
    "duration": 33,
    "start_time": "2023-05-21T07:51:24.047Z"
   },
   {
    "duration": 8,
    "start_time": "2023-05-21T07:51:24.082Z"
   },
   {
    "duration": 20,
    "start_time": "2023-05-21T07:51:24.092Z"
   },
   {
    "duration": 31,
    "start_time": "2023-05-21T07:51:24.113Z"
   },
   {
    "duration": 8,
    "start_time": "2023-05-21T07:51:24.146Z"
   },
   {
    "duration": 14,
    "start_time": "2023-05-21T07:51:24.156Z"
   },
   {
    "duration": 6,
    "start_time": "2023-05-21T07:51:24.171Z"
   },
   {
    "duration": 9,
    "start_time": "2023-05-21T07:51:24.179Z"
   },
   {
    "duration": 7,
    "start_time": "2023-05-21T07:51:24.190Z"
   },
   {
    "duration": 11,
    "start_time": "2023-05-21T07:51:24.199Z"
   },
   {
    "duration": 6,
    "start_time": "2023-05-21T07:51:24.212Z"
   },
   {
    "duration": 11,
    "start_time": "2023-05-21T07:51:24.220Z"
   },
   {
    "duration": 4,
    "start_time": "2023-05-21T07:51:24.233Z"
   },
   {
    "duration": 39,
    "start_time": "2023-05-21T07:51:24.239Z"
   },
   {
    "duration": 5,
    "start_time": "2023-05-21T07:51:24.281Z"
   },
   {
    "duration": 5,
    "start_time": "2023-05-21T07:51:24.287Z"
   },
   {
    "duration": 11,
    "start_time": "2023-05-21T07:51:24.294Z"
   },
   {
    "duration": 7,
    "start_time": "2023-05-21T07:51:24.307Z"
   },
   {
    "duration": 6,
    "start_time": "2023-05-21T07:51:24.316Z"
   },
   {
    "duration": 11,
    "start_time": "2023-05-21T07:51:24.323Z"
   },
   {
    "duration": 4,
    "start_time": "2023-05-21T07:51:24.335Z"
   },
   {
    "duration": 34,
    "start_time": "2023-05-21T07:51:24.341Z"
   },
   {
    "duration": 7,
    "start_time": "2023-05-21T07:51:24.377Z"
   },
   {
    "duration": 5,
    "start_time": "2023-05-21T07:51:24.385Z"
   },
   {
    "duration": 543,
    "start_time": "2023-05-21T07:51:24.392Z"
   },
   {
    "duration": 199,
    "start_time": "2023-05-21T07:51:24.937Z"
   },
   {
    "duration": 293,
    "start_time": "2023-05-21T07:51:25.138Z"
   },
   {
    "duration": 6,
    "start_time": "2023-05-21T07:51:25.433Z"
   },
   {
    "duration": 185,
    "start_time": "2023-05-21T07:51:25.441Z"
   },
   {
    "duration": 227,
    "start_time": "2023-05-21T07:51:25.628Z"
   },
   {
    "duration": 25,
    "start_time": "2023-05-21T07:51:25.856Z"
   },
   {
    "duration": 139,
    "start_time": "2023-05-21T07:51:25.883Z"
   },
   {
    "duration": 5,
    "start_time": "2023-05-21T07:51:26.024Z"
   },
   {
    "duration": 144,
    "start_time": "2023-05-21T07:51:26.031Z"
   },
   {
    "duration": 4,
    "start_time": "2023-05-21T07:51:26.177Z"
   },
   {
    "duration": 231,
    "start_time": "2023-05-21T07:51:26.183Z"
   },
   {
    "duration": 296,
    "start_time": "2023-05-21T07:51:26.416Z"
   },
   {
    "duration": 62,
    "start_time": "2023-05-21T07:51:26.713Z"
   },
   {
    "duration": 8,
    "start_time": "2023-05-21T07:51:26.777Z"
   },
   {
    "duration": 6,
    "start_time": "2023-05-21T07:51:26.786Z"
   },
   {
    "duration": 7,
    "start_time": "2023-05-21T07:51:26.793Z"
   },
   {
    "duration": 73,
    "start_time": "2023-05-21T07:51:26.802Z"
   },
   {
    "duration": 12,
    "start_time": "2023-05-21T07:51:26.877Z"
   },
   {
    "duration": 3,
    "start_time": "2023-05-21T07:51:26.891Z"
   },
   {
    "duration": 609,
    "start_time": "2023-05-21T07:51:26.895Z"
   },
   {
    "duration": 496,
    "start_time": "2023-05-21T07:51:27.506Z"
   },
   {
    "duration": 1152,
    "start_time": "2023-05-21T07:51:53.353Z"
   },
   {
    "duration": 27,
    "start_time": "2023-05-21T07:51:54.507Z"
   },
   {
    "duration": 13,
    "start_time": "2023-05-21T07:51:54.535Z"
   },
   {
    "duration": 3,
    "start_time": "2023-05-21T07:51:54.550Z"
   },
   {
    "duration": 6,
    "start_time": "2023-05-21T07:51:54.554Z"
   },
   {
    "duration": 40,
    "start_time": "2023-05-21T07:51:54.562Z"
   },
   {
    "duration": 7,
    "start_time": "2023-05-21T07:51:54.604Z"
   },
   {
    "duration": 3,
    "start_time": "2023-05-21T07:51:54.612Z"
   },
   {
    "duration": 10,
    "start_time": "2023-05-21T07:51:54.617Z"
   },
   {
    "duration": 6,
    "start_time": "2023-05-21T07:51:54.630Z"
   },
   {
    "duration": 10,
    "start_time": "2023-05-21T07:51:54.637Z"
   },
   {
    "duration": 7,
    "start_time": "2023-05-21T07:51:54.649Z"
   },
   {
    "duration": 15,
    "start_time": "2023-05-21T07:51:54.658Z"
   },
   {
    "duration": 15,
    "start_time": "2023-05-21T07:51:54.675Z"
   },
   {
    "duration": 6,
    "start_time": "2023-05-21T07:51:54.692Z"
   },
   {
    "duration": 3,
    "start_time": "2023-05-21T07:51:54.700Z"
   },
   {
    "duration": 10,
    "start_time": "2023-05-21T07:51:54.705Z"
   },
   {
    "duration": 8,
    "start_time": "2023-05-21T07:51:54.717Z"
   },
   {
    "duration": 10,
    "start_time": "2023-05-21T07:51:54.726Z"
   },
   {
    "duration": 3,
    "start_time": "2023-05-21T07:51:54.738Z"
   },
   {
    "duration": 8,
    "start_time": "2023-05-21T07:51:54.743Z"
   },
   {
    "duration": 6,
    "start_time": "2023-05-21T07:51:54.774Z"
   },
   {
    "duration": 9,
    "start_time": "2023-05-21T07:51:54.782Z"
   },
   {
    "duration": 28,
    "start_time": "2023-05-21T07:51:54.793Z"
   },
   {
    "duration": 18,
    "start_time": "2023-05-21T07:51:54.823Z"
   },
   {
    "duration": 10,
    "start_time": "2023-05-21T07:51:54.842Z"
   },
   {
    "duration": 13,
    "start_time": "2023-05-21T07:51:54.854Z"
   },
   {
    "duration": 6,
    "start_time": "2023-05-21T07:51:54.872Z"
   },
   {
    "duration": 6,
    "start_time": "2023-05-21T07:51:54.880Z"
   },
   {
    "duration": 7,
    "start_time": "2023-05-21T07:51:54.888Z"
   },
   {
    "duration": 10,
    "start_time": "2023-05-21T07:51:54.896Z"
   },
   {
    "duration": 12,
    "start_time": "2023-05-21T07:51:54.908Z"
   },
   {
    "duration": 14,
    "start_time": "2023-05-21T07:51:54.922Z"
   },
   {
    "duration": 13,
    "start_time": "2023-05-21T07:51:54.937Z"
   },
   {
    "duration": 9,
    "start_time": "2023-05-21T07:51:54.951Z"
   },
   {
    "duration": 14,
    "start_time": "2023-05-21T07:51:54.962Z"
   },
   {
    "duration": 5,
    "start_time": "2023-05-21T07:51:54.977Z"
   },
   {
    "duration": 546,
    "start_time": "2023-05-21T07:51:54.984Z"
   },
   {
    "duration": 181,
    "start_time": "2023-05-21T07:51:55.532Z"
   },
   {
    "duration": 264,
    "start_time": "2023-05-21T07:51:55.715Z"
   },
   {
    "duration": 7,
    "start_time": "2023-05-21T07:51:55.980Z"
   },
   {
    "duration": 187,
    "start_time": "2023-05-21T07:51:55.988Z"
   },
   {
    "duration": 271,
    "start_time": "2023-05-21T07:51:56.176Z"
   },
   {
    "duration": 5,
    "start_time": "2023-05-21T07:51:56.449Z"
   },
   {
    "duration": 139,
    "start_time": "2023-05-21T07:51:56.456Z"
   },
   {
    "duration": 3,
    "start_time": "2023-05-21T07:51:56.597Z"
   },
   {
    "duration": 129,
    "start_time": "2023-05-21T07:51:56.602Z"
   },
   {
    "duration": 4,
    "start_time": "2023-05-21T07:51:56.733Z"
   },
   {
    "duration": 338,
    "start_time": "2023-05-21T07:51:56.739Z"
   },
   {
    "duration": 300,
    "start_time": "2023-05-21T07:51:57.079Z"
   },
   {
    "duration": 10,
    "start_time": "2023-05-21T07:51:57.380Z"
   },
   {
    "duration": 8,
    "start_time": "2023-05-21T07:51:57.391Z"
   },
   {
    "duration": 4,
    "start_time": "2023-05-21T07:51:57.401Z"
   },
   {
    "duration": 7,
    "start_time": "2023-05-21T07:51:57.406Z"
   },
   {
    "duration": 79,
    "start_time": "2023-05-21T07:51:57.415Z"
   },
   {
    "duration": 13,
    "start_time": "2023-05-21T07:51:57.496Z"
   },
   {
    "duration": 3,
    "start_time": "2023-05-21T07:51:57.511Z"
   },
   {
    "duration": 703,
    "start_time": "2023-05-21T07:51:57.516Z"
   },
   {
    "duration": 498,
    "start_time": "2023-05-21T07:51:58.220Z"
   },
   {
    "duration": 1107,
    "start_time": "2023-05-21T07:52:15.215Z"
   },
   {
    "duration": 35,
    "start_time": "2023-05-21T07:52:16.324Z"
   },
   {
    "duration": 12,
    "start_time": "2023-05-21T07:52:16.361Z"
   },
   {
    "duration": 5,
    "start_time": "2023-05-21T07:52:16.375Z"
   },
   {
    "duration": 7,
    "start_time": "2023-05-21T07:52:16.381Z"
   },
   {
    "duration": 42,
    "start_time": "2023-05-21T07:52:16.390Z"
   },
   {
    "duration": 7,
    "start_time": "2023-05-21T07:52:16.433Z"
   },
   {
    "duration": 7,
    "start_time": "2023-05-21T07:52:16.442Z"
   },
   {
    "duration": 8,
    "start_time": "2023-05-21T07:52:16.450Z"
   },
   {
    "duration": 6,
    "start_time": "2023-05-21T07:52:16.461Z"
   },
   {
    "duration": 11,
    "start_time": "2023-05-21T07:52:16.469Z"
   },
   {
    "duration": 9,
    "start_time": "2023-05-21T07:52:16.482Z"
   },
   {
    "duration": 13,
    "start_time": "2023-05-21T07:52:16.493Z"
   },
   {
    "duration": 18,
    "start_time": "2023-05-21T07:52:16.507Z"
   },
   {
    "duration": 8,
    "start_time": "2023-05-21T07:52:16.526Z"
   },
   {
    "duration": 5,
    "start_time": "2023-05-21T07:52:16.536Z"
   },
   {
    "duration": 14,
    "start_time": "2023-05-21T07:52:16.542Z"
   },
   {
    "duration": 19,
    "start_time": "2023-05-21T07:52:16.558Z"
   },
   {
    "duration": 10,
    "start_time": "2023-05-21T07:52:16.579Z"
   },
   {
    "duration": 8,
    "start_time": "2023-05-21T07:52:16.590Z"
   },
   {
    "duration": 9,
    "start_time": "2023-05-21T07:52:16.600Z"
   },
   {
    "duration": 9,
    "start_time": "2023-05-21T07:52:16.611Z"
   },
   {
    "duration": 15,
    "start_time": "2023-05-21T07:52:16.622Z"
   },
   {
    "duration": 8,
    "start_time": "2023-05-21T07:52:16.639Z"
   },
   {
    "duration": 27,
    "start_time": "2023-05-21T07:52:16.649Z"
   },
   {
    "duration": 4,
    "start_time": "2023-05-21T07:52:16.678Z"
   },
   {
    "duration": 8,
    "start_time": "2023-05-21T07:52:16.684Z"
   },
   {
    "duration": 4,
    "start_time": "2023-05-21T07:52:16.696Z"
   },
   {
    "duration": 7,
    "start_time": "2023-05-21T07:52:16.702Z"
   },
   {
    "duration": 7,
    "start_time": "2023-05-21T07:52:16.710Z"
   },
   {
    "duration": 6,
    "start_time": "2023-05-21T07:52:16.719Z"
   },
   {
    "duration": 7,
    "start_time": "2023-05-21T07:52:16.727Z"
   },
   {
    "duration": 12,
    "start_time": "2023-05-21T07:52:16.736Z"
   },
   {
    "duration": 29,
    "start_time": "2023-05-21T07:52:16.749Z"
   },
   {
    "duration": 6,
    "start_time": "2023-05-21T07:52:16.779Z"
   },
   {
    "duration": 9,
    "start_time": "2023-05-21T07:52:16.786Z"
   },
   {
    "duration": 5,
    "start_time": "2023-05-21T07:52:16.797Z"
   },
   {
    "duration": 520,
    "start_time": "2023-05-21T07:52:16.803Z"
   },
   {
    "duration": 186,
    "start_time": "2023-05-21T07:52:17.324Z"
   },
   {
    "duration": 264,
    "start_time": "2023-05-21T07:52:17.511Z"
   },
   {
    "duration": 6,
    "start_time": "2023-05-21T07:52:17.776Z"
   },
   {
    "duration": 179,
    "start_time": "2023-05-21T07:52:17.783Z"
   },
   {
    "duration": 318,
    "start_time": "2023-05-21T07:52:17.963Z"
   },
   {
    "duration": 6,
    "start_time": "2023-05-21T07:52:18.283Z"
   },
   {
    "duration": 309,
    "start_time": "2023-05-21T07:52:18.290Z"
   },
   {
    "duration": 3,
    "start_time": "2023-05-21T07:52:18.601Z"
   },
   {
    "duration": 276,
    "start_time": "2023-05-21T07:52:18.606Z"
   },
   {
    "duration": 4,
    "start_time": "2023-05-21T07:52:18.884Z"
   },
   {
    "duration": 407,
    "start_time": "2023-05-21T07:52:18.890Z"
   },
   {
    "duration": 378,
    "start_time": "2023-05-21T07:52:19.299Z"
   },
   {
    "duration": 9,
    "start_time": "2023-05-21T07:52:19.679Z"
   },
   {
    "duration": 13,
    "start_time": "2023-05-21T07:52:19.689Z"
   },
   {
    "duration": 6,
    "start_time": "2023-05-21T07:52:19.703Z"
   },
   {
    "duration": 10,
    "start_time": "2023-05-21T07:52:19.710Z"
   },
   {
    "duration": 27,
    "start_time": "2023-05-21T07:52:19.774Z"
   },
   {
    "duration": 13,
    "start_time": "2023-05-21T07:52:19.802Z"
   },
   {
    "duration": 4,
    "start_time": "2023-05-21T07:52:19.816Z"
   },
   {
    "duration": 416,
    "start_time": "2023-05-21T07:52:19.876Z"
   },
   {
    "duration": 243,
    "start_time": "2023-05-21T07:52:20.293Z"
   },
   {
    "duration": 398,
    "start_time": "2023-05-21T07:54:56.688Z"
   },
   {
    "duration": 414,
    "start_time": "2023-05-21T07:55:36.673Z"
   },
   {
    "duration": 462,
    "start_time": "2023-05-21T08:26:41.754Z"
   },
   {
    "duration": 436,
    "start_time": "2023-05-21T08:29:44.173Z"
   },
   {
    "duration": 427,
    "start_time": "2023-05-21T08:29:55.092Z"
   },
   {
    "duration": 421,
    "start_time": "2023-05-21T08:30:07.210Z"
   },
   {
    "duration": 476,
    "start_time": "2023-05-21T08:32:09.015Z"
   },
   {
    "duration": 470,
    "start_time": "2023-05-21T08:32:20.208Z"
   },
   {
    "duration": 492,
    "start_time": "2023-05-21T08:32:56.279Z"
   },
   {
    "duration": 193,
    "start_time": "2023-05-21T08:43:10.866Z"
   },
   {
    "duration": 243,
    "start_time": "2023-05-21T08:43:31.661Z"
   },
   {
    "duration": 306,
    "start_time": "2023-05-21T08:43:46.578Z"
   },
   {
    "duration": 303,
    "start_time": "2023-05-21T08:45:32.864Z"
   },
   {
    "duration": 336,
    "start_time": "2023-05-21T08:47:42.758Z"
   },
   {
    "duration": 253,
    "start_time": "2023-05-21T08:49:47.570Z"
   },
   {
    "duration": 332,
    "start_time": "2023-05-21T08:51:52.886Z"
   },
   {
    "duration": 122,
    "start_time": "2023-05-21T08:52:30.979Z"
   },
   {
    "duration": 118,
    "start_time": "2023-05-21T09:13:11.802Z"
   },
   {
    "duration": 223,
    "start_time": "2023-05-21T09:15:24.813Z"
   },
   {
    "duration": 245,
    "start_time": "2023-05-21T09:15:33.312Z"
   },
   {
    "duration": 172,
    "start_time": "2023-05-21T09:17:37.868Z"
   },
   {
    "duration": 151,
    "start_time": "2023-05-21T09:18:50.871Z"
   },
   {
    "duration": 164,
    "start_time": "2023-05-21T09:18:59.803Z"
   },
   {
    "duration": 14,
    "start_time": "2023-05-21T09:19:36.866Z"
   },
   {
    "duration": 9,
    "start_time": "2023-05-21T09:20:17.922Z"
   },
   {
    "duration": 4,
    "start_time": "2023-05-21T09:20:35.504Z"
   },
   {
    "duration": 1062,
    "start_time": "2023-05-21T09:20:58.664Z"
   },
   {
    "duration": 28,
    "start_time": "2023-05-21T09:20:59.728Z"
   },
   {
    "duration": 11,
    "start_time": "2023-05-21T09:20:59.757Z"
   },
   {
    "duration": 2,
    "start_time": "2023-05-21T09:20:59.770Z"
   },
   {
    "duration": 6,
    "start_time": "2023-05-21T09:20:59.774Z"
   },
   {
    "duration": 39,
    "start_time": "2023-05-21T09:20:59.782Z"
   },
   {
    "duration": 8,
    "start_time": "2023-05-21T09:20:59.822Z"
   },
   {
    "duration": 4,
    "start_time": "2023-05-21T09:20:59.831Z"
   },
   {
    "duration": 8,
    "start_time": "2023-05-21T09:20:59.836Z"
   },
   {
    "duration": 5,
    "start_time": "2023-05-21T09:20:59.847Z"
   },
   {
    "duration": 10,
    "start_time": "2023-05-21T09:20:59.853Z"
   },
   {
    "duration": 4,
    "start_time": "2023-05-21T09:20:59.865Z"
   },
   {
    "duration": 27,
    "start_time": "2023-05-21T09:20:59.870Z"
   },
   {
    "duration": 17,
    "start_time": "2023-05-21T09:20:59.899Z"
   },
   {
    "duration": 8,
    "start_time": "2023-05-21T09:20:59.918Z"
   },
   {
    "duration": 4,
    "start_time": "2023-05-21T09:20:59.927Z"
   },
   {
    "duration": 9,
    "start_time": "2023-05-21T09:20:59.933Z"
   },
   {
    "duration": 5,
    "start_time": "2023-05-21T09:20:59.944Z"
   },
   {
    "duration": 10,
    "start_time": "2023-05-21T09:20:59.950Z"
   },
   {
    "duration": 3,
    "start_time": "2023-05-21T09:20:59.961Z"
   },
   {
    "duration": 7,
    "start_time": "2023-05-21T09:20:59.975Z"
   },
   {
    "duration": 5,
    "start_time": "2023-05-21T09:20:59.983Z"
   },
   {
    "duration": 8,
    "start_time": "2023-05-21T09:20:59.990Z"
   },
   {
    "duration": 4,
    "start_time": "2023-05-21T09:21:00.000Z"
   },
   {
    "duration": 14,
    "start_time": "2023-05-21T09:21:00.006Z"
   },
   {
    "duration": 5,
    "start_time": "2023-05-21T09:21:00.022Z"
   },
   {
    "duration": 7,
    "start_time": "2023-05-21T09:21:00.028Z"
   },
   {
    "duration": 36,
    "start_time": "2023-05-21T09:21:00.039Z"
   },
   {
    "duration": 12,
    "start_time": "2023-05-21T09:21:00.077Z"
   },
   {
    "duration": 24,
    "start_time": "2023-05-21T09:21:00.090Z"
   },
   {
    "duration": 35,
    "start_time": "2023-05-21T09:21:00.116Z"
   },
   {
    "duration": 14,
    "start_time": "2023-05-21T09:21:00.152Z"
   },
   {
    "duration": 14,
    "start_time": "2023-05-21T09:21:00.168Z"
   },
   {
    "duration": 16,
    "start_time": "2023-05-21T09:21:00.184Z"
   },
   {
    "duration": 23,
    "start_time": "2023-05-21T09:21:00.202Z"
   },
   {
    "duration": 34,
    "start_time": "2023-05-21T09:21:00.226Z"
   },
   {
    "duration": 32,
    "start_time": "2023-05-21T09:21:00.262Z"
   },
   {
    "duration": 602,
    "start_time": "2023-05-21T09:21:00.296Z"
   },
   {
    "duration": 249,
    "start_time": "2023-05-21T09:21:00.901Z"
   },
   {
    "duration": 349,
    "start_time": "2023-05-21T09:21:01.151Z"
   },
   {
    "duration": 6,
    "start_time": "2023-05-21T09:21:01.502Z"
   },
   {
    "duration": 299,
    "start_time": "2023-05-21T09:21:01.509Z"
   },
   {
    "duration": 355,
    "start_time": "2023-05-21T09:21:01.810Z"
   },
   {
    "duration": 12,
    "start_time": "2023-05-21T09:21:02.166Z"
   },
   {
    "duration": 142,
    "start_time": "2023-05-21T09:21:02.179Z"
   },
   {
    "duration": 4,
    "start_time": "2023-05-21T09:21:02.322Z"
   },
   {
    "duration": 127,
    "start_time": "2023-05-21T09:21:02.327Z"
   },
   {
    "duration": 4,
    "start_time": "2023-05-21T09:21:02.455Z"
   },
   {
    "duration": 239,
    "start_time": "2023-05-21T09:21:02.461Z"
   },
   {
    "duration": 147,
    "start_time": "2023-05-21T09:21:02.701Z"
   },
   {
    "duration": 10,
    "start_time": "2023-05-21T09:21:02.850Z"
   },
   {
    "duration": 9,
    "start_time": "2023-05-21T09:21:02.874Z"
   },
   {
    "duration": 23,
    "start_time": "2023-05-21T09:21:02.885Z"
   },
   {
    "duration": 14,
    "start_time": "2023-05-21T09:21:02.910Z"
   },
   {
    "duration": 21,
    "start_time": "2023-05-21T09:21:02.925Z"
   },
   {
    "duration": 12,
    "start_time": "2023-05-21T09:21:02.948Z"
   },
   {
    "duration": 5,
    "start_time": "2023-05-21T09:21:02.974Z"
   },
   {
    "duration": 330,
    "start_time": "2023-05-21T09:21:02.981Z"
   },
   {
    "duration": 248,
    "start_time": "2023-05-21T09:21:03.312Z"
   },
   {
    "duration": 21,
    "start_time": "2023-05-21T09:25:50.754Z"
   },
   {
    "duration": 14,
    "start_time": "2023-05-21T09:26:22.520Z"
   },
   {
    "duration": 208,
    "start_time": "2023-05-21T09:27:25.858Z"
   },
   {
    "duration": 256,
    "start_time": "2023-05-21T09:28:38.592Z"
   }
  ],
  "kernelspec": {
   "display_name": "Python 3 (ipykernel)",
   "language": "python",
   "name": "python3"
  },
  "language_info": {
   "codemirror_mode": {
    "name": "ipython",
    "version": 3
   },
   "file_extension": ".py",
   "mimetype": "text/x-python",
   "name": "python",
   "nbconvert_exporter": "python",
   "pygments_lexer": "ipython3",
   "version": "3.9.16"
  },
  "toc": {
   "base_numbering": 1,
   "nav_menu": {},
   "number_sections": true,
   "sideBar": true,
   "skip_h1_title": true,
   "title_cell": "Table of Contents",
   "title_sidebar": "Contents",
   "toc_cell": false,
   "toc_position": {
    "height": "calc(100% - 180px)",
    "left": "10px",
    "top": "150px",
    "width": "279.965px"
   },
   "toc_section_display": true,
   "toc_window_display": true
  }
 },
 "nbformat": 4,
 "nbformat_minor": 2
}
