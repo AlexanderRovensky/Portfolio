{
 "cells": [
  {
   "cell_type": "markdown",
   "id": "bb39e724",
   "metadata": {},
   "source": [
    "# Анализ сервиса вопросов и ответов по программированию"
   ]
  },
  {
   "cell_type": "markdown",
   "id": "b1a9fb42",
   "metadata": {},
   "source": [
    "Найдите количество вопросов, которые набрали больше 300 очков или как минимум 100 раз были добавлены в «Закладки»."
   ]
  },
  {
   "cell_type": "code",
   "execution_count": null,
   "id": "8fdc2586",
   "metadata": {},
   "outputs": [],
   "source": [
    "SELECT COUNT(id)\n",
    "FROM stackoverflow.posts\n",
    "WHERE post_type_id=1 AND (score>300 OR favorites_count>=100 );"
   ]
  },
  {
   "cell_type": "markdown",
   "id": "1c6336c7",
   "metadata": {},
   "source": [
    "Cколько в среднем в день задавали вопросов с 1 по 18 ноября 2008 включительно? Результат округлите до целого числа."
   ]
  },
  {
   "cell_type": "code",
   "execution_count": null,
   "id": "545a550e",
   "metadata": {},
   "outputs": [],
   "source": [
    "WITH posts AS\n",
    "(SELECT creation_date::DATE,\n",
    "        COUNT(id) AS post\n",
    "FROM stackoverflow.posts        \n",
    "WHERE post_type_id=1 AND (creation_date::DATE BETWEEN '2008-11-01' AND '2008-11-18')\n",
    "GROUP BY creation_date::DATE)\n",
    "SELECT ROUND(AVG(post))\n",
    "FROM posts;"
   ]
  },
  {
   "cell_type": "markdown",
   "id": "d07143be",
   "metadata": {},
   "source": [
    "Сколько пользователей получили значки сразу в день регистрации? Выведите количество уникальных пользователей."
   ]
  },
  {
   "cell_type": "code",
   "execution_count": null,
   "id": "f1c4be2d",
   "metadata": {},
   "outputs": [],
   "source": [
    "SELECT COUNT(DISTINCT u.id)\n",
    "FROM stackoverflow.users AS u\n",
    "LEFT JOIN stackoverflow.badges AS b ON b.user_id = u.id\n",
    "WHERE b.creation_date::DATE = u.creation_date::DATE;"
   ]
  },
  {
   "cell_type": "markdown",
   "id": "a255138b",
   "metadata": {},
   "source": [
    "Сколько уникальных постов пользователя с именем Joel Coehoorn получили хотя бы один голос?"
   ]
  },
  {
   "cell_type": "code",
   "execution_count": null,
   "id": "674bafaf",
   "metadata": {},
   "outputs": [],
   "source": [
    "SELECT COUNT(DISTINCT p.id)\n",
    "FROM stackoverflow.users AS u \n",
    "JOIN stackoverflow.posts AS p ON u.id=p.user_id\n",
    "JOIN stackoverflow.votes AS v ON p.id=v.post_id\n",
    "WHERE u.display_name = 'Joel Coehoorn';"
   ]
  },
  {
   "cell_type": "markdown",
   "id": "a2a54c7d",
   "metadata": {},
   "source": [
    "Выгрузите все поля таблицы vote_types. Добавьте к таблице поле rank, в которое войдут номера записей в обратном порядке. Таблица должна быть отсортирована по полю id."
   ]
  },
  {
   "cell_type": "code",
   "execution_count": null,
   "id": "c66cdf79",
   "metadata": {},
   "outputs": [],
   "source": [
    "SELECT *,\n",
    "       ROW_NUMBER() OVER (ORDER BY id DESC) AS rank\n",
    "FROM stackoverflow.vote_types\n",
    "ORDER BY id;"
   ]
  },
  {
   "cell_type": "markdown",
   "id": "9620122c",
   "metadata": {},
   "source": [
    "Отберите 10 пользователей, которые поставили больше всего голосов типа Close. Отобразите таблицу из двух полей: идентификатором пользователя и количеством голосов. Отсортируйте данные сначала по убыванию количества голосов, потом по убыванию значения идентификатора пользователя."
   ]
  },
  {
   "cell_type": "code",
   "execution_count": null,
   "id": "9dce05a3",
   "metadata": {},
   "outputs": [],
   "source": [
    "WITH vvt AS\n",
    "(SELECT *\n",
    "FROM stackoverflow.votes AS v\n",
    "JOIN stackoverflow.vote_types AS vt ON vt.id=v.vote_type_id\n",
    "WHERE vt.name = 'Close')\n",
    "SELECT user_id,\n",
    "       COUNT(user_id) AS total\n",
    "FROM vvt \n",
    "GROUP BY user_id\n",
    "ORDER BY total DESC, user_id DESC\n",
    "LIMIT 10;\n"
   ]
  },
  {
   "cell_type": "markdown",
   "id": "962baad4",
   "metadata": {},
   "source": [
    "Отберите 10 пользователей по количеству значков, полученных в период с 15 ноября по 15 декабря 2008 года включительно.\n",
    "Отобразите несколько полей:\n",
    "идентификатор пользователя;\n",
    "число значков;\n",
    "место в рейтинге — чем больше значков, тем выше рейтинг.\n",
    "Пользователям, которые набрали одинаковое количество значков, присвойте одно и то же место в рейтинге.\n",
    "Отсортируйте записи по количеству значков по убыванию, а затем по возрастанию значения идентификатора пользователя."
   ]
  },
  {
   "cell_type": "code",
   "execution_count": null,
   "id": "43df2ac6",
   "metadata": {},
   "outputs": [],
   "source": [
    "WITH badges AS\n",
    "(SELECT user_id,\n",
    "       COUNT(id) AS total\n",
    "FROM stackoverflow.badges\n",
    "WHERE creation_date::DATE BETWEEN '2008-11-15' AND '2008-12-15'\n",
    "GROUP BY user_id)\n",
    "SELECT *,\n",
    "       DENSE_RANK() OVER (ORDER BY total DESC)\n",
    "FROM badges\n",
    "ORDER BY total DESC, user_id\n",
    "LIMIT 10;"
   ]
  },
  {
   "cell_type": "markdown",
   "id": "96b5fb31",
   "metadata": {},
   "source": [
    "Сколько в среднем очков получает пост каждого пользователя?\n",
    "Сформируйте таблицу из следующих полей:\n",
    "заголовок поста;\n",
    "идентификатор пользователя;\n",
    "число очков поста;\n",
    "среднее число очков пользователя за пост, округлённое до целого числа.\n",
    "Не учитывайте посты без заголовка, а также те, что набрали ноль очков."
   ]
  },
  {
   "cell_type": "code",
   "execution_count": null,
   "id": "be473e64",
   "metadata": {},
   "outputs": [],
   "source": [
    "WITH posts AS\n",
    "(SELECT user_id,\n",
    "       ROUND(AVG(score)) AS mid\n",
    "FROM stackoverflow.posts\n",
    "WHERE score != 0 AND title IS NOT NULL\n",
    "GROUP BY user_id)\n",
    "SELECT posts1.title,\n",
    "       posts1.user_id,\n",
    "       posts1.score,\n",
    "       posts.mid\n",
    "FROM stackoverflow.posts AS posts1\n",
    "JOIN posts ON posts1.user_id = posts.user_id\n",
    "WHERE posts1.score != 0 AND posts1.title IS NOT NULL;"
   ]
  },
  {
   "cell_type": "markdown",
   "id": "a2853a7f",
   "metadata": {},
   "source": [
    "Отобразите заголовки постов, которые были написаны пользователями, получившими более 1000 значков. Посты без заголовков не должны попасть в список"
   ]
  },
  {
   "cell_type": "code",
   "execution_count": null,
   "id": "427a761d",
   "metadata": {},
   "outputs": [],
   "source": [
    "WITH badges AS\n",
    "(SELECT user_id,\n",
    "       COUNT(user_id) AS total\n",
    "FROM stackoverflow.badges\n",
    "GROUP BY user_id\n",
    "HAVING COUNT(user_id) > 1000)\n",
    "SELECT posts.title\n",
    "FROM stackoverflow.posts AS posts\n",
    "JOIN badges ON badges.user_id=posts.user_id\n",
    "WHERE title IS NOT NULL;"
   ]
  },
  {
   "cell_type": "markdown",
   "id": "eb41e2d7",
   "metadata": {},
   "source": [
    "Напишите запрос, который выгрузит данные о пользователях из США (англ. United States). Разделите пользователей на три группы в зависимости от количества просмотров их профилей:\n",
    "пользователям с числом просмотров больше либо равным 350 присвойте группу 1;\n",
    "пользователям с числом просмотров меньше 350, но больше либо равно 100 — группу 2;\n",
    "пользователям с числом просмотров меньше 100 — группу 3.\n",
    "Отобразите в итоговой таблице идентификатор пользователя, количество просмотров профиля и группу. Пользователи с нулевым количеством просмотров не должны войти в итоговую таблицу."
   ]
  },
  {
   "cell_type": "code",
   "execution_count": null,
   "id": "67288b3e",
   "metadata": {},
   "outputs": [],
   "source": [
    "SELECT id,\n",
    "       views,\n",
    "       CASE\n",
    "          WHEN views >=350 THEN 1\n",
    "          WHEN views <350 AND views >=100 THEN 2\n",
    "          WHEN views <100 THEN 3\n",
    "       END\n",
    "FROM stackoverflow.users\n",
    "WHERE location LIKE '%United States%' AND views !=0;"
   ]
  },
  {
   "cell_type": "markdown",
   "id": "3e0f4a8c",
   "metadata": {},
   "source": [
    "Дополните предыдущий запрос. Отобразите лидеров каждой группы — пользователей, которые набрали максимальное число просмотров в своей группе. Выведите поля с идентификатором пользователя, группой и количеством просмотров. Отсортируйте таблицу по убыванию просмотров, а затем по возрастанию значения идентификатора."
   ]
  },
  {
   "cell_type": "code",
   "execution_count": null,
   "id": "59865aff",
   "metadata": {},
   "outputs": [],
   "source": [
    "WITH users AS\n",
    "(SELECT id,\n",
    "       views,\n",
    "       (CASE\n",
    "          WHEN views >=350 THEN 1\n",
    "          WHEN views <350 AND views >=100 THEN 2\n",
    "          WHEN views <100 THEN 3\n",
    "       END) AS lev\n",
    "FROM stackoverflow.users\n",
    "WHERE location LIKE '%United States%' AND views !=0),\n",
    "users2 AS\n",
    "(SELECT id,\n",
    "       views,\n",
    "       lev,\n",
    "       MAX(views) OVER (PARTITION BY lev) AS mikc\n",
    "FROM users)\n",
    "SELECT users2.id,\n",
    "       users2.views,\n",
    "       users2.lev\n",
    "FROM users2\n",
    "WHERE users2.views=users2.mikc\n",
    "ORDER BY views DESC, id;"
   ]
  },
  {
   "cell_type": "markdown",
   "id": "fff8208d",
   "metadata": {},
   "source": [
    "Посчитайте ежедневный прирост новых пользователей в ноябре 2008 года. Сформируйте таблицу с полями:\n",
    "номер дня;\n",
    "число пользователей, зарегистрированных в этот день;\n",
    "сумму пользователей с накоплением."
   ]
  },
  {
   "cell_type": "code",
   "execution_count": null,
   "id": "ad3b73c8",
   "metadata": {},
   "outputs": [],
   "source": [
    "WITH users AS\n",
    "(SELECT *\n",
    "FROM stackoverflow.users\n",
    "WHERE creation_date BETWEEN '2008-11-01' AND '2008-12-01'),\n",
    "users2 AS\n",
    "(SELECT EXTRACT(DAY FROM creation_date) AS day,\n",
    "        COUNT(id) AS summa\n",
    "FROM users\n",
    "GROUP BY EXTRACT(DAY FROM creation_date))\n",
    "SELECT day,\n",
    "       summa,\n",
    "       SUM(summa) OVER (ORDER BY day ROWS BETWEEN UNBOUNDED PRECEDING AND CURRENT ROW)\n",
    "FROM users2\n",
    "ORDER BY day;"
   ]
  },
  {
   "cell_type": "markdown",
   "id": "66fc2cbb",
   "metadata": {},
   "source": [
    "Для каждого пользователя, который написал хотя бы один пост, найдите интервал между регистрацией и временем создания первого поста. Отобразите:\n",
    "идентификатор пользователя;\n",
    "разницу во времени между регистрацией и первым постом."
   ]
  },
  {
   "cell_type": "code",
   "execution_count": null,
   "id": "43440965",
   "metadata": {},
   "outputs": [],
   "source": [
    "SELECT DISTINCT posts.user_id,\n",
    "       MIN(posts.creation_date) OVER (PARTITION BY posts.user_id) - users.creation_date \n",
    "FROM stackoverflow.posts AS posts\n",
    "LEFT JOIN stackoverflow.users AS users ON posts.user_id=users.id\n",
    "GROUP BY posts.user_id, posts.creation_date, users.creation_date;"
   ]
  },
  {
   "cell_type": "markdown",
   "id": "33f15fbb",
   "metadata": {},
   "source": [
    "Выведите общую сумму просмотров постов за каждый месяц 2008 года. Если данных за какой-либо месяц в базе нет, такой месяц можно пропустить. Результат отсортируйте по убыванию общего количества просмотров."
   ]
  },
  {
   "cell_type": "code",
   "execution_count": null,
   "id": "48af5c5b",
   "metadata": {},
   "outputs": [],
   "source": [
    "WITH posts AS\n",
    "(SELECT *\n",
    "FROM stackoverflow.posts\n",
    "WHERE creation_date BETWEEN '2008-01-01' AND '2008-12-31')\n",
    "SELECT DATE_TRUNC('month', creation_date)::DATE,\n",
    "       SUM(views_count) \n",
    "FROM posts\n",
    "GROUP BY DATE_TRUNC('month', creation_date)::DATE\n",
    "ORDER BY SUM(views_count) DESC;"
   ]
  },
  {
   "cell_type": "markdown",
   "id": "9de2b41d",
   "metadata": {},
   "source": [
    "Выведите имена самых активных пользователей, которые в первый месяц после регистрации (включая день регистрации) дали больше 100 ответов. Вопросы, которые задавали пользователи, не учитывайте. Для каждого имени пользователя выведите количество уникальных значений user_id. Отсортируйте результат по полю с именами в лексикографическом порядке."
   ]
  },
  {
   "cell_type": "code",
   "execution_count": null,
   "id": "af9b473e",
   "metadata": {},
   "outputs": [],
   "source": [
    "SELECT u.display_name,\n",
    "       COUNT(DISTINCT p.user_id)\n",
    "FROM stackoverflow.posts AS p\n",
    "JOIN stackoverflow.users AS u ON p.user_id=u.id\n",
    "JOIN stackoverflow.post_types AS pt ON pt.id=p.post_type_id\n",
    "WHERE p.creation_date::DATE BETWEEN u.creation_date::DATE AND (u.creation_date::DATE + INTERVAL '1 month') \n",
    "      AND pt.TYPE LIKE '%Answer%'\n",
    "GROUP BY u.display_name\n",
    "HAVING COUNT(p.id) > 100\n",
    "ORDER BY u.display_name;"
   ]
  },
  {
   "cell_type": "markdown",
   "id": "50ec22e2",
   "metadata": {},
   "source": [
    "\n",
    "Выведите количество постов за 2008 год по месяцам. Отберите посты от пользователей, которые зарегистрировались в сентябре 2008 года и сделали хотя бы один пост в декабре того же года. Отсортируйте таблицу по значению месяца по убыванию."
   ]
  },
  {
   "cell_type": "code",
   "execution_count": null,
   "id": "ea537ae3",
   "metadata": {},
   "outputs": [],
   "source": [
    "WITH id_norm AS\n",
    "(SELECT DISTINCT u.id\n",
    "FROM stackoverflow.users AS u\n",
    "JOIN stackoverflow.posts AS p ON u.id=p.user_id\n",
    "WHERE CAST(DATE_TRUNC('month', u.creation_date) AS DATE) = '2008-09-01'\n",
    "AND CAST(DATE_TRUNC('month', p.creation_date) AS DATE) = '2008-12-01')\n",
    "SELECT CAST(DATE_TRUNC('month', p.creation_date) AS DATE) AS months,\n",
    "       COUNT(p.id) AS total_posts\n",
    "FROM stackoverflow.posts AS p\n",
    "WHERE CAST(DATE_TRUNC('year', p.creation_date) AS DATE) = '2008-01-01'\n",
    "      AND p.user_id IN (SELECT * FROM id_norm)\n",
    "GROUP BY months\n",
    "ORDER BY months DESC;"
   ]
  },
  {
   "cell_type": "markdown",
   "id": "538cc340",
   "metadata": {},
   "source": [
    "Используя данные о постах, выведите несколько полей:\n",
    "идентификатор пользователя, который написал пост;\n",
    "дата создания поста;\n",
    "количество просмотров у текущего поста;\n",
    "сумму просмотров постов автора с накоплением.\n",
    "Данные в таблице должны быть отсортированы по возрастанию идентификаторов пользователей, а данные об одном и том же пользователе — по возрастанию даты создания поста."
   ]
  },
  {
   "cell_type": "code",
   "execution_count": null,
   "id": "cae39247",
   "metadata": {},
   "outputs": [],
   "source": [
    "SELECT user_id,\n",
    "       creation_date,\n",
    "       views_count,\n",
    "       SUM(views_count) OVER (PARTITION BY user_id ORDER BY creation_date)\n",
    "FROM stackoverflow.posts\n",
    "ORDER BY user_id, creation_date;"
   ]
  },
  {
   "cell_type": "markdown",
   "id": "ffae18bc",
   "metadata": {},
   "source": [
    "Сколько в среднем дней в период с 1 по 7 декабря 2008 года включительно пользователи взаимодействовали с платформой? Для каждого пользователя отберите дни, в которые он или она опубликовали хотя бы один пост. Нужно получить одно целое число — не забудьте округлить результат."
   ]
  },
  {
   "cell_type": "code",
   "execution_count": null,
   "id": "cfb8049a",
   "metadata": {},
   "outputs": [],
   "source": [
    "WITH norm AS\n",
    "(WITH posts AS\n",
    "(SELECT DISTINCT user_id,\n",
    "       creation_date::date AS dat\n",
    "FROM stackoverflow.posts\n",
    "WHERE creation_date BETWEEN '2008-12-01' AND '2008-12-07'\n",
    "GROUP BY creation_date, user_id)\n",
    "SELECT COUNT(dat) OVER (PARTITION BY user_id) AS mid\n",
    "FROM posts)\n",
    "SELECT ROUND(AVG(mid))\n",
    "FROM norm;"
   ]
  },
  {
   "cell_type": "markdown",
   "id": "8ba66dc8",
   "metadata": {},
   "source": [
    "\n",
    "На сколько процентов менялось количество постов ежемесячно с 1 сентября по 31 декабря 2008 года? Отобразите таблицу со следующими полями:\n",
    "номер месяца;\n",
    "количество постов за месяц;\n",
    "процент, который показывает, насколько изменилось количество постов в текущем месяце по сравнению с предыдущим.\n",
    "Если постов стало меньше, значение процента должно быть отрицательным, если больше — положительным. Округлите значение процента до двух знаков после запятой.\n",
    "Напомним, что при делении одного целого числа на другое в PostgreSQL в результате получится целое число, округлённое до ближайшего целого вниз. Чтобы этого избежать, переведите делимое в тип numeric."
   ]
  },
  {
   "cell_type": "code",
   "execution_count": null,
   "id": "b42afb1b",
   "metadata": {},
   "outputs": [],
   "source": [
    "WITH posts AS\n",
    "(SELECT EXTRACT(MONTH FROM creation_date) AS month,\n",
    "       COUNT(id) AS total\n",
    "FROM stackoverflow.posts\n",
    "WHERE creation_date BETWEEN '2008-09-01' AND '2008-12-31'\n",
    "GROUP BY EXTRACT(MONTH FROM creation_date))\n",
    "SELECT *,\n",
    "       ROUND(((total::numeric / LAG(total) OVER (ORDER BY month)) - 1) * 100, 2)\n",
    "FROM posts;"
   ]
  },
  {
   "cell_type": "markdown",
   "id": "f8d1fcdb",
   "metadata": {},
   "source": [
    "Выгрузите данные активности пользователя, который опубликовал больше всего постов за всё время. Выведите данные за октябрь 2008 года в таком виде:\n",
    "номер недели;\n",
    "дата и время последнего поста, опубликованного на этой неделе."
   ]
  },
  {
   "cell_type": "code",
   "execution_count": null,
   "id": "cde217d4",
   "metadata": {},
   "outputs": [],
   "source": [
    "SELECT DISTINCT EXTRACT(WEEK FROM creation_date::date),\n",
    "       MAX(creation_date) OVER (PARTITION BY EXTRACT(WEEK FROM creation_date::date))\n",
    "FROM stackoverflow.posts \n",
    "WHERE DATE_TRUNC('month', creation_date) = '2008-10-01'\n",
    "    AND user_id IN (SELECT user_id\n",
    "                                FROM (SELECT user_id,\n",
    "                                       COUNT(id)\n",
    "                                FROM stackoverflow.posts\n",
    "                                GROUP BY 1\n",
    "                                ORDER BY 2 DESC) AS a\n",
    "                                LIMIT 1);"
   ]
  }
 ],
 "metadata": {
  "kernelspec": {
   "display_name": "Python 3 (ipykernel)",
   "language": "python",
   "name": "python3"
  },
  "language_info": {
   "codemirror_mode": {
    "name": "ipython",
    "version": 3
   },
   "file_extension": ".py",
   "mimetype": "text/x-python",
   "name": "python",
   "nbconvert_exporter": "python",
   "pygments_lexer": "ipython3",
   "version": "3.9.16"
  },
  "toc": {
   "base_numbering": 1,
   "nav_menu": {},
   "number_sections": true,
   "sideBar": true,
   "skip_h1_title": true,
   "title_cell": "Table of Contents",
   "title_sidebar": "Contents",
   "toc_cell": false,
   "toc_position": {
    "height": "calc(100% - 180px)",
    "left": "10px",
    "top": "150px",
    "width": "303.542px"
   },
   "toc_section_display": true,
   "toc_window_display": false
  }
 },
 "nbformat": 4,
 "nbformat_minor": 5
}
