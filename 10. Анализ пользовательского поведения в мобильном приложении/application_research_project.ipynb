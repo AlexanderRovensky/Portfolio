{
 "cells": [
  {
   "cell_type": "markdown",
   "metadata": {},
   "source": [
    "## Загрузка и ознокомление с предоставленной нам информацией"
   ]
  },
  {
   "cell_type": "code",
   "execution_count": 1,
   "metadata": {},
   "outputs": [],
   "source": [
    "import pandas as pd\n",
    "import matplotlib.pyplot as plt\n",
    "import seaborn as sns\n",
    "from scipy import stats as st\n",
    "import numpy as np\n",
    "import math as mth\n",
    "from plotly import graph_objects as go\n",
    "import plotly.io as pio\n",
    "pio.renderers.default = \"svg\""
   ]
  },
  {
   "cell_type": "code",
   "execution_count": 2,
   "metadata": {},
   "outputs": [],
   "source": [
    "logs_exp = pd.read_csv('https://code.s3.yandex.net/datasets/logs_exp.csv', sep='\\t')"
   ]
  },
  {
   "cell_type": "code",
   "execution_count": 3,
   "metadata": {},
   "outputs": [
    {
     "data": {
      "text/html": [
       "<div>\n",
       "<style scoped>\n",
       "    .dataframe tbody tr th:only-of-type {\n",
       "        vertical-align: middle;\n",
       "    }\n",
       "\n",
       "    .dataframe tbody tr th {\n",
       "        vertical-align: top;\n",
       "    }\n",
       "\n",
       "    .dataframe thead th {\n",
       "        text-align: right;\n",
       "    }\n",
       "</style>\n",
       "<table border=\"1\" class=\"dataframe\">\n",
       "  <thead>\n",
       "    <tr style=\"text-align: right;\">\n",
       "      <th></th>\n",
       "      <th>EventName</th>\n",
       "      <th>DeviceIDHash</th>\n",
       "      <th>EventTimestamp</th>\n",
       "      <th>ExpId</th>\n",
       "    </tr>\n",
       "  </thead>\n",
       "  <tbody>\n",
       "    <tr>\n",
       "      <th>0</th>\n",
       "      <td>MainScreenAppear</td>\n",
       "      <td>4575588528974610257</td>\n",
       "      <td>1564029816</td>\n",
       "      <td>246</td>\n",
       "    </tr>\n",
       "    <tr>\n",
       "      <th>1</th>\n",
       "      <td>MainScreenAppear</td>\n",
       "      <td>7416695313311560658</td>\n",
       "      <td>1564053102</td>\n",
       "      <td>246</td>\n",
       "    </tr>\n",
       "    <tr>\n",
       "      <th>2</th>\n",
       "      <td>PaymentScreenSuccessful</td>\n",
       "      <td>3518123091307005509</td>\n",
       "      <td>1564054127</td>\n",
       "      <td>248</td>\n",
       "    </tr>\n",
       "    <tr>\n",
       "      <th>3</th>\n",
       "      <td>CartScreenAppear</td>\n",
       "      <td>3518123091307005509</td>\n",
       "      <td>1564054127</td>\n",
       "      <td>248</td>\n",
       "    </tr>\n",
       "    <tr>\n",
       "      <th>4</th>\n",
       "      <td>PaymentScreenSuccessful</td>\n",
       "      <td>6217807653094995999</td>\n",
       "      <td>1564055322</td>\n",
       "      <td>248</td>\n",
       "    </tr>\n",
       "  </tbody>\n",
       "</table>\n",
       "</div>"
      ],
      "text/plain": [
       "                 EventName         DeviceIDHash  EventTimestamp  ExpId\n",
       "0         MainScreenAppear  4575588528974610257      1564029816    246\n",
       "1         MainScreenAppear  7416695313311560658      1564053102    246\n",
       "2  PaymentScreenSuccessful  3518123091307005509      1564054127    248\n",
       "3         CartScreenAppear  3518123091307005509      1564054127    248\n",
       "4  PaymentScreenSuccessful  6217807653094995999      1564055322    248"
      ]
     },
     "execution_count": 3,
     "metadata": {},
     "output_type": "execute_result"
    }
   ],
   "source": [
    "logs_exp.head(5) # Озанкомились со структурой данных"
   ]
  },
  {
   "cell_type": "code",
   "execution_count": 4,
   "metadata": {},
   "outputs": [
    {
     "name": "stdout",
     "output_type": "stream",
     "text": [
      "<class 'pandas.core.frame.DataFrame'>\n",
      "RangeIndex: 244126 entries, 0 to 244125\n",
      "Data columns (total 4 columns):\n",
      " #   Column          Non-Null Count   Dtype \n",
      "---  ------          --------------   ----- \n",
      " 0   EventName       244126 non-null  object\n",
      " 1   DeviceIDHash    244126 non-null  int64 \n",
      " 2   EventTimestamp  244126 non-null  int64 \n",
      " 3   ExpId           244126 non-null  int64 \n",
      "dtypes: int64(3), object(1)\n",
      "memory usage: 7.5+ MB\n"
     ]
    }
   ],
   "source": [
    "logs_exp.info() # Получили общую информацию о данных"
   ]
  },
  {
   "cell_type": "markdown",
   "metadata": {},
   "source": [
    "На данном этапе исследования получили общую информацию о данных и их структуре."
   ]
  },
  {
   "cell_type": "markdown",
   "metadata": {},
   "source": [
    "## Подготовка данных"
   ]
  },
  {
   "cell_type": "markdown",
   "metadata": {},
   "source": [
    "### Заменим названия столбцов на удобные."
   ]
  },
  {
   "cell_type": "code",
   "execution_count": 5,
   "metadata": {},
   "outputs": [],
   "source": [
    "logs_exp.columns = ['event_name', 'device_id_hash', 'event_timestamp', 'exp_id'] # Переименуем названия столбцов"
   ]
  },
  {
   "cell_type": "markdown",
   "metadata": {},
   "source": [
    "<div class=\"alert alert-block alert-warning\">\n",
    "\n",
    "**Комментарий ревьювера (что можно улучшить)**\n",
    "\n",
    "Не стоит переименовывать столбцы через атрибут columns, потому что так ты неявно учитываешь порядок столбцов. Если порядок столбцов поменяется, код перестанет работать. Используй вместо этого метод rename().\n",
    "    \n",
    "</div>"
   ]
  },
  {
   "cell_type": "code",
   "execution_count": 6,
   "metadata": {},
   "outputs": [
    {
     "data": {
      "text/html": [
       "<div>\n",
       "<style scoped>\n",
       "    .dataframe tbody tr th:only-of-type {\n",
       "        vertical-align: middle;\n",
       "    }\n",
       "\n",
       "    .dataframe tbody tr th {\n",
       "        vertical-align: top;\n",
       "    }\n",
       "\n",
       "    .dataframe thead th {\n",
       "        text-align: right;\n",
       "    }\n",
       "</style>\n",
       "<table border=\"1\" class=\"dataframe\">\n",
       "  <thead>\n",
       "    <tr style=\"text-align: right;\">\n",
       "      <th></th>\n",
       "      <th>event_name</th>\n",
       "      <th>device_id_hash</th>\n",
       "      <th>event_timestamp</th>\n",
       "      <th>exp_id</th>\n",
       "    </tr>\n",
       "  </thead>\n",
       "  <tbody>\n",
       "    <tr>\n",
       "      <th>0</th>\n",
       "      <td>MainScreenAppear</td>\n",
       "      <td>4575588528974610257</td>\n",
       "      <td>1564029816</td>\n",
       "      <td>246</td>\n",
       "    </tr>\n",
       "    <tr>\n",
       "      <th>1</th>\n",
       "      <td>MainScreenAppear</td>\n",
       "      <td>7416695313311560658</td>\n",
       "      <td>1564053102</td>\n",
       "      <td>246</td>\n",
       "    </tr>\n",
       "    <tr>\n",
       "      <th>2</th>\n",
       "      <td>PaymentScreenSuccessful</td>\n",
       "      <td>3518123091307005509</td>\n",
       "      <td>1564054127</td>\n",
       "      <td>248</td>\n",
       "    </tr>\n",
       "    <tr>\n",
       "      <th>3</th>\n",
       "      <td>CartScreenAppear</td>\n",
       "      <td>3518123091307005509</td>\n",
       "      <td>1564054127</td>\n",
       "      <td>248</td>\n",
       "    </tr>\n",
       "    <tr>\n",
       "      <th>4</th>\n",
       "      <td>PaymentScreenSuccessful</td>\n",
       "      <td>6217807653094995999</td>\n",
       "      <td>1564055322</td>\n",
       "      <td>248</td>\n",
       "    </tr>\n",
       "  </tbody>\n",
       "</table>\n",
       "</div>"
      ],
      "text/plain": [
       "                event_name       device_id_hash  event_timestamp  exp_id\n",
       "0         MainScreenAppear  4575588528974610257       1564029816     246\n",
       "1         MainScreenAppear  7416695313311560658       1564053102     246\n",
       "2  PaymentScreenSuccessful  3518123091307005509       1564054127     248\n",
       "3         CartScreenAppear  3518123091307005509       1564054127     248\n",
       "4  PaymentScreenSuccessful  6217807653094995999       1564055322     248"
      ]
     },
     "execution_count": 6,
     "metadata": {},
     "output_type": "execute_result"
    }
   ],
   "source": [
    "logs_exp.head(5) # Проверили результаты"
   ]
  },
  {
   "cell_type": "code",
   "execution_count": 7,
   "metadata": {},
   "outputs": [],
   "source": [
    "logs_exp['exp_id'] = logs_exp['exp_id'].replace({246:'A1', 247:'A2', 248:'B'}) # Переименуем значения в столбце exp_id \n",
    "                                                                            # для удобста на названия групп на 'A1', 'A2','B'"
   ]
  },
  {
   "cell_type": "markdown",
   "metadata": {},
   "source": [
    "Перевели названия столбцов, а так же значения в столбце exp_id на более удобные."
   ]
  },
  {
   "cell_type": "markdown",
   "metadata": {},
   "source": [
    "### Проверим пропуски, типы данных, наличие дубликатов."
   ]
  },
  {
   "cell_type": "code",
   "execution_count": 8,
   "metadata": {},
   "outputs": [
    {
     "data": {
      "text/plain": [
       "event_name         0\n",
       "device_id_hash     0\n",
       "event_timestamp    0\n",
       "exp_id             0\n",
       "dtype: int64"
      ]
     },
     "execution_count": 8,
     "metadata": {},
     "output_type": "execute_result"
    }
   ],
   "source": [
    "logs_exp.isna().sum() # Проверим пропуски в данных"
   ]
  },
  {
   "cell_type": "code",
   "execution_count": 9,
   "metadata": {},
   "outputs": [
    {
     "data": {
      "text/plain": [
       "413"
      ]
     },
     "execution_count": 9,
     "metadata": {},
     "output_type": "execute_result"
    }
   ],
   "source": [
    "logs_exp.duplicated().sum() # посчитаем дубликаты"
   ]
  },
  {
   "cell_type": "markdown",
   "metadata": {},
   "source": [
    "Имеются явные дубликаты. Удалим их."
   ]
  },
  {
   "cell_type": "code",
   "execution_count": 10,
   "metadata": {},
   "outputs": [],
   "source": [
    "logs_exp = logs_exp.drop_duplicates().reset_index(drop=True)  # Удалим явные дубликаты"
   ]
  },
  {
   "cell_type": "code",
   "execution_count": 11,
   "metadata": {},
   "outputs": [
    {
     "data": {
      "text/plain": [
       "0"
      ]
     },
     "execution_count": 11,
     "metadata": {},
     "output_type": "execute_result"
    }
   ],
   "source": [
    "logs_exp.duplicated().sum() # Проверим рзультат"
   ]
  },
  {
   "cell_type": "markdown",
   "metadata": {},
   "source": [
    "От явных дубликатов избавились."
   ]
  },
  {
   "cell_type": "markdown",
   "metadata": {},
   "source": [
    "Проверим наличие неявных дубликатов"
   ]
  },
  {
   "cell_type": "code",
   "execution_count": 12,
   "metadata": {},
   "outputs": [
    {
     "data": {
      "text/plain": [
       "array(['MainScreenAppear', 'PaymentScreenSuccessful', 'CartScreenAppear',\n",
       "       'OffersScreenAppear', 'Tutorial'], dtype=object)"
      ]
     },
     "execution_count": 12,
     "metadata": {},
     "output_type": "execute_result"
    }
   ],
   "source": [
    "logs_exp['event_name'].unique() "
   ]
  },
  {
   "cell_type": "markdown",
   "metadata": {},
   "source": [
    "В столбце event_name неявных дубликатов нет."
   ]
  },
  {
   "cell_type": "markdown",
   "metadata": {},
   "source": [
    "Проверим, есть ли в столбце exp_id занчения, которые выбиваются из исследования."
   ]
  },
  {
   "cell_type": "code",
   "execution_count": 13,
   "metadata": {},
   "outputs": [
    {
     "data": {
      "text/plain": [
       "array(['A1', 'B', 'A2'], dtype=object)"
      ]
     },
     "execution_count": 13,
     "metadata": {},
     "output_type": "execute_result"
    }
   ],
   "source": [
    "logs_exp['exp_id'].unique()"
   ]
  },
  {
   "cell_type": "markdown",
   "metadata": {},
   "source": [
    "В столбце exp_id занчений, которые выбиваются из исследования нет."
   ]
  },
  {
   "cell_type": "markdown",
   "metadata": {},
   "source": [
    "### Добавим столбец даты и времени, а также отдельный столбец дат."
   ]
  },
  {
   "cell_type": "markdown",
   "metadata": {},
   "source": [
    "Добавим столбец time, в котором будут значения даты и времени"
   ]
  },
  {
   "cell_type": "code",
   "execution_count": 14,
   "metadata": {},
   "outputs": [],
   "source": [
    "logs_exp['time'] = pd.to_datetime(logs_exp['event_timestamp'], unit = 's') # Создаем сттлбец с датой и временем"
   ]
  },
  {
   "cell_type": "code",
   "execution_count": 15,
   "metadata": {},
   "outputs": [
    {
     "data": {
      "text/html": [
       "<div>\n",
       "<style scoped>\n",
       "    .dataframe tbody tr th:only-of-type {\n",
       "        vertical-align: middle;\n",
       "    }\n",
       "\n",
       "    .dataframe tbody tr th {\n",
       "        vertical-align: top;\n",
       "    }\n",
       "\n",
       "    .dataframe thead th {\n",
       "        text-align: right;\n",
       "    }\n",
       "</style>\n",
       "<table border=\"1\" class=\"dataframe\">\n",
       "  <thead>\n",
       "    <tr style=\"text-align: right;\">\n",
       "      <th></th>\n",
       "      <th>event_name</th>\n",
       "      <th>device_id_hash</th>\n",
       "      <th>event_timestamp</th>\n",
       "      <th>exp_id</th>\n",
       "      <th>time</th>\n",
       "    </tr>\n",
       "  </thead>\n",
       "  <tbody>\n",
       "    <tr>\n",
       "      <th>0</th>\n",
       "      <td>MainScreenAppear</td>\n",
       "      <td>4575588528974610257</td>\n",
       "      <td>1564029816</td>\n",
       "      <td>A1</td>\n",
       "      <td>2019-07-25 04:43:36</td>\n",
       "    </tr>\n",
       "    <tr>\n",
       "      <th>1</th>\n",
       "      <td>MainScreenAppear</td>\n",
       "      <td>7416695313311560658</td>\n",
       "      <td>1564053102</td>\n",
       "      <td>A1</td>\n",
       "      <td>2019-07-25 11:11:42</td>\n",
       "    </tr>\n",
       "    <tr>\n",
       "      <th>2</th>\n",
       "      <td>PaymentScreenSuccessful</td>\n",
       "      <td>3518123091307005509</td>\n",
       "      <td>1564054127</td>\n",
       "      <td>B</td>\n",
       "      <td>2019-07-25 11:28:47</td>\n",
       "    </tr>\n",
       "    <tr>\n",
       "      <th>3</th>\n",
       "      <td>CartScreenAppear</td>\n",
       "      <td>3518123091307005509</td>\n",
       "      <td>1564054127</td>\n",
       "      <td>B</td>\n",
       "      <td>2019-07-25 11:28:47</td>\n",
       "    </tr>\n",
       "    <tr>\n",
       "      <th>4</th>\n",
       "      <td>PaymentScreenSuccessful</td>\n",
       "      <td>6217807653094995999</td>\n",
       "      <td>1564055322</td>\n",
       "      <td>B</td>\n",
       "      <td>2019-07-25 11:48:42</td>\n",
       "    </tr>\n",
       "  </tbody>\n",
       "</table>\n",
       "</div>"
      ],
      "text/plain": [
       "                event_name       device_id_hash  event_timestamp exp_id  \\\n",
       "0         MainScreenAppear  4575588528974610257       1564029816     A1   \n",
       "1         MainScreenAppear  7416695313311560658       1564053102     A1   \n",
       "2  PaymentScreenSuccessful  3518123091307005509       1564054127      B   \n",
       "3         CartScreenAppear  3518123091307005509       1564054127      B   \n",
       "4  PaymentScreenSuccessful  6217807653094995999       1564055322      B   \n",
       "\n",
       "                 time  \n",
       "0 2019-07-25 04:43:36  \n",
       "1 2019-07-25 11:11:42  \n",
       "2 2019-07-25 11:28:47  \n",
       "3 2019-07-25 11:28:47  \n",
       "4 2019-07-25 11:48:42  "
      ]
     },
     "execution_count": 15,
     "metadata": {},
     "output_type": "execute_result"
    }
   ],
   "source": [
    "logs_exp.head(5) # Проверили результаты."
   ]
  },
  {
   "cell_type": "markdown",
   "metadata": {},
   "source": [
    "Добавим столбец date, в котором будут значения дат."
   ]
  },
  {
   "cell_type": "code",
   "execution_count": 16,
   "metadata": {},
   "outputs": [],
   "source": [
    "logs_exp['date'] = pd.to_datetime(pd.to_datetime(logs_exp['time']).dt.date) # Cоздадим столбец с датами и \n",
    "                                                                            # сразу переведем его в формат datetime64"
   ]
  },
  {
   "cell_type": "code",
   "execution_count": 17,
   "metadata": {},
   "outputs": [
    {
     "data": {
      "text/html": [
       "<div>\n",
       "<style scoped>\n",
       "    .dataframe tbody tr th:only-of-type {\n",
       "        vertical-align: middle;\n",
       "    }\n",
       "\n",
       "    .dataframe tbody tr th {\n",
       "        vertical-align: top;\n",
       "    }\n",
       "\n",
       "    .dataframe thead th {\n",
       "        text-align: right;\n",
       "    }\n",
       "</style>\n",
       "<table border=\"1\" class=\"dataframe\">\n",
       "  <thead>\n",
       "    <tr style=\"text-align: right;\">\n",
       "      <th></th>\n",
       "      <th>event_name</th>\n",
       "      <th>device_id_hash</th>\n",
       "      <th>event_timestamp</th>\n",
       "      <th>exp_id</th>\n",
       "      <th>time</th>\n",
       "      <th>date</th>\n",
       "    </tr>\n",
       "  </thead>\n",
       "  <tbody>\n",
       "    <tr>\n",
       "      <th>0</th>\n",
       "      <td>MainScreenAppear</td>\n",
       "      <td>4575588528974610257</td>\n",
       "      <td>1564029816</td>\n",
       "      <td>A1</td>\n",
       "      <td>2019-07-25 04:43:36</td>\n",
       "      <td>2019-07-25</td>\n",
       "    </tr>\n",
       "    <tr>\n",
       "      <th>1</th>\n",
       "      <td>MainScreenAppear</td>\n",
       "      <td>7416695313311560658</td>\n",
       "      <td>1564053102</td>\n",
       "      <td>A1</td>\n",
       "      <td>2019-07-25 11:11:42</td>\n",
       "      <td>2019-07-25</td>\n",
       "    </tr>\n",
       "    <tr>\n",
       "      <th>2</th>\n",
       "      <td>PaymentScreenSuccessful</td>\n",
       "      <td>3518123091307005509</td>\n",
       "      <td>1564054127</td>\n",
       "      <td>B</td>\n",
       "      <td>2019-07-25 11:28:47</td>\n",
       "      <td>2019-07-25</td>\n",
       "    </tr>\n",
       "    <tr>\n",
       "      <th>3</th>\n",
       "      <td>CartScreenAppear</td>\n",
       "      <td>3518123091307005509</td>\n",
       "      <td>1564054127</td>\n",
       "      <td>B</td>\n",
       "      <td>2019-07-25 11:28:47</td>\n",
       "      <td>2019-07-25</td>\n",
       "    </tr>\n",
       "    <tr>\n",
       "      <th>4</th>\n",
       "      <td>PaymentScreenSuccessful</td>\n",
       "      <td>6217807653094995999</td>\n",
       "      <td>1564055322</td>\n",
       "      <td>B</td>\n",
       "      <td>2019-07-25 11:48:42</td>\n",
       "      <td>2019-07-25</td>\n",
       "    </tr>\n",
       "  </tbody>\n",
       "</table>\n",
       "</div>"
      ],
      "text/plain": [
       "                event_name       device_id_hash  event_timestamp exp_id  \\\n",
       "0         MainScreenAppear  4575588528974610257       1564029816     A1   \n",
       "1         MainScreenAppear  7416695313311560658       1564053102     A1   \n",
       "2  PaymentScreenSuccessful  3518123091307005509       1564054127      B   \n",
       "3         CartScreenAppear  3518123091307005509       1564054127      B   \n",
       "4  PaymentScreenSuccessful  6217807653094995999       1564055322      B   \n",
       "\n",
       "                 time       date  \n",
       "0 2019-07-25 04:43:36 2019-07-25  \n",
       "1 2019-07-25 11:11:42 2019-07-25  \n",
       "2 2019-07-25 11:28:47 2019-07-25  \n",
       "3 2019-07-25 11:28:47 2019-07-25  \n",
       "4 2019-07-25 11:48:42 2019-07-25  "
      ]
     },
     "execution_count": 17,
     "metadata": {},
     "output_type": "execute_result"
    }
   ],
   "source": [
    "logs_exp.head(5) # Проверили результаты."
   ]
  },
  {
   "cell_type": "code",
   "execution_count": 18,
   "metadata": {},
   "outputs": [
    {
     "name": "stdout",
     "output_type": "stream",
     "text": [
      "<class 'pandas.core.frame.DataFrame'>\n",
      "RangeIndex: 243713 entries, 0 to 243712\n",
      "Data columns (total 6 columns):\n",
      " #   Column           Non-Null Count   Dtype         \n",
      "---  ------           --------------   -----         \n",
      " 0   event_name       243713 non-null  object        \n",
      " 1   device_id_hash   243713 non-null  int64         \n",
      " 2   event_timestamp  243713 non-null  int64         \n",
      " 3   exp_id           243713 non-null  object        \n",
      " 4   time             243713 non-null  datetime64[ns]\n",
      " 5   date             243713 non-null  datetime64[ns]\n",
      "dtypes: datetime64[ns](2), int64(2), object(2)\n",
      "memory usage: 11.2+ MB\n"
     ]
    }
   ],
   "source": [
    "logs_exp.info() # Проверили результаты"
   ]
  },
  {
   "cell_type": "markdown",
   "metadata": {},
   "source": [
    "Проверим, есть ли пользователи, которые попали сразу в несколько групп. Создадим выборки, где есть номера пользователей и группа к которой он относится. Сохраним каждую выборку в отделбную переменную."
   ]
  },
  {
   "cell_type": "code",
   "execution_count": 19,
   "metadata": {},
   "outputs": [],
   "source": [
    "orders_a1 = logs_exp.loc[logs_exp['device_id_hash'] == 'A1', ['device_id_hash', 'exp_id']].reset_index(drop=True)"
   ]
  },
  {
   "cell_type": "code",
   "execution_count": 20,
   "metadata": {},
   "outputs": [],
   "source": [
    "orders_a2 = logs_exp.loc[logs_exp['device_id_hash'] == 'A2', ['device_id_hash', 'exp_id']].reset_index(drop=True)"
   ]
  },
  {
   "cell_type": "code",
   "execution_count": 21,
   "metadata": {},
   "outputs": [],
   "source": [
    "orders_b = logs_exp.loc[logs_exp['device_id_hash'] == 'B', ['device_id_hash', 'exp_id']].reset_index(drop=True)"
   ]
  },
  {
   "cell_type": "code",
   "execution_count": 22,
   "metadata": {},
   "outputs": [],
   "source": [
    "orders_a1_a2 = orders_a1.merge(orders_a2, on='device_id_hash') # Присоединим группу А1 к группе А2 по номеру пользователя"
   ]
  },
  {
   "cell_type": "markdown",
   "metadata": {},
   "source": [
    "Таблица должна содержать номера пользователей, которые есть в обеих группах."
   ]
  },
  {
   "cell_type": "code",
   "execution_count": 23,
   "metadata": {},
   "outputs": [
    {
     "data": {
      "text/html": [
       "<div>\n",
       "<style scoped>\n",
       "    .dataframe tbody tr th:only-of-type {\n",
       "        vertical-align: middle;\n",
       "    }\n",
       "\n",
       "    .dataframe tbody tr th {\n",
       "        vertical-align: top;\n",
       "    }\n",
       "\n",
       "    .dataframe thead th {\n",
       "        text-align: right;\n",
       "    }\n",
       "</style>\n",
       "<table border=\"1\" class=\"dataframe\">\n",
       "  <thead>\n",
       "    <tr style=\"text-align: right;\">\n",
       "      <th></th>\n",
       "      <th>exp_id_x</th>\n",
       "      <th>device_id_hash</th>\n",
       "      <th>exp_id_y</th>\n",
       "    </tr>\n",
       "  </thead>\n",
       "  <tbody>\n",
       "  </tbody>\n",
       "</table>\n",
       "</div>"
      ],
      "text/plain": [
       "Empty DataFrame\n",
       "Columns: [exp_id_x, device_id_hash, exp_id_y]\n",
       "Index: []"
      ]
     },
     "execution_count": 23,
     "metadata": {},
     "output_type": "execute_result"
    }
   ],
   "source": [
    "orders_a1_a2"
   ]
  },
  {
   "cell_type": "markdown",
   "metadata": {},
   "source": [
    "В группах А1 и А2 нет пользователей с одинаковыми номерами."
   ]
  },
  {
   "cell_type": "code",
   "execution_count": 24,
   "metadata": {},
   "outputs": [],
   "source": [
    "orders_a1_b = orders_a1.merge(orders_b, on='device_id_hash')"
   ]
  },
  {
   "cell_type": "code",
   "execution_count": 25,
   "metadata": {},
   "outputs": [
    {
     "data": {
      "text/html": [
       "<div>\n",
       "<style scoped>\n",
       "    .dataframe tbody tr th:only-of-type {\n",
       "        vertical-align: middle;\n",
       "    }\n",
       "\n",
       "    .dataframe tbody tr th {\n",
       "        vertical-align: top;\n",
       "    }\n",
       "\n",
       "    .dataframe thead th {\n",
       "        text-align: right;\n",
       "    }\n",
       "</style>\n",
       "<table border=\"1\" class=\"dataframe\">\n",
       "  <thead>\n",
       "    <tr style=\"text-align: right;\">\n",
       "      <th></th>\n",
       "      <th>exp_id_x</th>\n",
       "      <th>device_id_hash</th>\n",
       "      <th>exp_id_y</th>\n",
       "    </tr>\n",
       "  </thead>\n",
       "  <tbody>\n",
       "  </tbody>\n",
       "</table>\n",
       "</div>"
      ],
      "text/plain": [
       "Empty DataFrame\n",
       "Columns: [exp_id_x, device_id_hash, exp_id_y]\n",
       "Index: []"
      ]
     },
     "execution_count": 25,
     "metadata": {},
     "output_type": "execute_result"
    }
   ],
   "source": [
    "orders_a1_b"
   ]
  },
  {
   "cell_type": "markdown",
   "metadata": {},
   "source": [
    "В группах А1 и В нет пользователей с одинаковыми номерами."
   ]
  },
  {
   "cell_type": "code",
   "execution_count": 26,
   "metadata": {},
   "outputs": [],
   "source": [
    "orders_a2_b = orders_a2.merge(orders_b, on='device_id_hash')"
   ]
  },
  {
   "cell_type": "code",
   "execution_count": 27,
   "metadata": {},
   "outputs": [
    {
     "data": {
      "text/html": [
       "<div>\n",
       "<style scoped>\n",
       "    .dataframe tbody tr th:only-of-type {\n",
       "        vertical-align: middle;\n",
       "    }\n",
       "\n",
       "    .dataframe tbody tr th {\n",
       "        vertical-align: top;\n",
       "    }\n",
       "\n",
       "    .dataframe thead th {\n",
       "        text-align: right;\n",
       "    }\n",
       "</style>\n",
       "<table border=\"1\" class=\"dataframe\">\n",
       "  <thead>\n",
       "    <tr style=\"text-align: right;\">\n",
       "      <th></th>\n",
       "      <th>exp_id_x</th>\n",
       "      <th>device_id_hash</th>\n",
       "      <th>exp_id_y</th>\n",
       "    </tr>\n",
       "  </thead>\n",
       "  <tbody>\n",
       "  </tbody>\n",
       "</table>\n",
       "</div>"
      ],
      "text/plain": [
       "Empty DataFrame\n",
       "Columns: [exp_id_x, device_id_hash, exp_id_y]\n",
       "Index: []"
      ]
     },
     "execution_count": 27,
     "metadata": {},
     "output_type": "execute_result"
    }
   ],
   "source": [
    "orders_a2_b"
   ]
  },
  {
   "cell_type": "markdown",
   "metadata": {},
   "source": [
    "В группах А2 и В нет пользователей с одинаковыми номерами."
   ]
  },
  {
   "cell_type": "markdown",
   "metadata": {},
   "source": [
    "На данном этапе исследования перевели названия столбцов, а так же значения в столбце exp_id на более удобные. Избавились от явных дубликатов. Проверили данные на пропуски. Проверили наличие неявных дубликатов. Добавили столбец time, в котором будут значения даты и времени, а так же столбец date, в котором будут значения дат. Так же проверили нет ли в данных пользоватей, которые входят в несколько групп."
   ]
  },
  {
   "cell_type": "markdown",
   "metadata": {},
   "source": [
    "## Изучение и проверка данных"
   ]
  },
  {
   "cell_type": "markdown",
   "metadata": {},
   "source": [
    "### Узнаем, сколько всего событий в логе."
   ]
  },
  {
   "cell_type": "markdown",
   "metadata": {},
   "source": [
    "Узнаем количество событий в логе."
   ]
  },
  {
   "cell_type": "code",
   "execution_count": 28,
   "metadata": {},
   "outputs": [],
   "source": [
    "event_old = logs_exp['event_name'].count()"
   ]
  },
  {
   "cell_type": "code",
   "execution_count": 29,
   "metadata": {},
   "outputs": [
    {
     "data": {
      "text/plain": [
       "243713"
      ]
     },
     "execution_count": 29,
     "metadata": {},
     "output_type": "execute_result"
    }
   ],
   "source": [
    "event_old"
   ]
  },
  {
   "cell_type": "markdown",
   "metadata": {},
   "source": [
    "Ранее мы определяли наличие неявных дубликатов. Воспользуемся тем же кодом для того, чтобы узнать количество видов событий в исследовнии."
   ]
  },
  {
   "cell_type": "code",
   "execution_count": 30,
   "metadata": {},
   "outputs": [
    {
     "data": {
      "text/plain": [
       "array(['MainScreenAppear', 'PaymentScreenSuccessful', 'CartScreenAppear',\n",
       "       'OffersScreenAppear', 'Tutorial'], dtype=object)"
      ]
     },
     "execution_count": 30,
     "metadata": {},
     "output_type": "execute_result"
    }
   ],
   "source": [
    "logs_exp['event_name'].unique() "
   ]
  },
  {
   "cell_type": "markdown",
   "metadata": {},
   "source": [
    "Как видим, всего в логе 5 видов событий."
   ]
  },
  {
   "cell_type": "markdown",
   "metadata": {},
   "source": [
    "### Узнаем, сколько всего пользователей в логе."
   ]
  },
  {
   "cell_type": "code",
   "execution_count": 31,
   "metadata": {},
   "outputs": [],
   "source": [
    "total_id_old = logs_exp['device_id_hash'].nunique() # Выведем количество уникальных значений в стольбце device_id_hash."
   ]
  },
  {
   "cell_type": "code",
   "execution_count": 32,
   "metadata": {},
   "outputs": [
    {
     "data": {
      "text/plain": [
       "7551"
      ]
     },
     "execution_count": 32,
     "metadata": {},
     "output_type": "execute_result"
    }
   ],
   "source": [
    "total_id_old"
   ]
  },
  {
   "cell_type": "markdown",
   "metadata": {},
   "source": [
    "Как видим, число пользователей в логе составляет 7551."
   ]
  },
  {
   "cell_type": "markdown",
   "metadata": {},
   "source": [
    "### Узнаем, сколько в среднем событий приходится на пользователя."
   ]
  },
  {
   "cell_type": "markdown",
   "metadata": {},
   "source": [
    "Для того, чтобы узнать, сколько в среднем событий приходится на пользователя введем переменную logs_exp_mean, в которой сохраним уникальные идентификаторы пользователей с количеством событий, которые на них приходятся."
   ]
  },
  {
   "cell_type": "code",
   "execution_count": 33,
   "metadata": {},
   "outputs": [],
   "source": [
    "logs_exp_mean = logs_exp.groupby('device_id_hash').agg({'event_name': 'count'}).sort_values(by='event_name', ascending=False)"
   ]
  },
  {
   "cell_type": "code",
   "execution_count": 34,
   "metadata": {},
   "outputs": [
    {
     "data": {
      "text/html": [
       "<div>\n",
       "<style scoped>\n",
       "    .dataframe tbody tr th:only-of-type {\n",
       "        vertical-align: middle;\n",
       "    }\n",
       "\n",
       "    .dataframe tbody tr th {\n",
       "        vertical-align: top;\n",
       "    }\n",
       "\n",
       "    .dataframe thead th {\n",
       "        text-align: right;\n",
       "    }\n",
       "</style>\n",
       "<table border=\"1\" class=\"dataframe\">\n",
       "  <thead>\n",
       "    <tr style=\"text-align: right;\">\n",
       "      <th></th>\n",
       "      <th>device_id_hash</th>\n",
       "      <th>event_name</th>\n",
       "    </tr>\n",
       "  </thead>\n",
       "  <tbody>\n",
       "    <tr>\n",
       "      <th>0</th>\n",
       "      <td>6304868067479728361</td>\n",
       "      <td>2307</td>\n",
       "    </tr>\n",
       "    <tr>\n",
       "      <th>1</th>\n",
       "      <td>197027893265565660</td>\n",
       "      <td>1998</td>\n",
       "    </tr>\n",
       "    <tr>\n",
       "      <th>2</th>\n",
       "      <td>4623191541214045580</td>\n",
       "      <td>1768</td>\n",
       "    </tr>\n",
       "    <tr>\n",
       "      <th>3</th>\n",
       "      <td>6932517045703054087</td>\n",
       "      <td>1439</td>\n",
       "    </tr>\n",
       "    <tr>\n",
       "      <th>4</th>\n",
       "      <td>1754140665440434215</td>\n",
       "      <td>1221</td>\n",
       "    </tr>\n",
       "  </tbody>\n",
       "</table>\n",
       "</div>"
      ],
      "text/plain": [
       "        device_id_hash  event_name\n",
       "0  6304868067479728361        2307\n",
       "1   197027893265565660        1998\n",
       "2  4623191541214045580        1768\n",
       "3  6932517045703054087        1439\n",
       "4  1754140665440434215        1221"
      ]
     },
     "execution_count": 34,
     "metadata": {},
     "output_type": "execute_result"
    }
   ],
   "source": [
    "logs_exp_mean.reset_index().head(5) # Выведем таблицу с идентификатором и количеством событий."
   ]
  },
  {
   "cell_type": "code",
   "execution_count": 35,
   "metadata": {},
   "outputs": [
    {
     "data": {
      "text/plain": [
       "32"
      ]
     },
     "execution_count": 35,
     "metadata": {},
     "output_type": "execute_result"
    }
   ],
   "source": [
    "round(logs_exp_mean['event_name'].mean()) # Выведем среднее и медиальное количество событий которое приходится \n",
    "                                           # на пользователя, округленные до ближайшего целого числа\n",
    "                                           "
   ]
  },
  {
   "cell_type": "code",
   "execution_count": 36,
   "metadata": {},
   "outputs": [
    {
     "data": {
      "text/plain": [
       "20"
      ]
     },
     "execution_count": 36,
     "metadata": {},
     "output_type": "execute_result"
    }
   ],
   "source": [
    "round(logs_exp_mean['event_name'].median())"
   ]
  },
  {
   "cell_type": "markdown",
   "metadata": {},
   "source": [
    "Как видим, среднее количество событий, которое приходится на пользователя,составляет 32, а медиальное 20. Из таблицы, где было сохранено количество событий на одного пользователя можно заметить, что есть значения, которые намного превышают средний показатель событий."
   ]
  },
  {
   "cell_type": "markdown",
   "metadata": {},
   "source": [
    "### Найдем максимальную и минимальную дату. Построим гистограмму по дате и времени."
   ]
  },
  {
   "cell_type": "markdown",
   "metadata": {},
   "source": [
    "Найдем максимальную и минимальную дату данных, которыми мы располагаем."
   ]
  },
  {
   "cell_type": "code",
   "execution_count": 37,
   "metadata": {},
   "outputs": [
    {
     "data": {
      "text/plain": [
       "Timestamp('2019-07-25 04:43:36')"
      ]
     },
     "metadata": {},
     "output_type": "display_data"
    },
    {
     "data": {
      "text/plain": [
       "Timestamp('2019-08-07 21:15:17')"
      ]
     },
     "execution_count": 37,
     "metadata": {},
     "output_type": "execute_result"
    }
   ],
   "source": [
    "display(logs_exp['time'].min())\n",
    "logs_exp['time'].max()"
   ]
  },
  {
   "cell_type": "markdown",
   "metadata": {},
   "source": [
    "Как видим, минимальной датой исследования будет 2019-07-25 04:43:36, а максимальной 2019-08-07 21:15:17."
   ]
  },
  {
   "cell_type": "markdown",
   "metadata": {},
   "source": [
    "Построим гистограмму по дате."
   ]
  },
  {
   "cell_type": "code",
   "execution_count": 38,
   "metadata": {},
   "outputs": [
    {
     "data": {
      "text/html": [
       "<div>\n",
       "<style scoped>\n",
       "    .dataframe tbody tr th:only-of-type {\n",
       "        vertical-align: middle;\n",
       "    }\n",
       "\n",
       "    .dataframe tbody tr th {\n",
       "        vertical-align: top;\n",
       "    }\n",
       "\n",
       "    .dataframe thead th {\n",
       "        text-align: right;\n",
       "    }\n",
       "</style>\n",
       "<table border=\"1\" class=\"dataframe\">\n",
       "  <thead>\n",
       "    <tr style=\"text-align: right;\">\n",
       "      <th></th>\n",
       "      <th>event_name</th>\n",
       "      <th>device_id_hash</th>\n",
       "      <th>event_timestamp</th>\n",
       "      <th>exp_id</th>\n",
       "      <th>time</th>\n",
       "      <th>date</th>\n",
       "    </tr>\n",
       "  </thead>\n",
       "  <tbody>\n",
       "    <tr>\n",
       "      <th>0</th>\n",
       "      <td>MainScreenAppear</td>\n",
       "      <td>4575588528974610257</td>\n",
       "      <td>1564029816</td>\n",
       "      <td>A1</td>\n",
       "      <td>2019-07-25 04:43:36</td>\n",
       "      <td>2019-07-25</td>\n",
       "    </tr>\n",
       "    <tr>\n",
       "      <th>1</th>\n",
       "      <td>MainScreenAppear</td>\n",
       "      <td>7416695313311560658</td>\n",
       "      <td>1564053102</td>\n",
       "      <td>A1</td>\n",
       "      <td>2019-07-25 11:11:42</td>\n",
       "      <td>2019-07-25</td>\n",
       "    </tr>\n",
       "    <tr>\n",
       "      <th>2</th>\n",
       "      <td>PaymentScreenSuccessful</td>\n",
       "      <td>3518123091307005509</td>\n",
       "      <td>1564054127</td>\n",
       "      <td>B</td>\n",
       "      <td>2019-07-25 11:28:47</td>\n",
       "      <td>2019-07-25</td>\n",
       "    </tr>\n",
       "    <tr>\n",
       "      <th>3</th>\n",
       "      <td>CartScreenAppear</td>\n",
       "      <td>3518123091307005509</td>\n",
       "      <td>1564054127</td>\n",
       "      <td>B</td>\n",
       "      <td>2019-07-25 11:28:47</td>\n",
       "      <td>2019-07-25</td>\n",
       "    </tr>\n",
       "    <tr>\n",
       "      <th>4</th>\n",
       "      <td>PaymentScreenSuccessful</td>\n",
       "      <td>6217807653094995999</td>\n",
       "      <td>1564055322</td>\n",
       "      <td>B</td>\n",
       "      <td>2019-07-25 11:48:42</td>\n",
       "      <td>2019-07-25</td>\n",
       "    </tr>\n",
       "  </tbody>\n",
       "</table>\n",
       "</div>"
      ],
      "text/plain": [
       "                event_name       device_id_hash  event_timestamp exp_id  \\\n",
       "0         MainScreenAppear  4575588528974610257       1564029816     A1   \n",
       "1         MainScreenAppear  7416695313311560658       1564053102     A1   \n",
       "2  PaymentScreenSuccessful  3518123091307005509       1564054127      B   \n",
       "3         CartScreenAppear  3518123091307005509       1564054127      B   \n",
       "4  PaymentScreenSuccessful  6217807653094995999       1564055322      B   \n",
       "\n",
       "                 time       date  \n",
       "0 2019-07-25 04:43:36 2019-07-25  \n",
       "1 2019-07-25 11:11:42 2019-07-25  \n",
       "2 2019-07-25 11:28:47 2019-07-25  \n",
       "3 2019-07-25 11:28:47 2019-07-25  \n",
       "4 2019-07-25 11:48:42 2019-07-25  "
      ]
     },
     "execution_count": 38,
     "metadata": {},
     "output_type": "execute_result"
    }
   ],
   "source": [
    "logs_exp.head(5)"
   ]
  },
  {
   "cell_type": "markdown",
   "metadata": {},
   "source": [
    "Построим график по дате."
   ]
  },
  {
   "cell_type": "code",
   "execution_count": 39,
   "metadata": {
    "scrolled": false
   },
   "outputs": [
    {
     "data": {
      "image/png": "[encoded data removed]",
      "text/plain": [
       "<Figure size 1000x1000 with 1 Axes>"
      ]
     },
     "metadata": {},
     "output_type": "display_data"
    }
   ],
   "source": [
    "plt.figure(figsize=(10, 10))\n",
    "ax = sns.countplot(y=logs_exp['time'].dt.strftime('%Y-%m-%d'), hue='event_name', data=logs_exp, dodge=False)\n",
    "ax.set_title('Количество различных событий на период времени')\n",
    "plt.show()"
   ]
  },
  {
   "cell_type": "markdown",
   "metadata": {},
   "source": [
    "Для более точной оценки построим график по времени в период с 2019-07-31 12:00:00 по 2019-08-01 12:00:00."
   ]
  },
  {
   "cell_type": "markdown",
   "metadata": {},
   "source": [
    "Ввведем переменную logs_exp_part, где сохраним результаты за данный период времени"
   ]
  },
  {
   "cell_type": "code",
   "execution_count": 40,
   "metadata": {},
   "outputs": [],
   "source": [
    "logs_exp_part = logs_exp.loc[(logs_exp['time'] >= '2019-07-31 12:00:00') & (logs_exp['time'] <= '2019-08-01 12:00:00')]"
   ]
  },
  {
   "cell_type": "code",
   "execution_count": 41,
   "metadata": {},
   "outputs": [
    {
     "data": {
      "text/html": [
       "<div>\n",
       "<style scoped>\n",
       "    .dataframe tbody tr th:only-of-type {\n",
       "        vertical-align: middle;\n",
       "    }\n",
       "\n",
       "    .dataframe tbody tr th {\n",
       "        vertical-align: top;\n",
       "    }\n",
       "\n",
       "    .dataframe thead th {\n",
       "        text-align: right;\n",
       "    }\n",
       "</style>\n",
       "<table border=\"1\" class=\"dataframe\">\n",
       "  <thead>\n",
       "    <tr style=\"text-align: right;\">\n",
       "      <th></th>\n",
       "      <th>event_name</th>\n",
       "      <th>device_id_hash</th>\n",
       "      <th>event_timestamp</th>\n",
       "      <th>exp_id</th>\n",
       "      <th>time</th>\n",
       "      <th>date</th>\n",
       "    </tr>\n",
       "  </thead>\n",
       "  <tbody>\n",
       "    <tr>\n",
       "      <th>1159</th>\n",
       "      <td>MainScreenAppear</td>\n",
       "      <td>9067318300532694216</td>\n",
       "      <td>1564574451</td>\n",
       "      <td>B</td>\n",
       "      <td>2019-07-31 12:00:51</td>\n",
       "      <td>2019-07-31</td>\n",
       "    </tr>\n",
       "    <tr>\n",
       "      <th>1160</th>\n",
       "      <td>CartScreenAppear</td>\n",
       "      <td>1100007125648169445</td>\n",
       "      <td>1564574531</td>\n",
       "      <td>B</td>\n",
       "      <td>2019-07-31 12:02:11</td>\n",
       "      <td>2019-07-31</td>\n",
       "    </tr>\n",
       "    <tr>\n",
       "      <th>1161</th>\n",
       "      <td>MainScreenAppear</td>\n",
       "      <td>105724841806923970</td>\n",
       "      <td>1564574633</td>\n",
       "      <td>A1</td>\n",
       "      <td>2019-07-31 12:03:53</td>\n",
       "      <td>2019-07-31</td>\n",
       "    </tr>\n",
       "    <tr>\n",
       "      <th>1162</th>\n",
       "      <td>MainScreenAppear</td>\n",
       "      <td>246861536070424367</td>\n",
       "      <td>1564574670</td>\n",
       "      <td>B</td>\n",
       "      <td>2019-07-31 12:04:30</td>\n",
       "      <td>2019-07-31</td>\n",
       "    </tr>\n",
       "    <tr>\n",
       "      <th>1163</th>\n",
       "      <td>MainScreenAppear</td>\n",
       "      <td>2336435428072180131</td>\n",
       "      <td>1564574840</td>\n",
       "      <td>A2</td>\n",
       "      <td>2019-07-31 12:07:20</td>\n",
       "      <td>2019-07-31</td>\n",
       "    </tr>\n",
       "  </tbody>\n",
       "</table>\n",
       "</div>"
      ],
      "text/plain": [
       "            event_name       device_id_hash  event_timestamp exp_id  \\\n",
       "1159  MainScreenAppear  9067318300532694216       1564574451      B   \n",
       "1160  CartScreenAppear  1100007125648169445       1564574531      B   \n",
       "1161  MainScreenAppear   105724841806923970       1564574633     A1   \n",
       "1162  MainScreenAppear   246861536070424367       1564574670      B   \n",
       "1163  MainScreenAppear  2336435428072180131       1564574840     A2   \n",
       "\n",
       "                    time       date  \n",
       "1159 2019-07-31 12:00:51 2019-07-31  \n",
       "1160 2019-07-31 12:02:11 2019-07-31  \n",
       "1161 2019-07-31 12:03:53 2019-07-31  \n",
       "1162 2019-07-31 12:04:30 2019-07-31  \n",
       "1163 2019-07-31 12:07:20 2019-07-31  "
      ]
     },
     "execution_count": 41,
     "metadata": {},
     "output_type": "execute_result"
    }
   ],
   "source": [
    "logs_exp_part.head(5)"
   ]
  },
  {
   "cell_type": "code",
   "execution_count": 42,
   "metadata": {},
   "outputs": [
    {
     "data": {
      "image/png": "[encoded data removed]",
      "text/plain": [
       "<Figure size 1000x1000 with 1 Axes>"
      ]
     },
     "metadata": {},
     "output_type": "display_data"
    }
   ],
   "source": [
    "plt.figure(figsize=(10, 10))\n",
    "ax = sns.countplot(y=logs_exp_part['time'].dt.strftime('%Y-%m-%d %H'), hue='event_name', data=logs_exp, dodge=False)\n",
    "ax.set_title('Количество различных событий на период времени')\n",
    "plt.show()"
   ]
  },
  {
   "cell_type": "markdown",
   "metadata": {},
   "source": [
    "Как видим из гистограммы, данные можно считать полными именно с 2019-07-31 21:00:00. В период ранее вышеукащзанной даты возможно влияние старых данных. Исходя из этого можно сделать вывод, что мы можем работать только с данными котороые были полученны с 2019-07-31 21:00:00."
   ]
  },
  {
   "cell_type": "markdown",
   "metadata": {},
   "source": [
    "Отбросим старые данные и оставим только необходимые нам. "
   ]
  },
  {
   "cell_type": "code",
   "execution_count": 43,
   "metadata": {},
   "outputs": [],
   "source": [
    "logs_exp = logs_exp.loc[logs_exp['time'] >= '2019-07-31 21:00:00'] # Отбросим старые значения "
   ]
  },
  {
   "cell_type": "code",
   "execution_count": 44,
   "metadata": {},
   "outputs": [],
   "source": [
    "logs_exp = logs_exp.reset_index(drop=True) "
   ]
  },
  {
   "cell_type": "code",
   "execution_count": 45,
   "metadata": {},
   "outputs": [
    {
     "data": {
      "text/html": [
       "<div>\n",
       "<style scoped>\n",
       "    .dataframe tbody tr th:only-of-type {\n",
       "        vertical-align: middle;\n",
       "    }\n",
       "\n",
       "    .dataframe tbody tr th {\n",
       "        vertical-align: top;\n",
       "    }\n",
       "\n",
       "    .dataframe thead th {\n",
       "        text-align: right;\n",
       "    }\n",
       "</style>\n",
       "<table border=\"1\" class=\"dataframe\">\n",
       "  <thead>\n",
       "    <tr style=\"text-align: right;\">\n",
       "      <th></th>\n",
       "      <th>event_name</th>\n",
       "      <th>device_id_hash</th>\n",
       "      <th>event_timestamp</th>\n",
       "      <th>exp_id</th>\n",
       "      <th>time</th>\n",
       "      <th>date</th>\n",
       "    </tr>\n",
       "  </thead>\n",
       "  <tbody>\n",
       "    <tr>\n",
       "      <th>0</th>\n",
       "      <td>MainScreenAppear</td>\n",
       "      <td>7701922487875823903</td>\n",
       "      <td>1564606857</td>\n",
       "      <td>A2</td>\n",
       "      <td>2019-07-31 21:00:57</td>\n",
       "      <td>2019-07-31</td>\n",
       "    </tr>\n",
       "    <tr>\n",
       "      <th>1</th>\n",
       "      <td>MainScreenAppear</td>\n",
       "      <td>2539077412200498909</td>\n",
       "      <td>1564606905</td>\n",
       "      <td>A2</td>\n",
       "      <td>2019-07-31 21:01:45</td>\n",
       "      <td>2019-07-31</td>\n",
       "    </tr>\n",
       "    <tr>\n",
       "      <th>2</th>\n",
       "      <td>OffersScreenAppear</td>\n",
       "      <td>3286987355161301427</td>\n",
       "      <td>1564606941</td>\n",
       "      <td>B</td>\n",
       "      <td>2019-07-31 21:02:21</td>\n",
       "      <td>2019-07-31</td>\n",
       "    </tr>\n",
       "    <tr>\n",
       "      <th>3</th>\n",
       "      <td>OffersScreenAppear</td>\n",
       "      <td>3187166762535343300</td>\n",
       "      <td>1564606943</td>\n",
       "      <td>A2</td>\n",
       "      <td>2019-07-31 21:02:23</td>\n",
       "      <td>2019-07-31</td>\n",
       "    </tr>\n",
       "    <tr>\n",
       "      <th>4</th>\n",
       "      <td>MainScreenAppear</td>\n",
       "      <td>1118952406011435924</td>\n",
       "      <td>1564607005</td>\n",
       "      <td>B</td>\n",
       "      <td>2019-07-31 21:03:25</td>\n",
       "      <td>2019-07-31</td>\n",
       "    </tr>\n",
       "  </tbody>\n",
       "</table>\n",
       "</div>"
      ],
      "text/plain": [
       "           event_name       device_id_hash  event_timestamp exp_id  \\\n",
       "0    MainScreenAppear  7701922487875823903       1564606857     A2   \n",
       "1    MainScreenAppear  2539077412200498909       1564606905     A2   \n",
       "2  OffersScreenAppear  3286987355161301427       1564606941      B   \n",
       "3  OffersScreenAppear  3187166762535343300       1564606943     A2   \n",
       "4    MainScreenAppear  1118952406011435924       1564607005      B   \n",
       "\n",
       "                 time       date  \n",
       "0 2019-07-31 21:00:57 2019-07-31  \n",
       "1 2019-07-31 21:01:45 2019-07-31  \n",
       "2 2019-07-31 21:02:21 2019-07-31  \n",
       "3 2019-07-31 21:02:23 2019-07-31  \n",
       "4 2019-07-31 21:03:25 2019-07-31  "
      ]
     },
     "execution_count": 45,
     "metadata": {},
     "output_type": "execute_result"
    }
   ],
   "source": [
    "logs_exp.head(5) # Проверим результат"
   ]
  },
  {
   "cell_type": "markdown",
   "metadata": {},
   "source": [
    "Узнаем, какое количество уникальных пользователей были потеряны. "
   ]
  },
  {
   "cell_type": "code",
   "execution_count": 46,
   "metadata": {},
   "outputs": [],
   "source": [
    "total_id = logs_exp['device_id_hash'].nunique()"
   ]
  },
  {
   "cell_type": "code",
   "execution_count": 47,
   "metadata": {},
   "outputs": [
    {
     "data": {
      "text/plain": [
       "7538"
      ]
     },
     "execution_count": 47,
     "metadata": {},
     "output_type": "execute_result"
    }
   ],
   "source": [
    "total_id"
   ]
  },
  {
   "cell_type": "markdown",
   "metadata": {},
   "source": [
    "Изначально, количество уникальных пользователей, без учета старых данных составляло 7551. По исправленным данным количество уникальных пользователей составляет 7538, что не является статистически значимым. "
   ]
  },
  {
   "cell_type": "markdown",
   "metadata": {},
   "source": [
    "Узнаем, сколько событий было отброшено"
   ]
  },
  {
   "cell_type": "code",
   "execution_count": 48,
   "metadata": {
    "scrolled": true
   },
   "outputs": [],
   "source": [
    "event = logs_exp['event_name'].count()"
   ]
  },
  {
   "cell_type": "markdown",
   "metadata": {},
   "source": [
    "Изначально, количество событий, без учета старых данных составляло 243713. По исправленным данным количество событий составляет 241724, что не является статистически значимым. "
   ]
  },
  {
   "cell_type": "markdown",
   "metadata": {},
   "source": [
    "Посчитаем процентное различие в долях по старым данным и новым данным в количестве событий и количестве пользователей."
   ]
  },
  {
   "cell_type": "code",
   "execution_count": 49,
   "metadata": {},
   "outputs": [],
   "source": [
    "event_percent = round((1 - event/event_old)*100, 2)"
   ]
  },
  {
   "cell_type": "code",
   "execution_count": 50,
   "metadata": {},
   "outputs": [
    {
     "data": {
      "text/plain": [
       "0.82"
      ]
     },
     "execution_count": 50,
     "metadata": {},
     "output_type": "execute_result"
    }
   ],
   "source": [
    "event_percent # разница в количестве событий между старыми и новыми данными в процентном соотношении"
   ]
  },
  {
   "cell_type": "code",
   "execution_count": 51,
   "metadata": {},
   "outputs": [],
   "source": [
    "total_percent = round((1 -total_id/total_id_old)*100, 2)"
   ]
  },
  {
   "cell_type": "code",
   "execution_count": 52,
   "metadata": {},
   "outputs": [
    {
     "data": {
      "text/plain": [
       "0.17"
      ]
     },
     "execution_count": 52,
     "metadata": {},
     "output_type": "execute_result"
    }
   ],
   "source": [
    "total_percent # разница в количестве пользователей между старыми и новыми данными в процентном соотношении"
   ]
  },
  {
   "cell_type": "markdown",
   "metadata": {},
   "source": [
    "Посчитаем количественное различие по старым и новым данным."
   ]
  },
  {
   "cell_type": "code",
   "execution_count": 53,
   "metadata": {},
   "outputs": [],
   "source": [
    "event_count = event_old - event "
   ]
  },
  {
   "cell_type": "code",
   "execution_count": 54,
   "metadata": {},
   "outputs": [
    {
     "data": {
      "text/plain": [
       "1989"
      ]
     },
     "execution_count": 54,
     "metadata": {},
     "output_type": "execute_result"
    }
   ],
   "source": [
    "event_count # разница в количестве событий между старыми и новыми данными "
   ]
  },
  {
   "cell_type": "code",
   "execution_count": 55,
   "metadata": {},
   "outputs": [],
   "source": [
    "total_count = total_id_old - total_id"
   ]
  },
  {
   "cell_type": "code",
   "execution_count": 56,
   "metadata": {},
   "outputs": [
    {
     "data": {
      "text/plain": [
       "13"
      ]
     },
     "execution_count": 56,
     "metadata": {},
     "output_type": "execute_result"
    }
   ],
   "source": [
    "total_count # разница в количестве пользователей между старыми и новыми данными "
   ]
  },
  {
   "cell_type": "markdown",
   "metadata": {},
   "source": [
    "Разница между старыми и новыми данными по количеству событий составила 1989. Разница между старыми и новыми данными по количеству пользователей составила 13."
   ]
  },
  {
   "cell_type": "markdown",
   "metadata": {},
   "source": [
    "Проверим, что у нас есть пользователи из всех трёх экспериментальных групп в исправленных данных."
   ]
  },
  {
   "cell_type": "code",
   "execution_count": 57,
   "metadata": {},
   "outputs": [
    {
     "data": {
      "text/plain": [
       "array(['A2', 'B', 'A1'], dtype=object)"
      ]
     },
     "execution_count": 57,
     "metadata": {},
     "output_type": "execute_result"
    }
   ],
   "source": [
    "logs_exp['exp_id'].unique() # Прверим, какие группы остались"
   ]
  },
  {
   "cell_type": "markdown",
   "metadata": {},
   "source": [
    "Узнаем количество пользователе для каждой группы"
   ]
  },
  {
   "cell_type": "code",
   "execution_count": 58,
   "metadata": {},
   "outputs": [],
   "source": [
    "logs_exp_a1 = logs_exp.loc[logs_exp['exp_id'] == 'A1'] # выведем данные для группы А1"
   ]
  },
  {
   "cell_type": "code",
   "execution_count": 59,
   "metadata": {
    "scrolled": true
   },
   "outputs": [],
   "source": [
    "id_a1 = logs_exp_a1['device_id_hash'].nunique() # Сохраним количество пльзователей в группе А1"
   ]
  },
  {
   "cell_type": "code",
   "execution_count": 60,
   "metadata": {},
   "outputs": [
    {
     "data": {
      "text/plain": [
       "2484"
      ]
     },
     "execution_count": 60,
     "metadata": {},
     "output_type": "execute_result"
    }
   ],
   "source": [
    "id_a1 # выведем количество пользователей в группе А1"
   ]
  },
  {
   "cell_type": "code",
   "execution_count": 61,
   "metadata": {},
   "outputs": [],
   "source": [
    "logs_exp_a2 = logs_exp.loc[logs_exp['exp_id'] == 'A2'] # выведем данные для группы А2"
   ]
  },
  {
   "cell_type": "code",
   "execution_count": 62,
   "metadata": {},
   "outputs": [],
   "source": [
    "id_a2 = logs_exp_a2['device_id_hash'].nunique() # Сохраним количество пльзователей в группе А2"
   ]
  },
  {
   "cell_type": "code",
   "execution_count": 63,
   "metadata": {},
   "outputs": [
    {
     "data": {
      "text/plain": [
       "2517"
      ]
     },
     "execution_count": 63,
     "metadata": {},
     "output_type": "execute_result"
    }
   ],
   "source": [
    "id_a2 # выведем количество пользователей в группе А2"
   ]
  },
  {
   "cell_type": "code",
   "execution_count": 64,
   "metadata": {},
   "outputs": [],
   "source": [
    "logs_exp_b = logs_exp.loc[logs_exp['exp_id'] == 'B'] # выведем данные для группы В"
   ]
  },
  {
   "cell_type": "code",
   "execution_count": 65,
   "metadata": {},
   "outputs": [],
   "source": [
    "id_b = logs_exp_b['device_id_hash'].nunique() # Сохраним количество пльзователей в группе B"
   ]
  },
  {
   "cell_type": "code",
   "execution_count": 66,
   "metadata": {},
   "outputs": [
    {
     "data": {
      "text/plain": [
       "2537"
      ]
     },
     "execution_count": 66,
     "metadata": {},
     "output_type": "execute_result"
    }
   ],
   "source": [
    "id_b # выведем количество пользователей в группе В"
   ]
  },
  {
   "cell_type": "markdown",
   "metadata": {},
   "source": [
    "Количество пользователей по группам, совершивших какие - либо действия, распределилось так: А1 - 2484, А2 - 2517, В - 2537. "
   ]
  },
  {
   "cell_type": "markdown",
   "metadata": {},
   "source": [
    "Пересчитаем среднее количество и медиальное количество событий на пользователя по измениашимся данным."
   ]
  },
  {
   "cell_type": "code",
   "execution_count": 67,
   "metadata": {},
   "outputs": [],
   "source": [
    "logs_exp_mean_new = logs_exp.groupby('device_id_hash').agg({'event_name': 'count'}).sort_values(by='event_name', ascending=False)"
   ]
  },
  {
   "cell_type": "code",
   "execution_count": 68,
   "metadata": {},
   "outputs": [
    {
     "data": {
      "text/plain": [
       "32"
      ]
     },
     "execution_count": 68,
     "metadata": {},
     "output_type": "execute_result"
    }
   ],
   "source": [
    "round(logs_exp_mean_new['event_name'].mean())"
   ]
  },
  {
   "cell_type": "code",
   "execution_count": 69,
   "metadata": {},
   "outputs": [
    {
     "data": {
      "text/plain": [
       "19"
      ]
     },
     "execution_count": 69,
     "metadata": {},
     "output_type": "execute_result"
    }
   ],
   "source": [
    "round(logs_exp_mean_new['event_name'].median())"
   ]
  },
  {
   "cell_type": "markdown",
   "metadata": {},
   "source": [
    "На данном этапе исследования было установлено, что среднее количество событий, которое приходится на пользователя,составляет 32, а медиальное 20. По обновленным данным, среднее количество событий, которое приходится на пользователя,составляет 32, а медиальное 19.  Из таблицы, где было сохранено количество событий на одного пользователя можно заметить, что есть значения, которые намного превышают средний показатель событий. Было установлено, что данные можно считать полными именно с 2019-07-31 21:00:00. В период ранее вышеуказанной даты возможно влияние старых данных. Исходя из этого можно сделать вывод, что мы можем работать только с данными котороые были полученны с 2019-07-31 21:00:00. С учетом этого были отброшены данные события которых были ранее 2019-07-31 21:00:00. Изначально, количество уникальных пользователей, без учета старых данных составляло 7551. По исправленным данным количество уникальных пользователей составляет 7538 и составляет примерно 0.17% разницы, что не является статистически значимым. Изначально, количество событий, без учета старых данных составляло 243713. По исправленным данным количество событий составляет 241724 и составляет примерно 0.82% разницы, что не является статистически значимым. Разница между старыми и новыми данными по количеству событий составила 1989. Разница между старыми и новыми данными по количеству пользователей составила 13. Количество пользователей по группам, совершивших какие - либо действия, по новым данным, распределилось так: А1 - 2484, А2 - 2517, В - 2537. "
   ]
  },
  {
   "cell_type": "markdown",
   "metadata": {},
   "source": [
    "## Изучим воронку событий"
   ]
  },
  {
   "cell_type": "markdown",
   "metadata": {},
   "source": [
    "### Посмотрим, какие события есть в логах, как часто они встречаются."
   ]
  },
  {
   "cell_type": "code",
   "execution_count": 70,
   "metadata": {},
   "outputs": [],
   "source": [
    "logs_exp_name = logs_exp.groupby('event_name').agg({'event_name': 'count'}) # Сгруппируем и посчитаем количество событий"
   ]
  },
  {
   "cell_type": "code",
   "execution_count": 71,
   "metadata": {},
   "outputs": [],
   "source": [
    "logs_exp_name.columns = ['count'] # Переименуем на нужное нам название "
   ]
  },
  {
   "cell_type": "code",
   "execution_count": 72,
   "metadata": {},
   "outputs": [
    {
     "data": {
      "text/html": [
       "<div>\n",
       "<style scoped>\n",
       "    .dataframe tbody tr th:only-of-type {\n",
       "        vertical-align: middle;\n",
       "    }\n",
       "\n",
       "    .dataframe tbody tr th {\n",
       "        vertical-align: top;\n",
       "    }\n",
       "\n",
       "    .dataframe thead th {\n",
       "        text-align: right;\n",
       "    }\n",
       "</style>\n",
       "<table border=\"1\" class=\"dataframe\">\n",
       "  <thead>\n",
       "    <tr style=\"text-align: right;\">\n",
       "      <th></th>\n",
       "      <th>event_name</th>\n",
       "      <th>count</th>\n",
       "    </tr>\n",
       "  </thead>\n",
       "  <tbody>\n",
       "    <tr>\n",
       "      <th>0</th>\n",
       "      <td>MainScreenAppear</td>\n",
       "      <td>117889</td>\n",
       "    </tr>\n",
       "    <tr>\n",
       "      <th>1</th>\n",
       "      <td>OffersScreenAppear</td>\n",
       "      <td>46531</td>\n",
       "    </tr>\n",
       "    <tr>\n",
       "      <th>2</th>\n",
       "      <td>CartScreenAppear</td>\n",
       "      <td>42343</td>\n",
       "    </tr>\n",
       "    <tr>\n",
       "      <th>3</th>\n",
       "      <td>PaymentScreenSuccessful</td>\n",
       "      <td>33951</td>\n",
       "    </tr>\n",
       "    <tr>\n",
       "      <th>4</th>\n",
       "      <td>Tutorial</td>\n",
       "      <td>1010</td>\n",
       "    </tr>\n",
       "  </tbody>\n",
       "</table>\n",
       "</div>"
      ],
      "text/plain": [
       "                event_name   count\n",
       "0         MainScreenAppear  117889\n",
       "1       OffersScreenAppear   46531\n",
       "2         CartScreenAppear   42343\n",
       "3  PaymentScreenSuccessful   33951\n",
       "4                 Tutorial    1010"
      ]
     },
     "execution_count": 72,
     "metadata": {},
     "output_type": "execute_result"
    }
   ],
   "source": [
    "logs_exp_name.reset_index().sort_values('count', ascending=False).reset_index(drop=True)#Сбросим индекс,отсортируем по \n",
    "                                                                        #  убыванию, пронумеруем индексы обратно\n",
    "                                                                                        "
   ]
  },
  {
   "cell_type": "markdown",
   "metadata": {},
   "source": [
    "Как видим, наиболее частое событие MainScreenAppear. Далее идет OffersScreenAppear, потом CartScreenAppear, за ним PaymentScreenSuccessful и замыкает Tutorial."
   ]
  },
  {
   "cell_type": "markdown",
   "metadata": {},
   "source": [
    "### Посчитаем, сколько пользователей совершали каждое из этих событий. Посчитаем долю пользователей, которые хоть раз совершали событие."
   ]
  },
  {
   "cell_type": "markdown",
   "metadata": {},
   "source": [
    "Посчитаем количество пользователей, которые совершали каждое из событий. Результат сохраним в переменной count_id"
   ]
  },
  {
   "cell_type": "code",
   "execution_count": 73,
   "metadata": {},
   "outputs": [],
   "source": [
    "count_id = logs_exp.groupby('event_name').agg({'device_id_hash': 'nunique'})"
   ]
  },
  {
   "cell_type": "code",
   "execution_count": 74,
   "metadata": {},
   "outputs": [
    {
     "data": {
      "text/html": [
       "<div>\n",
       "<style scoped>\n",
       "    .dataframe tbody tr th:only-of-type {\n",
       "        vertical-align: middle;\n",
       "    }\n",
       "\n",
       "    .dataframe tbody tr th {\n",
       "        vertical-align: top;\n",
       "    }\n",
       "\n",
       "    .dataframe thead th {\n",
       "        text-align: right;\n",
       "    }\n",
       "</style>\n",
       "<table border=\"1\" class=\"dataframe\">\n",
       "  <thead>\n",
       "    <tr style=\"text-align: right;\">\n",
       "      <th></th>\n",
       "      <th>event_name</th>\n",
       "      <th>device_id_hash</th>\n",
       "    </tr>\n",
       "  </thead>\n",
       "  <tbody>\n",
       "    <tr>\n",
       "      <th>0</th>\n",
       "      <td>MainScreenAppear</td>\n",
       "      <td>7423</td>\n",
       "    </tr>\n",
       "    <tr>\n",
       "      <th>1</th>\n",
       "      <td>OffersScreenAppear</td>\n",
       "      <td>4597</td>\n",
       "    </tr>\n",
       "    <tr>\n",
       "      <th>2</th>\n",
       "      <td>CartScreenAppear</td>\n",
       "      <td>3736</td>\n",
       "    </tr>\n",
       "    <tr>\n",
       "      <th>3</th>\n",
       "      <td>PaymentScreenSuccessful</td>\n",
       "      <td>3540</td>\n",
       "    </tr>\n",
       "    <tr>\n",
       "      <th>4</th>\n",
       "      <td>Tutorial</td>\n",
       "      <td>843</td>\n",
       "    </tr>\n",
       "  </tbody>\n",
       "</table>\n",
       "</div>"
      ],
      "text/plain": [
       "                event_name  device_id_hash\n",
       "0         MainScreenAppear            7423\n",
       "1       OffersScreenAppear            4597\n",
       "2         CartScreenAppear            3736\n",
       "3  PaymentScreenSuccessful            3540\n",
       "4                 Tutorial             843"
      ]
     },
     "execution_count": 74,
     "metadata": {},
     "output_type": "execute_result"
    }
   ],
   "source": [
    "count_id.reset_index().sort_values(by='device_id_hash', ascending=False).reset_index(drop=True)#Сбросим индекс,отсортируем \n",
    "                                                                                # по убыванию, пронумеруем индексы обратно "
   ]
  },
  {
   "cell_type": "markdown",
   "metadata": {},
   "source": [
    "Как видим, больше всего пользователей совершало событие MainScreenAppear - 7423, далее OffersScreenAppear - 4597, далее CartScreenAppear - 3736, далее PaymentScreenSuccessful - 3540 и замыкает Tutorial - 843."
   ]
  },
  {
   "cell_type": "markdown",
   "metadata": {},
   "source": [
    "Посчитаем долю пользователей, которые хоть раз совершали событие. Сохраним процент данных пользователей в столбце percent_id. Ранее мы узнали, что общее количество пользователей 7538."
   ]
  },
  {
   "cell_type": "code",
   "execution_count": 75,
   "metadata": {},
   "outputs": [],
   "source": [
    "count_id['percent_id'] = round(count_id['device_id_hash']/total_id*100, 2) # получим процентную долю \n",
    "                                                                      # от общего количества пользователей"
   ]
  },
  {
   "cell_type": "code",
   "execution_count": 76,
   "metadata": {},
   "outputs": [],
   "source": [
    "count_id = count_id.reset_index().sort_values(by='device_id_hash', ascending=False).reset_index(drop=True)"
   ]
  },
  {
   "cell_type": "code",
   "execution_count": 77,
   "metadata": {},
   "outputs": [
    {
     "data": {
      "text/html": [
       "<div>\n",
       "<style scoped>\n",
       "    .dataframe tbody tr th:only-of-type {\n",
       "        vertical-align: middle;\n",
       "    }\n",
       "\n",
       "    .dataframe tbody tr th {\n",
       "        vertical-align: top;\n",
       "    }\n",
       "\n",
       "    .dataframe thead th {\n",
       "        text-align: right;\n",
       "    }\n",
       "</style>\n",
       "<table border=\"1\" class=\"dataframe\">\n",
       "  <thead>\n",
       "    <tr style=\"text-align: right;\">\n",
       "      <th></th>\n",
       "      <th>event_name</th>\n",
       "      <th>device_id_hash</th>\n",
       "      <th>percent_id</th>\n",
       "    </tr>\n",
       "  </thead>\n",
       "  <tbody>\n",
       "    <tr>\n",
       "      <th>0</th>\n",
       "      <td>MainScreenAppear</td>\n",
       "      <td>7423</td>\n",
       "      <td>98.47</td>\n",
       "    </tr>\n",
       "    <tr>\n",
       "      <th>1</th>\n",
       "      <td>OffersScreenAppear</td>\n",
       "      <td>4597</td>\n",
       "      <td>60.98</td>\n",
       "    </tr>\n",
       "    <tr>\n",
       "      <th>2</th>\n",
       "      <td>CartScreenAppear</td>\n",
       "      <td>3736</td>\n",
       "      <td>49.56</td>\n",
       "    </tr>\n",
       "    <tr>\n",
       "      <th>3</th>\n",
       "      <td>PaymentScreenSuccessful</td>\n",
       "      <td>3540</td>\n",
       "      <td>46.96</td>\n",
       "    </tr>\n",
       "    <tr>\n",
       "      <th>4</th>\n",
       "      <td>Tutorial</td>\n",
       "      <td>843</td>\n",
       "      <td>11.18</td>\n",
       "    </tr>\n",
       "  </tbody>\n",
       "</table>\n",
       "</div>"
      ],
      "text/plain": [
       "                event_name  device_id_hash  percent_id\n",
       "0         MainScreenAppear            7423       98.47\n",
       "1       OffersScreenAppear            4597       60.98\n",
       "2         CartScreenAppear            3736       49.56\n",
       "3  PaymentScreenSuccessful            3540       46.96\n",
       "4                 Tutorial             843       11.18"
      ]
     },
     "execution_count": 77,
     "metadata": {},
     "output_type": "execute_result"
    }
   ],
   "source": [
    "count_id"
   ]
  },
  {
   "cell_type": "markdown",
   "metadata": {},
   "source": [
    "Доли пользователей, которые хоть раз совершали событие: 98.47/60.98/49.56/46.96/11.18 соответсвенно для MainScreenAppear/OffersScreenAppear/CartScreenAppear/PaymentScreenSuccessful/Tutorial."
   ]
  },
  {
   "cell_type": "markdown",
   "metadata": {},
   "source": [
    "### Предположим, в каком порядке происходят события. Выясним, все ли они выстраиваются в последовательную цепочку."
   ]
  },
  {
   "cell_type": "markdown",
   "metadata": {},
   "source": [
    "Скорее всего, события происходят в данной последовательности:\n",
    "1. MainScreenAppear, где, скорее всего, появляется главая страница \n",
    "2. OffersScreenAppear, где, скорее всего, появляется страница с товаром  \n",
    "3. CartScreenAppear, где, скорее всего, появляется страница с купленным товаром  \n",
    "4. PaymentScreenSuccessful, где, скорее всего, появляется страница с оплатой    \n",
    "5. Событие Tutorial, где, скорее всего, содержится информация о том, как пользоваться приложением, не может быть выстроена в последовательную цепочку, так как вопросы о пользовании приложения могут возникнуть на любом этапе."
   ]
  },
  {
   "cell_type": "markdown",
   "metadata": {},
   "source": [
    "### По воронке событий посчитаем, какая доля пользователей проходит на следующий шаг воронки."
   ]
  },
  {
   "cell_type": "markdown",
   "metadata": {},
   "source": [
    "Расчитаем, какая доля пользователей проходит на следующий шаг воронки. Для расчета создадим новый столбец, last_percent в датафрейме count_id. При этом, удалим строку Tutorial, так как она не может быть встроена в последовательную цепочку событий."
   ]
  },
  {
   "cell_type": "code",
   "execution_count": 78,
   "metadata": {},
   "outputs": [],
   "source": [
    "count_id = count_id.loc[: 3] # Уберем строку Tutorial"
   ]
  },
  {
   "cell_type": "code",
   "execution_count": 79,
   "metadata": {},
   "outputs": [
    {
     "data": {
      "text/html": [
       "<div>\n",
       "<style scoped>\n",
       "    .dataframe tbody tr th:only-of-type {\n",
       "        vertical-align: middle;\n",
       "    }\n",
       "\n",
       "    .dataframe tbody tr th {\n",
       "        vertical-align: top;\n",
       "    }\n",
       "\n",
       "    .dataframe thead th {\n",
       "        text-align: right;\n",
       "    }\n",
       "</style>\n",
       "<table border=\"1\" class=\"dataframe\">\n",
       "  <thead>\n",
       "    <tr style=\"text-align: right;\">\n",
       "      <th></th>\n",
       "      <th>event_name</th>\n",
       "      <th>device_id_hash</th>\n",
       "      <th>percent_id</th>\n",
       "    </tr>\n",
       "  </thead>\n",
       "  <tbody>\n",
       "    <tr>\n",
       "      <th>0</th>\n",
       "      <td>MainScreenAppear</td>\n",
       "      <td>7423</td>\n",
       "      <td>98.47</td>\n",
       "    </tr>\n",
       "    <tr>\n",
       "      <th>1</th>\n",
       "      <td>OffersScreenAppear</td>\n",
       "      <td>4597</td>\n",
       "      <td>60.98</td>\n",
       "    </tr>\n",
       "    <tr>\n",
       "      <th>2</th>\n",
       "      <td>CartScreenAppear</td>\n",
       "      <td>3736</td>\n",
       "      <td>49.56</td>\n",
       "    </tr>\n",
       "    <tr>\n",
       "      <th>3</th>\n",
       "      <td>PaymentScreenSuccessful</td>\n",
       "      <td>3540</td>\n",
       "      <td>46.96</td>\n",
       "    </tr>\n",
       "  </tbody>\n",
       "</table>\n",
       "</div>"
      ],
      "text/plain": [
       "                event_name  device_id_hash  percent_id\n",
       "0         MainScreenAppear            7423       98.47\n",
       "1       OffersScreenAppear            4597       60.98\n",
       "2         CartScreenAppear            3736       49.56\n",
       "3  PaymentScreenSuccessful            3540       46.96"
      ]
     },
     "execution_count": 79,
     "metadata": {},
     "output_type": "execute_result"
    }
   ],
   "source": [
    "count_id"
   ]
  },
  {
   "cell_type": "code",
   "execution_count": 80,
   "metadata": {},
   "outputs": [
    {
     "name": "stderr",
     "output_type": "stream",
     "text": [
      "C:\\Users\\HP-work\\AppData\\Local\\Temp\\ipykernel_6468\\1532999516.py:1: SettingWithCopyWarning:\n",
      "\n",
      "\n",
      "A value is trying to be set on a copy of a slice from a DataFrame.\n",
      "Try using .loc[row_indexer,col_indexer] = value instead\n",
      "\n",
      "See the caveats in the documentation: https://pandas.pydata.org/pandas-docs/stable/user_guide/indexing.html#returning-a-view-versus-a-copy\n",
      "\n"
     ]
    }
   ],
   "source": [
    "count_id['last_percent'] = round(count_id['device_id_hash']/\n",
    "                           count_id['device_id_hash'].shift(1) * 100, 2) # посчитаем, какая доля пользователей \n",
    "                                                                         # проходит на следующий шаг воронки"
   ]
  },
  {
   "cell_type": "code",
   "execution_count": 81,
   "metadata": {},
   "outputs": [
    {
     "data": {
      "text/html": [
       "<div>\n",
       "<style scoped>\n",
       "    .dataframe tbody tr th:only-of-type {\n",
       "        vertical-align: middle;\n",
       "    }\n",
       "\n",
       "    .dataframe tbody tr th {\n",
       "        vertical-align: top;\n",
       "    }\n",
       "\n",
       "    .dataframe thead th {\n",
       "        text-align: right;\n",
       "    }\n",
       "</style>\n",
       "<table border=\"1\" class=\"dataframe\">\n",
       "  <thead>\n",
       "    <tr style=\"text-align: right;\">\n",
       "      <th></th>\n",
       "      <th>event_name</th>\n",
       "      <th>device_id_hash</th>\n",
       "      <th>percent_id</th>\n",
       "      <th>last_percent</th>\n",
       "    </tr>\n",
       "  </thead>\n",
       "  <tbody>\n",
       "    <tr>\n",
       "      <th>0</th>\n",
       "      <td>MainScreenAppear</td>\n",
       "      <td>7423</td>\n",
       "      <td>98.47</td>\n",
       "      <td>NaN</td>\n",
       "    </tr>\n",
       "    <tr>\n",
       "      <th>1</th>\n",
       "      <td>OffersScreenAppear</td>\n",
       "      <td>4597</td>\n",
       "      <td>60.98</td>\n",
       "      <td>61.93</td>\n",
       "    </tr>\n",
       "    <tr>\n",
       "      <th>2</th>\n",
       "      <td>CartScreenAppear</td>\n",
       "      <td>3736</td>\n",
       "      <td>49.56</td>\n",
       "      <td>81.27</td>\n",
       "    </tr>\n",
       "    <tr>\n",
       "      <th>3</th>\n",
       "      <td>PaymentScreenSuccessful</td>\n",
       "      <td>3540</td>\n",
       "      <td>46.96</td>\n",
       "      <td>94.75</td>\n",
       "    </tr>\n",
       "  </tbody>\n",
       "</table>\n",
       "</div>"
      ],
      "text/plain": [
       "                event_name  device_id_hash  percent_id  last_percent\n",
       "0         MainScreenAppear            7423       98.47           NaN\n",
       "1       OffersScreenAppear            4597       60.98         61.93\n",
       "2         CartScreenAppear            3736       49.56         81.27\n",
       "3  PaymentScreenSuccessful            3540       46.96         94.75"
      ]
     },
     "execution_count": 81,
     "metadata": {},
     "output_type": "execute_result"
    }
   ],
   "source": [
    "count_id # выведем значения"
   ]
  },
  {
   "cell_type": "markdown",
   "metadata": {},
   "source": [
    "Изобразим графически, какая доля пользователей проходит на следующий шаг воронки."
   ]
  },
  {
   "cell_type": "code",
   "execution_count": 82,
   "metadata": {},
   "outputs": [
    {
     "data": {
      "image/svg+xml": [
       "<svg class=\"main-svg\" xmlns=\"http://www.w3.org/2000/svg\" xmlns:xlink=\"http://www.w3.org/1999/xlink\" width=\"700\" height=\"500\" style=\"\" viewBox=\"0 0 700 500\"><rect x=\"0\" y=\"0\" width=\"700\" height=\"500\" style=\"fill: rgb(255, 255, 255); fill-opacity: 1;\"/><defs id=\"defs-f9ccbc\"><g class=\"clips\"><clipPath id=\"clipf9ccbcxyplot\" class=\"plotclip\"><rect width=\"450\" height=\"320\"/></clipPath><clipPath class=\"axesclip\" id=\"clipf9ccbcx\"><rect x=\"170\" y=\"0\" width=\"450\" height=\"500\"/></clipPath><clipPath class=\"axesclip\" id=\"clipf9ccbcy\"><rect x=\"0\" y=\"100\" width=\"700\" height=\"320\"/></clipPath><clipPath class=\"axesclip\" id=\"clipf9ccbcxy\"><rect x=\"170\" y=\"100\" width=\"450\" height=\"320\"/></clipPath></g><g class=\"gradients\"/><g class=\"patterns\"/></defs><g class=\"bglayer\"><rect class=\"bg\" x=\"170\" y=\"100\" width=\"450\" height=\"320\" style=\"fill: rgb(229, 236, 246); fill-opacity: 1; stroke-width: 0;\"/></g><g class=\"layer-below\"><g class=\"imagelayer\"/><g class=\"shapelayer\"/></g><g class=\"cartesianlayer\"><g class=\"subplot xy\"><g class=\"layer-subplot\"><g class=\"shapelayer\"/><g class=\"imagelayer\"/></g><g class=\"gridlayer\"><g class=\"x\"/><g class=\"y\"/></g><g class=\"zerolinelayer\"/><path class=\"xlines-below\"/><path class=\"ylines-below\"/><g class=\"overlines-below\"/><g class=\"xaxislayer-below\"/><g class=\"yaxislayer-below\"/><g class=\"overaxes-below\"/><g class=\"plot\" transform=\"translate(170,100)\" clip-path=\"url(#clipf9ccbcxyplot)\"><g class=\"funnellayer mlayer\"><g class=\"trace bars\" style=\"opacity: 1;\"><g class=\"regions\"><g class=\"region\"><path d=\"M22.5,72L99.59,88H350.41L427.5,72Z\" style=\"stroke-width: 0; fill: rgb(99, 110, 250); fill-opacity: 0.5;\"/></g><g class=\"region\"><path d=\"M99.59,152L123.08,168H326.92L350.41,152Z\" style=\"stroke-width: 0; fill: rgb(99, 110, 250); fill-opacity: 0.5;\"/></g><g class=\"region\"><path d=\"M123.08,232L128.43,248H321.57L326.92,232Z\" style=\"stroke-width: 0; fill: rgb(99, 110, 250); fill-opacity: 0.5;\"/></g><g class=\"region\"><path d=\"M0,0Z\" style=\"stroke-width: 0; fill: rgb(99, 110, 250); fill-opacity: 0.5;\"/></g></g><g class=\"points\"><g class=\"point\"><path d=\"M22.5,8V72H427.5V8Z\" style=\"vector-effect: non-scaling-stroke; fill: rgb(99, 110, 250); fill-opacity: 1; stroke: rgb(68, 68, 68); stroke-opacity: 1; stroke-width: 0px; opacity: 1;\"/><text class=\"bartext bartext-inside\" text-anchor=\"middle\" data-notex=\"1\" x=\"0\" y=\"0\" style=\"font-family: 'Open Sans', verdana, arial, sans-serif; font-size: 12px; fill: rgb(255, 255, 255); fill-opacity: 1; white-space: pre;\" transform=\"translate(224.953125,36.6953125)\"><tspan class=\"line\" dy=\"0em\" x=\"0\" y=\"0\">7423</tspan><tspan class=\"line\" dy=\"1.3em\" x=\"0\" y=\"0\">100%</tspan></text></g><g class=\"point\"><path d=\"M99.59,88V152H350.41V88Z\" style=\"vector-effect: non-scaling-stroke; fill: rgb(99, 110, 250); fill-opacity: 1; stroke: rgb(68, 68, 68); stroke-opacity: 1; stroke-width: 0px; opacity: 1;\"/><text class=\"bartext bartext-inside\" text-anchor=\"middle\" data-notex=\"1\" x=\"0\" y=\"0\" style=\"font-family: 'Open Sans', verdana, arial, sans-serif; font-size: 12px; fill: rgb(255, 255, 255); fill-opacity: 1; white-space: pre;\" transform=\"translate(224.8125,116.6953125)\"><tspan class=\"line\" dy=\"0em\" x=\"0\" y=\"0\">4597</tspan><tspan class=\"line\" dy=\"1.3em\" x=\"0\" y=\"0\">62%</tspan></text></g><g class=\"point\"><path d=\"M123.08,168V232H326.92V168Z\" style=\"vector-effect: non-scaling-stroke; fill: rgb(99, 110, 250); fill-opacity: 1; stroke: rgb(68, 68, 68); stroke-opacity: 1; stroke-width: 0px; opacity: 1;\"/><text class=\"bartext bartext-inside\" text-anchor=\"middle\" data-notex=\"1\" x=\"0\" y=\"0\" style=\"font-family: 'Open Sans', verdana, arial, sans-serif; font-size: 12px; fill: rgb(255, 255, 255); fill-opacity: 1; white-space: pre;\" transform=\"translate(224.8125,196.6953125)\"><tspan class=\"line\" dy=\"0em\" x=\"0\" y=\"0\">3736</tspan><tspan class=\"line\" dy=\"1.3em\" x=\"0\" y=\"0\">81%</tspan></text></g><g class=\"point\"><path d=\"M128.43,248V312H321.57V248Z\" style=\"vector-effect: non-scaling-stroke; fill: rgb(99, 110, 250); fill-opacity: 1; stroke: rgb(68, 68, 68); stroke-opacity: 1; stroke-width: 0px; opacity: 1;\"/><text class=\"bartext bartext-inside\" text-anchor=\"middle\" data-notex=\"1\" x=\"0\" y=\"0\" style=\"font-family: 'Open Sans', verdana, arial, sans-serif; font-size: 12px; fill: rgb(255, 255, 255); fill-opacity: 1; white-space: pre;\" transform=\"translate(224.8125,276.6953125)\"><tspan class=\"line\" dy=\"0em\" x=\"0\" y=\"0\">3540</tspan><tspan class=\"line\" dy=\"1.3em\" x=\"0\" y=\"0\">95%</tspan></text></g></g></g></g></g><g class=\"overplot\"/><path class=\"xlines-above crisp\" d=\"M0,0\" style=\"fill: none;\"/><path class=\"ylines-above crisp\" d=\"M0,0\" style=\"fill: none;\"/><g class=\"overlines-above\"/><g class=\"xaxislayer-above\"/><g class=\"yaxislayer-above\"><g class=\"ytick\"><text text-anchor=\"end\" x=\"169\" y=\"4.199999999999999\" transform=\"translate(0,380)\" style=\"font-family: 'Open Sans', verdana, arial, sans-serif; font-size: 12px; fill: rgb(42, 63, 95); fill-opacity: 1; white-space: pre; opacity: 1;\">PaymentScreenSuccessful</text></g><g class=\"ytick\"><text text-anchor=\"end\" x=\"169\" y=\"4.199999999999999\" transform=\"translate(0,300)\" style=\"font-family: 'Open Sans', verdana, arial, sans-serif; font-size: 12px; fill: rgb(42, 63, 95); fill-opacity: 1; white-space: pre; opacity: 1;\">CartScreenAppear</text></g><g class=\"ytick\"><text text-anchor=\"end\" x=\"169\" y=\"4.199999999999999\" transform=\"translate(0,220)\" style=\"font-family: 'Open Sans', verdana, arial, sans-serif; font-size: 12px; fill: rgb(42, 63, 95); fill-opacity: 1; white-space: pre; opacity: 1;\">OffersScreenAppear</text></g><g class=\"ytick\"><text text-anchor=\"end\" x=\"169\" y=\"4.199999999999999\" transform=\"translate(0,140)\" style=\"font-family: 'Open Sans', verdana, arial, sans-serif; font-size: 12px; fill: rgb(42, 63, 95); fill-opacity: 1; white-space: pre; opacity: 1;\">MainScreenAppear</text></g></g><g class=\"overaxes-above\"/></g></g><g class=\"polarlayer\"/><g class=\"smithlayer\"/><g class=\"ternarylayer\"/><g class=\"geolayer\"/><g class=\"funnelarealayer\"/><g class=\"pielayer\"/><g class=\"iciclelayer\"/><g class=\"treemaplayer\"/><g class=\"sunburstlayer\"/><g class=\"glimages\"/><defs id=\"topdefs-f9ccbc\"><g class=\"clips\"/></defs><g class=\"layer-above\"><g class=\"imagelayer\"/><g class=\"shapelayer\"/></g><g class=\"infolayer\"><g class=\"g-gtitle\"/><g class=\"g-ytitle\"/></g></svg>"
      ]
     },
     "metadata": {},
     "output_type": "display_data"
    }
   ],
   "source": [
    "fig = go.Figure()\n",
    "fig.add_trace(go.Funnel(\n",
    "    name = 'last_percent',\n",
    "    y = count_id['event_name'],\n",
    "    x = count_id['device_id_hash'],\n",
    "    textposition = \"inside\",\n",
    "    textinfo = \"value+percent previous\"))"
   ]
  },
  {
   "cell_type": "markdown",
   "metadata": {},
   "source": [
    "Как видим, больше всего пользователей, примерно 38%, теряется при переходе от события MainScreenAppear к событию OffersScreenAppear. Возможно это связано с нестабильной работой приложения, либо неудобным интерфейсом приложения."
   ]
  },
  {
   "cell_type": "markdown",
   "metadata": {},
   "source": [
    "Расчитаем, какая доля пользователей доходит от первого события до оплаты."
   ]
  },
  {
   "cell_type": "code",
   "execution_count": 83,
   "metadata": {},
   "outputs": [],
   "source": [
    "percent_pay = count_id.loc[3, 'device_id_hash']/count_id.loc[0, 'device_id_hash'] * 100"
   ]
  },
  {
   "cell_type": "code",
   "execution_count": 84,
   "metadata": {},
   "outputs": [
    {
     "data": {
      "text/plain": [
       "47.69"
      ]
     },
     "execution_count": 84,
     "metadata": {},
     "output_type": "execute_result"
    }
   ],
   "source": [
    "round(percent_pay, 2) # Выведем значение "
   ]
  },
  {
   "cell_type": "markdown",
   "metadata": {},
   "source": [
    "Как видим, общая доля пользователей, которая доходит от первого события до оплаты равна 47.69 %. "
   ]
  },
  {
   "cell_type": "markdown",
   "metadata": {},
   "source": [
    "На данном этапе исследования были сделаны следующие выводы:  \n",
    "* наиболее частое событие MainScreenAppear. Далее идет OffersScreenAppear, потом CartScreenAppear, за ним PaymentScreenSuccessful и замыкает Tutorial  \n",
    "* больше всего пользователей совершало событие MainScreenAppear - 7423, далее OffersScreenAppear - 4597, далее CartScreenAppear - 3736, далее PaymentScreenSuccessful - 3540 и замыкает Tutorial - 843 \n",
    "* доли пользователей, которые хоть раз совершали событие: 98.47/60.98/49.56/46.96/11.18 соответсвенно для MainScreenAppear/OffersScreenAppear/CartScreenAppear/PaymentScreenSuccessful/Tutorial. \n",
    "* Скорее всего, события происходят в данной последовательности:\n",
    "1. MainScreenAppear, где, скорее всего, появляется главая страница \n",
    "2. OffersScreenAppear, где, скорее всего, появляется страница с товаром  \n",
    "3. CartScreenAppear, где, скорее всего, появляется страница с купленным товаром  \n",
    "4. PaymentScreenSuccessful, где, скорее всего, появляется страница с оплатой    \n",
    "5. Событие Tutorial, где, скорее всего, содержится информация о том, как пользоваться приложением, не может быть выстроена в последовательную цепочку, так как вопросы о пользовании приложения могут возникнуть на любом этапе  \n",
    "* больше всего пользователей, примерно 38%, теряется при переходе от события MainScreenAppear к событию OffersScreenAppear. Возможно это связано с нестабильной работой приложения, либо неудобным интерфейсом приложения  \n",
    "* общая доля пользователей, которая доходит от первого события до оплаты равна 47.69 %\n"
   ]
  },
  {
   "cell_type": "markdown",
   "metadata": {},
   "source": [
    "## Изучим результаты эксперимента."
   ]
  },
  {
   "cell_type": "markdown",
   "metadata": {},
   "source": [
    "### Выясним, сколько пользователей в каждой экспериментальной группе."
   ]
  },
  {
   "cell_type": "markdown",
   "metadata": {},
   "source": [
    "Ранее было расчино, что количество пользователей по группам, совершивших какие - либо действия, распределилось так: А1 - 2484, А2 - 2517, В - 2537. "
   ]
  },
  {
   "cell_type": "markdown",
   "metadata": {},
   "source": [
    "Перед анализом удалим события Tutorial."
   ]
  },
  {
   "cell_type": "code",
   "execution_count": 85,
   "metadata": {},
   "outputs": [],
   "source": [
    "logs_exp = logs_exp.query('event_name != \"Tutorial\"').reset_index()"
   ]
  },
  {
   "cell_type": "markdown",
   "metadata": {},
   "source": [
    "### Проверим, находят ли статистические критерии разницу между выборками."
   ]
  },
  {
   "cell_type": "code",
   "execution_count": 86,
   "metadata": {},
   "outputs": [],
   "source": [
    "event_pivot=logs_exp.pivot_table(index=['event_name','exp_id'], values='device_id_hash', \n",
    "aggfunc=['count', 'nunique']).reset_index() # Получим общую таблицу количества уникальных пользователей по событиям \n",
    "                                            # в группах и количество событий в этих группах\n",
    "event_pivot.columns= ['event_name','exp_id', 'n_events', 'n_users'] # Переименуем столбцы"
   ]
  },
  {
   "cell_type": "code",
   "execution_count": 87,
   "metadata": {},
   "outputs": [
    {
     "data": {
      "text/html": [
       "<div>\n",
       "<style scoped>\n",
       "    .dataframe tbody tr th:only-of-type {\n",
       "        vertical-align: middle;\n",
       "    }\n",
       "\n",
       "    .dataframe tbody tr th {\n",
       "        vertical-align: top;\n",
       "    }\n",
       "\n",
       "    .dataframe thead th {\n",
       "        text-align: right;\n",
       "    }\n",
       "</style>\n",
       "<table border=\"1\" class=\"dataframe\">\n",
       "  <thead>\n",
       "    <tr style=\"text-align: right;\">\n",
       "      <th></th>\n",
       "      <th>event_name</th>\n",
       "      <th>exp_id</th>\n",
       "      <th>n_events</th>\n",
       "      <th>n_users</th>\n",
       "    </tr>\n",
       "  </thead>\n",
       "  <tbody>\n",
       "    <tr>\n",
       "      <th>0</th>\n",
       "      <td>CartScreenAppear</td>\n",
       "      <td>A1</td>\n",
       "      <td>14697</td>\n",
       "      <td>1266</td>\n",
       "    </tr>\n",
       "    <tr>\n",
       "      <th>1</th>\n",
       "      <td>CartScreenAppear</td>\n",
       "      <td>A2</td>\n",
       "      <td>12439</td>\n",
       "      <td>1239</td>\n",
       "    </tr>\n",
       "    <tr>\n",
       "      <th>2</th>\n",
       "      <td>CartScreenAppear</td>\n",
       "      <td>B</td>\n",
       "      <td>15207</td>\n",
       "      <td>1231</td>\n",
       "    </tr>\n",
       "    <tr>\n",
       "      <th>3</th>\n",
       "      <td>MainScreenAppear</td>\n",
       "      <td>A1</td>\n",
       "      <td>37855</td>\n",
       "      <td>2450</td>\n",
       "    </tr>\n",
       "    <tr>\n",
       "      <th>4</th>\n",
       "      <td>MainScreenAppear</td>\n",
       "      <td>A2</td>\n",
       "      <td>39294</td>\n",
       "      <td>2479</td>\n",
       "    </tr>\n",
       "    <tr>\n",
       "      <th>5</th>\n",
       "      <td>MainScreenAppear</td>\n",
       "      <td>B</td>\n",
       "      <td>40740</td>\n",
       "      <td>2494</td>\n",
       "    </tr>\n",
       "    <tr>\n",
       "      <th>6</th>\n",
       "      <td>OffersScreenAppear</td>\n",
       "      <td>A1</td>\n",
       "      <td>14829</td>\n",
       "      <td>1542</td>\n",
       "    </tr>\n",
       "    <tr>\n",
       "      <th>7</th>\n",
       "      <td>OffersScreenAppear</td>\n",
       "      <td>A2</td>\n",
       "      <td>15237</td>\n",
       "      <td>1524</td>\n",
       "    </tr>\n",
       "    <tr>\n",
       "      <th>8</th>\n",
       "      <td>OffersScreenAppear</td>\n",
       "      <td>B</td>\n",
       "      <td>16465</td>\n",
       "      <td>1531</td>\n",
       "    </tr>\n",
       "    <tr>\n",
       "      <th>9</th>\n",
       "      <td>PaymentScreenSuccessful</td>\n",
       "      <td>A1</td>\n",
       "      <td>11858</td>\n",
       "      <td>1200</td>\n",
       "    </tr>\n",
       "    <tr>\n",
       "      <th>10</th>\n",
       "      <td>PaymentScreenSuccessful</td>\n",
       "      <td>A2</td>\n",
       "      <td>9983</td>\n",
       "      <td>1158</td>\n",
       "    </tr>\n",
       "    <tr>\n",
       "      <th>11</th>\n",
       "      <td>PaymentScreenSuccessful</td>\n",
       "      <td>B</td>\n",
       "      <td>12110</td>\n",
       "      <td>1182</td>\n",
       "    </tr>\n",
       "  </tbody>\n",
       "</table>\n",
       "</div>"
      ],
      "text/plain": [
       "                 event_name exp_id  n_events  n_users\n",
       "0          CartScreenAppear     A1     14697     1266\n",
       "1          CartScreenAppear     A2     12439     1239\n",
       "2          CartScreenAppear      B     15207     1231\n",
       "3          MainScreenAppear     A1     37855     2450\n",
       "4          MainScreenAppear     A2     39294     2479\n",
       "5          MainScreenAppear      B     40740     2494\n",
       "6        OffersScreenAppear     A1     14829     1542\n",
       "7        OffersScreenAppear     A2     15237     1524\n",
       "8        OffersScreenAppear      B     16465     1531\n",
       "9   PaymentScreenSuccessful     A1     11858     1200\n",
       "10  PaymentScreenSuccessful     A2      9983     1158\n",
       "11  PaymentScreenSuccessful      B     12110     1182"
      ]
     },
     "execution_count": 87,
     "metadata": {},
     "output_type": "execute_result"
    }
   ],
   "source": [
    "event_pivot # Просмотрим таблицу"
   ]
  },
  {
   "cell_type": "markdown",
   "metadata": {},
   "source": [
    "Выведем количество пользователей по событиям в каждой группе"
   ]
  },
  {
   "cell_type": "code",
   "execution_count": 88,
   "metadata": {},
   "outputs": [],
   "source": [
    "group_a1 = event_pivot.query('exp_id == \"A1\"').sort_values(by='n_users', ascending=False).reset_index(drop=True)"
   ]
  },
  {
   "cell_type": "code",
   "execution_count": 89,
   "metadata": {},
   "outputs": [],
   "source": [
    "group_a1.drop(['exp_id', 'n_events'], axis= 1 , inplace= True ) "
   ]
  },
  {
   "cell_type": "code",
   "execution_count": 90,
   "metadata": {},
   "outputs": [],
   "source": [
    "group_a1.columns = ['event_name', 'count_a1']"
   ]
  },
  {
   "cell_type": "code",
   "execution_count": 91,
   "metadata": {},
   "outputs": [
    {
     "data": {
      "text/html": [
       "<div>\n",
       "<style scoped>\n",
       "    .dataframe tbody tr th:only-of-type {\n",
       "        vertical-align: middle;\n",
       "    }\n",
       "\n",
       "    .dataframe tbody tr th {\n",
       "        vertical-align: top;\n",
       "    }\n",
       "\n",
       "    .dataframe thead th {\n",
       "        text-align: right;\n",
       "    }\n",
       "</style>\n",
       "<table border=\"1\" class=\"dataframe\">\n",
       "  <thead>\n",
       "    <tr style=\"text-align: right;\">\n",
       "      <th></th>\n",
       "      <th>event_name</th>\n",
       "      <th>count_a1</th>\n",
       "    </tr>\n",
       "  </thead>\n",
       "  <tbody>\n",
       "    <tr>\n",
       "      <th>0</th>\n",
       "      <td>MainScreenAppear</td>\n",
       "      <td>2450</td>\n",
       "    </tr>\n",
       "    <tr>\n",
       "      <th>1</th>\n",
       "      <td>OffersScreenAppear</td>\n",
       "      <td>1542</td>\n",
       "    </tr>\n",
       "    <tr>\n",
       "      <th>2</th>\n",
       "      <td>CartScreenAppear</td>\n",
       "      <td>1266</td>\n",
       "    </tr>\n",
       "    <tr>\n",
       "      <th>3</th>\n",
       "      <td>PaymentScreenSuccessful</td>\n",
       "      <td>1200</td>\n",
       "    </tr>\n",
       "  </tbody>\n",
       "</table>\n",
       "</div>"
      ],
      "text/plain": [
       "                event_name  count_a1\n",
       "0         MainScreenAppear      2450\n",
       "1       OffersScreenAppear      1542\n",
       "2         CartScreenAppear      1266\n",
       "3  PaymentScreenSuccessful      1200"
      ]
     },
     "execution_count": 91,
     "metadata": {},
     "output_type": "execute_result"
    }
   ],
   "source": [
    "group_a1 # Количество пользователей по событим в группе А1"
   ]
  },
  {
   "cell_type": "code",
   "execution_count": 92,
   "metadata": {},
   "outputs": [],
   "source": [
    "group_a2 = event_pivot.query('exp_id == \"A2\"').sort_values(by='n_users', ascending=False).reset_index(drop=True)"
   ]
  },
  {
   "cell_type": "code",
   "execution_count": 93,
   "metadata": {},
   "outputs": [],
   "source": [
    "group_a2.drop(['exp_id', 'n_events'], axis= 1 , inplace= True ) "
   ]
  },
  {
   "cell_type": "code",
   "execution_count": 94,
   "metadata": {},
   "outputs": [],
   "source": [
    "group_a2.columns = ['event_name', 'count_a2']"
   ]
  },
  {
   "cell_type": "code",
   "execution_count": 95,
   "metadata": {},
   "outputs": [
    {
     "data": {
      "text/html": [
       "<div>\n",
       "<style scoped>\n",
       "    .dataframe tbody tr th:only-of-type {\n",
       "        vertical-align: middle;\n",
       "    }\n",
       "\n",
       "    .dataframe tbody tr th {\n",
       "        vertical-align: top;\n",
       "    }\n",
       "\n",
       "    .dataframe thead th {\n",
       "        text-align: right;\n",
       "    }\n",
       "</style>\n",
       "<table border=\"1\" class=\"dataframe\">\n",
       "  <thead>\n",
       "    <tr style=\"text-align: right;\">\n",
       "      <th></th>\n",
       "      <th>event_name</th>\n",
       "      <th>count_a2</th>\n",
       "    </tr>\n",
       "  </thead>\n",
       "  <tbody>\n",
       "    <tr>\n",
       "      <th>0</th>\n",
       "      <td>MainScreenAppear</td>\n",
       "      <td>2479</td>\n",
       "    </tr>\n",
       "    <tr>\n",
       "      <th>1</th>\n",
       "      <td>OffersScreenAppear</td>\n",
       "      <td>1524</td>\n",
       "    </tr>\n",
       "    <tr>\n",
       "      <th>2</th>\n",
       "      <td>CartScreenAppear</td>\n",
       "      <td>1239</td>\n",
       "    </tr>\n",
       "    <tr>\n",
       "      <th>3</th>\n",
       "      <td>PaymentScreenSuccessful</td>\n",
       "      <td>1158</td>\n",
       "    </tr>\n",
       "  </tbody>\n",
       "</table>\n",
       "</div>"
      ],
      "text/plain": [
       "                event_name  count_a2\n",
       "0         MainScreenAppear      2479\n",
       "1       OffersScreenAppear      1524\n",
       "2         CartScreenAppear      1239\n",
       "3  PaymentScreenSuccessful      1158"
      ]
     },
     "execution_count": 95,
     "metadata": {},
     "output_type": "execute_result"
    }
   ],
   "source": [
    "group_a2 # Количество пользователей по событим в группе А2"
   ]
  },
  {
   "cell_type": "code",
   "execution_count": 96,
   "metadata": {},
   "outputs": [],
   "source": [
    "group_b = event_pivot.query('exp_id == \"B\"').sort_values(by='n_users', ascending=False).reset_index(drop=True)"
   ]
  },
  {
   "cell_type": "code",
   "execution_count": 97,
   "metadata": {},
   "outputs": [],
   "source": [
    "group_b.drop(['exp_id', 'n_events'], axis= 1 , inplace= True ) "
   ]
  },
  {
   "cell_type": "code",
   "execution_count": 98,
   "metadata": {},
   "outputs": [],
   "source": [
    "group_b.columns = ['event_name', 'count_b']"
   ]
  },
  {
   "cell_type": "code",
   "execution_count": 99,
   "metadata": {},
   "outputs": [
    {
     "data": {
      "text/html": [
       "<div>\n",
       "<style scoped>\n",
       "    .dataframe tbody tr th:only-of-type {\n",
       "        vertical-align: middle;\n",
       "    }\n",
       "\n",
       "    .dataframe tbody tr th {\n",
       "        vertical-align: top;\n",
       "    }\n",
       "\n",
       "    .dataframe thead th {\n",
       "        text-align: right;\n",
       "    }\n",
       "</style>\n",
       "<table border=\"1\" class=\"dataframe\">\n",
       "  <thead>\n",
       "    <tr style=\"text-align: right;\">\n",
       "      <th></th>\n",
       "      <th>event_name</th>\n",
       "      <th>count_b</th>\n",
       "    </tr>\n",
       "  </thead>\n",
       "  <tbody>\n",
       "    <tr>\n",
       "      <th>0</th>\n",
       "      <td>MainScreenAppear</td>\n",
       "      <td>2494</td>\n",
       "    </tr>\n",
       "    <tr>\n",
       "      <th>1</th>\n",
       "      <td>OffersScreenAppear</td>\n",
       "      <td>1531</td>\n",
       "    </tr>\n",
       "    <tr>\n",
       "      <th>2</th>\n",
       "      <td>CartScreenAppear</td>\n",
       "      <td>1231</td>\n",
       "    </tr>\n",
       "    <tr>\n",
       "      <th>3</th>\n",
       "      <td>PaymentScreenSuccessful</td>\n",
       "      <td>1182</td>\n",
       "    </tr>\n",
       "  </tbody>\n",
       "</table>\n",
       "</div>"
      ],
      "text/plain": [
       "                event_name  count_b\n",
       "0         MainScreenAppear     2494\n",
       "1       OffersScreenAppear     1531\n",
       "2         CartScreenAppear     1231\n",
       "3  PaymentScreenSuccessful     1182"
      ]
     },
     "execution_count": 99,
     "metadata": {},
     "output_type": "execute_result"
    }
   ],
   "source": [
    "group_b # Количество пользователей по событим в группе В"
   ]
  },
  {
   "cell_type": "markdown",
   "metadata": {},
   "source": [
    "Создадим переменную group_a1_a2, где сохраним суммарные значения групп A1 и A2."
   ]
  },
  {
   "cell_type": "code",
   "execution_count": 100,
   "metadata": {},
   "outputs": [],
   "source": [
    "group_a1_a2 = group_a1.merge(group_a2, on='event_name')"
   ]
  },
  {
   "cell_type": "code",
   "execution_count": 101,
   "metadata": {},
   "outputs": [
    {
     "data": {
      "text/html": [
       "<div>\n",
       "<style scoped>\n",
       "    .dataframe tbody tr th:only-of-type {\n",
       "        vertical-align: middle;\n",
       "    }\n",
       "\n",
       "    .dataframe tbody tr th {\n",
       "        vertical-align: top;\n",
       "    }\n",
       "\n",
       "    .dataframe thead th {\n",
       "        text-align: right;\n",
       "    }\n",
       "</style>\n",
       "<table border=\"1\" class=\"dataframe\">\n",
       "  <thead>\n",
       "    <tr style=\"text-align: right;\">\n",
       "      <th></th>\n",
       "      <th>event_name</th>\n",
       "      <th>count_a1</th>\n",
       "      <th>count_a2</th>\n",
       "    </tr>\n",
       "  </thead>\n",
       "  <tbody>\n",
       "    <tr>\n",
       "      <th>0</th>\n",
       "      <td>MainScreenAppear</td>\n",
       "      <td>2450</td>\n",
       "      <td>2479</td>\n",
       "    </tr>\n",
       "    <tr>\n",
       "      <th>1</th>\n",
       "      <td>OffersScreenAppear</td>\n",
       "      <td>1542</td>\n",
       "      <td>1524</td>\n",
       "    </tr>\n",
       "    <tr>\n",
       "      <th>2</th>\n",
       "      <td>CartScreenAppear</td>\n",
       "      <td>1266</td>\n",
       "      <td>1239</td>\n",
       "    </tr>\n",
       "    <tr>\n",
       "      <th>3</th>\n",
       "      <td>PaymentScreenSuccessful</td>\n",
       "      <td>1200</td>\n",
       "      <td>1158</td>\n",
       "    </tr>\n",
       "  </tbody>\n",
       "</table>\n",
       "</div>"
      ],
      "text/plain": [
       "                event_name  count_a1  count_a2\n",
       "0         MainScreenAppear      2450      2479\n",
       "1       OffersScreenAppear      1542      1524\n",
       "2         CartScreenAppear      1266      1239\n",
       "3  PaymentScreenSuccessful      1200      1158"
      ]
     },
     "execution_count": 101,
     "metadata": {},
     "output_type": "execute_result"
    }
   ],
   "source": [
    "group_a1_a2"
   ]
  },
  {
   "cell_type": "code",
   "execution_count": 102,
   "metadata": {},
   "outputs": [],
   "source": [
    "group_a1_a2['count_a1_a2'] = group_a1_a2['count_a1'] + group_a1_a2['count_a2']"
   ]
  },
  {
   "cell_type": "code",
   "execution_count": 103,
   "metadata": {},
   "outputs": [
    {
     "data": {
      "text/html": [
       "<div>\n",
       "<style scoped>\n",
       "    .dataframe tbody tr th:only-of-type {\n",
       "        vertical-align: middle;\n",
       "    }\n",
       "\n",
       "    .dataframe tbody tr th {\n",
       "        vertical-align: top;\n",
       "    }\n",
       "\n",
       "    .dataframe thead th {\n",
       "        text-align: right;\n",
       "    }\n",
       "</style>\n",
       "<table border=\"1\" class=\"dataframe\">\n",
       "  <thead>\n",
       "    <tr style=\"text-align: right;\">\n",
       "      <th></th>\n",
       "      <th>event_name</th>\n",
       "      <th>count_a1</th>\n",
       "      <th>count_a2</th>\n",
       "      <th>count_a1_a2</th>\n",
       "    </tr>\n",
       "  </thead>\n",
       "  <tbody>\n",
       "    <tr>\n",
       "      <th>0</th>\n",
       "      <td>MainScreenAppear</td>\n",
       "      <td>2450</td>\n",
       "      <td>2479</td>\n",
       "      <td>4929</td>\n",
       "    </tr>\n",
       "    <tr>\n",
       "      <th>1</th>\n",
       "      <td>OffersScreenAppear</td>\n",
       "      <td>1542</td>\n",
       "      <td>1524</td>\n",
       "      <td>3066</td>\n",
       "    </tr>\n",
       "    <tr>\n",
       "      <th>2</th>\n",
       "      <td>CartScreenAppear</td>\n",
       "      <td>1266</td>\n",
       "      <td>1239</td>\n",
       "      <td>2505</td>\n",
       "    </tr>\n",
       "    <tr>\n",
       "      <th>3</th>\n",
       "      <td>PaymentScreenSuccessful</td>\n",
       "      <td>1200</td>\n",
       "      <td>1158</td>\n",
       "      <td>2358</td>\n",
       "    </tr>\n",
       "  </tbody>\n",
       "</table>\n",
       "</div>"
      ],
      "text/plain": [
       "                event_name  count_a1  count_a2  count_a1_a2\n",
       "0         MainScreenAppear      2450      2479         4929\n",
       "1       OffersScreenAppear      1542      1524         3066\n",
       "2         CartScreenAppear      1266      1239         2505\n",
       "3  PaymentScreenSuccessful      1200      1158         2358"
      ]
     },
     "execution_count": 103,
     "metadata": {},
     "output_type": "execute_result"
    }
   ],
   "source": [
    "group_a1_a2 "
   ]
  },
  {
   "cell_type": "markdown",
   "metadata": {},
   "source": [
    "Построим воронку событий по всем группам."
   ]
  },
  {
   "cell_type": "code",
   "execution_count": 104,
   "metadata": {},
   "outputs": [
    {
     "data": {
      "image/svg+xml": [
       "<svg class=\"main-svg\" xmlns=\"http://www.w3.org/2000/svg\" xmlns:xlink=\"http://www.w3.org/1999/xlink\" width=\"700\" height=\"500\" style=\"\" viewBox=\"0 0 700 500\"><rect x=\"0\" y=\"0\" width=\"700\" height=\"500\" style=\"fill: rgb(255, 255, 255); fill-opacity: 1;\"/><defs id=\"defs-766bd8\"><g class=\"clips\"><clipPath id=\"clip766bd8xyplot\" class=\"plotclip\"><rect width=\"446\" height=\"320\"/></clipPath><clipPath class=\"axesclip\" id=\"clip766bd8x\"><rect x=\"170\" y=\"0\" width=\"446\" height=\"500\"/></clipPath><clipPath class=\"axesclip\" id=\"clip766bd8y\"><rect x=\"0\" y=\"100\" width=\"700\" height=\"320\"/></clipPath><clipPath class=\"axesclip\" id=\"clip766bd8xy\"><rect x=\"170\" y=\"100\" width=\"446\" height=\"320\"/></clipPath></g><g class=\"gradients\"/><g class=\"patterns\"/></defs><g class=\"bglayer\"><rect class=\"bg\" x=\"170\" y=\"100\" width=\"446\" height=\"320\" style=\"fill: rgb(229, 236, 246); fill-opacity: 1; stroke-width: 0;\"/></g><g class=\"layer-below\"><g class=\"imagelayer\"/><g class=\"shapelayer\"/></g><g class=\"cartesianlayer\"><g class=\"subplot xy\"><g class=\"layer-subplot\"><g class=\"shapelayer\"/><g class=\"imagelayer\"/></g><g class=\"gridlayer\"><g class=\"x\"/><g class=\"y\"/></g><g class=\"zerolinelayer\"/><path class=\"xlines-below\"/><path class=\"ylines-below\"/><g class=\"overlines-below\"/><g class=\"xaxislayer-below\"/><g class=\"yaxislayer-below\"/><g class=\"overaxes-below\"/><g class=\"plot\" transform=\"translate(170,100)\" clip-path=\"url(#clip766bd8xyplot)\"><g class=\"funnellayer mlayer\"><g class=\"trace bars\" style=\"opacity: 1;\"><g class=\"regions\"><g class=\"region\"><path d=\"M22.3,72L98.71,88H182.09L154.78,72Z\" style=\"stroke-width: 0; fill: rgb(99, 110, 250); fill-opacity: 0.5;\"/></g><g class=\"region\"><path d=\"M98.71,152L121.99,168H190.45L182.09,152Z\" style=\"stroke-width: 0; fill: rgb(99, 110, 250); fill-opacity: 0.5;\"/></g><g class=\"region\"><path d=\"M121.99,232L127.29,248H192.18L190.45,232Z\" style=\"stroke-width: 0; fill: rgb(99, 110, 250); fill-opacity: 0.5;\"/></g><g class=\"region\"><path d=\"M0,0Z\" style=\"stroke-width: 0; fill: rgb(99, 110, 250); fill-opacity: 0.5;\"/></g></g><g class=\"points\"><g class=\"point\"><path d=\"M22.3,8V72H154.78V8Z\" style=\"vector-effect: non-scaling-stroke; fill: rgb(99, 110, 250); fill-opacity: 1; stroke: rgb(68, 68, 68); stroke-opacity: 1; stroke-width: 0px; opacity: 1;\"/><text class=\"bartext bartext-inside\" text-anchor=\"middle\" data-notex=\"1\" x=\"0\" y=\"0\" style=\"font-family: 'Open Sans', verdana, arial, sans-serif; font-size: 12px; fill: rgb(255, 255, 255); fill-opacity: 1; white-space: pre;\" transform=\"translate(88.493125,36.6953125)\"><tspan class=\"line\" dy=\"0em\" x=\"0\" y=\"0\">2450</tspan><tspan class=\"line\" dy=\"1.3em\" x=\"0\" y=\"0\">100%</tspan></text></g><g class=\"point\"><path d=\"M98.71,88V152H182.09V88Z\" style=\"vector-effect: non-scaling-stroke; fill: rgb(99, 110, 250); fill-opacity: 1; stroke: rgb(68, 68, 68); stroke-opacity: 1; stroke-width: 0px; opacity: 1;\"/><text class=\"bartext bartext-inside\" text-anchor=\"middle\" data-notex=\"1\" x=\"0\" y=\"0\" style=\"font-family: 'Open Sans', verdana, arial, sans-serif; font-size: 12px; fill: rgb(255, 255, 255); fill-opacity: 1; white-space: pre;\" transform=\"translate(140.2125,116.6953125)\"><tspan class=\"line\" dy=\"0em\" x=\"0\" y=\"0\">1542</tspan><tspan class=\"line\" dy=\"1.3em\" x=\"0\" y=\"0\">63%</tspan></text></g><g class=\"point\"><path d=\"M121.99,168V232H190.45V168Z\" style=\"vector-effect: non-scaling-stroke; fill: rgb(99, 110, 250); fill-opacity: 1; stroke: rgb(68, 68, 68); stroke-opacity: 1; stroke-width: 0px; opacity: 1;\"/><text class=\"bartext bartext-inside\" text-anchor=\"middle\" data-notex=\"1\" x=\"0\" y=\"0\" style=\"font-family: 'Open Sans', verdana, arial, sans-serif; font-size: 12px; fill: rgb(255, 255, 255); fill-opacity: 1; white-space: pre;\" transform=\"translate(156.0325,196.6953125)\"><tspan class=\"line\" dy=\"0em\" x=\"0\" y=\"0\">1266</tspan><tspan class=\"line\" dy=\"1.3em\" x=\"0\" y=\"0\">52%</tspan></text></g><g class=\"point\"><path d=\"M127.29,248V312H192.18V248Z\" style=\"vector-effect: non-scaling-stroke; fill: rgb(99, 110, 250); fill-opacity: 1; stroke: rgb(68, 68, 68); stroke-opacity: 1; stroke-width: 0px; opacity: 1;\"/><text class=\"bartext bartext-inside\" text-anchor=\"middle\" data-notex=\"1\" x=\"0\" y=\"0\" style=\"font-family: 'Open Sans', verdana, arial, sans-serif; font-size: 12px; fill: rgb(255, 255, 255); fill-opacity: 1; white-space: pre;\" transform=\"translate(159.5475,276.6953125)\"><tspan class=\"line\" dy=\"0em\" x=\"0\" y=\"0\">1200</tspan><tspan class=\"line\" dy=\"1.3em\" x=\"0\" y=\"0\">49%</tspan></text></g></g></g><g class=\"trace bars\" style=\"opacity: 1;\"><g class=\"regions\"><g class=\"region\"><path d=\"M154.78,72L182.09,88H264.5L288.84,72Z\" style=\"stroke-width: 0; fill: rgb(239, 85, 59); fill-opacity: 0.5;\"/></g><g class=\"region\"><path d=\"M182.09,152L190.45,168H257.45L264.5,152Z\" style=\"stroke-width: 0; fill: rgb(239, 85, 59); fill-opacity: 0.5;\"/></g><g class=\"region\"><path d=\"M190.45,232L192.18,248H254.8L257.45,232Z\" style=\"stroke-width: 0; fill: rgb(239, 85, 59); fill-opacity: 0.5;\"/></g><g class=\"region\"><path d=\"M0,0Z\" style=\"stroke-width: 0; fill: rgb(239, 85, 59); fill-opacity: 0.5;\"/></g></g><g class=\"points\"><g class=\"point\"><path d=\"M154.78,8V72H288.84V8Z\" style=\"vector-effect: non-scaling-stroke; fill: rgb(239, 85, 59); fill-opacity: 1; stroke: rgb(68, 68, 68); stroke-opacity: 1; stroke-width: 0px; opacity: 1;\"/><text class=\"bartext bartext-inside\" text-anchor=\"middle\" data-notex=\"1\" x=\"0\" y=\"0\" style=\"font-family: 'Open Sans', verdana, arial, sans-serif; font-size: 12px; fill: rgb(68, 68, 68); fill-opacity: 1; white-space: pre;\" transform=\"translate(221.763125,36.6953125)\"><tspan class=\"line\" dy=\"0em\" x=\"0\" y=\"0\">2479</tspan><tspan class=\"line\" dy=\"1.3em\" x=\"0\" y=\"0\">100%</tspan></text></g><g class=\"point\"><path d=\"M182.09,88V152H264.5V88Z\" style=\"vector-effect: non-scaling-stroke; fill: rgb(239, 85, 59); fill-opacity: 1; stroke: rgb(68, 68, 68); stroke-opacity: 1; stroke-width: 0px; opacity: 1;\"/><text class=\"bartext bartext-inside\" text-anchor=\"middle\" data-notex=\"1\" x=\"0\" y=\"0\" style=\"font-family: 'Open Sans', verdana, arial, sans-serif; font-size: 12px; fill: rgb(68, 68, 68); fill-opacity: 1; white-space: pre;\" transform=\"translate(223.10750000000002,116.6953125)\"><tspan class=\"line\" dy=\"0em\" x=\"0\" y=\"0\">1524</tspan><tspan class=\"line\" dy=\"1.3em\" x=\"0\" y=\"0\">61%</tspan></text></g><g class=\"point\"><path d=\"M190.45,168V232H257.45V168Z\" style=\"vector-effect: non-scaling-stroke; fill: rgb(239, 85, 59); fill-opacity: 1; stroke: rgb(68, 68, 68); stroke-opacity: 1; stroke-width: 0px; opacity: 1;\"/><text class=\"bartext bartext-inside\" text-anchor=\"middle\" data-notex=\"1\" x=\"0\" y=\"0\" style=\"font-family: 'Open Sans', verdana, arial, sans-serif; font-size: 12px; fill: rgb(68, 68, 68); fill-opacity: 1; white-space: pre;\" transform=\"translate(223.7625,196.6953125)\"><tspan class=\"line\" dy=\"0em\" x=\"0\" y=\"0\">1239</tspan><tspan class=\"line\" dy=\"1.3em\" x=\"0\" y=\"0\">50%</tspan></text></g><g class=\"point\"><path d=\"M192.18,248V312H254.8V248Z\" style=\"vector-effect: non-scaling-stroke; fill: rgb(239, 85, 59); fill-opacity: 1; stroke: rgb(68, 68, 68); stroke-opacity: 1; stroke-width: 0px; opacity: 1;\"/><text class=\"bartext bartext-inside\" text-anchor=\"middle\" data-notex=\"1\" x=\"0\" y=\"0\" style=\"font-family: 'Open Sans', verdana, arial, sans-serif; font-size: 12px; fill: rgb(68, 68, 68); fill-opacity: 1; white-space: pre;\" transform=\"translate(223.3025,276.6953125)\"><tspan class=\"line\" dy=\"0em\" x=\"0\" y=\"0\">1158</tspan><tspan class=\"line\" dy=\"1.3em\" x=\"0\" y=\"0\">47%</tspan></text></g></g></g><g class=\"trace bars\" style=\"opacity: 1;\"><g class=\"regions\"><g class=\"region\"><path d=\"M288.84,72L264.5,88H347.29L423.7,72Z\" style=\"stroke-width: 0; fill: rgb(0, 204, 150); fill-opacity: 0.5;\"/></g><g class=\"region\"><path d=\"M264.5,152L257.45,168H324.01L347.29,152Z\" style=\"stroke-width: 0; fill: rgb(0, 204, 150); fill-opacity: 0.5;\"/></g><g class=\"region\"><path d=\"M257.45,232L254.8,248H318.71L324.01,232Z\" style=\"stroke-width: 0; fill: rgb(0, 204, 150); fill-opacity: 0.5;\"/></g><g class=\"region\"><path d=\"M0,0Z\" style=\"stroke-width: 0; fill: rgb(0, 204, 150); fill-opacity: 0.5;\"/></g></g><g class=\"points\"><g class=\"point\"><path d=\"M288.84,8V72H423.7V8Z\" style=\"vector-effect: non-scaling-stroke; fill: rgb(0, 204, 150); fill-opacity: 1; stroke: rgb(68, 68, 68); stroke-opacity: 1; stroke-width: 0px; opacity: 1;\"/><text class=\"bartext bartext-inside\" text-anchor=\"middle\" data-notex=\"1\" x=\"0\" y=\"0\" style=\"font-family: 'Open Sans', verdana, arial, sans-serif; font-size: 12px; fill: rgb(68, 68, 68); fill-opacity: 1; white-space: pre;\" transform=\"translate(356.223125,36.6953125)\"><tspan class=\"line\" dy=\"0em\" x=\"0\" y=\"0\">2494</tspan><tspan class=\"line\" dy=\"1.3em\" x=\"0\" y=\"0\">100%</tspan></text></g><g class=\"point\"><path d=\"M264.5,88V152H347.29V88Z\" style=\"vector-effect: non-scaling-stroke; fill: rgb(0, 204, 150); fill-opacity: 1; stroke: rgb(68, 68, 68); stroke-opacity: 1; stroke-width: 0px; opacity: 1;\"/><text class=\"bartext bartext-inside\" text-anchor=\"middle\" data-notex=\"1\" x=\"0\" y=\"0\" style=\"font-family: 'Open Sans', verdana, arial, sans-serif; font-size: 12px; fill: rgb(68, 68, 68); fill-opacity: 1; white-space: pre;\" transform=\"translate(305.895,116.6953125)\"><tspan class=\"line\" dy=\"0em\" x=\"0\" y=\"0\">1531</tspan><tspan class=\"line\" dy=\"1.3em\" x=\"0\" y=\"0\">61%</tspan></text></g><g class=\"point\"><path d=\"M257.45,168V232H324.01V168Z\" style=\"vector-effect: non-scaling-stroke; fill: rgb(0, 204, 150); fill-opacity: 1; stroke: rgb(68, 68, 68); stroke-opacity: 1; stroke-width: 0px; opacity: 1;\"/><text class=\"bartext bartext-inside\" text-anchor=\"middle\" data-notex=\"1\" x=\"0\" y=\"0\" style=\"font-family: 'Open Sans', verdana, arial, sans-serif; font-size: 12px; fill: rgb(68, 68, 68); fill-opacity: 1; white-space: pre;\" transform=\"translate(290.73,196.6953125)\"><tspan class=\"line\" dy=\"0em\" x=\"0\" y=\"0\">1231</tspan><tspan class=\"line\" dy=\"1.3em\" x=\"0\" y=\"0\">49%</tspan></text></g><g class=\"point\"><path d=\"M254.8,248V312H318.71V248Z\" style=\"vector-effect: non-scaling-stroke; fill: rgb(0, 204, 150); fill-opacity: 1; stroke: rgb(68, 68, 68); stroke-opacity: 1; stroke-width: 0px; opacity: 1;\"/><text class=\"bartext bartext-inside\" text-anchor=\"middle\" data-notex=\"1\" x=\"0\" y=\"0\" style=\"font-family: 'Open Sans', verdana, arial, sans-serif; font-size: 12px; fill: rgb(68, 68, 68); fill-opacity: 1; white-space: pre;\" transform=\"translate(286.5675,276.6953125)\"><tspan class=\"line\" dy=\"0em\" x=\"0\" y=\"0\">1182</tspan><tspan class=\"line\" dy=\"1.3em\" x=\"0\" y=\"0\">47%</tspan></text></g></g></g></g></g><g class=\"overplot\"/><path class=\"xlines-above crisp\" d=\"M0,0\" style=\"fill: none;\"/><path class=\"ylines-above crisp\" d=\"M0,0\" style=\"fill: none;\"/><g class=\"overlines-above\"/><g class=\"xaxislayer-above\"/><g class=\"yaxislayer-above\"><g class=\"ytick\"><text text-anchor=\"end\" x=\"169\" y=\"4.199999999999999\" transform=\"translate(0,380)\" style=\"font-family: 'Open Sans', verdana, arial, sans-serif; font-size: 12px; fill: rgb(42, 63, 95); fill-opacity: 1; white-space: pre; opacity: 1;\">PaymentScreenSuccessful</text></g><g class=\"ytick\"><text text-anchor=\"end\" x=\"169\" y=\"4.199999999999999\" transform=\"translate(0,300)\" style=\"font-family: 'Open Sans', verdana, arial, sans-serif; font-size: 12px; fill: rgb(42, 63, 95); fill-opacity: 1; white-space: pre; opacity: 1;\">CartScreenAppear</text></g><g class=\"ytick\"><text text-anchor=\"end\" x=\"169\" y=\"4.199999999999999\" transform=\"translate(0,220)\" style=\"font-family: 'Open Sans', verdana, arial, sans-serif; font-size: 12px; fill: rgb(42, 63, 95); fill-opacity: 1; white-space: pre; opacity: 1;\">OffersScreenAppear</text></g><g class=\"ytick\"><text text-anchor=\"end\" x=\"169\" y=\"4.199999999999999\" transform=\"translate(0,140)\" style=\"font-family: 'Open Sans', verdana, arial, sans-serif; font-size: 12px; fill: rgb(42, 63, 95); fill-opacity: 1; white-space: pre; opacity: 1;\">MainScreenAppear</text></g></g><g class=\"overaxes-above\"/></g></g><g class=\"polarlayer\"/><g class=\"smithlayer\"/><g class=\"ternarylayer\"/><g class=\"geolayer\"/><g class=\"funnelarealayer\"/><g class=\"pielayer\"/><g class=\"iciclelayer\"/><g class=\"treemaplayer\"/><g class=\"sunburstlayer\"/><g class=\"glimages\"/><defs id=\"topdefs-766bd8\"><g class=\"clips\"/><clipPath id=\"legend766bd8\"><rect width=\"63\" height=\"67\" x=\"0\" y=\"0\"/></clipPath></defs><g class=\"layer-above\"><g class=\"imagelayer\"/><g class=\"shapelayer\"/></g><g class=\"infolayer\"><g class=\"legend\" pointer-events=\"all\" transform=\"translate(624.9200000000001,100)\"><rect class=\"bg\" shape-rendering=\"crispEdges\" style=\"stroke: rgb(68, 68, 68); stroke-opacity: 1; fill: rgb(255, 255, 255); fill-opacity: 1; stroke-width: 0px;\" width=\"63\" height=\"67\" x=\"0\" y=\"0\"/><g class=\"scrollbox\" transform=\"\" clip-path=\"url(#legend766bd8)\"><g class=\"groups\"><g class=\"traces\" transform=\"translate(0,14.5)\" style=\"opacity: 1;\"><text class=\"legendtext\" text-anchor=\"start\" x=\"40\" y=\"4.680000000000001\" style=\"font-family: 'Open Sans', verdana, arial, sans-serif; font-size: 12px; fill: rgb(42, 63, 95); fill-opacity: 1; white-space: pre;\">A1</text><g class=\"layers\" style=\"opacity: 1;\"><g class=\"legendfill\"/><g class=\"legendlines\"/><g class=\"legendsymbols\"><g class=\"legendpoints\"><path class=\"legendfunnel\" d=\"M6,6H-6V-6H6Z\" transform=\"translate(20,0)\" style=\"stroke-width: 0px; fill: rgb(99, 110, 250); fill-opacity: 1;\"/></g></g></g><rect class=\"legendtoggle\" x=\"0\" y=\"-9.5\" width=\"57.203125\" height=\"19\" style=\"fill: rgb(0, 0, 0); fill-opacity: 0;\"/></g><g class=\"traces\" transform=\"translate(0,33.5)\" style=\"opacity: 1;\"><text class=\"legendtext\" text-anchor=\"start\" x=\"40\" y=\"4.680000000000001\" style=\"font-family: 'Open Sans', verdana, arial, sans-serif; font-size: 12px; fill: rgb(42, 63, 95); fill-opacity: 1; white-space: pre;\">A2</text><g class=\"layers\" style=\"opacity: 1;\"><g class=\"legendfill\"/><g class=\"legendlines\"/><g class=\"legendsymbols\"><g class=\"legendpoints\"><path class=\"legendfunnel\" d=\"M6,6H-6V-6H6Z\" transform=\"translate(20,0)\" style=\"stroke-width: 0px; fill: rgb(239, 85, 59); fill-opacity: 1;\"/></g></g></g><rect class=\"legendtoggle\" x=\"0\" y=\"-9.5\" width=\"57.203125\" height=\"19\" style=\"fill: rgb(0, 0, 0); fill-opacity: 0;\"/></g><g class=\"traces\" transform=\"translate(0,52.5)\" style=\"opacity: 1;\"><text class=\"legendtext\" text-anchor=\"start\" x=\"40\" y=\"4.680000000000001\" style=\"font-family: 'Open Sans', verdana, arial, sans-serif; font-size: 12px; fill: rgb(42, 63, 95); fill-opacity: 1; white-space: pre;\">B</text><g class=\"layers\" style=\"opacity: 1;\"><g class=\"legendfill\"/><g class=\"legendlines\"/><g class=\"legendsymbols\"><g class=\"legendpoints\"><path class=\"legendfunnel\" d=\"M6,6H-6V-6H6Z\" transform=\"translate(20,0)\" style=\"stroke-width: 0px; fill: rgb(0, 204, 150); fill-opacity: 1;\"/></g></g></g><rect class=\"legendtoggle\" x=\"0\" y=\"-9.5\" width=\"57.203125\" height=\"19\" style=\"fill: rgb(0, 0, 0); fill-opacity: 0;\"/></g></g></g><rect class=\"scrollbar\" rx=\"20\" ry=\"3\" width=\"0\" height=\"0\" style=\"fill: rgb(128, 139, 164); fill-opacity: 1;\" x=\"0\" y=\"0\"/></g><g class=\"g-gtitle\"/><g class=\"g-ytitle\"/></g></svg>"
      ]
     },
     "metadata": {},
     "output_type": "display_data"
    }
   ],
   "source": [
    "fig = go.Figure()\n",
    "\n",
    "fig.add_trace(go.Funnel(\n",
    "    name = 'A1',\n",
    "    y = group_a1_a2['event_name'],\n",
    "    x = group_a1_a2['count_a1'],\n",
    "    textinfo = \"value+percent initial\"))\n",
    "\n",
    "fig.add_trace(go.Funnel(\n",
    "    name = 'A2',\n",
    "    y = group_a1_a2['event_name'],\n",
    "    x = group_a1_a2['count_a2'],\n",
    "    textinfo = \"value+percent initial\"))\n",
    "\n",
    "fig.add_trace(go.Funnel(\n",
    "    name = 'B',\n",
    "    y = group_a1_a2['event_name'],\n",
    "    x = group_b['count_b'],\n",
    "    textinfo = \"value+percent initial\"))\n",
    "fig.show(\"svg\")"
   ]
  },
  {
   "cell_type": "markdown",
   "metadata": {},
   "source": [
    "У нас в распоряжении имеются 3 группы пользователей. Внутри каждой группы имеется деление пользователей по совершенным ими действиям в определенной последвательности. Исходя из данной последовательности, мы имеем долю каждого совершенного действия пользователями каждой из групп. Соостветственно  мы можем проверить гипотезу о равенстве долей в данной последовательности в каждой из групп. Для проверки данной гипотезы воспользуемся z-тестом. При проверке выберем статистическую значимость равную 0.05.\n",
    "Сформулируем нулевую и альтернативную гипотезу для проверки равенства долей в событиях в группах. Нулевая гипотеза - между долями нет статистически значимой разницы. Альтернативная - между долями есть статистическая разница. \n",
    "Проверим данные гипотезы для групп А1 и А2 в разрезе каждого из событий."
   ]
  },
  {
   "cell_type": "code",
   "execution_count": 105,
   "metadata": {},
   "outputs": [],
   "source": [
    "def z_value_diff(first_group, second_group, alpha,  third_group, fourth_group):\n",
    "   \n",
    "    successes = [first_group, second_group]\n",
    "    trials = [third_group, fourth_group]\n",
    "\n",
    "    # пропорция успехов в первой группе:\n",
    "    p1 = successes[0]/trials[0]\n",
    "\n",
    "    # пропорция успехов во второй группе:\n",
    "    p2 = successes[1]/trials[1]\n",
    "\n",
    "    # пропорция успехов в комбинированном датасете:\n",
    "    p_combined = (successes[0] + successes[1]) / (trials[0] + trials[1])\n",
    " \n",
    "    # разница пропорций в датасетах\n",
    "    difference = p1 - p2 \n",
    "\n",
    "    z_value = difference / mth.sqrt(p_combined * (1 - p_combined) * (1/trials[0] + 1/trials[1])) # ваш код\n",
    "\n",
    "    distr = st.norm(0, 1) # ваш код\n",
    "\n",
    "    p_value = (1 - distr.cdf(abs(z_value))) * 2 # ваш код\n",
    "\n",
    "    print('p-значение: ', p_value)\n",
    "\n",
    "    if p_value < alpha: # ваш код\n",
    "        print('Отвергаем нулевую гипотезу: между долями есть значимая разница')\n",
    "    else:\n",
    "        print(\n",
    "            'Не получилось отвергнуть нулевую гипотезу, нет оснований считать доли разными'\n",
    "        )"
   ]
  },
  {
   "cell_type": "code",
   "execution_count": 106,
   "metadata": {},
   "outputs": [
    {
     "name": "stdout",
     "output_type": "stream",
     "text": [
      "p-значение:  0.6756217702005545\n",
      "Не получилось отвергнуть нулевую гипотезу, нет оснований считать доли разными\n"
     ]
    }
   ],
   "source": [
    "z_value_diff(group_a1_a2.loc[0,'count_a1'], group_a1_a2.loc[0,'count_a2'], 0.05, id_a1, id_a2)"
   ]
  },
  {
   "cell_type": "markdown",
   "metadata": {},
   "source": [
    "По событию MainScreenAppear не получилось отвергнуть нулевую гипотезу."
   ]
  },
  {
   "cell_type": "code",
   "execution_count": 107,
   "metadata": {},
   "outputs": [
    {
     "name": "stdout",
     "output_type": "stream",
     "text": [
      "p-значение:  0.26698769175859516\n",
      "Не получилось отвергнуть нулевую гипотезу, нет оснований считать доли разными\n"
     ]
    }
   ],
   "source": [
    "z_value_diff(group_a1_a2.loc[1,'count_a1'], group_a1_a2.loc[1,'count_a2'], 0.05, id_a1, id_a2)"
   ]
  },
  {
   "cell_type": "markdown",
   "metadata": {},
   "source": [
    "По событию OffersScreenAppear не получилось отвергнуть нулевую гипотезу."
   ]
  },
  {
   "cell_type": "code",
   "execution_count": 108,
   "metadata": {},
   "outputs": [
    {
     "name": "stdout",
     "output_type": "stream",
     "text": [
      "p-значение:  0.2182812140633792\n",
      "Не получилось отвергнуть нулевую гипотезу, нет оснований считать доли разными\n"
     ]
    }
   ],
   "source": [
    "z_value_diff(group_a1_a2.loc[2,'count_a1'], group_a1_a2.loc[2,'count_a2'], 0.05, id_a1, id_a2)"
   ]
  },
  {
   "cell_type": "markdown",
   "metadata": {},
   "source": [
    "По событию CartScreenAppear не получилось отвергнуть нулевую гипотезу."
   ]
  },
  {
   "cell_type": "code",
   "execution_count": 109,
   "metadata": {},
   "outputs": [
    {
     "name": "stdout",
     "output_type": "stream",
     "text": [
      "p-значение:  0.10298394982948822\n",
      "Не получилось отвергнуть нулевую гипотезу, нет оснований считать доли разными\n"
     ]
    }
   ],
   "source": [
    "z_value_diff(group_a1_a2.loc[3,'count_a1'], group_a1_a2.loc[3,'count_a2'], 0.05, id_a1, id_a2)"
   ]
  },
  {
   "cell_type": "markdown",
   "metadata": {},
   "source": [
    "По событию PaymentScreenSuccessful не получилось отвергнуть нулевую гипотезу."
   ]
  },
  {
   "cell_type": "markdown",
   "metadata": {},
   "source": [
    "Так как у нас множественный тест с одними и теми же данными можно было бы применить методы корректировки значения требуемого уровня значимости, но так как в полученных значениях уровень p_value гораздо больше значения alpha, а методы корректировки значения только уменьшают значение alpha, поэтому расчет с учетом метода корректировки значения требуемого уровня значимости не повлияет на результат."
   ]
  },
  {
   "cell_type": "markdown",
   "metadata": {},
   "source": [
    "Построим воронку событий по группам А1 и А 2"
   ]
  },
  {
   "cell_type": "code",
   "execution_count": 110,
   "metadata": {},
   "outputs": [
    {
     "data": {
      "image/svg+xml": [
       "<svg class=\"main-svg\" xmlns=\"http://www.w3.org/2000/svg\" xmlns:xlink=\"http://www.w3.org/1999/xlink\" width=\"700\" height=\"500\" style=\"\" viewBox=\"0 0 700 500\"><rect x=\"0\" y=\"0\" width=\"700\" height=\"500\" style=\"fill: rgb(255, 255, 255); fill-opacity: 1;\"/><defs id=\"defs-cfc6bb\"><g class=\"clips\"><clipPath id=\"clipcfc6bbxyplot\" class=\"plotclip\"><rect width=\"446\" height=\"320\"/></clipPath><clipPath class=\"axesclip\" id=\"clipcfc6bbx\"><rect x=\"170\" y=\"0\" width=\"446\" height=\"500\"/></clipPath><clipPath class=\"axesclip\" id=\"clipcfc6bby\"><rect x=\"0\" y=\"100\" width=\"700\" height=\"320\"/></clipPath><clipPath class=\"axesclip\" id=\"clipcfc6bbxy\"><rect x=\"170\" y=\"100\" width=\"446\" height=\"320\"/></clipPath></g><g class=\"gradients\"/><g class=\"patterns\"/></defs><g class=\"bglayer\"><rect class=\"bg\" x=\"170\" y=\"100\" width=\"446\" height=\"320\" style=\"fill: rgb(229, 236, 246); fill-opacity: 1; stroke-width: 0;\"/></g><g class=\"layer-below\"><g class=\"imagelayer\"/><g class=\"shapelayer\"/></g><g class=\"cartesianlayer\"><g class=\"subplot xy\"><g class=\"layer-subplot\"><g class=\"shapelayer\"/><g class=\"imagelayer\"/></g><g class=\"gridlayer\"><g class=\"x\"/><g class=\"y\"/></g><g class=\"zerolinelayer\"/><path class=\"xlines-below\"/><path class=\"ylines-below\"/><g class=\"overlines-below\"/><g class=\"xaxislayer-below\"/><g class=\"yaxislayer-below\"/><g class=\"overaxes-below\"/><g class=\"plot\" transform=\"translate(170,100)\" clip-path=\"url(#clipcfc6bbxyplot)\"><g class=\"funnellayer mlayer\"><g class=\"trace bars\" style=\"opacity: 1;\"><g class=\"regions\"><g class=\"region\"><path d=\"M22.3,72L98.16,88H223.73L221.82,72Z\" style=\"stroke-width: 0; fill: rgb(99, 110, 250); fill-opacity: 0.5;\"/></g><g class=\"region\"><path d=\"M98.16,152L121,168H224.1L223.73,152Z\" style=\"stroke-width: 0; fill: rgb(99, 110, 250); fill-opacity: 0.5;\"/></g><g class=\"region\"><path d=\"M121,232L126.99,248H224.71L224.1,232Z\" style=\"stroke-width: 0; fill: rgb(99, 110, 250); fill-opacity: 0.5;\"/></g><g class=\"region\"><path d=\"M0,0Z\" style=\"stroke-width: 0; fill: rgb(99, 110, 250); fill-opacity: 0.5;\"/></g></g><g class=\"points\"><g class=\"point\"><path d=\"M22.3,8V72H221.82V8Z\" style=\"vector-effect: non-scaling-stroke; fill: rgb(99, 110, 250); fill-opacity: 1; stroke: rgb(68, 68, 68); stroke-opacity: 1; stroke-width: 0px; opacity: 1;\"/><text class=\"bartext bartext-inside\" text-anchor=\"middle\" data-notex=\"1\" x=\"0\" y=\"0\" style=\"font-family: 'Open Sans', verdana, arial, sans-serif; font-size: 12px; fill: rgb(255, 255, 255); fill-opacity: 1; white-space: pre;\" transform=\"translate(122.013125,36.6953125)\"><tspan class=\"line\" dy=\"0em\" x=\"0\" y=\"0\">2450</tspan><tspan class=\"line\" dy=\"1.3em\" x=\"0\" y=\"0\">100%</tspan></text></g><g class=\"point\"><path d=\"M98.16,88V152H223.73V88Z\" style=\"vector-effect: non-scaling-stroke; fill: rgb(99, 110, 250); fill-opacity: 1; stroke: rgb(68, 68, 68); stroke-opacity: 1; stroke-width: 0px; opacity: 1;\"/><text class=\"bartext bartext-inside\" text-anchor=\"middle\" data-notex=\"1\" x=\"0\" y=\"0\" style=\"font-family: 'Open Sans', verdana, arial, sans-serif; font-size: 12px; fill: rgb(255, 255, 255); fill-opacity: 1; white-space: pre;\" transform=\"translate(160.7575,116.6953125)\"><tspan class=\"line\" dy=\"0em\" x=\"0\" y=\"0\">1542</tspan><tspan class=\"line\" dy=\"1.3em\" x=\"0\" y=\"0\">63%</tspan></text></g><g class=\"point\"><path d=\"M121,168V232H224.1V168Z\" style=\"vector-effect: non-scaling-stroke; fill: rgb(99, 110, 250); fill-opacity: 1; stroke: rgb(68, 68, 68); stroke-opacity: 1; stroke-width: 0px; opacity: 1;\"/><text class=\"bartext bartext-inside\" text-anchor=\"middle\" data-notex=\"1\" x=\"0\" y=\"0\" style=\"font-family: 'Open Sans', verdana, arial, sans-serif; font-size: 12px; fill: rgb(255, 255, 255); fill-opacity: 1; white-space: pre;\" transform=\"translate(172.3625,196.6953125)\"><tspan class=\"line\" dy=\"0em\" x=\"0\" y=\"0\">1266</tspan><tspan class=\"line\" dy=\"1.3em\" x=\"0\" y=\"0\">52%</tspan></text></g><g class=\"point\"><path d=\"M126.99,248V312H224.71V248Z\" style=\"vector-effect: non-scaling-stroke; fill: rgb(99, 110, 250); fill-opacity: 1; stroke: rgb(68, 68, 68); stroke-opacity: 1; stroke-width: 0px; opacity: 1;\"/><text class=\"bartext bartext-inside\" text-anchor=\"middle\" data-notex=\"1\" x=\"0\" y=\"0\" style=\"font-family: 'Open Sans', verdana, arial, sans-serif; font-size: 12px; fill: rgb(255, 255, 255); fill-opacity: 1; white-space: pre;\" transform=\"translate(175.66250000000002,276.6953125)\"><tspan class=\"line\" dy=\"0em\" x=\"0\" y=\"0\">1200</tspan><tspan class=\"line\" dy=\"1.3em\" x=\"0\" y=\"0\">49%</tspan></text></g></g></g><g class=\"trace bars\" style=\"opacity: 1;\"><g class=\"regions\"><g class=\"region\"><path d=\"M221.82,72L223.73,88H347.84L423.7,72Z\" style=\"stroke-width: 0; fill: rgb(239, 85, 59); fill-opacity: 0.5;\"/></g><g class=\"region\"><path d=\"M223.73,152L224.1,168H325L347.84,152Z\" style=\"stroke-width: 0; fill: rgb(239, 85, 59); fill-opacity: 0.5;\"/></g><g class=\"region\"><path d=\"M224.1,232L224.71,248H319.01L325,232Z\" style=\"stroke-width: 0; fill: rgb(239, 85, 59); fill-opacity: 0.5;\"/></g><g class=\"region\"><path d=\"M0,0Z\" style=\"stroke-width: 0; fill: rgb(239, 85, 59); fill-opacity: 0.5;\"/></g></g><g class=\"points\"><g class=\"point\"><path d=\"M221.82,8V72H423.7V8Z\" style=\"vector-effect: non-scaling-stroke; fill: rgb(239, 85, 59); fill-opacity: 1; stroke: rgb(68, 68, 68); stroke-opacity: 1; stroke-width: 0px; opacity: 1;\"/><text class=\"bartext bartext-inside\" text-anchor=\"middle\" data-notex=\"1\" x=\"0\" y=\"0\" style=\"font-family: 'Open Sans', verdana, arial, sans-serif; font-size: 12px; fill: rgb(68, 68, 68); fill-opacity: 1; white-space: pre;\" transform=\"translate(322.713125,36.6953125)\"><tspan class=\"line\" dy=\"0em\" x=\"0\" y=\"0\">2479</tspan><tspan class=\"line\" dy=\"1.3em\" x=\"0\" y=\"0\">100%</tspan></text></g><g class=\"point\"><path d=\"M223.73,88V152H347.84V88Z\" style=\"vector-effect: non-scaling-stroke; fill: rgb(239, 85, 59); fill-opacity: 1; stroke: rgb(68, 68, 68); stroke-opacity: 1; stroke-width: 0px; opacity: 1;\"/><text class=\"bartext bartext-inside\" text-anchor=\"middle\" data-notex=\"1\" x=\"0\" y=\"0\" style=\"font-family: 'Open Sans', verdana, arial, sans-serif; font-size: 12px; fill: rgb(68, 68, 68); fill-opacity: 1; white-space: pre;\" transform=\"translate(285.59749999999997,116.6953125)\"><tspan class=\"line\" dy=\"0em\" x=\"0\" y=\"0\">1524</tspan><tspan class=\"line\" dy=\"1.3em\" x=\"0\" y=\"0\">61%</tspan></text></g><g class=\"point\"><path d=\"M224.1,168V232H325V168Z\" style=\"vector-effect: non-scaling-stroke; fill: rgb(239, 85, 59); fill-opacity: 1; stroke: rgb(68, 68, 68); stroke-opacity: 1; stroke-width: 0px; opacity: 1;\"/><text class=\"bartext bartext-inside\" text-anchor=\"middle\" data-notex=\"1\" x=\"0\" y=\"0\" style=\"font-family: 'Open Sans', verdana, arial, sans-serif; font-size: 12px; fill: rgb(68, 68, 68); fill-opacity: 1; white-space: pre;\" transform=\"translate(274.3625,196.6953125)\"><tspan class=\"line\" dy=\"0em\" x=\"0\" y=\"0\">1239</tspan><tspan class=\"line\" dy=\"1.3em\" x=\"0\" y=\"0\">50%</tspan></text></g><g class=\"point\"><path d=\"M224.71,248V312H319.01V248Z\" style=\"vector-effect: non-scaling-stroke; fill: rgb(239, 85, 59); fill-opacity: 1; stroke: rgb(68, 68, 68); stroke-opacity: 1; stroke-width: 0px; opacity: 1;\"/><text class=\"bartext bartext-inside\" text-anchor=\"middle\" data-notex=\"1\" x=\"0\" y=\"0\" style=\"font-family: 'Open Sans', verdana, arial, sans-serif; font-size: 12px; fill: rgb(68, 68, 68); fill-opacity: 1; white-space: pre;\" transform=\"translate(271.6725,276.6953125)\"><tspan class=\"line\" dy=\"0em\" x=\"0\" y=\"0\">1158</tspan><tspan class=\"line\" dy=\"1.3em\" x=\"0\" y=\"0\">47%</tspan></text></g></g></g></g></g><g class=\"overplot\"/><path class=\"xlines-above crisp\" d=\"M0,0\" style=\"fill: none;\"/><path class=\"ylines-above crisp\" d=\"M0,0\" style=\"fill: none;\"/><g class=\"overlines-above\"/><g class=\"xaxislayer-above\"/><g class=\"yaxislayer-above\"><g class=\"ytick\"><text text-anchor=\"end\" x=\"169\" y=\"4.199999999999999\" transform=\"translate(0,380)\" style=\"font-family: 'Open Sans', verdana, arial, sans-serif; font-size: 12px; fill: rgb(42, 63, 95); fill-opacity: 1; white-space: pre; opacity: 1;\">PaymentScreenSuccessful</text></g><g class=\"ytick\"><text text-anchor=\"end\" x=\"169\" y=\"4.199999999999999\" transform=\"translate(0,300)\" style=\"font-family: 'Open Sans', verdana, arial, sans-serif; font-size: 12px; fill: rgb(42, 63, 95); fill-opacity: 1; white-space: pre; opacity: 1;\">CartScreenAppear</text></g><g class=\"ytick\"><text text-anchor=\"end\" x=\"169\" y=\"4.199999999999999\" transform=\"translate(0,220)\" style=\"font-family: 'Open Sans', verdana, arial, sans-serif; font-size: 12px; fill: rgb(42, 63, 95); fill-opacity: 1; white-space: pre; opacity: 1;\">OffersScreenAppear</text></g><g class=\"ytick\"><text text-anchor=\"end\" x=\"169\" y=\"4.199999999999999\" transform=\"translate(0,140)\" style=\"font-family: 'Open Sans', verdana, arial, sans-serif; font-size: 12px; fill: rgb(42, 63, 95); fill-opacity: 1; white-space: pre; opacity: 1;\">MainScreenAppear</text></g></g><g class=\"overaxes-above\"/></g></g><g class=\"polarlayer\"/><g class=\"smithlayer\"/><g class=\"ternarylayer\"/><g class=\"geolayer\"/><g class=\"funnelarealayer\"/><g class=\"pielayer\"/><g class=\"iciclelayer\"/><g class=\"treemaplayer\"/><g class=\"sunburstlayer\"/><g class=\"glimages\"/><defs id=\"topdefs-cfc6bb\"><g class=\"clips\"/><clipPath id=\"legendcfc6bb\"><rect width=\"63\" height=\"48\" x=\"0\" y=\"0\"/></clipPath></defs><g class=\"layer-above\"><g class=\"imagelayer\"/><g class=\"shapelayer\"/></g><g class=\"infolayer\"><g class=\"legend\" pointer-events=\"all\" transform=\"translate(624.9200000000001,100)\"><rect class=\"bg\" shape-rendering=\"crispEdges\" width=\"63\" height=\"48\" x=\"0\" y=\"0\" style=\"stroke: rgb(68, 68, 68); stroke-opacity: 1; fill: rgb(255, 255, 255); fill-opacity: 1; stroke-width: 0px;\"/><g class=\"scrollbox\" transform=\"\" clip-path=\"url(#legendcfc6bb)\"><g class=\"groups\"><g class=\"traces\" transform=\"translate(0,14.5)\" style=\"opacity: 1;\"><text class=\"legendtext\" text-anchor=\"start\" x=\"40\" y=\"4.680000000000001\" style=\"font-family: 'Open Sans', verdana, arial, sans-serif; font-size: 12px; fill: rgb(42, 63, 95); fill-opacity: 1; white-space: pre;\">A1</text><g class=\"layers\" style=\"opacity: 1;\"><g class=\"legendfill\"/><g class=\"legendlines\"/><g class=\"legendsymbols\"><g class=\"legendpoints\"><path class=\"legendfunnel\" d=\"M6,6H-6V-6H6Z\" transform=\"translate(20,0)\" style=\"stroke-width: 0px; fill: rgb(99, 110, 250); fill-opacity: 1;\"/></g></g></g><rect class=\"legendtoggle\" x=\"0\" y=\"-9.5\" width=\"57.203125\" height=\"19\" style=\"fill: rgb(0, 0, 0); fill-opacity: 0;\"/></g><g class=\"traces\" transform=\"translate(0,33.5)\" style=\"opacity: 1;\"><text class=\"legendtext\" text-anchor=\"start\" x=\"40\" y=\"4.680000000000001\" style=\"font-family: 'Open Sans', verdana, arial, sans-serif; font-size: 12px; fill: rgb(42, 63, 95); fill-opacity: 1; white-space: pre;\">A2</text><g class=\"layers\" style=\"opacity: 1;\"><g class=\"legendfill\"/><g class=\"legendlines\"/><g class=\"legendsymbols\"><g class=\"legendpoints\"><path class=\"legendfunnel\" d=\"M6,6H-6V-6H6Z\" transform=\"translate(20,0)\" style=\"stroke-width: 0px; fill: rgb(239, 85, 59); fill-opacity: 1;\"/></g></g></g><rect class=\"legendtoggle\" x=\"0\" y=\"-9.5\" width=\"57.203125\" height=\"19\" style=\"fill: rgb(0, 0, 0); fill-opacity: 0;\"/></g></g></g><rect class=\"scrollbar\" rx=\"20\" ry=\"3\" width=\"0\" height=\"0\" x=\"0\" y=\"0\" style=\"fill: rgb(128, 139, 164); fill-opacity: 1;\"/></g><g class=\"g-gtitle\"/><g class=\"g-ytitle\"/></g></svg>"
      ]
     },
     "metadata": {},
     "output_type": "display_data"
    }
   ],
   "source": [
    "fig = go.Figure()\n",
    "\n",
    "fig.add_trace(go.Funnel(\n",
    "    name = 'A1',\n",
    "    y = group_a1_a2['event_name'],\n",
    "    x = group_a1_a2['count_a1'],\n",
    "    textinfo = \"value+percent initial\"))\n",
    "\n",
    "fig.add_trace(go.Funnel(\n",
    "    name = 'A2',\n",
    "    y = group_a1_a2['event_name'],\n",
    "    x = group_a1_a2['count_a2'],\n",
    "    textinfo = \"value+percent initial\"))\n",
    "\n",
    "fig.show()"
   ]
  },
  {
   "cell_type": "markdown",
   "metadata": {},
   "source": [
    "Ни для оного из событий разница не оказалось значимой обе эти группы можно считать контрольными."
   ]
  },
  {
   "cell_type": "markdown",
   "metadata": {},
   "source": [
    "Теперь проверим статистическую разницу между группами А1 и В."
   ]
  },
  {
   "cell_type": "code",
   "execution_count": 111,
   "metadata": {},
   "outputs": [
    {
     "name": "stdout",
     "output_type": "stream",
     "text": [
      "p-значение:  0.34705881021236484\n",
      "Не получилось отвергнуть нулевую гипотезу, нет оснований считать доли разными\n"
     ]
    }
   ],
   "source": [
    "z_value_diff(group_a1_a2.loc[0,'count_a1'], group_b.loc[0,'count_b'], 0.05, id_a1, id_b)"
   ]
  },
  {
   "cell_type": "markdown",
   "metadata": {},
   "source": [
    "По событию MainScreenAppear не получилось отвергнуть нулевую гипотезу."
   ]
  },
  {
   "cell_type": "code",
   "execution_count": 112,
   "metadata": {},
   "outputs": [
    {
     "name": "stdout",
     "output_type": "stream",
     "text": [
      "p-значение:  0.20836205402738917\n",
      "Не получилось отвергнуть нулевую гипотезу, нет оснований считать доли разными\n"
     ]
    }
   ],
   "source": [
    "z_value_diff(group_a1_a2.loc[1,'count_a1'], group_b.loc[1,'count_b'], 0.05, id_a1, id_b)"
   ]
  },
  {
   "cell_type": "markdown",
   "metadata": {},
   "source": [
    "По событию OffersScreenAppear не получилось отвергнуть нулевую гипотезу."
   ]
  },
  {
   "cell_type": "code",
   "execution_count": 113,
   "metadata": {},
   "outputs": [
    {
     "name": "stdout",
     "output_type": "stream",
     "text": [
      "p-значение:  0.08328412977507749\n",
      "Не получилось отвергнуть нулевую гипотезу, нет оснований считать доли разными\n"
     ]
    }
   ],
   "source": [
    "z_value_diff(group_a1_a2.loc[2,'count_a1'], group_b.loc[2,'count_b'], 0.05, id_a1, id_b)"
   ]
  },
  {
   "cell_type": "markdown",
   "metadata": {},
   "source": [
    "По событию CartScreenAppear не получилось отвергнуть нулевую гипотезу."
   ]
  },
  {
   "cell_type": "code",
   "execution_count": 114,
   "metadata": {},
   "outputs": [
    {
     "name": "stdout",
     "output_type": "stream",
     "text": [
      "p-значение:  0.22269358994682742\n",
      "Не получилось отвергнуть нулевую гипотезу, нет оснований считать доли разными\n"
     ]
    }
   ],
   "source": [
    "z_value_diff(group_a1_a2.loc[3,'count_a1'], group_b.loc[3,'count_b'], 0.05, id_a1, id_b)"
   ]
  },
  {
   "cell_type": "markdown",
   "metadata": {},
   "source": [
    "По событию PaymentScreenSuccessful не получилось отвергнуть нулевую гипотезу."
   ]
  },
  {
   "cell_type": "markdown",
   "metadata": {},
   "source": [
    "Так как у нас множественный тест с одними и теми же данными можно было бы применить методы корректировки значения требуемого уровня значимости, но так как в полученных значениях уровень p_value гораздо больше значения alpha, а методы корректировки значения только уменьшают значение alpha, поэтому расчет с учетом метода корректировки значения требуемого уровня значимости не повлияет на результат."
   ]
  },
  {
   "cell_type": "markdown",
   "metadata": {},
   "source": [
    "Построим воронку событий по группам А1 и В"
   ]
  },
  {
   "cell_type": "code",
   "execution_count": 115,
   "metadata": {},
   "outputs": [
    {
     "data": {
      "image/svg+xml": [
       "<svg class=\"main-svg\" xmlns=\"http://www.w3.org/2000/svg\" xmlns:xlink=\"http://www.w3.org/1999/xlink\" width=\"700\" height=\"500\" style=\"\" viewBox=\"0 0 700 500\"><rect x=\"0\" y=\"0\" width=\"700\" height=\"500\" style=\"fill: rgb(255, 255, 255); fill-opacity: 1;\"/><defs id=\"defs-b0d6ab\"><g class=\"clips\"><clipPath id=\"clipb0d6abxyplot\" class=\"plotclip\"><rect width=\"447\" height=\"320\"/></clipPath><clipPath class=\"axesclip\" id=\"clipb0d6abx\"><rect x=\"170\" y=\"0\" width=\"447\" height=\"500\"/></clipPath><clipPath class=\"axesclip\" id=\"clipb0d6aby\"><rect x=\"0\" y=\"100\" width=\"700\" height=\"320\"/></clipPath><clipPath class=\"axesclip\" id=\"clipb0d6abxy\"><rect x=\"170\" y=\"100\" width=\"447\" height=\"320\"/></clipPath></g><g class=\"gradients\"/><g class=\"patterns\"/></defs><g class=\"bglayer\"><rect class=\"bg\" x=\"170\" y=\"100\" width=\"447\" height=\"320\" style=\"fill: rgb(229, 236, 246); fill-opacity: 1; stroke-width: 0;\"/></g><g class=\"layer-below\"><g class=\"imagelayer\"/><g class=\"shapelayer\"/></g><g class=\"cartesianlayer\"><g class=\"subplot xy\"><g class=\"layer-subplot\"><g class=\"shapelayer\"/><g class=\"imagelayer\"/></g><g class=\"gridlayer\"><g class=\"x\"/><g class=\"y\"/></g><g class=\"zerolinelayer\"/><path class=\"xlines-below\"/><path class=\"ylines-below\"/><g class=\"overlines-below\"/><g class=\"xaxislayer-below\"/><g class=\"yaxislayer-below\"/><g class=\"overaxes-below\"/><g class=\"plot\" transform=\"translate(170,100)\" clip-path=\"url(#clipb0d6abxyplot)\"><g class=\"funnellayer mlayer\"><g class=\"trace bars\" style=\"opacity: 1;\"><g class=\"regions\"><g class=\"region\"><path d=\"M22.35,72L98.47,88H223.95L221.71,72Z\" style=\"stroke-width: 0; fill: rgb(99, 110, 250); fill-opacity: 0.5;\"/></g><g class=\"region\"><path d=\"M98.47,152L121.91,168H224.92L223.95,152Z\" style=\"stroke-width: 0; fill: rgb(99, 110, 250); fill-opacity: 0.5;\"/></g><g class=\"region\"><path d=\"M121.91,232L126.59,248H224.23L224.92,232Z\" style=\"stroke-width: 0; fill: rgb(99, 110, 250); fill-opacity: 0.5;\"/></g><g class=\"region\"><path d=\"M0,0Z\" style=\"stroke-width: 0; fill: rgb(99, 110, 250); fill-opacity: 0.5;\"/></g></g><g class=\"points\"><g class=\"point\"><path d=\"M22.35,8V72H221.71V8Z\" style=\"vector-effect: non-scaling-stroke; fill: rgb(99, 110, 250); fill-opacity: 1; stroke: rgb(68, 68, 68); stroke-opacity: 1; stroke-width: 0px; opacity: 1;\"/><text class=\"bartext bartext-inside\" text-anchor=\"middle\" data-notex=\"1\" x=\"0\" y=\"0\" style=\"font-family: 'Open Sans', verdana, arial, sans-serif; font-size: 12px; fill: rgb(255, 255, 255); fill-opacity: 1; white-space: pre;\" transform=\"translate(121.983125,36.6953125)\"><tspan class=\"line\" dy=\"0em\" x=\"0\" y=\"0\">2450</tspan><tspan class=\"line\" dy=\"1.3em\" x=\"0\" y=\"0\">100%</tspan></text></g><g class=\"point\"><path d=\"M98.47,88V152H223.95V88Z\" style=\"vector-effect: non-scaling-stroke; fill: rgb(99, 110, 250); fill-opacity: 1; stroke: rgb(68, 68, 68); stroke-opacity: 1; stroke-width: 0px; opacity: 1;\"/><text class=\"bartext bartext-inside\" text-anchor=\"middle\" data-notex=\"1\" x=\"0\" y=\"0\" style=\"font-family: 'Open Sans', verdana, arial, sans-serif; font-size: 12px; fill: rgb(255, 255, 255); fill-opacity: 1; white-space: pre;\" transform=\"translate(161.02249999999998,116.6953125)\"><tspan class=\"line\" dy=\"0em\" x=\"0\" y=\"0\">1542</tspan><tspan class=\"line\" dy=\"1.3em\" x=\"0\" y=\"0\">63%</tspan></text></g><g class=\"point\"><path d=\"M121.91,168V232H224.92V168Z\" style=\"vector-effect: non-scaling-stroke; fill: rgb(99, 110, 250); fill-opacity: 1; stroke: rgb(68, 68, 68); stroke-opacity: 1; stroke-width: 0px; opacity: 1;\"/><text class=\"bartext bartext-inside\" text-anchor=\"middle\" data-notex=\"1\" x=\"0\" y=\"0\" style=\"font-family: 'Open Sans', verdana, arial, sans-serif; font-size: 12px; fill: rgb(255, 255, 255); fill-opacity: 1; white-space: pre;\" transform=\"translate(173.2275,196.6953125)\"><tspan class=\"line\" dy=\"0em\" x=\"0\" y=\"0\">1266</tspan><tspan class=\"line\" dy=\"1.3em\" x=\"0\" y=\"0\">52%</tspan></text></g><g class=\"point\"><path d=\"M126.59,248V312H224.23V248Z\" style=\"vector-effect: non-scaling-stroke; fill: rgb(99, 110, 250); fill-opacity: 1; stroke: rgb(68, 68, 68); stroke-opacity: 1; stroke-width: 0px; opacity: 1;\"/><text class=\"bartext bartext-inside\" text-anchor=\"middle\" data-notex=\"1\" x=\"0\" y=\"0\" style=\"font-family: 'Open Sans', verdana, arial, sans-serif; font-size: 12px; fill: rgb(255, 255, 255); fill-opacity: 1; white-space: pre;\" transform=\"translate(175.2225,276.6953125)\"><tspan class=\"line\" dy=\"0em\" x=\"0\" y=\"0\">1200</tspan><tspan class=\"line\" dy=\"1.3em\" x=\"0\" y=\"0\">49%</tspan></text></g></g></g><g class=\"trace bars\" style=\"opacity: 1;\"><g class=\"regions\"><g class=\"region\"><path d=\"M221.71,72L223.95,88H348.53L424.65,72Z\" style=\"stroke-width: 0; fill: rgb(239, 85, 59); fill-opacity: 0.5;\"/></g><g class=\"region\"><path d=\"M223.95,152L224.92,168H325.09L348.53,152Z\" style=\"stroke-width: 0; fill: rgb(239, 85, 59); fill-opacity: 0.5;\"/></g><g class=\"region\"><path d=\"M224.92,232L224.23,248H320.41L325.09,232Z\" style=\"stroke-width: 0; fill: rgb(239, 85, 59); fill-opacity: 0.5;\"/></g><g class=\"region\"><path d=\"M0,0Z\" style=\"stroke-width: 0; fill: rgb(239, 85, 59); fill-opacity: 0.5;\"/></g></g><g class=\"points\"><g class=\"point\"><path d=\"M221.71,8V72H424.65V8Z\" style=\"vector-effect: non-scaling-stroke; fill: rgb(239, 85, 59); fill-opacity: 1; stroke: rgb(68, 68, 68); stroke-opacity: 1; stroke-width: 0px; opacity: 1;\"/><text class=\"bartext bartext-inside\" text-anchor=\"middle\" data-notex=\"1\" x=\"0\" y=\"0\" style=\"font-family: 'Open Sans', verdana, arial, sans-serif; font-size: 12px; fill: rgb(68, 68, 68); fill-opacity: 1; white-space: pre;\" transform=\"translate(323.133125,36.6953125)\"><tspan class=\"line\" dy=\"0em\" x=\"0\" y=\"0\">2494</tspan><tspan class=\"line\" dy=\"1.3em\" x=\"0\" y=\"0\">100%</tspan></text></g><g class=\"point\"><path d=\"M223.95,88V152H348.53V88Z\" style=\"vector-effect: non-scaling-stroke; fill: rgb(239, 85, 59); fill-opacity: 1; stroke: rgb(68, 68, 68); stroke-opacity: 1; stroke-width: 0px; opacity: 1;\"/><text class=\"bartext bartext-inside\" text-anchor=\"middle\" data-notex=\"1\" x=\"0\" y=\"0\" style=\"font-family: 'Open Sans', verdana, arial, sans-serif; font-size: 12px; fill: rgb(68, 68, 68); fill-opacity: 1; white-space: pre;\" transform=\"translate(286.24,116.6953125)\"><tspan class=\"line\" dy=\"0em\" x=\"0\" y=\"0\">1531</tspan><tspan class=\"line\" dy=\"1.3em\" x=\"0\" y=\"0\">61%</tspan></text></g><g class=\"point\"><path d=\"M224.92,168V232H325.09V168Z\" style=\"vector-effect: non-scaling-stroke; fill: rgb(239, 85, 59); fill-opacity: 1; stroke: rgb(68, 68, 68); stroke-opacity: 1; stroke-width: 0px; opacity: 1;\"/><text class=\"bartext bartext-inside\" text-anchor=\"middle\" data-notex=\"1\" x=\"0\" y=\"0\" style=\"font-family: 'Open Sans', verdana, arial, sans-serif; font-size: 12px; fill: rgb(68, 68, 68); fill-opacity: 1; white-space: pre;\" transform=\"translate(275.005,196.6953125)\"><tspan class=\"line\" dy=\"0em\" x=\"0\" y=\"0\">1231</tspan><tspan class=\"line\" dy=\"1.3em\" x=\"0\" y=\"0\">49%</tspan></text></g><g class=\"point\"><path d=\"M224.23,248V312H320.41V248Z\" style=\"vector-effect: non-scaling-stroke; fill: rgb(239, 85, 59); fill-opacity: 1; stroke: rgb(68, 68, 68); stroke-opacity: 1; stroke-width: 0px; opacity: 1;\"/><text class=\"bartext bartext-inside\" text-anchor=\"middle\" data-notex=\"1\" x=\"0\" y=\"0\" style=\"font-family: 'Open Sans', verdana, arial, sans-serif; font-size: 12px; fill: rgb(68, 68, 68); fill-opacity: 1; white-space: pre;\" transform=\"translate(272.1325,276.6953125)\"><tspan class=\"line\" dy=\"0em\" x=\"0\" y=\"0\">1182</tspan><tspan class=\"line\" dy=\"1.3em\" x=\"0\" y=\"0\">47%</tspan></text></g></g></g></g></g><g class=\"overplot\"/><path class=\"xlines-above crisp\" d=\"M0,0\" style=\"fill: none;\"/><path class=\"ylines-above crisp\" d=\"M0,0\" style=\"fill: none;\"/><g class=\"overlines-above\"/><g class=\"xaxislayer-above\"/><g class=\"yaxislayer-above\"><g class=\"ytick\"><text text-anchor=\"end\" x=\"169\" y=\"4.199999999999999\" transform=\"translate(0,380)\" style=\"font-family: 'Open Sans', verdana, arial, sans-serif; font-size: 12px; fill: rgb(42, 63, 95); fill-opacity: 1; white-space: pre; opacity: 1;\">PaymentScreenSuccessful</text></g><g class=\"ytick\"><text text-anchor=\"end\" x=\"169\" y=\"4.199999999999999\" transform=\"translate(0,300)\" style=\"font-family: 'Open Sans', verdana, arial, sans-serif; font-size: 12px; fill: rgb(42, 63, 95); fill-opacity: 1; white-space: pre; opacity: 1;\">CartScreenAppear</text></g><g class=\"ytick\"><text text-anchor=\"end\" x=\"169\" y=\"4.199999999999999\" transform=\"translate(0,220)\" style=\"font-family: 'Open Sans', verdana, arial, sans-serif; font-size: 12px; fill: rgb(42, 63, 95); fill-opacity: 1; white-space: pre; opacity: 1;\">OffersScreenAppear</text></g><g class=\"ytick\"><text text-anchor=\"end\" x=\"169\" y=\"4.199999999999999\" transform=\"translate(0,140)\" style=\"font-family: 'Open Sans', verdana, arial, sans-serif; font-size: 12px; fill: rgb(42, 63, 95); fill-opacity: 1; white-space: pre; opacity: 1;\">MainScreenAppear</text></g></g><g class=\"overaxes-above\"/></g></g><g class=\"polarlayer\"/><g class=\"smithlayer\"/><g class=\"ternarylayer\"/><g class=\"geolayer\"/><g class=\"funnelarealayer\"/><g class=\"pielayer\"/><g class=\"iciclelayer\"/><g class=\"treemaplayer\"/><g class=\"sunburstlayer\"/><g class=\"glimages\"/><defs id=\"topdefs-b0d6ab\"><g class=\"clips\"/><clipPath id=\"legendb0d6ab\"><rect width=\"62\" height=\"48\" x=\"0\" y=\"0\"/></clipPath></defs><g class=\"layer-above\"><g class=\"imagelayer\"/><g class=\"shapelayer\"/></g><g class=\"infolayer\"><g class=\"legend\" pointer-events=\"all\" transform=\"translate(625.94,100)\"><rect class=\"bg\" shape-rendering=\"crispEdges\" width=\"62\" height=\"48\" x=\"0\" y=\"0\" style=\"stroke: rgb(68, 68, 68); stroke-opacity: 1; fill: rgb(255, 255, 255); fill-opacity: 1; stroke-width: 0px;\"/><g class=\"scrollbox\" transform=\"\" clip-path=\"url(#legendb0d6ab)\"><g class=\"groups\"><g class=\"traces\" transform=\"translate(0,14.5)\" style=\"opacity: 1;\"><text class=\"legendtext\" text-anchor=\"start\" x=\"40\" y=\"4.680000000000001\" style=\"font-family: 'Open Sans', verdana, arial, sans-serif; font-size: 12px; fill: rgb(42, 63, 95); fill-opacity: 1; white-space: pre;\">A1</text><g class=\"layers\" style=\"opacity: 1;\"><g class=\"legendfill\"/><g class=\"legendlines\"/><g class=\"legendsymbols\"><g class=\"legendpoints\"><path class=\"legendfunnel\" d=\"M6,6H-6V-6H6Z\" transform=\"translate(20,0)\" style=\"stroke-width: 0px; fill: rgb(99, 110, 250); fill-opacity: 1;\"/></g></g></g><rect class=\"legendtoggle\" x=\"0\" y=\"-9.5\" width=\"56.84375\" height=\"19\" style=\"fill: rgb(0, 0, 0); fill-opacity: 0;\"/></g><g class=\"traces\" transform=\"translate(0,33.5)\" style=\"opacity: 1;\"><text class=\"legendtext\" text-anchor=\"start\" x=\"40\" y=\"4.680000000000001\" style=\"font-family: 'Open Sans', verdana, arial, sans-serif; font-size: 12px; fill: rgb(42, 63, 95); fill-opacity: 1; white-space: pre;\">B</text><g class=\"layers\" style=\"opacity: 1;\"><g class=\"legendfill\"/><g class=\"legendlines\"/><g class=\"legendsymbols\"><g class=\"legendpoints\"><path class=\"legendfunnel\" d=\"M6,6H-6V-6H6Z\" transform=\"translate(20,0)\" style=\"stroke-width: 0px; fill: rgb(239, 85, 59); fill-opacity: 1;\"/></g></g></g><rect class=\"legendtoggle\" x=\"0\" y=\"-9.5\" width=\"56.84375\" height=\"19\" style=\"fill: rgb(0, 0, 0); fill-opacity: 0;\"/></g></g></g><rect class=\"scrollbar\" rx=\"20\" ry=\"3\" width=\"0\" height=\"0\" x=\"0\" y=\"0\" style=\"fill: rgb(128, 139, 164); fill-opacity: 1;\"/></g><g class=\"g-gtitle\"/><g class=\"g-ytitle\"/></g></svg>"
      ]
     },
     "metadata": {},
     "output_type": "display_data"
    }
   ],
   "source": [
    "fig = go.Figure()\n",
    "\n",
    "fig.add_trace(go.Funnel(\n",
    "    name = 'A1',\n",
    "    y = group_a1_a2['event_name'],\n",
    "    x = group_a1_a2['count_a1'],\n",
    "    textinfo = \"value+percent initial\"))\n",
    "\n",
    "fig.add_trace(go.Funnel(\n",
    "    name = 'B',\n",
    "    y = group_a1_a2['event_name'],\n",
    "    x = group_b['count_b'],\n",
    "    textinfo = \"value+percent initial\"))\n",
    "fig.show()"
   ]
  },
  {
   "cell_type": "markdown",
   "metadata": {},
   "source": [
    "Значимой разницы между контрольной группой А1 и экспериментальной группой не выявлено."
   ]
  },
  {
   "cell_type": "markdown",
   "metadata": {},
   "source": [
    "Теперь проверим статистическую разницу между группами А2 и В."
   ]
  },
  {
   "cell_type": "code",
   "execution_count": 116,
   "metadata": {},
   "outputs": [
    {
     "name": "stdout",
     "output_type": "stream",
     "text": [
      "p-значение:  0.6001661582453706\n",
      "Не получилось отвергнуть нулевую гипотезу, нет оснований считать доли разными\n"
     ]
    }
   ],
   "source": [
    "z_value_diff(group_a1_a2.loc[0,'count_a2'], group_b.loc[0,'count_b'], 0.05, id_a2, id_b)"
   ]
  },
  {
   "cell_type": "markdown",
   "metadata": {},
   "source": [
    "По событию MainScreenAppear не получилось отвергнуть нулевую гипотезу."
   ]
  },
  {
   "cell_type": "code",
   "execution_count": 117,
   "metadata": {},
   "outputs": [
    {
     "name": "stdout",
     "output_type": "stream",
     "text": [
      "p-значение:  0.8835956656016957\n",
      "Не получилось отвергнуть нулевую гипотезу, нет оснований считать доли разными\n"
     ]
    }
   ],
   "source": [
    "z_value_diff(group_a1_a2.loc[1,'count_a2'], group_b.loc[1,'count_b'], 0.05, id_a2, id_b)"
   ]
  },
  {
   "cell_type": "markdown",
   "metadata": {},
   "source": [
    "По событию OffersScreenAppear не получилось отвергнуть нулевую гипотезу."
   ]
  },
  {
   "cell_type": "code",
   "execution_count": 118,
   "metadata": {},
   "outputs": [
    {
     "name": "stdout",
     "output_type": "stream",
     "text": [
      "p-значение:  0.6169517476996997\n",
      "Не получилось отвергнуть нулевую гипотезу, нет оснований считать доли разными\n"
     ]
    }
   ],
   "source": [
    "z_value_diff(group_a1_a2.loc[2,'count_a2'], group_b.loc[2,'count_b'], 0.05, id_a2, id_b)"
   ]
  },
  {
   "cell_type": "markdown",
   "metadata": {},
   "source": [
    "По событию CartScreenAppear не получилось отвергнуть нулевую гипотезу."
   ]
  },
  {
   "cell_type": "code",
   "execution_count": 119,
   "metadata": {},
   "outputs": [
    {
     "name": "stdout",
     "output_type": "stream",
     "text": [
      "p-значение:  0.6775413642906454\n",
      "Не получилось отвергнуть нулевую гипотезу, нет оснований считать доли разными\n"
     ]
    }
   ],
   "source": [
    "z_value_diff(group_a1_a2.loc[3,'count_a2'], group_b.loc[3,'count_b'], 0.05, id_a2, id_b)"
   ]
  },
  {
   "cell_type": "markdown",
   "metadata": {},
   "source": [
    "По событию PaymentScreenSuccessful не получилось отвергнуть нулевую гипотезу."
   ]
  },
  {
   "cell_type": "markdown",
   "metadata": {},
   "source": [
    "Так как у нас множественный тест с одними и теми же данными можно было бы применить методы корректировки значения требуемого уровня значимости, но так как в полученных значениях уровень p_value гораздо больше значения alpha, а методы корректировки значения только уменьшают значение alpha, поэтому расчет с учетом метода корректировки значения требуемого уровня значимости не повлияет на результат."
   ]
  },
  {
   "cell_type": "markdown",
   "metadata": {},
   "source": [
    "Построим воронку событий по группам А2 и В"
   ]
  },
  {
   "cell_type": "code",
   "execution_count": 120,
   "metadata": {},
   "outputs": [
    {
     "data": {
      "image/svg+xml": [
       "<svg class=\"main-svg\" xmlns=\"http://www.w3.org/2000/svg\" xmlns:xlink=\"http://www.w3.org/1999/xlink\" width=\"700\" height=\"500\" style=\"\" viewBox=\"0 0 700 500\"><rect x=\"0\" y=\"0\" width=\"700\" height=\"500\" style=\"fill: rgb(255, 255, 255); fill-opacity: 1;\"/><defs id=\"defs-ac34e2\"><g class=\"clips\"><clipPath id=\"clipac34e2xyplot\" class=\"plotclip\"><rect width=\"446\" height=\"320\"/></clipPath><clipPath class=\"axesclip\" id=\"clipac34e2x\"><rect x=\"170\" y=\"0\" width=\"446\" height=\"500\"/></clipPath><clipPath class=\"axesclip\" id=\"clipac34e2y\"><rect x=\"0\" y=\"100\" width=\"700\" height=\"320\"/></clipPath><clipPath class=\"axesclip\" id=\"clipac34e2xy\"><rect x=\"170\" y=\"100\" width=\"446\" height=\"320\"/></clipPath></g><g class=\"gradients\"/><g class=\"patterns\"/></defs><g class=\"bglayer\"><rect class=\"bg\" x=\"170\" y=\"100\" width=\"446\" height=\"320\" style=\"fill: rgb(229, 236, 246); fill-opacity: 1; stroke-width: 0;\"/></g><g class=\"layer-below\"><g class=\"imagelayer\"/><g class=\"shapelayer\"/></g><g class=\"cartesianlayer\"><g class=\"subplot xy\"><g class=\"layer-subplot\"><g class=\"shapelayer\"/><g class=\"imagelayer\"/></g><g class=\"gridlayer\"><g class=\"x\"/><g class=\"y\"/></g><g class=\"zerolinelayer\"/><path class=\"xlines-below\"/><path class=\"ylines-below\"/><g class=\"overlines-below\"/><g class=\"xaxislayer-below\"/><g class=\"yaxislayer-below\"/><g class=\"overaxes-below\"/><g class=\"plot\" transform=\"translate(170,100)\" clip-path=\"url(#clipac34e2xyplot)\"><g class=\"funnellayer mlayer\"><g class=\"trace bars\" style=\"opacity: 1;\"><g class=\"regions\"><g class=\"region\"><path d=\"M22.3,72L99.71,88H222.72L222.39,72Z\" style=\"stroke-width: 0; fill: rgb(99, 110, 250); fill-opacity: 0.5;\"/></g><g class=\"region\"><path d=\"M99.71,152L123.32,168H223.32L222.72,152Z\" style=\"stroke-width: 0; fill: rgb(99, 110, 250); fill-opacity: 0.5;\"/></g><g class=\"region\"><path d=\"M123.32,232L128.56,248H222.03L223.32,232Z\" style=\"stroke-width: 0; fill: rgb(99, 110, 250); fill-opacity: 0.5;\"/></g><g class=\"region\"><path d=\"M0,0Z\" style=\"stroke-width: 0; fill: rgb(99, 110, 250); fill-opacity: 0.5;\"/></g></g><g class=\"points\"><g class=\"point\"><path d=\"M22.3,8V72H222.39V8Z\" style=\"vector-effect: non-scaling-stroke; fill: rgb(99, 110, 250); fill-opacity: 1; stroke: rgb(68, 68, 68); stroke-opacity: 1; stroke-width: 0px; opacity: 1;\"/><text class=\"bartext bartext-inside\" text-anchor=\"middle\" data-notex=\"1\" x=\"0\" y=\"0\" style=\"font-family: 'Open Sans', verdana, arial, sans-serif; font-size: 12px; fill: rgb(255, 255, 255); fill-opacity: 1; white-space: pre;\" transform=\"translate(122.298125,36.6953125)\"><tspan class=\"line\" dy=\"0em\" x=\"0\" y=\"0\">2479</tspan><tspan class=\"line\" dy=\"1.3em\" x=\"0\" y=\"0\">100%</tspan></text></g><g class=\"point\"><path d=\"M99.71,88V152H222.72V88Z\" style=\"vector-effect: non-scaling-stroke; fill: rgb(99, 110, 250); fill-opacity: 1; stroke: rgb(68, 68, 68); stroke-opacity: 1; stroke-width: 0px; opacity: 1;\"/><text class=\"bartext bartext-inside\" text-anchor=\"middle\" data-notex=\"1\" x=\"0\" y=\"0\" style=\"font-family: 'Open Sans', verdana, arial, sans-serif; font-size: 12px; fill: rgb(255, 255, 255); fill-opacity: 1; white-space: pre;\" transform=\"translate(161.0275,116.6953125)\"><tspan class=\"line\" dy=\"0em\" x=\"0\" y=\"0\">1524</tspan><tspan class=\"line\" dy=\"1.3em\" x=\"0\" y=\"0\">61%</tspan></text></g><g class=\"point\"><path d=\"M123.32,168V232H223.32V168Z\" style=\"vector-effect: non-scaling-stroke; fill: rgb(99, 110, 250); fill-opacity: 1; stroke: rgb(68, 68, 68); stroke-opacity: 1; stroke-width: 0px; opacity: 1;\"/><text class=\"bartext bartext-inside\" text-anchor=\"middle\" data-notex=\"1\" x=\"0\" y=\"0\" style=\"font-family: 'Open Sans', verdana, arial, sans-serif; font-size: 12px; fill: rgb(255, 255, 255); fill-opacity: 1; white-space: pre;\" transform=\"translate(173.1325,196.6953125)\"><tspan class=\"line\" dy=\"0em\" x=\"0\" y=\"0\">1239</tspan><tspan class=\"line\" dy=\"1.3em\" x=\"0\" y=\"0\">50%</tspan></text></g><g class=\"point\"><path d=\"M128.56,248V312H222.03V248Z\" style=\"vector-effect: non-scaling-stroke; fill: rgb(99, 110, 250); fill-opacity: 1; stroke: rgb(68, 68, 68); stroke-opacity: 1; stroke-width: 0px; opacity: 1;\"/><text class=\"bartext bartext-inside\" text-anchor=\"middle\" data-notex=\"1\" x=\"0\" y=\"0\" style=\"font-family: 'Open Sans', verdana, arial, sans-serif; font-size: 12px; fill: rgb(255, 255, 255); fill-opacity: 1; white-space: pre;\" transform=\"translate(175.10750000000002,276.6953125)\"><tspan class=\"line\" dy=\"0em\" x=\"0\" y=\"0\">1158</tspan><tspan class=\"line\" dy=\"1.3em\" x=\"0\" y=\"0\">47%</tspan></text></g></g></g><g class=\"trace bars\" style=\"opacity: 1;\"><g class=\"regions\"><g class=\"region\"><path d=\"M222.39,72L222.72,88H346.29L423.7,72Z\" style=\"stroke-width: 0; fill: rgb(239, 85, 59); fill-opacity: 0.5;\"/></g><g class=\"region\"><path d=\"M222.72,152L223.32,168H322.68L346.29,152Z\" style=\"stroke-width: 0; fill: rgb(239, 85, 59); fill-opacity: 0.5;\"/></g><g class=\"region\"><path d=\"M223.32,232L222.03,248H317.44L322.68,232Z\" style=\"stroke-width: 0; fill: rgb(239, 85, 59); fill-opacity: 0.5;\"/></g><g class=\"region\"><path d=\"M0,0Z\" style=\"stroke-width: 0; fill: rgb(239, 85, 59); fill-opacity: 0.5;\"/></g></g><g class=\"points\"><g class=\"point\"><path d=\"M222.39,8V72H423.7V8Z\" style=\"vector-effect: non-scaling-stroke; fill: rgb(239, 85, 59); fill-opacity: 1; stroke: rgb(68, 68, 68); stroke-opacity: 1; stroke-width: 0px; opacity: 1;\"/><text class=\"bartext bartext-inside\" text-anchor=\"middle\" data-notex=\"1\" x=\"0\" y=\"0\" style=\"font-family: 'Open Sans', verdana, arial, sans-serif; font-size: 12px; fill: rgb(68, 68, 68); fill-opacity: 1; white-space: pre;\" transform=\"translate(322.99812499999996,36.6953125)\"><tspan class=\"line\" dy=\"0em\" x=\"0\" y=\"0\">2494</tspan><tspan class=\"line\" dy=\"1.3em\" x=\"0\" y=\"0\">100%</tspan></text></g><g class=\"point\"><path d=\"M222.72,88V152H346.29V88Z\" style=\"vector-effect: non-scaling-stroke; fill: rgb(239, 85, 59); fill-opacity: 1; stroke: rgb(68, 68, 68); stroke-opacity: 1; stroke-width: 0px; opacity: 1;\"/><text class=\"bartext bartext-inside\" text-anchor=\"middle\" data-notex=\"1\" x=\"0\" y=\"0\" style=\"font-family: 'Open Sans', verdana, arial, sans-serif; font-size: 12px; fill: rgb(68, 68, 68); fill-opacity: 1; white-space: pre;\" transform=\"translate(284.505,116.6953125)\"><tspan class=\"line\" dy=\"0em\" x=\"0\" y=\"0\">1531</tspan><tspan class=\"line\" dy=\"1.3em\" x=\"0\" y=\"0\">61%</tspan></text></g><g class=\"point\"><path d=\"M223.32,168V232H322.68V168Z\" style=\"vector-effect: non-scaling-stroke; fill: rgb(239, 85, 59); fill-opacity: 1; stroke: rgb(68, 68, 68); stroke-opacity: 1; stroke-width: 0px; opacity: 1;\"/><text class=\"bartext bartext-inside\" text-anchor=\"middle\" data-notex=\"1\" x=\"0\" y=\"0\" style=\"font-family: 'Open Sans', verdana, arial, sans-serif; font-size: 12px; fill: rgb(68, 68, 68); fill-opacity: 1; white-space: pre;\" transform=\"translate(273,196.6953125)\"><tspan class=\"line\" dy=\"0em\" x=\"0\" y=\"0\">1231</tspan><tspan class=\"line\" dy=\"1.3em\" x=\"0\" y=\"0\">49%</tspan></text></g><g class=\"point\"><path d=\"M222.03,248V312H317.44V248Z\" style=\"vector-effect: non-scaling-stroke; fill: rgb(239, 85, 59); fill-opacity: 1; stroke: rgb(68, 68, 68); stroke-opacity: 1; stroke-width: 0px; opacity: 1;\"/><text class=\"bartext bartext-inside\" text-anchor=\"middle\" data-notex=\"1\" x=\"0\" y=\"0\" style=\"font-family: 'Open Sans', verdana, arial, sans-serif; font-size: 12px; fill: rgb(68, 68, 68); fill-opacity: 1; white-space: pre;\" transform=\"translate(269.5475,276.6953125)\"><tspan class=\"line\" dy=\"0em\" x=\"0\" y=\"0\">1182</tspan><tspan class=\"line\" dy=\"1.3em\" x=\"0\" y=\"0\">47%</tspan></text></g></g></g></g></g><g class=\"overplot\"/><path class=\"xlines-above crisp\" d=\"M0,0\" style=\"fill: none;\"/><path class=\"ylines-above crisp\" d=\"M0,0\" style=\"fill: none;\"/><g class=\"overlines-above\"/><g class=\"xaxislayer-above\"/><g class=\"yaxislayer-above\"><g class=\"ytick\"><text text-anchor=\"end\" x=\"169\" y=\"4.199999999999999\" transform=\"translate(0,380)\" style=\"font-family: 'Open Sans', verdana, arial, sans-serif; font-size: 12px; fill: rgb(42, 63, 95); fill-opacity: 1; white-space: pre; opacity: 1;\">PaymentScreenSuccessful</text></g><g class=\"ytick\"><text text-anchor=\"end\" x=\"169\" y=\"4.199999999999999\" transform=\"translate(0,300)\" style=\"font-family: 'Open Sans', verdana, arial, sans-serif; font-size: 12px; fill: rgb(42, 63, 95); fill-opacity: 1; white-space: pre; opacity: 1;\">CartScreenAppear</text></g><g class=\"ytick\"><text text-anchor=\"end\" x=\"169\" y=\"4.199999999999999\" transform=\"translate(0,220)\" style=\"font-family: 'Open Sans', verdana, arial, sans-serif; font-size: 12px; fill: rgb(42, 63, 95); fill-opacity: 1; white-space: pre; opacity: 1;\">OffersScreenAppear</text></g><g class=\"ytick\"><text text-anchor=\"end\" x=\"169\" y=\"4.199999999999999\" transform=\"translate(0,140)\" style=\"font-family: 'Open Sans', verdana, arial, sans-serif; font-size: 12px; fill: rgb(42, 63, 95); fill-opacity: 1; white-space: pre; opacity: 1;\">MainScreenAppear</text></g></g><g class=\"overaxes-above\"/></g></g><g class=\"polarlayer\"/><g class=\"smithlayer\"/><g class=\"ternarylayer\"/><g class=\"geolayer\"/><g class=\"funnelarealayer\"/><g class=\"pielayer\"/><g class=\"iciclelayer\"/><g class=\"treemaplayer\"/><g class=\"sunburstlayer\"/><g class=\"glimages\"/><defs id=\"topdefs-ac34e2\"><g class=\"clips\"/><clipPath id=\"legendac34e2\"><rect width=\"63\" height=\"48\" x=\"0\" y=\"0\"/></clipPath></defs><g class=\"layer-above\"><g class=\"imagelayer\"/><g class=\"shapelayer\"/></g><g class=\"infolayer\"><g class=\"legend\" pointer-events=\"all\" transform=\"translate(624.9200000000001,100)\"><rect class=\"bg\" shape-rendering=\"crispEdges\" width=\"63\" height=\"48\" x=\"0\" y=\"0\" style=\"stroke: rgb(68, 68, 68); stroke-opacity: 1; fill: rgb(255, 255, 255); fill-opacity: 1; stroke-width: 0px;\"/><g class=\"scrollbox\" transform=\"\" clip-path=\"url(#legendac34e2)\"><g class=\"groups\"><g class=\"traces\" transform=\"translate(0,14.5)\" style=\"opacity: 1;\"><text class=\"legendtext\" text-anchor=\"start\" x=\"40\" y=\"4.680000000000001\" style=\"font-family: 'Open Sans', verdana, arial, sans-serif; font-size: 12px; fill: rgb(42, 63, 95); fill-opacity: 1; white-space: pre;\">A2</text><g class=\"layers\" style=\"opacity: 1;\"><g class=\"legendfill\"/><g class=\"legendlines\"/><g class=\"legendsymbols\"><g class=\"legendpoints\"><path class=\"legendfunnel\" d=\"M6,6H-6V-6H6Z\" transform=\"translate(20,0)\" style=\"stroke-width: 0px; fill: rgb(99, 110, 250); fill-opacity: 1;\"/></g></g></g><rect class=\"legendtoggle\" x=\"0\" y=\"-9.5\" width=\"57.203125\" height=\"19\" style=\"fill: rgb(0, 0, 0); fill-opacity: 0;\"/></g><g class=\"traces\" transform=\"translate(0,33.5)\" style=\"opacity: 1;\"><text class=\"legendtext\" text-anchor=\"start\" x=\"40\" y=\"4.680000000000001\" style=\"font-family: 'Open Sans', verdana, arial, sans-serif; font-size: 12px; fill: rgb(42, 63, 95); fill-opacity: 1; white-space: pre;\">B</text><g class=\"layers\" style=\"opacity: 1;\"><g class=\"legendfill\"/><g class=\"legendlines\"/><g class=\"legendsymbols\"><g class=\"legendpoints\"><path class=\"legendfunnel\" d=\"M6,6H-6V-6H6Z\" transform=\"translate(20,0)\" style=\"stroke-width: 0px; fill: rgb(239, 85, 59); fill-opacity: 1;\"/></g></g></g><rect class=\"legendtoggle\" x=\"0\" y=\"-9.5\" width=\"57.203125\" height=\"19\" style=\"fill: rgb(0, 0, 0); fill-opacity: 0;\"/></g></g></g><rect class=\"scrollbar\" rx=\"20\" ry=\"3\" width=\"0\" height=\"0\" x=\"0\" y=\"0\" style=\"fill: rgb(128, 139, 164); fill-opacity: 1;\"/></g><g class=\"g-gtitle\"/><g class=\"g-ytitle\"/></g></svg>"
      ]
     },
     "metadata": {},
     "output_type": "display_data"
    }
   ],
   "source": [
    "fig = go.Figure()\n",
    "\n",
    "fig.add_trace(go.Funnel(\n",
    "    name = 'A2',\n",
    "    y = group_a1_a2['event_name'],\n",
    "    x = group_a1_a2['count_a2'],\n",
    "    textinfo = \"value+percent initial\"))\n",
    "\n",
    "fig.add_trace(go.Funnel(\n",
    "    name = 'B',\n",
    "    y = group_a1_a2['event_name'],\n",
    "    x = group_b['count_b'],\n",
    "    textinfo = \"value+percent initial\"))\n",
    "fig.show()"
   ]
  },
  {
   "cell_type": "markdown",
   "metadata": {},
   "source": [
    "Значимой разницы между контрольной группой А2 и экспериментальной группой не выявлено."
   ]
  },
  {
   "cell_type": "markdown",
   "metadata": {},
   "source": [
    "Теперь проверим статистическую разницу между группами А1+A2 и В."
   ]
  },
  {
   "cell_type": "code",
   "execution_count": 121,
   "metadata": {},
   "outputs": [
    {
     "name": "stdout",
     "output_type": "stream",
     "text": [
      "p-значение:  0.39298914928006035\n",
      "Не получилось отвергнуть нулевую гипотезу, нет оснований считать доли разными\n"
     ]
    }
   ],
   "source": [
    "z_value_diff(group_a1_a2.loc[0,'count_a1']+group_a1_a2.loc[0,'count_a2'], group_b.loc[0,'count_b'], 0.05,id_a1+id_a2, id_b)"
   ]
  },
  {
   "cell_type": "markdown",
   "metadata": {},
   "source": [
    "По событию MainScreenAppear не получилось отвергнуть нулевую гипотезу."
   ]
  },
  {
   "cell_type": "code",
   "execution_count": 122,
   "metadata": {},
   "outputs": [
    {
     "name": "stdout",
     "output_type": "stream",
     "text": [
      "p-значение:  0.418998284007599\n",
      "Не получилось отвергнуть нулевую гипотезу, нет оснований считать доли разными\n"
     ]
    }
   ],
   "source": [
    "z_value_diff(group_a1_a2.loc[1,'count_a1']+group_a1_a2.loc[1,'count_a2'], group_b.loc[1,'count_b'], 0.05,id_a1+id_a2, id_b)"
   ]
  },
  {
   "cell_type": "markdown",
   "metadata": {},
   "source": [
    "По событию OffersScreenAppear не получилось отвергнуть нулевую гипотезу."
   ]
  },
  {
   "cell_type": "code",
   "execution_count": 123,
   "metadata": {},
   "outputs": [
    {
     "name": "stdout",
     "output_type": "stream",
     "text": [
      "p-значение:  0.19819340844527744\n",
      "Не получилось отвергнуть нулевую гипотезу, нет оснований считать доли разными\n"
     ]
    }
   ],
   "source": [
    "z_value_diff(group_a1_a2.loc[2,'count_a1']+group_a1_a2.loc[2,'count_a2'], group_b.loc[2,'count_b'], 0.05,id_a1+id_a2, id_b)"
   ]
  },
  {
   "cell_type": "markdown",
   "metadata": {},
   "source": [
    "По событию CartScreenAppear не получилось отвергнуть нулевую гипотезу."
   ]
  },
  {
   "cell_type": "code",
   "execution_count": 124,
   "metadata": {},
   "outputs": [
    {
     "name": "stdout",
     "output_type": "stream",
     "text": [
      "p-значение:  0.6452057673098244\n",
      "Не получилось отвергнуть нулевую гипотезу, нет оснований считать доли разными\n"
     ]
    }
   ],
   "source": [
    "z_value_diff(group_a1_a2.loc[3,'count_a1']+group_a1_a2.loc[3,'count_a2'], group_b.loc[3,'count_b'], 0.05,id_a1+id_a2, id_b)"
   ]
  },
  {
   "cell_type": "markdown",
   "metadata": {},
   "source": [
    "По событию PaymentScreenSuccessful не получилось отвергнуть нулевую гипотезу."
   ]
  },
  {
   "cell_type": "markdown",
   "metadata": {},
   "source": [
    "Так как у нас множественный тест с одними и теми же данными можно было бы применить методы корректировки значения требуемого уровня значимости, но так как в полученных значениях уровень p_value гораздо больше значения alpha, а методы корректировки значения только уменьшают значение alpha, поэтому расчет с учетом метода корректировки значения требуемого уровня значимости не повлияет на результат."
   ]
  },
  {
   "cell_type": "markdown",
   "metadata": {},
   "source": [
    "Построим воронку событий по группам А1+А2 и В"
   ]
  },
  {
   "cell_type": "code",
   "execution_count": 125,
   "metadata": {},
   "outputs": [
    {
     "data": {
      "image/svg+xml": [
       "<svg class=\"main-svg\" xmlns=\"http://www.w3.org/2000/svg\" xmlns:xlink=\"http://www.w3.org/1999/xlink\" width=\"700\" height=\"500\" style=\"\" viewBox=\"0 0 700 500\"><rect x=\"0\" y=\"0\" width=\"700\" height=\"500\" style=\"fill: rgb(255, 255, 255); fill-opacity: 1;\"/><defs id=\"defs-37a0d8\"><g class=\"clips\"><clipPath id=\"clip37a0d8xyplot\" class=\"plotclip\"><rect width=\"422\" height=\"320\"/></clipPath><clipPath class=\"axesclip\" id=\"clip37a0d8x\"><rect x=\"170\" y=\"0\" width=\"422\" height=\"500\"/></clipPath><clipPath class=\"axesclip\" id=\"clip37a0d8y\"><rect x=\"0\" y=\"100\" width=\"700\" height=\"320\"/></clipPath><clipPath class=\"axesclip\" id=\"clip37a0d8xy\"><rect x=\"170\" y=\"100\" width=\"422\" height=\"320\"/></clipPath></g><g class=\"gradients\"/><g class=\"patterns\"/></defs><g class=\"bglayer\"><rect class=\"bg\" x=\"170\" y=\"100\" width=\"422\" height=\"320\" style=\"fill: rgb(229, 236, 246); fill-opacity: 1; stroke-width: 0;\"/></g><g class=\"layer-below\"><g class=\"imagelayer\"/><g class=\"shapelayer\"/></g><g class=\"cartesianlayer\"><g class=\"subplot xy\"><g class=\"layer-subplot\"><g class=\"shapelayer\"/><g class=\"imagelayer\"/></g><g class=\"gridlayer\"><g class=\"x\"/><g class=\"y\"/></g><g class=\"zerolinelayer\"/><path class=\"xlines-below\"/><path class=\"ylines-below\"/><g class=\"overlines-below\"/><g class=\"xaxislayer-below\"/><g class=\"yaxislayer-below\"/><g class=\"overaxes-below\"/><g class=\"plot\" transform=\"translate(170,100)\" clip-path=\"url(#clip37a0d8xyplot)\"><g class=\"funnellayer mlayer\"><g class=\"trace bars\" style=\"opacity: 1;\"><g class=\"regions\"><g class=\"region\"><path d=\"M21.1,72L93.4,88H250.27L273.29,72Z\" style=\"stroke-width: 0; fill: rgb(99, 110, 250); fill-opacity: 0.5;\"/></g><g class=\"region\"><path d=\"M93.4,152L115.42,168H243.59L250.27,152Z\" style=\"stroke-width: 0; fill: rgb(99, 110, 250); fill-opacity: 0.5;\"/></g><g class=\"region\"><path d=\"M115.42,232L120.44,248H241.09L243.59,232Z\" style=\"stroke-width: 0; fill: rgb(99, 110, 250); fill-opacity: 0.5;\"/></g><g class=\"region\"><path d=\"M0,0Z\" style=\"stroke-width: 0; fill: rgb(99, 110, 250); fill-opacity: 0.5;\"/></g></g><g class=\"points\"><g class=\"point\"><path d=\"M21.1,8V72H273.29V8Z\" style=\"vector-effect: non-scaling-stroke; fill: rgb(99, 110, 250); fill-opacity: 1; stroke: rgb(68, 68, 68); stroke-opacity: 1; stroke-width: 0px; opacity: 1;\"/><text class=\"bartext bartext-inside\" text-anchor=\"middle\" data-notex=\"1\" x=\"0\" y=\"0\" style=\"font-family: 'Open Sans', verdana, arial, sans-serif; font-size: 12px; fill: rgb(255, 255, 255); fill-opacity: 1; white-space: pre;\" transform=\"translate(147.14812500000002,36.6953125)\"><tspan class=\"line\" dy=\"0em\" x=\"0\" y=\"0\">4929</tspan><tspan class=\"line\" dy=\"1.3em\" x=\"0\" y=\"0\">100%</tspan></text></g><g class=\"point\"><path d=\"M93.4,88V152H250.27V88Z\" style=\"vector-effect: non-scaling-stroke; fill: rgb(99, 110, 250); fill-opacity: 1; stroke: rgb(68, 68, 68); stroke-opacity: 1; stroke-width: 0px; opacity: 1;\"/><text class=\"bartext bartext-inside\" text-anchor=\"middle\" data-notex=\"1\" x=\"0\" y=\"0\" style=\"font-family: 'Open Sans', verdana, arial, sans-serif; font-size: 12px; fill: rgb(255, 255, 255); fill-opacity: 1; white-space: pre;\" transform=\"translate(171.6475,116.6953125)\"><tspan class=\"line\" dy=\"0em\" x=\"0\" y=\"0\">3066</tspan><tspan class=\"line\" dy=\"1.3em\" x=\"0\" y=\"0\">62%</tspan></text></g><g class=\"point\"><path d=\"M115.42,168V232H243.59V168Z\" style=\"vector-effect: non-scaling-stroke; fill: rgb(99, 110, 250); fill-opacity: 1; stroke: rgb(68, 68, 68); stroke-opacity: 1; stroke-width: 0px; opacity: 1;\"/><text class=\"bartext bartext-inside\" text-anchor=\"middle\" data-notex=\"1\" x=\"0\" y=\"0\" style=\"font-family: 'Open Sans', verdana, arial, sans-serif; font-size: 12px; fill: rgb(255, 255, 255); fill-opacity: 1; white-space: pre;\" transform=\"translate(179.3175,196.6953125)\"><tspan class=\"line\" dy=\"0em\" x=\"0\" y=\"0\">2505</tspan><tspan class=\"line\" dy=\"1.3em\" x=\"0\" y=\"0\">51%</tspan></text></g><g class=\"point\"><path d=\"M120.44,248V312H241.09V248Z\" style=\"vector-effect: non-scaling-stroke; fill: rgb(99, 110, 250); fill-opacity: 1; stroke: rgb(68, 68, 68); stroke-opacity: 1; stroke-width: 0px; opacity: 1;\"/><text class=\"bartext bartext-inside\" text-anchor=\"middle\" data-notex=\"1\" x=\"0\" y=\"0\" style=\"font-family: 'Open Sans', verdana, arial, sans-serif; font-size: 12px; fill: rgb(255, 255, 255); fill-opacity: 1; white-space: pre;\" transform=\"translate(180.5775,276.6953125)\"><tspan class=\"line\" dy=\"0em\" x=\"0\" y=\"0\">2358</tspan><tspan class=\"line\" dy=\"1.3em\" x=\"0\" y=\"0\">48%</tspan></text></g></g></g><g class=\"trace bars\" style=\"opacity: 1;\"><g class=\"regions\"><g class=\"region\"><path d=\"M273.29,72L250.27,88H328.6L400.9,72Z\" style=\"stroke-width: 0; fill: rgb(239, 85, 59); fill-opacity: 0.5;\"/></g><g class=\"region\"><path d=\"M250.27,152L243.59,168H306.58L328.6,152Z\" style=\"stroke-width: 0; fill: rgb(239, 85, 59); fill-opacity: 0.5;\"/></g><g class=\"region\"><path d=\"M243.59,232L241.09,248H301.56L306.58,232Z\" style=\"stroke-width: 0; fill: rgb(239, 85, 59); fill-opacity: 0.5;\"/></g><g class=\"region\"><path d=\"M0,0Z\" style=\"stroke-width: 0; fill: rgb(239, 85, 59); fill-opacity: 0.5;\"/></g></g><g class=\"points\"><g class=\"point\"><path d=\"M273.29,8V72H400.9V8Z\" style=\"vector-effect: non-scaling-stroke; fill: rgb(239, 85, 59); fill-opacity: 1; stroke: rgb(68, 68, 68); stroke-opacity: 1; stroke-width: 0px; opacity: 1;\"/><text class=\"bartext bartext-inside\" text-anchor=\"middle\" data-notex=\"1\" x=\"0\" y=\"0\" style=\"font-family: 'Open Sans', verdana, arial, sans-serif; font-size: 12px; fill: rgb(68, 68, 68); fill-opacity: 1; white-space: pre;\" transform=\"translate(337.048125,36.6953125)\"><tspan class=\"line\" dy=\"0em\" x=\"0\" y=\"0\">2494</tspan><tspan class=\"line\" dy=\"1.3em\" x=\"0\" y=\"0\">100%</tspan></text></g><g class=\"point\"><path d=\"M250.27,88V152H328.6V88Z\" style=\"vector-effect: non-scaling-stroke; fill: rgb(239, 85, 59); fill-opacity: 1; stroke: rgb(68, 68, 68); stroke-opacity: 1; stroke-width: 0px; opacity: 1;\"/><text class=\"bartext bartext-inside\" text-anchor=\"middle\" data-notex=\"1\" x=\"0\" y=\"0\" style=\"font-family: 'Open Sans', verdana, arial, sans-serif; font-size: 12px; fill: rgb(68, 68, 68); fill-opacity: 1; white-space: pre;\" transform=\"translate(289.435,116.6953125)\"><tspan class=\"line\" dy=\"0em\" x=\"0\" y=\"0\">1531</tspan><tspan class=\"line\" dy=\"1.3em\" x=\"0\" y=\"0\">61%</tspan></text></g><g class=\"point\"><path d=\"M243.59,168V232H306.58V168Z\" style=\"vector-effect: non-scaling-stroke; fill: rgb(239, 85, 59); fill-opacity: 1; stroke: rgb(68, 68, 68); stroke-opacity: 1; stroke-width: 0px; opacity: 1;\"/><text class=\"bartext bartext-inside\" text-anchor=\"middle\" data-notex=\"1\" x=\"0\" y=\"0\" style=\"font-family: 'Open Sans', verdana, arial, sans-serif; font-size: 12px; fill: rgb(68, 68, 68); fill-opacity: 1; white-space: pre;\" transform=\"translate(275.085,196.6953125)\"><tspan class=\"line\" dy=\"0em\" x=\"0\" y=\"0\">1231</tspan><tspan class=\"line\" dy=\"1.3em\" x=\"0\" y=\"0\">49%</tspan></text></g><g class=\"point\"><path d=\"M241.09,248V312H301.56V248Z\" style=\"vector-effect: non-scaling-stroke; fill: rgb(239, 85, 59); fill-opacity: 1; stroke: rgb(68, 68, 68); stroke-opacity: 1; stroke-width: 0px; opacity: 1;\"/><text class=\"bartext bartext-inside\" text-anchor=\"middle\" data-notex=\"1\" x=\"0\" y=\"0\" style=\"font-family: 'Open Sans', verdana, arial, sans-serif; font-size: 12px; fill: rgb(68, 68, 68); fill-opacity: 1; white-space: pre;\" transform=\"translate(271.1375,276.6953125)\"><tspan class=\"line\" dy=\"0em\" x=\"0\" y=\"0\">1182</tspan><tspan class=\"line\" dy=\"1.3em\" x=\"0\" y=\"0\">47%</tspan></text></g></g></g></g></g><g class=\"overplot\"/><path class=\"xlines-above crisp\" d=\"M0,0\" style=\"fill: none;\"/><path class=\"ylines-above crisp\" d=\"M0,0\" style=\"fill: none;\"/><g class=\"overlines-above\"/><g class=\"xaxislayer-above\"/><g class=\"yaxislayer-above\"><g class=\"ytick\"><text text-anchor=\"end\" x=\"169\" y=\"4.199999999999999\" transform=\"translate(0,380)\" style=\"font-family: 'Open Sans', verdana, arial, sans-serif; font-size: 12px; fill: rgb(42, 63, 95); fill-opacity: 1; white-space: pre; opacity: 1;\">PaymentScreenSuccessful</text></g><g class=\"ytick\"><text text-anchor=\"end\" x=\"169\" y=\"4.199999999999999\" transform=\"translate(0,300)\" style=\"font-family: 'Open Sans', verdana, arial, sans-serif; font-size: 12px; fill: rgb(42, 63, 95); fill-opacity: 1; white-space: pre; opacity: 1;\">CartScreenAppear</text></g><g class=\"ytick\"><text text-anchor=\"end\" x=\"169\" y=\"4.199999999999999\" transform=\"translate(0,220)\" style=\"font-family: 'Open Sans', verdana, arial, sans-serif; font-size: 12px; fill: rgb(42, 63, 95); fill-opacity: 1; white-space: pre; opacity: 1;\">OffersScreenAppear</text></g><g class=\"ytick\"><text text-anchor=\"end\" x=\"169\" y=\"4.199999999999999\" transform=\"translate(0,140)\" style=\"font-family: 'Open Sans', verdana, arial, sans-serif; font-size: 12px; fill: rgb(42, 63, 95); fill-opacity: 1; white-space: pre; opacity: 1;\">MainScreenAppear</text></g></g><g class=\"overaxes-above\"/></g></g><g class=\"polarlayer\"/><g class=\"smithlayer\"/><g class=\"ternarylayer\"/><g class=\"geolayer\"/><g class=\"funnelarealayer\"/><g class=\"pielayer\"/><g class=\"iciclelayer\"/><g class=\"treemaplayer\"/><g class=\"sunburstlayer\"/><g class=\"glimages\"/><defs id=\"topdefs-37a0d8\"><g class=\"clips\"/><clipPath id=\"legend37a0d8\"><rect width=\"88\" height=\"48\" x=\"0\" y=\"0\"/></clipPath></defs><g class=\"layer-above\"><g class=\"imagelayer\"/><g class=\"shapelayer\"/></g><g class=\"infolayer\"><g class=\"legend\" pointer-events=\"all\" transform=\"translate(600.44,100)\"><rect class=\"bg\" shape-rendering=\"crispEdges\" style=\"stroke: rgb(68, 68, 68); stroke-opacity: 1; fill: rgb(255, 255, 255); fill-opacity: 1; stroke-width: 0px;\" width=\"88\" height=\"48\" x=\"0\" y=\"0\"/><g class=\"scrollbox\" transform=\"\" clip-path=\"url(#legend37a0d8)\"><g class=\"groups\"><g class=\"traces\" transform=\"translate(0,14.5)\" style=\"opacity: 1;\"><text class=\"legendtext\" text-anchor=\"start\" x=\"40\" y=\"4.680000000000001\" style=\"font-family: 'Open Sans', verdana, arial, sans-serif; font-size: 12px; fill: rgb(42, 63, 95); fill-opacity: 1; white-space: pre;\">A1+А2</text><g class=\"layers\" style=\"opacity: 1;\"><g class=\"legendfill\"/><g class=\"legendlines\"/><g class=\"legendsymbols\"><g class=\"legendpoints\"><path class=\"legendfunnel\" d=\"M6,6H-6V-6H6Z\" transform=\"translate(20,0)\" style=\"stroke-width: 0px; fill: rgb(99, 110, 250); fill-opacity: 1;\"/></g></g></g><rect class=\"legendtoggle\" x=\"0\" y=\"-9.5\" width=\"82.859375\" height=\"19\" style=\"fill: rgb(0, 0, 0); fill-opacity: 0;\"/></g><g class=\"traces\" transform=\"translate(0,33.5)\" style=\"opacity: 1;\"><text class=\"legendtext\" text-anchor=\"start\" x=\"40\" y=\"4.680000000000001\" style=\"font-family: 'Open Sans', verdana, arial, sans-serif; font-size: 12px; fill: rgb(42, 63, 95); fill-opacity: 1; white-space: pre;\">B</text><g class=\"layers\" style=\"opacity: 1;\"><g class=\"legendfill\"/><g class=\"legendlines\"/><g class=\"legendsymbols\"><g class=\"legendpoints\"><path class=\"legendfunnel\" d=\"M6,6H-6V-6H6Z\" transform=\"translate(20,0)\" style=\"stroke-width: 0px; fill: rgb(239, 85, 59); fill-opacity: 1;\"/></g></g></g><rect class=\"legendtoggle\" x=\"0\" y=\"-9.5\" width=\"82.859375\" height=\"19\" style=\"fill: rgb(0, 0, 0); fill-opacity: 0;\"/></g></g></g><rect class=\"scrollbar\" rx=\"20\" ry=\"3\" width=\"0\" height=\"0\" style=\"fill: rgb(128, 139, 164); fill-opacity: 1;\" x=\"0\" y=\"0\"/></g><g class=\"g-gtitle\"/><g class=\"g-ytitle\"/></g></svg>"
      ]
     },
     "metadata": {},
     "output_type": "display_data"
    }
   ],
   "source": [
    "fig = go.Figure()\n",
    "\n",
    "fig.add_trace(go.Funnel(\n",
    "    name = 'A1+А2',\n",
    "    y = group_a1_a2['event_name'],\n",
    "    x = group_a1_a2['count_a1_a2'],\n",
    "    textinfo = \"value+percent initial\"))\n",
    "\n",
    "fig.add_trace(go.Funnel(\n",
    "    name = 'B',\n",
    "    y = group_a1_a2['event_name'],\n",
    "    x = group_b['count_b'],\n",
    "    textinfo = \"value+percent initial\"))\n",
    "fig.show()"
   ]
  },
  {
   "cell_type": "markdown",
   "metadata": {},
   "source": [
    "Сравнение результатов с объединенной контрольной группой также не показало значимой разницы."
   ]
  },
  {
   "cell_type": "markdown",
   "metadata": {},
   "source": [
    "Всего было сделано 16 проверок статистических гипотез с уровнем значимости 0.05. По итогам анализа конторольных групп с эспериментальной группой статистически значимой разницы средних долей по событиям найдено не было, поэтому причин отвергать нулевую гипотезу о том, что между долями проверяемых групп нет статистически значимой разницы, не найдены. При уровне значимости 0.1 только одна из проверок покажет значимую разницу, между контрольной группой А1 и В в доле перехода пользователей в корзину(CartScreenAppear), но эта разница будет не в пользу нашей экспериментальной группы. Но при уровне значимости 0.1 каждый десятый раз можно получать ложный результат, поэтому стоит применить изначально выбранный нами уровень значимости 0.05. Исходя из результатов данного A/A/B-эксперимента, мы можем судить, что на поведение пользователей изменение шрифта значимого эффекта не оказало. Что можно считать успехом, т.к. целью было узнать не отпугнут ли изменения пользователей. В то же время учитывая результаты эксперимента, если изменение шрифта не продиктовано проблемами в работе приложения, его можно не менять."
   ]
  },
  {
   "cell_type": "markdown",
   "metadata": {},
   "source": [
    "## Общий вывод"
   ]
  },
  {
   "cell_type": "markdown",
   "metadata": {},
   "source": [
    "__Выполняя проект, были проделаны следующие работы:__  \n",
    "1. Загрузка и ознакомление с данными\n",
    "2. Подготовка данных, а именно:  \n",
    "  * Замена названия столбцов на удобные \n",
    "  * Проверим пропуски, типы данных, наличие дубликатов \n",
    "  * Добавлены столбцы даты и времени, а также отдельный столбец дат \n",
    "3.  Изучение и проверка данных, а именно:\n",
    "  * Узнали, сколько всего событий в логе \n",
    "  * Узнали, сколько всего пользователей в логе \n",
    "  * Узнали, сколько в среднем событий приходится на пользователя \n",
    "  * Найдем максимальную и минимальную дату. Построим гистограмму по дате и времени \n",
    "4. Изучили воронку событий, а именно: \n",
    "  * Посмотрели, какие события есть в логах, как часто они встречаются \n",
    "  * Посчитали, сколько пользователей совершали каждое из этих событий. Посчитали долю пользователей, которые хоть раз совершали событие \n",
    "  * По воронке событий посчитали, какая доля пользователей проходит на следующий шаг воронки \n",
    "5.   Изучили результаты эксперимента, а именно: \n",
    "  * Выяснили, сколько пользователей в каждой экспериментальной группе \n",
    "  * Проверили, находят ли статистические критерии разницу между выборками"
   ]
  },
  {
   "cell_type": "markdown",
   "metadata": {},
   "source": [
    "__Выполняя проект, были сделаны следующие выводы:__   \n",
    "1. В изначальных данных имеются явные дубликаты.  \n",
    "2. Всего в логе 5 видов событий.  \n",
    "3. Было установлено, что среднее количество событий, которое приходится на пользователя,составляет 32, а медиальное 20. По обновленным данным, среднее количество событий, которое приходится на пользователя,составляет 32, а медиальное 19. Из таблицы, где было сохранено количество событий на одного пользователя можно заметить, что есть значения, которые намного превышают средний показатель событий. Было установлено, что данные можно считать полными именно с 2019-07-31 21:00:00. В период ранее вышеуказанной даты возможно влияние старых данных. Исходя из этого можно сделать вывод, что мы можем работать только с данными котороые были полученны с 2019-07-31 21:00:00. С учетом этого были отброшены данные события которых были ранее 2019-07-31 21:00:00. Изначально, количество уникальных пользователей, без учета старых данных составляло 7551. По исправленным данным количество уникальных пользователей составляет 7538, что не является статистически значимым. Изначально, количество событий, без учета старых данных составляло 243713. По исправленным данным количество событий составляет 241724, что не является статистически значимым. Количество пользователей по группам, совершивших какие - либо действия, по новым данным, распределилось так: А1 - 2484, А2 - 2517, В - 2537.  \n",
    "4. Наиболее частое событие MainScreenAppear. Далее идет OffersScreenAppear, потом CartScreenAppear, за ним PaymentScreenSuccessful и замыкает Tutorial.  \n",
    "5. больше всего пользователей совершало событие MainScreenAppear - 7423, далее OffersScreenAppear - 4597, далее CartScreenAppear - 3736, далее PaymentScreenSuccessful - 3540 и замыкает Tutorial - 843.  \n",
    "6. Доли пользователей, которые хоть раз совершали событие: 98.47/60.98/49.56/46.96/11.18 соответсвенно для MainScreenAppear/OffersScreenAppear/CartScreenAppear/PaymentScreenSuccessful/Tutorial.  \n",
    "7. Скорее всего, события происходят в данной последовательности:  \n",
    "  * MainScreenAppear, где, скорее всего, появляется главая страница  \n",
    "  * OffersScreenAppear, где, скорее всего, появляется страница с товаром  \n",
    "  * CartScreenAppear, где, скорее всего, появляется страница с купленным товаром  \n",
    "  * PaymentScreenSuccessful, где, скорее всего, появляется страница с оплатой  \n",
    "  * Событие Tutorial, где, скорее всего, содержится информация о том, как пользоваться приложением, не может быть выстроена в последовательную цепочку, так как вопросы о пользовании приложения могут возникнуть на любом этапе  \n",
    "8. Больше всего пользователей, примерно 38%, теряется при переходе от события MainScreenAppear к событию OffersScreenAppear. Возможно это связано с нестабильной работой приложения, либо неудобным интерфейсом приложения  \n",
    "9. Общая доля пользователей, которая доходит от первого события до оплаты равна 47.69 %  \n",
    "10. Всего было сделано 16 проверок статистических гипотез с уровнем значимости 0.05. По итогам анализа контрольных групп с экспериментальной группой статистически значимой разницы средних долей по событиям найдено не было, поэтому причин отвергать нулевую гипотезу о том, что между долями проверяемых групп нет статистически значимой разницы, не найдены. При уровне значимости 0.1 только одна из проверок покажет значимую разницу, между контрольной группой А1 и В в доле перехода пользователей в корзину(CartScreenAppear), но эта разница будет не в пользу нашей экспериментальной группы. Но при уровне значимости 0.1 каждый десятый раз можно получать ложный результат, поэтому стоит применить изначально выбранный нами уровень значимости 0.05. Исходя из результатов данного A/A/B-эксперимента, мы можем судить, что на поведение пользователей изменение шрифта значимого эффекта не оказало. Что можно считать успехом, т.к. целью было узнать не отпугнут ли изменения пользователей. В то же время учитывая результаты эксперимента, если изменение шрифта не продиктовано проблемами в работе приложения, его можно не менять. \n",
    "11. Применение методов корректировки значения требуемого уровня значимости, в данном эксперименет не требуется  так как в полученных значениях уровень p_value гораздо больше значения alpha, а методы корректировки значения только уменьшают значение alpha, поэтому расчет с учетом метода корректировки значения требуемого уровня значимости не повлияет на результат."
   ]
  }
 ],
 "metadata": {
  "ExecuteTimeLog": [
   {
    "duration": 394,
    "start_time": "2023-05-22T08:57:30.277Z"
   },
   {
    "duration": 803,
    "start_time": "2023-05-22T08:58:18.263Z"
   },
   {
    "duration": 12,
    "start_time": "2023-05-22T08:58:31.758Z"
   },
   {
    "duration": 135,
    "start_time": "2023-05-22T09:00:24.830Z"
   },
   {
    "duration": 7,
    "start_time": "2023-05-22T09:00:25.342Z"
   },
   {
    "duration": 18,
    "start_time": "2023-05-22T09:05:34.317Z"
   },
   {
    "duration": 2,
    "start_time": "2023-05-22T09:16:06.949Z"
   },
   {
    "duration": 7,
    "start_time": "2023-05-22T09:16:16.518Z"
   },
   {
    "duration": 3,
    "start_time": "2023-05-22T09:16:34.034Z"
   },
   {
    "duration": 6,
    "start_time": "2023-05-22T09:16:34.504Z"
   },
   {
    "duration": 58,
    "start_time": "2023-05-22T09:26:10.934Z"
   },
   {
    "duration": 344,
    "start_time": "2023-05-22T09:26:26.345Z"
   },
   {
    "duration": 140,
    "start_time": "2023-05-22T09:26:26.692Z"
   },
   {
    "duration": 13,
    "start_time": "2023-05-22T09:26:26.833Z"
   },
   {
    "duration": 44,
    "start_time": "2023-05-22T09:26:26.848Z"
   },
   {
    "duration": 2,
    "start_time": "2023-05-22T09:26:26.894Z"
   },
   {
    "duration": 24,
    "start_time": "2023-05-22T09:26:26.897Z"
   },
   {
    "duration": 35,
    "start_time": "2023-05-22T09:26:26.922Z"
   },
   {
    "duration": 8,
    "start_time": "2023-05-22T09:26:34.980Z"
   },
   {
    "duration": 3,
    "start_time": "2023-05-22T09:34:12.377Z"
   },
   {
    "duration": 145,
    "start_time": "2023-05-22T09:34:12.874Z"
   },
   {
    "duration": 7,
    "start_time": "2023-05-22T09:34:13.345Z"
   },
   {
    "duration": 16,
    "start_time": "2023-05-22T09:34:14.434Z"
   },
   {
    "duration": 3,
    "start_time": "2023-05-22T09:34:19.913Z"
   },
   {
    "duration": 7,
    "start_time": "2023-05-22T09:34:20.312Z"
   },
   {
    "duration": 32,
    "start_time": "2023-05-22T09:34:21.193Z"
   },
   {
    "duration": 8,
    "start_time": "2023-05-22T09:34:22.248Z"
   },
   {
    "duration": 324,
    "start_time": "2023-05-22T09:44:36.467Z"
   },
   {
    "duration": 137,
    "start_time": "2023-05-22T09:44:36.793Z"
   },
   {
    "duration": 13,
    "start_time": "2023-05-22T09:44:36.931Z"
   },
   {
    "duration": 19,
    "start_time": "2023-05-22T09:44:36.946Z"
   },
   {
    "duration": 3,
    "start_time": "2023-05-22T09:44:36.966Z"
   },
   {
    "duration": 16,
    "start_time": "2023-05-22T09:44:36.970Z"
   },
   {
    "duration": 71,
    "start_time": "2023-05-22T09:44:36.988Z"
   },
   {
    "duration": 0,
    "start_time": "2023-05-22T09:44:37.060Z"
   },
   {
    "duration": 428,
    "start_time": "2023-05-22T09:49:58.423Z"
   },
   {
    "duration": 31,
    "start_time": "2023-05-22T09:51:12.183Z"
   },
   {
    "duration": 7,
    "start_time": "2023-05-22T09:51:15.422Z"
   },
   {
    "duration": 11,
    "start_time": "2023-05-22T09:54:33.224Z"
   },
   {
    "duration": 8,
    "start_time": "2023-05-22T09:54:34.471Z"
   },
   {
    "duration": 401,
    "start_time": "2023-05-22T14:49:42.871Z"
   },
   {
    "duration": 994,
    "start_time": "2023-05-22T14:49:43.273Z"
   },
   {
    "duration": 13,
    "start_time": "2023-05-22T14:49:44.268Z"
   },
   {
    "duration": 18,
    "start_time": "2023-05-22T14:49:44.283Z"
   },
   {
    "duration": 2,
    "start_time": "2023-05-22T14:49:44.303Z"
   },
   {
    "duration": 11,
    "start_time": "2023-05-22T14:49:44.306Z"
   },
   {
    "duration": 9,
    "start_time": "2023-05-22T14:49:44.319Z"
   },
   {
    "duration": 7,
    "start_time": "2023-05-22T14:49:44.330Z"
   },
   {
    "duration": 8,
    "start_time": "2023-05-22T15:07:22.789Z"
   },
   {
    "duration": 11,
    "start_time": "2023-05-22T15:07:23.539Z"
   },
   {
    "duration": 9,
    "start_time": "2023-05-22T15:07:24.235Z"
   },
   {
    "duration": 412,
    "start_time": "2023-05-22T15:07:42.244Z"
   },
   {
    "duration": 157,
    "start_time": "2023-05-22T15:07:42.657Z"
   },
   {
    "duration": 13,
    "start_time": "2023-05-22T15:07:42.816Z"
   },
   {
    "duration": 19,
    "start_time": "2023-05-22T15:07:42.831Z"
   },
   {
    "duration": 3,
    "start_time": "2023-05-22T15:07:42.852Z"
   },
   {
    "duration": 22,
    "start_time": "2023-05-22T15:07:42.856Z"
   },
   {
    "duration": 6,
    "start_time": "2023-05-22T15:07:42.879Z"
   },
   {
    "duration": 8,
    "start_time": "2023-05-22T15:07:42.887Z"
   },
   {
    "duration": 8,
    "start_time": "2023-05-22T15:07:42.897Z"
   },
   {
    "duration": 26,
    "start_time": "2023-05-22T15:08:13.071Z"
   },
   {
    "duration": 10,
    "start_time": "2023-05-22T15:08:13.606Z"
   },
   {
    "duration": 9,
    "start_time": "2023-05-22T15:08:14.262Z"
   },
   {
    "duration": 40,
    "start_time": "2023-05-22T15:11:28.743Z"
   },
   {
    "duration": 8,
    "start_time": "2023-05-22T15:11:29.912Z"
   },
   {
    "duration": 9,
    "start_time": "2023-05-22T15:11:30.860Z"
   },
   {
    "duration": 6,
    "start_time": "2023-05-22T15:12:01.943Z"
   },
   {
    "duration": 8,
    "start_time": "2023-05-22T15:12:02.560Z"
   },
   {
    "duration": 422,
    "start_time": "2023-05-22T15:16:13.281Z"
   },
   {
    "duration": 181,
    "start_time": "2023-05-22T15:16:13.705Z"
   },
   {
    "duration": 15,
    "start_time": "2023-05-22T15:16:13.888Z"
   },
   {
    "duration": 32,
    "start_time": "2023-05-22T15:16:13.905Z"
   },
   {
    "duration": 4,
    "start_time": "2023-05-22T15:16:13.939Z"
   },
   {
    "duration": 12,
    "start_time": "2023-05-22T15:16:13.945Z"
   },
   {
    "duration": 30,
    "start_time": "2023-05-22T15:16:13.980Z"
   },
   {
    "duration": 11,
    "start_time": "2023-05-22T15:16:14.013Z"
   },
   {
    "duration": 12,
    "start_time": "2023-05-22T15:16:14.027Z"
   },
   {
    "duration": 23,
    "start_time": "2023-05-22T15:20:20.140Z"
   },
   {
    "duration": 29,
    "start_time": "2023-05-22T15:22:57.325Z"
   },
   {
    "duration": 446,
    "start_time": "2023-05-22T15:23:17.659Z"
   },
   {
    "duration": 164,
    "start_time": "2023-05-22T15:23:18.107Z"
   },
   {
    "duration": 21,
    "start_time": "2023-05-22T15:23:18.274Z"
   },
   {
    "duration": 20,
    "start_time": "2023-05-22T15:23:18.298Z"
   },
   {
    "duration": 3,
    "start_time": "2023-05-22T15:23:18.320Z"
   },
   {
    "duration": 15,
    "start_time": "2023-05-22T15:23:18.325Z"
   },
   {
    "duration": 54,
    "start_time": "2023-05-22T15:23:18.342Z"
   },
   {
    "duration": 25,
    "start_time": "2023-05-22T15:23:18.398Z"
   },
   {
    "duration": 19,
    "start_time": "2023-05-22T15:23:18.424Z"
   },
   {
    "duration": 10,
    "start_time": "2023-05-22T15:23:18.446Z"
   },
   {
    "duration": 89,
    "start_time": "2023-05-22T15:30:34.198Z"
   },
   {
    "duration": 381,
    "start_time": "2023-05-22T15:31:26.835Z"
   },
   {
    "duration": 166,
    "start_time": "2023-05-22T15:31:27.217Z"
   },
   {
    "duration": 15,
    "start_time": "2023-05-22T15:31:27.385Z"
   },
   {
    "duration": 23,
    "start_time": "2023-05-22T15:31:27.403Z"
   },
   {
    "duration": 3,
    "start_time": "2023-05-22T15:31:27.428Z"
   },
   {
    "duration": 22,
    "start_time": "2023-05-22T15:31:27.433Z"
   },
   {
    "duration": 46,
    "start_time": "2023-05-22T15:31:27.456Z"
   },
   {
    "duration": 27,
    "start_time": "2023-05-22T15:31:27.504Z"
   },
   {
    "duration": 108,
    "start_time": "2023-05-22T15:31:27.533Z"
   },
   {
    "duration": 7,
    "start_time": "2023-05-22T15:31:27.643Z"
   },
   {
    "duration": 24,
    "start_time": "2023-05-22T15:31:27.652Z"
   },
   {
    "duration": 102,
    "start_time": "2023-05-22T15:36:10.299Z"
   },
   {
    "duration": 87,
    "start_time": "2023-05-22T15:36:20.754Z"
   },
   {
    "duration": 70,
    "start_time": "2023-05-22T15:38:21.598Z"
   },
   {
    "duration": 77,
    "start_time": "2023-05-22T15:38:32.775Z"
   },
   {
    "duration": 115,
    "start_time": "2023-05-22T15:39:40.771Z"
   },
   {
    "duration": 74,
    "start_time": "2023-05-22T15:39:41.675Z"
   },
   {
    "duration": 20,
    "start_time": "2023-05-22T15:40:33.949Z"
   },
   {
    "duration": 16,
    "start_time": "2023-05-22T15:41:32.053Z"
   },
   {
    "duration": 364,
    "start_time": "2023-05-22T15:49:47.522Z"
   },
   {
    "duration": 158,
    "start_time": "2023-05-22T15:49:47.888Z"
   },
   {
    "duration": 14,
    "start_time": "2023-05-22T15:49:48.047Z"
   },
   {
    "duration": 26,
    "start_time": "2023-05-22T15:49:48.063Z"
   },
   {
    "duration": 3,
    "start_time": "2023-05-22T15:49:48.091Z"
   },
   {
    "duration": 10,
    "start_time": "2023-05-22T15:49:48.096Z"
   },
   {
    "duration": 25,
    "start_time": "2023-05-22T15:49:48.108Z"
   },
   {
    "duration": 52,
    "start_time": "2023-05-22T15:49:48.135Z"
   },
   {
    "duration": 94,
    "start_time": "2023-05-22T15:49:48.189Z"
   },
   {
    "duration": 111,
    "start_time": "2023-05-22T15:49:48.285Z"
   },
   {
    "duration": 60,
    "start_time": "2023-05-22T15:49:48.398Z"
   },
   {
    "duration": 26,
    "start_time": "2023-05-22T15:49:48.459Z"
   },
   {
    "duration": 24,
    "start_time": "2023-05-22T15:49:48.487Z"
   },
   {
    "duration": 11,
    "start_time": "2023-05-22T15:49:48.512Z"
   },
   {
    "duration": 18,
    "start_time": "2023-05-22T15:49:48.525Z"
   },
   {
    "duration": 61,
    "start_time": "2023-05-22T15:55:40.331Z"
   },
   {
    "duration": 10,
    "start_time": "2023-05-22T15:55:46.162Z"
   },
   {
    "duration": 75,
    "start_time": "2023-05-22T15:58:07.355Z"
   },
   {
    "duration": 9,
    "start_time": "2023-05-22T15:58:07.871Z"
   },
   {
    "duration": 39,
    "start_time": "2023-05-22T15:58:41.692Z"
   },
   {
    "duration": 11,
    "start_time": "2023-05-22T16:03:28.533Z"
   },
   {
    "duration": 32,
    "start_time": "2023-05-22T16:03:44.782Z"
   },
   {
    "duration": 116,
    "start_time": "2023-05-22T16:05:00.575Z"
   },
   {
    "duration": 10,
    "start_time": "2023-05-22T16:05:01.938Z"
   },
   {
    "duration": 2,
    "start_time": "2023-05-22T16:05:03.262Z"
   },
   {
    "duration": 43,
    "start_time": "2023-05-22T16:05:04.119Z"
   },
   {
    "duration": 429,
    "start_time": "2023-05-22T16:06:06.863Z"
   },
   {
    "duration": 165,
    "start_time": "2023-05-22T16:06:07.294Z"
   },
   {
    "duration": 18,
    "start_time": "2023-05-22T16:06:07.461Z"
   },
   {
    "duration": 24,
    "start_time": "2023-05-22T16:06:07.481Z"
   },
   {
    "duration": 4,
    "start_time": "2023-05-22T16:06:07.507Z"
   },
   {
    "duration": 10,
    "start_time": "2023-05-22T16:06:07.513Z"
   },
   {
    "duration": 54,
    "start_time": "2023-05-22T16:06:07.526Z"
   },
   {
    "duration": 24,
    "start_time": "2023-05-22T16:06:07.582Z"
   },
   {
    "duration": 99,
    "start_time": "2023-05-22T16:06:07.608Z"
   },
   {
    "duration": 115,
    "start_time": "2023-05-22T16:06:07.710Z"
   },
   {
    "duration": 73,
    "start_time": "2023-05-22T16:06:07.827Z"
   },
   {
    "duration": 23,
    "start_time": "2023-05-22T16:06:07.901Z"
   },
   {
    "duration": 15,
    "start_time": "2023-05-22T16:06:07.926Z"
   },
   {
    "duration": 35,
    "start_time": "2023-05-22T16:06:07.943Z"
   },
   {
    "duration": 10,
    "start_time": "2023-05-22T16:06:07.980Z"
   },
   {
    "duration": 170,
    "start_time": "2023-05-22T16:06:07.992Z"
   },
   {
    "duration": 14,
    "start_time": "2023-05-22T16:06:08.164Z"
   },
   {
    "duration": 30,
    "start_time": "2023-05-22T16:06:08.180Z"
   },
   {
    "duration": 376,
    "start_time": "2023-05-22T16:12:33.024Z"
   },
   {
    "duration": 165,
    "start_time": "2023-05-22T16:12:33.402Z"
   },
   {
    "duration": 15,
    "start_time": "2023-05-22T16:12:33.569Z"
   },
   {
    "duration": 21,
    "start_time": "2023-05-22T16:12:33.586Z"
   },
   {
    "duration": 3,
    "start_time": "2023-05-22T16:12:33.608Z"
   },
   {
    "duration": 14,
    "start_time": "2023-05-22T16:12:33.613Z"
   },
   {
    "duration": 46,
    "start_time": "2023-05-22T16:12:33.629Z"
   },
   {
    "duration": 24,
    "start_time": "2023-05-22T16:12:33.677Z"
   },
   {
    "duration": 93,
    "start_time": "2023-05-22T16:12:33.703Z"
   },
   {
    "duration": 116,
    "start_time": "2023-05-22T16:12:33.798Z"
   },
   {
    "duration": 79,
    "start_time": "2023-05-22T16:12:33.916Z"
   },
   {
    "duration": 24,
    "start_time": "2023-05-22T16:12:33.998Z"
   },
   {
    "duration": 18,
    "start_time": "2023-05-22T16:12:34.025Z"
   },
   {
    "duration": 34,
    "start_time": "2023-05-22T16:12:34.045Z"
   },
   {
    "duration": 13,
    "start_time": "2023-05-22T16:12:34.081Z"
   },
   {
    "duration": 176,
    "start_time": "2023-05-22T16:12:34.096Z"
   },
   {
    "duration": 10,
    "start_time": "2023-05-22T16:12:34.274Z"
   },
   {
    "duration": 31,
    "start_time": "2023-05-22T16:12:34.286Z"
   },
   {
    "duration": 543,
    "start_time": "2023-05-23T07:11:58.078Z"
   },
   {
    "duration": 748,
    "start_time": "2023-05-23T07:11:58.624Z"
   },
   {
    "duration": 18,
    "start_time": "2023-05-23T07:11:59.374Z"
   },
   {
    "duration": 31,
    "start_time": "2023-05-23T07:11:59.395Z"
   },
   {
    "duration": 3,
    "start_time": "2023-05-23T07:11:59.428Z"
   },
   {
    "duration": 11,
    "start_time": "2023-05-23T07:11:59.432Z"
   },
   {
    "duration": 28,
    "start_time": "2023-05-23T07:11:59.476Z"
   },
   {
    "duration": 36,
    "start_time": "2023-05-23T07:11:59.506Z"
   },
   {
    "duration": 132,
    "start_time": "2023-05-23T07:11:59.544Z"
   },
   {
    "duration": 110,
    "start_time": "2023-05-23T07:11:59.678Z"
   },
   {
    "duration": 62,
    "start_time": "2023-05-23T07:11:59.790Z"
   },
   {
    "duration": 33,
    "start_time": "2023-05-23T07:11:59.854Z"
   },
   {
    "duration": 25,
    "start_time": "2023-05-23T07:11:59.889Z"
   },
   {
    "duration": 7,
    "start_time": "2023-05-23T07:11:59.916Z"
   },
   {
    "duration": 11,
    "start_time": "2023-05-23T07:11:59.925Z"
   },
   {
    "duration": 189,
    "start_time": "2023-05-23T07:11:59.976Z"
   },
   {
    "duration": 15,
    "start_time": "2023-05-23T07:12:00.167Z"
   },
   {
    "duration": 69,
    "start_time": "2023-05-23T07:12:00.184Z"
   },
   {
    "duration": 18,
    "start_time": "2023-05-23T07:17:49.993Z"
   },
   {
    "duration": 19,
    "start_time": "2023-05-23T07:19:28.386Z"
   },
   {
    "duration": 29,
    "start_time": "2023-05-23T07:19:51.159Z"
   },
   {
    "duration": 7,
    "start_time": "2023-05-23T07:20:36.737Z"
   },
   {
    "duration": 77,
    "start_time": "2023-05-23T07:20:56.241Z"
   },
   {
    "duration": 10,
    "start_time": "2023-05-23T07:24:19.636Z"
   },
   {
    "duration": 10,
    "start_time": "2023-05-23T07:31:11.575Z"
   },
   {
    "duration": 8,
    "start_time": "2023-05-23T07:31:26.175Z"
   },
   {
    "duration": 14,
    "start_time": "2023-05-23T07:32:48.263Z"
   },
   {
    "duration": 6,
    "start_time": "2023-05-23T07:32:48.804Z"
   },
   {
    "duration": 13,
    "start_time": "2023-05-23T07:33:13.464Z"
   },
   {
    "duration": 7,
    "start_time": "2023-05-23T07:33:14.640Z"
   },
   {
    "duration": 38,
    "start_time": "2023-05-23T07:33:49.393Z"
   },
   {
    "duration": 12,
    "start_time": "2023-05-23T07:33:49.856Z"
   },
   {
    "duration": 16,
    "start_time": "2023-05-23T07:34:22.619Z"
   },
   {
    "duration": 17,
    "start_time": "2023-05-23T07:34:32.071Z"
   },
   {
    "duration": 20,
    "start_time": "2023-05-23T07:35:20.178Z"
   },
   {
    "duration": 7,
    "start_time": "2023-05-23T07:35:22.337Z"
   },
   {
    "duration": 20,
    "start_time": "2023-05-23T07:35:42.491Z"
   },
   {
    "duration": 5,
    "start_time": "2023-05-23T07:35:43.700Z"
   },
   {
    "duration": 11,
    "start_time": "2023-05-23T07:37:14.425Z"
   },
   {
    "duration": 72,
    "start_time": "2023-05-23T07:37:54.303Z"
   },
   {
    "duration": 21,
    "start_time": "2023-05-23T07:38:03.121Z"
   },
   {
    "duration": 52,
    "start_time": "2023-05-23T07:38:10.688Z"
   },
   {
    "duration": 92,
    "start_time": "2023-05-23T07:38:24.346Z"
   },
   {
    "duration": 19,
    "start_time": "2023-05-23T07:38:51.298Z"
   },
   {
    "duration": 58,
    "start_time": "2023-05-23T07:38:58.949Z"
   },
   {
    "duration": 13,
    "start_time": "2023-05-23T07:39:04.363Z"
   },
   {
    "duration": 7,
    "start_time": "2023-05-23T07:39:18.027Z"
   },
   {
    "duration": 6,
    "start_time": "2023-05-23T07:40:08.511Z"
   },
   {
    "duration": 5,
    "start_time": "2023-05-23T07:40:39.116Z"
   },
   {
    "duration": 9,
    "start_time": "2023-05-23T07:42:06.669Z"
   },
   {
    "duration": 9,
    "start_time": "2023-05-23T07:42:16.919Z"
   },
   {
    "duration": 5,
    "start_time": "2023-05-23T07:42:18.103Z"
   },
   {
    "duration": 11,
    "start_time": "2023-05-23T07:43:32.510Z"
   },
   {
    "duration": 7,
    "start_time": "2023-05-23T07:43:49.932Z"
   },
   {
    "duration": 16,
    "start_time": "2023-05-23T07:44:02.901Z"
   },
   {
    "duration": 8,
    "start_time": "2023-05-23T07:44:29.159Z"
   },
   {
    "duration": 34,
    "start_time": "2023-05-23T07:46:13.923Z"
   },
   {
    "duration": 9,
    "start_time": "2023-05-23T07:46:14.651Z"
   },
   {
    "duration": 21,
    "start_time": "2023-05-23T07:46:20.974Z"
   },
   {
    "duration": 8,
    "start_time": "2023-05-23T07:46:21.621Z"
   },
   {
    "duration": 6,
    "start_time": "2023-05-23T07:46:22.733Z"
   },
   {
    "duration": 12,
    "start_time": "2023-05-23T07:46:23.989Z"
   },
   {
    "duration": 414,
    "start_time": "2023-05-23T07:48:45.186Z"
   },
   {
    "duration": 164,
    "start_time": "2023-05-23T07:48:45.602Z"
   },
   {
    "duration": 21,
    "start_time": "2023-05-23T07:48:45.768Z"
   },
   {
    "duration": 24,
    "start_time": "2023-05-23T07:48:45.791Z"
   },
   {
    "duration": 3,
    "start_time": "2023-05-23T07:48:45.817Z"
   },
   {
    "duration": 11,
    "start_time": "2023-05-23T07:48:45.821Z"
   },
   {
    "duration": 66,
    "start_time": "2023-05-23T07:48:45.834Z"
   },
   {
    "duration": 42,
    "start_time": "2023-05-23T07:48:45.903Z"
   },
   {
    "duration": 97,
    "start_time": "2023-05-23T07:48:45.947Z"
   },
   {
    "duration": 148,
    "start_time": "2023-05-23T07:48:46.048Z"
   },
   {
    "duration": 82,
    "start_time": "2023-05-23T07:48:46.198Z"
   },
   {
    "duration": 26,
    "start_time": "2023-05-23T07:48:46.282Z"
   },
   {
    "duration": 24,
    "start_time": "2023-05-23T07:48:46.311Z"
   },
   {
    "duration": 9,
    "start_time": "2023-05-23T07:48:46.337Z"
   },
   {
    "duration": 9,
    "start_time": "2023-05-23T07:48:46.375Z"
   },
   {
    "duration": 162,
    "start_time": "2023-05-23T07:48:46.386Z"
   },
   {
    "duration": 10,
    "start_time": "2023-05-23T07:48:46.550Z"
   },
   {
    "duration": 31,
    "start_time": "2023-05-23T07:48:46.574Z"
   },
   {
    "duration": 17,
    "start_time": "2023-05-23T07:48:46.607Z"
   },
   {
    "duration": 8,
    "start_time": "2023-05-23T07:48:46.626Z"
   },
   {
    "duration": 49,
    "start_time": "2023-05-23T07:48:46.636Z"
   },
   {
    "duration": 8,
    "start_time": "2023-05-23T07:48:46.687Z"
   },
   {
    "duration": 5,
    "start_time": "2023-05-23T07:48:46.697Z"
   },
   {
    "duration": 5,
    "start_time": "2023-05-23T08:05:29.894Z"
   },
   {
    "duration": 76,
    "start_time": "2023-05-23T08:06:05.503Z"
   },
   {
    "duration": 8,
    "start_time": "2023-05-23T08:06:16.126Z"
   },
   {
    "duration": 607,
    "start_time": "2023-05-23T08:12:02.242Z"
   },
   {
    "duration": 161,
    "start_time": "2023-05-23T08:12:25.132Z"
   },
   {
    "duration": 621,
    "start_time": "2023-05-23T08:22:46.261Z"
   },
   {
    "duration": 156,
    "start_time": "2023-05-23T08:22:46.885Z"
   },
   {
    "duration": 10,
    "start_time": "2023-05-23T08:22:47.043Z"
   },
   {
    "duration": 26,
    "start_time": "2023-05-23T08:22:47.055Z"
   },
   {
    "duration": 2,
    "start_time": "2023-05-23T08:22:47.083Z"
   },
   {
    "duration": 12,
    "start_time": "2023-05-23T08:22:47.087Z"
   },
   {
    "duration": 25,
    "start_time": "2023-05-23T08:22:47.101Z"
   },
   {
    "duration": 24,
    "start_time": "2023-05-23T08:22:47.128Z"
   },
   {
    "duration": 90,
    "start_time": "2023-05-23T08:22:47.154Z"
   },
   {
    "duration": 119,
    "start_time": "2023-05-23T08:22:47.245Z"
   },
   {
    "duration": 67,
    "start_time": "2023-05-23T08:22:47.366Z"
   },
   {
    "duration": 20,
    "start_time": "2023-05-23T08:22:47.435Z"
   },
   {
    "duration": 16,
    "start_time": "2023-05-23T08:22:47.475Z"
   },
   {
    "duration": 8,
    "start_time": "2023-05-23T08:22:47.492Z"
   },
   {
    "duration": 9,
    "start_time": "2023-05-23T08:22:47.502Z"
   },
   {
    "duration": 132,
    "start_time": "2023-05-23T08:22:47.514Z"
   },
   {
    "duration": 10,
    "start_time": "2023-05-23T08:22:47.648Z"
   },
   {
    "duration": 38,
    "start_time": "2023-05-23T08:22:47.660Z"
   },
   {
    "duration": 18,
    "start_time": "2023-05-23T08:22:47.700Z"
   },
   {
    "duration": 7,
    "start_time": "2023-05-23T08:22:47.720Z"
   },
   {
    "duration": 19,
    "start_time": "2023-05-23T08:22:47.729Z"
   },
   {
    "duration": 31,
    "start_time": "2023-05-23T08:22:47.749Z"
   },
   {
    "duration": 4,
    "start_time": "2023-05-23T08:22:47.782Z"
   },
   {
    "duration": 9,
    "start_time": "2023-05-23T08:22:47.788Z"
   },
   {
    "duration": 262,
    "start_time": "2023-05-23T08:22:47.798Z"
   },
   {
    "duration": 198,
    "start_time": "2023-05-23T08:23:07.918Z"
   },
   {
    "duration": 239,
    "start_time": "2023-05-23T08:23:32.495Z"
   },
   {
    "duration": 187,
    "start_time": "2023-05-23T08:23:41.883Z"
   },
   {
    "duration": 206,
    "start_time": "2023-05-23T08:23:53.672Z"
   },
   {
    "duration": 186,
    "start_time": "2023-05-23T08:24:07.240Z"
   },
   {
    "duration": 202,
    "start_time": "2023-05-23T08:25:07.367Z"
   },
   {
    "duration": 210,
    "start_time": "2023-05-23T08:25:59.919Z"
   },
   {
    "duration": 7,
    "start_time": "2023-05-23T08:26:54.064Z"
   },
   {
    "duration": 194,
    "start_time": "2023-05-23T08:27:47.224Z"
   },
   {
    "duration": 191,
    "start_time": "2023-05-23T08:28:30.713Z"
   },
   {
    "duration": 207,
    "start_time": "2023-05-23T08:28:58.993Z"
   },
   {
    "duration": 209,
    "start_time": "2023-05-23T08:37:30.997Z"
   },
   {
    "duration": 185,
    "start_time": "2023-05-23T08:37:42.359Z"
   },
   {
    "duration": 260,
    "start_time": "2023-05-23T08:39:22.559Z"
   },
   {
    "duration": 14,
    "start_time": "2023-05-23T08:50:12.524Z"
   },
   {
    "duration": 10,
    "start_time": "2023-05-23T08:50:23.829Z"
   },
   {
    "duration": 5,
    "start_time": "2023-05-23T08:50:49.389Z"
   },
   {
    "duration": 5,
    "start_time": "2023-05-23T08:51:04.611Z"
   },
   {
    "duration": 53,
    "start_time": "2023-05-23T08:51:55.783Z"
   },
   {
    "duration": 30,
    "start_time": "2023-05-23T08:52:06.247Z"
   },
   {
    "duration": 70,
    "start_time": "2023-05-23T08:57:54.903Z"
   },
   {
    "duration": 9,
    "start_time": "2023-05-23T08:58:36.552Z"
   },
   {
    "duration": 596,
    "start_time": "2023-05-23T08:58:48.308Z"
   },
   {
    "duration": 155,
    "start_time": "2023-05-23T08:58:48.906Z"
   },
   {
    "duration": 13,
    "start_time": "2023-05-23T08:58:49.062Z"
   },
   {
    "duration": 21,
    "start_time": "2023-05-23T08:58:49.076Z"
   },
   {
    "duration": 2,
    "start_time": "2023-05-23T08:58:49.099Z"
   },
   {
    "duration": 12,
    "start_time": "2023-05-23T08:58:49.103Z"
   },
   {
    "duration": 25,
    "start_time": "2023-05-23T08:58:49.116Z"
   },
   {
    "duration": 37,
    "start_time": "2023-05-23T08:58:49.143Z"
   },
   {
    "duration": 72,
    "start_time": "2023-05-23T08:58:49.181Z"
   },
   {
    "duration": 101,
    "start_time": "2023-05-23T08:58:49.274Z"
   },
   {
    "duration": 62,
    "start_time": "2023-05-23T08:58:49.377Z"
   },
   {
    "duration": 35,
    "start_time": "2023-05-23T08:58:49.441Z"
   },
   {
    "duration": 16,
    "start_time": "2023-05-23T08:58:49.478Z"
   },
   {
    "duration": 14,
    "start_time": "2023-05-23T08:58:49.495Z"
   },
   {
    "duration": 16,
    "start_time": "2023-05-23T08:58:49.511Z"
   },
   {
    "duration": 114,
    "start_time": "2023-05-23T08:58:49.529Z"
   },
   {
    "duration": 11,
    "start_time": "2023-05-23T08:58:49.644Z"
   },
   {
    "duration": 41,
    "start_time": "2023-05-23T08:58:49.656Z"
   },
   {
    "duration": 18,
    "start_time": "2023-05-23T08:58:49.698Z"
   },
   {
    "duration": 7,
    "start_time": "2023-05-23T08:58:49.718Z"
   },
   {
    "duration": 29,
    "start_time": "2023-05-23T08:58:49.727Z"
   },
   {
    "duration": 22,
    "start_time": "2023-05-23T08:58:49.758Z"
   },
   {
    "duration": 5,
    "start_time": "2023-05-23T08:58:49.782Z"
   },
   {
    "duration": 10,
    "start_time": "2023-05-23T08:58:49.789Z"
   },
   {
    "duration": 312,
    "start_time": "2023-05-23T08:58:49.800Z"
   },
   {
    "duration": 14,
    "start_time": "2023-05-23T08:58:50.115Z"
   },
   {
    "duration": 27,
    "start_time": "2023-05-23T08:58:50.130Z"
   },
   {
    "duration": 22,
    "start_time": "2023-05-23T08:58:50.160Z"
   },
   {
    "duration": 23,
    "start_time": "2023-05-23T09:02:36.601Z"
   },
   {
    "duration": 26,
    "start_time": "2023-05-23T09:22:24.866Z"
   },
   {
    "duration": 20,
    "start_time": "2023-05-23T09:24:32.244Z"
   },
   {
    "duration": 7,
    "start_time": "2023-05-23T09:25:04.082Z"
   },
   {
    "duration": 5,
    "start_time": "2023-05-23T09:25:15.947Z"
   },
   {
    "duration": 20,
    "start_time": "2023-05-23T09:25:32.154Z"
   },
   {
    "duration": 6,
    "start_time": "2023-05-23T09:25:43.490Z"
   },
   {
    "duration": 20,
    "start_time": "2023-05-23T09:26:05.786Z"
   },
   {
    "duration": 7,
    "start_time": "2023-05-23T09:26:17.962Z"
   },
   {
    "duration": 46,
    "start_time": "2023-05-23T09:43:14.074Z"
   },
   {
    "duration": 6,
    "start_time": "2023-05-23T09:43:18.282Z"
   },
   {
    "duration": 74,
    "start_time": "2023-05-23T09:43:48.666Z"
   },
   {
    "duration": 7,
    "start_time": "2023-05-23T09:44:07.515Z"
   },
   {
    "duration": 264,
    "start_time": "2023-05-23T09:45:01.746Z"
   },
   {
    "duration": 3,
    "start_time": "2023-05-23T09:45:48.444Z"
   },
   {
    "duration": 6,
    "start_time": "2023-05-23T09:45:57.468Z"
   },
   {
    "duration": 8,
    "start_time": "2023-05-23T09:46:18.371Z"
   },
   {
    "duration": 4,
    "start_time": "2023-05-23T09:46:35.442Z"
   },
   {
    "duration": 51,
    "start_time": "2023-05-23T09:46:36.131Z"
   },
   {
    "duration": 8,
    "start_time": "2023-05-23T09:46:41.836Z"
   },
   {
    "duration": 9,
    "start_time": "2023-05-23T09:47:50.958Z"
   },
   {
    "duration": 7,
    "start_time": "2023-05-23T09:48:02.644Z"
   },
   {
    "duration": 9,
    "start_time": "2023-05-23T09:51:10.085Z"
   },
   {
    "duration": 9,
    "start_time": "2023-05-23T09:51:23.719Z"
   },
   {
    "duration": 8,
    "start_time": "2023-05-23T09:51:41.700Z"
   },
   {
    "duration": 814,
    "start_time": "2023-05-23T14:37:17.888Z"
   },
   {
    "duration": 671,
    "start_time": "2023-05-23T14:37:18.705Z"
   },
   {
    "duration": 13,
    "start_time": "2023-05-23T14:37:19.380Z"
   },
   {
    "duration": 40,
    "start_time": "2023-05-23T14:37:19.395Z"
   },
   {
    "duration": 4,
    "start_time": "2023-05-23T14:37:19.436Z"
   },
   {
    "duration": 34,
    "start_time": "2023-05-23T14:37:19.441Z"
   },
   {
    "duration": 38,
    "start_time": "2023-05-23T14:37:19.477Z"
   },
   {
    "duration": 26,
    "start_time": "2023-05-23T14:37:19.517Z"
   },
   {
    "duration": 98,
    "start_time": "2023-05-23T14:37:19.547Z"
   },
   {
    "duration": 108,
    "start_time": "2023-05-23T14:37:19.647Z"
   },
   {
    "duration": 66,
    "start_time": "2023-05-23T14:37:19.757Z"
   },
   {
    "duration": 31,
    "start_time": "2023-05-23T14:37:19.824Z"
   },
   {
    "duration": 21,
    "start_time": "2023-05-23T14:37:19.856Z"
   },
   {
    "duration": 7,
    "start_time": "2023-05-23T14:37:19.879Z"
   },
   {
    "duration": 13,
    "start_time": "2023-05-23T14:37:19.888Z"
   },
   {
    "duration": 137,
    "start_time": "2023-05-23T14:37:19.903Z"
   },
   {
    "duration": 10,
    "start_time": "2023-05-23T14:37:20.045Z"
   },
   {
    "duration": 49,
    "start_time": "2023-05-23T14:37:20.057Z"
   },
   {
    "duration": 20,
    "start_time": "2023-05-23T14:37:20.108Z"
   },
   {
    "duration": 22,
    "start_time": "2023-05-23T14:37:20.129Z"
   },
   {
    "duration": 33,
    "start_time": "2023-05-23T14:37:20.153Z"
   },
   {
    "duration": 7,
    "start_time": "2023-05-23T14:37:20.188Z"
   },
   {
    "duration": 11,
    "start_time": "2023-05-23T14:37:20.196Z"
   },
   {
    "duration": 20,
    "start_time": "2023-05-23T14:37:20.209Z"
   },
   {
    "duration": 319,
    "start_time": "2023-05-23T14:37:20.231Z"
   },
   {
    "duration": 14,
    "start_time": "2023-05-23T14:37:20.552Z"
   },
   {
    "duration": 35,
    "start_time": "2023-05-23T14:37:20.570Z"
   },
   {
    "duration": 9,
    "start_time": "2023-05-23T14:37:20.606Z"
   },
   {
    "duration": 36,
    "start_time": "2023-05-23T14:37:20.617Z"
   },
   {
    "duration": 32,
    "start_time": "2023-05-23T14:37:20.655Z"
   },
   {
    "duration": 22,
    "start_time": "2023-05-23T14:37:20.688Z"
   },
   {
    "duration": 6,
    "start_time": "2023-05-23T14:37:20.712Z"
   },
   {
    "duration": 31,
    "start_time": "2023-05-23T14:37:20.720Z"
   },
   {
    "duration": 10,
    "start_time": "2023-05-23T14:37:20.753Z"
   },
   {
    "duration": 26,
    "start_time": "2023-05-23T14:37:20.764Z"
   },
   {
    "duration": 24,
    "start_time": "2023-05-23T14:37:20.792Z"
   },
   {
    "duration": 52,
    "start_time": "2023-05-23T14:37:20.819Z"
   },
   {
    "duration": 4,
    "start_time": "2023-05-23T14:37:20.873Z"
   },
   {
    "duration": 28,
    "start_time": "2023-05-23T14:37:20.878Z"
   },
   {
    "duration": 103,
    "start_time": "2023-05-23T14:59:55.397Z"
   },
   {
    "duration": 64,
    "start_time": "2023-05-23T15:00:02.994Z"
   },
   {
    "duration": 8,
    "start_time": "2023-05-23T15:00:08.743Z"
   },
   {
    "duration": 73,
    "start_time": "2023-05-23T15:01:59.702Z"
   },
   {
    "duration": 8,
    "start_time": "2023-05-23T15:02:19.455Z"
   },
   {
    "duration": 9,
    "start_time": "2023-05-23T15:02:33.380Z"
   },
   {
    "duration": 9,
    "start_time": "2023-05-23T15:03:08.288Z"
   },
   {
    "duration": 5,
    "start_time": "2023-05-23T15:09:29.259Z"
   },
   {
    "duration": 8,
    "start_time": "2023-05-23T15:09:39.731Z"
   },
   {
    "duration": 5,
    "start_time": "2023-05-23T15:11:11.124Z"
   },
   {
    "duration": 7,
    "start_time": "2023-05-23T15:11:11.715Z"
   },
   {
    "duration": 8,
    "start_time": "2023-05-23T15:12:03.900Z"
   },
   {
    "duration": 8,
    "start_time": "2023-05-23T15:12:21.846Z"
   },
   {
    "duration": 8,
    "start_time": "2023-05-23T15:12:38.270Z"
   },
   {
    "duration": 9,
    "start_time": "2023-05-23T15:12:46.863Z"
   },
   {
    "duration": 10,
    "start_time": "2023-05-23T15:13:26.287Z"
   },
   {
    "duration": 858,
    "start_time": "2023-05-24T06:55:35.341Z"
   },
   {
    "duration": 527,
    "start_time": "2023-05-24T06:55:36.201Z"
   },
   {
    "duration": 12,
    "start_time": "2023-05-24T06:55:36.730Z"
   },
   {
    "duration": 27,
    "start_time": "2023-05-24T06:55:36.744Z"
   },
   {
    "duration": 5,
    "start_time": "2023-05-24T06:55:36.774Z"
   },
   {
    "duration": 25,
    "start_time": "2023-05-24T06:55:36.780Z"
   },
   {
    "duration": 31,
    "start_time": "2023-05-24T06:55:36.807Z"
   },
   {
    "duration": 30,
    "start_time": "2023-05-24T06:55:36.840Z"
   },
   {
    "duration": 114,
    "start_time": "2023-05-24T06:55:36.871Z"
   },
   {
    "duration": 109,
    "start_time": "2023-05-24T06:55:36.987Z"
   },
   {
    "duration": 74,
    "start_time": "2023-05-24T06:55:37.097Z"
   },
   {
    "duration": 20,
    "start_time": "2023-05-24T06:55:37.173Z"
   },
   {
    "duration": 27,
    "start_time": "2023-05-24T06:55:37.195Z"
   },
   {
    "duration": 21,
    "start_time": "2023-05-24T06:55:37.225Z"
   },
   {
    "duration": 11,
    "start_time": "2023-05-24T06:55:37.248Z"
   },
   {
    "duration": 137,
    "start_time": "2023-05-24T06:55:37.261Z"
   },
   {
    "duration": 10,
    "start_time": "2023-05-24T06:55:37.400Z"
   },
   {
    "duration": 44,
    "start_time": "2023-05-24T06:55:37.412Z"
   },
   {
    "duration": 20,
    "start_time": "2023-05-24T06:55:37.458Z"
   },
   {
    "duration": 18,
    "start_time": "2023-05-24T06:55:37.480Z"
   },
   {
    "duration": 22,
    "start_time": "2023-05-24T06:55:37.500Z"
   },
   {
    "duration": 36,
    "start_time": "2023-05-24T06:55:37.524Z"
   },
   {
    "duration": 9,
    "start_time": "2023-05-24T06:55:37.562Z"
   },
   {
    "duration": 23,
    "start_time": "2023-05-24T06:55:37.573Z"
   },
   {
    "duration": 312,
    "start_time": "2023-05-24T06:55:37.598Z"
   },
   {
    "duration": 15,
    "start_time": "2023-05-24T06:55:37.913Z"
   },
   {
    "duration": 40,
    "start_time": "2023-05-24T06:55:37.930Z"
   },
   {
    "duration": 9,
    "start_time": "2023-05-24T06:55:37.972Z"
   },
   {
    "duration": 18,
    "start_time": "2023-05-24T06:55:37.983Z"
   },
   {
    "duration": 19,
    "start_time": "2023-05-24T06:55:38.003Z"
   },
   {
    "duration": 42,
    "start_time": "2023-05-24T06:55:38.024Z"
   },
   {
    "duration": 6,
    "start_time": "2023-05-24T06:55:38.068Z"
   },
   {
    "duration": 26,
    "start_time": "2023-05-24T06:55:38.076Z"
   },
   {
    "duration": 7,
    "start_time": "2023-05-24T06:55:38.103Z"
   },
   {
    "duration": 42,
    "start_time": "2023-05-24T06:55:38.112Z"
   },
   {
    "duration": 8,
    "start_time": "2023-05-24T06:55:38.156Z"
   },
   {
    "duration": 37,
    "start_time": "2023-05-24T06:55:38.165Z"
   },
   {
    "duration": 2,
    "start_time": "2023-05-24T06:55:38.204Z"
   },
   {
    "duration": 28,
    "start_time": "2023-05-24T06:55:38.208Z"
   },
   {
    "duration": 70,
    "start_time": "2023-05-24T06:55:38.237Z"
   },
   {
    "duration": 9,
    "start_time": "2023-05-24T06:55:38.310Z"
   },
   {
    "duration": 5,
    "start_time": "2023-05-24T06:55:38.321Z"
   },
   {
    "duration": 25,
    "start_time": "2023-05-24T06:55:38.328Z"
   },
   {
    "duration": 97,
    "start_time": "2023-05-24T07:08:24.580Z"
   },
   {
    "duration": 16,
    "start_time": "2023-05-24T07:09:50.308Z"
   },
   {
    "duration": 84,
    "start_time": "2023-05-24T07:10:03.677Z"
   },
   {
    "duration": 56,
    "start_time": "2023-05-24T07:10:19.493Z"
   },
   {
    "duration": 7,
    "start_time": "2023-05-24T07:10:21.333Z"
   },
   {
    "duration": 32,
    "start_time": "2023-05-24T07:15:35.111Z"
   },
   {
    "duration": 3,
    "start_time": "2023-05-24T07:15:36.127Z"
   },
   {
    "duration": 700,
    "start_time": "2023-05-24T07:15:51.873Z"
   },
   {
    "duration": 192,
    "start_time": "2023-05-24T07:15:52.575Z"
   },
   {
    "duration": 12,
    "start_time": "2023-05-24T07:15:52.769Z"
   },
   {
    "duration": 23,
    "start_time": "2023-05-24T07:15:52.784Z"
   },
   {
    "duration": 9,
    "start_time": "2023-05-24T07:15:52.809Z"
   },
   {
    "duration": 29,
    "start_time": "2023-05-24T07:15:52.820Z"
   },
   {
    "duration": 41,
    "start_time": "2023-05-24T07:15:52.851Z"
   },
   {
    "duration": 57,
    "start_time": "2023-05-24T07:15:52.894Z"
   },
   {
    "duration": 112,
    "start_time": "2023-05-24T07:15:52.953Z"
   },
   {
    "duration": 112,
    "start_time": "2023-05-24T07:15:53.068Z"
   },
   {
    "duration": 77,
    "start_time": "2023-05-24T07:15:53.181Z"
   },
   {
    "duration": 18,
    "start_time": "2023-05-24T07:15:53.260Z"
   },
   {
    "duration": 22,
    "start_time": "2023-05-24T07:15:53.280Z"
   },
   {
    "duration": 38,
    "start_time": "2023-05-24T07:15:53.305Z"
   },
   {
    "duration": 16,
    "start_time": "2023-05-24T07:15:53.345Z"
   },
   {
    "duration": 134,
    "start_time": "2023-05-24T07:15:53.362Z"
   },
   {
    "duration": 10,
    "start_time": "2023-05-24T07:15:53.497Z"
   },
   {
    "duration": 76,
    "start_time": "2023-05-24T07:15:53.509Z"
   },
   {
    "duration": 38,
    "start_time": "2023-05-24T07:15:53.587Z"
   },
   {
    "duration": 15,
    "start_time": "2023-05-24T07:15:53.627Z"
   },
   {
    "duration": 52,
    "start_time": "2023-05-24T07:15:53.644Z"
   },
   {
    "duration": 10,
    "start_time": "2023-05-24T07:15:53.698Z"
   },
   {
    "duration": 25,
    "start_time": "2023-05-24T07:15:53.709Z"
   },
   {
    "duration": 29,
    "start_time": "2023-05-24T07:15:53.735Z"
   },
   {
    "duration": 303,
    "start_time": "2023-05-24T07:15:53.766Z"
   },
   {
    "duration": 14,
    "start_time": "2023-05-24T07:15:54.071Z"
   },
   {
    "duration": 34,
    "start_time": "2023-05-24T07:15:54.086Z"
   },
   {
    "duration": 24,
    "start_time": "2023-05-24T07:15:54.122Z"
   },
   {
    "duration": 13,
    "start_time": "2023-05-24T07:15:54.147Z"
   },
   {
    "duration": 36,
    "start_time": "2023-05-24T07:15:54.162Z"
   },
   {
    "duration": 26,
    "start_time": "2023-05-24T07:15:54.200Z"
   },
   {
    "duration": 23,
    "start_time": "2023-05-24T07:15:54.227Z"
   },
   {
    "duration": 42,
    "start_time": "2023-05-24T07:15:54.251Z"
   },
   {
    "duration": 14,
    "start_time": "2023-05-24T07:15:54.295Z"
   },
   {
    "duration": 44,
    "start_time": "2023-05-24T07:15:54.311Z"
   },
   {
    "duration": 18,
    "start_time": "2023-05-24T07:15:54.356Z"
   },
   {
    "duration": 48,
    "start_time": "2023-05-24T07:15:54.376Z"
   },
   {
    "duration": 3,
    "start_time": "2023-05-24T07:15:54.426Z"
   },
   {
    "duration": 22,
    "start_time": "2023-05-24T07:15:54.430Z"
   },
   {
    "duration": 86,
    "start_time": "2023-05-24T07:15:54.453Z"
   },
   {
    "duration": 9,
    "start_time": "2023-05-24T07:15:54.543Z"
   },
   {
    "duration": 24,
    "start_time": "2023-05-24T07:15:54.553Z"
   },
   {
    "duration": 27,
    "start_time": "2023-05-24T07:15:54.579Z"
   },
   {
    "duration": 183,
    "start_time": "2023-05-24T07:30:18.181Z"
   },
   {
    "duration": 87,
    "start_time": "2023-05-24T07:30:38.998Z"
   },
   {
    "duration": 94,
    "start_time": "2023-05-24T07:33:32.983Z"
   },
   {
    "duration": 2583,
    "start_time": "2023-05-24T07:33:49.957Z"
   },
   {
    "duration": 14,
    "start_time": "2023-05-24T07:34:50.034Z"
   },
   {
    "duration": 17,
    "start_time": "2023-05-24T07:35:06.080Z"
   },
   {
    "duration": 8,
    "start_time": "2023-05-24T07:36:04.561Z"
   },
   {
    "duration": 5,
    "start_time": "2023-05-24T07:36:23.457Z"
   },
   {
    "duration": 8,
    "start_time": "2023-05-24T07:36:35.282Z"
   },
   {
    "duration": 3,
    "start_time": "2023-05-24T07:36:45.565Z"
   },
   {
    "duration": 11,
    "start_time": "2023-05-24T07:36:52.565Z"
   },
   {
    "duration": 3261,
    "start_time": "2023-05-24T07:49:33.095Z"
   },
   {
    "duration": 5,
    "start_time": "2023-05-24T07:50:07.104Z"
   },
   {
    "duration": 5,
    "start_time": "2023-05-24T07:51:31.615Z"
   },
   {
    "duration": 3,
    "start_time": "2023-05-24T07:54:20.088Z"
   },
   {
    "duration": 5,
    "start_time": "2023-05-24T07:54:20.752Z"
   },
   {
    "duration": 8,
    "start_time": "2023-05-24T07:54:37.582Z"
   },
   {
    "duration": 6,
    "start_time": "2023-05-24T07:58:23.218Z"
   },
   {
    "duration": 13,
    "start_time": "2023-05-24T07:58:29.611Z"
   },
   {
    "duration": 5,
    "start_time": "2023-05-24T08:01:08.475Z"
   },
   {
    "duration": 5,
    "start_time": "2023-05-24T08:01:38.587Z"
   },
   {
    "duration": 8,
    "start_time": "2023-05-24T08:01:42.853Z"
   },
   {
    "duration": 5,
    "start_time": "2023-05-24T08:04:42.701Z"
   },
   {
    "duration": 9,
    "start_time": "2023-05-24T08:04:44.069Z"
   },
   {
    "duration": 9,
    "start_time": "2023-05-24T08:07:22.477Z"
   },
   {
    "duration": 10,
    "start_time": "2023-05-24T08:07:36.128Z"
   },
   {
    "duration": 5,
    "start_time": "2023-05-24T08:08:13.215Z"
   },
   {
    "duration": 4,
    "start_time": "2023-05-24T08:14:12.881Z"
   },
   {
    "duration": 9,
    "start_time": "2023-05-24T08:14:20.248Z"
   },
   {
    "duration": 3,
    "start_time": "2023-05-24T08:14:31.972Z"
   },
   {
    "duration": 11,
    "start_time": "2023-05-24T08:14:32.530Z"
   },
   {
    "duration": 5,
    "start_time": "2023-05-24T08:24:24.480Z"
   },
   {
    "duration": 8,
    "start_time": "2023-05-24T08:24:25.370Z"
   },
   {
    "duration": 5,
    "start_time": "2023-05-24T08:24:40.765Z"
   },
   {
    "duration": 9,
    "start_time": "2023-05-24T08:24:41.381Z"
   },
   {
    "duration": 296,
    "start_time": "2023-05-24T08:37:33.171Z"
   },
   {
    "duration": 150,
    "start_time": "2023-05-24T08:38:01.111Z"
   },
   {
    "duration": 5,
    "start_time": "2023-05-24T08:38:08.167Z"
   },
   {
    "duration": 4,
    "start_time": "2023-05-24T08:38:13.562Z"
   },
   {
    "duration": 3,
    "start_time": "2023-05-24T08:38:40.588Z"
   },
   {
    "duration": 4,
    "start_time": "2023-05-24T08:38:41.133Z"
   },
   {
    "duration": 4,
    "start_time": "2023-05-24T08:39:00.204Z"
   },
   {
    "duration": 5,
    "start_time": "2023-05-24T08:39:00.757Z"
   },
   {
    "duration": 4,
    "start_time": "2023-05-24T08:39:28.077Z"
   },
   {
    "duration": 3,
    "start_time": "2023-05-24T08:40:57.274Z"
   },
   {
    "duration": 4,
    "start_time": "2023-05-24T08:40:57.806Z"
   },
   {
    "duration": 2,
    "start_time": "2023-05-24T08:41:59.603Z"
   },
   {
    "duration": 4,
    "start_time": "2023-05-24T08:42:00.118Z"
   },
   {
    "duration": 8,
    "start_time": "2023-05-24T09:21:49.816Z"
   },
   {
    "duration": 775,
    "start_time": "2023-05-24T09:22:26.069Z"
   },
   {
    "duration": 173,
    "start_time": "2023-05-24T09:22:26.846Z"
   },
   {
    "duration": 13,
    "start_time": "2023-05-24T09:22:27.021Z"
   },
   {
    "duration": 46,
    "start_time": "2023-05-24T09:22:27.047Z"
   },
   {
    "duration": 11,
    "start_time": "2023-05-24T09:22:27.095Z"
   },
   {
    "duration": 34,
    "start_time": "2023-05-24T09:22:27.108Z"
   },
   {
    "duration": 55,
    "start_time": "2023-05-24T09:22:27.144Z"
   },
   {
    "duration": 35,
    "start_time": "2023-05-24T09:22:27.201Z"
   },
   {
    "duration": 85,
    "start_time": "2023-05-24T09:22:27.237Z"
   },
   {
    "duration": 112,
    "start_time": "2023-05-24T09:22:27.324Z"
   },
   {
    "duration": 72,
    "start_time": "2023-05-24T09:22:27.438Z"
   },
   {
    "duration": 18,
    "start_time": "2023-05-24T09:22:27.512Z"
   },
   {
    "duration": 16,
    "start_time": "2023-05-24T09:22:27.546Z"
   },
   {
    "duration": 27,
    "start_time": "2023-05-24T09:22:27.565Z"
   },
   {
    "duration": 27,
    "start_time": "2023-05-24T09:22:27.595Z"
   },
   {
    "duration": 149,
    "start_time": "2023-05-24T09:22:27.623Z"
   },
   {
    "duration": 10,
    "start_time": "2023-05-24T09:22:27.773Z"
   },
   {
    "duration": 39,
    "start_time": "2023-05-24T09:22:27.784Z"
   },
   {
    "duration": 33,
    "start_time": "2023-05-24T09:22:27.825Z"
   },
   {
    "duration": 16,
    "start_time": "2023-05-24T09:22:27.860Z"
   },
   {
    "duration": 24,
    "start_time": "2023-05-24T09:22:27.878Z"
   },
   {
    "duration": 8,
    "start_time": "2023-05-24T09:22:27.904Z"
   },
   {
    "duration": 31,
    "start_time": "2023-05-24T09:22:27.913Z"
   },
   {
    "duration": 34,
    "start_time": "2023-05-24T09:22:27.946Z"
   },
   {
    "duration": 14,
    "start_time": "2023-05-24T09:22:27.982Z"
   },
   {
    "duration": 0,
    "start_time": "2023-05-24T09:22:27.998Z"
   },
   {
    "duration": 0,
    "start_time": "2023-05-24T09:22:28.000Z"
   },
   {
    "duration": 0,
    "start_time": "2023-05-24T09:22:28.001Z"
   },
   {
    "duration": 0,
    "start_time": "2023-05-24T09:22:28.003Z"
   },
   {
    "duration": 0,
    "start_time": "2023-05-24T09:22:28.004Z"
   },
   {
    "duration": 0,
    "start_time": "2023-05-24T09:22:28.006Z"
   },
   {
    "duration": 0,
    "start_time": "2023-05-24T09:22:28.007Z"
   },
   {
    "duration": 0,
    "start_time": "2023-05-24T09:22:28.008Z"
   },
   {
    "duration": 0,
    "start_time": "2023-05-24T09:22:28.010Z"
   },
   {
    "duration": 0,
    "start_time": "2023-05-24T09:22:28.012Z"
   },
   {
    "duration": 0,
    "start_time": "2023-05-24T09:22:28.014Z"
   },
   {
    "duration": 0,
    "start_time": "2023-05-24T09:22:28.015Z"
   },
   {
    "duration": 0,
    "start_time": "2023-05-24T09:22:28.017Z"
   },
   {
    "duration": 0,
    "start_time": "2023-05-24T09:22:28.018Z"
   },
   {
    "duration": 0,
    "start_time": "2023-05-24T09:22:28.019Z"
   },
   {
    "duration": 0,
    "start_time": "2023-05-24T09:22:28.021Z"
   },
   {
    "duration": 0,
    "start_time": "2023-05-24T09:22:28.022Z"
   },
   {
    "duration": 0,
    "start_time": "2023-05-24T09:22:28.023Z"
   },
   {
    "duration": 0,
    "start_time": "2023-05-24T09:22:28.046Z"
   },
   {
    "duration": 0,
    "start_time": "2023-05-24T09:22:28.047Z"
   },
   {
    "duration": 0,
    "start_time": "2023-05-24T09:22:28.049Z"
   },
   {
    "duration": 0,
    "start_time": "2023-05-24T09:22:28.051Z"
   },
   {
    "duration": 0,
    "start_time": "2023-05-24T09:22:28.053Z"
   },
   {
    "duration": 0,
    "start_time": "2023-05-24T09:22:28.054Z"
   },
   {
    "duration": 4,
    "start_time": "2023-05-24T09:24:43.165Z"
   },
   {
    "duration": 4,
    "start_time": "2023-05-24T09:24:57.806Z"
   },
   {
    "duration": 75,
    "start_time": "2023-05-24T09:25:05.657Z"
   },
   {
    "duration": 1180,
    "start_time": "2023-05-24T09:25:44.083Z"
   },
   {
    "duration": 166,
    "start_time": "2023-05-24T09:25:45.265Z"
   },
   {
    "duration": 18,
    "start_time": "2023-05-24T09:25:45.432Z"
   },
   {
    "duration": 21,
    "start_time": "2023-05-24T09:25:45.452Z"
   },
   {
    "duration": 7,
    "start_time": "2023-05-24T09:25:45.475Z"
   },
   {
    "duration": 14,
    "start_time": "2023-05-24T09:25:45.484Z"
   },
   {
    "duration": 34,
    "start_time": "2023-05-24T09:25:45.500Z"
   },
   {
    "duration": 34,
    "start_time": "2023-05-24T09:25:45.535Z"
   },
   {
    "duration": 87,
    "start_time": "2023-05-24T09:25:45.570Z"
   },
   {
    "duration": 111,
    "start_time": "2023-05-24T09:25:45.660Z"
   },
   {
    "duration": 65,
    "start_time": "2023-05-24T09:25:45.773Z"
   },
   {
    "duration": 19,
    "start_time": "2023-05-24T09:25:45.846Z"
   },
   {
    "duration": 16,
    "start_time": "2023-05-24T09:25:45.866Z"
   },
   {
    "duration": 7,
    "start_time": "2023-05-24T09:25:45.884Z"
   },
   {
    "duration": 10,
    "start_time": "2023-05-24T09:25:45.893Z"
   },
   {
    "duration": 161,
    "start_time": "2023-05-24T09:25:45.905Z"
   },
   {
    "duration": 9,
    "start_time": "2023-05-24T09:25:46.068Z"
   },
   {
    "duration": 44,
    "start_time": "2023-05-24T09:25:46.079Z"
   },
   {
    "duration": 29,
    "start_time": "2023-05-24T09:25:46.125Z"
   },
   {
    "duration": 9,
    "start_time": "2023-05-24T09:25:46.155Z"
   },
   {
    "duration": 30,
    "start_time": "2023-05-24T09:25:46.165Z"
   },
   {
    "duration": 8,
    "start_time": "2023-05-24T09:25:46.198Z"
   },
   {
    "duration": 18,
    "start_time": "2023-05-24T09:25:46.208Z"
   },
   {
    "duration": 37,
    "start_time": "2023-05-24T09:25:46.228Z"
   },
   {
    "duration": 10094,
    "start_time": "2023-05-24T09:25:46.267Z"
   },
   {
    "duration": 0,
    "start_time": "2023-05-24T09:25:56.363Z"
   },
   {
    "duration": 0,
    "start_time": "2023-05-24T09:25:56.365Z"
   },
   {
    "duration": 0,
    "start_time": "2023-05-24T09:25:56.367Z"
   },
   {
    "duration": 0,
    "start_time": "2023-05-24T09:25:56.368Z"
   },
   {
    "duration": 0,
    "start_time": "2023-05-24T09:25:56.370Z"
   },
   {
    "duration": 0,
    "start_time": "2023-05-24T09:25:56.371Z"
   },
   {
    "duration": 0,
    "start_time": "2023-05-24T09:25:56.373Z"
   },
   {
    "duration": 0,
    "start_time": "2023-05-24T09:25:56.375Z"
   },
   {
    "duration": 0,
    "start_time": "2023-05-24T09:25:56.376Z"
   },
   {
    "duration": 0,
    "start_time": "2023-05-24T09:25:56.377Z"
   },
   {
    "duration": 0,
    "start_time": "2023-05-24T09:25:56.379Z"
   },
   {
    "duration": 0,
    "start_time": "2023-05-24T09:25:56.380Z"
   },
   {
    "duration": 0,
    "start_time": "2023-05-24T09:25:56.383Z"
   },
   {
    "duration": 0,
    "start_time": "2023-05-24T09:25:56.384Z"
   },
   {
    "duration": 0,
    "start_time": "2023-05-24T09:25:56.386Z"
   },
   {
    "duration": 0,
    "start_time": "2023-05-24T09:25:56.388Z"
   },
   {
    "duration": 0,
    "start_time": "2023-05-24T09:25:56.390Z"
   },
   {
    "duration": 0,
    "start_time": "2023-05-24T09:25:56.392Z"
   },
   {
    "duration": 0,
    "start_time": "2023-05-24T09:25:56.393Z"
   },
   {
    "duration": 0,
    "start_time": "2023-05-24T09:25:56.395Z"
   },
   {
    "duration": 0,
    "start_time": "2023-05-24T09:25:56.447Z"
   },
   {
    "duration": 0,
    "start_time": "2023-05-24T09:25:56.448Z"
   },
   {
    "duration": 0,
    "start_time": "2023-05-24T09:25:56.449Z"
   },
   {
    "duration": 0,
    "start_time": "2023-05-24T09:25:56.450Z"
   },
   {
    "duration": 9026,
    "start_time": "2023-05-24T09:27:06.912Z"
   },
   {
    "duration": 9629,
    "start_time": "2023-05-24T09:32:53.323Z"
   },
   {
    "duration": 3,
    "start_time": "2023-05-24T09:37:30.286Z"
   },
   {
    "duration": 9447,
    "start_time": "2023-05-24T09:37:31.965Z"
   },
   {
    "duration": 9645,
    "start_time": "2023-05-24T09:39:36.969Z"
   },
   {
    "duration": 9532,
    "start_time": "2023-05-24T09:40:09.907Z"
   },
   {
    "duration": 9800,
    "start_time": "2023-05-24T09:40:45.174Z"
   },
   {
    "duration": 12,
    "start_time": "2023-05-24T09:43:35.096Z"
   },
   {
    "duration": 26,
    "start_time": "2023-05-24T09:43:37.592Z"
   },
   {
    "duration": 7,
    "start_time": "2023-05-24T09:43:48.069Z"
   },
   {
    "duration": 13,
    "start_time": "2023-05-24T09:44:59.016Z"
   },
   {
    "duration": 12,
    "start_time": "2023-05-24T09:45:10.969Z"
   },
   {
    "duration": 27,
    "start_time": "2023-05-24T09:45:12.080Z"
   },
   {
    "duration": 8,
    "start_time": "2023-05-24T09:45:16.112Z"
   },
   {
    "duration": 14,
    "start_time": "2023-05-24T09:45:20.598Z"
   },
   {
    "duration": 17,
    "start_time": "2023-05-24T09:45:43.679Z"
   },
   {
    "duration": 1323,
    "start_time": "2023-05-24T09:46:05.479Z"
   },
   {
    "duration": 176,
    "start_time": "2023-05-24T09:46:06.804Z"
   },
   {
    "duration": 12,
    "start_time": "2023-05-24T09:46:06.985Z"
   },
   {
    "duration": 31,
    "start_time": "2023-05-24T09:46:06.999Z"
   },
   {
    "duration": 14,
    "start_time": "2023-05-24T09:46:07.032Z"
   },
   {
    "duration": 19,
    "start_time": "2023-05-24T09:46:07.048Z"
   },
   {
    "duration": 60,
    "start_time": "2023-05-24T09:46:07.068Z"
   },
   {
    "duration": 33,
    "start_time": "2023-05-24T09:46:07.130Z"
   },
   {
    "duration": 91,
    "start_time": "2023-05-24T09:46:07.166Z"
   },
   {
    "duration": 114,
    "start_time": "2023-05-24T09:46:07.259Z"
   },
   {
    "duration": 77,
    "start_time": "2023-05-24T09:46:07.375Z"
   },
   {
    "duration": 20,
    "start_time": "2023-05-24T09:46:07.454Z"
   },
   {
    "duration": 47,
    "start_time": "2023-05-24T09:46:07.477Z"
   },
   {
    "duration": 26,
    "start_time": "2023-05-24T09:46:07.526Z"
   },
   {
    "duration": 24,
    "start_time": "2023-05-24T09:46:07.554Z"
   },
   {
    "duration": 148,
    "start_time": "2023-05-24T09:46:07.579Z"
   },
   {
    "duration": 10,
    "start_time": "2023-05-24T09:46:07.729Z"
   },
   {
    "duration": 42,
    "start_time": "2023-05-24T09:46:07.746Z"
   },
   {
    "duration": 30,
    "start_time": "2023-05-24T09:46:07.790Z"
   },
   {
    "duration": 40,
    "start_time": "2023-05-24T09:46:07.822Z"
   },
   {
    "duration": 53,
    "start_time": "2023-05-24T09:46:07.864Z"
   },
   {
    "duration": 8,
    "start_time": "2023-05-24T09:46:07.918Z"
   },
   {
    "duration": 31,
    "start_time": "2023-05-24T09:46:07.928Z"
   },
   {
    "duration": 47,
    "start_time": "2023-05-24T09:46:07.961Z"
   },
   {
    "duration": 17,
    "start_time": "2023-05-24T09:46:08.010Z"
   },
   {
    "duration": 10291,
    "start_time": "2023-05-24T09:46:08.029Z"
   },
   {
    "duration": 21,
    "start_time": "2023-05-24T09:46:18.324Z"
   },
   {
    "duration": 34,
    "start_time": "2023-05-24T09:46:18.347Z"
   },
   {
    "duration": 10,
    "start_time": "2023-05-24T09:46:18.383Z"
   },
   {
    "duration": 35,
    "start_time": "2023-05-24T09:46:18.395Z"
   },
   {
    "duration": 21,
    "start_time": "2023-05-24T09:46:18.432Z"
   },
   {
    "duration": 79,
    "start_time": "2023-05-24T09:46:18.455Z"
   },
   {
    "duration": 24,
    "start_time": "2023-05-24T09:46:18.536Z"
   },
   {
    "duration": 29,
    "start_time": "2023-05-24T09:46:18.562Z"
   },
   {
    "duration": 6,
    "start_time": "2023-05-24T09:46:18.593Z"
   },
   {
    "duration": 40,
    "start_time": "2023-05-24T09:46:18.601Z"
   },
   {
    "duration": 48,
    "start_time": "2023-05-24T09:46:18.643Z"
   },
   {
    "duration": 53,
    "start_time": "2023-05-24T09:46:18.693Z"
   },
   {
    "duration": 3,
    "start_time": "2023-05-24T09:46:18.748Z"
   },
   {
    "duration": 54,
    "start_time": "2023-05-24T09:46:18.752Z"
   },
   {
    "duration": 71,
    "start_time": "2023-05-24T09:46:18.808Z"
   },
   {
    "duration": 9,
    "start_time": "2023-05-24T09:46:18.881Z"
   },
   {
    "duration": 34,
    "start_time": "2023-05-24T09:46:18.891Z"
   },
   {
    "duration": 22,
    "start_time": "2023-05-24T09:46:18.927Z"
   },
   {
    "duration": 38,
    "start_time": "2023-05-24T09:46:18.951Z"
   },
   {
    "duration": 23,
    "start_time": "2023-05-24T09:46:18.991Z"
   },
   {
    "duration": 33,
    "start_time": "2023-05-24T09:46:19.016Z"
   },
   {
    "duration": 25,
    "start_time": "2023-05-24T09:46:19.051Z"
   },
   {
    "duration": 21,
    "start_time": "2023-05-24T09:46:19.078Z"
   },
   {
    "duration": 37,
    "start_time": "2023-05-24T09:46:19.101Z"
   },
   {
    "duration": 5,
    "start_time": "2023-05-24T10:08:46.513Z"
   },
   {
    "duration": 4,
    "start_time": "2023-05-24T10:09:05.877Z"
   },
   {
    "duration": 4,
    "start_time": "2023-05-24T10:09:14.403Z"
   },
   {
    "duration": 4,
    "start_time": "2023-05-24T10:10:05.748Z"
   },
   {
    "duration": 4,
    "start_time": "2023-05-24T10:10:31.661Z"
   },
   {
    "duration": 1338,
    "start_time": "2023-05-24T10:10:51.861Z"
   },
   {
    "duration": 171,
    "start_time": "2023-05-24T10:10:53.202Z"
   },
   {
    "duration": 12,
    "start_time": "2023-05-24T10:10:53.375Z"
   },
   {
    "duration": 37,
    "start_time": "2023-05-24T10:10:53.389Z"
   },
   {
    "duration": 3,
    "start_time": "2023-05-24T10:10:53.429Z"
   },
   {
    "duration": 26,
    "start_time": "2023-05-24T10:10:53.434Z"
   },
   {
    "duration": 46,
    "start_time": "2023-05-24T10:10:53.462Z"
   },
   {
    "duration": 28,
    "start_time": "2023-05-24T10:10:53.510Z"
   },
   {
    "duration": 84,
    "start_time": "2023-05-24T10:10:53.540Z"
   },
   {
    "duration": 117,
    "start_time": "2023-05-24T10:10:53.626Z"
   },
   {
    "duration": 67,
    "start_time": "2023-05-24T10:10:53.746Z"
   },
   {
    "duration": 35,
    "start_time": "2023-05-24T10:10:53.816Z"
   },
   {
    "duration": 18,
    "start_time": "2023-05-24T10:10:53.853Z"
   },
   {
    "duration": 17,
    "start_time": "2023-05-24T10:10:53.875Z"
   },
   {
    "duration": 16,
    "start_time": "2023-05-24T10:10:53.894Z"
   },
   {
    "duration": 132,
    "start_time": "2023-05-24T10:10:53.912Z"
   },
   {
    "duration": 11,
    "start_time": "2023-05-24T10:10:54.046Z"
   },
   {
    "duration": 40,
    "start_time": "2023-05-24T10:10:54.059Z"
   },
   {
    "duration": 19,
    "start_time": "2023-05-24T10:10:54.101Z"
   },
   {
    "duration": 27,
    "start_time": "2023-05-24T10:10:54.122Z"
   },
   {
    "duration": 21,
    "start_time": "2023-05-24T10:10:54.151Z"
   },
   {
    "duration": 7,
    "start_time": "2023-05-24T10:10:54.174Z"
   },
   {
    "duration": 15,
    "start_time": "2023-05-24T10:10:54.182Z"
   },
   {
    "duration": 17,
    "start_time": "2023-05-24T10:10:54.199Z"
   },
   {
    "duration": 8,
    "start_time": "2023-05-24T10:10:54.217Z"
   },
   {
    "duration": 9478,
    "start_time": "2023-05-24T10:10:54.226Z"
   },
   {
    "duration": 18,
    "start_time": "2023-05-24T10:11:03.706Z"
   },
   {
    "duration": 43,
    "start_time": "2023-05-24T10:11:03.726Z"
   },
   {
    "duration": 10,
    "start_time": "2023-05-24T10:11:03.771Z"
   },
   {
    "duration": 24,
    "start_time": "2023-05-24T10:11:03.783Z"
   },
   {
    "duration": 22,
    "start_time": "2023-05-24T10:11:03.809Z"
   },
   {
    "duration": 58,
    "start_time": "2023-05-24T10:11:03.833Z"
   },
   {
    "duration": 8,
    "start_time": "2023-05-24T10:11:03.893Z"
   },
   {
    "duration": 24,
    "start_time": "2023-05-24T10:11:03.902Z"
   },
   {
    "duration": 13,
    "start_time": "2023-05-24T10:11:03.928Z"
   },
   {
    "duration": 36,
    "start_time": "2023-05-24T10:11:03.943Z"
   },
   {
    "duration": 9,
    "start_time": "2023-05-24T10:11:03.981Z"
   },
   {
    "duration": 48,
    "start_time": "2023-05-24T10:11:03.991Z"
   },
   {
    "duration": 11,
    "start_time": "2023-05-24T10:11:04.042Z"
   },
   {
    "duration": 28,
    "start_time": "2023-05-24T10:11:04.055Z"
   },
   {
    "duration": 64,
    "start_time": "2023-05-24T10:11:04.087Z"
   },
   {
    "duration": 9,
    "start_time": "2023-05-24T10:11:04.153Z"
   },
   {
    "duration": 14,
    "start_time": "2023-05-24T10:11:04.163Z"
   },
   {
    "duration": 11,
    "start_time": "2023-05-24T10:11:04.179Z"
   },
   {
    "duration": 19,
    "start_time": "2023-05-24T10:11:04.192Z"
   },
   {
    "duration": 24,
    "start_time": "2023-05-24T10:11:04.212Z"
   },
   {
    "duration": 22,
    "start_time": "2023-05-24T10:11:04.238Z"
   },
   {
    "duration": 23,
    "start_time": "2023-05-24T10:11:04.262Z"
   },
   {
    "duration": 9,
    "start_time": "2023-05-24T10:11:04.287Z"
   },
   {
    "duration": 23,
    "start_time": "2023-05-24T10:11:04.297Z"
   },
   {
    "duration": 1228,
    "start_time": "2023-05-24T10:11:48.657Z"
   },
   {
    "duration": 177,
    "start_time": "2023-05-24T10:11:49.888Z"
   },
   {
    "duration": 11,
    "start_time": "2023-05-24T10:11:50.067Z"
   },
   {
    "duration": 39,
    "start_time": "2023-05-24T10:11:50.080Z"
   },
   {
    "duration": 3,
    "start_time": "2023-05-24T10:11:50.121Z"
   },
   {
    "duration": 22,
    "start_time": "2023-05-24T10:11:50.126Z"
   },
   {
    "duration": 37,
    "start_time": "2023-05-24T10:11:50.150Z"
   },
   {
    "duration": 26,
    "start_time": "2023-05-24T10:11:50.189Z"
   },
   {
    "duration": 88,
    "start_time": "2023-05-24T10:11:50.217Z"
   },
   {
    "duration": 117,
    "start_time": "2023-05-24T10:11:50.307Z"
   },
   {
    "duration": 67,
    "start_time": "2023-05-24T10:11:50.426Z"
   },
   {
    "duration": 20,
    "start_time": "2023-05-24T10:11:50.494Z"
   },
   {
    "duration": 34,
    "start_time": "2023-05-24T10:11:50.516Z"
   },
   {
    "duration": 8,
    "start_time": "2023-05-24T10:11:50.554Z"
   },
   {
    "duration": 11,
    "start_time": "2023-05-24T10:11:50.564Z"
   },
   {
    "duration": 132,
    "start_time": "2023-05-24T10:11:50.577Z"
   },
   {
    "duration": 11,
    "start_time": "2023-05-24T10:11:50.711Z"
   },
   {
    "duration": 64,
    "start_time": "2023-05-24T10:11:50.724Z"
   },
   {
    "duration": 30,
    "start_time": "2023-05-24T10:11:50.789Z"
   },
   {
    "duration": 8,
    "start_time": "2023-05-24T10:11:50.821Z"
   },
   {
    "duration": 46,
    "start_time": "2023-05-24T10:11:50.831Z"
   },
   {
    "duration": 8,
    "start_time": "2023-05-24T10:11:50.879Z"
   },
   {
    "duration": 12,
    "start_time": "2023-05-24T10:11:50.888Z"
   },
   {
    "duration": 15,
    "start_time": "2023-05-24T10:11:50.902Z"
   },
   {
    "duration": 3,
    "start_time": "2023-05-24T10:11:50.918Z"
   },
   {
    "duration": 9321,
    "start_time": "2023-05-24T10:11:50.923Z"
   },
   {
    "duration": 17,
    "start_time": "2023-05-24T10:12:00.246Z"
   },
   {
    "duration": 41,
    "start_time": "2023-05-24T10:12:00.265Z"
   },
   {
    "duration": 10,
    "start_time": "2023-05-24T10:12:00.310Z"
   },
   {
    "duration": 33,
    "start_time": "2023-05-24T10:12:00.321Z"
   },
   {
    "duration": 53,
    "start_time": "2023-05-24T10:12:00.356Z"
   },
   {
    "duration": 48,
    "start_time": "2023-05-24T10:12:00.411Z"
   },
   {
    "duration": 28,
    "start_time": "2023-05-24T10:12:00.461Z"
   },
   {
    "duration": 71,
    "start_time": "2023-05-24T10:12:00.491Z"
   },
   {
    "duration": 42,
    "start_time": "2023-05-24T10:12:00.564Z"
   },
   {
    "duration": 52,
    "start_time": "2023-05-24T10:12:00.608Z"
   },
   {
    "duration": 45,
    "start_time": "2023-05-24T10:12:00.662Z"
   },
   {
    "duration": 124,
    "start_time": "2023-05-24T10:12:00.709Z"
   },
   {
    "duration": 42,
    "start_time": "2023-05-24T10:12:00.835Z"
   },
   {
    "duration": 59,
    "start_time": "2023-05-24T10:12:00.879Z"
   },
   {
    "duration": 87,
    "start_time": "2023-05-24T10:12:00.942Z"
   },
   {
    "duration": 9,
    "start_time": "2023-05-24T10:12:01.031Z"
   },
   {
    "duration": 47,
    "start_time": "2023-05-24T10:12:01.042Z"
   },
   {
    "duration": 44,
    "start_time": "2023-05-24T10:12:01.091Z"
   },
   {
    "duration": 76,
    "start_time": "2023-05-24T10:12:01.137Z"
   },
   {
    "duration": 103,
    "start_time": "2023-05-24T10:12:01.215Z"
   },
   {
    "duration": 82,
    "start_time": "2023-05-24T10:12:01.321Z"
   },
   {
    "duration": 54,
    "start_time": "2023-05-24T10:12:01.404Z"
   },
   {
    "duration": 44,
    "start_time": "2023-05-24T10:12:01.459Z"
   },
   {
    "duration": 96,
    "start_time": "2023-05-24T10:12:01.505Z"
   },
   {
    "duration": 7,
    "start_time": "2023-05-24T10:15:12.560Z"
   },
   {
    "duration": 9,
    "start_time": "2023-05-24T10:15:16.013Z"
   },
   {
    "duration": 5,
    "start_time": "2023-05-24T10:15:31.780Z"
   },
   {
    "duration": 10,
    "start_time": "2023-05-24T10:15:35.319Z"
   },
   {
    "duration": 1240,
    "start_time": "2023-05-24T10:16:10.877Z"
   },
   {
    "duration": 201,
    "start_time": "2023-05-24T10:16:12.119Z"
   },
   {
    "duration": 14,
    "start_time": "2023-05-24T10:16:12.322Z"
   },
   {
    "duration": 33,
    "start_time": "2023-05-24T10:16:12.345Z"
   },
   {
    "duration": 22,
    "start_time": "2023-05-24T10:16:12.381Z"
   },
   {
    "duration": 28,
    "start_time": "2023-05-24T10:16:12.405Z"
   },
   {
    "duration": 66,
    "start_time": "2023-05-24T10:16:12.437Z"
   },
   {
    "duration": 33,
    "start_time": "2023-05-24T10:16:12.507Z"
   },
   {
    "duration": 161,
    "start_time": "2023-05-24T10:16:12.541Z"
   },
   {
    "duration": 166,
    "start_time": "2023-05-24T10:16:12.704Z"
   },
   {
    "duration": 82,
    "start_time": "2023-05-24T10:16:12.873Z"
   },
   {
    "duration": 26,
    "start_time": "2023-05-24T10:16:12.957Z"
   },
   {
    "duration": 87,
    "start_time": "2023-05-24T10:16:12.985Z"
   },
   {
    "duration": 33,
    "start_time": "2023-05-24T10:16:13.075Z"
   },
   {
    "duration": 47,
    "start_time": "2023-05-24T10:16:13.110Z"
   },
   {
    "duration": 195,
    "start_time": "2023-05-24T10:16:13.159Z"
   },
   {
    "duration": 10,
    "start_time": "2023-05-24T10:16:13.356Z"
   },
   {
    "duration": 45,
    "start_time": "2023-05-24T10:16:13.368Z"
   },
   {
    "duration": 64,
    "start_time": "2023-05-24T10:16:13.415Z"
   },
   {
    "duration": 38,
    "start_time": "2023-05-24T10:16:13.480Z"
   },
   {
    "duration": 78,
    "start_time": "2023-05-24T10:16:13.520Z"
   },
   {
    "duration": 30,
    "start_time": "2023-05-24T10:16:13.600Z"
   },
   {
    "duration": 65,
    "start_time": "2023-05-24T10:16:13.632Z"
   },
   {
    "duration": 40,
    "start_time": "2023-05-24T10:16:13.700Z"
   },
   {
    "duration": 36,
    "start_time": "2023-05-24T10:16:13.742Z"
   },
   {
    "duration": 9203,
    "start_time": "2023-05-24T10:16:13.781Z"
   },
   {
    "duration": 19,
    "start_time": "2023-05-24T10:16:22.987Z"
   },
   {
    "duration": 39,
    "start_time": "2023-05-24T10:16:23.007Z"
   },
   {
    "duration": 13,
    "start_time": "2023-05-24T10:16:23.048Z"
   },
   {
    "duration": 24,
    "start_time": "2023-05-24T10:16:23.064Z"
   },
   {
    "duration": 29,
    "start_time": "2023-05-24T10:16:23.090Z"
   },
   {
    "duration": 35,
    "start_time": "2023-05-24T10:16:23.121Z"
   },
   {
    "duration": 5,
    "start_time": "2023-05-24T10:16:23.158Z"
   },
   {
    "duration": 20,
    "start_time": "2023-05-24T10:16:23.164Z"
   },
   {
    "duration": 6,
    "start_time": "2023-05-24T10:16:23.185Z"
   },
   {
    "duration": 25,
    "start_time": "2023-05-24T10:16:23.192Z"
   },
   {
    "duration": 111,
    "start_time": "2023-05-24T10:16:23.219Z"
   },
   {
    "duration": 58,
    "start_time": "2023-05-24T10:16:23.332Z"
   },
   {
    "duration": 2,
    "start_time": "2023-05-24T10:16:23.392Z"
   },
   {
    "duration": 15,
    "start_time": "2023-05-24T10:16:23.396Z"
   },
   {
    "duration": 64,
    "start_time": "2023-05-24T10:16:23.415Z"
   },
   {
    "duration": 12,
    "start_time": "2023-05-24T10:16:23.481Z"
   },
   {
    "duration": 22,
    "start_time": "2023-05-24T10:16:23.495Z"
   },
   {
    "duration": 18,
    "start_time": "2023-05-24T10:16:23.519Z"
   },
   {
    "duration": 14,
    "start_time": "2023-05-24T10:16:23.540Z"
   },
   {
    "duration": 6,
    "start_time": "2023-05-24T10:16:23.556Z"
   },
   {
    "duration": 13,
    "start_time": "2023-05-24T10:16:23.565Z"
   },
   {
    "duration": 31,
    "start_time": "2023-05-24T10:16:23.580Z"
   },
   {
    "duration": 8,
    "start_time": "2023-05-24T10:16:23.613Z"
   },
   {
    "duration": 12,
    "start_time": "2023-05-24T10:16:23.623Z"
   },
   {
    "duration": 1194,
    "start_time": "2023-05-24T10:28:57.980Z"
   },
   {
    "duration": 178,
    "start_time": "2023-05-24T10:28:59.176Z"
   },
   {
    "duration": 12,
    "start_time": "2023-05-24T10:28:59.356Z"
   },
   {
    "duration": 41,
    "start_time": "2023-05-24T10:28:59.369Z"
   },
   {
    "duration": 5,
    "start_time": "2023-05-24T10:28:59.411Z"
   },
   {
    "duration": 31,
    "start_time": "2023-05-24T10:28:59.418Z"
   },
   {
    "duration": 45,
    "start_time": "2023-05-24T10:28:59.450Z"
   },
   {
    "duration": 26,
    "start_time": "2023-05-24T10:28:59.497Z"
   },
   {
    "duration": 91,
    "start_time": "2023-05-24T10:28:59.524Z"
   },
   {
    "duration": 109,
    "start_time": "2023-05-24T10:28:59.617Z"
   },
   {
    "duration": 70,
    "start_time": "2023-05-24T10:28:59.728Z"
   },
   {
    "duration": 20,
    "start_time": "2023-05-24T10:28:59.799Z"
   },
   {
    "duration": 30,
    "start_time": "2023-05-24T10:28:59.820Z"
   },
   {
    "duration": 25,
    "start_time": "2023-05-24T10:28:59.852Z"
   },
   {
    "duration": 17,
    "start_time": "2023-05-24T10:28:59.879Z"
   },
   {
    "duration": 127,
    "start_time": "2023-05-24T10:28:59.898Z"
   },
   {
    "duration": 10,
    "start_time": "2023-05-24T10:29:00.027Z"
   },
   {
    "duration": 49,
    "start_time": "2023-05-24T10:29:00.045Z"
   },
   {
    "duration": 36,
    "start_time": "2023-05-24T10:29:00.095Z"
   },
   {
    "duration": 31,
    "start_time": "2023-05-24T10:29:00.133Z"
   },
   {
    "duration": 51,
    "start_time": "2023-05-24T10:29:00.166Z"
   },
   {
    "duration": 6,
    "start_time": "2023-05-24T10:29:00.219Z"
   },
   {
    "duration": 47,
    "start_time": "2023-05-24T10:29:00.227Z"
   },
   {
    "duration": 36,
    "start_time": "2023-05-24T10:29:00.276Z"
   },
   {
    "duration": 10186,
    "start_time": "2023-05-24T10:29:00.314Z"
   },
   {
    "duration": 31,
    "start_time": "2023-05-24T10:29:10.502Z"
   },
   {
    "duration": 26,
    "start_time": "2023-05-24T10:29:10.535Z"
   },
   {
    "duration": 11,
    "start_time": "2023-05-24T10:29:10.565Z"
   },
   {
    "duration": 17,
    "start_time": "2023-05-24T10:29:10.578Z"
   },
   {
    "duration": 31,
    "start_time": "2023-05-24T10:29:10.597Z"
   },
   {
    "duration": 32,
    "start_time": "2023-05-24T10:29:10.630Z"
   },
   {
    "duration": 15,
    "start_time": "2023-05-24T10:29:10.664Z"
   },
   {
    "duration": 30,
    "start_time": "2023-05-24T10:29:10.681Z"
   },
   {
    "duration": 6,
    "start_time": "2023-05-24T10:29:10.713Z"
   },
   {
    "duration": 38,
    "start_time": "2023-05-24T10:29:10.721Z"
   },
   {
    "duration": 10,
    "start_time": "2023-05-24T10:29:10.762Z"
   },
   {
    "duration": 45,
    "start_time": "2023-05-24T10:29:10.774Z"
   },
   {
    "duration": 3,
    "start_time": "2023-05-24T10:29:10.821Z"
   },
   {
    "duration": 24,
    "start_time": "2023-05-24T10:29:10.826Z"
   },
   {
    "duration": 81,
    "start_time": "2023-05-24T10:29:10.851Z"
   },
   {
    "duration": 9,
    "start_time": "2023-05-24T10:29:10.934Z"
   },
   {
    "duration": 11,
    "start_time": "2023-05-24T10:29:10.944Z"
   },
   {
    "duration": 7,
    "start_time": "2023-05-24T10:29:10.956Z"
   },
   {
    "duration": 12,
    "start_time": "2023-05-24T10:29:10.964Z"
   },
   {
    "duration": 16,
    "start_time": "2023-05-24T10:29:10.977Z"
   },
   {
    "duration": 14,
    "start_time": "2023-05-24T10:29:10.995Z"
   },
   {
    "duration": 17,
    "start_time": "2023-05-24T10:29:11.011Z"
   },
   {
    "duration": 10,
    "start_time": "2023-05-24T10:29:11.029Z"
   },
   {
    "duration": 8,
    "start_time": "2023-05-24T10:29:11.040Z"
   },
   {
    "duration": 1206,
    "start_time": "2023-05-24T10:30:33.357Z"
   },
   {
    "duration": 168,
    "start_time": "2023-05-24T10:30:34.565Z"
   },
   {
    "duration": 15,
    "start_time": "2023-05-24T10:30:34.735Z"
   },
   {
    "duration": 26,
    "start_time": "2023-05-24T10:30:34.752Z"
   },
   {
    "duration": 3,
    "start_time": "2023-05-24T10:30:34.780Z"
   },
   {
    "duration": 36,
    "start_time": "2023-05-24T10:30:34.785Z"
   },
   {
    "duration": 40,
    "start_time": "2023-05-24T10:30:34.823Z"
   },
   {
    "duration": 25,
    "start_time": "2023-05-24T10:30:34.865Z"
   },
   {
    "duration": 91,
    "start_time": "2023-05-24T10:30:34.892Z"
   },
   {
    "duration": 114,
    "start_time": "2023-05-24T10:30:34.985Z"
   },
   {
    "duration": 73,
    "start_time": "2023-05-24T10:30:35.100Z"
   },
   {
    "duration": 19,
    "start_time": "2023-05-24T10:30:35.175Z"
   },
   {
    "duration": 18,
    "start_time": "2023-05-24T10:30:35.196Z"
   },
   {
    "duration": 29,
    "start_time": "2023-05-24T10:30:35.217Z"
   },
   {
    "duration": 10,
    "start_time": "2023-05-24T10:30:35.248Z"
   },
   {
    "duration": 140,
    "start_time": "2023-05-24T10:30:35.260Z"
   },
   {
    "duration": 11,
    "start_time": "2023-05-24T10:30:35.402Z"
   },
   {
    "duration": 44,
    "start_time": "2023-05-24T10:30:35.415Z"
   },
   {
    "duration": 30,
    "start_time": "2023-05-24T10:30:35.461Z"
   },
   {
    "duration": 15,
    "start_time": "2023-05-24T10:30:35.493Z"
   },
   {
    "duration": 36,
    "start_time": "2023-05-24T10:30:35.510Z"
   },
   {
    "duration": 9,
    "start_time": "2023-05-24T10:30:35.548Z"
   },
   {
    "duration": 40,
    "start_time": "2023-05-24T10:30:35.559Z"
   },
   {
    "duration": 41,
    "start_time": "2023-05-24T10:30:35.601Z"
   },
   {
    "duration": 9276,
    "start_time": "2023-05-24T10:30:35.644Z"
   },
   {
    "duration": 18,
    "start_time": "2023-05-24T10:30:44.922Z"
   },
   {
    "duration": 16,
    "start_time": "2023-05-24T10:30:44.942Z"
   },
   {
    "duration": 14,
    "start_time": "2023-05-24T10:30:44.960Z"
   },
   {
    "duration": 29,
    "start_time": "2023-05-24T10:30:44.975Z"
   },
   {
    "duration": 72,
    "start_time": "2023-05-24T10:30:45.005Z"
   },
   {
    "duration": 37,
    "start_time": "2023-05-24T10:30:45.079Z"
   },
   {
    "duration": 33,
    "start_time": "2023-05-24T10:30:45.118Z"
   },
   {
    "duration": 8,
    "start_time": "2023-05-24T10:30:45.153Z"
   },
   {
    "duration": 26,
    "start_time": "2023-05-24T10:30:45.163Z"
   },
   {
    "duration": 10,
    "start_time": "2023-05-24T10:30:45.191Z"
   },
   {
    "duration": 26,
    "start_time": "2023-05-24T10:30:45.203Z"
   },
   {
    "duration": 13,
    "start_time": "2023-05-24T10:30:45.231Z"
   },
   {
    "duration": 42,
    "start_time": "2023-05-24T10:30:45.246Z"
   },
   {
    "duration": 2,
    "start_time": "2023-05-24T10:30:45.290Z"
   },
   {
    "duration": 22,
    "start_time": "2023-05-24T10:30:45.294Z"
   },
   {
    "duration": 56,
    "start_time": "2023-05-24T10:30:45.320Z"
   },
   {
    "duration": 8,
    "start_time": "2023-05-24T10:30:45.378Z"
   },
   {
    "duration": 17,
    "start_time": "2023-05-24T10:30:45.388Z"
   },
   {
    "duration": 13,
    "start_time": "2023-05-24T10:30:45.407Z"
   },
   {
    "duration": 24,
    "start_time": "2023-05-24T10:30:45.422Z"
   },
   {
    "duration": 13,
    "start_time": "2023-05-24T10:30:45.448Z"
   },
   {
    "duration": 17,
    "start_time": "2023-05-24T10:30:45.463Z"
   },
   {
    "duration": 11,
    "start_time": "2023-05-24T10:30:45.482Z"
   },
   {
    "duration": 6,
    "start_time": "2023-05-24T10:30:45.495Z"
   },
   {
    "duration": 12,
    "start_time": "2023-05-24T10:30:45.502Z"
   },
   {
    "duration": 1211,
    "start_time": "2023-05-24T10:31:21.105Z"
   },
   {
    "duration": 195,
    "start_time": "2023-05-24T10:31:22.318Z"
   },
   {
    "duration": 15,
    "start_time": "2023-05-24T10:31:22.516Z"
   },
   {
    "duration": 51,
    "start_time": "2023-05-24T10:31:22.533Z"
   },
   {
    "duration": 4,
    "start_time": "2023-05-24T10:31:22.587Z"
   },
   {
    "duration": 21,
    "start_time": "2023-05-24T10:31:22.593Z"
   },
   {
    "duration": 40,
    "start_time": "2023-05-24T10:31:22.617Z"
   },
   {
    "duration": 26,
    "start_time": "2023-05-24T10:31:22.659Z"
   },
   {
    "duration": 93,
    "start_time": "2023-05-24T10:31:22.687Z"
   },
   {
    "duration": 116,
    "start_time": "2023-05-24T10:31:22.782Z"
   },
   {
    "duration": 75,
    "start_time": "2023-05-24T10:31:22.900Z"
   },
   {
    "duration": 20,
    "start_time": "2023-05-24T10:31:22.977Z"
   },
   {
    "duration": 18,
    "start_time": "2023-05-24T10:31:22.999Z"
   },
   {
    "duration": 31,
    "start_time": "2023-05-24T10:31:23.022Z"
   },
   {
    "duration": 23,
    "start_time": "2023-05-24T10:31:23.055Z"
   },
   {
    "duration": 122,
    "start_time": "2023-05-24T10:31:23.080Z"
   },
   {
    "duration": 11,
    "start_time": "2023-05-24T10:31:23.204Z"
   },
   {
    "duration": 45,
    "start_time": "2023-05-24T10:31:23.217Z"
   },
   {
    "duration": 90,
    "start_time": "2023-05-24T10:31:23.265Z"
   },
   {
    "duration": 86,
    "start_time": "2023-05-24T10:31:23.356Z"
   },
   {
    "duration": 26,
    "start_time": "2023-05-24T10:31:23.444Z"
   },
   {
    "duration": 7,
    "start_time": "2023-05-24T10:31:23.472Z"
   },
   {
    "duration": 20,
    "start_time": "2023-05-24T10:31:23.480Z"
   },
   {
    "duration": 14,
    "start_time": "2023-05-24T10:31:23.501Z"
   },
   {
    "duration": 9219,
    "start_time": "2023-05-24T10:31:23.517Z"
   },
   {
    "duration": 23,
    "start_time": "2023-05-24T10:31:32.738Z"
   },
   {
    "duration": 14,
    "start_time": "2023-05-24T10:31:32.763Z"
   },
   {
    "duration": 13,
    "start_time": "2023-05-24T10:31:32.779Z"
   },
   {
    "duration": 16,
    "start_time": "2023-05-24T10:31:32.794Z"
   },
   {
    "duration": 13,
    "start_time": "2023-05-24T10:31:32.812Z"
   },
   {
    "duration": 31,
    "start_time": "2023-05-24T10:31:32.827Z"
   },
   {
    "duration": 21,
    "start_time": "2023-05-24T10:31:32.860Z"
   },
   {
    "duration": 9,
    "start_time": "2023-05-24T10:31:32.882Z"
   },
   {
    "duration": 37,
    "start_time": "2023-05-24T10:31:32.893Z"
   },
   {
    "duration": 16,
    "start_time": "2023-05-24T10:31:32.932Z"
   },
   {
    "duration": 23,
    "start_time": "2023-05-24T10:31:32.950Z"
   },
   {
    "duration": 16,
    "start_time": "2023-05-24T10:31:32.976Z"
   },
   {
    "duration": 70,
    "start_time": "2023-05-24T10:31:32.994Z"
   },
   {
    "duration": 4,
    "start_time": "2023-05-24T10:31:33.066Z"
   },
   {
    "duration": 30,
    "start_time": "2023-05-24T10:31:33.072Z"
   },
   {
    "duration": 88,
    "start_time": "2023-05-24T10:31:33.107Z"
   },
   {
    "duration": 9,
    "start_time": "2023-05-24T10:31:33.197Z"
   },
   {
    "duration": 17,
    "start_time": "2023-05-24T10:31:33.208Z"
   },
   {
    "duration": 12,
    "start_time": "2023-05-24T10:31:33.227Z"
   },
   {
    "duration": 16,
    "start_time": "2023-05-24T10:31:33.240Z"
   },
   {
    "duration": 8,
    "start_time": "2023-05-24T10:31:33.258Z"
   },
   {
    "duration": 12,
    "start_time": "2023-05-24T10:31:33.268Z"
   },
   {
    "duration": 20,
    "start_time": "2023-05-24T10:31:33.281Z"
   },
   {
    "duration": 9,
    "start_time": "2023-05-24T10:31:33.303Z"
   },
   {
    "duration": 15,
    "start_time": "2023-05-24T10:31:33.313Z"
   },
   {
    "duration": 1551,
    "start_time": "2023-05-24T14:24:01.077Z"
   },
   {
    "duration": 513,
    "start_time": "2023-05-24T14:24:02.630Z"
   },
   {
    "duration": 10,
    "start_time": "2023-05-24T14:24:03.145Z"
   },
   {
    "duration": 36,
    "start_time": "2023-05-24T14:24:03.157Z"
   },
   {
    "duration": 5,
    "start_time": "2023-05-24T14:24:03.196Z"
   },
   {
    "duration": 24,
    "start_time": "2023-05-24T14:24:03.202Z"
   },
   {
    "duration": 63,
    "start_time": "2023-05-24T14:24:03.227Z"
   },
   {
    "duration": 24,
    "start_time": "2023-05-24T14:24:03.291Z"
   },
   {
    "duration": 87,
    "start_time": "2023-05-24T14:24:03.316Z"
   },
   {
    "duration": 110,
    "start_time": "2023-05-24T14:24:03.405Z"
   },
   {
    "duration": 65,
    "start_time": "2023-05-24T14:24:03.517Z"
   },
   {
    "duration": 28,
    "start_time": "2023-05-24T14:24:03.584Z"
   },
   {
    "duration": 18,
    "start_time": "2023-05-24T14:24:03.614Z"
   },
   {
    "duration": 10,
    "start_time": "2023-05-24T14:24:03.635Z"
   },
   {
    "duration": 13,
    "start_time": "2023-05-24T14:24:03.647Z"
   },
   {
    "duration": 135,
    "start_time": "2023-05-24T14:24:03.662Z"
   },
   {
    "duration": 10,
    "start_time": "2023-05-24T14:24:03.799Z"
   },
   {
    "duration": 34,
    "start_time": "2023-05-24T14:24:03.811Z"
   },
   {
    "duration": 20,
    "start_time": "2023-05-24T14:24:03.846Z"
   },
   {
    "duration": 31,
    "start_time": "2023-05-24T14:24:03.867Z"
   },
   {
    "duration": 20,
    "start_time": "2023-05-24T14:24:03.900Z"
   },
   {
    "duration": 8,
    "start_time": "2023-05-24T14:24:03.922Z"
   },
   {
    "duration": 7,
    "start_time": "2023-05-24T14:24:03.932Z"
   },
   {
    "duration": 17,
    "start_time": "2023-05-24T14:24:03.941Z"
   },
   {
    "duration": 9378,
    "start_time": "2023-05-24T14:24:03.959Z"
   },
   {
    "duration": 18,
    "start_time": "2023-05-24T14:24:13.339Z"
   },
   {
    "duration": 23,
    "start_time": "2023-05-24T14:24:13.359Z"
   },
   {
    "duration": 10,
    "start_time": "2023-05-24T14:24:13.384Z"
   },
   {
    "duration": 16,
    "start_time": "2023-05-24T14:24:13.397Z"
   },
   {
    "duration": 22,
    "start_time": "2023-05-24T14:24:13.415Z"
   },
   {
    "duration": 46,
    "start_time": "2023-05-24T14:24:13.439Z"
   },
   {
    "duration": 28,
    "start_time": "2023-05-24T14:24:13.487Z"
   },
   {
    "duration": 15,
    "start_time": "2023-05-24T14:24:13.517Z"
   },
   {
    "duration": 32,
    "start_time": "2023-05-24T14:24:13.533Z"
   },
   {
    "duration": 8,
    "start_time": "2023-05-24T14:24:13.567Z"
   },
   {
    "duration": 37,
    "start_time": "2023-05-24T14:24:13.577Z"
   },
   {
    "duration": 20,
    "start_time": "2023-05-24T14:24:13.615Z"
   },
   {
    "duration": 36,
    "start_time": "2023-05-24T14:24:13.637Z"
   },
   {
    "duration": 3,
    "start_time": "2023-05-24T14:24:13.675Z"
   },
   {
    "duration": 18,
    "start_time": "2023-05-24T14:24:13.679Z"
   },
   {
    "duration": 53,
    "start_time": "2023-05-24T14:24:13.701Z"
   },
   {
    "duration": 10,
    "start_time": "2023-05-24T14:24:13.756Z"
   },
   {
    "duration": 11,
    "start_time": "2023-05-24T14:24:13.767Z"
   },
   {
    "duration": 5,
    "start_time": "2023-05-24T14:24:13.798Z"
   },
   {
    "duration": 14,
    "start_time": "2023-05-24T14:24:13.804Z"
   },
   {
    "duration": 7,
    "start_time": "2023-05-24T14:24:13.820Z"
   },
   {
    "duration": 11,
    "start_time": "2023-05-24T14:24:13.829Z"
   },
   {
    "duration": 20,
    "start_time": "2023-05-24T14:24:13.842Z"
   },
   {
    "duration": 12,
    "start_time": "2023-05-24T14:24:13.863Z"
   },
   {
    "duration": 15,
    "start_time": "2023-05-24T14:24:13.877Z"
   },
   {
    "duration": 14,
    "start_time": "2023-05-24T14:25:40.382Z"
   },
   {
    "duration": 11,
    "start_time": "2023-05-24T14:43:47.752Z"
   },
   {
    "duration": 113,
    "start_time": "2023-05-24T14:44:57.803Z"
   },
   {
    "duration": 13,
    "start_time": "2023-05-24T14:45:30.779Z"
   },
   {
    "duration": 25,
    "start_time": "2023-05-24T14:49:01.213Z"
   },
   {
    "duration": 21,
    "start_time": "2023-05-24T14:49:38.356Z"
   },
   {
    "duration": 45,
    "start_time": "2023-05-24T14:51:48.947Z"
   },
   {
    "duration": 33,
    "start_time": "2023-05-24T14:51:50.148Z"
   },
   {
    "duration": 6,
    "start_time": "2023-05-24T14:51:54.765Z"
   },
   {
    "duration": 34,
    "start_time": "2023-05-24T14:51:56.147Z"
   },
   {
    "duration": 7,
    "start_time": "2023-05-24T14:51:56.958Z"
   },
   {
    "duration": 31,
    "start_time": "2023-05-24T14:52:01.910Z"
   },
   {
    "duration": 5,
    "start_time": "2023-05-24T14:52:02.919Z"
   },
   {
    "duration": 1253,
    "start_time": "2023-05-25T06:53:43.122Z"
   },
   {
    "duration": 705,
    "start_time": "2023-05-25T06:53:44.377Z"
   },
   {
    "duration": 11,
    "start_time": "2023-05-25T06:53:45.084Z"
   },
   {
    "duration": 17,
    "start_time": "2023-05-25T06:53:45.097Z"
   },
   {
    "duration": 3,
    "start_time": "2023-05-25T06:53:45.116Z"
   },
   {
    "duration": 7,
    "start_time": "2023-05-25T06:53:45.120Z"
   },
   {
    "duration": 25,
    "start_time": "2023-05-25T06:53:45.128Z"
   },
   {
    "duration": 40,
    "start_time": "2023-05-25T06:53:45.155Z"
   },
   {
    "duration": 83,
    "start_time": "2023-05-25T06:53:45.196Z"
   },
   {
    "duration": 97,
    "start_time": "2023-05-25T06:53:45.282Z"
   },
   {
    "duration": 59,
    "start_time": "2023-05-25T06:53:45.381Z"
   },
   {
    "duration": 37,
    "start_time": "2023-05-25T06:53:45.442Z"
   },
   {
    "duration": 14,
    "start_time": "2023-05-25T06:53:45.480Z"
   },
   {
    "duration": 9,
    "start_time": "2023-05-25T06:53:45.495Z"
   },
   {
    "duration": 9,
    "start_time": "2023-05-25T06:53:45.506Z"
   },
   {
    "duration": 133,
    "start_time": "2023-05-25T06:53:45.517Z"
   },
   {
    "duration": 10,
    "start_time": "2023-05-25T06:53:45.651Z"
   },
   {
    "duration": 38,
    "start_time": "2023-05-25T06:53:45.662Z"
   },
   {
    "duration": 17,
    "start_time": "2023-05-25T06:53:45.701Z"
   },
   {
    "duration": 7,
    "start_time": "2023-05-25T06:53:45.720Z"
   },
   {
    "duration": 17,
    "start_time": "2023-05-25T06:53:45.728Z"
   },
   {
    "duration": 33,
    "start_time": "2023-05-25T06:53:45.746Z"
   },
   {
    "duration": 5,
    "start_time": "2023-05-25T06:53:45.782Z"
   },
   {
    "duration": 8,
    "start_time": "2023-05-25T06:53:45.789Z"
   },
   {
    "duration": 8164,
    "start_time": "2023-05-25T06:53:45.799Z"
   },
   {
    "duration": 18,
    "start_time": "2023-05-25T06:53:53.964Z"
   },
   {
    "duration": 13,
    "start_time": "2023-05-25T06:53:53.984Z"
   },
   {
    "duration": 11,
    "start_time": "2023-05-25T06:53:54.001Z"
   },
   {
    "duration": 9,
    "start_time": "2023-05-25T06:53:54.013Z"
   },
   {
    "duration": 17,
    "start_time": "2023-05-25T06:53:54.024Z"
   },
   {
    "duration": 37,
    "start_time": "2023-05-25T06:53:54.042Z"
   },
   {
    "duration": 18,
    "start_time": "2023-05-25T06:53:54.081Z"
   },
   {
    "duration": 14,
    "start_time": "2023-05-25T06:53:54.101Z"
   },
   {
    "duration": 24,
    "start_time": "2023-05-25T06:53:54.116Z"
   },
   {
    "duration": 8,
    "start_time": "2023-05-25T06:53:54.142Z"
   },
   {
    "duration": 27,
    "start_time": "2023-05-25T06:53:54.151Z"
   },
   {
    "duration": 6,
    "start_time": "2023-05-25T06:53:54.180Z"
   },
   {
    "duration": 41,
    "start_time": "2023-05-25T06:53:54.187Z"
   },
   {
    "duration": 3,
    "start_time": "2023-05-25T06:53:54.230Z"
   },
   {
    "duration": 19,
    "start_time": "2023-05-25T06:53:54.235Z"
   },
   {
    "duration": 56,
    "start_time": "2023-05-25T06:53:54.256Z"
   },
   {
    "duration": 9,
    "start_time": "2023-05-25T06:53:54.313Z"
   },
   {
    "duration": 7,
    "start_time": "2023-05-25T06:53:54.324Z"
   },
   {
    "duration": 8,
    "start_time": "2023-05-25T06:53:54.332Z"
   },
   {
    "duration": 11,
    "start_time": "2023-05-25T06:53:54.341Z"
   },
   {
    "duration": 24,
    "start_time": "2023-05-25T06:53:54.353Z"
   },
   {
    "duration": 5,
    "start_time": "2023-05-25T06:53:54.379Z"
   },
   {
    "duration": 31,
    "start_time": "2023-05-25T06:53:54.386Z"
   },
   {
    "duration": 14,
    "start_time": "2023-05-25T06:53:54.419Z"
   },
   {
    "duration": 8,
    "start_time": "2023-05-25T06:53:54.435Z"
   },
   {
    "duration": 27,
    "start_time": "2023-05-25T06:53:54.445Z"
   },
   {
    "duration": 28,
    "start_time": "2023-05-25T06:53:54.473Z"
   },
   {
    "duration": 16,
    "start_time": "2023-05-25T06:53:54.503Z"
   },
   {
    "duration": 14,
    "start_time": "2023-05-25T06:53:54.521Z"
   },
   {
    "duration": 17,
    "start_time": "2023-05-25T06:53:54.537Z"
   },
   {
    "duration": 12,
    "start_time": "2023-05-25T06:53:54.555Z"
   },
   {
    "duration": 24,
    "start_time": "2023-05-25T06:53:54.568Z"
   },
   {
    "duration": 5,
    "start_time": "2023-05-25T06:53:54.593Z"
   },
   {
    "duration": 34,
    "start_time": "2023-05-25T07:25:39.129Z"
   },
   {
    "duration": 61,
    "start_time": "2023-05-25T07:30:42.179Z"
   },
   {
    "duration": 22,
    "start_time": "2023-05-25T07:30:48.496Z"
   },
   {
    "duration": 22,
    "start_time": "2023-05-25T07:35:59.590Z"
   },
   {
    "duration": 4,
    "start_time": "2023-05-25T07:36:07.163Z"
   },
   {
    "duration": 22,
    "start_time": "2023-05-25T07:36:35.804Z"
   },
   {
    "duration": 4,
    "start_time": "2023-05-25T07:36:42.138Z"
   },
   {
    "duration": 19,
    "start_time": "2023-05-25T07:36:54.602Z"
   },
   {
    "duration": 4,
    "start_time": "2023-05-25T07:36:55.154Z"
   },
   {
    "duration": 1443,
    "start_time": "2023-05-25T14:15:09.315Z"
   },
   {
    "duration": 675,
    "start_time": "2023-05-25T14:15:10.760Z"
   },
   {
    "duration": 11,
    "start_time": "2023-05-25T14:15:11.436Z"
   },
   {
    "duration": 32,
    "start_time": "2023-05-25T14:15:11.449Z"
   },
   {
    "duration": 3,
    "start_time": "2023-05-25T14:15:11.483Z"
   },
   {
    "duration": 13,
    "start_time": "2023-05-25T14:15:11.501Z"
   },
   {
    "duration": 44,
    "start_time": "2023-05-25T14:15:11.515Z"
   },
   {
    "duration": 25,
    "start_time": "2023-05-25T14:15:11.561Z"
   },
   {
    "duration": 76,
    "start_time": "2023-05-25T14:15:11.588Z"
   },
   {
    "duration": 100,
    "start_time": "2023-05-25T14:15:11.667Z"
   },
   {
    "duration": 77,
    "start_time": "2023-05-25T14:15:11.768Z"
   },
   {
    "duration": 19,
    "start_time": "2023-05-25T14:15:11.846Z"
   },
   {
    "duration": 15,
    "start_time": "2023-05-25T14:15:11.866Z"
   },
   {
    "duration": 10,
    "start_time": "2023-05-25T14:15:11.883Z"
   },
   {
    "duration": 35,
    "start_time": "2023-05-25T14:15:11.894Z"
   },
   {
    "duration": 123,
    "start_time": "2023-05-25T14:15:11.931Z"
   },
   {
    "duration": 11,
    "start_time": "2023-05-25T14:15:12.055Z"
   },
   {
    "duration": 30,
    "start_time": "2023-05-25T14:15:12.068Z"
   },
   {
    "duration": 33,
    "start_time": "2023-05-25T14:15:12.101Z"
   },
   {
    "duration": 9,
    "start_time": "2023-05-25T14:15:12.136Z"
   },
   {
    "duration": 21,
    "start_time": "2023-05-25T14:15:12.147Z"
   },
   {
    "duration": 8,
    "start_time": "2023-05-25T14:15:12.170Z"
   },
   {
    "duration": 17,
    "start_time": "2023-05-25T14:15:12.180Z"
   },
   {
    "duration": 30,
    "start_time": "2023-05-25T14:15:12.199Z"
   },
   {
    "duration": 8860,
    "start_time": "2023-05-25T14:15:12.231Z"
   },
   {
    "duration": 19,
    "start_time": "2023-05-25T14:15:21.093Z"
   },
   {
    "duration": 12,
    "start_time": "2023-05-25T14:15:21.114Z"
   },
   {
    "duration": 10,
    "start_time": "2023-05-25T14:15:21.130Z"
   },
   {
    "duration": 26,
    "start_time": "2023-05-25T14:15:21.142Z"
   },
   {
    "duration": 14,
    "start_time": "2023-05-25T14:15:21.170Z"
   },
   {
    "duration": 29,
    "start_time": "2023-05-25T14:15:21.185Z"
   },
   {
    "duration": 19,
    "start_time": "2023-05-25T14:15:21.216Z"
   },
   {
    "duration": 8,
    "start_time": "2023-05-25T14:15:21.236Z"
   },
   {
    "duration": 20,
    "start_time": "2023-05-25T14:15:21.246Z"
   },
   {
    "duration": 9,
    "start_time": "2023-05-25T14:15:21.268Z"
   },
   {
    "duration": 51,
    "start_time": "2023-05-25T14:15:21.278Z"
   },
   {
    "duration": 6,
    "start_time": "2023-05-25T14:15:21.331Z"
   },
   {
    "duration": 42,
    "start_time": "2023-05-25T14:15:21.339Z"
   },
   {
    "duration": 3,
    "start_time": "2023-05-25T14:15:21.383Z"
   },
   {
    "duration": 38,
    "start_time": "2023-05-25T14:15:21.388Z"
   },
   {
    "duration": 72,
    "start_time": "2023-05-25T14:15:21.428Z"
   },
   {
    "duration": 23,
    "start_time": "2023-05-25T14:15:21.502Z"
   },
   {
    "duration": 6,
    "start_time": "2023-05-25T14:15:21.526Z"
   },
   {
    "duration": 9,
    "start_time": "2023-05-25T14:15:21.534Z"
   },
   {
    "duration": 15,
    "start_time": "2023-05-25T14:15:21.546Z"
   },
   {
    "duration": 13,
    "start_time": "2023-05-25T14:15:21.563Z"
   },
   {
    "duration": 15,
    "start_time": "2023-05-25T14:15:21.577Z"
   },
   {
    "duration": 19,
    "start_time": "2023-05-25T14:15:21.594Z"
   },
   {
    "duration": 4,
    "start_time": "2023-05-25T14:15:21.615Z"
   },
   {
    "duration": 4,
    "start_time": "2023-05-25T14:15:21.625Z"
   },
   {
    "duration": 16,
    "start_time": "2023-05-25T14:15:21.631Z"
   },
   {
    "duration": 41,
    "start_time": "2023-05-25T14:15:21.649Z"
   },
   {
    "duration": 22,
    "start_time": "2023-05-25T14:15:21.692Z"
   },
   {
    "duration": 13,
    "start_time": "2023-05-25T14:15:21.716Z"
   },
   {
    "duration": 32,
    "start_time": "2023-05-25T14:15:21.730Z"
   },
   {
    "duration": 8,
    "start_time": "2023-05-25T14:15:21.763Z"
   },
   {
    "duration": 37,
    "start_time": "2023-05-25T14:15:21.773Z"
   },
   {
    "duration": 12,
    "start_time": "2023-05-25T14:15:21.812Z"
   },
   {
    "duration": 57,
    "start_time": "2023-05-25T14:15:21.827Z"
   },
   {
    "duration": 11,
    "start_time": "2023-05-25T14:15:21.886Z"
   },
   {
    "duration": 37,
    "start_time": "2023-05-25T14:15:21.899Z"
   },
   {
    "duration": 4,
    "start_time": "2023-05-25T14:15:21.937Z"
   },
   {
    "duration": 55,
    "start_time": "2023-05-25T14:31:46.217Z"
   },
   {
    "duration": 7,
    "start_time": "2023-05-25T14:31:51.225Z"
   },
   {
    "duration": 3,
    "start_time": "2023-05-25T14:37:22.374Z"
   },
   {
    "duration": 103,
    "start_time": "2023-05-25T14:58:00.229Z"
   },
   {
    "duration": 9,
    "start_time": "2023-05-25T14:59:17.894Z"
   },
   {
    "duration": 5,
    "start_time": "2023-05-25T14:59:33.045Z"
   },
   {
    "duration": 106,
    "start_time": "2023-05-25T15:02:53.542Z"
   },
   {
    "duration": 17,
    "start_time": "2023-05-25T15:03:06.311Z"
   },
   {
    "duration": 127,
    "start_time": "2023-05-25T15:03:46.139Z"
   },
   {
    "duration": 8,
    "start_time": "2023-05-25T15:03:53.351Z"
   },
   {
    "duration": 3,
    "start_time": "2023-05-25T15:10:23.235Z"
   },
   {
    "duration": 7,
    "start_time": "2023-05-25T15:10:37.114Z"
   },
   {
    "duration": 4,
    "start_time": "2023-05-25T15:10:39.035Z"
   },
   {
    "duration": 119,
    "start_time": "2023-05-25T15:10:40.162Z"
   },
   {
    "duration": 8,
    "start_time": "2023-05-25T15:10:44.043Z"
   },
   {
    "duration": 12,
    "start_time": "2023-05-25T15:18:26.483Z"
   },
   {
    "duration": 217,
    "start_time": "2023-05-25T15:21:11.249Z"
   },
   {
    "duration": 835,
    "start_time": "2023-05-25T15:21:12.977Z"
   },
   {
    "duration": 6,
    "start_time": "2023-05-25T15:23:51.796Z"
   },
   {
    "duration": 1385,
    "start_time": "2023-05-28T06:43:01.252Z"
   },
   {
    "duration": 485,
    "start_time": "2023-05-28T06:43:02.639Z"
   },
   {
    "duration": 12,
    "start_time": "2023-05-28T06:43:03.125Z"
   },
   {
    "duration": 55,
    "start_time": "2023-05-28T06:43:03.138Z"
   },
   {
    "duration": 12,
    "start_time": "2023-05-28T06:43:03.196Z"
   },
   {
    "duration": 40,
    "start_time": "2023-05-28T06:43:03.209Z"
   },
   {
    "duration": 57,
    "start_time": "2023-05-28T06:43:03.250Z"
   },
   {
    "duration": 39,
    "start_time": "2023-05-28T06:43:03.309Z"
   },
   {
    "duration": 97,
    "start_time": "2023-05-28T06:43:03.350Z"
   },
   {
    "duration": 95,
    "start_time": "2023-05-28T06:43:03.448Z"
   },
   {
    "duration": 59,
    "start_time": "2023-05-28T06:43:03.545Z"
   },
   {
    "duration": 29,
    "start_time": "2023-05-28T06:43:03.605Z"
   },
   {
    "duration": 35,
    "start_time": "2023-05-28T06:43:03.635Z"
   },
   {
    "duration": 43,
    "start_time": "2023-05-28T06:43:03.672Z"
   },
   {
    "duration": 42,
    "start_time": "2023-05-28T06:43:03.716Z"
   },
   {
    "duration": 151,
    "start_time": "2023-05-28T06:43:03.760Z"
   },
   {
    "duration": 13,
    "start_time": "2023-05-28T06:43:03.913Z"
   },
   {
    "duration": 66,
    "start_time": "2023-05-28T06:43:03.928Z"
   },
   {
    "duration": 36,
    "start_time": "2023-05-28T06:43:03.995Z"
   },
   {
    "duration": 20,
    "start_time": "2023-05-28T06:43:04.033Z"
   },
   {
    "duration": 41,
    "start_time": "2023-05-28T06:43:04.055Z"
   },
   {
    "duration": 13,
    "start_time": "2023-05-28T06:43:04.098Z"
   },
   {
    "duration": 43,
    "start_time": "2023-05-28T06:43:04.112Z"
   },
   {
    "duration": 35,
    "start_time": "2023-05-28T06:43:04.157Z"
   },
   {
    "duration": 9280,
    "start_time": "2023-05-28T06:43:04.194Z"
   },
   {
    "duration": 18,
    "start_time": "2023-05-28T06:43:13.476Z"
   },
   {
    "duration": 17,
    "start_time": "2023-05-28T06:43:13.495Z"
   },
   {
    "duration": 27,
    "start_time": "2023-05-28T06:43:13.514Z"
   },
   {
    "duration": 38,
    "start_time": "2023-05-28T06:43:13.543Z"
   },
   {
    "duration": 26,
    "start_time": "2023-05-28T06:43:13.582Z"
   },
   {
    "duration": 32,
    "start_time": "2023-05-28T06:43:13.610Z"
   },
   {
    "duration": 40,
    "start_time": "2023-05-28T06:43:13.644Z"
   },
   {
    "duration": 52,
    "start_time": "2023-05-28T06:43:13.686Z"
   },
   {
    "duration": 28,
    "start_time": "2023-05-28T06:43:13.740Z"
   },
   {
    "duration": 23,
    "start_time": "2023-05-28T06:43:13.769Z"
   },
   {
    "duration": 37,
    "start_time": "2023-05-28T06:43:13.794Z"
   },
   {
    "duration": 25,
    "start_time": "2023-05-28T06:43:13.833Z"
   },
   {
    "duration": 44,
    "start_time": "2023-05-28T06:43:13.860Z"
   },
   {
    "duration": 3,
    "start_time": "2023-05-28T06:43:13.906Z"
   },
   {
    "duration": 36,
    "start_time": "2023-05-28T06:43:13.911Z"
   },
   {
    "duration": 67,
    "start_time": "2023-05-28T06:43:13.951Z"
   },
   {
    "duration": 9,
    "start_time": "2023-05-28T06:43:14.019Z"
   },
   {
    "duration": 23,
    "start_time": "2023-05-28T06:43:14.030Z"
   },
   {
    "duration": 44,
    "start_time": "2023-05-28T06:43:14.055Z"
   },
   {
    "duration": 32,
    "start_time": "2023-05-28T06:43:14.100Z"
   },
   {
    "duration": 29,
    "start_time": "2023-05-28T06:43:14.133Z"
   },
   {
    "duration": 52,
    "start_time": "2023-05-28T06:43:14.164Z"
   },
   {
    "duration": 39,
    "start_time": "2023-05-28T06:43:14.217Z"
   },
   {
    "duration": 25,
    "start_time": "2023-05-28T06:43:14.258Z"
   },
   {
    "duration": 29,
    "start_time": "2023-05-28T06:43:14.285Z"
   },
   {
    "duration": 32,
    "start_time": "2023-05-28T06:43:14.316Z"
   },
   {
    "duration": 41,
    "start_time": "2023-05-28T06:43:14.350Z"
   },
   {
    "duration": 38,
    "start_time": "2023-05-28T06:43:14.393Z"
   },
   {
    "duration": 13,
    "start_time": "2023-05-28T06:43:14.433Z"
   },
   {
    "duration": 47,
    "start_time": "2023-05-28T06:43:14.447Z"
   },
   {
    "duration": 16,
    "start_time": "2023-05-28T06:43:14.495Z"
   },
   {
    "duration": 38,
    "start_time": "2023-05-28T06:43:14.513Z"
   },
   {
    "duration": 26,
    "start_time": "2023-05-28T06:43:14.553Z"
   },
   {
    "duration": 38,
    "start_time": "2023-05-28T06:43:14.581Z"
   },
   {
    "duration": 4,
    "start_time": "2023-05-28T06:43:14.621Z"
   },
   {
    "duration": 37,
    "start_time": "2023-05-28T06:43:14.626Z"
   },
   {
    "duration": 21,
    "start_time": "2023-05-28T06:43:14.665Z"
   },
   {
    "duration": 86,
    "start_time": "2023-05-28T06:43:14.688Z"
   },
   {
    "duration": 9,
    "start_time": "2023-05-28T06:43:14.777Z"
   },
   {
    "duration": 28,
    "start_time": "2023-05-28T06:43:14.788Z"
   },
   {
    "duration": 128,
    "start_time": "2023-05-28T06:43:14.818Z"
   },
   {
    "duration": 4,
    "start_time": "2023-05-28T06:43:14.948Z"
   },
   {
    "duration": 46,
    "start_time": "2023-05-28T06:43:14.954Z"
   },
   {
    "duration": 62,
    "start_time": "2023-05-28T06:43:15.001Z"
   },
   {
    "duration": 151,
    "start_time": "2023-05-28T06:43:15.064Z"
   },
   {
    "duration": 11,
    "start_time": "2023-05-28T06:43:15.217Z"
   },
   {
    "duration": 263,
    "start_time": "2023-05-28T06:43:15.229Z"
   },
   {
    "duration": 4,
    "start_time": "2023-05-28T06:43:15.493Z"
   },
   {
    "duration": 1285,
    "start_time": "2023-05-28T06:43:15.498Z"
   },
   {
    "duration": 404,
    "start_time": "2023-05-28T07:00:45.743Z"
   },
   {
    "duration": 10,
    "start_time": "2023-05-28T07:00:46.379Z"
   },
   {
    "duration": 125,
    "start_time": "2023-05-28T07:00:57.578Z"
   },
   {
    "duration": 7,
    "start_time": "2023-05-28T07:00:58.774Z"
   },
   {
    "duration": 4,
    "start_time": "2023-05-28T07:07:17.299Z"
   },
   {
    "duration": 5,
    "start_time": "2023-05-28T07:07:23.797Z"
   },
   {
    "duration": 1173,
    "start_time": "2023-05-28T07:07:30.560Z"
   },
   {
    "duration": 179,
    "start_time": "2023-05-28T07:07:31.735Z"
   },
   {
    "duration": 12,
    "start_time": "2023-05-28T07:07:31.915Z"
   },
   {
    "duration": 38,
    "start_time": "2023-05-28T07:07:31.929Z"
   },
   {
    "duration": 2,
    "start_time": "2023-05-28T07:07:31.969Z"
   },
   {
    "duration": 20,
    "start_time": "2023-05-28T07:07:31.973Z"
   },
   {
    "duration": 38,
    "start_time": "2023-05-28T07:07:31.994Z"
   },
   {
    "duration": 26,
    "start_time": "2023-05-28T07:07:32.033Z"
   },
   {
    "duration": 81,
    "start_time": "2023-05-28T07:07:32.061Z"
   },
   {
    "duration": 100,
    "start_time": "2023-05-28T07:07:32.145Z"
   },
   {
    "duration": 57,
    "start_time": "2023-05-28T07:07:32.247Z"
   },
   {
    "duration": 29,
    "start_time": "2023-05-28T07:07:32.306Z"
   },
   {
    "duration": 16,
    "start_time": "2023-05-28T07:07:32.337Z"
   },
   {
    "duration": 8,
    "start_time": "2023-05-28T07:07:32.355Z"
   },
   {
    "duration": 17,
    "start_time": "2023-05-28T07:07:32.364Z"
   },
   {
    "duration": 123,
    "start_time": "2023-05-28T07:07:32.382Z"
   },
   {
    "duration": 8,
    "start_time": "2023-05-28T07:07:32.507Z"
   },
   {
    "duration": 35,
    "start_time": "2023-05-28T07:07:32.524Z"
   },
   {
    "duration": 17,
    "start_time": "2023-05-28T07:07:32.560Z"
   },
   {
    "duration": 7,
    "start_time": "2023-05-28T07:07:32.579Z"
   },
   {
    "duration": 42,
    "start_time": "2023-05-28T07:07:32.587Z"
   },
   {
    "duration": 8,
    "start_time": "2023-05-28T07:07:32.641Z"
   },
   {
    "duration": 8,
    "start_time": "2023-05-28T07:07:32.650Z"
   },
   {
    "duration": 10,
    "start_time": "2023-05-28T07:07:32.660Z"
   },
   {
    "duration": 8965,
    "start_time": "2023-05-28T07:07:32.671Z"
   },
   {
    "duration": 23,
    "start_time": "2023-05-28T07:07:41.639Z"
   },
   {
    "duration": 31,
    "start_time": "2023-05-28T07:07:41.664Z"
   },
   {
    "duration": 34,
    "start_time": "2023-05-28T07:07:41.699Z"
   },
   {
    "duration": 41,
    "start_time": "2023-05-28T07:07:41.735Z"
   },
   {
    "duration": 33,
    "start_time": "2023-05-28T07:07:41.777Z"
   },
   {
    "duration": 42,
    "start_time": "2023-05-28T07:07:41.811Z"
   },
   {
    "duration": 33,
    "start_time": "2023-05-28T07:07:41.855Z"
   },
   {
    "duration": 14,
    "start_time": "2023-05-28T07:07:41.890Z"
   },
   {
    "duration": 40,
    "start_time": "2023-05-28T07:07:41.906Z"
   },
   {
    "duration": 10,
    "start_time": "2023-05-28T07:07:41.947Z"
   },
   {
    "duration": 41,
    "start_time": "2023-05-28T07:07:41.959Z"
   },
   {
    "duration": 32,
    "start_time": "2023-05-28T07:07:42.002Z"
   },
   {
    "duration": 49,
    "start_time": "2023-05-28T07:07:42.036Z"
   },
   {
    "duration": 3,
    "start_time": "2023-05-28T07:07:42.087Z"
   },
   {
    "duration": 23,
    "start_time": "2023-05-28T07:07:42.091Z"
   },
   {
    "duration": 77,
    "start_time": "2023-05-28T07:07:42.115Z"
   },
   {
    "duration": 9,
    "start_time": "2023-05-28T07:07:42.194Z"
   },
   {
    "duration": 41,
    "start_time": "2023-05-28T07:07:42.205Z"
   },
   {
    "duration": 31,
    "start_time": "2023-05-28T07:07:42.247Z"
   },
   {
    "duration": 35,
    "start_time": "2023-05-28T07:07:42.279Z"
   },
   {
    "duration": 42,
    "start_time": "2023-05-28T07:07:42.315Z"
   },
   {
    "duration": 32,
    "start_time": "2023-05-28T07:07:42.358Z"
   },
   {
    "duration": 18,
    "start_time": "2023-05-28T07:07:42.392Z"
   },
   {
    "duration": 28,
    "start_time": "2023-05-28T07:07:42.412Z"
   },
   {
    "duration": 14,
    "start_time": "2023-05-28T07:07:42.441Z"
   },
   {
    "duration": 43,
    "start_time": "2023-05-28T07:07:42.456Z"
   },
   {
    "duration": 57,
    "start_time": "2023-05-28T07:07:42.500Z"
   },
   {
    "duration": 28,
    "start_time": "2023-05-28T07:07:42.559Z"
   },
   {
    "duration": 31,
    "start_time": "2023-05-28T07:07:42.589Z"
   },
   {
    "duration": 46,
    "start_time": "2023-05-28T07:07:42.622Z"
   },
   {
    "duration": 30,
    "start_time": "2023-05-28T07:07:42.670Z"
   },
   {
    "duration": 21,
    "start_time": "2023-05-28T07:07:42.702Z"
   },
   {
    "duration": 35,
    "start_time": "2023-05-28T07:07:42.724Z"
   },
   {
    "duration": 60,
    "start_time": "2023-05-28T07:07:42.761Z"
   },
   {
    "duration": 17,
    "start_time": "2023-05-28T07:07:42.822Z"
   },
   {
    "duration": 54,
    "start_time": "2023-05-28T07:07:42.841Z"
   },
   {
    "duration": 13,
    "start_time": "2023-05-28T07:07:42.896Z"
   },
   {
    "duration": 92,
    "start_time": "2023-05-28T07:07:42.911Z"
   },
   {
    "duration": 6,
    "start_time": "2023-05-28T07:07:43.005Z"
   },
   {
    "duration": 29,
    "start_time": "2023-05-28T07:07:43.013Z"
   },
   {
    "duration": 118,
    "start_time": "2023-05-28T07:07:43.044Z"
   },
   {
    "duration": 4,
    "start_time": "2023-05-28T07:07:43.164Z"
   },
   {
    "duration": 39,
    "start_time": "2023-05-28T07:07:43.169Z"
   },
   {
    "duration": 42,
    "start_time": "2023-05-28T07:07:43.210Z"
   },
   {
    "duration": 159,
    "start_time": "2023-05-28T07:07:43.253Z"
   },
   {
    "duration": 15,
    "start_time": "2023-05-28T07:07:43.413Z"
   },
   {
    "duration": 289,
    "start_time": "2023-05-28T07:07:43.430Z"
   },
   {
    "duration": 20,
    "start_time": "2023-05-28T07:07:43.724Z"
   },
   {
    "duration": 1493,
    "start_time": "2023-05-28T07:07:43.746Z"
   },
   {
    "duration": 4,
    "start_time": "2023-05-28T07:13:35.180Z"
   },
   {
    "duration": 8,
    "start_time": "2023-05-28T07:13:37.492Z"
   },
   {
    "duration": 8,
    "start_time": "2023-05-28T07:15:34.772Z"
   },
   {
    "duration": 1212,
    "start_time": "2023-05-28T07:15:43.731Z"
   },
   {
    "duration": 163,
    "start_time": "2023-05-28T07:15:44.945Z"
   },
   {
    "duration": 30,
    "start_time": "2023-05-28T07:15:45.110Z"
   },
   {
    "duration": 30,
    "start_time": "2023-05-28T07:15:45.142Z"
   },
   {
    "duration": 6,
    "start_time": "2023-05-28T07:15:45.173Z"
   },
   {
    "duration": 23,
    "start_time": "2023-05-28T07:15:45.180Z"
   },
   {
    "duration": 58,
    "start_time": "2023-05-28T07:15:45.204Z"
   },
   {
    "duration": 41,
    "start_time": "2023-05-28T07:15:45.265Z"
   },
   {
    "duration": 122,
    "start_time": "2023-05-28T07:15:45.307Z"
   },
   {
    "duration": 109,
    "start_time": "2023-05-28T07:15:45.434Z"
   },
   {
    "duration": 60,
    "start_time": "2023-05-28T07:15:45.545Z"
   },
   {
    "duration": 37,
    "start_time": "2023-05-28T07:15:45.606Z"
   },
   {
    "duration": 45,
    "start_time": "2023-05-28T07:15:45.645Z"
   },
   {
    "duration": 18,
    "start_time": "2023-05-28T07:15:45.692Z"
   },
   {
    "duration": 33,
    "start_time": "2023-05-28T07:15:45.711Z"
   },
   {
    "duration": 165,
    "start_time": "2023-05-28T07:15:45.745Z"
   },
   {
    "duration": 16,
    "start_time": "2023-05-28T07:15:45.913Z"
   },
   {
    "duration": 74,
    "start_time": "2023-05-28T07:15:45.931Z"
   },
   {
    "duration": 65,
    "start_time": "2023-05-28T07:15:46.009Z"
   },
   {
    "duration": 37,
    "start_time": "2023-05-28T07:15:46.078Z"
   },
   {
    "duration": 50,
    "start_time": "2023-05-28T07:15:46.117Z"
   },
   {
    "duration": 26,
    "start_time": "2023-05-28T07:15:46.168Z"
   },
   {
    "duration": 28,
    "start_time": "2023-05-28T07:15:46.195Z"
   },
   {
    "duration": 32,
    "start_time": "2023-05-28T07:15:46.226Z"
   },
   {
    "duration": 9989,
    "start_time": "2023-05-28T07:15:46.260Z"
   },
   {
    "duration": 16,
    "start_time": "2023-05-28T07:15:56.251Z"
   },
   {
    "duration": 20,
    "start_time": "2023-05-28T07:15:56.269Z"
   },
   {
    "duration": 10,
    "start_time": "2023-05-28T07:15:56.293Z"
   },
   {
    "duration": 35,
    "start_time": "2023-05-28T07:15:56.305Z"
   },
   {
    "duration": 23,
    "start_time": "2023-05-28T07:15:56.341Z"
   },
   {
    "duration": 33,
    "start_time": "2023-05-28T07:15:56.366Z"
   },
   {
    "duration": 30,
    "start_time": "2023-05-28T07:15:56.401Z"
   },
   {
    "duration": 41,
    "start_time": "2023-05-28T07:15:56.433Z"
   },
   {
    "duration": 39,
    "start_time": "2023-05-28T07:15:56.476Z"
   },
   {
    "duration": 35,
    "start_time": "2023-05-28T07:15:56.516Z"
   },
   {
    "duration": 39,
    "start_time": "2023-05-28T07:15:56.552Z"
   },
   {
    "duration": 50,
    "start_time": "2023-05-28T07:15:56.592Z"
   },
   {
    "duration": 45,
    "start_time": "2023-05-28T07:15:56.645Z"
   },
   {
    "duration": 6,
    "start_time": "2023-05-28T07:15:56.691Z"
   },
   {
    "duration": 39,
    "start_time": "2023-05-28T07:15:56.698Z"
   },
   {
    "duration": 68,
    "start_time": "2023-05-28T07:15:56.739Z"
   },
   {
    "duration": 8,
    "start_time": "2023-05-28T07:15:56.809Z"
   },
   {
    "duration": 36,
    "start_time": "2023-05-28T07:15:56.819Z"
   },
   {
    "duration": 14,
    "start_time": "2023-05-28T07:15:56.857Z"
   },
   {
    "duration": 27,
    "start_time": "2023-05-28T07:15:56.873Z"
   },
   {
    "duration": 55,
    "start_time": "2023-05-28T07:15:56.902Z"
   },
   {
    "duration": 40,
    "start_time": "2023-05-28T07:15:56.959Z"
   },
   {
    "duration": 31,
    "start_time": "2023-05-28T07:15:57.001Z"
   },
   {
    "duration": 29,
    "start_time": "2023-05-28T07:15:57.037Z"
   },
   {
    "duration": 21,
    "start_time": "2023-05-28T07:15:57.068Z"
   },
   {
    "duration": 22,
    "start_time": "2023-05-28T07:15:57.091Z"
   },
   {
    "duration": 45,
    "start_time": "2023-05-28T07:15:57.114Z"
   },
   {
    "duration": 39,
    "start_time": "2023-05-28T07:15:57.161Z"
   },
   {
    "duration": 29,
    "start_time": "2023-05-28T07:15:57.201Z"
   },
   {
    "duration": 15,
    "start_time": "2023-05-28T07:15:57.236Z"
   },
   {
    "duration": 48,
    "start_time": "2023-05-28T07:15:57.252Z"
   },
   {
    "duration": 30,
    "start_time": "2023-05-28T07:15:57.301Z"
   },
   {
    "duration": 34,
    "start_time": "2023-05-28T07:15:57.340Z"
   },
   {
    "duration": 21,
    "start_time": "2023-05-28T07:15:57.375Z"
   },
   {
    "duration": 52,
    "start_time": "2023-05-28T07:15:57.398Z"
   },
   {
    "duration": 13,
    "start_time": "2023-05-28T07:15:57.452Z"
   },
   {
    "duration": 37,
    "start_time": "2023-05-28T07:15:57.467Z"
   },
   {
    "duration": 25,
    "start_time": "2023-05-28T07:15:57.506Z"
   },
   {
    "duration": 88,
    "start_time": "2023-05-28T07:15:57.532Z"
   },
   {
    "duration": 11,
    "start_time": "2023-05-28T07:15:57.622Z"
   },
   {
    "duration": 43,
    "start_time": "2023-05-28T07:15:57.634Z"
   },
   {
    "duration": 116,
    "start_time": "2023-05-28T07:15:57.679Z"
   },
   {
    "duration": 3,
    "start_time": "2023-05-28T07:15:57.797Z"
   },
   {
    "duration": 46,
    "start_time": "2023-05-28T07:15:57.802Z"
   },
   {
    "duration": 15,
    "start_time": "2023-05-28T07:15:57.850Z"
   },
   {
    "duration": 149,
    "start_time": "2023-05-28T07:15:57.867Z"
   },
   {
    "duration": 18,
    "start_time": "2023-05-28T07:15:58.017Z"
   },
   {
    "duration": 622,
    "start_time": "2023-05-28T07:15:58.040Z"
   },
   {
    "duration": 4,
    "start_time": "2023-05-28T07:15:58.663Z"
   },
   {
    "duration": 1840,
    "start_time": "2023-05-28T07:15:58.668Z"
   },
   {
    "duration": 5,
    "start_time": "2023-05-28T07:16:47.155Z"
   },
   {
    "duration": 8,
    "start_time": "2023-05-28T07:16:49.244Z"
   },
   {
    "duration": 1248,
    "start_time": "2023-05-28T07:19:45.691Z"
   },
   {
    "duration": 212,
    "start_time": "2023-05-28T07:19:46.948Z"
   },
   {
    "duration": 12,
    "start_time": "2023-05-28T07:19:47.162Z"
   },
   {
    "duration": 20,
    "start_time": "2023-05-28T07:19:47.176Z"
   },
   {
    "duration": 3,
    "start_time": "2023-05-28T07:19:47.198Z"
   },
   {
    "duration": 32,
    "start_time": "2023-05-28T07:19:47.203Z"
   },
   {
    "duration": 53,
    "start_time": "2023-05-28T07:19:47.237Z"
   },
   {
    "duration": 36,
    "start_time": "2023-05-28T07:19:47.293Z"
   },
   {
    "duration": 132,
    "start_time": "2023-05-28T07:19:47.331Z"
   },
   {
    "duration": 126,
    "start_time": "2023-05-28T07:19:47.466Z"
   },
   {
    "duration": 85,
    "start_time": "2023-05-28T07:19:47.593Z"
   },
   {
    "duration": 18,
    "start_time": "2023-05-28T07:19:47.680Z"
   },
   {
    "duration": 33,
    "start_time": "2023-05-28T07:19:47.699Z"
   },
   {
    "duration": 35,
    "start_time": "2023-05-28T07:19:47.733Z"
   },
   {
    "duration": 15,
    "start_time": "2023-05-28T07:19:47.770Z"
   },
   {
    "duration": 168,
    "start_time": "2023-05-28T07:19:47.786Z"
   },
   {
    "duration": 12,
    "start_time": "2023-05-28T07:19:47.956Z"
   },
   {
    "duration": 39,
    "start_time": "2023-05-28T07:19:47.970Z"
   },
   {
    "duration": 58,
    "start_time": "2023-05-28T07:19:48.012Z"
   },
   {
    "duration": 15,
    "start_time": "2023-05-28T07:19:48.072Z"
   },
   {
    "duration": 22,
    "start_time": "2023-05-28T07:19:48.089Z"
   },
   {
    "duration": 10,
    "start_time": "2023-05-28T07:19:48.114Z"
   },
   {
    "duration": 31,
    "start_time": "2023-05-28T07:19:48.137Z"
   },
   {
    "duration": 17,
    "start_time": "2023-05-28T07:19:48.170Z"
   },
   {
    "duration": 9681,
    "start_time": "2023-05-28T07:19:48.189Z"
   },
   {
    "duration": 20,
    "start_time": "2023-05-28T07:19:57.871Z"
   },
   {
    "duration": 61,
    "start_time": "2023-05-28T07:19:57.893Z"
   },
   {
    "duration": 37,
    "start_time": "2023-05-28T07:19:57.960Z"
   },
   {
    "duration": 34,
    "start_time": "2023-05-28T07:19:57.999Z"
   },
   {
    "duration": 59,
    "start_time": "2023-05-28T07:19:58.035Z"
   },
   {
    "duration": 46,
    "start_time": "2023-05-28T07:19:58.095Z"
   },
   {
    "duration": 56,
    "start_time": "2023-05-28T07:19:58.143Z"
   },
   {
    "duration": 14,
    "start_time": "2023-05-28T07:19:58.202Z"
   },
   {
    "duration": 86,
    "start_time": "2023-05-28T07:19:58.218Z"
   },
   {
    "duration": 22,
    "start_time": "2023-05-28T07:19:58.306Z"
   },
   {
    "duration": 56,
    "start_time": "2023-05-28T07:19:58.331Z"
   },
   {
    "duration": 52,
    "start_time": "2023-05-28T07:19:58.390Z"
   },
   {
    "duration": 62,
    "start_time": "2023-05-28T07:19:58.444Z"
   },
   {
    "duration": 3,
    "start_time": "2023-05-28T07:19:58.508Z"
   },
   {
    "duration": 42,
    "start_time": "2023-05-28T07:19:58.512Z"
   },
   {
    "duration": 91,
    "start_time": "2023-05-28T07:19:58.556Z"
   },
   {
    "duration": 8,
    "start_time": "2023-05-28T07:19:58.649Z"
   },
   {
    "duration": 29,
    "start_time": "2023-05-28T07:19:58.659Z"
   },
   {
    "duration": 59,
    "start_time": "2023-05-28T07:19:58.690Z"
   },
   {
    "duration": 35,
    "start_time": "2023-05-28T07:19:58.751Z"
   },
   {
    "duration": 9,
    "start_time": "2023-05-28T07:19:58.788Z"
   },
   {
    "duration": 49,
    "start_time": "2023-05-28T07:19:58.798Z"
   },
   {
    "duration": 34,
    "start_time": "2023-05-28T07:19:58.849Z"
   },
   {
    "duration": 42,
    "start_time": "2023-05-28T07:19:58.885Z"
   },
   {
    "duration": 7,
    "start_time": "2023-05-28T07:19:58.929Z"
   },
   {
    "duration": 46,
    "start_time": "2023-05-28T07:19:58.937Z"
   },
   {
    "duration": 25,
    "start_time": "2023-05-28T07:19:58.985Z"
   },
   {
    "duration": 59,
    "start_time": "2023-05-28T07:19:59.012Z"
   },
   {
    "duration": 48,
    "start_time": "2023-05-28T07:19:59.073Z"
   },
   {
    "duration": 43,
    "start_time": "2023-05-28T07:19:59.122Z"
   },
   {
    "duration": 43,
    "start_time": "2023-05-28T07:19:59.167Z"
   },
   {
    "duration": 37,
    "start_time": "2023-05-28T07:19:59.212Z"
   },
   {
    "duration": 35,
    "start_time": "2023-05-28T07:19:59.251Z"
   },
   {
    "duration": 6,
    "start_time": "2023-05-28T07:19:59.288Z"
   },
   {
    "duration": 61,
    "start_time": "2023-05-28T07:19:59.296Z"
   },
   {
    "duration": 4,
    "start_time": "2023-05-28T07:19:59.359Z"
   },
   {
    "duration": 46,
    "start_time": "2023-05-28T07:19:59.364Z"
   },
   {
    "duration": 23,
    "start_time": "2023-05-28T07:19:59.412Z"
   },
   {
    "duration": 68,
    "start_time": "2023-05-28T07:19:59.438Z"
   },
   {
    "duration": 8,
    "start_time": "2023-05-28T07:19:59.508Z"
   },
   {
    "duration": 54,
    "start_time": "2023-05-28T07:19:59.518Z"
   },
   {
    "duration": 129,
    "start_time": "2023-05-28T07:19:59.574Z"
   },
   {
    "duration": 4,
    "start_time": "2023-05-28T07:19:59.704Z"
   },
   {
    "duration": 45,
    "start_time": "2023-05-28T07:19:59.710Z"
   },
   {
    "duration": 19,
    "start_time": "2023-05-28T07:19:59.756Z"
   },
   {
    "duration": 176,
    "start_time": "2023-05-28T07:19:59.777Z"
   },
   {
    "duration": 9,
    "start_time": "2023-05-28T07:19:59.955Z"
   },
   {
    "duration": 304,
    "start_time": "2023-05-28T07:19:59.967Z"
   },
   {
    "duration": 6,
    "start_time": "2023-05-28T07:20:00.273Z"
   },
   {
    "duration": 2093,
    "start_time": "2023-05-28T07:20:00.281Z"
   },
   {
    "duration": 41,
    "start_time": "2023-05-28T07:29:55.801Z"
   },
   {
    "duration": 88,
    "start_time": "2023-05-28T07:30:26.854Z"
   },
   {
    "duration": 35,
    "start_time": "2023-05-28T07:38:51.508Z"
   },
   {
    "duration": 7,
    "start_time": "2023-05-28T07:39:25.087Z"
   },
   {
    "duration": 7,
    "start_time": "2023-05-28T07:39:31.964Z"
   },
   {
    "duration": 6,
    "start_time": "2023-05-28T07:42:34.246Z"
   },
   {
    "duration": 8,
    "start_time": "2023-05-28T07:42:34.790Z"
   },
   {
    "duration": 11,
    "start_time": "2023-05-28T07:43:21.583Z"
   },
   {
    "duration": 11,
    "start_time": "2023-05-28T07:43:41.950Z"
   },
   {
    "duration": 4,
    "start_time": "2023-05-28T07:43:54.894Z"
   },
   {
    "duration": 3,
    "start_time": "2023-05-28T07:44:01.183Z"
   },
   {
    "duration": 3,
    "start_time": "2023-05-28T07:44:06.142Z"
   },
   {
    "duration": 3,
    "start_time": "2023-05-28T07:44:21.415Z"
   },
   {
    "duration": 6,
    "start_time": "2023-05-28T07:44:46.216Z"
   },
   {
    "duration": 11,
    "start_time": "2023-05-28T07:44:46.838Z"
   },
   {
    "duration": 4,
    "start_time": "2023-05-28T07:45:42.177Z"
   },
   {
    "duration": 8,
    "start_time": "2023-05-28T07:45:48.472Z"
   },
   {
    "duration": 13,
    "start_time": "2023-05-28T07:46:24.785Z"
   },
   {
    "duration": 4,
    "start_time": "2023-05-28T07:46:35.440Z"
   },
   {
    "duration": 7,
    "start_time": "2023-05-28T07:46:40.989Z"
   },
   {
    "duration": 6,
    "start_time": "2023-05-28T07:47:00.796Z"
   },
   {
    "duration": 5,
    "start_time": "2023-05-28T07:47:10.886Z"
   },
   {
    "duration": 7,
    "start_time": "2023-05-28T07:47:17.490Z"
   },
   {
    "duration": 1211,
    "start_time": "2023-05-28T07:48:21.092Z"
   },
   {
    "duration": 200,
    "start_time": "2023-05-28T07:48:22.305Z"
   },
   {
    "duration": 25,
    "start_time": "2023-05-28T07:48:22.507Z"
   },
   {
    "duration": 32,
    "start_time": "2023-05-28T07:48:22.534Z"
   },
   {
    "duration": 3,
    "start_time": "2023-05-28T07:48:22.567Z"
   },
   {
    "duration": 13,
    "start_time": "2023-05-28T07:48:22.572Z"
   },
   {
    "duration": 56,
    "start_time": "2023-05-28T07:48:22.586Z"
   },
   {
    "duration": 35,
    "start_time": "2023-05-28T07:48:22.643Z"
   },
   {
    "duration": 95,
    "start_time": "2023-05-28T07:48:22.680Z"
   },
   {
    "duration": 127,
    "start_time": "2023-05-28T07:48:22.778Z"
   },
   {
    "duration": 86,
    "start_time": "2023-05-28T07:48:22.907Z"
   },
   {
    "duration": 46,
    "start_time": "2023-05-28T07:48:22.994Z"
   },
   {
    "duration": 17,
    "start_time": "2023-05-28T07:48:23.043Z"
   },
   {
    "duration": 23,
    "start_time": "2023-05-28T07:48:23.062Z"
   },
   {
    "duration": 17,
    "start_time": "2023-05-28T07:48:23.087Z"
   },
   {
    "duration": 161,
    "start_time": "2023-05-28T07:48:23.107Z"
   },
   {
    "duration": 11,
    "start_time": "2023-05-28T07:48:23.270Z"
   },
   {
    "duration": 53,
    "start_time": "2023-05-28T07:48:23.283Z"
   },
   {
    "duration": 20,
    "start_time": "2023-05-28T07:48:23.341Z"
   },
   {
    "duration": 23,
    "start_time": "2023-05-28T07:48:23.363Z"
   },
   {
    "duration": 35,
    "start_time": "2023-05-28T07:48:23.387Z"
   },
   {
    "duration": 18,
    "start_time": "2023-05-28T07:48:23.424Z"
   },
   {
    "duration": 48,
    "start_time": "2023-05-28T07:48:23.443Z"
   },
   {
    "duration": 33,
    "start_time": "2023-05-28T07:48:23.493Z"
   },
   {
    "duration": 9445,
    "start_time": "2023-05-28T07:48:23.537Z"
   },
   {
    "duration": 18,
    "start_time": "2023-05-28T07:48:32.984Z"
   },
   {
    "duration": 12,
    "start_time": "2023-05-28T07:48:33.004Z"
   },
   {
    "duration": 11,
    "start_time": "2023-05-28T07:48:33.026Z"
   },
   {
    "duration": 16,
    "start_time": "2023-05-28T07:48:33.040Z"
   },
   {
    "duration": 20,
    "start_time": "2023-05-28T07:48:33.058Z"
   },
   {
    "duration": 21,
    "start_time": "2023-05-28T07:48:33.079Z"
   },
   {
    "duration": 31,
    "start_time": "2023-05-28T07:48:33.102Z"
   },
   {
    "duration": 24,
    "start_time": "2023-05-28T07:48:33.135Z"
   },
   {
    "duration": 40,
    "start_time": "2023-05-28T07:48:33.161Z"
   },
   {
    "duration": 16,
    "start_time": "2023-05-28T07:48:33.203Z"
   },
   {
    "duration": 53,
    "start_time": "2023-05-28T07:48:33.221Z"
   },
   {
    "duration": 6,
    "start_time": "2023-05-28T07:48:33.277Z"
   },
   {
    "duration": 60,
    "start_time": "2023-05-28T07:48:33.285Z"
   },
   {
    "duration": 7,
    "start_time": "2023-05-28T07:48:33.347Z"
   },
   {
    "duration": 21,
    "start_time": "2023-05-28T07:48:33.356Z"
   },
   {
    "duration": 91,
    "start_time": "2023-05-28T07:48:33.379Z"
   },
   {
    "duration": 10,
    "start_time": "2023-05-28T07:48:33.472Z"
   },
   {
    "duration": 14,
    "start_time": "2023-05-28T07:48:33.484Z"
   },
   {
    "duration": 8,
    "start_time": "2023-05-28T07:48:33.500Z"
   },
   {
    "duration": 27,
    "start_time": "2023-05-28T07:48:33.510Z"
   },
   {
    "duration": 35,
    "start_time": "2023-05-28T07:48:33.539Z"
   },
   {
    "duration": 52,
    "start_time": "2023-05-28T07:48:33.576Z"
   },
   {
    "duration": 38,
    "start_time": "2023-05-28T07:48:33.629Z"
   },
   {
    "duration": 26,
    "start_time": "2023-05-28T07:48:33.669Z"
   },
   {
    "duration": 17,
    "start_time": "2023-05-28T07:48:33.696Z"
   },
   {
    "duration": 48,
    "start_time": "2023-05-28T07:48:33.715Z"
   },
   {
    "duration": 16,
    "start_time": "2023-05-28T07:48:33.765Z"
   },
   {
    "duration": 35,
    "start_time": "2023-05-28T07:48:33.783Z"
   },
   {
    "duration": 31,
    "start_time": "2023-05-28T07:48:33.820Z"
   },
   {
    "duration": 12,
    "start_time": "2023-05-28T07:48:33.853Z"
   },
   {
    "duration": 28,
    "start_time": "2023-05-28T07:48:33.867Z"
   },
   {
    "duration": 21,
    "start_time": "2023-05-28T07:48:33.897Z"
   },
   {
    "duration": 39,
    "start_time": "2023-05-28T07:48:33.920Z"
   },
   {
    "duration": 34,
    "start_time": "2023-05-28T07:48:33.961Z"
   },
   {
    "duration": 45,
    "start_time": "2023-05-28T07:48:33.997Z"
   },
   {
    "duration": 7,
    "start_time": "2023-05-28T07:48:34.043Z"
   },
   {
    "duration": 33,
    "start_time": "2023-05-28T07:48:34.052Z"
   },
   {
    "duration": 4,
    "start_time": "2023-05-28T07:48:34.087Z"
   },
   {
    "duration": 75,
    "start_time": "2023-05-28T07:48:34.093Z"
   },
   {
    "duration": 7,
    "start_time": "2023-05-28T07:48:34.169Z"
   },
   {
    "duration": 9,
    "start_time": "2023-05-28T07:48:34.178Z"
   },
   {
    "duration": 117,
    "start_time": "2023-05-28T07:48:34.189Z"
   },
   {
    "duration": 4,
    "start_time": "2023-05-28T07:48:34.308Z"
   },
   {
    "duration": 31,
    "start_time": "2023-05-28T07:48:34.313Z"
   },
   {
    "duration": 10,
    "start_time": "2023-05-28T07:48:34.346Z"
   },
   {
    "duration": 143,
    "start_time": "2023-05-28T07:48:34.358Z"
   },
   {
    "duration": 7,
    "start_time": "2023-05-28T07:48:34.503Z"
   },
   {
    "duration": 18,
    "start_time": "2023-05-28T07:48:34.512Z"
   },
   {
    "duration": 21,
    "start_time": "2023-05-28T07:48:34.536Z"
   },
   {
    "duration": 27,
    "start_time": "2023-05-28T07:48:34.559Z"
   },
   {
    "duration": 13,
    "start_time": "2023-05-28T07:48:34.588Z"
   },
   {
    "duration": 10,
    "start_time": "2023-05-28T07:48:34.603Z"
   },
   {
    "duration": 42,
    "start_time": "2023-05-28T07:48:34.615Z"
   },
   {
    "duration": 15,
    "start_time": "2023-05-28T07:48:34.659Z"
   },
   {
    "duration": 23,
    "start_time": "2023-05-28T07:48:34.676Z"
   },
   {
    "duration": 14,
    "start_time": "2023-05-28T07:48:34.701Z"
   },
   {
    "duration": 100,
    "start_time": "2023-05-28T07:56:43.950Z"
   },
   {
    "duration": 1189,
    "start_time": "2023-05-28T07:56:52.527Z"
   },
   {
    "duration": 174,
    "start_time": "2023-05-28T07:56:53.718Z"
   },
   {
    "duration": 11,
    "start_time": "2023-05-28T07:56:53.893Z"
   },
   {
    "duration": 35,
    "start_time": "2023-05-28T07:56:53.906Z"
   },
   {
    "duration": 3,
    "start_time": "2023-05-28T07:56:53.942Z"
   },
   {
    "duration": 13,
    "start_time": "2023-05-28T07:56:53.946Z"
   },
   {
    "duration": 28,
    "start_time": "2023-05-28T07:56:53.960Z"
   },
   {
    "duration": 48,
    "start_time": "2023-05-28T07:56:53.990Z"
   },
   {
    "duration": 80,
    "start_time": "2023-05-28T07:56:54.040Z"
   },
   {
    "duration": 110,
    "start_time": "2023-05-28T07:56:54.122Z"
   },
   {
    "duration": 61,
    "start_time": "2023-05-28T07:56:54.236Z"
   },
   {
    "duration": 17,
    "start_time": "2023-05-28T07:56:54.299Z"
   },
   {
    "duration": 28,
    "start_time": "2023-05-28T07:56:54.318Z"
   },
   {
    "duration": 7,
    "start_time": "2023-05-28T07:56:54.348Z"
   },
   {
    "duration": 9,
    "start_time": "2023-05-28T07:56:54.357Z"
   },
   {
    "duration": 121,
    "start_time": "2023-05-28T07:56:54.368Z"
   },
   {
    "duration": 9,
    "start_time": "2023-05-28T07:56:54.490Z"
   },
   {
    "duration": 47,
    "start_time": "2023-05-28T07:56:54.501Z"
   },
   {
    "duration": 18,
    "start_time": "2023-05-28T07:56:54.550Z"
   },
   {
    "duration": 8,
    "start_time": "2023-05-28T07:56:54.569Z"
   },
   {
    "duration": 19,
    "start_time": "2023-05-28T07:56:54.578Z"
   },
   {
    "duration": 29,
    "start_time": "2023-05-28T07:56:54.598Z"
   },
   {
    "duration": 19,
    "start_time": "2023-05-28T07:56:54.630Z"
   },
   {
    "duration": 9,
    "start_time": "2023-05-28T07:56:54.651Z"
   },
   {
    "duration": 9559,
    "start_time": "2023-05-28T07:56:54.662Z"
   },
   {
    "duration": 25,
    "start_time": "2023-05-28T07:57:04.223Z"
   },
   {
    "duration": 22,
    "start_time": "2023-05-28T07:57:04.250Z"
   },
   {
    "duration": 19,
    "start_time": "2023-05-28T07:57:04.276Z"
   },
   {
    "duration": 25,
    "start_time": "2023-05-28T07:57:04.296Z"
   },
   {
    "duration": 31,
    "start_time": "2023-05-28T07:57:04.322Z"
   },
   {
    "duration": 23,
    "start_time": "2023-05-28T07:57:04.354Z"
   },
   {
    "duration": 30,
    "start_time": "2023-05-28T07:57:04.379Z"
   },
   {
    "duration": 10,
    "start_time": "2023-05-28T07:57:04.411Z"
   },
   {
    "duration": 33,
    "start_time": "2023-05-28T07:57:04.422Z"
   },
   {
    "duration": 13,
    "start_time": "2023-05-28T07:57:04.457Z"
   },
   {
    "duration": 34,
    "start_time": "2023-05-28T07:57:04.472Z"
   },
   {
    "duration": 36,
    "start_time": "2023-05-28T07:57:04.508Z"
   },
   {
    "duration": 49,
    "start_time": "2023-05-28T07:57:04.545Z"
   },
   {
    "duration": 3,
    "start_time": "2023-05-28T07:57:04.596Z"
   },
   {
    "duration": 22,
    "start_time": "2023-05-28T07:57:04.601Z"
   },
   {
    "duration": 132,
    "start_time": "2023-05-28T07:57:04.627Z"
   },
   {
    "duration": 8,
    "start_time": "2023-05-28T07:57:04.761Z"
   },
   {
    "duration": 24,
    "start_time": "2023-05-28T07:57:04.771Z"
   },
   {
    "duration": 27,
    "start_time": "2023-05-28T07:57:04.796Z"
   },
   {
    "duration": 25,
    "start_time": "2023-05-28T07:57:04.833Z"
   },
   {
    "duration": 26,
    "start_time": "2023-05-28T07:57:04.860Z"
   },
   {
    "duration": 17,
    "start_time": "2023-05-28T07:57:04.888Z"
   },
   {
    "duration": 44,
    "start_time": "2023-05-28T07:57:04.907Z"
   },
   {
    "duration": 27,
    "start_time": "2023-05-28T07:57:04.953Z"
   },
   {
    "duration": 16,
    "start_time": "2023-05-28T07:57:04.982Z"
   },
   {
    "duration": 49,
    "start_time": "2023-05-28T07:57:05.001Z"
   },
   {
    "duration": 24,
    "start_time": "2023-05-28T07:57:05.052Z"
   },
   {
    "duration": 33,
    "start_time": "2023-05-28T07:57:05.078Z"
   },
   {
    "duration": 36,
    "start_time": "2023-05-28T07:57:05.113Z"
   },
   {
    "duration": 17,
    "start_time": "2023-05-28T07:57:05.152Z"
   },
   {
    "duration": 27,
    "start_time": "2023-05-28T07:57:05.171Z"
   },
   {
    "duration": 15,
    "start_time": "2023-05-28T07:57:05.200Z"
   },
   {
    "duration": 29,
    "start_time": "2023-05-28T07:57:05.216Z"
   },
   {
    "duration": 9,
    "start_time": "2023-05-28T07:57:05.247Z"
   },
   {
    "duration": 45,
    "start_time": "2023-05-28T07:57:05.258Z"
   },
   {
    "duration": 4,
    "start_time": "2023-05-28T07:57:05.305Z"
   },
   {
    "duration": 40,
    "start_time": "2023-05-28T07:57:05.310Z"
   },
   {
    "duration": 5,
    "start_time": "2023-05-28T07:57:05.352Z"
   },
   {
    "duration": 86,
    "start_time": "2023-05-28T07:57:05.359Z"
   },
   {
    "duration": 6,
    "start_time": "2023-05-28T07:57:05.447Z"
   },
   {
    "duration": 27,
    "start_time": "2023-05-28T07:57:05.455Z"
   },
   {
    "duration": 124,
    "start_time": "2023-05-28T07:57:05.484Z"
   },
   {
    "duration": 3,
    "start_time": "2023-05-28T07:57:05.610Z"
   },
   {
    "duration": 42,
    "start_time": "2023-05-28T07:57:05.614Z"
   },
   {
    "duration": 20,
    "start_time": "2023-05-28T07:57:05.658Z"
   },
   {
    "duration": 159,
    "start_time": "2023-05-28T07:57:05.680Z"
   },
   {
    "duration": 8,
    "start_time": "2023-05-28T07:57:05.840Z"
   },
   {
    "duration": 12,
    "start_time": "2023-05-28T07:57:05.850Z"
   },
   {
    "duration": 13,
    "start_time": "2023-05-28T07:57:05.864Z"
   },
   {
    "duration": 11,
    "start_time": "2023-05-28T07:57:05.879Z"
   },
   {
    "duration": 9,
    "start_time": "2023-05-28T07:57:05.891Z"
   },
   {
    "duration": 12,
    "start_time": "2023-05-28T07:57:05.902Z"
   },
   {
    "duration": 13,
    "start_time": "2023-05-28T07:57:05.915Z"
   },
   {
    "duration": 11,
    "start_time": "2023-05-28T07:57:05.929Z"
   },
   {
    "duration": 21,
    "start_time": "2023-05-28T07:57:05.942Z"
   },
   {
    "duration": 16,
    "start_time": "2023-05-28T07:57:05.965Z"
   },
   {
    "duration": 20,
    "start_time": "2023-05-28T07:57:05.987Z"
   },
   {
    "duration": 6,
    "start_time": "2023-05-28T07:57:14.764Z"
   },
   {
    "duration": 117,
    "start_time": "2023-05-28T07:59:45.248Z"
   },
   {
    "duration": 4,
    "start_time": "2023-05-28T08:00:25.688Z"
   },
   {
    "duration": 6,
    "start_time": "2023-05-28T08:11:18.254Z"
   },
   {
    "duration": 12,
    "start_time": "2023-05-28T08:11:23.416Z"
   },
   {
    "duration": 1195,
    "start_time": "2023-05-28T08:11:57.090Z"
   },
   {
    "duration": 181,
    "start_time": "2023-05-28T08:11:58.287Z"
   },
   {
    "duration": 11,
    "start_time": "2023-05-28T08:11:58.470Z"
   },
   {
    "duration": 42,
    "start_time": "2023-05-28T08:11:58.482Z"
   },
   {
    "duration": 6,
    "start_time": "2023-05-28T08:11:58.532Z"
   },
   {
    "duration": 14,
    "start_time": "2023-05-28T08:11:58.541Z"
   },
   {
    "duration": 43,
    "start_time": "2023-05-28T08:11:58.557Z"
   },
   {
    "duration": 39,
    "start_time": "2023-05-28T08:11:58.601Z"
   },
   {
    "duration": 80,
    "start_time": "2023-05-28T08:11:58.642Z"
   },
   {
    "duration": 116,
    "start_time": "2023-05-28T08:11:58.726Z"
   },
   {
    "duration": 64,
    "start_time": "2023-05-28T08:11:58.844Z"
   },
   {
    "duration": 36,
    "start_time": "2023-05-28T08:11:58.910Z"
   },
   {
    "duration": 16,
    "start_time": "2023-05-28T08:11:58.948Z"
   },
   {
    "duration": 21,
    "start_time": "2023-05-28T08:11:58.967Z"
   },
   {
    "duration": 9,
    "start_time": "2023-05-28T08:11:58.990Z"
   },
   {
    "duration": 131,
    "start_time": "2023-05-28T08:11:59.001Z"
   },
   {
    "duration": 15,
    "start_time": "2023-05-28T08:11:59.133Z"
   },
   {
    "duration": 42,
    "start_time": "2023-05-28T08:11:59.150Z"
   },
   {
    "duration": 28,
    "start_time": "2023-05-28T08:11:59.193Z"
   },
   {
    "duration": 19,
    "start_time": "2023-05-28T08:11:59.222Z"
   },
   {
    "duration": 43,
    "start_time": "2023-05-28T08:11:59.243Z"
   },
   {
    "duration": 8,
    "start_time": "2023-05-28T08:11:59.287Z"
   },
   {
    "duration": 22,
    "start_time": "2023-05-28T08:11:59.297Z"
   },
   {
    "duration": 28,
    "start_time": "2023-05-28T08:11:59.320Z"
   },
   {
    "duration": 9603,
    "start_time": "2023-05-28T08:11:59.350Z"
   },
   {
    "duration": 18,
    "start_time": "2023-05-28T08:12:08.955Z"
   },
   {
    "duration": 12,
    "start_time": "2023-05-28T08:12:08.975Z"
   },
   {
    "duration": 22,
    "start_time": "2023-05-28T08:12:08.989Z"
   },
   {
    "duration": 39,
    "start_time": "2023-05-28T08:12:09.013Z"
   },
   {
    "duration": 34,
    "start_time": "2023-05-28T08:12:09.053Z"
   },
   {
    "duration": 45,
    "start_time": "2023-05-28T08:12:09.089Z"
   },
   {
    "duration": 33,
    "start_time": "2023-05-28T08:12:09.141Z"
   },
   {
    "duration": 9,
    "start_time": "2023-05-28T08:12:09.176Z"
   },
   {
    "duration": 51,
    "start_time": "2023-05-28T08:12:09.187Z"
   },
   {
    "duration": 12,
    "start_time": "2023-05-28T08:12:09.241Z"
   },
   {
    "duration": 32,
    "start_time": "2023-05-28T08:12:09.255Z"
   },
   {
    "duration": 29,
    "start_time": "2023-05-28T08:12:09.289Z"
   },
   {
    "duration": 91,
    "start_time": "2023-05-28T08:12:09.320Z"
   },
   {
    "duration": 2,
    "start_time": "2023-05-28T08:12:09.413Z"
   },
   {
    "duration": 49,
    "start_time": "2023-05-28T08:12:09.417Z"
   },
   {
    "duration": 75,
    "start_time": "2023-05-28T08:12:09.470Z"
   },
   {
    "duration": 14,
    "start_time": "2023-05-28T08:12:09.547Z"
   },
   {
    "duration": 34,
    "start_time": "2023-05-28T08:12:09.563Z"
   },
   {
    "duration": 97,
    "start_time": "2023-05-28T08:12:09.599Z"
   },
   {
    "duration": 42,
    "start_time": "2023-05-28T08:12:09.698Z"
   },
   {
    "duration": 9,
    "start_time": "2023-05-28T08:12:09.742Z"
   },
   {
    "duration": 22,
    "start_time": "2023-05-28T08:12:09.752Z"
   },
   {
    "duration": 11,
    "start_time": "2023-05-28T08:12:09.775Z"
   },
   {
    "duration": 25,
    "start_time": "2023-05-28T08:12:09.787Z"
   },
   {
    "duration": 6,
    "start_time": "2023-05-28T08:12:09.813Z"
   },
   {
    "duration": 24,
    "start_time": "2023-05-28T08:12:09.821Z"
   },
   {
    "duration": 23,
    "start_time": "2023-05-28T08:12:09.847Z"
   },
   {
    "duration": 28,
    "start_time": "2023-05-28T08:12:09.873Z"
   },
   {
    "duration": 37,
    "start_time": "2023-05-28T08:12:09.903Z"
   },
   {
    "duration": 11,
    "start_time": "2023-05-28T08:12:09.942Z"
   },
   {
    "duration": 38,
    "start_time": "2023-05-28T08:12:09.954Z"
   },
   {
    "duration": 13,
    "start_time": "2023-05-28T08:12:09.994Z"
   },
   {
    "duration": 49,
    "start_time": "2023-05-28T08:12:10.009Z"
   },
   {
    "duration": 9,
    "start_time": "2023-05-28T08:12:10.060Z"
   },
   {
    "duration": 44,
    "start_time": "2023-05-28T08:12:10.071Z"
   },
   {
    "duration": 4,
    "start_time": "2023-05-28T08:12:10.117Z"
   },
   {
    "duration": 47,
    "start_time": "2023-05-28T08:12:10.122Z"
   },
   {
    "duration": 8,
    "start_time": "2023-05-28T08:12:10.171Z"
   },
   {
    "duration": 78,
    "start_time": "2023-05-28T08:12:10.180Z"
   },
   {
    "duration": 8,
    "start_time": "2023-05-28T08:12:10.259Z"
   },
   {
    "duration": 6,
    "start_time": "2023-05-28T08:12:10.269Z"
   },
   {
    "duration": 122,
    "start_time": "2023-05-28T08:12:10.277Z"
   },
   {
    "duration": 4,
    "start_time": "2023-05-28T08:12:10.400Z"
   },
   {
    "duration": 41,
    "start_time": "2023-05-28T08:12:10.406Z"
   },
   {
    "duration": 13,
    "start_time": "2023-05-28T08:12:10.448Z"
   },
   {
    "duration": 145,
    "start_time": "2023-05-28T08:12:10.463Z"
   },
   {
    "duration": 21,
    "start_time": "2023-05-28T08:12:10.610Z"
   },
   {
    "duration": 20,
    "start_time": "2023-05-28T08:12:10.632Z"
   },
   {
    "duration": 23,
    "start_time": "2023-05-28T08:12:10.654Z"
   },
   {
    "duration": 46,
    "start_time": "2023-05-28T08:12:10.679Z"
   },
   {
    "duration": 21,
    "start_time": "2023-05-28T08:12:10.728Z"
   },
   {
    "duration": 24,
    "start_time": "2023-05-28T08:12:10.751Z"
   },
   {
    "duration": 25,
    "start_time": "2023-05-28T08:12:10.777Z"
   },
   {
    "duration": 21,
    "start_time": "2023-05-28T08:12:10.804Z"
   },
   {
    "duration": 26,
    "start_time": "2023-05-28T08:12:10.831Z"
   },
   {
    "duration": 26,
    "start_time": "2023-05-28T08:12:10.859Z"
   },
   {
    "duration": 16,
    "start_time": "2023-05-28T08:12:10.887Z"
   },
   {
    "duration": 2000,
    "start_time": "2023-05-28T08:12:10.905Z"
   },
   {
    "duration": 7,
    "start_time": "2023-05-28T08:12:34.758Z"
   },
   {
    "duration": 4,
    "start_time": "2023-05-28T08:13:36.201Z"
   },
   {
    "duration": 9,
    "start_time": "2023-05-28T08:14:05.986Z"
   },
   {
    "duration": 7,
    "start_time": "2023-05-28T08:14:12.702Z"
   },
   {
    "duration": 1158,
    "start_time": "2023-05-28T08:19:01.882Z"
   },
   {
    "duration": 175,
    "start_time": "2023-05-28T08:19:03.043Z"
   },
   {
    "duration": 21,
    "start_time": "2023-05-28T08:19:03.219Z"
   },
   {
    "duration": 38,
    "start_time": "2023-05-28T08:19:03.242Z"
   },
   {
    "duration": 4,
    "start_time": "2023-05-28T08:19:03.282Z"
   },
   {
    "duration": 47,
    "start_time": "2023-05-28T08:19:03.288Z"
   },
   {
    "duration": 39,
    "start_time": "2023-05-28T08:19:03.337Z"
   },
   {
    "duration": 25,
    "start_time": "2023-05-28T08:19:03.377Z"
   },
   {
    "duration": 87,
    "start_time": "2023-05-28T08:19:03.404Z"
   },
   {
    "duration": 110,
    "start_time": "2023-05-28T08:19:03.494Z"
   },
   {
    "duration": 69,
    "start_time": "2023-05-28T08:19:03.605Z"
   },
   {
    "duration": 19,
    "start_time": "2023-05-28T08:19:03.676Z"
   },
   {
    "duration": 59,
    "start_time": "2023-05-28T08:19:03.696Z"
   },
   {
    "duration": 24,
    "start_time": "2023-05-28T08:19:03.756Z"
   },
   {
    "duration": 24,
    "start_time": "2023-05-28T08:19:03.782Z"
   },
   {
    "duration": 143,
    "start_time": "2023-05-28T08:19:03.807Z"
   },
   {
    "duration": 9,
    "start_time": "2023-05-28T08:19:03.952Z"
   },
   {
    "duration": 55,
    "start_time": "2023-05-28T08:19:03.962Z"
   },
   {
    "duration": 56,
    "start_time": "2023-05-28T08:19:04.018Z"
   },
   {
    "duration": 25,
    "start_time": "2023-05-28T08:19:04.075Z"
   },
   {
    "duration": 99,
    "start_time": "2023-05-28T08:19:04.102Z"
   },
   {
    "duration": 51,
    "start_time": "2023-05-28T08:19:04.203Z"
   },
   {
    "duration": 33,
    "start_time": "2023-05-28T08:19:04.256Z"
   },
   {
    "duration": 25,
    "start_time": "2023-05-28T08:19:04.291Z"
   },
   {
    "duration": 9619,
    "start_time": "2023-05-28T08:19:04.318Z"
   },
   {
    "duration": 19,
    "start_time": "2023-05-28T08:19:13.942Z"
   },
   {
    "duration": 15,
    "start_time": "2023-05-28T08:19:13.963Z"
   },
   {
    "duration": 10,
    "start_time": "2023-05-28T08:19:13.983Z"
   },
   {
    "duration": 33,
    "start_time": "2023-05-28T08:19:13.995Z"
   },
   {
    "duration": 28,
    "start_time": "2023-05-28T08:19:14.036Z"
   },
   {
    "duration": 31,
    "start_time": "2023-05-28T08:19:14.066Z"
   },
   {
    "duration": 23,
    "start_time": "2023-05-28T08:19:14.100Z"
   },
   {
    "duration": 36,
    "start_time": "2023-05-28T08:19:14.131Z"
   },
   {
    "duration": 30,
    "start_time": "2023-05-28T08:19:14.169Z"
   },
   {
    "duration": 22,
    "start_time": "2023-05-28T08:19:14.201Z"
   },
   {
    "duration": 46,
    "start_time": "2023-05-28T08:19:14.224Z"
   },
   {
    "duration": 9,
    "start_time": "2023-05-28T08:19:14.272Z"
   },
   {
    "duration": 54,
    "start_time": "2023-05-28T08:19:14.283Z"
   },
   {
    "duration": 6,
    "start_time": "2023-05-28T08:19:14.339Z"
   },
   {
    "duration": 13,
    "start_time": "2023-05-28T08:19:14.354Z"
   },
   {
    "duration": 61,
    "start_time": "2023-05-28T08:19:14.369Z"
   },
   {
    "duration": 10,
    "start_time": "2023-05-28T08:19:14.433Z"
   },
   {
    "duration": 24,
    "start_time": "2023-05-28T08:19:14.446Z"
   },
   {
    "duration": 7,
    "start_time": "2023-05-28T08:19:14.471Z"
   },
   {
    "duration": 71,
    "start_time": "2023-05-28T08:19:14.479Z"
   },
   {
    "duration": 35,
    "start_time": "2023-05-28T08:19:14.552Z"
   },
   {
    "duration": 75,
    "start_time": "2023-05-28T08:19:14.590Z"
   },
   {
    "duration": 12,
    "start_time": "2023-05-28T08:19:14.666Z"
   },
   {
    "duration": 20,
    "start_time": "2023-05-28T08:19:14.679Z"
   },
   {
    "duration": 20,
    "start_time": "2023-05-28T08:19:14.701Z"
   },
   {
    "duration": 48,
    "start_time": "2023-05-28T08:19:14.723Z"
   },
   {
    "duration": 42,
    "start_time": "2023-05-28T08:19:14.773Z"
   },
   {
    "duration": 100,
    "start_time": "2023-05-28T08:19:14.817Z"
   },
   {
    "duration": 56,
    "start_time": "2023-05-28T08:19:14.918Z"
   },
   {
    "duration": 36,
    "start_time": "2023-05-28T08:19:14.976Z"
   },
   {
    "duration": 165,
    "start_time": "2023-05-28T08:19:15.014Z"
   },
   {
    "duration": 169,
    "start_time": "2023-05-28T08:19:15.182Z"
   },
   {
    "duration": 103,
    "start_time": "2023-05-28T08:19:15.353Z"
   },
   {
    "duration": 39,
    "start_time": "2023-05-28T08:19:15.458Z"
   },
   {
    "duration": 66,
    "start_time": "2023-05-28T08:19:15.499Z"
   },
   {
    "duration": 26,
    "start_time": "2023-05-28T08:19:15.567Z"
   },
   {
    "duration": 76,
    "start_time": "2023-05-28T08:19:15.594Z"
   },
   {
    "duration": 103,
    "start_time": "2023-05-28T08:19:15.671Z"
   },
   {
    "duration": 115,
    "start_time": "2023-05-28T08:19:15.776Z"
   },
   {
    "duration": 7,
    "start_time": "2023-05-28T08:19:15.893Z"
   },
   {
    "duration": 55,
    "start_time": "2023-05-28T08:19:15.901Z"
   },
   {
    "duration": 126,
    "start_time": "2023-05-28T08:19:15.959Z"
   },
   {
    "duration": 4,
    "start_time": "2023-05-28T08:19:16.086Z"
   },
   {
    "duration": 58,
    "start_time": "2023-05-28T08:19:16.091Z"
   },
   {
    "duration": 26,
    "start_time": "2023-05-28T08:19:16.150Z"
   },
   {
    "duration": 171,
    "start_time": "2023-05-28T08:19:16.178Z"
   },
   {
    "duration": 8,
    "start_time": "2023-05-28T08:19:16.350Z"
   },
   {
    "duration": 36,
    "start_time": "2023-05-28T08:19:16.359Z"
   },
   {
    "duration": 37,
    "start_time": "2023-05-28T08:19:16.397Z"
   },
   {
    "duration": 35,
    "start_time": "2023-05-28T08:19:16.439Z"
   },
   {
    "duration": 31,
    "start_time": "2023-05-28T08:19:16.475Z"
   },
   {
    "duration": 37,
    "start_time": "2023-05-28T08:19:16.507Z"
   },
   {
    "duration": 27,
    "start_time": "2023-05-28T08:19:16.546Z"
   },
   {
    "duration": 34,
    "start_time": "2023-05-28T08:19:16.575Z"
   },
   {
    "duration": 23,
    "start_time": "2023-05-28T08:19:16.611Z"
   },
   {
    "duration": 45,
    "start_time": "2023-05-28T08:19:16.636Z"
   },
   {
    "duration": 16,
    "start_time": "2023-05-28T08:19:16.687Z"
   },
   {
    "duration": 46,
    "start_time": "2023-05-28T08:19:16.706Z"
   },
   {
    "duration": 23,
    "start_time": "2023-05-28T08:19:16.755Z"
   },
   {
    "duration": 29,
    "start_time": "2023-05-28T08:19:16.780Z"
   },
   {
    "duration": 3,
    "start_time": "2023-05-28T09:08:18.586Z"
   },
   {
    "duration": 101,
    "start_time": "2023-05-28T09:10:56.448Z"
   },
   {
    "duration": 3,
    "start_time": "2023-05-28T09:13:39.145Z"
   },
   {
    "duration": 5,
    "start_time": "2023-05-28T09:14:43.057Z"
   },
   {
    "duration": 3,
    "start_time": "2023-05-28T09:15:51.192Z"
   },
   {
    "duration": 11,
    "start_time": "2023-05-28T09:16:02.994Z"
   },
   {
    "duration": 4,
    "start_time": "2023-05-28T09:16:11.238Z"
   },
   {
    "duration": 5,
    "start_time": "2023-05-28T09:16:19.040Z"
   },
   {
    "duration": 4,
    "start_time": "2023-05-28T09:16:19.640Z"
   },
   {
    "duration": 14,
    "start_time": "2023-05-28T09:18:24.787Z"
   },
   {
    "duration": 18,
    "start_time": "2023-05-28T09:20:16.116Z"
   },
   {
    "duration": 11,
    "start_time": "2023-05-28T09:22:14.551Z"
   },
   {
    "duration": 1171,
    "start_time": "2023-05-28T09:22:27.875Z"
   },
   {
    "duration": 167,
    "start_time": "2023-05-28T09:22:29.048Z"
   },
   {
    "duration": 22,
    "start_time": "2023-05-28T09:22:29.216Z"
   },
   {
    "duration": 47,
    "start_time": "2023-05-28T09:22:29.239Z"
   },
   {
    "duration": 14,
    "start_time": "2023-05-28T09:22:29.289Z"
   },
   {
    "duration": 37,
    "start_time": "2023-05-28T09:22:29.306Z"
   },
   {
    "duration": 25,
    "start_time": "2023-05-28T09:22:29.345Z"
   },
   {
    "duration": 23,
    "start_time": "2023-05-28T09:22:29.372Z"
   },
   {
    "duration": 123,
    "start_time": "2023-05-28T09:22:29.396Z"
   },
   {
    "duration": 117,
    "start_time": "2023-05-28T09:22:29.521Z"
   },
   {
    "duration": 65,
    "start_time": "2023-05-28T09:22:29.640Z"
   },
   {
    "duration": 38,
    "start_time": "2023-05-28T09:22:29.706Z"
   },
   {
    "duration": 15,
    "start_time": "2023-05-28T09:22:29.747Z"
   },
   {
    "duration": 10,
    "start_time": "2023-05-28T09:22:29.768Z"
   },
   {
    "duration": 12,
    "start_time": "2023-05-28T09:22:29.780Z"
   },
   {
    "duration": 141,
    "start_time": "2023-05-28T09:22:29.794Z"
   },
   {
    "duration": 15,
    "start_time": "2023-05-28T09:22:29.937Z"
   },
   {
    "duration": 52,
    "start_time": "2023-05-28T09:22:29.954Z"
   },
   {
    "duration": 24,
    "start_time": "2023-05-28T09:22:30.008Z"
   },
   {
    "duration": 42,
    "start_time": "2023-05-28T09:22:30.039Z"
   },
   {
    "duration": 65,
    "start_time": "2023-05-28T09:22:30.083Z"
   },
   {
    "duration": 22,
    "start_time": "2023-05-28T09:22:30.149Z"
   },
   {
    "duration": 36,
    "start_time": "2023-05-28T09:22:30.172Z"
   },
   {
    "duration": 41,
    "start_time": "2023-05-28T09:22:30.210Z"
   },
   {
    "duration": 9757,
    "start_time": "2023-05-28T09:22:30.253Z"
   },
   {
    "duration": 31,
    "start_time": "2023-05-28T09:22:40.012Z"
   },
   {
    "duration": 37,
    "start_time": "2023-05-28T09:22:40.049Z"
   },
   {
    "duration": 15,
    "start_time": "2023-05-28T09:22:40.088Z"
   },
   {
    "duration": 40,
    "start_time": "2023-05-28T09:22:40.105Z"
   },
   {
    "duration": 25,
    "start_time": "2023-05-28T09:22:40.147Z"
   },
   {
    "duration": 19,
    "start_time": "2023-05-28T09:22:40.174Z"
   },
   {
    "duration": 44,
    "start_time": "2023-05-28T09:22:40.195Z"
   },
   {
    "duration": 23,
    "start_time": "2023-05-28T09:22:40.241Z"
   },
   {
    "duration": 20,
    "start_time": "2023-05-28T09:22:40.266Z"
   },
   {
    "duration": 19,
    "start_time": "2023-05-28T09:22:40.288Z"
   },
   {
    "duration": 24,
    "start_time": "2023-05-28T09:22:40.309Z"
   },
   {
    "duration": 15,
    "start_time": "2023-05-28T09:22:40.335Z"
   },
   {
    "duration": 34,
    "start_time": "2023-05-28T09:22:40.352Z"
   },
   {
    "duration": 5,
    "start_time": "2023-05-28T09:22:40.388Z"
   },
   {
    "duration": 28,
    "start_time": "2023-05-28T09:22:40.394Z"
   },
   {
    "duration": 75,
    "start_time": "2023-05-28T09:22:40.426Z"
   },
   {
    "duration": 10,
    "start_time": "2023-05-28T09:22:40.503Z"
   },
   {
    "duration": 31,
    "start_time": "2023-05-28T09:22:40.515Z"
   },
   {
    "duration": 6,
    "start_time": "2023-05-28T09:22:40.549Z"
   },
   {
    "duration": 15,
    "start_time": "2023-05-28T09:22:40.557Z"
   },
   {
    "duration": 7,
    "start_time": "2023-05-28T09:22:40.574Z"
   },
   {
    "duration": 22,
    "start_time": "2023-05-28T09:22:40.583Z"
   },
   {
    "duration": 7,
    "start_time": "2023-05-28T09:22:40.607Z"
   },
   {
    "duration": 16,
    "start_time": "2023-05-28T09:22:40.616Z"
   },
   {
    "duration": 26,
    "start_time": "2023-05-28T09:22:40.634Z"
   },
   {
    "duration": 13,
    "start_time": "2023-05-28T09:22:40.662Z"
   },
   {
    "duration": 16,
    "start_time": "2023-05-28T09:22:40.677Z"
   },
   {
    "duration": 32,
    "start_time": "2023-05-28T09:22:40.695Z"
   },
   {
    "duration": 24,
    "start_time": "2023-05-28T09:22:40.731Z"
   },
   {
    "duration": 6,
    "start_time": "2023-05-28T09:22:40.757Z"
   },
   {
    "duration": 30,
    "start_time": "2023-05-28T09:22:40.764Z"
   },
   {
    "duration": 14,
    "start_time": "2023-05-28T09:22:40.796Z"
   },
   {
    "duration": 42,
    "start_time": "2023-05-28T09:22:40.812Z"
   },
   {
    "duration": 16,
    "start_time": "2023-05-28T09:22:40.856Z"
   },
   {
    "duration": 54,
    "start_time": "2023-05-28T09:22:40.874Z"
   },
   {
    "duration": 15,
    "start_time": "2023-05-28T09:22:40.929Z"
   },
   {
    "duration": 32,
    "start_time": "2023-05-28T09:22:40.946Z"
   },
   {
    "duration": 12,
    "start_time": "2023-05-28T09:22:40.981Z"
   },
   {
    "duration": 118,
    "start_time": "2023-05-28T09:22:40.995Z"
   },
   {
    "duration": 9,
    "start_time": "2023-05-28T09:22:41.115Z"
   },
   {
    "duration": 35,
    "start_time": "2023-05-28T09:22:41.125Z"
   },
   {
    "duration": 111,
    "start_time": "2023-05-28T09:22:41.162Z"
   },
   {
    "duration": 4,
    "start_time": "2023-05-28T09:22:41.274Z"
   },
   {
    "duration": 19,
    "start_time": "2023-05-28T09:22:41.280Z"
   },
   {
    "duration": 8,
    "start_time": "2023-05-28T09:22:41.301Z"
   },
   {
    "duration": 197,
    "start_time": "2023-05-28T09:22:41.311Z"
   },
   {
    "duration": 22,
    "start_time": "2023-05-28T09:22:41.509Z"
   },
   {
    "duration": 12,
    "start_time": "2023-05-28T09:22:41.541Z"
   },
   {
    "duration": 8,
    "start_time": "2023-05-28T09:22:41.555Z"
   },
   {
    "duration": 14,
    "start_time": "2023-05-28T09:22:41.564Z"
   },
   {
    "duration": 22,
    "start_time": "2023-05-28T09:22:41.580Z"
   },
   {
    "duration": 19,
    "start_time": "2023-05-28T09:22:41.604Z"
   },
   {
    "duration": 30,
    "start_time": "2023-05-28T09:22:41.627Z"
   },
   {
    "duration": 15,
    "start_time": "2023-05-28T09:22:41.659Z"
   },
   {
    "duration": 13,
    "start_time": "2023-05-28T09:22:41.676Z"
   },
   {
    "duration": 14,
    "start_time": "2023-05-28T09:22:41.691Z"
   },
   {
    "duration": 16,
    "start_time": "2023-05-28T09:22:41.707Z"
   },
   {
    "duration": 30,
    "start_time": "2023-05-28T09:22:41.732Z"
   },
   {
    "duration": 9,
    "start_time": "2023-05-28T09:22:41.765Z"
   },
   {
    "duration": 10,
    "start_time": "2023-05-28T09:22:41.777Z"
   },
   {
    "duration": 10,
    "start_time": "2023-05-28T09:22:41.789Z"
   },
   {
    "duration": 6,
    "start_time": "2023-05-28T09:22:41.802Z"
   },
   {
    "duration": 6,
    "start_time": "2023-05-28T09:22:41.810Z"
   },
   {
    "duration": 13,
    "start_time": "2023-05-28T09:22:41.818Z"
   },
   {
    "duration": 22,
    "start_time": "2023-05-28T09:22:41.832Z"
   },
   {
    "duration": 116,
    "start_time": "2023-05-28T09:22:41.856Z"
   },
   {
    "duration": 10,
    "start_time": "2023-05-28T09:26:36.432Z"
   },
   {
    "duration": 5,
    "start_time": "2023-05-28T09:27:01.864Z"
   },
   {
    "duration": 5,
    "start_time": "2023-05-28T09:27:26.382Z"
   },
   {
    "duration": 3,
    "start_time": "2023-05-28T09:29:15.601Z"
   },
   {
    "duration": 29,
    "start_time": "2023-05-28T09:29:16.114Z"
   },
   {
    "duration": 19,
    "start_time": "2023-05-28T09:29:16.573Z"
   },
   {
    "duration": 3,
    "start_time": "2023-05-28T09:29:29.090Z"
   },
   {
    "duration": 4,
    "start_time": "2023-05-28T09:29:34.219Z"
   },
   {
    "duration": 4,
    "start_time": "2023-05-28T09:29:40.409Z"
   },
   {
    "duration": 4,
    "start_time": "2023-05-28T09:29:41.048Z"
   },
   {
    "duration": 12,
    "start_time": "2023-05-28T10:01:35.447Z"
   },
   {
    "duration": 3,
    "start_time": "2023-05-28T10:03:28.421Z"
   },
   {
    "duration": 3,
    "start_time": "2023-05-28T10:03:30.602Z"
   },
   {
    "duration": 4,
    "start_time": "2023-05-28T10:03:34.948Z"
   },
   {
    "duration": 4,
    "start_time": "2023-05-28T10:03:35.682Z"
   },
   {
    "duration": 5,
    "start_time": "2023-05-28T10:03:37.889Z"
   },
   {
    "duration": 5,
    "start_time": "2023-05-28T10:03:46.681Z"
   },
   {
    "duration": 5,
    "start_time": "2023-05-28T10:03:47.386Z"
   },
   {
    "duration": 10,
    "start_time": "2023-05-28T10:04:46.681Z"
   },
   {
    "duration": 9,
    "start_time": "2023-05-28T10:07:57.614Z"
   },
   {
    "duration": 4,
    "start_time": "2023-05-28T10:08:21.883Z"
   },
   {
    "duration": 12,
    "start_time": "2023-05-28T10:09:17.108Z"
   },
   {
    "duration": 13,
    "start_time": "2023-05-28T10:38:57.003Z"
   },
   {
    "duration": 1420,
    "start_time": "2023-05-28T10:39:08.691Z"
   },
   {
    "duration": 273,
    "start_time": "2023-05-28T10:39:10.113Z"
   },
   {
    "duration": 17,
    "start_time": "2023-05-28T10:39:10.388Z"
   },
   {
    "duration": 51,
    "start_time": "2023-05-28T10:39:10.408Z"
   },
   {
    "duration": 3,
    "start_time": "2023-05-28T10:39:10.462Z"
   },
   {
    "duration": 13,
    "start_time": "2023-05-28T10:39:10.467Z"
   },
   {
    "duration": 62,
    "start_time": "2023-05-28T10:39:10.482Z"
   },
   {
    "duration": 41,
    "start_time": "2023-05-28T10:39:10.546Z"
   },
   {
    "duration": 102,
    "start_time": "2023-05-28T10:39:10.590Z"
   },
   {
    "duration": 126,
    "start_time": "2023-05-28T10:39:10.694Z"
   },
   {
    "duration": 93,
    "start_time": "2023-05-28T10:39:10.822Z"
   },
   {
    "duration": 44,
    "start_time": "2023-05-28T10:39:10.918Z"
   },
   {
    "duration": 36,
    "start_time": "2023-05-28T10:39:10.964Z"
   },
   {
    "duration": 24,
    "start_time": "2023-05-28T10:39:11.004Z"
   },
   {
    "duration": 30,
    "start_time": "2023-05-28T10:39:11.038Z"
   },
   {
    "duration": 219,
    "start_time": "2023-05-28T10:39:11.072Z"
   },
   {
    "duration": 43,
    "start_time": "2023-05-28T10:39:11.293Z"
   },
   {
    "duration": 64,
    "start_time": "2023-05-28T10:39:11.339Z"
   },
   {
    "duration": 27,
    "start_time": "2023-05-28T10:39:11.405Z"
   },
   {
    "duration": 14,
    "start_time": "2023-05-28T10:39:11.438Z"
   },
   {
    "duration": 25,
    "start_time": "2023-05-28T10:39:11.453Z"
   },
   {
    "duration": 9,
    "start_time": "2023-05-28T10:39:11.480Z"
   },
   {
    "duration": 32,
    "start_time": "2023-05-28T10:39:11.490Z"
   },
   {
    "duration": 41,
    "start_time": "2023-05-28T10:39:11.524Z"
   },
   {
    "duration": 10160,
    "start_time": "2023-05-28T10:39:11.567Z"
   },
   {
    "duration": 24,
    "start_time": "2023-05-28T10:39:21.729Z"
   },
   {
    "duration": 29,
    "start_time": "2023-05-28T10:39:21.755Z"
   },
   {
    "duration": 25,
    "start_time": "2023-05-28T10:39:21.787Z"
   },
   {
    "duration": 35,
    "start_time": "2023-05-28T10:39:21.814Z"
   },
   {
    "duration": 53,
    "start_time": "2023-05-28T10:39:21.851Z"
   },
   {
    "duration": 39,
    "start_time": "2023-05-28T10:39:21.905Z"
   },
   {
    "duration": 31,
    "start_time": "2023-05-28T10:39:21.948Z"
   },
   {
    "duration": 21,
    "start_time": "2023-05-28T10:39:21.981Z"
   },
   {
    "duration": 75,
    "start_time": "2023-05-28T10:39:22.004Z"
   },
   {
    "duration": 10,
    "start_time": "2023-05-28T10:39:22.081Z"
   },
   {
    "duration": 54,
    "start_time": "2023-05-28T10:39:22.093Z"
   },
   {
    "duration": 25,
    "start_time": "2023-05-28T10:39:22.148Z"
   },
   {
    "duration": 58,
    "start_time": "2023-05-28T10:39:22.175Z"
   },
   {
    "duration": 6,
    "start_time": "2023-05-28T10:39:22.238Z"
   },
   {
    "duration": 20,
    "start_time": "2023-05-28T10:39:22.245Z"
   },
   {
    "duration": 89,
    "start_time": "2023-05-28T10:39:22.272Z"
   },
   {
    "duration": 11,
    "start_time": "2023-05-28T10:39:22.363Z"
   },
   {
    "duration": 10,
    "start_time": "2023-05-28T10:39:22.376Z"
   },
   {
    "duration": 7,
    "start_time": "2023-05-28T10:39:22.389Z"
   },
   {
    "duration": 29,
    "start_time": "2023-05-28T10:39:22.397Z"
   },
   {
    "duration": 8,
    "start_time": "2023-05-28T10:39:22.435Z"
   },
   {
    "duration": 15,
    "start_time": "2023-05-28T10:39:22.444Z"
   },
   {
    "duration": 7,
    "start_time": "2023-05-28T10:39:22.461Z"
   },
   {
    "duration": 13,
    "start_time": "2023-05-28T10:39:22.470Z"
   },
   {
    "duration": 8,
    "start_time": "2023-05-28T10:39:22.485Z"
   },
   {
    "duration": 7,
    "start_time": "2023-05-28T10:39:22.496Z"
   },
   {
    "duration": 37,
    "start_time": "2023-05-28T10:39:22.505Z"
   },
   {
    "duration": 46,
    "start_time": "2023-05-28T10:39:22.544Z"
   },
   {
    "duration": 25,
    "start_time": "2023-05-28T10:39:22.592Z"
   },
   {
    "duration": 21,
    "start_time": "2023-05-28T10:39:22.620Z"
   },
   {
    "duration": 40,
    "start_time": "2023-05-28T10:39:22.642Z"
   },
   {
    "duration": 9,
    "start_time": "2023-05-28T10:39:22.685Z"
   },
   {
    "duration": 31,
    "start_time": "2023-05-28T10:39:22.696Z"
   },
   {
    "duration": 39,
    "start_time": "2023-05-28T10:39:22.729Z"
   },
   {
    "duration": 52,
    "start_time": "2023-05-28T10:39:22.770Z"
   },
   {
    "duration": 7,
    "start_time": "2023-05-28T10:39:22.823Z"
   },
   {
    "duration": 69,
    "start_time": "2023-05-28T10:39:22.831Z"
   },
   {
    "duration": 14,
    "start_time": "2023-05-28T10:39:22.902Z"
   },
   {
    "duration": 106,
    "start_time": "2023-05-28T10:39:22.918Z"
   },
   {
    "duration": 7,
    "start_time": "2023-05-28T10:39:23.037Z"
   },
   {
    "duration": 35,
    "start_time": "2023-05-28T10:39:23.046Z"
   },
   {
    "duration": 122,
    "start_time": "2023-05-28T10:39:23.084Z"
   },
   {
    "duration": 4,
    "start_time": "2023-05-28T10:39:23.209Z"
   },
   {
    "duration": 31,
    "start_time": "2023-05-28T10:39:23.224Z"
   },
   {
    "duration": 14,
    "start_time": "2023-05-28T10:39:23.258Z"
   },
   {
    "duration": 180,
    "start_time": "2023-05-28T10:39:23.274Z"
   },
   {
    "duration": 11,
    "start_time": "2023-05-28T10:39:23.457Z"
   },
   {
    "duration": 14,
    "start_time": "2023-05-28T10:39:23.470Z"
   },
   {
    "duration": 22,
    "start_time": "2023-05-28T10:39:23.486Z"
   },
   {
    "duration": 27,
    "start_time": "2023-05-28T10:39:23.510Z"
   },
   {
    "duration": 16,
    "start_time": "2023-05-28T10:39:23.542Z"
   },
   {
    "duration": 9,
    "start_time": "2023-05-28T10:39:23.560Z"
   },
   {
    "duration": 20,
    "start_time": "2023-05-28T10:39:23.571Z"
   },
   {
    "duration": 15,
    "start_time": "2023-05-28T10:39:23.593Z"
   },
   {
    "duration": 12,
    "start_time": "2023-05-28T10:39:23.610Z"
   },
   {
    "duration": 35,
    "start_time": "2023-05-28T10:39:23.623Z"
   },
   {
    "duration": 14,
    "start_time": "2023-05-28T10:39:23.660Z"
   },
   {
    "duration": 9,
    "start_time": "2023-05-28T10:39:23.676Z"
   },
   {
    "duration": 18,
    "start_time": "2023-05-28T10:39:23.687Z"
   },
   {
    "duration": 21,
    "start_time": "2023-05-28T10:39:23.708Z"
   },
   {
    "duration": 25,
    "start_time": "2023-05-28T10:39:23.731Z"
   },
   {
    "duration": 11,
    "start_time": "2023-05-28T10:39:23.758Z"
   },
   {
    "duration": 19,
    "start_time": "2023-05-28T10:39:23.771Z"
   },
   {
    "duration": 14,
    "start_time": "2023-05-28T10:39:23.793Z"
   },
   {
    "duration": 9,
    "start_time": "2023-05-28T10:39:23.810Z"
   },
   {
    "duration": 34,
    "start_time": "2023-05-28T10:39:23.821Z"
   },
   {
    "duration": 6,
    "start_time": "2023-05-28T10:39:55.293Z"
   },
   {
    "duration": 1440,
    "start_time": "2023-05-28T14:15:50.155Z"
   },
   {
    "duration": 1011,
    "start_time": "2023-05-28T14:15:51.597Z"
   },
   {
    "duration": 14,
    "start_time": "2023-05-28T14:15:52.610Z"
   },
   {
    "duration": 20,
    "start_time": "2023-05-28T14:15:52.625Z"
   },
   {
    "duration": 11,
    "start_time": "2023-05-28T14:15:52.648Z"
   },
   {
    "duration": 20,
    "start_time": "2023-05-28T14:15:52.661Z"
   },
   {
    "duration": 35,
    "start_time": "2023-05-28T14:15:52.683Z"
   },
   {
    "duration": 43,
    "start_time": "2023-05-28T14:15:52.721Z"
   },
   {
    "duration": 131,
    "start_time": "2023-05-28T14:15:52.766Z"
   },
   {
    "duration": 118,
    "start_time": "2023-05-28T14:15:52.899Z"
   },
   {
    "duration": 74,
    "start_time": "2023-05-28T14:15:53.019Z"
   },
   {
    "duration": 18,
    "start_time": "2023-05-28T14:15:53.094Z"
   },
   {
    "duration": 16,
    "start_time": "2023-05-28T14:15:53.114Z"
   },
   {
    "duration": 8,
    "start_time": "2023-05-28T14:15:53.156Z"
   },
   {
    "duration": 10,
    "start_time": "2023-05-28T14:15:53.166Z"
   },
   {
    "duration": 146,
    "start_time": "2023-05-28T14:15:53.178Z"
   },
   {
    "duration": 10,
    "start_time": "2023-05-28T14:15:53.326Z"
   },
   {
    "duration": 49,
    "start_time": "2023-05-28T14:15:53.338Z"
   },
   {
    "duration": 17,
    "start_time": "2023-05-28T14:15:53.389Z"
   },
   {
    "duration": 9,
    "start_time": "2023-05-28T14:15:53.407Z"
   },
   {
    "duration": 50,
    "start_time": "2023-05-28T14:15:53.417Z"
   },
   {
    "duration": 7,
    "start_time": "2023-05-28T14:15:53.469Z"
   },
   {
    "duration": 8,
    "start_time": "2023-05-28T14:15:53.478Z"
   },
   {
    "duration": 13,
    "start_time": "2023-05-28T14:15:53.488Z"
   },
   {
    "duration": 9648,
    "start_time": "2023-05-28T14:15:53.503Z"
   },
   {
    "duration": 29,
    "start_time": "2023-05-28T14:16:03.154Z"
   },
   {
    "duration": 18,
    "start_time": "2023-05-28T14:16:03.186Z"
   },
   {
    "duration": 21,
    "start_time": "2023-05-28T14:16:03.207Z"
   },
   {
    "duration": 34,
    "start_time": "2023-05-28T14:16:03.230Z"
   },
   {
    "duration": 14,
    "start_time": "2023-05-28T14:16:03.267Z"
   },
   {
    "duration": 17,
    "start_time": "2023-05-28T14:16:03.283Z"
   },
   {
    "duration": 27,
    "start_time": "2023-05-28T14:16:03.302Z"
   },
   {
    "duration": 8,
    "start_time": "2023-05-28T14:16:03.356Z"
   },
   {
    "duration": 23,
    "start_time": "2023-05-28T14:16:03.366Z"
   },
   {
    "duration": 12,
    "start_time": "2023-05-28T14:16:03.391Z"
   },
   {
    "duration": 58,
    "start_time": "2023-05-28T14:16:03.406Z"
   },
   {
    "duration": 7,
    "start_time": "2023-05-28T14:16:03.467Z"
   },
   {
    "duration": 52,
    "start_time": "2023-05-28T14:16:03.477Z"
   },
   {
    "duration": 4,
    "start_time": "2023-05-28T14:16:03.531Z"
   },
   {
    "duration": 35,
    "start_time": "2023-05-28T14:16:03.537Z"
   },
   {
    "duration": 89,
    "start_time": "2023-05-28T14:16:03.579Z"
   },
   {
    "duration": 12,
    "start_time": "2023-05-28T14:16:03.671Z"
   },
   {
    "duration": 11,
    "start_time": "2023-05-28T14:16:03.685Z"
   },
   {
    "duration": 8,
    "start_time": "2023-05-28T14:16:03.698Z"
   },
   {
    "duration": 14,
    "start_time": "2023-05-28T14:16:03.708Z"
   },
   {
    "duration": 4,
    "start_time": "2023-05-28T14:16:03.757Z"
   },
   {
    "duration": 25,
    "start_time": "2023-05-28T14:16:03.764Z"
   },
   {
    "duration": 7,
    "start_time": "2023-05-28T14:16:03.792Z"
   },
   {
    "duration": 19,
    "start_time": "2023-05-28T14:16:03.802Z"
   },
   {
    "duration": 5,
    "start_time": "2023-05-28T14:16:03.823Z"
   },
   {
    "duration": 29,
    "start_time": "2023-05-28T14:16:03.831Z"
   },
   {
    "duration": 18,
    "start_time": "2023-05-28T14:16:03.862Z"
   },
   {
    "duration": 45,
    "start_time": "2023-05-28T14:16:03.883Z"
   },
   {
    "duration": 39,
    "start_time": "2023-05-28T14:16:03.930Z"
   },
   {
    "duration": 9,
    "start_time": "2023-05-28T14:16:03.974Z"
   },
   {
    "duration": 29,
    "start_time": "2023-05-28T14:16:03.986Z"
   },
   {
    "duration": 11,
    "start_time": "2023-05-28T14:16:04.017Z"
   },
   {
    "duration": 51,
    "start_time": "2023-05-28T14:16:04.031Z"
   },
   {
    "duration": 12,
    "start_time": "2023-05-28T14:16:04.088Z"
   },
   {
    "duration": 60,
    "start_time": "2023-05-28T14:16:04.102Z"
   },
   {
    "duration": 5,
    "start_time": "2023-05-28T14:16:04.164Z"
   },
   {
    "duration": 32,
    "start_time": "2023-05-28T14:16:04.171Z"
   },
   {
    "duration": 6,
    "start_time": "2023-05-28T14:16:04.205Z"
   },
   {
    "duration": 110,
    "start_time": "2023-05-28T14:16:04.213Z"
   },
   {
    "duration": 9,
    "start_time": "2023-05-28T14:16:04.324Z"
   },
   {
    "duration": 4,
    "start_time": "2023-05-28T14:16:04.335Z"
   },
   {
    "duration": 128,
    "start_time": "2023-05-28T14:16:04.342Z"
   },
   {
    "duration": 5,
    "start_time": "2023-05-28T14:16:04.472Z"
   },
   {
    "duration": 27,
    "start_time": "2023-05-28T14:16:04.479Z"
   },
   {
    "duration": 7,
    "start_time": "2023-05-28T14:16:04.508Z"
   },
   {
    "duration": 133,
    "start_time": "2023-05-28T14:16:04.517Z"
   },
   {
    "duration": 10,
    "start_time": "2023-05-28T14:16:04.652Z"
   },
   {
    "duration": 9,
    "start_time": "2023-05-28T14:16:04.664Z"
   },
   {
    "duration": 5,
    "start_time": "2023-05-28T14:16:04.675Z"
   },
   {
    "duration": 12,
    "start_time": "2023-05-28T14:16:04.682Z"
   },
   {
    "duration": 12,
    "start_time": "2023-05-28T14:16:04.696Z"
   },
   {
    "duration": 6,
    "start_time": "2023-05-28T14:16:04.710Z"
   },
   {
    "duration": 47,
    "start_time": "2023-05-28T14:16:04.718Z"
   },
   {
    "duration": 13,
    "start_time": "2023-05-28T14:16:04.767Z"
   },
   {
    "duration": 9,
    "start_time": "2023-05-28T14:16:04.782Z"
   },
   {
    "duration": 13,
    "start_time": "2023-05-28T14:16:04.793Z"
   },
   {
    "duration": 11,
    "start_time": "2023-05-28T14:16:04.808Z"
   },
   {
    "duration": 14,
    "start_time": "2023-05-28T14:16:04.821Z"
   },
   {
    "duration": 6,
    "start_time": "2023-05-28T14:16:04.858Z"
   },
   {
    "duration": 9,
    "start_time": "2023-05-28T14:16:04.867Z"
   },
   {
    "duration": 10,
    "start_time": "2023-05-28T14:16:04.879Z"
   },
   {
    "duration": 6,
    "start_time": "2023-05-28T14:16:04.891Z"
   },
   {
    "duration": 9,
    "start_time": "2023-05-28T14:16:04.900Z"
   },
   {
    "duration": 6,
    "start_time": "2023-05-28T14:16:04.912Z"
   },
   {
    "duration": 39,
    "start_time": "2023-05-28T14:16:04.921Z"
   },
   {
    "duration": 10,
    "start_time": "2023-05-28T14:16:04.963Z"
   },
   {
    "duration": 13,
    "start_time": "2023-05-28T14:16:04.976Z"
   },
   {
    "duration": 4,
    "start_time": "2023-05-28T14:22:04.482Z"
   },
   {
    "duration": 5,
    "start_time": "2023-05-28T14:22:12.575Z"
   },
   {
    "duration": 5,
    "start_time": "2023-05-28T14:24:14.912Z"
   },
   {
    "duration": 5,
    "start_time": "2023-05-28T14:24:15.407Z"
   },
   {
    "duration": 5,
    "start_time": "2023-05-28T14:25:36.680Z"
   },
   {
    "duration": 46,
    "start_time": "2023-05-28T14:25:39.878Z"
   },
   {
    "duration": 5,
    "start_time": "2023-05-28T14:25:47.001Z"
   },
   {
    "duration": 1450,
    "start_time": "2023-05-28T14:26:02.861Z"
   },
   {
    "duration": 308,
    "start_time": "2023-05-28T14:26:04.313Z"
   },
   {
    "duration": 11,
    "start_time": "2023-05-28T14:26:04.623Z"
   },
   {
    "duration": 22,
    "start_time": "2023-05-28T14:26:04.636Z"
   },
   {
    "duration": 3,
    "start_time": "2023-05-28T14:26:04.660Z"
   },
   {
    "duration": 13,
    "start_time": "2023-05-28T14:26:04.664Z"
   },
   {
    "duration": 27,
    "start_time": "2023-05-28T14:26:04.679Z"
   },
   {
    "duration": 51,
    "start_time": "2023-05-28T14:26:04.708Z"
   },
   {
    "duration": 86,
    "start_time": "2023-05-28T14:26:04.761Z"
   },
   {
    "duration": 116,
    "start_time": "2023-05-28T14:26:04.858Z"
   },
   {
    "duration": 67,
    "start_time": "2023-05-28T14:26:04.976Z"
   },
   {
    "duration": 25,
    "start_time": "2023-05-28T14:26:05.045Z"
   },
   {
    "duration": 21,
    "start_time": "2023-05-28T14:26:05.071Z"
   },
   {
    "duration": 20,
    "start_time": "2023-05-28T14:26:05.096Z"
   },
   {
    "duration": 15,
    "start_time": "2023-05-28T14:26:05.119Z"
   },
   {
    "duration": 159,
    "start_time": "2023-05-28T14:26:05.136Z"
   },
   {
    "duration": 10,
    "start_time": "2023-05-28T14:26:05.297Z"
   },
   {
    "duration": 38,
    "start_time": "2023-05-28T14:26:05.309Z"
   },
   {
    "duration": 18,
    "start_time": "2023-05-28T14:26:05.356Z"
   },
   {
    "duration": 9,
    "start_time": "2023-05-28T14:26:05.376Z"
   },
   {
    "duration": 21,
    "start_time": "2023-05-28T14:26:05.387Z"
   },
   {
    "duration": 38,
    "start_time": "2023-05-28T14:26:05.410Z"
   },
   {
    "duration": 21,
    "start_time": "2023-05-28T14:26:05.450Z"
   },
   {
    "duration": 13,
    "start_time": "2023-05-28T14:26:05.474Z"
   },
   {
    "duration": 9568,
    "start_time": "2023-05-28T14:26:05.488Z"
   },
   {
    "duration": 22,
    "start_time": "2023-05-28T14:26:15.057Z"
   },
   {
    "duration": 20,
    "start_time": "2023-05-28T14:26:15.080Z"
   },
   {
    "duration": 23,
    "start_time": "2023-05-28T14:26:15.102Z"
   },
   {
    "duration": 33,
    "start_time": "2023-05-28T14:26:15.127Z"
   },
   {
    "duration": 14,
    "start_time": "2023-05-28T14:26:15.162Z"
   },
   {
    "duration": 24,
    "start_time": "2023-05-28T14:26:15.177Z"
   },
   {
    "duration": 67,
    "start_time": "2023-05-28T14:26:15.203Z"
   },
   {
    "duration": 12,
    "start_time": "2023-05-28T14:26:15.272Z"
   },
   {
    "duration": 12,
    "start_time": "2023-05-28T14:26:15.286Z"
   },
   {
    "duration": 38,
    "start_time": "2023-05-28T14:26:15.302Z"
   },
   {
    "duration": 14,
    "start_time": "2023-05-28T14:26:15.343Z"
   },
   {
    "duration": 9,
    "start_time": "2023-05-28T14:26:15.361Z"
   },
   {
    "duration": 34,
    "start_time": "2023-05-28T14:26:15.372Z"
   },
   {
    "duration": 31,
    "start_time": "2023-05-28T14:26:15.408Z"
   },
   {
    "duration": 22,
    "start_time": "2023-05-28T14:26:15.440Z"
   },
   {
    "duration": 63,
    "start_time": "2023-05-28T14:26:15.469Z"
   },
   {
    "duration": 4,
    "start_time": "2023-05-28T14:26:15.534Z"
   },
   {
    "duration": 26,
    "start_time": "2023-05-28T14:26:15.540Z"
   },
   {
    "duration": 119,
    "start_time": "2023-05-28T14:26:15.568Z"
   },
   {
    "duration": 11,
    "start_time": "2023-05-28T14:26:15.690Z"
   },
   {
    "duration": 7,
    "start_time": "2023-05-28T14:26:15.704Z"
   },
   {
    "duration": 6,
    "start_time": "2023-05-28T14:26:15.714Z"
   },
   {
    "duration": 39,
    "start_time": "2023-05-28T14:26:15.722Z"
   },
   {
    "duration": 8,
    "start_time": "2023-05-28T14:26:15.768Z"
   },
   {
    "duration": 11,
    "start_time": "2023-05-28T14:26:15.778Z"
   },
   {
    "duration": 6,
    "start_time": "2023-05-28T14:26:15.791Z"
   },
   {
    "duration": 15,
    "start_time": "2023-05-28T14:26:15.799Z"
   },
   {
    "duration": 9,
    "start_time": "2023-05-28T14:26:15.815Z"
   },
   {
    "duration": 33,
    "start_time": "2023-05-28T14:26:15.826Z"
   },
   {
    "duration": 17,
    "start_time": "2023-05-28T14:26:15.862Z"
   },
   {
    "duration": 29,
    "start_time": "2023-05-28T14:26:15.882Z"
   },
   {
    "duration": 48,
    "start_time": "2023-05-28T14:26:15.914Z"
   },
   {
    "duration": 10,
    "start_time": "2023-05-28T14:26:15.965Z"
   },
   {
    "duration": 29,
    "start_time": "2023-05-28T14:26:15.978Z"
   },
   {
    "duration": 9,
    "start_time": "2023-05-28T14:26:16.009Z"
   },
   {
    "duration": 28,
    "start_time": "2023-05-28T14:26:16.056Z"
   },
   {
    "duration": 17,
    "start_time": "2023-05-28T14:26:16.086Z"
   },
   {
    "duration": 65,
    "start_time": "2023-05-28T14:26:16.106Z"
   },
   {
    "duration": 4,
    "start_time": "2023-05-28T14:26:16.173Z"
   },
   {
    "duration": 33,
    "start_time": "2023-05-28T14:26:16.179Z"
   },
   {
    "duration": 4,
    "start_time": "2023-05-28T14:26:16.215Z"
   },
   {
    "duration": 78,
    "start_time": "2023-05-28T14:26:16.222Z"
   },
   {
    "duration": 9,
    "start_time": "2023-05-28T14:26:16.303Z"
   },
   {
    "duration": 9,
    "start_time": "2023-05-28T14:26:16.314Z"
   },
   {
    "duration": 105,
    "start_time": "2023-05-28T14:26:16.325Z"
   },
   {
    "duration": 4,
    "start_time": "2023-05-28T14:26:16.433Z"
   },
   {
    "duration": 19,
    "start_time": "2023-05-28T14:26:16.439Z"
   },
   {
    "duration": 8,
    "start_time": "2023-05-28T14:26:16.459Z"
   },
   {
    "duration": 143,
    "start_time": "2023-05-28T14:26:16.468Z"
   },
   {
    "duration": 14,
    "start_time": "2023-05-28T14:26:16.613Z"
   },
   {
    "duration": 19,
    "start_time": "2023-05-28T14:26:16.635Z"
   },
   {
    "duration": 5,
    "start_time": "2023-05-28T14:26:16.657Z"
   },
   {
    "duration": 9,
    "start_time": "2023-05-28T14:26:16.663Z"
   },
   {
    "duration": 9,
    "start_time": "2023-05-28T14:26:16.674Z"
   },
   {
    "duration": 7,
    "start_time": "2023-05-28T14:26:16.685Z"
   },
   {
    "duration": 12,
    "start_time": "2023-05-28T14:26:16.693Z"
   },
   {
    "duration": 7,
    "start_time": "2023-05-28T14:26:16.707Z"
   },
   {
    "duration": 43,
    "start_time": "2023-05-28T14:26:16.716Z"
   },
   {
    "duration": 11,
    "start_time": "2023-05-28T14:26:16.762Z"
   },
   {
    "duration": 10,
    "start_time": "2023-05-28T14:26:16.775Z"
   },
   {
    "duration": 6,
    "start_time": "2023-05-28T14:26:16.787Z"
   },
   {
    "duration": 7,
    "start_time": "2023-05-28T14:26:16.796Z"
   },
   {
    "duration": 18,
    "start_time": "2023-05-28T14:26:16.805Z"
   },
   {
    "duration": 35,
    "start_time": "2023-05-28T14:26:16.825Z"
   },
   {
    "duration": 6,
    "start_time": "2023-05-28T14:26:16.863Z"
   },
   {
    "duration": 7,
    "start_time": "2023-05-28T14:26:16.871Z"
   },
   {
    "duration": 6,
    "start_time": "2023-05-28T14:26:16.880Z"
   },
   {
    "duration": 8,
    "start_time": "2023-05-28T14:26:16.888Z"
   },
   {
    "duration": 7,
    "start_time": "2023-05-28T14:26:16.898Z"
   },
   {
    "duration": 12,
    "start_time": "2023-05-28T14:26:16.907Z"
   },
   {
    "duration": 9,
    "start_time": "2023-05-28T14:41:20.988Z"
   },
   {
    "duration": 8,
    "start_time": "2023-05-28T14:41:28.202Z"
   },
   {
    "duration": 12,
    "start_time": "2023-05-28T14:44:22.199Z"
   },
   {
    "duration": 3,
    "start_time": "2023-05-28T14:44:46.448Z"
   },
   {
    "duration": 4,
    "start_time": "2023-05-28T14:45:10.396Z"
   },
   {
    "duration": 6,
    "start_time": "2023-05-28T14:45:49.158Z"
   },
   {
    "duration": 144,
    "start_time": "2023-05-28T14:54:40.902Z"
   },
   {
    "duration": 15,
    "start_time": "2023-05-28T14:55:56.106Z"
   },
   {
    "duration": 12,
    "start_time": "2023-05-28T14:58:44.712Z"
   },
   {
    "duration": 11,
    "start_time": "2023-05-28T14:59:54.290Z"
   },
   {
    "duration": 18,
    "start_time": "2023-05-28T15:00:01.883Z"
   },
   {
    "duration": 14,
    "start_time": "2023-05-28T15:00:36.745Z"
   },
   {
    "duration": 9,
    "start_time": "2023-05-28T15:01:14.053Z"
   },
   {
    "duration": 27,
    "start_time": "2023-05-28T15:01:39.351Z"
   },
   {
    "duration": 3015,
    "start_time": "2023-05-28T15:01:52.378Z"
   },
   {
    "duration": 1176,
    "start_time": "2023-05-28T15:01:55.397Z"
   },
   {
    "duration": 18,
    "start_time": "2023-05-28T15:01:56.575Z"
   },
   {
    "duration": 38,
    "start_time": "2023-05-28T15:01:56.596Z"
   },
   {
    "duration": 4,
    "start_time": "2023-05-28T15:01:56.636Z"
   },
   {
    "duration": 19,
    "start_time": "2023-05-28T15:01:56.642Z"
   },
   {
    "duration": 55,
    "start_time": "2023-05-28T15:01:56.663Z"
   },
   {
    "duration": 31,
    "start_time": "2023-05-28T15:01:56.722Z"
   },
   {
    "duration": 151,
    "start_time": "2023-05-28T15:01:56.754Z"
   },
   {
    "duration": 140,
    "start_time": "2023-05-28T15:01:56.909Z"
   },
   {
    "duration": 91,
    "start_time": "2023-05-28T15:01:57.050Z"
   },
   {
    "duration": 28,
    "start_time": "2023-05-28T15:01:57.143Z"
   },
   {
    "duration": 20,
    "start_time": "2023-05-28T15:01:57.173Z"
   },
   {
    "duration": 11,
    "start_time": "2023-05-28T15:01:57.195Z"
   },
   {
    "duration": 14,
    "start_time": "2023-05-28T15:01:57.208Z"
   },
   {
    "duration": 207,
    "start_time": "2023-05-28T15:01:57.227Z"
   },
   {
    "duration": 14,
    "start_time": "2023-05-28T15:01:57.436Z"
   },
   {
    "duration": 59,
    "start_time": "2023-05-28T15:01:57.466Z"
   },
   {
    "duration": 28,
    "start_time": "2023-05-28T15:01:57.527Z"
   },
   {
    "duration": 21,
    "start_time": "2023-05-28T15:01:57.564Z"
   },
   {
    "duration": 30,
    "start_time": "2023-05-28T15:01:57.593Z"
   },
   {
    "duration": 11,
    "start_time": "2023-05-28T15:01:57.627Z"
   },
   {
    "duration": 4,
    "start_time": "2023-05-28T15:01:57.640Z"
   },
   {
    "duration": 13,
    "start_time": "2023-05-28T15:01:57.646Z"
   },
   {
    "duration": 13294,
    "start_time": "2023-05-28T15:01:57.661Z"
   },
   {
    "duration": 24,
    "start_time": "2023-05-28T15:02:10.958Z"
   },
   {
    "duration": 22,
    "start_time": "2023-05-28T15:02:10.985Z"
   },
   {
    "duration": 20,
    "start_time": "2023-05-28T15:02:11.013Z"
   },
   {
    "duration": 31,
    "start_time": "2023-05-28T15:02:11.035Z"
   },
   {
    "duration": 31,
    "start_time": "2023-05-28T15:02:11.068Z"
   },
   {
    "duration": 32,
    "start_time": "2023-05-28T15:02:11.101Z"
   },
   {
    "duration": 22,
    "start_time": "2023-05-28T15:02:11.135Z"
   },
   {
    "duration": 6,
    "start_time": "2023-05-28T15:02:11.161Z"
   },
   {
    "duration": 15,
    "start_time": "2023-05-28T15:02:11.169Z"
   },
   {
    "duration": 36,
    "start_time": "2023-05-28T15:02:11.187Z"
   },
   {
    "duration": 12,
    "start_time": "2023-05-28T15:02:11.224Z"
   },
   {
    "duration": 6,
    "start_time": "2023-05-28T15:02:11.238Z"
   },
   {
    "duration": 71,
    "start_time": "2023-05-28T15:02:11.246Z"
   },
   {
    "duration": 20,
    "start_time": "2023-05-28T15:02:11.319Z"
   },
   {
    "duration": 7,
    "start_time": "2023-05-28T15:02:11.340Z"
   },
   {
    "duration": 69,
    "start_time": "2023-05-28T15:02:11.349Z"
   },
   {
    "duration": 3,
    "start_time": "2023-05-28T15:02:11.420Z"
   },
   {
    "duration": 15,
    "start_time": "2023-05-28T15:02:11.425Z"
   },
   {
    "duration": 83,
    "start_time": "2023-05-28T15:02:11.442Z"
   },
   {
    "duration": 12,
    "start_time": "2023-05-28T15:02:11.527Z"
   },
   {
    "duration": 10,
    "start_time": "2023-05-28T15:02:11.541Z"
   },
   {
    "duration": 14,
    "start_time": "2023-05-28T15:02:11.554Z"
   },
   {
    "duration": 15,
    "start_time": "2023-05-28T15:02:11.570Z"
   },
   {
    "duration": 3,
    "start_time": "2023-05-28T15:02:11.590Z"
   },
   {
    "duration": 31,
    "start_time": "2023-05-28T15:02:11.595Z"
   },
   {
    "duration": 9,
    "start_time": "2023-05-28T15:02:11.629Z"
   },
   {
    "duration": 20,
    "start_time": "2023-05-28T15:02:11.640Z"
   },
   {
    "duration": 18,
    "start_time": "2023-05-28T15:02:11.664Z"
   },
   {
    "duration": 6,
    "start_time": "2023-05-28T15:02:11.686Z"
   },
   {
    "duration": 27,
    "start_time": "2023-05-28T15:02:11.698Z"
   },
   {
    "duration": 28,
    "start_time": "2023-05-28T15:02:11.730Z"
   },
   {
    "duration": 31,
    "start_time": "2023-05-28T15:02:11.760Z"
   },
   {
    "duration": 9,
    "start_time": "2023-05-28T15:02:11.793Z"
   },
   {
    "duration": 35,
    "start_time": "2023-05-28T15:02:11.804Z"
   },
   {
    "duration": 20,
    "start_time": "2023-05-28T15:02:11.842Z"
   },
   {
    "duration": 31,
    "start_time": "2023-05-28T15:02:11.866Z"
   },
   {
    "duration": 9,
    "start_time": "2023-05-28T15:02:11.900Z"
   },
   {
    "duration": 88,
    "start_time": "2023-05-28T15:02:11.911Z"
   },
   {
    "duration": 11,
    "start_time": "2023-05-28T15:02:12.006Z"
   },
   {
    "duration": 30,
    "start_time": "2023-05-28T15:02:12.020Z"
   },
   {
    "duration": 10,
    "start_time": "2023-05-28T15:02:12.052Z"
   },
   {
    "duration": 97,
    "start_time": "2023-05-28T15:02:12.065Z"
   },
   {
    "duration": 12,
    "start_time": "2023-05-28T15:02:12.164Z"
   },
   {
    "duration": 18,
    "start_time": "2023-05-28T15:02:12.177Z"
   },
   {
    "duration": 156,
    "start_time": "2023-05-28T15:02:12.200Z"
   },
   {
    "duration": 16,
    "start_time": "2023-05-28T15:02:12.366Z"
   },
   {
    "duration": 13,
    "start_time": "2023-05-28T15:02:12.385Z"
   },
   {
    "duration": 8,
    "start_time": "2023-05-28T15:02:12.401Z"
   },
   {
    "duration": 319,
    "start_time": "2023-05-28T15:02:12.412Z"
   },
   {
    "duration": 26,
    "start_time": "2023-05-28T15:02:12.737Z"
   },
   {
    "duration": 11,
    "start_time": "2023-05-28T15:02:12.771Z"
   },
   {
    "duration": 8,
    "start_time": "2023-05-28T15:02:12.790Z"
   },
   {
    "duration": 8,
    "start_time": "2023-05-28T15:02:12.806Z"
   },
   {
    "duration": 16,
    "start_time": "2023-05-28T15:02:12.820Z"
   },
   {
    "duration": 9,
    "start_time": "2023-05-28T15:02:12.843Z"
   },
   {
    "duration": 28,
    "start_time": "2023-05-28T15:02:12.855Z"
   },
   {
    "duration": 13,
    "start_time": "2023-05-28T15:02:12.900Z"
   },
   {
    "duration": 8,
    "start_time": "2023-05-28T15:02:12.917Z"
   },
   {
    "duration": 9,
    "start_time": "2023-05-28T15:02:12.929Z"
   },
   {
    "duration": 27,
    "start_time": "2023-05-28T15:02:12.940Z"
   },
   {
    "duration": 28,
    "start_time": "2023-05-28T15:02:12.973Z"
   },
   {
    "duration": 1865,
    "start_time": "2023-05-28T15:02:13.004Z"
   },
   {
    "duration": 0,
    "start_time": "2023-05-28T15:02:14.871Z"
   },
   {
    "duration": 0,
    "start_time": "2023-05-28T15:02:14.874Z"
   },
   {
    "duration": 0,
    "start_time": "2023-05-28T15:02:14.875Z"
   },
   {
    "duration": 0,
    "start_time": "2023-05-28T15:02:14.876Z"
   },
   {
    "duration": 0,
    "start_time": "2023-05-28T15:02:14.878Z"
   },
   {
    "duration": 0,
    "start_time": "2023-05-28T15:02:14.880Z"
   },
   {
    "duration": 0,
    "start_time": "2023-05-28T15:02:14.881Z"
   },
   {
    "duration": 0,
    "start_time": "2023-05-28T15:02:14.883Z"
   },
   {
    "duration": 0,
    "start_time": "2023-05-28T15:02:14.884Z"
   },
   {
    "duration": 0,
    "start_time": "2023-05-28T15:02:14.890Z"
   },
   {
    "duration": 0,
    "start_time": "2023-05-28T15:02:14.892Z"
   },
   {
    "duration": 7,
    "start_time": "2023-05-28T15:03:23.617Z"
   },
   {
    "duration": 8,
    "start_time": "2023-05-28T15:03:52.590Z"
   },
   {
    "duration": 5,
    "start_time": "2023-05-28T15:04:59.745Z"
   },
   {
    "duration": 5,
    "start_time": "2023-05-28T15:05:23.412Z"
   },
   {
    "duration": 17,
    "start_time": "2023-05-28T15:05:56.389Z"
   },
   {
    "duration": 4,
    "start_time": "2023-05-28T15:06:12.086Z"
   },
   {
    "duration": 14,
    "start_time": "2023-05-28T15:06:12.655Z"
   },
   {
    "duration": 2999,
    "start_time": "2023-05-28T15:06:54.909Z"
   },
   {
    "duration": 1103,
    "start_time": "2023-05-28T15:06:57.914Z"
   },
   {
    "duration": 14,
    "start_time": "2023-05-28T15:06:59.019Z"
   },
   {
    "duration": 20,
    "start_time": "2023-05-28T15:06:59.035Z"
   },
   {
    "duration": 7,
    "start_time": "2023-05-28T15:06:59.057Z"
   },
   {
    "duration": 23,
    "start_time": "2023-05-28T15:06:59.066Z"
   },
   {
    "duration": 39,
    "start_time": "2023-05-28T15:06:59.091Z"
   },
   {
    "duration": 43,
    "start_time": "2023-05-28T15:06:59.132Z"
   },
   {
    "duration": 119,
    "start_time": "2023-05-28T15:06:59.177Z"
   },
   {
    "duration": 124,
    "start_time": "2023-05-28T15:06:59.299Z"
   },
   {
    "duration": 92,
    "start_time": "2023-05-28T15:06:59.425Z"
   },
   {
    "duration": 16,
    "start_time": "2023-05-28T15:06:59.519Z"
   },
   {
    "duration": 29,
    "start_time": "2023-05-28T15:06:59.538Z"
   },
   {
    "duration": 9,
    "start_time": "2023-05-28T15:06:59.570Z"
   },
   {
    "duration": 11,
    "start_time": "2023-05-28T15:06:59.581Z"
   },
   {
    "duration": 188,
    "start_time": "2023-05-28T15:06:59.593Z"
   },
   {
    "duration": 17,
    "start_time": "2023-05-28T15:06:59.783Z"
   },
   {
    "duration": 51,
    "start_time": "2023-05-28T15:06:59.802Z"
   },
   {
    "duration": 51,
    "start_time": "2023-05-28T15:06:59.856Z"
   },
   {
    "duration": 11,
    "start_time": "2023-05-28T15:06:59.909Z"
   },
   {
    "duration": 30,
    "start_time": "2023-05-28T15:06:59.925Z"
   },
   {
    "duration": 17,
    "start_time": "2023-05-28T15:06:59.957Z"
   },
   {
    "duration": 7,
    "start_time": "2023-05-28T15:06:59.976Z"
   },
   {
    "duration": 11,
    "start_time": "2023-05-28T15:06:59.986Z"
   },
   {
    "duration": 11671,
    "start_time": "2023-05-28T15:06:59.999Z"
   },
   {
    "duration": 37,
    "start_time": "2023-05-28T15:07:11.673Z"
   },
   {
    "duration": 16,
    "start_time": "2023-05-28T15:07:11.714Z"
   },
   {
    "duration": 12,
    "start_time": "2023-05-28T15:07:11.732Z"
   },
   {
    "duration": 22,
    "start_time": "2023-05-28T15:07:11.746Z"
   },
   {
    "duration": 18,
    "start_time": "2023-05-28T15:07:11.770Z"
   },
   {
    "duration": 44,
    "start_time": "2023-05-28T15:07:11.790Z"
   },
   {
    "duration": 60,
    "start_time": "2023-05-28T15:07:11.840Z"
   },
   {
    "duration": 29,
    "start_time": "2023-05-28T15:07:11.902Z"
   },
   {
    "duration": 14,
    "start_time": "2023-05-28T15:07:11.935Z"
   },
   {
    "duration": 49,
    "start_time": "2023-05-28T15:07:11.951Z"
   },
   {
    "duration": 7,
    "start_time": "2023-05-28T15:07:12.002Z"
   },
   {
    "duration": 10,
    "start_time": "2023-05-28T15:07:12.014Z"
   },
   {
    "duration": 30,
    "start_time": "2023-05-28T15:07:12.026Z"
   },
   {
    "duration": 19,
    "start_time": "2023-05-28T15:07:12.058Z"
   },
   {
    "duration": 7,
    "start_time": "2023-05-28T15:07:12.079Z"
   },
   {
    "duration": 51,
    "start_time": "2023-05-28T15:07:12.093Z"
   },
   {
    "duration": 5,
    "start_time": "2023-05-28T15:07:12.146Z"
   },
   {
    "duration": 35,
    "start_time": "2023-05-28T15:07:12.153Z"
   },
   {
    "duration": 72,
    "start_time": "2023-05-28T15:07:12.191Z"
   },
   {
    "duration": 12,
    "start_time": "2023-05-28T15:07:12.265Z"
   },
   {
    "duration": 31,
    "start_time": "2023-05-28T15:07:12.279Z"
   },
   {
    "duration": 9,
    "start_time": "2023-05-28T15:07:12.312Z"
   },
   {
    "duration": 21,
    "start_time": "2023-05-28T15:07:12.324Z"
   },
   {
    "duration": 24,
    "start_time": "2023-05-28T15:07:12.347Z"
   },
   {
    "duration": 11,
    "start_time": "2023-05-28T15:07:12.374Z"
   },
   {
    "duration": 13,
    "start_time": "2023-05-28T15:07:12.387Z"
   },
   {
    "duration": 20,
    "start_time": "2023-05-28T15:07:12.402Z"
   },
   {
    "duration": 7,
    "start_time": "2023-05-28T15:07:12.424Z"
   },
   {
    "duration": 20,
    "start_time": "2023-05-28T15:07:12.434Z"
   },
   {
    "duration": 25,
    "start_time": "2023-05-28T15:07:12.456Z"
   },
   {
    "duration": 40,
    "start_time": "2023-05-28T15:07:12.483Z"
   },
   {
    "duration": 55,
    "start_time": "2023-05-28T15:07:12.525Z"
   },
   {
    "duration": 8,
    "start_time": "2023-05-28T15:07:12.582Z"
   },
   {
    "duration": 37,
    "start_time": "2023-05-28T15:07:12.591Z"
   },
   {
    "duration": 13,
    "start_time": "2023-05-28T15:07:12.630Z"
   },
   {
    "duration": 32,
    "start_time": "2023-05-28T15:07:12.646Z"
   },
   {
    "duration": 16,
    "start_time": "2023-05-28T15:07:12.681Z"
   },
   {
    "duration": 54,
    "start_time": "2023-05-28T15:07:12.699Z"
   },
   {
    "duration": 12,
    "start_time": "2023-05-28T15:07:12.756Z"
   },
   {
    "duration": 48,
    "start_time": "2023-05-28T15:07:12.770Z"
   },
   {
    "duration": 5,
    "start_time": "2023-05-28T15:07:12.823Z"
   },
   {
    "duration": 111,
    "start_time": "2023-05-28T15:07:12.830Z"
   },
   {
    "duration": 10,
    "start_time": "2023-05-28T15:07:12.944Z"
   },
   {
    "duration": 14,
    "start_time": "2023-05-28T15:07:12.956Z"
   },
   {
    "duration": 144,
    "start_time": "2023-05-28T15:07:12.972Z"
   },
   {
    "duration": 3,
    "start_time": "2023-05-28T15:07:13.119Z"
   },
   {
    "duration": 45,
    "start_time": "2023-05-28T15:07:13.124Z"
   },
   {
    "duration": 13,
    "start_time": "2023-05-28T15:07:13.171Z"
   },
   {
    "duration": 180,
    "start_time": "2023-05-28T15:07:13.186Z"
   },
   {
    "duration": 11,
    "start_time": "2023-05-28T15:07:13.372Z"
   },
   {
    "duration": 35,
    "start_time": "2023-05-28T15:07:13.385Z"
   },
   {
    "duration": 6,
    "start_time": "2023-05-28T15:07:13.426Z"
   },
   {
    "duration": 17,
    "start_time": "2023-05-28T15:07:13.434Z"
   },
   {
    "duration": 51,
    "start_time": "2023-05-28T15:07:13.453Z"
   },
   {
    "duration": 16,
    "start_time": "2023-05-28T15:07:13.506Z"
   },
   {
    "duration": 14,
    "start_time": "2023-05-28T15:07:13.525Z"
   },
   {
    "duration": 10,
    "start_time": "2023-05-28T15:07:13.541Z"
   },
   {
    "duration": 19,
    "start_time": "2023-05-28T15:07:13.554Z"
   },
   {
    "duration": 24,
    "start_time": "2023-05-28T15:07:13.575Z"
   },
   {
    "duration": 20,
    "start_time": "2023-05-28T15:07:13.602Z"
   },
   {
    "duration": 8,
    "start_time": "2023-05-28T15:07:13.623Z"
   },
   {
    "duration": 13,
    "start_time": "2023-05-28T15:07:13.633Z"
   },
   {
    "duration": 6,
    "start_time": "2023-05-28T15:07:13.648Z"
   },
   {
    "duration": 23,
    "start_time": "2023-05-28T15:07:13.656Z"
   },
   {
    "duration": 119,
    "start_time": "2023-05-28T15:19:33.177Z"
   },
   {
    "duration": 14,
    "start_time": "2023-05-28T15:20:07.154Z"
   },
   {
    "duration": 12,
    "start_time": "2023-05-28T15:20:27.291Z"
   },
   {
    "duration": 24,
    "start_time": "2023-05-28T15:22:06.569Z"
   },
   {
    "duration": 14,
    "start_time": "2023-05-28T15:22:21.783Z"
   },
   {
    "duration": 21,
    "start_time": "2023-05-28T15:23:09.960Z"
   },
   {
    "duration": 12,
    "start_time": "2023-05-28T15:23:27.081Z"
   },
   {
    "duration": 12,
    "start_time": "2023-05-28T15:23:39.553Z"
   },
   {
    "duration": 840,
    "start_time": "2023-05-28T15:25:37.966Z"
   },
   {
    "duration": 861,
    "start_time": "2023-05-28T15:26:28.683Z"
   },
   {
    "duration": 8,
    "start_time": "2023-05-28T15:28:17.052Z"
   },
   {
    "duration": 7,
    "start_time": "2023-05-28T15:28:33.189Z"
   },
   {
    "duration": 6,
    "start_time": "2023-05-28T15:28:36.925Z"
   },
   {
    "duration": 6,
    "start_time": "2023-05-28T15:28:58.182Z"
   },
   {
    "duration": 93,
    "start_time": "2023-05-29T06:44:02.574Z"
   },
   {
    "duration": 1876,
    "start_time": "2023-05-29T06:44:19.692Z"
   },
   {
    "duration": 1144,
    "start_time": "2023-05-29T06:44:21.571Z"
   },
   {
    "duration": 14,
    "start_time": "2023-05-29T06:44:22.717Z"
   },
   {
    "duration": 44,
    "start_time": "2023-05-29T06:44:22.733Z"
   },
   {
    "duration": 21,
    "start_time": "2023-05-29T06:44:22.780Z"
   },
   {
    "duration": 34,
    "start_time": "2023-05-29T06:44:22.804Z"
   },
   {
    "duration": 28,
    "start_time": "2023-05-29T06:44:22.840Z"
   },
   {
    "duration": 46,
    "start_time": "2023-05-29T06:44:22.870Z"
   },
   {
    "duration": 98,
    "start_time": "2023-05-29T06:44:22.924Z"
   },
   {
    "duration": 162,
    "start_time": "2023-05-29T06:44:23.024Z"
   },
   {
    "duration": 99,
    "start_time": "2023-05-29T06:44:23.188Z"
   },
   {
    "duration": 36,
    "start_time": "2023-05-29T06:44:23.289Z"
   },
   {
    "duration": 29,
    "start_time": "2023-05-29T06:44:23.327Z"
   },
   {
    "duration": 26,
    "start_time": "2023-05-29T06:44:23.361Z"
   },
   {
    "duration": 16,
    "start_time": "2023-05-29T06:44:23.393Z"
   },
   {
    "duration": 156,
    "start_time": "2023-05-29T06:44:23.414Z"
   },
   {
    "duration": 17,
    "start_time": "2023-05-29T06:44:23.572Z"
   },
   {
    "duration": 53,
    "start_time": "2023-05-29T06:44:23.593Z"
   },
   {
    "duration": 32,
    "start_time": "2023-05-29T06:44:23.649Z"
   },
   {
    "duration": 13,
    "start_time": "2023-05-29T06:44:23.684Z"
   },
   {
    "duration": 46,
    "start_time": "2023-05-29T06:44:23.698Z"
   },
   {
    "duration": 13,
    "start_time": "2023-05-29T06:44:23.747Z"
   },
   {
    "duration": 23,
    "start_time": "2023-05-29T06:44:23.762Z"
   },
   {
    "duration": 11,
    "start_time": "2023-05-29T06:44:23.788Z"
   },
   {
    "duration": 13365,
    "start_time": "2023-05-29T06:44:23.802Z"
   },
   {
    "duration": 22,
    "start_time": "2023-05-29T06:44:37.169Z"
   },
   {
    "duration": 29,
    "start_time": "2023-05-29T06:44:37.193Z"
   },
   {
    "duration": 15,
    "start_time": "2023-05-29T06:44:37.225Z"
   },
   {
    "duration": 13,
    "start_time": "2023-05-29T06:44:37.245Z"
   },
   {
    "duration": 45,
    "start_time": "2023-05-29T06:44:37.280Z"
   },
   {
    "duration": 40,
    "start_time": "2023-05-29T06:44:37.328Z"
   },
   {
    "duration": 40,
    "start_time": "2023-05-29T06:44:37.370Z"
   },
   {
    "duration": 17,
    "start_time": "2023-05-29T06:44:37.413Z"
   },
   {
    "duration": 6,
    "start_time": "2023-05-29T06:44:37.433Z"
   },
   {
    "duration": 32,
    "start_time": "2023-05-29T06:44:37.440Z"
   },
   {
    "duration": 10,
    "start_time": "2023-05-29T06:44:37.476Z"
   },
   {
    "duration": 5,
    "start_time": "2023-05-29T06:44:37.489Z"
   },
   {
    "duration": 40,
    "start_time": "2023-05-29T06:44:37.496Z"
   },
   {
    "duration": 11,
    "start_time": "2023-05-29T06:44:37.539Z"
   },
   {
    "duration": 15,
    "start_time": "2023-05-29T06:44:37.553Z"
   },
   {
    "duration": 73,
    "start_time": "2023-05-29T06:44:37.588Z"
   },
   {
    "duration": 3,
    "start_time": "2023-05-29T06:44:37.664Z"
   },
   {
    "duration": 13,
    "start_time": "2023-05-29T06:44:37.670Z"
   },
   {
    "duration": 96,
    "start_time": "2023-05-29T06:44:37.686Z"
   },
   {
    "duration": 17,
    "start_time": "2023-05-29T06:44:37.785Z"
   },
   {
    "duration": 15,
    "start_time": "2023-05-29T06:44:37.805Z"
   },
   {
    "duration": 7,
    "start_time": "2023-05-29T06:44:37.826Z"
   },
   {
    "duration": 14,
    "start_time": "2023-05-29T06:44:37.835Z"
   },
   {
    "duration": 4,
    "start_time": "2023-05-29T06:44:37.851Z"
   },
   {
    "duration": 26,
    "start_time": "2023-05-29T06:44:37.858Z"
   },
   {
    "duration": 13,
    "start_time": "2023-05-29T06:44:37.886Z"
   },
   {
    "duration": 26,
    "start_time": "2023-05-29T06:44:37.902Z"
   },
   {
    "duration": 4,
    "start_time": "2023-05-29T06:44:37.930Z"
   },
   {
    "duration": 17,
    "start_time": "2023-05-29T06:44:37.936Z"
   },
   {
    "duration": 24,
    "start_time": "2023-05-29T06:44:37.955Z"
   },
   {
    "duration": 75,
    "start_time": "2023-05-29T06:44:37.981Z"
   },
   {
    "duration": 33,
    "start_time": "2023-05-29T06:44:38.062Z"
   },
   {
    "duration": 9,
    "start_time": "2023-05-29T06:44:38.104Z"
   },
   {
    "duration": 34,
    "start_time": "2023-05-29T06:44:38.119Z"
   },
   {
    "duration": 20,
    "start_time": "2023-05-29T06:44:38.158Z"
   },
   {
    "duration": 39,
    "start_time": "2023-05-29T06:44:38.182Z"
   },
   {
    "duration": 17,
    "start_time": "2023-05-29T06:44:38.223Z"
   },
   {
    "duration": 71,
    "start_time": "2023-05-29T06:44:38.242Z"
   },
   {
    "duration": 4,
    "start_time": "2023-05-29T06:44:38.320Z"
   },
   {
    "duration": 66,
    "start_time": "2023-05-29T06:44:38.326Z"
   },
   {
    "duration": 13,
    "start_time": "2023-05-29T06:44:38.399Z"
   },
   {
    "duration": 109,
    "start_time": "2023-05-29T06:44:38.414Z"
   },
   {
    "duration": 9,
    "start_time": "2023-05-29T06:44:38.525Z"
   },
   {
    "duration": 25,
    "start_time": "2023-05-29T06:44:38.536Z"
   },
   {
    "duration": 219,
    "start_time": "2023-05-29T06:44:38.563Z"
   },
   {
    "duration": 12,
    "start_time": "2023-05-29T06:44:38.784Z"
   },
   {
    "duration": 17,
    "start_time": "2023-05-29T06:44:38.799Z"
   },
   {
    "duration": 5,
    "start_time": "2023-05-29T06:44:38.825Z"
   },
   {
    "duration": 242,
    "start_time": "2023-05-29T06:44:38.832Z"
   },
   {
    "duration": 20,
    "start_time": "2023-05-29T06:44:39.079Z"
   },
   {
    "duration": 11,
    "start_time": "2023-05-29T06:44:39.105Z"
   },
   {
    "duration": 6,
    "start_time": "2023-05-29T06:44:39.124Z"
   },
   {
    "duration": 5,
    "start_time": "2023-05-29T06:44:39.137Z"
   },
   {
    "duration": 8,
    "start_time": "2023-05-29T06:44:39.148Z"
   },
   {
    "duration": 8,
    "start_time": "2023-05-29T06:44:39.160Z"
   },
   {
    "duration": 8,
    "start_time": "2023-05-29T06:44:39.170Z"
   },
   {
    "duration": 17,
    "start_time": "2023-05-29T06:44:39.180Z"
   },
   {
    "duration": 11,
    "start_time": "2023-05-29T06:44:39.200Z"
   },
   {
    "duration": 15,
    "start_time": "2023-05-29T06:44:39.213Z"
   },
   {
    "duration": 27,
    "start_time": "2023-05-29T06:44:39.230Z"
   },
   {
    "duration": 13,
    "start_time": "2023-05-29T06:44:39.260Z"
   },
   {
    "duration": 27,
    "start_time": "2023-05-29T06:44:39.274Z"
   },
   {
    "duration": 10,
    "start_time": "2023-05-29T06:44:39.303Z"
   },
   {
    "duration": 24,
    "start_time": "2023-05-29T06:44:39.315Z"
   },
   {
    "duration": 131,
    "start_time": "2023-05-29T06:44:39.342Z"
   },
   {
    "duration": 0,
    "start_time": "2023-05-29T06:44:39.479Z"
   },
   {
    "duration": 0,
    "start_time": "2023-05-29T06:44:39.480Z"
   },
   {
    "duration": 21,
    "start_time": "2023-05-29T06:47:50.762Z"
   },
   {
    "duration": 14,
    "start_time": "2023-05-29T07:01:54.923Z"
   },
   {
    "duration": 21,
    "start_time": "2023-05-29T07:02:37.502Z"
   },
   {
    "duration": 10,
    "start_time": "2023-05-29T07:02:56.719Z"
   },
   {
    "duration": 10,
    "start_time": "2023-05-29T07:03:21.566Z"
   },
   {
    "duration": 11,
    "start_time": "2023-05-29T07:04:31.329Z"
   },
   {
    "duration": 21,
    "start_time": "2023-05-29T07:05:06.366Z"
   },
   {
    "duration": 4,
    "start_time": "2023-05-29T07:06:32.458Z"
   },
   {
    "duration": 69,
    "start_time": "2023-05-29T07:06:33.181Z"
   },
   {
    "duration": 4,
    "start_time": "2023-05-29T07:06:47.309Z"
   },
   {
    "duration": 6,
    "start_time": "2023-05-29T07:06:48.209Z"
   },
   {
    "duration": 5,
    "start_time": "2023-05-29T07:20:20.511Z"
   },
   {
    "duration": 44,
    "start_time": "2023-05-29T07:20:21.408Z"
   },
   {
    "duration": 72,
    "start_time": "2023-05-29T07:21:31.352Z"
   },
   {
    "duration": 79,
    "start_time": "2023-05-29T07:21:40.766Z"
   },
   {
    "duration": 69,
    "start_time": "2023-05-29T07:21:47.909Z"
   },
   {
    "duration": 6,
    "start_time": "2023-05-29T07:21:58.201Z"
   },
   {
    "duration": 6,
    "start_time": "2023-05-29T07:22:00.063Z"
   },
   {
    "duration": 6,
    "start_time": "2023-05-29T07:25:01.402Z"
   },
   {
    "duration": 4,
    "start_time": "2023-05-29T07:25:02.311Z"
   },
   {
    "duration": 5,
    "start_time": "2023-05-29T07:25:03.162Z"
   },
   {
    "duration": 6,
    "start_time": "2023-05-29T07:42:31.970Z"
   },
   {
    "duration": 3,
    "start_time": "2023-05-29T07:42:36.818Z"
   },
   {
    "duration": 6,
    "start_time": "2023-05-29T07:44:26.766Z"
   },
   {
    "duration": 9,
    "start_time": "2023-05-29T07:44:27.801Z"
   },
   {
    "duration": 9,
    "start_time": "2023-05-29T07:50:58.498Z"
   },
   {
    "duration": 9,
    "start_time": "2023-05-29T07:50:59.102Z"
   },
   {
    "duration": 1320,
    "start_time": "2023-05-29T07:51:44.600Z"
   },
   {
    "duration": 188,
    "start_time": "2023-05-29T07:51:45.922Z"
   },
   {
    "duration": 14,
    "start_time": "2023-05-29T07:51:46.113Z"
   },
   {
    "duration": 21,
    "start_time": "2023-05-29T07:51:46.130Z"
   },
   {
    "duration": 3,
    "start_time": "2023-05-29T07:51:46.153Z"
   },
   {
    "duration": 25,
    "start_time": "2023-05-29T07:51:46.158Z"
   },
   {
    "duration": 33,
    "start_time": "2023-05-29T07:51:46.185Z"
   },
   {
    "duration": 42,
    "start_time": "2023-05-29T07:51:46.221Z"
   },
   {
    "duration": 112,
    "start_time": "2023-05-29T07:51:46.274Z"
   },
   {
    "duration": 122,
    "start_time": "2023-05-29T07:51:46.394Z"
   },
   {
    "duration": 83,
    "start_time": "2023-05-29T07:51:46.519Z"
   },
   {
    "duration": 20,
    "start_time": "2023-05-29T07:51:46.608Z"
   },
   {
    "duration": 15,
    "start_time": "2023-05-29T07:51:46.629Z"
   },
   {
    "duration": 7,
    "start_time": "2023-05-29T07:51:46.646Z"
   },
   {
    "duration": 9,
    "start_time": "2023-05-29T07:51:46.655Z"
   },
   {
    "duration": 143,
    "start_time": "2023-05-29T07:51:46.682Z"
   },
   {
    "duration": 9,
    "start_time": "2023-05-29T07:51:46.827Z"
   },
   {
    "duration": 67,
    "start_time": "2023-05-29T07:51:46.838Z"
   },
   {
    "duration": 22,
    "start_time": "2023-05-29T07:51:46.906Z"
   },
   {
    "duration": 8,
    "start_time": "2023-05-29T07:51:46.930Z"
   },
   {
    "duration": 47,
    "start_time": "2023-05-29T07:51:46.939Z"
   },
   {
    "duration": 17,
    "start_time": "2023-05-29T07:51:46.988Z"
   },
   {
    "duration": 5,
    "start_time": "2023-05-29T07:51:47.011Z"
   },
   {
    "duration": 13,
    "start_time": "2023-05-29T07:51:47.017Z"
   },
   {
    "duration": 10211,
    "start_time": "2023-05-29T07:51:47.032Z"
   },
   {
    "duration": 18,
    "start_time": "2023-05-29T07:51:57.245Z"
   },
   {
    "duration": 24,
    "start_time": "2023-05-29T07:51:57.265Z"
   },
   {
    "duration": 15,
    "start_time": "2023-05-29T07:51:57.294Z"
   },
   {
    "duration": 10,
    "start_time": "2023-05-29T07:51:57.314Z"
   },
   {
    "duration": 13,
    "start_time": "2023-05-29T07:51:57.326Z"
   },
   {
    "duration": 43,
    "start_time": "2023-05-29T07:51:57.341Z"
   },
   {
    "duration": 38,
    "start_time": "2023-05-29T07:51:57.386Z"
   },
   {
    "duration": 6,
    "start_time": "2023-05-29T07:51:57.426Z"
   },
   {
    "duration": 4,
    "start_time": "2023-05-29T07:51:57.434Z"
   },
   {
    "duration": 56,
    "start_time": "2023-05-29T07:51:57.440Z"
   },
   {
    "duration": 8,
    "start_time": "2023-05-29T07:51:57.498Z"
   },
   {
    "duration": 8,
    "start_time": "2023-05-29T07:51:57.508Z"
   },
   {
    "duration": 38,
    "start_time": "2023-05-29T07:51:57.518Z"
   },
   {
    "duration": 5,
    "start_time": "2023-05-29T07:51:57.558Z"
   },
   {
    "duration": 6,
    "start_time": "2023-05-29T07:51:57.566Z"
   },
   {
    "duration": 63,
    "start_time": "2023-05-29T07:51:57.574Z"
   },
   {
    "duration": 5,
    "start_time": "2023-05-29T07:51:57.639Z"
   },
   {
    "duration": 13,
    "start_time": "2023-05-29T07:51:57.646Z"
   },
   {
    "duration": 88,
    "start_time": "2023-05-29T07:51:57.661Z"
   },
   {
    "duration": 9,
    "start_time": "2023-05-29T07:51:57.751Z"
   },
   {
    "duration": 17,
    "start_time": "2023-05-29T07:51:57.763Z"
   },
   {
    "duration": 6,
    "start_time": "2023-05-29T07:51:57.782Z"
   },
   {
    "duration": 10,
    "start_time": "2023-05-29T07:51:57.790Z"
   },
   {
    "duration": 5,
    "start_time": "2023-05-29T07:51:57.802Z"
   },
   {
    "duration": 13,
    "start_time": "2023-05-29T07:51:57.809Z"
   },
   {
    "duration": 7,
    "start_time": "2023-05-29T07:51:57.825Z"
   },
   {
    "duration": 10,
    "start_time": "2023-05-29T07:51:57.835Z"
   },
   {
    "duration": 37,
    "start_time": "2023-05-29T07:51:57.847Z"
   },
   {
    "duration": 9,
    "start_time": "2023-05-29T07:51:57.887Z"
   },
   {
    "duration": 21,
    "start_time": "2023-05-29T07:51:57.898Z"
   },
   {
    "duration": 25,
    "start_time": "2023-05-29T07:51:57.922Z"
   },
   {
    "duration": 28,
    "start_time": "2023-05-29T07:51:57.949Z"
   },
   {
    "duration": 8,
    "start_time": "2023-05-29T07:51:57.980Z"
   },
   {
    "duration": 30,
    "start_time": "2023-05-29T07:51:57.990Z"
   },
   {
    "duration": 6,
    "start_time": "2023-05-29T07:51:58.022Z"
   },
   {
    "duration": 59,
    "start_time": "2023-05-29T07:51:58.030Z"
   },
   {
    "duration": 10,
    "start_time": "2023-05-29T07:51:58.091Z"
   },
   {
    "duration": 43,
    "start_time": "2023-05-29T07:51:58.104Z"
   },
   {
    "duration": 4,
    "start_time": "2023-05-29T07:51:58.149Z"
   },
   {
    "duration": 40,
    "start_time": "2023-05-29T07:51:58.154Z"
   },
   {
    "duration": 6,
    "start_time": "2023-05-29T07:51:58.196Z"
   },
   {
    "duration": 90,
    "start_time": "2023-05-29T07:51:58.204Z"
   },
   {
    "duration": 13,
    "start_time": "2023-05-29T07:51:58.296Z"
   },
   {
    "duration": 4,
    "start_time": "2023-05-29T07:51:58.310Z"
   },
   {
    "duration": 141,
    "start_time": "2023-05-29T07:51:58.316Z"
   },
   {
    "duration": 4,
    "start_time": "2023-05-29T07:51:58.460Z"
   },
   {
    "duration": 9,
    "start_time": "2023-05-29T07:51:58.481Z"
   },
   {
    "duration": 5,
    "start_time": "2023-05-29T07:51:58.492Z"
   },
   {
    "duration": 164,
    "start_time": "2023-05-29T07:51:58.499Z"
   },
   {
    "duration": 18,
    "start_time": "2023-05-29T07:51:58.665Z"
   },
   {
    "duration": 15,
    "start_time": "2023-05-29T07:51:58.693Z"
   },
   {
    "duration": 18,
    "start_time": "2023-05-29T07:51:58.710Z"
   },
   {
    "duration": 5,
    "start_time": "2023-05-29T07:51:58.731Z"
   },
   {
    "duration": 7,
    "start_time": "2023-05-29T07:51:58.737Z"
   },
   {
    "duration": 5,
    "start_time": "2023-05-29T07:51:58.746Z"
   },
   {
    "duration": 4,
    "start_time": "2023-05-29T07:51:58.753Z"
   },
   {
    "duration": 5,
    "start_time": "2023-05-29T07:51:58.763Z"
   },
   {
    "duration": 7,
    "start_time": "2023-05-29T07:51:58.781Z"
   },
   {
    "duration": 27,
    "start_time": "2023-05-29T07:51:58.790Z"
   },
   {
    "duration": 14,
    "start_time": "2023-05-29T07:51:58.821Z"
   },
   {
    "duration": 7,
    "start_time": "2023-05-29T07:51:58.837Z"
   },
   {
    "duration": 13,
    "start_time": "2023-05-29T07:51:58.845Z"
   },
   {
    "duration": 4,
    "start_time": "2023-05-29T07:51:58.860Z"
   },
   {
    "duration": 15,
    "start_time": "2023-05-29T07:51:58.866Z"
   },
   {
    "duration": 35,
    "start_time": "2023-05-29T07:51:58.883Z"
   },
   {
    "duration": 15,
    "start_time": "2023-05-29T07:51:58.921Z"
   },
   {
    "duration": 9,
    "start_time": "2023-05-29T07:57:54.026Z"
   },
   {
    "duration": 11,
    "start_time": "2023-05-29T07:57:54.909Z"
   },
   {
    "duration": 10,
    "start_time": "2023-05-29T08:00:55.701Z"
   },
   {
    "duration": 8,
    "start_time": "2023-05-29T08:06:05.102Z"
   },
   {
    "duration": 9,
    "start_time": "2023-05-29T08:06:06.314Z"
   },
   {
    "duration": 7,
    "start_time": "2023-05-29T08:06:40.902Z"
   },
   {
    "duration": 5,
    "start_time": "2023-05-29T08:06:41.915Z"
   },
   {
    "duration": 13,
    "start_time": "2023-05-29T08:07:28.894Z"
   },
   {
    "duration": 5,
    "start_time": "2023-05-29T08:07:29.511Z"
   },
   {
    "duration": 6,
    "start_time": "2023-05-29T08:22:37.501Z"
   },
   {
    "duration": 53,
    "start_time": "2023-05-29T08:23:00.811Z"
   },
   {
    "duration": 5,
    "start_time": "2023-05-29T08:23:21.658Z"
   },
   {
    "duration": 5,
    "start_time": "2023-05-29T08:31:12.023Z"
   },
   {
    "duration": 7,
    "start_time": "2023-05-29T08:31:28.458Z"
   },
   {
    "duration": 9,
    "start_time": "2023-05-29T08:57:52.902Z"
   },
   {
    "duration": 11,
    "start_time": "2023-05-29T08:58:35.306Z"
   },
   {
    "duration": 12,
    "start_time": "2023-05-29T08:59:17.523Z"
   },
   {
    "duration": 7,
    "start_time": "2023-05-29T09:00:05.634Z"
   },
   {
    "duration": 6,
    "start_time": "2023-05-29T09:00:54.942Z"
   },
   {
    "duration": 50,
    "start_time": "2023-05-29T09:01:15.512Z"
   },
   {
    "duration": 7,
    "start_time": "2023-05-29T09:02:18.506Z"
   },
   {
    "duration": 8,
    "start_time": "2023-05-29T09:02:44.052Z"
   },
   {
    "duration": 90,
    "start_time": "2023-05-29T09:02:58.551Z"
   },
   {
    "duration": 7,
    "start_time": "2023-05-29T09:03:15.378Z"
   },
   {
    "duration": 7,
    "start_time": "2023-05-29T09:03:44.142Z"
   },
   {
    "duration": 1436,
    "start_time": "2023-05-29T09:05:09.708Z"
   },
   {
    "duration": 247,
    "start_time": "2023-05-29T09:05:11.146Z"
   },
   {
    "duration": 20,
    "start_time": "2023-05-29T09:05:11.395Z"
   },
   {
    "duration": 28,
    "start_time": "2023-05-29T09:05:11.422Z"
   },
   {
    "duration": 3,
    "start_time": "2023-05-29T09:05:11.452Z"
   },
   {
    "duration": 14,
    "start_time": "2023-05-29T09:05:11.457Z"
   },
   {
    "duration": 41,
    "start_time": "2023-05-29T09:05:11.473Z"
   },
   {
    "duration": 29,
    "start_time": "2023-05-29T09:05:11.516Z"
   },
   {
    "duration": 103,
    "start_time": "2023-05-29T09:05:11.547Z"
   },
   {
    "duration": 149,
    "start_time": "2023-05-29T09:05:11.653Z"
   },
   {
    "duration": 81,
    "start_time": "2023-05-29T09:05:11.811Z"
   },
   {
    "duration": 44,
    "start_time": "2023-05-29T09:05:11.897Z"
   },
   {
    "duration": 25,
    "start_time": "2023-05-29T09:05:11.943Z"
   },
   {
    "duration": 12,
    "start_time": "2023-05-29T09:05:11.972Z"
   },
   {
    "duration": 20,
    "start_time": "2023-05-29T09:05:11.986Z"
   },
   {
    "duration": 220,
    "start_time": "2023-05-29T09:05:12.008Z"
   },
   {
    "duration": 15,
    "start_time": "2023-05-29T09:05:12.231Z"
   },
   {
    "duration": 59,
    "start_time": "2023-05-29T09:05:12.248Z"
   },
   {
    "duration": 30,
    "start_time": "2023-05-29T09:05:12.309Z"
   },
   {
    "duration": 8,
    "start_time": "2023-05-29T09:05:12.340Z"
   },
   {
    "duration": 41,
    "start_time": "2023-05-29T09:05:12.350Z"
   },
   {
    "duration": 12,
    "start_time": "2023-05-29T09:05:12.393Z"
   },
   {
    "duration": 14,
    "start_time": "2023-05-29T09:05:12.407Z"
   },
   {
    "duration": 18,
    "start_time": "2023-05-29T09:05:12.423Z"
   },
   {
    "duration": 10649,
    "start_time": "2023-05-29T09:05:12.442Z"
   },
   {
    "duration": 23,
    "start_time": "2023-05-29T09:05:23.092Z"
   },
   {
    "duration": 21,
    "start_time": "2023-05-29T09:05:23.116Z"
   },
   {
    "duration": 18,
    "start_time": "2023-05-29T09:05:23.139Z"
   },
   {
    "duration": 42,
    "start_time": "2023-05-29T09:05:23.159Z"
   },
   {
    "duration": 29,
    "start_time": "2023-05-29T09:05:23.203Z"
   },
   {
    "duration": 31,
    "start_time": "2023-05-29T09:05:23.234Z"
   },
   {
    "duration": 41,
    "start_time": "2023-05-29T09:05:23.268Z"
   },
   {
    "duration": 10,
    "start_time": "2023-05-29T09:05:23.311Z"
   },
   {
    "duration": 9,
    "start_time": "2023-05-29T09:05:23.323Z"
   },
   {
    "duration": 28,
    "start_time": "2023-05-29T09:05:23.334Z"
   },
   {
    "duration": 6,
    "start_time": "2023-05-29T09:05:23.364Z"
   },
   {
    "duration": 19,
    "start_time": "2023-05-29T09:05:23.372Z"
   },
   {
    "duration": 41,
    "start_time": "2023-05-29T09:05:23.393Z"
   },
   {
    "duration": 9,
    "start_time": "2023-05-29T09:05:23.436Z"
   },
   {
    "duration": 11,
    "start_time": "2023-05-29T09:05:23.448Z"
   },
   {
    "duration": 62,
    "start_time": "2023-05-29T09:05:23.466Z"
   },
   {
    "duration": 3,
    "start_time": "2023-05-29T09:05:23.531Z"
   },
   {
    "duration": 12,
    "start_time": "2023-05-29T09:05:23.536Z"
   },
   {
    "duration": 79,
    "start_time": "2023-05-29T09:05:23.550Z"
   },
   {
    "duration": 11,
    "start_time": "2023-05-29T09:05:23.632Z"
   },
   {
    "duration": 8,
    "start_time": "2023-05-29T09:05:23.645Z"
   },
   {
    "duration": 32,
    "start_time": "2023-05-29T09:05:23.655Z"
   },
   {
    "duration": 21,
    "start_time": "2023-05-29T09:05:23.691Z"
   },
   {
    "duration": 5,
    "start_time": "2023-05-29T09:05:23.716Z"
   },
   {
    "duration": 11,
    "start_time": "2023-05-29T09:05:23.726Z"
   },
   {
    "duration": 7,
    "start_time": "2023-05-29T09:05:23.738Z"
   },
   {
    "duration": 10,
    "start_time": "2023-05-29T09:05:23.747Z"
   },
   {
    "duration": 3,
    "start_time": "2023-05-29T09:05:23.759Z"
   },
   {
    "duration": 7,
    "start_time": "2023-05-29T09:05:23.774Z"
   },
   {
    "duration": 15,
    "start_time": "2023-05-29T09:05:23.783Z"
   },
   {
    "duration": 34,
    "start_time": "2023-05-29T09:05:23.800Z"
   },
   {
    "duration": 19,
    "start_time": "2023-05-29T09:05:23.836Z"
   },
   {
    "duration": 13,
    "start_time": "2023-05-29T09:05:23.877Z"
   },
   {
    "duration": 30,
    "start_time": "2023-05-29T09:05:23.892Z"
   },
   {
    "duration": 18,
    "start_time": "2023-05-29T09:05:23.924Z"
   },
   {
    "duration": 43,
    "start_time": "2023-05-29T09:05:23.947Z"
   },
   {
    "duration": 8,
    "start_time": "2023-05-29T09:05:23.997Z"
   },
   {
    "duration": 42,
    "start_time": "2023-05-29T09:05:24.014Z"
   },
   {
    "duration": 5,
    "start_time": "2023-05-29T09:05:24.058Z"
   },
   {
    "duration": 48,
    "start_time": "2023-05-29T09:05:24.066Z"
   },
   {
    "duration": 5,
    "start_time": "2023-05-29T09:05:24.116Z"
   },
   {
    "duration": 81,
    "start_time": "2023-05-29T09:05:24.122Z"
   },
   {
    "duration": 9,
    "start_time": "2023-05-29T09:05:24.205Z"
   },
   {
    "duration": 4,
    "start_time": "2023-05-29T09:05:24.215Z"
   },
   {
    "duration": 127,
    "start_time": "2023-05-29T09:05:24.220Z"
   },
   {
    "duration": 5,
    "start_time": "2023-05-29T09:05:24.349Z"
   },
   {
    "duration": 28,
    "start_time": "2023-05-29T09:05:24.356Z"
   },
   {
    "duration": 12,
    "start_time": "2023-05-29T09:05:24.390Z"
   },
   {
    "duration": 206,
    "start_time": "2023-05-29T09:05:24.403Z"
   },
   {
    "duration": 9,
    "start_time": "2023-05-29T09:05:24.611Z"
   },
   {
    "duration": 10,
    "start_time": "2023-05-29T09:05:24.622Z"
   },
   {
    "duration": 10,
    "start_time": "2023-05-29T09:05:24.634Z"
   },
   {
    "duration": 11,
    "start_time": "2023-05-29T09:05:24.646Z"
   },
   {
    "duration": 13,
    "start_time": "2023-05-29T09:05:24.659Z"
   },
   {
    "duration": 30,
    "start_time": "2023-05-29T09:05:24.674Z"
   },
   {
    "duration": 3,
    "start_time": "2023-05-29T09:05:24.711Z"
   },
   {
    "duration": 24,
    "start_time": "2023-05-29T09:05:24.721Z"
   },
   {
    "duration": 8,
    "start_time": "2023-05-29T09:05:24.747Z"
   },
   {
    "duration": 4,
    "start_time": "2023-05-29T09:05:24.756Z"
   },
   {
    "duration": 14,
    "start_time": "2023-05-29T09:05:24.762Z"
   },
   {
    "duration": 12,
    "start_time": "2023-05-29T09:05:24.778Z"
   },
   {
    "duration": 19,
    "start_time": "2023-05-29T09:05:24.798Z"
   },
   {
    "duration": 4,
    "start_time": "2023-05-29T09:05:24.820Z"
   },
   {
    "duration": 15,
    "start_time": "2023-05-29T09:05:24.826Z"
   },
   {
    "duration": 7,
    "start_time": "2023-05-29T09:05:24.843Z"
   },
   {
    "duration": 9,
    "start_time": "2023-05-29T09:05:24.852Z"
   },
   {
    "duration": 15,
    "start_time": "2023-05-29T09:05:24.863Z"
   },
   {
    "duration": 13,
    "start_time": "2023-05-29T09:05:24.882Z"
   },
   {
    "duration": 12,
    "start_time": "2023-05-29T09:05:24.906Z"
   },
   {
    "duration": 6,
    "start_time": "2023-05-29T09:05:24.919Z"
   },
   {
    "duration": 10,
    "start_time": "2023-05-29T09:05:24.926Z"
   },
   {
    "duration": 4,
    "start_time": "2023-05-29T09:05:24.938Z"
   },
   {
    "duration": 5,
    "start_time": "2023-05-29T09:05:24.944Z"
   },
   {
    "duration": 21,
    "start_time": "2023-05-29T09:05:24.951Z"
   },
   {
    "duration": 16,
    "start_time": "2023-05-29T09:05:24.974Z"
   },
   {
    "duration": 13,
    "start_time": "2023-05-29T09:05:24.992Z"
   },
   {
    "duration": 17,
    "start_time": "2023-05-29T09:05:25.009Z"
   },
   {
    "duration": 10,
    "start_time": "2023-05-29T09:08:58.109Z"
   },
   {
    "duration": 7,
    "start_time": "2023-05-29T09:09:50.252Z"
   },
   {
    "duration": 6,
    "start_time": "2023-05-29T09:10:12.816Z"
   },
   {
    "duration": 6,
    "start_time": "2023-05-29T09:10:37.538Z"
   },
   {
    "duration": 1437,
    "start_time": "2023-05-29T09:19:00.692Z"
   },
   {
    "duration": 250,
    "start_time": "2023-05-29T09:19:02.136Z"
   },
   {
    "duration": 15,
    "start_time": "2023-05-29T09:19:02.388Z"
   },
   {
    "duration": 31,
    "start_time": "2023-05-29T09:19:02.406Z"
   },
   {
    "duration": 3,
    "start_time": "2023-05-29T09:19:02.439Z"
   },
   {
    "duration": 10,
    "start_time": "2023-05-29T09:19:02.444Z"
   },
   {
    "duration": 49,
    "start_time": "2023-05-29T09:19:02.456Z"
   },
   {
    "duration": 45,
    "start_time": "2023-05-29T09:19:02.507Z"
   },
   {
    "duration": 110,
    "start_time": "2023-05-29T09:19:02.555Z"
   },
   {
    "duration": 153,
    "start_time": "2023-05-29T09:19:02.670Z"
   },
   {
    "duration": 100,
    "start_time": "2023-05-29T09:19:02.826Z"
   },
   {
    "duration": 33,
    "start_time": "2023-05-29T09:19:02.932Z"
   },
   {
    "duration": 30,
    "start_time": "2023-05-29T09:19:02.967Z"
   },
   {
    "duration": 14,
    "start_time": "2023-05-29T09:19:03.000Z"
   },
   {
    "duration": 21,
    "start_time": "2023-05-29T09:19:03.016Z"
   },
   {
    "duration": 170,
    "start_time": "2023-05-29T09:19:03.040Z"
   },
   {
    "duration": 24,
    "start_time": "2023-05-29T09:19:03.216Z"
   },
   {
    "duration": 58,
    "start_time": "2023-05-29T09:19:03.244Z"
   },
   {
    "duration": 38,
    "start_time": "2023-05-29T09:19:03.308Z"
   },
   {
    "duration": 11,
    "start_time": "2023-05-29T09:19:03.351Z"
   },
   {
    "duration": 73,
    "start_time": "2023-05-29T09:19:03.364Z"
   },
   {
    "duration": 11,
    "start_time": "2023-05-29T09:19:03.445Z"
   },
   {
    "duration": 8,
    "start_time": "2023-05-29T09:19:03.458Z"
   },
   {
    "duration": 20,
    "start_time": "2023-05-29T09:19:03.468Z"
   },
   {
    "duration": 11188,
    "start_time": "2023-05-29T09:19:03.505Z"
   },
   {
    "duration": 23,
    "start_time": "2023-05-29T09:19:14.696Z"
   },
   {
    "duration": 14,
    "start_time": "2023-05-29T09:19:14.722Z"
   },
   {
    "duration": 19,
    "start_time": "2023-05-29T09:19:14.742Z"
   },
   {
    "duration": 25,
    "start_time": "2023-05-29T09:19:14.763Z"
   },
   {
    "duration": 32,
    "start_time": "2023-05-29T09:19:14.794Z"
   },
   {
    "duration": 23,
    "start_time": "2023-05-29T09:19:14.828Z"
   },
   {
    "duration": 34,
    "start_time": "2023-05-29T09:19:14.853Z"
   },
   {
    "duration": 6,
    "start_time": "2023-05-29T09:19:14.890Z"
   },
   {
    "duration": 5,
    "start_time": "2023-05-29T09:19:14.898Z"
   },
   {
    "duration": 33,
    "start_time": "2023-05-29T09:19:14.905Z"
   },
   {
    "duration": 5,
    "start_time": "2023-05-29T09:19:14.942Z"
   },
   {
    "duration": 6,
    "start_time": "2023-05-29T09:19:14.949Z"
   },
   {
    "duration": 45,
    "start_time": "2023-05-29T09:19:14.957Z"
   },
   {
    "duration": 11,
    "start_time": "2023-05-29T09:19:15.004Z"
   },
   {
    "duration": 30,
    "start_time": "2023-05-29T09:19:15.017Z"
   },
   {
    "duration": 94,
    "start_time": "2023-05-29T09:19:15.049Z"
   },
   {
    "duration": 3,
    "start_time": "2023-05-29T09:19:15.145Z"
   },
   {
    "duration": 15,
    "start_time": "2023-05-29T09:19:15.149Z"
   },
   {
    "duration": 74,
    "start_time": "2023-05-29T09:19:15.166Z"
   },
   {
    "duration": 10,
    "start_time": "2023-05-29T09:19:15.242Z"
   },
   {
    "duration": 8,
    "start_time": "2023-05-29T09:19:15.253Z"
   },
   {
    "duration": 16,
    "start_time": "2023-05-29T09:19:15.263Z"
   },
   {
    "duration": 18,
    "start_time": "2023-05-29T09:19:15.286Z"
   },
   {
    "duration": 11,
    "start_time": "2023-05-29T09:19:15.306Z"
   },
   {
    "duration": 10,
    "start_time": "2023-05-29T09:19:15.319Z"
   },
   {
    "duration": 10,
    "start_time": "2023-05-29T09:19:15.331Z"
   },
   {
    "duration": 11,
    "start_time": "2023-05-29T09:19:15.343Z"
   },
   {
    "duration": 7,
    "start_time": "2023-05-29T09:19:15.356Z"
   },
   {
    "duration": 13,
    "start_time": "2023-05-29T09:19:15.365Z"
   },
   {
    "duration": 32,
    "start_time": "2023-05-29T09:19:15.380Z"
   },
   {
    "duration": 36,
    "start_time": "2023-05-29T09:19:15.414Z"
   },
   {
    "duration": 21,
    "start_time": "2023-05-29T09:19:15.451Z"
   },
   {
    "duration": 32,
    "start_time": "2023-05-29T09:19:15.476Z"
   },
   {
    "duration": 31,
    "start_time": "2023-05-29T09:19:15.516Z"
   },
   {
    "duration": 6,
    "start_time": "2023-05-29T09:19:15.549Z"
   },
   {
    "duration": 31,
    "start_time": "2023-05-29T09:19:15.556Z"
   },
   {
    "duration": 10,
    "start_time": "2023-05-29T09:19:15.592Z"
   },
   {
    "duration": 40,
    "start_time": "2023-05-29T09:19:15.603Z"
   },
   {
    "duration": 4,
    "start_time": "2023-05-29T09:19:15.644Z"
   },
   {
    "duration": 25,
    "start_time": "2023-05-29T09:19:15.650Z"
   },
   {
    "duration": 13,
    "start_time": "2023-05-29T09:19:15.680Z"
   },
   {
    "duration": 63,
    "start_time": "2023-05-29T09:19:15.701Z"
   },
   {
    "duration": 8,
    "start_time": "2023-05-29T09:19:15.766Z"
   },
   {
    "duration": 16,
    "start_time": "2023-05-29T09:19:15.785Z"
   },
   {
    "duration": 121,
    "start_time": "2023-05-29T09:19:15.809Z"
   },
   {
    "duration": 4,
    "start_time": "2023-05-29T09:19:15.932Z"
   },
   {
    "duration": 13,
    "start_time": "2023-05-29T09:19:15.937Z"
   },
   {
    "duration": 9,
    "start_time": "2023-05-29T09:19:15.952Z"
   },
   {
    "duration": 202,
    "start_time": "2023-05-29T09:19:15.963Z"
   },
   {
    "duration": 13,
    "start_time": "2023-05-29T09:19:16.167Z"
   },
   {
    "duration": 16,
    "start_time": "2023-05-29T09:19:16.182Z"
   },
   {
    "duration": 10,
    "start_time": "2023-05-29T09:19:16.200Z"
   },
   {
    "duration": 5,
    "start_time": "2023-05-29T09:19:16.216Z"
   },
   {
    "duration": 16,
    "start_time": "2023-05-29T09:19:16.223Z"
   },
   {
    "duration": 7,
    "start_time": "2023-05-29T09:19:16.240Z"
   },
   {
    "duration": 7,
    "start_time": "2023-05-29T09:19:16.249Z"
   },
   {
    "duration": 7,
    "start_time": "2023-05-29T09:19:16.264Z"
   },
   {
    "duration": 17,
    "start_time": "2023-05-29T09:19:16.273Z"
   },
   {
    "duration": 8,
    "start_time": "2023-05-29T09:19:16.295Z"
   },
   {
    "duration": 8,
    "start_time": "2023-05-29T09:19:16.305Z"
   },
   {
    "duration": 13,
    "start_time": "2023-05-29T09:19:16.315Z"
   },
   {
    "duration": 14,
    "start_time": "2023-05-29T09:19:16.330Z"
   },
   {
    "duration": 20,
    "start_time": "2023-05-29T09:19:16.346Z"
   },
   {
    "duration": 9,
    "start_time": "2023-05-29T09:19:16.368Z"
   },
   {
    "duration": 7,
    "start_time": "2023-05-29T09:19:16.382Z"
   },
   {
    "duration": 24,
    "start_time": "2023-05-29T09:19:16.391Z"
   },
   {
    "duration": 11,
    "start_time": "2023-05-29T09:19:16.417Z"
   },
   {
    "duration": 7,
    "start_time": "2023-05-29T09:19:16.430Z"
   },
   {
    "duration": 7,
    "start_time": "2023-05-29T09:19:16.439Z"
   },
   {
    "duration": 13,
    "start_time": "2023-05-29T09:19:16.447Z"
   },
   {
    "duration": 14,
    "start_time": "2023-05-29T09:19:16.462Z"
   },
   {
    "duration": 7,
    "start_time": "2023-05-29T09:19:16.478Z"
   },
   {
    "duration": 20,
    "start_time": "2023-05-29T09:19:16.487Z"
   },
   {
    "duration": 6,
    "start_time": "2023-05-29T09:19:16.509Z"
   },
   {
    "duration": 9,
    "start_time": "2023-05-29T09:19:16.517Z"
   },
   {
    "duration": 9,
    "start_time": "2023-05-29T09:19:16.527Z"
   },
   {
    "duration": 12,
    "start_time": "2023-05-29T09:19:16.537Z"
   },
   {
    "duration": 7,
    "start_time": "2023-05-29T09:19:16.551Z"
   },
   {
    "duration": 34,
    "start_time": "2023-05-29T09:19:16.560Z"
   },
   {
    "duration": 14,
    "start_time": "2023-05-29T09:19:16.598Z"
   },
   {
    "duration": 6,
    "start_time": "2023-05-29T09:19:16.617Z"
   },
   {
    "duration": 189,
    "start_time": "2023-05-29T09:25:08.152Z"
   },
   {
    "duration": 21,
    "start_time": "2023-05-29T09:29:46.078Z"
   },
   {
    "duration": 23,
    "start_time": "2023-05-29T09:31:07.999Z"
   },
   {
    "duration": 14,
    "start_time": "2023-05-29T09:31:38.802Z"
   },
   {
    "duration": 20,
    "start_time": "2023-05-29T09:32:58.199Z"
   },
   {
    "duration": 15,
    "start_time": "2023-05-29T09:33:36.603Z"
   },
   {
    "duration": 1284,
    "start_time": "2023-05-29T14:14:56.701Z"
   },
   {
    "duration": 539,
    "start_time": "2023-05-29T14:14:57.987Z"
   },
   {
    "duration": 11,
    "start_time": "2023-05-29T14:14:58.529Z"
   },
   {
    "duration": 18,
    "start_time": "2023-05-29T14:14:58.542Z"
   },
   {
    "duration": 3,
    "start_time": "2023-05-29T14:14:58.562Z"
   },
   {
    "duration": 10,
    "start_time": "2023-05-29T14:14:58.566Z"
   },
   {
    "duration": 27,
    "start_time": "2023-05-29T14:14:58.577Z"
   },
   {
    "duration": 41,
    "start_time": "2023-05-29T14:14:58.605Z"
   },
   {
    "duration": 74,
    "start_time": "2023-05-29T14:14:58.648Z"
   },
   {
    "duration": 109,
    "start_time": "2023-05-29T14:14:58.725Z"
   },
   {
    "duration": 64,
    "start_time": "2023-05-29T14:14:58.836Z"
   },
   {
    "duration": 17,
    "start_time": "2023-05-29T14:14:58.901Z"
   },
   {
    "duration": 33,
    "start_time": "2023-05-29T14:14:58.920Z"
   },
   {
    "duration": 8,
    "start_time": "2023-05-29T14:14:58.955Z"
   },
   {
    "duration": 9,
    "start_time": "2023-05-29T14:14:58.965Z"
   },
   {
    "duration": 123,
    "start_time": "2023-05-29T14:14:58.976Z"
   },
   {
    "duration": 10,
    "start_time": "2023-05-29T14:14:59.101Z"
   },
   {
    "duration": 39,
    "start_time": "2023-05-29T14:14:59.113Z"
   },
   {
    "duration": 17,
    "start_time": "2023-05-29T14:14:59.154Z"
   },
   {
    "duration": 9,
    "start_time": "2023-05-29T14:14:59.173Z"
   },
   {
    "duration": 26,
    "start_time": "2023-05-29T14:14:59.184Z"
   },
   {
    "duration": 34,
    "start_time": "2023-05-29T14:14:59.212Z"
   },
   {
    "duration": 6,
    "start_time": "2023-05-29T14:14:59.248Z"
   },
   {
    "duration": 19,
    "start_time": "2023-05-29T14:14:59.255Z"
   },
   {
    "duration": 8712,
    "start_time": "2023-05-29T14:14:59.276Z"
   },
   {
    "duration": 19,
    "start_time": "2023-05-29T14:15:07.990Z"
   },
   {
    "duration": 12,
    "start_time": "2023-05-29T14:15:08.011Z"
   },
   {
    "duration": 10,
    "start_time": "2023-05-29T14:15:08.028Z"
   },
   {
    "duration": 10,
    "start_time": "2023-05-29T14:15:08.041Z"
   },
   {
    "duration": 26,
    "start_time": "2023-05-29T14:15:08.053Z"
   },
   {
    "duration": 19,
    "start_time": "2023-05-29T14:15:08.081Z"
   },
   {
    "duration": 28,
    "start_time": "2023-05-29T14:15:08.102Z"
   },
   {
    "duration": 15,
    "start_time": "2023-05-29T14:15:08.133Z"
   },
   {
    "duration": 24,
    "start_time": "2023-05-29T14:15:08.150Z"
   },
   {
    "duration": 33,
    "start_time": "2023-05-29T14:15:08.176Z"
   },
   {
    "duration": 10,
    "start_time": "2023-05-29T14:15:08.211Z"
   },
   {
    "duration": 12,
    "start_time": "2023-05-29T14:15:08.222Z"
   },
   {
    "duration": 21,
    "start_time": "2023-05-29T14:15:08.236Z"
   },
   {
    "duration": 4,
    "start_time": "2023-05-29T14:15:08.260Z"
   },
   {
    "duration": 16,
    "start_time": "2023-05-29T14:15:08.266Z"
   },
   {
    "duration": 40,
    "start_time": "2023-05-29T14:15:08.285Z"
   },
   {
    "duration": 3,
    "start_time": "2023-05-29T14:15:08.327Z"
   },
   {
    "duration": 18,
    "start_time": "2023-05-29T14:15:08.332Z"
   },
   {
    "duration": 82,
    "start_time": "2023-05-29T14:15:08.351Z"
   },
   {
    "duration": 15,
    "start_time": "2023-05-29T14:15:08.436Z"
   },
   {
    "duration": 17,
    "start_time": "2023-05-29T14:15:08.453Z"
   },
   {
    "duration": 25,
    "start_time": "2023-05-29T14:15:08.472Z"
   },
   {
    "duration": 33,
    "start_time": "2023-05-29T14:15:08.500Z"
   },
   {
    "duration": 11,
    "start_time": "2023-05-29T14:15:08.535Z"
   },
   {
    "duration": 30,
    "start_time": "2023-05-29T14:15:08.548Z"
   },
   {
    "duration": 15,
    "start_time": "2023-05-29T14:15:08.581Z"
   },
   {
    "duration": 45,
    "start_time": "2023-05-29T14:15:08.599Z"
   },
   {
    "duration": 19,
    "start_time": "2023-05-29T14:15:08.646Z"
   },
   {
    "duration": 8,
    "start_time": "2023-05-29T14:15:08.667Z"
   },
   {
    "duration": 11,
    "start_time": "2023-05-29T14:15:08.678Z"
   },
   {
    "duration": 26,
    "start_time": "2023-05-29T14:15:08.691Z"
   },
   {
    "duration": 30,
    "start_time": "2023-05-29T14:15:08.720Z"
   },
   {
    "duration": 10,
    "start_time": "2023-05-29T14:15:08.752Z"
   },
   {
    "duration": 23,
    "start_time": "2023-05-29T14:15:08.764Z"
   },
   {
    "duration": 32,
    "start_time": "2023-05-29T14:15:08.790Z"
   },
   {
    "duration": 22,
    "start_time": "2023-05-29T14:15:08.824Z"
   },
   {
    "duration": 9,
    "start_time": "2023-05-29T14:15:08.848Z"
   },
   {
    "duration": 38,
    "start_time": "2023-05-29T14:15:08.859Z"
   },
   {
    "duration": 4,
    "start_time": "2023-05-29T14:15:08.899Z"
   },
   {
    "duration": 46,
    "start_time": "2023-05-29T14:15:08.904Z"
   },
   {
    "duration": 6,
    "start_time": "2023-05-29T14:15:08.952Z"
   },
   {
    "duration": 61,
    "start_time": "2023-05-29T14:15:08.960Z"
   },
   {
    "duration": 21,
    "start_time": "2023-05-29T14:15:09.023Z"
   },
   {
    "duration": 10,
    "start_time": "2023-05-29T14:15:09.046Z"
   },
   {
    "duration": 107,
    "start_time": "2023-05-29T14:15:09.058Z"
   },
   {
    "duration": 4,
    "start_time": "2023-05-29T14:15:09.167Z"
   },
   {
    "duration": 14,
    "start_time": "2023-05-29T14:15:09.173Z"
   },
   {
    "duration": 15,
    "start_time": "2023-05-29T14:15:09.189Z"
   },
   {
    "duration": 184,
    "start_time": "2023-05-29T14:15:09.206Z"
   },
   {
    "duration": 8,
    "start_time": "2023-05-29T14:15:09.392Z"
   },
   {
    "duration": 12,
    "start_time": "2023-05-29T14:15:09.401Z"
   },
   {
    "duration": 10,
    "start_time": "2023-05-29T14:15:09.415Z"
   },
   {
    "duration": 15,
    "start_time": "2023-05-29T14:15:09.427Z"
   },
   {
    "duration": 16,
    "start_time": "2023-05-29T14:15:09.444Z"
   },
   {
    "duration": 7,
    "start_time": "2023-05-29T14:15:09.461Z"
   },
   {
    "duration": 6,
    "start_time": "2023-05-29T14:15:09.470Z"
   },
   {
    "duration": 5,
    "start_time": "2023-05-29T14:15:09.482Z"
   },
   {
    "duration": 9,
    "start_time": "2023-05-29T14:15:09.488Z"
   },
   {
    "duration": 13,
    "start_time": "2023-05-29T14:15:09.498Z"
   },
   {
    "duration": 13,
    "start_time": "2023-05-29T14:15:09.513Z"
   },
   {
    "duration": 6,
    "start_time": "2023-05-29T14:15:09.542Z"
   },
   {
    "duration": 15,
    "start_time": "2023-05-29T14:15:09.550Z"
   },
   {
    "duration": 6,
    "start_time": "2023-05-29T14:15:09.567Z"
   },
   {
    "duration": 13,
    "start_time": "2023-05-29T14:15:09.575Z"
   },
   {
    "duration": 6,
    "start_time": "2023-05-29T14:15:09.590Z"
   },
   {
    "duration": 11,
    "start_time": "2023-05-29T14:15:09.597Z"
   },
   {
    "duration": 33,
    "start_time": "2023-05-29T14:15:09.610Z"
   },
   {
    "duration": 5,
    "start_time": "2023-05-29T14:15:09.645Z"
   },
   {
    "duration": 10,
    "start_time": "2023-05-29T14:15:09.652Z"
   },
   {
    "duration": 11,
    "start_time": "2023-05-29T14:15:09.664Z"
   },
   {
    "duration": 8,
    "start_time": "2023-05-29T14:15:09.676Z"
   },
   {
    "duration": 8,
    "start_time": "2023-05-29T14:15:09.686Z"
   },
   {
    "duration": 20,
    "start_time": "2023-05-29T14:15:09.695Z"
   },
   {
    "duration": 28,
    "start_time": "2023-05-29T14:15:09.717Z"
   },
   {
    "duration": 8,
    "start_time": "2023-05-29T14:15:09.746Z"
   },
   {
    "duration": 6,
    "start_time": "2023-05-29T14:15:09.756Z"
   },
   {
    "duration": 7,
    "start_time": "2023-05-29T14:15:09.763Z"
   },
   {
    "duration": 8,
    "start_time": "2023-05-29T14:15:09.772Z"
   },
   {
    "duration": 9,
    "start_time": "2023-05-29T14:15:09.781Z"
   },
   {
    "duration": 10,
    "start_time": "2023-05-29T14:15:09.791Z"
   },
   {
    "duration": 6,
    "start_time": "2023-05-29T14:15:09.842Z"
   },
   {
    "duration": 141,
    "start_time": "2023-05-29T14:15:09.850Z"
   },
   {
    "duration": 5,
    "start_time": "2023-05-29T14:35:37.811Z"
   },
   {
    "duration": 4,
    "start_time": "2023-05-29T14:35:50.586Z"
   },
   {
    "duration": 6,
    "start_time": "2023-05-29T14:36:02.144Z"
   },
   {
    "duration": 1184,
    "start_time": "2023-05-29T14:36:34.480Z"
   },
   {
    "duration": 162,
    "start_time": "2023-05-29T14:36:35.666Z"
   },
   {
    "duration": 13,
    "start_time": "2023-05-29T14:36:35.830Z"
   },
   {
    "duration": 25,
    "start_time": "2023-05-29T14:36:35.845Z"
   },
   {
    "duration": 3,
    "start_time": "2023-05-29T14:36:35.872Z"
   },
   {
    "duration": 20,
    "start_time": "2023-05-29T14:36:35.876Z"
   },
   {
    "duration": 49,
    "start_time": "2023-05-29T14:36:35.898Z"
   },
   {
    "duration": 22,
    "start_time": "2023-05-29T14:36:35.949Z"
   },
   {
    "duration": 92,
    "start_time": "2023-05-29T14:36:35.972Z"
   },
   {
    "duration": 125,
    "start_time": "2023-05-29T14:36:36.067Z"
   },
   {
    "duration": 76,
    "start_time": "2023-05-29T14:36:36.194Z"
   },
   {
    "duration": 18,
    "start_time": "2023-05-29T14:36:36.272Z"
   },
   {
    "duration": 15,
    "start_time": "2023-05-29T14:36:36.291Z"
   },
   {
    "duration": 34,
    "start_time": "2023-05-29T14:36:36.308Z"
   },
   {
    "duration": 14,
    "start_time": "2023-05-29T14:36:36.344Z"
   },
   {
    "duration": 122,
    "start_time": "2023-05-29T14:36:36.359Z"
   },
   {
    "duration": 10,
    "start_time": "2023-05-29T14:36:36.483Z"
   },
   {
    "duration": 76,
    "start_time": "2023-05-29T14:36:36.495Z"
   },
   {
    "duration": 81,
    "start_time": "2023-05-29T14:36:36.573Z"
   },
   {
    "duration": 9,
    "start_time": "2023-05-29T14:36:36.657Z"
   },
   {
    "duration": 28,
    "start_time": "2023-05-29T14:36:36.668Z"
   },
   {
    "duration": 9,
    "start_time": "2023-05-29T14:36:36.698Z"
   },
   {
    "duration": 10,
    "start_time": "2023-05-29T14:36:36.708Z"
   },
   {
    "duration": 26,
    "start_time": "2023-05-29T14:36:36.720Z"
   },
   {
    "duration": 8582,
    "start_time": "2023-05-29T14:36:36.747Z"
   },
   {
    "duration": 21,
    "start_time": "2023-05-29T14:36:45.331Z"
   },
   {
    "duration": 14,
    "start_time": "2023-05-29T14:36:45.354Z"
   },
   {
    "duration": 9,
    "start_time": "2023-05-29T14:36:45.372Z"
   },
   {
    "duration": 15,
    "start_time": "2023-05-29T14:36:45.383Z"
   },
   {
    "duration": 11,
    "start_time": "2023-05-29T14:36:45.400Z"
   },
   {
    "duration": 37,
    "start_time": "2023-05-29T14:36:45.413Z"
   },
   {
    "duration": 22,
    "start_time": "2023-05-29T14:36:45.452Z"
   },
   {
    "duration": 5,
    "start_time": "2023-05-29T14:36:45.475Z"
   },
   {
    "duration": 6,
    "start_time": "2023-05-29T14:36:45.481Z"
   },
   {
    "duration": 18,
    "start_time": "2023-05-29T14:36:45.490Z"
   },
   {
    "duration": 4,
    "start_time": "2023-05-29T14:36:45.509Z"
   },
   {
    "duration": 29,
    "start_time": "2023-05-29T14:36:45.515Z"
   },
   {
    "duration": 22,
    "start_time": "2023-05-29T14:36:45.545Z"
   },
   {
    "duration": 4,
    "start_time": "2023-05-29T14:36:45.568Z"
   },
   {
    "duration": 5,
    "start_time": "2023-05-29T14:36:45.574Z"
   },
   {
    "duration": 31,
    "start_time": "2023-05-29T14:36:45.580Z"
   },
   {
    "duration": 3,
    "start_time": "2023-05-29T14:36:45.613Z"
   },
   {
    "duration": 25,
    "start_time": "2023-05-29T14:36:45.617Z"
   },
   {
    "duration": 62,
    "start_time": "2023-05-29T14:36:45.644Z"
   },
   {
    "duration": 8,
    "start_time": "2023-05-29T14:36:45.708Z"
   },
   {
    "duration": 25,
    "start_time": "2023-05-29T14:36:45.718Z"
   },
   {
    "duration": 10,
    "start_time": "2023-05-29T14:36:45.744Z"
   },
   {
    "duration": 10,
    "start_time": "2023-05-29T14:36:45.755Z"
   },
   {
    "duration": 5,
    "start_time": "2023-05-29T14:36:45.767Z"
   },
   {
    "duration": 11,
    "start_time": "2023-05-29T14:36:45.774Z"
   },
   {
    "duration": 12,
    "start_time": "2023-05-29T14:36:45.786Z"
   },
   {
    "duration": 9,
    "start_time": "2023-05-29T14:36:45.800Z"
   },
   {
    "duration": 5,
    "start_time": "2023-05-29T14:36:45.810Z"
   },
   {
    "duration": 6,
    "start_time": "2023-05-29T14:36:45.817Z"
   },
   {
    "duration": 18,
    "start_time": "2023-05-29T14:36:45.824Z"
   },
   {
    "duration": 22,
    "start_time": "2023-05-29T14:36:45.844Z"
   },
   {
    "duration": 18,
    "start_time": "2023-05-29T14:36:45.867Z"
   },
   {
    "duration": 4,
    "start_time": "2023-05-29T14:36:45.886Z"
   },
   {
    "duration": 7,
    "start_time": "2023-05-29T14:36:45.891Z"
   },
   {
    "duration": 20,
    "start_time": "2023-05-29T14:36:45.899Z"
   },
   {
    "duration": 23,
    "start_time": "2023-05-29T14:36:45.920Z"
   },
   {
    "duration": 6,
    "start_time": "2023-05-29T14:36:45.945Z"
   },
   {
    "duration": 21,
    "start_time": "2023-05-29T14:36:45.952Z"
   },
   {
    "duration": 10,
    "start_time": "2023-05-29T14:36:45.974Z"
   },
   {
    "duration": 6,
    "start_time": "2023-05-29T14:36:45.986Z"
   },
   {
    "duration": 47,
    "start_time": "2023-05-29T14:36:45.994Z"
   },
   {
    "duration": 4,
    "start_time": "2023-05-29T14:36:46.043Z"
   },
   {
    "duration": 30,
    "start_time": "2023-05-29T14:36:46.048Z"
   },
   {
    "duration": 4,
    "start_time": "2023-05-29T14:36:46.079Z"
   },
   {
    "duration": 68,
    "start_time": "2023-05-29T14:36:46.085Z"
   },
   {
    "duration": 7,
    "start_time": "2023-05-29T14:36:46.154Z"
   },
   {
    "duration": 4,
    "start_time": "2023-05-29T14:36:46.163Z"
   },
   {
    "duration": 91,
    "start_time": "2023-05-29T14:36:46.169Z"
   },
   {
    "duration": 4,
    "start_time": "2023-05-29T14:36:46.262Z"
   },
   {
    "duration": 16,
    "start_time": "2023-05-29T14:36:46.267Z"
   },
   {
    "duration": 6,
    "start_time": "2023-05-29T14:36:46.284Z"
   },
   {
    "duration": 127,
    "start_time": "2023-05-29T14:36:46.292Z"
   },
   {
    "duration": 8,
    "start_time": "2023-05-29T14:36:46.421Z"
   },
   {
    "duration": 16,
    "start_time": "2023-05-29T14:36:46.431Z"
   },
   {
    "duration": 8,
    "start_time": "2023-05-29T14:36:46.448Z"
   },
   {
    "duration": 6,
    "start_time": "2023-05-29T14:36:46.457Z"
   },
   {
    "duration": 5,
    "start_time": "2023-05-29T14:36:46.468Z"
   },
   {
    "duration": 5,
    "start_time": "2023-05-29T14:36:46.475Z"
   },
   {
    "duration": 6,
    "start_time": "2023-05-29T14:36:46.481Z"
   },
   {
    "duration": 13,
    "start_time": "2023-05-29T14:36:46.488Z"
   },
   {
    "duration": 12,
    "start_time": "2023-05-29T14:36:46.503Z"
   },
   {
    "duration": 8,
    "start_time": "2023-05-29T14:36:46.516Z"
   },
   {
    "duration": 11,
    "start_time": "2023-05-29T14:36:46.526Z"
   },
   {
    "duration": 7,
    "start_time": "2023-05-29T14:36:46.539Z"
   },
   {
    "duration": 12,
    "start_time": "2023-05-29T14:36:46.547Z"
   },
   {
    "duration": 17,
    "start_time": "2023-05-29T14:36:46.560Z"
   },
   {
    "duration": 22,
    "start_time": "2023-05-29T14:36:46.578Z"
   },
   {
    "duration": 6,
    "start_time": "2023-05-29T14:36:46.602Z"
   },
   {
    "duration": 9,
    "start_time": "2023-05-29T14:36:46.610Z"
   },
   {
    "duration": 8,
    "start_time": "2023-05-29T14:36:46.620Z"
   },
   {
    "duration": 9,
    "start_time": "2023-05-29T14:36:46.629Z"
   },
   {
    "duration": 9,
    "start_time": "2023-05-29T14:36:46.639Z"
   },
   {
    "duration": 15,
    "start_time": "2023-05-29T14:36:46.650Z"
   },
   {
    "duration": 11,
    "start_time": "2023-05-29T14:36:46.667Z"
   },
   {
    "duration": 10,
    "start_time": "2023-05-29T14:36:46.680Z"
   },
   {
    "duration": 9,
    "start_time": "2023-05-29T14:36:46.691Z"
   },
   {
    "duration": 16,
    "start_time": "2023-05-29T14:36:46.702Z"
   },
   {
    "duration": 9,
    "start_time": "2023-05-29T14:36:46.720Z"
   },
   {
    "duration": 14,
    "start_time": "2023-05-29T14:36:46.730Z"
   },
   {
    "duration": 14,
    "start_time": "2023-05-29T14:36:46.746Z"
   },
   {
    "duration": 10,
    "start_time": "2023-05-29T14:36:46.761Z"
   },
   {
    "duration": 7,
    "start_time": "2023-05-29T14:36:46.772Z"
   },
   {
    "duration": 15,
    "start_time": "2023-05-29T14:36:46.781Z"
   },
   {
    "duration": 8,
    "start_time": "2023-05-29T14:36:46.797Z"
   },
   {
    "duration": 123,
    "start_time": "2023-05-29T14:36:46.806Z"
   },
   {
    "duration": 85,
    "start_time": "2023-05-29T14:45:17.427Z"
   },
   {
    "duration": 107,
    "start_time": "2023-05-29T14:45:36.883Z"
   },
   {
    "duration": 112,
    "start_time": "2023-05-29T14:46:05.742Z"
   },
   {
    "duration": 123,
    "start_time": "2023-05-29T14:46:15.211Z"
   },
   {
    "duration": 8,
    "start_time": "2023-05-29T14:46:16.628Z"
   },
   {
    "duration": 7,
    "start_time": "2023-05-29T14:46:31.396Z"
   },
   {
    "duration": 7,
    "start_time": "2023-05-29T14:46:42.581Z"
   },
   {
    "duration": 1277,
    "start_time": "2023-05-29T14:47:23.857Z"
   },
   {
    "duration": 157,
    "start_time": "2023-05-29T14:47:25.136Z"
   },
   {
    "duration": 12,
    "start_time": "2023-05-29T14:47:25.294Z"
   },
   {
    "duration": 35,
    "start_time": "2023-05-29T14:47:25.309Z"
   },
   {
    "duration": 5,
    "start_time": "2023-05-29T14:47:25.348Z"
   },
   {
    "duration": 27,
    "start_time": "2023-05-29T14:47:25.356Z"
   },
   {
    "duration": 35,
    "start_time": "2023-05-29T14:47:25.385Z"
   },
   {
    "duration": 29,
    "start_time": "2023-05-29T14:47:25.421Z"
   },
   {
    "duration": 115,
    "start_time": "2023-05-29T14:47:25.453Z"
   },
   {
    "duration": 107,
    "start_time": "2023-05-29T14:47:25.570Z"
   },
   {
    "duration": 78,
    "start_time": "2023-05-29T14:47:25.679Z"
   },
   {
    "duration": 27,
    "start_time": "2023-05-29T14:47:25.762Z"
   },
   {
    "duration": 23,
    "start_time": "2023-05-29T14:47:25.792Z"
   },
   {
    "duration": 39,
    "start_time": "2023-05-29T14:47:25.817Z"
   },
   {
    "duration": 13,
    "start_time": "2023-05-29T14:47:25.858Z"
   },
   {
    "duration": 119,
    "start_time": "2023-05-29T14:47:25.873Z"
   },
   {
    "duration": 10,
    "start_time": "2023-05-29T14:47:25.994Z"
   },
   {
    "duration": 40,
    "start_time": "2023-05-29T14:47:26.006Z"
   },
   {
    "duration": 21,
    "start_time": "2023-05-29T14:47:26.050Z"
   },
   {
    "duration": 8,
    "start_time": "2023-05-29T14:47:26.073Z"
   },
   {
    "duration": 18,
    "start_time": "2023-05-29T14:47:26.082Z"
   },
   {
    "duration": 9,
    "start_time": "2023-05-29T14:47:26.102Z"
   },
   {
    "duration": 33,
    "start_time": "2023-05-29T14:47:26.112Z"
   },
   {
    "duration": 19,
    "start_time": "2023-05-29T14:47:26.147Z"
   },
   {
    "duration": 9244,
    "start_time": "2023-05-29T14:47:26.168Z"
   },
   {
    "duration": 20,
    "start_time": "2023-05-29T14:47:35.414Z"
   },
   {
    "duration": 23,
    "start_time": "2023-05-29T14:47:35.436Z"
   },
   {
    "duration": 16,
    "start_time": "2023-05-29T14:47:35.464Z"
   },
   {
    "duration": 12,
    "start_time": "2023-05-29T14:47:35.482Z"
   },
   {
    "duration": 12,
    "start_time": "2023-05-29T14:47:35.496Z"
   },
   {
    "duration": 65,
    "start_time": "2023-05-29T14:47:35.510Z"
   },
   {
    "duration": 21,
    "start_time": "2023-05-29T14:47:35.577Z"
   },
   {
    "duration": 13,
    "start_time": "2023-05-29T14:47:35.600Z"
   },
   {
    "duration": 10,
    "start_time": "2023-05-29T14:47:35.614Z"
   },
   {
    "duration": 30,
    "start_time": "2023-05-29T14:47:35.625Z"
   },
   {
    "duration": 13,
    "start_time": "2023-05-29T14:47:35.658Z"
   },
   {
    "duration": 6,
    "start_time": "2023-05-29T14:47:35.672Z"
   },
   {
    "duration": 24,
    "start_time": "2023-05-29T14:47:35.679Z"
   },
   {
    "duration": 7,
    "start_time": "2023-05-29T14:47:35.705Z"
   },
   {
    "duration": 9,
    "start_time": "2023-05-29T14:47:35.714Z"
   },
   {
    "duration": 55,
    "start_time": "2023-05-29T14:47:35.725Z"
   },
   {
    "duration": 3,
    "start_time": "2023-05-29T14:47:35.781Z"
   },
   {
    "duration": 16,
    "start_time": "2023-05-29T14:47:35.785Z"
   },
   {
    "duration": 76,
    "start_time": "2023-05-29T14:47:35.802Z"
   },
   {
    "duration": 10,
    "start_time": "2023-05-29T14:47:35.880Z"
   },
   {
    "duration": 14,
    "start_time": "2023-05-29T14:47:35.891Z"
   },
   {
    "duration": 10,
    "start_time": "2023-05-29T14:47:35.906Z"
   },
   {
    "duration": 13,
    "start_time": "2023-05-29T14:47:35.918Z"
   },
   {
    "duration": 19,
    "start_time": "2023-05-29T14:47:35.932Z"
   },
   {
    "duration": 16,
    "start_time": "2023-05-29T14:47:35.955Z"
   },
   {
    "duration": 8,
    "start_time": "2023-05-29T14:47:35.972Z"
   },
   {
    "duration": 13,
    "start_time": "2023-05-29T14:47:35.981Z"
   },
   {
    "duration": 7,
    "start_time": "2023-05-29T14:47:35.995Z"
   },
   {
    "duration": 12,
    "start_time": "2023-05-29T14:47:36.003Z"
   },
   {
    "duration": 144,
    "start_time": "2023-05-29T14:47:36.016Z"
   },
   {
    "duration": 12,
    "start_time": "2023-05-29T14:47:36.162Z"
   },
   {
    "duration": 31,
    "start_time": "2023-05-29T14:47:36.176Z"
   },
   {
    "duration": 9,
    "start_time": "2023-05-29T14:47:36.208Z"
   },
   {
    "duration": 7,
    "start_time": "2023-05-29T14:47:36.218Z"
   },
   {
    "duration": 12,
    "start_time": "2023-05-29T14:47:36.227Z"
   },
   {
    "duration": 30,
    "start_time": "2023-05-29T14:47:36.240Z"
   },
   {
    "duration": 6,
    "start_time": "2023-05-29T14:47:36.272Z"
   },
   {
    "duration": 8,
    "start_time": "2023-05-29T14:47:36.280Z"
   },
   {
    "duration": 16,
    "start_time": "2023-05-29T14:47:36.290Z"
   },
   {
    "duration": 10,
    "start_time": "2023-05-29T14:47:36.308Z"
   },
   {
    "duration": 8,
    "start_time": "2023-05-29T14:47:36.320Z"
   },
   {
    "duration": 6,
    "start_time": "2023-05-29T14:47:36.330Z"
   },
   {
    "duration": 29,
    "start_time": "2023-05-29T14:47:36.337Z"
   },
   {
    "duration": 12,
    "start_time": "2023-05-29T14:47:36.369Z"
   },
   {
    "duration": 18,
    "start_time": "2023-05-29T14:47:36.383Z"
   },
   {
    "duration": 10,
    "start_time": "2023-05-29T14:47:36.403Z"
   },
   {
    "duration": 14,
    "start_time": "2023-05-29T14:47:36.416Z"
   },
   {
    "duration": 8,
    "start_time": "2023-05-29T14:47:36.432Z"
   },
   {
    "duration": 34,
    "start_time": "2023-05-29T14:47:36.443Z"
   },
   {
    "duration": 10,
    "start_time": "2023-05-29T14:47:36.479Z"
   },
   {
    "duration": 12,
    "start_time": "2023-05-29T14:47:36.490Z"
   },
   {
    "duration": 8,
    "start_time": "2023-05-29T14:47:36.504Z"
   },
   {
    "duration": 8,
    "start_time": "2023-05-29T14:47:36.513Z"
   },
   {
    "duration": 9,
    "start_time": "2023-05-29T14:47:36.523Z"
   },
   {
    "duration": 32,
    "start_time": "2023-05-29T14:47:36.533Z"
   },
   {
    "duration": 8,
    "start_time": "2023-05-29T14:47:36.566Z"
   },
   {
    "duration": 4,
    "start_time": "2023-05-29T14:47:36.579Z"
   },
   {
    "duration": 11,
    "start_time": "2023-05-29T14:47:36.585Z"
   },
   {
    "duration": 9,
    "start_time": "2023-05-29T14:47:36.598Z"
   },
   {
    "duration": 13,
    "start_time": "2023-05-29T14:47:36.609Z"
   },
   {
    "duration": 10,
    "start_time": "2023-05-29T14:47:36.624Z"
   },
   {
    "duration": 16,
    "start_time": "2023-05-29T14:47:36.636Z"
   },
   {
    "duration": 20,
    "start_time": "2023-05-29T14:47:36.654Z"
   },
   {
    "duration": 12,
    "start_time": "2023-05-29T14:47:36.675Z"
   },
   {
    "duration": 147,
    "start_time": "2023-05-29T14:47:36.689Z"
   },
   {
    "duration": 20,
    "start_time": "2023-05-29T14:53:55.139Z"
   },
   {
    "duration": 21,
    "start_time": "2023-05-29T14:53:57.301Z"
   },
   {
    "duration": 8,
    "start_time": "2023-05-29T14:53:58.178Z"
   },
   {
    "duration": 6,
    "start_time": "2023-05-29T14:54:13.334Z"
   },
   {
    "duration": 548,
    "start_time": "2023-05-29T14:54:15.058Z"
   },
   {
    "duration": 7,
    "start_time": "2023-05-29T14:54:15.673Z"
   },
   {
    "duration": 331,
    "start_time": "2023-05-29T14:54:52.267Z"
   },
   {
    "duration": 1304,
    "start_time": "2023-05-29T14:55:29.980Z"
   },
   {
    "duration": 189,
    "start_time": "2023-05-29T14:55:31.286Z"
   },
   {
    "duration": 12,
    "start_time": "2023-05-29T14:55:31.477Z"
   },
   {
    "duration": 40,
    "start_time": "2023-05-29T14:55:31.492Z"
   },
   {
    "duration": 32,
    "start_time": "2023-05-29T14:55:31.534Z"
   },
   {
    "duration": 22,
    "start_time": "2023-05-29T14:55:31.568Z"
   },
   {
    "duration": 38,
    "start_time": "2023-05-29T14:55:31.593Z"
   },
   {
    "duration": 34,
    "start_time": "2023-05-29T14:55:31.633Z"
   },
   {
    "duration": 126,
    "start_time": "2023-05-29T14:55:31.669Z"
   },
   {
    "duration": 132,
    "start_time": "2023-05-29T14:55:31.798Z"
   },
   {
    "duration": 99,
    "start_time": "2023-05-29T14:55:31.933Z"
   },
   {
    "duration": 33,
    "start_time": "2023-05-29T14:55:32.034Z"
   },
   {
    "duration": 33,
    "start_time": "2023-05-29T14:55:32.069Z"
   },
   {
    "duration": 17,
    "start_time": "2023-05-29T14:55:32.104Z"
   },
   {
    "duration": 54,
    "start_time": "2023-05-29T14:55:32.123Z"
   },
   {
    "duration": 131,
    "start_time": "2023-05-29T14:55:32.179Z"
   },
   {
    "duration": 9,
    "start_time": "2023-05-29T14:55:32.312Z"
   },
   {
    "duration": 47,
    "start_time": "2023-05-29T14:55:32.323Z"
   },
   {
    "duration": 28,
    "start_time": "2023-05-29T14:55:32.372Z"
   },
   {
    "duration": 14,
    "start_time": "2023-05-29T14:55:32.401Z"
   },
   {
    "duration": 37,
    "start_time": "2023-05-29T14:55:32.416Z"
   },
   {
    "duration": 8,
    "start_time": "2023-05-29T14:55:32.457Z"
   },
   {
    "duration": 16,
    "start_time": "2023-05-29T14:55:32.467Z"
   },
   {
    "duration": 16,
    "start_time": "2023-05-29T14:55:32.485Z"
   },
   {
    "duration": 9886,
    "start_time": "2023-05-29T14:55:32.503Z"
   },
   {
    "duration": 21,
    "start_time": "2023-05-29T14:55:42.391Z"
   },
   {
    "duration": 13,
    "start_time": "2023-05-29T14:55:42.414Z"
   },
   {
    "duration": 10,
    "start_time": "2023-05-29T14:55:42.431Z"
   },
   {
    "duration": 31,
    "start_time": "2023-05-29T14:55:42.443Z"
   },
   {
    "duration": 12,
    "start_time": "2023-05-29T14:55:42.476Z"
   },
   {
    "duration": 22,
    "start_time": "2023-05-29T14:55:42.490Z"
   },
   {
    "duration": 43,
    "start_time": "2023-05-29T14:55:42.514Z"
   },
   {
    "duration": 8,
    "start_time": "2023-05-29T14:55:42.559Z"
   },
   {
    "duration": 7,
    "start_time": "2023-05-29T14:55:42.568Z"
   },
   {
    "duration": 27,
    "start_time": "2023-05-29T14:55:42.577Z"
   },
   {
    "duration": 5,
    "start_time": "2023-05-29T14:55:42.605Z"
   },
   {
    "duration": 5,
    "start_time": "2023-05-29T14:55:42.612Z"
   },
   {
    "duration": 39,
    "start_time": "2023-05-29T14:55:42.619Z"
   },
   {
    "duration": 7,
    "start_time": "2023-05-29T14:55:42.663Z"
   },
   {
    "duration": 5,
    "start_time": "2023-05-29T14:55:42.672Z"
   },
   {
    "duration": 36,
    "start_time": "2023-05-29T14:55:42.679Z"
   },
   {
    "duration": 4,
    "start_time": "2023-05-29T14:55:42.717Z"
   },
   {
    "duration": 34,
    "start_time": "2023-05-29T14:55:42.723Z"
   },
   {
    "duration": 69,
    "start_time": "2023-05-29T14:55:42.759Z"
   },
   {
    "duration": 13,
    "start_time": "2023-05-29T14:55:42.830Z"
   },
   {
    "duration": 27,
    "start_time": "2023-05-29T14:55:42.844Z"
   },
   {
    "duration": 8,
    "start_time": "2023-05-29T14:55:42.873Z"
   },
   {
    "duration": 10,
    "start_time": "2023-05-29T14:55:42.883Z"
   },
   {
    "duration": 4,
    "start_time": "2023-05-29T14:55:42.895Z"
   },
   {
    "duration": 14,
    "start_time": "2023-05-29T14:55:42.900Z"
   },
   {
    "duration": 9,
    "start_time": "2023-05-29T14:55:42.916Z"
   },
   {
    "duration": 24,
    "start_time": "2023-05-29T14:55:42.926Z"
   },
   {
    "duration": 12,
    "start_time": "2023-05-29T14:55:42.952Z"
   },
   {
    "duration": 7,
    "start_time": "2023-05-29T14:55:42.965Z"
   },
   {
    "duration": 144,
    "start_time": "2023-05-29T14:55:42.974Z"
   },
   {
    "duration": 8,
    "start_time": "2023-05-29T14:55:43.121Z"
   },
   {
    "duration": 33,
    "start_time": "2023-05-29T14:55:43.131Z"
   },
   {
    "duration": 7,
    "start_time": "2023-05-29T14:55:43.166Z"
   },
   {
    "duration": 6,
    "start_time": "2023-05-29T14:55:43.174Z"
   },
   {
    "duration": 9,
    "start_time": "2023-05-29T14:55:43.181Z"
   },
   {
    "duration": 10,
    "start_time": "2023-05-29T14:55:43.192Z"
   },
   {
    "duration": 6,
    "start_time": "2023-05-29T14:55:43.204Z"
   },
   {
    "duration": 6,
    "start_time": "2023-05-29T14:55:43.211Z"
   },
   {
    "duration": 9,
    "start_time": "2023-05-29T14:55:43.219Z"
   },
   {
    "duration": 18,
    "start_time": "2023-05-29T14:55:43.229Z"
   },
   {
    "duration": 19,
    "start_time": "2023-05-29T14:55:43.249Z"
   },
   {
    "duration": 5,
    "start_time": "2023-05-29T14:55:43.270Z"
   },
   {
    "duration": 9,
    "start_time": "2023-05-29T14:55:43.277Z"
   },
   {
    "duration": 7,
    "start_time": "2023-05-29T14:55:43.288Z"
   },
   {
    "duration": 11,
    "start_time": "2023-05-29T14:55:43.296Z"
   },
   {
    "duration": 5,
    "start_time": "2023-05-29T14:55:43.308Z"
   },
   {
    "duration": 9,
    "start_time": "2023-05-29T14:55:43.315Z"
   },
   {
    "duration": 7,
    "start_time": "2023-05-29T14:55:43.325Z"
   },
   {
    "duration": 10,
    "start_time": "2023-05-29T14:55:43.333Z"
   },
   {
    "duration": 21,
    "start_time": "2023-05-29T14:55:43.347Z"
   },
   {
    "duration": 9,
    "start_time": "2023-05-29T14:55:43.370Z"
   },
   {
    "duration": 8,
    "start_time": "2023-05-29T14:55:43.381Z"
   },
   {
    "duration": 9,
    "start_time": "2023-05-29T14:55:43.390Z"
   },
   {
    "duration": 8,
    "start_time": "2023-05-29T14:55:43.400Z"
   },
   {
    "duration": 10,
    "start_time": "2023-05-29T14:55:43.410Z"
   },
   {
    "duration": 6,
    "start_time": "2023-05-29T14:55:43.421Z"
   },
   {
    "duration": 13,
    "start_time": "2023-05-29T14:55:43.441Z"
   },
   {
    "duration": 9,
    "start_time": "2023-05-29T14:55:43.458Z"
   },
   {
    "duration": 11,
    "start_time": "2023-05-29T14:55:43.469Z"
   },
   {
    "duration": 6,
    "start_time": "2023-05-29T14:55:43.482Z"
   },
   {
    "duration": 7,
    "start_time": "2023-05-29T14:55:43.489Z"
   },
   {
    "duration": 7,
    "start_time": "2023-05-29T14:55:43.497Z"
   },
   {
    "duration": 17,
    "start_time": "2023-05-29T14:55:43.505Z"
   },
   {
    "duration": 20,
    "start_time": "2023-05-29T14:55:43.523Z"
   },
   {
    "duration": 147,
    "start_time": "2023-05-29T14:55:43.545Z"
   },
   {
    "duration": 1187,
    "start_time": "2023-05-29T14:58:11.572Z"
   },
   {
    "duration": 156,
    "start_time": "2023-05-29T14:58:12.762Z"
   },
   {
    "duration": 12,
    "start_time": "2023-05-29T14:58:12.920Z"
   },
   {
    "duration": 28,
    "start_time": "2023-05-29T14:58:12.942Z"
   },
   {
    "duration": 3,
    "start_time": "2023-05-29T14:58:12.972Z"
   },
   {
    "duration": 17,
    "start_time": "2023-05-29T14:58:12.977Z"
   },
   {
    "duration": 47,
    "start_time": "2023-05-29T14:58:12.996Z"
   },
   {
    "duration": 27,
    "start_time": "2023-05-29T14:58:13.046Z"
   },
   {
    "duration": 85,
    "start_time": "2023-05-29T14:58:13.075Z"
   },
   {
    "duration": 110,
    "start_time": "2023-05-29T14:58:13.163Z"
   },
   {
    "duration": 80,
    "start_time": "2023-05-29T14:58:13.275Z"
   },
   {
    "duration": 16,
    "start_time": "2023-05-29T14:58:13.357Z"
   },
   {
    "duration": 13,
    "start_time": "2023-05-29T14:58:13.375Z"
   },
   {
    "duration": 8,
    "start_time": "2023-05-29T14:58:13.389Z"
   },
   {
    "duration": 8,
    "start_time": "2023-05-29T14:58:13.398Z"
   },
   {
    "duration": 155,
    "start_time": "2023-05-29T14:58:13.408Z"
   },
   {
    "duration": 10,
    "start_time": "2023-05-29T14:58:13.565Z"
   },
   {
    "duration": 26,
    "start_time": "2023-05-29T14:58:13.576Z"
   },
   {
    "duration": 16,
    "start_time": "2023-05-29T14:58:13.604Z"
   },
   {
    "duration": 11,
    "start_time": "2023-05-29T14:58:13.644Z"
   },
   {
    "duration": 27,
    "start_time": "2023-05-29T14:58:13.657Z"
   },
   {
    "duration": 8,
    "start_time": "2023-05-29T14:58:13.686Z"
   },
   {
    "duration": 9,
    "start_time": "2023-05-29T14:58:13.695Z"
   },
   {
    "duration": 9,
    "start_time": "2023-05-29T14:58:13.706Z"
   },
   {
    "duration": 9208,
    "start_time": "2023-05-29T14:58:13.717Z"
   },
   {
    "duration": 27,
    "start_time": "2023-05-29T14:58:22.926Z"
   },
   {
    "duration": 14,
    "start_time": "2023-05-29T14:58:22.957Z"
   },
   {
    "duration": 10,
    "start_time": "2023-05-29T14:58:22.976Z"
   },
   {
    "duration": 10,
    "start_time": "2023-05-29T14:58:22.988Z"
   },
   {
    "duration": 14,
    "start_time": "2023-05-29T14:58:23.000Z"
   },
   {
    "duration": 37,
    "start_time": "2023-05-29T14:58:23.015Z"
   },
   {
    "duration": 33,
    "start_time": "2023-05-29T14:58:23.054Z"
   },
   {
    "duration": 6,
    "start_time": "2023-05-29T14:58:23.089Z"
   },
   {
    "duration": 7,
    "start_time": "2023-05-29T14:58:23.097Z"
   },
   {
    "duration": 46,
    "start_time": "2023-05-29T14:58:23.106Z"
   },
   {
    "duration": 5,
    "start_time": "2023-05-29T14:58:23.159Z"
   },
   {
    "duration": 10,
    "start_time": "2023-05-29T14:58:23.166Z"
   },
   {
    "duration": 22,
    "start_time": "2023-05-29T14:58:23.177Z"
   },
   {
    "duration": 5,
    "start_time": "2023-05-29T14:58:23.201Z"
   },
   {
    "duration": 21,
    "start_time": "2023-05-29T14:58:23.208Z"
   },
   {
    "duration": 39,
    "start_time": "2023-05-29T14:58:23.231Z"
   },
   {
    "duration": 3,
    "start_time": "2023-05-29T14:58:23.272Z"
   },
   {
    "duration": 11,
    "start_time": "2023-05-29T14:58:23.277Z"
   },
   {
    "duration": 66,
    "start_time": "2023-05-29T14:58:23.290Z"
   },
   {
    "duration": 10,
    "start_time": "2023-05-29T14:58:23.358Z"
   },
   {
    "duration": 19,
    "start_time": "2023-05-29T14:58:23.370Z"
   },
   {
    "duration": 16,
    "start_time": "2023-05-29T14:58:23.390Z"
   },
   {
    "duration": 14,
    "start_time": "2023-05-29T14:58:23.407Z"
   },
   {
    "duration": 9,
    "start_time": "2023-05-29T14:58:23.423Z"
   },
   {
    "duration": 25,
    "start_time": "2023-05-29T14:58:23.433Z"
   },
   {
    "duration": 19,
    "start_time": "2023-05-29T14:58:23.461Z"
   },
   {
    "duration": 20,
    "start_time": "2023-05-29T14:58:23.481Z"
   },
   {
    "duration": 6,
    "start_time": "2023-05-29T14:58:23.503Z"
   },
   {
    "duration": 16,
    "start_time": "2023-05-29T14:58:23.511Z"
   },
   {
    "duration": 90,
    "start_time": "2023-05-29T14:58:23.529Z"
   },
   {
    "duration": 0,
    "start_time": "2023-05-29T14:58:23.621Z"
   },
   {
    "duration": 0,
    "start_time": "2023-05-29T14:58:23.623Z"
   },
   {
    "duration": 0,
    "start_time": "2023-05-29T14:58:23.624Z"
   },
   {
    "duration": 0,
    "start_time": "2023-05-29T14:58:23.625Z"
   },
   {
    "duration": 0,
    "start_time": "2023-05-29T14:58:23.626Z"
   },
   {
    "duration": 0,
    "start_time": "2023-05-29T14:58:23.627Z"
   },
   {
    "duration": 0,
    "start_time": "2023-05-29T14:58:23.628Z"
   },
   {
    "duration": 0,
    "start_time": "2023-05-29T14:58:23.630Z"
   },
   {
    "duration": 0,
    "start_time": "2023-05-29T14:58:23.631Z"
   },
   {
    "duration": 0,
    "start_time": "2023-05-29T14:58:23.632Z"
   },
   {
    "duration": 0,
    "start_time": "2023-05-29T14:58:23.633Z"
   },
   {
    "duration": 0,
    "start_time": "2023-05-29T14:58:23.634Z"
   },
   {
    "duration": 0,
    "start_time": "2023-05-29T14:58:23.635Z"
   },
   {
    "duration": 0,
    "start_time": "2023-05-29T14:58:23.637Z"
   },
   {
    "duration": 0,
    "start_time": "2023-05-29T14:58:23.638Z"
   },
   {
    "duration": 0,
    "start_time": "2023-05-29T14:58:23.640Z"
   },
   {
    "duration": 0,
    "start_time": "2023-05-29T14:58:23.640Z"
   },
   {
    "duration": 0,
    "start_time": "2023-05-29T14:58:23.650Z"
   },
   {
    "duration": 1,
    "start_time": "2023-05-29T14:58:23.650Z"
   },
   {
    "duration": 0,
    "start_time": "2023-05-29T14:58:23.652Z"
   },
   {
    "duration": 0,
    "start_time": "2023-05-29T14:58:23.654Z"
   },
   {
    "duration": 0,
    "start_time": "2023-05-29T14:58:23.655Z"
   },
   {
    "duration": 1,
    "start_time": "2023-05-29T14:58:23.656Z"
   },
   {
    "duration": 0,
    "start_time": "2023-05-29T14:58:23.657Z"
   },
   {
    "duration": 0,
    "start_time": "2023-05-29T14:58:23.658Z"
   },
   {
    "duration": 0,
    "start_time": "2023-05-29T14:58:23.659Z"
   },
   {
    "duration": 0,
    "start_time": "2023-05-29T14:58:23.660Z"
   },
   {
    "duration": 0,
    "start_time": "2023-05-29T14:58:23.661Z"
   },
   {
    "duration": 0,
    "start_time": "2023-05-29T14:58:23.662Z"
   },
   {
    "duration": 1,
    "start_time": "2023-05-29T14:58:23.662Z"
   },
   {
    "duration": 0,
    "start_time": "2023-05-29T14:58:23.663Z"
   },
   {
    "duration": 0,
    "start_time": "2023-05-29T14:58:23.664Z"
   },
   {
    "duration": 0,
    "start_time": "2023-05-29T14:58:23.665Z"
   },
   {
    "duration": 0,
    "start_time": "2023-05-29T14:58:23.666Z"
   },
   {
    "duration": 0,
    "start_time": "2023-05-29T14:58:23.670Z"
   },
   {
    "duration": 0,
    "start_time": "2023-05-29T14:58:23.671Z"
   },
   {
    "duration": 38,
    "start_time": "2023-05-29T14:58:53.128Z"
   },
   {
    "duration": 151,
    "start_time": "2023-05-29T14:58:59.168Z"
   },
   {
    "duration": 12,
    "start_time": "2023-05-29T14:59:02.313Z"
   },
   {
    "duration": 7,
    "start_time": "2023-05-29T14:59:09.687Z"
   },
   {
    "duration": 7,
    "start_time": "2023-05-29T14:59:10.904Z"
   },
   {
    "duration": 3,
    "start_time": "2023-05-29T14:59:11.530Z"
   },
   {
    "duration": 9,
    "start_time": "2023-05-29T14:59:13.357Z"
   },
   {
    "duration": 6,
    "start_time": "2023-05-29T14:59:15.569Z"
   },
   {
    "duration": 4,
    "start_time": "2023-05-29T14:59:16.098Z"
   },
   {
    "duration": 3,
    "start_time": "2023-05-29T14:59:16.960Z"
   },
   {
    "duration": 9,
    "start_time": "2023-05-29T14:59:18.833Z"
   },
   {
    "duration": 6,
    "start_time": "2023-05-29T14:59:22.081Z"
   },
   {
    "duration": 3,
    "start_time": "2023-05-29T14:59:22.616Z"
   },
   {
    "duration": 3,
    "start_time": "2023-05-29T14:59:23.081Z"
   },
   {
    "duration": 7,
    "start_time": "2023-05-29T14:59:23.600Z"
   },
   {
    "duration": 6,
    "start_time": "2023-05-29T14:59:27.025Z"
   },
   {
    "duration": 10,
    "start_time": "2023-05-29T14:59:27.532Z"
   },
   {
    "duration": 5,
    "start_time": "2023-05-29T14:59:27.984Z"
   },
   {
    "duration": 8,
    "start_time": "2023-05-29T14:59:30.826Z"
   },
   {
    "duration": 8,
    "start_time": "2023-05-29T14:59:37.220Z"
   },
   {
    "duration": 5,
    "start_time": "2023-05-29T14:59:39.616Z"
   },
   {
    "duration": 7,
    "start_time": "2023-05-29T14:59:41.209Z"
   },
   {
    "duration": 7,
    "start_time": "2023-05-29T14:59:42.288Z"
   },
   {
    "duration": 6,
    "start_time": "2023-05-29T14:59:43.617Z"
   },
   {
    "duration": 10,
    "start_time": "2023-05-29T14:59:45.041Z"
   },
   {
    "duration": 6,
    "start_time": "2023-05-29T14:59:45.562Z"
   },
   {
    "duration": 5,
    "start_time": "2023-05-29T14:59:46.224Z"
   },
   {
    "duration": 8,
    "start_time": "2023-05-29T14:59:47.144Z"
   },
   {
    "duration": 5,
    "start_time": "2023-05-29T14:59:48.784Z"
   },
   {
    "duration": 5,
    "start_time": "2023-05-29T14:59:50.032Z"
   },
   {
    "duration": 6,
    "start_time": "2023-05-29T14:59:51.328Z"
   },
   {
    "duration": 5,
    "start_time": "2023-05-29T14:59:52.305Z"
   },
   {
    "duration": 5,
    "start_time": "2023-05-29T14:59:54.280Z"
   },
   {
    "duration": 5,
    "start_time": "2023-05-29T14:59:55.216Z"
   },
   {
    "duration": 7,
    "start_time": "2023-05-29T14:59:56.184Z"
   },
   {
    "duration": 5,
    "start_time": "2023-05-29T14:59:57.720Z"
   },
   {
    "duration": 128,
    "start_time": "2023-05-29T14:59:59.377Z"
   },
   {
    "duration": 16,
    "start_time": "2023-05-29T15:01:32.258Z"
   },
   {
    "duration": 10,
    "start_time": "2023-05-29T15:02:52.604Z"
   },
   {
    "duration": 12,
    "start_time": "2023-05-29T15:04:29.275Z"
   },
   {
    "duration": 9,
    "start_time": "2023-05-29T15:05:55.805Z"
   },
   {
    "duration": 10,
    "start_time": "2023-05-29T15:06:21.355Z"
   },
   {
    "duration": 1921,
    "start_time": "2023-05-29T15:08:18.135Z"
   },
   {
    "duration": 10,
    "start_time": "2023-05-29T15:09:02.673Z"
   },
   {
    "duration": 11,
    "start_time": "2023-05-29T15:29:31.369Z"
   },
   {
    "duration": 7,
    "start_time": "2023-05-29T15:35:07.890Z"
   },
   {
    "duration": 4,
    "start_time": "2023-05-29T15:35:17.273Z"
   },
   {
    "duration": 1195,
    "start_time": "2023-05-29T15:35:40.747Z"
   },
   {
    "duration": 157,
    "start_time": "2023-05-29T15:35:41.945Z"
   },
   {
    "duration": 12,
    "start_time": "2023-05-29T15:35:42.104Z"
   },
   {
    "duration": 30,
    "start_time": "2023-05-29T15:35:42.118Z"
   },
   {
    "duration": 3,
    "start_time": "2023-05-29T15:35:42.150Z"
   },
   {
    "duration": 14,
    "start_time": "2023-05-29T15:35:42.154Z"
   },
   {
    "duration": 30,
    "start_time": "2023-05-29T15:35:42.169Z"
   },
   {
    "duration": 19,
    "start_time": "2023-05-29T15:35:42.201Z"
   },
   {
    "duration": 93,
    "start_time": "2023-05-29T15:35:42.222Z"
   },
   {
    "duration": 106,
    "start_time": "2023-05-29T15:35:42.318Z"
   },
   {
    "duration": 72,
    "start_time": "2023-05-29T15:35:42.426Z"
   },
   {
    "duration": 16,
    "start_time": "2023-05-29T15:35:42.500Z"
   },
   {
    "duration": 28,
    "start_time": "2023-05-29T15:35:42.517Z"
   },
   {
    "duration": 8,
    "start_time": "2023-05-29T15:35:42.546Z"
   },
   {
    "duration": 12,
    "start_time": "2023-05-29T15:35:42.555Z"
   },
   {
    "duration": 115,
    "start_time": "2023-05-29T15:35:42.569Z"
   },
   {
    "duration": 9,
    "start_time": "2023-05-29T15:35:42.685Z"
   },
   {
    "duration": 28,
    "start_time": "2023-05-29T15:35:42.695Z"
   },
   {
    "duration": 24,
    "start_time": "2023-05-29T15:35:42.725Z"
   },
   {
    "duration": 7,
    "start_time": "2023-05-29T15:35:42.751Z"
   },
   {
    "duration": 17,
    "start_time": "2023-05-29T15:35:42.759Z"
   },
   {
    "duration": 7,
    "start_time": "2023-05-29T15:35:42.777Z"
   },
   {
    "duration": 7,
    "start_time": "2023-05-29T15:35:42.785Z"
   },
   {
    "duration": 11,
    "start_time": "2023-05-29T15:35:42.793Z"
   },
   {
    "duration": 8400,
    "start_time": "2023-05-29T15:35:42.805Z"
   },
   {
    "duration": 19,
    "start_time": "2023-05-29T15:35:51.206Z"
   },
   {
    "duration": 13,
    "start_time": "2023-05-29T15:35:51.226Z"
   },
   {
    "duration": 10,
    "start_time": "2023-05-29T15:35:51.242Z"
   },
   {
    "duration": 13,
    "start_time": "2023-05-29T15:35:51.254Z"
   },
   {
    "duration": 4,
    "start_time": "2023-05-29T15:35:51.268Z"
   },
   {
    "duration": 11,
    "start_time": "2023-05-29T15:35:51.273Z"
   },
   {
    "duration": 16,
    "start_time": "2023-05-29T15:35:51.286Z"
   },
   {
    "duration": 38,
    "start_time": "2023-05-29T15:35:51.304Z"
   },
   {
    "duration": 5,
    "start_time": "2023-05-29T15:35:51.343Z"
   },
   {
    "duration": 21,
    "start_time": "2023-05-29T15:35:51.350Z"
   },
   {
    "duration": 21,
    "start_time": "2023-05-29T15:35:51.373Z"
   },
   {
    "duration": 4,
    "start_time": "2023-05-29T15:35:51.396Z"
   },
   {
    "duration": 16,
    "start_time": "2023-05-29T15:35:51.401Z"
   },
   {
    "duration": 23,
    "start_time": "2023-05-29T15:35:51.418Z"
   },
   {
    "duration": 11,
    "start_time": "2023-05-29T15:35:51.442Z"
   },
   {
    "duration": 17,
    "start_time": "2023-05-29T15:35:51.455Z"
   },
   {
    "duration": 37,
    "start_time": "2023-05-29T15:35:51.475Z"
   },
   {
    "duration": 3,
    "start_time": "2023-05-29T15:35:51.514Z"
   },
   {
    "duration": 13,
    "start_time": "2023-05-29T15:35:51.518Z"
   },
   {
    "duration": 59,
    "start_time": "2023-05-29T15:35:51.532Z"
   },
   {
    "duration": 8,
    "start_time": "2023-05-29T15:35:51.593Z"
   },
   {
    "duration": 7,
    "start_time": "2023-05-29T15:35:51.603Z"
   },
   {
    "duration": 14,
    "start_time": "2023-05-29T15:35:51.611Z"
   },
   {
    "duration": 13,
    "start_time": "2023-05-29T15:35:51.627Z"
   },
   {
    "duration": 5,
    "start_time": "2023-05-29T15:35:51.642Z"
   },
   {
    "duration": 10,
    "start_time": "2023-05-29T15:35:51.649Z"
   },
   {
    "duration": 14,
    "start_time": "2023-05-29T15:35:51.660Z"
   },
   {
    "duration": 11,
    "start_time": "2023-05-29T15:35:51.676Z"
   },
   {
    "duration": 135,
    "start_time": "2023-05-29T15:35:51.689Z"
   },
   {
    "duration": 3,
    "start_time": "2023-05-29T15:35:51.825Z"
   },
   {
    "duration": 7,
    "start_time": "2023-05-29T15:35:51.829Z"
   },
   {
    "duration": 34,
    "start_time": "2023-05-29T15:35:51.838Z"
   },
   {
    "duration": 183,
    "start_time": "2023-05-29T15:35:51.874Z"
   },
   {
    "duration": 8,
    "start_time": "2023-05-29T15:35:52.059Z"
   },
   {
    "duration": 10,
    "start_time": "2023-05-29T15:35:52.069Z"
   },
   {
    "duration": 7,
    "start_time": "2023-05-29T15:35:52.080Z"
   },
   {
    "duration": 7,
    "start_time": "2023-05-29T15:35:52.088Z"
   },
   {
    "duration": 12,
    "start_time": "2023-05-29T15:35:52.097Z"
   },
   {
    "duration": 17,
    "start_time": "2023-05-29T15:35:52.110Z"
   },
   {
    "duration": 13,
    "start_time": "2023-05-29T15:35:52.129Z"
   },
   {
    "duration": 16,
    "start_time": "2023-05-29T15:35:52.144Z"
   },
   {
    "duration": 9,
    "start_time": "2023-05-29T15:35:52.162Z"
   },
   {
    "duration": 7,
    "start_time": "2023-05-29T15:35:52.172Z"
   },
   {
    "duration": 7,
    "start_time": "2023-05-29T15:35:52.181Z"
   },
   {
    "duration": 6,
    "start_time": "2023-05-29T15:35:52.189Z"
   },
   {
    "duration": 20,
    "start_time": "2023-05-29T15:35:52.196Z"
   },
   {
    "duration": 8,
    "start_time": "2023-05-29T15:35:52.217Z"
   },
   {
    "duration": 11,
    "start_time": "2023-05-29T15:35:52.226Z"
   },
   {
    "duration": 4,
    "start_time": "2023-05-29T15:35:52.242Z"
   },
   {
    "duration": 12,
    "start_time": "2023-05-29T15:35:52.248Z"
   },
   {
    "duration": 15,
    "start_time": "2023-05-29T15:35:52.261Z"
   },
   {
    "duration": 9,
    "start_time": "2023-05-29T15:35:52.277Z"
   },
   {
    "duration": 16,
    "start_time": "2023-05-29T15:35:52.288Z"
   },
   {
    "duration": 9,
    "start_time": "2023-05-29T15:35:52.305Z"
   },
   {
    "duration": 26,
    "start_time": "2023-05-29T15:35:52.316Z"
   },
   {
    "duration": 9,
    "start_time": "2023-05-29T15:35:52.344Z"
   },
   {
    "duration": 9,
    "start_time": "2023-05-29T15:35:52.358Z"
   },
   {
    "duration": 12,
    "start_time": "2023-05-29T15:35:52.368Z"
   },
   {
    "duration": 14,
    "start_time": "2023-05-29T15:35:52.381Z"
   },
   {
    "duration": 15,
    "start_time": "2023-05-29T15:35:52.396Z"
   },
   {
    "duration": 11,
    "start_time": "2023-05-29T15:35:52.412Z"
   },
   {
    "duration": 24,
    "start_time": "2023-05-29T15:35:52.424Z"
   },
   {
    "duration": 5,
    "start_time": "2023-05-29T15:35:52.449Z"
   },
   {
    "duration": 10,
    "start_time": "2023-05-29T15:35:52.455Z"
   },
   {
    "duration": 25,
    "start_time": "2023-05-29T15:35:52.466Z"
   },
   {
    "duration": 10,
    "start_time": "2023-05-29T15:35:52.492Z"
   },
   {
    "duration": 13,
    "start_time": "2023-05-29T15:35:52.504Z"
   },
   {
    "duration": 5,
    "start_time": "2023-05-29T15:35:52.518Z"
   },
   {
    "duration": 35,
    "start_time": "2023-05-29T15:35:52.542Z"
   },
   {
    "duration": 10,
    "start_time": "2023-05-29T15:35:52.579Z"
   },
   {
    "duration": 11,
    "start_time": "2023-05-29T15:35:52.590Z"
   },
   {
    "duration": 15,
    "start_time": "2023-05-29T15:35:52.602Z"
   },
   {
    "duration": 1193,
    "start_time": "2023-05-29T16:11:25.972Z"
   },
   {
    "duration": 177,
    "start_time": "2023-05-29T16:11:27.167Z"
   },
   {
    "duration": 13,
    "start_time": "2023-05-29T16:11:27.346Z"
   },
   {
    "duration": 22,
    "start_time": "2023-05-29T16:11:27.360Z"
   },
   {
    "duration": 3,
    "start_time": "2023-05-29T16:11:27.385Z"
   },
   {
    "duration": 15,
    "start_time": "2023-05-29T16:11:27.390Z"
   },
   {
    "duration": 55,
    "start_time": "2023-05-29T16:11:27.408Z"
   },
   {
    "duration": 21,
    "start_time": "2023-05-29T16:11:27.465Z"
   },
   {
    "duration": 96,
    "start_time": "2023-05-29T16:11:27.489Z"
   },
   {
    "duration": 120,
    "start_time": "2023-05-29T16:11:27.588Z"
   },
   {
    "duration": 73,
    "start_time": "2023-05-29T16:11:27.710Z"
   },
   {
    "duration": 18,
    "start_time": "2023-05-29T16:11:27.784Z"
   },
   {
    "duration": 14,
    "start_time": "2023-05-29T16:11:27.804Z"
   },
   {
    "duration": 27,
    "start_time": "2023-05-29T16:11:27.821Z"
   },
   {
    "duration": 12,
    "start_time": "2023-05-29T16:11:27.850Z"
   },
   {
    "duration": 119,
    "start_time": "2023-05-29T16:11:27.864Z"
   },
   {
    "duration": 10,
    "start_time": "2023-05-29T16:11:27.985Z"
   },
   {
    "duration": 55,
    "start_time": "2023-05-29T16:11:27.997Z"
   },
   {
    "duration": 17,
    "start_time": "2023-05-29T16:11:28.053Z"
   },
   {
    "duration": 8,
    "start_time": "2023-05-29T16:11:28.072Z"
   },
   {
    "duration": 24,
    "start_time": "2023-05-29T16:11:28.081Z"
   },
   {
    "duration": 36,
    "start_time": "2023-05-29T16:11:28.107Z"
   },
   {
    "duration": 6,
    "start_time": "2023-05-29T16:11:28.146Z"
   },
   {
    "duration": 15,
    "start_time": "2023-05-29T16:11:28.155Z"
   },
   {
    "duration": 14,
    "start_time": "2023-05-29T16:11:28.172Z"
   },
   {
    "duration": 9889,
    "start_time": "2023-05-29T16:11:28.188Z"
   },
   {
    "duration": 20,
    "start_time": "2023-05-29T16:11:38.079Z"
   },
   {
    "duration": 14,
    "start_time": "2023-05-29T16:11:38.101Z"
   },
   {
    "duration": 14,
    "start_time": "2023-05-29T16:11:38.117Z"
   },
   {
    "duration": 9,
    "start_time": "2023-05-29T16:11:38.141Z"
   },
   {
    "duration": 15,
    "start_time": "2023-05-29T16:11:38.164Z"
   },
   {
    "duration": 13,
    "start_time": "2023-05-29T16:11:38.181Z"
   },
   {
    "duration": 15,
    "start_time": "2023-05-29T16:11:38.196Z"
   },
   {
    "duration": 25,
    "start_time": "2023-05-29T16:11:38.213Z"
   },
   {
    "duration": 4,
    "start_time": "2023-05-29T16:11:38.240Z"
   },
   {
    "duration": 9,
    "start_time": "2023-05-29T16:11:38.246Z"
   },
   {
    "duration": 21,
    "start_time": "2023-05-29T16:11:38.257Z"
   },
   {
    "duration": 5,
    "start_time": "2023-05-29T16:11:38.280Z"
   },
   {
    "duration": 6,
    "start_time": "2023-05-29T16:11:38.286Z"
   },
   {
    "duration": 20,
    "start_time": "2023-05-29T16:11:38.293Z"
   },
   {
    "duration": 5,
    "start_time": "2023-05-29T16:11:38.341Z"
   },
   {
    "duration": 5,
    "start_time": "2023-05-29T16:11:38.348Z"
   },
   {
    "duration": 48,
    "start_time": "2023-05-29T16:11:38.355Z"
   },
   {
    "duration": 3,
    "start_time": "2023-05-29T16:11:38.405Z"
   },
   {
    "duration": 36,
    "start_time": "2023-05-29T16:11:38.410Z"
   },
   {
    "duration": 59,
    "start_time": "2023-05-29T16:11:38.448Z"
   },
   {
    "duration": 10,
    "start_time": "2023-05-29T16:11:38.509Z"
   },
   {
    "duration": 24,
    "start_time": "2023-05-29T16:11:38.520Z"
   },
   {
    "duration": 18,
    "start_time": "2023-05-29T16:11:38.546Z"
   },
   {
    "duration": 23,
    "start_time": "2023-05-29T16:11:38.566Z"
   },
   {
    "duration": 13,
    "start_time": "2023-05-29T16:11:38.592Z"
   },
   {
    "duration": 27,
    "start_time": "2023-05-29T16:11:38.607Z"
   },
   {
    "duration": 22,
    "start_time": "2023-05-29T16:11:38.636Z"
   },
   {
    "duration": 22,
    "start_time": "2023-05-29T16:11:38.660Z"
   },
   {
    "duration": 178,
    "start_time": "2023-05-29T16:11:38.684Z"
   },
   {
    "duration": 4,
    "start_time": "2023-05-29T16:11:38.864Z"
   },
   {
    "duration": 9,
    "start_time": "2023-05-29T16:11:38.869Z"
   },
   {
    "duration": 80,
    "start_time": "2023-05-29T16:11:38.880Z"
   },
   {
    "duration": 201,
    "start_time": "2023-05-29T16:11:38.962Z"
   },
   {
    "duration": 10,
    "start_time": "2023-05-29T16:11:39.165Z"
   },
   {
    "duration": 16,
    "start_time": "2023-05-29T16:11:39.177Z"
   },
   {
    "duration": 10,
    "start_time": "2023-05-29T16:11:39.197Z"
   },
   {
    "duration": 11,
    "start_time": "2023-05-29T16:11:39.209Z"
   },
   {
    "duration": 21,
    "start_time": "2023-05-29T16:11:39.222Z"
   },
   {
    "duration": 9,
    "start_time": "2023-05-29T16:11:39.245Z"
   },
   {
    "duration": 11,
    "start_time": "2023-05-29T16:11:39.256Z"
   },
   {
    "duration": 6,
    "start_time": "2023-05-29T16:11:39.269Z"
   },
   {
    "duration": 10,
    "start_time": "2023-05-29T16:11:39.277Z"
   },
   {
    "duration": 10,
    "start_time": "2023-05-29T16:11:39.288Z"
   },
   {
    "duration": 7,
    "start_time": "2023-05-29T16:11:39.300Z"
   },
   {
    "duration": 5,
    "start_time": "2023-05-29T16:11:39.310Z"
   },
   {
    "duration": 26,
    "start_time": "2023-05-29T16:11:39.317Z"
   },
   {
    "duration": 6,
    "start_time": "2023-05-29T16:11:39.345Z"
   },
   {
    "duration": 12,
    "start_time": "2023-05-29T16:11:39.352Z"
   },
   {
    "duration": 13,
    "start_time": "2023-05-29T16:11:39.366Z"
   },
   {
    "duration": 10,
    "start_time": "2023-05-29T16:11:39.381Z"
   },
   {
    "duration": 13,
    "start_time": "2023-05-29T16:11:39.393Z"
   },
   {
    "duration": 6,
    "start_time": "2023-05-29T16:11:39.408Z"
   },
   {
    "duration": 34,
    "start_time": "2023-05-29T16:11:39.416Z"
   },
   {
    "duration": 8,
    "start_time": "2023-05-29T16:11:39.452Z"
   },
   {
    "duration": 10,
    "start_time": "2023-05-29T16:11:39.462Z"
   },
   {
    "duration": 14,
    "start_time": "2023-05-29T16:11:39.474Z"
   },
   {
    "duration": 20,
    "start_time": "2023-05-29T16:11:39.490Z"
   },
   {
    "duration": 10,
    "start_time": "2023-05-29T16:11:39.512Z"
   },
   {
    "duration": 20,
    "start_time": "2023-05-29T16:11:39.523Z"
   },
   {
    "duration": 14,
    "start_time": "2023-05-29T16:11:39.545Z"
   },
   {
    "duration": 10,
    "start_time": "2023-05-29T16:11:39.561Z"
   },
   {
    "duration": 15,
    "start_time": "2023-05-29T16:11:39.573Z"
   },
   {
    "duration": 6,
    "start_time": "2023-05-29T16:11:39.590Z"
   },
   {
    "duration": 9,
    "start_time": "2023-05-29T16:11:39.598Z"
   },
   {
    "duration": 12,
    "start_time": "2023-05-29T16:11:39.609Z"
   },
   {
    "duration": 6,
    "start_time": "2023-05-29T16:11:39.641Z"
   },
   {
    "duration": 12,
    "start_time": "2023-05-29T16:11:39.649Z"
   },
   {
    "duration": 7,
    "start_time": "2023-05-29T16:11:39.664Z"
   },
   {
    "duration": 10,
    "start_time": "2023-05-29T16:11:39.673Z"
   },
   {
    "duration": 8,
    "start_time": "2023-05-29T16:11:39.685Z"
   },
   {
    "duration": 9,
    "start_time": "2023-05-29T16:11:39.695Z"
   },
   {
    "duration": 15,
    "start_time": "2023-05-29T16:11:39.744Z"
   },
   {
    "duration": 1250,
    "start_time": "2023-05-29T18:58:17.809Z"
   },
   {
    "duration": 157,
    "start_time": "2023-05-29T18:58:19.061Z"
   },
   {
    "duration": 20,
    "start_time": "2023-05-29T18:58:19.221Z"
   },
   {
    "duration": 26,
    "start_time": "2023-05-29T18:58:19.244Z"
   },
   {
    "duration": 4,
    "start_time": "2023-05-29T18:58:19.272Z"
   },
   {
    "duration": 23,
    "start_time": "2023-05-29T18:58:19.278Z"
   },
   {
    "duration": 40,
    "start_time": "2023-05-29T18:58:19.303Z"
   },
   {
    "duration": 22,
    "start_time": "2023-05-29T18:58:19.345Z"
   },
   {
    "duration": 96,
    "start_time": "2023-05-29T18:58:19.369Z"
   },
   {
    "duration": 114,
    "start_time": "2023-05-29T18:58:19.469Z"
   },
   {
    "duration": 79,
    "start_time": "2023-05-29T18:58:19.585Z"
   },
   {
    "duration": 17,
    "start_time": "2023-05-29T18:58:19.666Z"
   },
   {
    "duration": 14,
    "start_time": "2023-05-29T18:58:19.685Z"
   },
   {
    "duration": 9,
    "start_time": "2023-05-29T18:58:19.700Z"
   },
   {
    "duration": 41,
    "start_time": "2023-05-29T18:58:19.711Z"
   },
   {
    "duration": 168,
    "start_time": "2023-05-29T18:58:19.754Z"
   },
   {
    "duration": 21,
    "start_time": "2023-05-29T18:58:19.924Z"
   },
   {
    "duration": 40,
    "start_time": "2023-05-29T18:58:19.947Z"
   },
   {
    "duration": 17,
    "start_time": "2023-05-29T18:58:19.989Z"
   },
   {
    "duration": 36,
    "start_time": "2023-05-29T18:58:20.008Z"
   },
   {
    "duration": 24,
    "start_time": "2023-05-29T18:58:20.046Z"
   },
   {
    "duration": 8,
    "start_time": "2023-05-29T18:58:20.072Z"
   },
   {
    "duration": 20,
    "start_time": "2023-05-29T18:58:20.082Z"
   },
   {
    "duration": 20,
    "start_time": "2023-05-29T18:58:20.104Z"
   },
   {
    "duration": 20,
    "start_time": "2023-05-29T18:58:20.126Z"
   },
   {
    "duration": 8840,
    "start_time": "2023-05-29T18:58:20.148Z"
   },
   {
    "duration": 21,
    "start_time": "2023-05-29T18:58:28.991Z"
   },
   {
    "duration": 14,
    "start_time": "2023-05-29T18:58:29.016Z"
   },
   {
    "duration": 17,
    "start_time": "2023-05-29T18:58:29.032Z"
   },
   {
    "duration": 10,
    "start_time": "2023-05-29T18:58:29.051Z"
   },
   {
    "duration": 4,
    "start_time": "2023-05-29T18:58:29.062Z"
   },
   {
    "duration": 20,
    "start_time": "2023-05-29T18:58:29.068Z"
   },
   {
    "duration": 18,
    "start_time": "2023-05-29T18:58:29.090Z"
   },
   {
    "duration": 50,
    "start_time": "2023-05-29T18:58:29.110Z"
   },
   {
    "duration": 9,
    "start_time": "2023-05-29T18:58:29.162Z"
   },
   {
    "duration": 6,
    "start_time": "2023-05-29T18:58:29.173Z"
   },
   {
    "duration": 24,
    "start_time": "2023-05-29T18:58:29.181Z"
   },
   {
    "duration": 5,
    "start_time": "2023-05-29T18:58:29.207Z"
   },
   {
    "duration": 30,
    "start_time": "2023-05-29T18:58:29.214Z"
   },
   {
    "duration": 26,
    "start_time": "2023-05-29T18:58:29.246Z"
   },
   {
    "duration": 6,
    "start_time": "2023-05-29T18:58:29.275Z"
   },
   {
    "duration": 16,
    "start_time": "2023-05-29T18:58:29.283Z"
   },
   {
    "duration": 26,
    "start_time": "2023-05-29T18:58:29.301Z"
   },
   {
    "duration": 18,
    "start_time": "2023-05-29T18:58:29.329Z"
   },
   {
    "duration": 30,
    "start_time": "2023-05-29T18:58:29.349Z"
   },
   {
    "duration": 3,
    "start_time": "2023-05-29T18:58:29.381Z"
   },
   {
    "duration": 30,
    "start_time": "2023-05-29T18:58:29.385Z"
   },
   {
    "duration": 59,
    "start_time": "2023-05-29T18:58:29.417Z"
   },
   {
    "duration": 9,
    "start_time": "2023-05-29T18:58:29.478Z"
   },
   {
    "duration": 59,
    "start_time": "2023-05-29T18:58:29.489Z"
   },
   {
    "duration": 7,
    "start_time": "2023-05-29T18:58:29.550Z"
   },
   {
    "duration": 11,
    "start_time": "2023-05-29T18:58:29.560Z"
   },
   {
    "duration": 6,
    "start_time": "2023-05-29T18:58:29.573Z"
   },
   {
    "duration": 14,
    "start_time": "2023-05-29T18:58:29.580Z"
   },
   {
    "duration": 9,
    "start_time": "2023-05-29T18:58:29.596Z"
   },
   {
    "duration": 10,
    "start_time": "2023-05-29T18:58:29.607Z"
   },
   {
    "duration": 148,
    "start_time": "2023-05-29T18:58:29.619Z"
   },
   {
    "duration": 4,
    "start_time": "2023-05-29T18:58:29.768Z"
   },
   {
    "duration": 9,
    "start_time": "2023-05-29T18:58:29.773Z"
   },
   {
    "duration": 76,
    "start_time": "2023-05-29T18:58:29.784Z"
   },
   {
    "duration": 222,
    "start_time": "2023-05-29T18:58:29.862Z"
   },
   {
    "duration": 12,
    "start_time": "2023-05-29T18:58:30.086Z"
   },
   {
    "duration": 30,
    "start_time": "2023-05-29T18:58:30.100Z"
   },
   {
    "duration": 25,
    "start_time": "2023-05-29T18:58:30.133Z"
   },
   {
    "duration": 9,
    "start_time": "2023-05-29T18:58:30.160Z"
   },
   {
    "duration": 13,
    "start_time": "2023-05-29T18:58:30.171Z"
   },
   {
    "duration": 15,
    "start_time": "2023-05-29T18:58:30.186Z"
   },
   {
    "duration": 10,
    "start_time": "2023-05-29T18:58:30.203Z"
   },
   {
    "duration": 18,
    "start_time": "2023-05-29T18:58:30.214Z"
   },
   {
    "duration": 19,
    "start_time": "2023-05-29T18:58:30.234Z"
   },
   {
    "duration": 18,
    "start_time": "2023-05-29T18:58:30.255Z"
   },
   {
    "duration": 26,
    "start_time": "2023-05-29T18:58:30.274Z"
   },
   {
    "duration": 26,
    "start_time": "2023-05-29T18:58:30.302Z"
   },
   {
    "duration": 36,
    "start_time": "2023-05-29T18:58:30.330Z"
   },
   {
    "duration": 26,
    "start_time": "2023-05-29T18:58:30.367Z"
   },
   {
    "duration": 19,
    "start_time": "2023-05-29T18:58:30.395Z"
   },
   {
    "duration": 27,
    "start_time": "2023-05-29T18:58:30.416Z"
   },
   {
    "duration": 31,
    "start_time": "2023-05-29T18:58:30.445Z"
   },
   {
    "duration": 38,
    "start_time": "2023-05-29T18:58:30.478Z"
   },
   {
    "duration": 46,
    "start_time": "2023-05-29T18:58:30.518Z"
   },
   {
    "duration": 29,
    "start_time": "2023-05-29T18:58:30.566Z"
   },
   {
    "duration": 26,
    "start_time": "2023-05-29T18:58:30.603Z"
   },
   {
    "duration": 28,
    "start_time": "2023-05-29T18:58:30.631Z"
   },
   {
    "duration": 33,
    "start_time": "2023-05-29T18:58:30.661Z"
   },
   {
    "duration": 39,
    "start_time": "2023-05-29T18:58:30.695Z"
   },
   {
    "duration": 26,
    "start_time": "2023-05-29T18:58:30.736Z"
   },
   {
    "duration": 34,
    "start_time": "2023-05-29T18:58:30.764Z"
   },
   {
    "duration": 34,
    "start_time": "2023-05-29T18:58:30.800Z"
   },
   {
    "duration": 36,
    "start_time": "2023-05-29T18:58:30.836Z"
   },
   {
    "duration": 39,
    "start_time": "2023-05-29T18:58:30.874Z"
   },
   {
    "duration": 62,
    "start_time": "2023-05-29T18:58:30.915Z"
   },
   {
    "duration": 34,
    "start_time": "2023-05-29T18:58:30.980Z"
   },
   {
    "duration": 7,
    "start_time": "2023-05-29T18:58:31.043Z"
   },
   {
    "duration": 10,
    "start_time": "2023-05-29T18:58:31.052Z"
   },
   {
    "duration": 83,
    "start_time": "2023-05-29T18:58:31.064Z"
   },
   {
    "duration": 7,
    "start_time": "2023-05-29T18:58:31.149Z"
   },
   {
    "duration": 31,
    "start_time": "2023-05-29T18:58:31.158Z"
   },
   {
    "duration": 57,
    "start_time": "2023-05-29T18:58:31.192Z"
   },
   {
    "duration": 39,
    "start_time": "2023-05-29T18:58:31.251Z"
   },
   {
    "duration": 58,
    "start_time": "2023-05-29T18:58:31.292Z"
   },
   {
    "duration": 6,
    "start_time": "2023-05-29T18:59:39.740Z"
   },
   {
    "duration": 6,
    "start_time": "2023-05-29T19:00:00.985Z"
   },
   {
    "duration": 6,
    "start_time": "2023-05-29T19:13:21.735Z"
   },
   {
    "duration": 1203,
    "start_time": "2023-05-29T19:13:31.299Z"
   },
   {
    "duration": 160,
    "start_time": "2023-05-29T19:13:32.504Z"
   },
   {
    "duration": 13,
    "start_time": "2023-05-29T19:13:32.666Z"
   },
   {
    "duration": 37,
    "start_time": "2023-05-29T19:13:32.680Z"
   },
   {
    "duration": 10,
    "start_time": "2023-05-29T19:13:32.719Z"
   },
   {
    "duration": 24,
    "start_time": "2023-05-29T19:13:32.731Z"
   },
   {
    "duration": 31,
    "start_time": "2023-05-29T19:13:32.757Z"
   },
   {
    "duration": 21,
    "start_time": "2023-05-29T19:13:32.790Z"
   },
   {
    "duration": 94,
    "start_time": "2023-05-29T19:13:32.813Z"
   },
   {
    "duration": 112,
    "start_time": "2023-05-29T19:13:32.909Z"
   },
   {
    "duration": 65,
    "start_time": "2023-05-29T19:13:33.023Z"
   },
   {
    "duration": 17,
    "start_time": "2023-05-29T19:13:33.089Z"
   },
   {
    "duration": 35,
    "start_time": "2023-05-29T19:13:33.108Z"
   },
   {
    "duration": 7,
    "start_time": "2023-05-29T19:13:33.147Z"
   },
   {
    "duration": 11,
    "start_time": "2023-05-29T19:13:33.156Z"
   },
   {
    "duration": 115,
    "start_time": "2023-05-29T19:13:33.169Z"
   },
   {
    "duration": 12,
    "start_time": "2023-05-29T19:13:33.286Z"
   },
   {
    "duration": 46,
    "start_time": "2023-05-29T19:13:33.300Z"
   },
   {
    "duration": 16,
    "start_time": "2023-05-29T19:13:33.347Z"
   },
   {
    "duration": 7,
    "start_time": "2023-05-29T19:13:33.365Z"
   },
   {
    "duration": 16,
    "start_time": "2023-05-29T19:13:33.373Z"
   },
   {
    "duration": 7,
    "start_time": "2023-05-29T19:13:33.391Z"
   },
   {
    "duration": 11,
    "start_time": "2023-05-29T19:13:33.399Z"
   },
   {
    "duration": 31,
    "start_time": "2023-05-29T19:13:33.411Z"
   },
   {
    "duration": 8,
    "start_time": "2023-05-29T19:13:33.443Z"
   },
   {
    "duration": 8968,
    "start_time": "2023-05-29T19:13:33.452Z"
   },
   {
    "duration": 20,
    "start_time": "2023-05-29T19:13:42.423Z"
   },
   {
    "duration": 14,
    "start_time": "2023-05-29T19:13:42.444Z"
   },
   {
    "duration": 10,
    "start_time": "2023-05-29T19:13:42.460Z"
   },
   {
    "duration": 9,
    "start_time": "2023-05-29T19:13:42.471Z"
   },
   {
    "duration": 4,
    "start_time": "2023-05-29T19:13:42.482Z"
   },
   {
    "duration": 14,
    "start_time": "2023-05-29T19:13:42.488Z"
   },
   {
    "duration": 40,
    "start_time": "2023-05-29T19:13:42.503Z"
   },
   {
    "duration": 21,
    "start_time": "2023-05-29T19:13:42.545Z"
   },
   {
    "duration": 6,
    "start_time": "2023-05-29T19:13:42.568Z"
   },
   {
    "duration": 19,
    "start_time": "2023-05-29T19:13:42.576Z"
   },
   {
    "duration": 22,
    "start_time": "2023-05-29T19:13:42.596Z"
   },
   {
    "duration": 24,
    "start_time": "2023-05-29T19:13:42.620Z"
   },
   {
    "duration": 8,
    "start_time": "2023-05-29T19:13:42.645Z"
   },
   {
    "duration": 21,
    "start_time": "2023-05-29T19:13:42.656Z"
   },
   {
    "duration": 35,
    "start_time": "2023-05-29T19:13:42.683Z"
   },
   {
    "duration": 20,
    "start_time": "2023-05-29T19:13:42.720Z"
   },
   {
    "duration": 25,
    "start_time": "2023-05-29T19:13:42.742Z"
   },
   {
    "duration": 5,
    "start_time": "2023-05-29T19:13:42.770Z"
   },
   {
    "duration": 8,
    "start_time": "2023-05-29T19:13:42.776Z"
   },
   {
    "duration": 33,
    "start_time": "2023-05-29T19:13:42.785Z"
   },
   {
    "duration": 24,
    "start_time": "2023-05-29T19:13:42.820Z"
   },
   {
    "duration": 14,
    "start_time": "2023-05-29T19:13:42.847Z"
   },
   {
    "duration": 55,
    "start_time": "2023-05-29T19:13:42.863Z"
   },
   {
    "duration": 29,
    "start_time": "2023-05-29T19:13:42.920Z"
   },
   {
    "duration": 9,
    "start_time": "2023-05-29T19:13:42.951Z"
   },
   {
    "duration": 18,
    "start_time": "2023-05-29T19:13:42.962Z"
   },
   {
    "duration": 12,
    "start_time": "2023-05-29T19:13:42.982Z"
   },
   {
    "duration": 4,
    "start_time": "2023-05-29T19:13:42.996Z"
   },
   {
    "duration": 17,
    "start_time": "2023-05-29T19:13:43.002Z"
   },
   {
    "duration": 7,
    "start_time": "2023-05-29T19:13:43.021Z"
   },
   {
    "duration": 9,
    "start_time": "2023-05-29T19:13:43.041Z"
   },
   {
    "duration": 130,
    "start_time": "2023-05-29T19:13:43.052Z"
   },
   {
    "duration": 3,
    "start_time": "2023-05-29T19:13:43.184Z"
   },
   {
    "duration": 7,
    "start_time": "2023-05-29T19:13:43.189Z"
   },
   {
    "duration": 70,
    "start_time": "2023-05-29T19:13:43.198Z"
   },
   {
    "duration": 188,
    "start_time": "2023-05-29T19:13:43.270Z"
   },
   {
    "duration": 8,
    "start_time": "2023-05-29T19:13:43.460Z"
   },
   {
    "duration": 15,
    "start_time": "2023-05-29T19:13:43.470Z"
   },
   {
    "duration": 8,
    "start_time": "2023-05-29T19:13:43.487Z"
   },
   {
    "duration": 9,
    "start_time": "2023-05-29T19:13:43.496Z"
   },
   {
    "duration": 15,
    "start_time": "2023-05-29T19:13:43.506Z"
   },
   {
    "duration": 8,
    "start_time": "2023-05-29T19:13:43.523Z"
   },
   {
    "duration": 10,
    "start_time": "2023-05-29T19:13:43.533Z"
   },
   {
    "duration": 13,
    "start_time": "2023-05-29T19:13:43.545Z"
   },
   {
    "duration": 15,
    "start_time": "2023-05-29T19:13:43.560Z"
   },
   {
    "duration": 22,
    "start_time": "2023-05-29T19:13:43.577Z"
   },
   {
    "duration": 17,
    "start_time": "2023-05-29T19:13:43.601Z"
   },
   {
    "duration": 21,
    "start_time": "2023-05-29T19:13:43.620Z"
   },
   {
    "duration": 12,
    "start_time": "2023-05-29T19:13:43.642Z"
   },
   {
    "duration": 7,
    "start_time": "2023-05-29T19:13:43.655Z"
   },
   {
    "duration": 9,
    "start_time": "2023-05-29T19:13:43.664Z"
   },
   {
    "duration": 8,
    "start_time": "2023-05-29T19:13:43.674Z"
   },
   {
    "duration": 11,
    "start_time": "2023-05-29T19:13:43.684Z"
   },
   {
    "duration": 14,
    "start_time": "2023-05-29T19:13:43.697Z"
   },
   {
    "duration": 8,
    "start_time": "2023-05-29T19:13:43.712Z"
   },
   {
    "duration": 32,
    "start_time": "2023-05-29T19:13:43.721Z"
   },
   {
    "duration": 8,
    "start_time": "2023-05-29T19:13:43.755Z"
   },
   {
    "duration": 12,
    "start_time": "2023-05-29T19:13:43.764Z"
   },
   {
    "duration": 7,
    "start_time": "2023-05-29T19:13:43.777Z"
   },
   {
    "duration": 10,
    "start_time": "2023-05-29T19:13:43.786Z"
   },
   {
    "duration": 8,
    "start_time": "2023-05-29T19:13:43.798Z"
   },
   {
    "duration": 9,
    "start_time": "2023-05-29T19:13:43.808Z"
   },
   {
    "duration": 23,
    "start_time": "2023-05-29T19:13:43.819Z"
   },
   {
    "duration": 6,
    "start_time": "2023-05-29T19:13:43.844Z"
   },
   {
    "duration": 11,
    "start_time": "2023-05-29T19:13:43.851Z"
   },
   {
    "duration": 7,
    "start_time": "2023-05-29T19:13:43.864Z"
   },
   {
    "duration": 8,
    "start_time": "2023-05-29T19:13:43.873Z"
   },
   {
    "duration": 8,
    "start_time": "2023-05-29T19:13:43.882Z"
   },
   {
    "duration": 11,
    "start_time": "2023-05-29T19:13:43.892Z"
   },
   {
    "duration": 42,
    "start_time": "2023-05-29T19:13:43.904Z"
   },
   {
    "duration": 6,
    "start_time": "2023-05-29T19:13:43.947Z"
   },
   {
    "duration": 8,
    "start_time": "2023-05-29T19:13:43.954Z"
   },
   {
    "duration": 6,
    "start_time": "2023-05-29T19:13:43.964Z"
   },
   {
    "duration": 8,
    "start_time": "2023-05-29T19:13:43.972Z"
   },
   {
    "duration": 11,
    "start_time": "2023-05-29T19:13:43.982Z"
   },
   {
    "duration": 1208,
    "start_time": "2023-05-29T19:56:53.398Z"
   },
   {
    "duration": 171,
    "start_time": "2023-05-29T19:56:54.608Z"
   },
   {
    "duration": 10,
    "start_time": "2023-05-29T19:56:54.780Z"
   },
   {
    "duration": 59,
    "start_time": "2023-05-29T19:56:54.792Z"
   },
   {
    "duration": 3,
    "start_time": "2023-05-29T19:56:54.855Z"
   },
   {
    "duration": 17,
    "start_time": "2023-05-29T19:56:54.860Z"
   },
   {
    "duration": 60,
    "start_time": "2023-05-29T19:56:54.879Z"
   },
   {
    "duration": 42,
    "start_time": "2023-05-29T19:56:54.941Z"
   },
   {
    "duration": 90,
    "start_time": "2023-05-29T19:56:54.985Z"
   },
   {
    "duration": 108,
    "start_time": "2023-05-29T19:56:55.077Z"
   },
   {
    "duration": 58,
    "start_time": "2023-05-29T19:56:55.186Z"
   },
   {
    "duration": 17,
    "start_time": "2023-05-29T19:56:55.245Z"
   },
   {
    "duration": 35,
    "start_time": "2023-05-29T19:56:55.264Z"
   },
   {
    "duration": 7,
    "start_time": "2023-05-29T19:56:55.302Z"
   },
   {
    "duration": 12,
    "start_time": "2023-05-29T19:56:55.310Z"
   },
   {
    "duration": 123,
    "start_time": "2023-05-29T19:56:55.323Z"
   },
   {
    "duration": 9,
    "start_time": "2023-05-29T19:56:55.448Z"
   },
   {
    "duration": 45,
    "start_time": "2023-05-29T19:56:55.459Z"
   },
   {
    "duration": 20,
    "start_time": "2023-05-29T19:56:55.506Z"
   },
   {
    "duration": 21,
    "start_time": "2023-05-29T19:56:55.527Z"
   },
   {
    "duration": 31,
    "start_time": "2023-05-29T19:56:55.549Z"
   },
   {
    "duration": 7,
    "start_time": "2023-05-29T19:56:55.581Z"
   },
   {
    "duration": 13,
    "start_time": "2023-05-29T19:56:55.589Z"
   },
   {
    "duration": 6,
    "start_time": "2023-05-29T19:56:55.603Z"
   },
   {
    "duration": 8,
    "start_time": "2023-05-29T19:56:55.610Z"
   },
   {
    "duration": 8471,
    "start_time": "2023-05-29T19:56:55.620Z"
   },
   {
    "duration": 19,
    "start_time": "2023-05-29T19:57:04.092Z"
   },
   {
    "duration": 31,
    "start_time": "2023-05-29T19:57:04.112Z"
   },
   {
    "duration": 18,
    "start_time": "2023-05-29T19:57:04.144Z"
   },
   {
    "duration": 25,
    "start_time": "2023-05-29T19:57:04.163Z"
   },
   {
    "duration": 48,
    "start_time": "2023-05-29T19:57:04.189Z"
   },
   {
    "duration": 37,
    "start_time": "2023-05-29T19:57:04.239Z"
   },
   {
    "duration": 41,
    "start_time": "2023-05-29T19:57:04.277Z"
   },
   {
    "duration": 27,
    "start_time": "2023-05-29T19:57:04.320Z"
   },
   {
    "duration": 25,
    "start_time": "2023-05-29T19:57:04.349Z"
   },
   {
    "duration": 35,
    "start_time": "2023-05-29T19:57:04.376Z"
   },
   {
    "duration": 61,
    "start_time": "2023-05-29T19:57:04.413Z"
   },
   {
    "duration": 40,
    "start_time": "2023-05-29T19:57:04.476Z"
   },
   {
    "duration": 51,
    "start_time": "2023-05-29T19:57:04.518Z"
   },
   {
    "duration": 45,
    "start_time": "2023-05-29T19:57:04.570Z"
   },
   {
    "duration": 32,
    "start_time": "2023-05-29T19:57:04.620Z"
   },
   {
    "duration": 48,
    "start_time": "2023-05-29T19:57:04.653Z"
   },
   {
    "duration": 48,
    "start_time": "2023-05-29T19:57:04.702Z"
   },
   {
    "duration": 18,
    "start_time": "2023-05-29T19:57:04.752Z"
   },
   {
    "duration": 36,
    "start_time": "2023-05-29T19:57:04.772Z"
   },
   {
    "duration": 66,
    "start_time": "2023-05-29T19:57:04.810Z"
   },
   {
    "duration": 52,
    "start_time": "2023-05-29T19:57:04.877Z"
   },
   {
    "duration": 48,
    "start_time": "2023-05-29T19:57:04.931Z"
   },
   {
    "duration": 66,
    "start_time": "2023-05-29T19:57:04.981Z"
   },
   {
    "duration": 7,
    "start_time": "2023-05-29T19:57:05.049Z"
   },
   {
    "duration": 52,
    "start_time": "2023-05-29T19:57:05.058Z"
   },
   {
    "duration": 11,
    "start_time": "2023-05-29T19:57:05.112Z"
   },
   {
    "duration": 11,
    "start_time": "2023-05-29T19:57:05.125Z"
   },
   {
    "duration": 12,
    "start_time": "2023-05-29T19:57:05.138Z"
   },
   {
    "duration": 12,
    "start_time": "2023-05-29T19:57:05.151Z"
   },
   {
    "duration": 9,
    "start_time": "2023-05-29T19:57:05.164Z"
   },
   {
    "duration": 18,
    "start_time": "2023-05-29T19:57:05.175Z"
   },
   {
    "duration": 251,
    "start_time": "2023-05-29T19:57:05.194Z"
   },
   {
    "duration": 3,
    "start_time": "2023-05-29T19:57:05.448Z"
   },
   {
    "duration": 47,
    "start_time": "2023-05-29T19:57:05.453Z"
   },
   {
    "duration": 37,
    "start_time": "2023-05-29T19:57:05.501Z"
   },
   {
    "duration": 160,
    "start_time": "2023-05-29T19:57:05.540Z"
   },
   {
    "duration": 8,
    "start_time": "2023-05-29T19:57:05.701Z"
   },
   {
    "duration": 16,
    "start_time": "2023-05-29T19:57:05.711Z"
   },
   {
    "duration": 15,
    "start_time": "2023-05-29T19:57:05.729Z"
   },
   {
    "duration": 5,
    "start_time": "2023-05-29T19:57:05.745Z"
   },
   {
    "duration": 15,
    "start_time": "2023-05-29T19:57:05.751Z"
   },
   {
    "duration": 16,
    "start_time": "2023-05-29T19:57:05.767Z"
   },
   {
    "duration": 10,
    "start_time": "2023-05-29T19:57:05.784Z"
   },
   {
    "duration": 11,
    "start_time": "2023-05-29T19:57:05.796Z"
   },
   {
    "duration": 11,
    "start_time": "2023-05-29T19:57:05.809Z"
   },
   {
    "duration": 17,
    "start_time": "2023-05-29T19:57:05.821Z"
   },
   {
    "duration": 12,
    "start_time": "2023-05-29T19:57:05.840Z"
   },
   {
    "duration": 14,
    "start_time": "2023-05-29T19:57:05.853Z"
   },
   {
    "duration": 11,
    "start_time": "2023-05-29T19:57:05.868Z"
   },
   {
    "duration": 9,
    "start_time": "2023-05-29T19:57:05.880Z"
   },
   {
    "duration": 11,
    "start_time": "2023-05-29T19:57:05.891Z"
   },
   {
    "duration": 12,
    "start_time": "2023-05-29T19:57:05.903Z"
   },
   {
    "duration": 10,
    "start_time": "2023-05-29T19:57:05.916Z"
   },
   {
    "duration": 13,
    "start_time": "2023-05-29T19:57:05.928Z"
   },
   {
    "duration": 9,
    "start_time": "2023-05-29T19:57:05.943Z"
   },
   {
    "duration": 14,
    "start_time": "2023-05-29T19:57:05.954Z"
   },
   {
    "duration": 7,
    "start_time": "2023-05-29T19:57:05.970Z"
   },
   {
    "duration": 11,
    "start_time": "2023-05-29T19:57:05.978Z"
   },
   {
    "duration": 23,
    "start_time": "2023-05-29T19:57:05.990Z"
   },
   {
    "duration": 14,
    "start_time": "2023-05-29T19:57:06.015Z"
   },
   {
    "duration": 18,
    "start_time": "2023-05-29T19:57:06.031Z"
   },
   {
    "duration": 16,
    "start_time": "2023-05-29T19:57:06.051Z"
   },
   {
    "duration": 15,
    "start_time": "2023-05-29T19:57:06.068Z"
   },
   {
    "duration": 12,
    "start_time": "2023-05-29T19:57:06.085Z"
   },
   {
    "duration": 11,
    "start_time": "2023-05-29T19:57:06.098Z"
   },
   {
    "duration": 4,
    "start_time": "2023-05-29T19:57:06.111Z"
   },
   {
    "duration": 7,
    "start_time": "2023-05-29T19:57:06.117Z"
   },
   {
    "duration": 6,
    "start_time": "2023-05-29T19:57:06.125Z"
   },
   {
    "duration": 17,
    "start_time": "2023-05-29T19:57:06.133Z"
   },
   {
    "duration": 11,
    "start_time": "2023-05-29T19:57:06.151Z"
   },
   {
    "duration": 11,
    "start_time": "2023-05-29T19:57:06.164Z"
   },
   {
    "duration": 12,
    "start_time": "2023-05-29T19:57:06.176Z"
   },
   {
    "duration": 5,
    "start_time": "2023-05-29T19:57:06.197Z"
   },
   {
    "duration": 13,
    "start_time": "2023-05-29T19:57:06.203Z"
   },
   {
    "duration": 22,
    "start_time": "2023-05-29T19:57:06.217Z"
   },
   {
    "duration": 1213,
    "start_time": "2023-05-29T20:12:29.291Z"
   },
   {
    "duration": 160,
    "start_time": "2023-05-29T20:12:30.506Z"
   },
   {
    "duration": 10,
    "start_time": "2023-05-29T20:12:30.667Z"
   },
   {
    "duration": 63,
    "start_time": "2023-05-29T20:12:30.679Z"
   },
   {
    "duration": 29,
    "start_time": "2023-05-29T20:12:30.745Z"
   },
   {
    "duration": 71,
    "start_time": "2023-05-29T20:12:30.775Z"
   },
   {
    "duration": 75,
    "start_time": "2023-05-29T20:12:30.847Z"
   },
   {
    "duration": 23,
    "start_time": "2023-05-29T20:12:30.924Z"
   },
   {
    "duration": 95,
    "start_time": "2023-05-29T20:12:30.949Z"
   },
   {
    "duration": 97,
    "start_time": "2023-05-29T20:12:31.046Z"
   },
   {
    "duration": 64,
    "start_time": "2023-05-29T20:12:31.145Z"
   },
   {
    "duration": 17,
    "start_time": "2023-05-29T20:12:31.211Z"
   },
   {
    "duration": 26,
    "start_time": "2023-05-29T20:12:31.229Z"
   },
   {
    "duration": 42,
    "start_time": "2023-05-29T20:12:31.258Z"
   },
   {
    "duration": 35,
    "start_time": "2023-05-29T20:12:31.302Z"
   },
   {
    "duration": 147,
    "start_time": "2023-05-29T20:12:31.339Z"
   },
   {
    "duration": 10,
    "start_time": "2023-05-29T20:12:31.488Z"
   },
   {
    "duration": 60,
    "start_time": "2023-05-29T20:12:31.499Z"
   },
   {
    "duration": 36,
    "start_time": "2023-05-29T20:12:31.561Z"
   },
   {
    "duration": 18,
    "start_time": "2023-05-29T20:12:31.599Z"
   },
   {
    "duration": 40,
    "start_time": "2023-05-29T20:12:31.619Z"
   },
   {
    "duration": 8,
    "start_time": "2023-05-29T20:12:31.661Z"
   },
   {
    "duration": 28,
    "start_time": "2023-05-29T20:12:31.671Z"
   },
   {
    "duration": 15,
    "start_time": "2023-05-29T20:12:31.701Z"
   },
   {
    "duration": 16,
    "start_time": "2023-05-29T20:12:31.719Z"
   },
   {
    "duration": 8256,
    "start_time": "2023-05-29T20:12:31.737Z"
   },
   {
    "duration": 18,
    "start_time": "2023-05-29T20:12:39.994Z"
   },
   {
    "duration": 11,
    "start_time": "2023-05-29T20:12:40.014Z"
   },
   {
    "duration": 13,
    "start_time": "2023-05-29T20:12:40.026Z"
   },
   {
    "duration": 9,
    "start_time": "2023-05-29T20:12:40.040Z"
   },
   {
    "duration": 4,
    "start_time": "2023-05-29T20:12:40.051Z"
   },
   {
    "duration": 45,
    "start_time": "2023-05-29T20:12:40.056Z"
   },
   {
    "duration": 17,
    "start_time": "2023-05-29T20:12:40.102Z"
   },
   {
    "duration": 20,
    "start_time": "2023-05-29T20:12:40.121Z"
   },
   {
    "duration": 5,
    "start_time": "2023-05-29T20:12:40.143Z"
   },
   {
    "duration": 8,
    "start_time": "2023-05-29T20:12:40.149Z"
   },
   {
    "duration": 39,
    "start_time": "2023-05-29T20:12:40.158Z"
   },
   {
    "duration": 4,
    "start_time": "2023-05-29T20:12:40.199Z"
   },
   {
    "duration": 11,
    "start_time": "2023-05-29T20:12:40.204Z"
   },
   {
    "duration": 19,
    "start_time": "2023-05-29T20:12:40.217Z"
   },
   {
    "duration": 4,
    "start_time": "2023-05-29T20:12:40.241Z"
   },
   {
    "duration": 9,
    "start_time": "2023-05-29T20:12:40.246Z"
   },
   {
    "duration": 41,
    "start_time": "2023-05-29T20:12:40.256Z"
   },
   {
    "duration": 4,
    "start_time": "2023-05-29T20:12:40.299Z"
   },
   {
    "duration": 11,
    "start_time": "2023-05-29T20:12:40.305Z"
   },
   {
    "duration": 32,
    "start_time": "2023-05-29T20:12:40.318Z"
   },
   {
    "duration": 3,
    "start_time": "2023-05-29T20:12:40.352Z"
   },
   {
    "duration": 13,
    "start_time": "2023-05-29T20:12:40.356Z"
   },
   {
    "duration": 58,
    "start_time": "2023-05-29T20:12:40.370Z"
   },
   {
    "duration": 8,
    "start_time": "2023-05-29T20:12:40.430Z"
   },
   {
    "duration": 5,
    "start_time": "2023-05-29T20:12:40.440Z"
   },
   {
    "duration": 16,
    "start_time": "2023-05-29T20:12:40.446Z"
   },
   {
    "duration": 16,
    "start_time": "2023-05-29T20:12:40.464Z"
   },
   {
    "duration": 6,
    "start_time": "2023-05-29T20:12:40.481Z"
   },
   {
    "duration": 12,
    "start_time": "2023-05-29T20:12:40.496Z"
   },
   {
    "duration": 12,
    "start_time": "2023-05-29T20:12:40.509Z"
   },
   {
    "duration": 11,
    "start_time": "2023-05-29T20:12:40.523Z"
   },
   {
    "duration": 229,
    "start_time": "2023-05-29T20:12:40.536Z"
   },
   {
    "duration": 3,
    "start_time": "2023-05-29T20:12:40.767Z"
   },
   {
    "duration": 26,
    "start_time": "2023-05-29T20:12:40.771Z"
   },
   {
    "duration": 34,
    "start_time": "2023-05-29T20:12:40.799Z"
   },
   {
    "duration": 172,
    "start_time": "2023-05-29T20:12:40.835Z"
   },
   {
    "duration": 8,
    "start_time": "2023-05-29T20:12:41.008Z"
   },
   {
    "duration": 11,
    "start_time": "2023-05-29T20:12:41.018Z"
   },
   {
    "duration": 16,
    "start_time": "2023-05-29T20:12:41.030Z"
   },
   {
    "duration": 11,
    "start_time": "2023-05-29T20:12:41.048Z"
   },
   {
    "duration": 13,
    "start_time": "2023-05-29T20:12:41.061Z"
   },
   {
    "duration": 8,
    "start_time": "2023-05-29T20:12:41.075Z"
   },
   {
    "duration": 7,
    "start_time": "2023-05-29T20:12:41.085Z"
   },
   {
    "duration": 14,
    "start_time": "2023-05-29T20:12:41.093Z"
   },
   {
    "duration": 11,
    "start_time": "2023-05-29T20:12:41.108Z"
   },
   {
    "duration": 8,
    "start_time": "2023-05-29T20:12:41.120Z"
   },
   {
    "duration": 10,
    "start_time": "2023-05-29T20:12:41.130Z"
   },
   {
    "duration": 11,
    "start_time": "2023-05-29T20:12:41.141Z"
   },
   {
    "duration": 12,
    "start_time": "2023-05-29T20:12:41.154Z"
   },
   {
    "duration": 10,
    "start_time": "2023-05-29T20:12:41.167Z"
   },
   {
    "duration": 10,
    "start_time": "2023-05-29T20:12:41.179Z"
   },
   {
    "duration": 7,
    "start_time": "2023-05-29T20:12:41.191Z"
   },
   {
    "duration": 11,
    "start_time": "2023-05-29T20:12:41.200Z"
   },
   {
    "duration": 12,
    "start_time": "2023-05-29T20:12:41.212Z"
   },
   {
    "duration": 14,
    "start_time": "2023-05-29T20:12:41.226Z"
   },
   {
    "duration": 16,
    "start_time": "2023-05-29T20:12:41.242Z"
   },
   {
    "duration": 10,
    "start_time": "2023-05-29T20:12:41.260Z"
   },
   {
    "duration": 12,
    "start_time": "2023-05-29T20:12:41.272Z"
   },
   {
    "duration": 16,
    "start_time": "2023-05-29T20:12:41.286Z"
   },
   {
    "duration": 18,
    "start_time": "2023-05-29T20:12:41.304Z"
   },
   {
    "duration": 5,
    "start_time": "2023-05-29T20:12:41.324Z"
   },
   {
    "duration": 10,
    "start_time": "2023-05-29T20:12:41.330Z"
   },
   {
    "duration": 7,
    "start_time": "2023-05-29T20:12:41.342Z"
   },
   {
    "duration": 7,
    "start_time": "2023-05-29T20:12:41.351Z"
   },
   {
    "duration": 11,
    "start_time": "2023-05-29T20:12:41.359Z"
   },
   {
    "duration": 27,
    "start_time": "2023-05-29T20:12:41.371Z"
   },
   {
    "duration": 5,
    "start_time": "2023-05-29T20:12:41.400Z"
   },
   {
    "duration": 10,
    "start_time": "2023-05-29T20:12:41.406Z"
   },
   {
    "duration": 9,
    "start_time": "2023-05-29T20:12:41.417Z"
   },
   {
    "duration": 11,
    "start_time": "2023-05-29T20:12:41.427Z"
   },
   {
    "duration": 5,
    "start_time": "2023-05-29T20:12:41.440Z"
   },
   {
    "duration": 12,
    "start_time": "2023-05-29T20:12:41.446Z"
   },
   {
    "duration": 8,
    "start_time": "2023-05-29T20:12:41.460Z"
   },
   {
    "duration": 29,
    "start_time": "2023-05-29T20:12:41.469Z"
   },
   {
    "duration": 10,
    "start_time": "2023-05-29T20:12:41.500Z"
   },
   {
    "duration": 1357,
    "start_time": "2023-05-29T22:04:01.106Z"
   },
   {
    "duration": 648,
    "start_time": "2023-05-29T22:04:02.465Z"
   },
   {
    "duration": 11,
    "start_time": "2023-05-29T22:04:03.114Z"
   },
   {
    "duration": 20,
    "start_time": "2023-05-29T22:04:03.126Z"
   },
   {
    "duration": 3,
    "start_time": "2023-05-29T22:04:03.147Z"
   },
   {
    "duration": 18,
    "start_time": "2023-05-29T22:04:03.151Z"
   },
   {
    "duration": 41,
    "start_time": "2023-05-29T22:04:03.171Z"
   },
   {
    "duration": 20,
    "start_time": "2023-05-29T22:04:03.213Z"
   },
   {
    "duration": 71,
    "start_time": "2023-05-29T22:04:03.234Z"
   },
   {
    "duration": 87,
    "start_time": "2023-05-29T22:04:03.316Z"
   },
   {
    "duration": 60,
    "start_time": "2023-05-29T22:04:03.404Z"
   },
   {
    "duration": 16,
    "start_time": "2023-05-29T22:04:03.465Z"
   },
   {
    "duration": 34,
    "start_time": "2023-05-29T22:04:03.482Z"
   },
   {
    "duration": 6,
    "start_time": "2023-05-29T22:04:03.519Z"
   },
   {
    "duration": 14,
    "start_time": "2023-05-29T22:04:03.526Z"
   },
   {
    "duration": 95,
    "start_time": "2023-05-29T22:04:03.542Z"
   },
   {
    "duration": 8,
    "start_time": "2023-05-29T22:04:03.639Z"
   },
   {
    "duration": 25,
    "start_time": "2023-05-29T22:04:03.648Z"
   },
   {
    "duration": 16,
    "start_time": "2023-05-29T22:04:03.674Z"
   },
   {
    "duration": 25,
    "start_time": "2023-05-29T22:04:03.691Z"
   },
   {
    "duration": 30,
    "start_time": "2023-05-29T22:04:03.718Z"
   },
   {
    "duration": 9,
    "start_time": "2023-05-29T22:04:03.749Z"
   },
   {
    "duration": 5,
    "start_time": "2023-05-29T22:04:03.759Z"
   },
   {
    "duration": 7,
    "start_time": "2023-05-29T22:04:03.766Z"
   },
   {
    "duration": 15,
    "start_time": "2023-05-29T22:04:03.774Z"
   },
   {
    "duration": 7304,
    "start_time": "2023-05-29T22:04:03.790Z"
   },
   {
    "duration": 15,
    "start_time": "2023-05-29T22:04:11.096Z"
   },
   {
    "duration": 11,
    "start_time": "2023-05-29T22:04:11.116Z"
   },
   {
    "duration": 8,
    "start_time": "2023-05-29T22:04:11.128Z"
   },
   {
    "duration": 8,
    "start_time": "2023-05-29T22:04:11.137Z"
   },
   {
    "duration": 3,
    "start_time": "2023-05-29T22:04:11.146Z"
   },
   {
    "duration": 12,
    "start_time": "2023-05-29T22:04:11.151Z"
   },
   {
    "duration": 22,
    "start_time": "2023-05-29T22:04:11.164Z"
   },
   {
    "duration": 37,
    "start_time": "2023-05-29T22:04:11.188Z"
   },
   {
    "duration": 5,
    "start_time": "2023-05-29T22:04:11.227Z"
   },
   {
    "duration": 5,
    "start_time": "2023-05-29T22:04:11.233Z"
   },
   {
    "duration": 19,
    "start_time": "2023-05-29T22:04:11.239Z"
   },
   {
    "duration": 4,
    "start_time": "2023-05-29T22:04:11.259Z"
   },
   {
    "duration": 3,
    "start_time": "2023-05-29T22:04:11.265Z"
   },
   {
    "duration": 48,
    "start_time": "2023-05-29T22:04:11.270Z"
   },
   {
    "duration": 4,
    "start_time": "2023-05-29T22:04:11.323Z"
   },
   {
    "duration": 4,
    "start_time": "2023-05-29T22:04:11.329Z"
   },
   {
    "duration": 43,
    "start_time": "2023-05-29T22:04:11.334Z"
   },
   {
    "duration": 4,
    "start_time": "2023-05-29T22:04:11.379Z"
   },
   {
    "duration": 7,
    "start_time": "2023-05-29T22:04:11.384Z"
   },
   {
    "duration": 29,
    "start_time": "2023-05-29T22:04:11.392Z"
   },
   {
    "duration": 3,
    "start_time": "2023-05-29T22:04:11.422Z"
   },
   {
    "duration": 11,
    "start_time": "2023-05-29T22:04:11.426Z"
   },
   {
    "duration": 46,
    "start_time": "2023-05-29T22:04:11.438Z"
   },
   {
    "duration": 7,
    "start_time": "2023-05-29T22:04:11.486Z"
   },
   {
    "duration": 21,
    "start_time": "2023-05-29T22:04:11.494Z"
   },
   {
    "duration": 10,
    "start_time": "2023-05-29T22:04:11.517Z"
   },
   {
    "duration": 9,
    "start_time": "2023-05-29T22:04:11.529Z"
   },
   {
    "duration": 6,
    "start_time": "2023-05-29T22:04:11.539Z"
   },
   {
    "duration": 9,
    "start_time": "2023-05-29T22:04:11.546Z"
   },
   {
    "duration": 6,
    "start_time": "2023-05-29T22:04:11.556Z"
   },
   {
    "duration": 8,
    "start_time": "2023-05-29T22:04:11.564Z"
   },
   {
    "duration": 222,
    "start_time": "2023-05-29T22:04:11.573Z"
   },
   {
    "duration": 2,
    "start_time": "2023-05-29T22:04:11.797Z"
   },
   {
    "duration": 7,
    "start_time": "2023-05-29T22:04:11.800Z"
   },
   {
    "duration": 25,
    "start_time": "2023-05-29T22:04:11.808Z"
   },
   {
    "duration": 164,
    "start_time": "2023-05-29T22:04:11.835Z"
   },
   {
    "duration": 9,
    "start_time": "2023-05-29T22:04:12.000Z"
   },
   {
    "duration": 25,
    "start_time": "2023-05-29T22:04:12.015Z"
   },
   {
    "duration": 5,
    "start_time": "2023-05-29T22:04:12.042Z"
   },
   {
    "duration": 9,
    "start_time": "2023-05-29T22:04:12.048Z"
   },
   {
    "duration": 11,
    "start_time": "2023-05-29T22:04:12.058Z"
   },
   {
    "duration": 6,
    "start_time": "2023-05-29T22:04:12.070Z"
   },
   {
    "duration": 5,
    "start_time": "2023-05-29T22:04:12.077Z"
   },
   {
    "duration": 8,
    "start_time": "2023-05-29T22:04:12.084Z"
   },
   {
    "duration": 8,
    "start_time": "2023-05-29T22:04:12.094Z"
   },
   {
    "duration": 5,
    "start_time": "2023-05-29T22:04:12.103Z"
   },
   {
    "duration": 6,
    "start_time": "2023-05-29T22:04:12.110Z"
   },
   {
    "duration": 21,
    "start_time": "2023-05-29T22:04:12.117Z"
   },
   {
    "duration": 18,
    "start_time": "2023-05-29T22:04:12.140Z"
   },
   {
    "duration": 6,
    "start_time": "2023-05-29T22:04:12.159Z"
   },
   {
    "duration": 8,
    "start_time": "2023-05-29T22:04:12.166Z"
   },
   {
    "duration": 5,
    "start_time": "2023-05-29T22:04:12.175Z"
   },
   {
    "duration": 11,
    "start_time": "2023-05-29T22:04:12.182Z"
   },
   {
    "duration": 12,
    "start_time": "2023-05-29T22:04:12.194Z"
   },
   {
    "duration": 5,
    "start_time": "2023-05-29T22:04:12.207Z"
   },
   {
    "duration": 20,
    "start_time": "2023-05-29T22:04:12.215Z"
   },
   {
    "duration": 20,
    "start_time": "2023-05-29T22:04:12.237Z"
   },
   {
    "duration": 15,
    "start_time": "2023-05-29T22:04:12.263Z"
   },
   {
    "duration": 19,
    "start_time": "2023-05-29T22:04:12.279Z"
   },
   {
    "duration": 15,
    "start_time": "2023-05-29T22:04:12.299Z"
   },
   {
    "duration": 21,
    "start_time": "2023-05-29T22:04:12.315Z"
   },
   {
    "duration": 14,
    "start_time": "2023-05-29T22:04:12.338Z"
   },
   {
    "duration": 9,
    "start_time": "2023-05-29T22:04:12.354Z"
   },
   {
    "duration": 12,
    "start_time": "2023-05-29T22:04:12.365Z"
   },
   {
    "duration": 15,
    "start_time": "2023-05-29T22:04:12.379Z"
   },
   {
    "duration": 10,
    "start_time": "2023-05-29T22:04:12.396Z"
   },
   {
    "duration": 10,
    "start_time": "2023-05-29T22:04:12.407Z"
   },
   {
    "duration": 12,
    "start_time": "2023-05-29T22:04:12.418Z"
   },
   {
    "duration": 5,
    "start_time": "2023-05-29T22:04:12.432Z"
   },
   {
    "duration": 12,
    "start_time": "2023-05-29T22:04:12.438Z"
   },
   {
    "duration": 7,
    "start_time": "2023-05-29T22:04:12.452Z"
   },
   {
    "duration": 6,
    "start_time": "2023-05-29T22:04:12.460Z"
   },
   {
    "duration": 7,
    "start_time": "2023-05-29T22:04:12.467Z"
   },
   {
    "duration": 10,
    "start_time": "2023-05-29T22:04:12.475Z"
   },
   {
    "duration": 33,
    "start_time": "2023-05-29T22:04:12.486Z"
   },
   {
    "duration": 4,
    "start_time": "2023-05-29T22:06:36.884Z"
   },
   {
    "duration": 1087,
    "start_time": "2023-05-29T22:13:00.619Z"
   },
   {
    "duration": 137,
    "start_time": "2023-05-29T22:13:01.707Z"
   },
   {
    "duration": 12,
    "start_time": "2023-05-29T22:13:01.845Z"
   },
   {
    "duration": 67,
    "start_time": "2023-05-29T22:13:01.865Z"
   },
   {
    "duration": 31,
    "start_time": "2023-05-29T22:13:01.934Z"
   },
   {
    "duration": 54,
    "start_time": "2023-05-29T22:13:01.966Z"
   },
   {
    "duration": 102,
    "start_time": "2023-05-29T22:13:02.022Z"
   },
   {
    "duration": 57,
    "start_time": "2023-05-29T22:13:02.125Z"
   },
   {
    "duration": 80,
    "start_time": "2023-05-29T22:13:02.183Z"
   },
   {
    "duration": 92,
    "start_time": "2023-05-29T22:13:02.265Z"
   },
   {
    "duration": 59,
    "start_time": "2023-05-29T22:13:02.359Z"
   },
   {
    "duration": 17,
    "start_time": "2023-05-29T22:13:02.419Z"
   },
   {
    "duration": 99,
    "start_time": "2023-05-29T22:13:02.437Z"
   },
   {
    "duration": 59,
    "start_time": "2023-05-29T22:13:02.539Z"
   },
   {
    "duration": 66,
    "start_time": "2023-05-29T22:13:02.599Z"
   },
   {
    "duration": 121,
    "start_time": "2023-05-29T22:13:02.667Z"
   },
   {
    "duration": 8,
    "start_time": "2023-05-29T22:13:02.789Z"
   },
   {
    "duration": 46,
    "start_time": "2023-05-29T22:13:02.799Z"
   },
   {
    "duration": 29,
    "start_time": "2023-05-29T22:13:02.847Z"
   },
   {
    "duration": 11,
    "start_time": "2023-05-29T22:13:02.878Z"
   },
   {
    "duration": 24,
    "start_time": "2023-05-29T22:13:02.891Z"
   },
   {
    "duration": 7,
    "start_time": "2023-05-29T22:13:02.916Z"
   },
   {
    "duration": 8,
    "start_time": "2023-05-29T22:13:02.925Z"
   },
   {
    "duration": 13,
    "start_time": "2023-05-29T22:13:02.934Z"
   },
   {
    "duration": 11,
    "start_time": "2023-05-29T22:13:02.948Z"
   },
   {
    "duration": 7181,
    "start_time": "2023-05-29T22:13:02.961Z"
   },
   {
    "duration": 16,
    "start_time": "2023-05-29T22:13:10.144Z"
   },
   {
    "duration": 18,
    "start_time": "2023-05-29T22:13:10.162Z"
   },
   {
    "duration": 24,
    "start_time": "2023-05-29T22:13:10.182Z"
   },
   {
    "duration": 11,
    "start_time": "2023-05-29T22:13:10.208Z"
   },
   {
    "duration": 12,
    "start_time": "2023-05-29T22:13:10.221Z"
   },
   {
    "duration": 15,
    "start_time": "2023-05-29T22:13:10.234Z"
   },
   {
    "duration": 18,
    "start_time": "2023-05-29T22:13:10.251Z"
   },
   {
    "duration": 19,
    "start_time": "2023-05-29T22:13:10.271Z"
   },
   {
    "duration": 6,
    "start_time": "2023-05-29T22:13:10.292Z"
   },
   {
    "duration": 24,
    "start_time": "2023-05-29T22:13:10.300Z"
   },
   {
    "duration": 21,
    "start_time": "2023-05-29T22:13:10.326Z"
   },
   {
    "duration": 11,
    "start_time": "2023-05-29T22:13:10.348Z"
   },
   {
    "duration": 12,
    "start_time": "2023-05-29T22:13:10.360Z"
   },
   {
    "duration": 25,
    "start_time": "2023-05-29T22:13:10.373Z"
   },
   {
    "duration": 4,
    "start_time": "2023-05-29T22:13:10.403Z"
   },
   {
    "duration": 8,
    "start_time": "2023-05-29T22:13:10.408Z"
   },
   {
    "duration": 24,
    "start_time": "2023-05-29T22:13:10.417Z"
   },
   {
    "duration": 4,
    "start_time": "2023-05-29T22:13:10.442Z"
   },
   {
    "duration": 23,
    "start_time": "2023-05-29T22:13:10.447Z"
   },
   {
    "duration": 31,
    "start_time": "2023-05-29T22:13:10.471Z"
   },
   {
    "duration": 2,
    "start_time": "2023-05-29T22:13:10.504Z"
   },
   {
    "duration": 8,
    "start_time": "2023-05-29T22:13:10.515Z"
   },
   {
    "duration": 54,
    "start_time": "2023-05-29T22:13:10.524Z"
   },
   {
    "duration": 8,
    "start_time": "2023-05-29T22:13:10.579Z"
   },
   {
    "duration": 8,
    "start_time": "2023-05-29T22:13:10.588Z"
   },
   {
    "duration": 20,
    "start_time": "2023-05-29T22:13:10.597Z"
   },
   {
    "duration": 14,
    "start_time": "2023-05-29T22:13:10.618Z"
   },
   {
    "duration": 22,
    "start_time": "2023-05-29T22:13:10.633Z"
   },
   {
    "duration": 12,
    "start_time": "2023-05-29T22:13:10.656Z"
   },
   {
    "duration": 14,
    "start_time": "2023-05-29T22:13:10.669Z"
   },
   {
    "duration": 18,
    "start_time": "2023-05-29T22:13:10.684Z"
   },
   {
    "duration": 235,
    "start_time": "2023-05-29T22:13:10.703Z"
   },
   {
    "duration": 3,
    "start_time": "2023-05-29T22:13:10.939Z"
   },
   {
    "duration": 10,
    "start_time": "2023-05-29T22:13:10.944Z"
   },
   {
    "duration": 84,
    "start_time": "2023-05-29T22:13:10.955Z"
   },
   {
    "duration": 174,
    "start_time": "2023-05-29T22:13:11.041Z"
   },
   {
    "duration": 7,
    "start_time": "2023-05-29T22:13:11.217Z"
   },
   {
    "duration": 14,
    "start_time": "2023-05-29T22:13:11.225Z"
   },
   {
    "duration": 11,
    "start_time": "2023-05-29T22:13:11.240Z"
   },
   {
    "duration": 25,
    "start_time": "2023-05-29T22:13:11.252Z"
   },
   {
    "duration": 8,
    "start_time": "2023-05-29T22:13:11.278Z"
   },
   {
    "duration": 8,
    "start_time": "2023-05-29T22:13:11.287Z"
   },
   {
    "duration": 6,
    "start_time": "2023-05-29T22:13:11.296Z"
   },
   {
    "duration": 17,
    "start_time": "2023-05-29T22:13:11.303Z"
   },
   {
    "duration": 8,
    "start_time": "2023-05-29T22:13:11.322Z"
   },
   {
    "duration": 8,
    "start_time": "2023-05-29T22:13:11.331Z"
   },
   {
    "duration": 6,
    "start_time": "2023-05-29T22:13:11.341Z"
   },
   {
    "duration": 5,
    "start_time": "2023-05-29T22:13:11.348Z"
   },
   {
    "duration": 12,
    "start_time": "2023-05-29T22:13:11.355Z"
   },
   {
    "duration": 7,
    "start_time": "2023-05-29T22:13:11.369Z"
   },
   {
    "duration": 12,
    "start_time": "2023-05-29T22:13:11.377Z"
   },
   {
    "duration": 6,
    "start_time": "2023-05-29T22:13:11.391Z"
   },
   {
    "duration": 17,
    "start_time": "2023-05-29T22:13:11.399Z"
   },
   {
    "duration": 22,
    "start_time": "2023-05-29T22:13:11.418Z"
   },
   {
    "duration": 13,
    "start_time": "2023-05-29T22:13:11.442Z"
   },
   {
    "duration": 18,
    "start_time": "2023-05-29T22:13:11.457Z"
   },
   {
    "duration": 9,
    "start_time": "2023-05-29T22:13:11.477Z"
   },
   {
    "duration": 10,
    "start_time": "2023-05-29T22:13:11.487Z"
   },
   {
    "duration": 13,
    "start_time": "2023-05-29T22:13:11.499Z"
   },
   {
    "duration": 25,
    "start_time": "2023-05-29T22:13:11.514Z"
   },
   {
    "duration": 5,
    "start_time": "2023-05-29T22:13:11.540Z"
   },
   {
    "duration": 6,
    "start_time": "2023-05-29T22:13:11.547Z"
   },
   {
    "duration": 7,
    "start_time": "2023-05-29T22:13:11.554Z"
   },
   {
    "duration": 15,
    "start_time": "2023-05-29T22:13:11.563Z"
   },
   {
    "duration": 46,
    "start_time": "2023-05-29T22:13:11.580Z"
   },
   {
    "duration": 11,
    "start_time": "2023-05-29T22:13:11.629Z"
   },
   {
    "duration": 11,
    "start_time": "2023-05-29T22:13:11.641Z"
   },
   {
    "duration": 17,
    "start_time": "2023-05-29T22:13:11.654Z"
   },
   {
    "duration": 7,
    "start_time": "2023-05-29T22:13:11.673Z"
   },
   {
    "duration": 23,
    "start_time": "2023-05-29T22:13:11.682Z"
   },
   {
    "duration": 5,
    "start_time": "2023-05-29T22:13:11.707Z"
   },
   {
    "duration": 10,
    "start_time": "2023-05-29T22:13:11.713Z"
   },
   {
    "duration": 10,
    "start_time": "2023-05-29T22:13:11.724Z"
   },
   {
    "duration": 7,
    "start_time": "2023-05-29T22:13:11.735Z"
   },
   {
    "duration": 11,
    "start_time": "2023-05-29T22:13:11.743Z"
   },
   {
    "duration": 1271,
    "start_time": "2023-05-30T06:51:45.053Z"
   },
   {
    "duration": 471,
    "start_time": "2023-05-30T06:51:46.326Z"
   },
   {
    "duration": 11,
    "start_time": "2023-05-30T06:51:46.799Z"
   },
   {
    "duration": 42,
    "start_time": "2023-05-30T06:51:46.813Z"
   },
   {
    "duration": 7,
    "start_time": "2023-05-30T06:51:46.857Z"
   },
   {
    "duration": 39,
    "start_time": "2023-05-30T06:51:46.866Z"
   },
   {
    "duration": 39,
    "start_time": "2023-05-30T06:51:46.907Z"
   },
   {
    "duration": 27,
    "start_time": "2023-05-30T06:51:46.949Z"
   },
   {
    "duration": 96,
    "start_time": "2023-05-30T06:51:46.978Z"
   },
   {
    "duration": 100,
    "start_time": "2023-05-30T06:51:47.077Z"
   },
   {
    "duration": 61,
    "start_time": "2023-05-30T06:51:47.179Z"
   },
   {
    "duration": 18,
    "start_time": "2023-05-30T06:51:47.242Z"
   },
   {
    "duration": 37,
    "start_time": "2023-05-30T06:51:47.262Z"
   },
   {
    "duration": 15,
    "start_time": "2023-05-30T06:51:47.301Z"
   },
   {
    "duration": 10,
    "start_time": "2023-05-30T06:51:47.324Z"
   },
   {
    "duration": 113,
    "start_time": "2023-05-30T06:51:47.335Z"
   },
   {
    "duration": 9,
    "start_time": "2023-05-30T06:51:47.450Z"
   },
   {
    "duration": 35,
    "start_time": "2023-05-30T06:51:47.461Z"
   },
   {
    "duration": 6,
    "start_time": "2023-05-30T06:51:47.498Z"
   },
   {
    "duration": 24,
    "start_time": "2023-05-30T06:51:47.506Z"
   },
   {
    "duration": 8,
    "start_time": "2023-05-30T06:51:47.532Z"
   },
   {
    "duration": 104,
    "start_time": "2023-05-30T06:51:47.541Z"
   },
   {
    "duration": 0,
    "start_time": "2023-05-30T06:51:47.648Z"
   },
   {
    "duration": 0,
    "start_time": "2023-05-30T06:51:47.650Z"
   },
   {
    "duration": 0,
    "start_time": "2023-05-30T06:51:47.651Z"
   },
   {
    "duration": 0,
    "start_time": "2023-05-30T06:51:47.652Z"
   },
   {
    "duration": 0,
    "start_time": "2023-05-30T06:51:47.654Z"
   },
   {
    "duration": 0,
    "start_time": "2023-05-30T06:51:47.655Z"
   },
   {
    "duration": 0,
    "start_time": "2023-05-30T06:51:47.656Z"
   },
   {
    "duration": 0,
    "start_time": "2023-05-30T06:51:47.657Z"
   },
   {
    "duration": 0,
    "start_time": "2023-05-30T06:51:47.658Z"
   },
   {
    "duration": 0,
    "start_time": "2023-05-30T06:51:47.659Z"
   },
   {
    "duration": 0,
    "start_time": "2023-05-30T06:51:47.661Z"
   },
   {
    "duration": 0,
    "start_time": "2023-05-30T06:51:47.662Z"
   },
   {
    "duration": 0,
    "start_time": "2023-05-30T06:51:47.663Z"
   },
   {
    "duration": 0,
    "start_time": "2023-05-30T06:51:47.664Z"
   },
   {
    "duration": 0,
    "start_time": "2023-05-30T06:51:47.665Z"
   },
   {
    "duration": 0,
    "start_time": "2023-05-30T06:51:47.666Z"
   },
   {
    "duration": 0,
    "start_time": "2023-05-30T06:51:47.667Z"
   },
   {
    "duration": 0,
    "start_time": "2023-05-30T06:51:47.668Z"
   },
   {
    "duration": 0,
    "start_time": "2023-05-30T06:51:47.669Z"
   },
   {
    "duration": 0,
    "start_time": "2023-05-30T06:51:47.670Z"
   },
   {
    "duration": 0,
    "start_time": "2023-05-30T06:51:47.672Z"
   },
   {
    "duration": 0,
    "start_time": "2023-05-30T06:51:47.673Z"
   },
   {
    "duration": 0,
    "start_time": "2023-05-30T06:51:47.674Z"
   },
   {
    "duration": 0,
    "start_time": "2023-05-30T06:51:47.675Z"
   },
   {
    "duration": 0,
    "start_time": "2023-05-30T06:51:47.676Z"
   },
   {
    "duration": 0,
    "start_time": "2023-05-30T06:51:47.677Z"
   },
   {
    "duration": 0,
    "start_time": "2023-05-30T06:51:47.678Z"
   },
   {
    "duration": 0,
    "start_time": "2023-05-30T06:51:47.679Z"
   },
   {
    "duration": 0,
    "start_time": "2023-05-30T06:51:47.725Z"
   },
   {
    "duration": 0,
    "start_time": "2023-05-30T06:51:47.728Z"
   },
   {
    "duration": 0,
    "start_time": "2023-05-30T06:51:47.730Z"
   },
   {
    "duration": 0,
    "start_time": "2023-05-30T06:51:47.731Z"
   },
   {
    "duration": 1,
    "start_time": "2023-05-30T06:51:47.732Z"
   },
   {
    "duration": 0,
    "start_time": "2023-05-30T06:51:47.734Z"
   },
   {
    "duration": 0,
    "start_time": "2023-05-30T06:51:47.735Z"
   },
   {
    "duration": 0,
    "start_time": "2023-05-30T06:51:47.737Z"
   },
   {
    "duration": 0,
    "start_time": "2023-05-30T06:51:47.739Z"
   },
   {
    "duration": 0,
    "start_time": "2023-05-30T06:51:47.740Z"
   },
   {
    "duration": 0,
    "start_time": "2023-05-30T06:51:47.742Z"
   },
   {
    "duration": 0,
    "start_time": "2023-05-30T06:51:47.743Z"
   },
   {
    "duration": 0,
    "start_time": "2023-05-30T06:51:47.745Z"
   },
   {
    "duration": 0,
    "start_time": "2023-05-30T06:51:47.746Z"
   },
   {
    "duration": 0,
    "start_time": "2023-05-30T06:51:47.747Z"
   },
   {
    "duration": 0,
    "start_time": "2023-05-30T06:51:47.748Z"
   },
   {
    "duration": 0,
    "start_time": "2023-05-30T06:51:47.750Z"
   },
   {
    "duration": 0,
    "start_time": "2023-05-30T06:51:47.751Z"
   },
   {
    "duration": 0,
    "start_time": "2023-05-30T06:51:47.752Z"
   },
   {
    "duration": 0,
    "start_time": "2023-05-30T06:51:47.753Z"
   },
   {
    "duration": 0,
    "start_time": "2023-05-30T06:51:47.754Z"
   },
   {
    "duration": 0,
    "start_time": "2023-05-30T06:51:47.755Z"
   },
   {
    "duration": 0,
    "start_time": "2023-05-30T06:51:47.756Z"
   },
   {
    "duration": 0,
    "start_time": "2023-05-30T06:51:47.757Z"
   },
   {
    "duration": 0,
    "start_time": "2023-05-30T06:51:47.758Z"
   },
   {
    "duration": 0,
    "start_time": "2023-05-30T06:51:47.760Z"
   },
   {
    "duration": 0,
    "start_time": "2023-05-30T06:51:47.761Z"
   },
   {
    "duration": 0,
    "start_time": "2023-05-30T06:51:47.763Z"
   },
   {
    "duration": 0,
    "start_time": "2023-05-30T06:51:47.825Z"
   },
   {
    "duration": 0,
    "start_time": "2023-05-30T06:51:47.826Z"
   },
   {
    "duration": 0,
    "start_time": "2023-05-30T06:51:47.828Z"
   },
   {
    "duration": 0,
    "start_time": "2023-05-30T06:51:47.829Z"
   },
   {
    "duration": 0,
    "start_time": "2023-05-30T06:51:47.830Z"
   },
   {
    "duration": 0,
    "start_time": "2023-05-30T06:51:47.831Z"
   },
   {
    "duration": 0,
    "start_time": "2023-05-30T06:51:47.832Z"
   },
   {
    "duration": 0,
    "start_time": "2023-05-30T06:51:47.834Z"
   },
   {
    "duration": 0,
    "start_time": "2023-05-30T06:51:47.835Z"
   },
   {
    "duration": 0,
    "start_time": "2023-05-30T06:51:47.836Z"
   },
   {
    "duration": 1,
    "start_time": "2023-05-30T06:51:47.837Z"
   },
   {
    "duration": 0,
    "start_time": "2023-05-30T06:51:47.839Z"
   },
   {
    "duration": 0,
    "start_time": "2023-05-30T06:51:47.840Z"
   },
   {
    "duration": 0,
    "start_time": "2023-05-30T06:51:47.841Z"
   },
   {
    "duration": 0,
    "start_time": "2023-05-30T06:51:47.842Z"
   },
   {
    "duration": 0,
    "start_time": "2023-05-30T06:51:47.843Z"
   },
   {
    "duration": 0,
    "start_time": "2023-05-30T06:51:47.844Z"
   },
   {
    "duration": 0,
    "start_time": "2023-05-30T06:51:47.844Z"
   },
   {
    "duration": 0,
    "start_time": "2023-05-30T06:51:47.845Z"
   },
   {
    "duration": 0,
    "start_time": "2023-05-30T06:51:47.846Z"
   },
   {
    "duration": 0,
    "start_time": "2023-05-30T06:51:47.847Z"
   },
   {
    "duration": 0,
    "start_time": "2023-05-30T06:51:47.848Z"
   },
   {
    "duration": 0,
    "start_time": "2023-05-30T06:51:47.849Z"
   },
   {
    "duration": 0,
    "start_time": "2023-05-30T06:51:47.850Z"
   },
   {
    "duration": 0,
    "start_time": "2023-05-30T06:51:47.851Z"
   },
   {
    "duration": 0,
    "start_time": "2023-05-30T06:51:47.852Z"
   },
   {
    "duration": 0,
    "start_time": "2023-05-30T06:51:47.853Z"
   },
   {
    "duration": 12,
    "start_time": "2023-05-30T06:52:18.055Z"
   },
   {
    "duration": 6,
    "start_time": "2023-05-30T06:52:27.798Z"
   },
   {
    "duration": 7,
    "start_time": "2023-05-30T06:52:37.005Z"
   },
   {
    "duration": 8,
    "start_time": "2023-05-30T06:54:37.807Z"
   },
   {
    "duration": 6,
    "start_time": "2023-05-30T06:54:46.240Z"
   },
   {
    "duration": 7,
    "start_time": "2023-05-30T06:55:22.635Z"
   },
   {
    "duration": 7,
    "start_time": "2023-05-30T06:55:29.455Z"
   },
   {
    "duration": 76,
    "start_time": "2023-05-30T07:01:37.114Z"
   },
   {
    "duration": 29,
    "start_time": "2023-05-30T07:04:15.421Z"
   },
   {
    "duration": 11,
    "start_time": "2023-05-30T07:04:17.761Z"
   },
   {
    "duration": 22,
    "start_time": "2023-05-30T07:04:23.558Z"
   },
   {
    "duration": 12,
    "start_time": "2023-05-30T07:04:24.378Z"
   },
   {
    "duration": 6,
    "start_time": "2023-05-30T07:04:27.763Z"
   },
   {
    "duration": 7,
    "start_time": "2023-05-30T07:04:28.747Z"
   },
   {
    "duration": 11,
    "start_time": "2023-05-30T07:04:34.203Z"
   },
   {
    "duration": 9,
    "start_time": "2023-05-30T07:09:33.600Z"
   },
   {
    "duration": 239,
    "start_time": "2023-05-30T07:10:24.420Z"
   },
   {
    "duration": 150,
    "start_time": "2023-05-30T07:10:46.846Z"
   },
   {
    "duration": 194,
    "start_time": "2023-05-30T07:11:06.974Z"
   },
   {
    "duration": 582,
    "start_time": "2023-05-30T07:11:35.063Z"
   },
   {
    "duration": 191,
    "start_time": "2023-05-30T07:11:52.297Z"
   },
   {
    "duration": 1996,
    "start_time": "2023-05-30T07:15:08.072Z"
   },
   {
    "duration": 1743,
    "start_time": "2023-05-30T07:15:44.937Z"
   },
   {
    "duration": 1700,
    "start_time": "2023-05-30T07:15:57.503Z"
   },
   {
    "duration": 1778,
    "start_time": "2023-05-30T07:16:11.973Z"
   },
   {
    "duration": 5,
    "start_time": "2023-05-30T07:27:45.054Z"
   },
   {
    "duration": 5,
    "start_time": "2023-05-30T07:28:09.581Z"
   },
   {
    "duration": 6,
    "start_time": "2023-05-30T07:28:42.109Z"
   },
   {
    "duration": 5,
    "start_time": "2023-05-30T07:43:07.226Z"
   },
   {
    "duration": 4,
    "start_time": "2023-05-30T07:43:32.814Z"
   },
   {
    "duration": 3,
    "start_time": "2023-05-30T07:43:59.743Z"
   },
   {
    "duration": 5,
    "start_time": "2023-05-30T07:44:25.709Z"
   },
   {
    "duration": 13,
    "start_time": "2023-05-30T07:44:45.677Z"
   },
   {
    "duration": 6,
    "start_time": "2023-05-30T07:46:45.672Z"
   },
   {
    "duration": 10,
    "start_time": "2023-05-30T07:46:50.110Z"
   },
   {
    "duration": 9016,
    "start_time": "2023-05-30T07:48:00.485Z"
   },
   {
    "duration": 9349,
    "start_time": "2023-05-30T07:48:30.814Z"
   },
   {
    "duration": 948,
    "start_time": "2023-05-30T07:49:17.216Z"
   },
   {
    "duration": 733,
    "start_time": "2023-05-30T07:49:30.784Z"
   },
   {
    "duration": 678,
    "start_time": "2023-05-30T07:52:07.840Z"
   },
   {
    "duration": 10,
    "start_time": "2023-05-30T07:52:13.481Z"
   },
   {
    "duration": 6,
    "start_time": "2023-05-30T07:52:18.296Z"
   },
   {
    "duration": 9,
    "start_time": "2023-05-30T07:52:19.441Z"
   },
   {
    "duration": 11,
    "start_time": "2023-05-30T07:52:25.842Z"
   },
   {
    "duration": 3,
    "start_time": "2023-05-30T07:52:27.321Z"
   },
   {
    "duration": 1294,
    "start_time": "2023-05-30T07:54:59.696Z"
   },
   {
    "duration": 189,
    "start_time": "2023-05-30T07:55:00.993Z"
   },
   {
    "duration": 12,
    "start_time": "2023-05-30T07:55:01.184Z"
   },
   {
    "duration": 119,
    "start_time": "2023-05-30T07:55:01.197Z"
   },
   {
    "duration": 147,
    "start_time": "2023-05-30T07:55:01.318Z"
   },
   {
    "duration": 233,
    "start_time": "2023-05-30T07:55:01.467Z"
   },
   {
    "duration": 185,
    "start_time": "2023-05-30T07:55:01.701Z"
   },
   {
    "duration": 102,
    "start_time": "2023-05-30T07:55:01.889Z"
   },
   {
    "duration": 295,
    "start_time": "2023-05-30T07:55:01.993Z"
   },
   {
    "duration": 209,
    "start_time": "2023-05-30T07:55:02.292Z"
   },
   {
    "duration": 68,
    "start_time": "2023-05-30T07:55:02.503Z"
   },
   {
    "duration": 106,
    "start_time": "2023-05-30T07:55:02.573Z"
   },
   {
    "duration": 139,
    "start_time": "2023-05-30T07:55:02.681Z"
   },
   {
    "duration": 164,
    "start_time": "2023-05-30T07:55:02.822Z"
   },
   {
    "duration": 184,
    "start_time": "2023-05-30T07:55:02.988Z"
   },
   {
    "duration": 202,
    "start_time": "2023-05-30T07:55:03.174Z"
   },
   {
    "duration": 30,
    "start_time": "2023-05-30T07:55:03.378Z"
   },
   {
    "duration": 86,
    "start_time": "2023-05-30T07:55:03.410Z"
   },
   {
    "duration": 46,
    "start_time": "2023-05-30T07:55:03.497Z"
   },
   {
    "duration": 42,
    "start_time": "2023-05-30T07:55:03.546Z"
   },
   {
    "duration": 56,
    "start_time": "2023-05-30T07:55:03.590Z"
   },
   {
    "duration": 108,
    "start_time": "2023-05-30T07:55:03.652Z"
   },
   {
    "duration": 35,
    "start_time": "2023-05-30T07:55:03.762Z"
   },
   {
    "duration": 18,
    "start_time": "2023-05-30T07:55:03.799Z"
   },
   {
    "duration": 72,
    "start_time": "2023-05-30T07:55:03.819Z"
   },
   {
    "duration": 73,
    "start_time": "2023-05-30T07:55:03.893Z"
   },
   {
    "duration": 33,
    "start_time": "2023-05-30T07:55:03.967Z"
   },
   {
    "duration": 55,
    "start_time": "2023-05-30T07:55:04.004Z"
   },
   {
    "duration": 57,
    "start_time": "2023-05-30T07:55:04.061Z"
   },
   {
    "duration": 61,
    "start_time": "2023-05-30T07:55:04.120Z"
   },
   {
    "duration": 31,
    "start_time": "2023-05-30T07:55:04.183Z"
   },
   {
    "duration": 45,
    "start_time": "2023-05-30T07:55:04.216Z"
   },
   {
    "duration": 36,
    "start_time": "2023-05-30T07:55:04.263Z"
   },
   {
    "duration": 58,
    "start_time": "2023-05-30T07:55:04.301Z"
   },
   {
    "duration": 47,
    "start_time": "2023-05-30T07:55:04.361Z"
   },
   {
    "duration": 39,
    "start_time": "2023-05-30T07:55:04.409Z"
   },
   {
    "duration": 8963,
    "start_time": "2023-05-30T07:55:04.450Z"
   },
   {
    "duration": 5,
    "start_time": "2023-05-30T07:55:13.415Z"
   },
   {
    "duration": 34,
    "start_time": "2023-05-30T07:55:13.422Z"
   },
   {
    "duration": 751,
    "start_time": "2023-05-30T07:55:13.458Z"
   },
   {
    "duration": 30,
    "start_time": "2023-05-30T07:55:14.211Z"
   },
   {
    "duration": 92,
    "start_time": "2023-05-30T07:55:14.245Z"
   },
   {
    "duration": 24,
    "start_time": "2023-05-30T07:55:14.339Z"
   },
   {
    "duration": 19,
    "start_time": "2023-05-30T07:55:14.365Z"
   },
   {
    "duration": 10,
    "start_time": "2023-05-30T07:55:14.386Z"
   },
   {
    "duration": 45,
    "start_time": "2023-05-30T07:55:14.398Z"
   },
   {
    "duration": 65,
    "start_time": "2023-05-30T07:55:14.445Z"
   },
   {
    "duration": 35,
    "start_time": "2023-05-30T07:55:14.511Z"
   },
   {
    "duration": 23,
    "start_time": "2023-05-30T07:55:14.548Z"
   },
   {
    "duration": 36,
    "start_time": "2023-05-30T07:55:14.573Z"
   },
   {
    "duration": 37,
    "start_time": "2023-05-30T07:55:14.611Z"
   },
   {
    "duration": 61,
    "start_time": "2023-05-30T07:55:14.650Z"
   },
   {
    "duration": 44,
    "start_time": "2023-05-30T07:55:14.713Z"
   },
   {
    "duration": 56,
    "start_time": "2023-05-30T07:55:14.759Z"
   },
   {
    "duration": 36,
    "start_time": "2023-05-30T07:55:14.818Z"
   },
   {
    "duration": 37,
    "start_time": "2023-05-30T07:55:14.856Z"
   },
   {
    "duration": 43,
    "start_time": "2023-05-30T07:55:14.895Z"
   },
   {
    "duration": 6,
    "start_time": "2023-05-30T07:55:14.940Z"
   },
   {
    "duration": 37,
    "start_time": "2023-05-30T07:55:14.948Z"
   },
   {
    "duration": 82,
    "start_time": "2023-05-30T07:55:14.987Z"
   },
   {
    "duration": 130,
    "start_time": "2023-05-30T07:55:15.070Z"
   },
   {
    "duration": 65,
    "start_time": "2023-05-30T07:55:15.202Z"
   },
   {
    "duration": 89,
    "start_time": "2023-05-30T07:55:15.268Z"
   },
   {
    "duration": 7,
    "start_time": "2023-05-30T07:55:15.359Z"
   },
   {
    "duration": 35,
    "start_time": "2023-05-30T07:55:15.367Z"
   },
   {
    "duration": 71,
    "start_time": "2023-05-30T07:55:15.403Z"
   },
   {
    "duration": 39,
    "start_time": "2023-05-30T07:55:15.476Z"
   },
   {
    "duration": 24,
    "start_time": "2023-05-30T07:55:15.517Z"
   },
   {
    "duration": 24,
    "start_time": "2023-05-30T07:55:15.542Z"
   },
   {
    "duration": 22,
    "start_time": "2023-05-30T07:55:15.568Z"
   },
   {
    "duration": 11,
    "start_time": "2023-05-30T07:55:15.592Z"
   },
   {
    "duration": 298,
    "start_time": "2023-05-30T07:55:15.605Z"
   },
   {
    "duration": 3,
    "start_time": "2023-05-30T07:55:15.904Z"
   },
   {
    "duration": 23,
    "start_time": "2023-05-30T07:55:15.908Z"
   },
   {
    "duration": 39,
    "start_time": "2023-05-30T07:55:15.933Z"
   },
   {
    "duration": 167,
    "start_time": "2023-05-30T07:55:15.974Z"
   },
   {
    "duration": 8,
    "start_time": "2023-05-30T07:55:16.142Z"
   },
   {
    "duration": 11,
    "start_time": "2023-05-30T07:55:16.151Z"
   },
   {
    "duration": 9,
    "start_time": "2023-05-30T07:55:16.163Z"
   },
   {
    "duration": 21,
    "start_time": "2023-05-30T07:55:16.173Z"
   },
   {
    "duration": 17,
    "start_time": "2023-05-30T07:55:16.195Z"
   },
   {
    "duration": 19,
    "start_time": "2023-05-30T07:55:16.217Z"
   },
   {
    "duration": 7,
    "start_time": "2023-05-30T07:55:16.238Z"
   },
   {
    "duration": 8,
    "start_time": "2023-05-30T07:55:16.246Z"
   },
   {
    "duration": 14,
    "start_time": "2023-05-30T07:55:16.255Z"
   },
   {
    "duration": 32,
    "start_time": "2023-05-30T07:55:16.270Z"
   },
   {
    "duration": 13,
    "start_time": "2023-05-30T07:55:16.304Z"
   },
   {
    "duration": 42,
    "start_time": "2023-05-30T07:55:16.318Z"
   },
   {
    "duration": 12,
    "start_time": "2023-05-30T07:55:16.362Z"
   },
   {
    "duration": 10,
    "start_time": "2023-05-30T07:55:16.375Z"
   },
   {
    "duration": 11,
    "start_time": "2023-05-30T07:55:16.387Z"
   },
   {
    "duration": 5,
    "start_time": "2023-05-30T07:55:16.400Z"
   },
   {
    "duration": 10,
    "start_time": "2023-05-30T07:55:16.406Z"
   },
   {
    "duration": 28,
    "start_time": "2023-05-30T07:55:16.418Z"
   },
   {
    "duration": 6,
    "start_time": "2023-05-30T07:55:16.448Z"
   },
   {
    "duration": 23,
    "start_time": "2023-05-30T07:55:16.456Z"
   },
   {
    "duration": 12,
    "start_time": "2023-05-30T07:55:16.480Z"
   },
   {
    "duration": 9,
    "start_time": "2023-05-30T07:55:16.493Z"
   },
   {
    "duration": 16,
    "start_time": "2023-05-30T07:55:16.504Z"
   },
   {
    "duration": 31,
    "start_time": "2023-05-30T07:55:16.522Z"
   },
   {
    "duration": 5,
    "start_time": "2023-05-30T07:55:16.555Z"
   },
   {
    "duration": 9,
    "start_time": "2023-05-30T07:55:16.562Z"
   },
   {
    "duration": 7,
    "start_time": "2023-05-30T07:55:16.573Z"
   },
   {
    "duration": 7,
    "start_time": "2023-05-30T07:55:16.582Z"
   },
   {
    "duration": 11,
    "start_time": "2023-05-30T07:55:16.590Z"
   },
   {
    "duration": 5,
    "start_time": "2023-05-30T07:55:16.602Z"
   },
   {
    "duration": 25,
    "start_time": "2023-05-30T07:55:16.609Z"
   },
   {
    "duration": 4,
    "start_time": "2023-05-30T07:55:16.639Z"
   },
   {
    "duration": 6,
    "start_time": "2023-05-30T07:55:16.645Z"
   },
   {
    "duration": 17,
    "start_time": "2023-05-30T07:55:16.653Z"
   },
   {
    "duration": 19,
    "start_time": "2023-05-30T07:55:16.672Z"
   },
   {
    "duration": 9,
    "start_time": "2023-05-30T07:55:16.692Z"
   },
   {
    "duration": 7,
    "start_time": "2023-05-30T07:55:16.702Z"
   },
   {
    "duration": 10,
    "start_time": "2023-05-30T07:55:16.711Z"
   },
   {
    "duration": 27,
    "start_time": "2023-05-30T07:55:16.723Z"
   },
   {
    "duration": 1260,
    "start_time": "2023-05-30T07:56:19.246Z"
   },
   {
    "duration": 190,
    "start_time": "2023-05-30T07:56:20.508Z"
   },
   {
    "duration": 11,
    "start_time": "2023-05-30T07:56:20.699Z"
   },
   {
    "duration": 41,
    "start_time": "2023-05-30T07:56:20.712Z"
   },
   {
    "duration": 3,
    "start_time": "2023-05-30T07:56:20.755Z"
   },
   {
    "duration": 31,
    "start_time": "2023-05-30T07:56:20.760Z"
   },
   {
    "duration": 38,
    "start_time": "2023-05-30T07:56:20.793Z"
   },
   {
    "duration": 38,
    "start_time": "2023-05-30T07:56:20.833Z"
   },
   {
    "duration": 135,
    "start_time": "2023-05-30T07:56:20.874Z"
   },
   {
    "duration": 120,
    "start_time": "2023-05-30T07:56:21.012Z"
   },
   {
    "duration": 70,
    "start_time": "2023-05-30T07:56:21.139Z"
   },
   {
    "duration": 38,
    "start_time": "2023-05-30T07:56:21.211Z"
   },
   {
    "duration": 72,
    "start_time": "2023-05-30T07:56:21.250Z"
   },
   {
    "duration": 85,
    "start_time": "2023-05-30T07:56:21.324Z"
   },
   {
    "duration": 60,
    "start_time": "2023-05-30T07:56:21.410Z"
   },
   {
    "duration": 172,
    "start_time": "2023-05-30T07:56:21.472Z"
   },
   {
    "duration": 12,
    "start_time": "2023-05-30T07:56:21.646Z"
   },
   {
    "duration": 36,
    "start_time": "2023-05-30T07:56:21.660Z"
   },
   {
    "duration": 17,
    "start_time": "2023-05-30T07:56:21.698Z"
   },
   {
    "duration": 56,
    "start_time": "2023-05-30T07:56:21.716Z"
   },
   {
    "duration": 35,
    "start_time": "2023-05-30T07:56:21.773Z"
   },
   {
    "duration": 41,
    "start_time": "2023-05-30T07:56:21.809Z"
   },
   {
    "duration": 13,
    "start_time": "2023-05-30T07:56:21.852Z"
   },
   {
    "duration": 23,
    "start_time": "2023-05-30T07:56:21.866Z"
   },
   {
    "duration": 25,
    "start_time": "2023-05-30T07:56:21.892Z"
   },
   {
    "duration": 49,
    "start_time": "2023-05-30T07:56:21.918Z"
   },
   {
    "duration": 36,
    "start_time": "2023-05-30T07:56:21.969Z"
   },
   {
    "duration": 56,
    "start_time": "2023-05-30T07:56:22.009Z"
   },
   {
    "duration": 32,
    "start_time": "2023-05-30T07:56:22.066Z"
   },
   {
    "duration": 26,
    "start_time": "2023-05-30T07:56:22.100Z"
   },
   {
    "duration": 58,
    "start_time": "2023-05-30T07:56:22.128Z"
   },
   {
    "duration": 10,
    "start_time": "2023-05-30T07:56:22.188Z"
   },
   {
    "duration": 29,
    "start_time": "2023-05-30T07:56:22.200Z"
   },
   {
    "duration": 37,
    "start_time": "2023-05-30T07:56:22.230Z"
   },
   {
    "duration": 48,
    "start_time": "2023-05-30T07:56:22.269Z"
   },
   {
    "duration": 34,
    "start_time": "2023-05-30T07:56:22.319Z"
   },
   {
    "duration": 2126,
    "start_time": "2023-05-30T07:56:22.355Z"
   },
   {
    "duration": 7,
    "start_time": "2023-05-30T07:56:24.483Z"
   },
   {
    "duration": 42,
    "start_time": "2023-05-30T07:56:24.491Z"
   },
   {
    "duration": 853,
    "start_time": "2023-05-30T07:56:24.534Z"
   },
   {
    "duration": 11,
    "start_time": "2023-05-30T07:56:25.390Z"
   },
   {
    "duration": 27,
    "start_time": "2023-05-30T07:56:25.402Z"
   },
   {
    "duration": 15,
    "start_time": "2023-05-30T07:56:25.436Z"
   },
   {
    "duration": 15,
    "start_time": "2023-05-30T07:56:25.452Z"
   },
   {
    "duration": 10,
    "start_time": "2023-05-30T07:56:25.469Z"
   },
   {
    "duration": 28,
    "start_time": "2023-05-30T07:56:25.481Z"
   },
   {
    "duration": 50,
    "start_time": "2023-05-30T07:56:25.511Z"
   },
   {
    "duration": 23,
    "start_time": "2023-05-30T07:56:25.563Z"
   },
   {
    "duration": 22,
    "start_time": "2023-05-30T07:56:25.587Z"
   },
   {
    "duration": 7,
    "start_time": "2023-05-30T07:56:25.611Z"
   },
   {
    "duration": 46,
    "start_time": "2023-05-30T07:56:25.620Z"
   },
   {
    "duration": 14,
    "start_time": "2023-05-30T07:56:25.668Z"
   },
   {
    "duration": 23,
    "start_time": "2023-05-30T07:56:25.684Z"
   },
   {
    "duration": 50,
    "start_time": "2023-05-30T07:56:25.708Z"
   },
   {
    "duration": 18,
    "start_time": "2023-05-30T07:56:25.760Z"
   },
   {
    "duration": 14,
    "start_time": "2023-05-30T07:56:25.780Z"
   },
   {
    "duration": 41,
    "start_time": "2023-05-30T07:56:25.796Z"
   },
   {
    "duration": 5,
    "start_time": "2023-05-30T07:56:25.842Z"
   },
   {
    "duration": 10,
    "start_time": "2023-05-30T07:56:25.848Z"
   },
   {
    "duration": 36,
    "start_time": "2023-05-30T07:56:25.859Z"
   },
   {
    "duration": 3,
    "start_time": "2023-05-30T07:56:25.896Z"
   },
   {
    "duration": 12,
    "start_time": "2023-05-30T07:56:25.901Z"
   },
   {
    "duration": 72,
    "start_time": "2023-05-30T07:56:25.915Z"
   },
   {
    "duration": 8,
    "start_time": "2023-05-30T07:56:25.989Z"
   },
   {
    "duration": 8,
    "start_time": "2023-05-30T07:56:25.999Z"
   },
   {
    "duration": 8,
    "start_time": "2023-05-30T07:56:26.008Z"
   },
   {
    "duration": 27,
    "start_time": "2023-05-30T07:56:26.018Z"
   },
   {
    "duration": 5,
    "start_time": "2023-05-30T07:56:26.047Z"
   },
   {
    "duration": 25,
    "start_time": "2023-05-30T07:56:26.054Z"
   },
   {
    "duration": 17,
    "start_time": "2023-05-30T07:56:26.080Z"
   },
   {
    "duration": 17,
    "start_time": "2023-05-30T07:56:26.098Z"
   },
   {
    "duration": 165,
    "start_time": "2023-05-30T07:56:26.116Z"
   },
   {
    "duration": 3,
    "start_time": "2023-05-30T07:56:26.283Z"
   },
   {
    "duration": 46,
    "start_time": "2023-05-30T07:56:26.287Z"
   },
   {
    "duration": 55,
    "start_time": "2023-05-30T07:56:26.338Z"
   },
   {
    "duration": 159,
    "start_time": "2023-05-30T07:56:26.394Z"
   },
   {
    "duration": 8,
    "start_time": "2023-05-30T07:56:26.555Z"
   },
   {
    "duration": 39,
    "start_time": "2023-05-30T07:56:26.565Z"
   },
   {
    "duration": 56,
    "start_time": "2023-05-30T07:56:26.606Z"
   },
   {
    "duration": 10,
    "start_time": "2023-05-30T07:56:26.667Z"
   },
   {
    "duration": 29,
    "start_time": "2023-05-30T07:56:26.679Z"
   },
   {
    "duration": 39,
    "start_time": "2023-05-30T07:56:26.716Z"
   },
   {
    "duration": 14,
    "start_time": "2023-05-30T07:56:26.757Z"
   },
   {
    "duration": 20,
    "start_time": "2023-05-30T07:56:26.773Z"
   },
   {
    "duration": 24,
    "start_time": "2023-05-30T07:56:26.795Z"
   },
   {
    "duration": 28,
    "start_time": "2023-05-30T07:56:26.821Z"
   },
   {
    "duration": 22,
    "start_time": "2023-05-30T07:56:26.851Z"
   },
   {
    "duration": 24,
    "start_time": "2023-05-30T07:56:26.875Z"
   },
   {
    "duration": 56,
    "start_time": "2023-05-30T07:56:26.901Z"
   },
   {
    "duration": 23,
    "start_time": "2023-05-30T07:56:26.958Z"
   },
   {
    "duration": 27,
    "start_time": "2023-05-30T07:56:26.983Z"
   },
   {
    "duration": 20,
    "start_time": "2023-05-30T07:56:27.011Z"
   },
   {
    "duration": 26,
    "start_time": "2023-05-30T07:56:27.034Z"
   },
   {
    "duration": 116,
    "start_time": "2023-05-30T07:56:27.062Z"
   },
   {
    "duration": 30,
    "start_time": "2023-05-30T07:56:27.180Z"
   },
   {
    "duration": 22,
    "start_time": "2023-05-30T07:56:27.211Z"
   },
   {
    "duration": 16,
    "start_time": "2023-05-30T07:56:27.234Z"
   },
   {
    "duration": 15,
    "start_time": "2023-05-30T07:56:27.251Z"
   },
   {
    "duration": 8,
    "start_time": "2023-05-30T07:56:27.267Z"
   },
   {
    "duration": 19,
    "start_time": "2023-05-30T07:56:27.277Z"
   },
   {
    "duration": 16,
    "start_time": "2023-05-30T07:56:27.297Z"
   },
   {
    "duration": 24,
    "start_time": "2023-05-30T07:56:27.315Z"
   },
   {
    "duration": 7,
    "start_time": "2023-05-30T07:56:27.341Z"
   },
   {
    "duration": 7,
    "start_time": "2023-05-30T07:56:27.350Z"
   },
   {
    "duration": 13,
    "start_time": "2023-05-30T07:56:27.358Z"
   },
   {
    "duration": 9,
    "start_time": "2023-05-30T07:56:27.372Z"
   },
   {
    "duration": 11,
    "start_time": "2023-05-30T07:56:27.383Z"
   },
   {
    "duration": 21,
    "start_time": "2023-05-30T07:56:27.396Z"
   },
   {
    "duration": 24,
    "start_time": "2023-05-30T07:56:27.419Z"
   },
   {
    "duration": 11,
    "start_time": "2023-05-30T07:56:27.444Z"
   },
   {
    "duration": 4,
    "start_time": "2023-05-30T07:56:27.456Z"
   },
   {
    "duration": 13,
    "start_time": "2023-05-30T07:56:27.462Z"
   },
   {
    "duration": 25,
    "start_time": "2023-05-30T07:56:27.477Z"
   },
   {
    "duration": 54,
    "start_time": "2023-05-30T07:56:27.503Z"
   },
   {
    "duration": 22,
    "start_time": "2023-05-30T07:56:27.558Z"
   },
   {
    "duration": 1159,
    "start_time": "2023-05-30T07:56:51.560Z"
   },
   {
    "duration": 166,
    "start_time": "2023-05-30T07:56:52.721Z"
   },
   {
    "duration": 11,
    "start_time": "2023-05-30T07:56:52.889Z"
   },
   {
    "duration": 32,
    "start_time": "2023-05-30T07:56:52.902Z"
   },
   {
    "duration": 6,
    "start_time": "2023-05-30T07:56:52.935Z"
   },
   {
    "duration": 23,
    "start_time": "2023-05-30T07:56:52.942Z"
   },
   {
    "duration": 31,
    "start_time": "2023-05-30T07:56:52.966Z"
   },
   {
    "duration": 24,
    "start_time": "2023-05-30T07:56:52.998Z"
   },
   {
    "duration": 83,
    "start_time": "2023-05-30T07:56:53.027Z"
   },
   {
    "duration": 104,
    "start_time": "2023-05-30T07:56:53.112Z"
   },
   {
    "duration": 69,
    "start_time": "2023-05-30T07:56:53.218Z"
   },
   {
    "duration": 15,
    "start_time": "2023-05-30T07:56:53.289Z"
   },
   {
    "duration": 34,
    "start_time": "2023-05-30T07:56:53.306Z"
   },
   {
    "duration": 31,
    "start_time": "2023-05-30T07:56:53.342Z"
   },
   {
    "duration": 9,
    "start_time": "2023-05-30T07:56:53.375Z"
   },
   {
    "duration": 115,
    "start_time": "2023-05-30T07:56:53.385Z"
   },
   {
    "duration": 9,
    "start_time": "2023-05-30T07:56:53.502Z"
   },
   {
    "duration": 51,
    "start_time": "2023-05-30T07:56:53.512Z"
   },
   {
    "duration": 6,
    "start_time": "2023-05-30T07:56:53.565Z"
   },
   {
    "duration": 6,
    "start_time": "2023-05-30T07:56:53.573Z"
   },
   {
    "duration": 4,
    "start_time": "2023-05-30T07:56:53.581Z"
   },
   {
    "duration": 8,
    "start_time": "2023-05-30T07:56:53.587Z"
   },
   {
    "duration": 9,
    "start_time": "2023-05-30T07:56:53.596Z"
   },
   {
    "duration": 8,
    "start_time": "2023-05-30T07:56:53.607Z"
   },
   {
    "duration": 11,
    "start_time": "2023-05-30T07:56:53.617Z"
   },
   {
    "duration": 15,
    "start_time": "2023-05-30T07:56:53.630Z"
   },
   {
    "duration": 12,
    "start_time": "2023-05-30T07:56:53.647Z"
   },
   {
    "duration": 19,
    "start_time": "2023-05-30T07:56:53.663Z"
   },
   {
    "duration": 6,
    "start_time": "2023-05-30T07:56:53.684Z"
   },
   {
    "duration": 5,
    "start_time": "2023-05-30T07:56:53.691Z"
   },
   {
    "duration": 37,
    "start_time": "2023-05-30T07:56:53.698Z"
   },
   {
    "duration": 9,
    "start_time": "2023-05-30T07:56:53.738Z"
   },
   {
    "duration": 15,
    "start_time": "2023-05-30T07:56:53.749Z"
   },
   {
    "duration": 7,
    "start_time": "2023-05-30T07:56:53.766Z"
   },
   {
    "duration": 22,
    "start_time": "2023-05-30T07:56:53.774Z"
   },
   {
    "duration": 11,
    "start_time": "2023-05-30T07:56:53.798Z"
   },
   {
    "duration": 1701,
    "start_time": "2023-05-30T07:56:53.810Z"
   },
   {
    "duration": 14,
    "start_time": "2023-05-30T07:56:55.512Z"
   },
   {
    "duration": 28,
    "start_time": "2023-05-30T07:56:55.536Z"
   },
   {
    "duration": 654,
    "start_time": "2023-05-30T07:56:55.566Z"
   },
   {
    "duration": 17,
    "start_time": "2023-05-30T07:56:56.225Z"
   },
   {
    "duration": 29,
    "start_time": "2023-05-30T07:56:56.244Z"
   },
   {
    "duration": 23,
    "start_time": "2023-05-30T07:56:56.274Z"
   },
   {
    "duration": 24,
    "start_time": "2023-05-30T07:56:56.299Z"
   },
   {
    "duration": 22,
    "start_time": "2023-05-30T07:56:56.325Z"
   },
   {
    "duration": 38,
    "start_time": "2023-05-30T07:56:56.349Z"
   },
   {
    "duration": 27,
    "start_time": "2023-05-30T07:56:56.389Z"
   },
   {
    "duration": 61,
    "start_time": "2023-05-30T07:56:56.417Z"
   },
   {
    "duration": 28,
    "start_time": "2023-05-30T07:56:56.480Z"
   },
   {
    "duration": 32,
    "start_time": "2023-05-30T07:56:56.510Z"
   },
   {
    "duration": 41,
    "start_time": "2023-05-30T07:56:56.543Z"
   },
   {
    "duration": 20,
    "start_time": "2023-05-30T07:56:56.586Z"
   },
   {
    "duration": 32,
    "start_time": "2023-05-30T07:56:56.607Z"
   },
   {
    "duration": 28,
    "start_time": "2023-05-30T07:56:56.641Z"
   },
   {
    "duration": 29,
    "start_time": "2023-05-30T07:56:56.670Z"
   },
   {
    "duration": 19,
    "start_time": "2023-05-30T07:56:56.701Z"
   },
   {
    "duration": 49,
    "start_time": "2023-05-30T07:56:56.721Z"
   },
   {
    "duration": 12,
    "start_time": "2023-05-30T07:56:56.771Z"
   },
   {
    "duration": 16,
    "start_time": "2023-05-30T07:56:56.785Z"
   },
   {
    "duration": 45,
    "start_time": "2023-05-30T07:56:56.803Z"
   },
   {
    "duration": 3,
    "start_time": "2023-05-30T07:56:56.850Z"
   },
   {
    "duration": 22,
    "start_time": "2023-05-30T07:56:56.855Z"
   },
   {
    "duration": 73,
    "start_time": "2023-05-30T07:56:56.878Z"
   },
   {
    "duration": 7,
    "start_time": "2023-05-30T07:56:56.953Z"
   },
   {
    "duration": 18,
    "start_time": "2023-05-30T07:56:56.962Z"
   },
   {
    "duration": 24,
    "start_time": "2023-05-30T07:56:56.981Z"
   },
   {
    "duration": 40,
    "start_time": "2023-05-30T07:56:57.006Z"
   },
   {
    "duration": 21,
    "start_time": "2023-05-30T07:56:57.048Z"
   },
   {
    "duration": 43,
    "start_time": "2023-05-30T07:56:57.071Z"
   },
   {
    "duration": 30,
    "start_time": "2023-05-30T07:56:57.116Z"
   },
   {
    "duration": 23,
    "start_time": "2023-05-30T07:56:57.148Z"
   },
   {
    "duration": 180,
    "start_time": "2023-05-30T07:56:57.173Z"
   },
   {
    "duration": 2,
    "start_time": "2023-05-30T07:56:57.355Z"
   },
   {
    "duration": 46,
    "start_time": "2023-05-30T07:56:57.359Z"
   },
   {
    "duration": 64,
    "start_time": "2023-05-30T07:56:57.406Z"
   },
   {
    "duration": 123,
    "start_time": "2023-05-30T07:56:57.472Z"
   },
   {
    "duration": 7,
    "start_time": "2023-05-30T07:56:57.597Z"
   },
   {
    "duration": 35,
    "start_time": "2023-05-30T07:56:57.605Z"
   },
   {
    "duration": 26,
    "start_time": "2023-05-30T07:56:57.644Z"
   },
   {
    "duration": 32,
    "start_time": "2023-05-30T07:56:57.672Z"
   },
   {
    "duration": 39,
    "start_time": "2023-05-30T07:56:57.706Z"
   },
   {
    "duration": 22,
    "start_time": "2023-05-30T07:56:57.751Z"
   },
   {
    "duration": 29,
    "start_time": "2023-05-30T07:56:57.775Z"
   },
   {
    "duration": 13,
    "start_time": "2023-05-30T07:56:57.806Z"
   },
   {
    "duration": 31,
    "start_time": "2023-05-30T07:56:57.821Z"
   },
   {
    "duration": 18,
    "start_time": "2023-05-30T07:56:57.853Z"
   },
   {
    "duration": 8,
    "start_time": "2023-05-30T07:56:57.872Z"
   },
   {
    "duration": 23,
    "start_time": "2023-05-30T07:56:57.881Z"
   },
   {
    "duration": 14,
    "start_time": "2023-05-30T07:56:57.906Z"
   },
   {
    "duration": 26,
    "start_time": "2023-05-30T07:56:57.921Z"
   },
   {
    "duration": 40,
    "start_time": "2023-05-30T07:56:57.948Z"
   },
   {
    "duration": 20,
    "start_time": "2023-05-30T07:56:57.990Z"
   },
   {
    "duration": 14,
    "start_time": "2023-05-30T07:56:58.011Z"
   },
   {
    "duration": 81,
    "start_time": "2023-05-30T07:56:58.027Z"
   },
   {
    "duration": 36,
    "start_time": "2023-05-30T07:56:58.109Z"
   },
   {
    "duration": 38,
    "start_time": "2023-05-30T07:56:58.146Z"
   },
   {
    "duration": 24,
    "start_time": "2023-05-30T07:56:58.186Z"
   },
   {
    "duration": 31,
    "start_time": "2023-05-30T07:56:58.211Z"
   },
   {
    "duration": 22,
    "start_time": "2023-05-30T07:56:58.244Z"
   },
   {
    "duration": 42,
    "start_time": "2023-05-30T07:56:58.267Z"
   },
   {
    "duration": 8,
    "start_time": "2023-05-30T07:56:58.311Z"
   },
   {
    "duration": 35,
    "start_time": "2023-05-30T07:56:58.320Z"
   },
   {
    "duration": 21,
    "start_time": "2023-05-30T07:56:58.357Z"
   },
   {
    "duration": 16,
    "start_time": "2023-05-30T07:56:58.380Z"
   },
   {
    "duration": 16,
    "start_time": "2023-05-30T07:56:58.398Z"
   },
   {
    "duration": 32,
    "start_time": "2023-05-30T07:56:58.416Z"
   },
   {
    "duration": 20,
    "start_time": "2023-05-30T07:56:58.449Z"
   },
   {
    "duration": 17,
    "start_time": "2023-05-30T07:56:58.470Z"
   },
   {
    "duration": 16,
    "start_time": "2023-05-30T07:56:58.489Z"
   },
   {
    "duration": 28,
    "start_time": "2023-05-30T07:56:58.507Z"
   },
   {
    "duration": 28,
    "start_time": "2023-05-30T07:56:58.538Z"
   },
   {
    "duration": 16,
    "start_time": "2023-05-30T07:56:58.568Z"
   },
   {
    "duration": 20,
    "start_time": "2023-05-30T07:56:58.585Z"
   },
   {
    "duration": 16,
    "start_time": "2023-05-30T07:56:58.607Z"
   },
   {
    "duration": 30,
    "start_time": "2023-05-30T07:56:58.628Z"
   },
   {
    "duration": 1193,
    "start_time": "2023-05-30T08:01:45.629Z"
   },
   {
    "duration": 152,
    "start_time": "2023-05-30T08:01:46.823Z"
   },
   {
    "duration": 11,
    "start_time": "2023-05-30T08:01:46.977Z"
   },
   {
    "duration": 22,
    "start_time": "2023-05-30T08:01:46.990Z"
   },
   {
    "duration": 12,
    "start_time": "2023-05-30T08:01:47.013Z"
   },
   {
    "duration": 16,
    "start_time": "2023-05-30T08:01:47.027Z"
   },
   {
    "duration": 44,
    "start_time": "2023-05-30T08:01:47.044Z"
   },
   {
    "duration": 24,
    "start_time": "2023-05-30T08:01:47.089Z"
   },
   {
    "duration": 85,
    "start_time": "2023-05-30T08:01:47.114Z"
   },
   {
    "duration": 101,
    "start_time": "2023-05-30T08:01:47.202Z"
   },
   {
    "duration": 76,
    "start_time": "2023-05-30T08:01:47.305Z"
   },
   {
    "duration": 18,
    "start_time": "2023-05-30T08:01:47.383Z"
   },
   {
    "duration": 33,
    "start_time": "2023-05-30T08:01:47.402Z"
   },
   {
    "duration": 15,
    "start_time": "2023-05-30T08:01:47.437Z"
   },
   {
    "duration": 8,
    "start_time": "2023-05-30T08:01:47.454Z"
   },
   {
    "duration": 127,
    "start_time": "2023-05-30T08:01:47.463Z"
   },
   {
    "duration": 9,
    "start_time": "2023-05-30T08:01:47.591Z"
   },
   {
    "duration": 42,
    "start_time": "2023-05-30T08:01:47.601Z"
   },
   {
    "duration": 10,
    "start_time": "2023-05-30T08:01:47.646Z"
   },
   {
    "duration": 5,
    "start_time": "2023-05-30T08:01:47.658Z"
   },
   {
    "duration": 20,
    "start_time": "2023-05-30T08:01:47.665Z"
   },
   {
    "duration": 11,
    "start_time": "2023-05-30T08:01:47.686Z"
   },
   {
    "duration": 14,
    "start_time": "2023-05-30T08:01:47.699Z"
   },
   {
    "duration": 9,
    "start_time": "2023-05-30T08:01:47.715Z"
   },
   {
    "duration": 17,
    "start_time": "2023-05-30T08:01:47.726Z"
   },
   {
    "duration": 9,
    "start_time": "2023-05-30T08:01:47.746Z"
   },
   {
    "duration": 12,
    "start_time": "2023-05-30T08:01:47.756Z"
   },
   {
    "duration": 11,
    "start_time": "2023-05-30T08:01:47.772Z"
   },
   {
    "duration": 11,
    "start_time": "2023-05-30T08:01:47.784Z"
   },
   {
    "duration": 25,
    "start_time": "2023-05-30T08:01:47.797Z"
   },
   {
    "duration": 8,
    "start_time": "2023-05-30T08:01:47.824Z"
   },
   {
    "duration": 16,
    "start_time": "2023-05-30T08:01:47.835Z"
   },
   {
    "duration": 21,
    "start_time": "2023-05-30T08:01:47.853Z"
   },
   {
    "duration": 7,
    "start_time": "2023-05-30T08:01:47.875Z"
   },
   {
    "duration": 6,
    "start_time": "2023-05-30T08:01:47.883Z"
   },
   {
    "duration": 20,
    "start_time": "2023-05-30T08:01:47.890Z"
   },
   {
    "duration": 18,
    "start_time": "2023-05-30T08:01:47.911Z"
   },
   {
    "duration": 13,
    "start_time": "2023-05-30T08:01:47.931Z"
   },
   {
    "duration": 1603,
    "start_time": "2023-05-30T08:01:47.946Z"
   },
   {
    "duration": 6,
    "start_time": "2023-05-30T08:01:49.551Z"
   },
   {
    "duration": 34,
    "start_time": "2023-05-30T08:01:49.559Z"
   },
   {
    "duration": 729,
    "start_time": "2023-05-30T08:01:49.595Z"
   },
   {
    "duration": 19,
    "start_time": "2023-05-30T08:01:50.327Z"
   },
   {
    "duration": 29,
    "start_time": "2023-05-30T08:01:50.348Z"
   },
   {
    "duration": 25,
    "start_time": "2023-05-30T08:01:50.379Z"
   },
   {
    "duration": 19,
    "start_time": "2023-05-30T08:01:50.406Z"
   },
   {
    "duration": 16,
    "start_time": "2023-05-30T08:01:50.427Z"
   },
   {
    "duration": 20,
    "start_time": "2023-05-30T08:01:50.445Z"
   },
   {
    "duration": 40,
    "start_time": "2023-05-30T08:01:50.467Z"
   },
   {
    "duration": 47,
    "start_time": "2023-05-30T08:01:50.508Z"
   },
   {
    "duration": 26,
    "start_time": "2023-05-30T08:01:50.557Z"
   },
   {
    "duration": 11,
    "start_time": "2023-05-30T08:01:50.585Z"
   },
   {
    "duration": 33,
    "start_time": "2023-05-30T08:01:50.597Z"
   },
   {
    "duration": 30,
    "start_time": "2023-05-30T08:01:50.633Z"
   },
   {
    "duration": 16,
    "start_time": "2023-05-30T08:01:50.664Z"
   },
   {
    "duration": 31,
    "start_time": "2023-05-30T08:01:50.682Z"
   },
   {
    "duration": 34,
    "start_time": "2023-05-30T08:01:50.714Z"
   },
   {
    "duration": 7,
    "start_time": "2023-05-30T08:01:50.750Z"
   },
   {
    "duration": 29,
    "start_time": "2023-05-30T08:01:50.758Z"
   },
   {
    "duration": 5,
    "start_time": "2023-05-30T08:01:50.788Z"
   },
   {
    "duration": 12,
    "start_time": "2023-05-30T08:01:50.794Z"
   },
   {
    "duration": 59,
    "start_time": "2023-05-30T08:01:50.807Z"
   },
   {
    "duration": 3,
    "start_time": "2023-05-30T08:01:50.867Z"
   },
   {
    "duration": 30,
    "start_time": "2023-05-30T08:01:50.872Z"
   },
   {
    "duration": 81,
    "start_time": "2023-05-30T08:01:50.903Z"
   },
   {
    "duration": 10,
    "start_time": "2023-05-30T08:01:50.986Z"
   },
   {
    "duration": 22,
    "start_time": "2023-05-30T08:01:50.997Z"
   },
   {
    "duration": 34,
    "start_time": "2023-05-30T08:01:51.020Z"
   },
   {
    "duration": 41,
    "start_time": "2023-05-30T08:01:51.057Z"
   },
   {
    "duration": 27,
    "start_time": "2023-05-30T08:01:51.100Z"
   },
   {
    "duration": 23,
    "start_time": "2023-05-30T08:01:51.131Z"
   },
   {
    "duration": 42,
    "start_time": "2023-05-30T08:01:51.155Z"
   },
   {
    "duration": 55,
    "start_time": "2023-05-30T08:01:51.199Z"
   },
   {
    "duration": 206,
    "start_time": "2023-05-30T08:01:51.256Z"
   },
   {
    "duration": 3,
    "start_time": "2023-05-30T08:01:51.464Z"
   },
   {
    "duration": 77,
    "start_time": "2023-05-30T08:01:51.468Z"
   },
   {
    "duration": 47,
    "start_time": "2023-05-30T08:01:51.547Z"
   },
   {
    "duration": 123,
    "start_time": "2023-05-30T08:01:51.595Z"
   },
   {
    "duration": 9,
    "start_time": "2023-05-30T08:01:51.720Z"
   },
   {
    "duration": 63,
    "start_time": "2023-05-30T08:01:51.731Z"
   },
   {
    "duration": 32,
    "start_time": "2023-05-30T08:01:51.795Z"
   },
   {
    "duration": 82,
    "start_time": "2023-05-30T08:01:51.835Z"
   },
   {
    "duration": 81,
    "start_time": "2023-05-30T08:01:51.919Z"
   },
   {
    "duration": 47,
    "start_time": "2023-05-30T08:01:52.001Z"
   },
   {
    "duration": 108,
    "start_time": "2023-05-30T08:01:52.050Z"
   },
   {
    "duration": 14,
    "start_time": "2023-05-30T08:01:52.160Z"
   },
   {
    "duration": 25,
    "start_time": "2023-05-30T08:01:52.176Z"
   },
   {
    "duration": 35,
    "start_time": "2023-05-30T08:01:52.202Z"
   },
   {
    "duration": 30,
    "start_time": "2023-05-30T08:01:52.239Z"
   },
   {
    "duration": 34,
    "start_time": "2023-05-30T08:01:52.271Z"
   },
   {
    "duration": 28,
    "start_time": "2023-05-30T08:01:52.307Z"
   },
   {
    "duration": 16,
    "start_time": "2023-05-30T08:01:52.337Z"
   },
   {
    "duration": 19,
    "start_time": "2023-05-30T08:01:52.354Z"
   },
   {
    "duration": 30,
    "start_time": "2023-05-30T08:01:52.374Z"
   },
   {
    "duration": 36,
    "start_time": "2023-05-30T08:01:52.406Z"
   },
   {
    "duration": 98,
    "start_time": "2023-05-30T08:01:52.445Z"
   },
   {
    "duration": 32,
    "start_time": "2023-05-30T08:01:52.545Z"
   },
   {
    "duration": 39,
    "start_time": "2023-05-30T08:01:52.578Z"
   },
   {
    "duration": 31,
    "start_time": "2023-05-30T08:01:52.618Z"
   },
   {
    "duration": 21,
    "start_time": "2023-05-30T08:01:52.651Z"
   },
   {
    "duration": 47,
    "start_time": "2023-05-30T08:01:52.674Z"
   },
   {
    "duration": 32,
    "start_time": "2023-05-30T08:01:52.723Z"
   },
   {
    "duration": 25,
    "start_time": "2023-05-30T08:01:52.757Z"
   },
   {
    "duration": 46,
    "start_time": "2023-05-30T08:01:52.784Z"
   },
   {
    "duration": 19,
    "start_time": "2023-05-30T08:01:52.833Z"
   },
   {
    "duration": 30,
    "start_time": "2023-05-30T08:01:52.854Z"
   },
   {
    "duration": 29,
    "start_time": "2023-05-30T08:01:52.886Z"
   },
   {
    "duration": 32,
    "start_time": "2023-05-30T08:01:52.917Z"
   },
   {
    "duration": 41,
    "start_time": "2023-05-30T08:01:52.951Z"
   },
   {
    "duration": 28,
    "start_time": "2023-05-30T08:01:52.993Z"
   },
   {
    "duration": 32,
    "start_time": "2023-05-30T08:01:53.023Z"
   },
   {
    "duration": 22,
    "start_time": "2023-05-30T08:01:53.057Z"
   },
   {
    "duration": 19,
    "start_time": "2023-05-30T08:01:53.081Z"
   },
   {
    "duration": 24,
    "start_time": "2023-05-30T08:01:53.102Z"
   },
   {
    "duration": 29,
    "start_time": "2023-05-30T08:01:53.128Z"
   },
   {
    "duration": 35,
    "start_time": "2023-05-30T08:01:53.159Z"
   },
   {
    "duration": 40,
    "start_time": "2023-05-30T08:01:53.195Z"
   },
   {
    "duration": 1273,
    "start_time": "2023-05-30T08:06:25.982Z"
   },
   {
    "duration": 171,
    "start_time": "2023-05-30T08:06:27.256Z"
   },
   {
    "duration": 14,
    "start_time": "2023-05-30T08:06:27.430Z"
   },
   {
    "duration": 25,
    "start_time": "2023-05-30T08:06:27.447Z"
   },
   {
    "duration": 3,
    "start_time": "2023-05-30T08:06:27.473Z"
   },
   {
    "duration": 21,
    "start_time": "2023-05-30T08:06:27.477Z"
   },
   {
    "duration": 39,
    "start_time": "2023-05-30T08:06:27.500Z"
   },
   {
    "duration": 24,
    "start_time": "2023-05-30T08:06:27.542Z"
   },
   {
    "duration": 105,
    "start_time": "2023-05-30T08:06:27.568Z"
   },
   {
    "duration": 98,
    "start_time": "2023-05-30T08:06:27.676Z"
   },
   {
    "duration": 82,
    "start_time": "2023-05-30T08:06:27.775Z"
   },
   {
    "duration": 17,
    "start_time": "2023-05-30T08:06:27.858Z"
   },
   {
    "duration": 21,
    "start_time": "2023-05-30T08:06:27.877Z"
   },
   {
    "duration": 18,
    "start_time": "2023-05-30T08:06:27.899Z"
   },
   {
    "duration": 39,
    "start_time": "2023-05-30T08:06:27.919Z"
   },
   {
    "duration": 156,
    "start_time": "2023-05-30T08:06:27.960Z"
   },
   {
    "duration": 16,
    "start_time": "2023-05-30T08:06:28.118Z"
   },
   {
    "duration": 41,
    "start_time": "2023-05-30T08:06:28.136Z"
   },
   {
    "duration": 21,
    "start_time": "2023-05-30T08:06:28.179Z"
   },
   {
    "duration": 13,
    "start_time": "2023-05-30T08:06:28.202Z"
   },
   {
    "duration": 23,
    "start_time": "2023-05-30T08:06:28.217Z"
   },
   {
    "duration": 18,
    "start_time": "2023-05-30T08:06:28.242Z"
   },
   {
    "duration": 24,
    "start_time": "2023-05-30T08:06:28.262Z"
   },
   {
    "duration": 26,
    "start_time": "2023-05-30T08:06:28.288Z"
   },
   {
    "duration": 14,
    "start_time": "2023-05-30T08:06:28.316Z"
   },
   {
    "duration": 41,
    "start_time": "2023-05-30T08:06:28.331Z"
   },
   {
    "duration": 21,
    "start_time": "2023-05-30T08:06:28.374Z"
   },
   {
    "duration": 22,
    "start_time": "2023-05-30T08:06:28.399Z"
   },
   {
    "duration": 32,
    "start_time": "2023-05-30T08:06:28.423Z"
   },
   {
    "duration": 43,
    "start_time": "2023-05-30T08:06:28.457Z"
   },
   {
    "duration": 10,
    "start_time": "2023-05-30T08:06:28.501Z"
   },
   {
    "duration": 17,
    "start_time": "2023-05-30T08:06:28.512Z"
   },
   {
    "duration": 28,
    "start_time": "2023-05-30T08:06:28.531Z"
   },
   {
    "duration": 10,
    "start_time": "2023-05-30T08:06:28.561Z"
   },
   {
    "duration": 9,
    "start_time": "2023-05-30T08:06:28.573Z"
   },
   {
    "duration": 40,
    "start_time": "2023-05-30T08:06:28.583Z"
   },
   {
    "duration": 26,
    "start_time": "2023-05-30T08:06:28.624Z"
   },
   {
    "duration": 12,
    "start_time": "2023-05-30T08:06:28.652Z"
   },
   {
    "duration": 1820,
    "start_time": "2023-05-30T08:06:28.665Z"
   },
   {
    "duration": 6,
    "start_time": "2023-05-30T08:06:30.486Z"
   },
   {
    "duration": 55,
    "start_time": "2023-05-30T08:06:30.493Z"
   },
   {
    "duration": 716,
    "start_time": "2023-05-30T08:06:30.550Z"
   },
   {
    "duration": 14,
    "start_time": "2023-05-30T08:06:31.267Z"
   },
   {
    "duration": 42,
    "start_time": "2023-05-30T08:06:31.282Z"
   },
   {
    "duration": 39,
    "start_time": "2023-05-30T08:06:31.326Z"
   },
   {
    "duration": 60,
    "start_time": "2023-05-30T08:06:31.366Z"
   },
   {
    "duration": 49,
    "start_time": "2023-05-30T08:06:31.427Z"
   },
   {
    "duration": 77,
    "start_time": "2023-05-30T08:06:31.477Z"
   },
   {
    "duration": 23,
    "start_time": "2023-05-30T08:06:31.556Z"
   },
   {
    "duration": 50,
    "start_time": "2023-05-30T08:06:31.581Z"
   },
   {
    "duration": 30,
    "start_time": "2023-05-30T08:06:31.634Z"
   },
   {
    "duration": 50,
    "start_time": "2023-05-30T08:06:31.665Z"
   },
   {
    "duration": 70,
    "start_time": "2023-05-30T08:06:31.717Z"
   },
   {
    "duration": 56,
    "start_time": "2023-05-30T08:06:31.790Z"
   },
   {
    "duration": 53,
    "start_time": "2023-05-30T08:06:31.848Z"
   },
   {
    "duration": 82,
    "start_time": "2023-05-30T08:06:31.903Z"
   },
   {
    "duration": 35,
    "start_time": "2023-05-30T08:06:31.987Z"
   },
   {
    "duration": 85,
    "start_time": "2023-05-30T08:06:32.024Z"
   },
   {
    "duration": 62,
    "start_time": "2023-05-30T08:06:32.110Z"
   },
   {
    "duration": 34,
    "start_time": "2023-05-30T08:06:32.174Z"
   },
   {
    "duration": 6,
    "start_time": "2023-05-30T08:06:32.210Z"
   },
   {
    "duration": 32,
    "start_time": "2023-05-30T08:06:32.217Z"
   },
   {
    "duration": 39,
    "start_time": "2023-05-30T08:06:32.250Z"
   },
   {
    "duration": 8,
    "start_time": "2023-05-30T08:06:32.291Z"
   },
   {
    "duration": 17,
    "start_time": "2023-05-30T08:06:32.301Z"
   },
   {
    "duration": 54,
    "start_time": "2023-05-30T08:06:32.319Z"
   },
   {
    "duration": 19,
    "start_time": "2023-05-30T08:06:32.374Z"
   },
   {
    "duration": 19,
    "start_time": "2023-05-30T08:06:32.395Z"
   },
   {
    "duration": 75,
    "start_time": "2023-05-30T08:06:32.416Z"
   },
   {
    "duration": 8,
    "start_time": "2023-05-30T08:06:32.493Z"
   },
   {
    "duration": 11,
    "start_time": "2023-05-30T08:06:32.503Z"
   },
   {
    "duration": 39,
    "start_time": "2023-05-30T08:06:32.516Z"
   },
   {
    "duration": 16,
    "start_time": "2023-05-30T08:06:32.557Z"
   },
   {
    "duration": 13,
    "start_time": "2023-05-30T08:06:32.575Z"
   },
   {
    "duration": 30,
    "start_time": "2023-05-30T08:06:32.590Z"
   },
   {
    "duration": 21,
    "start_time": "2023-05-30T08:06:32.621Z"
   },
   {
    "duration": 82,
    "start_time": "2023-05-30T08:06:32.644Z"
   },
   {
    "duration": 237,
    "start_time": "2023-05-30T08:06:32.727Z"
   },
   {
    "duration": 4,
    "start_time": "2023-05-30T08:06:32.966Z"
   },
   {
    "duration": 34,
    "start_time": "2023-05-30T08:06:32.972Z"
   },
   {
    "duration": 92,
    "start_time": "2023-05-30T08:06:33.008Z"
   },
   {
    "duration": 130,
    "start_time": "2023-05-30T08:06:33.105Z"
   },
   {
    "duration": 91,
    "start_time": "2023-05-30T08:06:33.238Z"
   },
   {
    "duration": 41,
    "start_time": "2023-05-30T08:06:33.331Z"
   },
   {
    "duration": 27,
    "start_time": "2023-05-30T08:06:33.373Z"
   },
   {
    "duration": 13,
    "start_time": "2023-05-30T08:06:33.402Z"
   },
   {
    "duration": 33,
    "start_time": "2023-05-30T08:06:33.416Z"
   },
   {
    "duration": 17,
    "start_time": "2023-05-30T08:06:33.451Z"
   },
   {
    "duration": 17,
    "start_time": "2023-05-30T08:06:33.471Z"
   },
   {
    "duration": 24,
    "start_time": "2023-05-30T08:06:33.489Z"
   },
   {
    "duration": 32,
    "start_time": "2023-05-30T08:06:33.514Z"
   },
   {
    "duration": 26,
    "start_time": "2023-05-30T08:06:33.548Z"
   },
   {
    "duration": 18,
    "start_time": "2023-05-30T08:06:33.575Z"
   },
   {
    "duration": 19,
    "start_time": "2023-05-30T08:06:33.594Z"
   },
   {
    "duration": 35,
    "start_time": "2023-05-30T08:06:33.614Z"
   },
   {
    "duration": 42,
    "start_time": "2023-05-30T08:06:33.650Z"
   },
   {
    "duration": 61,
    "start_time": "2023-05-30T08:06:33.693Z"
   },
   {
    "duration": 25,
    "start_time": "2023-05-30T08:06:33.755Z"
   },
   {
    "duration": 23,
    "start_time": "2023-05-30T08:06:33.781Z"
   },
   {
    "duration": 23,
    "start_time": "2023-05-30T08:06:33.806Z"
   },
   {
    "duration": 61,
    "start_time": "2023-05-30T08:06:33.831Z"
   },
   {
    "duration": 39,
    "start_time": "2023-05-30T08:06:33.894Z"
   },
   {
    "duration": 43,
    "start_time": "2023-05-30T08:06:33.935Z"
   },
   {
    "duration": 35,
    "start_time": "2023-05-30T08:06:33.981Z"
   },
   {
    "duration": 30,
    "start_time": "2023-05-30T08:06:34.018Z"
   },
   {
    "duration": 52,
    "start_time": "2023-05-30T08:06:34.050Z"
   },
   {
    "duration": 47,
    "start_time": "2023-05-30T08:06:34.104Z"
   },
   {
    "duration": 11,
    "start_time": "2023-05-30T08:06:34.153Z"
   },
   {
    "duration": 42,
    "start_time": "2023-05-30T08:06:34.166Z"
   },
   {
    "duration": 24,
    "start_time": "2023-05-30T08:06:34.210Z"
   },
   {
    "duration": 18,
    "start_time": "2023-05-30T08:06:34.236Z"
   },
   {
    "duration": 13,
    "start_time": "2023-05-30T08:06:34.256Z"
   },
   {
    "duration": 11,
    "start_time": "2023-05-30T08:06:34.270Z"
   },
   {
    "duration": 14,
    "start_time": "2023-05-30T08:06:34.282Z"
   },
   {
    "duration": 13,
    "start_time": "2023-05-30T08:06:34.298Z"
   },
   {
    "duration": 21,
    "start_time": "2023-05-30T08:06:34.313Z"
   },
   {
    "duration": 8,
    "start_time": "2023-05-30T08:06:34.336Z"
   },
   {
    "duration": 15,
    "start_time": "2023-05-30T08:06:34.345Z"
   },
   {
    "duration": 8,
    "start_time": "2023-05-30T08:06:34.362Z"
   },
   {
    "duration": 8,
    "start_time": "2023-05-30T08:06:34.371Z"
   },
   {
    "duration": 14,
    "start_time": "2023-05-30T08:06:34.380Z"
   },
   {
    "duration": 1279,
    "start_time": "2023-05-30T08:08:25.336Z"
   },
   {
    "duration": 157,
    "start_time": "2023-05-30T08:08:26.617Z"
   },
   {
    "duration": 11,
    "start_time": "2023-05-30T08:08:26.775Z"
   },
   {
    "duration": 38,
    "start_time": "2023-05-30T08:08:26.788Z"
   },
   {
    "duration": 4,
    "start_time": "2023-05-30T08:08:26.831Z"
   },
   {
    "duration": 18,
    "start_time": "2023-05-30T08:08:26.838Z"
   },
   {
    "duration": 37,
    "start_time": "2023-05-30T08:08:26.858Z"
   },
   {
    "duration": 30,
    "start_time": "2023-05-30T08:08:26.897Z"
   },
   {
    "duration": 82,
    "start_time": "2023-05-30T08:08:26.929Z"
   },
   {
    "duration": 118,
    "start_time": "2023-05-30T08:08:27.013Z"
   },
   {
    "duration": 69,
    "start_time": "2023-05-30T08:08:27.134Z"
   },
   {
    "duration": 32,
    "start_time": "2023-05-30T08:08:27.205Z"
   },
   {
    "duration": 20,
    "start_time": "2023-05-30T08:08:27.239Z"
   },
   {
    "duration": 7,
    "start_time": "2023-05-30T08:08:27.263Z"
   },
   {
    "duration": 12,
    "start_time": "2023-05-30T08:08:27.271Z"
   },
   {
    "duration": 152,
    "start_time": "2023-05-30T08:08:27.285Z"
   },
   {
    "duration": 13,
    "start_time": "2023-05-30T08:08:27.439Z"
   },
   {
    "duration": 31,
    "start_time": "2023-05-30T08:08:27.453Z"
   },
   {
    "duration": 6,
    "start_time": "2023-05-30T08:08:27.486Z"
   },
   {
    "duration": 5,
    "start_time": "2023-05-30T08:08:27.493Z"
   },
   {
    "duration": 7,
    "start_time": "2023-05-30T08:08:27.524Z"
   },
   {
    "duration": 16,
    "start_time": "2023-05-30T08:08:27.533Z"
   },
   {
    "duration": 14,
    "start_time": "2023-05-30T08:08:27.551Z"
   },
   {
    "duration": 11,
    "start_time": "2023-05-30T08:08:27.567Z"
   },
   {
    "duration": 10,
    "start_time": "2023-05-30T08:08:27.580Z"
   },
   {
    "duration": 13,
    "start_time": "2023-05-30T08:08:27.592Z"
   },
   {
    "duration": 15,
    "start_time": "2023-05-30T08:08:27.607Z"
   },
   {
    "duration": 24,
    "start_time": "2023-05-30T08:08:27.628Z"
   },
   {
    "duration": 11,
    "start_time": "2023-05-30T08:08:27.654Z"
   },
   {
    "duration": 22,
    "start_time": "2023-05-30T08:08:27.666Z"
   },
   {
    "duration": 28,
    "start_time": "2023-05-30T08:08:27.690Z"
   },
   {
    "duration": 10,
    "start_time": "2023-05-30T08:08:27.720Z"
   },
   {
    "duration": 27,
    "start_time": "2023-05-30T08:08:27.733Z"
   },
   {
    "duration": 8,
    "start_time": "2023-05-30T08:08:27.762Z"
   },
   {
    "duration": 15,
    "start_time": "2023-05-30T08:08:27.772Z"
   },
   {
    "duration": 9,
    "start_time": "2023-05-30T08:08:27.788Z"
   },
   {
    "duration": 8,
    "start_time": "2023-05-30T08:08:27.799Z"
   },
   {
    "duration": 15,
    "start_time": "2023-05-30T08:08:27.827Z"
   },
   {
    "duration": 1745,
    "start_time": "2023-05-30T08:08:27.844Z"
   },
   {
    "duration": 6,
    "start_time": "2023-05-30T08:08:29.590Z"
   },
   {
    "duration": 10,
    "start_time": "2023-05-30T08:08:29.600Z"
   },
   {
    "duration": 743,
    "start_time": "2023-05-30T08:08:29.625Z"
   },
   {
    "duration": 14,
    "start_time": "2023-05-30T08:08:30.371Z"
   },
   {
    "duration": 57,
    "start_time": "2023-05-30T08:08:30.386Z"
   },
   {
    "duration": 37,
    "start_time": "2023-05-30T08:08:30.445Z"
   },
   {
    "duration": 28,
    "start_time": "2023-05-30T08:08:30.484Z"
   },
   {
    "duration": 40,
    "start_time": "2023-05-30T08:08:30.514Z"
   },
   {
    "duration": 40,
    "start_time": "2023-05-30T08:08:30.555Z"
   },
   {
    "duration": 28,
    "start_time": "2023-05-30T08:08:30.597Z"
   },
   {
    "duration": 32,
    "start_time": "2023-05-30T08:08:30.628Z"
   },
   {
    "duration": 27,
    "start_time": "2023-05-30T08:08:30.662Z"
   },
   {
    "duration": 32,
    "start_time": "2023-05-30T08:08:30.691Z"
   },
   {
    "duration": 115,
    "start_time": "2023-05-30T08:08:30.725Z"
   },
   {
    "duration": 72,
    "start_time": "2023-05-30T08:08:30.842Z"
   },
   {
    "duration": 70,
    "start_time": "2023-05-30T08:08:30.916Z"
   },
   {
    "duration": 75,
    "start_time": "2023-05-30T08:08:30.988Z"
   },
   {
    "duration": 146,
    "start_time": "2023-05-30T08:08:31.065Z"
   },
   {
    "duration": 8,
    "start_time": "2023-05-30T08:08:31.212Z"
   },
   {
    "duration": 25,
    "start_time": "2023-05-30T08:08:31.221Z"
   },
   {
    "duration": 48,
    "start_time": "2023-05-30T08:08:31.248Z"
   },
   {
    "duration": 21,
    "start_time": "2023-05-30T08:08:31.298Z"
   },
   {
    "duration": 24,
    "start_time": "2023-05-30T08:08:31.321Z"
   },
   {
    "duration": 64,
    "start_time": "2023-05-30T08:08:31.347Z"
   },
   {
    "duration": 21,
    "start_time": "2023-05-30T08:08:31.413Z"
   },
   {
    "duration": 33,
    "start_time": "2023-05-30T08:08:31.436Z"
   },
   {
    "duration": 42,
    "start_time": "2023-05-30T08:08:31.471Z"
   },
   {
    "duration": 6,
    "start_time": "2023-05-30T08:08:31.514Z"
   },
   {
    "duration": 43,
    "start_time": "2023-05-30T08:08:31.522Z"
   },
   {
    "duration": 95,
    "start_time": "2023-05-30T08:08:31.566Z"
   },
   {
    "duration": 9,
    "start_time": "2023-05-30T08:08:31.664Z"
   },
   {
    "duration": 15,
    "start_time": "2023-05-30T08:08:31.675Z"
   },
   {
    "duration": 13,
    "start_time": "2023-05-30T08:08:31.692Z"
   },
   {
    "duration": 27,
    "start_time": "2023-05-30T08:08:31.706Z"
   },
   {
    "duration": 36,
    "start_time": "2023-05-30T08:08:31.735Z"
   },
   {
    "duration": 26,
    "start_time": "2023-05-30T08:08:31.773Z"
   },
   {
    "duration": 16,
    "start_time": "2023-05-30T08:08:31.801Z"
   },
   {
    "duration": 11,
    "start_time": "2023-05-30T08:08:31.818Z"
   },
   {
    "duration": 158,
    "start_time": "2023-05-30T08:08:31.831Z"
   },
   {
    "duration": 3,
    "start_time": "2023-05-30T08:08:31.990Z"
   },
   {
    "duration": 15,
    "start_time": "2023-05-30T08:08:31.994Z"
   },
   {
    "duration": 63,
    "start_time": "2023-05-30T08:08:32.010Z"
   },
   {
    "duration": 178,
    "start_time": "2023-05-30T08:08:32.074Z"
   },
   {
    "duration": 8,
    "start_time": "2023-05-30T08:08:32.253Z"
   },
   {
    "duration": 23,
    "start_time": "2023-05-30T08:08:32.263Z"
   },
   {
    "duration": 19,
    "start_time": "2023-05-30T08:08:32.288Z"
   },
   {
    "duration": 9,
    "start_time": "2023-05-30T08:08:32.309Z"
   },
   {
    "duration": 16,
    "start_time": "2023-05-30T08:08:32.319Z"
   },
   {
    "duration": 13,
    "start_time": "2023-05-30T08:08:32.337Z"
   },
   {
    "duration": 9,
    "start_time": "2023-05-30T08:08:32.352Z"
   },
   {
    "duration": 6,
    "start_time": "2023-05-30T08:08:32.363Z"
   },
   {
    "duration": 88,
    "start_time": "2023-05-30T08:08:32.371Z"
   },
   {
    "duration": 12,
    "start_time": "2023-05-30T08:08:32.461Z"
   },
   {
    "duration": 7,
    "start_time": "2023-05-30T08:08:32.475Z"
   },
   {
    "duration": 6,
    "start_time": "2023-05-30T08:08:32.483Z"
   },
   {
    "duration": 9,
    "start_time": "2023-05-30T08:08:32.490Z"
   },
   {
    "duration": 9,
    "start_time": "2023-05-30T08:08:32.501Z"
   },
   {
    "duration": 16,
    "start_time": "2023-05-30T08:08:32.512Z"
   },
   {
    "duration": 17,
    "start_time": "2023-05-30T08:08:32.531Z"
   },
   {
    "duration": 17,
    "start_time": "2023-05-30T08:08:32.550Z"
   },
   {
    "duration": 17,
    "start_time": "2023-05-30T08:08:32.568Z"
   },
   {
    "duration": 22,
    "start_time": "2023-05-30T08:08:32.587Z"
   },
   {
    "duration": 13,
    "start_time": "2023-05-30T08:08:32.610Z"
   },
   {
    "duration": 14,
    "start_time": "2023-05-30T08:08:32.625Z"
   },
   {
    "duration": 18,
    "start_time": "2023-05-30T08:08:32.642Z"
   },
   {
    "duration": 13,
    "start_time": "2023-05-30T08:08:32.662Z"
   },
   {
    "duration": 14,
    "start_time": "2023-05-30T08:08:32.676Z"
   },
   {
    "duration": 13,
    "start_time": "2023-05-30T08:08:32.692Z"
   },
   {
    "duration": 10,
    "start_time": "2023-05-30T08:08:32.707Z"
   },
   {
    "duration": 10,
    "start_time": "2023-05-30T08:08:32.719Z"
   },
   {
    "duration": 26,
    "start_time": "2023-05-30T08:08:32.732Z"
   },
   {
    "duration": 18,
    "start_time": "2023-05-30T08:08:32.760Z"
   },
   {
    "duration": 13,
    "start_time": "2023-05-30T08:08:32.780Z"
   },
   {
    "duration": 23,
    "start_time": "2023-05-30T08:08:32.795Z"
   },
   {
    "duration": 23,
    "start_time": "2023-05-30T08:08:32.820Z"
   },
   {
    "duration": 18,
    "start_time": "2023-05-30T08:08:32.845Z"
   },
   {
    "duration": 20,
    "start_time": "2023-05-30T08:08:32.865Z"
   },
   {
    "duration": 16,
    "start_time": "2023-05-30T08:08:32.886Z"
   },
   {
    "duration": 24,
    "start_time": "2023-05-30T08:08:32.903Z"
   },
   {
    "duration": 30,
    "start_time": "2023-05-30T08:08:32.929Z"
   },
   {
    "duration": 9,
    "start_time": "2023-05-30T08:08:32.961Z"
   },
   {
    "duration": 16,
    "start_time": "2023-05-30T08:08:32.971Z"
   },
   {
    "duration": 1189,
    "start_time": "2023-05-30T08:11:50.956Z"
   },
   {
    "duration": 167,
    "start_time": "2023-05-30T08:11:52.147Z"
   },
   {
    "duration": 20,
    "start_time": "2023-05-30T08:11:52.315Z"
   },
   {
    "duration": 42,
    "start_time": "2023-05-30T08:11:52.341Z"
   },
   {
    "duration": 3,
    "start_time": "2023-05-30T08:11:52.384Z"
   },
   {
    "duration": 29,
    "start_time": "2023-05-30T08:11:52.388Z"
   },
   {
    "duration": 46,
    "start_time": "2023-05-30T08:11:52.419Z"
   },
   {
    "duration": 23,
    "start_time": "2023-05-30T08:11:52.466Z"
   },
   {
    "duration": 99,
    "start_time": "2023-05-30T08:11:52.491Z"
   },
   {
    "duration": 109,
    "start_time": "2023-05-30T08:11:52.593Z"
   },
   {
    "duration": 76,
    "start_time": "2023-05-30T08:11:52.704Z"
   },
   {
    "duration": 24,
    "start_time": "2023-05-30T08:11:52.782Z"
   },
   {
    "duration": 28,
    "start_time": "2023-05-30T08:11:52.825Z"
   },
   {
    "duration": 12,
    "start_time": "2023-05-30T08:11:52.855Z"
   },
   {
    "duration": 10,
    "start_time": "2023-05-30T08:11:52.869Z"
   },
   {
    "duration": 121,
    "start_time": "2023-05-30T08:11:52.880Z"
   },
   {
    "duration": 9,
    "start_time": "2023-05-30T08:11:53.002Z"
   },
   {
    "duration": 69,
    "start_time": "2023-05-30T08:11:53.012Z"
   },
   {
    "duration": 20,
    "start_time": "2023-05-30T08:11:53.083Z"
   },
   {
    "duration": 26,
    "start_time": "2023-05-30T08:11:53.105Z"
   },
   {
    "duration": 49,
    "start_time": "2023-05-30T08:11:53.132Z"
   },
   {
    "duration": 26,
    "start_time": "2023-05-30T08:11:53.183Z"
   },
   {
    "duration": 43,
    "start_time": "2023-05-30T08:11:53.211Z"
   },
   {
    "duration": 10,
    "start_time": "2023-05-30T08:11:53.255Z"
   },
   {
    "duration": 34,
    "start_time": "2023-05-30T08:11:53.267Z"
   },
   {
    "duration": 56,
    "start_time": "2023-05-30T08:11:53.302Z"
   },
   {
    "duration": 12,
    "start_time": "2023-05-30T08:11:53.360Z"
   },
   {
    "duration": 22,
    "start_time": "2023-05-30T08:11:53.376Z"
   },
   {
    "duration": 12,
    "start_time": "2023-05-30T08:11:53.399Z"
   },
   {
    "duration": 34,
    "start_time": "2023-05-30T08:11:53.412Z"
   },
   {
    "duration": 12,
    "start_time": "2023-05-30T08:11:53.454Z"
   },
   {
    "duration": 5,
    "start_time": "2023-05-30T08:11:53.467Z"
   },
   {
    "duration": 21,
    "start_time": "2023-05-30T08:11:53.473Z"
   },
   {
    "duration": 7,
    "start_time": "2023-05-30T08:11:53.496Z"
   },
   {
    "duration": 9,
    "start_time": "2023-05-30T08:11:53.504Z"
   },
   {
    "duration": 15,
    "start_time": "2023-05-30T08:11:53.514Z"
   },
   {
    "duration": 33,
    "start_time": "2023-05-30T08:11:53.536Z"
   },
   {
    "duration": 9,
    "start_time": "2023-05-30T08:11:53.571Z"
   },
   {
    "duration": 1795,
    "start_time": "2023-05-30T08:11:53.581Z"
   },
   {
    "duration": 8,
    "start_time": "2023-05-30T08:11:55.378Z"
   },
   {
    "duration": 15,
    "start_time": "2023-05-30T08:11:55.388Z"
   },
   {
    "duration": 671,
    "start_time": "2023-05-30T08:11:55.404Z"
   },
   {
    "duration": 13,
    "start_time": "2023-05-30T08:11:56.077Z"
   },
   {
    "duration": 13,
    "start_time": "2023-05-30T08:11:56.092Z"
   },
   {
    "duration": 10,
    "start_time": "2023-05-30T08:11:56.139Z"
   },
   {
    "duration": 9,
    "start_time": "2023-05-30T08:11:56.151Z"
   },
   {
    "duration": 6,
    "start_time": "2023-05-30T08:11:56.161Z"
   },
   {
    "duration": 15,
    "start_time": "2023-05-30T08:11:56.168Z"
   },
   {
    "duration": 6,
    "start_time": "2023-05-30T08:11:56.185Z"
   },
   {
    "duration": 11,
    "start_time": "2023-05-30T08:11:56.192Z"
   },
   {
    "duration": 7,
    "start_time": "2023-05-30T08:11:56.204Z"
   },
   {
    "duration": 7,
    "start_time": "2023-05-30T08:11:56.213Z"
   },
   {
    "duration": 33,
    "start_time": "2023-05-30T08:11:56.221Z"
   },
   {
    "duration": 34,
    "start_time": "2023-05-30T08:11:56.255Z"
   },
   {
    "duration": 7,
    "start_time": "2023-05-30T08:11:56.291Z"
   },
   {
    "duration": 7,
    "start_time": "2023-05-30T08:11:56.300Z"
   },
   {
    "duration": 27,
    "start_time": "2023-05-30T08:11:56.308Z"
   },
   {
    "duration": 13,
    "start_time": "2023-05-30T08:11:56.336Z"
   },
   {
    "duration": 14,
    "start_time": "2023-05-30T08:11:56.350Z"
   },
   {
    "duration": 26,
    "start_time": "2023-05-30T08:11:56.365Z"
   },
   {
    "duration": 10,
    "start_time": "2023-05-30T08:11:56.393Z"
   },
   {
    "duration": 5,
    "start_time": "2023-05-30T08:11:56.405Z"
   },
   {
    "duration": 31,
    "start_time": "2023-05-30T08:11:56.411Z"
   },
   {
    "duration": 5,
    "start_time": "2023-05-30T08:11:56.444Z"
   },
   {
    "duration": 12,
    "start_time": "2023-05-30T08:11:56.450Z"
   },
   {
    "duration": 34,
    "start_time": "2023-05-30T08:11:56.463Z"
   },
   {
    "duration": 4,
    "start_time": "2023-05-30T08:11:56.498Z"
   },
   {
    "duration": 31,
    "start_time": "2023-05-30T08:11:56.503Z"
   },
   {
    "duration": 58,
    "start_time": "2023-05-30T08:11:56.536Z"
   },
   {
    "duration": 7,
    "start_time": "2023-05-30T08:11:56.596Z"
   },
   {
    "duration": 15,
    "start_time": "2023-05-30T08:11:56.605Z"
   },
   {
    "duration": 11,
    "start_time": "2023-05-30T08:11:56.621Z"
   },
   {
    "duration": 17,
    "start_time": "2023-05-30T08:11:56.633Z"
   },
   {
    "duration": 10,
    "start_time": "2023-05-30T08:11:56.651Z"
   },
   {
    "duration": 16,
    "start_time": "2023-05-30T08:11:56.662Z"
   },
   {
    "duration": 11,
    "start_time": "2023-05-30T08:11:56.679Z"
   },
   {
    "duration": 10,
    "start_time": "2023-05-30T08:11:56.691Z"
   },
   {
    "duration": 213,
    "start_time": "2023-05-30T08:11:56.703Z"
   },
   {
    "duration": 3,
    "start_time": "2023-05-30T08:11:56.918Z"
   },
   {
    "duration": 26,
    "start_time": "2023-05-30T08:11:56.922Z"
   },
   {
    "duration": 81,
    "start_time": "2023-05-30T08:11:56.949Z"
   },
   {
    "duration": 125,
    "start_time": "2023-05-30T08:11:57.041Z"
   },
   {
    "duration": 80,
    "start_time": "2023-05-30T08:11:57.168Z"
   },
   {
    "duration": 6,
    "start_time": "2023-05-30T08:11:57.249Z"
   },
   {
    "duration": 11,
    "start_time": "2023-05-30T08:11:57.256Z"
   },
   {
    "duration": 11,
    "start_time": "2023-05-30T08:11:57.269Z"
   },
   {
    "duration": 11,
    "start_time": "2023-05-30T08:11:57.281Z"
   },
   {
    "duration": 10,
    "start_time": "2023-05-30T08:11:57.294Z"
   },
   {
    "duration": 16,
    "start_time": "2023-05-30T08:11:57.305Z"
   },
   {
    "duration": 20,
    "start_time": "2023-05-30T08:11:57.322Z"
   },
   {
    "duration": 11,
    "start_time": "2023-05-30T08:11:57.344Z"
   },
   {
    "duration": 9,
    "start_time": "2023-05-30T08:11:57.356Z"
   },
   {
    "duration": 7,
    "start_time": "2023-05-30T08:11:57.367Z"
   },
   {
    "duration": 7,
    "start_time": "2023-05-30T08:11:57.376Z"
   },
   {
    "duration": 21,
    "start_time": "2023-05-30T08:11:57.384Z"
   },
   {
    "duration": 10,
    "start_time": "2023-05-30T08:11:57.406Z"
   },
   {
    "duration": 18,
    "start_time": "2023-05-30T08:11:57.418Z"
   },
   {
    "duration": 21,
    "start_time": "2023-05-30T08:11:57.437Z"
   },
   {
    "duration": 13,
    "start_time": "2023-05-30T08:11:57.460Z"
   },
   {
    "duration": 19,
    "start_time": "2023-05-30T08:11:57.474Z"
   },
   {
    "duration": 6,
    "start_time": "2023-05-30T08:11:57.495Z"
   },
   {
    "duration": 13,
    "start_time": "2023-05-30T08:11:57.503Z"
   },
   {
    "duration": 12,
    "start_time": "2023-05-30T08:11:57.518Z"
   },
   {
    "duration": 13,
    "start_time": "2023-05-30T08:11:57.535Z"
   },
   {
    "duration": 13,
    "start_time": "2023-05-30T08:11:57.550Z"
   },
   {
    "duration": 18,
    "start_time": "2023-05-30T08:11:57.564Z"
   },
   {
    "duration": 6,
    "start_time": "2023-05-30T08:11:57.584Z"
   },
   {
    "duration": 8,
    "start_time": "2023-05-30T08:11:57.591Z"
   },
   {
    "duration": 7,
    "start_time": "2023-05-30T08:11:57.600Z"
   },
   {
    "duration": 12,
    "start_time": "2023-05-30T08:11:57.608Z"
   },
   {
    "duration": 23,
    "start_time": "2023-05-30T08:11:57.621Z"
   },
   {
    "duration": 8,
    "start_time": "2023-05-30T08:11:57.646Z"
   },
   {
    "duration": 8,
    "start_time": "2023-05-30T08:11:57.656Z"
   },
   {
    "duration": 10,
    "start_time": "2023-05-30T08:11:57.665Z"
   },
   {
    "duration": 9,
    "start_time": "2023-05-30T08:11:57.677Z"
   },
   {
    "duration": 14,
    "start_time": "2023-05-30T08:11:57.687Z"
   },
   {
    "duration": 5,
    "start_time": "2023-05-30T08:11:57.702Z"
   },
   {
    "duration": 19,
    "start_time": "2023-05-30T08:11:57.708Z"
   },
   {
    "duration": 24,
    "start_time": "2023-05-30T08:11:57.728Z"
   },
   {
    "duration": 11,
    "start_time": "2023-05-30T08:11:57.753Z"
   },
   {
    "duration": 13,
    "start_time": "2023-05-30T08:11:57.766Z"
   },
   {
    "duration": 1217,
    "start_time": "2023-05-30T08:50:44.735Z"
   },
   {
    "duration": 152,
    "start_time": "2023-05-30T08:50:45.954Z"
   },
   {
    "duration": 9,
    "start_time": "2023-05-30T08:50:46.108Z"
   },
   {
    "duration": 32,
    "start_time": "2023-05-30T08:50:46.119Z"
   },
   {
    "duration": 7,
    "start_time": "2023-05-30T08:50:46.153Z"
   },
   {
    "duration": 23,
    "start_time": "2023-05-30T08:50:46.161Z"
   },
   {
    "duration": 55,
    "start_time": "2023-05-30T08:50:46.186Z"
   },
   {
    "duration": 50,
    "start_time": "2023-05-30T08:50:46.242Z"
   },
   {
    "duration": 119,
    "start_time": "2023-05-30T08:50:46.294Z"
   },
   {
    "duration": 98,
    "start_time": "2023-05-30T08:50:46.416Z"
   },
   {
    "duration": 65,
    "start_time": "2023-05-30T08:50:46.515Z"
   },
   {
    "duration": 16,
    "start_time": "2023-05-30T08:50:46.582Z"
   },
   {
    "duration": 43,
    "start_time": "2023-05-30T08:50:46.599Z"
   },
   {
    "duration": 30,
    "start_time": "2023-05-30T08:50:46.643Z"
   },
   {
    "duration": 17,
    "start_time": "2023-05-30T08:50:46.674Z"
   },
   {
    "duration": 122,
    "start_time": "2023-05-30T08:50:46.692Z"
   },
   {
    "duration": 10,
    "start_time": "2023-05-30T08:50:46.815Z"
   },
   {
    "duration": 44,
    "start_time": "2023-05-30T08:50:46.826Z"
   },
   {
    "duration": 19,
    "start_time": "2023-05-30T08:50:46.871Z"
   },
   {
    "duration": 8,
    "start_time": "2023-05-30T08:50:46.892Z"
   },
   {
    "duration": 28,
    "start_time": "2023-05-30T08:50:46.901Z"
   },
   {
    "duration": 13,
    "start_time": "2023-05-30T08:50:46.930Z"
   },
   {
    "duration": 31,
    "start_time": "2023-05-30T08:50:46.945Z"
   },
   {
    "duration": 45,
    "start_time": "2023-05-30T08:50:46.978Z"
   },
   {
    "duration": 27,
    "start_time": "2023-05-30T08:50:47.025Z"
   },
   {
    "duration": 9,
    "start_time": "2023-05-30T08:50:47.054Z"
   },
   {
    "duration": 32,
    "start_time": "2023-05-30T08:50:47.065Z"
   },
   {
    "duration": 27,
    "start_time": "2023-05-30T08:50:47.101Z"
   },
   {
    "duration": 33,
    "start_time": "2023-05-30T08:50:47.130Z"
   },
   {
    "duration": 41,
    "start_time": "2023-05-30T08:50:47.165Z"
   },
   {
    "duration": 7,
    "start_time": "2023-05-30T08:50:47.207Z"
   },
   {
    "duration": 22,
    "start_time": "2023-05-30T08:50:47.215Z"
   },
   {
    "duration": 37,
    "start_time": "2023-05-30T08:50:47.239Z"
   },
   {
    "duration": 9,
    "start_time": "2023-05-30T08:50:47.277Z"
   },
   {
    "duration": 12,
    "start_time": "2023-05-30T08:50:47.287Z"
   },
   {
    "duration": 27,
    "start_time": "2023-05-30T08:50:47.301Z"
   },
   {
    "duration": 13,
    "start_time": "2023-05-30T08:50:47.330Z"
   },
   {
    "duration": 20,
    "start_time": "2023-05-30T08:50:47.345Z"
   },
   {
    "duration": 1505,
    "start_time": "2023-05-30T08:50:47.366Z"
   },
   {
    "duration": 5,
    "start_time": "2023-05-30T08:50:48.873Z"
   },
   {
    "duration": 38,
    "start_time": "2023-05-30T08:50:48.880Z"
   },
   {
    "duration": 659,
    "start_time": "2023-05-30T08:50:48.920Z"
   },
   {
    "duration": 13,
    "start_time": "2023-05-30T08:50:49.581Z"
   },
   {
    "duration": 53,
    "start_time": "2023-05-30T08:50:49.596Z"
   },
   {
    "duration": 37,
    "start_time": "2023-05-30T08:50:49.651Z"
   },
   {
    "duration": 31,
    "start_time": "2023-05-30T08:50:49.689Z"
   },
   {
    "duration": 18,
    "start_time": "2023-05-30T08:50:49.722Z"
   },
   {
    "duration": 52,
    "start_time": "2023-05-30T08:50:49.741Z"
   },
   {
    "duration": 33,
    "start_time": "2023-05-30T08:50:49.795Z"
   },
   {
    "duration": 61,
    "start_time": "2023-05-30T08:50:49.830Z"
   },
   {
    "duration": 28,
    "start_time": "2023-05-30T08:50:49.893Z"
   },
   {
    "duration": 59,
    "start_time": "2023-05-30T08:50:49.923Z"
   },
   {
    "duration": 47,
    "start_time": "2023-05-30T08:50:49.983Z"
   },
   {
    "duration": 97,
    "start_time": "2023-05-30T08:50:50.032Z"
   },
   {
    "duration": 45,
    "start_time": "2023-05-30T08:50:50.131Z"
   },
   {
    "duration": 31,
    "start_time": "2023-05-30T08:50:50.177Z"
   },
   {
    "duration": 38,
    "start_time": "2023-05-30T08:50:50.209Z"
   },
   {
    "duration": 25,
    "start_time": "2023-05-30T08:50:50.249Z"
   },
   {
    "duration": 24,
    "start_time": "2023-05-30T08:50:50.275Z"
   },
   {
    "duration": 54,
    "start_time": "2023-05-30T08:50:50.300Z"
   },
   {
    "duration": 24,
    "start_time": "2023-05-30T08:50:50.355Z"
   },
   {
    "duration": 38,
    "start_time": "2023-05-30T08:50:50.381Z"
   },
   {
    "duration": 44,
    "start_time": "2023-05-30T08:50:50.421Z"
   },
   {
    "duration": 21,
    "start_time": "2023-05-30T08:50:50.467Z"
   },
   {
    "duration": 9,
    "start_time": "2023-05-30T08:50:50.489Z"
   },
   {
    "duration": 32,
    "start_time": "2023-05-30T08:50:50.499Z"
   },
   {
    "duration": 4,
    "start_time": "2023-05-30T08:50:50.532Z"
   },
   {
    "duration": 16,
    "start_time": "2023-05-30T08:50:50.537Z"
   },
   {
    "duration": 52,
    "start_time": "2023-05-30T08:50:50.555Z"
   },
   {
    "duration": 16,
    "start_time": "2023-05-30T08:50:50.609Z"
   },
   {
    "duration": 7,
    "start_time": "2023-05-30T08:50:50.627Z"
   },
   {
    "duration": 7,
    "start_time": "2023-05-30T08:50:50.635Z"
   },
   {
    "duration": 9,
    "start_time": "2023-05-30T08:50:50.644Z"
   },
   {
    "duration": 12,
    "start_time": "2023-05-30T08:50:50.654Z"
   },
   {
    "duration": 16,
    "start_time": "2023-05-30T08:50:50.667Z"
   },
   {
    "duration": 9,
    "start_time": "2023-05-30T08:50:50.684Z"
   },
   {
    "duration": 26,
    "start_time": "2023-05-30T08:50:50.694Z"
   },
   {
    "duration": 191,
    "start_time": "2023-05-30T08:50:50.722Z"
   },
   {
    "duration": 3,
    "start_time": "2023-05-30T08:50:50.914Z"
   },
   {
    "duration": 15,
    "start_time": "2023-05-30T08:50:50.918Z"
   },
   {
    "duration": 47,
    "start_time": "2023-05-30T08:50:50.934Z"
   },
   {
    "duration": 129,
    "start_time": "2023-05-30T08:50:51.024Z"
   },
   {
    "duration": 78,
    "start_time": "2023-05-30T08:50:51.155Z"
   },
   {
    "duration": 9,
    "start_time": "2023-05-30T08:50:51.235Z"
   },
   {
    "duration": 15,
    "start_time": "2023-05-30T08:50:51.246Z"
   },
   {
    "duration": 8,
    "start_time": "2023-05-30T08:50:51.262Z"
   },
   {
    "duration": 11,
    "start_time": "2023-05-30T08:50:51.271Z"
   },
   {
    "duration": 10,
    "start_time": "2023-05-30T08:50:51.283Z"
   },
   {
    "duration": 10,
    "start_time": "2023-05-30T08:50:51.294Z"
   },
   {
    "duration": 7,
    "start_time": "2023-05-30T08:50:51.305Z"
   },
   {
    "duration": 9,
    "start_time": "2023-05-30T08:50:51.313Z"
   },
   {
    "duration": 10,
    "start_time": "2023-05-30T08:50:51.324Z"
   },
   {
    "duration": 13,
    "start_time": "2023-05-30T08:50:51.335Z"
   },
   {
    "duration": 12,
    "start_time": "2023-05-30T08:50:51.349Z"
   },
   {
    "duration": 9,
    "start_time": "2023-05-30T08:50:51.362Z"
   },
   {
    "duration": 7,
    "start_time": "2023-05-30T08:50:51.372Z"
   },
   {
    "duration": 12,
    "start_time": "2023-05-30T08:50:51.380Z"
   },
   {
    "duration": 6,
    "start_time": "2023-05-30T08:50:51.393Z"
   },
   {
    "duration": 10,
    "start_time": "2023-05-30T08:50:51.401Z"
   },
   {
    "duration": 13,
    "start_time": "2023-05-30T08:50:51.412Z"
   },
   {
    "duration": 13,
    "start_time": "2023-05-30T08:50:51.427Z"
   },
   {
    "duration": 23,
    "start_time": "2023-05-30T08:50:51.441Z"
   },
   {
    "duration": 12,
    "start_time": "2023-05-30T08:50:51.466Z"
   },
   {
    "duration": 16,
    "start_time": "2023-05-30T08:50:51.479Z"
   },
   {
    "duration": 9,
    "start_time": "2023-05-30T08:50:51.496Z"
   },
   {
    "duration": 11,
    "start_time": "2023-05-30T08:50:51.506Z"
   },
   {
    "duration": 5,
    "start_time": "2023-05-30T08:50:51.518Z"
   },
   {
    "duration": 7,
    "start_time": "2023-05-30T08:50:51.525Z"
   },
   {
    "duration": 33,
    "start_time": "2023-05-30T08:50:51.533Z"
   },
   {
    "duration": 30,
    "start_time": "2023-05-30T08:50:51.567Z"
   },
   {
    "duration": 12,
    "start_time": "2023-05-30T08:50:51.599Z"
   },
   {
    "duration": 14,
    "start_time": "2023-05-30T08:50:51.613Z"
   },
   {
    "duration": 12,
    "start_time": "2023-05-30T08:50:51.629Z"
   },
   {
    "duration": 10,
    "start_time": "2023-05-30T08:50:51.642Z"
   },
   {
    "duration": 10,
    "start_time": "2023-05-30T08:50:51.653Z"
   },
   {
    "duration": 20,
    "start_time": "2023-05-30T08:50:51.665Z"
   },
   {
    "duration": 23,
    "start_time": "2023-05-30T08:50:51.687Z"
   },
   {
    "duration": 16,
    "start_time": "2023-05-30T08:50:51.712Z"
   },
   {
    "duration": 13,
    "start_time": "2023-05-30T08:50:51.729Z"
   },
   {
    "duration": 20,
    "start_time": "2023-05-30T08:50:51.743Z"
   },
   {
    "duration": 16,
    "start_time": "2023-05-30T08:50:51.765Z"
   },
   {
    "duration": 1226,
    "start_time": "2023-05-30T18:03:47.076Z"
   },
   {
    "duration": 149,
    "start_time": "2023-05-30T18:03:48.304Z"
   },
   {
    "duration": 13,
    "start_time": "2023-05-30T18:03:48.455Z"
   },
   {
    "duration": 19,
    "start_time": "2023-05-30T18:03:48.470Z"
   },
   {
    "duration": 3,
    "start_time": "2023-05-30T18:03:48.490Z"
   },
   {
    "duration": 9,
    "start_time": "2023-05-30T18:03:48.495Z"
   },
   {
    "duration": 51,
    "start_time": "2023-05-30T18:03:48.505Z"
   },
   {
    "duration": 21,
    "start_time": "2023-05-30T18:03:48.558Z"
   },
   {
    "duration": 87,
    "start_time": "2023-05-30T18:03:48.580Z"
   },
   {
    "duration": 109,
    "start_time": "2023-05-30T18:03:48.670Z"
   },
   {
    "duration": 60,
    "start_time": "2023-05-30T18:03:48.781Z"
   },
   {
    "duration": 18,
    "start_time": "2023-05-30T18:03:48.850Z"
   },
   {
    "duration": 15,
    "start_time": "2023-05-30T18:03:48.870Z"
   },
   {
    "duration": 9,
    "start_time": "2023-05-30T18:03:48.886Z"
   },
   {
    "duration": 9,
    "start_time": "2023-05-30T18:03:48.896Z"
   },
   {
    "duration": 134,
    "start_time": "2023-05-30T18:03:48.906Z"
   },
   {
    "duration": 13,
    "start_time": "2023-05-30T18:03:49.042Z"
   },
   {
    "duration": 24,
    "start_time": "2023-05-30T18:03:49.057Z"
   },
   {
    "duration": 7,
    "start_time": "2023-05-30T18:03:49.083Z"
   },
   {
    "duration": 5,
    "start_time": "2023-05-30T18:03:49.091Z"
   },
   {
    "duration": 6,
    "start_time": "2023-05-30T18:03:49.097Z"
   },
   {
    "duration": 5,
    "start_time": "2023-05-30T18:03:49.104Z"
   },
   {
    "duration": 7,
    "start_time": "2023-05-30T18:03:49.111Z"
   },
   {
    "duration": 6,
    "start_time": "2023-05-30T18:03:49.151Z"
   },
   {
    "duration": 11,
    "start_time": "2023-05-30T18:03:49.159Z"
   },
   {
    "duration": 17,
    "start_time": "2023-05-30T18:03:49.171Z"
   },
   {
    "duration": 7,
    "start_time": "2023-05-30T18:03:49.189Z"
   },
   {
    "duration": 9,
    "start_time": "2023-05-30T18:03:49.200Z"
   },
   {
    "duration": 5,
    "start_time": "2023-05-30T18:03:49.210Z"
   },
   {
    "duration": 35,
    "start_time": "2023-05-30T18:03:49.216Z"
   },
   {
    "duration": 6,
    "start_time": "2023-05-30T18:03:49.252Z"
   },
   {
    "duration": 3,
    "start_time": "2023-05-30T18:03:49.260Z"
   },
   {
    "duration": 17,
    "start_time": "2023-05-30T18:03:49.265Z"
   },
   {
    "duration": 9,
    "start_time": "2023-05-30T18:03:49.284Z"
   },
   {
    "duration": 23,
    "start_time": "2023-05-30T18:03:49.295Z"
   },
   {
    "duration": 12,
    "start_time": "2023-05-30T18:03:49.319Z"
   },
   {
    "duration": 19,
    "start_time": "2023-05-30T18:03:49.333Z"
   },
   {
    "duration": 10,
    "start_time": "2023-05-30T18:03:49.353Z"
   },
   {
    "duration": 1621,
    "start_time": "2023-05-30T18:03:49.364Z"
   },
   {
    "duration": 6,
    "start_time": "2023-05-30T18:03:50.986Z"
   },
   {
    "duration": 9,
    "start_time": "2023-05-30T18:03:50.994Z"
   },
   {
    "duration": 663,
    "start_time": "2023-05-30T18:03:51.005Z"
   },
   {
    "duration": 14,
    "start_time": "2023-05-30T18:03:51.669Z"
   },
   {
    "duration": 17,
    "start_time": "2023-05-30T18:03:51.684Z"
   },
   {
    "duration": 17,
    "start_time": "2023-05-30T18:03:51.702Z"
   },
   {
    "duration": 25,
    "start_time": "2023-05-30T18:03:51.721Z"
   },
   {
    "duration": 16,
    "start_time": "2023-05-30T18:03:51.747Z"
   },
   {
    "duration": 23,
    "start_time": "2023-05-30T18:03:51.765Z"
   },
   {
    "duration": 20,
    "start_time": "2023-05-30T18:03:51.790Z"
   },
   {
    "duration": 17,
    "start_time": "2023-05-30T18:03:51.812Z"
   },
   {
    "duration": 17,
    "start_time": "2023-05-30T18:03:51.831Z"
   },
   {
    "duration": 5,
    "start_time": "2023-05-30T18:03:51.850Z"
   },
   {
    "duration": 15,
    "start_time": "2023-05-30T18:03:51.857Z"
   },
   {
    "duration": 18,
    "start_time": "2023-05-30T18:03:51.874Z"
   },
   {
    "duration": 5,
    "start_time": "2023-05-30T18:03:51.894Z"
   },
   {
    "duration": 27,
    "start_time": "2023-05-30T18:03:51.901Z"
   },
   {
    "duration": 25,
    "start_time": "2023-05-30T18:03:51.929Z"
   },
   {
    "duration": 5,
    "start_time": "2023-05-30T18:03:51.955Z"
   },
   {
    "duration": 4,
    "start_time": "2023-05-30T18:03:51.962Z"
   },
   {
    "duration": 19,
    "start_time": "2023-05-30T18:03:51.968Z"
   },
   {
    "duration": 11,
    "start_time": "2023-05-30T18:03:51.989Z"
   },
   {
    "duration": 4,
    "start_time": "2023-05-30T18:03:52.002Z"
   },
   {
    "duration": 48,
    "start_time": "2023-05-30T18:03:52.008Z"
   },
   {
    "duration": 5,
    "start_time": "2023-05-30T18:03:52.058Z"
   },
   {
    "duration": 8,
    "start_time": "2023-05-30T18:03:52.065Z"
   },
   {
    "duration": 40,
    "start_time": "2023-05-30T18:03:52.075Z"
   },
   {
    "duration": 4,
    "start_time": "2023-05-30T18:03:52.117Z"
   },
   {
    "duration": 23,
    "start_time": "2023-05-30T18:03:52.123Z"
   },
   {
    "duration": 71,
    "start_time": "2023-05-30T18:03:52.150Z"
   },
   {
    "duration": 10,
    "start_time": "2023-05-30T18:03:52.222Z"
   },
   {
    "duration": 16,
    "start_time": "2023-05-30T18:03:52.234Z"
   },
   {
    "duration": 5,
    "start_time": "2023-05-30T18:03:52.252Z"
   },
   {
    "duration": 20,
    "start_time": "2023-05-30T18:03:52.259Z"
   },
   {
    "duration": 17,
    "start_time": "2023-05-30T18:03:52.281Z"
   },
   {
    "duration": 26,
    "start_time": "2023-05-30T18:03:52.300Z"
   },
   {
    "duration": 6,
    "start_time": "2023-05-30T18:03:52.327Z"
   },
   {
    "duration": 19,
    "start_time": "2023-05-30T18:03:52.335Z"
   },
   {
    "duration": 253,
    "start_time": "2023-05-30T18:03:52.356Z"
   },
   {
    "duration": 4,
    "start_time": "2023-05-30T18:03:52.610Z"
   },
   {
    "duration": 7,
    "start_time": "2023-05-30T18:03:52.615Z"
   },
   {
    "duration": 63,
    "start_time": "2023-05-30T18:03:52.623Z"
   },
   {
    "duration": 192,
    "start_time": "2023-05-30T18:03:52.692Z"
   },
   {
    "duration": 84,
    "start_time": "2023-05-30T18:03:52.885Z"
   },
   {
    "duration": 8,
    "start_time": "2023-05-30T18:03:52.970Z"
   },
   {
    "duration": 8,
    "start_time": "2023-05-30T18:03:52.980Z"
   },
   {
    "duration": 8,
    "start_time": "2023-05-30T18:03:52.990Z"
   },
   {
    "duration": 8,
    "start_time": "2023-05-30T18:03:52.999Z"
   },
   {
    "duration": 6,
    "start_time": "2023-05-30T18:03:53.009Z"
   },
   {
    "duration": 10,
    "start_time": "2023-05-30T18:03:53.016Z"
   },
   {
    "duration": 5,
    "start_time": "2023-05-30T18:03:53.027Z"
   },
   {
    "duration": 6,
    "start_time": "2023-05-30T18:03:53.050Z"
   },
   {
    "duration": 16,
    "start_time": "2023-05-30T18:03:53.057Z"
   },
   {
    "duration": 11,
    "start_time": "2023-05-30T18:03:53.074Z"
   },
   {
    "duration": 23,
    "start_time": "2023-05-30T18:03:53.087Z"
   },
   {
    "duration": 8,
    "start_time": "2023-05-30T18:03:53.111Z"
   },
   {
    "duration": 15,
    "start_time": "2023-05-30T18:03:53.121Z"
   },
   {
    "duration": 9,
    "start_time": "2023-05-30T18:03:53.138Z"
   },
   {
    "duration": 7,
    "start_time": "2023-05-30T18:03:53.148Z"
   },
   {
    "duration": 8,
    "start_time": "2023-05-30T18:03:53.156Z"
   },
   {
    "duration": 14,
    "start_time": "2023-05-30T18:03:53.165Z"
   },
   {
    "duration": 5,
    "start_time": "2023-05-30T18:03:53.180Z"
   },
   {
    "duration": 9,
    "start_time": "2023-05-30T18:03:53.186Z"
   },
   {
    "duration": 7,
    "start_time": "2023-05-30T18:03:53.196Z"
   },
   {
    "duration": 5,
    "start_time": "2023-05-30T18:03:53.204Z"
   },
   {
    "duration": 4,
    "start_time": "2023-05-30T18:03:53.211Z"
   },
   {
    "duration": 37,
    "start_time": "2023-05-30T18:03:53.217Z"
   },
   {
    "duration": 5,
    "start_time": "2023-05-30T18:03:53.256Z"
   },
   {
    "duration": 7,
    "start_time": "2023-05-30T18:03:53.263Z"
   },
   {
    "duration": 9,
    "start_time": "2023-05-30T18:03:53.271Z"
   },
   {
    "duration": 24,
    "start_time": "2023-05-30T18:03:53.282Z"
   },
   {
    "duration": 10,
    "start_time": "2023-05-30T18:03:53.307Z"
   },
   {
    "duration": 6,
    "start_time": "2023-05-30T18:03:53.319Z"
   },
   {
    "duration": 25,
    "start_time": "2023-05-30T18:03:53.326Z"
   },
   {
    "duration": 6,
    "start_time": "2023-05-30T18:03:53.352Z"
   },
   {
    "duration": 5,
    "start_time": "2023-05-30T18:03:53.359Z"
   },
   {
    "duration": 9,
    "start_time": "2023-05-30T18:03:53.366Z"
   },
   {
    "duration": 5,
    "start_time": "2023-05-30T18:03:53.377Z"
   },
   {
    "duration": 6,
    "start_time": "2023-05-30T18:03:53.383Z"
   },
   {
    "duration": 5,
    "start_time": "2023-05-30T18:03:53.391Z"
   },
   {
    "duration": 7,
    "start_time": "2023-05-30T18:03:53.397Z"
   },
   {
    "duration": 49,
    "start_time": "2023-05-30T18:03:53.405Z"
   },
   {
    "duration": 1278,
    "start_time": "2023-05-30T18:18:30.907Z"
   },
   {
    "duration": 158,
    "start_time": "2023-05-30T18:18:32.187Z"
   },
   {
    "duration": 11,
    "start_time": "2023-05-30T18:18:32.346Z"
   },
   {
    "duration": 24,
    "start_time": "2023-05-30T18:18:32.359Z"
   },
   {
    "duration": 25,
    "start_time": "2023-05-30T18:18:32.385Z"
   },
   {
    "duration": 11,
    "start_time": "2023-05-30T18:18:32.412Z"
   },
   {
    "duration": 38,
    "start_time": "2023-05-30T18:18:32.425Z"
   },
   {
    "duration": 26,
    "start_time": "2023-05-30T18:18:32.465Z"
   },
   {
    "duration": 110,
    "start_time": "2023-05-30T18:18:32.493Z"
   },
   {
    "duration": 108,
    "start_time": "2023-05-30T18:18:32.606Z"
   },
   {
    "duration": 75,
    "start_time": "2023-05-30T18:18:32.715Z"
   },
   {
    "duration": 17,
    "start_time": "2023-05-30T18:18:32.792Z"
   },
   {
    "duration": 16,
    "start_time": "2023-05-30T18:18:32.811Z"
   },
   {
    "duration": 28,
    "start_time": "2023-05-30T18:18:32.830Z"
   },
   {
    "duration": 10,
    "start_time": "2023-05-30T18:18:32.860Z"
   },
   {
    "duration": 164,
    "start_time": "2023-05-30T18:18:32.872Z"
   },
   {
    "duration": 19,
    "start_time": "2023-05-30T18:18:33.038Z"
   },
   {
    "duration": 29,
    "start_time": "2023-05-30T18:18:33.059Z"
   },
   {
    "duration": 7,
    "start_time": "2023-05-30T18:18:33.090Z"
   },
   {
    "duration": 10,
    "start_time": "2023-05-30T18:18:33.098Z"
   },
   {
    "duration": 5,
    "start_time": "2023-05-30T18:18:33.110Z"
   },
   {
    "duration": 35,
    "start_time": "2023-05-30T18:18:33.117Z"
   },
   {
    "duration": 7,
    "start_time": "2023-05-30T18:18:33.153Z"
   },
   {
    "duration": 8,
    "start_time": "2023-05-30T18:18:33.162Z"
   },
   {
    "duration": 8,
    "start_time": "2023-05-30T18:18:33.172Z"
   },
   {
    "duration": 10,
    "start_time": "2023-05-30T18:18:33.182Z"
   },
   {
    "duration": 14,
    "start_time": "2023-05-30T18:18:33.194Z"
   },
   {
    "duration": 9,
    "start_time": "2023-05-30T18:18:33.212Z"
   },
   {
    "duration": 20,
    "start_time": "2023-05-30T18:18:33.223Z"
   },
   {
    "duration": 19,
    "start_time": "2023-05-30T18:18:33.249Z"
   },
   {
    "duration": 8,
    "start_time": "2023-05-30T18:18:33.270Z"
   },
   {
    "duration": 3,
    "start_time": "2023-05-30T18:18:33.280Z"
   },
   {
    "duration": 20,
    "start_time": "2023-05-30T18:18:33.284Z"
   },
   {
    "duration": 7,
    "start_time": "2023-05-30T18:18:33.305Z"
   },
   {
    "duration": 9,
    "start_time": "2023-05-30T18:18:33.314Z"
   },
   {
    "duration": 8,
    "start_time": "2023-05-30T18:18:33.351Z"
   },
   {
    "duration": 9,
    "start_time": "2023-05-30T18:18:33.361Z"
   },
   {
    "duration": 11,
    "start_time": "2023-05-30T18:18:33.372Z"
   },
   {
    "duration": 1706,
    "start_time": "2023-05-30T18:18:33.385Z"
   },
   {
    "duration": 8,
    "start_time": "2023-05-30T18:18:35.093Z"
   },
   {
    "duration": 29,
    "start_time": "2023-05-30T18:18:35.103Z"
   },
   {
    "duration": 688,
    "start_time": "2023-05-30T18:18:35.135Z"
   },
   {
    "duration": 14,
    "start_time": "2023-05-30T18:18:35.824Z"
   },
   {
    "duration": 15,
    "start_time": "2023-05-30T18:18:35.850Z"
   },
   {
    "duration": 9,
    "start_time": "2023-05-30T18:18:35.867Z"
   },
   {
    "duration": 11,
    "start_time": "2023-05-30T18:18:35.879Z"
   },
   {
    "duration": 3,
    "start_time": "2023-05-30T18:18:35.892Z"
   },
   {
    "duration": 16,
    "start_time": "2023-05-30T18:18:35.897Z"
   },
   {
    "duration": 10,
    "start_time": "2023-05-30T18:18:35.914Z"
   },
   {
    "duration": 30,
    "start_time": "2023-05-30T18:18:35.925Z"
   },
   {
    "duration": 4,
    "start_time": "2023-05-30T18:18:35.956Z"
   },
   {
    "duration": 8,
    "start_time": "2023-05-30T18:18:35.961Z"
   },
   {
    "duration": 25,
    "start_time": "2023-05-30T18:18:35.971Z"
   },
   {
    "duration": 20,
    "start_time": "2023-05-30T18:18:35.998Z"
   },
   {
    "duration": 4,
    "start_time": "2023-05-30T18:18:36.020Z"
   },
   {
    "duration": 5,
    "start_time": "2023-05-30T18:18:36.050Z"
   },
   {
    "duration": 26,
    "start_time": "2023-05-30T18:18:36.057Z"
   },
   {
    "duration": 5,
    "start_time": "2023-05-30T18:18:36.086Z"
   },
   {
    "duration": 6,
    "start_time": "2023-05-30T18:18:36.093Z"
   },
   {
    "duration": 49,
    "start_time": "2023-05-30T18:18:36.101Z"
   },
   {
    "duration": 14,
    "start_time": "2023-05-30T18:18:36.151Z"
   },
   {
    "duration": 34,
    "start_time": "2023-05-30T18:18:36.166Z"
   },
   {
    "duration": 23,
    "start_time": "2023-05-30T18:18:36.202Z"
   },
   {
    "duration": 5,
    "start_time": "2023-05-30T18:18:36.226Z"
   },
   {
    "duration": 7,
    "start_time": "2023-05-30T18:18:36.232Z"
   },
   {
    "duration": 30,
    "start_time": "2023-05-30T18:18:36.241Z"
   },
   {
    "duration": 3,
    "start_time": "2023-05-30T18:18:36.273Z"
   },
   {
    "duration": 13,
    "start_time": "2023-05-30T18:18:36.277Z"
   },
   {
    "duration": 67,
    "start_time": "2023-05-30T18:18:36.292Z"
   },
   {
    "duration": 9,
    "start_time": "2023-05-30T18:18:36.362Z"
   },
   {
    "duration": 7,
    "start_time": "2023-05-30T18:18:36.373Z"
   },
   {
    "duration": 5,
    "start_time": "2023-05-30T18:18:36.382Z"
   },
   {
    "duration": 11,
    "start_time": "2023-05-30T18:18:36.389Z"
   },
   {
    "duration": 22,
    "start_time": "2023-05-30T18:18:36.402Z"
   },
   {
    "duration": 9,
    "start_time": "2023-05-30T18:18:36.426Z"
   },
   {
    "duration": 18,
    "start_time": "2023-05-30T18:18:36.437Z"
   },
   {
    "duration": 18,
    "start_time": "2023-05-30T18:18:36.457Z"
   },
   {
    "duration": 319,
    "start_time": "2023-05-30T18:18:36.477Z"
   },
   {
    "duration": 4,
    "start_time": "2023-05-30T18:18:36.797Z"
   },
   {
    "duration": 17,
    "start_time": "2023-05-30T18:18:36.803Z"
   },
   {
    "duration": 61,
    "start_time": "2023-05-30T18:18:36.822Z"
   },
   {
    "duration": 220,
    "start_time": "2023-05-30T18:18:36.892Z"
   },
   {
    "duration": 87,
    "start_time": "2023-05-30T18:18:37.114Z"
   },
   {
    "duration": 7,
    "start_time": "2023-05-30T18:18:37.203Z"
   },
   {
    "duration": 8,
    "start_time": "2023-05-30T18:18:37.212Z"
   },
   {
    "duration": 10,
    "start_time": "2023-05-30T18:18:37.221Z"
   },
   {
    "duration": 19,
    "start_time": "2023-05-30T18:18:37.233Z"
   },
   {
    "duration": 16,
    "start_time": "2023-05-30T18:18:37.253Z"
   },
   {
    "duration": 13,
    "start_time": "2023-05-30T18:18:37.271Z"
   },
   {
    "duration": 4,
    "start_time": "2023-05-30T18:18:37.286Z"
   },
   {
    "duration": 12,
    "start_time": "2023-05-30T18:18:37.292Z"
   },
   {
    "duration": 8,
    "start_time": "2023-05-30T18:18:37.305Z"
   },
   {
    "duration": 14,
    "start_time": "2023-05-30T18:18:37.315Z"
   },
   {
    "duration": 5,
    "start_time": "2023-05-30T18:18:37.332Z"
   },
   {
    "duration": 17,
    "start_time": "2023-05-30T18:18:37.339Z"
   },
   {
    "duration": 13,
    "start_time": "2023-05-30T18:18:37.358Z"
   },
   {
    "duration": 13,
    "start_time": "2023-05-30T18:18:37.373Z"
   },
   {
    "duration": 8,
    "start_time": "2023-05-30T18:18:37.387Z"
   },
   {
    "duration": 12,
    "start_time": "2023-05-30T18:18:37.397Z"
   },
   {
    "duration": 11,
    "start_time": "2023-05-30T18:18:37.410Z"
   },
   {
    "duration": 6,
    "start_time": "2023-05-30T18:18:37.423Z"
   },
   {
    "duration": 21,
    "start_time": "2023-05-30T18:18:37.430Z"
   },
   {
    "duration": 6,
    "start_time": "2023-05-30T18:18:37.453Z"
   },
   {
    "duration": 6,
    "start_time": "2023-05-30T18:18:37.461Z"
   },
   {
    "duration": 8,
    "start_time": "2023-05-30T18:18:37.469Z"
   },
   {
    "duration": 13,
    "start_time": "2023-05-30T18:18:37.479Z"
   },
   {
    "duration": 20,
    "start_time": "2023-05-30T18:18:37.493Z"
   },
   {
    "duration": 74,
    "start_time": "2023-05-30T18:18:37.515Z"
   },
   {
    "duration": 37,
    "start_time": "2023-05-30T18:18:37.592Z"
   },
   {
    "duration": 62,
    "start_time": "2023-05-30T18:18:37.632Z"
   },
   {
    "duration": 82,
    "start_time": "2023-05-30T18:18:37.696Z"
   },
   {
    "duration": 7,
    "start_time": "2023-05-30T18:18:37.780Z"
   },
   {
    "duration": 5,
    "start_time": "2023-05-30T18:18:37.789Z"
   },
   {
    "duration": 5,
    "start_time": "2023-05-30T18:18:37.796Z"
   },
   {
    "duration": 7,
    "start_time": "2023-05-30T18:18:37.803Z"
   },
   {
    "duration": 10,
    "start_time": "2023-05-30T18:18:37.811Z"
   },
   {
    "duration": 5,
    "start_time": "2023-05-30T18:18:37.822Z"
   },
   {
    "duration": 22,
    "start_time": "2023-05-30T18:18:37.829Z"
   },
   {
    "duration": 5,
    "start_time": "2023-05-30T18:18:37.853Z"
   },
   {
    "duration": 6,
    "start_time": "2023-05-30T18:18:37.860Z"
   },
   {
    "duration": 19,
    "start_time": "2023-05-30T18:18:37.867Z"
   },
   {
    "duration": 1362,
    "start_time": "2023-05-30T21:43:45.454Z"
   },
   {
    "duration": 608,
    "start_time": "2023-05-30T21:43:46.817Z"
   },
   {
    "duration": 11,
    "start_time": "2023-05-30T21:43:47.426Z"
   },
   {
    "duration": 18,
    "start_time": "2023-05-30T21:43:47.439Z"
   },
   {
    "duration": 3,
    "start_time": "2023-05-30T21:43:47.459Z"
   },
   {
    "duration": 19,
    "start_time": "2023-05-30T21:43:47.464Z"
   },
   {
    "duration": 34,
    "start_time": "2023-05-30T21:43:47.484Z"
   },
   {
    "duration": 22,
    "start_time": "2023-05-30T21:43:47.519Z"
   },
   {
    "duration": 85,
    "start_time": "2023-05-30T21:43:47.542Z"
   },
   {
    "duration": 108,
    "start_time": "2023-05-30T21:43:47.629Z"
   },
   {
    "duration": 60,
    "start_time": "2023-05-30T21:43:47.738Z"
   },
   {
    "duration": 29,
    "start_time": "2023-05-30T21:43:47.800Z"
   },
   {
    "duration": 31,
    "start_time": "2023-05-30T21:43:47.831Z"
   },
   {
    "duration": 11,
    "start_time": "2023-05-30T21:43:47.863Z"
   },
   {
    "duration": 8,
    "start_time": "2023-05-30T21:43:47.876Z"
   },
   {
    "duration": 115,
    "start_time": "2023-05-30T21:43:47.886Z"
   },
   {
    "duration": 9,
    "start_time": "2023-05-30T21:43:48.003Z"
   },
   {
    "duration": 30,
    "start_time": "2023-05-30T21:43:48.018Z"
   },
   {
    "duration": 14,
    "start_time": "2023-05-30T21:43:48.050Z"
   },
   {
    "duration": 11,
    "start_time": "2023-05-30T21:43:48.066Z"
   },
   {
    "duration": 12,
    "start_time": "2023-05-30T21:43:48.078Z"
   },
   {
    "duration": 18,
    "start_time": "2023-05-30T21:43:48.092Z"
   },
   {
    "duration": 11,
    "start_time": "2023-05-30T21:43:48.112Z"
   },
   {
    "duration": 9,
    "start_time": "2023-05-30T21:43:48.124Z"
   },
   {
    "duration": 15,
    "start_time": "2023-05-30T21:43:48.134Z"
   },
   {
    "duration": 9,
    "start_time": "2023-05-30T21:43:48.150Z"
   },
   {
    "duration": 19,
    "start_time": "2023-05-30T21:43:48.160Z"
   },
   {
    "duration": 18,
    "start_time": "2023-05-30T21:43:48.182Z"
   },
   {
    "duration": 7,
    "start_time": "2023-05-30T21:43:48.201Z"
   },
   {
    "duration": 21,
    "start_time": "2023-05-30T21:43:48.209Z"
   },
   {
    "duration": 8,
    "start_time": "2023-05-30T21:43:48.231Z"
   },
   {
    "duration": 9,
    "start_time": "2023-05-30T21:43:48.241Z"
   },
   {
    "duration": 22,
    "start_time": "2023-05-30T21:43:48.252Z"
   },
   {
    "duration": 7,
    "start_time": "2023-05-30T21:43:48.275Z"
   },
   {
    "duration": 10,
    "start_time": "2023-05-30T21:43:48.283Z"
   },
   {
    "duration": 24,
    "start_time": "2023-05-30T21:43:48.295Z"
   },
   {
    "duration": 12,
    "start_time": "2023-05-30T21:43:48.320Z"
   },
   {
    "duration": 8,
    "start_time": "2023-05-30T21:43:48.334Z"
   },
   {
    "duration": 1691,
    "start_time": "2023-05-30T21:43:48.344Z"
   },
   {
    "duration": 6,
    "start_time": "2023-05-30T21:43:50.037Z"
   },
   {
    "duration": 46,
    "start_time": "2023-05-30T21:43:50.044Z"
   },
   {
    "duration": 701,
    "start_time": "2023-05-30T21:43:50.092Z"
   },
   {
    "duration": 23,
    "start_time": "2023-05-30T21:43:50.794Z"
   },
   {
    "duration": 14,
    "start_time": "2023-05-30T21:43:50.819Z"
   },
   {
    "duration": 9,
    "start_time": "2023-05-30T21:43:50.834Z"
   },
   {
    "duration": 15,
    "start_time": "2023-05-30T21:43:50.845Z"
   },
   {
    "duration": 15,
    "start_time": "2023-05-30T21:43:50.862Z"
   },
   {
    "duration": 15,
    "start_time": "2023-05-30T21:43:50.878Z"
   },
   {
    "duration": 7,
    "start_time": "2023-05-30T21:43:50.895Z"
   },
   {
    "duration": 13,
    "start_time": "2023-05-30T21:43:50.904Z"
   },
   {
    "duration": 6,
    "start_time": "2023-05-30T21:43:50.919Z"
   },
   {
    "duration": 6,
    "start_time": "2023-05-30T21:43:50.927Z"
   },
   {
    "duration": 21,
    "start_time": "2023-05-30T21:43:50.935Z"
   },
   {
    "duration": 6,
    "start_time": "2023-05-30T21:43:50.957Z"
   },
   {
    "duration": 11,
    "start_time": "2023-05-30T21:43:50.964Z"
   },
   {
    "duration": 6,
    "start_time": "2023-05-30T21:43:50.977Z"
   },
   {
    "duration": 23,
    "start_time": "2023-05-30T21:43:50.985Z"
   },
   {
    "duration": 19,
    "start_time": "2023-05-30T21:43:51.009Z"
   },
   {
    "duration": 4,
    "start_time": "2023-05-30T21:43:51.030Z"
   },
   {
    "duration": 7,
    "start_time": "2023-05-30T21:43:51.035Z"
   },
   {
    "duration": 25,
    "start_time": "2023-05-30T21:43:51.043Z"
   },
   {
    "duration": 4,
    "start_time": "2023-05-30T21:43:51.069Z"
   },
   {
    "duration": 7,
    "start_time": "2023-05-30T21:43:51.074Z"
   },
   {
    "duration": 35,
    "start_time": "2023-05-30T21:43:51.082Z"
   },
   {
    "duration": 4,
    "start_time": "2023-05-30T21:43:51.119Z"
   },
   {
    "duration": 14,
    "start_time": "2023-05-30T21:43:51.125Z"
   },
   {
    "duration": 23,
    "start_time": "2023-05-30T21:43:51.141Z"
   },
   {
    "duration": 5,
    "start_time": "2023-05-30T21:43:51.166Z"
   },
   {
    "duration": 7,
    "start_time": "2023-05-30T21:43:51.172Z"
   },
   {
    "duration": 44,
    "start_time": "2023-05-30T21:43:51.180Z"
   },
   {
    "duration": 3,
    "start_time": "2023-05-30T21:43:51.225Z"
   },
   {
    "duration": 22,
    "start_time": "2023-05-30T21:43:51.230Z"
   },
   {
    "duration": 78,
    "start_time": "2023-05-30T21:43:51.253Z"
   },
   {
    "duration": 9,
    "start_time": "2023-05-30T21:43:51.333Z"
   },
   {
    "duration": 19,
    "start_time": "2023-05-30T21:43:51.343Z"
   },
   {
    "duration": 13,
    "start_time": "2023-05-30T21:43:51.364Z"
   },
   {
    "duration": 24,
    "start_time": "2023-05-30T21:43:51.378Z"
   },
   {
    "duration": 17,
    "start_time": "2023-05-30T21:43:51.404Z"
   },
   {
    "duration": 26,
    "start_time": "2023-05-30T21:43:51.422Z"
   },
   {
    "duration": 15,
    "start_time": "2023-05-30T21:43:51.450Z"
   },
   {
    "duration": 46,
    "start_time": "2023-05-30T21:43:51.466Z"
   },
   {
    "duration": 171,
    "start_time": "2023-05-30T21:43:51.518Z"
   },
   {
    "duration": 3,
    "start_time": "2023-05-30T21:43:51.690Z"
   },
   {
    "duration": 13,
    "start_time": "2023-05-30T21:43:51.694Z"
   },
   {
    "duration": 52,
    "start_time": "2023-05-30T21:43:51.709Z"
   },
   {
    "duration": 156,
    "start_time": "2023-05-30T21:43:51.763Z"
   },
   {
    "duration": 7,
    "start_time": "2023-05-30T21:43:51.921Z"
   },
   {
    "duration": 9,
    "start_time": "2023-05-30T21:43:51.929Z"
   },
   {
    "duration": 10,
    "start_time": "2023-05-30T21:43:51.939Z"
   },
   {
    "duration": 14,
    "start_time": "2023-05-30T21:43:51.950Z"
   },
   {
    "duration": 22,
    "start_time": "2023-05-30T21:43:51.965Z"
   },
   {
    "duration": 11,
    "start_time": "2023-05-30T21:43:51.989Z"
   },
   {
    "duration": 22,
    "start_time": "2023-05-30T21:43:52.001Z"
   },
   {
    "duration": 15,
    "start_time": "2023-05-30T21:43:52.024Z"
   },
   {
    "duration": 17,
    "start_time": "2023-05-30T21:43:52.040Z"
   },
   {
    "duration": 94,
    "start_time": "2023-05-30T21:43:52.058Z"
   },
   {
    "duration": 27,
    "start_time": "2023-05-30T21:43:52.154Z"
   },
   {
    "duration": 10,
    "start_time": "2023-05-30T21:43:52.182Z"
   },
   {
    "duration": 26,
    "start_time": "2023-05-30T21:43:52.194Z"
   },
   {
    "duration": 35,
    "start_time": "2023-05-30T21:43:52.222Z"
   },
   {
    "duration": 35,
    "start_time": "2023-05-30T21:43:52.258Z"
   },
   {
    "duration": 32,
    "start_time": "2023-05-30T21:43:52.294Z"
   },
   {
    "duration": 21,
    "start_time": "2023-05-30T21:43:52.327Z"
   },
   {
    "duration": 22,
    "start_time": "2023-05-30T21:43:52.350Z"
   },
   {
    "duration": 17,
    "start_time": "2023-05-30T21:43:52.374Z"
   },
   {
    "duration": 16,
    "start_time": "2023-05-30T21:43:52.393Z"
   },
   {
    "duration": 27,
    "start_time": "2023-05-30T21:43:52.411Z"
   },
   {
    "duration": 8,
    "start_time": "2023-05-30T21:43:52.440Z"
   },
   {
    "duration": 9,
    "start_time": "2023-05-30T21:43:52.450Z"
   },
   {
    "duration": 15,
    "start_time": "2023-05-30T21:43:52.461Z"
   },
   {
    "duration": 7,
    "start_time": "2023-05-30T21:43:52.477Z"
   },
   {
    "duration": 17,
    "start_time": "2023-05-30T21:43:52.485Z"
   },
   {
    "duration": 15,
    "start_time": "2023-05-30T21:43:52.504Z"
   },
   {
    "duration": 12,
    "start_time": "2023-05-30T21:43:52.520Z"
   },
   {
    "duration": 13,
    "start_time": "2023-05-30T21:43:52.534Z"
   },
   {
    "duration": 4,
    "start_time": "2023-05-30T21:43:52.549Z"
   },
   {
    "duration": 17,
    "start_time": "2023-05-30T21:43:52.555Z"
   },
   {
    "duration": 30,
    "start_time": "2023-05-30T21:43:52.574Z"
   },
   {
    "duration": 19,
    "start_time": "2023-05-30T21:43:52.606Z"
   },
   {
    "duration": 30,
    "start_time": "2023-05-30T21:43:52.626Z"
   },
   {
    "duration": 6,
    "start_time": "2023-05-30T21:43:52.658Z"
   },
   {
    "duration": 22,
    "start_time": "2023-05-30T21:43:52.666Z"
   },
   {
    "duration": 25,
    "start_time": "2023-05-30T21:43:52.690Z"
   },
   {
    "duration": 18,
    "start_time": "2023-05-30T21:43:52.717Z"
   },
   {
    "duration": 14,
    "start_time": "2023-05-30T21:43:52.737Z"
   },
   {
    "duration": 1184,
    "start_time": "2023-05-30T23:24:23.025Z"
   },
   {
    "duration": 145,
    "start_time": "2023-05-30T23:24:24.211Z"
   },
   {
    "duration": 10,
    "start_time": "2023-05-30T23:24:24.357Z"
   },
   {
    "duration": 19,
    "start_time": "2023-05-30T23:24:24.369Z"
   },
   {
    "duration": 3,
    "start_time": "2023-05-30T23:24:24.390Z"
   },
   {
    "duration": 8,
    "start_time": "2023-05-30T23:24:24.394Z"
   },
   {
    "duration": 47,
    "start_time": "2023-05-30T23:24:24.403Z"
   },
   {
    "duration": 24,
    "start_time": "2023-05-30T23:24:24.452Z"
   },
   {
    "duration": 84,
    "start_time": "2023-05-30T23:24:24.479Z"
   },
   {
    "duration": 97,
    "start_time": "2023-05-30T23:24:24.565Z"
   },
   {
    "duration": 57,
    "start_time": "2023-05-30T23:24:24.663Z"
   },
   {
    "duration": 32,
    "start_time": "2023-05-30T23:24:24.722Z"
   },
   {
    "duration": 13,
    "start_time": "2023-05-30T23:24:24.755Z"
   },
   {
    "duration": 7,
    "start_time": "2023-05-30T23:24:24.771Z"
   },
   {
    "duration": 20,
    "start_time": "2023-05-30T23:24:24.779Z"
   },
   {
    "duration": 129,
    "start_time": "2023-05-30T23:24:24.800Z"
   },
   {
    "duration": 9,
    "start_time": "2023-05-30T23:24:24.931Z"
   },
   {
    "duration": 33,
    "start_time": "2023-05-30T23:24:24.941Z"
   },
   {
    "duration": 7,
    "start_time": "2023-05-30T23:24:24.975Z"
   },
   {
    "duration": 4,
    "start_time": "2023-05-30T23:24:24.983Z"
   },
   {
    "duration": 6,
    "start_time": "2023-05-30T23:24:24.989Z"
   },
   {
    "duration": 5,
    "start_time": "2023-05-30T23:24:24.996Z"
   },
   {
    "duration": 8,
    "start_time": "2023-05-30T23:24:25.002Z"
   },
   {
    "duration": 6,
    "start_time": "2023-05-30T23:24:25.011Z"
   },
   {
    "duration": 33,
    "start_time": "2023-05-30T23:24:25.019Z"
   },
   {
    "duration": 5,
    "start_time": "2023-05-30T23:24:25.054Z"
   },
   {
    "duration": 8,
    "start_time": "2023-05-30T23:24:25.060Z"
   },
   {
    "duration": 10,
    "start_time": "2023-05-30T23:24:25.070Z"
   },
   {
    "duration": 8,
    "start_time": "2023-05-30T23:24:25.082Z"
   },
   {
    "duration": 17,
    "start_time": "2023-05-30T23:24:25.091Z"
   },
   {
    "duration": 7,
    "start_time": "2023-05-30T23:24:25.110Z"
   },
   {
    "duration": 4,
    "start_time": "2023-05-30T23:24:25.118Z"
   },
   {
    "duration": 16,
    "start_time": "2023-05-30T23:24:25.151Z"
   },
   {
    "duration": 6,
    "start_time": "2023-05-30T23:24:25.169Z"
   },
   {
    "duration": 6,
    "start_time": "2023-05-30T23:24:25.176Z"
   },
   {
    "duration": 9,
    "start_time": "2023-05-30T23:24:25.184Z"
   },
   {
    "duration": 10,
    "start_time": "2023-05-30T23:24:25.194Z"
   },
   {
    "duration": 9,
    "start_time": "2023-05-30T23:24:25.205Z"
   },
   {
    "duration": 1586,
    "start_time": "2023-05-30T23:24:25.215Z"
   },
   {
    "duration": 7,
    "start_time": "2023-05-30T23:24:26.802Z"
   },
   {
    "duration": 10,
    "start_time": "2023-05-30T23:24:26.815Z"
   },
   {
    "duration": 660,
    "start_time": "2023-05-30T23:24:26.826Z"
   },
   {
    "duration": 12,
    "start_time": "2023-05-30T23:24:27.488Z"
   },
   {
    "duration": 13,
    "start_time": "2023-05-30T23:24:27.502Z"
   },
   {
    "duration": 8,
    "start_time": "2023-05-30T23:24:27.517Z"
   },
   {
    "duration": 28,
    "start_time": "2023-05-30T23:24:27.526Z"
   },
   {
    "duration": 4,
    "start_time": "2023-05-30T23:24:27.555Z"
   },
   {
    "duration": 10,
    "start_time": "2023-05-30T23:24:27.561Z"
   },
   {
    "duration": 7,
    "start_time": "2023-05-30T23:24:27.572Z"
   },
   {
    "duration": 5,
    "start_time": "2023-05-30T23:24:27.580Z"
   },
   {
    "duration": 14,
    "start_time": "2023-05-30T23:24:27.587Z"
   },
   {
    "duration": 6,
    "start_time": "2023-05-30T23:24:27.603Z"
   },
   {
    "duration": 3,
    "start_time": "2023-05-30T23:24:27.610Z"
   },
   {
    "duration": 7,
    "start_time": "2023-05-30T23:24:27.614Z"
   },
   {
    "duration": 3,
    "start_time": "2023-05-30T23:24:27.622Z"
   },
   {
    "duration": 6,
    "start_time": "2023-05-30T23:24:27.627Z"
   },
   {
    "duration": 14,
    "start_time": "2023-05-30T23:24:27.651Z"
   },
   {
    "duration": 19,
    "start_time": "2023-05-30T23:24:27.667Z"
   },
   {
    "duration": 4,
    "start_time": "2023-05-30T23:24:27.687Z"
   },
   {
    "duration": 3,
    "start_time": "2023-05-30T23:24:27.693Z"
   },
   {
    "duration": 19,
    "start_time": "2023-05-30T23:24:27.697Z"
   },
   {
    "duration": 4,
    "start_time": "2023-05-30T23:24:27.717Z"
   },
   {
    "duration": 4,
    "start_time": "2023-05-30T23:24:27.750Z"
   },
   {
    "duration": 21,
    "start_time": "2023-05-30T23:24:27.755Z"
   },
   {
    "duration": 5,
    "start_time": "2023-05-30T23:24:27.777Z"
   },
   {
    "duration": 7,
    "start_time": "2023-05-30T23:24:27.783Z"
   },
   {
    "duration": 35,
    "start_time": "2023-05-30T23:24:27.791Z"
   },
   {
    "duration": 4,
    "start_time": "2023-05-30T23:24:27.828Z"
   },
   {
    "duration": 18,
    "start_time": "2023-05-30T23:24:27.833Z"
   },
   {
    "duration": 34,
    "start_time": "2023-05-30T23:24:27.852Z"
   },
   {
    "duration": 4,
    "start_time": "2023-05-30T23:24:27.888Z"
   },
   {
    "duration": 10,
    "start_time": "2023-05-30T23:24:27.893Z"
   },
   {
    "duration": 76,
    "start_time": "2023-05-30T23:24:27.904Z"
   },
   {
    "duration": 8,
    "start_time": "2023-05-30T23:24:27.982Z"
   },
   {
    "duration": 16,
    "start_time": "2023-05-30T23:24:27.991Z"
   },
   {
    "duration": 4,
    "start_time": "2023-05-30T23:24:28.009Z"
   },
   {
    "duration": 8,
    "start_time": "2023-05-30T23:24:28.014Z"
   },
   {
    "duration": 6,
    "start_time": "2023-05-30T23:24:28.023Z"
   },
   {
    "duration": 21,
    "start_time": "2023-05-30T23:24:28.031Z"
   },
   {
    "duration": 5,
    "start_time": "2023-05-30T23:24:28.053Z"
   },
   {
    "duration": 7,
    "start_time": "2023-05-30T23:24:28.060Z"
   },
   {
    "duration": 253,
    "start_time": "2023-05-30T23:24:28.069Z"
   },
   {
    "duration": 3,
    "start_time": "2023-05-30T23:24:28.324Z"
   },
   {
    "duration": 5,
    "start_time": "2023-05-30T23:24:28.328Z"
   },
   {
    "duration": 43,
    "start_time": "2023-05-30T23:24:28.335Z"
   },
   {
    "duration": 258,
    "start_time": "2023-05-30T23:24:28.379Z"
   },
   {
    "duration": 11,
    "start_time": "2023-05-30T23:24:28.639Z"
   },
   {
    "duration": 6,
    "start_time": "2023-05-30T23:24:28.651Z"
   },
   {
    "duration": 5,
    "start_time": "2023-05-30T23:24:28.658Z"
   },
   {
    "duration": 7,
    "start_time": "2023-05-30T23:24:28.664Z"
   },
   {
    "duration": 17,
    "start_time": "2023-05-30T23:24:28.673Z"
   },
   {
    "duration": 6,
    "start_time": "2023-05-30T23:24:28.692Z"
   },
   {
    "duration": 6,
    "start_time": "2023-05-30T23:24:28.699Z"
   },
   {
    "duration": 6,
    "start_time": "2023-05-30T23:24:28.706Z"
   },
   {
    "duration": 17,
    "start_time": "2023-05-30T23:24:28.714Z"
   },
   {
    "duration": 18,
    "start_time": "2023-05-30T23:24:28.732Z"
   },
   {
    "duration": 9,
    "start_time": "2023-05-30T23:24:28.752Z"
   },
   {
    "duration": 4,
    "start_time": "2023-05-30T23:24:28.762Z"
   },
   {
    "duration": 7,
    "start_time": "2023-05-30T23:24:28.768Z"
   },
   {
    "duration": 15,
    "start_time": "2023-05-30T23:24:28.777Z"
   },
   {
    "duration": 9,
    "start_time": "2023-05-30T23:24:28.793Z"
   },
   {
    "duration": 7,
    "start_time": "2023-05-30T23:24:28.804Z"
   },
   {
    "duration": 9,
    "start_time": "2023-05-30T23:24:28.813Z"
   },
   {
    "duration": 11,
    "start_time": "2023-05-30T23:24:28.824Z"
   },
   {
    "duration": 17,
    "start_time": "2023-05-30T23:24:28.836Z"
   },
   {
    "duration": 7,
    "start_time": "2023-05-30T23:24:28.854Z"
   },
   {
    "duration": 5,
    "start_time": "2023-05-30T23:24:28.863Z"
   },
   {
    "duration": 7,
    "start_time": "2023-05-30T23:24:28.870Z"
   },
   {
    "duration": 22,
    "start_time": "2023-05-30T23:24:28.878Z"
   },
   {
    "duration": 12,
    "start_time": "2023-05-30T23:24:28.903Z"
   },
   {
    "duration": 6,
    "start_time": "2023-05-30T23:24:28.917Z"
   },
   {
    "duration": 30,
    "start_time": "2023-05-30T23:24:28.924Z"
   },
   {
    "duration": 19,
    "start_time": "2023-05-30T23:24:28.955Z"
   },
   {
    "duration": 6,
    "start_time": "2023-05-30T23:24:28.976Z"
   },
   {
    "duration": 18,
    "start_time": "2023-05-30T23:24:28.983Z"
   },
   {
    "duration": 5,
    "start_time": "2023-05-30T23:24:29.003Z"
   },
   {
    "duration": 5,
    "start_time": "2023-05-30T23:24:29.009Z"
   },
   {
    "duration": 5,
    "start_time": "2023-05-30T23:24:29.016Z"
   },
   {
    "duration": 30,
    "start_time": "2023-05-30T23:24:29.023Z"
   },
   {
    "duration": 17,
    "start_time": "2023-05-30T23:24:29.055Z"
   },
   {
    "duration": 8,
    "start_time": "2023-05-30T23:24:29.074Z"
   },
   {
    "duration": 6,
    "start_time": "2023-05-30T23:24:29.088Z"
   },
   {
    "duration": 4,
    "start_time": "2023-05-30T23:24:29.096Z"
   },
   {
    "duration": 8,
    "start_time": "2023-05-30T23:24:29.102Z"
   },
   {
    "duration": 41,
    "start_time": "2023-05-30T23:24:29.112Z"
   },
   {
    "duration": 1159,
    "start_time": "2023-05-30T23:24:51.405Z"
   },
   {
    "duration": 150,
    "start_time": "2023-05-30T23:24:52.566Z"
   },
   {
    "duration": 11,
    "start_time": "2023-05-30T23:24:52.718Z"
   },
   {
    "duration": 25,
    "start_time": "2023-05-30T23:24:52.731Z"
   },
   {
    "duration": 11,
    "start_time": "2023-05-30T23:24:52.758Z"
   },
   {
    "duration": 9,
    "start_time": "2023-05-30T23:24:52.771Z"
   },
   {
    "duration": 31,
    "start_time": "2023-05-30T23:24:52.781Z"
   },
   {
    "duration": 21,
    "start_time": "2023-05-30T23:24:52.814Z"
   },
   {
    "duration": 77,
    "start_time": "2023-05-30T23:24:52.850Z"
   },
   {
    "duration": 108,
    "start_time": "2023-05-30T23:24:52.928Z"
   },
   {
    "duration": 67,
    "start_time": "2023-05-30T23:24:53.038Z"
   },
   {
    "duration": 16,
    "start_time": "2023-05-30T23:24:53.107Z"
   },
   {
    "duration": 30,
    "start_time": "2023-05-30T23:24:53.125Z"
   },
   {
    "duration": 8,
    "start_time": "2023-05-30T23:24:53.159Z"
   },
   {
    "duration": 9,
    "start_time": "2023-05-30T23:24:53.168Z"
   },
   {
    "duration": 125,
    "start_time": "2023-05-30T23:24:53.178Z"
   },
   {
    "duration": 9,
    "start_time": "2023-05-30T23:24:53.305Z"
   },
   {
    "duration": 37,
    "start_time": "2023-05-30T23:24:53.316Z"
   },
   {
    "duration": 6,
    "start_time": "2023-05-30T23:24:53.355Z"
   },
   {
    "duration": 9,
    "start_time": "2023-05-30T23:24:53.362Z"
   },
   {
    "duration": 11,
    "start_time": "2023-05-30T23:24:53.372Z"
   },
   {
    "duration": 9,
    "start_time": "2023-05-30T23:24:53.384Z"
   },
   {
    "duration": 11,
    "start_time": "2023-05-30T23:24:53.394Z"
   },
   {
    "duration": 7,
    "start_time": "2023-05-30T23:24:53.406Z"
   },
   {
    "duration": 10,
    "start_time": "2023-05-30T23:24:53.415Z"
   },
   {
    "duration": 6,
    "start_time": "2023-05-30T23:24:53.427Z"
   },
   {
    "duration": 5,
    "start_time": "2023-05-30T23:24:53.450Z"
   },
   {
    "duration": 13,
    "start_time": "2023-05-30T23:24:53.457Z"
   },
   {
    "duration": 10,
    "start_time": "2023-05-30T23:24:53.472Z"
   },
   {
    "duration": 21,
    "start_time": "2023-05-30T23:24:53.484Z"
   },
   {
    "duration": 17,
    "start_time": "2023-05-30T23:24:53.507Z"
   },
   {
    "duration": 4,
    "start_time": "2023-05-30T23:24:53.526Z"
   },
   {
    "duration": 25,
    "start_time": "2023-05-30T23:24:53.532Z"
   },
   {
    "duration": 7,
    "start_time": "2023-05-30T23:24:53.559Z"
   },
   {
    "duration": 5,
    "start_time": "2023-05-30T23:24:53.568Z"
   },
   {
    "duration": 5,
    "start_time": "2023-05-30T23:24:53.575Z"
   },
   {
    "duration": 8,
    "start_time": "2023-05-30T23:24:53.582Z"
   },
   {
    "duration": 11,
    "start_time": "2023-05-30T23:24:53.592Z"
   },
   {
    "duration": 1623,
    "start_time": "2023-05-30T23:24:53.604Z"
   },
   {
    "duration": 6,
    "start_time": "2023-05-30T23:24:55.228Z"
   },
   {
    "duration": 18,
    "start_time": "2023-05-30T23:24:55.239Z"
   },
   {
    "duration": 633,
    "start_time": "2023-05-30T23:24:55.258Z"
   },
   {
    "duration": 14,
    "start_time": "2023-05-30T23:24:55.892Z"
   },
   {
    "duration": 14,
    "start_time": "2023-05-30T23:24:55.907Z"
   },
   {
    "duration": 28,
    "start_time": "2023-05-30T23:24:55.923Z"
   },
   {
    "duration": 7,
    "start_time": "2023-05-30T23:24:55.953Z"
   },
   {
    "duration": 4,
    "start_time": "2023-05-30T23:24:55.962Z"
   },
   {
    "duration": 12,
    "start_time": "2023-05-30T23:24:55.967Z"
   },
   {
    "duration": 4,
    "start_time": "2023-05-30T23:24:55.981Z"
   },
   {
    "duration": 6,
    "start_time": "2023-05-30T23:24:55.987Z"
   },
   {
    "duration": 3,
    "start_time": "2023-05-30T23:24:55.994Z"
   },
   {
    "duration": 8,
    "start_time": "2023-05-30T23:24:55.999Z"
   },
   {
    "duration": 6,
    "start_time": "2023-05-30T23:24:56.009Z"
   },
   {
    "duration": 37,
    "start_time": "2023-05-30T23:24:56.016Z"
   },
   {
    "duration": 5,
    "start_time": "2023-05-30T23:24:56.054Z"
   },
   {
    "duration": 7,
    "start_time": "2023-05-30T23:24:56.060Z"
   },
   {
    "duration": 16,
    "start_time": "2023-05-30T23:24:56.069Z"
   },
   {
    "duration": 19,
    "start_time": "2023-05-30T23:24:56.086Z"
   },
   {
    "duration": 5,
    "start_time": "2023-05-30T23:24:56.106Z"
   },
   {
    "duration": 4,
    "start_time": "2023-05-30T23:24:56.113Z"
   },
   {
    "duration": 18,
    "start_time": "2023-05-30T23:24:56.151Z"
   },
   {
    "duration": 5,
    "start_time": "2023-05-30T23:24:56.171Z"
   },
   {
    "duration": 4,
    "start_time": "2023-05-30T23:24:56.178Z"
   },
   {
    "duration": 18,
    "start_time": "2023-05-30T23:24:56.184Z"
   },
   {
    "duration": 5,
    "start_time": "2023-05-30T23:24:56.204Z"
   },
   {
    "duration": 41,
    "start_time": "2023-05-30T23:24:56.210Z"
   },
   {
    "duration": 23,
    "start_time": "2023-05-30T23:24:56.253Z"
   },
   {
    "duration": 5,
    "start_time": "2023-05-30T23:24:56.277Z"
   },
   {
    "duration": 7,
    "start_time": "2023-05-30T23:24:56.284Z"
   },
   {
    "duration": 29,
    "start_time": "2023-05-30T23:24:56.293Z"
   },
   {
    "duration": 26,
    "start_time": "2023-05-30T23:24:56.324Z"
   },
   {
    "duration": 12,
    "start_time": "2023-05-30T23:24:56.352Z"
   },
   {
    "duration": 53,
    "start_time": "2023-05-30T23:24:56.365Z"
   },
   {
    "duration": 8,
    "start_time": "2023-05-30T23:24:56.420Z"
   },
   {
    "duration": 23,
    "start_time": "2023-05-30T23:24:56.429Z"
   },
   {
    "duration": 5,
    "start_time": "2023-05-30T23:24:56.453Z"
   },
   {
    "duration": 10,
    "start_time": "2023-05-30T23:24:56.459Z"
   },
   {
    "duration": 7,
    "start_time": "2023-05-30T23:24:56.470Z"
   },
   {
    "duration": 10,
    "start_time": "2023-05-30T23:24:56.479Z"
   },
   {
    "duration": 6,
    "start_time": "2023-05-30T23:24:56.490Z"
   },
   {
    "duration": 9,
    "start_time": "2023-05-30T23:24:56.497Z"
   },
   {
    "duration": 279,
    "start_time": "2023-05-30T23:24:56.508Z"
   },
   {
    "duration": 3,
    "start_time": "2023-05-30T23:24:56.788Z"
   },
   {
    "duration": 6,
    "start_time": "2023-05-30T23:24:56.792Z"
   },
   {
    "duration": 69,
    "start_time": "2023-05-30T23:24:56.800Z"
   },
   {
    "duration": 233,
    "start_time": "2023-05-30T23:24:56.871Z"
   },
   {
    "duration": 8,
    "start_time": "2023-05-30T23:24:57.105Z"
   },
   {
    "duration": 5,
    "start_time": "2023-05-30T23:24:57.114Z"
   },
   {
    "duration": 6,
    "start_time": "2023-05-30T23:24:57.121Z"
   },
   {
    "duration": 10,
    "start_time": "2023-05-30T23:24:57.128Z"
   },
   {
    "duration": 20,
    "start_time": "2023-05-30T23:24:57.139Z"
   },
   {
    "duration": 9,
    "start_time": "2023-05-30T23:24:57.160Z"
   },
   {
    "duration": 10,
    "start_time": "2023-05-30T23:24:57.171Z"
   },
   {
    "duration": 4,
    "start_time": "2023-05-30T23:24:57.182Z"
   },
   {
    "duration": 7,
    "start_time": "2023-05-30T23:24:57.187Z"
   },
   {
    "duration": 6,
    "start_time": "2023-05-30T23:24:57.196Z"
   },
   {
    "duration": 5,
    "start_time": "2023-05-30T23:24:57.203Z"
   },
   {
    "duration": 3,
    "start_time": "2023-05-30T23:24:57.209Z"
   },
   {
    "duration": 6,
    "start_time": "2023-05-30T23:24:57.214Z"
   },
   {
    "duration": 28,
    "start_time": "2023-05-30T23:24:57.222Z"
   },
   {
    "duration": 7,
    "start_time": "2023-05-30T23:24:57.252Z"
   },
   {
    "duration": 9,
    "start_time": "2023-05-30T23:24:57.260Z"
   },
   {
    "duration": 9,
    "start_time": "2023-05-30T23:24:57.270Z"
   },
   {
    "duration": 11,
    "start_time": "2023-05-30T23:24:57.281Z"
   },
   {
    "duration": 5,
    "start_time": "2023-05-30T23:24:57.293Z"
   },
   {
    "duration": 10,
    "start_time": "2023-05-30T23:24:57.299Z"
   },
   {
    "duration": 15,
    "start_time": "2023-05-30T23:24:57.310Z"
   },
   {
    "duration": 15,
    "start_time": "2023-05-30T23:24:57.326Z"
   },
   {
    "duration": 6,
    "start_time": "2023-05-30T23:24:57.350Z"
   },
   {
    "duration": 10,
    "start_time": "2023-05-30T23:24:57.358Z"
   },
   {
    "duration": 5,
    "start_time": "2023-05-30T23:24:57.370Z"
   },
   {
    "duration": 8,
    "start_time": "2023-05-30T23:24:57.376Z"
   },
   {
    "duration": 5,
    "start_time": "2023-05-30T23:24:57.385Z"
   },
   {
    "duration": 5,
    "start_time": "2023-05-30T23:24:57.391Z"
   },
   {
    "duration": 9,
    "start_time": "2023-05-30T23:24:57.397Z"
   },
   {
    "duration": 5,
    "start_time": "2023-05-30T23:24:57.407Z"
   },
   {
    "duration": 5,
    "start_time": "2023-05-30T23:24:57.451Z"
   },
   {
    "duration": 6,
    "start_time": "2023-05-30T23:24:57.457Z"
   },
   {
    "duration": 17,
    "start_time": "2023-05-30T23:24:57.464Z"
   },
   {
    "duration": 13,
    "start_time": "2023-05-30T23:24:57.482Z"
   },
   {
    "duration": 4,
    "start_time": "2023-05-30T23:24:57.497Z"
   },
   {
    "duration": 5,
    "start_time": "2023-05-30T23:24:57.507Z"
   },
   {
    "duration": 5,
    "start_time": "2023-05-30T23:24:57.514Z"
   },
   {
    "duration": 32,
    "start_time": "2023-05-30T23:24:57.520Z"
   },
   {
    "duration": 10,
    "start_time": "2023-05-30T23:24:57.553Z"
   },
   {
    "duration": 1395,
    "start_time": "2023-06-13T13:16:52.319Z"
   },
   {
    "duration": 791,
    "start_time": "2023-06-13T13:16:53.723Z"
   },
   {
    "duration": 19,
    "start_time": "2023-06-13T13:16:54.515Z"
   },
   {
    "duration": 35,
    "start_time": "2023-06-13T13:16:54.538Z"
   },
   {
    "duration": 3,
    "start_time": "2023-06-13T13:16:54.574Z"
   },
   {
    "duration": 56,
    "start_time": "2023-06-13T13:16:54.578Z"
   },
   {
    "duration": 31,
    "start_time": "2023-06-13T13:16:54.636Z"
   },
   {
    "duration": 30,
    "start_time": "2023-06-13T13:16:54.668Z"
   },
   {
    "duration": 152,
    "start_time": "2023-06-13T13:16:54.702Z"
   },
   {
    "duration": 103,
    "start_time": "2023-06-13T13:16:54.856Z"
   },
   {
    "duration": 66,
    "start_time": "2023-06-13T13:16:54.960Z"
   },
   {
    "duration": 42,
    "start_time": "2023-06-13T13:16:55.027Z"
   },
   {
    "duration": 41,
    "start_time": "2023-06-13T13:16:55.071Z"
   },
   {
    "duration": 16,
    "start_time": "2023-06-13T13:16:55.122Z"
   },
   {
    "duration": 20,
    "start_time": "2023-06-13T13:16:55.139Z"
   },
   {
    "duration": 143,
    "start_time": "2023-06-13T13:16:55.160Z"
   },
   {
    "duration": 10,
    "start_time": "2023-06-13T13:16:55.305Z"
   },
   {
    "duration": 45,
    "start_time": "2023-06-13T13:16:55.318Z"
   },
   {
    "duration": 15,
    "start_time": "2023-06-13T13:16:55.365Z"
   },
   {
    "duration": 64,
    "start_time": "2023-06-13T13:16:55.381Z"
   },
   {
    "duration": 20,
    "start_time": "2023-06-13T13:16:55.447Z"
   },
   {
    "duration": 59,
    "start_time": "2023-06-13T13:16:55.469Z"
   },
   {
    "duration": 15,
    "start_time": "2023-06-13T13:16:55.530Z"
   },
   {
    "duration": 7,
    "start_time": "2023-06-13T13:16:55.546Z"
   },
   {
    "duration": 69,
    "start_time": "2023-06-13T13:16:55.554Z"
   },
   {
    "duration": 20,
    "start_time": "2023-06-13T13:16:55.625Z"
   },
   {
    "duration": 9,
    "start_time": "2023-06-13T13:16:55.646Z"
   },
   {
    "duration": 22,
    "start_time": "2023-06-13T13:16:55.656Z"
   },
   {
    "duration": 57,
    "start_time": "2023-06-13T13:16:55.679Z"
   },
   {
    "duration": 38,
    "start_time": "2023-06-13T13:16:55.738Z"
   },
   {
    "duration": 5,
    "start_time": "2023-06-13T13:16:55.778Z"
   },
   {
    "duration": 58,
    "start_time": "2023-06-13T13:16:55.784Z"
   },
   {
    "duration": 19,
    "start_time": "2023-06-13T13:16:55.843Z"
   },
   {
    "duration": 6,
    "start_time": "2023-06-13T13:16:55.864Z"
   },
   {
    "duration": 74,
    "start_time": "2023-06-13T13:16:55.871Z"
   },
   {
    "duration": 22,
    "start_time": "2023-06-13T13:16:55.947Z"
   },
   {
    "duration": 43,
    "start_time": "2023-06-13T13:16:55.971Z"
   },
   {
    "duration": 17,
    "start_time": "2023-06-13T13:16:56.033Z"
   },
   {
    "duration": 1880,
    "start_time": "2023-06-13T13:16:56.052Z"
   },
   {
    "duration": 7,
    "start_time": "2023-06-13T13:16:57.933Z"
   },
   {
    "duration": 8,
    "start_time": "2023-06-13T13:16:57.946Z"
   },
   {
    "duration": 701,
    "start_time": "2023-06-13T13:16:57.955Z"
   },
   {
    "duration": 12,
    "start_time": "2023-06-13T13:16:58.658Z"
   },
   {
    "duration": 39,
    "start_time": "2023-06-13T13:16:58.671Z"
   },
   {
    "duration": 29,
    "start_time": "2023-06-13T13:16:58.722Z"
   },
   {
    "duration": 11,
    "start_time": "2023-06-13T13:16:58.753Z"
   },
   {
    "duration": 14,
    "start_time": "2023-06-13T13:16:58.765Z"
   },
   {
    "duration": 41,
    "start_time": "2023-06-13T13:16:58.780Z"
   },
   {
    "duration": 12,
    "start_time": "2023-06-13T13:16:58.832Z"
   },
   {
    "duration": 11,
    "start_time": "2023-06-13T13:16:58.846Z"
   },
   {
    "duration": 5,
    "start_time": "2023-06-13T13:16:58.859Z"
   },
   {
    "duration": 9,
    "start_time": "2023-06-13T13:16:58.865Z"
   },
   {
    "duration": 92,
    "start_time": "2023-06-13T13:16:58.875Z"
   },
   {
    "duration": 87,
    "start_time": "2023-06-13T13:16:58.968Z"
   },
   {
    "duration": 11,
    "start_time": "2023-06-13T13:16:59.056Z"
   },
   {
    "duration": 9,
    "start_time": "2023-06-13T13:16:59.068Z"
   },
   {
    "duration": 67,
    "start_time": "2023-06-13T13:16:59.078Z"
   },
   {
    "duration": 23,
    "start_time": "2023-06-13T13:16:59.147Z"
   },
   {
    "duration": 10,
    "start_time": "2023-06-13T13:16:59.172Z"
   },
   {
    "duration": 62,
    "start_time": "2023-06-13T13:16:59.184Z"
   },
   {
    "duration": 20,
    "start_time": "2023-06-13T13:16:59.248Z"
   },
   {
    "duration": 5,
    "start_time": "2023-06-13T13:16:59.270Z"
   },
   {
    "duration": 14,
    "start_time": "2023-06-13T13:16:59.276Z"
   },
   {
    "duration": 62,
    "start_time": "2023-06-13T13:16:59.297Z"
   },
   {
    "duration": 5,
    "start_time": "2023-06-13T13:16:59.361Z"
   },
   {
    "duration": 12,
    "start_time": "2023-06-13T13:16:59.368Z"
   },
   {
    "duration": 82,
    "start_time": "2023-06-13T13:16:59.381Z"
   },
   {
    "duration": 6,
    "start_time": "2023-06-13T13:16:59.465Z"
   },
   {
    "duration": 9,
    "start_time": "2023-06-13T13:16:59.472Z"
   },
   {
    "duration": 78,
    "start_time": "2023-06-13T13:16:59.483Z"
   },
   {
    "duration": 2,
    "start_time": "2023-06-13T13:16:59.562Z"
   },
   {
    "duration": 50,
    "start_time": "2023-06-13T13:16:59.566Z"
   },
   {
    "duration": 104,
    "start_time": "2023-06-13T13:16:59.626Z"
   },
   {
    "duration": 9,
    "start_time": "2023-06-13T13:16:59.735Z"
   },
   {
    "duration": 9,
    "start_time": "2023-06-13T13:16:59.745Z"
   },
   {
    "duration": 16,
    "start_time": "2023-06-13T13:16:59.755Z"
   },
   {
    "duration": 74,
    "start_time": "2023-06-13T13:16:59.772Z"
   },
   {
    "duration": 17,
    "start_time": "2023-06-13T13:16:59.847Z"
   },
   {
    "duration": 14,
    "start_time": "2023-06-13T13:16:59.865Z"
   },
   {
    "duration": 14,
    "start_time": "2023-06-13T13:16:59.881Z"
   },
   {
    "duration": 47,
    "start_time": "2023-06-13T13:16:59.896Z"
   },
   {
    "duration": 276,
    "start_time": "2023-06-13T13:16:59.944Z"
   },
   {
    "duration": 5,
    "start_time": "2023-06-13T13:17:00.221Z"
   },
   {
    "duration": 6,
    "start_time": "2023-06-13T13:17:00.227Z"
   },
   {
    "duration": 83,
    "start_time": "2023-06-13T13:17:00.237Z"
   },
   {
    "duration": 226,
    "start_time": "2023-06-13T13:17:00.322Z"
   },
   {
    "duration": 7,
    "start_time": "2023-06-13T13:17:00.550Z"
   },
   {
    "duration": 60,
    "start_time": "2023-06-13T13:17:00.558Z"
   },
   {
    "duration": 44,
    "start_time": "2023-06-13T13:17:00.627Z"
   },
   {
    "duration": 158,
    "start_time": "2023-06-13T13:17:00.672Z"
   },
   {
    "duration": 32,
    "start_time": "2023-06-13T13:17:00.832Z"
   },
   {
    "duration": 82,
    "start_time": "2023-06-13T13:17:00.865Z"
   },
   {
    "duration": 78,
    "start_time": "2023-06-13T13:17:00.948Z"
   },
   {
    "duration": 113,
    "start_time": "2023-06-13T13:17:01.027Z"
   },
   {
    "duration": 94,
    "start_time": "2023-06-13T13:17:01.141Z"
   },
   {
    "duration": 28,
    "start_time": "2023-06-13T13:17:01.236Z"
   },
   {
    "duration": 79,
    "start_time": "2023-06-13T13:17:01.265Z"
   },
   {
    "duration": 35,
    "start_time": "2023-06-13T13:17:01.345Z"
   },
   {
    "duration": 72,
    "start_time": "2023-06-13T13:17:01.381Z"
   },
   {
    "duration": 88,
    "start_time": "2023-06-13T13:17:01.454Z"
   },
   {
    "duration": 78,
    "start_time": "2023-06-13T13:17:01.544Z"
   },
   {
    "duration": 43,
    "start_time": "2023-06-13T13:17:01.623Z"
   },
   {
    "duration": 91,
    "start_time": "2023-06-13T13:17:01.667Z"
   },
   {
    "duration": 85,
    "start_time": "2023-06-13T13:17:01.759Z"
   },
   {
    "duration": 48,
    "start_time": "2023-06-13T13:17:01.845Z"
   },
   {
    "duration": 86,
    "start_time": "2023-06-13T13:17:01.894Z"
   },
   {
    "duration": 117,
    "start_time": "2023-06-13T13:17:01.981Z"
   },
   {
    "duration": 357,
    "start_time": "2023-06-13T13:17:02.099Z"
   },
   {
    "duration": 209,
    "start_time": "2023-06-13T13:17:02.458Z"
   },
   {
    "duration": 106,
    "start_time": "2023-06-13T13:17:02.669Z"
   },
   {
    "duration": 66,
    "start_time": "2023-06-13T13:17:02.776Z"
   },
   {
    "duration": 85,
    "start_time": "2023-06-13T13:17:02.843Z"
   },
   {
    "duration": 37,
    "start_time": "2023-06-13T13:17:02.929Z"
   },
   {
    "duration": 70,
    "start_time": "2023-06-13T13:17:02.968Z"
   },
   {
    "duration": 29,
    "start_time": "2023-06-13T13:17:03.040Z"
   },
   {
    "duration": 67,
    "start_time": "2023-06-13T13:17:03.071Z"
   },
   {
    "duration": 25,
    "start_time": "2023-06-13T13:17:03.139Z"
   },
   {
    "duration": 5,
    "start_time": "2023-06-13T13:17:03.166Z"
   },
   {
    "duration": 15,
    "start_time": "2023-06-13T13:17:03.173Z"
   },
   {
    "duration": 69,
    "start_time": "2023-06-13T13:17:03.189Z"
   },
   {
    "duration": 70,
    "start_time": "2023-06-13T13:17:03.259Z"
   },
   {
    "duration": 11,
    "start_time": "2023-06-13T13:17:03.336Z"
   },
   {
    "duration": 20,
    "start_time": "2023-06-13T13:17:03.349Z"
   },
   {
    "duration": 10,
    "start_time": "2023-06-13T13:17:03.370Z"
   },
   {
    "duration": 58,
    "start_time": "2023-06-13T13:17:03.382Z"
   },
   {
    "duration": 1394,
    "start_time": "2023-07-18T14:10:33.484Z"
   },
   {
    "duration": 519,
    "start_time": "2023-07-18T14:10:34.881Z"
   },
   {
    "duration": 11,
    "start_time": "2023-07-18T14:10:35.401Z"
   },
   {
    "duration": 41,
    "start_time": "2023-07-18T14:10:35.414Z"
   },
   {
    "duration": 9,
    "start_time": "2023-07-18T14:10:35.457Z"
   },
   {
    "duration": 23,
    "start_time": "2023-07-18T14:10:35.468Z"
   },
   {
    "duration": 42,
    "start_time": "2023-07-18T14:10:35.493Z"
   },
   {
    "duration": 33,
    "start_time": "2023-07-18T14:10:35.537Z"
   },
   {
    "duration": 81,
    "start_time": "2023-07-18T14:10:35.572Z"
   },
   {
    "duration": 106,
    "start_time": "2023-07-18T14:10:35.656Z"
   },
   {
    "duration": 72,
    "start_time": "2023-07-18T14:10:35.764Z"
   },
   {
    "duration": 19,
    "start_time": "2023-07-18T14:10:35.837Z"
   },
   {
    "duration": 20,
    "start_time": "2023-07-18T14:10:35.858Z"
   },
   {
    "duration": 16,
    "start_time": "2023-07-18T14:10:35.879Z"
   },
   {
    "duration": 11,
    "start_time": "2023-07-18T14:10:35.897Z"
   },
   {
    "duration": 147,
    "start_time": "2023-07-18T14:10:35.919Z"
   },
   {
    "duration": 27,
    "start_time": "2023-07-18T14:10:36.067Z"
   },
   {
    "duration": 67,
    "start_time": "2023-07-18T14:10:36.095Z"
   },
   {
    "duration": 41,
    "start_time": "2023-07-18T14:10:36.163Z"
   },
   {
    "duration": 57,
    "start_time": "2023-07-18T14:10:36.206Z"
   },
   {
    "duration": 52,
    "start_time": "2023-07-18T14:10:36.265Z"
   },
   {
    "duration": 16,
    "start_time": "2023-07-18T14:10:36.319Z"
   },
   {
    "duration": 31,
    "start_time": "2023-07-18T14:10:36.337Z"
   },
   {
    "duration": 35,
    "start_time": "2023-07-18T14:10:36.370Z"
   },
   {
    "duration": 22,
    "start_time": "2023-07-18T14:10:36.407Z"
   },
   {
    "duration": 25,
    "start_time": "2023-07-18T14:10:36.431Z"
   },
   {
    "duration": 44,
    "start_time": "2023-07-18T14:10:36.458Z"
   },
   {
    "duration": 26,
    "start_time": "2023-07-18T14:10:36.506Z"
   },
   {
    "duration": 20,
    "start_time": "2023-07-18T14:10:36.534Z"
   },
   {
    "duration": 54,
    "start_time": "2023-07-18T14:10:36.555Z"
   },
   {
    "duration": 12,
    "start_time": "2023-07-18T14:10:36.611Z"
   },
   {
    "duration": 24,
    "start_time": "2023-07-18T14:10:36.625Z"
   },
   {
    "duration": 47,
    "start_time": "2023-07-18T14:10:36.651Z"
   },
   {
    "duration": 20,
    "start_time": "2023-07-18T14:10:36.699Z"
   },
   {
    "duration": 30,
    "start_time": "2023-07-18T14:10:36.720Z"
   },
   {
    "duration": 32,
    "start_time": "2023-07-18T14:10:36.752Z"
   },
   {
    "duration": 47,
    "start_time": "2023-07-18T14:10:36.786Z"
   },
   {
    "duration": 21,
    "start_time": "2023-07-18T14:10:36.834Z"
   },
   {
    "duration": 1542,
    "start_time": "2023-07-18T14:10:36.857Z"
   },
   {
    "duration": 7,
    "start_time": "2023-07-18T14:10:38.401Z"
   },
   {
    "duration": 60,
    "start_time": "2023-07-18T14:10:38.409Z"
   },
   {
    "duration": 678,
    "start_time": "2023-07-18T14:10:38.471Z"
   },
   {
    "duration": 13,
    "start_time": "2023-07-18T14:10:39.151Z"
   },
   {
    "duration": 22,
    "start_time": "2023-07-18T14:10:39.166Z"
   },
   {
    "duration": 25,
    "start_time": "2023-07-18T14:10:39.190Z"
   },
   {
    "duration": 45,
    "start_time": "2023-07-18T14:10:39.217Z"
   },
   {
    "duration": 78,
    "start_time": "2023-07-18T14:10:39.264Z"
   },
   {
    "duration": 85,
    "start_time": "2023-07-18T14:10:39.344Z"
   },
   {
    "duration": 64,
    "start_time": "2023-07-18T14:10:39.430Z"
   },
   {
    "duration": 96,
    "start_time": "2023-07-18T14:10:39.496Z"
   },
   {
    "duration": 17,
    "start_time": "2023-07-18T14:10:39.594Z"
   },
   {
    "duration": 50,
    "start_time": "2023-07-18T14:10:39.613Z"
   },
   {
    "duration": 17,
    "start_time": "2023-07-18T14:10:39.665Z"
   },
   {
    "duration": 42,
    "start_time": "2023-07-18T14:10:39.684Z"
   },
   {
    "duration": 28,
    "start_time": "2023-07-18T14:10:39.728Z"
   },
   {
    "duration": 46,
    "start_time": "2023-07-18T14:10:39.757Z"
   },
   {
    "duration": 41,
    "start_time": "2023-07-18T14:10:39.805Z"
   },
   {
    "duration": 51,
    "start_time": "2023-07-18T14:10:39.847Z"
   },
   {
    "duration": 50,
    "start_time": "2023-07-18T14:10:39.899Z"
   },
   {
    "duration": 45,
    "start_time": "2023-07-18T14:10:39.951Z"
   },
   {
    "duration": 68,
    "start_time": "2023-07-18T14:10:39.998Z"
   },
   {
    "duration": 63,
    "start_time": "2023-07-18T14:10:40.068Z"
   },
   {
    "duration": 19,
    "start_time": "2023-07-18T14:10:40.133Z"
   },
   {
    "duration": 50,
    "start_time": "2023-07-18T14:10:40.153Z"
   },
   {
    "duration": 18,
    "start_time": "2023-07-18T14:10:40.204Z"
   },
   {
    "duration": 34,
    "start_time": "2023-07-18T14:10:40.223Z"
   },
   {
    "duration": 55,
    "start_time": "2023-07-18T14:10:40.258Z"
   },
   {
    "duration": 34,
    "start_time": "2023-07-18T14:10:40.314Z"
   },
   {
    "duration": 40,
    "start_time": "2023-07-18T14:10:40.350Z"
   },
   {
    "duration": 48,
    "start_time": "2023-07-18T14:10:40.391Z"
   },
   {
    "duration": 12,
    "start_time": "2023-07-18T14:10:40.440Z"
   },
   {
    "duration": 39,
    "start_time": "2023-07-18T14:10:40.453Z"
   },
   {
    "duration": 81,
    "start_time": "2023-07-18T14:10:40.494Z"
   },
   {
    "duration": 9,
    "start_time": "2023-07-18T14:10:40.577Z"
   },
   {
    "duration": 72,
    "start_time": "2023-07-18T14:10:40.587Z"
   },
   {
    "duration": 7,
    "start_time": "2023-07-18T14:10:40.660Z"
   },
   {
    "duration": 44,
    "start_time": "2023-07-18T14:10:40.669Z"
   },
   {
    "duration": 47,
    "start_time": "2023-07-18T14:10:40.715Z"
   },
   {
    "duration": 34,
    "start_time": "2023-07-18T14:10:40.763Z"
   },
   {
    "duration": 28,
    "start_time": "2023-07-18T14:10:40.798Z"
   },
   {
    "duration": 39,
    "start_time": "2023-07-18T14:10:40.828Z"
   },
   {
    "duration": 217,
    "start_time": "2023-07-18T14:10:40.873Z"
   },
   {
    "duration": 3,
    "start_time": "2023-07-18T14:10:41.093Z"
   },
   {
    "duration": 91,
    "start_time": "2023-07-18T14:10:41.097Z"
   },
   {
    "duration": 64,
    "start_time": "2023-07-18T14:10:41.190Z"
   },
   {
    "duration": 129,
    "start_time": "2023-07-18T14:10:41.256Z"
   },
   {
    "duration": 9,
    "start_time": "2023-07-18T14:10:41.387Z"
   },
   {
    "duration": 58,
    "start_time": "2023-07-18T14:10:41.397Z"
   },
   {
    "duration": 48,
    "start_time": "2023-07-18T14:10:41.457Z"
   },
   {
    "duration": 23,
    "start_time": "2023-07-18T14:10:41.506Z"
   },
   {
    "duration": 46,
    "start_time": "2023-07-18T14:10:41.530Z"
   },
   {
    "duration": 52,
    "start_time": "2023-07-18T14:10:41.578Z"
   },
   {
    "duration": 30,
    "start_time": "2023-07-18T14:10:41.632Z"
   },
   {
    "duration": 30,
    "start_time": "2023-07-18T14:10:41.664Z"
   },
   {
    "duration": 139,
    "start_time": "2023-07-18T14:10:41.696Z"
   },
   {
    "duration": 115,
    "start_time": "2023-07-18T14:10:41.836Z"
   },
   {
    "duration": 51,
    "start_time": "2023-07-18T14:10:41.953Z"
   },
   {
    "duration": 43,
    "start_time": "2023-07-18T14:10:42.006Z"
   },
   {
    "duration": 50,
    "start_time": "2023-07-18T14:10:42.051Z"
   },
   {
    "duration": 91,
    "start_time": "2023-07-18T14:10:42.103Z"
   },
   {
    "duration": 30,
    "start_time": "2023-07-18T14:10:42.196Z"
   },
   {
    "duration": 38,
    "start_time": "2023-07-18T14:10:42.228Z"
   },
   {
    "duration": 86,
    "start_time": "2023-07-18T14:10:42.267Z"
   },
   {
    "duration": 44,
    "start_time": "2023-07-18T14:10:42.354Z"
   },
   {
    "duration": 42,
    "start_time": "2023-07-18T14:10:42.400Z"
   },
   {
    "duration": 71,
    "start_time": "2023-07-18T14:10:42.443Z"
   },
   {
    "duration": 52,
    "start_time": "2023-07-18T14:10:42.516Z"
   },
   {
    "duration": 35,
    "start_time": "2023-07-18T14:10:42.570Z"
   },
   {
    "duration": 50,
    "start_time": "2023-07-18T14:10:42.607Z"
   },
   {
    "duration": 63,
    "start_time": "2023-07-18T14:10:42.659Z"
   },
   {
    "duration": 29,
    "start_time": "2023-07-18T14:10:42.724Z"
   },
   {
    "duration": 74,
    "start_time": "2023-07-18T14:10:42.755Z"
   },
   {
    "duration": 182,
    "start_time": "2023-07-18T14:10:42.831Z"
   },
   {
    "duration": 72,
    "start_time": "2023-07-18T14:10:43.014Z"
   },
   {
    "duration": 23,
    "start_time": "2023-07-18T14:10:43.088Z"
   },
   {
    "duration": 9,
    "start_time": "2023-07-18T14:10:43.112Z"
   },
   {
    "duration": 17,
    "start_time": "2023-07-18T14:10:43.122Z"
   },
   {
    "duration": 9,
    "start_time": "2023-07-18T14:10:43.141Z"
   },
   {
    "duration": 7,
    "start_time": "2023-07-18T14:10:43.151Z"
   },
   {
    "duration": 11,
    "start_time": "2023-07-18T14:10:43.160Z"
   },
   {
    "duration": 7,
    "start_time": "2023-07-18T14:10:43.173Z"
   },
   {
    "duration": 16,
    "start_time": "2023-07-18T14:10:43.182Z"
   },
   {
    "duration": 11,
    "start_time": "2023-07-18T14:10:43.199Z"
   },
   {
    "duration": 21,
    "start_time": "2023-07-18T14:10:43.211Z"
   },
   {
    "duration": 10,
    "start_time": "2023-07-18T14:10:43.234Z"
   },
   {
    "duration": 1257,
    "start_time": "2023-07-24T08:45:19.919Z"
   },
   {
    "duration": 495,
    "start_time": "2023-07-24T08:45:21.178Z"
   },
   {
    "duration": 11,
    "start_time": "2023-07-24T08:45:21.675Z"
   },
   {
    "duration": 26,
    "start_time": "2023-07-24T08:45:21.688Z"
   },
   {
    "duration": 3,
    "start_time": "2023-07-24T08:45:21.715Z"
   },
   {
    "duration": 14,
    "start_time": "2023-07-24T08:45:21.720Z"
   },
   {
    "duration": 49,
    "start_time": "2023-07-24T08:45:21.736Z"
   },
   {
    "duration": 25,
    "start_time": "2023-07-24T08:45:21.787Z"
   },
   {
    "duration": 86,
    "start_time": "2023-07-24T08:45:21.813Z"
   },
   {
    "duration": 108,
    "start_time": "2023-07-24T08:45:21.902Z"
   },
   {
    "duration": 75,
    "start_time": "2023-07-24T08:45:22.011Z"
   },
   {
    "duration": 16,
    "start_time": "2023-07-24T08:45:22.087Z"
   },
   {
    "duration": 30,
    "start_time": "2023-07-24T08:45:22.104Z"
   },
   {
    "duration": 7,
    "start_time": "2023-07-24T08:45:22.138Z"
   },
   {
    "duration": 23,
    "start_time": "2023-07-24T08:45:22.146Z"
   },
   {
    "duration": 140,
    "start_time": "2023-07-24T08:45:22.171Z"
   },
   {
    "duration": 10,
    "start_time": "2023-07-24T08:45:22.312Z"
   },
   {
    "duration": 47,
    "start_time": "2023-07-24T08:45:22.323Z"
   },
   {
    "duration": 7,
    "start_time": "2023-07-24T08:45:22.372Z"
   },
   {
    "duration": 4,
    "start_time": "2023-07-24T08:45:22.381Z"
   },
   {
    "duration": 8,
    "start_time": "2023-07-24T08:45:22.386Z"
   },
   {
    "duration": 14,
    "start_time": "2023-07-24T08:45:22.396Z"
   },
   {
    "duration": 21,
    "start_time": "2023-07-24T08:45:22.412Z"
   },
   {
    "duration": 18,
    "start_time": "2023-07-24T08:45:22.435Z"
   },
   {
    "duration": 19,
    "start_time": "2023-07-24T08:45:22.456Z"
   },
   {
    "duration": 8,
    "start_time": "2023-07-24T08:45:22.477Z"
   },
   {
    "duration": 14,
    "start_time": "2023-07-24T08:45:22.486Z"
   },
   {
    "duration": 23,
    "start_time": "2023-07-24T08:45:22.506Z"
   },
   {
    "duration": 30,
    "start_time": "2023-07-24T08:45:22.531Z"
   },
   {
    "duration": 23,
    "start_time": "2023-07-24T08:45:22.562Z"
   },
   {
    "duration": 6,
    "start_time": "2023-07-24T08:45:22.586Z"
   },
   {
    "duration": 6,
    "start_time": "2023-07-24T08:45:22.593Z"
   },
   {
    "duration": 40,
    "start_time": "2023-07-24T08:45:22.600Z"
   },
   {
    "duration": 14,
    "start_time": "2023-07-24T08:45:22.642Z"
   },
   {
    "duration": 7,
    "start_time": "2023-07-24T08:45:22.658Z"
   },
   {
    "duration": 12,
    "start_time": "2023-07-24T08:45:22.666Z"
   },
   {
    "duration": 10,
    "start_time": "2023-07-24T08:45:22.679Z"
   },
   {
    "duration": 10,
    "start_time": "2023-07-24T08:45:22.690Z"
   },
   {
    "duration": 1687,
    "start_time": "2023-07-24T08:45:22.702Z"
   },
   {
    "duration": 6,
    "start_time": "2023-07-24T08:45:24.391Z"
   },
   {
    "duration": 60,
    "start_time": "2023-07-24T08:45:24.398Z"
   },
   {
    "duration": 746,
    "start_time": "2023-07-24T08:45:24.460Z"
   },
   {
    "duration": 23,
    "start_time": "2023-07-24T08:45:25.208Z"
   },
   {
    "duration": 14,
    "start_time": "2023-07-24T08:45:25.233Z"
   },
   {
    "duration": 17,
    "start_time": "2023-07-24T08:45:25.249Z"
   },
   {
    "duration": 13,
    "start_time": "2023-07-24T08:45:25.267Z"
   },
   {
    "duration": 4,
    "start_time": "2023-07-24T08:45:25.281Z"
   },
   {
    "duration": 29,
    "start_time": "2023-07-24T08:45:25.287Z"
   },
   {
    "duration": 15,
    "start_time": "2023-07-24T08:45:25.318Z"
   },
   {
    "duration": 17,
    "start_time": "2023-07-24T08:45:25.335Z"
   },
   {
    "duration": 12,
    "start_time": "2023-07-24T08:45:25.355Z"
   },
   {
    "duration": 7,
    "start_time": "2023-07-24T08:45:25.368Z"
   },
   {
    "duration": 5,
    "start_time": "2023-07-24T08:45:25.376Z"
   },
   {
    "duration": 8,
    "start_time": "2023-07-24T08:45:25.383Z"
   },
   {
    "duration": 6,
    "start_time": "2023-07-24T08:45:25.392Z"
   },
   {
    "duration": 8,
    "start_time": "2023-07-24T08:45:25.399Z"
   },
   {
    "duration": 31,
    "start_time": "2023-07-24T08:45:25.408Z"
   },
   {
    "duration": 26,
    "start_time": "2023-07-24T08:45:25.441Z"
   },
   {
    "duration": 15,
    "start_time": "2023-07-24T08:45:25.468Z"
   },
   {
    "duration": 7,
    "start_time": "2023-07-24T08:45:25.485Z"
   },
   {
    "duration": 21,
    "start_time": "2023-07-24T08:45:25.494Z"
   },
   {
    "duration": 4,
    "start_time": "2023-07-24T08:45:25.517Z"
   },
   {
    "duration": 10,
    "start_time": "2023-07-24T08:45:25.523Z"
   },
   {
    "duration": 34,
    "start_time": "2023-07-24T08:45:25.534Z"
   },
   {
    "duration": 5,
    "start_time": "2023-07-24T08:45:25.570Z"
   },
   {
    "duration": 6,
    "start_time": "2023-07-24T08:45:25.576Z"
   },
   {
    "duration": 28,
    "start_time": "2023-07-24T08:45:25.583Z"
   },
   {
    "duration": 4,
    "start_time": "2023-07-24T08:45:25.613Z"
   },
   {
    "duration": 7,
    "start_time": "2023-07-24T08:45:25.618Z"
   },
   {
    "duration": 44,
    "start_time": "2023-07-24T08:45:25.626Z"
   },
   {
    "duration": 3,
    "start_time": "2023-07-24T08:45:25.672Z"
   },
   {
    "duration": 15,
    "start_time": "2023-07-24T08:45:25.676Z"
   },
   {
    "duration": 68,
    "start_time": "2023-07-24T08:45:25.693Z"
   },
   {
    "duration": 9,
    "start_time": "2023-07-24T08:45:25.763Z"
   },
   {
    "duration": 8,
    "start_time": "2023-07-24T08:45:25.773Z"
   },
   {
    "duration": 6,
    "start_time": "2023-07-24T08:45:25.782Z"
   },
   {
    "duration": 11,
    "start_time": "2023-07-24T08:45:25.789Z"
   },
   {
    "duration": 13,
    "start_time": "2023-07-24T08:45:25.801Z"
   },
   {
    "duration": 19,
    "start_time": "2023-07-24T08:45:25.815Z"
   },
   {
    "duration": 17,
    "start_time": "2023-07-24T08:45:25.835Z"
   },
   {
    "duration": 23,
    "start_time": "2023-07-24T08:45:25.854Z"
   },
   {
    "duration": 191,
    "start_time": "2023-07-24T08:45:25.882Z"
   },
   {
    "duration": 2,
    "start_time": "2023-07-24T08:45:26.074Z"
   },
   {
    "duration": 10,
    "start_time": "2023-07-24T08:45:26.078Z"
   },
   {
    "duration": 61,
    "start_time": "2023-07-24T08:45:26.089Z"
   },
   {
    "duration": 197,
    "start_time": "2023-07-24T08:45:26.152Z"
   },
   {
    "duration": 8,
    "start_time": "2023-07-24T08:45:26.353Z"
   },
   {
    "duration": 14,
    "start_time": "2023-07-24T08:45:26.363Z"
   },
   {
    "duration": 14,
    "start_time": "2023-07-24T08:45:26.378Z"
   },
   {
    "duration": 12,
    "start_time": "2023-07-24T08:45:26.393Z"
   },
   {
    "duration": 15,
    "start_time": "2023-07-24T08:45:26.407Z"
   },
   {
    "duration": 7,
    "start_time": "2023-07-24T08:45:26.423Z"
   },
   {
    "duration": 10,
    "start_time": "2023-07-24T08:45:26.431Z"
   },
   {
    "duration": 17,
    "start_time": "2023-07-24T08:45:26.443Z"
   },
   {
    "duration": 12,
    "start_time": "2023-07-24T08:45:26.461Z"
   },
   {
    "duration": 81,
    "start_time": "2023-07-24T08:45:26.474Z"
   },
   {
    "duration": 17,
    "start_time": "2023-07-24T08:45:26.557Z"
   },
   {
    "duration": 17,
    "start_time": "2023-07-24T08:45:26.576Z"
   },
   {
    "duration": 15,
    "start_time": "2023-07-24T08:45:26.595Z"
   },
   {
    "duration": 9,
    "start_time": "2023-07-24T08:45:26.611Z"
   },
   {
    "duration": 9,
    "start_time": "2023-07-24T08:45:26.622Z"
   },
   {
    "duration": 17,
    "start_time": "2023-07-24T08:45:26.637Z"
   },
   {
    "duration": 11,
    "start_time": "2023-07-24T08:45:26.656Z"
   },
   {
    "duration": 13,
    "start_time": "2023-07-24T08:45:26.668Z"
   },
   {
    "duration": 6,
    "start_time": "2023-07-24T08:45:26.683Z"
   },
   {
    "duration": 21,
    "start_time": "2023-07-24T08:45:26.691Z"
   },
   {
    "duration": 8,
    "start_time": "2023-07-24T08:45:26.713Z"
   },
   {
    "duration": 7,
    "start_time": "2023-07-24T08:45:26.723Z"
   },
   {
    "duration": 14,
    "start_time": "2023-07-24T08:45:26.731Z"
   },
   {
    "duration": 13,
    "start_time": "2023-07-24T08:45:26.747Z"
   },
   {
    "duration": 8,
    "start_time": "2023-07-24T08:45:26.761Z"
   },
   {
    "duration": 12,
    "start_time": "2023-07-24T08:45:26.770Z"
   },
   {
    "duration": 9,
    "start_time": "2023-07-24T08:45:26.783Z"
   },
   {
    "duration": 11,
    "start_time": "2023-07-24T08:45:26.793Z"
   },
   {
    "duration": 14,
    "start_time": "2023-07-24T08:45:26.805Z"
   },
   {
    "duration": 8,
    "start_time": "2023-07-24T08:45:26.821Z"
   },
   {
    "duration": 12,
    "start_time": "2023-07-24T08:45:26.831Z"
   },
   {
    "duration": 10,
    "start_time": "2023-07-24T08:45:26.844Z"
   },
   {
    "duration": 10,
    "start_time": "2023-07-24T08:45:26.856Z"
   },
   {
    "duration": 11,
    "start_time": "2023-07-24T08:45:26.868Z"
   },
   {
    "duration": 12,
    "start_time": "2023-07-24T08:45:26.881Z"
   },
   {
    "duration": 13,
    "start_time": "2023-07-24T08:45:26.895Z"
   },
   {
    "duration": 7,
    "start_time": "2023-07-24T08:45:26.910Z"
   },
   {
    "duration": 13,
    "start_time": "2023-07-24T08:45:26.919Z"
   },
   {
    "duration": 13,
    "start_time": "2023-07-24T08:45:26.935Z"
   },
   {
    "duration": 52,
    "start_time": "2023-07-24T14:46:26.885Z"
   },
   {
    "duration": 1378,
    "start_time": "2023-07-24T14:46:35.066Z"
   },
   {
    "duration": 674,
    "start_time": "2023-07-24T14:46:36.446Z"
   },
   {
    "duration": 13,
    "start_time": "2023-07-24T14:46:37.122Z"
   },
   {
    "duration": 34,
    "start_time": "2023-07-24T14:46:37.137Z"
   },
   {
    "duration": 18,
    "start_time": "2023-07-24T14:46:37.175Z"
   },
   {
    "duration": 18,
    "start_time": "2023-07-24T14:46:37.195Z"
   },
   {
    "duration": 34,
    "start_time": "2023-07-24T14:46:37.216Z"
   },
   {
    "duration": 41,
    "start_time": "2023-07-24T14:46:37.252Z"
   },
   {
    "duration": 102,
    "start_time": "2023-07-24T14:46:37.297Z"
   },
   {
    "duration": 154,
    "start_time": "2023-07-24T14:46:37.403Z"
   },
   {
    "duration": 78,
    "start_time": "2023-07-24T14:46:37.559Z"
   },
   {
    "duration": 31,
    "start_time": "2023-07-24T14:46:37.639Z"
   },
   {
    "duration": 29,
    "start_time": "2023-07-24T14:46:37.672Z"
   },
   {
    "duration": 9,
    "start_time": "2023-07-24T14:46:37.703Z"
   },
   {
    "duration": 15,
    "start_time": "2023-07-24T14:46:37.713Z"
   },
   {
    "duration": 142,
    "start_time": "2023-07-24T14:46:37.730Z"
   },
   {
    "duration": 14,
    "start_time": "2023-07-24T14:46:37.874Z"
   },
   {
    "duration": 33,
    "start_time": "2023-07-24T14:46:37.890Z"
   },
   {
    "duration": 7,
    "start_time": "2023-07-24T14:46:37.924Z"
   },
   {
    "duration": 49,
    "start_time": "2023-07-24T14:46:37.933Z"
   },
   {
    "duration": 9,
    "start_time": "2023-07-24T14:46:37.984Z"
   },
   {
    "duration": 10,
    "start_time": "2023-07-24T14:46:37.994Z"
   },
   {
    "duration": 12,
    "start_time": "2023-07-24T14:46:38.006Z"
   },
   {
    "duration": 9,
    "start_time": "2023-07-24T14:46:38.020Z"
   },
   {
    "duration": 14,
    "start_time": "2023-07-24T14:46:38.030Z"
   },
   {
    "duration": 15,
    "start_time": "2023-07-24T14:46:38.046Z"
   },
   {
    "duration": 28,
    "start_time": "2023-07-24T14:46:38.065Z"
   },
   {
    "duration": 10,
    "start_time": "2023-07-24T14:46:38.098Z"
   },
   {
    "duration": 8,
    "start_time": "2023-07-24T14:46:38.110Z"
   },
   {
    "duration": 20,
    "start_time": "2023-07-24T14:46:38.120Z"
   },
   {
    "duration": 7,
    "start_time": "2023-07-24T14:46:38.142Z"
   },
   {
    "duration": 33,
    "start_time": "2023-07-24T14:46:38.150Z"
   },
   {
    "duration": 33,
    "start_time": "2023-07-24T14:46:38.185Z"
   },
   {
    "duration": 15,
    "start_time": "2023-07-24T14:46:38.220Z"
   },
   {
    "duration": 13,
    "start_time": "2023-07-24T14:46:38.238Z"
   },
   {
    "duration": 37,
    "start_time": "2023-07-24T14:46:38.256Z"
   },
   {
    "duration": 16,
    "start_time": "2023-07-24T14:46:38.295Z"
   },
   {
    "duration": 14,
    "start_time": "2023-07-24T14:46:38.314Z"
   },
   {
    "duration": 2064,
    "start_time": "2023-07-24T14:46:38.330Z"
   },
   {
    "duration": 8,
    "start_time": "2023-07-24T14:46:40.395Z"
   },
   {
    "duration": 98,
    "start_time": "2023-07-24T14:46:40.405Z"
   },
   {
    "duration": 856,
    "start_time": "2023-07-24T14:46:40.504Z"
   },
   {
    "duration": 19,
    "start_time": "2023-07-24T14:46:41.370Z"
   },
   {
    "duration": 16,
    "start_time": "2023-07-24T14:46:41.392Z"
   },
   {
    "duration": 10,
    "start_time": "2023-07-24T14:46:41.410Z"
   },
   {
    "duration": 14,
    "start_time": "2023-07-24T14:46:41.421Z"
   },
   {
    "duration": 4,
    "start_time": "2023-07-24T14:46:41.437Z"
   },
   {
    "duration": 25,
    "start_time": "2023-07-24T14:46:41.459Z"
   },
   {
    "duration": 12,
    "start_time": "2023-07-24T14:46:41.487Z"
   },
   {
    "duration": 7,
    "start_time": "2023-07-24T14:46:41.501Z"
   },
   {
    "duration": 7,
    "start_time": "2023-07-24T14:46:41.510Z"
   },
   {
    "duration": 7,
    "start_time": "2023-07-24T14:46:41.518Z"
   },
   {
    "duration": 5,
    "start_time": "2023-07-24T14:46:41.527Z"
   },
   {
    "duration": 8,
    "start_time": "2023-07-24T14:46:41.533Z"
   },
   {
    "duration": 11,
    "start_time": "2023-07-24T14:46:41.553Z"
   },
   {
    "duration": 15,
    "start_time": "2023-07-24T14:46:41.577Z"
   },
   {
    "duration": 21,
    "start_time": "2023-07-24T14:46:41.594Z"
   },
   {
    "duration": 23,
    "start_time": "2023-07-24T14:46:41.617Z"
   },
   {
    "duration": 4,
    "start_time": "2023-07-24T14:46:41.642Z"
   },
   {
    "duration": 33,
    "start_time": "2023-07-24T14:46:41.648Z"
   },
   {
    "duration": 37,
    "start_time": "2023-07-24T14:46:41.683Z"
   },
   {
    "duration": 6,
    "start_time": "2023-07-24T14:46:41.722Z"
   },
   {
    "duration": 9,
    "start_time": "2023-07-24T14:46:41.730Z"
   },
   {
    "duration": 39,
    "start_time": "2023-07-24T14:46:41.741Z"
   },
   {
    "duration": 12,
    "start_time": "2023-07-24T14:46:41.782Z"
   },
   {
    "duration": 10,
    "start_time": "2023-07-24T14:46:41.796Z"
   },
   {
    "duration": 26,
    "start_time": "2023-07-24T14:46:41.808Z"
   },
   {
    "duration": 4,
    "start_time": "2023-07-24T14:46:41.836Z"
   },
   {
    "duration": 47,
    "start_time": "2023-07-24T14:46:41.842Z"
   },
   {
    "duration": 60,
    "start_time": "2023-07-24T14:46:41.890Z"
   },
   {
    "duration": 31,
    "start_time": "2023-07-24T14:46:41.952Z"
   },
   {
    "duration": 24,
    "start_time": "2023-07-24T14:46:41.985Z"
   },
   {
    "duration": 71,
    "start_time": "2023-07-24T14:46:42.011Z"
   },
   {
    "duration": 21,
    "start_time": "2023-07-24T14:46:42.084Z"
   },
   {
    "duration": 9,
    "start_time": "2023-07-24T14:46:42.107Z"
   },
   {
    "duration": 11,
    "start_time": "2023-07-24T14:46:42.118Z"
   },
   {
    "duration": 23,
    "start_time": "2023-07-24T14:46:42.130Z"
   },
   {
    "duration": 37,
    "start_time": "2023-07-24T14:46:42.162Z"
   },
   {
    "duration": 20,
    "start_time": "2023-07-24T14:46:42.201Z"
   },
   {
    "duration": 12,
    "start_time": "2023-07-24T14:46:42.223Z"
   },
   {
    "duration": 33,
    "start_time": "2023-07-24T14:46:42.237Z"
   },
   {
    "duration": 198,
    "start_time": "2023-07-24T14:46:42.280Z"
   },
   {
    "duration": 4,
    "start_time": "2023-07-24T14:46:42.485Z"
   },
   {
    "duration": 12,
    "start_time": "2023-07-24T14:46:42.491Z"
   },
   {
    "duration": 78,
    "start_time": "2023-07-24T14:46:42.505Z"
   },
   {
    "duration": 191,
    "start_time": "2023-07-24T14:46:42.587Z"
   },
   {
    "duration": 9,
    "start_time": "2023-07-24T14:46:42.783Z"
   },
   {
    "duration": 13,
    "start_time": "2023-07-24T14:46:42.794Z"
   },
   {
    "duration": 24,
    "start_time": "2023-07-24T14:46:42.808Z"
   },
   {
    "duration": 47,
    "start_time": "2023-07-24T14:46:42.834Z"
   },
   {
    "duration": 40,
    "start_time": "2023-07-24T14:46:42.882Z"
   },
   {
    "duration": 62,
    "start_time": "2023-07-24T14:46:42.924Z"
   },
   {
    "duration": 35,
    "start_time": "2023-07-24T14:46:42.988Z"
   },
   {
    "duration": 18,
    "start_time": "2023-07-24T14:46:43.025Z"
   },
   {
    "duration": 53,
    "start_time": "2023-07-24T14:46:43.045Z"
   },
   {
    "duration": 106,
    "start_time": "2023-07-24T14:46:43.100Z"
   },
   {
    "duration": 29,
    "start_time": "2023-07-24T14:46:43.207Z"
   },
   {
    "duration": 56,
    "start_time": "2023-07-24T14:46:43.238Z"
   },
   {
    "duration": 17,
    "start_time": "2023-07-24T14:46:43.296Z"
   },
   {
    "duration": 17,
    "start_time": "2023-07-24T14:46:43.315Z"
   },
   {
    "duration": 54,
    "start_time": "2023-07-24T14:46:43.335Z"
   },
   {
    "duration": 7,
    "start_time": "2023-07-24T14:46:43.391Z"
   },
   {
    "duration": 39,
    "start_time": "2023-07-24T14:46:43.400Z"
   },
   {
    "duration": 61,
    "start_time": "2023-07-24T14:46:43.441Z"
   },
   {
    "duration": 13,
    "start_time": "2023-07-24T14:46:43.504Z"
   },
   {
    "duration": 27,
    "start_time": "2023-07-24T14:46:43.519Z"
   },
   {
    "duration": 51,
    "start_time": "2023-07-24T14:46:43.548Z"
   },
   {
    "duration": 22,
    "start_time": "2023-07-24T14:46:43.601Z"
   },
   {
    "duration": 27,
    "start_time": "2023-07-24T14:46:43.625Z"
   },
   {
    "duration": 46,
    "start_time": "2023-07-24T14:46:43.654Z"
   },
   {
    "duration": 9,
    "start_time": "2023-07-24T14:46:43.702Z"
   },
   {
    "duration": 25,
    "start_time": "2023-07-24T14:46:43.713Z"
   },
   {
    "duration": 53,
    "start_time": "2023-07-24T14:46:43.740Z"
   },
   {
    "duration": 20,
    "start_time": "2023-07-24T14:46:43.795Z"
   },
   {
    "duration": 26,
    "start_time": "2023-07-24T14:46:43.817Z"
   },
   {
    "duration": 39,
    "start_time": "2023-07-24T14:46:43.844Z"
   },
   {
    "duration": 15,
    "start_time": "2023-07-24T14:46:43.885Z"
   },
   {
    "duration": 9,
    "start_time": "2023-07-24T14:46:43.901Z"
   },
   {
    "duration": 17,
    "start_time": "2023-07-24T14:46:43.911Z"
   },
   {
    "duration": 34,
    "start_time": "2023-07-24T14:46:43.929Z"
   },
   {
    "duration": 22,
    "start_time": "2023-07-24T14:46:43.970Z"
   },
   {
    "duration": 17,
    "start_time": "2023-07-24T14:46:43.993Z"
   },
   {
    "duration": 22,
    "start_time": "2023-07-24T14:46:44.011Z"
   },
   {
    "duration": 51,
    "start_time": "2023-07-24T14:46:44.035Z"
   },
   {
    "duration": 21,
    "start_time": "2023-07-24T14:46:44.088Z"
   },
   {
    "duration": 31,
    "start_time": "2023-07-24T14:46:44.111Z"
   },
   {
    "duration": 1266,
    "start_time": "2023-07-24T15:23:10.325Z"
   },
   {
    "duration": 167,
    "start_time": "2023-07-24T15:23:11.593Z"
   },
   {
    "duration": 14,
    "start_time": "2023-07-24T15:23:11.763Z"
   },
   {
    "duration": 22,
    "start_time": "2023-07-24T15:23:11.779Z"
   },
   {
    "duration": 3,
    "start_time": "2023-07-24T15:23:11.803Z"
   },
   {
    "duration": 19,
    "start_time": "2023-07-24T15:23:11.808Z"
   },
   {
    "duration": 49,
    "start_time": "2023-07-24T15:23:11.829Z"
   },
   {
    "duration": 24,
    "start_time": "2023-07-24T15:23:11.880Z"
   },
   {
    "duration": 110,
    "start_time": "2023-07-24T15:23:11.906Z"
   },
   {
    "duration": 114,
    "start_time": "2023-07-24T15:23:12.018Z"
   },
   {
    "duration": 69,
    "start_time": "2023-07-24T15:23:12.134Z"
   },
   {
    "duration": 19,
    "start_time": "2023-07-24T15:23:12.205Z"
   },
   {
    "duration": 30,
    "start_time": "2023-07-24T15:23:12.225Z"
   },
   {
    "duration": 8,
    "start_time": "2023-07-24T15:23:12.258Z"
   },
   {
    "duration": 9,
    "start_time": "2023-07-24T15:23:12.268Z"
   },
   {
    "duration": 138,
    "start_time": "2023-07-24T15:23:12.278Z"
   },
   {
    "duration": 9,
    "start_time": "2023-07-24T15:23:12.418Z"
   },
   {
    "duration": 55,
    "start_time": "2023-07-24T15:23:12.429Z"
   },
   {
    "duration": 7,
    "start_time": "2023-07-24T15:23:12.485Z"
   },
   {
    "duration": 6,
    "start_time": "2023-07-24T15:23:12.494Z"
   },
   {
    "duration": 11,
    "start_time": "2023-07-24T15:23:12.501Z"
   },
   {
    "duration": 8,
    "start_time": "2023-07-24T15:23:12.514Z"
   },
   {
    "duration": 10,
    "start_time": "2023-07-24T15:23:12.524Z"
   },
   {
    "duration": 8,
    "start_time": "2023-07-24T15:23:12.536Z"
   },
   {
    "duration": 21,
    "start_time": "2023-07-24T15:23:12.545Z"
   },
   {
    "duration": 14,
    "start_time": "2023-07-24T15:23:12.567Z"
   },
   {
    "duration": 17,
    "start_time": "2023-07-24T15:23:12.583Z"
   },
   {
    "duration": 19,
    "start_time": "2023-07-24T15:23:12.601Z"
   },
   {
    "duration": 11,
    "start_time": "2023-07-24T15:23:12.622Z"
   },
   {
    "duration": 26,
    "start_time": "2023-07-24T15:23:12.635Z"
   },
   {
    "duration": 8,
    "start_time": "2023-07-24T15:23:12.663Z"
   },
   {
    "duration": 4,
    "start_time": "2023-07-24T15:23:12.673Z"
   },
   {
    "duration": 24,
    "start_time": "2023-07-24T15:23:12.678Z"
   },
   {
    "duration": 7,
    "start_time": "2023-07-24T15:23:12.704Z"
   },
   {
    "duration": 9,
    "start_time": "2023-07-24T15:23:12.713Z"
   },
   {
    "duration": 29,
    "start_time": "2023-07-24T15:23:12.724Z"
   },
   {
    "duration": 7,
    "start_time": "2023-07-24T15:23:12.755Z"
   },
   {
    "duration": 10,
    "start_time": "2023-07-24T15:23:12.763Z"
   },
   {
    "duration": 1845,
    "start_time": "2023-07-24T15:23:12.775Z"
   },
   {
    "duration": 7,
    "start_time": "2023-07-24T15:23:14.623Z"
   },
   {
    "duration": 21,
    "start_time": "2023-07-24T15:23:14.637Z"
   },
   {
    "duration": 749,
    "start_time": "2023-07-24T15:23:14.659Z"
   },
   {
    "duration": 17,
    "start_time": "2023-07-24T15:23:15.410Z"
   },
   {
    "duration": 26,
    "start_time": "2023-07-24T15:23:15.429Z"
   },
   {
    "duration": 10,
    "start_time": "2023-07-24T15:23:15.458Z"
   },
   {
    "duration": 18,
    "start_time": "2023-07-24T15:23:15.470Z"
   },
   {
    "duration": 9,
    "start_time": "2023-07-24T15:23:15.490Z"
   },
   {
    "duration": 19,
    "start_time": "2023-07-24T15:23:15.502Z"
   },
   {
    "duration": 15,
    "start_time": "2023-07-24T15:23:15.523Z"
   },
   {
    "duration": 22,
    "start_time": "2023-07-24T15:23:15.540Z"
   },
   {
    "duration": 21,
    "start_time": "2023-07-24T15:23:15.563Z"
   },
   {
    "duration": 12,
    "start_time": "2023-07-24T15:23:15.586Z"
   },
   {
    "duration": 19,
    "start_time": "2023-07-24T15:23:15.600Z"
   },
   {
    "duration": 19,
    "start_time": "2023-07-24T15:23:15.620Z"
   },
   {
    "duration": 16,
    "start_time": "2023-07-24T15:23:15.640Z"
   },
   {
    "duration": 25,
    "start_time": "2023-07-24T15:23:15.658Z"
   },
   {
    "duration": 24,
    "start_time": "2023-07-24T15:23:15.685Z"
   },
   {
    "duration": 32,
    "start_time": "2023-07-24T15:23:15.711Z"
   },
   {
    "duration": 7,
    "start_time": "2023-07-24T15:23:15.745Z"
   },
   {
    "duration": 13,
    "start_time": "2023-07-24T15:23:15.753Z"
   },
   {
    "duration": 26,
    "start_time": "2023-07-24T15:23:15.768Z"
   },
   {
    "duration": 5,
    "start_time": "2023-07-24T15:23:15.796Z"
   },
   {
    "duration": 9,
    "start_time": "2023-07-24T15:23:15.802Z"
   },
   {
    "duration": 23,
    "start_time": "2023-07-24T15:23:15.813Z"
   },
   {
    "duration": 14,
    "start_time": "2023-07-24T15:23:15.838Z"
   },
   {
    "duration": 11,
    "start_time": "2023-07-24T15:23:15.854Z"
   },
   {
    "duration": 36,
    "start_time": "2023-07-24T15:23:15.866Z"
   },
   {
    "duration": 5,
    "start_time": "2023-07-24T15:23:15.904Z"
   },
   {
    "duration": 13,
    "start_time": "2023-07-24T15:23:15.911Z"
   },
   {
    "duration": 42,
    "start_time": "2023-07-24T15:23:15.926Z"
   },
   {
    "duration": 3,
    "start_time": "2023-07-24T15:23:15.970Z"
   },
   {
    "duration": 15,
    "start_time": "2023-07-24T15:23:15.975Z"
   },
   {
    "duration": 75,
    "start_time": "2023-07-24T15:23:15.992Z"
   },
   {
    "duration": 13,
    "start_time": "2023-07-24T15:23:16.069Z"
   },
   {
    "duration": 11,
    "start_time": "2023-07-24T15:23:16.084Z"
   },
   {
    "duration": 12,
    "start_time": "2023-07-24T15:23:16.097Z"
   },
   {
    "duration": 16,
    "start_time": "2023-07-24T15:23:16.111Z"
   },
   {
    "duration": 22,
    "start_time": "2023-07-24T15:23:16.129Z"
   },
   {
    "duration": 21,
    "start_time": "2023-07-24T15:23:16.153Z"
   },
   {
    "duration": 14,
    "start_time": "2023-07-24T15:23:16.176Z"
   },
   {
    "duration": 19,
    "start_time": "2023-07-24T15:23:16.192Z"
   },
   {
    "duration": 208,
    "start_time": "2023-07-24T15:23:16.213Z"
   },
   {
    "duration": 3,
    "start_time": "2023-07-24T15:23:16.423Z"
   },
   {
    "duration": 11,
    "start_time": "2023-07-24T15:23:16.428Z"
   },
   {
    "duration": 59,
    "start_time": "2023-07-24T15:23:16.441Z"
   },
   {
    "duration": 278,
    "start_time": "2023-07-24T15:23:16.502Z"
   },
   {
    "duration": 9,
    "start_time": "2023-07-24T15:23:16.782Z"
   },
   {
    "duration": 12,
    "start_time": "2023-07-24T15:23:16.792Z"
   },
   {
    "duration": 28,
    "start_time": "2023-07-24T15:23:16.806Z"
   },
   {
    "duration": 14,
    "start_time": "2023-07-24T15:23:16.836Z"
   },
   {
    "duration": 26,
    "start_time": "2023-07-24T15:23:16.852Z"
   },
   {
    "duration": 15,
    "start_time": "2023-07-24T15:23:16.879Z"
   },
   {
    "duration": 19,
    "start_time": "2023-07-24T15:23:16.896Z"
   },
   {
    "duration": 17,
    "start_time": "2023-07-24T15:23:16.916Z"
   },
   {
    "duration": 19,
    "start_time": "2023-07-24T15:23:16.935Z"
   },
   {
    "duration": 21,
    "start_time": "2023-07-24T15:23:16.956Z"
   },
   {
    "duration": 24,
    "start_time": "2023-07-24T15:23:16.979Z"
   },
   {
    "duration": 33,
    "start_time": "2023-07-24T15:23:17.007Z"
   },
   {
    "duration": 14,
    "start_time": "2023-07-24T15:23:17.042Z"
   },
   {
    "duration": 17,
    "start_time": "2023-07-24T15:23:17.058Z"
   },
   {
    "duration": 25,
    "start_time": "2023-07-24T15:23:17.077Z"
   },
   {
    "duration": 30,
    "start_time": "2023-07-24T15:23:17.104Z"
   },
   {
    "duration": 19,
    "start_time": "2023-07-24T15:23:17.136Z"
   },
   {
    "duration": 26,
    "start_time": "2023-07-24T15:23:17.156Z"
   },
   {
    "duration": 18,
    "start_time": "2023-07-24T15:23:17.183Z"
   },
   {
    "duration": 14,
    "start_time": "2023-07-24T15:23:17.203Z"
   },
   {
    "duration": 11,
    "start_time": "2023-07-24T15:23:17.219Z"
   },
   {
    "duration": 11,
    "start_time": "2023-07-24T15:23:17.232Z"
   },
   {
    "duration": 16,
    "start_time": "2023-07-24T15:23:17.244Z"
   },
   {
    "duration": 22,
    "start_time": "2023-07-24T15:23:17.261Z"
   },
   {
    "duration": 15,
    "start_time": "2023-07-24T15:23:17.285Z"
   },
   {
    "duration": 19,
    "start_time": "2023-07-24T15:23:17.302Z"
   },
   {
    "duration": 21,
    "start_time": "2023-07-24T15:23:17.324Z"
   },
   {
    "duration": 17,
    "start_time": "2023-07-24T15:23:17.347Z"
   },
   {
    "duration": 15,
    "start_time": "2023-07-24T15:23:17.366Z"
   },
   {
    "duration": 13,
    "start_time": "2023-07-24T15:23:17.382Z"
   },
   {
    "duration": 11,
    "start_time": "2023-07-24T15:23:17.396Z"
   },
   {
    "duration": 8,
    "start_time": "2023-07-24T15:23:17.409Z"
   },
   {
    "duration": 9,
    "start_time": "2023-07-24T15:23:17.419Z"
   },
   {
    "duration": 18,
    "start_time": "2023-07-24T15:23:17.429Z"
   },
   {
    "duration": 11,
    "start_time": "2023-07-24T15:23:17.449Z"
   },
   {
    "duration": 9,
    "start_time": "2023-07-24T15:23:17.466Z"
   },
   {
    "duration": 11,
    "start_time": "2023-07-24T15:23:17.477Z"
   },
   {
    "duration": 12,
    "start_time": "2023-07-24T15:23:17.490Z"
   },
   {
    "duration": 23,
    "start_time": "2023-07-24T15:23:17.504Z"
   },
   {
    "duration": 6,
    "start_time": "2023-07-24T15:23:43.024Z"
   },
   {
    "duration": 1190,
    "start_time": "2023-07-26T12:09:43.413Z"
   },
   {
    "duration": 708,
    "start_time": "2023-07-26T12:09:44.606Z"
   },
   {
    "duration": 12,
    "start_time": "2023-07-26T12:09:45.316Z"
   },
   {
    "duration": 26,
    "start_time": "2023-07-26T12:09:45.330Z"
   },
   {
    "duration": 3,
    "start_time": "2023-07-26T12:09:45.358Z"
   },
   {
    "duration": 20,
    "start_time": "2023-07-26T12:09:45.363Z"
   },
   {
    "duration": 29,
    "start_time": "2023-07-26T12:09:45.385Z"
   },
   {
    "duration": 20,
    "start_time": "2023-07-26T12:09:45.416Z"
   },
   {
    "duration": 83,
    "start_time": "2023-07-26T12:09:45.437Z"
   },
   {
    "duration": 107,
    "start_time": "2023-07-26T12:09:45.522Z"
   },
   {
    "duration": 64,
    "start_time": "2023-07-26T12:09:45.631Z"
   },
   {
    "duration": 18,
    "start_time": "2023-07-26T12:09:45.697Z"
   },
   {
    "duration": 17,
    "start_time": "2023-07-26T12:09:45.717Z"
   },
   {
    "duration": 26,
    "start_time": "2023-07-26T12:09:45.735Z"
   },
   {
    "duration": 9,
    "start_time": "2023-07-26T12:09:45.763Z"
   },
   {
    "duration": 112,
    "start_time": "2023-07-26T12:09:45.773Z"
   },
   {
    "duration": 10,
    "start_time": "2023-07-26T12:09:45.887Z"
   },
   {
    "duration": 34,
    "start_time": "2023-07-26T12:09:45.899Z"
   },
   {
    "duration": 10,
    "start_time": "2023-07-26T12:09:45.935Z"
   },
   {
    "duration": 6,
    "start_time": "2023-07-26T12:09:45.956Z"
   },
   {
    "duration": 15,
    "start_time": "2023-07-26T12:09:45.964Z"
   },
   {
    "duration": 10,
    "start_time": "2023-07-26T12:09:45.981Z"
   },
   {
    "duration": 11,
    "start_time": "2023-07-26T12:09:45.993Z"
   },
   {
    "duration": 6,
    "start_time": "2023-07-26T12:09:46.006Z"
   },
   {
    "duration": 9,
    "start_time": "2023-07-26T12:09:46.013Z"
   },
   {
    "duration": 6,
    "start_time": "2023-07-26T12:09:46.023Z"
   },
   {
    "duration": 7,
    "start_time": "2023-07-26T12:09:46.030Z"
   },
   {
    "duration": 17,
    "start_time": "2023-07-26T12:09:46.041Z"
   },
   {
    "duration": 6,
    "start_time": "2023-07-26T12:09:46.060Z"
   },
   {
    "duration": 20,
    "start_time": "2023-07-26T12:09:46.068Z"
   },
   {
    "duration": 9,
    "start_time": "2023-07-26T12:09:46.090Z"
   },
   {
    "duration": 3,
    "start_time": "2023-07-26T12:09:46.102Z"
   },
   {
    "duration": 20,
    "start_time": "2023-07-26T12:09:46.107Z"
   },
   {
    "duration": 29,
    "start_time": "2023-07-26T12:09:46.128Z"
   },
   {
    "duration": 4,
    "start_time": "2023-07-26T12:09:46.159Z"
   },
   {
    "duration": 6,
    "start_time": "2023-07-26T12:09:46.165Z"
   },
   {
    "duration": 8,
    "start_time": "2023-07-26T12:09:46.173Z"
   },
   {
    "duration": 9,
    "start_time": "2023-07-26T12:09:46.183Z"
   },
   {
    "duration": 1626,
    "start_time": "2023-07-26T12:09:46.193Z"
   },
   {
    "duration": 7,
    "start_time": "2023-07-26T12:09:47.821Z"
   },
   {
    "duration": 11,
    "start_time": "2023-07-26T12:09:47.830Z"
   },
   {
    "duration": 652,
    "start_time": "2023-07-26T12:09:47.857Z"
   },
   {
    "duration": 15,
    "start_time": "2023-07-26T12:09:48.511Z"
   },
   {
    "duration": 57,
    "start_time": "2023-07-26T12:09:48.527Z"
   },
   {
    "duration": 19,
    "start_time": "2023-07-26T12:09:48.586Z"
   },
   {
    "duration": 12,
    "start_time": "2023-07-26T12:09:48.607Z"
   },
   {
    "duration": 4,
    "start_time": "2023-07-26T12:09:48.620Z"
   },
   {
    "duration": 13,
    "start_time": "2023-07-26T12:09:48.625Z"
   },
   {
    "duration": 13,
    "start_time": "2023-07-26T12:09:48.640Z"
   },
   {
    "duration": 20,
    "start_time": "2023-07-26T12:09:48.655Z"
   },
   {
    "duration": 27,
    "start_time": "2023-07-26T12:09:48.677Z"
   },
   {
    "duration": 19,
    "start_time": "2023-07-26T12:09:48.706Z"
   },
   {
    "duration": 29,
    "start_time": "2023-07-26T12:09:48.727Z"
   },
   {
    "duration": 35,
    "start_time": "2023-07-26T12:09:48.758Z"
   },
   {
    "duration": 14,
    "start_time": "2023-07-26T12:09:48.795Z"
   },
   {
    "duration": 28,
    "start_time": "2023-07-26T12:09:48.811Z"
   },
   {
    "duration": 20,
    "start_time": "2023-07-26T12:09:48.840Z"
   },
   {
    "duration": 24,
    "start_time": "2023-07-26T12:09:48.862Z"
   },
   {
    "duration": 24,
    "start_time": "2023-07-26T12:09:48.888Z"
   },
   {
    "duration": 5,
    "start_time": "2023-07-26T12:09:48.914Z"
   },
   {
    "duration": 23,
    "start_time": "2023-07-26T12:09:48.921Z"
   },
   {
    "duration": 9,
    "start_time": "2023-07-26T12:09:48.946Z"
   },
   {
    "duration": 17,
    "start_time": "2023-07-26T12:09:48.957Z"
   },
   {
    "duration": 28,
    "start_time": "2023-07-26T12:09:48.976Z"
   },
   {
    "duration": 14,
    "start_time": "2023-07-26T12:09:49.006Z"
   },
   {
    "duration": 14,
    "start_time": "2023-07-26T12:09:49.022Z"
   },
   {
    "duration": 40,
    "start_time": "2023-07-26T12:09:49.038Z"
   },
   {
    "duration": 10,
    "start_time": "2023-07-26T12:09:49.080Z"
   },
   {
    "duration": 21,
    "start_time": "2023-07-26T12:09:49.092Z"
   },
   {
    "duration": 43,
    "start_time": "2023-07-26T12:09:49.115Z"
   },
   {
    "duration": 19,
    "start_time": "2023-07-26T12:09:49.161Z"
   },
   {
    "duration": 24,
    "start_time": "2023-07-26T12:09:49.182Z"
   },
   {
    "duration": 68,
    "start_time": "2023-07-26T12:09:49.208Z"
   },
   {
    "duration": 9,
    "start_time": "2023-07-26T12:09:49.278Z"
   },
   {
    "duration": 8,
    "start_time": "2023-07-26T12:09:49.289Z"
   },
   {
    "duration": 17,
    "start_time": "2023-07-26T12:09:49.299Z"
   },
   {
    "duration": 25,
    "start_time": "2023-07-26T12:09:49.318Z"
   },
   {
    "duration": 8,
    "start_time": "2023-07-26T12:09:49.346Z"
   },
   {
    "duration": 17,
    "start_time": "2023-07-26T12:09:49.356Z"
   },
   {
    "duration": 10,
    "start_time": "2023-07-26T12:09:49.375Z"
   },
   {
    "duration": 21,
    "start_time": "2023-07-26T12:09:49.386Z"
   },
   {
    "duration": 230,
    "start_time": "2023-07-26T12:09:49.412Z"
   },
   {
    "duration": 3,
    "start_time": "2023-07-26T12:09:49.644Z"
   },
   {
    "duration": 9,
    "start_time": "2023-07-26T12:09:49.648Z"
   },
   {
    "duration": 101,
    "start_time": "2023-07-26T12:09:49.659Z"
   },
   {
    "duration": 143,
    "start_time": "2023-07-26T12:09:49.762Z"
   },
   {
    "duration": 10,
    "start_time": "2023-07-26T12:09:49.907Z"
   },
   {
    "duration": 12,
    "start_time": "2023-07-26T12:09:49.918Z"
   },
   {
    "duration": 8,
    "start_time": "2023-07-26T12:09:49.932Z"
   },
   {
    "duration": 13,
    "start_time": "2023-07-26T12:09:49.942Z"
   },
   {
    "duration": 10,
    "start_time": "2023-07-26T12:09:49.956Z"
   },
   {
    "duration": 10,
    "start_time": "2023-07-26T12:09:49.967Z"
   },
   {
    "duration": 9,
    "start_time": "2023-07-26T12:09:49.978Z"
   },
   {
    "duration": 11,
    "start_time": "2023-07-26T12:09:49.988Z"
   },
   {
    "duration": 40,
    "start_time": "2023-07-26T12:09:50.000Z"
   },
   {
    "duration": 105,
    "start_time": "2023-07-26T12:09:50.042Z"
   },
   {
    "duration": 23,
    "start_time": "2023-07-26T12:09:50.149Z"
   },
   {
    "duration": 18,
    "start_time": "2023-07-26T12:09:50.174Z"
   },
   {
    "duration": 27,
    "start_time": "2023-07-26T12:09:50.193Z"
   },
   {
    "duration": 18,
    "start_time": "2023-07-26T12:09:50.222Z"
   },
   {
    "duration": 27,
    "start_time": "2023-07-26T12:09:50.242Z"
   },
   {
    "duration": 24,
    "start_time": "2023-07-26T12:09:50.271Z"
   },
   {
    "duration": 17,
    "start_time": "2023-07-26T12:09:50.297Z"
   },
   {
    "duration": 37,
    "start_time": "2023-07-26T12:09:50.316Z"
   },
   {
    "duration": 20,
    "start_time": "2023-07-26T12:09:50.354Z"
   },
   {
    "duration": 18,
    "start_time": "2023-07-26T12:09:50.376Z"
   },
   {
    "duration": 19,
    "start_time": "2023-07-26T12:09:50.396Z"
   },
   {
    "duration": 9,
    "start_time": "2023-07-26T12:09:50.416Z"
   },
   {
    "duration": 19,
    "start_time": "2023-07-26T12:09:50.426Z"
   },
   {
    "duration": 23,
    "start_time": "2023-07-26T12:09:50.447Z"
   },
   {
    "duration": 20,
    "start_time": "2023-07-26T12:09:50.472Z"
   },
   {
    "duration": 26,
    "start_time": "2023-07-26T12:09:50.494Z"
   },
   {
    "duration": 20,
    "start_time": "2023-07-26T12:09:50.522Z"
   },
   {
    "duration": 27,
    "start_time": "2023-07-26T12:09:50.544Z"
   },
   {
    "duration": 24,
    "start_time": "2023-07-26T12:09:50.573Z"
   },
   {
    "duration": 12,
    "start_time": "2023-07-26T12:09:50.599Z"
   },
   {
    "duration": 28,
    "start_time": "2023-07-26T12:09:50.612Z"
   },
   {
    "duration": 29,
    "start_time": "2023-07-26T12:09:50.642Z"
   },
   {
    "duration": 22,
    "start_time": "2023-07-26T12:09:50.672Z"
   },
   {
    "duration": 51,
    "start_time": "2023-07-26T12:09:50.696Z"
   },
   {
    "duration": 26,
    "start_time": "2023-07-26T12:09:50.749Z"
   },
   {
    "duration": 39,
    "start_time": "2023-07-26T12:09:50.777Z"
   },
   {
    "duration": 6,
    "start_time": "2023-07-26T12:09:50.818Z"
   },
   {
    "duration": 23,
    "start_time": "2023-07-26T12:09:50.826Z"
   },
   {
    "duration": 23,
    "start_time": "2023-07-26T12:09:50.851Z"
   },
   {
    "duration": 8,
    "start_time": "2023-07-26T12:12:02.352Z"
   },
   {
    "duration": 4,
    "start_time": "2023-07-26T12:12:52.235Z"
   }
  ],
  "kernelspec": {
   "display_name": "Python 3 (ipykernel)",
   "language": "python",
   "name": "python3"
  },
  "language_info": {
   "codemirror_mode": {
    "name": "ipython",
    "version": 3
   },
   "file_extension": ".py",
   "mimetype": "text/x-python",
   "name": "python",
   "nbconvert_exporter": "python",
   "pygments_lexer": "ipython3",
   "version": "3.9.16"
  },
  "toc": {
   "base_numbering": 1,
   "nav_menu": {},
   "number_sections": true,
   "sideBar": true,
   "skip_h1_title": true,
   "title_cell": "Table of Contents",
   "title_sidebar": "Contents",
   "toc_cell": false,
   "toc_position": {
    "height": "calc(100% - 180px)",
    "left": "10px",
    "top": "150px",
    "width": "290.382px"
   },
   "toc_section_display": true,
   "toc_window_display": true
  }
 },
 "nbformat": 4,
 "nbformat_minor": 2
}
