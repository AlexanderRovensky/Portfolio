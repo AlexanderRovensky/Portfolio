{
 "cells": [
  {
   "cell_type": "markdown",
   "id": "0f0bd9e0",
   "metadata": {},
   "source": [
    "# Исследование надёжности заёмщиков"
   ]
  },
  {
   "cell_type": "markdown",
   "id": "59bfa441",
   "metadata": {},
   "source": [
    "Заказчик — кредитный отдел банка. Нужно разобраться, влияет ли семейное положение и количество детей клиента на факт погашения кредита в срок. Входные данные от банка — статистика о платёжеспособности клиентов.\n",
    "\n",
    "Результаты исследования будут учтены при построении модели кредитного скоринга — специальной системы, которая оценивает способность потенциального заёмщика вернуть кредит банку."
   ]
  },
  {
   "cell_type": "markdown",
   "id": "905b1c24",
   "metadata": {},
   "source": [
    "## Откройте файл с данными и изучите общую информацию."
   ]
  },
  {
   "cell_type": "code",
   "execution_count": 1,
   "id": "e2f8bba8",
   "metadata": {},
   "outputs": [],
   "source": [
    "import pandas as pd # импортируйте библиотеку pandas"
   ]
  },
  {
   "cell_type": "code",
   "execution_count": 2,
   "id": "d25631b6",
   "metadata": {},
   "outputs": [],
   "source": [
    "data  = pd.read_csv('https://code.s3.yandex.net/datasets/data.csv')# прочитайте csv-файл"
   ]
  },
  {
   "cell_type": "code",
   "execution_count": 3,
   "id": "d3003d7b",
   "metadata": {},
   "outputs": [
    {
     "data": {
      "text/html": [
       "<div>\n",
       "<style scoped>\n",
       "    .dataframe tbody tr th:only-of-type {\n",
       "        vertical-align: middle;\n",
       "    }\n",
       "\n",
       "    .dataframe tbody tr th {\n",
       "        vertical-align: top;\n",
       "    }\n",
       "\n",
       "    .dataframe thead th {\n",
       "        text-align: right;\n",
       "    }\n",
       "</style>\n",
       "<table border=\"1\" class=\"dataframe\">\n",
       "  <thead>\n",
       "    <tr style=\"text-align: right;\">\n",
       "      <th></th>\n",
       "      <th>children</th>\n",
       "      <th>days_employed</th>\n",
       "      <th>dob_years</th>\n",
       "      <th>education</th>\n",
       "      <th>education_id</th>\n",
       "      <th>family_status</th>\n",
       "      <th>family_status_id</th>\n",
       "      <th>gender</th>\n",
       "      <th>income_type</th>\n",
       "      <th>debt</th>\n",
       "      <th>total_income</th>\n",
       "      <th>purpose</th>\n",
       "    </tr>\n",
       "  </thead>\n",
       "  <tbody>\n",
       "    <tr>\n",
       "      <th>0</th>\n",
       "      <td>1</td>\n",
       "      <td>-8437.673028</td>\n",
       "      <td>42</td>\n",
       "      <td>высшее</td>\n",
       "      <td>0</td>\n",
       "      <td>женат / замужем</td>\n",
       "      <td>0</td>\n",
       "      <td>F</td>\n",
       "      <td>сотрудник</td>\n",
       "      <td>0</td>\n",
       "      <td>253875.639453</td>\n",
       "      <td>покупка жилья</td>\n",
       "    </tr>\n",
       "    <tr>\n",
       "      <th>1</th>\n",
       "      <td>1</td>\n",
       "      <td>-4024.803754</td>\n",
       "      <td>36</td>\n",
       "      <td>среднее</td>\n",
       "      <td>1</td>\n",
       "      <td>женат / замужем</td>\n",
       "      <td>0</td>\n",
       "      <td>F</td>\n",
       "      <td>сотрудник</td>\n",
       "      <td>0</td>\n",
       "      <td>112080.014102</td>\n",
       "      <td>приобретение автомобиля</td>\n",
       "    </tr>\n",
       "    <tr>\n",
       "      <th>2</th>\n",
       "      <td>0</td>\n",
       "      <td>-5623.422610</td>\n",
       "      <td>33</td>\n",
       "      <td>Среднее</td>\n",
       "      <td>1</td>\n",
       "      <td>женат / замужем</td>\n",
       "      <td>0</td>\n",
       "      <td>M</td>\n",
       "      <td>сотрудник</td>\n",
       "      <td>0</td>\n",
       "      <td>145885.952297</td>\n",
       "      <td>покупка жилья</td>\n",
       "    </tr>\n",
       "    <tr>\n",
       "      <th>3</th>\n",
       "      <td>3</td>\n",
       "      <td>-4124.747207</td>\n",
       "      <td>32</td>\n",
       "      <td>среднее</td>\n",
       "      <td>1</td>\n",
       "      <td>женат / замужем</td>\n",
       "      <td>0</td>\n",
       "      <td>M</td>\n",
       "      <td>сотрудник</td>\n",
       "      <td>0</td>\n",
       "      <td>267628.550329</td>\n",
       "      <td>дополнительное образование</td>\n",
       "    </tr>\n",
       "    <tr>\n",
       "      <th>4</th>\n",
       "      <td>0</td>\n",
       "      <td>340266.072047</td>\n",
       "      <td>53</td>\n",
       "      <td>среднее</td>\n",
       "      <td>1</td>\n",
       "      <td>гражданский брак</td>\n",
       "      <td>1</td>\n",
       "      <td>F</td>\n",
       "      <td>пенсионер</td>\n",
       "      <td>0</td>\n",
       "      <td>158616.077870</td>\n",
       "      <td>сыграть свадьбу</td>\n",
       "    </tr>\n",
       "    <tr>\n",
       "      <th>5</th>\n",
       "      <td>0</td>\n",
       "      <td>-926.185831</td>\n",
       "      <td>27</td>\n",
       "      <td>высшее</td>\n",
       "      <td>0</td>\n",
       "      <td>гражданский брак</td>\n",
       "      <td>1</td>\n",
       "      <td>M</td>\n",
       "      <td>компаньон</td>\n",
       "      <td>0</td>\n",
       "      <td>255763.565419</td>\n",
       "      <td>покупка жилья</td>\n",
       "    </tr>\n",
       "    <tr>\n",
       "      <th>6</th>\n",
       "      <td>0</td>\n",
       "      <td>-2879.202052</td>\n",
       "      <td>43</td>\n",
       "      <td>высшее</td>\n",
       "      <td>0</td>\n",
       "      <td>женат / замужем</td>\n",
       "      <td>0</td>\n",
       "      <td>F</td>\n",
       "      <td>компаньон</td>\n",
       "      <td>0</td>\n",
       "      <td>240525.971920</td>\n",
       "      <td>операции с жильем</td>\n",
       "    </tr>\n",
       "    <tr>\n",
       "      <th>7</th>\n",
       "      <td>0</td>\n",
       "      <td>-152.779569</td>\n",
       "      <td>50</td>\n",
       "      <td>СРЕДНЕЕ</td>\n",
       "      <td>1</td>\n",
       "      <td>женат / замужем</td>\n",
       "      <td>0</td>\n",
       "      <td>M</td>\n",
       "      <td>сотрудник</td>\n",
       "      <td>0</td>\n",
       "      <td>135823.934197</td>\n",
       "      <td>образование</td>\n",
       "    </tr>\n",
       "    <tr>\n",
       "      <th>8</th>\n",
       "      <td>2</td>\n",
       "      <td>-6929.865299</td>\n",
       "      <td>35</td>\n",
       "      <td>ВЫСШЕЕ</td>\n",
       "      <td>0</td>\n",
       "      <td>гражданский брак</td>\n",
       "      <td>1</td>\n",
       "      <td>F</td>\n",
       "      <td>сотрудник</td>\n",
       "      <td>0</td>\n",
       "      <td>95856.832424</td>\n",
       "      <td>на проведение свадьбы</td>\n",
       "    </tr>\n",
       "    <tr>\n",
       "      <th>9</th>\n",
       "      <td>0</td>\n",
       "      <td>-2188.756445</td>\n",
       "      <td>41</td>\n",
       "      <td>среднее</td>\n",
       "      <td>1</td>\n",
       "      <td>женат / замужем</td>\n",
       "      <td>0</td>\n",
       "      <td>M</td>\n",
       "      <td>сотрудник</td>\n",
       "      <td>0</td>\n",
       "      <td>144425.938277</td>\n",
       "      <td>покупка жилья для семьи</td>\n",
       "    </tr>\n",
       "    <tr>\n",
       "      <th>10</th>\n",
       "      <td>2</td>\n",
       "      <td>-4171.483647</td>\n",
       "      <td>36</td>\n",
       "      <td>высшее</td>\n",
       "      <td>0</td>\n",
       "      <td>женат / замужем</td>\n",
       "      <td>0</td>\n",
       "      <td>M</td>\n",
       "      <td>компаньон</td>\n",
       "      <td>0</td>\n",
       "      <td>113943.491460</td>\n",
       "      <td>покупка недвижимости</td>\n",
       "    </tr>\n",
       "    <tr>\n",
       "      <th>11</th>\n",
       "      <td>0</td>\n",
       "      <td>-792.701887</td>\n",
       "      <td>40</td>\n",
       "      <td>среднее</td>\n",
       "      <td>1</td>\n",
       "      <td>женат / замужем</td>\n",
       "      <td>0</td>\n",
       "      <td>F</td>\n",
       "      <td>сотрудник</td>\n",
       "      <td>0</td>\n",
       "      <td>77069.234271</td>\n",
       "      <td>покупка коммерческой недвижимости</td>\n",
       "    </tr>\n",
       "    <tr>\n",
       "      <th>12</th>\n",
       "      <td>0</td>\n",
       "      <td>NaN</td>\n",
       "      <td>65</td>\n",
       "      <td>среднее</td>\n",
       "      <td>1</td>\n",
       "      <td>гражданский брак</td>\n",
       "      <td>1</td>\n",
       "      <td>M</td>\n",
       "      <td>пенсионер</td>\n",
       "      <td>0</td>\n",
       "      <td>NaN</td>\n",
       "      <td>сыграть свадьбу</td>\n",
       "    </tr>\n",
       "    <tr>\n",
       "      <th>13</th>\n",
       "      <td>0</td>\n",
       "      <td>-1846.641941</td>\n",
       "      <td>54</td>\n",
       "      <td>неоконченное высшее</td>\n",
       "      <td>2</td>\n",
       "      <td>женат / замужем</td>\n",
       "      <td>0</td>\n",
       "      <td>F</td>\n",
       "      <td>сотрудник</td>\n",
       "      <td>0</td>\n",
       "      <td>130458.228857</td>\n",
       "      <td>приобретение автомобиля</td>\n",
       "    </tr>\n",
       "    <tr>\n",
       "      <th>14</th>\n",
       "      <td>0</td>\n",
       "      <td>-1844.956182</td>\n",
       "      <td>56</td>\n",
       "      <td>высшее</td>\n",
       "      <td>0</td>\n",
       "      <td>гражданский брак</td>\n",
       "      <td>1</td>\n",
       "      <td>F</td>\n",
       "      <td>компаньон</td>\n",
       "      <td>1</td>\n",
       "      <td>165127.911772</td>\n",
       "      <td>покупка жилой недвижимости</td>\n",
       "    </tr>\n",
       "    <tr>\n",
       "      <th>15</th>\n",
       "      <td>1</td>\n",
       "      <td>-972.364419</td>\n",
       "      <td>26</td>\n",
       "      <td>среднее</td>\n",
       "      <td>1</td>\n",
       "      <td>женат / замужем</td>\n",
       "      <td>0</td>\n",
       "      <td>F</td>\n",
       "      <td>сотрудник</td>\n",
       "      <td>0</td>\n",
       "      <td>116820.904450</td>\n",
       "      <td>строительство собственной недвижимости</td>\n",
       "    </tr>\n",
       "    <tr>\n",
       "      <th>16</th>\n",
       "      <td>0</td>\n",
       "      <td>-1719.934226</td>\n",
       "      <td>35</td>\n",
       "      <td>среднее</td>\n",
       "      <td>1</td>\n",
       "      <td>женат / замужем</td>\n",
       "      <td>0</td>\n",
       "      <td>F</td>\n",
       "      <td>сотрудник</td>\n",
       "      <td>0</td>\n",
       "      <td>289202.704229</td>\n",
       "      <td>недвижимость</td>\n",
       "    </tr>\n",
       "    <tr>\n",
       "      <th>17</th>\n",
       "      <td>0</td>\n",
       "      <td>-2369.999720</td>\n",
       "      <td>33</td>\n",
       "      <td>высшее</td>\n",
       "      <td>0</td>\n",
       "      <td>гражданский брак</td>\n",
       "      <td>1</td>\n",
       "      <td>M</td>\n",
       "      <td>сотрудник</td>\n",
       "      <td>0</td>\n",
       "      <td>90410.586745</td>\n",
       "      <td>строительство недвижимости</td>\n",
       "    </tr>\n",
       "    <tr>\n",
       "      <th>18</th>\n",
       "      <td>0</td>\n",
       "      <td>400281.136913</td>\n",
       "      <td>53</td>\n",
       "      <td>среднее</td>\n",
       "      <td>1</td>\n",
       "      <td>вдовец / вдова</td>\n",
       "      <td>2</td>\n",
       "      <td>F</td>\n",
       "      <td>пенсионер</td>\n",
       "      <td>0</td>\n",
       "      <td>56823.777243</td>\n",
       "      <td>на покупку подержанного автомобиля</td>\n",
       "    </tr>\n",
       "    <tr>\n",
       "      <th>19</th>\n",
       "      <td>0</td>\n",
       "      <td>-10038.818549</td>\n",
       "      <td>48</td>\n",
       "      <td>СРЕДНЕЕ</td>\n",
       "      <td>1</td>\n",
       "      <td>в разводе</td>\n",
       "      <td>3</td>\n",
       "      <td>F</td>\n",
       "      <td>сотрудник</td>\n",
       "      <td>0</td>\n",
       "      <td>242831.107982</td>\n",
       "      <td>на покупку своего автомобиля</td>\n",
       "    </tr>\n",
       "  </tbody>\n",
       "</table>\n",
       "</div>"
      ],
      "text/plain": [
       "    children  days_employed  dob_years            education  education_id  \\\n",
       "0          1   -8437.673028         42               высшее             0   \n",
       "1          1   -4024.803754         36              среднее             1   \n",
       "2          0   -5623.422610         33              Среднее             1   \n",
       "3          3   -4124.747207         32              среднее             1   \n",
       "4          0  340266.072047         53              среднее             1   \n",
       "5          0    -926.185831         27               высшее             0   \n",
       "6          0   -2879.202052         43               высшее             0   \n",
       "7          0    -152.779569         50              СРЕДНЕЕ             1   \n",
       "8          2   -6929.865299         35               ВЫСШЕЕ             0   \n",
       "9          0   -2188.756445         41              среднее             1   \n",
       "10         2   -4171.483647         36               высшее             0   \n",
       "11         0    -792.701887         40              среднее             1   \n",
       "12         0            NaN         65              среднее             1   \n",
       "13         0   -1846.641941         54  неоконченное высшее             2   \n",
       "14         0   -1844.956182         56               высшее             0   \n",
       "15         1    -972.364419         26              среднее             1   \n",
       "16         0   -1719.934226         35              среднее             1   \n",
       "17         0   -2369.999720         33               высшее             0   \n",
       "18         0  400281.136913         53              среднее             1   \n",
       "19         0  -10038.818549         48              СРЕДНЕЕ             1   \n",
       "\n",
       "       family_status  family_status_id gender income_type  debt  \\\n",
       "0    женат / замужем                 0      F   сотрудник     0   \n",
       "1    женат / замужем                 0      F   сотрудник     0   \n",
       "2    женат / замужем                 0      M   сотрудник     0   \n",
       "3    женат / замужем                 0      M   сотрудник     0   \n",
       "4   гражданский брак                 1      F   пенсионер     0   \n",
       "5   гражданский брак                 1      M   компаньон     0   \n",
       "6    женат / замужем                 0      F   компаньон     0   \n",
       "7    женат / замужем                 0      M   сотрудник     0   \n",
       "8   гражданский брак                 1      F   сотрудник     0   \n",
       "9    женат / замужем                 0      M   сотрудник     0   \n",
       "10   женат / замужем                 0      M   компаньон     0   \n",
       "11   женат / замужем                 0      F   сотрудник     0   \n",
       "12  гражданский брак                 1      M   пенсионер     0   \n",
       "13   женат / замужем                 0      F   сотрудник     0   \n",
       "14  гражданский брак                 1      F   компаньон     1   \n",
       "15   женат / замужем                 0      F   сотрудник     0   \n",
       "16   женат / замужем                 0      F   сотрудник     0   \n",
       "17  гражданский брак                 1      M   сотрудник     0   \n",
       "18    вдовец / вдова                 2      F   пенсионер     0   \n",
       "19         в разводе                 3      F   сотрудник     0   \n",
       "\n",
       "     total_income                                 purpose  \n",
       "0   253875.639453                           покупка жилья  \n",
       "1   112080.014102                 приобретение автомобиля  \n",
       "2   145885.952297                           покупка жилья  \n",
       "3   267628.550329              дополнительное образование  \n",
       "4   158616.077870                         сыграть свадьбу  \n",
       "5   255763.565419                           покупка жилья  \n",
       "6   240525.971920                       операции с жильем  \n",
       "7   135823.934197                             образование  \n",
       "8    95856.832424                   на проведение свадьбы  \n",
       "9   144425.938277                 покупка жилья для семьи  \n",
       "10  113943.491460                    покупка недвижимости  \n",
       "11   77069.234271       покупка коммерческой недвижимости  \n",
       "12            NaN                         сыграть свадьбу  \n",
       "13  130458.228857                 приобретение автомобиля  \n",
       "14  165127.911772              покупка жилой недвижимости  \n",
       "15  116820.904450  строительство собственной недвижимости  \n",
       "16  289202.704229                            недвижимость  \n",
       "17   90410.586745              строительство недвижимости  \n",
       "18   56823.777243      на покупку подержанного автомобиля  \n",
       "19  242831.107982            на покупку своего автомобиля  "
      ]
     },
     "execution_count": 3,
     "metadata": {},
     "output_type": "execute_result"
    }
   ],
   "source": [
    "data.head(20)# ваш код здесь"
   ]
  },
  {
   "cell_type": "code",
   "execution_count": 4,
   "id": "ea383631",
   "metadata": {},
   "outputs": [
    {
     "name": "stdout",
     "output_type": "stream",
     "text": [
      "<class 'pandas.core.frame.DataFrame'>\n",
      "RangeIndex: 21525 entries, 0 to 21524\n",
      "Data columns (total 12 columns):\n",
      " #   Column            Non-Null Count  Dtype  \n",
      "---  ------            --------------  -----  \n",
      " 0   children          21525 non-null  int64  \n",
      " 1   days_employed     19351 non-null  float64\n",
      " 2   dob_years         21525 non-null  int64  \n",
      " 3   education         21525 non-null  object \n",
      " 4   education_id      21525 non-null  int64  \n",
      " 5   family_status     21525 non-null  object \n",
      " 6   family_status_id  21525 non-null  int64  \n",
      " 7   gender            21525 non-null  object \n",
      " 8   income_type       21525 non-null  object \n",
      " 9   debt              21525 non-null  int64  \n",
      " 10  total_income      19351 non-null  float64\n",
      " 11  purpose           21525 non-null  object \n",
      "dtypes: float64(2), int64(5), object(5)\n",
      "memory usage: 2.0+ MB\n"
     ]
    }
   ],
   "source": [
    "data.info()# ваш код здесь"
   ]
  },
  {
   "cell_type": "markdown",
   "id": "51bf6fbe",
   "metadata": {},
   "source": [
    "## Предобработка данных"
   ]
  },
  {
   "cell_type": "markdown",
   "id": "eccf0993",
   "metadata": {},
   "source": [
    "### Удаление пропусков"
   ]
  },
  {
   "cell_type": "markdown",
   "id": "a735c8bf",
   "metadata": {},
   "source": [
    "Выведим количество пропущенных значений для каждого столбца. Используйте комбинацию двух методов."
   ]
  },
  {
   "cell_type": "code",
   "execution_count": 5,
   "id": "6bd2d8c4",
   "metadata": {},
   "outputs": [
    {
     "name": "stdout",
     "output_type": "stream",
     "text": [
      "children               0\n",
      "days_employed       2174\n",
      "dob_years              0\n",
      "education              0\n",
      "education_id           0\n",
      "family_status          0\n",
      "family_status_id       0\n",
      "gender                 0\n",
      "income_type            0\n",
      "debt                   0\n",
      "total_income        2174\n",
      "purpose                0\n",
      "dtype: int64\n"
     ]
    }
   ],
   "source": [
    "print(data.isna().sum()) # ваш код здесь"
   ]
  },
  {
   "cell_type": "markdown",
   "id": "7d79ef3b",
   "metadata": {},
   "source": [
    "В двух столбцах есть пропущенные значения. Столбец с пропущенными значениями — `total_income` — хранит данные о доходах. На сумму дохода сильнее всего влияет тип занятости, поэтому заполнить пропуски в этом столбце нужно медианным значением по каждому типу из столбца `income_type`. Например, у человека с типом занятости `сотрудник` пропуск в столбце `total_income` должен быть заполнен медианным доходом среди всех записей с тем же типом."
   ]
  },
  {
   "cell_type": "code",
   "execution_count": 6,
   "id": "12f4058d",
   "metadata": {},
   "outputs": [],
   "source": [
    "for d in data['income_type'].unique():\n",
    "    # на каждом шаге цикла с помощью атрибута loc выбираем строки,\n",
    "    # в которых в income_type текущий тип занятости (d) и есть пропуски в total_income \n",
    "    data.loc[(data['income_type'] == d) & (data['total_income'].isna()), 'total_income'] = \\\n",
    "    data.loc[(data['income_type'] == d), 'total_income'].median()# ваш код здесь"
   ]
  },
  {
   "cell_type": "markdown",
   "id": "9ad722cb",
   "metadata": {},
   "source": [
    "### Обработка аномальных значений"
   ]
  },
  {
   "cell_type": "markdown",
   "id": "521dc4c6",
   "metadata": {},
   "source": [
    "Обработаем значения в столбце `days_employed`: замените все отрицательные значения положительными с помощью метода abs()"
   ]
  },
  {
   "cell_type": "code",
   "execution_count": 7,
   "id": "ecbe7e3e",
   "metadata": {},
   "outputs": [],
   "source": [
    "data['days_employed'] = data['days_employed'].abs()# ваш код здесь"
   ]
  },
  {
   "cell_type": "markdown",
   "id": "16702f0f",
   "metadata": {},
   "source": [
    "Для каждого типа занятости выведите медианное значение трудового стажа `days_employed` в днях."
   ]
  },
  {
   "cell_type": "code",
   "execution_count": 8,
   "id": "260565cd",
   "metadata": {},
   "outputs": [
    {
     "data": {
      "text/plain": [
       "income_type\n",
       "безработный        366413.652744\n",
       "в декрете            3296.759962\n",
       "госслужащий          2689.368353\n",
       "компаньон            1547.382223\n",
       "пенсионер          365213.306266\n",
       "предприниматель       520.848083\n",
       "сотрудник            1574.202821\n",
       "студент               578.751554\n",
       "Name: days_employed, dtype: float64"
      ]
     },
     "execution_count": 8,
     "metadata": {},
     "output_type": "execute_result"
    }
   ],
   "source": [
    "income_type_day_median = data.groupby('income_type')['days_employed'].median()# ваш код здесь\n",
    "income_type_day_median"
   ]
  },
  {
   "cell_type": "markdown",
   "id": "e0601dc9",
   "metadata": {},
   "source": [
    "Выведите перечень уникальных значений столбца `children`"
   ]
  },
  {
   "cell_type": "code",
   "execution_count": 9,
   "id": "e4f992c7",
   "metadata": {},
   "outputs": [
    {
     "data": {
      "text/plain": [
       "array([ 1,  0,  3,  2, -1,  4, 20,  5], dtype=int64)"
      ]
     },
     "execution_count": 9,
     "metadata": {},
     "output_type": "execute_result"
    }
   ],
   "source": [
    "data['children'].unique()# ваш код здесь"
   ]
  },
  {
   "cell_type": "markdown",
   "id": "1a9b58b0",
   "metadata": {},
   "source": [
    "В столбце `children` есть два аномальных значения. Удалите строки, в которых встречаются такие аномальные значения из датафрейма `data`"
   ]
  },
  {
   "cell_type": "code",
   "execution_count": 10,
   "id": "4c249f3f",
   "metadata": {},
   "outputs": [],
   "source": [
    "data = data.loc[(data['children'] != -1) & (data['children'] != 20)]# ваш код здесь"
   ]
  },
  {
   "cell_type": "markdown",
   "id": "a548e37e",
   "metadata": {},
   "source": [
    "### Удаление пропусков"
   ]
  },
  {
   "cell_type": "markdown",
   "id": "af0e4bc0",
   "metadata": {},
   "source": [
    "Заполним пропуски в столбце `days_employed` медианными значениями по каждому типу занятости `income_type`"
   ]
  },
  {
   "cell_type": "code",
   "execution_count": 11,
   "id": "ed0801ad",
   "metadata": {},
   "outputs": [],
   "source": [
    "for d in data['income_type'].unique():\n",
    "    # на каждом шаге цикла с помощью атрибута loc выбираем строки,\n",
    "    # в которых в income_type текущий тип занятости (d) и есть пропуски в total_income \n",
    "    data.loc[(data['income_type'] == d) & (data['days_employed'].isna()), 'days_employed'] = \\\n",
    "    data.loc[(data['income_type'] == d), 'days_employed'].median()# ваш код здесь# ваш код здесь"
   ]
  },
  {
   "cell_type": "markdown",
   "id": "70c35120",
   "metadata": {},
   "source": [
    "Убедимся, что все пропуски заполнены. Проверим себя и ещё раз выведите количество пропущенных значений для каждого столбца с помощью двух методов."
   ]
  },
  {
   "cell_type": "code",
   "execution_count": 12,
   "id": "b0d80b43",
   "metadata": {},
   "outputs": [
    {
     "name": "stdout",
     "output_type": "stream",
     "text": [
      "children            0\n",
      "days_employed       0\n",
      "dob_years           0\n",
      "education           0\n",
      "education_id        0\n",
      "family_status       0\n",
      "family_status_id    0\n",
      "gender              0\n",
      "income_type         0\n",
      "debt                0\n",
      "total_income        0\n",
      "purpose             0\n",
      "dtype: int64\n"
     ]
    }
   ],
   "source": [
    "print(data.isna().sum())# ваш код здесь"
   ]
  },
  {
   "cell_type": "markdown",
   "id": "edde433c",
   "metadata": {},
   "source": [
    "### Изменение типов данных"
   ]
  },
  {
   "cell_type": "markdown",
   "id": "b4326759",
   "metadata": {},
   "source": [
    "Заменим вещественный тип данных в столбце `total_income` на целочисленный"
   ]
  },
  {
   "cell_type": "code",
   "execution_count": 13,
   "id": "c8ddac1a",
   "metadata": {},
   "outputs": [],
   "source": [
    "data['total_income'] = data['total_income'].astype('int')# ваш код здесь"
   ]
  },
  {
   "cell_type": "markdown",
   "id": "7fca476f",
   "metadata": {},
   "source": [
    "### Обработка дубликатов"
   ]
  },
  {
   "cell_type": "markdown",
   "id": "47d8b1ca",
   "metadata": {},
   "source": [
    "Обработаем неявные дубликаты в столбце `education`. В этом столбце есть одни и те же значения, но записанные по-разному: с использованием заглавных и строчных букв. Приведите их к нижнему регистру."
   ]
  },
  {
   "cell_type": "code",
   "execution_count": 14,
   "id": "bff465ff",
   "metadata": {},
   "outputs": [],
   "source": [
    "data['education'] = data['education'].str.lower()# ваш код здесь"
   ]
  },
  {
   "cell_type": "markdown",
   "id": "ce80075e",
   "metadata": {},
   "source": [
    "Проверим дубликаты."
   ]
  },
  {
   "cell_type": "code",
   "execution_count": 15,
   "id": "4c42dcfb",
   "metadata": {},
   "outputs": [
    {
     "data": {
      "text/plain": [
       "71"
      ]
     },
     "execution_count": 15,
     "metadata": {},
     "output_type": "execute_result"
    }
   ],
   "source": [
    "data.duplicated().sum()# посчитайте дубликаты"
   ]
  },
  {
   "cell_type": "markdown",
   "id": "1844787d",
   "metadata": {},
   "source": [
    "Удалим дубликаты."
   ]
  },
  {
   "cell_type": "code",
   "execution_count": 16,
   "id": "17ad6f0b",
   "metadata": {},
   "outputs": [],
   "source": [
    "data = data.drop_duplicates() # удалите дубликаты"
   ]
  },
  {
   "cell_type": "markdown",
   "id": "ce9e3678",
   "metadata": {},
   "source": [
    "### Категоризация данных"
   ]
  },
  {
   "cell_type": "markdown",
   "id": "8b5182ef",
   "metadata": {},
   "source": [
    "Категоризируем клиентов по уровню дохода."
   ]
  },
  {
   "cell_type": "code",
   "execution_count": 17,
   "id": "42633deb",
   "metadata": {},
   "outputs": [],
   "source": [
    "def categorize_income(total_income):# создайте функцию categorize_income()\n",
    "    if total_income <= 30000:\n",
    "        return 'E'\n",
    "    if total_income <= 50000:\n",
    "        return 'D'\n",
    "    if total_income <= 200000:\n",
    "         return 'C'\n",
    "    if total_income <= 1000000:\n",
    "         return 'B'\n",
    "    return 'A'    "
   ]
  },
  {
   "cell_type": "code",
   "execution_count": 18,
   "id": "fca78a06",
   "metadata": {},
   "outputs": [],
   "source": [
    "data['total_income_category'] = data['total_income'].apply(categorize_income)# примените функцию методом apply()"
   ]
  },
  {
   "cell_type": "markdown",
   "id": "2afc83ea",
   "metadata": {},
   "source": [
    "Выведите на экран перечень уникальных целей взятия кредита из столбца `purpose`"
   ]
  },
  {
   "cell_type": "code",
   "execution_count": 19,
   "id": "a766684b",
   "metadata": {},
   "outputs": [
    {
     "name": "stdout",
     "output_type": "stream",
     "text": [
      "['покупка жилья' 'приобретение автомобиля' 'дополнительное образование'\n",
      " 'сыграть свадьбу' 'операции с жильем' 'образование'\n",
      " 'на проведение свадьбы' 'покупка жилья для семьи' 'покупка недвижимости'\n",
      " 'покупка коммерческой недвижимости' 'покупка жилой недвижимости'\n",
      " 'строительство собственной недвижимости' 'недвижимость'\n",
      " 'строительство недвижимости' 'на покупку подержанного автомобиля'\n",
      " 'на покупку своего автомобиля' 'операции с коммерческой недвижимостью'\n",
      " 'строительство жилой недвижимости' 'жилье'\n",
      " 'операции со своей недвижимостью' 'автомобили' 'заняться образованием'\n",
      " 'сделка с подержанным автомобилем' 'получение образования' 'автомобиль'\n",
      " 'свадьба' 'получение дополнительного образования' 'покупка своего жилья'\n",
      " 'операции с недвижимостью' 'получение высшего образования'\n",
      " 'свой автомобиль' 'сделка с автомобилем' 'профильное образование'\n",
      " 'высшее образование' 'покупка жилья для сдачи' 'на покупку автомобиля'\n",
      " 'ремонт жилью' 'заняться высшим образованием']\n"
     ]
    }
   ],
   "source": [
    "print(data['purpose'].unique())# ваш код здесь"
   ]
  },
  {
   "cell_type": "markdown",
   "id": "b08d2297",
   "metadata": {},
   "source": [
    "Категоризируем клиентов по цели кредита."
   ]
  },
  {
   "cell_type": "code",
   "execution_count": 20,
   "id": "16d19f83",
   "metadata": {},
   "outputs": [],
   "source": [
    "def categorize_purpose(purpose):# создайте функцию categorize_purpose()\n",
    "    if 'авто' in purpose:\n",
    "        return 'операции с автомобилем'\n",
    "    elif 'жил' in purpose or 'недвиж' in purpose:\n",
    "        return 'операции с недвижимостью'\n",
    "    elif 'свад' in purpose:\n",
    "        return 'проведение свадьбы'\n",
    "    elif 'образ' in purpose:\n",
    "        return 'получение образования'"
   ]
  },
  {
   "cell_type": "code",
   "execution_count": 21,
   "id": "3c5256fa",
   "metadata": {},
   "outputs": [],
   "source": [
    "data['purpose_category'] = data['purpose'].apply(categorize_purpose)# примените функцию методом apply()"
   ]
  },
  {
   "cell_type": "markdown",
   "id": "713137bc",
   "metadata": {},
   "source": [
    "## Исследуем данные и ответим на вопросы."
   ]
  },
  {
   "cell_type": "markdown",
   "id": "64b4f4ec",
   "metadata": {},
   "source": [
    "### Есть ли зависимость между количеством детей и возвратом кредита в срок?"
   ]
  },
  {
   "cell_type": "code",
   "execution_count": 22,
   "id": "813da1e7",
   "metadata": {},
   "outputs": [
    {
     "data": {
      "text/html": [
       "<style  type=\"text/css\" >\n",
       "</style><table id=\"T_4a000_\" ><thead>    <tr>        <th class=\"blank level0\" ></th>        <th class=\"col_heading level0 col0\" >count</th>        <th class=\"col_heading level0 col1\" >sum</th>        <th class=\"col_heading level0 col2\" >mean</th>    </tr>    <tr>        <th class=\"blank level1\" ></th>        <th class=\"col_heading level1 col0\" >debt</th>        <th class=\"col_heading level1 col1\" >debt</th>        <th class=\"col_heading level1 col2\" >debt</th>    </tr>    <tr>        <th class=\"index_name level0\" >children</th>        <th class=\"blank\" ></th>        <th class=\"blank\" ></th>        <th class=\"blank\" ></th>    </tr></thead><tbody>\n",
       "                <tr>\n",
       "                        <th id=\"T_4a000_level0_row0\" class=\"row_heading level0 row0\" >4</th>\n",
       "                        <td id=\"T_4a000_row0_col0\" class=\"data row0 col0\" >41</td>\n",
       "                        <td id=\"T_4a000_row0_col1\" class=\"data row0 col1\" >4</td>\n",
       "                        <td id=\"T_4a000_row0_col2\" class=\"data row0 col2\" >9.76%</td>\n",
       "            </tr>\n",
       "            <tr>\n",
       "                        <th id=\"T_4a000_level0_row1\" class=\"row_heading level0 row1\" >2</th>\n",
       "                        <td id=\"T_4a000_row1_col0\" class=\"data row1 col0\" >2052</td>\n",
       "                        <td id=\"T_4a000_row1_col1\" class=\"data row1 col1\" >194</td>\n",
       "                        <td id=\"T_4a000_row1_col2\" class=\"data row1 col2\" >9.45%</td>\n",
       "            </tr>\n",
       "            <tr>\n",
       "                        <th id=\"T_4a000_level0_row2\" class=\"row_heading level0 row2\" >1</th>\n",
       "                        <td id=\"T_4a000_row2_col0\" class=\"data row2 col0\" >4808</td>\n",
       "                        <td id=\"T_4a000_row2_col1\" class=\"data row2 col1\" >444</td>\n",
       "                        <td id=\"T_4a000_row2_col2\" class=\"data row2 col2\" >9.23%</td>\n",
       "            </tr>\n",
       "            <tr>\n",
       "                        <th id=\"T_4a000_level0_row3\" class=\"row_heading level0 row3\" >3</th>\n",
       "                        <td id=\"T_4a000_row3_col0\" class=\"data row3 col0\" >330</td>\n",
       "                        <td id=\"T_4a000_row3_col1\" class=\"data row3 col1\" >27</td>\n",
       "                        <td id=\"T_4a000_row3_col2\" class=\"data row3 col2\" >8.18%</td>\n",
       "            </tr>\n",
       "            <tr>\n",
       "                        <th id=\"T_4a000_level0_row4\" class=\"row_heading level0 row4\" >0</th>\n",
       "                        <td id=\"T_4a000_row4_col0\" class=\"data row4 col0\" >14091</td>\n",
       "                        <td id=\"T_4a000_row4_col1\" class=\"data row4 col1\" >1063</td>\n",
       "                        <td id=\"T_4a000_row4_col2\" class=\"data row4 col2\" >7.54%</td>\n",
       "            </tr>\n",
       "            <tr>\n",
       "                        <th id=\"T_4a000_level0_row5\" class=\"row_heading level0 row5\" >5</th>\n",
       "                        <td id=\"T_4a000_row5_col0\" class=\"data row5 col0\" >9</td>\n",
       "                        <td id=\"T_4a000_row5_col1\" class=\"data row5 col1\" >0</td>\n",
       "                        <td id=\"T_4a000_row5_col2\" class=\"data row5 col2\" >0.00%</td>\n",
       "            </tr>\n",
       "    </tbody></table>"
      ],
      "text/plain": [
       "<pandas.io.formats.style.Styler at 0x2830a9ce970>"
      ]
     },
     "execution_count": 22,
     "metadata": {},
     "output_type": "execute_result"
    }
   ],
   "source": [
    "data.pivot_table(index = 'children', values = 'debt', aggfunc = ['count', 'sum', 'mean'])\\\n",
    "    .sort_values(by = ('mean', 'debt'), ascending = False)\\\n",
    "    .style.format({('mean', 'debt') : '{:.2%}'})"
   ]
  },
  {
   "cell_type": "markdown",
   "id": "8440fcde",
   "metadata": {},
   "source": [
    "**Вывод:** Из полученных расчетов видно, что заемщиков, у которых имеется 5 детей очень малое количество и делать выводы о возможности ими возвращать кредиты не стоит. Основываясь на оставшихся данных можно сделать вывод, что вероятность возврата кредита заемщиками,которые не имеют детей самая низкая. Предоставление кредитов данной категории заемщиков наименее рискована. По таблице можно заметить, что с увеличением количества детей, вероятность возврата кредита падает. Из этих данных выбиваются заемщики с 3 детьми. Но возможно из-за короткого времени мониторинга процесса кредитования и малого количества предоставленных кредитов заемщиков с 3 детьми в период проводимого мониторинга их процент невыплат ниже, чем у других категорий заемщиковю Если продолжать мониторинг заемщиков с 3 детьми, скорее всего процент невыплаченных кредитов в данной группе увеличится."
   ]
  },
  {
   "cell_type": "markdown",
   "id": "7ca3a329",
   "metadata": {},
   "source": [
    "### Есть ли зависимость между семейным положением и возвратом кредита в срок?"
   ]
  },
  {
   "cell_type": "code",
   "execution_count": 23,
   "id": "3b87db87",
   "metadata": {},
   "outputs": [
    {
     "data": {
      "text/html": [
       "<style  type=\"text/css\" >\n",
       "</style><table id=\"T_31662_\" ><thead>    <tr>        <th class=\"blank level0\" ></th>        <th class=\"col_heading level0 col0\" >count</th>        <th class=\"col_heading level0 col1\" >sum</th>        <th class=\"col_heading level0 col2\" >mean</th>    </tr>    <tr>        <th class=\"blank level1\" ></th>        <th class=\"col_heading level1 col0\" >debt</th>        <th class=\"col_heading level1 col1\" >debt</th>        <th class=\"col_heading level1 col2\" >debt</th>    </tr>    <tr>        <th class=\"index_name level0\" >family_status</th>        <th class=\"blank\" ></th>        <th class=\"blank\" ></th>        <th class=\"blank\" ></th>    </tr></thead><tbody>\n",
       "                <tr>\n",
       "                        <th id=\"T_31662_level0_row0\" class=\"row_heading level0 row0\" >Не женат / не замужем</th>\n",
       "                        <td id=\"T_31662_row0_col0\" class=\"data row0 col0\" >2796</td>\n",
       "                        <td id=\"T_31662_row0_col1\" class=\"data row0 col1\" >273</td>\n",
       "                        <td id=\"T_31662_row0_col2\" class=\"data row0 col2\" >9.76%</td>\n",
       "            </tr>\n",
       "            <tr>\n",
       "                        <th id=\"T_31662_level0_row1\" class=\"row_heading level0 row1\" >гражданский брак</th>\n",
       "                        <td id=\"T_31662_row1_col0\" class=\"data row1 col0\" >4134</td>\n",
       "                        <td id=\"T_31662_row1_col1\" class=\"data row1 col1\" >385</td>\n",
       "                        <td id=\"T_31662_row1_col2\" class=\"data row1 col2\" >9.31%</td>\n",
       "            </tr>\n",
       "            <tr>\n",
       "                        <th id=\"T_31662_level0_row2\" class=\"row_heading level0 row2\" >женат / замужем</th>\n",
       "                        <td id=\"T_31662_row2_col0\" class=\"data row2 col0\" >12261</td>\n",
       "                        <td id=\"T_31662_row2_col1\" class=\"data row2 col1\" >927</td>\n",
       "                        <td id=\"T_31662_row2_col2\" class=\"data row2 col2\" >7.56%</td>\n",
       "            </tr>\n",
       "            <tr>\n",
       "                        <th id=\"T_31662_level0_row3\" class=\"row_heading level0 row3\" >в разводе</th>\n",
       "                        <td id=\"T_31662_row3_col0\" class=\"data row3 col0\" >1189</td>\n",
       "                        <td id=\"T_31662_row3_col1\" class=\"data row3 col1\" >84</td>\n",
       "                        <td id=\"T_31662_row3_col2\" class=\"data row3 col2\" >7.06%</td>\n",
       "            </tr>\n",
       "            <tr>\n",
       "                        <th id=\"T_31662_level0_row4\" class=\"row_heading level0 row4\" >вдовец / вдова</th>\n",
       "                        <td id=\"T_31662_row4_col0\" class=\"data row4 col0\" >951</td>\n",
       "                        <td id=\"T_31662_row4_col1\" class=\"data row4 col1\" >63</td>\n",
       "                        <td id=\"T_31662_row4_col2\" class=\"data row4 col2\" >6.62%</td>\n",
       "            </tr>\n",
       "    </tbody></table>"
      ],
      "text/plain": [
       "<pandas.io.formats.style.Styler at 0x2830a9ce4c0>"
      ]
     },
     "execution_count": 23,
     "metadata": {},
     "output_type": "execute_result"
    }
   ],
   "source": [
    "data.pivot_table(index = 'family_status', values = 'debt', aggfunc = ['count', 'sum', 'mean'])\\\n",
    "    .sort_values(by = ('mean', 'debt'), ascending = False)\\\n",
    "    .style.format({('mean', 'debt') : '{:.2%}'})"
   ]
  },
  {
   "cell_type": "markdown",
   "id": "ad9294b9",
   "metadata": {},
   "source": [
    "**Вывод:** Исходя из расчетов, существет зависимость семейного положения и возврата кредита. Заемщики не имеющие никакого официального семейного положения имеют наименьший показатель по выплатам кредита и предоставление кредитов данной категории заемщиков имеет большие риски. В свою очередь заемщики, которые пребывали в браке какое-то время показали себя как наиболее добросовестные заемщики."
   ]
  },
  {
   "cell_type": "markdown",
   "id": "c26f4201",
   "metadata": {},
   "source": [
    "### Есть ли зависимость между уровнем дохода и возвратом кредита в срок?"
   ]
  },
  {
   "cell_type": "code",
   "execution_count": 24,
   "id": "7a54a213",
   "metadata": {},
   "outputs": [
    {
     "data": {
      "text/html": [
       "<style  type=\"text/css\" >\n",
       "</style><table id=\"T_e667b_\" ><thead>    <tr>        <th class=\"blank level0\" ></th>        <th class=\"col_heading level0 col0\" >count</th>        <th class=\"col_heading level0 col1\" >sum</th>        <th class=\"col_heading level0 col2\" >mean</th>    </tr>    <tr>        <th class=\"blank level1\" ></th>        <th class=\"col_heading level1 col0\" >debt</th>        <th class=\"col_heading level1 col1\" >debt</th>        <th class=\"col_heading level1 col2\" >debt</th>    </tr>    <tr>        <th class=\"index_name level0\" >total_income_category</th>        <th class=\"blank\" ></th>        <th class=\"blank\" ></th>        <th class=\"blank\" ></th>    </tr></thead><tbody>\n",
       "                <tr>\n",
       "                        <th id=\"T_e667b_level0_row0\" class=\"row_heading level0 row0\" >E</th>\n",
       "                        <td id=\"T_e667b_row0_col0\" class=\"data row0 col0\" >22</td>\n",
       "                        <td id=\"T_e667b_row0_col1\" class=\"data row0 col1\" >2</td>\n",
       "                        <td id=\"T_e667b_row0_col2\" class=\"data row0 col2\" >9.09%</td>\n",
       "            </tr>\n",
       "            <tr>\n",
       "                        <th id=\"T_e667b_level0_row1\" class=\"row_heading level0 row1\" >C</th>\n",
       "                        <td id=\"T_e667b_row1_col0\" class=\"data row1 col0\" >15921</td>\n",
       "                        <td id=\"T_e667b_row1_col1\" class=\"data row1 col1\" >1353</td>\n",
       "                        <td id=\"T_e667b_row1_col2\" class=\"data row1 col2\" >8.50%</td>\n",
       "            </tr>\n",
       "            <tr>\n",
       "                        <th id=\"T_e667b_level0_row2\" class=\"row_heading level0 row2\" >A</th>\n",
       "                        <td id=\"T_e667b_row2_col0\" class=\"data row2 col0\" >25</td>\n",
       "                        <td id=\"T_e667b_row2_col1\" class=\"data row2 col1\" >2</td>\n",
       "                        <td id=\"T_e667b_row2_col2\" class=\"data row2 col2\" >8.00%</td>\n",
       "            </tr>\n",
       "            <tr>\n",
       "                        <th id=\"T_e667b_level0_row3\" class=\"row_heading level0 row3\" >B</th>\n",
       "                        <td id=\"T_e667b_row3_col0\" class=\"data row3 col0\" >5014</td>\n",
       "                        <td id=\"T_e667b_row3_col1\" class=\"data row3 col1\" >354</td>\n",
       "                        <td id=\"T_e667b_row3_col2\" class=\"data row3 col2\" >7.06%</td>\n",
       "            </tr>\n",
       "            <tr>\n",
       "                        <th id=\"T_e667b_level0_row4\" class=\"row_heading level0 row4\" >D</th>\n",
       "                        <td id=\"T_e667b_row4_col0\" class=\"data row4 col0\" >349</td>\n",
       "                        <td id=\"T_e667b_row4_col1\" class=\"data row4 col1\" >21</td>\n",
       "                        <td id=\"T_e667b_row4_col2\" class=\"data row4 col2\" >6.02%</td>\n",
       "            </tr>\n",
       "    </tbody></table>"
      ],
      "text/plain": [
       "<pandas.io.formats.style.Styler at 0x2830ac3a610>"
      ]
     },
     "execution_count": 24,
     "metadata": {},
     "output_type": "execute_result"
    }
   ],
   "source": [
    "data.pivot_table(index = 'total_income_category', values = 'debt', aggfunc = ['count', 'sum', 'mean'])\\\n",
    "    .sort_values(by = ('mean', 'debt'), ascending = False)\\\n",
    "    .style.format({('mean', 'debt') : '{:.2%}'})"
   ]
  },
  {
   "cell_type": "markdown",
   "id": "73921b46",
   "metadata": {},
   "source": [
    "**Вывод:** Исходя из расчетов, основные заемщики представляют собой группы с доходом B и C. Остальные составляют менее 2%. Если взять данные основных групп за основу для анализ, то явно прослеживается зависимость уровня дохода и возврата средств. Категория B с доходом 200001 - 1000000 имеет 7.06% неоплаченных кредитов, в то время как категория С с доходом 50001 - 200000 имеет 8.50% неоплаченных кредитов."
   ]
  },
  {
   "cell_type": "markdown",
   "id": "3540239c",
   "metadata": {},
   "source": [
    "### Как разные цели кредита влияют на его возврат в срок?"
   ]
  },
  {
   "cell_type": "code",
   "execution_count": 25,
   "id": "00d28434",
   "metadata": {},
   "outputs": [
    {
     "data": {
      "text/html": [
       "<style  type=\"text/css\" >\n",
       "</style><table id=\"T_c032c_\" ><thead>    <tr>        <th class=\"blank level0\" ></th>        <th class=\"col_heading level0 col0\" >count</th>        <th class=\"col_heading level0 col1\" >sum</th>        <th class=\"col_heading level0 col2\" >mean</th>    </tr>    <tr>        <th class=\"blank level1\" ></th>        <th class=\"col_heading level1 col0\" >debt</th>        <th class=\"col_heading level1 col1\" >debt</th>        <th class=\"col_heading level1 col2\" >debt</th>    </tr>    <tr>        <th class=\"index_name level0\" >purpose_category</th>        <th class=\"blank\" ></th>        <th class=\"blank\" ></th>        <th class=\"blank\" ></th>    </tr></thead><tbody>\n",
       "                <tr>\n",
       "                        <th id=\"T_c032c_level0_row0\" class=\"row_heading level0 row0\" >операции с автомобилем</th>\n",
       "                        <td id=\"T_c032c_row0_col0\" class=\"data row0 col0\" >4279</td>\n",
       "                        <td id=\"T_c032c_row0_col1\" class=\"data row0 col1\" >400</td>\n",
       "                        <td id=\"T_c032c_row0_col2\" class=\"data row0 col2\" >9.35%</td>\n",
       "            </tr>\n",
       "            <tr>\n",
       "                        <th id=\"T_c032c_level0_row1\" class=\"row_heading level0 row1\" >получение образования</th>\n",
       "                        <td id=\"T_c032c_row1_col0\" class=\"data row1 col0\" >3988</td>\n",
       "                        <td id=\"T_c032c_row1_col1\" class=\"data row1 col1\" >369</td>\n",
       "                        <td id=\"T_c032c_row1_col2\" class=\"data row1 col2\" >9.25%</td>\n",
       "            </tr>\n",
       "            <tr>\n",
       "                        <th id=\"T_c032c_level0_row2\" class=\"row_heading level0 row2\" >проведение свадьбы</th>\n",
       "                        <td id=\"T_c032c_row2_col0\" class=\"data row2 col0\" >2313</td>\n",
       "                        <td id=\"T_c032c_row2_col1\" class=\"data row2 col1\" >183</td>\n",
       "                        <td id=\"T_c032c_row2_col2\" class=\"data row2 col2\" >7.91%</td>\n",
       "            </tr>\n",
       "            <tr>\n",
       "                        <th id=\"T_c032c_level0_row3\" class=\"row_heading level0 row3\" >операции с недвижимостью</th>\n",
       "                        <td id=\"T_c032c_row3_col0\" class=\"data row3 col0\" >10751</td>\n",
       "                        <td id=\"T_c032c_row3_col1\" class=\"data row3 col1\" >780</td>\n",
       "                        <td id=\"T_c032c_row3_col2\" class=\"data row3 col2\" >7.26%</td>\n",
       "            </tr>\n",
       "    </tbody></table>"
      ],
      "text/plain": [
       "<pandas.io.formats.style.Styler at 0x2830bb7c400>"
      ]
     },
     "execution_count": 25,
     "metadata": {},
     "output_type": "execute_result"
    }
   ],
   "source": [
    "data.pivot_table(index = 'purpose_category', values = 'debt', aggfunc = ['count', 'sum', 'mean'])\\\n",
    "    .sort_values(by = ('mean', 'debt'), ascending = False)\\\n",
    "    .style.format({('mean', 'debt') : '{:.2%}'})"
   ]
  },
  {
   "cell_type": "markdown",
   "id": "9c20b7b4",
   "metadata": {},
   "source": [
    "**Вывод:** В полученых данных каждая из целей кредита существенна. Информация в таблице полностью отображает влияние цели кредита на его возврат."
   ]
  },
  {
   "cell_type": "markdown",
   "id": "ac4ea27f",
   "metadata": {},
   "source": [
    "### Приведите возможные причины появления пропусков в исходных данных."
   ]
  },
  {
   "cell_type": "markdown",
   "id": "ab0d74f1",
   "metadata": {},
   "source": [
    "*Ответ:* В исходных данных имелись пропуски в столбцах 'days_employed', что соответствует общему трудовому стажу и в столбце 'total_income', что соответствует ежемесячному доходу. Пропуски в общем трудовом стаже могли быть вызваны как отсутствием документов, подтверждающими его так и отсутствием трудового стажа как такового. Поэтому данные могли не вноситься в данный столбец. Отсутствие данных о ежемесячном доходе могли были так же быть вызваны отсутствием документов подтверждающими доход или отсутвием его вообще на момент получния кредита."
   ]
  },
  {
   "cell_type": "markdown",
   "id": "6d91d33a",
   "metadata": {},
   "source": [
    "### Объясните, почему заполнить пропуски медианным значением — лучшее решение для количественных переменных."
   ]
  },
  {
   "cell_type": "markdown",
   "id": "c8a153cb",
   "metadata": {},
   "source": [
    "Ответ: Заполнить пропуски медианным значением — лучшее решение для количественных переменных, так как когда есть оторванные от основной массы лидеры по показателям к какой-либо группе, их результаты сильно смещают значение среднего вверх. Вот почему оценивать предпочтения широкого круга заемщиков лучше медианой."
   ]
  },
  {
   "cell_type": "markdown",
   "id": "42175b73",
   "metadata": {},
   "source": [
    "## Общий вывод"
   ]
  },
  {
   "cell_type": "markdown",
   "id": "89013410",
   "metadata": {},
   "source": [
    "Напишите ваш общий вывод. Исходя из исследования надежности заемщиков можно сделать вывод, что на выплату кредита влияют множество факторов. В худшую сторону на возврат кредита влияет количество детей, а имнно, чем больше у заемщика детей - тем менее он надежен. Семейное положение так же является показателем надежности. Чем дольше человек находился в семейном статусе тем больше вероятность погашения им кредита. Уровень дохода так же сказывается на надежности заемщика, а именно, чем больше доход заемщика, тем более он надежен. Цель получения кредита так же влият на надежность кредита. Лучший показатель в надежности показали кредиты выданные на операции с недвижимостью, за ними кредиты на проведение свадьбы, далее на получение образования и замыкают кредиты на операции с недвижимостью."
   ]
  }
 ],
 "metadata": {
  "kernelspec": {
   "display_name": "Python 3 (ipykernel)",
   "language": "python",
   "name": "python3"
  },
  "language_info": {
   "codemirror_mode": {
    "name": "ipython",
    "version": 3
   },
   "file_extension": ".py",
   "mimetype": "text/x-python",
   "name": "python",
   "nbconvert_exporter": "python",
   "pygments_lexer": "ipython3",
   "version": "3.9.16"
  },
  "toc": {
   "base_numbering": 1,
   "nav_menu": {},
   "number_sections": true,
   "sideBar": true,
   "skip_h1_title": true,
   "title_cell": "Table of Contents",
   "title_sidebar": "Contents",
   "toc_cell": false,
   "toc_position": {
    "height": "calc(100% - 180px)",
    "left": "10px",
    "top": "150px",
    "width": "303.542px"
   },
   "toc_section_display": true,
   "toc_window_display": false
  }
 },
 "nbformat": 4,
 "nbformat_minor": 5
}
